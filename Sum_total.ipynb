{
 "cells": [
  {
   "cell_type": "markdown",
   "id": "05802926",
   "metadata": {},
   "source": [
    "# Статистические данные за 2020 и 2023 гг"
   ]
  },
  {
   "cell_type": "markdown",
   "id": "e88c2fa4",
   "metadata": {},
   "source": [
    "## Изучение данных"
   ]
  },
  {
   "cell_type": "code",
   "execution_count": 1,
   "id": "f48787a3",
   "metadata": {},
   "outputs": [],
   "source": [
    "# библиотеки\n",
    "import pandas as pd \n",
    "import matplotlib.pyplot as plt"
   ]
  },
  {
   "cell_type": "code",
   "execution_count": 2,
   "id": "1729d4b4",
   "metadata": {},
   "outputs": [],
   "source": [
    "pd.options.display.float_format = '{:,.2f}'.format #отображение данных на уровне 2-х знаков\n",
    "pd.set_option('display.max_columns', None) #отображение всех столбцов датафрейма"
   ]
  },
  {
   "cell_type": "markdown",
   "id": "5d37d254",
   "metadata": {},
   "source": [
    "**Загружаем файлы (Excel)**"
   ]
  },
  {
   "cell_type": "code",
   "execution_count": null,
   "id": "3f0061ec",
   "metadata": {},
   "outputs": [],
   "source": [
    "data_21 = pd.read_excel('/Users/REKL1/Downloads/TLV/наработка_21_23.xlsx') #загружаем 2021-2023 год"
   ]
  },
  {
   "cell_type": "code",
   "execution_count": null,
   "id": "fcb0bc6e",
   "metadata": {},
   "outputs": [],
   "source": [
    "def data_info(df): # посмотрим основную информацию\n",
    "    df.info()\n",
    "    #display(df.head())\n",
    "    print('Количество признаков:', df.shape[1], ', количество наблюдений:', df.shape[0])\n",
    "    print('Количество дубликатов:', df.duplicated().sum())\n",
    "    print('Количество пропусков:', df.isna().sum())"
   ]
  },
  {
   "cell_type": "code",
   "execution_count": null,
   "id": "3db3a683",
   "metadata": {
    "scrolled": true
   },
   "outputs": [],
   "source": [
    "data_info(data_21)"
   ]
  },
  {
   "cell_type": "code",
   "execution_count": null,
   "id": "c14a1879",
   "metadata": {
    "scrolled": true
   },
   "outputs": [],
   "source": [
    "#data_21 = data_21.drop_duplicates() # удаляем дубликаты\n",
    "#data_22 = data_22.drop_duplicates()"
   ]
  },
  {
   "cell_type": "code",
   "execution_count": null,
   "id": "fe00f395",
   "metadata": {},
   "outputs": [],
   "source": [
    "data_21.columns # перечень названий столбцов таблицы data"
   ]
  },
  {
   "cell_type": "code",
   "execution_count": null,
   "id": "65e49e15",
   "metadata": {},
   "outputs": [],
   "source": [
    "data_21 = data_21.rename(columns = {'Лицевой счёт': 'contract', 'Дата договора': 'date_contract', 'Тариф': 'tariff',\n",
    "       'Сумма списания': 'sum_total', 'Вид платежа(услуга)': 'service'}) \n",
    "# переименование столбцов\n",
    "data_21.columns # проверяем"
   ]
  },
  {
   "cell_type": "code",
   "execution_count": null,
   "id": "56fe6530",
   "metadata": {
    "scrolled": true
   },
   "outputs": [],
   "source": [
    "data_21['month'] = pd.DatetimeIndex(data_21['Последний день месяца списания']).month \n",
    "#добавляем месяц наработки"
   ]
  },
  {
   "cell_type": "code",
   "execution_count": null,
   "id": "0062b8d2",
   "metadata": {},
   "outputs": [],
   "source": [
    "data_21['year'] = pd.DatetimeIndex(data_21['Последний день месяца списания']).year\n",
    "# добавляем год наработки"
   ]
  },
  {
   "cell_type": "code",
   "execution_count": null,
   "id": "f42b2dfd",
   "metadata": {},
   "outputs": [],
   "source": [
    "data_21 = data_21.drop(['Последний день месяца списания', 'Дата списания кастомных тарифов'], axis=1)\n",
    "# удаляем лишние столбцы"
   ]
  },
  {
   "cell_type": "code",
   "execution_count": null,
   "id": "8562e61d",
   "metadata": {},
   "outputs": [],
   "source": [
    "#data_21.head(5)"
   ]
  },
  {
   "cell_type": "code",
   "execution_count": null,
   "id": "4740e731",
   "metadata": {},
   "outputs": [],
   "source": []
  },
  {
   "cell_type": "markdown",
   "id": "0fc27c81",
   "metadata": {},
   "source": [
    "**Загружаем словари:**"
   ]
  },
  {
   "cell_type": "code",
   "execution_count": null,
   "id": "1362b857",
   "metadata": {},
   "outputs": [],
   "source": [
    "directory_rates = pd.read_excel('/Users/REKL1/Downloads/directory.xlsx', sheet_name='Группа тарифов')\n",
    "#загружаем файл-словарь"
   ]
  },
  {
   "cell_type": "code",
   "execution_count": null,
   "id": "0cce63ab",
   "metadata": {},
   "outputs": [],
   "source": [
    "data_info(directory_rates)"
   ]
  },
  {
   "cell_type": "code",
   "execution_count": null,
   "id": "776c54df",
   "metadata": {},
   "outputs": [],
   "source": [
    "directory_servic = pd.read_excel('/Users/REKL1/Downloads/directory.xlsx', sheet_name='Группа услуг')\n",
    "# загружаем второй словарь"
   ]
  },
  {
   "cell_type": "code",
   "execution_count": null,
   "id": "2af9ebd3",
   "metadata": {},
   "outputs": [],
   "source": [
    "data_info(directory_servic)"
   ]
  },
  {
   "cell_type": "code",
   "execution_count": null,
   "id": "708cbd4f",
   "metadata": {},
   "outputs": [],
   "source": [
    "# на основании словарей классифицируем услуги и тарифы по группам\n",
    "data = data_21.merge(directory_rates, on='tariff', how='left') "
   ]
  },
  {
   "cell_type": "code",
   "execution_count": null,
   "id": "9dde7ea0",
   "metadata": {},
   "outputs": [],
   "source": [
    "# на основании словарей классифицируем услуги и тарифы по группам\n",
    "data = data.merge(directory_servic, on='service', how='left') "
   ]
  },
  {
   "cell_type": "code",
   "execution_count": null,
   "id": "60e14d4b",
   "metadata": {},
   "outputs": [],
   "source": [
    "print('Пропуски в данных:', data.isna().sum()) #проверяем на пропуски"
   ]
  },
  {
   "cell_type": "code",
   "execution_count": null,
   "id": "f115ee6d",
   "metadata": {},
   "outputs": [],
   "source": [
    "#display(data.head(5))"
   ]
  },
  {
   "cell_type": "code",
   "execution_count": null,
   "id": "bde5f995",
   "metadata": {},
   "outputs": [],
   "source": [
    "data.info() #проверяем файл на соответствие данных"
   ]
  },
  {
   "cell_type": "markdown",
   "id": "7147a263",
   "metadata": {},
   "source": [
    "Проверяем, что нет пропусков в словарях"
   ]
  },
  {
   "cell_type": "code",
   "execution_count": null,
   "id": "29ff45be",
   "metadata": {},
   "outputs": [],
   "source": [
    "data['tariff_group'].unique()"
   ]
  },
  {
   "cell_type": "code",
   "execution_count": null,
   "id": "664244ba",
   "metadata": {},
   "outputs": [],
   "source": [
    "data['service_group'].unique()"
   ]
  },
  {
   "cell_type": "code",
   "execution_count": null,
   "id": "570678ec",
   "metadata": {},
   "outputs": [],
   "source": [
    "structure_22 = data.pivot_table(index=['tariff_group', 'year'], columns='service_group', values='sum_total', aggfunc='sum')\n"
   ]
  },
  {
   "cell_type": "code",
   "execution_count": null,
   "id": "c284e4c1",
   "metadata": {},
   "outputs": [],
   "source": [
    "del directory_rates, directory_servic #освобождаем память"
   ]
  },
  {
   "cell_type": "markdown",
   "id": "f90bb9bd",
   "metadata": {},
   "source": [
    "**Проверим данные на адекватность:**"
   ]
  },
  {
   "cell_type": "code",
   "execution_count": null,
   "id": "7f9d4df4",
   "metadata": {},
   "outputs": [],
   "source": [
    "data['sum_total'].describe() #изучим суммы"
   ]
  },
  {
   "cell_type": "code",
   "execution_count": null,
   "id": "62bb98a7",
   "metadata": {
    "scrolled": true
   },
   "outputs": [],
   "source": [
    "data[data['sum_total'] <= 0]['cid'].count() #количество сумм равное или меньше 0"
   ]
  },
  {
   "cell_type": "code",
   "execution_count": null,
   "id": "7f667dc3",
   "metadata": {},
   "outputs": [],
   "source": [
    "data_0 = data[data['sum_total'] == 0].reset_index(drop=True) # нулевые значения"
   ]
  },
  {
   "cell_type": "code",
   "execution_count": null,
   "id": "5b79054c",
   "metadata": {
    "scrolled": true
   },
   "outputs": [],
   "source": [
    "data_0.pivot_table(\n",
    "    index='month', columns='year', values='contract', aggfunc='count').plot(\n",
    "    figsize=(17, 4), grid=True, style='--', title='Количество нулевых наработок');"
   ]
  },
  {
   "cell_type": "markdown",
   "id": "fbae1a1c",
   "metadata": {},
   "source": [
    "Перечень абонентов, у которых была нулевая наработка."
   ]
  },
  {
   "cell_type": "code",
   "execution_count": null,
   "id": "3241a34e",
   "metadata": {},
   "outputs": [],
   "source": [
    "data_0['contract'].unique()"
   ]
  },
  {
   "cell_type": "code",
   "execution_count": null,
   "id": "7c54dbe4",
   "metadata": {},
   "outputs": [],
   "source": [
    "data = data[data['sum_total'] > 0].reset_index(drop=True) #удаляем нулевые и отрицательные значения"
   ]
  },
  {
   "cell_type": "markdown",
   "id": "b47fbefe",
   "metadata": {},
   "source": [
    "Проверим распределение данных."
   ]
  },
  {
   "cell_type": "code",
   "execution_count": null,
   "id": "1b54d020",
   "metadata": {
    "scrolled": false
   },
   "outputs": [],
   "source": [
    "data['sum_total'].hist(bins = 50, figsize = (15,4), color='#988ed5'); #распределение данных"
   ]
  },
  {
   "cell_type": "markdown",
   "id": "1a2d2515",
   "metadata": {},
   "source": [
    "## Статистика по наработке"
   ]
  },
  {
   "cell_type": "code",
   "execution_count": null,
   "id": "7485fa0f",
   "metadata": {
    "scrolled": false
   },
   "outputs": [],
   "source": [
    "data.pivot_table(\n",
    "    index='month', columns='year', values='sum_total', aggfunc='sum').plot(\n",
    "    figsize=(17, 4), grid=True, style='--', title='Сумма наработки');"
   ]
  },
  {
   "cell_type": "code",
   "execution_count": null,
   "id": "4b09c3f1",
   "metadata": {},
   "outputs": [],
   "source": []
  },
  {
   "cell_type": "code",
   "execution_count": null,
   "id": "b5d74cf7",
   "metadata": {},
   "outputs": [],
   "source": [
    "video_dom = data.query(\n",
    "    'tariff_group == [\"Камеры\", \"Домофон\"] and service_group == \"Абонентская плата\"').reset_index(drop=True)"
   ]
  },
  {
   "cell_type": "code",
   "execution_count": null,
   "id": "9abc32b9",
   "metadata": {},
   "outputs": [],
   "source": [
    "address = pd.read_excel('/Users/REKL1/Downloads/address.xlsx')\n",
    "#загружаем словарь адресов"
   ]
  },
  {
   "cell_type": "code",
   "execution_count": null,
   "id": "c50ebdb7",
   "metadata": {},
   "outputs": [],
   "source": [
    "# на основании словарей классифицируем услуги и тарифы по группам\n",
    "video_dom = video_dom.merge(address, on='cid', how='left').reset_index(drop=True)"
   ]
  },
  {
   "cell_type": "code",
   "execution_count": null,
   "id": "fd0d6ebc",
   "metadata": {},
   "outputs": [],
   "source": [
    "print('Количество дубликатов:', video_dom.duplicated().sum())"
   ]
  },
  {
   "cell_type": "code",
   "execution_count": null,
   "id": "0b9bdd0e",
   "metadata": {},
   "outputs": [],
   "source": [
    "video_dom = video_dom.drop_duplicates()"
   ]
  },
  {
   "cell_type": "code",
   "execution_count": null,
   "id": "5a9407f8",
   "metadata": {
    "scrolled": true
   },
   "outputs": [],
   "source": [
    "print('Пропуски в данных:', video_dom.isna().sum()) #проверяем на пропуски"
   ]
  },
  {
   "cell_type": "code",
   "execution_count": null,
   "id": "fd730ba0",
   "metadata": {
    "scrolled": true
   },
   "outputs": [],
   "source": [
    "#video_dom"
   ]
  },
  {
   "cell_type": "code",
   "execution_count": null,
   "id": "a92404d6",
   "metadata": {},
   "outputs": [],
   "source": [
    "video_dom = video_dom.fillna('Неизвестно')"
   ]
  },
  {
   "cell_type": "code",
   "execution_count": null,
   "id": "cf97d112",
   "metadata": {},
   "outputs": [],
   "source": [
    "no_name = video_dom.query('address == \"Неизвестно\"')"
   ]
  },
  {
   "cell_type": "code",
   "execution_count": null,
   "id": "c4e6a977",
   "metadata": {
    "scrolled": true
   },
   "outputs": [],
   "source": [
    "no_name"
   ]
  },
  {
   "cell_type": "markdown",
   "id": "7a5e0173",
   "metadata": {},
   "source": [
    "Если нужно выгрузить"
   ]
  },
  {
   "cell_type": "code",
   "execution_count": null,
   "id": "bdc45da0",
   "metadata": {},
   "outputs": [],
   "source": [
    "writer = pd.ExcelWriter('no_name.xlsx', engine='xlsxwriter')\n",
    "no_name.to_excel(writer, 'Sheet1') # Записать ваш DataFrame в файл  \n",
    "writer.save() # Сохраним результат "
   ]
  },
  {
   "cell_type": "code",
   "execution_count": null,
   "id": "2c35c4ef",
   "metadata": {},
   "outputs": [],
   "source": [
    "data_video_dom = video_dom.pivot_table(index=['tariff_group', 'address'], columns=['year', 'month'],\n",
    "                                       values='sum_total', aggfunc='sum')\n",
    "#формируем данные по абонентской плате за камеры и домофоны по адресам и месяцам"
   ]
  },
  {
   "cell_type": "code",
   "execution_count": null,
   "id": "391a6114",
   "metadata": {},
   "outputs": [],
   "source": []
  },
  {
   "cell_type": "code",
   "execution_count": null,
   "id": "02fa8f60",
   "metadata": {},
   "outputs": [],
   "source": [
    "total_year = data.pivot_table(index='year', columns='month', values='sum_total', aggfunc='sum')\n",
    "# формируем данные о наработке за год и месяц"
   ]
  },
  {
   "cell_type": "code",
   "execution_count": null,
   "id": "2c64dcae",
   "metadata": {},
   "outputs": [],
   "source": [
    "#total_year"
   ]
  },
  {
   "cell_type": "code",
   "execution_count": null,
   "id": "795ad552",
   "metadata": {},
   "outputs": [],
   "source": [
    "total_tarif = data.pivot_table(index=['tariff_group', 'year'], columns='month', values='sum_total', aggfunc='sum')\n",
    "# формируем наработку в разрезе групп тарифов"
   ]
  },
  {
   "cell_type": "code",
   "execution_count": null,
   "id": "5967ff14",
   "metadata": {},
   "outputs": [],
   "source": [
    "#total_tarif"
   ]
  },
  {
   "cell_type": "code",
   "execution_count": null,
   "id": "46c9a147",
   "metadata": {},
   "outputs": [],
   "source": [
    "tarif_sum_count = data[['tariff', 'year', 'month', 'sum_total', 'cid']]\n",
    "tarif_sum = tarif_sum_count.pivot_table(index=['tariff', 'year'], columns='month', values='sum_total', aggfunc=['sum'])\n",
    "# наработка по всем тарифам"
   ]
  },
  {
   "cell_type": "code",
   "execution_count": null,
   "id": "6335742c",
   "metadata": {},
   "outputs": [],
   "source": [
    "tarif_count = tarif_sum_count[['tariff', 'year', 'month', 'cid']]\n",
    "tarif_count = tarif_count.drop_duplicates().reset_index(drop=True)\n",
    "tarif_count = tarif_count.pivot_table(index=['tariff', 'year'], columns='month', values='cid', aggfunc=['count'])\n",
    "# количество уникальных абонентов по тарифам "
   ]
  },
  {
   "cell_type": "code",
   "execution_count": null,
   "id": "993384b1",
   "metadata": {},
   "outputs": [],
   "source": [
    "#tarif_count"
   ]
  },
  {
   "cell_type": "code",
   "execution_count": null,
   "id": "c5d66c04",
   "metadata": {
    "scrolled": true
   },
   "outputs": [],
   "source": [
    "total_service_group = data.pivot_table(index=['service_group', 'year'], columns='month', values='sum_total',\n",
    "                                       aggfunc=['sum'])\n",
    "#формируем данные о наработке по группам услуг"
   ]
  },
  {
   "cell_type": "code",
   "execution_count": null,
   "id": "d721f17f",
   "metadata": {
    "scrolled": false
   },
   "outputs": [],
   "source": [
    "sum_ab_pl = data.query('service_group == \"Абонентская плата\"').pivot_table(index=['tariff_group', 'year']\n",
    "                                                               , columns='month', values='sum_total', aggfunc=['sum'])\n",
    "# данные по абонентской плате по группам тарифов"
   ]
  },
  {
   "cell_type": "code",
   "execution_count": null,
   "id": "2f0e53b7",
   "metadata": {},
   "outputs": [],
   "source": [
    "#display(sum_ab_pl)"
   ]
  },
  {
   "cell_type": "markdown",
   "id": "076f6e1f",
   "metadata": {},
   "source": [
    "**Для проверки (запись в excel)**"
   ]
  },
  {
   "cell_type": "code",
   "execution_count": null,
   "id": "83234515",
   "metadata": {},
   "outputs": [],
   "source": [
    "total_sum_internet = data.query('tariff_group == \"Интернет\"').pivot_table(index=['service_group', 'year']\n",
    "                                                               , columns='month', values='sum_total', aggfunc=['sum'])\n",
    "# данные по наработке Интернет в разрезе групп услуг"
   ]
  },
  {
   "cell_type": "code",
   "execution_count": null,
   "id": "43d271fe",
   "metadata": {
    "scrolled": true
   },
   "outputs": [],
   "source": [
    "#display(total_sum_internet)"
   ]
  },
  {
   "cell_type": "code",
   "execution_count": null,
   "id": "7d1d95a8",
   "metadata": {},
   "outputs": [],
   "source": [
    "data_count = data[['year', 'month', 'cid', 'tariff_group']]\n",
    "data_count = data_count.drop_duplicates().reset_index(drop=True)\n",
    "products = data_count.pivot_table(index=['tariff_group', 'year'], columns=['month'], values='cid', aggfunc=['count'])\n",
    "# данные по количеству уникальных абонентов"
   ]
  },
  {
   "cell_type": "code",
   "execution_count": null,
   "id": "30e393d0",
   "metadata": {
    "scrolled": false
   },
   "outputs": [],
   "source": [
    "#products"
   ]
  },
  {
   "cell_type": "code",
   "execution_count": null,
   "id": "d2864d34",
   "metadata": {},
   "outputs": [],
   "source": [
    "writer = pd.ExcelWriter('total_sum_1.xlsx', engine='xlsxwriter')\n",
    "sum_ab_pl.to_excel(writer, 'Аб_пл_гр_услуг') # Записать ваш DataFrame в файл  \n",
    "total_tarif.to_excel(writer, 'Наработка_группы_тариф')\n",
    "total_year.to_excel(writer, 'Наработка в год') # Записать ваш DataFrame в файл  \n",
    "total_service_group.to_excel(writer, 'Наработка_гр_услуг')\n",
    "structure_22.to_excel(writer, 'Наработка_услуги_тарифы')\n",
    "total_sum_internet.to_excel(writer, 'Наработка_интернет_услуги')\n",
    "tarif_sum.to_excel(writer,'Наработка_тариф')\n",
    "tarif_count.to_excel(writer,'Колво_тариф')\n",
    "products.to_excel(writer,'Колво_абонентов')\n",
    "data_video_dom.to_excel(writer,'Аб_плата_адрес_месяц')\n",
    "writer.save() # Сохраним результат "
   ]
  },
  {
   "cell_type": "code",
   "execution_count": null,
   "id": "1a55dc51",
   "metadata": {},
   "outputs": [],
   "source": []
  },
  {
   "cell_type": "markdown",
   "id": "92d0abe7",
   "metadata": {},
   "source": [
    "### Наработка по домофонам и камерам"
   ]
  },
  {
   "cell_type": "code",
   "execution_count": null,
   "id": "abf0200b",
   "metadata": {},
   "outputs": [],
   "source": [
    "domofon = data.query('tariff_group == \"Домофон\"')"
   ]
  },
  {
   "cell_type": "code",
   "execution_count": null,
   "id": "94bf922f",
   "metadata": {
    "scrolled": true
   },
   "outputs": [],
   "source": [
    "#domofon.pivot_table(index=['year'], columns=['month'], values='sum_total', aggfunc=['sum'])"
   ]
  },
  {
   "cell_type": "code",
   "execution_count": null,
   "id": "e5a0776f",
   "metadata": {},
   "outputs": [],
   "source": [
    "domofon = domofon.merge(address, on='cid', how='left').reset_index(drop=True)"
   ]
  },
  {
   "cell_type": "code",
   "execution_count": null,
   "id": "e903fea1",
   "metadata": {},
   "outputs": [],
   "source": [
    "writer = pd.ExcelWriter('domofon.xlsx', engine='xlsxwriter')\n",
    "domofon.to_excel(writer, 'Sheet1') # Записать ваш DataFrame в файл  \n",
    "writer.save() # Сохраним результат "
   ]
  },
  {
   "cell_type": "code",
   "execution_count": null,
   "id": "071d80c3",
   "metadata": {},
   "outputs": [],
   "source": []
  },
  {
   "cell_type": "code",
   "execution_count": null,
   "id": "17a6c055",
   "metadata": {},
   "outputs": [],
   "source": [
    "videos = data.query('tariff_group == \"Камеры\"')"
   ]
  },
  {
   "cell_type": "code",
   "execution_count": null,
   "id": "6505245f",
   "metadata": {
    "scrolled": true
   },
   "outputs": [],
   "source": [
    "#videos.pivot_table(index=['year'], columns=['month'], values='sum_total', aggfunc=['sum'])"
   ]
  },
  {
   "cell_type": "code",
   "execution_count": null,
   "id": "1a3b76ba",
   "metadata": {},
   "outputs": [],
   "source": [
    "videos = videos.merge(address, on='cid', how='left').reset_index(drop=True)"
   ]
  },
  {
   "cell_type": "code",
   "execution_count": null,
   "id": "36294536",
   "metadata": {},
   "outputs": [],
   "source": [
    "writer = pd.ExcelWriter('videos.xlsx', engine='xlsxwriter')\n",
    "videos.to_excel(writer, 'Sheet1') # Записать ваш DataFrame в файл  \n",
    "writer.save() # Сохраним результат "
   ]
  },
  {
   "cell_type": "code",
   "execution_count": null,
   "id": "1fc2eecd",
   "metadata": {},
   "outputs": [],
   "source": [
    "day = data.query('year == 2022 and month == [10, 11, 12]')\n",
    "day = day['contract'].drop_duplicates().reset_index(drop=True)"
   ]
  },
  {
   "cell_type": "code",
   "execution_count": null,
   "id": "5c312e49",
   "metadata": {},
   "outputs": [],
   "source": [
    "writer = pd.ExcelWriter('no_name.xlsx', engine='xlsxwriter')\n",
    "day.to_excel(writer, 'Sheet1') # Записать ваш DataFrame в файл  \n",
    "writer.save() # Сохраним результат "
   ]
  },
  {
   "cell_type": "code",
   "execution_count": null,
   "id": "d9b43ebe",
   "metadata": {},
   "outputs": [],
   "source": []
  },
  {
   "cell_type": "code",
   "execution_count": null,
   "id": "f60dc7cd",
   "metadata": {},
   "outputs": [],
   "source": []
  }
 ],
 "metadata": {
  "kernelspec": {
   "display_name": "Python 3 (ipykernel)",
   "language": "python",
   "name": "python3"
  },
  "language_info": {
   "codemirror_mode": {
    "name": "ipython",
    "version": 3
   },
   "file_extension": ".py",
   "mimetype": "text/x-python",
   "name": "python",
   "nbconvert_exporter": "python",
   "pygments_lexer": "ipython3",
   "version": "3.9.12"
  }
 },
 "nbformat": 4,
 "nbformat_minor": 5
}
