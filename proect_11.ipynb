{
 "cells": [
  {
   "cell_type": "markdown",
   "metadata": {},
   "source": [
    "# Определение стоимости автомобилей"
   ]
  },
  {
   "cell_type": "markdown",
   "metadata": {},
   "source": [
    "Сервис по продаже автомобилей с пробегом «Не бит, не крашен» разрабатывает приложение для привлечения новых клиентов. В нём можно быстро узнать рыночную стоимость своего автомобиля. В вашем распоряжении исторические данные: технические характеристики, комплектации и цены автомобилей. Вам нужно построить модель для определения стоимости. \n",
    "\n",
    "Заказчику важны:\n",
    "\n",
    "- качество предсказания;\n",
    "- скорость предсказания;\n",
    "- время обучения."
   ]
  },
  {
   "cell_type": "markdown",
   "metadata": {},
   "source": [
    "**Задачи проекта:**\n",
    "- построить модель для определения стоимости автомобиля"
   ]
  },
  {
   "cell_type": "markdown",
   "metadata": {},
   "source": [
    "**Данные - файл, содержащий следующие сведения:**\n",
    "* Признаки\n",
    "    - DateCrawled — дата скачивания анкеты из базы\n",
    "    - VehicleType — тип автомобильного кузова\n",
    "    - RegistrationYear — год регистрации автомобиля\n",
    "    - Gearbox — тип коробки передач\n",
    "    - Power — мощность (л. с.)\n",
    "    - Model — модель автомобиля\n",
    "    - Kilometer — пробег (км)\n",
    "    - RegistrationMonth — месяц регистрации автомобиля\n",
    "    - FuelType — тип топлива\n",
    "    - Brand — марка автомобиля\n",
    "    - NotRepaired — была машина в ремонте или нет\n",
    "    - DateCreated — дата создания анкеты\n",
    "    - NumberOfPictures — количество фотографий автомобиля\n",
    "    - PostalCode — почтовый индекс владельца анкеты (пользователя)\n",
    "    - LastSeen — дата последней активности пользователя\n",
    "* Целевой признак\n",
    "    - Price — цена (евро)"
   ]
  },
  {
   "cell_type": "markdown",
   "metadata": {},
   "source": [
    "**План работы**:\n",
    "- Загрузка и подготовка данных \n",
    "- Построение моделей\n",
    "- Оценка качества полученных моделей\n",
    "    - расчет RMSE (среднеквадратическая ошибка)\n",
    "    - расчет времени выполнения кода"
   ]
  },
  {
   "cell_type": "markdown",
   "metadata": {},
   "source": [
    "## Подготовка данных"
   ]
  },
  {
   "cell_type": "code",
   "execution_count": 1,
   "metadata": {},
   "outputs": [],
   "source": [
    "#!pip install -qq catboost"
   ]
  },
  {
   "cell_type": "code",
   "execution_count": 2,
   "metadata": {},
   "outputs": [],
   "source": [
    "#! pip install lightgbm"
   ]
  },
  {
   "cell_type": "code",
   "execution_count": 3,
   "metadata": {},
   "outputs": [],
   "source": [
    "import pandas as pd\n",
    "import numpy as np\n",
    "\n",
    "from sklearn.model_selection import cross_val_score, train_test_split\n",
    "from sklearn.preprocessing import OrdinalEncoder, StandardScaler\n",
    "from sklearn.metrics import make_scorer\n",
    "from sklearn.metrics import mean_squared_error\n",
    "\n",
    "from sklearn.linear_model import LinearRegression, Ridge, Lasso, ElasticNetCV\n",
    "from sklearn.ensemble import RandomForestRegressor, ExtraTreesRegressor\n",
    "from lightgbm import LGBMRegressor\n",
    "from catboost import CatBoostRegressor, cv, Pool\n",
    "from lightgbm import LGBMRegressor\n",
    "from sklearn.dummy import DummyRegressor\n",
    "\n",
    "import matplotlib.pyplot as plt\n",
    "import seaborn as sns"
   ]
  },
  {
   "cell_type": "code",
   "execution_count": null,
   "metadata": {},
   "outputs": [],
   "source": []
  },
  {
   "cell_type": "code",
   "execution_count": 4,
   "metadata": {},
   "outputs": [],
   "source": [
    "pd.options.display.float_format = '{:,.2f}'.format\n",
    "pd.set_option('display.max_columns', None)"
   ]
  },
  {
   "cell_type": "markdown",
   "metadata": {},
   "source": [
    "### загрузка и ознакомление"
   ]
  },
  {
   "cell_type": "code",
   "execution_count": 5,
   "metadata": {},
   "outputs": [],
   "source": [
    "df_start = pd.read_csv('/datasets/autos.csv')"
   ]
  },
  {
   "cell_type": "code",
   "execution_count": 6,
   "metadata": {},
   "outputs": [
    {
     "name": "stdout",
     "output_type": "stream",
     "text": [
      "<class 'pandas.core.frame.DataFrame'>\n",
      "RangeIndex: 354369 entries, 0 to 354368\n",
      "Data columns (total 16 columns):\n",
      " #   Column             Non-Null Count   Dtype \n",
      "---  ------             --------------   ----- \n",
      " 0   DateCrawled        354369 non-null  object\n",
      " 1   Price              354369 non-null  int64 \n",
      " 2   VehicleType        316879 non-null  object\n",
      " 3   RegistrationYear   354369 non-null  int64 \n",
      " 4   Gearbox            334536 non-null  object\n",
      " 5   Power              354369 non-null  int64 \n",
      " 6   Model              334664 non-null  object\n",
      " 7   Kilometer          354369 non-null  int64 \n",
      " 8   RegistrationMonth  354369 non-null  int64 \n",
      " 9   FuelType           321474 non-null  object\n",
      " 10  Brand              354369 non-null  object\n",
      " 11  NotRepaired        283215 non-null  object\n",
      " 12  DateCreated        354369 non-null  object\n",
      " 13  NumberOfPictures   354369 non-null  int64 \n",
      " 14  PostalCode         354369 non-null  int64 \n",
      " 15  LastSeen           354369 non-null  object\n",
      "dtypes: int64(7), object(9)\n",
      "memory usage: 43.3+ MB\n"
     ]
    },
    {
     "data": {
      "text/html": [
       "<div>\n",
       "<style scoped>\n",
       "    .dataframe tbody tr th:only-of-type {\n",
       "        vertical-align: middle;\n",
       "    }\n",
       "\n",
       "    .dataframe tbody tr th {\n",
       "        vertical-align: top;\n",
       "    }\n",
       "\n",
       "    .dataframe thead th {\n",
       "        text-align: right;\n",
       "    }\n",
       "</style>\n",
       "<table border=\"1\" class=\"dataframe\">\n",
       "  <thead>\n",
       "    <tr style=\"text-align: right;\">\n",
       "      <th></th>\n",
       "      <th>DateCrawled</th>\n",
       "      <th>Price</th>\n",
       "      <th>VehicleType</th>\n",
       "      <th>RegistrationYear</th>\n",
       "      <th>Gearbox</th>\n",
       "      <th>Power</th>\n",
       "      <th>Model</th>\n",
       "      <th>Kilometer</th>\n",
       "      <th>RegistrationMonth</th>\n",
       "      <th>FuelType</th>\n",
       "      <th>Brand</th>\n",
       "      <th>NotRepaired</th>\n",
       "      <th>DateCreated</th>\n",
       "      <th>NumberOfPictures</th>\n",
       "      <th>PostalCode</th>\n",
       "      <th>LastSeen</th>\n",
       "    </tr>\n",
       "  </thead>\n",
       "  <tbody>\n",
       "    <tr>\n",
       "      <th>0</th>\n",
       "      <td>2016-03-24 11:52:17</td>\n",
       "      <td>480</td>\n",
       "      <td>NaN</td>\n",
       "      <td>1993</td>\n",
       "      <td>manual</td>\n",
       "      <td>0</td>\n",
       "      <td>golf</td>\n",
       "      <td>150000</td>\n",
       "      <td>0</td>\n",
       "      <td>petrol</td>\n",
       "      <td>volkswagen</td>\n",
       "      <td>NaN</td>\n",
       "      <td>2016-03-24 00:00:00</td>\n",
       "      <td>0</td>\n",
       "      <td>70435</td>\n",
       "      <td>2016-04-07 03:16:57</td>\n",
       "    </tr>\n",
       "    <tr>\n",
       "      <th>1</th>\n",
       "      <td>2016-03-24 10:58:45</td>\n",
       "      <td>18300</td>\n",
       "      <td>coupe</td>\n",
       "      <td>2011</td>\n",
       "      <td>manual</td>\n",
       "      <td>190</td>\n",
       "      <td>NaN</td>\n",
       "      <td>125000</td>\n",
       "      <td>5</td>\n",
       "      <td>gasoline</td>\n",
       "      <td>audi</td>\n",
       "      <td>yes</td>\n",
       "      <td>2016-03-24 00:00:00</td>\n",
       "      <td>0</td>\n",
       "      <td>66954</td>\n",
       "      <td>2016-04-07 01:46:50</td>\n",
       "    </tr>\n",
       "    <tr>\n",
       "      <th>2</th>\n",
       "      <td>2016-03-14 12:52:21</td>\n",
       "      <td>9800</td>\n",
       "      <td>suv</td>\n",
       "      <td>2004</td>\n",
       "      <td>auto</td>\n",
       "      <td>163</td>\n",
       "      <td>grand</td>\n",
       "      <td>125000</td>\n",
       "      <td>8</td>\n",
       "      <td>gasoline</td>\n",
       "      <td>jeep</td>\n",
       "      <td>NaN</td>\n",
       "      <td>2016-03-14 00:00:00</td>\n",
       "      <td>0</td>\n",
       "      <td>90480</td>\n",
       "      <td>2016-04-05 12:47:46</td>\n",
       "    </tr>\n",
       "    <tr>\n",
       "      <th>3</th>\n",
       "      <td>2016-03-17 16:54:04</td>\n",
       "      <td>1500</td>\n",
       "      <td>small</td>\n",
       "      <td>2001</td>\n",
       "      <td>manual</td>\n",
       "      <td>75</td>\n",
       "      <td>golf</td>\n",
       "      <td>150000</td>\n",
       "      <td>6</td>\n",
       "      <td>petrol</td>\n",
       "      <td>volkswagen</td>\n",
       "      <td>no</td>\n",
       "      <td>2016-03-17 00:00:00</td>\n",
       "      <td>0</td>\n",
       "      <td>91074</td>\n",
       "      <td>2016-03-17 17:40:17</td>\n",
       "    </tr>\n",
       "    <tr>\n",
       "      <th>4</th>\n",
       "      <td>2016-03-31 17:25:20</td>\n",
       "      <td>3600</td>\n",
       "      <td>small</td>\n",
       "      <td>2008</td>\n",
       "      <td>manual</td>\n",
       "      <td>69</td>\n",
       "      <td>fabia</td>\n",
       "      <td>90000</td>\n",
       "      <td>7</td>\n",
       "      <td>gasoline</td>\n",
       "      <td>skoda</td>\n",
       "      <td>no</td>\n",
       "      <td>2016-03-31 00:00:00</td>\n",
       "      <td>0</td>\n",
       "      <td>60437</td>\n",
       "      <td>2016-04-06 10:17:21</td>\n",
       "    </tr>\n",
       "  </tbody>\n",
       "</table>\n",
       "</div>"
      ],
      "text/plain": [
       "           DateCrawled  Price VehicleType  RegistrationYear Gearbox  Power  \\\n",
       "0  2016-03-24 11:52:17    480         NaN              1993  manual      0   \n",
       "1  2016-03-24 10:58:45  18300       coupe              2011  manual    190   \n",
       "2  2016-03-14 12:52:21   9800         suv              2004    auto    163   \n",
       "3  2016-03-17 16:54:04   1500       small              2001  manual     75   \n",
       "4  2016-03-31 17:25:20   3600       small              2008  manual     69   \n",
       "\n",
       "   Model  Kilometer  RegistrationMonth  FuelType       Brand NotRepaired  \\\n",
       "0   golf     150000                  0    petrol  volkswagen         NaN   \n",
       "1    NaN     125000                  5  gasoline        audi         yes   \n",
       "2  grand     125000                  8  gasoline        jeep         NaN   \n",
       "3   golf     150000                  6    petrol  volkswagen          no   \n",
       "4  fabia      90000                  7  gasoline       skoda          no   \n",
       "\n",
       "           DateCreated  NumberOfPictures  PostalCode             LastSeen  \n",
       "0  2016-03-24 00:00:00                 0       70435  2016-04-07 03:16:57  \n",
       "1  2016-03-24 00:00:00                 0       66954  2016-04-07 01:46:50  \n",
       "2  2016-03-14 00:00:00                 0       90480  2016-04-05 12:47:46  \n",
       "3  2016-03-17 00:00:00                 0       91074  2016-03-17 17:40:17  \n",
       "4  2016-03-31 00:00:00                 0       60437  2016-04-06 10:17:21  "
      ]
     },
     "metadata": {},
     "output_type": "display_data"
    },
    {
     "name": "stdout",
     "output_type": "stream",
     "text": [
      "Количество признаков: 16 , количество наблюдений: 354369\n"
     ]
    }
   ],
   "source": [
    "df_start.info()\n",
    "display(df_start.head())\n",
    "print('Количество признаков:', df_start.shape[1], ', количество наблюдений:', df_start.shape[0])"
   ]
  },
  {
   "cell_type": "markdown",
   "metadata": {},
   "source": [
    "Посмотрим пропуски:"
   ]
  },
  {
   "cell_type": "code",
   "execution_count": 7,
   "metadata": {},
   "outputs": [
    {
     "data": {
      "text/plain": [
       "DateCrawled              0\n",
       "Price                    0\n",
       "VehicleType          37490\n",
       "RegistrationYear         0\n",
       "Gearbox              19833\n",
       "Power                    0\n",
       "Model                19705\n",
       "Kilometer                0\n",
       "RegistrationMonth        0\n",
       "FuelType             32895\n",
       "Brand                    0\n",
       "NotRepaired          71154\n",
       "DateCreated              0\n",
       "NumberOfPictures         0\n",
       "PostalCode               0\n",
       "LastSeen                 0\n",
       "dtype: int64"
      ]
     },
     "execution_count": 7,
     "metadata": {},
     "output_type": "execute_result"
    },
    {
     "data": {
      "image/png": "[encoded data removed]",
      "text/plain": [
       "<Figure size 1440x360 with 1 Axes>"
      ]
     },
     "metadata": {
      "needs_background": "light"
     },
     "output_type": "display_data"
    }
   ],
   "source": [
    "df_start.isna().sum().plot.bar(figsize=(20,5))\n",
    "df_start.isna().sum()"
   ]
  },
  {
   "cell_type": "code",
   "execution_count": 8,
   "metadata": {
    "scrolled": true
   },
   "outputs": [
    {
     "name": "stdout",
     "output_type": "stream",
     "text": [
      "Количество дубликатов: 4\n"
     ]
    }
   ],
   "source": [
    "print('Количество дубликатов:', df_start.duplicated().sum())"
   ]
  },
  {
   "cell_type": "markdown",
   "metadata": {},
   "source": [
    "### Удаление дубликатов и несущественных признаков"
   ]
  },
  {
   "cell_type": "markdown",
   "metadata": {},
   "source": [
    "Можно сразу удалить столбцы, не относящиеся к ценообразующим (количество фото, дата создания анкеты, дата последней активности пользователя)"
   ]
  },
  {
   "cell_type": "code",
   "execution_count": 9,
   "metadata": {
    "scrolled": true
   },
   "outputs": [],
   "source": [
    "data_avto = df_start.drop(['NumberOfPictures', 'LastSeen', 'DateCreated', 'RegistrationMonth', 'DateCrawled', 'PostalCode'],\n",
    "                          axis=1)\n"
   ]
  },
  {
   "cell_type": "markdown",
   "metadata": {},
   "source": [
    "> Почтовый индекс конечно можно рассматривать как ценообразующий фактор в части деления на регионы. Автомобиль в Москве и на Камчатке может иметь разницу в цене, но для этого необходимо создать классификатор региона по коду индекса. "
   ]
  },
  {
   "cell_type": "code",
   "execution_count": 10,
   "metadata": {},
   "outputs": [],
   "source": [
    "df_start = df_start.drop_duplicates().reset_index(drop=True)"
   ]
  },
  {
   "cell_type": "code",
   "execution_count": 11,
   "metadata": {},
   "outputs": [
    {
     "data": {
      "text/plain": [
       "(354369, 10)"
      ]
     },
     "execution_count": 11,
     "metadata": {},
     "output_type": "execute_result"
    }
   ],
   "source": [
    "data_avto.shape # для проверки"
   ]
  },
  {
   "cell_type": "markdown",
   "metadata": {},
   "source": [
    "### Возраст авто"
   ]
  },
  {
   "cell_type": "markdown",
   "metadata": {},
   "source": [
    "Один из основных признаков, влияющий на стоимость автомобиля - возраст. Проверим:"
   ]
  },
  {
   "cell_type": "code",
   "execution_count": 12,
   "metadata": {
    "scrolled": true
   },
   "outputs": [
    {
     "data": {
      "text/plain": [
       "array([1993, 2011, 2004, 2001, 2008, 1995, 1980, 2014, 1998, 2005, 1910,\n",
       "       2016, 2007, 2009, 2002, 2018, 1997, 1990, 2017, 1981, 2003, 1994,\n",
       "       1991, 1984, 2006, 1999, 2012, 2010, 2000, 1992, 2013, 1996, 1985,\n",
       "       1989, 2015, 1982, 1976, 1983, 1973, 1111, 1969, 1971, 1987, 1986,\n",
       "       1988, 1970, 1965, 1945, 1925, 1974, 1979, 1955, 1978, 1972, 1968,\n",
       "       1977, 1961, 1960, 1966, 1975, 1963, 1964, 5000, 1954, 1958, 1967,\n",
       "       1959, 9999, 1956, 3200, 1000, 1941, 8888, 1500, 2200, 4100, 1962,\n",
       "       1929, 1957, 1940, 3000, 2066, 1949, 2019, 1937, 1951, 1800, 1953,\n",
       "       1234, 8000, 5300, 9000, 2900, 6000, 5900, 5911, 1933, 1400, 1950,\n",
       "       4000, 1948, 1952, 1200, 8500, 1932, 1255, 3700, 3800, 4800, 1942,\n",
       "       7000, 1935, 1936, 6500, 1923, 2290, 2500, 1930, 1001, 9450, 1944,\n",
       "       1943, 1934, 1938, 1688, 2800, 1253, 1928, 1919, 5555, 5600, 1600,\n",
       "       2222, 1039, 9996, 1300, 8455, 1931, 1915, 4500, 1920, 1602, 7800,\n",
       "       9229, 1947, 1927, 7100, 8200, 1946, 7500, 3500])"
      ]
     },
     "execution_count": 12,
     "metadata": {},
     "output_type": "execute_result"
    }
   ],
   "source": [
    "data_avto['RegistrationYear'].unique()"
   ]
  },
  {
   "cell_type": "code",
   "execution_count": 13,
   "metadata": {
    "scrolled": true
   },
   "outputs": [
    {
     "data": {
      "text/plain": [
       "Price               1338\n",
       "VehicleType         1075\n",
       "RegistrationYear    1338\n",
       "Gearbox              933\n",
       "Power               1338\n",
       "Model                852\n",
       "Kilometer           1338\n",
       "FuelType             968\n",
       "Brand               1338\n",
       "NotRepaired          798\n",
       "dtype: int64"
      ]
     },
     "execution_count": 13,
     "metadata": {},
     "output_type": "execute_result"
    }
   ],
   "source": [
    "data_avto.query('RegistrationYear < 1970').count()"
   ]
  },
  {
   "cell_type": "markdown",
   "metadata": {},
   "source": [
    "- Мы увидели, что в данных имеются как недостоверные сведения, так и сведения об автомобилях с 1900 года. \n",
    "- Чаще всего, автомобили старше 50 лет являются раритетными, восстановленными и аукционными. Брать их в расчет не имеет смысла. \n",
    "- Удаляем сведения об автомобилях старше 1970 года, а так же содержащие недостоверные сведения. (1338 наблюдения)"
   ]
  },
  {
   "cell_type": "code",
   "execution_count": 14,
   "metadata": {},
   "outputs": [],
   "source": [
    "data_avto = data_avto.query('RegistrationYear >= 1970').reset_index(drop=True)"
   ]
  },
  {
   "cell_type": "code",
   "execution_count": 15,
   "metadata": {
    "scrolled": true
   },
   "outputs": [
    {
     "data": {
      "text/plain": [
       "Price               0\n",
       "VehicleType         0\n",
       "RegistrationYear    0\n",
       "Gearbox             0\n",
       "Power               0\n",
       "Model               0\n",
       "Kilometer           0\n",
       "FuelType            0\n",
       "Brand               0\n",
       "NotRepaired         0\n",
       "dtype: int64"
      ]
     },
     "execution_count": 15,
     "metadata": {},
     "output_type": "execute_result"
    }
   ],
   "source": [
    "data_avto.query('RegistrationYear < 1970').count() #проверяем"
   ]
  },
  {
   "cell_type": "code",
   "execution_count": 16,
   "metadata": {},
   "outputs": [
    {
     "data": {
      "text/plain": [
       "(353031, 10)"
      ]
     },
     "execution_count": 16,
     "metadata": {},
     "output_type": "execute_result"
    }
   ],
   "source": [
    "data_avto.shape #проверяем"
   ]
  },
  {
   "cell_type": "markdown",
   "metadata": {},
   "source": [
    "### Мощность авто"
   ]
  },
  {
   "cell_type": "markdown",
   "metadata": {},
   "source": [
    "Мощность автомобиля. Так же одним из главным ценоопределяющих признаков автомобиля является мощность (л/с). Согласно статьям [самые маломощные автомобили](https://fastmb.ru/autonews/autonews_mir/1367-samye-malomoschnye-avtomobili-top-10.html) и [Самые мощные автомобили](https://www.a777aa77.ru/power.php?brand_id=105) широкое распространение получили автомобили от 40 л/с до 1000 л/с."
   ]
  },
  {
   "cell_type": "code",
   "execution_count": 17,
   "metadata": {},
   "outputs": [
    {
     "data": {
      "image/png": "[encoded data removed]",
      "text/plain": [
       "<Figure size 1224x432 with 1 Axes>"
      ]
     },
     "metadata": {
      "needs_background": "light"
     },
     "output_type": "display_data"
    }
   ],
   "source": [
    "sorted(data_avto['Power'].unique())\n",
    "data_avto['Power'].hist(bins=100, figsize=(17,6));"
   ]
  },
  {
   "cell_type": "code",
   "execution_count": 18,
   "metadata": {
    "scrolled": false
   },
   "outputs": [
    {
     "data": {
      "text/plain": [
       "Price               41181\n",
       "VehicleType         26581\n",
       "RegistrationYear    41181\n",
       "Gearbox             28102\n",
       "Power               41181\n",
       "Model               34837\n",
       "Kilometer           41181\n",
       "FuelType            29592\n",
       "Brand               41181\n",
       "NotRepaired         19701\n",
       "dtype: int64"
      ]
     },
     "execution_count": 18,
     "metadata": {},
     "output_type": "execute_result"
    }
   ],
   "source": [
    "data_avto.query('Power > 1000 or Power < 40').count() # авто меньше 40 или больше 1000\n"
   ]
  },
  {
   "cell_type": "code",
   "execution_count": 19,
   "metadata": {
    "scrolled": false
   },
   "outputs": [
    {
     "data": {
      "text/plain": [
       "Price               39657\n",
       "VehicleType         25250\n",
       "RegistrationYear    39657\n",
       "Gearbox             26700\n",
       "Power               39657\n",
       "Model               33619\n",
       "Kilometer           39657\n",
       "FuelType            28302\n",
       "Brand               39657\n",
       "NotRepaired         18606\n",
       "dtype: int64"
      ]
     },
     "execution_count": 19,
     "metadata": {},
     "output_type": "execute_result"
    }
   ],
   "source": [
    "data_avto.query('Power == 0').count() # авто с мощностью 0"
   ]
  },
  {
   "cell_type": "markdown",
   "metadata": {},
   "source": [
    "В датафрейме 41181 наблюдениt, где мощность меньше 40 и больше 1000 л/с, в том числе 39657 наблюдений, где мощность 0"
   ]
  },
  {
   "cell_type": "markdown",
   "metadata": {},
   "source": [
    "Наблюдения, где мощность автомобиля меньше 40 и больше 800 (исправим опечатки) заменим на медиану по бренду и модели"
   ]
  },
  {
   "cell_type": "code",
   "execution_count": 20,
   "metadata": {},
   "outputs": [],
   "source": [
    "power_transformed = data_avto.groupby(['Brand', 'Model', 'Gearbox'])['Power'].transform('median')\n",
    "data_avto.loc[(data_avto['Power'] < 40) | (data_avto['Power'] > 600), 'Power'] = power_transformed"
   ]
  },
  {
   "cell_type": "code",
   "execution_count": 21,
   "metadata": {
    "scrolled": true
   },
   "outputs": [
    {
     "data": {
      "text/html": [
       "<div>\n",
       "<style scoped>\n",
       "    .dataframe tbody tr th:only-of-type {\n",
       "        vertical-align: middle;\n",
       "    }\n",
       "\n",
       "    .dataframe tbody tr th {\n",
       "        vertical-align: top;\n",
       "    }\n",
       "\n",
       "    .dataframe thead th {\n",
       "        text-align: right;\n",
       "    }\n",
       "</style>\n",
       "<table border=\"1\" class=\"dataframe\">\n",
       "  <thead>\n",
       "    <tr style=\"text-align: right;\">\n",
       "      <th></th>\n",
       "      <th>Brand</th>\n",
       "    </tr>\n",
       "    <tr>\n",
       "      <th>Power</th>\n",
       "      <th></th>\n",
       "    </tr>\n",
       "  </thead>\n",
       "  <tbody>\n",
       "    <tr>\n",
       "      <th>0.00</th>\n",
       "      <td>15</td>\n",
       "    </tr>\n",
       "    <tr>\n",
       "      <th>16.00</th>\n",
       "      <td>5</td>\n",
       "    </tr>\n",
       "    <tr>\n",
       "      <th>22.50</th>\n",
       "      <td>3</td>\n",
       "    </tr>\n",
       "    <tr>\n",
       "      <th>23.00</th>\n",
       "      <td>1</td>\n",
       "    </tr>\n",
       "    <tr>\n",
       "      <th>26.00</th>\n",
       "      <td>267</td>\n",
       "    </tr>\n",
       "    <tr>\n",
       "      <th>38.00</th>\n",
       "      <td>2</td>\n",
       "    </tr>\n",
       "    <tr>\n",
       "      <th>39.00</th>\n",
       "      <td>13</td>\n",
       "    </tr>\n",
       "  </tbody>\n",
       "</table>\n",
       "</div>"
      ],
      "text/plain": [
       "       Brand\n",
       "Power       \n",
       "0.00      15\n",
       "16.00      5\n",
       "22.50      3\n",
       "23.00      1\n",
       "26.00    267\n",
       "38.00      2\n",
       "39.00     13"
      ]
     },
     "execution_count": 21,
     "metadata": {},
     "output_type": "execute_result"
    }
   ],
   "source": [
    "data_avto.query('Power > 1000 or Power < 40').pivot_table(index='Power', values='Brand', aggfunc='count')"
   ]
  },
  {
   "cell_type": "code",
   "execution_count": 22,
   "metadata": {},
   "outputs": [
    {
     "data": {
      "text/plain": [
       "16407"
      ]
     },
     "execution_count": 22,
     "metadata": {},
     "output_type": "execute_result"
    }
   ],
   "source": [
    "data_avto['Power'].isna().sum()"
   ]
  },
  {
   "cell_type": "markdown",
   "metadata": {},
   "source": [
    "Эти данные можно удалить."
   ]
  },
  {
   "cell_type": "code",
   "execution_count": 23,
   "metadata": {
    "scrolled": true
   },
   "outputs": [
    {
     "data": {
      "text/plain": [
       "(336318, 10)"
      ]
     },
     "execution_count": 23,
     "metadata": {},
     "output_type": "execute_result"
    }
   ],
   "source": [
    "data_avto = data_avto.query('40 <= Power <= 1000').reset_index(drop=True)\n",
    "data_avto.shape"
   ]
  },
  {
   "cell_type": "markdown",
   "metadata": {},
   "source": [
    "### Модель авто, ремонт, коробка передач, вид топлива и тип кузова"
   ]
  },
  {
   "cell_type": "markdown",
   "metadata": {},
   "source": [
    "**Посмотрим пропуски в признаказ `Model`**"
   ]
  },
  {
   "cell_type": "code",
   "execution_count": 24,
   "metadata": {},
   "outputs": [
    {
     "data": {
      "text/plain": [
       "12863"
      ]
     },
     "execution_count": 24,
     "metadata": {},
     "output_type": "execute_result"
    }
   ],
   "source": [
    "data_avto['Model'].isna().sum()"
   ]
  },
  {
   "cell_type": "markdown",
   "metadata": {},
   "source": [
    "Заменим на первое вхождение по условию совпадения 'Brand', 'Gearbox', 'FuelType'"
   ]
  },
  {
   "cell_type": "code",
   "execution_count": 25,
   "metadata": {},
   "outputs": [],
   "source": [
    "model_transformed = data_avto.groupby(['Brand', 'Gearbox', 'FuelType'])['Model'].transform('first')\n",
    "data_avto['Model'] = data_avto['Model'].fillna(model_transformed)"
   ]
  },
  {
   "cell_type": "code",
   "execution_count": 26,
   "metadata": {},
   "outputs": [
    {
     "data": {
      "text/plain": [
       "5515"
      ]
     },
     "execution_count": 26,
     "metadata": {},
     "output_type": "execute_result"
    }
   ],
   "source": [
    "data_avto['Model'].isna().sum()"
   ]
  },
  {
   "cell_type": "markdown",
   "metadata": {},
   "source": [
    "Мы восстановили половину пропущенных данных, остальные заменим на `unknown`"
   ]
  },
  {
   "cell_type": "code",
   "execution_count": 27,
   "metadata": {},
   "outputs": [],
   "source": [
    "data_avto['Model'] = data_avto['Model'].fillna('unknown')"
   ]
  },
  {
   "cell_type": "markdown",
   "metadata": {},
   "source": [
    "**Заменим пропуски в данных о ремонте `NotRepaired`**"
   ]
  },
  {
   "cell_type": "code",
   "execution_count": 28,
   "metadata": {},
   "outputs": [
    {
     "data": {
      "text/html": [
       "<div>\n",
       "<style scoped>\n",
       "    .dataframe tbody tr th:only-of-type {\n",
       "        vertical-align: middle;\n",
       "    }\n",
       "\n",
       "    .dataframe tbody tr th {\n",
       "        vertical-align: top;\n",
       "    }\n",
       "\n",
       "    .dataframe thead th {\n",
       "        text-align: right;\n",
       "    }\n",
       "</style>\n",
       "<table border=\"1\" class=\"dataframe\">\n",
       "  <thead>\n",
       "    <tr style=\"text-align: right;\">\n",
       "      <th></th>\n",
       "      <th>Brand</th>\n",
       "    </tr>\n",
       "    <tr>\n",
       "      <th>NotRepaired</th>\n",
       "      <th></th>\n",
       "    </tr>\n",
       "  </thead>\n",
       "  <tbody>\n",
       "    <tr>\n",
       "      <th>no</th>\n",
       "      <td>242202</td>\n",
       "    </tr>\n",
       "    <tr>\n",
       "      <th>yes</th>\n",
       "      <td>34557</td>\n",
       "    </tr>\n",
       "  </tbody>\n",
       "</table>\n",
       "</div>"
      ],
      "text/plain": [
       "              Brand\n",
       "NotRepaired        \n",
       "no           242202\n",
       "yes           34557"
      ]
     },
     "execution_count": 28,
     "metadata": {},
     "output_type": "execute_result"
    }
   ],
   "source": [
    "data_avto.pivot_table(index='NotRepaired', values='Brand', aggfunc='count')"
   ]
  },
  {
   "cell_type": "markdown",
   "metadata": {},
   "source": [
    "Только 34556 объявления содержат сведения о ремонте, заменим пропуски по большенству `no`. Предполагаем, что если ремонт не производился, то и ставить отметку при заполнении объявления небыло необходимости"
   ]
  },
  {
   "cell_type": "code",
   "execution_count": 29,
   "metadata": {},
   "outputs": [],
   "source": [
    "data_avto['NotRepaired'] = data_avto['NotRepaired'].fillna('no')"
   ]
  },
  {
   "cell_type": "markdown",
   "metadata": {},
   "source": [
    "**Посмотрим пропуски 'Gearbox'**"
   ]
  },
  {
   "cell_type": "code",
   "execution_count": 30,
   "metadata": {},
   "outputs": [
    {
     "data": {
      "text/plain": [
       "6343"
      ]
     },
     "execution_count": 30,
     "metadata": {},
     "output_type": "execute_result"
    }
   ],
   "source": [
    "data_avto['Gearbox'].isna().sum()"
   ]
  },
  {
   "cell_type": "markdown",
   "metadata": {},
   "source": [
    "Заменим на первое вхождение по условию совпадения 'Brand', 'Model', 'Power', 'FuelType'"
   ]
  },
  {
   "cell_type": "code",
   "execution_count": 31,
   "metadata": {},
   "outputs": [],
   "source": [
    "gearbox_transformed = data_avto.groupby(['Brand', 'Model', 'Power', 'FuelType'])['Gearbox'].transform('first')\n",
    "data_avto['Gearbox'] = data_avto['Gearbox'].fillna(gearbox_transformed)"
   ]
  },
  {
   "cell_type": "code",
   "execution_count": 32,
   "metadata": {},
   "outputs": [
    {
     "data": {
      "text/plain": [
       "2247"
      ]
     },
     "execution_count": 32,
     "metadata": {},
     "output_type": "execute_result"
    }
   ],
   "source": [
    "data_avto['Gearbox'].isna().sum()"
   ]
  },
  {
   "cell_type": "code",
   "execution_count": 33,
   "metadata": {},
   "outputs": [],
   "source": [
    "data_avto['Gearbox'] = data_avto['Gearbox'].fillna('unknown')"
   ]
  },
  {
   "cell_type": "markdown",
   "metadata": {},
   "source": [
    "**Посмотрим пропуски 'FuelType'**"
   ]
  },
  {
   "cell_type": "code",
   "execution_count": 34,
   "metadata": {},
   "outputs": [
    {
     "data": {
      "text/plain": [
       "24523"
      ]
     },
     "execution_count": 34,
     "metadata": {},
     "output_type": "execute_result"
    }
   ],
   "source": [
    "data_avto['FuelType'].isna().sum()"
   ]
  },
  {
   "cell_type": "markdown",
   "metadata": {},
   "source": [
    "Заменим на первое вхождение по условию совпадения 'Brand', 'Model', 'Power', 'Gearbox'"
   ]
  },
  {
   "cell_type": "code",
   "execution_count": 35,
   "metadata": {},
   "outputs": [],
   "source": [
    "fuel_transformed = data_avto.groupby(['Brand', 'Model', 'Power', 'Gearbox'])['FuelType'].transform('first')\n",
    "data_avto['FuelType'] = data_avto['FuelType'].fillna(fuel_transformed)"
   ]
  },
  {
   "cell_type": "code",
   "execution_count": 36,
   "metadata": {},
   "outputs": [
    {
     "data": {
      "text/plain": [
       "5016"
      ]
     },
     "execution_count": 36,
     "metadata": {},
     "output_type": "execute_result"
    }
   ],
   "source": [
    "data_avto['FuelType'].isna().sum()"
   ]
  },
  {
   "cell_type": "code",
   "execution_count": 37,
   "metadata": {},
   "outputs": [],
   "source": [
    "data_avto['FuelType'] = data_avto['FuelType'].fillna('unknown')"
   ]
  },
  {
   "cell_type": "code",
   "execution_count": null,
   "metadata": {},
   "outputs": [],
   "source": []
  },
  {
   "cell_type": "markdown",
   "metadata": {},
   "source": [
    "**Посмотрим пропуски 'VehicleType'**"
   ]
  },
  {
   "cell_type": "code",
   "execution_count": 38,
   "metadata": {},
   "outputs": [
    {
     "data": {
      "text/plain": [
       "28409"
      ]
     },
     "execution_count": 38,
     "metadata": {},
     "output_type": "execute_result"
    }
   ],
   "source": [
    "data_avto['VehicleType'].isna().sum()"
   ]
  },
  {
   "cell_type": "markdown",
   "metadata": {},
   "source": [
    "Заменим на первое вхождение по условию совпадения 'Brand', 'Model', 'Power', 'Gearbox'"
   ]
  },
  {
   "cell_type": "code",
   "execution_count": 39,
   "metadata": {},
   "outputs": [],
   "source": [
    "vehicle_transformed = data_avto.groupby(['Brand', 'Model', 'Power', 'Gearbox'])['VehicleType'].transform('first')\n",
    "data_avto['VehicleType'] = data_avto['VehicleType'].fillna(vehicle_transformed)"
   ]
  },
  {
   "cell_type": "code",
   "execution_count": 40,
   "metadata": {},
   "outputs": [
    {
     "data": {
      "text/plain": [
       "1533"
      ]
     },
     "execution_count": 40,
     "metadata": {},
     "output_type": "execute_result"
    }
   ],
   "source": [
    "data_avto['VehicleType'].isna().sum()"
   ]
  },
  {
   "cell_type": "code",
   "execution_count": 41,
   "metadata": {},
   "outputs": [],
   "source": [
    "data_avto['VehicleType'] = data_avto['VehicleType'].fillna('unknown')"
   ]
  },
  {
   "cell_type": "markdown",
   "metadata": {},
   "source": [
    "### Целевой признак"
   ]
  },
  {
   "cell_type": "markdown",
   "metadata": {},
   "source": [
    "Для начала проверим целевой признак `Price`. Пропусков там нет, но могут быть аномалии и недоставерные сведения."
   ]
  },
  {
   "cell_type": "code",
   "execution_count": 42,
   "metadata": {},
   "outputs": [
    {
     "data": {
      "image/png": "[encoded data removed]",
      "text/plain": [
       "<Figure size 1224x144 with 1 Axes>"
      ]
     },
     "metadata": {
      "needs_background": "light"
     },
     "output_type": "display_data"
    }
   ],
   "source": [
    "fig, ax = plt.subplots(figsize = (17,2))\n",
    "ax = data_avto[['Price']].boxplot(vert = False, ax =ax)\n",
    "ax.set_title('Количество объявлений');"
   ]
  },
  {
   "cell_type": "code",
   "execution_count": 43,
   "metadata": {},
   "outputs": [
    {
     "data": {
      "text/plain": [
       "count   336,318.00\n",
       "mean      4,529.31\n",
       "std       4,536.16\n",
       "min           0.00\n",
       "25%       1,150.00\n",
       "50%       2,850.00\n",
       "75%       6,500.00\n",
       "max      20,000.00\n",
       "Name: Price, dtype: float64"
      ]
     },
     "execution_count": 43,
     "metadata": {},
     "output_type": "execute_result"
    }
   ],
   "source": [
    "data_avto['Price'].describe()"
   ]
  },
  {
   "cell_type": "code",
   "execution_count": 44,
   "metadata": {},
   "outputs": [
    {
     "data": {
      "image/png": "[encoded data removed]",
      "text/plain": [
       "<Figure size 1224x432 with 1 Axes>"
      ]
     },
     "metadata": {
      "needs_background": "light"
     },
     "output_type": "display_data"
    }
   ],
   "source": [
    "data_avto['Price'].hist(bins=100, figsize=(17,6));"
   ]
  },
  {
   "cell_type": "code",
   "execution_count": 45,
   "metadata": {},
   "outputs": [
    {
     "data": {
      "text/plain": [
       "Price               2066\n",
       "VehicleType         2066\n",
       "RegistrationYear    2066\n",
       "Gearbox             2066\n",
       "Power               2066\n",
       "Model               2066\n",
       "Kilometer           2066\n",
       "FuelType            2066\n",
       "Brand               2066\n",
       "NotRepaired         2066\n",
       "dtype: int64"
      ]
     },
     "execution_count": 45,
     "metadata": {},
     "output_type": "execute_result"
    }
   ],
   "source": [
    "data_avto.query('Price < 50 and NotRepaired == \"yes\"').count() #меньше 50 у.е. с ремонтом"
   ]
  },
  {
   "cell_type": "code",
   "execution_count": 46,
   "metadata": {},
   "outputs": [
    {
     "data": {
      "text/plain": [
       "Price               9229\n",
       "VehicleType         9229\n",
       "RegistrationYear    9229\n",
       "Gearbox             9229\n",
       "Power               9229\n",
       "Model               9229\n",
       "Kilometer           9229\n",
       "FuelType            9229\n",
       "Brand               9229\n",
       "NotRepaired         9229\n",
       "dtype: int64"
      ]
     },
     "execution_count": 46,
     "metadata": {},
     "output_type": "execute_result"
    }
   ],
   "source": [
    "data_avto.query('Price < 50').count()"
   ]
  },
  {
   "cell_type": "markdown",
   "metadata": {},
   "source": [
    "- Средняя цена на автомобили 4461,72 у.е., медиана - 2799 у.е., максимальная цена 20000 у.е. \n",
    "- Количество наблюдений, где цена меньше 50 у.е. 11389, и только 2185 из них были после ремонта.\n",
    "- Мы удалим все объявления с ценой меньше 50 у.е., так как такие автомобиль скорее всего имеют существенные недостатки (нет документов, существенные аварии, отсутствие главных узлов и т.д.). Всех этих дополнительных данных у нас нет и модель не сможет их учесть."
   ]
  },
  {
   "cell_type": "code",
   "execution_count": 47,
   "metadata": {},
   "outputs": [
    {
     "data": {
      "text/plain": [
       "(327089, 10)"
      ]
     },
     "execution_count": 47,
     "metadata": {},
     "output_type": "execute_result"
    }
   ],
   "source": [
    "data_good = data_avto.query('Price >= 50').reset_index(drop=True)\n",
    "data_good.shape"
   ]
  },
  {
   "cell_type": "code",
   "execution_count": 48,
   "metadata": {},
   "outputs": [
    {
     "name": "stdout",
     "output_type": "stream",
     "text": [
      "<class 'pandas.core.frame.DataFrame'>\n",
      "RangeIndex: 327089 entries, 0 to 327088\n",
      "Data columns (total 10 columns):\n",
      " #   Column            Non-Null Count   Dtype  \n",
      "---  ------            --------------   -----  \n",
      " 0   Price             327089 non-null  int64  \n",
      " 1   VehicleType       327089 non-null  object \n",
      " 2   RegistrationYear  327089 non-null  int64  \n",
      " 3   Gearbox           327089 non-null  object \n",
      " 4   Power             327089 non-null  float64\n",
      " 5   Model             327089 non-null  object \n",
      " 6   Kilometer         327089 non-null  int64  \n",
      " 7   FuelType          327089 non-null  object \n",
      " 8   Brand             327089 non-null  object \n",
      " 9   NotRepaired       327089 non-null  object \n",
      "dtypes: float64(1), int64(3), object(6)\n",
      "memory usage: 25.0+ MB\n"
     ]
    }
   ],
   "source": [
    "data_good.info()"
   ]
  },
  {
   "cell_type": "code",
   "execution_count": 49,
   "metadata": {},
   "outputs": [
    {
     "data": {
      "text/plain": [
       "0"
      ]
     },
     "execution_count": 49,
     "metadata": {},
     "output_type": "execute_result"
    }
   ],
   "source": [
    "data_good.isna().sum().sum() #проверяем"
   ]
  },
  {
   "cell_type": "markdown",
   "metadata": {},
   "source": [
    "### Подготовка данных к обучению"
   ]
  },
  {
   "cell_type": "markdown",
   "metadata": {},
   "source": [
    "Прямое кодирование:"
   ]
  },
  {
   "cell_type": "code",
   "execution_count": 50,
   "metadata": {},
   "outputs": [],
   "source": [
    "data_ohe = pd.get_dummies(data_good, drop_first=True) #drop_first чтобы избежать дамми-ловушку"
   ]
  },
  {
   "cell_type": "markdown",
   "metadata": {},
   "source": [
    "Порядковое кодирование:"
   ]
  },
  {
   "cell_type": "code",
   "execution_count": 51,
   "metadata": {},
   "outputs": [],
   "source": [
    "encoder = OrdinalEncoder() \n",
    "\n",
    "data_good[['VehicleType', 'Gearbox', 'Model', 'FuelType', 'Brand', 'NotRepaired']] = encoder.fit_transform(\n",
    "    data_good[['VehicleType', 'Gearbox', 'Model', 'FuelType', 'Brand', 'NotRepaired']])"
   ]
  },
  {
   "cell_type": "code",
   "execution_count": 52,
   "metadata": {},
   "outputs": [
    {
     "data": {
      "text/html": [
       "<div>\n",
       "<style scoped>\n",
       "    .dataframe tbody tr th:only-of-type {\n",
       "        vertical-align: middle;\n",
       "    }\n",
       "\n",
       "    .dataframe tbody tr th {\n",
       "        vertical-align: top;\n",
       "    }\n",
       "\n",
       "    .dataframe thead th {\n",
       "        text-align: right;\n",
       "    }\n",
       "</style>\n",
       "<table border=\"1\" class=\"dataframe\">\n",
       "  <thead>\n",
       "    <tr style=\"text-align: right;\">\n",
       "      <th></th>\n",
       "      <th>Price</th>\n",
       "      <th>VehicleType</th>\n",
       "      <th>RegistrationYear</th>\n",
       "      <th>Gearbox</th>\n",
       "      <th>Power</th>\n",
       "      <th>Model</th>\n",
       "      <th>Kilometer</th>\n",
       "      <th>FuelType</th>\n",
       "      <th>Brand</th>\n",
       "      <th>NotRepaired</th>\n",
       "    </tr>\n",
       "  </thead>\n",
       "  <tbody>\n",
       "    <tr>\n",
       "      <th>0</th>\n",
       "      <td>480</td>\n",
       "      <td>4.00</td>\n",
       "      <td>1993</td>\n",
       "      <td>1.00</td>\n",
       "      <td>90.00</td>\n",
       "      <td>116.00</td>\n",
       "      <td>150000</td>\n",
       "      <td>6.00</td>\n",
       "      <td>38.00</td>\n",
       "      <td>0.00</td>\n",
       "    </tr>\n",
       "    <tr>\n",
       "      <th>1</th>\n",
       "      <td>18300</td>\n",
       "      <td>2.00</td>\n",
       "      <td>2011</td>\n",
       "      <td>1.00</td>\n",
       "      <td>190.00</td>\n",
       "      <td>29.00</td>\n",
       "      <td>125000</td>\n",
       "      <td>2.00</td>\n",
       "      <td>1.00</td>\n",
       "      <td>1.00</td>\n",
       "    </tr>\n",
       "    <tr>\n",
       "      <th>2</th>\n",
       "      <td>9800</td>\n",
       "      <td>6.00</td>\n",
       "      <td>2004</td>\n",
       "      <td>0.00</td>\n",
       "      <td>163.00</td>\n",
       "      <td>117.00</td>\n",
       "      <td>125000</td>\n",
       "      <td>2.00</td>\n",
       "      <td>14.00</td>\n",
       "      <td>0.00</td>\n",
       "    </tr>\n",
       "    <tr>\n",
       "      <th>3</th>\n",
       "      <td>1500</td>\n",
       "      <td>5.00</td>\n",
       "      <td>2001</td>\n",
       "      <td>1.00</td>\n",
       "      <td>75.00</td>\n",
       "      <td>116.00</td>\n",
       "      <td>150000</td>\n",
       "      <td>6.00</td>\n",
       "      <td>38.00</td>\n",
       "      <td>0.00</td>\n",
       "    </tr>\n",
       "    <tr>\n",
       "      <th>4</th>\n",
       "      <td>3600</td>\n",
       "      <td>5.00</td>\n",
       "      <td>2008</td>\n",
       "      <td>1.00</td>\n",
       "      <td>69.00</td>\n",
       "      <td>101.00</td>\n",
       "      <td>90000</td>\n",
       "      <td>2.00</td>\n",
       "      <td>31.00</td>\n",
       "      <td>0.00</td>\n",
       "    </tr>\n",
       "    <tr>\n",
       "      <th>...</th>\n",
       "      <td>...</td>\n",
       "      <td>...</td>\n",
       "      <td>...</td>\n",
       "      <td>...</td>\n",
       "      <td>...</td>\n",
       "      <td>...</td>\n",
       "      <td>...</td>\n",
       "      <td>...</td>\n",
       "      <td>...</td>\n",
       "      <td>...</td>\n",
       "    </tr>\n",
       "    <tr>\n",
       "      <th>327084</th>\n",
       "      <td>3200</td>\n",
       "      <td>4.00</td>\n",
       "      <td>2004</td>\n",
       "      <td>1.00</td>\n",
       "      <td>225.00</td>\n",
       "      <td>140.00</td>\n",
       "      <td>150000</td>\n",
       "      <td>6.00</td>\n",
       "      <td>30.00</td>\n",
       "      <td>1.00</td>\n",
       "    </tr>\n",
       "    <tr>\n",
       "      <th>327085</th>\n",
       "      <td>1150</td>\n",
       "      <td>0.00</td>\n",
       "      <td>2000</td>\n",
       "      <td>1.00</td>\n",
       "      <td>120.00</td>\n",
       "      <td>249.00</td>\n",
       "      <td>150000</td>\n",
       "      <td>6.00</td>\n",
       "      <td>24.00</td>\n",
       "      <td>0.00</td>\n",
       "    </tr>\n",
       "    <tr>\n",
       "      <th>327086</th>\n",
       "      <td>1199</td>\n",
       "      <td>1.00</td>\n",
       "      <td>2000</td>\n",
       "      <td>0.00</td>\n",
       "      <td>101.00</td>\n",
       "      <td>106.00</td>\n",
       "      <td>125000</td>\n",
       "      <td>6.00</td>\n",
       "      <td>32.00</td>\n",
       "      <td>0.00</td>\n",
       "    </tr>\n",
       "    <tr>\n",
       "      <th>327087</th>\n",
       "      <td>9200</td>\n",
       "      <td>0.00</td>\n",
       "      <td>1996</td>\n",
       "      <td>1.00</td>\n",
       "      <td>102.00</td>\n",
       "      <td>223.00</td>\n",
       "      <td>150000</td>\n",
       "      <td>2.00</td>\n",
       "      <td>38.00</td>\n",
       "      <td>0.00</td>\n",
       "    </tr>\n",
       "    <tr>\n",
       "      <th>327088</th>\n",
       "      <td>3400</td>\n",
       "      <td>8.00</td>\n",
       "      <td>2002</td>\n",
       "      <td>1.00</td>\n",
       "      <td>100.00</td>\n",
       "      <td>116.00</td>\n",
       "      <td>150000</td>\n",
       "      <td>2.00</td>\n",
       "      <td>38.00</td>\n",
       "      <td>0.00</td>\n",
       "    </tr>\n",
       "  </tbody>\n",
       "</table>\n",
       "<p>327089 rows × 10 columns</p>\n",
       "</div>"
      ],
      "text/plain": [
       "        Price  VehicleType  RegistrationYear  Gearbox  Power  Model  \\\n",
       "0         480         4.00              1993     1.00  90.00 116.00   \n",
       "1       18300         2.00              2011     1.00 190.00  29.00   \n",
       "2        9800         6.00              2004     0.00 163.00 117.00   \n",
       "3        1500         5.00              2001     1.00  75.00 116.00   \n",
       "4        3600         5.00              2008     1.00  69.00 101.00   \n",
       "...       ...          ...               ...      ...    ...    ...   \n",
       "327084   3200         4.00              2004     1.00 225.00 140.00   \n",
       "327085   1150         0.00              2000     1.00 120.00 249.00   \n",
       "327086   1199         1.00              2000     0.00 101.00 106.00   \n",
       "327087   9200         0.00              1996     1.00 102.00 223.00   \n",
       "327088   3400         8.00              2002     1.00 100.00 116.00   \n",
       "\n",
       "        Kilometer  FuelType  Brand  NotRepaired  \n",
       "0          150000      6.00  38.00         0.00  \n",
       "1          125000      2.00   1.00         1.00  \n",
       "2          125000      2.00  14.00         0.00  \n",
       "3          150000      6.00  38.00         0.00  \n",
       "4           90000      2.00  31.00         0.00  \n",
       "...           ...       ...    ...          ...  \n",
       "327084     150000      6.00  30.00         1.00  \n",
       "327085     150000      6.00  24.00         0.00  \n",
       "327086     125000      6.00  32.00         0.00  \n",
       "327087     150000      2.00  38.00         0.00  \n",
       "327088     150000      2.00  38.00         0.00  \n",
       "\n",
       "[327089 rows x 10 columns]"
      ]
     },
     "execution_count": 52,
     "metadata": {},
     "output_type": "execute_result"
    }
   ],
   "source": [
    "data_good"
   ]
  },
  {
   "cell_type": "code",
   "execution_count": 53,
   "metadata": {
    "scrolled": true
   },
   "outputs": [
    {
     "data": {
      "image/png": "[encoded data removed]",
      "text/plain": [
       "<Figure size 576x432 with 2 Axes>"
      ]
     },
     "metadata": {
      "needs_background": "light"
     },
     "output_type": "display_data"
    }
   ],
   "source": [
    "plt.figure(figsize=(8, 6))\n",
    "sns.heatmap(data_good.corr(), annot=True, vmin=-1, vmax=1, center= 0, cmap= 'Purples', fmt='.1g');"
   ]
  },
  {
   "cell_type": "markdown",
   "metadata": {},
   "source": [
    "На графике корреляции видно, что на цену авто сильное влияние оказывает только мощность двигателя."
   ]
  },
  {
   "cell_type": "markdown",
   "metadata": {},
   "source": [
    "Делим данные 1/4, на обучающую и тестовую, так как планируем использовать кросс-валидацию при обучении. Так же подготовим два набора обучающих выборок подготовленных прямым и порядковым кодированием:"
   ]
  },
  {
   "cell_type": "code",
   "execution_count": 54,
   "metadata": {},
   "outputs": [
    {
     "name": "stdout",
     "output_type": "stream",
     "text": [
      "(245316, 9) (81773, 9) (245316,) (81773,)\n"
     ]
    }
   ],
   "source": [
    "features_oe = data_good.drop(['Price'], axis=1)\n",
    "target_oe = data_good['Price']\n",
    "features_train_oe, features_test_oe, target_train_oe, target_test_oe = train_test_split(\n",
    "    features_oe, target_oe, test_size=0.25, random_state=121212)\n",
    "\n",
    "print(features_train_oe.shape, features_test_oe.shape, target_train_oe.shape, target_test_oe.shape)"
   ]
  },
  {
   "cell_type": "code",
   "execution_count": 55,
   "metadata": {},
   "outputs": [
    {
     "name": "stdout",
     "output_type": "stream",
     "text": [
      "(245316, 309) (81773, 309) (245316,) (81773,)\n"
     ]
    }
   ],
   "source": [
    "features_ohe = data_ohe.drop(['Price'], axis=1)\n",
    "target_ohe = data_ohe['Price']\n",
    "features_train_ohe, features_test_ohe, target_train_ohe, target_test_ohe = train_test_split(\n",
    "    features_ohe, target_ohe, test_size=0.25, random_state=121212)\n",
    "\n",
    "print(features_train_ohe.shape, features_test_ohe.shape, target_train_ohe.shape, target_test_ohe.shape)"
   ]
  },
  {
   "cell_type": "markdown",
   "metadata": {},
   "source": [
    "Приведем признаки к одному масштабу. Для этого будем использовать структуру для стандартизации данных StandardScaler."
   ]
  },
  {
   "cell_type": "code",
   "execution_count": 56,
   "metadata": {},
   "outputs": [],
   "source": [
    "scaler = StandardScaler()\n",
    "scaler.fit(features_train_oe)\n",
    "scaler_features_train_oe = scaler.transform(features_train_oe) # первый набор данных\n",
    "scaler_features_test_oe = scaler.transform(features_test_oe)\n"
   ]
  },
  {
   "cell_type": "code",
   "execution_count": 57,
   "metadata": {},
   "outputs": [],
   "source": [
    "scaler = StandardScaler()\n",
    "scaler.fit(features_train_ohe)\n",
    "scaler_features_train_ohe = scaler.transform(features_train_ohe) # второй набор данных\n",
    "scaler_features_test_ohe = scaler.transform(features_test_ohe)"
   ]
  },
  {
   "cell_type": "markdown",
   "metadata": {},
   "source": [
    "**Вывод:**\n",
    "- нам предоставлена выгрузка из базу объявлений о продаже автомобилей, она содержит 354369 наблюдений и 16 признаков (в т.ч. целевой признак - цена)\n",
    "- в данных содержаться пропуски в VehicleType (кузов), Gearbox (коробка передач), Model (модель автомобиля), FuelType (вид топлива), NotRepaired (ремонт)\n",
    "- имелись дубликаты, которые были удалены\n",
    "- были удалены признаки, которые не являются ценообразующими ('NumberOfPictures' - количество фото, 'LastSeen' - дата последней активности пользователя, 'DateCreated' - дата создания анкеты, 'RegistrationMonth' - месяц регистрации авто, 'DateCrawled' - дата скачивания анкеты из базы)\n",
    "- определены возрастные диапазоны автомобилей - не старше 1970 года выпуска\n",
    "- проведена работа по исправлению неточностей указания мощности автомобиля (меньше 40 и больше 1000 л/с), заменена часть нулевых значений на медиану по модели/бренду/коробке передач. Часть данных, не подлежащих восстановлению, была удалена. \n",
    "- восстановлены пропуски: модель авто, ремонт, коробка передач, вид топлива и тип кузова\n",
    "- проверен целевой признак: удалены автомобили дешевле 50 у.е.\n",
    "- удалено 7,7% первоначальных данных"
   ]
  },
  {
   "cell_type": "markdown",
   "metadata": {},
   "source": [
    "**Данные готовы для дальнейшей работы**\n",
    "- признаки закодированы и разделены на обучающие и тестовые выборки"
   ]
  },
  {
   "cell_type": "markdown",
   "metadata": {},
   "source": [
    "## Обучение моделей"
   ]
  },
  {
   "cell_type": "markdown",
   "metadata": {},
   "source": [
    "Мы планируем использовать следующие модели:\n",
    "- LinearRegression\n",
    "- RandomForestRegressor\n",
    "- CatBoostRegressor\n",
    "- LGBMRegressor\n",
    "- Ridge\n",
    "- ExtraTreesRegressor\n",
    "- LassoCV\n",
    "- ElasticNetCV"
   ]
  },
  {
   "cell_type": "markdown",
   "metadata": {},
   "source": [
    "Напишим функцию для расчета RMSE"
   ]
  },
  {
   "cell_type": "code",
   "execution_count": 61,
   "metadata": {},
   "outputs": [],
   "source": [
    "def ml(model, features, target):\n",
    "    scores  = cross_val_score(model, features, target, scoring=make_scorer(mean_squared_error, greater_is_better=False),\n",
    "                              cv=5,n_jobs=-1)\n",
    "    mse = np.mean(scores)\n",
    "    rmse = (mse*-1)**0.5\n",
    "    return rmse"
   ]
  },
  {
   "cell_type": "markdown",
   "metadata": {},
   "source": [
    "### Линейная регрессия"
   ]
  },
  {
   "cell_type": "markdown",
   "metadata": {},
   "source": [
    "Для выборки Ohe"
   ]
  },
  {
   "cell_type": "code",
   "execution_count": 63,
   "metadata": {
    "scrolled": true
   },
   "outputs": [
    {
     "name": "stdout",
     "output_type": "stream",
     "text": [
      "3352.540753051724\n",
      "CPU times: user 1min 12s, sys: 39.7 s, total: 1min 52s\n",
      "Wall time: 1min 53s\n"
     ]
    }
   ],
   "source": [
    "%%time\n",
    "model = LinearRegression()\n",
    "rmse = ml(model, scaler_features_train_ohe, target_train_ohe)\n",
    "print(rmse)"
   ]
  },
  {
   "cell_type": "markdown",
   "metadata": {},
   "source": [
    "Для выборки OrdinalEncoder"
   ]
  },
  {
   "cell_type": "code",
   "execution_count": 62,
   "metadata": {},
   "outputs": [
    {
     "name": "stdout",
     "output_type": "stream",
     "text": [
      "3120.1326494826744\n",
      "CPU times: user 487 ms, sys: 485 ms, total: 972 ms\n",
      "Wall time: 940 ms\n"
     ]
    }
   ],
   "source": [
    "%%time\n",
    "model = LinearRegression()\n",
    "rmse = ml(model, scaler_features_train_oe, target_train_oe)\n",
    "print(rmse)"
   ]
  },
  {
   "cell_type": "markdown",
   "metadata": {},
   "source": [
    "### Случайные лес"
   ]
  },
  {
   "cell_type": "markdown",
   "metadata": {},
   "source": [
    "Для выборки Ohe (без подборки гиперпараметров, чтобы оченить время работы)"
   ]
  },
  {
   "cell_type": "code",
   "execution_count": 67,
   "metadata": {},
   "outputs": [
    {
     "name": "stdout",
     "output_type": "stream",
     "text": [
      "1898.4397971495894\n",
      "CPU times: user 3min 40s, sys: 1.6 s, total: 3min 41s\n",
      "Wall time: 3min 43s\n"
     ]
    }
   ],
   "source": [
    "%%time\n",
    "model = RandomForestRegressor(random_state=0, n_estimators=10, max_depth=10)\n",
    "rmse = ml(model, scaler_features_train_ohe, target_train_ohe)\n",
    "print(rmse)"
   ]
  },
  {
   "cell_type": "markdown",
   "metadata": {},
   "source": [
    "Результаты хорошие, но время обработки данного файла очень большое. Подбирать гиперпараметры на данную модель на этой выборке мы не будем (3.5 минут на один цикл с небольшими параметрами)."
   ]
  },
  {
   "cell_type": "markdown",
   "metadata": {},
   "source": [
    "Для выборки OrdinalEncoder"
   ]
  },
  {
   "cell_type": "code",
   "execution_count": 68,
   "metadata": {},
   "outputs": [
    {
     "name": "stdout",
     "output_type": "stream",
     "text": [
      "1888.8992788472012\n",
      "CPU times: user 12.8 s, sys: 48 ms, total: 12.9 s\n",
      "Wall time: 12.9 s\n"
     ]
    }
   ],
   "source": [
    "%%time\n",
    "model = RandomForestRegressor(random_state=0, n_estimators=10, max_depth=10)\n",
    "rmse = ml(model, scaler_features_train_oe, target_train_oe)\n",
    "print(rmse)"
   ]
  },
  {
   "cell_type": "code",
   "execution_count": 61,
   "metadata": {},
   "outputs": [
    {
     "name": "stdout",
     "output_type": "stream",
     "text": [
      "Лучший результат rmse  1,666.92 у модели max_depth = 14,  n_estimators= 100\n",
      "CPU times: user 22min 24s, sys: 2.68 s, total: 22min 27s\n",
      "Wall time: 22min 28s\n"
     ]
    }
   ],
   "source": [
    "%%time\n",
    "best_result = 1000000 \n",
    "est_result = 0 \n",
    "depth_result = 0\n",
    "\n",
    "for est in [5, 50, 100]: \n",
    "    for depth in range(8, 15):\n",
    "        model = RandomForestRegressor(random_state=0, n_estimators=est, max_depth=depth)\n",
    "        rmse = ml(model, scaler_features_train_oe, target_train_oe)\n",
    "        \n",
    "        if best_result > rmse:\n",
    "            best_result = rmse\n",
    "            est_result = est\n",
    "            depth_result = depth\n",
    "            \n",
    "print(f'Лучший результат rmse {best_result: ,.2f} у модели max_depth = {depth_result},  n_estimators= {est_result}')"
   ]
  },
  {
   "cell_type": "markdown",
   "metadata": {},
   "source": [
    "### LGBMRegressor"
   ]
  },
  {
   "cell_type": "markdown",
   "metadata": {},
   "source": [
    "Для выборки Ohe "
   ]
  },
  {
   "cell_type": "code",
   "execution_count": 65,
   "metadata": {},
   "outputs": [
    {
     "name": "stdout",
     "output_type": "stream",
     "text": [
      "2659.4261441886583\n",
      "CPU times: user 45.9 s, sys: 3.05 s, total: 48.9 s\n",
      "Wall time: 49 s\n"
     ]
    }
   ],
   "source": [
    "%%time\n",
    "model = LGBMRegressor(random_state=0, n_estimators=25, max_depth=15, boosting_type='dart')\n",
    "rmse = ml(model, scaler_features_train_ohe, target_train_ohe)\n",
    "print(rmse)"
   ]
  },
  {
   "cell_type": "code",
   "execution_count": 68,
   "metadata": {},
   "outputs": [
    {
     "name": "stdout",
     "output_type": "stream",
     "text": [
      "Лучший  rmse  1,700.49\n",
      "у модели boosting_type = goss, max_depth = 25,  n_estimators= 100\n",
      "CPU times: user 2min 32s, sys: 5.58 s, total: 2min 38s\n",
      "Wall time: 2min 39s\n"
     ]
    }
   ],
   "source": [
    "%%time\n",
    "\n",
    "bo_ty_list = ['goss'] # были проверены ['gbdt', 'dart', 'goss']\n",
    "\n",
    "for value in bo_ty_list:\n",
    "    best_result = 1000000 \n",
    "    est_result = 0 \n",
    "    depth_result = 0\n",
    "    \n",
    "    for est in [50, 100]:\n",
    "        for depth in [25]:\n",
    "            model = LGBMRegressor(boosting_type = value, random_state=0, n_estimators=est, max_depth=depth)\n",
    "            rmse = ml(model, scaler_features_train_ohe, target_train_ohe)\n",
    "        \n",
    "            if best_result > rmse:\n",
    "                best_result = rmse\n",
    "                est_result = est\n",
    "                depth_result = depth\n",
    "    print(f'Лучший  rmse {best_result: ,.2f}')\n",
    "    print(f'у модели boosting_type = {value}, max_depth = {depth_result},  n_estimators= {est_result}')"
   ]
  },
  {
   "cell_type": "markdown",
   "metadata": {},
   "source": [
    "Для выборки OrdinalEncoder"
   ]
  },
  {
   "cell_type": "code",
   "execution_count": 69,
   "metadata": {},
   "outputs": [
    {
     "name": "stdout",
     "output_type": "stream",
     "text": [
      "2667.171858653596\n",
      "CPU times: user 11.2 s, sys: 31.9 ms, total: 11.2 s\n",
      "Wall time: 11.2 s\n"
     ]
    }
   ],
   "source": [
    "%%time\n",
    "model = LGBMRegressor(random_state=0, n_estimators=25, max_depth=15, boosting_type='dart')\n",
    "rmse = ml(model, scaler_features_train_oe, target_train_oe)\n",
    "print(rmse)"
   ]
  },
  {
   "cell_type": "code",
   "execution_count": 78,
   "metadata": {},
   "outputs": [
    {
     "name": "stdout",
     "output_type": "stream",
     "text": [
      "Лучший  rmse  1,680.83\n",
      "у модели boosting_type = goss, max_depth = 18,  n_estimators= 130\n",
      "CPU times: user 9min 48s, sys: 2.53 s, total: 9min 51s\n",
      "Wall time: 9min 56s\n"
     ]
    }
   ],
   "source": [
    "%%time\n",
    "\n",
    "bo_ty_list = ['goss'] # были проверены ['gbdt', 'dart', 'goss']\n",
    "\n",
    "for value in bo_ty_list:\n",
    "    \n",
    "    best_result = 1000000 \n",
    "    est_result = 0 \n",
    "    depth_result = 0\n",
    "    \n",
    "    for est in [100, 110, 120, 130]:\n",
    "        for depth in range(18, 21):\n",
    "            model = LGBMRegressor(boosting_type = value, random_state=0, n_estimators=est, max_depth=depth)\n",
    "            rmse = ml(model, scaler_features_train_oe, target_train_oe)\n",
    "        \n",
    "            if best_result > rmse:\n",
    "                best_result = rmse\n",
    "                est_result = est\n",
    "                depth_result = depth\n",
    "    print(f'Лучший  rmse {best_result: ,.2f}')\n",
    "    print(f'у модели boosting_type = {value}, max_depth = {depth_result},  n_estimators= {est_result}')"
   ]
  },
  {
   "cell_type": "markdown",
   "metadata": {},
   "source": [
    "### CatBoostRegressor"
   ]
  },
  {
   "cell_type": "markdown",
   "metadata": {},
   "source": [
    "Для выборки Ohe"
   ]
  },
  {
   "cell_type": "code",
   "execution_count": 79,
   "metadata": {
    "scrolled": true
   },
   "outputs": [
    {
     "name": "stdout",
     "output_type": "stream",
     "text": [
      "depth = 15\n",
      "Training on fold [0/2]\n",
      "0:\tlearn: 6325.2298354\ttest: 6346.1511597\tbest: 6346.1511597 (0)\ttotal: 738ms\tremaining: 1m 13s\n",
      "1:\tlearn: 6165.4521781\ttest: 6185.9319981\tbest: 6185.9319981 (1)\ttotal: 774ms\tremaining: 37.9s\n",
      "2:\tlearn: 6008.2007181\ttest: 6028.8361520\tbest: 6028.8361520 (2)\ttotal: 1.35s\tremaining: 43.8s\n",
      "3:\tlearn: 5858.4329294\ttest: 5879.4687545\tbest: 5879.4687545 (3)\ttotal: 1.98s\tremaining: 47.6s\n",
      "4:\tlearn: 5710.4431775\ttest: 5731.7317308\tbest: 5731.7317308 (4)\ttotal: 2.53s\tremaining: 48s\n",
      "5:\tlearn: 5568.3122297\ttest: 5589.6899763\tbest: 5589.6899763 (5)\ttotal: 3.06s\tremaining: 48s\n",
      "6:\tlearn: 5432.0436194\ttest: 5454.0880677\tbest: 5454.0880677 (6)\ttotal: 3.61s\tremaining: 48s\n",
      "7:\tlearn: 5300.7409728\ttest: 5323.2917283\tbest: 5323.2917283 (7)\ttotal: 4.18s\tremaining: 48.1s\n",
      "8:\tlearn: 5172.3607080\ttest: 5194.9097065\tbest: 5194.9097065 (8)\ttotal: 4.72s\tremaining: 47.7s\n",
      "9:\tlearn: 5048.0244676\ttest: 5071.0805558\tbest: 5071.0805558 (9)\ttotal: 5.26s\tremaining: 47.4s\n",
      "10:\tlearn: 4929.1747857\ttest: 4952.4489767\tbest: 4952.4489767 (10)\ttotal: 5.33s\tremaining: 43.1s\n",
      "11:\tlearn: 4813.7836627\ttest: 4837.6300670\tbest: 4837.6300670 (11)\ttotal: 5.86s\tremaining: 43s\n",
      "12:\tlearn: 4700.9003507\ttest: 4725.1128922\tbest: 4725.1128922 (12)\ttotal: 6.39s\tremaining: 42.8s\n",
      "13:\tlearn: 4591.5646497\ttest: 4616.2995023\tbest: 4616.2995023 (13)\ttotal: 6.92s\tremaining: 42.5s\n",
      "14:\tlearn: 4485.4961224\ttest: 4510.1921078\tbest: 4510.1921078 (14)\ttotal: 7.47s\tremaining: 42.3s\n",
      "15:\tlearn: 4382.5590247\ttest: 4407.7422770\tbest: 4407.7422770 (15)\ttotal: 8.02s\tremaining: 42.1s\n",
      "16:\tlearn: 4285.3283276\ttest: 4310.8305988\tbest: 4310.8305988 (16)\ttotal: 8.56s\tremaining: 41.8s\n",
      "17:\tlearn: 4191.2517743\ttest: 4217.3968421\tbest: 4217.3968421 (17)\ttotal: 9.1s\tremaining: 41.5s\n",
      "18:\tlearn: 4099.0027802\ttest: 4125.7168908\tbest: 4125.7168908 (18)\ttotal: 9.64s\tremaining: 41.1s\n",
      "19:\tlearn: 4011.6282851\ttest: 4038.8504576\tbest: 4038.8504576 (19)\ttotal: 10.2s\tremaining: 40.7s\n",
      "20:\tlearn: 3927.2079187\ttest: 3955.2296155\tbest: 3955.2296155 (20)\ttotal: 10.7s\tremaining: 40.3s\n",
      "21:\tlearn: 3843.8312436\ttest: 3872.2677220\tbest: 3872.2677220 (21)\ttotal: 11.3s\tremaining: 39.9s\n",
      "22:\tlearn: 3762.0519533\ttest: 3790.8120949\tbest: 3790.8120949 (22)\ttotal: 11.9s\tremaining: 39.8s\n",
      "23:\tlearn: 3685.2851575\ttest: 3714.6792238\tbest: 3714.6792238 (23)\ttotal: 12.4s\tremaining: 39.3s\n",
      "24:\tlearn: 3608.7121918\ttest: 3638.4466598\tbest: 3638.4466598 (24)\ttotal: 13s\tremaining: 38.9s\n",
      "25:\tlearn: 3535.7035418\ttest: 3565.7229046\tbest: 3565.7229046 (25)\ttotal: 13.5s\tremaining: 38.4s\n",
      "26:\tlearn: 3466.6085371\ttest: 3497.2648167\tbest: 3497.2648167 (26)\ttotal: 14s\tremaining: 38s\n",
      "27:\tlearn: 3398.8592121\ttest: 3429.7523408\tbest: 3429.7523408 (27)\ttotal: 14.6s\tremaining: 37.5s\n",
      "28:\tlearn: 3334.5823860\ttest: 3365.8917345\tbest: 3365.8917345 (28)\ttotal: 15.1s\tremaining: 37s\n",
      "29:\tlearn: 3272.3733448\ttest: 3303.8815693\tbest: 3303.8815693 (29)\ttotal: 15.7s\tremaining: 36.6s\n",
      "30:\tlearn: 3212.2938778\ttest: 3243.9092732\tbest: 3243.9092732 (30)\ttotal: 16.2s\tremaining: 36s\n",
      "31:\tlearn: 3154.8464282\ttest: 3186.8400585\tbest: 3186.8400585 (31)\ttotal: 16.7s\tremaining: 35.6s\n",
      "32:\tlearn: 3099.0205092\ttest: 3131.1220710\tbest: 3131.1220710 (32)\ttotal: 17.3s\tremaining: 35.1s\n",
      "33:\tlearn: 3044.5909554\ttest: 3077.4027449\tbest: 3077.4027449 (33)\ttotal: 17.8s\tremaining: 34.6s\n",
      "34:\tlearn: 2992.5061976\ttest: 3025.7019446\tbest: 3025.7019446 (34)\ttotal: 18.4s\tremaining: 34.2s\n",
      "35:\tlearn: 2941.9468162\ttest: 2975.4224440\tbest: 2975.4224440 (35)\ttotal: 18.9s\tremaining: 33.7s\n",
      "36:\tlearn: 2893.4645379\ttest: 2927.4894241\tbest: 2927.4894241 (36)\ttotal: 19.5s\tremaining: 33.2s\n",
      "37:\tlearn: 2846.4504020\ttest: 2881.2507281\tbest: 2881.2507281 (37)\ttotal: 20s\tremaining: 32.7s\n",
      "38:\tlearn: 2801.6917585\ttest: 2837.0093762\tbest: 2837.0093762 (38)\ttotal: 20.6s\tremaining: 32.2s\n",
      "39:\tlearn: 2758.8952115\ttest: 2794.7698233\tbest: 2794.7698233 (39)\ttotal: 21.1s\tremaining: 31.7s\n",
      "40:\tlearn: 2716.8609743\ttest: 2753.0794169\tbest: 2753.0794169 (40)\ttotal: 21.7s\tremaining: 31.3s\n",
      "41:\tlearn: 2677.2667708\ttest: 2714.0716985\tbest: 2714.0716985 (41)\ttotal: 22.3s\tremaining: 30.8s\n",
      "42:\tlearn: 2637.1750556\ttest: 2674.4476635\tbest: 2674.4476635 (42)\ttotal: 22.9s\tremaining: 30.3s\n",
      "43:\tlearn: 2600.5489826\ttest: 2638.4406724\tbest: 2638.4406724 (43)\ttotal: 23.4s\tremaining: 29.8s\n",
      "44:\tlearn: 2562.9211417\ttest: 2601.4766471\tbest: 2601.4766471 (44)\ttotal: 24s\tremaining: 29.3s\n",
      "45:\tlearn: 2528.7744028\ttest: 2567.5712816\tbest: 2567.5712816 (45)\ttotal: 24.5s\tremaining: 28.8s\n",
      "46:\tlearn: 2495.3651887\ttest: 2534.4502158\tbest: 2534.4502158 (46)\ttotal: 25.1s\tremaining: 28.3s\n",
      "47:\tlearn: 2462.9722074\ttest: 2502.5319243\tbest: 2502.5319243 (47)\ttotal: 25.6s\tremaining: 27.8s\n",
      "48:\tlearn: 2432.3763484\ttest: 2472.2556207\tbest: 2472.2556207 (48)\ttotal: 26.2s\tremaining: 27.2s\n",
      "49:\tlearn: 2403.2681383\ttest: 2443.4079509\tbest: 2443.4079509 (49)\ttotal: 26.7s\tremaining: 26.7s\n",
      "50:\tlearn: 2373.9796574\ttest: 2414.5103770\tbest: 2414.5103770 (50)\ttotal: 27.3s\tremaining: 26.2s\n",
      "51:\tlearn: 2345.3986536\ttest: 2386.3228577\tbest: 2386.3228577 (51)\ttotal: 27.8s\tremaining: 25.7s\n",
      "52:\tlearn: 2320.1324726\ttest: 2361.4799827\tbest: 2361.4799827 (52)\ttotal: 28.4s\tremaining: 25.2s\n",
      "53:\tlearn: 2295.8204340\ttest: 2337.5120815\tbest: 2337.5120815 (53)\ttotal: 28.9s\tremaining: 24.7s\n",
      "54:\tlearn: 2272.1374738\ttest: 2314.3634195\tbest: 2314.3634195 (54)\ttotal: 29.5s\tremaining: 24.1s\n",
      "55:\tlearn: 2249.6348504\ttest: 2292.2296205\tbest: 2292.2296205 (55)\ttotal: 30s\tremaining: 23.6s\n",
      "56:\tlearn: 2228.4167682\ttest: 2271.2128349\tbest: 2271.2128349 (56)\ttotal: 30.6s\tremaining: 23.1s\n",
      "57:\tlearn: 2206.9660685\ttest: 2250.2453746\tbest: 2250.2453746 (57)\ttotal: 31.1s\tremaining: 22.5s\n",
      "58:\tlearn: 2185.5645938\ttest: 2229.3247373\tbest: 2229.3247373 (58)\ttotal: 31.7s\tremaining: 22.1s\n",
      "59:\tlearn: 2166.7706774\ttest: 2210.9279206\tbest: 2210.9279206 (59)\ttotal: 32.3s\tremaining: 21.5s\n",
      "60:\tlearn: 2148.3236581\ttest: 2192.9473987\tbest: 2192.9473987 (60)\ttotal: 32.9s\tremaining: 21s\n",
      "61:\tlearn: 2129.3909665\ttest: 2174.3826766\tbest: 2174.3826766 (61)\ttotal: 33.4s\tremaining: 20.5s\n",
      "62:\tlearn: 2111.6362743\ttest: 2156.9248689\tbest: 2156.9248689 (62)\ttotal: 34.1s\tremaining: 20s\n",
      "63:\tlearn: 2093.5258206\ttest: 2139.1176605\tbest: 2139.1176605 (63)\ttotal: 34.7s\tremaining: 19.5s\n",
      "64:\tlearn: 2076.2123651\ttest: 2122.1244476\tbest: 2122.1244476 (64)\ttotal: 35.2s\tremaining: 19s\n",
      "65:\tlearn: 2061.0461274\ttest: 2107.1288199\tbest: 2107.1288199 (65)\ttotal: 35.8s\tremaining: 18.4s\n",
      "66:\tlearn: 2046.5682718\ttest: 2092.9954681\tbest: 2092.9954681 (66)\ttotal: 36.3s\tremaining: 17.9s\n",
      "67:\tlearn: 2032.7557646\ttest: 2079.4822767\tbest: 2079.4822767 (67)\ttotal: 36.9s\tremaining: 17.3s\n",
      "68:\tlearn: 2019.5923032\ttest: 2066.6952777\tbest: 2066.6952777 (68)\ttotal: 37.4s\tremaining: 16.8s\n",
      "69:\tlearn: 2007.4750288\ttest: 2055.0340106\tbest: 2055.0340106 (69)\ttotal: 38s\tremaining: 16.3s\n",
      "70:\tlearn: 1994.6159910\ttest: 2042.6313209\tbest: 2042.6313209 (70)\ttotal: 38.6s\tremaining: 15.8s\n",
      "71:\tlearn: 1983.1673615\ttest: 2031.5904780\tbest: 2031.5904780 (71)\ttotal: 39.1s\tremaining: 15.2s\n",
      "72:\tlearn: 1971.3737028\ttest: 2019.9987278\tbest: 2019.9987278 (72)\ttotal: 39.7s\tremaining: 14.7s\n",
      "73:\tlearn: 1959.7587563\ttest: 2008.8677991\tbest: 2008.8677991 (73)\ttotal: 40.2s\tremaining: 14.1s\n",
      "74:\tlearn: 1948.0713696\ttest: 1997.3952921\tbest: 1997.3952921 (74)\ttotal: 40.8s\tremaining: 13.6s\n",
      "75:\tlearn: 1938.0827270\ttest: 1987.8205267\tbest: 1987.8205267 (75)\ttotal: 41.3s\tremaining: 13.1s\n",
      "76:\tlearn: 1928.3263645\ttest: 1978.4019889\tbest: 1978.4019889 (76)\ttotal: 42s\tremaining: 12.5s\n",
      "77:\tlearn: 1918.8526779\ttest: 1969.0741609\tbest: 1969.0741609 (77)\ttotal: 42.6s\tremaining: 12s\n",
      "78:\tlearn: 1910.2836602\ttest: 1960.9235031\tbest: 1960.9235031 (78)\ttotal: 43.2s\tremaining: 11.5s\n",
      "79:\tlearn: 1900.4679992\ttest: 1951.4687460\tbest: 1951.4687460 (79)\ttotal: 43.7s\tremaining: 10.9s\n",
      "80:\tlearn: 1891.9954392\ttest: 1943.4178671\tbest: 1943.4178671 (80)\ttotal: 44.3s\tremaining: 10.4s\n",
      "81:\tlearn: 1883.6101245\ttest: 1935.3940837\tbest: 1935.3940837 (81)\ttotal: 44.9s\tremaining: 9.85s\n",
      "82:\tlearn: 1875.8672269\ttest: 1927.8440327\tbest: 1927.8440327 (82)\ttotal: 45.4s\tremaining: 9.3s\n",
      "83:\tlearn: 1868.4479493\ttest: 1920.8432596\tbest: 1920.8432596 (83)\ttotal: 46s\tremaining: 8.76s\n",
      "84:\tlearn: 1860.8748392\ttest: 1913.4861106\tbest: 1913.4861106 (84)\ttotal: 46.6s\tremaining: 8.22s\n",
      "85:\tlearn: 1854.4963803\ttest: 1907.3373299\tbest: 1907.3373299 (85)\ttotal: 47.1s\tremaining: 7.67s\n",
      "86:\tlearn: 1848.0267321\ttest: 1901.1147645\tbest: 1901.1147645 (86)\ttotal: 47.7s\tremaining: 7.13s\n",
      "87:\tlearn: 1842.0593465\ttest: 1895.4893291\tbest: 1895.4893291 (87)\ttotal: 48.3s\tremaining: 6.58s\n",
      "88:\tlearn: 1835.1173753\ttest: 1888.9467292\tbest: 1888.9467292 (88)\ttotal: 48.8s\tremaining: 6.04s\n",
      "89:\tlearn: 1829.4998629\ttest: 1883.7389383\tbest: 1883.7389383 (89)\ttotal: 49.4s\tremaining: 5.49s\n",
      "90:\tlearn: 1824.1222034\ttest: 1878.4061712\tbest: 1878.4061712 (90)\ttotal: 50s\tremaining: 4.94s\n",
      "91:\tlearn: 1818.6959660\ttest: 1873.2025385\tbest: 1873.2025385 (91)\ttotal: 50.5s\tremaining: 4.39s\n",
      "92:\tlearn: 1812.8338709\ttest: 1867.8894082\tbest: 1867.8894082 (92)\ttotal: 51.1s\tremaining: 3.85s\n",
      "93:\tlearn: 1807.8942981\ttest: 1863.2761748\tbest: 1863.2761748 (93)\ttotal: 51.7s\tremaining: 3.3s\n",
      "94:\tlearn: 1802.8164978\ttest: 1858.7373870\tbest: 1858.7373870 (94)\ttotal: 52.2s\tremaining: 2.75s\n",
      "95:\tlearn: 1797.3194807\ttest: 1853.7222212\tbest: 1853.7222212 (95)\ttotal: 52.8s\tremaining: 2.2s\n",
      "96:\tlearn: 1791.9303007\ttest: 1849.0038770\tbest: 1849.0038770 (96)\ttotal: 53.4s\tremaining: 1.65s\n",
      "97:\tlearn: 1787.4990316\ttest: 1844.7012195\tbest: 1844.7012195 (97)\ttotal: 54s\tremaining: 1.1s\n",
      "98:\tlearn: 1782.9565430\ttest: 1840.4340728\tbest: 1840.4340728 (98)\ttotal: 54.5s\tremaining: 551ms\n",
      "99:\tlearn: 1779.1225530\ttest: 1836.7861059\tbest: 1836.7861059 (99)\ttotal: 55.1s\tremaining: 0us\n",
      "\n",
      "bestTest = 1836.786106\n",
      "bestIteration = 99\n",
      "\n",
      "Training on fold [1/2]\n",
      "0:\tlearn: 6344.8867840\ttest: 6325.1200391\tbest: 6325.1200391 (0)\ttotal: 601ms\tremaining: 59.5s\n",
      "1:\tlearn: 6183.5669908\ttest: 6164.3000990\tbest: 6164.3000990 (1)\ttotal: 1.15s\tremaining: 56.3s\n",
      "2:\tlearn: 6026.6592184\ttest: 6007.9486022\tbest: 6007.9486022 (2)\ttotal: 1.7s\tremaining: 55s\n",
      "3:\tlearn: 5874.7258952\ttest: 5856.6557475\tbest: 5856.6557475 (3)\ttotal: 2.25s\tremaining: 54.1s\n",
      "4:\tlearn: 5727.4962250\ttest: 5709.8861069\tbest: 5709.8861069 (4)\ttotal: 2.8s\tremaining: 53.3s\n",
      "5:\tlearn: 5583.5904949\ttest: 5566.2245592\tbest: 5566.2245592 (5)\ttotal: 3.07s\tremaining: 48.1s\n",
      "6:\tlearn: 5444.1927779\ttest: 5427.1358273\tbest: 5427.1358273 (6)\ttotal: 3.61s\tremaining: 48s\n",
      "7:\tlearn: 5311.6872790\ttest: 5295.0211294\tbest: 5295.0211294 (7)\ttotal: 4.15s\tremaining: 47.8s\n",
      "8:\tlearn: 5184.4989618\ttest: 5168.1734851\tbest: 5168.1734851 (8)\ttotal: 4.75s\tremaining: 48.1s\n",
      "9:\tlearn: 5060.6654142\ttest: 5044.8287600\tbest: 5044.8287600 (9)\ttotal: 5.32s\tremaining: 47.8s\n",
      "10:\tlearn: 4940.6508054\ttest: 4925.0749190\tbest: 4925.0749190 (10)\ttotal: 5.87s\tremaining: 47.5s\n",
      "11:\tlearn: 4825.1641833\ttest: 4809.8127825\tbest: 4809.8127825 (11)\ttotal: 5.97s\tremaining: 43.8s\n",
      "12:\tlearn: 4712.8052439\ttest: 4698.1444040\tbest: 4698.1444040 (12)\ttotal: 6.54s\tremaining: 43.8s\n",
      "13:\tlearn: 4603.7245525\ttest: 4589.6185068\tbest: 4589.6185068 (13)\ttotal: 7.09s\tremaining: 43.6s\n",
      "14:\tlearn: 4496.6435669\ttest: 4483.1068016\tbest: 4483.1068016 (14)\ttotal: 7.65s\tremaining: 43.3s\n",
      "15:\tlearn: 4395.6121326\ttest: 4383.0938745\tbest: 4383.0938745 (15)\ttotal: 8.19s\tremaining: 43s\n",
      "16:\tlearn: 4296.8513211\ttest: 4284.8611540\tbest: 4284.8611540 (16)\ttotal: 8.74s\tremaining: 42.7s\n",
      "17:\tlearn: 4200.8955560\ttest: 4189.3605773\tbest: 4189.3605773 (17)\ttotal: 9.28s\tremaining: 42.3s\n",
      "18:\tlearn: 4107.8040448\ttest: 4097.0454733\tbest: 4097.0454733 (18)\ttotal: 9.84s\tremaining: 42s\n",
      "19:\tlearn: 4019.1688936\ttest: 4008.6626636\tbest: 4008.6626636 (19)\ttotal: 10.4s\tremaining: 41.6s\n",
      "20:\tlearn: 3934.0138961\ttest: 3924.1052914\tbest: 3924.1052914 (20)\ttotal: 11s\tremaining: 41.2s\n",
      "21:\tlearn: 3851.1673677\ttest: 3841.8161171\tbest: 3841.8161171 (21)\ttotal: 11.5s\tremaining: 40.8s\n",
      "22:\tlearn: 3772.3009173\ttest: 3764.1035172\tbest: 3764.1035172 (22)\ttotal: 12s\tremaining: 40.3s\n",
      "23:\tlearn: 3693.8096215\ttest: 3686.1565027\tbest: 3686.1565027 (23)\ttotal: 12.6s\tremaining: 40s\n",
      "24:\tlearn: 3619.2940181\ttest: 3612.3205245\tbest: 3612.3205245 (24)\ttotal: 13.3s\tremaining: 39.9s\n",
      "25:\tlearn: 3546.7544509\ttest: 3540.4511809\tbest: 3540.4511809 (25)\ttotal: 13.8s\tremaining: 39.4s\n",
      "26:\tlearn: 3476.3401926\ttest: 3470.5501722\tbest: 3470.5501722 (26)\ttotal: 14.4s\tremaining: 38.9s\n",
      "27:\tlearn: 3408.3462582\ttest: 3403.1796552\tbest: 3403.1796552 (27)\ttotal: 15s\tremaining: 38.5s\n",
      "28:\tlearn: 3342.2024400\ttest: 3337.4020953\tbest: 3337.4020953 (28)\ttotal: 15.5s\tremaining: 38s\n",
      "29:\tlearn: 3279.5946264\ttest: 3275.4307442\tbest: 3275.4307442 (29)\ttotal: 16.1s\tremaining: 37.5s\n",
      "30:\tlearn: 3219.1911349\ttest: 3215.7923426\tbest: 3215.7923426 (30)\ttotal: 16.6s\tremaining: 36.9s\n",
      "31:\tlearn: 3159.5293572\ttest: 3156.7613118\tbest: 3156.7613118 (31)\ttotal: 17.1s\tremaining: 36.4s\n",
      "32:\tlearn: 3103.2127793\ttest: 3100.9993823\tbest: 3100.9993823 (32)\ttotal: 17.7s\tremaining: 35.9s\n",
      "33:\tlearn: 3050.6357388\ttest: 3049.4335962\tbest: 3049.4335962 (33)\ttotal: 18.2s\tremaining: 35.3s\n",
      "34:\tlearn: 2998.8146809\ttest: 2998.5800235\tbest: 2998.5800235 (34)\ttotal: 18.7s\tremaining: 34.8s\n",
      "35:\tlearn: 2949.4537568\ttest: 2949.8236998\tbest: 2949.8236998 (35)\ttotal: 19.3s\tremaining: 34.3s\n",
      "36:\tlearn: 2900.8558074\ttest: 2902.0018089\tbest: 2902.0018089 (36)\ttotal: 19.8s\tremaining: 33.8s\n",
      "37:\tlearn: 2852.2257657\ttest: 2854.0341672\tbest: 2854.0341672 (37)\ttotal: 20.4s\tremaining: 33.3s\n",
      "38:\tlearn: 2807.9962542\ttest: 2810.3707807\tbest: 2810.3707807 (38)\ttotal: 20.9s\tremaining: 32.7s\n",
      "39:\tlearn: 2765.1770708\ttest: 2768.5190233\tbest: 2768.5190233 (39)\ttotal: 21.5s\tremaining: 32.2s\n",
      "40:\tlearn: 2723.6309756\ttest: 2727.7537954\tbest: 2727.7537954 (40)\ttotal: 22s\tremaining: 31.6s\n",
      "41:\tlearn: 2683.1776032\ttest: 2688.0809267\tbest: 2688.0809267 (41)\ttotal: 22.5s\tremaining: 31.1s\n",
      "42:\tlearn: 2645.2779787\ttest: 2651.2785442\tbest: 2651.2785442 (42)\ttotal: 23.1s\tremaining: 30.6s\n",
      "43:\tlearn: 2608.2288987\ttest: 2614.9463499\tbest: 2614.9463499 (43)\ttotal: 23.6s\tremaining: 30s\n",
      "44:\tlearn: 2573.3710049\ttest: 2580.7845191\tbest: 2580.7845191 (44)\ttotal: 24.1s\tremaining: 29.5s\n",
      "45:\tlearn: 2539.5639651\ttest: 2547.8003059\tbest: 2547.8003059 (45)\ttotal: 24.7s\tremaining: 29s\n",
      "46:\tlearn: 2505.4128669\ttest: 2514.2870397\tbest: 2514.2870397 (46)\ttotal: 25.2s\tremaining: 28.5s\n",
      "47:\tlearn: 2472.3194052\ttest: 2481.7809523\tbest: 2481.7809523 (47)\ttotal: 25.8s\tremaining: 27.9s\n",
      "48:\tlearn: 2442.6693601\ttest: 2452.6503879\tbest: 2452.6503879 (48)\ttotal: 26.3s\tremaining: 27.4s\n",
      "49:\tlearn: 2411.4714792\ttest: 2422.1295469\tbest: 2422.1295469 (49)\ttotal: 26.9s\tremaining: 26.9s\n",
      "50:\tlearn: 2382.0541223\ttest: 2393.3750789\tbest: 2393.3750789 (50)\ttotal: 27.4s\tremaining: 26.4s\n",
      "51:\tlearn: 2353.9100911\ttest: 2366.0945538\tbest: 2366.0945538 (51)\ttotal: 28s\tremaining: 25.8s\n",
      "52:\tlearn: 2328.2476618\ttest: 2341.2227707\tbest: 2341.2227707 (52)\ttotal: 28.5s\tremaining: 25.3s\n",
      "53:\tlearn: 2303.4326066\ttest: 2317.2150916\tbest: 2317.2150916 (53)\ttotal: 29.1s\tremaining: 24.8s\n",
      "54:\tlearn: 2278.8579238\ttest: 2293.1839136\tbest: 2293.1839136 (54)\ttotal: 29.6s\tremaining: 24.2s\n",
      "55:\tlearn: 2255.5951530\ttest: 2270.5748924\tbest: 2270.5748924 (55)\ttotal: 30.1s\tremaining: 23.7s\n",
      "56:\tlearn: 2233.8245320\ttest: 2249.4504207\tbest: 2249.4504207 (56)\ttotal: 30.7s\tremaining: 23.1s\n",
      "57:\tlearn: 2211.8788427\ttest: 2228.0271782\tbest: 2228.0271782 (57)\ttotal: 31.2s\tremaining: 22.6s\n",
      "58:\tlearn: 2190.7031887\ttest: 2207.7767758\tbest: 2207.7767758 (58)\ttotal: 31.8s\tremaining: 22.1s\n",
      "59:\tlearn: 2170.4228117\ttest: 2188.0749798\tbest: 2188.0749798 (59)\ttotal: 32.3s\tremaining: 21.5s\n",
      "60:\tlearn: 2150.8347902\ttest: 2169.5529646\tbest: 2169.5529646 (60)\ttotal: 32.8s\tremaining: 21s\n",
      "61:\tlearn: 2131.9871966\ttest: 2151.3495710\tbest: 2151.3495710 (61)\ttotal: 33.4s\tremaining: 20.4s\n",
      "62:\tlearn: 2113.8223838\ttest: 2133.8779171\tbest: 2133.8779171 (62)\ttotal: 33.9s\tremaining: 19.9s\n",
      "63:\tlearn: 2097.8485268\ttest: 2118.7227304\tbest: 2118.7227304 (63)\ttotal: 34.4s\tremaining: 19.4s\n",
      "64:\tlearn: 2081.8636641\ttest: 2103.7247808\tbest: 2103.7247808 (64)\ttotal: 35s\tremaining: 18.9s\n",
      "65:\tlearn: 2065.5744540\ttest: 2087.9528345\tbest: 2087.9528345 (65)\ttotal: 35.6s\tremaining: 18.3s\n",
      "66:\tlearn: 2050.5492778\ttest: 2073.7260276\tbest: 2073.7260276 (66)\ttotal: 36.2s\tremaining: 17.8s\n",
      "67:\tlearn: 2036.9262016\ttest: 2060.9288815\tbest: 2060.9288815 (67)\ttotal: 36.8s\tremaining: 17.3s\n",
      "68:\tlearn: 2024.3867675\ttest: 2049.1349918\tbest: 2049.1349918 (68)\ttotal: 37.4s\tremaining: 16.8s\n",
      "69:\tlearn: 2011.7868301\ttest: 2037.0543285\tbest: 2037.0543285 (69)\ttotal: 38s\tremaining: 16.3s\n",
      "70:\tlearn: 1999.1947652\ttest: 2025.3355399\tbest: 2025.3355399 (70)\ttotal: 38.6s\tremaining: 15.8s\n",
      "71:\tlearn: 1987.6745592\ttest: 2014.4655657\tbest: 2014.4655657 (71)\ttotal: 39.2s\tremaining: 15.3s\n",
      "72:\tlearn: 1974.9173567\ttest: 2002.1751868\tbest: 2002.1751868 (72)\ttotal: 39.8s\tremaining: 14.7s\n",
      "73:\tlearn: 1962.6022371\ttest: 1990.2954746\tbest: 1990.2954746 (73)\ttotal: 40.4s\tremaining: 14.2s\n",
      "74:\tlearn: 1951.7896105\ttest: 1980.3151922\tbest: 1980.3151922 (74)\ttotal: 41s\tremaining: 13.7s\n",
      "75:\tlearn: 1942.0353830\ttest: 1971.2952285\tbest: 1971.2952285 (75)\ttotal: 41.5s\tremaining: 13.1s\n",
      "76:\tlearn: 1931.3411882\ttest: 1961.1402689\tbest: 1961.1402689 (76)\ttotal: 42.1s\tremaining: 12.6s\n",
      "77:\tlearn: 1921.8116230\ttest: 1952.4191919\tbest: 1952.4191919 (77)\ttotal: 42.6s\tremaining: 12s\n",
      "78:\tlearn: 1912.2235669\ttest: 1943.6662273\tbest: 1943.6662273 (78)\ttotal: 43.2s\tremaining: 11.5s\n",
      "79:\tlearn: 1903.0589281\ttest: 1935.0609782\tbest: 1935.0609782 (79)\ttotal: 43.7s\tremaining: 10.9s\n",
      "80:\tlearn: 1894.4854680\ttest: 1927.1112309\tbest: 1927.1112309 (80)\ttotal: 44.2s\tremaining: 10.4s\n",
      "81:\tlearn: 1886.3573685\ttest: 1919.6367830\tbest: 1919.6367830 (81)\ttotal: 44.8s\tremaining: 9.83s\n",
      "82:\tlearn: 1878.8970608\ttest: 1912.8729566\tbest: 1912.8729566 (82)\ttotal: 45.3s\tremaining: 9.28s\n",
      "83:\tlearn: 1870.4263303\ttest: 1905.3504347\tbest: 1905.3504347 (83)\ttotal: 45.9s\tremaining: 8.73s\n",
      "84:\tlearn: 1863.6061940\ttest: 1899.2000277\tbest: 1899.2000277 (84)\ttotal: 46.4s\tremaining: 8.19s\n",
      "85:\tlearn: 1856.1121373\ttest: 1892.1751764\tbest: 1892.1751764 (85)\ttotal: 46.9s\tremaining: 7.64s\n",
      "86:\tlearn: 1849.3933041\ttest: 1886.1880461\tbest: 1886.1880461 (86)\ttotal: 47.5s\tremaining: 7.1s\n",
      "87:\tlearn: 1843.1819324\ttest: 1880.7159505\tbest: 1880.7159505 (87)\ttotal: 48.1s\tremaining: 6.55s\n",
      "88:\tlearn: 1837.2173457\ttest: 1875.1363904\tbest: 1875.1363904 (88)\ttotal: 48.6s\tremaining: 6.01s\n",
      "89:\tlearn: 1831.5731401\ttest: 1870.0651892\tbest: 1870.0651892 (89)\ttotal: 49.1s\tremaining: 5.46s\n",
      "90:\tlearn: 1825.7575202\ttest: 1864.9836988\tbest: 1864.9836988 (90)\ttotal: 49.7s\tremaining: 4.91s\n",
      "91:\tlearn: 1819.7059843\ttest: 1859.5444056\tbest: 1859.5444056 (91)\ttotal: 50.2s\tremaining: 4.36s\n",
      "92:\tlearn: 1814.1809455\ttest: 1854.4123630\tbest: 1854.4123630 (92)\ttotal: 50.8s\tremaining: 3.82s\n",
      "93:\tlearn: 1809.2350999\ttest: 1849.9575078\tbest: 1849.9575078 (93)\ttotal: 51.3s\tremaining: 3.27s\n",
      "94:\tlearn: 1804.2164888\ttest: 1845.3821893\tbest: 1845.3821893 (94)\ttotal: 51.8s\tremaining: 2.73s\n",
      "95:\tlearn: 1799.1408194\ttest: 1841.0610797\tbest: 1841.0610797 (95)\ttotal: 52.4s\tremaining: 2.18s\n",
      "96:\tlearn: 1793.9796928\ttest: 1836.4407175\tbest: 1836.4407175 (96)\ttotal: 52.9s\tremaining: 1.64s\n",
      "97:\tlearn: 1789.8274032\ttest: 1832.6731186\tbest: 1832.6731186 (97)\ttotal: 53.4s\tremaining: 1.09s\n",
      "98:\tlearn: 1785.0146584\ttest: 1828.5325575\tbest: 1828.5325575 (98)\ttotal: 53.9s\tremaining: 545ms\n",
      "99:\tlearn: 1781.1140571\ttest: 1825.1135619\tbest: 1825.1135619 (99)\ttotal: 54.5s\tremaining: 0us\n",
      "\n",
      "bestTest = 1825.113562\n",
      "bestIteration = 99\n",
      "\n",
      "depth = 16\n",
      "Training on fold [0/2]\n",
      "0:\tlearn: 6325.4000035\ttest: 6346.4071761\tbest: 6346.4071761 (0)\ttotal: 1.11s\tremaining: 1m 50s\n",
      "1:\tlearn: 6164.5944540\ttest: 6186.1300013\tbest: 6186.1300013 (1)\ttotal: 2.21s\tremaining: 1m 48s\n",
      "2:\tlearn: 6005.8623373\ttest: 6027.3598700\tbest: 6027.3598700 (2)\ttotal: 3.26s\tremaining: 1m 45s\n",
      "3:\tlearn: 5854.2749708\ttest: 5876.3146744\tbest: 5876.3146744 (3)\ttotal: 4.34s\tremaining: 1m 44s\n",
      "4:\tlearn: 5708.2333762\ttest: 5730.3623104\tbest: 5730.3623104 (4)\ttotal: 5.42s\tremaining: 1m 42s\n",
      "5:\tlearn: 5566.7981073\ttest: 5589.2759969\tbest: 5589.2759969 (5)\ttotal: 6.49s\tremaining: 1m 41s\n",
      "6:\tlearn: 5430.3978424\ttest: 5453.1556119\tbest: 5453.1556119 (6)\ttotal: 6.75s\tremaining: 1m 29s\n",
      "7:\tlearn: 5297.4819229\ttest: 5320.6319311\tbest: 5320.6319311 (7)\ttotal: 7.82s\tremaining: 1m 29s\n",
      "8:\tlearn: 5169.8376944\ttest: 5193.3351371\tbest: 5193.3351371 (8)\ttotal: 8.9s\tremaining: 1m 30s\n",
      "9:\tlearn: 5044.3672174\ttest: 5068.3065860\tbest: 5068.3065860 (9)\ttotal: 9.99s\tremaining: 1m 29s\n",
      "10:\tlearn: 4923.8077782\ttest: 4947.8425561\tbest: 4947.8425561 (10)\ttotal: 11.1s\tremaining: 1m 29s\n",
      "11:\tlearn: 4807.5535595\ttest: 4831.9307779\tbest: 4831.9307779 (11)\ttotal: 12.3s\tremaining: 1m 30s\n",
      "12:\tlearn: 4699.8088047\ttest: 4724.3349251\tbest: 4724.3349251 (12)\ttotal: 12.3s\tremaining: 1m 22s\n",
      "13:\tlearn: 4589.0057208\ttest: 4613.3778775\tbest: 4613.3778775 (13)\ttotal: 13.5s\tremaining: 1m 22s\n",
      "14:\tlearn: 4484.3492587\ttest: 4509.1216756\tbest: 4509.1216756 (14)\ttotal: 14.6s\tremaining: 1m 22s\n",
      "15:\tlearn: 4382.6950412\ttest: 4408.0281525\tbest: 4408.0281525 (15)\ttotal: 15.6s\tremaining: 1m 22s\n",
      "16:\tlearn: 4285.3327038\ttest: 4310.7860414\tbest: 4310.7860414 (16)\ttotal: 15.7s\tremaining: 1m 16s\n",
      "17:\tlearn: 4190.4822231\ttest: 4216.3938624\tbest: 4216.3938624 (17)\ttotal: 16.7s\tremaining: 1m 16s\n",
      "18:\tlearn: 4097.6903585\ttest: 4123.8877062\tbest: 4123.8877062 (18)\ttotal: 17.8s\tremaining: 1m 15s\n",
      "19:\tlearn: 4007.8249794\ttest: 4034.1063578\tbest: 4034.1063578 (19)\ttotal: 18.9s\tremaining: 1m 15s\n",
      "20:\tlearn: 3922.0431981\ttest: 3948.7499882\tbest: 3948.7499882 (20)\ttotal: 19.9s\tremaining: 1m 14s\n",
      "21:\tlearn: 3839.6043725\ttest: 3867.1042473\tbest: 3867.1042473 (21)\ttotal: 21s\tremaining: 1m 14s\n",
      "22:\tlearn: 3758.1062389\ttest: 3786.0600939\tbest: 3786.0600939 (22)\ttotal: 22.1s\tremaining: 1m 13s\n",
      "23:\tlearn: 3680.2159717\ttest: 3708.4237304\tbest: 3708.4237304 (23)\ttotal: 23.1s\tremaining: 1m 13s\n",
      "24:\tlearn: 3605.9513946\ttest: 3634.5385994\tbest: 3634.5385994 (24)\ttotal: 24.2s\tremaining: 1m 12s\n",
      "25:\tlearn: 3534.0722853\ttest: 3563.1783797\tbest: 3563.1783797 (25)\ttotal: 25.3s\tremaining: 1m 12s\n",
      "26:\tlearn: 3463.8622986\ttest: 3493.1633952\tbest: 3493.1633952 (26)\ttotal: 26.4s\tremaining: 1m 11s\n",
      "27:\tlearn: 3395.1154937\ttest: 3425.0206451\tbest: 3425.0206451 (27)\ttotal: 27.4s\tremaining: 1m 10s\n",
      "28:\tlearn: 3330.0751384\ttest: 3360.3128682\tbest: 3360.3128682 (28)\ttotal: 28.5s\tremaining: 1m 9s\n",
      "29:\tlearn: 3266.2518425\ttest: 3297.3003216\tbest: 3297.3003216 (29)\ttotal: 29.6s\tremaining: 1m 9s\n",
      "30:\tlearn: 3204.8857989\ttest: 3235.8858695\tbest: 3235.8858695 (30)\ttotal: 30.7s\tremaining: 1m 8s\n",
      "31:\tlearn: 3145.8624570\ttest: 3177.6484393\tbest: 3177.6484393 (31)\ttotal: 31.8s\tremaining: 1m 7s\n",
      "32:\tlearn: 3089.7227359\ttest: 3122.1593621\tbest: 3122.1593621 (32)\ttotal: 32.9s\tremaining: 1m 6s\n",
      "33:\tlearn: 3034.2051048\ttest: 3067.1399116\tbest: 3067.1399116 (33)\ttotal: 33.9s\tremaining: 1m 5s\n",
      "34:\tlearn: 2980.9292825\ttest: 3014.5195410\tbest: 3014.5195410 (34)\ttotal: 35.1s\tremaining: 1m 5s\n",
      "35:\tlearn: 2931.8384413\ttest: 2965.9720221\tbest: 2965.9720221 (35)\ttotal: 36.2s\tremaining: 1m 4s\n",
      "36:\tlearn: 2883.0708036\ttest: 2917.6939575\tbest: 2917.6939575 (36)\ttotal: 37.3s\tremaining: 1m 3s\n",
      "37:\tlearn: 2835.9455476\ttest: 2871.3309926\tbest: 2871.3309926 (37)\ttotal: 38.4s\tremaining: 1m 2s\n",
      "38:\tlearn: 2791.2436999\ttest: 2826.9266610\tbest: 2826.9266610 (38)\ttotal: 39.5s\tremaining: 1m 1s\n",
      "39:\tlearn: 2748.9734801\ttest: 2785.4565640\tbest: 2785.4565640 (39)\ttotal: 40.7s\tremaining: 1m\n",
      "40:\tlearn: 2706.9068301\ttest: 2743.8397383\tbest: 2743.8397383 (40)\ttotal: 41.9s\tremaining: 1m\n",
      "41:\tlearn: 2666.6849908\ttest: 2704.5402934\tbest: 2704.5402934 (41)\ttotal: 43.2s\tremaining: 59.6s\n",
      "42:\tlearn: 2628.5123733\ttest: 2666.9799626\tbest: 2666.9799626 (42)\ttotal: 44.4s\tremaining: 58.8s\n",
      "43:\tlearn: 2591.1140594\ttest: 2629.8894635\tbest: 2629.8894635 (43)\ttotal: 45.4s\tremaining: 57.8s\n",
      "44:\tlearn: 2555.5486776\ttest: 2594.8523162\tbest: 2594.8523162 (44)\ttotal: 46.5s\tremaining: 56.8s\n",
      "45:\tlearn: 2521.4138235\ttest: 2560.9702094\tbest: 2560.9702094 (45)\ttotal: 47.6s\tremaining: 55.8s\n",
      "46:\tlearn: 2489.4575637\ttest: 2529.9403719\tbest: 2529.9403719 (46)\ttotal: 48.6s\tremaining: 54.9s\n",
      "47:\tlearn: 2457.3872376\ttest: 2498.5565685\tbest: 2498.5565685 (47)\ttotal: 49.7s\tremaining: 53.9s\n",
      "48:\tlearn: 2427.2501622\ttest: 2469.1445617\tbest: 2469.1445617 (48)\ttotal: 50.8s\tremaining: 52.9s\n",
      "49:\tlearn: 2397.9333136\ttest: 2440.3297274\tbest: 2440.3297274 (49)\ttotal: 51.8s\tremaining: 51.8s\n",
      "50:\tlearn: 2369.5904500\ttest: 2413.1435264\tbest: 2413.1435264 (50)\ttotal: 52.9s\tremaining: 50.8s\n",
      "51:\tlearn: 2339.9307440\ttest: 2383.9195721\tbest: 2383.9195721 (51)\ttotal: 54s\tremaining: 49.8s\n",
      "52:\tlearn: 2313.1147155\ttest: 2358.0169697\tbest: 2358.0169697 (52)\ttotal: 55s\tremaining: 48.8s\n",
      "53:\tlearn: 2287.4797688\ttest: 2333.2709392\tbest: 2333.2709392 (53)\ttotal: 56.1s\tremaining: 47.8s\n",
      "54:\tlearn: 2262.8707986\ttest: 2309.1134735\tbest: 2309.1134735 (54)\ttotal: 57.2s\tremaining: 46.8s\n",
      "55:\tlearn: 2238.9440982\ttest: 2286.1726647\tbest: 2286.1726647 (55)\ttotal: 58.3s\tremaining: 45.8s\n",
      "56:\tlearn: 2216.4326355\ttest: 2264.2519809\tbest: 2264.2519809 (56)\ttotal: 59.4s\tremaining: 44.8s\n",
      "57:\tlearn: 2195.6181851\ttest: 2244.4512595\tbest: 2244.4512595 (57)\ttotal: 1m\tremaining: 43.8s\n",
      "58:\tlearn: 2175.1725257\ttest: 2224.6634853\tbest: 2224.6634853 (58)\ttotal: 1m 1s\tremaining: 42.8s\n",
      "59:\tlearn: 2155.7638971\ttest: 2206.0902385\tbest: 2206.0902385 (59)\ttotal: 1m 2s\tremaining: 41.8s\n",
      "60:\tlearn: 2135.9259437\ttest: 2186.6505594\tbest: 2186.6505594 (60)\ttotal: 1m 3s\tremaining: 40.7s\n",
      "61:\tlearn: 2116.1540801\ttest: 2167.4381545\tbest: 2167.4381545 (61)\ttotal: 1m 4s\tremaining: 39.7s\n",
      "62:\tlearn: 2097.0474815\ttest: 2148.7407973\tbest: 2148.7407973 (62)\ttotal: 1m 5s\tremaining: 38.7s\n",
      "63:\tlearn: 2078.8457973\ttest: 2130.9343173\tbest: 2130.9343173 (63)\ttotal: 1m 6s\tremaining: 37.7s\n",
      "64:\tlearn: 2061.7336137\ttest: 2114.6791197\tbest: 2114.6791197 (64)\ttotal: 1m 8s\tremaining: 36.6s\n",
      "65:\tlearn: 2045.7493174\ttest: 2099.3041875\tbest: 2099.3041875 (65)\ttotal: 1m 9s\tremaining: 35.6s\n",
      "66:\tlearn: 2029.6287959\ttest: 2083.4573578\tbest: 2083.4573578 (66)\ttotal: 1m 10s\tremaining: 34.6s\n",
      "67:\tlearn: 2015.9326145\ttest: 2070.2010111\tbest: 2070.2010111 (67)\ttotal: 1m 11s\tremaining: 33.5s\n",
      "68:\tlearn: 2002.3386496\ttest: 2056.8891074\tbest: 2056.8891074 (68)\ttotal: 1m 12s\tremaining: 32.5s\n",
      "69:\tlearn: 1989.1979171\ttest: 2044.6792372\tbest: 2044.6792372 (69)\ttotal: 1m 13s\tremaining: 31.5s\n",
      "70:\tlearn: 1976.3994133\ttest: 2032.5668618\tbest: 2032.5668618 (70)\ttotal: 1m 14s\tremaining: 30.4s\n",
      "71:\tlearn: 1964.1765956\ttest: 2020.9067278\tbest: 2020.9067278 (71)\ttotal: 1m 15s\tremaining: 29.4s\n",
      "72:\tlearn: 1952.8024320\ttest: 2010.3569887\tbest: 2010.3569887 (72)\ttotal: 1m 16s\tremaining: 28.4s\n",
      "73:\tlearn: 1941.9035830\ttest: 1999.8088966\tbest: 1999.8088966 (73)\ttotal: 1m 17s\tremaining: 27.4s\n",
      "74:\tlearn: 1931.5447925\ttest: 1989.8410668\tbest: 1989.8410668 (74)\ttotal: 1m 19s\tremaining: 26.3s\n",
      "75:\tlearn: 1920.8022756\ttest: 1979.6737688\tbest: 1979.6737688 (75)\ttotal: 1m 20s\tremaining: 25.3s\n",
      "76:\tlearn: 1910.4859036\ttest: 1969.5784436\tbest: 1969.5784436 (76)\ttotal: 1m 21s\tremaining: 24.2s\n",
      "77:\tlearn: 1900.8272636\ttest: 1960.3658217\tbest: 1960.3658217 (77)\ttotal: 1m 22s\tremaining: 23.2s\n",
      "78:\tlearn: 1892.0900098\ttest: 1952.2492842\tbest: 1952.2492842 (78)\ttotal: 1m 23s\tremaining: 22.1s\n",
      "79:\tlearn: 1882.8237093\ttest: 1943.3929362\tbest: 1943.3929362 (79)\ttotal: 1m 24s\tremaining: 21.1s\n",
      "80:\tlearn: 1874.5360709\ttest: 1935.6701952\tbest: 1935.6701952 (80)\ttotal: 1m 25s\tremaining: 20s\n",
      "81:\tlearn: 1866.8282834\ttest: 1928.1044764\tbest: 1928.1044764 (81)\ttotal: 1m 26s\tremaining: 19s\n",
      "82:\tlearn: 1859.0867755\ttest: 1920.5485668\tbest: 1920.5485668 (82)\ttotal: 1m 27s\tremaining: 17.9s\n",
      "83:\tlearn: 1850.8860879\ttest: 1913.4200093\tbest: 1913.4200093 (83)\ttotal: 1m 28s\tremaining: 16.9s\n",
      "84:\tlearn: 1842.7838836\ttest: 1905.6779352\tbest: 1905.6779352 (84)\ttotal: 1m 29s\tremaining: 15.8s\n",
      "85:\tlearn: 1835.9395159\ttest: 1899.2219492\tbest: 1899.2219492 (85)\ttotal: 1m 30s\tremaining: 14.8s\n",
      "86:\tlearn: 1829.3331503\ttest: 1892.8123077\tbest: 1892.8123077 (86)\ttotal: 1m 31s\tremaining: 13.7s\n",
      "87:\tlearn: 1821.9969023\ttest: 1885.9543271\tbest: 1885.9543271 (87)\ttotal: 1m 32s\tremaining: 12.7s\n",
      "88:\tlearn: 1815.4391270\ttest: 1879.5000801\tbest: 1879.5000801 (88)\ttotal: 1m 34s\tremaining: 11.6s\n",
      "89:\tlearn: 1808.8316907\ttest: 1873.4068754\tbest: 1873.4068754 (89)\ttotal: 1m 35s\tremaining: 10.6s\n",
      "90:\tlearn: 1803.0093405\ttest: 1867.8916707\tbest: 1867.8916707 (90)\ttotal: 1m 36s\tremaining: 9.52s\n",
      "91:\tlearn: 1797.8546829\ttest: 1863.1460846\tbest: 1863.1460846 (91)\ttotal: 1m 37s\tremaining: 8.46s\n",
      "92:\tlearn: 1792.6743858\ttest: 1858.3261019\tbest: 1858.3261019 (92)\ttotal: 1m 38s\tremaining: 7.41s\n",
      "93:\tlearn: 1787.0616938\ttest: 1853.5591878\tbest: 1853.5591878 (93)\ttotal: 1m 39s\tremaining: 6.35s\n",
      "94:\tlearn: 1781.8175206\ttest: 1848.7504441\tbest: 1848.7504441 (94)\ttotal: 1m 40s\tremaining: 5.3s\n",
      "95:\tlearn: 1776.4466409\ttest: 1843.8008493\tbest: 1843.8008493 (95)\ttotal: 1m 41s\tremaining: 4.25s\n",
      "96:\tlearn: 1771.4507814\ttest: 1839.1583241\tbest: 1839.1583241 (96)\ttotal: 1m 43s\tremaining: 3.19s\n",
      "97:\tlearn: 1766.9611178\ttest: 1835.1163253\tbest: 1835.1163253 (97)\ttotal: 1m 44s\tremaining: 2.13s\n",
      "98:\tlearn: 1762.4413253\ttest: 1830.9187450\tbest: 1830.9187450 (98)\ttotal: 1m 45s\tremaining: 1.06s\n",
      "99:\tlearn: 1758.4655243\ttest: 1827.1443884\tbest: 1827.1443884 (99)\ttotal: 1m 46s\tremaining: 0us\n",
      "\n",
      "bestTest = 1827.144388\n",
      "bestIteration = 99\n",
      "\n",
      "Training on fold [1/2]\n",
      "0:\tlearn: 6344.8867840\ttest: 6325.1200391\tbest: 6325.1200391 (0)\ttotal: 1.08s\tremaining: 1m 47s\n",
      "1:\tlearn: 6182.6010544\ttest: 6163.4676519\tbest: 6163.4676519 (1)\ttotal: 2.17s\tremaining: 1m 46s\n",
      "2:\tlearn: 6026.3239503\ttest: 6007.7480521\tbest: 6007.7480521 (2)\ttotal: 3.2s\tremaining: 1m 43s\n",
      "3:\tlearn: 5876.7241986\ttest: 5858.9714691\tbest: 5858.9714691 (3)\ttotal: 4.27s\tremaining: 1m 42s\n",
      "4:\tlearn: 5728.8769510\ttest: 5711.5141161\tbest: 5711.5141161 (4)\ttotal: 5.35s\tremaining: 1m 41s\n",
      "5:\tlearn: 5585.6289983\ttest: 5568.9353493\tbest: 5568.9353493 (5)\ttotal: 6.43s\tremaining: 1m 40s\n",
      "6:\tlearn: 5447.4684953\ttest: 5431.1509672\tbest: 5431.1509672 (6)\ttotal: 7.5s\tremaining: 1m 39s\n",
      "7:\tlearn: 5318.4113429\ttest: 5303.2997619\tbest: 5303.2997619 (7)\ttotal: 8.57s\tremaining: 1m 38s\n",
      "8:\tlearn: 5188.0735378\ttest: 5173.2477292\tbest: 5173.2477292 (8)\ttotal: 9.66s\tremaining: 1m 37s\n",
      "9:\tlearn: 5064.4859188\ttest: 5050.0533829\tbest: 5050.0533829 (9)\ttotal: 10.8s\tremaining: 1m 36s\n",
      "10:\tlearn: 4944.3153593\ttest: 4930.7262780\tbest: 4930.7262780 (10)\ttotal: 11.9s\tremaining: 1m 35s\n",
      "11:\tlearn: 4828.8824273\ttest: 4815.8746447\tbest: 4815.8746447 (11)\ttotal: 12.9s\tremaining: 1m 34s\n",
      "12:\tlearn: 4715.3090930\ttest: 4702.8403319\tbest: 4702.8403319 (12)\ttotal: 14s\tremaining: 1m 33s\n",
      "13:\tlearn: 4604.8839876\ttest: 4592.9040336\tbest: 4592.9040336 (13)\ttotal: 15.1s\tremaining: 1m 32s\n",
      "14:\tlearn: 4501.2958362\ttest: 4490.3743744\tbest: 4490.3743744 (14)\ttotal: 16.2s\tremaining: 1m 31s\n",
      "15:\tlearn: 4399.6665857\ttest: 4389.2569697\tbest: 4389.2569697 (15)\ttotal: 16.3s\tremaining: 1m 25s\n",
      "16:\tlearn: 4300.5080868\ttest: 4290.6659807\tbest: 4290.6659807 (16)\ttotal: 17.4s\tremaining: 1m 24s\n",
      "17:\tlearn: 4205.3127460\ttest: 4196.0523424\tbest: 4196.0523424 (17)\ttotal: 18.5s\tremaining: 1m 24s\n",
      "18:\tlearn: 4111.3751791\ttest: 4103.0128888\tbest: 4103.0128888 (18)\ttotal: 19.6s\tremaining: 1m 23s\n",
      "19:\tlearn: 4022.0437330\ttest: 4014.4506013\tbest: 4014.4506013 (19)\ttotal: 20.8s\tremaining: 1m 23s\n",
      "20:\tlearn: 3936.4900972\ttest: 3929.8235481\tbest: 3929.8235481 (20)\ttotal: 21.9s\tremaining: 1m 22s\n",
      "21:\tlearn: 3853.3439922\ttest: 3847.2855277\tbest: 3847.2855277 (21)\ttotal: 23s\tremaining: 1m 21s\n",
      "22:\tlearn: 3774.3104812\ttest: 3769.0946399\tbest: 3769.0946399 (22)\ttotal: 24.1s\tremaining: 1m 20s\n",
      "23:\tlearn: 3697.2995542\ttest: 3692.9046766\tbest: 3692.9046766 (23)\ttotal: 25.2s\tremaining: 1m 19s\n",
      "24:\tlearn: 3624.7622002\ttest: 3620.7113249\tbest: 3620.7113249 (24)\ttotal: 25.2s\tremaining: 1m 15s\n",
      "25:\tlearn: 3550.3673305\ttest: 3546.7921218\tbest: 3546.7921218 (25)\ttotal: 26.3s\tremaining: 1m 14s\n",
      "26:\tlearn: 3479.5441200\ttest: 3476.7137065\tbest: 3476.7137065 (26)\ttotal: 27.4s\tremaining: 1m 14s\n",
      "27:\tlearn: 3412.2829535\ttest: 3410.4436489\tbest: 3410.4436489 (27)\ttotal: 28.5s\tremaining: 1m 13s\n",
      "28:\tlearn: 3347.2155028\ttest: 3346.2836442\tbest: 3346.2836442 (28)\ttotal: 29.5s\tremaining: 1m 12s\n",
      "29:\tlearn: 3284.8963218\ttest: 3284.4954610\tbest: 3284.4954610 (29)\ttotal: 30.7s\tremaining: 1m 11s\n",
      "30:\tlearn: 3225.3807464\ttest: 3226.0905568\tbest: 3226.0905568 (30)\ttotal: 31.8s\tremaining: 1m 10s\n",
      "31:\tlearn: 3166.7061435\ttest: 3168.4316552\tbest: 3168.4316552 (31)\ttotal: 33s\tremaining: 1m 10s\n",
      "32:\tlearn: 3110.4800717\ttest: 3113.2397589\tbest: 3113.2397589 (32)\ttotal: 34.1s\tremaining: 1m 9s\n",
      "33:\tlearn: 3054.9399064\ttest: 3058.6268412\tbest: 3058.6268412 (33)\ttotal: 35.3s\tremaining: 1m 8s\n",
      "34:\tlearn: 3001.6688904\ttest: 3006.1009862\tbest: 3006.1009862 (34)\ttotal: 36.4s\tremaining: 1m 7s\n",
      "35:\tlearn: 2951.5371481\ttest: 2957.0860830\tbest: 2957.0860830 (35)\ttotal: 37.5s\tremaining: 1m 6s\n",
      "36:\tlearn: 2902.4138679\ttest: 2908.6808112\tbest: 2908.6808112 (36)\ttotal: 38.6s\tremaining: 1m 5s\n",
      "37:\tlearn: 2854.8215377\ttest: 2861.8353581\tbest: 2861.8353581 (37)\ttotal: 39.7s\tremaining: 1m 4s\n",
      "38:\tlearn: 2811.2008270\ttest: 2819.3549540\tbest: 2819.3549540 (38)\ttotal: 40.8s\tremaining: 1m 3s\n",
      "39:\tlearn: 2766.6762521\ttest: 2775.4691733\tbest: 2775.4691733 (39)\ttotal: 41.9s\tremaining: 1m 2s\n",
      "40:\tlearn: 2723.0565757\ttest: 2732.3626842\tbest: 2732.3626842 (40)\ttotal: 43s\tremaining: 1m 1s\n",
      "41:\tlearn: 2681.4621501\ttest: 2691.7229246\tbest: 2691.7229246 (41)\ttotal: 44.1s\tremaining: 1m\n",
      "42:\tlearn: 2643.0289721\ttest: 2654.1987272\tbest: 2654.1987272 (42)\ttotal: 45.2s\tremaining: 59.9s\n",
      "43:\tlearn: 2603.5229077\ttest: 2615.5397018\tbest: 2615.5397018 (43)\ttotal: 46.3s\tremaining: 58.9s\n",
      "44:\tlearn: 2567.0299858\ttest: 2579.8338128\tbest: 2579.8338128 (44)\ttotal: 47.4s\tremaining: 58s\n",
      "45:\tlearn: 2530.7550602\ttest: 2544.4134356\tbest: 2544.4134356 (45)\ttotal: 48.5s\tremaining: 57s\n",
      "46:\tlearn: 2497.7336058\ttest: 2512.0828707\tbest: 2512.0828707 (46)\ttotal: 49.6s\tremaining: 56s\n",
      "47:\tlearn: 2463.9816694\ttest: 2479.1866063\tbest: 2479.1866063 (47)\ttotal: 50.8s\tremaining: 55s\n",
      "48:\tlearn: 2431.3099278\ttest: 2447.1738538\tbest: 2447.1738538 (48)\ttotal: 51.9s\tremaining: 54s\n",
      "49:\tlearn: 2400.9771803\ttest: 2417.5274659\tbest: 2417.5274659 (49)\ttotal: 53.1s\tremaining: 53.1s\n",
      "50:\tlearn: 2372.7863598\ttest: 2390.0755109\tbest: 2390.0755109 (50)\ttotal: 54.4s\tremaining: 52.2s\n",
      "51:\tlearn: 2345.3477004\ttest: 2363.3481451\tbest: 2363.3481451 (51)\ttotal: 55.6s\tremaining: 51.3s\n",
      "52:\tlearn: 2317.7563991\ttest: 2336.4171941\tbest: 2336.4171941 (52)\ttotal: 56.7s\tremaining: 50.3s\n",
      "53:\tlearn: 2291.2402453\ttest: 2310.5185990\tbest: 2310.5185990 (53)\ttotal: 57.8s\tremaining: 49.2s\n",
      "54:\tlearn: 2266.8744762\ttest: 2287.2412959\tbest: 2287.2412959 (54)\ttotal: 58.9s\tremaining: 48.2s\n",
      "55:\tlearn: 2244.2375119\ttest: 2265.7122669\tbest: 2265.7122669 (55)\ttotal: 1m\tremaining: 47.1s\n",
      "56:\tlearn: 2221.5763239\ttest: 2243.8198664\tbest: 2243.8198664 (56)\ttotal: 1m 1s\tremaining: 46.1s\n",
      "57:\tlearn: 2200.4329673\ttest: 2223.5054208\tbest: 2223.5054208 (57)\ttotal: 1m 2s\tremaining: 45.1s\n",
      "58:\tlearn: 2178.6223440\ttest: 2202.3283616\tbest: 2202.3283616 (58)\ttotal: 1m 3s\tremaining: 44s\n",
      "59:\tlearn: 2159.2909092\ttest: 2183.7364326\tbest: 2183.7364326 (59)\ttotal: 1m 4s\tremaining: 43s\n",
      "60:\tlearn: 2140.2933337\ttest: 2165.4667289\tbest: 2165.4667289 (60)\ttotal: 1m 5s\tremaining: 41.9s\n",
      "61:\tlearn: 2120.7179961\ttest: 2147.0506596\tbest: 2147.0506596 (61)\ttotal: 1m 6s\tremaining: 40.9s\n",
      "62:\tlearn: 2103.2312130\ttest: 2130.5786574\tbest: 2130.5786574 (62)\ttotal: 1m 7s\tremaining: 39.8s\n",
      "63:\tlearn: 2085.7395472\ttest: 2113.8808691\tbest: 2113.8808691 (63)\ttotal: 1m 8s\tremaining: 38.8s\n",
      "64:\tlearn: 2069.5404459\ttest: 2098.5847319\tbest: 2098.5847319 (64)\ttotal: 1m 10s\tremaining: 37.7s\n",
      "65:\tlearn: 2053.5469253\ttest: 2083.3539363\tbest: 2083.3539363 (65)\ttotal: 1m 11s\tremaining: 36.7s\n",
      "66:\tlearn: 2037.3693047\ttest: 2068.0113096\tbest: 2068.0113096 (66)\ttotal: 1m 12s\tremaining: 35.6s\n",
      "67:\tlearn: 2023.4582874\ttest: 2055.0659062\tbest: 2055.0659062 (67)\ttotal: 1m 13s\tremaining: 34.5s\n",
      "68:\tlearn: 2009.1922028\ttest: 2041.8078664\tbest: 2041.8078664 (68)\ttotal: 1m 14s\tremaining: 33.5s\n",
      "69:\tlearn: 1995.0244702\ttest: 2028.4867239\tbest: 2028.4867239 (69)\ttotal: 1m 15s\tremaining: 32.4s\n",
      "70:\tlearn: 1981.9691405\ttest: 2016.2904882\tbest: 2016.2904882 (70)\ttotal: 1m 16s\tremaining: 31.3s\n",
      "71:\tlearn: 1969.0697977\ttest: 2004.3603277\tbest: 2004.3603277 (71)\ttotal: 1m 17s\tremaining: 30.2s\n",
      "72:\tlearn: 1956.2919797\ttest: 1992.2803817\tbest: 1992.2803817 (72)\ttotal: 1m 18s\tremaining: 29.2s\n",
      "73:\tlearn: 1945.1079490\ttest: 1982.0934892\tbest: 1982.0934892 (73)\ttotal: 1m 19s\tremaining: 28.1s\n",
      "74:\tlearn: 1934.2117140\ttest: 1972.4523738\tbest: 1972.4523738 (74)\ttotal: 1m 21s\tremaining: 27s\n",
      "75:\tlearn: 1924.2822019\ttest: 1963.5779121\tbest: 1963.5779121 (75)\ttotal: 1m 22s\tremaining: 26s\n",
      "76:\tlearn: 1913.2837141\ttest: 1953.1457004\tbest: 1953.1457004 (76)\ttotal: 1m 23s\tremaining: 24.9s\n",
      "77:\tlearn: 1902.8790727\ttest: 1943.7899693\tbest: 1943.7899693 (77)\ttotal: 1m 24s\tremaining: 23.8s\n",
      "78:\tlearn: 1892.8659364\ttest: 1934.3667066\tbest: 1934.3667066 (78)\ttotal: 1m 25s\tremaining: 22.7s\n",
      "79:\tlearn: 1883.1658271\ttest: 1925.3555063\tbest: 1925.3555063 (79)\ttotal: 1m 26s\tremaining: 21.6s\n",
      "80:\tlearn: 1874.6360881\ttest: 1917.6037145\tbest: 1917.6037145 (80)\ttotal: 1m 27s\tremaining: 20.6s\n",
      "81:\tlearn: 1866.5894506\ttest: 1910.4169023\tbest: 1910.4169023 (81)\ttotal: 1m 28s\tremaining: 19.5s\n",
      "82:\tlearn: 1858.1465594\ttest: 1902.5396691\tbest: 1902.5396691 (82)\ttotal: 1m 30s\tremaining: 18.4s\n",
      "83:\tlearn: 1850.6676555\ttest: 1895.9008856\tbest: 1895.9008856 (83)\ttotal: 1m 31s\tremaining: 17.4s\n",
      "84:\tlearn: 1843.6807021\ttest: 1889.5409891\tbest: 1889.5409891 (84)\ttotal: 1m 32s\tremaining: 16.3s\n",
      "85:\tlearn: 1836.5233860\ttest: 1882.8050740\tbest: 1882.8050740 (85)\ttotal: 1m 33s\tremaining: 15.2s\n",
      "86:\tlearn: 1829.2316621\ttest: 1876.5554840\tbest: 1876.5554840 (86)\ttotal: 1m 34s\tremaining: 14.1s\n",
      "87:\tlearn: 1822.6262385\ttest: 1870.4914053\tbest: 1870.4914053 (87)\ttotal: 1m 35s\tremaining: 13s\n",
      "88:\tlearn: 1816.3566295\ttest: 1864.6889915\tbest: 1864.6889915 (88)\ttotal: 1m 36s\tremaining: 12s\n",
      "89:\tlearn: 1810.4049804\ttest: 1859.3617364\tbest: 1859.3617364 (89)\ttotal: 1m 37s\tremaining: 10.9s\n",
      "90:\tlearn: 1804.6341011\ttest: 1854.0820857\tbest: 1854.0820857 (90)\ttotal: 1m 38s\tremaining: 9.79s\n",
      "91:\tlearn: 1798.6506961\ttest: 1848.6805980\tbest: 1848.6805980 (91)\ttotal: 1m 40s\tremaining: 8.71s\n",
      "92:\tlearn: 1792.9913959\ttest: 1843.9035912\tbest: 1843.9035912 (92)\ttotal: 1m 41s\tremaining: 7.62s\n",
      "93:\tlearn: 1788.0001377\ttest: 1839.5582998\tbest: 1839.5582998 (93)\ttotal: 1m 42s\tremaining: 6.53s\n",
      "94:\tlearn: 1783.4425778\ttest: 1835.4525372\tbest: 1835.4525372 (94)\ttotal: 1m 43s\tremaining: 5.44s\n",
      "95:\tlearn: 1778.2437783\ttest: 1830.6415321\tbest: 1830.6415321 (95)\ttotal: 1m 44s\tremaining: 4.36s\n",
      "96:\tlearn: 1773.6289884\ttest: 1826.6233456\tbest: 1826.6233456 (96)\ttotal: 1m 45s\tremaining: 3.27s\n",
      "97:\tlearn: 1768.5220804\ttest: 1822.5827442\tbest: 1822.5827442 (97)\ttotal: 1m 46s\tremaining: 2.18s\n",
      "98:\tlearn: 1764.6666728\ttest: 1819.1494318\tbest: 1819.1494318 (98)\ttotal: 1m 47s\tremaining: 1.09s\n",
      "99:\tlearn: 1760.6328778\ttest: 1815.6681490\tbest: 1815.6681490 (99)\ttotal: 1m 49s\tremaining: 0us\n",
      "\n",
      "bestTest = 1815.668149\n",
      "bestIteration = 99\n",
      "\n"
     ]
    }
   ],
   "source": [
    "for depth in [15, 16]:\n",
    "    print(f'depth = {depth}')\n",
    "    params = {\"iterations\": 100, \"depth\": depth, \"loss_function\": \"RMSE\", \"verbose\": 1}\n",
    "    cv_dataset = Pool(data=scaler_features_train_ohe, label=target_train_ohe)\n",
    "    scores = cv(cv_dataset, params, fold_count=2)"
   ]
  },
  {
   "cell_type": "markdown",
   "metadata": {},
   "source": [
    "Лучший результат RMSE = 1815.67 показала модель depth = 16, iterations = 200"
   ]
  },
  {
   "cell_type": "markdown",
   "metadata": {},
   "source": [
    "Для выборки OrdinalEncoder"
   ]
  },
  {
   "cell_type": "code",
   "execution_count": 71,
   "metadata": {
    "scrolled": true
   },
   "outputs": [
    {
     "name": "stdout",
     "output_type": "stream",
     "text": [
      "depth = 15\n",
      "Training on fold [0/2]\n"
     ]
    },
    {
     "name": "stderr",
     "output_type": "stream",
     "text": [
      "Custom logger is already specified. Specify more than one logger at same time is not thread safe."
     ]
    },
    {
     "name": "stdout",
     "output_type": "stream",
     "text": [
      "0:\tlearn: 6324.6036393\ttest: 6345.4791684\tbest: 6345.4791684 (0)\ttotal: 521ms\tremaining: 1m 43s\n",
      "1:\tlearn: 6164.0809084\ttest: 6185.5176358\tbest: 6185.5176358 (1)\ttotal: 1.07s\tremaining: 1m 46s\n",
      "2:\tlearn: 6009.8048532\ttest: 6031.8742427\tbest: 6031.8742427 (2)\ttotal: 1.63s\tremaining: 1m 46s\n",
      "3:\tlearn: 5859.9765739\ttest: 5882.1355750\tbest: 5882.1355750 (3)\ttotal: 1.92s\tremaining: 1m 33s\n",
      "4:\tlearn: 5714.6355087\ttest: 5737.6668722\tbest: 5737.6668722 (4)\ttotal: 2.48s\tremaining: 1m 36s\n",
      "5:\tlearn: 5572.0106254\ttest: 5595.4881690\tbest: 5595.4881690 (5)\ttotal: 3.02s\tremaining: 1m 37s\n",
      "6:\tlearn: 5436.7804264\ttest: 5460.9054095\tbest: 5460.9054095 (6)\ttotal: 3.59s\tremaining: 1m 39s\n",
      "7:\tlearn: 5307.3046104\ttest: 5332.4914053\tbest: 5332.4914053 (7)\ttotal: 4.21s\tremaining: 1m 40s\n",
      "8:\tlearn: 5177.8958335\ttest: 5203.5641954\tbest: 5203.5641954 (8)\ttotal: 4.73s\tremaining: 1m 40s\n",
      "9:\tlearn: 5051.9593458\ttest: 5078.0804625\tbest: 5078.0804625 (9)\ttotal: 5.26s\tremaining: 1m 39s\n",
      "10:\tlearn: 4931.3681342\ttest: 4957.9830674\tbest: 4957.9830674 (10)\ttotal: 5.77s\tremaining: 1m 39s\n",
      "11:\tlearn: 4815.0617349\ttest: 4842.0873512\tbest: 4842.0873512 (11)\ttotal: 6.3s\tremaining: 1m 38s\n",
      "12:\tlearn: 4704.7127422\ttest: 4732.9501764\tbest: 4732.9501764 (12)\ttotal: 6.81s\tremaining: 1m 38s\n",
      "13:\tlearn: 4593.6424854\ttest: 4622.0904560\tbest: 4622.0904560 (13)\ttotal: 7.05s\tremaining: 1m 33s\n",
      "14:\tlearn: 4487.6080255\ttest: 4516.5389345\tbest: 4516.5389345 (14)\ttotal: 7.56s\tremaining: 1m 33s\n",
      "15:\tlearn: 4385.4028584\ttest: 4414.4859081\tbest: 4414.4859081 (15)\ttotal: 8.08s\tremaining: 1m 32s\n",
      "16:\tlearn: 4287.8482411\ttest: 4317.7040645\tbest: 4317.7040645 (16)\ttotal: 8.6s\tremaining: 1m 32s\n",
      "17:\tlearn: 4191.3546166\ttest: 4221.6504637\tbest: 4221.6504637 (17)\ttotal: 9.15s\tremaining: 1m 32s\n",
      "18:\tlearn: 4100.6864961\ttest: 4131.7502436\tbest: 4131.7502436 (18)\ttotal: 9.7s\tremaining: 1m 32s\n",
      "19:\tlearn: 4010.4520000\ttest: 4041.9761660\tbest: 4041.9761660 (19)\ttotal: 10.2s\tremaining: 1m 32s\n",
      "20:\tlearn: 3925.6498255\ttest: 3958.0126507\tbest: 3958.0126507 (20)\ttotal: 10.5s\tremaining: 1m 29s\n",
      "21:\tlearn: 3845.0932218\ttest: 3878.7580633\tbest: 3878.7580633 (21)\ttotal: 11s\tremaining: 1m 29s\n",
      "22:\tlearn: 3764.1739672\ttest: 3798.6376003\tbest: 3798.6376003 (22)\ttotal: 11.5s\tremaining: 1m 28s\n",
      "23:\tlearn: 3687.0883792\ttest: 3722.5163773\tbest: 3722.5163773 (23)\ttotal: 12.1s\tremaining: 1m 28s\n",
      "24:\tlearn: 3611.2518292\ttest: 3647.2633598\tbest: 3647.2633598 (24)\ttotal: 12.6s\tremaining: 1m 28s\n",
      "25:\tlearn: 3539.8642773\ttest: 3576.6571906\tbest: 3576.6571906 (25)\ttotal: 13.1s\tremaining: 1m 27s\n",
      "26:\tlearn: 3469.4089323\ttest: 3506.6891684\tbest: 3506.6891684 (26)\ttotal: 13.6s\tremaining: 1m 27s\n",
      "27:\tlearn: 3402.6867644\ttest: 3440.6574765\tbest: 3440.6574765 (27)\ttotal: 14.2s\tremaining: 1m 27s\n",
      "28:\tlearn: 3338.2630438\ttest: 3376.3455979\tbest: 3376.3455979 (28)\ttotal: 14.3s\tremaining: 1m 24s\n",
      "29:\tlearn: 3275.1991614\ttest: 3314.2704699\tbest: 3314.2704699 (29)\ttotal: 14.8s\tremaining: 1m 23s\n",
      "30:\tlearn: 3213.9752711\ttest: 3253.6512302\tbest: 3253.6512302 (30)\ttotal: 15.3s\tremaining: 1m 23s\n",
      "31:\tlearn: 3154.4479635\ttest: 3194.6991958\tbest: 3194.6991958 (31)\ttotal: 15.8s\tremaining: 1m 23s\n",
      "32:\tlearn: 3097.6765625\ttest: 3138.5090286\tbest: 3138.5090286 (32)\ttotal: 16.4s\tremaining: 1m 22s\n",
      "33:\tlearn: 3043.3240647\ttest: 3084.7658459\tbest: 3084.7658459 (33)\ttotal: 16.9s\tremaining: 1m 22s\n",
      "34:\tlearn: 2991.2906362\ttest: 3033.5071540\tbest: 3033.5071540 (34)\ttotal: 17.4s\tremaining: 1m 22s\n",
      "35:\tlearn: 2942.2821369\ttest: 2985.3820889\tbest: 2985.3820889 (35)\ttotal: 17.9s\tremaining: 1m 21s\n",
      "36:\tlearn: 2892.7094398\ttest: 2936.4577705\tbest: 2936.4577705 (36)\ttotal: 18.5s\tremaining: 1m 21s\n",
      "37:\tlearn: 2845.2953903\ttest: 2889.8927338\tbest: 2889.8927338 (37)\ttotal: 19s\tremaining: 1m 20s\n",
      "38:\tlearn: 2800.6988037\ttest: 2846.5177122\tbest: 2846.5177122 (38)\ttotal: 19.5s\tremaining: 1m 20s\n",
      "39:\tlearn: 2757.2845663\ttest: 2803.6612021\tbest: 2803.6612021 (39)\ttotal: 20s\tremaining: 1m 20s\n",
      "40:\tlearn: 2717.8324946\ttest: 2764.5209605\tbest: 2764.5209605 (40)\ttotal: 20.1s\tremaining: 1m 17s\n",
      "41:\tlearn: 2677.5862048\ttest: 2725.1017672\tbest: 2725.1017672 (41)\ttotal: 20.6s\tremaining: 1m 17s\n",
      "42:\tlearn: 2638.9363243\ttest: 2687.0180777\tbest: 2687.0180777 (42)\ttotal: 21.2s\tremaining: 1m 17s\n",
      "43:\tlearn: 2600.9989162\ttest: 2649.8363736\tbest: 2649.8363736 (43)\ttotal: 21.7s\tremaining: 1m 16s\n",
      "44:\tlearn: 2564.1642605\ttest: 2613.5796941\tbest: 2613.5796941 (44)\ttotal: 22.2s\tremaining: 1m 16s\n",
      "45:\tlearn: 2529.2094049\ttest: 2579.2607630\tbest: 2579.2607630 (45)\ttotal: 22.7s\tremaining: 1m 15s\n",
      "46:\tlearn: 2495.8881611\ttest: 2546.6854107\tbest: 2546.6854107 (46)\ttotal: 23.2s\tremaining: 1m 15s\n",
      "47:\tlearn: 2464.6425534\ttest: 2516.8239441\tbest: 2516.8239441 (47)\ttotal: 23.8s\tremaining: 1m 15s\n",
      "48:\tlearn: 2434.7803738\ttest: 2487.5974687\tbest: 2487.5974687 (48)\ttotal: 24.3s\tremaining: 1m 14s\n",
      "49:\tlearn: 2402.9353064\ttest: 2456.6067785\tbest: 2456.6067785 (49)\ttotal: 24.8s\tremaining: 1m 14s\n",
      "50:\tlearn: 2374.5598208\ttest: 2429.4697845\tbest: 2429.4697845 (50)\ttotal: 25.3s\tremaining: 1m 14s\n",
      "51:\tlearn: 2347.1106786\ttest: 2403.2735782\tbest: 2403.2735782 (51)\ttotal: 25.9s\tremaining: 1m 13s\n",
      "52:\tlearn: 2320.8630962\ttest: 2378.3740045\tbest: 2378.3740045 (52)\ttotal: 26.4s\tremaining: 1m 13s\n",
      "53:\tlearn: 2295.8731554\ttest: 2354.1880082\tbest: 2354.1880082 (53)\ttotal: 26.9s\tremaining: 1m 12s\n",
      "54:\tlearn: 2271.5388277\ttest: 2330.9936552\tbest: 2330.9936552 (54)\ttotal: 27.5s\tremaining: 1m 12s\n",
      "55:\tlearn: 2247.3105785\ttest: 2307.2726848\tbest: 2307.2726848 (55)\ttotal: 28s\tremaining: 1m 11s\n",
      "56:\tlearn: 2224.8706621\ttest: 2286.3438264\tbest: 2286.3438264 (56)\ttotal: 28.5s\tremaining: 1m 11s\n",
      "57:\tlearn: 2202.6801980\ttest: 2265.0691526\tbest: 2265.0691526 (57)\ttotal: 29s\tremaining: 1m 11s\n",
      "58:\tlearn: 2181.4029967\ttest: 2244.5949724\tbest: 2244.5949724 (58)\ttotal: 29.6s\tremaining: 1m 10s\n",
      "59:\tlearn: 2161.9433868\ttest: 2226.3391825\tbest: 2226.3391825 (59)\ttotal: 30.1s\tremaining: 1m 10s\n",
      "60:\tlearn: 2143.5453584\ttest: 2208.9290627\tbest: 2208.9290627 (60)\ttotal: 30.6s\tremaining: 1m 9s\n",
      "61:\tlearn: 2125.6091294\ttest: 2192.1495512\tbest: 2192.1495512 (61)\ttotal: 31.2s\tremaining: 1m 9s\n",
      "62:\tlearn: 2107.6868119\ttest: 2174.8250378\tbest: 2174.8250378 (62)\ttotal: 31.7s\tremaining: 1m 8s\n",
      "63:\tlearn: 2089.8342784\ttest: 2158.4169972\tbest: 2158.4169972 (63)\ttotal: 32.2s\tremaining: 1m 8s\n",
      "64:\tlearn: 2073.3811360\ttest: 2142.8586408\tbest: 2142.8586408 (64)\ttotal: 32.7s\tremaining: 1m 7s\n",
      "65:\tlearn: 2057.7378770\ttest: 2128.1726775\tbest: 2128.1726775 (65)\ttotal: 33.2s\tremaining: 1m 7s\n",
      "66:\tlearn: 2042.9574026\ttest: 2114.0873245\tbest: 2114.0873245 (66)\ttotal: 33.8s\tremaining: 1m 7s\n",
      "67:\tlearn: 2027.3605715\ttest: 2099.5080278\tbest: 2099.5080278 (67)\ttotal: 34.4s\tremaining: 1m 6s\n",
      "68:\tlearn: 2012.5222129\ttest: 2085.3980995\tbest: 2085.3980995 (68)\ttotal: 34.9s\tremaining: 1m 6s\n",
      "69:\tlearn: 1998.6658818\ttest: 2072.7158642\tbest: 2072.7158642 (69)\ttotal: 35.4s\tremaining: 1m 5s\n",
      "70:\tlearn: 1985.7840960\ttest: 2060.8463938\tbest: 2060.8463938 (70)\ttotal: 36s\tremaining: 1m 5s\n",
      "71:\tlearn: 1971.3741463\ttest: 2047.2872214\tbest: 2047.2872214 (71)\ttotal: 36.5s\tremaining: 1m 4s\n",
      "72:\tlearn: 1958.9073529\ttest: 2035.8842795\tbest: 2035.8842795 (72)\ttotal: 37s\tremaining: 1m 4s\n",
      "73:\tlearn: 1946.2651272\ttest: 2023.8559132\tbest: 2023.8559132 (73)\ttotal: 37.5s\tremaining: 1m 3s\n",
      "74:\tlearn: 1934.7081168\ttest: 2012.7438064\tbest: 2012.7438064 (74)\ttotal: 38s\tremaining: 1m 3s\n",
      "75:\tlearn: 1923.7920843\ttest: 2002.2232430\tbest: 2002.2232430 (75)\ttotal: 38.5s\tremaining: 1m 2s\n",
      "76:\tlearn: 1914.2549166\ttest: 1993.4498534\tbest: 1993.4498534 (76)\ttotal: 39s\tremaining: 1m 2s\n",
      "77:\tlearn: 1904.0153693\ttest: 1983.8395298\tbest: 1983.8395298 (77)\ttotal: 39.6s\tremaining: 1m 1s\n",
      "78:\tlearn: 1894.1068537\ttest: 1974.6305716\tbest: 1974.6305716 (78)\ttotal: 40.1s\tremaining: 1m 1s\n",
      "79:\tlearn: 1884.5145022\ttest: 1965.6068717\tbest: 1965.6068717 (79)\ttotal: 40.6s\tremaining: 1m\n",
      "80:\tlearn: 1875.7440177\ttest: 1957.3959028\tbest: 1957.3959028 (80)\ttotal: 41.1s\tremaining: 1m\n",
      "81:\tlearn: 1866.5658528\ttest: 1948.6466891\tbest: 1948.6466891 (81)\ttotal: 41.6s\tremaining: 59.9s\n",
      "82:\tlearn: 1858.3180104\ttest: 1940.7712529\tbest: 1940.7712529 (82)\ttotal: 42.2s\tremaining: 59.4s\n",
      "83:\tlearn: 1849.7548287\ttest: 1932.7837270\tbest: 1932.7837270 (83)\ttotal: 42.7s\tremaining: 59s\n",
      "84:\tlearn: 1841.6120258\ttest: 1925.0973046\tbest: 1925.0973046 (84)\ttotal: 43.2s\tremaining: 58.5s\n",
      "85:\tlearn: 1833.2552705\ttest: 1917.6238853\tbest: 1917.6238853 (85)\ttotal: 43.8s\tremaining: 58.1s\n",
      "86:\tlearn: 1825.8338544\ttest: 1910.8830451\tbest: 1910.8830451 (86)\ttotal: 44.3s\tremaining: 57.6s\n",
      "87:\tlearn: 1818.9970680\ttest: 1904.6293550\tbest: 1904.6293550 (87)\ttotal: 44.9s\tremaining: 57.1s\n",
      "88:\tlearn: 1812.3100283\ttest: 1898.4916091\tbest: 1898.4916091 (88)\ttotal: 45.4s\tremaining: 56.6s\n",
      "89:\tlearn: 1804.7488817\ttest: 1891.8379455\tbest: 1891.8379455 (89)\ttotal: 46s\tremaining: 56.2s\n",
      "90:\tlearn: 1798.8154547\ttest: 1886.4583151\tbest: 1886.4583151 (90)\ttotal: 46.5s\tremaining: 55.7s\n",
      "91:\tlearn: 1792.1219431\ttest: 1880.7172182\tbest: 1880.7172182 (91)\ttotal: 47s\tremaining: 55.1s\n",
      "92:\tlearn: 1786.0120661\ttest: 1875.0997792\tbest: 1875.0997792 (92)\ttotal: 47.5s\tremaining: 54.6s\n",
      "93:\tlearn: 1780.0461715\ttest: 1869.7733618\tbest: 1869.7733618 (93)\ttotal: 48s\tremaining: 54.1s\n",
      "94:\tlearn: 1774.3434322\ttest: 1864.3178475\tbest: 1864.3178475 (94)\ttotal: 48.5s\tremaining: 53.6s\n",
      "95:\tlearn: 1769.0448699\ttest: 1859.8220397\tbest: 1859.8220397 (95)\ttotal: 49s\tremaining: 53.1s\n",
      "96:\tlearn: 1763.6927709\ttest: 1854.7491727\tbest: 1854.7491727 (96)\ttotal: 49.5s\tremaining: 52.6s\n",
      "97:\tlearn: 1757.9883625\ttest: 1849.6321632\tbest: 1849.6321632 (97)\ttotal: 50s\tremaining: 52.1s\n",
      "98:\tlearn: 1753.3096703\ttest: 1845.2927072\tbest: 1845.2927072 (98)\ttotal: 50.5s\tremaining: 51.6s\n",
      "99:\tlearn: 1748.7861861\ttest: 1841.3020385\tbest: 1841.3020385 (99)\ttotal: 51.1s\tremaining: 51.1s\n",
      "100:\tlearn: 1744.0660724\ttest: 1837.0666975\tbest: 1837.0666975 (100)\ttotal: 51.6s\tremaining: 50.5s\n",
      "101:\tlearn: 1739.6690962\ttest: 1833.0848449\tbest: 1833.0848449 (101)\ttotal: 52.1s\tremaining: 50s\n",
      "102:\tlearn: 1734.5873141\ttest: 1828.6535771\tbest: 1828.6535771 (102)\ttotal: 52.6s\tremaining: 49.5s\n",
      "103:\tlearn: 1730.0373755\ttest: 1824.5019987\tbest: 1824.5019987 (103)\ttotal: 53.1s\tremaining: 49s\n",
      "104:\tlearn: 1726.5886786\ttest: 1821.3119964\tbest: 1821.3119964 (104)\ttotal: 53.6s\tremaining: 48.5s\n",
      "105:\tlearn: 1722.9519405\ttest: 1818.2939166\tbest: 1818.2939166 (105)\ttotal: 54.1s\tremaining: 48s\n",
      "106:\tlearn: 1719.2577039\ttest: 1815.1314249\tbest: 1815.1314249 (106)\ttotal: 54.7s\tremaining: 47.5s\n",
      "107:\tlearn: 1715.5758047\ttest: 1811.7783653\tbest: 1811.7783653 (107)\ttotal: 55.2s\tremaining: 47s\n",
      "108:\tlearn: 1711.6170231\ttest: 1808.5448426\tbest: 1808.5448426 (108)\ttotal: 55.7s\tremaining: 46.5s\n",
      "109:\tlearn: 1707.9937269\ttest: 1805.1240146\tbest: 1805.1240146 (109)\ttotal: 56.2s\tremaining: 46s\n",
      "110:\tlearn: 1704.5835760\ttest: 1802.1527665\tbest: 1802.1527665 (110)\ttotal: 56.7s\tremaining: 45.5s\n",
      "111:\tlearn: 1701.4031021\ttest: 1799.7110351\tbest: 1799.7110351 (111)\ttotal: 57.2s\tremaining: 45s\n",
      "112:\tlearn: 1698.0019773\ttest: 1796.9509794\tbest: 1796.9509794 (112)\ttotal: 57.7s\tremaining: 44.5s\n",
      "113:\tlearn: 1694.9622962\ttest: 1794.4929350\tbest: 1794.4929350 (113)\ttotal: 58.3s\tremaining: 44s\n",
      "114:\tlearn: 1692.4621450\ttest: 1792.2897304\tbest: 1792.2897304 (114)\ttotal: 58.8s\tremaining: 43.5s\n",
      "115:\tlearn: 1689.7105470\ttest: 1790.0358663\tbest: 1790.0358663 (115)\ttotal: 59.3s\tremaining: 42.9s\n",
      "116:\tlearn: 1687.2430330\ttest: 1787.9392195\tbest: 1787.9392195 (116)\ttotal: 59.8s\tremaining: 42.4s\n",
      "117:\tlearn: 1684.4147940\ttest: 1785.4810217\tbest: 1785.4810217 (117)\ttotal: 1m\tremaining: 41.9s\n",
      "118:\tlearn: 1681.7918484\ttest: 1783.5733882\tbest: 1783.5733882 (118)\ttotal: 1m\tremaining: 41.4s\n",
      "119:\tlearn: 1678.5123290\ttest: 1780.8288470\tbest: 1780.8288470 (119)\ttotal: 1m 1s\tremaining: 40.9s\n",
      "120:\tlearn: 1676.1171568\ttest: 1778.6600221\tbest: 1778.6600221 (120)\ttotal: 1m 1s\tremaining: 40.4s\n",
      "121:\tlearn: 1673.3718317\ttest: 1776.4802797\tbest: 1776.4802797 (121)\ttotal: 1m 2s\tremaining: 39.9s\n",
      "122:\tlearn: 1671.2403786\ttest: 1774.8170435\tbest: 1774.8170435 (122)\ttotal: 1m 2s\tremaining: 39.4s\n",
      "123:\tlearn: 1668.9152306\ttest: 1772.7557244\tbest: 1772.7557244 (123)\ttotal: 1m 3s\tremaining: 38.9s\n",
      "124:\tlearn: 1666.5993496\ttest: 1770.6164732\tbest: 1770.6164732 (124)\ttotal: 1m 3s\tremaining: 38.4s\n",
      "125:\tlearn: 1664.1020622\ttest: 1768.3354513\tbest: 1768.3354513 (125)\ttotal: 1m 4s\tremaining: 37.8s\n",
      "126:\tlearn: 1661.9597749\ttest: 1766.5615463\tbest: 1766.5615463 (126)\ttotal: 1m 4s\tremaining: 37.3s\n",
      "127:\tlearn: 1660.0943012\ttest: 1765.0082591\tbest: 1765.0082591 (127)\ttotal: 1m 5s\tremaining: 36.8s\n",
      "128:\tlearn: 1658.2372528\ttest: 1763.5694542\tbest: 1763.5694542 (128)\ttotal: 1m 5s\tremaining: 36.3s\n",
      "129:\tlearn: 1656.1084137\ttest: 1761.6496462\tbest: 1761.6496462 (129)\ttotal: 1m 6s\tremaining: 35.8s\n",
      "130:\tlearn: 1654.1564845\ttest: 1760.0014478\tbest: 1760.0014478 (130)\ttotal: 1m 6s\tremaining: 35.3s\n",
      "131:\tlearn: 1651.6449519\ttest: 1758.2151230\tbest: 1758.2151230 (131)\ttotal: 1m 7s\tremaining: 34.8s\n",
      "132:\tlearn: 1650.0204010\ttest: 1756.8626470\tbest: 1756.8626470 (132)\ttotal: 1m 7s\tremaining: 34.3s\n",
      "133:\tlearn: 1648.1820902\ttest: 1755.5230885\tbest: 1755.5230885 (133)\ttotal: 1m 8s\tremaining: 33.7s\n",
      "134:\tlearn: 1646.2504511\ttest: 1754.1538602\tbest: 1754.1538602 (134)\ttotal: 1m 9s\tremaining: 33.2s\n",
      "135:\tlearn: 1643.9916496\ttest: 1752.3550513\tbest: 1752.3550513 (135)\ttotal: 1m 9s\tremaining: 32.7s\n",
      "136:\tlearn: 1641.1683250\ttest: 1750.1768277\tbest: 1750.1768277 (136)\ttotal: 1m 10s\tremaining: 32.2s\n",
      "137:\tlearn: 1639.4243635\ttest: 1748.9221339\tbest: 1748.9221339 (137)\ttotal: 1m 10s\tremaining: 31.7s\n",
      "138:\tlearn: 1637.4573982\ttest: 1747.4838888\tbest: 1747.4838888 (138)\ttotal: 1m 11s\tremaining: 31.2s\n",
      "139:\tlearn: 1635.9255323\ttest: 1746.1727405\tbest: 1746.1727405 (139)\ttotal: 1m 11s\tremaining: 30.7s\n",
      "140:\tlearn: 1634.0493264\ttest: 1744.7724915\tbest: 1744.7724915 (140)\ttotal: 1m 12s\tremaining: 30.2s\n",
      "141:\tlearn: 1631.9079644\ttest: 1743.2641690\tbest: 1743.2641690 (141)\ttotal: 1m 12s\tremaining: 29.7s\n",
      "142:\tlearn: 1630.3322870\ttest: 1741.9939867\tbest: 1741.9939867 (142)\ttotal: 1m 13s\tremaining: 29.2s\n",
      "143:\tlearn: 1628.8903217\ttest: 1740.8370783\tbest: 1740.8370783 (143)\ttotal: 1m 13s\tremaining: 28.7s\n",
      "144:\tlearn: 1627.0519254\ttest: 1739.6875962\tbest: 1739.6875962 (144)\ttotal: 1m 14s\tremaining: 28.2s\n",
      "145:\tlearn: 1624.7351541\ttest: 1738.0336561\tbest: 1738.0336561 (145)\ttotal: 1m 14s\tremaining: 27.6s\n",
      "146:\tlearn: 1623.3166650\ttest: 1736.8154488\tbest: 1736.8154488 (146)\ttotal: 1m 15s\tremaining: 27.1s\n",
      "147:\tlearn: 1621.6012919\ttest: 1735.6148976\tbest: 1735.6148976 (147)\ttotal: 1m 15s\tremaining: 26.6s\n",
      "148:\tlearn: 1619.8395117\ttest: 1734.1369840\tbest: 1734.1369840 (148)\ttotal: 1m 16s\tremaining: 26.1s\n",
      "149:\tlearn: 1617.8850538\ttest: 1732.6368651\tbest: 1732.6368651 (149)\ttotal: 1m 16s\tremaining: 25.6s\n",
      "150:\tlearn: 1616.0341754\ttest: 1731.2615123\tbest: 1731.2615123 (150)\ttotal: 1m 17s\tremaining: 25.1s\n",
      "151:\tlearn: 1614.6222451\ttest: 1730.1581747\tbest: 1730.1581747 (151)\ttotal: 1m 17s\tremaining: 24.6s\n",
      "152:\tlearn: 1613.3687297\ttest: 1729.1696154\tbest: 1729.1696154 (152)\ttotal: 1m 18s\tremaining: 24.1s\n",
      "153:\tlearn: 1612.1019817\ttest: 1728.1651078\tbest: 1728.1651078 (153)\ttotal: 1m 19s\tremaining: 23.6s\n",
      "154:\tlearn: 1610.5407890\ttest: 1726.9325460\tbest: 1726.9325460 (154)\ttotal: 1m 19s\tremaining: 23.1s\n",
      "155:\tlearn: 1609.2515857\ttest: 1725.8417583\tbest: 1725.8417583 (155)\ttotal: 1m 20s\tremaining: 22.6s\n",
      "156:\tlearn: 1608.0630007\ttest: 1724.9450760\tbest: 1724.9450760 (156)\ttotal: 1m 20s\tremaining: 22.1s\n",
      "157:\tlearn: 1606.8935041\ttest: 1724.1847588\tbest: 1724.1847588 (157)\ttotal: 1m 21s\tremaining: 21.6s\n",
      "158:\tlearn: 1605.7317539\ttest: 1723.3044864\tbest: 1723.3044864 (158)\ttotal: 1m 21s\tremaining: 21.1s\n",
      "159:\tlearn: 1604.2584203\ttest: 1722.2705969\tbest: 1722.2705969 (159)\ttotal: 1m 22s\tremaining: 20.5s\n",
      "160:\tlearn: 1603.0109880\ttest: 1721.4733174\tbest: 1721.4733174 (160)\ttotal: 1m 22s\tremaining: 20s\n",
      "161:\tlearn: 1601.9410828\ttest: 1720.8952737\tbest: 1720.8952737 (161)\ttotal: 1m 23s\tremaining: 19.5s\n",
      "162:\tlearn: 1600.0804509\ttest: 1719.8219851\tbest: 1719.8219851 (162)\ttotal: 1m 23s\tremaining: 19s\n",
      "163:\tlearn: 1598.5700068\ttest: 1718.8758101\tbest: 1718.8758101 (163)\ttotal: 1m 24s\tremaining: 18.5s\n",
      "164:\tlearn: 1597.4565162\ttest: 1717.8284698\tbest: 1717.8284698 (164)\ttotal: 1m 24s\tremaining: 18s\n",
      "165:\tlearn: 1596.5199901\ttest: 1717.0439108\tbest: 1717.0439108 (165)\ttotal: 1m 25s\tremaining: 17.5s\n",
      "166:\tlearn: 1594.9487215\ttest: 1715.8572541\tbest: 1715.8572541 (166)\ttotal: 1m 25s\tremaining: 16.9s\n",
      "167:\tlearn: 1593.9021121\ttest: 1715.1163116\tbest: 1715.1163116 (167)\ttotal: 1m 26s\tremaining: 16.4s\n",
      "168:\tlearn: 1592.5929314\ttest: 1714.4458411\tbest: 1714.4458411 (168)\ttotal: 1m 26s\tremaining: 15.9s\n",
      "169:\tlearn: 1591.7737869\ttest: 1713.8597985\tbest: 1713.8597985 (169)\ttotal: 1m 27s\tremaining: 15.4s\n",
      "170:\tlearn: 1590.6886636\ttest: 1712.9914508\tbest: 1712.9914508 (170)\ttotal: 1m 27s\tremaining: 14.9s\n",
      "171:\tlearn: 1589.6090302\ttest: 1712.2535497\tbest: 1712.2535497 (171)\ttotal: 1m 28s\tremaining: 14.4s\n",
      "172:\tlearn: 1588.5499744\ttest: 1711.6268565\tbest: 1711.6268565 (172)\ttotal: 1m 28s\tremaining: 13.9s\n",
      "173:\tlearn: 1587.3976988\ttest: 1710.9496675\tbest: 1710.9496675 (173)\ttotal: 1m 29s\tremaining: 13.3s\n",
      "174:\tlearn: 1586.2634950\ttest: 1710.2965762\tbest: 1710.2965762 (174)\ttotal: 1m 29s\tremaining: 12.8s\n",
      "175:\tlearn: 1584.7844758\ttest: 1709.3104162\tbest: 1709.3104162 (175)\ttotal: 1m 30s\tremaining: 12.3s\n",
      "176:\tlearn: 1583.9496078\ttest: 1708.6669477\tbest: 1708.6669477 (176)\ttotal: 1m 30s\tremaining: 11.8s\n",
      "177:\tlearn: 1582.9788009\ttest: 1707.9989996\tbest: 1707.9989996 (177)\ttotal: 1m 31s\tremaining: 11.3s\n",
      "178:\tlearn: 1582.2937018\ttest: 1707.4871424\tbest: 1707.4871424 (178)\ttotal: 1m 31s\tremaining: 10.8s\n",
      "179:\tlearn: 1581.0647294\ttest: 1706.7105026\tbest: 1706.7105026 (179)\ttotal: 1m 32s\tremaining: 10.3s\n",
      "180:\tlearn: 1580.2010305\ttest: 1706.0752219\tbest: 1706.0752219 (180)\ttotal: 1m 32s\tremaining: 9.75s\n",
      "181:\tlearn: 1579.1987505\ttest: 1705.5159326\tbest: 1705.5159326 (181)\ttotal: 1m 33s\tremaining: 9.24s\n",
      "182:\tlearn: 1578.2332116\ttest: 1704.8204057\tbest: 1704.8204057 (182)\ttotal: 1m 33s\tremaining: 8.73s\n",
      "183:\tlearn: 1577.1166614\ttest: 1704.1488626\tbest: 1704.1488626 (183)\ttotal: 1m 34s\tremaining: 8.21s\n",
      "184:\tlearn: 1576.0469665\ttest: 1703.6191626\tbest: 1703.6191626 (184)\ttotal: 1m 34s\tremaining: 7.7s\n",
      "185:\tlearn: 1575.1919674\ttest: 1703.2153739\tbest: 1703.2153739 (185)\ttotal: 1m 35s\tremaining: 7.18s\n",
      "186:\tlearn: 1574.3037257\ttest: 1702.6909660\tbest: 1702.6909660 (186)\ttotal: 1m 35s\tremaining: 6.67s\n",
      "187:\tlearn: 1573.2780311\ttest: 1702.1154996\tbest: 1702.1154996 (187)\ttotal: 1m 36s\tremaining: 6.16s\n",
      "188:\tlearn: 1572.6585949\ttest: 1701.5713208\tbest: 1701.5713208 (188)\ttotal: 1m 36s\tremaining: 5.64s\n",
      "189:\tlearn: 1571.8932232\ttest: 1701.0143794\tbest: 1701.0143794 (189)\ttotal: 1m 37s\tremaining: 5.13s\n",
      "190:\tlearn: 1570.2094866\ttest: 1700.1354906\tbest: 1700.1354906 (190)\ttotal: 1m 37s\tremaining: 4.62s\n",
      "191:\tlearn: 1569.3583064\ttest: 1699.5529026\tbest: 1699.5529026 (191)\ttotal: 1m 38s\tremaining: 4.1s\n",
      "192:\tlearn: 1568.4300175\ttest: 1698.9188398\tbest: 1698.9188398 (192)\ttotal: 1m 38s\tremaining: 3.59s\n",
      "193:\tlearn: 1567.3412013\ttest: 1698.5037015\tbest: 1698.5037015 (193)\ttotal: 1m 39s\tremaining: 3.08s\n",
      "194:\tlearn: 1566.4741983\ttest: 1698.1621461\tbest: 1698.1621461 (194)\ttotal: 1m 39s\tremaining: 2.56s\n",
      "195:\tlearn: 1565.5876905\ttest: 1697.6392062\tbest: 1697.6392062 (195)\ttotal: 1m 40s\tremaining: 2.05s\n",
      "196:\tlearn: 1564.8629624\ttest: 1697.1654033\tbest: 1697.1654033 (196)\ttotal: 1m 41s\tremaining: 1.54s\n",
      "197:\tlearn: 1563.5859741\ttest: 1696.6377575\tbest: 1696.6377575 (197)\ttotal: 1m 41s\tremaining: 1.02s\n",
      "198:\tlearn: 1562.2692213\ttest: 1695.9510052\tbest: 1695.9510052 (198)\ttotal: 1m 42s\tremaining: 513ms\n",
      "199:\tlearn: 1561.4491132\ttest: 1695.5947016\tbest: 1695.5947016 (199)\ttotal: 1m 42s\tremaining: 0us\n",
      "\n",
      "bestTest = 1695.594702\n",
      "bestIteration = 199\n",
      "\n",
      "Training on fold [1/2]\n",
      "0:\tlearn: 6344.7755243\ttest: 6324.6869044\tbest: 6324.6869044 (0)\ttotal: 534ms\tremaining: 1m 46s\n",
      "1:\tlearn: 6183.8615144\ttest: 6164.1219968\tbest: 6164.1219968 (1)\ttotal: 1.03s\tremaining: 1m 42s\n",
      "2:\tlearn: 6029.6503410\ttest: 6010.8678589\tbest: 6010.8678589 (2)\ttotal: 1.55s\tremaining: 1m 41s\n",
      "3:\tlearn: 5878.8655791\ttest: 5860.5051675\tbest: 5860.5051675 (3)\ttotal: 1.78s\tremaining: 1m 27s\n",
      "4:\tlearn: 5732.2801925\ttest: 5714.1142994\tbest: 5714.1142994 (4)\ttotal: 2.29s\tremaining: 1m 29s\n",
      "5:\tlearn: 5589.0345523\ttest: 5571.3497516\tbest: 5571.3497516 (5)\ttotal: 2.81s\tremaining: 1m 30s\n",
      "6:\tlearn: 5452.0500693\ttest: 5435.1339101\tbest: 5435.1339101 (6)\ttotal: 3.31s\tremaining: 1m 31s\n",
      "7:\tlearn: 5321.5624232\ttest: 5305.9722216\tbest: 5305.9722216 (7)\ttotal: 3.82s\tremaining: 1m 31s\n",
      "8:\tlearn: 5193.0772944\ttest: 5178.3645047\tbest: 5178.3645047 (8)\ttotal: 4.33s\tremaining: 1m 31s\n",
      "9:\tlearn: 5067.4167537\ttest: 5053.6182633\tbest: 5053.6182633 (9)\ttotal: 4.85s\tremaining: 1m 32s\n",
      "10:\tlearn: 4947.3938704\ttest: 4934.3114542\tbest: 4934.3114542 (10)\ttotal: 5.36s\tremaining: 1m 32s\n",
      "11:\tlearn: 4830.6814124\ttest: 4818.3368120\tbest: 4818.3368120 (11)\ttotal: 5.88s\tremaining: 1m 32s\n",
      "12:\tlearn: 4720.2552034\ttest: 4709.0484662\tbest: 4709.0484662 (12)\ttotal: 6.4s\tremaining: 1m 32s\n",
      "13:\tlearn: 4611.7591772\ttest: 4601.5032103\tbest: 4601.5032103 (13)\ttotal: 6.93s\tremaining: 1m 32s\n",
      "14:\tlearn: 4507.8273363\ttest: 4498.4284152\tbest: 4498.4284152 (14)\ttotal: 7.45s\tremaining: 1m 31s\n",
      "15:\tlearn: 4405.5881093\ttest: 4397.3408725\tbest: 4397.3408725 (15)\ttotal: 7.97s\tremaining: 1m 31s\n",
      "16:\tlearn: 4306.3009278\ttest: 4298.9782030\tbest: 4298.9782030 (16)\ttotal: 8.53s\tremaining: 1m 31s\n",
      "17:\tlearn: 4210.8191635\ttest: 4204.4446061\tbest: 4204.4446061 (17)\ttotal: 9.18s\tremaining: 1m 32s\n",
      "18:\tlearn: 4119.4591912\ttest: 4113.9710739\tbest: 4113.9710739 (18)\ttotal: 9.69s\tremaining: 1m 32s\n",
      "19:\tlearn: 4029.4882863\ttest: 4024.9487289\tbest: 4024.9487289 (19)\ttotal: 10.2s\tremaining: 1m 31s\n",
      "20:\tlearn: 3943.9553766\ttest: 3940.7604010\tbest: 3940.7604010 (20)\ttotal: 10.7s\tremaining: 1m 31s\n",
      "21:\tlearn: 3861.2646657\ttest: 3859.2893408\tbest: 3859.2893408 (21)\ttotal: 11.3s\tremaining: 1m 31s\n",
      "22:\tlearn: 3779.0904443\ttest: 3777.5701565\tbest: 3777.5701565 (22)\ttotal: 11.8s\tremaining: 1m 30s\n",
      "23:\tlearn: 3700.6338332\ttest: 3700.1499919\tbest: 3700.1499919 (23)\ttotal: 12.3s\tremaining: 1m 30s\n",
      "24:\tlearn: 3625.8427139\ttest: 3626.2576872\tbest: 3626.2576872 (24)\ttotal: 12.8s\tremaining: 1m 29s\n",
      "25:\tlearn: 3551.9868446\ttest: 3553.1985752\tbest: 3553.1985752 (25)\ttotal: 13.3s\tremaining: 1m 29s\n",
      "26:\tlearn: 3480.7466837\ttest: 3482.6281423\tbest: 3482.6281423 (26)\ttotal: 13.8s\tremaining: 1m 28s\n",
      "27:\tlearn: 3413.1417235\ttest: 3416.0699269\tbest: 3416.0699269 (27)\ttotal: 14.3s\tremaining: 1m 27s\n",
      "28:\tlearn: 3347.1976765\ttest: 3350.7856405\tbest: 3350.7856405 (28)\ttotal: 14.8s\tremaining: 1m 27s\n",
      "29:\tlearn: 3283.6343486\ttest: 3288.1463452\tbest: 3288.1463452 (29)\ttotal: 15.3s\tremaining: 1m 26s\n",
      "30:\tlearn: 3221.4980378\ttest: 3227.0367617\tbest: 3227.0367617 (30)\ttotal: 15.9s\tremaining: 1m 26s\n",
      "31:\tlearn: 3162.5827906\ttest: 3169.1325127\tbest: 3169.1325127 (31)\ttotal: 16.4s\tremaining: 1m 26s\n",
      "32:\tlearn: 3106.1235624\ttest: 3113.9171692\tbest: 3113.9171692 (32)\ttotal: 16.9s\tremaining: 1m 25s\n",
      "33:\tlearn: 3051.4840774\ttest: 3060.4653323\tbest: 3060.4653323 (33)\ttotal: 17.4s\tremaining: 1m 24s\n",
      "34:\tlearn: 2997.7754218\ttest: 3007.5672330\tbest: 3007.5672330 (34)\ttotal: 17.9s\tremaining: 1m 24s\n",
      "35:\tlearn: 2946.9914154\ttest: 2957.7805780\tbest: 2957.7805780 (35)\ttotal: 18.4s\tremaining: 1m 23s\n",
      "36:\tlearn: 2899.7274706\ttest: 2911.7035867\tbest: 2911.7035867 (36)\ttotal: 18.9s\tremaining: 1m 23s\n",
      "37:\tlearn: 2852.3474869\ttest: 2865.6161566\tbest: 2865.6161566 (37)\ttotal: 19.4s\tremaining: 1m 22s\n",
      "38:\tlearn: 2807.3375179\ttest: 2821.5300430\tbest: 2821.5300430 (38)\ttotal: 19.9s\tremaining: 1m 22s\n",
      "39:\tlearn: 2763.9264826\ttest: 2779.4731400\tbest: 2779.4731400 (39)\ttotal: 20.5s\tremaining: 1m 21s\n",
      "40:\tlearn: 2722.7536389\ttest: 2739.6630646\tbest: 2739.6630646 (40)\ttotal: 21s\tremaining: 1m 21s\n",
      "41:\tlearn: 2681.5805052\ttest: 2699.4404574\tbest: 2699.4404574 (41)\ttotal: 21.5s\tremaining: 1m 20s\n",
      "42:\tlearn: 2641.9820078\ttest: 2660.9326968\tbest: 2660.9326968 (42)\ttotal: 22s\tremaining: 1m 20s\n",
      "43:\tlearn: 2604.9453284\ttest: 2624.9256227\tbest: 2624.9256227 (43)\ttotal: 22.5s\tremaining: 1m 19s\n",
      "44:\tlearn: 2568.3266117\ttest: 2589.3135027\tbest: 2589.3135027 (44)\ttotal: 23s\tremaining: 1m 19s\n",
      "45:\tlearn: 2534.2927981\ttest: 2556.3590374\tbest: 2556.3590374 (45)\ttotal: 23.5s\tremaining: 1m 18s\n",
      "46:\tlearn: 2500.3106238\ttest: 2523.5265828\tbest: 2523.5265828 (46)\ttotal: 24.1s\tremaining: 1m 18s\n",
      "47:\tlearn: 2467.6895049\ttest: 2492.0528570\tbest: 2492.0528570 (47)\ttotal: 24.6s\tremaining: 1m 17s\n",
      "48:\tlearn: 2437.4149356\ttest: 2462.7386771\tbest: 2462.7386771 (48)\ttotal: 25.1s\tremaining: 1m 17s\n",
      "49:\tlearn: 2406.9598977\ttest: 2433.5168729\tbest: 2433.5168729 (49)\ttotal: 25.6s\tremaining: 1m 16s\n",
      "50:\tlearn: 2378.2674188\ttest: 2405.8119069\tbest: 2405.8119069 (50)\ttotal: 26.1s\tremaining: 1m 16s\n",
      "51:\tlearn: 2351.1903902\ttest: 2379.6271872\tbest: 2379.6271872 (51)\ttotal: 26.6s\tremaining: 1m 15s\n",
      "52:\tlearn: 2324.8975217\ttest: 2354.3484316\tbest: 2354.3484316 (52)\ttotal: 27.1s\tremaining: 1m 15s\n",
      "53:\tlearn: 2299.9308423\ttest: 2330.3805497\tbest: 2330.3805497 (53)\ttotal: 27.6s\tremaining: 1m 14s\n",
      "54:\tlearn: 2276.2055880\ttest: 2307.7923007\tbest: 2307.7923007 (54)\ttotal: 28.2s\tremaining: 1m 14s\n",
      "55:\tlearn: 2252.3558080\ttest: 2285.1518700\tbest: 2285.1518700 (55)\ttotal: 28.7s\tremaining: 1m 13s\n",
      "56:\tlearn: 2230.3588695\ttest: 2264.3207587\tbest: 2264.3207587 (56)\ttotal: 29.2s\tremaining: 1m 13s\n",
      "57:\tlearn: 2209.1560517\ttest: 2243.9741921\tbest: 2243.9741921 (57)\ttotal: 29.7s\tremaining: 1m 12s\n",
      "58:\tlearn: 2187.8359317\ttest: 2223.5132335\tbest: 2223.5132335 (58)\ttotal: 30.2s\tremaining: 1m 12s\n",
      "59:\tlearn: 2168.5784793\ttest: 2205.3167031\tbest: 2205.3167031 (59)\ttotal: 30.8s\tremaining: 1m 11s\n",
      "60:\tlearn: 2149.5823963\ttest: 2187.1563121\tbest: 2187.1563121 (60)\ttotal: 31.3s\tremaining: 1m 11s\n",
      "61:\tlearn: 2131.1167974\ttest: 2170.0036699\tbest: 2170.0036699 (61)\ttotal: 31.8s\tremaining: 1m 10s\n",
      "62:\tlearn: 2113.9004708\ttest: 2153.7981532\tbest: 2153.7981532 (62)\ttotal: 32.3s\tremaining: 1m 10s\n",
      "63:\tlearn: 2095.9583941\ttest: 2136.9134295\tbest: 2136.9134295 (63)\ttotal: 32.9s\tremaining: 1m 9s\n",
      "64:\tlearn: 2079.0853381\ttest: 2121.1431374\tbest: 2121.1431374 (64)\ttotal: 33.4s\tremaining: 1m 9s\n",
      "65:\tlearn: 2062.9142029\ttest: 2105.9262874\tbest: 2105.9262874 (65)\ttotal: 34s\tremaining: 1m 8s\n",
      "66:\tlearn: 2046.7601468\ttest: 2090.7573104\tbest: 2090.7573104 (66)\ttotal: 34.5s\tremaining: 1m 8s\n",
      "67:\tlearn: 2032.2966932\ttest: 2077.4140197\tbest: 2077.4140197 (67)\ttotal: 35s\tremaining: 1m 8s\n",
      "68:\tlearn: 2018.0707840\ttest: 2063.8055245\tbest: 2063.8055245 (68)\ttotal: 35.6s\tremaining: 1m 7s\n",
      "69:\tlearn: 2004.7908702\ttest: 2051.2944965\tbest: 2051.2944965 (69)\ttotal: 36.1s\tremaining: 1m 7s\n",
      "70:\tlearn: 1992.2600444\ttest: 2039.7612501\tbest: 2039.7612501 (70)\ttotal: 36.7s\tremaining: 1m 6s\n",
      "71:\tlearn: 1979.1055747\ttest: 2027.8811272\tbest: 2027.8811272 (71)\ttotal: 37.2s\tremaining: 1m 6s\n",
      "72:\tlearn: 1967.3985901\ttest: 2017.1857006\tbest: 2017.1857006 (72)\ttotal: 37.7s\tremaining: 1m 5s\n",
      "73:\tlearn: 1954.9012970\ttest: 2005.5532369\tbest: 2005.5532369 (73)\ttotal: 38.2s\tremaining: 1m 5s\n",
      "74:\tlearn: 1943.8816539\ttest: 1995.1934154\tbest: 1995.1934154 (74)\ttotal: 38.7s\tremaining: 1m 4s\n",
      "75:\tlearn: 1932.6122929\ttest: 1984.8778630\tbest: 1984.8778630 (75)\ttotal: 39.2s\tremaining: 1m 4s\n",
      "76:\tlearn: 1921.5219101\ttest: 1974.5168012\tbest: 1974.5168012 (76)\ttotal: 39.8s\tremaining: 1m 3s\n",
      "77:\tlearn: 1910.4453213\ttest: 1964.5558287\tbest: 1964.5558287 (77)\ttotal: 40.3s\tremaining: 1m 2s\n",
      "78:\tlearn: 1900.6794275\ttest: 1955.3037741\tbest: 1955.3037741 (78)\ttotal: 40.8s\tremaining: 1m 2s\n",
      "79:\tlearn: 1890.9381772\ttest: 1946.5183789\tbest: 1946.5183789 (79)\ttotal: 41.3s\tremaining: 1m 1s\n",
      "80:\tlearn: 1881.3483479\ttest: 1937.7079942\tbest: 1937.7079942 (80)\ttotal: 41.8s\tremaining: 1m 1s\n",
      "81:\tlearn: 1872.8121982\ttest: 1930.1848553\tbest: 1930.1848553 (81)\ttotal: 42.3s\tremaining: 1m\n",
      "82:\tlearn: 1864.8137511\ttest: 1923.0594377\tbest: 1923.0594377 (82)\ttotal: 42.8s\tremaining: 1m\n",
      "83:\tlearn: 1856.5399473\ttest: 1915.3770486\tbest: 1915.3770486 (83)\ttotal: 43.4s\tremaining: 59.9s\n",
      "84:\tlearn: 1848.5917417\ttest: 1908.5744899\tbest: 1908.5744899 (84)\ttotal: 43.9s\tremaining: 59.4s\n",
      "85:\tlearn: 1841.6871508\ttest: 1902.2307135\tbest: 1902.2307135 (85)\ttotal: 44.4s\tremaining: 58.8s\n",
      "86:\tlearn: 1833.8050277\ttest: 1895.0764511\tbest: 1895.0764511 (86)\ttotal: 44.9s\tremaining: 58.3s\n",
      "87:\tlearn: 1826.2597174\ttest: 1888.4035480\tbest: 1888.4035480 (87)\ttotal: 45.4s\tremaining: 57.7s\n",
      "88:\tlearn: 1820.0007686\ttest: 1882.7502161\tbest: 1882.7502161 (88)\ttotal: 45.9s\tremaining: 57.2s\n",
      "89:\tlearn: 1813.9542415\ttest: 1877.2493083\tbest: 1877.2493083 (89)\ttotal: 46.4s\tremaining: 56.7s\n",
      "90:\tlearn: 1808.0803234\ttest: 1872.0893541\tbest: 1872.0893541 (90)\ttotal: 46.9s\tremaining: 56.2s\n",
      "91:\tlearn: 1801.6505633\ttest: 1866.5341793\tbest: 1866.5341793 (91)\ttotal: 47.4s\tremaining: 55.7s\n",
      "92:\tlearn: 1795.3703007\ttest: 1860.7428271\tbest: 1860.7428271 (92)\ttotal: 47.9s\tremaining: 55.2s\n",
      "93:\tlearn: 1789.6828836\ttest: 1855.8747739\tbest: 1855.8747739 (93)\ttotal: 48.5s\tremaining: 54.6s\n",
      "94:\tlearn: 1784.2132190\ttest: 1851.3905263\tbest: 1851.3905263 (94)\ttotal: 49s\tremaining: 54.1s\n",
      "95:\tlearn: 1779.2923467\ttest: 1847.0340715\tbest: 1847.0340715 (95)\ttotal: 49.5s\tremaining: 53.6s\n",
      "96:\tlearn: 1773.4630602\ttest: 1841.8806583\tbest: 1841.8806583 (96)\ttotal: 50s\tremaining: 53.1s\n",
      "97:\tlearn: 1767.8034863\ttest: 1836.7651865\tbest: 1836.7651865 (97)\ttotal: 50.5s\tremaining: 52.6s\n",
      "98:\tlearn: 1762.6581275\ttest: 1832.5264217\tbest: 1832.5264217 (98)\ttotal: 51.1s\tremaining: 52.1s\n",
      "99:\tlearn: 1757.7644923\ttest: 1828.1981375\tbest: 1828.1981375 (99)\ttotal: 51.6s\tremaining: 51.6s\n",
      "100:\tlearn: 1751.8824629\ttest: 1822.9752462\tbest: 1822.9752462 (100)\ttotal: 52.1s\tremaining: 51.1s\n",
      "101:\tlearn: 1747.3530887\ttest: 1818.8370489\tbest: 1818.8370489 (101)\ttotal: 52.6s\tremaining: 50.6s\n",
      "102:\tlearn: 1742.9065740\ttest: 1815.1302851\tbest: 1815.1302851 (102)\ttotal: 53.1s\tremaining: 50s\n",
      "103:\tlearn: 1738.0956095\ttest: 1810.9541017\tbest: 1810.9541017 (103)\ttotal: 53.7s\tremaining: 49.5s\n",
      "104:\tlearn: 1733.3233353\ttest: 1807.0299639\tbest: 1807.0299639 (104)\ttotal: 54.2s\tremaining: 49s\n",
      "105:\tlearn: 1729.4220104\ttest: 1803.5265939\tbest: 1803.5265939 (105)\ttotal: 54.7s\tremaining: 48.5s\n",
      "106:\tlearn: 1725.1563616\ttest: 1800.1899286\tbest: 1800.1899286 (106)\ttotal: 55.2s\tremaining: 48s\n",
      "107:\tlearn: 1721.4332221\ttest: 1797.1712839\tbest: 1797.1712839 (107)\ttotal: 55.7s\tremaining: 47.4s\n",
      "108:\tlearn: 1717.9563030\ttest: 1794.5993187\tbest: 1794.5993187 (108)\ttotal: 56.2s\tremaining: 46.9s\n",
      "109:\tlearn: 1714.9033645\ttest: 1792.0997681\tbest: 1792.0997681 (109)\ttotal: 56.7s\tremaining: 46.4s\n",
      "110:\tlearn: 1711.2441565\ttest: 1789.0249013\tbest: 1789.0249013 (110)\ttotal: 57.3s\tremaining: 45.9s\n",
      "111:\tlearn: 1707.4675151\ttest: 1785.9329440\tbest: 1785.9329440 (111)\ttotal: 57.8s\tremaining: 45.4s\n",
      "112:\tlearn: 1703.8252018\ttest: 1782.7050252\tbest: 1782.7050252 (112)\ttotal: 58.3s\tremaining: 44.9s\n",
      "113:\tlearn: 1700.6271404\ttest: 1780.0948394\tbest: 1780.0948394 (113)\ttotal: 58.8s\tremaining: 44.4s\n",
      "114:\tlearn: 1697.7631325\ttest: 1777.7234773\tbest: 1777.7234773 (114)\ttotal: 59.3s\tremaining: 43.8s\n",
      "115:\tlearn: 1694.5832415\ttest: 1775.4235750\tbest: 1775.4235750 (115)\ttotal: 59.8s\tremaining: 43.3s\n",
      "116:\tlearn: 1691.8806780\ttest: 1773.3004780\tbest: 1773.3004780 (116)\ttotal: 1m\tremaining: 42.8s\n",
      "117:\tlearn: 1688.6897058\ttest: 1770.7644295\tbest: 1770.7644295 (117)\ttotal: 1m\tremaining: 42.3s\n",
      "118:\tlearn: 1686.1118334\ttest: 1768.6469030\tbest: 1768.6469030 (118)\ttotal: 1m 1s\tremaining: 41.8s\n",
      "119:\tlearn: 1683.4211608\ttest: 1766.7300403\tbest: 1766.7300403 (119)\ttotal: 1m 1s\tremaining: 41.3s\n",
      "120:\tlearn: 1680.8359115\ttest: 1764.7912450\tbest: 1764.7912450 (120)\ttotal: 1m 2s\tremaining: 40.7s\n",
      "121:\tlearn: 1678.0491433\ttest: 1762.6456316\tbest: 1762.6456316 (121)\ttotal: 1m 2s\tremaining: 40.2s\n",
      "122:\tlearn: 1675.1681029\ttest: 1760.2670816\tbest: 1760.2670816 (122)\ttotal: 1m 3s\tremaining: 39.7s\n",
      "123:\tlearn: 1672.4937161\ttest: 1758.0109134\tbest: 1758.0109134 (123)\ttotal: 1m 3s\tremaining: 39.2s\n",
      "124:\tlearn: 1670.5657162\ttest: 1756.3827214\tbest: 1756.3827214 (124)\ttotal: 1m 4s\tremaining: 38.7s\n",
      "125:\tlearn: 1668.3375576\ttest: 1754.6003884\tbest: 1754.6003884 (125)\ttotal: 1m 4s\tremaining: 38.2s\n",
      "126:\tlearn: 1666.1027028\ttest: 1752.9493372\tbest: 1752.9493372 (126)\ttotal: 1m 5s\tremaining: 37.6s\n",
      "127:\tlearn: 1663.5101005\ttest: 1750.9019752\tbest: 1750.9019752 (127)\ttotal: 1m 5s\tremaining: 37.1s\n",
      "128:\tlearn: 1661.5772470\ttest: 1749.3526214\tbest: 1749.3526214 (128)\ttotal: 1m 6s\tremaining: 36.6s\n",
      "129:\tlearn: 1659.5083416\ttest: 1747.7400514\tbest: 1747.7400514 (129)\ttotal: 1m 7s\tremaining: 36.1s\n",
      "130:\tlearn: 1657.2057241\ttest: 1746.0881141\tbest: 1746.0881141 (130)\ttotal: 1m 7s\tremaining: 35.6s\n",
      "131:\tlearn: 1655.4984828\ttest: 1744.8287946\tbest: 1744.8287946 (131)\ttotal: 1m 8s\tremaining: 35.1s\n",
      "132:\tlearn: 1653.0832144\ttest: 1742.9767357\tbest: 1742.9767357 (132)\ttotal: 1m 8s\tremaining: 34.6s\n",
      "133:\tlearn: 1651.0564651\ttest: 1741.3917161\tbest: 1741.3917161 (133)\ttotal: 1m 9s\tremaining: 34s\n",
      "134:\tlearn: 1648.4372651\ttest: 1739.6425007\tbest: 1739.6425007 (134)\ttotal: 1m 9s\tremaining: 33.5s\n",
      "135:\tlearn: 1646.7366697\ttest: 1738.4366558\tbest: 1738.4366558 (135)\ttotal: 1m 10s\tremaining: 33s\n",
      "136:\tlearn: 1645.2407596\ttest: 1737.2821742\tbest: 1737.2821742 (136)\ttotal: 1m 10s\tremaining: 32.5s\n",
      "137:\tlearn: 1643.6406500\ttest: 1736.0281996\tbest: 1736.0281996 (137)\ttotal: 1m 11s\tremaining: 32s\n",
      "138:\tlearn: 1642.2879005\ttest: 1735.0134118\tbest: 1735.0134118 (138)\ttotal: 1m 11s\tremaining: 31.5s\n",
      "139:\tlearn: 1640.2905328\ttest: 1733.7407287\tbest: 1733.7407287 (139)\ttotal: 1m 12s\tremaining: 30.9s\n",
      "140:\tlearn: 1638.3111050\ttest: 1732.3947165\tbest: 1732.3947165 (140)\ttotal: 1m 12s\tremaining: 30.4s\n",
      "141:\tlearn: 1636.4140762\ttest: 1730.9317599\tbest: 1730.9317599 (141)\ttotal: 1m 13s\tremaining: 29.9s\n",
      "142:\tlearn: 1634.3436109\ttest: 1729.4343703\tbest: 1729.4343703 (142)\ttotal: 1m 13s\tremaining: 29.4s\n",
      "143:\tlearn: 1633.0329719\ttest: 1728.4207354\tbest: 1728.4207354 (143)\ttotal: 1m 14s\tremaining: 28.9s\n",
      "144:\tlearn: 1631.4672895\ttest: 1727.4824282\tbest: 1727.4824282 (144)\ttotal: 1m 14s\tremaining: 28.3s\n",
      "145:\tlearn: 1630.0228830\ttest: 1726.4194395\tbest: 1726.4194395 (145)\ttotal: 1m 15s\tremaining: 27.8s\n",
      "146:\tlearn: 1628.5134118\ttest: 1725.2423656\tbest: 1725.2423656 (146)\ttotal: 1m 15s\tremaining: 27.3s\n",
      "147:\tlearn: 1626.5663707\ttest: 1723.9425734\tbest: 1723.9425734 (147)\ttotal: 1m 16s\tremaining: 26.8s\n",
      "148:\tlearn: 1625.3692115\ttest: 1722.9521990\tbest: 1722.9521990 (148)\ttotal: 1m 16s\tremaining: 26.3s\n",
      "149:\tlearn: 1623.1121768\ttest: 1721.5740455\tbest: 1721.5740455 (149)\ttotal: 1m 17s\tremaining: 25.8s\n",
      "150:\tlearn: 1621.4151996\ttest: 1720.3811699\tbest: 1720.3811699 (150)\ttotal: 1m 17s\tremaining: 25.2s\n",
      "151:\tlearn: 1620.1063908\ttest: 1719.5598739\tbest: 1719.5598739 (151)\ttotal: 1m 18s\tremaining: 24.7s\n",
      "152:\tlearn: 1618.4088389\ttest: 1718.3693220\tbest: 1718.3693220 (152)\ttotal: 1m 18s\tremaining: 24.2s\n",
      "153:\tlearn: 1617.0360931\ttest: 1717.4834890\tbest: 1717.4834890 (153)\ttotal: 1m 19s\tremaining: 23.7s\n",
      "154:\tlearn: 1615.9068433\ttest: 1716.5990980\tbest: 1716.5990980 (154)\ttotal: 1m 19s\tremaining: 23.2s\n",
      "155:\tlearn: 1614.4616241\ttest: 1715.5094135\tbest: 1715.5094135 (155)\ttotal: 1m 20s\tremaining: 22.7s\n",
      "156:\tlearn: 1613.1822926\ttest: 1714.5572576\tbest: 1714.5572576 (156)\ttotal: 1m 20s\tremaining: 22.2s\n",
      "157:\tlearn: 1611.7732238\ttest: 1713.4430829\tbest: 1713.4430829 (157)\ttotal: 1m 21s\tremaining: 21.6s\n",
      "158:\tlearn: 1609.9225789\ttest: 1712.1704536\tbest: 1712.1704536 (158)\ttotal: 1m 21s\tremaining: 21.1s\n",
      "159:\tlearn: 1608.6039289\ttest: 1711.3185549\tbest: 1711.3185549 (159)\ttotal: 1m 22s\tremaining: 20.6s\n",
      "160:\tlearn: 1607.4749306\ttest: 1710.5573502\tbest: 1710.5573502 (160)\ttotal: 1m 22s\tremaining: 20.1s\n",
      "161:\tlearn: 1606.3532223\ttest: 1709.8615700\tbest: 1709.8615700 (161)\ttotal: 1m 23s\tremaining: 19.6s\n",
      "162:\tlearn: 1605.2291887\ttest: 1708.9377205\tbest: 1708.9377205 (162)\ttotal: 1m 23s\tremaining: 19.1s\n",
      "163:\tlearn: 1603.8548175\ttest: 1708.2183232\tbest: 1708.2183232 (163)\ttotal: 1m 24s\tremaining: 18.5s\n",
      "164:\tlearn: 1602.6040732\ttest: 1707.3649320\tbest: 1707.3649320 (164)\ttotal: 1m 24s\tremaining: 18s\n",
      "165:\tlearn: 1601.4629857\ttest: 1706.5469363\tbest: 1706.5469363 (165)\ttotal: 1m 25s\tremaining: 17.5s\n",
      "166:\tlearn: 1600.3949130\ttest: 1706.0171163\tbest: 1706.0171163 (166)\ttotal: 1m 26s\tremaining: 17s\n",
      "167:\tlearn: 1599.3123120\ttest: 1705.2322266\tbest: 1705.2322266 (167)\ttotal: 1m 26s\tremaining: 16.5s\n",
      "168:\tlearn: 1597.7212351\ttest: 1704.4098312\tbest: 1704.4098312 (168)\ttotal: 1m 27s\tremaining: 16s\n",
      "169:\tlearn: 1596.6071663\ttest: 1703.5591203\tbest: 1703.5591203 (169)\ttotal: 1m 27s\tremaining: 15.5s\n",
      "170:\tlearn: 1595.3036997\ttest: 1702.7067543\tbest: 1702.7067543 (170)\ttotal: 1m 28s\tremaining: 14.9s\n",
      "171:\tlearn: 1594.1603013\ttest: 1702.1185075\tbest: 1702.1185075 (171)\ttotal: 1m 28s\tremaining: 14.4s\n",
      "172:\tlearn: 1593.1789181\ttest: 1701.5583921\tbest: 1701.5583921 (172)\ttotal: 1m 29s\tremaining: 13.9s\n",
      "173:\tlearn: 1591.8221286\ttest: 1700.5829033\tbest: 1700.5829033 (173)\ttotal: 1m 29s\tremaining: 13.4s\n",
      "174:\tlearn: 1590.7045266\ttest: 1699.8647416\tbest: 1699.8647416 (174)\ttotal: 1m 30s\tremaining: 12.9s\n",
      "175:\tlearn: 1589.9949624\ttest: 1699.4144098\tbest: 1699.4144098 (175)\ttotal: 1m 30s\tremaining: 12.4s\n",
      "176:\tlearn: 1589.0491317\ttest: 1698.6723718\tbest: 1698.6723718 (176)\ttotal: 1m 31s\tremaining: 11.8s\n",
      "177:\tlearn: 1587.9452490\ttest: 1697.8804207\tbest: 1697.8804207 (177)\ttotal: 1m 31s\tremaining: 11.3s\n",
      "178:\tlearn: 1586.7485897\ttest: 1697.1744537\tbest: 1697.1744537 (178)\ttotal: 1m 32s\tremaining: 10.8s\n",
      "179:\tlearn: 1585.7261881\ttest: 1696.4735591\tbest: 1696.4735591 (179)\ttotal: 1m 32s\tremaining: 10.3s\n",
      "180:\tlearn: 1584.7331347\ttest: 1695.7366513\tbest: 1695.7366513 (180)\ttotal: 1m 33s\tremaining: 9.79s\n",
      "181:\tlearn: 1583.7360753\ttest: 1695.0914865\tbest: 1695.0914865 (181)\ttotal: 1m 33s\tremaining: 9.28s\n",
      "182:\tlearn: 1582.4211562\ttest: 1694.4441576\tbest: 1694.4441576 (182)\ttotal: 1m 34s\tremaining: 8.77s\n",
      "183:\tlearn: 1581.5060572\ttest: 1693.8733108\tbest: 1693.8733108 (183)\ttotal: 1m 34s\tremaining: 8.26s\n",
      "184:\tlearn: 1580.3166655\ttest: 1693.1992270\tbest: 1693.1992270 (184)\ttotal: 1m 35s\tremaining: 7.74s\n",
      "185:\tlearn: 1579.3023299\ttest: 1692.5337690\tbest: 1692.5337690 (185)\ttotal: 1m 36s\tremaining: 7.23s\n",
      "186:\tlearn: 1578.1651301\ttest: 1691.9013677\tbest: 1691.9013677 (186)\ttotal: 1m 36s\tremaining: 6.71s\n",
      "187:\tlearn: 1576.9324900\ttest: 1691.2938975\tbest: 1691.2938975 (187)\ttotal: 1m 37s\tremaining: 6.2s\n",
      "188:\tlearn: 1575.6859378\ttest: 1690.4448063\tbest: 1690.4448063 (188)\ttotal: 1m 37s\tremaining: 5.68s\n",
      "189:\tlearn: 1574.6496589\ttest: 1690.0649516\tbest: 1690.0649516 (189)\ttotal: 1m 38s\tremaining: 5.16s\n",
      "190:\tlearn: 1573.7700679\ttest: 1689.5232074\tbest: 1689.5232074 (190)\ttotal: 1m 38s\tremaining: 4.65s\n",
      "191:\tlearn: 1572.4922071\ttest: 1688.8173746\tbest: 1688.8173746 (191)\ttotal: 1m 39s\tremaining: 4.13s\n",
      "192:\tlearn: 1571.2307753\ttest: 1688.0275083\tbest: 1688.0275083 (192)\ttotal: 1m 39s\tremaining: 3.61s\n",
      "193:\tlearn: 1570.0993143\ttest: 1687.4926823\tbest: 1687.4926823 (193)\ttotal: 1m 40s\tremaining: 3.1s\n",
      "194:\tlearn: 1568.9847524\ttest: 1686.9783933\tbest: 1686.9783933 (194)\ttotal: 1m 40s\tremaining: 2.58s\n",
      "195:\tlearn: 1568.0847752\ttest: 1686.3649151\tbest: 1686.3649151 (195)\ttotal: 1m 41s\tremaining: 2.06s\n",
      "196:\tlearn: 1567.2607145\ttest: 1685.8679357\tbest: 1685.8679357 (196)\ttotal: 1m 41s\tremaining: 1.55s\n",
      "197:\tlearn: 1566.1215318\ttest: 1685.0671587\tbest: 1685.0671587 (197)\ttotal: 1m 42s\tremaining: 1.03s\n",
      "198:\tlearn: 1565.2758352\ttest: 1684.7026182\tbest: 1684.7026182 (198)\ttotal: 1m 42s\tremaining: 516ms\n",
      "199:\tlearn: 1564.6194643\ttest: 1684.3765226\tbest: 1684.3765226 (199)\ttotal: 1m 43s\tremaining: 0us\n",
      "\n",
      "bestTest = 1684.376523\n",
      "bestIteration = 199\n",
      "\n",
      "depth = 16\n",
      "Training on fold [0/2]\n",
      "0:\tlearn: 6325.1560041\ttest: 6346.1917069\tbest: 6346.1917069 (0)\ttotal: 1.03s\tremaining: 3m 25s\n",
      "1:\tlearn: 6163.1342397\ttest: 6184.3261505\tbest: 6184.3261505 (1)\ttotal: 1.53s\tremaining: 2m 31s\n",
      "2:\tlearn: 6009.8978596\ttest: 6031.1645192\tbest: 6031.1645192 (2)\ttotal: 1.56s\tremaining: 1m 42s\n",
      "3:\tlearn: 5860.2106821\ttest: 5881.6505628\tbest: 5881.6505628 (3)\ttotal: 1.6s\tremaining: 1m 18s\n",
      "4:\tlearn: 5716.7392467\ttest: 5738.8921691\tbest: 5738.8921691 (4)\ttotal: 2.66s\tremaining: 1m 43s\n",
      "5:\tlearn: 5574.0068304\ttest: 5596.5717349\tbest: 5596.5717349 (5)\ttotal: 3.15s\tremaining: 1m 41s\n",
      "6:\tlearn: 5436.4973229\ttest: 5459.4720371\tbest: 5459.4720371 (6)\ttotal: 4.2s\tremaining: 1m 55s\n",
      "7:\tlearn: 5308.2823123\ttest: 5332.8471235\tbest: 5332.8471235 (7)\ttotal: 5.24s\tremaining: 2m 5s\n",
      "8:\tlearn: 5180.4790911\ttest: 5205.7196497\tbest: 5205.7196497 (8)\ttotal: 6.28s\tremaining: 2m 13s\n",
      "9:\tlearn: 5056.2843290\ttest: 5082.1097328\tbest: 5082.1097328 (9)\ttotal: 7.41s\tremaining: 2m 20s\n",
      "10:\tlearn: 4933.8875288\ttest: 4959.8854849\tbest: 4959.8854849 (10)\ttotal: 8.46s\tremaining: 2m 25s\n",
      "11:\tlearn: 4818.1821752\ttest: 4845.0631022\tbest: 4845.0631022 (11)\ttotal: 9.5s\tremaining: 2m 28s\n",
      "12:\tlearn: 4707.3438007\ttest: 4735.3843962\tbest: 4735.3843962 (12)\ttotal: 10.5s\tremaining: 2m 31s\n",
      "13:\tlearn: 4598.4266975\ttest: 4627.2711059\tbest: 4627.2711059 (13)\ttotal: 11.5s\tremaining: 2m 33s\n",
      "14:\tlearn: 4494.2233580\ttest: 4523.4271191\tbest: 4523.4271191 (14)\ttotal: 11.8s\tremaining: 2m 25s\n",
      "15:\tlearn: 4391.1930083\ttest: 4420.6005143\tbest: 4420.6005143 (15)\ttotal: 12.8s\tremaining: 2m 27s\n",
      "16:\tlearn: 4291.4738133\ttest: 4321.1890353\tbest: 4321.1890353 (16)\ttotal: 13.8s\tremaining: 2m 28s\n",
      "17:\tlearn: 4196.5687703\ttest: 4226.8119881\tbest: 4226.8119881 (17)\ttotal: 14.8s\tremaining: 2m 30s\n",
      "18:\tlearn: 4106.1448931\ttest: 4137.1173832\tbest: 4137.1173832 (18)\ttotal: 15.9s\tremaining: 2m 31s\n",
      "19:\tlearn: 4017.7057255\ttest: 4049.9551214\tbest: 4049.9551214 (19)\ttotal: 17s\tremaining: 2m 32s\n",
      "20:\tlearn: 3933.6488817\ttest: 3965.9721867\tbest: 3965.9721867 (20)\ttotal: 17s\tremaining: 2m 24s\n",
      "21:\tlearn: 3852.5445380\ttest: 3886.6438362\tbest: 3886.6438362 (21)\ttotal: 18s\tremaining: 2m 25s\n",
      "22:\tlearn: 3771.0831171\ttest: 3805.7510444\tbest: 3805.7510444 (22)\ttotal: 19.1s\tremaining: 2m 26s\n",
      "23:\tlearn: 3691.6101843\ttest: 3727.0575952\tbest: 3727.0575952 (23)\ttotal: 20.1s\tremaining: 2m 27s\n",
      "24:\tlearn: 3617.3973000\ttest: 3653.8477656\tbest: 3653.8477656 (24)\ttotal: 21.1s\tremaining: 2m 27s\n",
      "25:\tlearn: 3549.5676785\ttest: 3586.0462269\tbest: 3586.0462269 (25)\ttotal: 21.1s\tremaining: 2m 21s\n",
      "26:\tlearn: 3478.7133222\ttest: 3516.1800018\tbest: 3516.1800018 (26)\ttotal: 22.2s\tremaining: 2m 22s\n",
      "27:\tlearn: 3410.9047212\ttest: 3449.8237583\tbest: 3449.8237583 (27)\ttotal: 23.3s\tremaining: 2m 22s\n",
      "28:\tlearn: 3344.4930463\ttest: 3384.2364432\tbest: 3384.2364432 (28)\ttotal: 24.3s\tremaining: 2m 23s\n",
      "29:\tlearn: 3279.9295975\ttest: 3320.6098270\tbest: 3320.6098270 (29)\ttotal: 25.4s\tremaining: 2m 24s\n",
      "30:\tlearn: 3218.8452003\ttest: 3260.6530899\tbest: 3260.6530899 (30)\ttotal: 26.7s\tremaining: 2m 25s\n",
      "31:\tlearn: 3160.0455504\ttest: 3203.0752363\tbest: 3203.0752363 (31)\ttotal: 27.8s\tremaining: 2m 25s\n",
      "32:\tlearn: 3102.4812427\ttest: 3146.6721665\tbest: 3146.6721665 (32)\ttotal: 28.8s\tremaining: 2m 25s\n",
      "33:\tlearn: 3047.8583297\ttest: 3093.3937729\tbest: 3093.3937729 (33)\ttotal: 29.9s\tremaining: 2m 25s\n",
      "34:\tlearn: 2994.8689653\ttest: 3041.4970903\tbest: 3041.4970903 (34)\ttotal: 30.9s\tremaining: 2m 25s\n",
      "35:\tlearn: 2943.5349459\ttest: 2990.9584984\tbest: 2990.9584984 (35)\ttotal: 32s\tremaining: 2m 25s\n",
      "36:\tlearn: 2894.7891221\ttest: 2943.3493166\tbest: 2943.3493166 (36)\ttotal: 33s\tremaining: 2m 25s\n",
      "37:\tlearn: 2848.2231300\ttest: 2897.7003118\tbest: 2897.7003118 (37)\ttotal: 34.1s\tremaining: 2m 25s\n",
      "38:\tlearn: 2801.2578469\ttest: 2851.3183708\tbest: 2851.3183708 (38)\ttotal: 35.1s\tremaining: 2m 24s\n",
      "39:\tlearn: 2757.1687258\ttest: 2807.9762309\tbest: 2807.9762309 (39)\ttotal: 36.1s\tremaining: 2m 24s\n",
      "40:\tlearn: 2715.5315944\ttest: 2767.2206609\tbest: 2767.2206609 (40)\ttotal: 37.2s\tremaining: 2m 24s\n",
      "41:\tlearn: 2673.5370712\ttest: 2726.2634031\tbest: 2726.2634031 (41)\ttotal: 38.3s\tremaining: 2m 24s\n",
      "42:\tlearn: 2633.5910984\ttest: 2686.9726663\tbest: 2686.9726663 (42)\ttotal: 39.3s\tremaining: 2m 23s\n",
      "43:\tlearn: 2596.0984617\ttest: 2650.6919313\tbest: 2650.6919313 (43)\ttotal: 40.4s\tremaining: 2m 23s\n",
      "44:\tlearn: 2559.5249203\ttest: 2615.4710513\tbest: 2615.4710513 (44)\ttotal: 41.4s\tremaining: 2m 22s\n",
      "45:\tlearn: 2524.3441323\ttest: 2581.1579956\tbest: 2581.1579956 (45)\ttotal: 42.5s\tremaining: 2m 22s\n",
      "46:\tlearn: 2490.2409981\ttest: 2547.9061525\tbest: 2547.9061525 (46)\ttotal: 43.5s\tremaining: 2m 21s\n",
      "47:\tlearn: 2456.7823766\ttest: 2515.8893415\tbest: 2515.8893415 (47)\ttotal: 44.6s\tremaining: 2m 21s\n",
      "48:\tlearn: 2424.6294972\ttest: 2484.8499251\tbest: 2484.8499251 (48)\ttotal: 45.7s\tremaining: 2m 20s\n",
      "49:\tlearn: 2394.8096896\ttest: 2456.4569140\tbest: 2456.4569140 (49)\ttotal: 46.7s\tremaining: 2m 20s\n",
      "50:\tlearn: 2366.2775623\ttest: 2429.0627057\tbest: 2429.0627057 (50)\ttotal: 47.8s\tremaining: 2m 19s\n",
      "51:\tlearn: 2337.9262321\ttest: 2401.8772903\tbest: 2401.8772903 (51)\ttotal: 48.9s\tremaining: 2m 19s\n",
      "52:\tlearn: 2310.2820126\ttest: 2375.3243249\tbest: 2375.3243249 (52)\ttotal: 50s\tremaining: 2m 18s\n",
      "53:\tlearn: 2284.0018265\ttest: 2349.8334654\tbest: 2349.8334654 (53)\ttotal: 51.1s\tremaining: 2m 18s\n",
      "54:\tlearn: 2259.4660510\ttest: 2326.8903150\tbest: 2326.8903150 (54)\ttotal: 52.2s\tremaining: 2m 17s\n",
      "55:\tlearn: 2236.0407357\ttest: 2304.6848648\tbest: 2304.6848648 (55)\ttotal: 53.3s\tremaining: 2m 17s\n",
      "56:\tlearn: 2212.9900188\ttest: 2282.3718677\tbest: 2282.3718677 (56)\ttotal: 54.3s\tremaining: 2m 16s\n",
      "57:\tlearn: 2190.1042844\ttest: 2260.4659009\tbest: 2260.4659009 (57)\ttotal: 55.4s\tremaining: 2m 15s\n",
      "58:\tlearn: 2168.6685356\ttest: 2239.7920142\tbest: 2239.7920142 (58)\ttotal: 56.4s\tremaining: 2m 14s\n",
      "59:\tlearn: 2148.2309618\ttest: 2220.5244951\tbest: 2220.5244951 (59)\ttotal: 57.5s\tremaining: 2m 14s\n",
      "60:\tlearn: 2129.2487139\ttest: 2202.6543809\tbest: 2202.6543809 (60)\ttotal: 58.6s\tremaining: 2m 13s\n",
      "61:\tlearn: 2110.4663299\ttest: 2184.5835495\tbest: 2184.5835495 (61)\ttotal: 59.6s\tremaining: 2m 12s\n",
      "62:\tlearn: 2091.9647485\ttest: 2167.3206988\tbest: 2167.3206988 (62)\ttotal: 1m\tremaining: 2m 11s\n",
      "63:\tlearn: 2074.4622741\ttest: 2150.6953235\tbest: 2150.6953235 (63)\ttotal: 1m 1s\tremaining: 2m 11s\n",
      "64:\tlearn: 2057.7983635\ttest: 2134.5974546\tbest: 2134.5974546 (64)\ttotal: 1m 2s\tremaining: 2m 10s\n",
      "65:\tlearn: 2041.1231650\ttest: 2119.3324563\tbest: 2119.3324563 (65)\ttotal: 1m 3s\tremaining: 2m 9s\n",
      "66:\tlearn: 2025.6035474\ttest: 2104.6042819\tbest: 2104.6042819 (66)\ttotal: 1m 4s\tremaining: 2m 8s\n",
      "67:\tlearn: 2011.2111205\ttest: 2091.8800211\tbest: 2091.8800211 (67)\ttotal: 1m 5s\tremaining: 2m 7s\n",
      "68:\tlearn: 1995.9633289\ttest: 2077.6087398\tbest: 2077.6087398 (68)\ttotal: 1m 7s\tremaining: 2m 7s\n",
      "69:\tlearn: 1981.9545353\ttest: 2064.9084013\tbest: 2064.9084013 (69)\ttotal: 1m 8s\tremaining: 2m 6s\n",
      "70:\tlearn: 1968.0443265\ttest: 2052.1049849\tbest: 2052.1049849 (70)\ttotal: 1m 9s\tremaining: 2m 5s\n",
      "71:\tlearn: 1954.4043093\ttest: 2039.1757419\tbest: 2039.1757419 (71)\ttotal: 1m 10s\tremaining: 2m 4s\n",
      "72:\tlearn: 1941.9796445\ttest: 2027.5723860\tbest: 2027.5723860 (72)\ttotal: 1m 11s\tremaining: 2m 3s\n",
      "73:\tlearn: 1928.9812573\ttest: 2015.6919697\tbest: 2015.6919697 (73)\ttotal: 1m 12s\tremaining: 2m 3s\n",
      "74:\tlearn: 1916.6345818\ttest: 2004.2467974\tbest: 2004.2467974 (74)\ttotal: 1m 13s\tremaining: 2m 2s\n",
      "75:\tlearn: 1905.7058907\ttest: 1994.0498057\tbest: 1994.0498057 (75)\ttotal: 1m 14s\tremaining: 2m 1s\n",
      "76:\tlearn: 1895.0134398\ttest: 1983.8618205\tbest: 1983.8618205 (76)\ttotal: 1m 15s\tremaining: 2m\n",
      "77:\tlearn: 1884.4980457\ttest: 1973.9455139\tbest: 1973.9455139 (77)\ttotal: 1m 16s\tremaining: 1m 59s\n",
      "78:\tlearn: 1875.0950553\ttest: 1965.3548946\tbest: 1965.3548946 (78)\ttotal: 1m 17s\tremaining: 1m 58s\n",
      "79:\tlearn: 1864.9628538\ttest: 1955.6784613\tbest: 1955.6784613 (79)\ttotal: 1m 18s\tremaining: 1m 57s\n",
      "80:\tlearn: 1854.8374883\ttest: 1946.2905559\tbest: 1946.2905559 (80)\ttotal: 1m 19s\tremaining: 1m 56s\n",
      "81:\tlearn: 1845.1173851\ttest: 1937.8021434\tbest: 1937.8021434 (81)\ttotal: 1m 20s\tremaining: 1m 55s\n",
      "82:\tlearn: 1835.9512382\ttest: 1929.7202453\tbest: 1929.7202453 (82)\ttotal: 1m 21s\tremaining: 1m 55s\n",
      "83:\tlearn: 1828.1467832\ttest: 1922.7162796\tbest: 1922.7162796 (83)\ttotal: 1m 22s\tremaining: 1m 54s\n",
      "84:\tlearn: 1819.9684325\ttest: 1915.3108100\tbest: 1915.3108100 (84)\ttotal: 1m 23s\tremaining: 1m 53s\n",
      "85:\tlearn: 1812.7788098\ttest: 1908.5766095\tbest: 1908.5766095 (85)\ttotal: 1m 24s\tremaining: 1m 52s\n",
      "86:\tlearn: 1805.0929059\ttest: 1901.9245268\tbest: 1901.9245268 (86)\ttotal: 1m 25s\tremaining: 1m 51s\n",
      "87:\tlearn: 1797.1145880\ttest: 1894.9022231\tbest: 1894.9022231 (87)\ttotal: 1m 26s\tremaining: 1m 50s\n",
      "88:\tlearn: 1789.8198743\ttest: 1888.5592793\tbest: 1888.5592793 (88)\ttotal: 1m 27s\tremaining: 1m 49s\n",
      "89:\tlearn: 1783.8303192\ttest: 1883.2280850\tbest: 1883.2280850 (89)\ttotal: 1m 28s\tremaining: 1m 48s\n",
      "90:\tlearn: 1777.2228989\ttest: 1877.5996710\tbest: 1877.5996710 (90)\ttotal: 1m 30s\tremaining: 1m 47s\n",
      "91:\tlearn: 1770.7225588\ttest: 1871.8507448\tbest: 1871.8507448 (91)\ttotal: 1m 31s\tremaining: 1m 46s\n",
      "92:\tlearn: 1764.7761026\ttest: 1866.5033013\tbest: 1866.5033013 (92)\ttotal: 1m 32s\tremaining: 1m 45s\n",
      "93:\tlearn: 1758.9079004\ttest: 1861.6083557\tbest: 1861.6083557 (93)\ttotal: 1m 33s\tremaining: 1m 45s\n",
      "94:\tlearn: 1753.0521913\ttest: 1856.3560233\tbest: 1856.3560233 (94)\ttotal: 1m 34s\tremaining: 1m 44s\n",
      "95:\tlearn: 1747.4933183\ttest: 1851.7416585\tbest: 1851.7416585 (95)\ttotal: 1m 35s\tremaining: 1m 43s\n",
      "96:\tlearn: 1742.4041337\ttest: 1847.3873805\tbest: 1847.3873805 (96)\ttotal: 1m 36s\tremaining: 1m 42s\n",
      "97:\tlearn: 1736.3441800\ttest: 1842.6471016\tbest: 1842.6471016 (97)\ttotal: 1m 37s\tremaining: 1m 41s\n",
      "98:\tlearn: 1730.9521413\ttest: 1838.1893128\tbest: 1838.1893128 (98)\ttotal: 1m 38s\tremaining: 1m 40s\n",
      "99:\tlearn: 1726.4804402\ttest: 1834.4573408\tbest: 1834.4573408 (99)\ttotal: 1m 39s\tremaining: 1m 39s\n",
      "100:\tlearn: 1720.7789486\ttest: 1829.6506219\tbest: 1829.6506219 (100)\ttotal: 1m 40s\tremaining: 1m 38s\n",
      "101:\tlearn: 1715.7667548\ttest: 1825.2376621\tbest: 1825.2376621 (101)\ttotal: 1m 41s\tremaining: 1m 37s\n",
      "102:\tlearn: 1711.1402420\ttest: 1821.3002711\tbest: 1821.3002711 (102)\ttotal: 1m 42s\tremaining: 1m 36s\n",
      "103:\tlearn: 1707.1207440\ttest: 1817.7097454\tbest: 1817.7097454 (103)\ttotal: 1m 43s\tremaining: 1m 35s\n",
      "104:\tlearn: 1702.5428643\ttest: 1813.5010950\tbest: 1813.5010950 (104)\ttotal: 1m 44s\tremaining: 1m 34s\n",
      "105:\tlearn: 1698.7291162\ttest: 1810.1619919\tbest: 1810.1619919 (105)\ttotal: 1m 45s\tremaining: 1m 33s\n",
      "106:\tlearn: 1694.8862876\ttest: 1807.2478262\tbest: 1807.2478262 (106)\ttotal: 1m 46s\tremaining: 1m 32s\n",
      "107:\tlearn: 1691.0831018\ttest: 1804.1094531\tbest: 1804.1094531 (107)\ttotal: 1m 47s\tremaining: 1m 31s\n",
      "108:\tlearn: 1687.9146930\ttest: 1801.1698060\tbest: 1801.1698060 (108)\ttotal: 1m 48s\tremaining: 1m 30s\n",
      "109:\tlearn: 1684.0690786\ttest: 1797.9138723\tbest: 1797.9138723 (109)\ttotal: 1m 49s\tremaining: 1m 29s\n",
      "110:\tlearn: 1680.1886461\ttest: 1794.5144417\tbest: 1794.5144417 (110)\ttotal: 1m 51s\tremaining: 1m 29s\n",
      "111:\tlearn: 1676.4176253\ttest: 1791.4388345\tbest: 1791.4388345 (111)\ttotal: 1m 52s\tremaining: 1m 28s\n",
      "112:\tlearn: 1673.1135007\ttest: 1788.5963647\tbest: 1788.5963647 (112)\ttotal: 1m 53s\tremaining: 1m 27s\n",
      "113:\tlearn: 1669.6101331\ttest: 1785.8422825\tbest: 1785.8422825 (113)\ttotal: 1m 54s\tremaining: 1m 26s\n",
      "114:\tlearn: 1666.5836305\ttest: 1783.5053070\tbest: 1783.5053070 (114)\ttotal: 1m 55s\tremaining: 1m 25s\n",
      "115:\tlearn: 1663.5731317\ttest: 1781.1656094\tbest: 1781.1656094 (115)\ttotal: 1m 56s\tremaining: 1m 24s\n",
      "116:\tlearn: 1660.7886795\ttest: 1778.9511471\tbest: 1778.9511471 (116)\ttotal: 1m 57s\tremaining: 1m 23s\n",
      "117:\tlearn: 1657.6066692\ttest: 1776.4002652\tbest: 1776.4002652 (117)\ttotal: 1m 58s\tremaining: 1m 22s\n",
      "118:\tlearn: 1654.5516942\ttest: 1773.7106706\tbest: 1773.7106706 (118)\ttotal: 1m 59s\tremaining: 1m 21s\n",
      "119:\tlearn: 1651.3814301\ttest: 1771.1201331\tbest: 1771.1201331 (119)\ttotal: 2m\tremaining: 1m 20s\n",
      "120:\tlearn: 1648.8398775\ttest: 1768.9171292\tbest: 1768.9171292 (120)\ttotal: 2m 1s\tremaining: 1m 19s\n",
      "121:\tlearn: 1646.1618447\ttest: 1766.7243834\tbest: 1766.7243834 (121)\ttotal: 2m 2s\tremaining: 1m 18s\n",
      "122:\tlearn: 1643.7816214\ttest: 1764.5606308\tbest: 1764.5606308 (122)\ttotal: 2m 3s\tremaining: 1m 17s\n",
      "123:\tlearn: 1641.5380115\ttest: 1762.5734296\tbest: 1762.5734296 (123)\ttotal: 2m 4s\tremaining: 1m 16s\n",
      "124:\tlearn: 1638.9116888\ttest: 1760.5393847\tbest: 1760.5393847 (124)\ttotal: 2m 5s\tremaining: 1m 15s\n",
      "125:\tlearn: 1636.2917517\ttest: 1758.5725615\tbest: 1758.5725615 (125)\ttotal: 2m 6s\tremaining: 1m 14s\n",
      "126:\tlearn: 1633.7087430\ttest: 1756.4807734\tbest: 1756.4807734 (126)\ttotal: 2m 7s\tremaining: 1m 13s\n",
      "127:\tlearn: 1631.4384671\ttest: 1754.5918119\tbest: 1754.5918119 (127)\ttotal: 2m 8s\tremaining: 1m 12s\n",
      "128:\tlearn: 1629.3124791\ttest: 1752.8364630\tbest: 1752.8364630 (128)\ttotal: 2m 9s\tremaining: 1m 11s\n",
      "129:\tlearn: 1627.1167981\ttest: 1750.9469431\tbest: 1750.9469431 (129)\ttotal: 2m 10s\tremaining: 1m 10s\n",
      "130:\tlearn: 1624.2073237\ttest: 1749.0721873\tbest: 1749.0721873 (130)\ttotal: 2m 11s\tremaining: 1m 9s\n",
      "131:\tlearn: 1622.4616364\ttest: 1747.7128286\tbest: 1747.7128286 (131)\ttotal: 2m 12s\tremaining: 1m 8s\n",
      "132:\tlearn: 1620.3354333\ttest: 1746.0963506\tbest: 1746.0963506 (132)\ttotal: 2m 13s\tremaining: 1m 7s\n",
      "133:\tlearn: 1618.1933977\ttest: 1744.6714993\tbest: 1744.6714993 (133)\ttotal: 2m 14s\tremaining: 1m 6s\n",
      "134:\tlearn: 1615.3501344\ttest: 1742.8817295\tbest: 1742.8817295 (134)\ttotal: 2m 16s\tremaining: 1m 5s\n",
      "135:\tlearn: 1613.3003154\ttest: 1741.4964919\tbest: 1741.4964919 (135)\ttotal: 2m 17s\tremaining: 1m 4s\n",
      "136:\tlearn: 1611.1495704\ttest: 1739.8911685\tbest: 1739.8911685 (136)\ttotal: 2m 18s\tremaining: 1m 3s\n",
      "137:\tlearn: 1609.3182013\ttest: 1738.6498384\tbest: 1738.6498384 (137)\ttotal: 2m 19s\tremaining: 1m 2s\n",
      "138:\tlearn: 1607.4004386\ttest: 1737.3630073\tbest: 1737.3630073 (138)\ttotal: 2m 20s\tremaining: 1m 1s\n",
      "139:\tlearn: 1605.7316112\ttest: 1735.9851743\tbest: 1735.9851743 (139)\ttotal: 2m 21s\tremaining: 1m\n",
      "140:\tlearn: 1603.6849158\ttest: 1734.7879745\tbest: 1734.7879745 (140)\ttotal: 2m 22s\tremaining: 59.6s\n",
      "141:\tlearn: 1601.5084355\ttest: 1733.2458527\tbest: 1733.2458527 (141)\ttotal: 2m 23s\tremaining: 58.6s\n",
      "142:\tlearn: 1599.6084157\ttest: 1731.8690243\tbest: 1731.8690243 (142)\ttotal: 2m 24s\tremaining: 57.6s\n",
      "143:\tlearn: 1597.6125846\ttest: 1730.5305092\tbest: 1730.5305092 (143)\ttotal: 2m 25s\tremaining: 56.7s\n",
      "144:\tlearn: 1595.9617487\ttest: 1729.1746510\tbest: 1729.1746510 (144)\ttotal: 2m 26s\tremaining: 55.7s\n",
      "145:\tlearn: 1594.1718648\ttest: 1728.0611317\tbest: 1728.0611317 (145)\ttotal: 2m 28s\tremaining: 54.8s\n",
      "146:\tlearn: 1592.7512866\ttest: 1727.0798705\tbest: 1727.0798705 (146)\ttotal: 2m 29s\tremaining: 53.8s\n",
      "147:\tlearn: 1590.6780845\ttest: 1725.9947325\tbest: 1725.9947325 (147)\ttotal: 2m 30s\tremaining: 52.8s\n",
      "148:\tlearn: 1589.3353552\ttest: 1725.0259642\tbest: 1725.0259642 (148)\ttotal: 2m 31s\tremaining: 51.8s\n",
      "149:\tlearn: 1587.6727310\ttest: 1723.9776140\tbest: 1723.9776140 (149)\ttotal: 2m 32s\tremaining: 50.8s\n",
      "150:\tlearn: 1585.9332846\ttest: 1722.8829428\tbest: 1722.8829428 (150)\ttotal: 2m 33s\tremaining: 49.8s\n",
      "151:\tlearn: 1584.7393857\ttest: 1721.9874525\tbest: 1721.9874525 (151)\ttotal: 2m 34s\tremaining: 48.8s\n",
      "152:\tlearn: 1583.1752620\ttest: 1720.7693973\tbest: 1720.7693973 (152)\ttotal: 2m 35s\tremaining: 47.8s\n",
      "153:\tlearn: 1581.5592732\ttest: 1719.7027898\tbest: 1719.7027898 (153)\ttotal: 2m 36s\tremaining: 46.8s\n",
      "154:\tlearn: 1580.2661676\ttest: 1718.7206287\tbest: 1718.7206287 (154)\ttotal: 2m 37s\tremaining: 45.8s\n",
      "155:\tlearn: 1578.9629759\ttest: 1717.7583875\tbest: 1717.7583875 (155)\ttotal: 2m 38s\tremaining: 44.8s\n",
      "156:\tlearn: 1577.1397146\ttest: 1716.6537375\tbest: 1716.6537375 (156)\ttotal: 2m 39s\tremaining: 43.8s\n",
      "157:\tlearn: 1575.9719034\ttest: 1715.9332824\tbest: 1715.9332824 (157)\ttotal: 2m 41s\tremaining: 42.8s\n",
      "158:\tlearn: 1573.9594673\ttest: 1714.9118306\tbest: 1714.9118306 (158)\ttotal: 2m 42s\tremaining: 41.8s\n",
      "159:\tlearn: 1572.5503344\ttest: 1714.0128756\tbest: 1714.0128756 (159)\ttotal: 2m 43s\tremaining: 40.8s\n",
      "160:\tlearn: 1571.0745268\ttest: 1713.1185440\tbest: 1713.1185440 (160)\ttotal: 2m 44s\tremaining: 39.8s\n",
      "161:\tlearn: 1569.9541627\ttest: 1712.3086609\tbest: 1712.3086609 (161)\ttotal: 2m 45s\tremaining: 38.8s\n",
      "162:\tlearn: 1568.7234484\ttest: 1711.5682260\tbest: 1711.5682260 (162)\ttotal: 2m 46s\tremaining: 37.8s\n",
      "163:\tlearn: 1566.9752694\ttest: 1710.7402896\tbest: 1710.7402896 (163)\ttotal: 2m 47s\tremaining: 36.8s\n",
      "164:\tlearn: 1565.7116363\ttest: 1709.8950001\tbest: 1709.8950001 (164)\ttotal: 2m 48s\tremaining: 35.8s\n",
      "165:\tlearn: 1564.5739706\ttest: 1709.1127279\tbest: 1709.1127279 (165)\ttotal: 2m 49s\tremaining: 34.8s\n",
      "166:\tlearn: 1563.2885155\ttest: 1708.2216243\tbest: 1708.2216243 (166)\ttotal: 2m 50s\tremaining: 33.8s\n",
      "167:\tlearn: 1561.4424883\ttest: 1707.1961359\tbest: 1707.1961359 (167)\ttotal: 2m 52s\tremaining: 32.8s\n",
      "168:\tlearn: 1559.8806453\ttest: 1706.3612023\tbest: 1706.3612023 (168)\ttotal: 2m 53s\tremaining: 31.8s\n",
      "169:\tlearn: 1558.7571166\ttest: 1705.6362914\tbest: 1705.6362914 (169)\ttotal: 2m 54s\tremaining: 30.8s\n",
      "170:\tlearn: 1557.6678218\ttest: 1704.7593785\tbest: 1704.7593785 (170)\ttotal: 2m 55s\tremaining: 29.7s\n",
      "171:\tlearn: 1556.7449990\ttest: 1704.1419776\tbest: 1704.1419776 (171)\ttotal: 2m 56s\tremaining: 28.7s\n",
      "172:\tlearn: 1555.6154965\ttest: 1703.3160466\tbest: 1703.3160466 (172)\ttotal: 2m 57s\tremaining: 27.7s\n",
      "173:\tlearn: 1554.0673066\ttest: 1702.3520277\tbest: 1702.3520277 (173)\ttotal: 2m 58s\tremaining: 26.7s\n",
      "174:\tlearn: 1553.0118321\ttest: 1701.6845807\tbest: 1701.6845807 (174)\ttotal: 2m 59s\tremaining: 25.7s\n",
      "175:\tlearn: 1551.7182674\ttest: 1700.9720438\tbest: 1700.9720438 (175)\ttotal: 3m\tremaining: 24.7s\n",
      "176:\tlearn: 1550.7275098\ttest: 1700.4032543\tbest: 1700.4032543 (176)\ttotal: 3m 1s\tremaining: 23.6s\n",
      "177:\tlearn: 1549.4521429\ttest: 1699.6313093\tbest: 1699.6313093 (177)\ttotal: 3m 3s\tremaining: 22.6s\n",
      "178:\tlearn: 1548.3106718\ttest: 1699.0945459\tbest: 1699.0945459 (178)\ttotal: 3m 4s\tremaining: 21.6s\n",
      "179:\tlearn: 1547.1009602\ttest: 1698.2814821\tbest: 1698.2814821 (179)\ttotal: 3m 5s\tremaining: 20.6s\n",
      "180:\tlearn: 1545.5515097\ttest: 1697.4745170\tbest: 1697.4745170 (180)\ttotal: 3m 6s\tremaining: 19.6s\n",
      "181:\tlearn: 1544.6563967\ttest: 1696.9385527\tbest: 1696.9385527 (181)\ttotal: 3m 7s\tremaining: 18.5s\n",
      "182:\tlearn: 1543.6310650\ttest: 1696.4575517\tbest: 1696.4575517 (182)\ttotal: 3m 8s\tremaining: 17.5s\n",
      "183:\tlearn: 1542.4962740\ttest: 1695.8285540\tbest: 1695.8285540 (183)\ttotal: 3m 9s\tremaining: 16.5s\n",
      "184:\tlearn: 1541.3644770\ttest: 1695.1422844\tbest: 1695.1422844 (184)\ttotal: 3m 10s\tremaining: 15.5s\n",
      "185:\tlearn: 1540.3807464\ttest: 1694.5710660\tbest: 1694.5710660 (185)\ttotal: 3m 11s\tremaining: 14.4s\n",
      "186:\tlearn: 1539.0827169\ttest: 1693.7985024\tbest: 1693.7985024 (186)\ttotal: 3m 12s\tremaining: 13.4s\n",
      "187:\tlearn: 1538.2458371\ttest: 1693.2951796\tbest: 1693.2951796 (187)\ttotal: 3m 14s\tremaining: 12.4s\n",
      "188:\tlearn: 1537.2744757\ttest: 1692.7707991\tbest: 1692.7707991 (188)\ttotal: 3m 15s\tremaining: 11.4s\n",
      "189:\tlearn: 1536.3437489\ttest: 1692.1535656\tbest: 1692.1535656 (189)\ttotal: 3m 16s\tremaining: 10.3s\n",
      "190:\tlearn: 1535.4943117\ttest: 1691.6731009\tbest: 1691.6731009 (190)\ttotal: 3m 17s\tremaining: 9.3s\n",
      "191:\tlearn: 1533.8206746\ttest: 1690.9504907\tbest: 1690.9504907 (191)\ttotal: 3m 18s\tremaining: 8.27s\n",
      "192:\tlearn: 1532.9586615\ttest: 1690.4945033\tbest: 1690.4945033 (192)\ttotal: 3m 19s\tremaining: 7.24s\n",
      "193:\tlearn: 1531.7559500\ttest: 1689.7107101\tbest: 1689.7107101 (193)\ttotal: 3m 20s\tremaining: 6.2s\n",
      "194:\tlearn: 1530.8883069\ttest: 1689.1725141\tbest: 1689.1725141 (194)\ttotal: 3m 21s\tremaining: 5.17s\n",
      "195:\tlearn: 1529.8623009\ttest: 1688.6876140\tbest: 1688.6876140 (195)\ttotal: 3m 22s\tremaining: 4.14s\n",
      "196:\tlearn: 1528.6033273\ttest: 1688.0410061\tbest: 1688.0410061 (196)\ttotal: 3m 23s\tremaining: 3.1s\n",
      "197:\tlearn: 1527.5865970\ttest: 1687.4822407\tbest: 1687.4822407 (197)\ttotal: 3m 25s\tremaining: 2.07s\n",
      "198:\tlearn: 1526.3140893\ttest: 1686.7608165\tbest: 1686.7608165 (198)\ttotal: 3m 26s\tremaining: 1.04s\n",
      "199:\tlearn: 1525.6447594\ttest: 1686.3121601\tbest: 1686.3121601 (199)\ttotal: 3m 27s\tremaining: 0us\n",
      "\n",
      "bestTest = 1686.31216\n",
      "bestIteration = 199\n",
      "\n",
      "Training on fold [1/2]\n",
      "0:\tlearn: 6344.9517923\ttest: 6324.8638684\tbest: 6324.8638684 (0)\ttotal: 1.09s\tremaining: 3m 37s\n",
      "1:\tlearn: 6182.9385901\ttest: 6163.4464132\tbest: 6163.4464132 (1)\ttotal: 1.64s\tremaining: 2m 42s\n",
      "2:\tlearn: 6028.5098457\ttest: 6008.8662339\tbest: 6008.8662339 (2)\ttotal: 1.67s\tremaining: 1m 49s\n",
      "3:\tlearn: 5878.0979175\ttest: 5859.1406247\tbest: 5859.1406247 (3)\ttotal: 2.74s\tremaining: 2m 14s\n",
      "4:\tlearn: 5733.5609039\ttest: 5715.5555669\tbest: 5715.5555669 (4)\ttotal: 3.84s\tremaining: 2m 29s\n",
      "5:\tlearn: 5592.5680606\ttest: 5575.4010409\tbest: 5575.4010409 (5)\ttotal: 4.93s\tremaining: 2m 39s\n",
      "6:\tlearn: 5456.4673648\ttest: 5440.0823344\tbest: 5440.0823344 (6)\ttotal: 5.46s\tremaining: 2m 30s\n",
      "7:\tlearn: 5325.0846582\ttest: 5310.2925346\tbest: 5310.2925346 (7)\ttotal: 6.54s\tremaining: 2m 36s\n",
      "8:\tlearn: 5196.7854811\ttest: 5182.8125434\tbest: 5182.8125434 (8)\ttotal: 7.64s\tremaining: 2m 42s\n",
      "9:\tlearn: 5072.2517087\ttest: 5059.4885929\tbest: 5059.4885929 (9)\ttotal: 8.76s\tremaining: 2m 46s\n",
      "10:\tlearn: 4950.9711788\ttest: 4939.1891128\tbest: 4939.1891128 (10)\ttotal: 9.84s\tremaining: 2m 49s\n",
      "11:\tlearn: 4835.5544765\ttest: 4824.7525619\tbest: 4824.7525619 (11)\ttotal: 10.9s\tremaining: 2m 51s\n",
      "12:\tlearn: 4723.0012241\ttest: 4713.5204405\tbest: 4713.5204405 (12)\ttotal: 12s\tremaining: 2m 53s\n",
      "13:\tlearn: 4612.7002334\ttest: 4604.2194968\tbest: 4604.2194968 (13)\ttotal: 13.1s\tremaining: 2m 54s\n",
      "14:\tlearn: 4507.1414359\ttest: 4499.8165492\tbest: 4499.8165492 (14)\ttotal: 14.2s\tremaining: 2m 55s\n",
      "15:\tlearn: 4407.5950378\ttest: 4401.5134317\tbest: 4401.5134317 (15)\ttotal: 15.4s\tremaining: 2m 56s\n",
      "16:\tlearn: 4309.5291001\ttest: 4304.1669668\tbest: 4304.1669668 (16)\ttotal: 16.5s\tremaining: 2m 57s\n",
      "17:\tlearn: 4213.7040106\ttest: 4209.0243683\tbest: 4209.0243683 (17)\ttotal: 16.5s\tremaining: 2m 47s\n",
      "18:\tlearn: 4123.2106417\ttest: 4119.5578766\tbest: 4119.5578766 (18)\ttotal: 17.7s\tremaining: 2m 48s\n",
      "19:\tlearn: 4033.5827681\ttest: 4030.4849013\tbest: 4030.4849013 (19)\ttotal: 17.8s\tremaining: 2m 39s\n",
      "20:\tlearn: 3946.6323251\ttest: 3944.6712129\tbest: 3944.6712129 (20)\ttotal: 18.9s\tremaining: 2m 40s\n",
      "21:\tlearn: 3862.8107052\ttest: 3861.9706607\tbest: 3861.9706607 (21)\ttotal: 20s\tremaining: 2m 41s\n",
      "22:\tlearn: 3782.0728135\ttest: 3782.0035334\tbest: 3782.0035334 (22)\ttotal: 21.1s\tremaining: 2m 42s\n",
      "23:\tlearn: 3706.5505823\ttest: 3708.0762029\tbest: 3708.0762029 (23)\ttotal: 22.2s\tremaining: 2m 42s\n",
      "24:\tlearn: 3630.1398486\ttest: 3632.8683319\tbest: 3632.8683319 (24)\ttotal: 23.3s\tremaining: 2m 43s\n",
      "25:\tlearn: 3556.9251152\ttest: 3560.5623476\tbest: 3560.5623476 (25)\ttotal: 24.4s\tremaining: 2m 43s\n",
      "26:\tlearn: 3485.3611922\ttest: 3490.2633409\tbest: 3490.2633409 (26)\ttotal: 25.5s\tremaining: 2m 43s\n",
      "27:\tlearn: 3417.6645283\ttest: 3424.2033352\tbest: 3424.2033352 (27)\ttotal: 26.6s\tremaining: 2m 43s\n",
      "28:\tlearn: 3350.6916899\ttest: 3358.1781894\tbest: 3358.1781894 (28)\ttotal: 27.7s\tremaining: 2m 43s\n",
      "29:\tlearn: 3290.1397554\ttest: 3299.3669758\tbest: 3299.3669758 (29)\ttotal: 28.9s\tremaining: 2m 43s\n",
      "30:\tlearn: 3228.4428109\ttest: 3238.9819606\tbest: 3238.9819606 (30)\ttotal: 30s\tremaining: 2m 43s\n",
      "31:\tlearn: 3170.2830244\ttest: 3181.9033463\tbest: 3181.9033463 (31)\ttotal: 31.1s\tremaining: 2m 43s\n",
      "32:\tlearn: 3114.7889097\ttest: 3127.8801339\tbest: 3127.8801339 (32)\ttotal: 32.2s\tremaining: 2m 42s\n",
      "33:\tlearn: 3058.9886434\ttest: 3073.1794126\tbest: 3073.1794126 (33)\ttotal: 33.2s\tremaining: 2m 42s\n",
      "34:\tlearn: 3004.9310248\ttest: 3020.7390972\tbest: 3020.7390972 (34)\ttotal: 34.3s\tremaining: 2m 41s\n",
      "35:\tlearn: 2953.6175947\ttest: 2970.8248005\tbest: 2970.8248005 (35)\ttotal: 35.4s\tremaining: 2m 41s\n",
      "36:\tlearn: 2906.1932597\ttest: 2925.0334394\tbest: 2925.0334394 (36)\ttotal: 36.5s\tremaining: 2m 40s\n",
      "37:\tlearn: 2858.7401746\ttest: 2877.9780830\tbest: 2877.9780830 (37)\ttotal: 36.6s\tremaining: 2m 36s\n",
      "38:\tlearn: 2812.3398429\ttest: 2832.8551859\tbest: 2832.8551859 (38)\ttotal: 37.7s\tremaining: 2m 35s\n",
      "39:\tlearn: 2768.9791918\ttest: 2790.5934708\tbest: 2790.5934708 (39)\ttotal: 38.8s\tremaining: 2m 35s\n",
      "40:\tlearn: 2725.6053570\ttest: 2748.1611893\tbest: 2748.1611893 (40)\ttotal: 39.9s\tremaining: 2m 34s\n",
      "41:\tlearn: 2682.8826562\ttest: 2706.6421310\tbest: 2706.6421310 (41)\ttotal: 40.9s\tremaining: 2m 34s\n",
      "42:\tlearn: 2643.9149686\ttest: 2669.1470825\tbest: 2669.1470825 (42)\ttotal: 42s\tremaining: 2m 33s\n",
      "43:\tlearn: 2604.4693994\ttest: 2630.9314264\tbest: 2630.9314264 (43)\ttotal: 43.2s\tremaining: 2m 33s\n",
      "44:\tlearn: 2567.6956077\ttest: 2595.5482405\tbest: 2595.5482405 (44)\ttotal: 44.3s\tremaining: 2m 32s\n",
      "45:\tlearn: 2532.0244720\ttest: 2561.0591061\tbest: 2561.0591061 (45)\ttotal: 45.5s\tremaining: 2m 32s\n",
      "46:\tlearn: 2496.5045919\ttest: 2526.5173983\tbest: 2526.5173983 (46)\ttotal: 46.5s\tremaining: 2m 31s\n",
      "47:\tlearn: 2463.6960800\ttest: 2495.1040906\tbest: 2495.1040906 (47)\ttotal: 47.6s\tremaining: 2m 30s\n",
      "48:\tlearn: 2430.6126676\ttest: 2463.3786727\tbest: 2463.3786727 (48)\ttotal: 48.7s\tremaining: 2m 30s\n",
      "49:\tlearn: 2400.2707181\ttest: 2434.0439205\tbest: 2434.0439205 (49)\ttotal: 49.8s\tremaining: 2m 29s\n",
      "50:\tlearn: 2372.4102138\ttest: 2407.7074562\tbest: 2407.7074562 (50)\ttotal: 51s\tremaining: 2m 28s\n",
      "51:\tlearn: 2344.1826232\ttest: 2380.6883941\tbest: 2380.6883941 (51)\ttotal: 52.1s\tremaining: 2m 28s\n",
      "52:\tlearn: 2318.2781417\ttest: 2356.2938950\tbest: 2356.2938950 (52)\ttotal: 53.1s\tremaining: 2m 27s\n",
      "53:\tlearn: 2292.3410838\ttest: 2331.6383475\tbest: 2331.6383475 (53)\ttotal: 54.2s\tremaining: 2m 26s\n",
      "54:\tlearn: 2267.4882577\ttest: 2308.3025054\tbest: 2308.3025054 (54)\ttotal: 55.3s\tremaining: 2m 25s\n",
      "55:\tlearn: 2243.2802890\ttest: 2285.6160280\tbest: 2285.6160280 (55)\ttotal: 56.4s\tremaining: 2m 25s\n",
      "56:\tlearn: 2220.5503791\ttest: 2264.6363148\tbest: 2264.6363148 (56)\ttotal: 57.6s\tremaining: 2m 24s\n",
      "57:\tlearn: 2197.8033591\ttest: 2243.0135800\tbest: 2243.0135800 (57)\ttotal: 58.6s\tremaining: 2m 23s\n",
      "58:\tlearn: 2176.1025367\ttest: 2222.9167413\tbest: 2222.9167413 (58)\ttotal: 59.7s\tremaining: 2m 22s\n",
      "59:\tlearn: 2154.8315535\ttest: 2203.0875978\tbest: 2203.0875978 (59)\ttotal: 1m\tremaining: 2m 21s\n",
      "60:\tlearn: 2135.0694321\ttest: 2184.9782897\tbest: 2184.9782897 (60)\ttotal: 1m 1s\tremaining: 2m 20s\n",
      "61:\tlearn: 2115.6305211\ttest: 2167.3286101\tbest: 2167.3286101 (61)\ttotal: 1m 2s\tremaining: 2m 19s\n",
      "62:\tlearn: 2096.5889280\ttest: 2149.3847638\tbest: 2149.3847638 (62)\ttotal: 1m 3s\tremaining: 2m 18s\n",
      "63:\tlearn: 2078.4082766\ttest: 2131.7337085\tbest: 2131.7337085 (63)\ttotal: 1m 4s\tremaining: 2m 18s\n",
      "64:\tlearn: 2061.9046578\ttest: 2115.8562671\tbest: 2115.8562671 (64)\ttotal: 1m 6s\tremaining: 2m 17s\n",
      "65:\tlearn: 2044.7446318\ttest: 2099.6374786\tbest: 2099.6374786 (65)\ttotal: 1m 7s\tremaining: 2m 16s\n",
      "66:\tlearn: 2029.1120720\ttest: 2085.1531773\tbest: 2085.1531773 (66)\ttotal: 1m 8s\tremaining: 2m 15s\n",
      "67:\tlearn: 2013.6937538\ttest: 2071.3689605\tbest: 2071.3689605 (67)\ttotal: 1m 9s\tremaining: 2m 14s\n",
      "68:\tlearn: 1998.6620384\ttest: 2057.7261775\tbest: 2057.7261775 (68)\ttotal: 1m 10s\tremaining: 2m 13s\n",
      "69:\tlearn: 1984.4048256\ttest: 2044.5074926\tbest: 2044.5074926 (69)\ttotal: 1m 11s\tremaining: 2m 12s\n",
      "70:\tlearn: 1970.8522760\ttest: 2032.0421933\tbest: 2032.0421933 (70)\ttotal: 1m 12s\tremaining: 2m 11s\n",
      "71:\tlearn: 1958.0124471\ttest: 2020.3117087\tbest: 2020.3117087 (71)\ttotal: 1m 13s\tremaining: 2m 10s\n",
      "72:\tlearn: 1945.9494795\ttest: 2009.3956640\tbest: 2009.3956640 (72)\ttotal: 1m 14s\tremaining: 2m 9s\n",
      "73:\tlearn: 1933.9082128\ttest: 1998.8675113\tbest: 1998.8675113 (73)\ttotal: 1m 15s\tremaining: 2m 9s\n",
      "74:\tlearn: 1921.8355602\ttest: 1988.2792118\tbest: 1988.2792118 (74)\ttotal: 1m 16s\tremaining: 2m 8s\n",
      "75:\tlearn: 1910.6852488\ttest: 1978.2084928\tbest: 1978.2084928 (75)\ttotal: 1m 17s\tremaining: 2m 7s\n",
      "76:\tlearn: 1899.2553116\ttest: 1967.5125153\tbest: 1967.5125153 (76)\ttotal: 1m 19s\tremaining: 2m 6s\n",
      "77:\tlearn: 1888.4604596\ttest: 1957.7162915\tbest: 1957.7162915 (77)\ttotal: 1m 20s\tremaining: 2m 5s\n",
      "78:\tlearn: 1879.0836283\ttest: 1949.2180922\tbest: 1949.2180922 (78)\ttotal: 1m 21s\tremaining: 2m 4s\n",
      "79:\tlearn: 1868.6655269\ttest: 1939.5781852\tbest: 1939.5781852 (79)\ttotal: 1m 22s\tremaining: 2m 3s\n",
      "80:\tlearn: 1858.7174073\ttest: 1930.6162140\tbest: 1930.6162140 (80)\ttotal: 1m 23s\tremaining: 2m 2s\n",
      "81:\tlearn: 1850.3805634\ttest: 1923.1290122\tbest: 1923.1290122 (81)\ttotal: 1m 24s\tremaining: 2m 1s\n",
      "82:\tlearn: 1841.0748986\ttest: 1915.2969461\tbest: 1915.2969461 (82)\ttotal: 1m 25s\tremaining: 2m\n",
      "83:\tlearn: 1832.1805965\ttest: 1907.6190653\tbest: 1907.6190653 (83)\ttotal: 1m 26s\tremaining: 1m 59s\n",
      "84:\tlearn: 1823.8545451\ttest: 1900.3849842\tbest: 1900.3849842 (84)\ttotal: 1m 27s\tremaining: 1m 58s\n",
      "85:\tlearn: 1816.1303605\ttest: 1893.6983135\tbest: 1893.6983135 (85)\ttotal: 1m 28s\tremaining: 1m 57s\n",
      "86:\tlearn: 1808.6427935\ttest: 1887.5942434\tbest: 1887.5942434 (86)\ttotal: 1m 29s\tremaining: 1m 56s\n",
      "87:\tlearn: 1801.3003713\ttest: 1880.8144707\tbest: 1880.8144707 (87)\ttotal: 1m 30s\tremaining: 1m 55s\n",
      "88:\tlearn: 1793.6380875\ttest: 1874.3191202\tbest: 1874.3191202 (88)\ttotal: 1m 31s\tremaining: 1m 54s\n",
      "89:\tlearn: 1786.3716642\ttest: 1867.7379428\tbest: 1867.7379428 (89)\ttotal: 1m 32s\tremaining: 1m 53s\n",
      "90:\tlearn: 1780.0772431\ttest: 1862.1849313\tbest: 1862.1849313 (90)\ttotal: 1m 33s\tremaining: 1m 52s\n",
      "91:\tlearn: 1773.9225006\ttest: 1856.7024358\tbest: 1856.7024358 (91)\ttotal: 1m 34s\tremaining: 1m 51s\n",
      "92:\tlearn: 1767.8451789\ttest: 1851.7870672\tbest: 1851.7870672 (92)\ttotal: 1m 36s\tremaining: 1m 50s\n",
      "93:\tlearn: 1761.6855471\ttest: 1846.2993521\tbest: 1846.2993521 (93)\ttotal: 1m 37s\tremaining: 1m 49s\n",
      "94:\tlearn: 1756.0495590\ttest: 1841.4718392\tbest: 1841.4718392 (94)\ttotal: 1m 38s\tremaining: 1m 48s\n",
      "95:\tlearn: 1750.2905829\ttest: 1836.9148687\tbest: 1836.9148687 (95)\ttotal: 1m 39s\tremaining: 1m 47s\n",
      "96:\tlearn: 1744.6034539\ttest: 1831.9937299\tbest: 1831.9937299 (96)\ttotal: 1m 40s\tremaining: 1m 46s\n",
      "97:\tlearn: 1739.5594597\ttest: 1827.7497972\tbest: 1827.7497972 (97)\ttotal: 1m 41s\tremaining: 1m 45s\n",
      "98:\tlearn: 1734.4764153\ttest: 1823.4282815\tbest: 1823.4282815 (98)\ttotal: 1m 42s\tremaining: 1m 44s\n",
      "99:\tlearn: 1729.5776985\ttest: 1819.5558456\tbest: 1819.5558456 (99)\ttotal: 1m 43s\tremaining: 1m 43s\n",
      "100:\tlearn: 1724.2842759\ttest: 1815.1878365\tbest: 1815.1878365 (100)\ttotal: 1m 44s\tremaining: 1m 42s\n",
      "101:\tlearn: 1719.1532597\ttest: 1811.3025089\tbest: 1811.3025089 (101)\ttotal: 1m 45s\tremaining: 1m 41s\n",
      "102:\tlearn: 1714.3572574\ttest: 1807.6085486\tbest: 1807.6085486 (102)\ttotal: 1m 46s\tremaining: 1m 40s\n",
      "103:\tlearn: 1709.9749821\ttest: 1803.9603301\tbest: 1803.9603301 (103)\ttotal: 1m 47s\tremaining: 1m 39s\n",
      "104:\tlearn: 1705.2469969\ttest: 1799.9194437\tbest: 1799.9194437 (104)\ttotal: 1m 48s\tremaining: 1m 38s\n",
      "105:\tlearn: 1700.9844246\ttest: 1796.2972556\tbest: 1796.2972556 (105)\ttotal: 1m 49s\tremaining: 1m 37s\n",
      "106:\tlearn: 1696.6524862\ttest: 1792.7073537\tbest: 1792.7073537 (106)\ttotal: 1m 51s\tremaining: 1m 36s\n",
      "107:\tlearn: 1692.1389633\ttest: 1789.2325542\tbest: 1789.2325542 (107)\ttotal: 1m 52s\tremaining: 1m 35s\n",
      "108:\tlearn: 1688.6876818\ttest: 1786.6197160\tbest: 1786.6197160 (108)\ttotal: 1m 53s\tremaining: 1m 34s\n",
      "109:\tlearn: 1684.7149563\ttest: 1783.1396559\tbest: 1783.1396559 (109)\ttotal: 1m 54s\tremaining: 1m 33s\n",
      "110:\tlearn: 1681.0514676\ttest: 1780.0399129\tbest: 1780.0399129 (110)\ttotal: 1m 55s\tremaining: 1m 32s\n",
      "111:\tlearn: 1677.6325830\ttest: 1777.3940077\tbest: 1777.3940077 (111)\ttotal: 1m 56s\tremaining: 1m 31s\n",
      "112:\tlearn: 1674.5404416\ttest: 1774.9381645\tbest: 1774.9381645 (112)\ttotal: 1m 57s\tremaining: 1m 30s\n",
      "113:\tlearn: 1671.2771943\ttest: 1772.5776385\tbest: 1772.5776385 (113)\ttotal: 1m 58s\tremaining: 1m 29s\n",
      "114:\tlearn: 1668.2395251\ttest: 1770.2378672\tbest: 1770.2378672 (114)\ttotal: 1m 59s\tremaining: 1m 28s\n",
      "115:\tlearn: 1665.0936667\ttest: 1767.9622106\tbest: 1767.9622106 (115)\ttotal: 2m\tremaining: 1m 27s\n",
      "116:\tlearn: 1661.8591498\ttest: 1765.4801304\tbest: 1765.4801304 (116)\ttotal: 2m 1s\tremaining: 1m 26s\n",
      "117:\tlearn: 1658.4037174\ttest: 1762.8277115\tbest: 1762.8277115 (117)\ttotal: 2m 2s\tremaining: 1m 25s\n",
      "118:\tlearn: 1655.1638597\ttest: 1760.3792971\tbest: 1760.3792971 (118)\ttotal: 2m 3s\tremaining: 1m 24s\n",
      "119:\tlearn: 1652.3600710\ttest: 1757.9890934\tbest: 1757.9890934 (119)\ttotal: 2m 4s\tremaining: 1m 23s\n",
      "120:\tlearn: 1649.5561441\ttest: 1755.9014787\tbest: 1755.9014787 (120)\ttotal: 2m 5s\tremaining: 1m 22s\n",
      "121:\tlearn: 1646.7984263\ttest: 1753.8499546\tbest: 1753.8499546 (121)\ttotal: 2m 6s\tremaining: 1m 21s\n",
      "122:\tlearn: 1644.2747567\ttest: 1751.9102960\tbest: 1751.9102960 (122)\ttotal: 2m 7s\tremaining: 1m 20s\n",
      "123:\tlearn: 1641.5281558\ttest: 1749.7688818\tbest: 1749.7688818 (123)\ttotal: 2m 8s\tremaining: 1m 19s\n",
      "124:\tlearn: 1639.2441789\ttest: 1747.9869604\tbest: 1747.9869604 (124)\ttotal: 2m 10s\tremaining: 1m 18s\n",
      "125:\tlearn: 1636.5304725\ttest: 1746.0526707\tbest: 1746.0526707 (125)\ttotal: 2m 11s\tremaining: 1m 16s\n",
      "126:\tlearn: 1633.5547853\ttest: 1743.9411884\tbest: 1743.9411884 (126)\ttotal: 2m 12s\tremaining: 1m 15s\n",
      "127:\tlearn: 1631.5304206\ttest: 1742.4996419\tbest: 1742.4996419 (127)\ttotal: 2m 13s\tremaining: 1m 14s\n",
      "128:\tlearn: 1629.0306804\ttest: 1740.8605693\tbest: 1740.8605693 (128)\ttotal: 2m 14s\tremaining: 1m 13s\n",
      "129:\tlearn: 1627.0689627\ttest: 1739.3871354\tbest: 1739.3871354 (129)\ttotal: 2m 15s\tremaining: 1m 12s\n",
      "130:\tlearn: 1624.4637588\ttest: 1737.6678834\tbest: 1737.6678834 (130)\ttotal: 2m 16s\tremaining: 1m 11s\n",
      "131:\tlearn: 1622.3819047\ttest: 1736.1280470\tbest: 1736.1280470 (131)\ttotal: 2m 17s\tremaining: 1m 10s\n",
      "132:\tlearn: 1620.5984841\ttest: 1734.7234151\tbest: 1734.7234151 (132)\ttotal: 2m 18s\tremaining: 1m 9s\n",
      "133:\tlearn: 1618.0795269\ttest: 1732.8127744\tbest: 1732.8127744 (133)\ttotal: 2m 19s\tremaining: 1m 8s\n",
      "134:\tlearn: 1615.6037806\ttest: 1730.9204110\tbest: 1730.9204110 (134)\ttotal: 2m 20s\tremaining: 1m 7s\n",
      "135:\tlearn: 1613.3949582\ttest: 1729.0284072\tbest: 1729.0284072 (135)\ttotal: 2m 21s\tremaining: 1m 6s\n",
      "136:\tlearn: 1611.2252389\ttest: 1727.5231439\tbest: 1727.5231439 (136)\ttotal: 2m 22s\tremaining: 1m 5s\n",
      "137:\tlearn: 1609.0365665\ttest: 1726.1648008\tbest: 1726.1648008 (137)\ttotal: 2m 23s\tremaining: 1m 4s\n",
      "138:\tlearn: 1607.2124183\ttest: 1724.7807631\tbest: 1724.7807631 (138)\ttotal: 2m 24s\tremaining: 1m 3s\n",
      "139:\tlearn: 1605.2675226\ttest: 1723.3841667\tbest: 1723.3841667 (139)\ttotal: 2m 25s\tremaining: 1m 2s\n",
      "140:\tlearn: 1603.3324248\ttest: 1722.2788566\tbest: 1722.2788566 (140)\ttotal: 2m 26s\tremaining: 1m 1s\n",
      "141:\tlearn: 1601.5958648\ttest: 1721.1828358\tbest: 1721.1828358 (141)\ttotal: 2m 27s\tremaining: 1m\n",
      "142:\tlearn: 1599.3671521\ttest: 1719.8573931\tbest: 1719.8573931 (142)\ttotal: 2m 28s\tremaining: 59.3s\n",
      "143:\tlearn: 1597.7035594\ttest: 1718.6605840\tbest: 1718.6605840 (143)\ttotal: 2m 29s\tremaining: 58.2s\n",
      "144:\tlearn: 1596.1284492\ttest: 1717.7696770\tbest: 1717.7696770 (144)\ttotal: 2m 30s\tremaining: 57.2s\n",
      "145:\tlearn: 1594.4867399\ttest: 1716.7209571\tbest: 1716.7209571 (145)\ttotal: 2m 31s\tremaining: 56.1s\n",
      "146:\tlearn: 1592.9265764\ttest: 1715.5193940\tbest: 1715.5193940 (146)\ttotal: 2m 32s\tremaining: 55.1s\n",
      "147:\tlearn: 1591.3980256\ttest: 1714.6168794\tbest: 1714.6168794 (147)\ttotal: 2m 33s\tremaining: 54s\n",
      "148:\tlearn: 1589.8641682\ttest: 1713.6527294\tbest: 1713.6527294 (148)\ttotal: 2m 34s\tremaining: 53s\n",
      "149:\tlearn: 1588.1967358\ttest: 1712.7059567\tbest: 1712.7059567 (149)\ttotal: 2m 35s\tremaining: 51.9s\n",
      "150:\tlearn: 1586.4384778\ttest: 1711.7406524\tbest: 1711.7406524 (150)\ttotal: 2m 36s\tremaining: 50.9s\n",
      "151:\tlearn: 1585.0725765\ttest: 1710.7356696\tbest: 1710.7356696 (151)\ttotal: 2m 37s\tremaining: 49.8s\n",
      "152:\tlearn: 1583.3390204\ttest: 1709.7635182\tbest: 1709.7635182 (152)\ttotal: 2m 38s\tremaining: 48.8s\n",
      "153:\tlearn: 1581.8475793\ttest: 1708.7639142\tbest: 1708.7639142 (153)\ttotal: 2m 39s\tremaining: 47.7s\n",
      "154:\tlearn: 1580.1760695\ttest: 1707.6923195\tbest: 1707.6923195 (154)\ttotal: 2m 40s\tremaining: 46.7s\n",
      "155:\tlearn: 1578.8405042\ttest: 1706.7732338\tbest: 1706.7732338 (155)\ttotal: 2m 41s\tremaining: 45.7s\n",
      "156:\tlearn: 1577.7513884\ttest: 1706.2185418\tbest: 1706.2185418 (156)\ttotal: 2m 42s\tremaining: 44.6s\n",
      "157:\tlearn: 1576.3085276\ttest: 1705.1832408\tbest: 1705.1832408 (157)\ttotal: 2m 43s\tremaining: 43.6s\n",
      "158:\tlearn: 1574.2238312\ttest: 1704.0194839\tbest: 1704.0194839 (158)\ttotal: 2m 44s\tremaining: 42.5s\n",
      "159:\tlearn: 1572.9592938\ttest: 1703.2128853\tbest: 1703.2128853 (159)\ttotal: 2m 45s\tremaining: 41.5s\n",
      "160:\tlearn: 1571.7662490\ttest: 1702.4100412\tbest: 1702.4100412 (160)\ttotal: 2m 46s\tremaining: 40.4s\n",
      "161:\tlearn: 1570.5161015\ttest: 1701.5657846\tbest: 1701.5657846 (161)\ttotal: 2m 47s\tremaining: 39.4s\n",
      "162:\tlearn: 1569.1119169\ttest: 1700.5263138\tbest: 1700.5263138 (162)\ttotal: 2m 49s\tremaining: 38.4s\n",
      "163:\tlearn: 1567.5749979\ttest: 1699.6444368\tbest: 1699.6444368 (163)\ttotal: 2m 50s\tremaining: 37.3s\n",
      "164:\tlearn: 1566.2092426\ttest: 1698.8450598\tbest: 1698.8450598 (164)\ttotal: 2m 51s\tremaining: 36.3s\n",
      "165:\tlearn: 1564.8319012\ttest: 1697.9695486\tbest: 1697.9695486 (165)\ttotal: 2m 52s\tremaining: 35.3s\n",
      "166:\tlearn: 1563.6591810\ttest: 1697.2095888\tbest: 1697.2095888 (166)\ttotal: 2m 53s\tremaining: 34.2s\n",
      "167:\tlearn: 1562.1958200\ttest: 1696.5491223\tbest: 1696.5491223 (167)\ttotal: 2m 54s\tremaining: 33.2s\n",
      "168:\tlearn: 1561.3590692\ttest: 1696.0454953\tbest: 1696.0454953 (168)\ttotal: 2m 55s\tremaining: 32.1s\n",
      "169:\tlearn: 1559.7833582\ttest: 1694.9560274\tbest: 1694.9560274 (169)\ttotal: 2m 56s\tremaining: 31.1s\n",
      "170:\tlearn: 1558.1077157\ttest: 1694.0186959\tbest: 1694.0186959 (170)\ttotal: 2m 57s\tremaining: 30.1s\n",
      "171:\tlearn: 1557.0626395\ttest: 1693.3543362\tbest: 1693.3543362 (171)\ttotal: 2m 58s\tremaining: 29.1s\n",
      "172:\tlearn: 1555.8203718\ttest: 1692.5983469\tbest: 1692.5983469 (172)\ttotal: 2m 59s\tremaining: 28s\n",
      "173:\tlearn: 1554.8296239\ttest: 1692.1041534\tbest: 1692.1041534 (173)\ttotal: 3m\tremaining: 27s\n",
      "174:\tlearn: 1553.6340630\ttest: 1691.3220085\tbest: 1691.3220085 (174)\ttotal: 3m 1s\tremaining: 25.9s\n",
      "175:\tlearn: 1552.4417164\ttest: 1690.4669469\tbest: 1690.4669469 (175)\ttotal: 3m 2s\tremaining: 24.9s\n",
      "176:\tlearn: 1551.0948242\ttest: 1689.6609194\tbest: 1689.6609194 (176)\ttotal: 3m 3s\tremaining: 23.8s\n",
      "177:\tlearn: 1549.9608297\ttest: 1689.0438068\tbest: 1689.0438068 (177)\ttotal: 3m 4s\tremaining: 22.8s\n",
      "178:\tlearn: 1548.8184044\ttest: 1688.6106060\tbest: 1688.6106060 (178)\ttotal: 3m 5s\tremaining: 21.8s\n",
      "179:\tlearn: 1547.6445808\ttest: 1687.8151639\tbest: 1687.8151639 (179)\ttotal: 3m 6s\tremaining: 20.7s\n",
      "180:\tlearn: 1546.4535203\ttest: 1687.0803109\tbest: 1687.0803109 (180)\ttotal: 3m 7s\tremaining: 19.7s\n",
      "181:\tlearn: 1545.0422557\ttest: 1686.2760286\tbest: 1686.2760286 (181)\ttotal: 3m 8s\tremaining: 18.6s\n",
      "182:\tlearn: 1544.0713469\ttest: 1685.7740866\tbest: 1685.7740866 (182)\ttotal: 3m 9s\tremaining: 17.6s\n",
      "183:\tlearn: 1543.2559469\ttest: 1685.3659064\tbest: 1685.3659064 (183)\ttotal: 3m 10s\tremaining: 16.6s\n",
      "184:\tlearn: 1541.9271752\ttest: 1684.8180260\tbest: 1684.8180260 (184)\ttotal: 3m 11s\tremaining: 15.5s\n",
      "185:\tlearn: 1541.0392637\ttest: 1684.4099175\tbest: 1684.4099175 (185)\ttotal: 3m 12s\tremaining: 14.5s\n",
      "186:\tlearn: 1540.1912960\ttest: 1683.9126665\tbest: 1683.9126665 (186)\ttotal: 3m 13s\tremaining: 13.5s\n",
      "187:\tlearn: 1539.1909881\ttest: 1683.3156917\tbest: 1683.3156917 (187)\ttotal: 3m 14s\tremaining: 12.4s\n",
      "188:\tlearn: 1537.9412244\ttest: 1682.6039606\tbest: 1682.6039606 (188)\ttotal: 3m 15s\tremaining: 11.4s\n",
      "189:\tlearn: 1536.8735975\ttest: 1682.0182111\tbest: 1682.0182111 (189)\ttotal: 3m 16s\tremaining: 10.3s\n",
      "190:\tlearn: 1535.5345160\ttest: 1681.2587918\tbest: 1681.2587918 (190)\ttotal: 3m 17s\tremaining: 9.31s\n",
      "191:\tlearn: 1534.3794000\ttest: 1680.6857969\tbest: 1680.6857969 (191)\ttotal: 3m 18s\tremaining: 8.28s\n",
      "192:\tlearn: 1533.5700824\ttest: 1680.1334534\tbest: 1680.1334534 (192)\ttotal: 3m 19s\tremaining: 7.24s\n",
      "193:\tlearn: 1532.5469335\ttest: 1679.4940402\tbest: 1679.4940402 (193)\ttotal: 3m 20s\tremaining: 6.21s\n",
      "194:\tlearn: 1531.4517948\ttest: 1679.0071184\tbest: 1679.0071184 (194)\ttotal: 3m 21s\tremaining: 5.17s\n",
      "195:\tlearn: 1530.9375793\ttest: 1678.7219806\tbest: 1678.7219806 (195)\ttotal: 3m 22s\tremaining: 4.14s\n",
      "196:\tlearn: 1529.6166176\ttest: 1678.1194529\tbest: 1678.1194529 (196)\ttotal: 3m 23s\tremaining: 3.1s\n",
      "197:\tlearn: 1528.7294349\ttest: 1677.6160367\tbest: 1677.6160367 (197)\ttotal: 3m 24s\tremaining: 2.07s\n",
      "198:\tlearn: 1527.5862912\ttest: 1677.0973322\tbest: 1677.0973322 (198)\ttotal: 3m 25s\tremaining: 1.03s\n",
      "199:\tlearn: 1526.7557600\ttest: 1676.4888621\tbest: 1676.4888621 (199)\ttotal: 3m 26s\tremaining: 0us\n",
      "\n",
      "bestTest = 1676.488862\n",
      "bestIteration = 199\n",
      "\n"
     ]
    }
   ],
   "source": [
    "for depth in range(15, 17):\n",
    "    print(f'depth = {depth}')\n",
    "    params = {\"iterations\": 200, \"depth\": depth, \"loss_function\": \"RMSE\", \"verbose\": 1}\n",
    "    cv_dataset = Pool(data=scaler_features_train_oe, label=target_train_oe)\n",
    "    scores = cv(cv_dataset, params, fold_count=2)"
   ]
  },
  {
   "cell_type": "markdown",
   "metadata": {},
   "source": [
    "Лучший результат RMSE = 1676.49 показала модель depth = 16, iterations = 200"
   ]
  },
  {
   "cell_type": "markdown",
   "metadata": {},
   "source": [
    "### Ridge"
   ]
  },
  {
   "cell_type": "markdown",
   "metadata": {},
   "source": [
    "Для выборки Ohe"
   ]
  },
  {
   "cell_type": "code",
   "execution_count": 79,
   "metadata": {},
   "outputs": [
    {
     "name": "stdout",
     "output_type": "stream",
     "text": [
      "alpha = 0.1\n",
      "rmse =  2,832.13\n",
      "alpha = 0.3\n",
      "rmse =  2,832.13\n",
      "alpha = 1\n",
      "rmse =  2,832.13\n",
      "alpha = 4\n",
      "rmse =  2,832.13\n",
      "CPU times: user 34.6 s, sys: 18.8 s, total: 53.4 s\n",
      "Wall time: 53.7 s\n"
     ]
    }
   ],
   "source": [
    "%%time\n",
    "for value in [0.1, 0.3, 1, 4]:\n",
    "    print(f'alpha = {value}')\n",
    "    model = Ridge(alpha = value)\n",
    "    rmse = ml(model, scaler_features_train_ohe, target_train_ohe)\n",
    "    print(f'rmse = {rmse: ,.2f}')"
   ]
  },
  {
   "cell_type": "markdown",
   "metadata": {},
   "source": [
    "Для выборки OrdinalEncoder"
   ]
  },
  {
   "cell_type": "code",
   "execution_count": 81,
   "metadata": {},
   "outputs": [
    {
     "name": "stdout",
     "output_type": "stream",
     "text": [
      "alpha = 0.1\n",
      "rmse =  3,113.15\n",
      "alpha = 1\n",
      "rmse =  3,113.15\n",
      "alpha = 4\n",
      "rmse =  3,113.15\n",
      "alpha = 15\n",
      "rmse =  3,113.15\n",
      "CPU times: user 1.5 s, sys: 2.32 s, total: 3.82 s\n",
      "Wall time: 3.77 s\n"
     ]
    }
   ],
   "source": [
    "%%time\n",
    "for value in [0.1, 1, 4, 15]:\n",
    "    print(f'alpha = {value}')\n",
    "    model = Ridge(alpha = value)\n",
    "    rmse = ml(model, scaler_features_train_oe, target_train_oe)\n",
    "    print(f'rmse = {rmse: ,.2f}')"
   ]
  },
  {
   "cell_type": "markdown",
   "metadata": {},
   "source": [
    "### ExtraTreesRegressor"
   ]
  },
  {
   "cell_type": "markdown",
   "metadata": {},
   "source": [
    "Для выборки Ohe"
   ]
  },
  {
   "cell_type": "code",
   "execution_count": 60,
   "metadata": {},
   "outputs": [
    {
     "name": "stdout",
     "output_type": "stream",
     "text": [
      "rmse =  1,639.36\n",
      "CPU times: user 17min 24s, sys: 4.35 s, total: 17min 28s\n",
      "Wall time: 17min 31s\n"
     ]
    }
   ],
   "source": [
    "%%time\n",
    "model = ExtraTreesRegressor(n_estimators = 25, random_state=0)\n",
    "rmse = ml(model, scaler_features_train_ohe, target_train_ohe)\n",
    "print(f'rmse = {rmse: ,.2f}')"
   ]
  },
  {
   "cell_type": "markdown",
   "metadata": {},
   "source": [
    "Для выборки OrdinalEncoder"
   ]
  },
  {
   "cell_type": "code",
   "execution_count": 62,
   "metadata": {},
   "outputs": [
    {
     "name": "stdout",
     "output_type": "stream",
     "text": [
      "n_estimators = 75\n",
      "rmse =  1,653.21\n",
      "n_estimators = 120\n",
      "rmse =  1,651.06\n",
      "n_estimators = 150\n",
      "rmse =  1,650.10\n",
      "CPU times: user 9min 39s, sys: 12.8 s, total: 9min 51s\n",
      "Wall time: 9min 53s\n"
     ]
    }
   ],
   "source": [
    "%%time\n",
    "for est in [75, 120, 150]:\n",
    "    print(f'n_estimators = {est}')\n",
    "    model = ExtraTreesRegressor(n_estimators = est, random_state=0)\n",
    "    rmse = ml(model, scaler_features_train_oe, target_train_oe)\n",
    "    print(f'rmse = {rmse: ,.2f}')\n"
   ]
  },
  {
   "cell_type": "markdown",
   "metadata": {},
   "source": [
    "### Lasso"
   ]
  },
  {
   "cell_type": "markdown",
   "metadata": {},
   "source": [
    "Для выборки Ohe"
   ]
  },
  {
   "cell_type": "code",
   "execution_count": 63,
   "metadata": {},
   "outputs": [
    {
     "name": "stdout",
     "output_type": "stream",
     "text": [
      "alpha = 1\n",
      "rmse =  2,832.60\n",
      "CPU times: user 10min, sys: 11min 49s, total: 21min 49s\n",
      "Wall time: 21min 52s\n"
     ]
    }
   ],
   "source": [
    "%%time\n",
    "for value in [1]:\n",
    "    print(f'alpha = {value}')\n",
    "    model = Lasso(alpha = value)\n",
    "    rmse = ml(model, scaler_features_train_ohe, target_train_ohe)\n",
    "    print(f'rmse = {rmse: ,.2f}')"
   ]
  },
  {
   "cell_type": "markdown",
   "metadata": {},
   "source": [
    "Для выборки OrdinalEncoder"
   ]
  },
  {
   "cell_type": "code",
   "execution_count": 85,
   "metadata": {},
   "outputs": [
    {
     "name": "stdout",
     "output_type": "stream",
     "text": [
      "alpha = 0.1\n",
      "rmse =  3,113.15\n",
      "alpha = 1\n",
      "rmse =  3,113.14\n",
      "alpha = 4\n",
      "rmse =  3,113.16\n",
      "alpha = 0.7\n",
      "rmse =  3,113.15\n",
      "CPU times: user 2.46 s, sys: 3.33 s, total: 5.78 s\n",
      "Wall time: 5.8 s\n"
     ]
    }
   ],
   "source": [
    "%%time\n",
    "for value in [0.1, 1, 4, 0.7]:\n",
    "    print(f'alpha = {value}')\n",
    "    model = Lasso(alpha = value)\n",
    "    rmse = ml(model, scaler_features_train_oe, target_train_oe)\n",
    "    print(f'rmse = {rmse: ,.2f}')"
   ]
  },
  {
   "cell_type": "markdown",
   "metadata": {},
   "source": [
    "### ElasticNetCV"
   ]
  },
  {
   "cell_type": "markdown",
   "metadata": {},
   "source": [
    "Для выборки Ohe"
   ]
  },
  {
   "cell_type": "code",
   "execution_count": 64,
   "metadata": {},
   "outputs": [
    {
     "name": "stdout",
     "output_type": "stream",
     "text": [
      "rmse =  2,833.14\n",
      "CPU times: user 7min 6s, sys: 4min 45s, total: 11min 51s\n",
      "Wall time: 11min 57s\n"
     ]
    }
   ],
   "source": [
    "%%time\n",
    "for value in [1]:\n",
    "    model = ElasticNetCV(l1_ratio = value)\n",
    "    rmse = ml(model, scaler_features_train_ohe, target_train_ohe)\n",
    "    print(f'rmse = {rmse: ,.2f}')"
   ]
  },
  {
   "cell_type": "markdown",
   "metadata": {},
   "source": [
    "Для выборки OrdinalEncoder"
   ]
  },
  {
   "cell_type": "code",
   "execution_count": 71,
   "metadata": {},
   "outputs": [
    {
     "name": "stdout",
     "output_type": "stream",
     "text": [
      "l1_ratio = 0.3\n",
      "rmse =  4,143.19\n",
      "l1_ratio = 1\n",
      "rmse =  3,113.16\n",
      "l1_ratio = 0.7\n",
      "rmse =  3,508.94\n",
      "CPU times: user 23.7 s, sys: 29.2 s, total: 52.9 s\n",
      "Wall time: 53.4 s\n"
     ]
    }
   ],
   "source": [
    "%%time\n",
    "for value in [0.3, 1, 0.7]: \n",
    "    print(f'l1_ratio = {value}')\n",
    "    model = ElasticNetCV(l1_ratio = value)\n",
    "    rmse = ml(model, scaler_features_train_oe, target_train_oe)\n",
    "    print(f'rmse = {rmse: ,.2f}')"
   ]
  },
  {
   "cell_type": "markdown",
   "metadata": {},
   "source": [
    "**Выводы:**\n",
    "1. Для выборки Ohe\n",
    "    - модель LinearRegression: rmse - 5542.57\n",
    "    - модель RandomForestRegressor: rmse - 1898.44, время на один цикл 3.5 минуты в связи с чем подбор гиперпараметров не осуществлялся;\n",
    "    - модель LGBMRegressor: rmse - 1700,49 (boosting_type = goss, n_estimators=100, max_depth=25)\n",
    "    - модель CatBoostRegressor (Pool): rmse - 1815.67 (iterations\": 200, depth = 16)\n",
    "    - модель Ridge: rmse - 2832,13 (гиперпараметр alpha влияние не оказывает)\n",
    "    - модель *ExtraTreesRegressor: rmse - 1639.36* (n_estimators = 25), время на один цикл 17.5 минут в связи с чем подбор гиперпараметров не осуществлялся;\n",
    "    - модель Lasso: rmse - 2832.60, время на один цикл 22 минуты в связи с чем подбор гиперпараметров не осуществлялся;\n",
    "    - модель ElasticNetCV: rmse - 2833.14, время на один цикл 12 минут в связи с чем подбор гиперпараметров не осуществлялся\n",
    "    \n",
    "2. Для выборки OrdinalEncoder\n",
    "    - модель LinearRegression: rmse - 3113.15\n",
    "    - модель *RandomForestRegressor: rmse - 1666,92* (max_depth = 14,  n_estimators= 100)\n",
    "    - модель LGBMRegressor: rmse - 1680.83 (boosting_type = goss, n_estimators=130, max_depth=18)\n",
    "    - модель *CatBoostRegressor (Pool): rmse - 1676.49* (iterations\": 200, depth = 16)\n",
    "    - модель Ridge: rmse - 3113,15 (гиперпараметр alpha влияние не оказывает)\n",
    "    - модель *ExtraTreesRegressor: rmse - 1650,10* (n_estimators = 150)\n",
    "    - модель Lasso: rmse - 3113,14 (гиперпараметр alpha влияние оказывает крайне слабо)\n",
    "    - модель ElasticNetCV: rmse - 3113.16 (l1_ratio = 1)"
   ]
  },
  {
   "cell_type": "code",
   "execution_count": null,
   "metadata": {},
   "outputs": [],
   "source": []
  },
  {
   "cell_type": "markdown",
   "metadata": {},
   "source": [
    "## Анализ моделей"
   ]
  },
  {
   "cell_type": "markdown",
   "metadata": {},
   "source": [
    "Тестировать и сравнивать мы будем только те модели, результаты которых уложились в условия задачи (ТОП-4):\n",
    "- RandomForestRegressor\n",
    "- CatBoostRegressor\n",
    "- LGBMRegressor\n",
    "- ExtraTreesRegressor"
   ]
  },
  {
   "cell_type": "markdown",
   "metadata": {},
   "source": [
    "Модель ExtraTreesRegressor на выборке Ohe показала хороший результат rmse - 1639.36 (n_estimators = 25), однако время на один цикл 17.5 минут. Данная модель не будет протестирована на тестовой выборке, так как одним из главных условий ТЗ - скорость работы."
   ]
  },
  {
   "cell_type": "code",
   "execution_count": 61,
   "metadata": {},
   "outputs": [],
   "source": [
    "def ml_predict(model, x_features, x_target, y_features, y_target):\n",
    "    model.fit(x_features, x_target)\n",
    "    predict = model.predict(y_features)\n",
    "    rmse = mean_squared_error(predict, y_target)**0.5\n",
    "    return rmse"
   ]
  },
  {
   "cell_type": "code",
   "execution_count": 60,
   "metadata": {
    "scrolled": true
   },
   "outputs": [
    {
     "name": "stdout",
     "output_type": "stream",
     "text": [
      "(245313, 9) (245313,) (81772, 9) (81772,)\n"
     ]
    }
   ],
   "source": [
    "print(scaler_features_train_oe.shape, target_train_oe.shape, scaler_features_test_oe.shape, target_test_oe.shape) \n",
    "# предпроверка данных перед работой (именно сейчас нашла ошибку, так что пусть будет)"
   ]
  },
  {
   "cell_type": "code",
   "execution_count": 61,
   "metadata": {},
   "outputs": [
    {
     "name": "stdout",
     "output_type": "stream",
     "text": [
      "rmse =  1,656.08\n",
      "CPU times: user 37.7 s, sys: 189 ms, total: 37.9 s\n",
      "Wall time: 37.9 s\n"
     ]
    }
   ],
   "source": [
    "%%time\n",
    "model = RandomForestRegressor(random_state=121314, n_estimators=100, max_depth=14)\n",
    "rmse = ml_predict(model, scaler_features_train_oe, target_train_oe, scaler_features_test_oe, target_test_oe)\n",
    "print(F'rmse = {rmse: ,.2f}')"
   ]
  },
  {
   "cell_type": "code",
   "execution_count": 62,
   "metadata": {},
   "outputs": [
    {
     "data": {
      "application/vnd.jupyter.widget-view+json": {
       "model_id": "269d98366f7d4ed5a908eb6345eedb73",
       "version_major": 2,
       "version_minor": 0
      },
      "text/plain": [
       "MetricVisualizer(layout=Layout(align_self='stretch', height='500px'))"
      ]
     },
     "metadata": {},
     "output_type": "display_data"
    }
   ],
   "source": [
    "cat = CatBoostRegressor()\n",
    "cat.fit(scaler_features_test_oe, target_test_oe, verbose=False, plot=True);"
   ]
  },
  {
   "cell_type": "code",
   "execution_count": 63,
   "metadata": {},
   "outputs": [
    {
     "name": "stdout",
     "output_type": "stream",
     "text": [
      "rmse =  1,672.84\n",
      "CPU times: user 59.9 s, sys: 373 ms, total: 1min\n",
      "Wall time: 1min\n"
     ]
    }
   ],
   "source": [
    "%%time\n",
    "model = LGBMRegressor(random_state=121314, boosting_type = 'goss', n_estimators=130, max_depth=18)\n",
    "rmse = ml_predict(model, scaler_features_train_oe, target_train_oe, scaler_features_test_oe, target_test_oe)\n",
    "print(F'rmse = {rmse: ,.2f}')"
   ]
  },
  {
   "cell_type": "code",
   "execution_count": 64,
   "metadata": {},
   "outputs": [
    {
     "name": "stdout",
     "output_type": "stream",
     "text": [
      "rmse =  1,636.43\n",
      "CPU times: user 1min 5s, sys: 1.5 s, total: 1min 6s\n",
      "Wall time: 1min 7s\n"
     ]
    }
   ],
   "source": [
    "%%time\n",
    "model = ExtraTreesRegressor(n_estimators = 150, random_state=121314)\n",
    "rmse = ml_predict(model, scaler_features_train_oe, target_train_oe, scaler_features_test_oe, target_test_oe)\n",
    "print(F'rmse = {rmse: ,.2f}')"
   ]
  },
  {
   "cell_type": "markdown",
   "metadata": {},
   "source": [
    "Эталонная модель для сравнения результатов:"
   ]
  },
  {
   "cell_type": "code",
   "execution_count": 63,
   "metadata": {},
   "outputs": [
    {
     "name": "stdout",
     "output_type": "stream",
     "text": [
      "rmse =  4,528.89\n",
      "CPU times: user 3.62 ms, sys: 0 ns, total: 3.62 ms\n",
      "Wall time: 2.28 ms\n"
     ]
    }
   ],
   "source": [
    "%%time\n",
    "model = DummyRegressor()\n",
    "rmse = ml_predict(model, scaler_features_train_oe, target_train_oe, scaler_features_test_oe, target_test_oe)\n",
    "print(F'rmse = {rmse: ,.2f}')"
   ]
  },
  {
   "cell_type": "markdown",
   "metadata": {},
   "source": [
    "**Вывод**\n",
    "- Лидер по качеству и скорости работы модель CatBoostRegressor, время всего 3 секунды\n",
    "- модель ExtraTreesRegressor с результатом 1,636.43 справилась за 1,1 минуту\n",
    "- модель RandomForestRegressor с результатом rmse =  1,656.08, справилась за 39,5 секунд\n",
    "- модель LGBMRegressor с результатом rmse =  1672,84, справилась за 1 минуту\n",
    "- эталонная модель показала результат rmse =  4528.89, уложившись в 2.28 секунд "
   ]
  },
  {
   "cell_type": "markdown",
   "metadata": {},
   "source": [
    "## Вывод"
   ]
  },
  {
   "cell_type": "markdown",
   "metadata": {},
   "source": [
    "1. нам предоставлена выгрузка из базу объявлений о продаже автомобилей, она содержит 354369 наблюдений и 16 признаков (в т.ч. целевой признак - цена)\n",
    "- в данных содержаться пропуски в VehicleType (кузов), Gearbox (коробка передач), Model (модель автомобиля), FuelType (вид топлива), NotRepaired (ремонт)\n",
    "- имелись дубликаты, которые были удалены\n",
    "- были удалены признаки, которые не являются ценообразующими ('NumberOfPictures' - количество фото, 'LastSeen' - дата последней активности пользователя, 'DateCreated' - дата создания анкеты, 'RegistrationMonth' - месяц регистрации авто, 'DateCrawled' - дата скачивания анкеты из базы)\n",
    "- определены возрастные диапазоны автомобилей - не старше 1970 года выпуска\n",
    "- проведена работа по исправлению неточностей указания мощности автомобиля (меньше 40 и больше 1000 л/с), заменена часть нулевых значений на медиану по модели/бренду/коробке передач. Часть данных, не подлежащих восстановлению, была удалена.\n",
    "- восстановлены пропуски: модель авто, ремонт, коробка передач, вид топлива и тип кузова\n",
    "- проверен целевой признак: удалены автомобили дешевле 50 у.е.\n",
    "- удалено 7,7% первоначальных данных"
   ]
  },
  {
   "cell_type": "markdown",
   "metadata": {},
   "source": [
    "При проверки моделей кросс-валидацией на обучающих выборках были получены следующие результаты:"
   ]
  },
  {
   "cell_type": "markdown",
   "metadata": {},
   "source": [
    "2. Для выборки Ohe\n",
    "    - модель LinearRegression: rmse - 5542.57\n",
    "    - модель RandomForestRegressor: rmse - 1898.44, время на один цикл 3.5 минуты в связи с чем подбор гиперпараметров не осуществлялся;\n",
    "    - модель LGBMRegressor: rmse - 1700,49 (boosting_type = goss, n_estimators=100, max_depth=25)\n",
    "    - модель CatBoostRegressor (Pool): rmse - 1815.67 (iterations\": 200, depth = 16)\n",
    "    - модель Ridge: rmse - 2832,13 (гиперпараметр alpha влияние не оказывает)\n",
    "    - модель *ExtraTreesRegressor: rmse - 1639.36* (n_estimators = 25), время на один цикл 17.5 минут в связи с чем подбор гиперпараметров не осуществлялся;\n",
    "    - модель Lasso: rmse - 2832.60, время на один цикл 22 минуты в связи с чем подбор гиперпараметров не осуществлялся;\n",
    "    - модель ElasticNetCV: rmse - 2833.14, время на один цикл 12 минут в связи с чем подбор гиперпараметров не осуществлялся\n",
    "    \n",
    "3. Для выборки OrdinalEncoder\n",
    "    - модель LinearRegression: rmse - 3113.15\n",
    "    - модель *RandomForestRegressor: rmse - 1666,92* (max_depth = 14,  n_estimators= 100)\n",
    "    - модель LGBMRegressor: rmse - 1680.83 (boosting_type = goss, n_estimators=130, max_depth=18)\n",
    "    - модель *CatBoostRegressor (Pool): rmse - 1676.49* (iterations\": 200, depth = 16)\n",
    "    - модель Ridge: rmse - 3113,15 (гиперпараметр alpha влияние не оказывает)\n",
    "    - модель *ExtraTreesRegressor: rmse - 1650,10* (n_estimators = 150)\n",
    "    - модель Lasso: rmse - 3113,14 (гиперпараметр alpha влияние оказывает крайне слабо)\n",
    "    - модель ElasticNetCV: rmse - 3113.16 (l1_ratio = 1)"
   ]
  },
  {
   "cell_type": "markdown",
   "metadata": {},
   "source": [
    "Для проверки на тестовой выборке мы отобрали следующие модели, результаты которых уложились в условия задачи (ТОП-4):\n",
    "\n",
    "- RandomForestRegressor\n",
    "- CatBoostRegressor\n",
    "- LGBMRegressor\n",
    "- ExtraTreesRegressor"
   ]
  },
  {
   "cell_type": "markdown",
   "metadata": {},
   "source": [
    "4. На тестовой выборке все модели уложились в заданные параметры качества:\n",
    "- **Лидер по качеству и скорости работы модель CatBoostRegressor, время всего 3 секунды**\n",
    "- модель ExtraTreesRegressor с результатом 1,636.43 справилась за 1,1 минуту\n",
    "- модель RandomForestRegressor с результатом rmse =  1,656.08, справилась за 39,5 секунд\n",
    "- модель LGBMRegressor с результатом rmse =  1672,84, справилась за 7,7 минут\n",
    "- эталонная модель показала результат rmse = 4528.89, уложившись в 2.28 секунд "
   ]
  },
  {
   "cell_type": "code",
   "execution_count": null,
   "metadata": {},
   "outputs": [],
   "source": []
  },
  {
   "cell_type": "markdown",
   "metadata": {},
   "source": [
    "<div class='alert alert-info'>🏁 Образцовая работа! Качественно исследовала и предобработала признаки, рассмотрела много моделей и 2 способа кодирования, корректно сформировала выборки, сделала перебор гиперпараметров, строила красивые визуализации. \n",
    "</div>"
   ]
  }
 ],
 "metadata": {
  "ExecuteTimeLog": [
   {
    "duration": 74,
    "start_time": "2022-06-28T04:55:04.877Z"
   },
   {
    "duration": 541,
    "start_time": "2022-06-28T04:55:34.055Z"
   },
   {
    "duration": 2602,
    "start_time": "2022-06-28T04:55:36.156Z"
   },
   {
    "duration": 30,
    "start_time": "2022-06-28T05:09:41.621Z"
   },
   {
    "duration": 1085,
    "start_time": "2022-06-28T05:09:45.107Z"
   },
   {
    "duration": 1421,
    "start_time": "2022-06-28T05:09:46.944Z"
   },
   {
    "duration": 222,
    "start_time": "2022-06-28T05:11:52.247Z"
   },
   {
    "duration": 725,
    "start_time": "2022-06-28T05:20:41.449Z"
   },
   {
    "duration": 745,
    "start_time": "2022-06-28T05:21:02.848Z"
   },
   {
    "duration": 11,
    "start_time": "2022-06-28T05:24:07.625Z"
   },
   {
    "duration": 40,
    "start_time": "2022-06-28T05:24:18.275Z"
   },
   {
    "duration": 26,
    "start_time": "2022-06-28T05:25:01.988Z"
   },
   {
    "duration": 8,
    "start_time": "2022-06-28T05:25:11.317Z"
   },
   {
    "duration": 8,
    "start_time": "2022-06-28T05:25:20.213Z"
   },
   {
    "duration": 10,
    "start_time": "2022-06-28T05:25:55.182Z"
   },
   {
    "duration": 16,
    "start_time": "2022-06-28T05:27:30.338Z"
   },
   {
    "duration": 7,
    "start_time": "2022-06-28T05:27:53.337Z"
   },
   {
    "duration": 7,
    "start_time": "2022-06-28T05:30:33.337Z"
   },
   {
    "duration": 82,
    "start_time": "2022-06-28T05:32:40.910Z"
   },
   {
    "duration": 16,
    "start_time": "2022-06-28T05:32:51.346Z"
   },
   {
    "duration": 22,
    "start_time": "2022-06-28T05:33:01.493Z"
   },
   {
    "duration": 29,
    "start_time": "2022-06-28T05:36:03.181Z"
   },
   {
    "duration": 58,
    "start_time": "2022-06-28T05:50:22.393Z"
   },
   {
    "duration": 17,
    "start_time": "2022-06-28T05:50:34.624Z"
   },
   {
    "duration": 68,
    "start_time": "2022-06-28T05:51:06.572Z"
   },
   {
    "duration": 27,
    "start_time": "2022-06-28T05:51:07.378Z"
   },
   {
    "duration": 57,
    "start_time": "2022-06-28T05:51:45.393Z"
   },
   {
    "duration": 31,
    "start_time": "2022-06-28T05:51:46.063Z"
   },
   {
    "duration": 8,
    "start_time": "2022-06-28T05:52:05.612Z"
   },
   {
    "duration": 11,
    "start_time": "2022-06-28T05:55:38.538Z"
   },
   {
    "duration": 197,
    "start_time": "2022-06-28T05:56:10.205Z"
   },
   {
    "duration": 9,
    "start_time": "2022-06-28T05:56:25.788Z"
   },
   {
    "duration": 28,
    "start_time": "2022-06-28T05:59:35.328Z"
   },
   {
    "duration": 54,
    "start_time": "2022-06-28T06:00:14.338Z"
   },
   {
    "duration": 8,
    "start_time": "2022-06-28T06:00:19.154Z"
   },
   {
    "duration": 13,
    "start_time": "2022-06-28T06:01:39.437Z"
   },
   {
    "duration": 345,
    "start_time": "2022-06-28T06:05:43.722Z"
   },
   {
    "duration": 3,
    "start_time": "2022-06-28T06:05:55.919Z"
   },
   {
    "duration": 888,
    "start_time": "2022-06-28T06:05:55.924Z"
   },
   {
    "duration": 6,
    "start_time": "2022-06-28T06:05:56.814Z"
   },
   {
    "duration": 206,
    "start_time": "2022-06-28T06:05:56.824Z"
   },
   {
    "duration": 181,
    "start_time": "2022-06-28T06:06:00.140Z"
   },
   {
    "duration": 524,
    "start_time": "2022-06-28T06:06:08.476Z"
   },
   {
    "duration": 127,
    "start_time": "2022-06-28T06:07:22.007Z"
   },
   {
    "duration": 513,
    "start_time": "2022-06-28T06:07:28.603Z"
   },
   {
    "duration": 3,
    "start_time": "2022-06-28T06:09:21.235Z"
   },
   {
    "duration": 299,
    "start_time": "2022-06-28T06:32:17.467Z"
   },
   {
    "duration": 298,
    "start_time": "2022-06-28T06:32:31.510Z"
   },
   {
    "duration": 71,
    "start_time": "2022-06-28T06:33:11.002Z"
   },
   {
    "duration": 24,
    "start_time": "2022-06-28T06:34:38.105Z"
   },
   {
    "duration": 8,
    "start_time": "2022-06-28T06:50:27.912Z"
   },
   {
    "duration": 5,
    "start_time": "2022-06-28T06:50:35.197Z"
   },
   {
    "duration": 17,
    "start_time": "2022-06-28T06:50:35.204Z"
   },
   {
    "duration": 883,
    "start_time": "2022-06-28T06:50:35.223Z"
   },
   {
    "duration": 7,
    "start_time": "2022-06-28T06:50:36.108Z"
   },
   {
    "duration": 223,
    "start_time": "2022-06-28T06:50:36.117Z"
   },
   {
    "duration": 679,
    "start_time": "2022-06-28T06:50:36.342Z"
   },
   {
    "duration": 89,
    "start_time": "2022-06-28T06:50:37.023Z"
   },
   {
    "duration": 43,
    "start_time": "2022-06-28T06:50:49.210Z"
   },
   {
    "duration": 83,
    "start_time": "2022-06-28T06:50:58.225Z"
   },
   {
    "duration": 3,
    "start_time": "2022-06-28T06:51:04.513Z"
   },
   {
    "duration": 3094,
    "start_time": "2022-06-28T07:05:59.232Z"
   },
   {
    "duration": 3,
    "start_time": "2022-06-28T07:07:03.412Z"
   },
   {
    "duration": 8,
    "start_time": "2022-06-28T07:07:19.642Z"
   },
   {
    "duration": 42,
    "start_time": "2022-06-28T07:07:32.226Z"
   },
   {
    "duration": 835,
    "start_time": "2022-06-28T07:08:23.592Z"
   },
   {
    "duration": 9,
    "start_time": "2022-06-28T07:08:50.124Z"
   },
   {
    "duration": 11,
    "start_time": "2022-06-28T07:09:07.726Z"
   },
   {
    "duration": 62,
    "start_time": "2022-06-28T07:09:09.454Z"
   },
   {
    "duration": 51,
    "start_time": "2022-06-28T07:18:34.061Z"
   },
   {
    "duration": 70,
    "start_time": "2022-06-28T07:18:40.282Z"
   },
   {
    "duration": 17,
    "start_time": "2022-06-28T07:24:05.824Z"
   },
   {
    "duration": 151,
    "start_time": "2022-06-28T07:24:07.073Z"
   },
   {
    "duration": 48,
    "start_time": "2022-06-28T07:24:29.522Z"
   },
   {
    "duration": 26,
    "start_time": "2022-06-28T07:26:17.102Z"
   },
   {
    "duration": 5,
    "start_time": "2022-06-28T07:26:48.024Z"
   },
   {
    "duration": 98,
    "start_time": "2022-06-28T07:26:48.038Z"
   },
   {
    "duration": 2476,
    "start_time": "2022-06-28T07:26:48.140Z"
   },
   {
    "duration": 4,
    "start_time": "2022-06-28T07:26:50.619Z"
   },
   {
    "duration": 326,
    "start_time": "2022-06-28T07:26:50.627Z"
   },
   {
    "duration": 741,
    "start_time": "2022-06-28T07:26:50.956Z"
   },
   {
    "duration": 8,
    "start_time": "2022-06-28T07:26:51.699Z"
   },
   {
    "duration": 82,
    "start_time": "2022-06-28T07:26:51.708Z"
   },
   {
    "duration": 322,
    "start_time": "2022-06-28T07:26:51.801Z"
   },
   {
    "duration": 110,
    "start_time": "2022-06-28T07:26:52.129Z"
   },
   {
    "duration": 16,
    "start_time": "2022-06-28T07:26:52.241Z"
   },
   {
    "duration": 75,
    "start_time": "2022-06-28T07:26:52.269Z"
   },
   {
    "duration": 44,
    "start_time": "2022-06-28T07:26:52.346Z"
   },
   {
    "duration": 81,
    "start_time": "2022-06-28T07:26:52.393Z"
   },
   {
    "duration": 10,
    "start_time": "2022-06-28T07:26:52.476Z"
   },
   {
    "duration": 67,
    "start_time": "2022-06-28T07:26:52.488Z"
   },
   {
    "duration": 55,
    "start_time": "2022-06-28T07:26:52.557Z"
   },
   {
    "duration": 56,
    "start_time": "2022-06-28T07:26:52.614Z"
   },
   {
    "duration": 3,
    "start_time": "2022-06-28T07:26:52.672Z"
   },
   {
    "duration": 10,
    "start_time": "2022-06-28T07:57:45.774Z"
   },
   {
    "duration": 4,
    "start_time": "2022-06-28T07:57:49.145Z"
   },
   {
    "duration": 24,
    "start_time": "2022-06-28T07:57:50.357Z"
   },
   {
    "duration": 6,
    "start_time": "2022-06-28T07:58:08.627Z"
   },
   {
    "duration": 4,
    "start_time": "2022-06-28T07:59:33.453Z"
   },
   {
    "duration": 3,
    "start_time": "2022-06-28T07:59:34.453Z"
   },
   {
    "duration": 11,
    "start_time": "2022-06-28T07:59:35.285Z"
   },
   {
    "duration": 7,
    "start_time": "2022-06-28T08:01:37.020Z"
   },
   {
    "duration": 12,
    "start_time": "2022-06-28T08:01:37.944Z"
   },
   {
    "duration": 13,
    "start_time": "2022-06-28T08:03:15.554Z"
   },
   {
    "duration": 6,
    "start_time": "2022-06-28T08:04:35.302Z"
   },
   {
    "duration": 70,
    "start_time": "2022-06-28T09:43:49.242Z"
   },
   {
    "duration": 410,
    "start_time": "2022-06-28T09:43:57.999Z"
   },
   {
    "duration": 3,
    "start_time": "2022-06-28T09:43:58.411Z"
   },
   {
    "duration": 1450,
    "start_time": "2022-06-28T09:43:58.416Z"
   },
   {
    "duration": 5,
    "start_time": "2022-06-28T09:43:59.877Z"
   },
   {
    "duration": 215,
    "start_time": "2022-06-28T09:43:59.885Z"
   },
   {
    "duration": 1114,
    "start_time": "2022-06-28T09:44:00.103Z"
   },
   {
    "duration": 13,
    "start_time": "2022-06-28T09:44:01.219Z"
   },
   {
    "duration": 90,
    "start_time": "2022-06-28T09:44:01.235Z"
   },
   {
    "duration": 233,
    "start_time": "2022-06-28T09:44:01.332Z"
   },
   {
    "duration": 18,
    "start_time": "2022-06-28T09:44:01.568Z"
   },
   {
    "duration": 33,
    "start_time": "2022-06-28T09:44:01.588Z"
   },
   {
    "duration": 42,
    "start_time": "2022-06-28T09:44:01.623Z"
   },
   {
    "duration": 74,
    "start_time": "2022-06-28T09:44:01.667Z"
   },
   {
    "duration": 43,
    "start_time": "2022-06-28T09:44:01.748Z"
   },
   {
    "duration": 7,
    "start_time": "2022-06-28T09:44:01.793Z"
   },
   {
    "duration": 31,
    "start_time": "2022-06-28T09:44:01.802Z"
   },
   {
    "duration": 74,
    "start_time": "2022-06-28T09:44:01.835Z"
   },
   {
    "duration": 36,
    "start_time": "2022-06-28T09:44:51.608Z"
   },
   {
    "duration": 16,
    "start_time": "2022-06-28T09:45:54.532Z"
   },
   {
    "duration": 15,
    "start_time": "2022-06-28T09:45:54.560Z"
   },
   {
    "duration": 1019,
    "start_time": "2022-06-28T09:45:54.577Z"
   },
   {
    "duration": 4,
    "start_time": "2022-06-28T09:45:55.598Z"
   },
   {
    "duration": 214,
    "start_time": "2022-06-28T09:45:55.605Z"
   },
   {
    "duration": 623,
    "start_time": "2022-06-28T09:45:55.840Z"
   },
   {
    "duration": 3,
    "start_time": "2022-06-28T09:45:56.465Z"
   },
   {
    "duration": 35,
    "start_time": "2022-06-28T09:45:56.469Z"
   },
   {
    "duration": 141,
    "start_time": "2022-06-28T09:45:56.505Z"
   },
   {
    "duration": 7,
    "start_time": "2022-06-28T09:45:56.655Z"
   },
   {
    "duration": 9,
    "start_time": "2022-06-28T09:45:56.663Z"
   },
   {
    "duration": 9,
    "start_time": "2022-06-28T09:45:56.674Z"
   },
   {
    "duration": 47,
    "start_time": "2022-06-28T09:45:56.685Z"
   },
   {
    "duration": 53,
    "start_time": "2022-06-28T09:45:56.736Z"
   },
   {
    "duration": 9,
    "start_time": "2022-06-28T09:45:56.791Z"
   },
   {
    "duration": 20,
    "start_time": "2022-06-28T09:45:56.802Z"
   },
   {
    "duration": 46,
    "start_time": "2022-06-28T09:45:56.824Z"
   },
   {
    "duration": 33,
    "start_time": "2022-06-28T09:45:59.299Z"
   },
   {
    "duration": 26,
    "start_time": "2022-06-28T09:46:00.181Z"
   },
   {
    "duration": 19,
    "start_time": "2022-06-28T09:46:51.026Z"
   },
   {
    "duration": 24,
    "start_time": "2022-06-28T09:46:52.676Z"
   },
   {
    "duration": 112,
    "start_time": "2022-06-28T09:57:11.871Z"
   },
   {
    "duration": 107,
    "start_time": "2022-06-28T09:58:57.648Z"
   },
   {
    "duration": 8,
    "start_time": "2022-06-28T09:59:00.411Z"
   },
   {
    "duration": 1794,
    "start_time": "2022-06-28T10:01:20.048Z"
   },
   {
    "duration": 21,
    "start_time": "2022-06-28T10:01:31.553Z"
   },
   {
    "duration": 1623,
    "start_time": "2022-06-28T10:03:01.978Z"
   },
   {
    "duration": 18,
    "start_time": "2022-06-28T10:03:07.069Z"
   },
   {
    "duration": 68,
    "start_time": "2022-06-28T10:03:35.782Z"
   },
   {
    "duration": 39525,
    "start_time": "2022-06-28T10:03:58.014Z"
   },
   {
    "duration": 963,
    "start_time": "2022-06-28T10:05:13.389Z"
   },
   {
    "duration": 94,
    "start_time": "2022-06-28T10:12:19.678Z"
   },
   {
    "duration": 112,
    "start_time": "2022-06-28T10:12:31.465Z"
   },
   {
    "duration": 13,
    "start_time": "2022-06-28T10:12:47.349Z"
   },
   {
    "duration": 22,
    "start_time": "2022-06-28T10:13:28.922Z"
   },
   {
    "duration": 11,
    "start_time": "2022-06-28T10:13:35.991Z"
   },
   {
    "duration": 13,
    "start_time": "2022-06-28T10:13:50.855Z"
   },
   {
    "duration": 6,
    "start_time": "2022-06-28T10:15:09.790Z"
   },
   {
    "duration": 14,
    "start_time": "2022-06-28T10:16:43.050Z"
   },
   {
    "duration": 11,
    "start_time": "2022-06-28T10:53:33.462Z"
   },
   {
    "duration": 19,
    "start_time": "2022-06-28T10:54:03.631Z"
   },
   {
    "duration": 649,
    "start_time": "2022-06-28T10:54:40.439Z"
   },
   {
    "duration": 1256,
    "start_time": "2022-06-28T11:09:47.807Z"
   },
   {
    "duration": 20,
    "start_time": "2022-06-28T11:09:59.142Z"
   },
   {
    "duration": 27,
    "start_time": "2022-06-28T11:10:36.025Z"
   },
   {
    "duration": 126,
    "start_time": "2022-06-28T11:10:54.694Z"
   },
   {
    "duration": 139,
    "start_time": "2022-06-28T11:11:43.105Z"
   },
   {
    "duration": 3,
    "start_time": "2022-06-28T11:11:58.290Z"
   },
   {
    "duration": 24,
    "start_time": "2022-06-28T11:11:58.299Z"
   },
   {
    "duration": 947,
    "start_time": "2022-06-28T11:11:58.326Z"
   },
   {
    "duration": 4,
    "start_time": "2022-06-28T11:11:59.275Z"
   },
   {
    "duration": 199,
    "start_time": "2022-06-28T11:11:59.281Z"
   },
   {
    "duration": 518,
    "start_time": "2022-06-28T11:11:59.483Z"
   },
   {
    "duration": 3,
    "start_time": "2022-06-28T11:12:00.003Z"
   },
   {
    "duration": 43,
    "start_time": "2022-06-28T11:12:00.008Z"
   },
   {
    "duration": 126,
    "start_time": "2022-06-28T11:12:00.052Z"
   },
   {
    "duration": 6,
    "start_time": "2022-06-28T11:12:00.180Z"
   },
   {
    "duration": 24,
    "start_time": "2022-06-28T11:12:00.188Z"
   },
   {
    "duration": 23,
    "start_time": "2022-06-28T11:12:00.215Z"
   },
   {
    "duration": 37,
    "start_time": "2022-06-28T11:12:00.241Z"
   },
   {
    "duration": 71,
    "start_time": "2022-06-28T11:12:00.280Z"
   },
   {
    "duration": 11,
    "start_time": "2022-06-28T11:12:00.359Z"
   },
   {
    "duration": 35,
    "start_time": "2022-06-28T11:12:00.372Z"
   },
   {
    "duration": 150,
    "start_time": "2022-06-28T11:12:00.409Z"
   },
   {
    "duration": 38,
    "start_time": "2022-06-28T11:12:00.562Z"
   },
   {
    "duration": 54,
    "start_time": "2022-06-28T11:12:00.603Z"
   },
   {
    "duration": 117,
    "start_time": "2022-06-28T11:12:00.659Z"
   },
   {
    "duration": 13,
    "start_time": "2022-06-28T11:12:00.778Z"
   },
   {
    "duration": 70,
    "start_time": "2022-06-28T11:12:00.793Z"
   },
   {
    "duration": 0,
    "start_time": "2022-06-28T11:12:00.865Z"
   },
   {
    "duration": 0,
    "start_time": "2022-06-28T11:12:00.866Z"
   },
   {
    "duration": 0,
    "start_time": "2022-06-28T11:12:00.868Z"
   },
   {
    "duration": 0,
    "start_time": "2022-06-28T11:12:00.869Z"
   },
   {
    "duration": 394,
    "start_time": "2022-06-28T23:12:05.644Z"
   },
   {
    "duration": 3,
    "start_time": "2022-06-28T23:12:06.040Z"
   },
   {
    "duration": 1012,
    "start_time": "2022-06-28T23:12:06.044Z"
   },
   {
    "duration": 3,
    "start_time": "2022-06-28T23:12:07.058Z"
   },
   {
    "duration": 134,
    "start_time": "2022-06-28T23:12:07.063Z"
   },
   {
    "duration": 774,
    "start_time": "2022-06-28T23:12:07.199Z"
   },
   {
    "duration": 2,
    "start_time": "2022-06-28T23:12:07.975Z"
   },
   {
    "duration": 38,
    "start_time": "2022-06-28T23:12:07.979Z"
   },
   {
    "duration": 122,
    "start_time": "2022-06-28T23:12:08.018Z"
   },
   {
    "duration": 9,
    "start_time": "2022-06-28T23:12:08.142Z"
   },
   {
    "duration": 8,
    "start_time": "2022-06-28T23:12:08.153Z"
   },
   {
    "duration": 6,
    "start_time": "2022-06-28T23:12:08.162Z"
   },
   {
    "duration": 32,
    "start_time": "2022-06-28T23:12:08.170Z"
   },
   {
    "duration": 89,
    "start_time": "2022-06-28T23:12:08.204Z"
   },
   {
    "duration": 6,
    "start_time": "2022-06-28T23:12:08.294Z"
   },
   {
    "duration": 12,
    "start_time": "2022-06-28T23:12:08.301Z"
   },
   {
    "duration": 95,
    "start_time": "2022-06-28T23:12:08.315Z"
   },
   {
    "duration": 21,
    "start_time": "2022-06-28T23:12:08.412Z"
   },
   {
    "duration": 30,
    "start_time": "2022-06-28T23:12:08.435Z"
   },
   {
    "duration": 88,
    "start_time": "2022-06-28T23:12:08.467Z"
   },
   {
    "duration": 11,
    "start_time": "2022-06-28T23:12:08.557Z"
   },
   {
    "duration": 8,
    "start_time": "2022-06-28T23:12:08.569Z"
   },
   {
    "duration": 11,
    "start_time": "2022-06-28T23:12:08.579Z"
   },
   {
    "duration": 2,
    "start_time": "2022-06-28T23:12:08.592Z"
   },
   {
    "duration": 209,
    "start_time": "2022-06-28T23:12:08.595Z"
   },
   {
    "duration": 18,
    "start_time": "2022-06-28T23:16:14.871Z"
   },
   {
    "duration": 9,
    "start_time": "2022-06-28T23:16:34.280Z"
   },
   {
    "duration": 75,
    "start_time": "2022-06-28T23:20:59.682Z"
   },
   {
    "duration": 3,
    "start_time": "2022-06-28T23:21:21.770Z"
   },
   {
    "duration": 13,
    "start_time": "2022-06-28T23:21:26.265Z"
   },
   {
    "duration": 524,
    "start_time": "2022-06-28T23:21:51.662Z"
   },
   {
    "duration": 185,
    "start_time": "2022-06-28T23:21:59.796Z"
   },
   {
    "duration": 173,
    "start_time": "2022-06-28T23:22:23.865Z"
   },
   {
    "duration": 182,
    "start_time": "2022-06-28T23:22:59.102Z"
   },
   {
    "duration": 174,
    "start_time": "2022-06-28T23:23:16.734Z"
   },
   {
    "duration": 159,
    "start_time": "2022-06-28T23:23:20.997Z"
   },
   {
    "duration": 35587,
    "start_time": "2022-06-28T23:25:22.659Z"
   },
   {
    "duration": 46,
    "start_time": "2022-06-28T23:26:15.988Z"
   },
   {
    "duration": 9,
    "start_time": "2022-06-28T23:26:20.467Z"
   },
   {
    "duration": 20,
    "start_time": "2022-06-28T23:26:26.212Z"
   },
   {
    "duration": 455,
    "start_time": "2022-06-28T23:29:43.946Z"
   },
   {
    "duration": 18,
    "start_time": "2022-06-28T23:31:44.300Z"
   },
   {
    "duration": 18,
    "start_time": "2022-06-28T23:36:19.848Z"
   },
   {
    "duration": 19,
    "start_time": "2022-06-28T23:37:15.625Z"
   },
   {
    "duration": 35,
    "start_time": "2022-06-28T23:44:21.767Z"
   },
   {
    "duration": 33,
    "start_time": "2022-06-28T23:44:26.806Z"
   },
   {
    "duration": 3,
    "start_time": "2022-06-28T23:44:39.180Z"
   },
   {
    "duration": 5,
    "start_time": "2022-06-28T23:44:39.184Z"
   },
   {
    "duration": 925,
    "start_time": "2022-06-28T23:44:39.191Z"
   },
   {
    "duration": 4,
    "start_time": "2022-06-28T23:44:40.118Z"
   },
   {
    "duration": 171,
    "start_time": "2022-06-28T23:44:40.124Z"
   },
   {
    "duration": 530,
    "start_time": "2022-06-28T23:44:40.297Z"
   },
   {
    "duration": 2,
    "start_time": "2022-06-28T23:44:40.829Z"
   },
   {
    "duration": 38,
    "start_time": "2022-06-28T23:44:40.833Z"
   },
   {
    "duration": 484,
    "start_time": "2022-06-28T23:44:40.872Z"
   },
   {
    "duration": 20,
    "start_time": "2022-06-28T23:44:41.357Z"
   },
   {
    "duration": 22,
    "start_time": "2022-06-28T23:44:41.379Z"
   },
   {
    "duration": 61,
    "start_time": "2022-06-28T23:44:41.403Z"
   },
   {
    "duration": 35,
    "start_time": "2022-06-28T23:44:41.466Z"
   },
   {
    "duration": 124,
    "start_time": "2022-06-28T23:44:41.505Z"
   },
   {
    "duration": 21,
    "start_time": "2022-06-28T23:44:41.631Z"
   },
   {
    "duration": 12,
    "start_time": "2022-06-28T23:44:41.653Z"
   },
   {
    "duration": 9,
    "start_time": "2022-06-28T23:44:41.666Z"
   },
   {
    "duration": 24,
    "start_time": "2022-06-28T23:44:41.677Z"
   },
   {
    "duration": 77,
    "start_time": "2022-06-28T23:44:41.703Z"
   },
   {
    "duration": 6,
    "start_time": "2022-06-28T23:44:41.782Z"
   },
   {
    "duration": 18,
    "start_time": "2022-06-28T23:44:41.790Z"
   },
   {
    "duration": 106,
    "start_time": "2022-06-28T23:44:41.810Z"
   },
   {
    "duration": 38,
    "start_time": "2022-06-28T23:44:41.918Z"
   },
   {
    "duration": 24,
    "start_time": "2022-06-28T23:44:41.958Z"
   },
   {
    "duration": 113,
    "start_time": "2022-06-28T23:44:41.984Z"
   },
   {
    "duration": 13,
    "start_time": "2022-06-28T23:44:42.098Z"
   },
   {
    "duration": 10,
    "start_time": "2022-06-28T23:44:42.112Z"
   },
   {
    "duration": 37,
    "start_time": "2022-06-28T23:44:42.125Z"
   },
   {
    "duration": 2,
    "start_time": "2022-06-28T23:44:42.165Z"
   },
   {
    "duration": 222,
    "start_time": "2022-06-28T23:44:42.169Z"
   },
   {
    "duration": 30,
    "start_time": "2022-06-28T23:46:15.387Z"
   },
   {
    "duration": 11,
    "start_time": "2022-06-28T23:48:46.239Z"
   },
   {
    "duration": 9,
    "start_time": "2022-06-28T23:48:51.365Z"
   },
   {
    "duration": 10,
    "start_time": "2022-06-28T23:50:16.794Z"
   },
   {
    "duration": 46,
    "start_time": "2022-06-28T23:50:29.427Z"
   },
   {
    "duration": 6,
    "start_time": "2022-06-28T23:50:46.065Z"
   },
   {
    "duration": 2,
    "start_time": "2022-06-28T23:51:07.266Z"
   },
   {
    "duration": 6,
    "start_time": "2022-06-28T23:51:07.271Z"
   },
   {
    "duration": 833,
    "start_time": "2022-06-28T23:51:07.279Z"
   },
   {
    "duration": 3,
    "start_time": "2022-06-28T23:51:08.114Z"
   },
   {
    "duration": 140,
    "start_time": "2022-06-28T23:51:08.120Z"
   },
   {
    "duration": 450,
    "start_time": "2022-06-28T23:51:08.262Z"
   },
   {
    "duration": 2,
    "start_time": "2022-06-28T23:51:08.714Z"
   },
   {
    "duration": 42,
    "start_time": "2022-06-28T23:51:08.718Z"
   },
   {
    "duration": 466,
    "start_time": "2022-06-28T23:51:08.762Z"
   },
   {
    "duration": 28,
    "start_time": "2022-06-28T23:51:09.230Z"
   },
   {
    "duration": 24,
    "start_time": "2022-06-28T23:51:09.260Z"
   },
   {
    "duration": 23,
    "start_time": "2022-06-28T23:51:09.286Z"
   },
   {
    "duration": 118,
    "start_time": "2022-06-28T23:51:09.312Z"
   },
   {
    "duration": 117,
    "start_time": "2022-06-28T23:51:09.450Z"
   },
   {
    "duration": 8,
    "start_time": "2022-06-28T23:51:09.569Z"
   },
   {
    "duration": 10,
    "start_time": "2022-06-28T23:51:09.579Z"
   },
   {
    "duration": 28,
    "start_time": "2022-06-28T23:51:16.333Z"
   },
   {
    "duration": 44,
    "start_time": "2022-06-28T23:52:27.567Z"
   },
   {
    "duration": 6,
    "start_time": "2022-06-28T23:52:28.935Z"
   },
   {
    "duration": 22,
    "start_time": "2022-06-28T23:52:41.565Z"
   },
   {
    "duration": 10,
    "start_time": "2022-06-28T23:52:50.927Z"
   },
   {
    "duration": 15,
    "start_time": "2022-06-28T23:53:00.527Z"
   },
   {
    "duration": 9,
    "start_time": "2022-06-28T23:54:02.011Z"
   },
   {
    "duration": 3,
    "start_time": "2022-06-28T23:57:05.891Z"
   },
   {
    "duration": 9,
    "start_time": "2022-06-28T23:57:05.896Z"
   },
   {
    "duration": 789,
    "start_time": "2022-06-28T23:57:05.907Z"
   },
   {
    "duration": 4,
    "start_time": "2022-06-28T23:57:06.698Z"
   },
   {
    "duration": 139,
    "start_time": "2022-06-28T23:57:06.703Z"
   },
   {
    "duration": 454,
    "start_time": "2022-06-28T23:57:06.844Z"
   },
   {
    "duration": 3,
    "start_time": "2022-06-28T23:57:07.300Z"
   },
   {
    "duration": 48,
    "start_time": "2022-06-28T23:57:07.306Z"
   },
   {
    "duration": 497,
    "start_time": "2022-06-28T23:57:07.358Z"
   },
   {
    "duration": 18,
    "start_time": "2022-06-28T23:57:07.857Z"
   },
   {
    "duration": 21,
    "start_time": "2022-06-28T23:57:07.876Z"
   },
   {
    "duration": 52,
    "start_time": "2022-06-28T23:57:07.899Z"
   },
   {
    "duration": 58,
    "start_time": "2022-06-28T23:57:07.953Z"
   },
   {
    "duration": 120,
    "start_time": "2022-06-28T23:57:08.013Z"
   },
   {
    "duration": 17,
    "start_time": "2022-06-28T23:57:08.135Z"
   },
   {
    "duration": 7,
    "start_time": "2022-06-28T23:57:08.154Z"
   },
   {
    "duration": 26,
    "start_time": "2022-06-28T23:57:08.163Z"
   },
   {
    "duration": 73,
    "start_time": "2022-06-28T23:57:08.191Z"
   },
   {
    "duration": 21,
    "start_time": "2022-06-28T23:57:08.266Z"
   },
   {
    "duration": 10,
    "start_time": "2022-06-28T23:57:22.192Z"
   },
   {
    "duration": 47,
    "start_time": "2022-06-29T00:01:33.208Z"
   },
   {
    "duration": 74,
    "start_time": "2022-06-29T00:01:52.074Z"
   },
   {
    "duration": 86,
    "start_time": "2022-06-29T00:01:59.986Z"
   },
   {
    "duration": 80,
    "start_time": "2022-06-29T00:02:18.978Z"
   },
   {
    "duration": 3,
    "start_time": "2022-06-29T00:02:35.161Z"
   },
   {
    "duration": 25,
    "start_time": "2022-06-29T00:02:35.165Z"
   },
   {
    "duration": 888,
    "start_time": "2022-06-29T00:02:35.192Z"
   },
   {
    "duration": 3,
    "start_time": "2022-06-29T00:02:36.083Z"
   },
   {
    "duration": 159,
    "start_time": "2022-06-29T00:02:36.088Z"
   },
   {
    "duration": 440,
    "start_time": "2022-06-29T00:02:36.249Z"
   },
   {
    "duration": 3,
    "start_time": "2022-06-29T00:02:36.690Z"
   },
   {
    "duration": 31,
    "start_time": "2022-06-29T00:02:36.694Z"
   },
   {
    "duration": 469,
    "start_time": "2022-06-29T00:02:36.728Z"
   },
   {
    "duration": 18,
    "start_time": "2022-06-29T00:02:37.199Z"
   },
   {
    "duration": 44,
    "start_time": "2022-06-29T00:02:37.218Z"
   },
   {
    "duration": 22,
    "start_time": "2022-06-29T00:02:37.263Z"
   },
   {
    "duration": 77,
    "start_time": "2022-06-29T00:02:37.286Z"
   },
   {
    "duration": 126,
    "start_time": "2022-06-29T00:02:37.365Z"
   },
   {
    "duration": 7,
    "start_time": "2022-06-29T00:02:37.493Z"
   },
   {
    "duration": 17,
    "start_time": "2022-06-29T00:02:37.502Z"
   },
   {
    "duration": 54,
    "start_time": "2022-06-29T00:02:37.520Z"
   },
   {
    "duration": 45,
    "start_time": "2022-06-29T00:02:37.576Z"
   },
   {
    "duration": 65,
    "start_time": "2022-06-29T00:02:40.914Z"
   },
   {
    "duration": 61,
    "start_time": "2022-06-29T00:02:54.595Z"
   },
   {
    "duration": 9,
    "start_time": "2022-06-29T00:03:17.685Z"
   },
   {
    "duration": 114,
    "start_time": "2022-06-29T00:04:46.968Z"
   },
   {
    "duration": 389,
    "start_time": "2022-06-29T00:04:49.614Z"
   },
   {
    "duration": 24,
    "start_time": "2022-06-29T00:04:56.846Z"
   },
   {
    "duration": 390,
    "start_time": "2022-06-29T00:05:10.840Z"
   },
   {
    "duration": 17,
    "start_time": "2022-06-29T00:05:19.023Z"
   },
   {
    "duration": 19,
    "start_time": "2022-06-29T00:05:22.440Z"
   },
   {
    "duration": 23,
    "start_time": "2022-06-29T00:05:25.521Z"
   },
   {
    "duration": 2,
    "start_time": "2022-06-29T00:06:40.867Z"
   },
   {
    "duration": 2,
    "start_time": "2022-06-29T00:06:42.426Z"
   },
   {
    "duration": 680,
    "start_time": "2022-06-29T00:06:43.682Z"
   },
   {
    "duration": 110,
    "start_time": "2022-06-29T00:06:45.706Z"
   },
   {
    "duration": 392,
    "start_time": "2022-06-29T00:06:49.850Z"
   },
   {
    "duration": 3,
    "start_time": "2022-06-29T00:10:23.039Z"
   },
   {
    "duration": 17,
    "start_time": "2022-06-29T00:10:23.043Z"
   },
   {
    "duration": 685,
    "start_time": "2022-06-29T00:10:23.061Z"
   },
   {
    "duration": 126,
    "start_time": "2022-06-29T00:10:23.748Z"
   },
   {
    "duration": 492,
    "start_time": "2022-06-29T00:10:23.876Z"
   },
   {
    "duration": 2,
    "start_time": "2022-06-29T00:10:24.369Z"
   },
   {
    "duration": 44,
    "start_time": "2022-06-29T00:10:24.373Z"
   },
   {
    "duration": 427,
    "start_time": "2022-06-29T00:10:24.419Z"
   },
   {
    "duration": 16,
    "start_time": "2022-06-29T00:10:24.847Z"
   },
   {
    "duration": 18,
    "start_time": "2022-06-29T00:10:24.865Z"
   },
   {
    "duration": 18,
    "start_time": "2022-06-29T00:10:24.885Z"
   },
   {
    "duration": 81,
    "start_time": "2022-06-29T00:10:24.905Z"
   },
   {
    "duration": 91,
    "start_time": "2022-06-29T00:10:55.610Z"
   },
   {
    "duration": 7,
    "start_time": "2022-06-29T00:11:01.664Z"
   },
   {
    "duration": 7,
    "start_time": "2022-06-29T00:11:06.819Z"
   },
   {
    "duration": 24,
    "start_time": "2022-06-29T00:11:13.364Z"
   },
   {
    "duration": 38,
    "start_time": "2022-06-29T00:11:34.101Z"
   },
   {
    "duration": 20,
    "start_time": "2022-06-29T00:11:51.748Z"
   },
   {
    "duration": 9,
    "start_time": "2022-06-29T00:12:14.045Z"
   },
   {
    "duration": 4,
    "start_time": "2022-06-29T00:12:15.525Z"
   },
   {
    "duration": 38,
    "start_time": "2022-06-29T00:12:52.175Z"
   },
   {
    "duration": 23,
    "start_time": "2022-06-29T00:12:56.406Z"
   },
   {
    "duration": 5,
    "start_time": "2022-06-29T00:13:20.215Z"
   },
   {
    "duration": 13,
    "start_time": "2022-06-29T00:13:36.464Z"
   },
   {
    "duration": 12,
    "start_time": "2022-06-29T00:14:38.498Z"
   },
   {
    "duration": 10,
    "start_time": "2022-06-29T00:15:01.602Z"
   },
   {
    "duration": 14,
    "start_time": "2022-06-29T00:15:08.642Z"
   },
   {
    "duration": 40,
    "start_time": "2022-06-29T00:17:01.103Z"
   },
   {
    "duration": 50,
    "start_time": "2022-06-29T00:17:11.606Z"
   },
   {
    "duration": 109,
    "start_time": "2022-06-29T00:20:58.718Z"
   },
   {
    "duration": 9,
    "start_time": "2022-06-29T00:21:10.598Z"
   },
   {
    "duration": 16,
    "start_time": "2022-06-29T00:24:14.245Z"
   },
   {
    "duration": 49,
    "start_time": "2022-06-29T00:24:41.309Z"
   },
   {
    "duration": 23,
    "start_time": "2022-06-29T00:24:45.500Z"
   },
   {
    "duration": 52,
    "start_time": "2022-06-29T00:25:49.616Z"
   },
   {
    "duration": 19,
    "start_time": "2022-06-29T00:25:53.680Z"
   },
   {
    "duration": 4,
    "start_time": "2022-06-29T00:25:57.311Z"
   },
   {
    "duration": 3,
    "start_time": "2022-06-29T00:26:49.908Z"
   },
   {
    "duration": 8,
    "start_time": "2022-06-29T00:26:49.913Z"
   },
   {
    "duration": 680,
    "start_time": "2022-06-29T00:26:49.923Z"
   },
   {
    "duration": 113,
    "start_time": "2022-06-29T00:26:50.605Z"
   },
   {
    "duration": 404,
    "start_time": "2022-06-29T00:26:50.720Z"
   },
   {
    "duration": 2,
    "start_time": "2022-06-29T00:26:51.126Z"
   },
   {
    "duration": 40,
    "start_time": "2022-06-29T00:26:51.130Z"
   },
   {
    "duration": 422,
    "start_time": "2022-06-29T00:26:51.171Z"
   },
   {
    "duration": 15,
    "start_time": "2022-06-29T00:26:51.595Z"
   },
   {
    "duration": 18,
    "start_time": "2022-06-29T00:26:51.613Z"
   },
   {
    "duration": 20,
    "start_time": "2022-06-29T00:26:51.651Z"
   },
   {
    "duration": 33,
    "start_time": "2022-06-29T00:26:51.673Z"
   },
   {
    "duration": 111,
    "start_time": "2022-06-29T00:26:51.707Z"
   },
   {
    "duration": 5,
    "start_time": "2022-06-29T00:26:51.820Z"
   },
   {
    "duration": 25,
    "start_time": "2022-06-29T00:26:51.827Z"
   },
   {
    "duration": 23,
    "start_time": "2022-06-29T00:26:51.854Z"
   },
   {
    "duration": 32,
    "start_time": "2022-06-29T00:26:51.879Z"
   },
   {
    "duration": 51,
    "start_time": "2022-06-29T00:26:51.913Z"
   },
   {
    "duration": 9,
    "start_time": "2022-06-29T00:27:11.306Z"
   },
   {
    "duration": 3,
    "start_time": "2022-06-29T00:27:12.922Z"
   },
   {
    "duration": 11,
    "start_time": "2022-06-29T00:29:44.007Z"
   },
   {
    "duration": 28,
    "start_time": "2022-06-29T00:30:14.416Z"
   },
   {
    "duration": 14,
    "start_time": "2022-06-29T00:30:16.527Z"
   },
   {
    "duration": 8,
    "start_time": "2022-06-29T00:30:35.112Z"
   },
   {
    "duration": 4,
    "start_time": "2022-06-29T00:30:38.344Z"
   },
   {
    "duration": 26,
    "start_time": "2022-06-29T00:31:03.481Z"
   },
   {
    "duration": 9,
    "start_time": "2022-06-29T00:31:04.129Z"
   },
   {
    "duration": 3,
    "start_time": "2022-06-29T00:31:07.705Z"
   },
   {
    "duration": 12,
    "start_time": "2022-06-29T00:32:15.965Z"
   },
   {
    "duration": 27,
    "start_time": "2022-06-29T00:36:18.811Z"
   },
   {
    "duration": 12,
    "start_time": "2022-06-29T00:37:07.310Z"
   },
   {
    "duration": 12,
    "start_time": "2022-06-29T00:39:01.738Z"
   },
   {
    "duration": 21,
    "start_time": "2022-06-29T00:39:03.491Z"
   },
   {
    "duration": 93,
    "start_time": "2022-06-29T00:41:09.150Z"
   },
   {
    "duration": 22,
    "start_time": "2022-06-29T00:41:36.023Z"
   },
   {
    "duration": 169,
    "start_time": "2022-06-29T00:41:42.665Z"
   },
   {
    "duration": 23,
    "start_time": "2022-06-29T00:41:43.198Z"
   },
   {
    "duration": 3,
    "start_time": "2022-06-29T00:43:16.322Z"
   },
   {
    "duration": 8,
    "start_time": "2022-06-29T00:43:16.326Z"
   },
   {
    "duration": 667,
    "start_time": "2022-06-29T00:43:16.335Z"
   },
   {
    "duration": 112,
    "start_time": "2022-06-29T00:43:17.004Z"
   },
   {
    "duration": 395,
    "start_time": "2022-06-29T00:43:17.117Z"
   },
   {
    "duration": 3,
    "start_time": "2022-06-29T00:43:17.514Z"
   },
   {
    "duration": 48,
    "start_time": "2022-06-29T00:43:17.519Z"
   },
   {
    "duration": 408,
    "start_time": "2022-06-29T00:43:17.569Z"
   },
   {
    "duration": 16,
    "start_time": "2022-06-29T00:43:17.980Z"
   },
   {
    "duration": 17,
    "start_time": "2022-06-29T00:43:17.998Z"
   },
   {
    "duration": 40,
    "start_time": "2022-06-29T00:43:18.017Z"
   },
   {
    "duration": 30,
    "start_time": "2022-06-29T00:43:18.059Z"
   },
   {
    "duration": 7,
    "start_time": "2022-06-29T00:43:18.090Z"
   },
   {
    "duration": 12,
    "start_time": "2022-06-29T00:43:18.098Z"
   },
   {
    "duration": 62,
    "start_time": "2022-06-29T00:43:18.112Z"
   },
   {
    "duration": 7,
    "start_time": "2022-06-29T00:43:18.176Z"
   },
   {
    "duration": 5,
    "start_time": "2022-06-29T00:43:18.185Z"
   },
   {
    "duration": 16,
    "start_time": "2022-06-29T00:43:18.192Z"
   },
   {
    "duration": 31,
    "start_time": "2022-06-29T00:43:30.843Z"
   },
   {
    "duration": 28,
    "start_time": "2022-06-29T00:43:33.043Z"
   },
   {
    "duration": 167,
    "start_time": "2022-06-29T00:43:41.116Z"
   },
   {
    "duration": 11,
    "start_time": "2022-06-29T00:43:52.972Z"
   },
   {
    "duration": 16,
    "start_time": "2022-06-29T00:47:41.766Z"
   },
   {
    "duration": 143,
    "start_time": "2022-06-29T00:47:57.789Z"
   },
   {
    "duration": 11,
    "start_time": "2022-06-29T00:47:59.452Z"
   },
   {
    "duration": 16,
    "start_time": "2022-06-29T00:49:27.855Z"
   },
   {
    "duration": 29,
    "start_time": "2022-06-29T00:49:38.616Z"
   },
   {
    "duration": 9,
    "start_time": "2022-06-29T00:55:18.700Z"
   },
   {
    "duration": 9,
    "start_time": "2022-06-29T00:56:01.989Z"
   },
   {
    "duration": 30,
    "start_time": "2022-06-29T00:56:02.994Z"
   },
   {
    "duration": 8,
    "start_time": "2022-06-29T00:56:14.069Z"
   },
   {
    "duration": 30,
    "start_time": "2022-06-29T00:56:14.669Z"
   },
   {
    "duration": 11,
    "start_time": "2022-06-29T00:56:24.998Z"
   },
   {
    "duration": 16,
    "start_time": "2022-06-29T00:56:49.254Z"
   },
   {
    "duration": 146,
    "start_time": "2022-06-29T00:57:59.832Z"
   },
   {
    "duration": 16,
    "start_time": "2022-06-29T00:58:08.566Z"
   },
   {
    "duration": 27,
    "start_time": "2022-06-29T00:59:58.789Z"
   },
   {
    "duration": 33,
    "start_time": "2022-06-29T01:00:13.045Z"
   },
   {
    "duration": 21,
    "start_time": "2022-06-29T01:00:58.902Z"
   },
   {
    "duration": 3,
    "start_time": "2022-06-29T01:02:08.899Z"
   },
   {
    "duration": 10,
    "start_time": "2022-06-29T01:02:08.903Z"
   },
   {
    "duration": 673,
    "start_time": "2022-06-29T01:02:08.914Z"
   },
   {
    "duration": 110,
    "start_time": "2022-06-29T01:02:09.588Z"
   },
   {
    "duration": 406,
    "start_time": "2022-06-29T01:02:09.699Z"
   },
   {
    "duration": 2,
    "start_time": "2022-06-29T01:02:10.107Z"
   },
   {
    "duration": 41,
    "start_time": "2022-06-29T01:02:10.110Z"
   },
   {
    "duration": 422,
    "start_time": "2022-06-29T01:02:10.153Z"
   },
   {
    "duration": 15,
    "start_time": "2022-06-29T01:02:10.578Z"
   },
   {
    "duration": 19,
    "start_time": "2022-06-29T01:02:10.594Z"
   },
   {
    "duration": 42,
    "start_time": "2022-06-29T01:02:10.614Z"
   },
   {
    "duration": 34,
    "start_time": "2022-06-29T01:02:10.657Z"
   },
   {
    "duration": 7,
    "start_time": "2022-06-29T01:02:10.693Z"
   },
   {
    "duration": 13,
    "start_time": "2022-06-29T01:02:10.702Z"
   },
   {
    "duration": 28,
    "start_time": "2022-06-29T01:02:10.750Z"
   },
   {
    "duration": 8,
    "start_time": "2022-06-29T01:02:10.780Z"
   },
   {
    "duration": 6,
    "start_time": "2022-06-29T01:02:10.790Z"
   },
   {
    "duration": 17,
    "start_time": "2022-06-29T01:02:10.797Z"
   },
   {
    "duration": 59,
    "start_time": "2022-06-29T01:02:10.816Z"
   },
   {
    "duration": 28,
    "start_time": "2022-06-29T01:02:10.877Z"
   },
   {
    "duration": 15,
    "start_time": "2022-06-29T01:02:10.906Z"
   },
   {
    "duration": 188,
    "start_time": "2022-06-29T01:02:10.923Z"
   },
   {
    "duration": 20,
    "start_time": "2022-06-29T01:02:11.113Z"
   },
   {
    "duration": 47,
    "start_time": "2022-06-29T01:02:11.136Z"
   },
   {
    "duration": 2,
    "start_time": "2022-06-29T01:02:11.184Z"
   },
   {
    "duration": 280,
    "start_time": "2022-06-29T01:02:11.188Z"
   },
   {
    "duration": 149,
    "start_time": "2022-06-29T01:03:48.836Z"
   },
   {
    "duration": 21,
    "start_time": "2022-06-29T01:03:49.939Z"
   },
   {
    "duration": 34,
    "start_time": "2022-06-29T01:03:56.115Z"
   },
   {
    "duration": 2,
    "start_time": "2022-06-29T01:05:58.451Z"
   },
   {
    "duration": 6,
    "start_time": "2022-06-29T01:05:58.455Z"
   },
   {
    "duration": 674,
    "start_time": "2022-06-29T01:05:58.462Z"
   },
   {
    "duration": 126,
    "start_time": "2022-06-29T01:05:59.138Z"
   },
   {
    "duration": 431,
    "start_time": "2022-06-29T01:05:59.265Z"
   },
   {
    "duration": 3,
    "start_time": "2022-06-29T01:05:59.698Z"
   },
   {
    "duration": 30,
    "start_time": "2022-06-29T01:05:59.702Z"
   },
   {
    "duration": 467,
    "start_time": "2022-06-29T01:05:59.734Z"
   },
   {
    "duration": 20,
    "start_time": "2022-06-29T01:06:00.203Z"
   },
   {
    "duration": 41,
    "start_time": "2022-06-29T01:06:00.225Z"
   },
   {
    "duration": 22,
    "start_time": "2022-06-29T01:06:00.268Z"
   },
   {
    "duration": 60,
    "start_time": "2022-06-29T01:06:00.292Z"
   },
   {
    "duration": 7,
    "start_time": "2022-06-29T01:06:00.353Z"
   },
   {
    "duration": 17,
    "start_time": "2022-06-29T01:06:00.361Z"
   },
   {
    "duration": 34,
    "start_time": "2022-06-29T01:06:00.380Z"
   },
   {
    "duration": 42,
    "start_time": "2022-06-29T01:06:00.415Z"
   },
   {
    "duration": 4,
    "start_time": "2022-06-29T01:06:00.458Z"
   },
   {
    "duration": 32,
    "start_time": "2022-06-29T01:06:00.464Z"
   },
   {
    "duration": 34,
    "start_time": "2022-06-29T01:06:00.497Z"
   },
   {
    "duration": 30,
    "start_time": "2022-06-29T01:06:00.550Z"
   },
   {
    "duration": 17,
    "start_time": "2022-06-29T01:06:00.582Z"
   },
   {
    "duration": 213,
    "start_time": "2022-06-29T01:06:00.602Z"
   },
   {
    "duration": 42,
    "start_time": "2022-06-29T01:06:00.817Z"
   },
   {
    "duration": 119,
    "start_time": "2022-06-29T01:06:00.861Z"
   },
   {
    "duration": 3,
    "start_time": "2022-06-29T01:06:00.981Z"
   },
   {
    "duration": 309,
    "start_time": "2022-06-29T01:06:00.986Z"
   },
   {
    "duration": 97,
    "start_time": "2022-06-29T01:07:58.669Z"
   },
   {
    "duration": 40,
    "start_time": "2022-06-29T01:10:21.816Z"
   },
   {
    "duration": 16,
    "start_time": "2022-06-29T01:13:28.751Z"
   },
   {
    "duration": 3,
    "start_time": "2022-06-29T01:13:56.602Z"
   },
   {
    "duration": 8,
    "start_time": "2022-06-29T01:13:56.607Z"
   },
   {
    "duration": 709,
    "start_time": "2022-06-29T01:13:56.616Z"
   },
   {
    "duration": 126,
    "start_time": "2022-06-29T01:13:57.327Z"
   },
   {
    "duration": 415,
    "start_time": "2022-06-29T01:13:57.455Z"
   },
   {
    "duration": 3,
    "start_time": "2022-06-29T01:13:57.872Z"
   },
   {
    "duration": 32,
    "start_time": "2022-06-29T01:13:57.877Z"
   },
   {
    "duration": 528,
    "start_time": "2022-06-29T01:13:57.911Z"
   },
   {
    "duration": 21,
    "start_time": "2022-06-29T01:13:58.441Z"
   },
   {
    "duration": 18,
    "start_time": "2022-06-29T01:13:58.465Z"
   },
   {
    "duration": 18,
    "start_time": "2022-06-29T01:13:58.485Z"
   },
   {
    "duration": 50,
    "start_time": "2022-06-29T01:13:58.505Z"
   },
   {
    "duration": 6,
    "start_time": "2022-06-29T01:13:58.557Z"
   },
   {
    "duration": 11,
    "start_time": "2022-06-29T01:13:58.565Z"
   },
   {
    "duration": 32,
    "start_time": "2022-06-29T01:13:58.577Z"
   },
   {
    "duration": 8,
    "start_time": "2022-06-29T01:13:58.611Z"
   },
   {
    "duration": 3,
    "start_time": "2022-06-29T01:13:58.651Z"
   },
   {
    "duration": 14,
    "start_time": "2022-06-29T01:13:58.656Z"
   },
   {
    "duration": 29,
    "start_time": "2022-06-29T01:13:58.671Z"
   },
   {
    "duration": 49,
    "start_time": "2022-06-29T01:13:58.702Z"
   },
   {
    "duration": 15,
    "start_time": "2022-06-29T01:13:58.753Z"
   },
   {
    "duration": 189,
    "start_time": "2022-06-29T01:13:58.770Z"
   },
   {
    "duration": 26,
    "start_time": "2022-06-29T01:13:58.961Z"
   },
   {
    "duration": 128,
    "start_time": "2022-06-29T01:13:58.989Z"
   },
   {
    "duration": 52,
    "start_time": "2022-06-29T01:13:59.119Z"
   },
   {
    "duration": 19,
    "start_time": "2022-06-29T01:13:59.173Z"
   },
   {
    "duration": 3,
    "start_time": "2022-06-29T01:13:59.194Z"
   },
   {
    "duration": 299,
    "start_time": "2022-06-29T01:13:59.201Z"
   },
   {
    "duration": 27,
    "start_time": "2022-06-29T01:15:51.635Z"
   },
   {
    "duration": 49,
    "start_time": "2022-06-29T01:16:08.531Z"
   },
   {
    "duration": 54,
    "start_time": "2022-06-29T01:16:20.276Z"
   },
   {
    "duration": 54,
    "start_time": "2022-06-29T01:16:33.805Z"
   },
   {
    "duration": 3,
    "start_time": "2022-06-29T01:16:41.485Z"
   },
   {
    "duration": 16,
    "start_time": "2022-06-29T01:16:48.492Z"
   },
   {
    "duration": 165,
    "start_time": "2022-06-29T01:16:49.566Z"
   },
   {
    "duration": 117,
    "start_time": "2022-06-29T01:16:59.067Z"
   },
   {
    "duration": 37,
    "start_time": "2022-06-29T01:18:25.217Z"
   },
   {
    "duration": 17,
    "start_time": "2022-06-29T01:18:26.607Z"
   },
   {
    "duration": 151,
    "start_time": "2022-06-29T01:18:57.945Z"
   },
   {
    "duration": 48,
    "start_time": "2022-06-29T01:18:58.720Z"
   },
   {
    "duration": 25,
    "start_time": "2022-06-29T01:19:39.114Z"
   },
   {
    "duration": 136,
    "start_time": "2022-06-29T01:20:11.283Z"
   },
   {
    "duration": 25,
    "start_time": "2022-06-29T01:20:12.052Z"
   },
   {
    "duration": 43,
    "start_time": "2022-06-29T01:25:57.866Z"
   },
   {
    "duration": 3,
    "start_time": "2022-06-29T01:26:06.247Z"
   },
   {
    "duration": 4,
    "start_time": "2022-06-29T01:26:07.350Z"
   },
   {
    "duration": 665,
    "start_time": "2022-06-29T01:26:08.007Z"
   },
   {
    "duration": 114,
    "start_time": "2022-06-29T01:26:09.503Z"
   },
   {
    "duration": 397,
    "start_time": "2022-06-29T01:26:11.303Z"
   },
   {
    "duration": 2,
    "start_time": "2022-06-29T01:26:13.086Z"
   },
   {
    "duration": 47,
    "start_time": "2022-06-29T01:26:16.942Z"
   },
   {
    "duration": 44,
    "start_time": "2022-06-29T01:26:20.335Z"
   },
   {
    "duration": 411,
    "start_time": "2022-06-29T01:26:22.543Z"
   },
   {
    "duration": 22,
    "start_time": "2022-06-29T01:26:50.280Z"
   },
   {
    "duration": 19,
    "start_time": "2022-06-29T01:26:54.752Z"
   },
   {
    "duration": 54,
    "start_time": "2022-06-29T01:27:03.568Z"
   },
   {
    "duration": 7,
    "start_time": "2022-06-29T01:27:07.128Z"
   },
   {
    "duration": 12,
    "start_time": "2022-06-29T01:27:12.712Z"
   },
   {
    "duration": 51,
    "start_time": "2022-06-29T01:27:28.434Z"
   },
   {
    "duration": 9,
    "start_time": "2022-06-29T01:27:29.777Z"
   },
   {
    "duration": 3,
    "start_time": "2022-06-29T01:27:34.634Z"
   },
   {
    "duration": 11,
    "start_time": "2022-06-29T01:27:36.261Z"
   },
   {
    "duration": 29,
    "start_time": "2022-06-29T01:27:39.554Z"
   },
   {
    "duration": 26,
    "start_time": "2022-06-29T01:27:40.609Z"
   },
   {
    "duration": 2,
    "start_time": "2022-06-29T01:27:51.450Z"
   },
   {
    "duration": 163,
    "start_time": "2022-06-29T01:27:52.146Z"
   },
   {
    "duration": 26,
    "start_time": "2022-06-29T01:27:53.283Z"
   },
   {
    "duration": 138,
    "start_time": "2022-06-29T01:29:31.334Z"
   },
   {
    "duration": 3,
    "start_time": "2022-06-29T01:30:17.826Z"
   },
   {
    "duration": 7,
    "start_time": "2022-06-29T01:30:17.830Z"
   },
   {
    "duration": 668,
    "start_time": "2022-06-29T01:30:17.838Z"
   },
   {
    "duration": 113,
    "start_time": "2022-06-29T01:30:18.508Z"
   },
   {
    "duration": 393,
    "start_time": "2022-06-29T01:30:18.623Z"
   },
   {
    "duration": 2,
    "start_time": "2022-06-29T01:30:19.018Z"
   },
   {
    "duration": 59,
    "start_time": "2022-06-29T01:30:19.021Z"
   },
   {
    "duration": 432,
    "start_time": "2022-06-29T01:30:19.081Z"
   },
   {
    "duration": 16,
    "start_time": "2022-06-29T01:30:19.515Z"
   },
   {
    "duration": 30,
    "start_time": "2022-06-29T01:30:19.533Z"
   },
   {
    "duration": 20,
    "start_time": "2022-06-29T01:30:19.564Z"
   },
   {
    "duration": 90,
    "start_time": "2022-06-29T01:30:19.585Z"
   },
   {
    "duration": 7,
    "start_time": "2022-06-29T01:30:19.677Z"
   },
   {
    "duration": 13,
    "start_time": "2022-06-29T01:30:19.685Z"
   },
   {
    "duration": 71,
    "start_time": "2022-06-29T01:30:19.700Z"
   },
   {
    "duration": 9,
    "start_time": "2022-06-29T01:30:19.773Z"
   },
   {
    "duration": 3,
    "start_time": "2022-06-29T01:30:19.783Z"
   },
   {
    "duration": 13,
    "start_time": "2022-06-29T01:30:19.788Z"
   },
   {
    "duration": 52,
    "start_time": "2022-06-29T01:30:19.803Z"
   },
   {
    "duration": 28,
    "start_time": "2022-06-29T01:30:19.856Z"
   },
   {
    "duration": 2,
    "start_time": "2022-06-29T01:30:19.885Z"
   },
   {
    "duration": 155,
    "start_time": "2022-06-29T01:30:19.889Z"
   },
   {
    "duration": 28,
    "start_time": "2022-06-29T01:30:20.046Z"
   },
   {
    "duration": 138,
    "start_time": "2022-06-29T01:30:20.075Z"
   },
   {
    "duration": 54,
    "start_time": "2022-06-29T01:30:20.214Z"
   },
   {
    "duration": 15,
    "start_time": "2022-06-29T01:30:20.270Z"
   },
   {
    "duration": 4,
    "start_time": "2022-06-29T01:30:20.286Z"
   },
   {
    "duration": 271,
    "start_time": "2022-06-29T01:30:20.292Z"
   },
   {
    "duration": 136,
    "start_time": "2022-06-29T01:30:44.185Z"
   },
   {
    "duration": 26,
    "start_time": "2022-06-29T01:30:45.503Z"
   },
   {
    "duration": 154,
    "start_time": "2022-06-29T01:31:33.489Z"
   },
   {
    "duration": 25,
    "start_time": "2022-06-29T01:31:34.266Z"
   },
   {
    "duration": 3,
    "start_time": "2022-06-29T01:32:29.518Z"
   },
   {
    "duration": 23,
    "start_time": "2022-06-29T01:32:29.523Z"
   },
   {
    "duration": 665,
    "start_time": "2022-06-29T01:32:29.548Z"
   },
   {
    "duration": 143,
    "start_time": "2022-06-29T01:32:30.215Z"
   },
   {
    "duration": 411,
    "start_time": "2022-06-29T01:32:30.359Z"
   },
   {
    "duration": 2,
    "start_time": "2022-06-29T01:32:30.772Z"
   },
   {
    "duration": 61,
    "start_time": "2022-06-29T01:32:30.776Z"
   },
   {
    "duration": 454,
    "start_time": "2022-06-29T01:32:30.838Z"
   },
   {
    "duration": 16,
    "start_time": "2022-06-29T01:32:31.294Z"
   },
   {
    "duration": 35,
    "start_time": "2022-06-29T01:32:31.312Z"
   },
   {
    "duration": 19,
    "start_time": "2022-06-29T01:32:31.348Z"
   },
   {
    "duration": 59,
    "start_time": "2022-06-29T01:32:31.369Z"
   },
   {
    "duration": 24,
    "start_time": "2022-06-29T01:32:31.430Z"
   },
   {
    "duration": 12,
    "start_time": "2022-06-29T01:32:31.456Z"
   },
   {
    "duration": 95,
    "start_time": "2022-06-29T01:32:31.470Z"
   },
   {
    "duration": 9,
    "start_time": "2022-06-29T01:32:31.566Z"
   },
   {
    "duration": 3,
    "start_time": "2022-06-29T01:32:31.576Z"
   },
   {
    "duration": 13,
    "start_time": "2022-06-29T01:32:31.581Z"
   },
   {
    "duration": 56,
    "start_time": "2022-06-29T01:32:31.596Z"
   },
   {
    "duration": 33,
    "start_time": "2022-06-29T01:32:31.653Z"
   },
   {
    "duration": 2,
    "start_time": "2022-06-29T01:32:31.688Z"
   },
   {
    "duration": 172,
    "start_time": "2022-06-29T01:32:31.692Z"
   },
   {
    "duration": 26,
    "start_time": "2022-06-29T01:32:31.865Z"
   },
   {
    "duration": 133,
    "start_time": "2022-06-29T01:32:31.893Z"
   },
   {
    "duration": 48,
    "start_time": "2022-06-29T01:32:32.028Z"
   },
   {
    "duration": 15,
    "start_time": "2022-06-29T01:32:32.077Z"
   },
   {
    "duration": 3,
    "start_time": "2022-06-29T01:32:32.093Z"
   },
   {
    "duration": 274,
    "start_time": "2022-06-29T01:32:32.097Z"
   },
   {
    "duration": 16,
    "start_time": "2022-06-29T01:33:04.766Z"
   },
   {
    "duration": 171,
    "start_time": "2022-06-29T01:33:05.604Z"
   },
   {
    "duration": 1439,
    "start_time": "2022-06-29T02:21:37.503Z"
   },
   {
    "duration": 1438,
    "start_time": "2022-06-29T02:21:45.717Z"
   },
   {
    "duration": 45,
    "start_time": "2022-06-29T02:22:51.487Z"
   },
   {
    "duration": 1287,
    "start_time": "2022-06-29T02:22:56.679Z"
   },
   {
    "duration": 386,
    "start_time": "2022-06-29T02:23:57.666Z"
   },
   {
    "duration": 452,
    "start_time": "2022-06-29T02:24:02.050Z"
   },
   {
    "duration": 3,
    "start_time": "2022-06-29T02:28:21.787Z"
   },
   {
    "duration": 3,
    "start_time": "2022-06-29T02:31:37.401Z"
   },
   {
    "duration": 2,
    "start_time": "2022-06-29T02:31:38.568Z"
   },
   {
    "duration": 581,
    "start_time": "2022-06-29T02:31:40.784Z"
   },
   {
    "duration": 116,
    "start_time": "2022-06-29T02:31:46.689Z"
   },
   {
    "duration": 371,
    "start_time": "2022-06-29T02:31:58.764Z"
   },
   {
    "duration": 2,
    "start_time": "2022-06-29T02:33:08.523Z"
   },
   {
    "duration": 3,
    "start_time": "2022-06-29T02:33:09.610Z"
   },
   {
    "duration": 598,
    "start_time": "2022-06-29T02:33:10.633Z"
   },
   {
    "duration": 117,
    "start_time": "2022-06-29T02:33:11.346Z"
   },
   {
    "duration": 368,
    "start_time": "2022-06-29T02:33:12.875Z"
   },
   {
    "duration": 43,
    "start_time": "2022-06-29T02:33:18.146Z"
   },
   {
    "duration": 92,
    "start_time": "2022-06-29T02:33:53.093Z"
   },
   {
    "duration": 3,
    "start_time": "2022-06-29T02:34:47.384Z"
   },
   {
    "duration": 25,
    "start_time": "2022-06-29T02:35:07.592Z"
   },
   {
    "duration": 4,
    "start_time": "2022-06-29T02:35:08.631Z"
   },
   {
    "duration": 404,
    "start_time": "2022-06-29T02:36:25.787Z"
   },
   {
    "duration": 17,
    "start_time": "2022-06-29T02:36:27.338Z"
   },
   {
    "duration": 21,
    "start_time": "2022-06-29T02:36:28.547Z"
   },
   {
    "duration": 20,
    "start_time": "2022-06-29T02:36:29.565Z"
   },
   {
    "duration": 51,
    "start_time": "2022-06-29T02:37:16.339Z"
   },
   {
    "duration": 7,
    "start_time": "2022-06-29T02:37:36.341Z"
   },
   {
    "duration": 12,
    "start_time": "2022-06-29T02:37:38.076Z"
   },
   {
    "duration": 51,
    "start_time": "2022-06-29T02:38:03.366Z"
   },
   {
    "duration": 9,
    "start_time": "2022-06-29T02:38:09.294Z"
   },
   {
    "duration": 3,
    "start_time": "2022-06-29T02:38:10.589Z"
   },
   {
    "duration": 11,
    "start_time": "2022-06-29T02:38:56.783Z"
   },
   {
    "duration": 30,
    "start_time": "2022-06-29T02:39:46.169Z"
   },
   {
    "duration": 28,
    "start_time": "2022-06-29T02:39:48.993Z"
   },
   {
    "duration": 16,
    "start_time": "2022-06-29T02:40:16.688Z"
   },
   {
    "duration": 144,
    "start_time": "2022-06-29T02:40:19.165Z"
   },
   {
    "duration": 23,
    "start_time": "2022-06-29T02:40:20.282Z"
   },
   {
    "duration": 54,
    "start_time": "2022-06-29T02:41:24.444Z"
   },
   {
    "duration": 8,
    "start_time": "2022-06-29T02:41:25.148Z"
   },
   {
    "duration": 4,
    "start_time": "2022-06-29T02:41:25.772Z"
   },
   {
    "duration": 12,
    "start_time": "2022-06-29T02:41:27.236Z"
   },
   {
    "duration": 27,
    "start_time": "2022-06-29T02:41:28.265Z"
   },
   {
    "duration": 26,
    "start_time": "2022-06-29T02:41:29.123Z"
   },
   {
    "duration": 2,
    "start_time": "2022-06-29T02:41:31.539Z"
   },
   {
    "duration": 140,
    "start_time": "2022-06-29T02:41:32.139Z"
   },
   {
    "duration": 25,
    "start_time": "2022-06-29T02:41:32.941Z"
   },
   {
    "duration": 24,
    "start_time": "2022-06-29T02:43:43.633Z"
   },
   {
    "duration": 3,
    "start_time": "2022-06-29T02:43:44.608Z"
   },
   {
    "duration": 14,
    "start_time": "2022-06-29T02:43:46.687Z"
   },
   {
    "duration": 30,
    "start_time": "2022-06-29T02:43:47.705Z"
   },
   {
    "duration": 28,
    "start_time": "2022-06-29T02:43:49.224Z"
   },
   {
    "duration": 2,
    "start_time": "2022-06-29T02:43:53.576Z"
   },
   {
    "duration": 153,
    "start_time": "2022-06-29T02:43:54.441Z"
   },
   {
    "duration": 26,
    "start_time": "2022-06-29T02:43:55.433Z"
   },
   {
    "duration": 25,
    "start_time": "2022-06-29T02:44:32.810Z"
   },
   {
    "duration": 4,
    "start_time": "2022-06-29T02:44:33.274Z"
   },
   {
    "duration": 12,
    "start_time": "2022-06-29T02:44:34.569Z"
   },
   {
    "duration": 30,
    "start_time": "2022-06-29T02:44:35.202Z"
   },
   {
    "duration": 28,
    "start_time": "2022-06-29T02:44:36.186Z"
   },
   {
    "duration": 2,
    "start_time": "2022-06-29T02:44:38.529Z"
   },
   {
    "duration": 78,
    "start_time": "2022-06-29T02:44:39.194Z"
   },
   {
    "duration": 15,
    "start_time": "2022-06-29T02:44:39.978Z"
   },
   {
    "duration": 53,
    "start_time": "2022-06-29T02:45:13.092Z"
   },
   {
    "duration": 12,
    "start_time": "2022-06-29T02:45:40.324Z"
   },
   {
    "duration": 56,
    "start_time": "2022-06-29T02:46:24.465Z"
   },
   {
    "duration": 17,
    "start_time": "2022-06-29T02:46:50.227Z"
   },
   {
    "duration": 52,
    "start_time": "2022-06-29T02:47:45.752Z"
   },
   {
    "duration": 13,
    "start_time": "2022-06-29T02:50:49.126Z"
   },
   {
    "duration": 95,
    "start_time": "2022-06-29T02:52:06.089Z"
   },
   {
    "duration": 95,
    "start_time": "2022-06-29T02:52:19.922Z"
   },
   {
    "duration": 95,
    "start_time": "2022-06-29T02:52:29.706Z"
   },
   {
    "duration": 20,
    "start_time": "2022-06-29T04:00:53.353Z"
   },
   {
    "duration": 4,
    "start_time": "2022-06-29T04:00:57.492Z"
   },
   {
    "duration": 7,
    "start_time": "2022-06-29T04:01:15.461Z"
   },
   {
    "duration": 13,
    "start_time": "2022-06-29T04:01:26.350Z"
   },
   {
    "duration": 41,
    "start_time": "2022-06-29T04:01:41.406Z"
   },
   {
    "duration": 11,
    "start_time": "2022-06-29T04:01:43.902Z"
   },
   {
    "duration": 36,
    "start_time": "2022-06-29T04:01:49.453Z"
   },
   {
    "duration": 11,
    "start_time": "2022-06-29T04:01:50.422Z"
   },
   {
    "duration": 117,
    "start_time": "2022-06-29T04:04:21.628Z"
   },
   {
    "duration": 404,
    "start_time": "2022-06-29T04:04:23.835Z"
   },
   {
    "duration": 30,
    "start_time": "2022-06-29T04:04:29.619Z"
   },
   {
    "duration": 4,
    "start_time": "2022-06-29T04:04:31.316Z"
   },
   {
    "duration": 7,
    "start_time": "2022-06-29T04:04:37.347Z"
   },
   {
    "duration": 7,
    "start_time": "2022-06-29T04:04:50.156Z"
   },
   {
    "duration": 7,
    "start_time": "2022-06-29T04:04:59.963Z"
   },
   {
    "duration": 5,
    "start_time": "2022-06-29T04:05:02.820Z"
   },
   {
    "duration": 13,
    "start_time": "2022-06-29T04:05:36.063Z"
   },
   {
    "duration": 36,
    "start_time": "2022-06-29T04:05:45.045Z"
   },
   {
    "duration": 9,
    "start_time": "2022-06-29T04:05:51.542Z"
   },
   {
    "duration": 3,
    "start_time": "2022-06-29T04:05:57.710Z"
   },
   {
    "duration": 13,
    "start_time": "2022-06-29T04:06:56.888Z"
   },
   {
    "duration": 32,
    "start_time": "2022-06-29T04:07:04.065Z"
   },
   {
    "duration": 31,
    "start_time": "2022-06-29T04:07:09.800Z"
   },
   {
    "duration": 81,
    "start_time": "2022-06-29T04:08:17.722Z"
   },
   {
    "duration": 89,
    "start_time": "2022-06-29T04:08:36.203Z"
   },
   {
    "duration": 15,
    "start_time": "2022-06-29T04:08:43.099Z"
   },
   {
    "duration": 18,
    "start_time": "2022-06-29T04:11:44.625Z"
   },
   {
    "duration": 13,
    "start_time": "2022-06-29T04:11:53.129Z"
   },
   {
    "duration": 16,
    "start_time": "2022-06-29T04:11:59.690Z"
   },
   {
    "duration": 117,
    "start_time": "2022-06-29T04:14:24.183Z"
   },
   {
    "duration": 64,
    "start_time": "2022-06-29T04:14:30.888Z"
   },
   {
    "duration": 17,
    "start_time": "2022-06-29T04:14:50.991Z"
   },
   {
    "duration": 836,
    "start_time": "2022-06-29T04:15:29.897Z"
   },
   {
    "duration": 28,
    "start_time": "2022-06-29T04:16:22.546Z"
   },
   {
    "duration": 16,
    "start_time": "2022-06-29T04:17:13.019Z"
   },
   {
    "duration": 16,
    "start_time": "2022-06-29T04:18:41.791Z"
   },
   {
    "duration": 20,
    "start_time": "2022-06-29T04:18:52.206Z"
   },
   {
    "duration": 21,
    "start_time": "2022-06-29T04:19:52.760Z"
   },
   {
    "duration": 32,
    "start_time": "2022-06-29T04:20:30.234Z"
   },
   {
    "duration": 113,
    "start_time": "2022-06-29T04:20:57.767Z"
   },
   {
    "duration": 4,
    "start_time": "2022-06-29T04:21:08.719Z"
   },
   {
    "duration": 14,
    "start_time": "2022-06-29T04:21:08.725Z"
   },
   {
    "duration": 748,
    "start_time": "2022-06-29T04:21:08.741Z"
   },
   {
    "duration": 182,
    "start_time": "2022-06-29T04:21:09.492Z"
   },
   {
    "duration": 508,
    "start_time": "2022-06-29T04:21:09.676Z"
   },
   {
    "duration": 34,
    "start_time": "2022-06-29T04:21:10.187Z"
   },
   {
    "duration": 26,
    "start_time": "2022-06-29T04:21:10.225Z"
   },
   {
    "duration": 24,
    "start_time": "2022-06-29T04:21:10.261Z"
   },
   {
    "duration": 25,
    "start_time": "2022-06-29T04:21:10.289Z"
   },
   {
    "duration": 72,
    "start_time": "2022-06-29T04:21:10.317Z"
   },
   {
    "duration": 9,
    "start_time": "2022-06-29T04:21:10.391Z"
   },
   {
    "duration": 4,
    "start_time": "2022-06-29T04:21:10.402Z"
   },
   {
    "duration": 49,
    "start_time": "2022-06-29T04:21:10.407Z"
   },
   {
    "duration": 51,
    "start_time": "2022-06-29T04:21:10.458Z"
   },
   {
    "duration": 57,
    "start_time": "2022-06-29T04:21:10.510Z"
   },
   {
    "duration": 100,
    "start_time": "2022-06-29T04:21:10.569Z"
   },
   {
    "duration": 88,
    "start_time": "2022-06-29T04:21:13.443Z"
   },
   {
    "duration": 16,
    "start_time": "2022-06-29T04:21:15.211Z"
   },
   {
    "duration": 11,
    "start_time": "2022-06-29T04:21:49.372Z"
   },
   {
    "duration": 27,
    "start_time": "2022-06-29T04:23:18.862Z"
   },
   {
    "duration": 16,
    "start_time": "2022-06-29T04:23:40.665Z"
   },
   {
    "duration": 5,
    "start_time": "2022-06-29T04:24:31.067Z"
   },
   {
    "duration": 90,
    "start_time": "2022-06-29T04:26:19.422Z"
   },
   {
    "duration": 20,
    "start_time": "2022-06-29T04:26:21.149Z"
   },
   {
    "duration": 6,
    "start_time": "2022-06-29T04:26:27.118Z"
   },
   {
    "duration": 18,
    "start_time": "2022-06-29T04:27:15.703Z"
   },
   {
    "duration": 16,
    "start_time": "2022-06-29T04:27:36.504Z"
   },
   {
    "duration": 88,
    "start_time": "2022-06-29T04:27:41.537Z"
   },
   {
    "duration": 17,
    "start_time": "2022-06-29T04:27:42.376Z"
   },
   {
    "duration": 5,
    "start_time": "2022-06-29T04:27:45.615Z"
   },
   {
    "duration": 54,
    "start_time": "2022-06-29T04:29:11.491Z"
   },
   {
    "duration": 16,
    "start_time": "2022-06-29T04:29:22.970Z"
   },
   {
    "duration": 35,
    "start_time": "2022-06-29T04:29:25.220Z"
   },
   {
    "duration": 18,
    "start_time": "2022-06-29T04:29:34.548Z"
   },
   {
    "duration": 319,
    "start_time": "2022-06-29T04:35:30.191Z"
   },
   {
    "duration": 289,
    "start_time": "2022-06-29T04:35:41.576Z"
   },
   {
    "duration": 13,
    "start_time": "2022-06-29T04:36:21.265Z"
   },
   {
    "duration": 13,
    "start_time": "2022-06-29T04:36:30.785Z"
   },
   {
    "duration": 277,
    "start_time": "2022-06-29T04:36:35.176Z"
   },
   {
    "duration": 2,
    "start_time": "2022-06-29T04:36:40.485Z"
   },
   {
    "duration": 5,
    "start_time": "2022-06-29T04:36:40.489Z"
   },
   {
    "duration": 652,
    "start_time": "2022-06-29T04:36:40.495Z"
   },
   {
    "duration": 121,
    "start_time": "2022-06-29T04:36:41.150Z"
   },
   {
    "duration": 396,
    "start_time": "2022-06-29T04:36:41.273Z"
   },
   {
    "duration": 27,
    "start_time": "2022-06-29T04:36:41.671Z"
   },
   {
    "duration": 4,
    "start_time": "2022-06-29T04:36:41.699Z"
   },
   {
    "duration": 8,
    "start_time": "2022-06-29T04:36:41.704Z"
   },
   {
    "duration": 38,
    "start_time": "2022-06-29T04:36:41.714Z"
   },
   {
    "duration": 31,
    "start_time": "2022-06-29T04:36:41.754Z"
   },
   {
    "duration": 9,
    "start_time": "2022-06-29T04:36:41.786Z"
   },
   {
    "duration": 3,
    "start_time": "2022-06-29T04:36:41.797Z"
   },
   {
    "duration": 12,
    "start_time": "2022-06-29T04:36:41.801Z"
   },
   {
    "duration": 66,
    "start_time": "2022-06-29T04:36:41.815Z"
   },
   {
    "duration": 28,
    "start_time": "2022-06-29T04:36:41.883Z"
   },
   {
    "duration": 107,
    "start_time": "2022-06-29T04:36:41.912Z"
   },
   {
    "duration": 15,
    "start_time": "2022-06-29T04:36:42.021Z"
   },
   {
    "duration": 13,
    "start_time": "2022-06-29T04:36:42.038Z"
   },
   {
    "duration": 50,
    "start_time": "2022-06-29T04:36:42.052Z"
   },
   {
    "duration": 12,
    "start_time": "2022-06-29T04:36:42.104Z"
   },
   {
    "duration": 311,
    "start_time": "2022-06-29T04:36:42.117Z"
   },
   {
    "duration": 282,
    "start_time": "2022-06-29T04:36:46.481Z"
   },
   {
    "duration": 13,
    "start_time": "2022-06-29T04:36:53.402Z"
   },
   {
    "duration": 3,
    "start_time": "2022-06-29T04:37:24.103Z"
   },
   {
    "duration": 9,
    "start_time": "2022-06-29T04:37:24.108Z"
   },
   {
    "duration": 694,
    "start_time": "2022-06-29T04:37:24.119Z"
   },
   {
    "duration": 114,
    "start_time": "2022-06-29T04:37:24.815Z"
   },
   {
    "duration": 404,
    "start_time": "2022-06-29T04:37:24.930Z"
   },
   {
    "duration": 36,
    "start_time": "2022-06-29T04:37:25.336Z"
   },
   {
    "duration": 4,
    "start_time": "2022-06-29T04:37:25.373Z"
   },
   {
    "duration": 8,
    "start_time": "2022-06-29T04:37:25.378Z"
   },
   {
    "duration": 12,
    "start_time": "2022-06-29T04:37:25.389Z"
   },
   {
    "duration": 63,
    "start_time": "2022-06-29T04:37:25.403Z"
   },
   {
    "duration": 8,
    "start_time": "2022-06-29T04:37:25.468Z"
   },
   {
    "duration": 4,
    "start_time": "2022-06-29T04:37:25.478Z"
   },
   {
    "duration": 14,
    "start_time": "2022-06-29T04:37:25.484Z"
   },
   {
    "duration": 63,
    "start_time": "2022-06-29T04:37:25.500Z"
   },
   {
    "duration": 30,
    "start_time": "2022-06-29T04:37:25.564Z"
   },
   {
    "duration": 103,
    "start_time": "2022-06-29T04:37:25.596Z"
   },
   {
    "duration": 16,
    "start_time": "2022-06-29T04:37:25.700Z"
   },
   {
    "duration": 4,
    "start_time": "2022-06-29T04:37:25.717Z"
   },
   {
    "duration": 79,
    "start_time": "2022-06-29T04:37:25.723Z"
   },
   {
    "duration": 13,
    "start_time": "2022-06-29T04:37:25.803Z"
   },
   {
    "duration": 97,
    "start_time": "2022-06-29T04:37:25.817Z"
   },
   {
    "duration": 11,
    "start_time": "2022-06-29T04:37:25.916Z"
   },
   {
    "duration": 15,
    "start_time": "2022-06-29T04:37:50.595Z"
   },
   {
    "duration": 38,
    "start_time": "2022-06-29T04:40:39.129Z"
   },
   {
    "duration": 12,
    "start_time": "2022-06-29T04:41:13.314Z"
   },
   {
    "duration": 105,
    "start_time": "2022-06-29T04:45:31.034Z"
   },
   {
    "duration": 16,
    "start_time": "2022-06-29T04:45:38.338Z"
   },
   {
    "duration": 23,
    "start_time": "2022-06-29T04:46:02.507Z"
   },
   {
    "duration": 15,
    "start_time": "2022-06-29T04:46:45.469Z"
   },
   {
    "duration": 99,
    "start_time": "2022-06-29T04:47:43.223Z"
   },
   {
    "duration": 13,
    "start_time": "2022-06-29T04:47:48.094Z"
   },
   {
    "duration": 101,
    "start_time": "2022-06-29T04:48:10.311Z"
   },
   {
    "duration": 13,
    "start_time": "2022-06-29T04:48:11.991Z"
   },
   {
    "duration": 81,
    "start_time": "2022-06-29T04:48:46.081Z"
   },
   {
    "duration": 12,
    "start_time": "2022-06-29T04:48:46.937Z"
   },
   {
    "duration": 102,
    "start_time": "2022-06-29T04:49:10.363Z"
   },
   {
    "duration": 13,
    "start_time": "2022-06-29T04:49:10.897Z"
   },
   {
    "duration": 15,
    "start_time": "2022-06-29T04:49:24.626Z"
   },
   {
    "duration": 14,
    "start_time": "2022-06-29T04:50:59.396Z"
   },
   {
    "duration": 104,
    "start_time": "2022-06-29T04:52:02.161Z"
   },
   {
    "duration": 12,
    "start_time": "2022-06-29T04:52:08.991Z"
   },
   {
    "duration": 21,
    "start_time": "2022-06-29T04:52:22.080Z"
   },
   {
    "duration": 232,
    "start_time": "2022-06-29T04:52:42.791Z"
   },
   {
    "duration": 3,
    "start_time": "2022-06-29T04:52:50.940Z"
   },
   {
    "duration": 16,
    "start_time": "2022-06-29T04:52:50.946Z"
   },
   {
    "duration": 666,
    "start_time": "2022-06-29T04:52:50.964Z"
   },
   {
    "duration": 131,
    "start_time": "2022-06-29T04:52:51.631Z"
   },
   {
    "duration": 407,
    "start_time": "2022-06-29T04:52:51.763Z"
   },
   {
    "duration": 30,
    "start_time": "2022-06-29T04:52:52.171Z"
   },
   {
    "duration": 3,
    "start_time": "2022-06-29T04:52:52.203Z"
   },
   {
    "duration": 8,
    "start_time": "2022-06-29T04:52:52.207Z"
   },
   {
    "duration": 40,
    "start_time": "2022-06-29T04:52:52.217Z"
   },
   {
    "duration": 31,
    "start_time": "2022-06-29T04:52:52.260Z"
   },
   {
    "duration": 8,
    "start_time": "2022-06-29T04:52:52.293Z"
   },
   {
    "duration": 3,
    "start_time": "2022-06-29T04:52:52.302Z"
   },
   {
    "duration": 12,
    "start_time": "2022-06-29T04:52:52.307Z"
   },
   {
    "duration": 61,
    "start_time": "2022-06-29T04:52:52.320Z"
   },
   {
    "duration": 27,
    "start_time": "2022-06-29T04:52:52.382Z"
   },
   {
    "duration": 110,
    "start_time": "2022-06-29T04:52:52.411Z"
   },
   {
    "duration": 37,
    "start_time": "2022-06-29T04:52:52.523Z"
   },
   {
    "duration": 5,
    "start_time": "2022-06-29T04:52:52.561Z"
   },
   {
    "duration": 54,
    "start_time": "2022-06-29T04:52:52.567Z"
   },
   {
    "duration": 13,
    "start_time": "2022-06-29T04:52:52.622Z"
   },
   {
    "duration": 83,
    "start_time": "2022-06-29T04:52:52.660Z"
   },
   {
    "duration": 21,
    "start_time": "2022-06-29T04:52:52.745Z"
   },
   {
    "duration": 16,
    "start_time": "2022-06-29T04:52:52.768Z"
   },
   {
    "duration": 44,
    "start_time": "2022-06-29T04:52:52.787Z"
   },
   {
    "duration": 27,
    "start_time": "2022-06-29T04:52:52.833Z"
   },
   {
    "duration": 20,
    "start_time": "2022-06-29T04:52:52.861Z"
   },
   {
    "duration": 102,
    "start_time": "2022-06-29T04:52:52.882Z"
   },
   {
    "duration": 12,
    "start_time": "2022-06-29T04:52:52.985Z"
   },
   {
    "duration": 15,
    "start_time": "2022-06-29T04:52:52.998Z"
   },
   {
    "duration": 12,
    "start_time": "2022-06-29T04:52:53.014Z"
   },
   {
    "duration": 133,
    "start_time": "2022-06-29T04:52:53.027Z"
   },
   {
    "duration": 16,
    "start_time": "2022-06-29T04:52:53.162Z"
   },
   {
    "duration": 17,
    "start_time": "2022-06-29T04:52:53.179Z"
   },
   {
    "duration": 12,
    "start_time": "2022-06-29T04:52:53.197Z"
   },
   {
    "duration": 107,
    "start_time": "2022-06-29T04:52:53.211Z"
   },
   {
    "duration": 14,
    "start_time": "2022-06-29T04:52:53.319Z"
   },
   {
    "duration": 34,
    "start_time": "2022-06-29T04:52:53.334Z"
   },
   {
    "duration": 233,
    "start_time": "2022-06-29T04:52:53.370Z"
   },
   {
    "duration": 389,
    "start_time": "2022-06-29T04:52:53.604Z"
   },
   {
    "duration": 15,
    "start_time": "2022-06-29T04:52:53.994Z"
   },
   {
    "duration": 17,
    "start_time": "2022-06-29T04:52:54.011Z"
   },
   {
    "duration": 39,
    "start_time": "2022-06-29T04:52:54.029Z"
   },
   {
    "duration": 51,
    "start_time": "2022-06-29T04:52:54.069Z"
   },
   {
    "duration": 3,
    "start_time": "2022-06-29T04:53:49.079Z"
   },
   {
    "duration": 5,
    "start_time": "2022-06-29T04:53:49.084Z"
   },
   {
    "duration": 618,
    "start_time": "2022-06-29T04:53:49.091Z"
   },
   {
    "duration": 121,
    "start_time": "2022-06-29T04:53:49.711Z"
   },
   {
    "duration": 534,
    "start_time": "2022-06-29T04:53:49.833Z"
   },
   {
    "duration": 30,
    "start_time": "2022-06-29T04:53:50.368Z"
   },
   {
    "duration": 4,
    "start_time": "2022-06-29T04:53:50.399Z"
   },
   {
    "duration": 4,
    "start_time": "2022-06-29T04:53:53.566Z"
   },
   {
    "duration": 296,
    "start_time": "2022-06-29T04:53:54.362Z"
   },
   {
    "duration": 352,
    "start_time": "2022-06-29T04:54:18.083Z"
   },
   {
    "duration": 552,
    "start_time": "2022-06-29T04:56:26.326Z"
   },
   {
    "duration": 28,
    "start_time": "2022-06-29T04:56:28.287Z"
   },
   {
    "duration": 54,
    "start_time": "2022-06-29T04:56:55.505Z"
   },
   {
    "duration": 11,
    "start_time": "2022-06-29T04:56:56.106Z"
   },
   {
    "duration": 454,
    "start_time": "2022-06-29T04:58:31.843Z"
   },
   {
    "duration": 16,
    "start_time": "2022-06-29T04:58:40.361Z"
   },
   {
    "duration": 24,
    "start_time": "2022-06-29T04:58:46.964Z"
   },
   {
    "duration": 22,
    "start_time": "2022-06-29T04:58:52.740Z"
   },
   {
    "duration": 46,
    "start_time": "2022-06-29T04:59:47.901Z"
   },
   {
    "duration": 327,
    "start_time": "2022-06-29T05:01:53.663Z"
   },
   {
    "duration": 5,
    "start_time": "2022-06-29T05:02:07.247Z"
   },
   {
    "duration": 18,
    "start_time": "2022-06-29T05:02:07.253Z"
   },
   {
    "duration": 711,
    "start_time": "2022-06-29T05:02:07.273Z"
   },
   {
    "duration": 120,
    "start_time": "2022-06-29T05:02:07.986Z"
   },
   {
    "duration": 455,
    "start_time": "2022-06-29T05:02:08.108Z"
   },
   {
    "duration": 396,
    "start_time": "2022-06-29T05:02:08.565Z"
   },
   {
    "duration": 494,
    "start_time": "2022-06-29T05:02:08.962Z"
   },
   {
    "duration": 30,
    "start_time": "2022-06-29T05:02:09.458Z"
   },
   {
    "duration": 4,
    "start_time": "2022-06-29T05:02:09.490Z"
   },
   {
    "duration": 7,
    "start_time": "2022-06-29T05:02:09.495Z"
   },
   {
    "duration": 12,
    "start_time": "2022-06-29T05:02:09.505Z"
   },
   {
    "duration": 78,
    "start_time": "2022-06-29T05:02:09.518Z"
   },
   {
    "duration": 9,
    "start_time": "2022-06-29T05:02:09.598Z"
   },
   {
    "duration": 3,
    "start_time": "2022-06-29T05:02:09.609Z"
   },
   {
    "duration": 43,
    "start_time": "2022-06-29T05:02:09.614Z"
   },
   {
    "duration": 33,
    "start_time": "2022-06-29T05:02:09.662Z"
   },
   {
    "duration": 29,
    "start_time": "2022-06-29T05:02:09.697Z"
   },
   {
    "duration": 114,
    "start_time": "2022-06-29T05:02:09.727Z"
   },
   {
    "duration": 24,
    "start_time": "2022-06-29T05:02:09.842Z"
   },
   {
    "duration": 5,
    "start_time": "2022-06-29T05:02:09.867Z"
   },
   {
    "duration": 54,
    "start_time": "2022-06-29T05:02:09.873Z"
   },
   {
    "duration": 38,
    "start_time": "2022-06-29T05:02:09.929Z"
   },
   {
    "duration": 99,
    "start_time": "2022-06-29T05:02:09.968Z"
   },
   {
    "duration": 13,
    "start_time": "2022-06-29T05:02:10.070Z"
   },
   {
    "duration": 19,
    "start_time": "2022-06-29T05:02:10.084Z"
   },
   {
    "duration": 62,
    "start_time": "2022-06-29T05:02:10.105Z"
   },
   {
    "duration": 17,
    "start_time": "2022-06-29T05:02:10.169Z"
   },
   {
    "duration": 15,
    "start_time": "2022-06-29T05:02:10.188Z"
   },
   {
    "duration": 132,
    "start_time": "2022-06-29T05:02:10.207Z"
   },
   {
    "duration": 26,
    "start_time": "2022-06-29T05:02:10.340Z"
   },
   {
    "duration": 32,
    "start_time": "2022-06-29T05:02:10.368Z"
   },
   {
    "duration": 20,
    "start_time": "2022-06-29T05:02:10.402Z"
   },
   {
    "duration": 117,
    "start_time": "2022-06-29T05:02:10.423Z"
   },
   {
    "duration": 28,
    "start_time": "2022-06-29T05:02:10.541Z"
   },
   {
    "duration": 19,
    "start_time": "2022-06-29T05:02:10.570Z"
   },
   {
    "duration": 14,
    "start_time": "2022-06-29T05:02:10.590Z"
   },
   {
    "duration": 123,
    "start_time": "2022-06-29T05:02:10.606Z"
   },
   {
    "duration": 12,
    "start_time": "2022-06-29T05:02:10.731Z"
   },
   {
    "duration": 22,
    "start_time": "2022-06-29T05:02:10.751Z"
   },
   {
    "duration": 430,
    "start_time": "2022-06-29T05:02:10.775Z"
   },
   {
    "duration": 14,
    "start_time": "2022-06-29T05:02:11.207Z"
   },
   {
    "duration": 40,
    "start_time": "2022-06-29T05:02:11.223Z"
   },
   {
    "duration": 22,
    "start_time": "2022-06-29T05:02:11.265Z"
   },
   {
    "duration": 77,
    "start_time": "2022-06-29T05:02:11.289Z"
   },
   {
    "duration": 314,
    "start_time": "2022-06-29T05:02:11.368Z"
   },
   {
    "duration": 71,
    "start_time": "2022-06-29T05:02:18.891Z"
   },
   {
    "duration": 90,
    "start_time": "2022-06-29T05:02:24.659Z"
   },
   {
    "duration": 66,
    "start_time": "2022-06-29T05:02:36.571Z"
   },
   {
    "duration": 76,
    "start_time": "2022-06-29T05:04:58.184Z"
   },
   {
    "duration": 3,
    "start_time": "2022-06-29T05:06:07.471Z"
   },
   {
    "duration": 28,
    "start_time": "2022-06-29T05:06:07.477Z"
   },
   {
    "duration": 685,
    "start_time": "2022-06-29T05:06:07.507Z"
   },
   {
    "duration": 120,
    "start_time": "2022-06-29T05:06:08.194Z"
   },
   {
    "duration": 416,
    "start_time": "2022-06-29T05:06:08.315Z"
   },
   {
    "duration": 430,
    "start_time": "2022-06-29T05:06:08.732Z"
   },
   {
    "duration": 559,
    "start_time": "2022-06-29T05:06:09.164Z"
   },
   {
    "duration": 37,
    "start_time": "2022-06-29T05:06:09.724Z"
   },
   {
    "duration": 6,
    "start_time": "2022-06-29T05:06:09.764Z"
   },
   {
    "duration": 18,
    "start_time": "2022-06-29T05:06:09.772Z"
   },
   {
    "duration": 18,
    "start_time": "2022-06-29T05:06:09.791Z"
   },
   {
    "duration": 90,
    "start_time": "2022-06-29T05:06:09.812Z"
   },
   {
    "duration": 12,
    "start_time": "2022-06-29T05:06:09.904Z"
   },
   {
    "duration": 18,
    "start_time": "2022-06-29T05:06:09.918Z"
   },
   {
    "duration": 39,
    "start_time": "2022-06-29T05:06:09.938Z"
   },
   {
    "duration": 36,
    "start_time": "2022-06-29T05:06:09.979Z"
   },
   {
    "duration": 55,
    "start_time": "2022-06-29T05:06:10.017Z"
   },
   {
    "duration": 120,
    "start_time": "2022-06-29T05:06:10.074Z"
   },
   {
    "duration": 19,
    "start_time": "2022-06-29T05:06:10.195Z"
   },
   {
    "duration": 6,
    "start_time": "2022-06-29T05:06:10.216Z"
   },
   {
    "duration": 87,
    "start_time": "2022-06-29T05:06:10.223Z"
   },
   {
    "duration": 20,
    "start_time": "2022-06-29T05:06:10.312Z"
   },
   {
    "duration": 105,
    "start_time": "2022-06-29T05:06:10.351Z"
   },
   {
    "duration": 15,
    "start_time": "2022-06-29T05:06:10.459Z"
   },
   {
    "duration": 17,
    "start_time": "2022-06-29T05:06:10.475Z"
   },
   {
    "duration": 65,
    "start_time": "2022-06-29T05:06:10.493Z"
   },
   {
    "duration": 18,
    "start_time": "2022-06-29T05:06:10.560Z"
   },
   {
    "duration": 16,
    "start_time": "2022-06-29T05:06:10.579Z"
   },
   {
    "duration": 125,
    "start_time": "2022-06-29T05:06:10.597Z"
   },
   {
    "duration": 14,
    "start_time": "2022-06-29T05:06:10.723Z"
   },
   {
    "duration": 15,
    "start_time": "2022-06-29T05:06:10.752Z"
   },
   {
    "duration": 15,
    "start_time": "2022-06-29T05:06:10.769Z"
   },
   {
    "duration": 119,
    "start_time": "2022-06-29T05:06:10.786Z"
   },
   {
    "duration": 12,
    "start_time": "2022-06-29T05:06:10.907Z"
   },
   {
    "duration": 15,
    "start_time": "2022-06-29T05:06:10.921Z"
   },
   {
    "duration": 25,
    "start_time": "2022-06-29T05:06:10.937Z"
   },
   {
    "duration": 115,
    "start_time": "2022-06-29T05:06:10.964Z"
   },
   {
    "duration": 14,
    "start_time": "2022-06-29T05:06:11.081Z"
   },
   {
    "duration": 29,
    "start_time": "2022-06-29T05:06:11.096Z"
   },
   {
    "duration": 511,
    "start_time": "2022-06-29T05:06:11.128Z"
   },
   {
    "duration": 25,
    "start_time": "2022-06-29T05:06:11.641Z"
   },
   {
    "duration": 20,
    "start_time": "2022-06-29T05:06:11.668Z"
   },
   {
    "duration": 19,
    "start_time": "2022-06-29T05:06:11.689Z"
   },
   {
    "duration": 90,
    "start_time": "2022-06-29T05:06:11.709Z"
   },
   {
    "duration": 82,
    "start_time": "2022-06-29T05:06:11.801Z"
   },
   {
    "duration": 84,
    "start_time": "2022-06-29T05:06:11.885Z"
   },
   {
    "duration": 20,
    "start_time": "2022-06-29T05:07:06.220Z"
   },
   {
    "duration": 3,
    "start_time": "2022-06-29T05:07:10.472Z"
   },
   {
    "duration": 5,
    "start_time": "2022-06-29T05:07:10.477Z"
   },
   {
    "duration": 600,
    "start_time": "2022-06-29T05:07:10.484Z"
   },
   {
    "duration": 121,
    "start_time": "2022-06-29T05:07:11.086Z"
   },
   {
    "duration": 412,
    "start_time": "2022-06-29T05:07:11.209Z"
   },
   {
    "duration": 383,
    "start_time": "2022-06-29T05:07:11.623Z"
   },
   {
    "duration": 458,
    "start_time": "2022-06-29T05:07:12.007Z"
   },
   {
    "duration": 19,
    "start_time": "2022-06-29T05:07:12.466Z"
   },
   {
    "duration": 4,
    "start_time": "2022-06-29T05:07:12.487Z"
   },
   {
    "duration": 7,
    "start_time": "2022-06-29T05:07:12.494Z"
   },
   {
    "duration": 11,
    "start_time": "2022-06-29T05:07:12.503Z"
   },
   {
    "duration": 34,
    "start_time": "2022-06-29T05:07:12.551Z"
   },
   {
    "duration": 9,
    "start_time": "2022-06-29T05:07:12.587Z"
   },
   {
    "duration": 4,
    "start_time": "2022-06-29T05:07:12.598Z"
   },
   {
    "duration": 49,
    "start_time": "2022-06-29T05:07:12.603Z"
   },
   {
    "duration": 22,
    "start_time": "2022-06-29T05:07:12.654Z"
   },
   {
    "duration": 21,
    "start_time": "2022-06-29T05:07:12.678Z"
   },
   {
    "duration": 109,
    "start_time": "2022-06-29T05:07:12.700Z"
   },
   {
    "duration": 16,
    "start_time": "2022-06-29T05:07:12.811Z"
   },
   {
    "duration": 5,
    "start_time": "2022-06-29T05:07:12.828Z"
   },
   {
    "duration": 49,
    "start_time": "2022-06-29T05:07:12.835Z"
   },
   {
    "duration": 13,
    "start_time": "2022-06-29T05:07:12.886Z"
   },
   {
    "duration": 105,
    "start_time": "2022-06-29T05:07:12.900Z"
   },
   {
    "duration": 12,
    "start_time": "2022-06-29T05:07:13.007Z"
   },
   {
    "duration": 18,
    "start_time": "2022-06-29T05:07:13.020Z"
   },
   {
    "duration": 39,
    "start_time": "2022-06-29T05:07:13.050Z"
   },
   {
    "duration": 17,
    "start_time": "2022-06-29T05:07:13.091Z"
   },
   {
    "duration": 12,
    "start_time": "2022-06-29T05:07:13.112Z"
   },
   {
    "duration": 102,
    "start_time": "2022-06-29T05:07:13.151Z"
   },
   {
    "duration": 13,
    "start_time": "2022-06-29T05:07:13.255Z"
   },
   {
    "duration": 17,
    "start_time": "2022-06-29T05:07:13.270Z"
   },
   {
    "duration": 14,
    "start_time": "2022-06-29T05:07:13.288Z"
   },
   {
    "duration": 125,
    "start_time": "2022-06-29T05:07:13.304Z"
   },
   {
    "duration": 12,
    "start_time": "2022-06-29T05:07:13.431Z"
   },
   {
    "duration": 19,
    "start_time": "2022-06-29T05:07:13.445Z"
   },
   {
    "duration": 16,
    "start_time": "2022-06-29T05:07:13.466Z"
   },
   {
    "duration": 119,
    "start_time": "2022-06-29T05:07:13.484Z"
   },
   {
    "duration": 13,
    "start_time": "2022-06-29T05:07:13.604Z"
   },
   {
    "duration": 17,
    "start_time": "2022-06-29T05:07:13.618Z"
   },
   {
    "duration": 382,
    "start_time": "2022-06-29T05:07:13.636Z"
   },
   {
    "duration": 14,
    "start_time": "2022-06-29T05:07:14.020Z"
   },
   {
    "duration": 25,
    "start_time": "2022-06-29T05:07:14.035Z"
   },
   {
    "duration": 13,
    "start_time": "2022-06-29T05:07:14.062Z"
   },
   {
    "duration": 40,
    "start_time": "2022-06-29T05:07:14.076Z"
   },
   {
    "duration": 88,
    "start_time": "2022-06-29T05:07:14.117Z"
   },
   {
    "duration": 63,
    "start_time": "2022-06-29T05:07:14.207Z"
   },
   {
    "duration": 3,
    "start_time": "2022-06-29T05:20:26.564Z"
   },
   {
    "duration": 8,
    "start_time": "2022-06-29T05:20:26.569Z"
   },
   {
    "duration": 680,
    "start_time": "2022-06-29T05:20:26.580Z"
   },
   {
    "duration": 123,
    "start_time": "2022-06-29T05:20:27.262Z"
   },
   {
    "duration": 413,
    "start_time": "2022-06-29T05:20:27.386Z"
   },
   {
    "duration": 410,
    "start_time": "2022-06-29T05:20:27.801Z"
   },
   {
    "duration": 480,
    "start_time": "2022-06-29T05:20:28.214Z"
   },
   {
    "duration": 20,
    "start_time": "2022-06-29T05:20:28.696Z"
   },
   {
    "duration": 5,
    "start_time": "2022-06-29T05:20:28.717Z"
   },
   {
    "duration": 28,
    "start_time": "2022-06-29T05:20:28.724Z"
   },
   {
    "duration": 12,
    "start_time": "2022-06-29T05:20:28.756Z"
   },
   {
    "duration": 36,
    "start_time": "2022-06-29T05:20:28.770Z"
   },
   {
    "duration": 9,
    "start_time": "2022-06-29T05:20:28.808Z"
   },
   {
    "duration": 4,
    "start_time": "2022-06-29T05:20:28.851Z"
   },
   {
    "duration": 14,
    "start_time": "2022-06-29T05:20:28.857Z"
   },
   {
    "duration": 23,
    "start_time": "2022-06-29T05:20:28.873Z"
   },
   {
    "duration": 165,
    "start_time": "2022-06-29T05:20:28.898Z"
   },
   {
    "duration": 96,
    "start_time": "2022-06-29T05:20:29.065Z"
   },
   {
    "duration": 15,
    "start_time": "2022-06-29T05:20:29.162Z"
   },
   {
    "duration": 4,
    "start_time": "2022-06-29T05:20:29.179Z"
   },
   {
    "duration": 40,
    "start_time": "2022-06-29T05:20:29.185Z"
   },
   {
    "duration": 36,
    "start_time": "2022-06-29T05:20:29.226Z"
   },
   {
    "duration": 106,
    "start_time": "2022-06-29T05:20:29.264Z"
   },
   {
    "duration": 13,
    "start_time": "2022-06-29T05:20:29.371Z"
   },
   {
    "duration": 19,
    "start_time": "2022-06-29T05:20:29.386Z"
   },
   {
    "duration": 54,
    "start_time": "2022-06-29T05:20:29.407Z"
   },
   {
    "duration": 20,
    "start_time": "2022-06-29T05:20:29.462Z"
   },
   {
    "duration": 15,
    "start_time": "2022-06-29T05:20:29.484Z"
   },
   {
    "duration": 125,
    "start_time": "2022-06-29T05:20:29.502Z"
   },
   {
    "duration": 13,
    "start_time": "2022-06-29T05:20:29.629Z"
   },
   {
    "duration": 21,
    "start_time": "2022-06-29T05:20:29.644Z"
   },
   {
    "duration": 13,
    "start_time": "2022-06-29T05:20:29.667Z"
   },
   {
    "duration": 125,
    "start_time": "2022-06-29T05:20:29.682Z"
   },
   {
    "duration": 14,
    "start_time": "2022-06-29T05:20:29.808Z"
   },
   {
    "duration": 32,
    "start_time": "2022-06-29T05:20:29.823Z"
   },
   {
    "duration": 13,
    "start_time": "2022-06-29T05:20:29.856Z"
   },
   {
    "duration": 111,
    "start_time": "2022-06-29T05:20:29.871Z"
   },
   {
    "duration": 14,
    "start_time": "2022-06-29T05:20:29.983Z"
   },
   {
    "duration": 21,
    "start_time": "2022-06-29T05:20:29.999Z"
   },
   {
    "duration": 442,
    "start_time": "2022-06-29T05:20:30.022Z"
   },
   {
    "duration": 15,
    "start_time": "2022-06-29T05:20:30.465Z"
   },
   {
    "duration": 23,
    "start_time": "2022-06-29T05:20:30.482Z"
   },
   {
    "duration": 16,
    "start_time": "2022-06-29T05:20:30.506Z"
   },
   {
    "duration": 59,
    "start_time": "2022-06-29T05:20:30.524Z"
   },
   {
    "duration": 92,
    "start_time": "2022-06-29T05:20:30.585Z"
   },
   {
    "duration": 74,
    "start_time": "2022-06-29T05:20:30.679Z"
   },
   {
    "duration": 53,
    "start_time": "2022-06-29T05:27:36.276Z"
   },
   {
    "duration": 743,
    "start_time": "2022-06-29T05:48:43.565Z"
   },
   {
    "duration": 580,
    "start_time": "2022-06-29T05:49:08.829Z"
   },
   {
    "duration": 91,
    "start_time": "2022-06-29T05:49:15.525Z"
   },
   {
    "duration": 8,
    "start_time": "2022-06-29T05:51:11.305Z"
   },
   {
    "duration": 8,
    "start_time": "2022-06-29T05:55:47.363Z"
   },
   {
    "duration": 262,
    "start_time": "2022-06-29T05:55:55.698Z"
   },
   {
    "duration": 752,
    "start_time": "2022-06-29T05:56:01.051Z"
   },
   {
    "duration": 610,
    "start_time": "2022-06-29T05:56:16.819Z"
   },
   {
    "duration": 13,
    "start_time": "2022-06-29T05:56:23.659Z"
   },
   {
    "duration": 1188,
    "start_time": "2022-06-29T05:57:25.151Z"
   },
   {
    "duration": 62,
    "start_time": "2022-06-29T05:57:59.623Z"
   },
   {
    "duration": 58,
    "start_time": "2022-06-29T05:58:25.215Z"
   },
   {
    "duration": 16,
    "start_time": "2022-06-29T06:09:03.956Z"
   },
   {
    "duration": 16,
    "start_time": "2022-06-29T06:09:10.068Z"
   },
   {
    "duration": 3,
    "start_time": "2022-06-29T06:34:09.821Z"
   },
   {
    "duration": 33,
    "start_time": "2022-06-29T06:34:15.227Z"
   },
   {
    "duration": 308,
    "start_time": "2022-06-29T07:05:04.400Z"
   },
   {
    "duration": 212,
    "start_time": "2022-06-29T07:05:52.248Z"
   },
   {
    "duration": 89,
    "start_time": "2022-06-29T07:06:41.162Z"
   },
   {
    "duration": 3,
    "start_time": "2022-06-29T07:06:41.253Z"
   },
   {
    "duration": 752,
    "start_time": "2022-06-29T07:06:41.257Z"
   },
   {
    "duration": 229,
    "start_time": "2022-06-29T07:06:42.011Z"
   },
   {
    "duration": 411,
    "start_time": "2022-06-29T07:06:42.251Z"
   },
   {
    "duration": 416,
    "start_time": "2022-06-29T07:06:42.664Z"
   },
   {
    "duration": 497,
    "start_time": "2022-06-29T07:06:43.082Z"
   },
   {
    "duration": 18,
    "start_time": "2022-06-29T07:06:43.581Z"
   },
   {
    "duration": 4,
    "start_time": "2022-06-29T07:06:43.601Z"
   },
   {
    "duration": 10,
    "start_time": "2022-06-29T07:06:43.607Z"
   },
   {
    "duration": 34,
    "start_time": "2022-06-29T07:06:43.618Z"
   },
   {
    "duration": 36,
    "start_time": "2022-06-29T07:06:43.653Z"
   },
   {
    "duration": 9,
    "start_time": "2022-06-29T07:06:43.691Z"
   },
   {
    "duration": 12,
    "start_time": "2022-06-29T07:06:43.701Z"
   },
   {
    "duration": 18,
    "start_time": "2022-06-29T07:06:43.714Z"
   },
   {
    "duration": 37,
    "start_time": "2022-06-29T07:06:43.734Z"
   },
   {
    "duration": 23,
    "start_time": "2022-06-29T07:06:43.772Z"
   },
   {
    "duration": 108,
    "start_time": "2022-06-29T07:06:43.796Z"
   },
   {
    "duration": 17,
    "start_time": "2022-06-29T07:06:43.905Z"
   },
   {
    "duration": 5,
    "start_time": "2022-06-29T07:06:43.923Z"
   },
   {
    "duration": 68,
    "start_time": "2022-06-29T07:06:43.929Z"
   },
   {
    "duration": 15,
    "start_time": "2022-06-29T07:06:43.998Z"
   },
   {
    "duration": 107,
    "start_time": "2022-06-29T07:06:44.014Z"
   },
   {
    "duration": 15,
    "start_time": "2022-06-29T07:06:44.123Z"
   },
   {
    "duration": 27,
    "start_time": "2022-06-29T07:06:44.139Z"
   },
   {
    "duration": 44,
    "start_time": "2022-06-29T07:06:44.167Z"
   },
   {
    "duration": 38,
    "start_time": "2022-06-29T07:06:44.213Z"
   },
   {
    "duration": 13,
    "start_time": "2022-06-29T07:06:44.254Z"
   },
   {
    "duration": 110,
    "start_time": "2022-06-29T07:06:44.269Z"
   },
   {
    "duration": 21,
    "start_time": "2022-06-29T07:06:44.381Z"
   },
   {
    "duration": 49,
    "start_time": "2022-06-29T07:06:44.404Z"
   },
   {
    "duration": 38,
    "start_time": "2022-06-29T07:06:44.455Z"
   },
   {
    "duration": 119,
    "start_time": "2022-06-29T07:06:44.495Z"
   },
   {
    "duration": 15,
    "start_time": "2022-06-29T07:06:44.616Z"
   },
   {
    "duration": 26,
    "start_time": "2022-06-29T07:06:44.632Z"
   },
   {
    "duration": 15,
    "start_time": "2022-06-29T07:06:44.660Z"
   },
   {
    "duration": 108,
    "start_time": "2022-06-29T07:06:44.677Z"
   },
   {
    "duration": 14,
    "start_time": "2022-06-29T07:06:44.787Z"
   },
   {
    "duration": 23,
    "start_time": "2022-06-29T07:06:44.802Z"
   },
   {
    "duration": 480,
    "start_time": "2022-06-29T07:06:44.828Z"
   },
   {
    "duration": 16,
    "start_time": "2022-06-29T07:06:45.310Z"
   },
   {
    "duration": 238,
    "start_time": "2022-06-29T07:06:45.328Z"
   },
   {
    "duration": 16,
    "start_time": "2022-06-29T07:06:45.568Z"
   },
   {
    "duration": 17,
    "start_time": "2022-06-29T07:06:45.586Z"
   },
   {
    "duration": 54,
    "start_time": "2022-06-29T07:06:45.605Z"
   },
   {
    "duration": 67,
    "start_time": "2022-06-29T07:06:45.661Z"
   },
   {
    "duration": 80,
    "start_time": "2022-06-29T07:06:45.730Z"
   },
   {
    "duration": 954,
    "start_time": "2022-06-29T07:06:45.811Z"
   },
   {
    "duration": 101,
    "start_time": "2022-06-29T07:06:46.767Z"
   },
   {
    "duration": 606,
    "start_time": "2022-06-29T07:06:46.870Z"
   },
   {
    "duration": 1015,
    "start_time": "2022-06-29T07:06:47.478Z"
   },
   {
    "duration": 30,
    "start_time": "2022-06-29T07:06:48.494Z"
   },
   {
    "duration": 189,
    "start_time": "2022-06-29T07:08:27.822Z"
   },
   {
    "duration": 191,
    "start_time": "2022-06-29T07:09:04.264Z"
   },
   {
    "duration": 275,
    "start_time": "2022-06-29T07:09:29.969Z"
   },
   {
    "duration": 382,
    "start_time": "2022-06-29T07:09:48.008Z"
   },
   {
    "duration": 276,
    "start_time": "2022-06-29T07:10:30.305Z"
   },
   {
    "duration": 258,
    "start_time": "2022-06-29T07:11:42.133Z"
   },
   {
    "duration": 5,
    "start_time": "2022-06-29T07:12:20.091Z"
   },
   {
    "duration": 8,
    "start_time": "2022-06-29T07:12:20.099Z"
   },
   {
    "duration": 770,
    "start_time": "2022-06-29T07:12:20.109Z"
   },
   {
    "duration": 130,
    "start_time": "2022-06-29T07:12:20.882Z"
   },
   {
    "duration": 468,
    "start_time": "2022-06-29T07:12:21.014Z"
   },
   {
    "duration": 437,
    "start_time": "2022-06-29T07:12:21.484Z"
   },
   {
    "duration": 511,
    "start_time": "2022-06-29T07:12:21.923Z"
   },
   {
    "duration": 19,
    "start_time": "2022-06-29T07:12:22.436Z"
   },
   {
    "duration": 5,
    "start_time": "2022-06-29T07:12:22.457Z"
   },
   {
    "duration": 19,
    "start_time": "2022-06-29T07:12:22.465Z"
   },
   {
    "duration": 29,
    "start_time": "2022-06-29T07:12:22.486Z"
   },
   {
    "duration": 43,
    "start_time": "2022-06-29T07:12:22.517Z"
   },
   {
    "duration": 11,
    "start_time": "2022-06-29T07:12:22.562Z"
   },
   {
    "duration": 8,
    "start_time": "2022-06-29T07:12:22.574Z"
   },
   {
    "duration": 286,
    "start_time": "2022-06-29T07:12:22.584Z"
   },
   {
    "duration": 24,
    "start_time": "2022-06-29T07:12:22.871Z"
   },
   {
    "duration": 23,
    "start_time": "2022-06-29T07:12:22.897Z"
   },
   {
    "duration": 94,
    "start_time": "2022-06-29T07:13:07.486Z"
   },
   {
    "duration": 15,
    "start_time": "2022-06-29T07:13:08.423Z"
   },
   {
    "duration": 5,
    "start_time": "2022-06-29T07:13:11.568Z"
   },
   {
    "duration": 55,
    "start_time": "2022-06-29T07:21:48.032Z"
   },
   {
    "duration": 51,
    "start_time": "2022-06-29T07:27:37.427Z"
   },
   {
    "duration": 51,
    "start_time": "2022-06-29T07:27:53.967Z"
   },
   {
    "duration": 60,
    "start_time": "2022-06-29T07:28:41.110Z"
   },
   {
    "duration": 46,
    "start_time": "2022-06-29T07:28:52.149Z"
   },
   {
    "duration": 71,
    "start_time": "2022-06-29T07:29:01.134Z"
   },
   {
    "duration": 24,
    "start_time": "2022-06-29T07:31:23.000Z"
   },
   {
    "duration": 21,
    "start_time": "2022-06-29T07:31:30.370Z"
   },
   {
    "duration": 35,
    "start_time": "2022-06-29T07:32:09.684Z"
   },
   {
    "duration": 36,
    "start_time": "2022-06-29T07:32:16.074Z"
   },
   {
    "duration": 51,
    "start_time": "2022-06-29T07:32:27.516Z"
   },
   {
    "duration": 471,
    "start_time": "2022-06-29T07:33:55.466Z"
   },
   {
    "duration": 2246,
    "start_time": "2022-06-29T07:38:42.536Z"
   },
   {
    "duration": 48,
    "start_time": "2022-06-29T23:34:05.028Z"
   },
   {
    "duration": 2248,
    "start_time": "2022-06-29T23:34:41.203Z"
   },
   {
    "duration": 2047,
    "start_time": "2022-06-29T23:34:43.454Z"
   },
   {
    "duration": 1701,
    "start_time": "2022-06-29T23:34:45.503Z"
   },
   {
    "duration": 4,
    "start_time": "2022-06-29T23:34:47.206Z"
   },
   {
    "duration": 1018,
    "start_time": "2022-06-29T23:34:47.212Z"
   },
   {
    "duration": 133,
    "start_time": "2022-06-29T23:34:48.231Z"
   },
   {
    "duration": 450,
    "start_time": "2022-06-29T23:34:48.365Z"
   },
   {
    "duration": 444,
    "start_time": "2022-06-29T23:34:48.817Z"
   },
   {
    "duration": 552,
    "start_time": "2022-06-29T23:34:49.262Z"
   },
   {
    "duration": 22,
    "start_time": "2022-06-29T23:34:49.815Z"
   },
   {
    "duration": 9,
    "start_time": "2022-06-29T23:34:49.839Z"
   },
   {
    "duration": 9,
    "start_time": "2022-06-29T23:34:49.849Z"
   },
   {
    "duration": 17,
    "start_time": "2022-06-29T23:34:49.859Z"
   },
   {
    "duration": 85,
    "start_time": "2022-06-29T23:34:49.878Z"
   },
   {
    "duration": 9,
    "start_time": "2022-06-29T23:34:49.965Z"
   },
   {
    "duration": 3,
    "start_time": "2022-06-29T23:34:49.976Z"
   },
   {
    "duration": 361,
    "start_time": "2022-06-29T23:34:49.981Z"
   },
   {
    "duration": 24,
    "start_time": "2022-06-29T23:34:50.343Z"
   },
   {
    "duration": 23,
    "start_time": "2022-06-29T23:34:50.369Z"
   },
   {
    "duration": 108,
    "start_time": "2022-06-29T23:34:50.393Z"
   },
   {
    "duration": 26,
    "start_time": "2022-06-29T23:34:50.503Z"
   },
   {
    "duration": 5,
    "start_time": "2022-06-29T23:34:50.531Z"
   },
   {
    "duration": 135,
    "start_time": "2022-06-29T23:34:50.537Z"
   },
   {
    "duration": 0,
    "start_time": "2022-06-29T23:34:50.674Z"
   },
   {
    "duration": 0,
    "start_time": "2022-06-29T23:34:50.675Z"
   },
   {
    "duration": 0,
    "start_time": "2022-06-29T23:34:50.676Z"
   },
   {
    "duration": 0,
    "start_time": "2022-06-29T23:34:50.678Z"
   },
   {
    "duration": 0,
    "start_time": "2022-06-29T23:34:50.679Z"
   },
   {
    "duration": 0,
    "start_time": "2022-06-29T23:34:50.679Z"
   },
   {
    "duration": 0,
    "start_time": "2022-06-29T23:34:50.680Z"
   },
   {
    "duration": 0,
    "start_time": "2022-06-29T23:34:50.681Z"
   },
   {
    "duration": 0,
    "start_time": "2022-06-29T23:34:50.682Z"
   },
   {
    "duration": 0,
    "start_time": "2022-06-29T23:34:50.684Z"
   },
   {
    "duration": 0,
    "start_time": "2022-06-29T23:34:50.684Z"
   },
   {
    "duration": 0,
    "start_time": "2022-06-29T23:34:50.685Z"
   },
   {
    "duration": 0,
    "start_time": "2022-06-29T23:34:50.687Z"
   },
   {
    "duration": 0,
    "start_time": "2022-06-29T23:34:50.688Z"
   },
   {
    "duration": 0,
    "start_time": "2022-06-29T23:34:50.689Z"
   },
   {
    "duration": 0,
    "start_time": "2022-06-29T23:34:50.690Z"
   },
   {
    "duration": 0,
    "start_time": "2022-06-29T23:34:50.691Z"
   },
   {
    "duration": 0,
    "start_time": "2022-06-29T23:34:50.692Z"
   },
   {
    "duration": 0,
    "start_time": "2022-06-29T23:34:50.693Z"
   },
   {
    "duration": 0,
    "start_time": "2022-06-29T23:34:50.727Z"
   },
   {
    "duration": 0,
    "start_time": "2022-06-29T23:34:50.728Z"
   },
   {
    "duration": 0,
    "start_time": "2022-06-29T23:34:50.729Z"
   },
   {
    "duration": 0,
    "start_time": "2022-06-29T23:34:50.730Z"
   },
   {
    "duration": 0,
    "start_time": "2022-06-29T23:34:50.731Z"
   },
   {
    "duration": 0,
    "start_time": "2022-06-29T23:34:50.732Z"
   },
   {
    "duration": 0,
    "start_time": "2022-06-29T23:34:50.733Z"
   },
   {
    "duration": 0,
    "start_time": "2022-06-29T23:34:50.734Z"
   },
   {
    "duration": 0,
    "start_time": "2022-06-29T23:34:50.735Z"
   },
   {
    "duration": 0,
    "start_time": "2022-06-29T23:34:50.736Z"
   },
   {
    "duration": 0,
    "start_time": "2022-06-29T23:34:50.737Z"
   },
   {
    "duration": 39,
    "start_time": "2022-06-29T23:35:10.318Z"
   },
   {
    "duration": 20,
    "start_time": "2022-06-29T23:35:13.267Z"
   },
   {
    "duration": 103,
    "start_time": "2022-06-29T23:35:13.717Z"
   },
   {
    "duration": 17,
    "start_time": "2022-06-29T23:35:14.453Z"
   },
   {
    "duration": 2098,
    "start_time": "2022-06-29T23:35:32.445Z"
   },
   {
    "duration": 2066,
    "start_time": "2022-06-29T23:35:34.546Z"
   },
   {
    "duration": 4,
    "start_time": "2022-06-29T23:35:36.614Z"
   },
   {
    "duration": 7,
    "start_time": "2022-06-29T23:35:36.620Z"
   },
   {
    "duration": 759,
    "start_time": "2022-06-29T23:35:36.629Z"
   },
   {
    "duration": 147,
    "start_time": "2022-06-29T23:35:37.389Z"
   },
   {
    "duration": 440,
    "start_time": "2022-06-29T23:35:37.538Z"
   },
   {
    "duration": 394,
    "start_time": "2022-06-29T23:35:37.979Z"
   },
   {
    "duration": 480,
    "start_time": "2022-06-29T23:35:38.375Z"
   },
   {
    "duration": 18,
    "start_time": "2022-06-29T23:35:38.858Z"
   },
   {
    "duration": 4,
    "start_time": "2022-06-29T23:35:38.877Z"
   },
   {
    "duration": 8,
    "start_time": "2022-06-29T23:35:38.883Z"
   },
   {
    "duration": 35,
    "start_time": "2022-06-29T23:35:38.893Z"
   },
   {
    "duration": 40,
    "start_time": "2022-06-29T23:35:38.930Z"
   },
   {
    "duration": 10,
    "start_time": "2022-06-29T23:35:38.972Z"
   },
   {
    "duration": 4,
    "start_time": "2022-06-29T23:35:38.984Z"
   },
   {
    "duration": 285,
    "start_time": "2022-06-29T23:35:38.990Z"
   },
   {
    "duration": 26,
    "start_time": "2022-06-29T23:35:39.277Z"
   },
   {
    "duration": 40,
    "start_time": "2022-06-29T23:35:39.305Z"
   },
   {
    "duration": 97,
    "start_time": "2022-06-29T23:35:39.347Z"
   },
   {
    "duration": 15,
    "start_time": "2022-06-29T23:35:39.446Z"
   },
   {
    "duration": 5,
    "start_time": "2022-06-29T23:35:39.462Z"
   },
   {
    "duration": 41,
    "start_time": "2022-06-29T23:35:39.468Z"
   },
   {
    "duration": 17,
    "start_time": "2022-06-29T23:35:39.526Z"
   },
   {
    "duration": 116,
    "start_time": "2022-06-29T23:35:39.544Z"
   },
   {
    "duration": 16,
    "start_time": "2022-06-29T23:35:39.661Z"
   },
   {
    "duration": 21,
    "start_time": "2022-06-29T23:35:39.679Z"
   },
   {
    "duration": 64,
    "start_time": "2022-06-29T23:35:39.703Z"
   },
   {
    "duration": 19,
    "start_time": "2022-06-29T23:35:39.769Z"
   },
   {
    "duration": 16,
    "start_time": "2022-06-29T23:35:39.789Z"
   },
   {
    "duration": 126,
    "start_time": "2022-06-29T23:35:39.807Z"
   },
   {
    "duration": 16,
    "start_time": "2022-06-29T23:35:39.935Z"
   },
   {
    "duration": 21,
    "start_time": "2022-06-29T23:35:39.952Z"
   },
   {
    "duration": 16,
    "start_time": "2022-06-29T23:35:39.975Z"
   },
   {
    "duration": 129,
    "start_time": "2022-06-29T23:35:39.993Z"
   },
   {
    "duration": 16,
    "start_time": "2022-06-29T23:35:40.126Z"
   },
   {
    "duration": 18,
    "start_time": "2022-06-29T23:35:40.144Z"
   },
   {
    "duration": 16,
    "start_time": "2022-06-29T23:35:40.163Z"
   },
   {
    "duration": 126,
    "start_time": "2022-06-29T23:35:40.180Z"
   },
   {
    "duration": 15,
    "start_time": "2022-06-29T23:35:40.308Z"
   },
   {
    "duration": 17,
    "start_time": "2022-06-29T23:35:40.327Z"
   },
   {
    "duration": 392,
    "start_time": "2022-06-29T23:35:40.345Z"
   },
   {
    "duration": 17,
    "start_time": "2022-06-29T23:35:40.738Z"
   },
   {
    "duration": 291,
    "start_time": "2022-06-29T23:35:40.757Z"
   },
   {
    "duration": 20,
    "start_time": "2022-06-29T23:35:41.050Z"
   },
   {
    "duration": 14,
    "start_time": "2022-06-29T23:35:41.072Z"
   },
   {
    "duration": 54,
    "start_time": "2022-06-29T23:35:41.087Z"
   },
   {
    "duration": 85,
    "start_time": "2022-06-29T23:35:41.143Z"
   },
   {
    "duration": 79,
    "start_time": "2022-06-29T23:35:41.230Z"
   },
   {
    "duration": 674,
    "start_time": "2022-06-29T23:35:41.311Z"
   },
   {
    "duration": 672,
    "start_time": "2022-06-29T23:35:41.987Z"
   },
   {
    "duration": 1173,
    "start_time": "2022-06-29T23:35:42.661Z"
   },
   {
    "duration": 49,
    "start_time": "2022-06-29T23:35:48.270Z"
   },
   {
    "duration": 504,
    "start_time": "2022-06-29T23:35:55.207Z"
   },
   {
    "duration": 16,
    "start_time": "2022-06-29T23:39:50.293Z"
   },
   {
    "duration": 48,
    "start_time": "2022-06-29T23:43:54.340Z"
   },
   {
    "duration": 4,
    "start_time": "2022-06-29T23:45:54.647Z"
   },
   {
    "duration": 46,
    "start_time": "2022-06-29T23:47:29.554Z"
   },
   {
    "duration": 862,
    "start_time": "2022-06-29T23:47:37.196Z"
   },
   {
    "duration": 39,
    "start_time": "2022-06-29T23:47:50.870Z"
   },
   {
    "duration": 55,
    "start_time": "2022-06-29T23:48:54.805Z"
   },
   {
    "duration": 44,
    "start_time": "2022-06-29T23:49:51.680Z"
   },
   {
    "duration": 60,
    "start_time": "2022-06-29T23:52:06.115Z"
   },
   {
    "duration": 92,
    "start_time": "2022-06-29T23:54:09.613Z"
   },
   {
    "duration": 2605,
    "start_time": "2022-06-29T23:55:50.024Z"
   },
   {
    "duration": 44,
    "start_time": "2022-06-29T23:57:32.547Z"
   },
   {
    "duration": 3,
    "start_time": "2022-06-30T00:19:20.647Z"
   },
   {
    "duration": 3,
    "start_time": "2022-06-30T00:19:21.558Z"
   },
   {
    "duration": 2,
    "start_time": "2022-06-30T00:19:22.230Z"
   },
   {
    "duration": 58,
    "start_time": "2022-06-30T00:19:25.030Z"
   },
   {
    "duration": 3,
    "start_time": "2022-06-30T00:21:29.778Z"
   },
   {
    "duration": 65,
    "start_time": "2022-06-30T00:21:35.043Z"
   },
   {
    "duration": 3,
    "start_time": "2022-06-30T00:28:40.753Z"
   },
   {
    "duration": 56,
    "start_time": "2022-06-30T00:28:43.025Z"
   },
   {
    "duration": 3,
    "start_time": "2022-06-30T00:28:49.696Z"
   },
   {
    "duration": 57,
    "start_time": "2022-06-30T00:28:56.033Z"
   },
   {
    "duration": 3,
    "start_time": "2022-06-30T00:29:35.130Z"
   },
   {
    "duration": 3,
    "start_time": "2022-06-30T00:29:36.794Z"
   },
   {
    "duration": 3,
    "start_time": "2022-06-30T00:29:39.890Z"
   },
   {
    "duration": 58,
    "start_time": "2022-06-30T00:29:43.795Z"
   },
   {
    "duration": 55,
    "start_time": "2022-06-30T00:29:51.924Z"
   },
   {
    "duration": 4,
    "start_time": "2022-06-30T00:30:44.413Z"
   },
   {
    "duration": 4,
    "start_time": "2022-06-30T00:30:46.355Z"
   },
   {
    "duration": 60,
    "start_time": "2022-06-30T00:30:48.805Z"
   },
   {
    "duration": 3,
    "start_time": "2022-06-30T00:33:33.489Z"
   },
   {
    "duration": 63,
    "start_time": "2022-06-30T00:33:37.329Z"
   },
   {
    "duration": 4,
    "start_time": "2022-06-30T00:40:30.455Z"
   },
   {
    "duration": 72,
    "start_time": "2022-06-30T00:41:24.836Z"
   },
   {
    "duration": 5,
    "start_time": "2022-06-30T00:41:51.729Z"
   },
   {
    "duration": 9,
    "start_time": "2022-06-30T00:41:59.969Z"
   },
   {
    "duration": 73,
    "start_time": "2022-06-30T00:42:02.970Z"
   },
   {
    "duration": 3,
    "start_time": "2022-06-30T00:46:01.184Z"
   },
   {
    "duration": 3,
    "start_time": "2022-06-30T00:47:44.467Z"
   },
   {
    "duration": 1210,
    "start_time": "2022-06-30T00:48:12.917Z"
   },
   {
    "duration": 11,
    "start_time": "2022-06-30T00:51:03.978Z"
   },
   {
    "duration": 54,
    "start_time": "2022-06-30T00:53:20.199Z"
   },
   {
    "duration": 84071,
    "start_time": "2022-06-30T00:54:09.663Z"
   },
   {
    "duration": 91694,
    "start_time": "2022-06-30T00:55:53.537Z"
   },
   {
    "duration": 11,
    "start_time": "2022-06-30T00:57:49.311Z"
   },
   {
    "duration": 4,
    "start_time": "2022-06-30T00:57:53.623Z"
   },
   {
    "duration": 85640,
    "start_time": "2022-06-30T00:58:03.660Z"
   },
   {
    "duration": 87213,
    "start_time": "2022-06-30T01:03:09.721Z"
   },
   {
    "duration": 4,
    "start_time": "2022-06-30T01:05:22.369Z"
   },
   {
    "duration": 123941,
    "start_time": "2022-06-30T01:29:38.688Z"
   },
   {
    "duration": 3,
    "start_time": "2022-06-30T01:32:23.288Z"
   },
   {
    "duration": 111523,
    "start_time": "2022-06-30T01:37:19.504Z"
   },
   {
    "duration": 902,
    "start_time": "2022-06-30T01:39:11.029Z"
   },
   {
    "duration": 2057,
    "start_time": "2022-06-30T01:39:33.453Z"
   },
   {
    "duration": 2100,
    "start_time": "2022-06-30T01:39:35.513Z"
   },
   {
    "duration": 5,
    "start_time": "2022-06-30T01:39:37.615Z"
   },
   {
    "duration": 18,
    "start_time": "2022-06-30T01:39:37.622Z"
   },
   {
    "duration": 720,
    "start_time": "2022-06-30T01:39:37.641Z"
   },
   {
    "duration": 134,
    "start_time": "2022-06-30T01:39:38.363Z"
   },
   {
    "duration": 449,
    "start_time": "2022-06-30T01:39:38.499Z"
   },
   {
    "duration": 380,
    "start_time": "2022-06-30T01:39:38.950Z"
   },
   {
    "duration": 470,
    "start_time": "2022-06-30T01:39:39.332Z"
   },
   {
    "duration": 23,
    "start_time": "2022-06-30T01:39:39.804Z"
   },
   {
    "duration": 4,
    "start_time": "2022-06-30T01:39:39.829Z"
   },
   {
    "duration": 11,
    "start_time": "2022-06-30T01:39:39.834Z"
   },
   {
    "duration": 13,
    "start_time": "2022-06-30T01:39:39.846Z"
   },
   {
    "duration": 35,
    "start_time": "2022-06-30T01:39:39.861Z"
   },
   {
    "duration": 36,
    "start_time": "2022-06-30T01:39:39.898Z"
   },
   {
    "duration": 4,
    "start_time": "2022-06-30T01:39:39.936Z"
   },
   {
    "duration": 377,
    "start_time": "2022-06-30T01:39:39.941Z"
   },
   {
    "duration": 29,
    "start_time": "2022-06-30T01:39:40.319Z"
   },
   {
    "duration": 21,
    "start_time": "2022-06-30T01:39:40.349Z"
   },
   {
    "duration": 101,
    "start_time": "2022-06-30T01:39:40.372Z"
   },
   {
    "duration": 15,
    "start_time": "2022-06-30T01:39:40.475Z"
   },
   {
    "duration": 4,
    "start_time": "2022-06-30T01:39:40.491Z"
   },
   {
    "duration": 54,
    "start_time": "2022-06-30T01:39:40.497Z"
   },
   {
    "duration": 15,
    "start_time": "2022-06-30T01:39:40.553Z"
   },
   {
    "duration": 109,
    "start_time": "2022-06-30T01:39:40.569Z"
   },
   {
    "duration": 14,
    "start_time": "2022-06-30T01:39:40.680Z"
   },
   {
    "duration": 31,
    "start_time": "2022-06-30T01:39:40.695Z"
   },
   {
    "duration": 44,
    "start_time": "2022-06-30T01:39:40.729Z"
   },
   {
    "duration": 18,
    "start_time": "2022-06-30T01:39:40.775Z"
   },
   {
    "duration": 33,
    "start_time": "2022-06-30T01:39:40.794Z"
   },
   {
    "duration": 110,
    "start_time": "2022-06-30T01:39:40.829Z"
   },
   {
    "duration": 15,
    "start_time": "2022-06-30T01:39:40.941Z"
   },
   {
    "duration": 22,
    "start_time": "2022-06-30T01:39:40.957Z"
   },
   {
    "duration": 15,
    "start_time": "2022-06-30T01:39:40.981Z"
   },
   {
    "duration": 127,
    "start_time": "2022-06-30T01:39:40.997Z"
   },
   {
    "duration": 15,
    "start_time": "2022-06-30T01:39:41.127Z"
   },
   {
    "duration": 24,
    "start_time": "2022-06-30T01:39:41.144Z"
   },
   {
    "duration": 15,
    "start_time": "2022-06-30T01:39:41.170Z"
   },
   {
    "duration": 124,
    "start_time": "2022-06-30T01:39:41.187Z"
   },
   {
    "duration": 16,
    "start_time": "2022-06-30T01:39:41.313Z"
   },
   {
    "duration": 18,
    "start_time": "2022-06-30T01:39:41.331Z"
   },
   {
    "duration": 410,
    "start_time": "2022-06-30T01:39:41.351Z"
   },
   {
    "duration": 16,
    "start_time": "2022-06-30T01:39:41.763Z"
   },
   {
    "duration": 283,
    "start_time": "2022-06-30T01:39:41.780Z"
   },
   {
    "duration": 20,
    "start_time": "2022-06-30T01:39:42.064Z"
   },
   {
    "duration": 14,
    "start_time": "2022-06-30T01:39:42.085Z"
   },
   {
    "duration": 50,
    "start_time": "2022-06-30T01:39:42.101Z"
   },
   {
    "duration": 84,
    "start_time": "2022-06-30T01:39:42.152Z"
   },
   {
    "duration": 70,
    "start_time": "2022-06-30T01:39:42.238Z"
   },
   {
    "duration": 617,
    "start_time": "2022-06-30T01:39:42.309Z"
   },
   {
    "duration": 598,
    "start_time": "2022-06-30T01:39:42.928Z"
   },
   {
    "duration": 958,
    "start_time": "2022-06-30T01:39:43.528Z"
   },
   {
    "duration": 52,
    "start_time": "2022-06-30T01:39:44.487Z"
   },
   {
    "duration": 500,
    "start_time": "2022-06-30T01:39:44.541Z"
   },
   {
    "duration": 92,
    "start_time": "2022-06-30T01:39:45.043Z"
   },
   {
    "duration": 2554,
    "start_time": "2022-06-30T01:39:45.137Z"
   },
   {
    "duration": 3,
    "start_time": "2022-06-30T01:39:47.693Z"
   },
   {
    "duration": 106634,
    "start_time": "2022-06-30T01:39:47.698Z"
   },
   {
    "duration": 108196,
    "start_time": "2022-06-30T01:41:34.335Z"
   },
   {
    "duration": 992,
    "start_time": "2022-06-30T01:43:22.535Z"
   },
   {
    "duration": 17,
    "start_time": "2022-06-30T01:44:25.831Z"
   },
   {
    "duration": 4,
    "start_time": "2022-06-30T01:45:18.816Z"
   },
   {
    "duration": 561580,
    "start_time": "2022-06-30T01:45:26.288Z"
   },
   {
    "duration": 0,
    "start_time": "2022-06-30T01:54:47.870Z"
   },
   {
    "duration": 1278120,
    "start_time": "2022-06-30T01:55:08.715Z"
   },
   {
    "duration": 11,
    "start_time": "2022-06-30T02:16:31.476Z"
   },
   {
    "duration": 3,
    "start_time": "2022-06-30T02:16:40.197Z"
   },
   {
    "duration": 11,
    "start_time": "2022-06-30T02:16:44.134Z"
   },
   {
    "duration": 10,
    "start_time": "2022-06-30T02:17:23.043Z"
   },
   {
    "duration": 54,
    "start_time": "2022-06-30T02:17:57.137Z"
   },
   {
    "duration": 65,
    "start_time": "2022-06-30T02:19:46.233Z"
   },
   {
    "duration": 3,
    "start_time": "2022-06-30T02:19:53.492Z"
   },
   {
    "duration": 57,
    "start_time": "2022-06-30T02:19:55.235Z"
   },
   {
    "duration": 101,
    "start_time": "2022-06-30T02:21:58.511Z"
   },
   {
    "duration": 9,
    "start_time": "2022-06-30T02:24:10.826Z"
   },
   {
    "duration": 1405,
    "start_time": "2022-06-30T02:24:16.354Z"
   },
   {
    "duration": 71,
    "start_time": "2022-06-30T02:24:25.604Z"
   },
   {
    "duration": 2005,
    "start_time": "2022-06-30T02:24:36.755Z"
   },
   {
    "duration": 1975,
    "start_time": "2022-06-30T02:24:38.762Z"
   },
   {
    "duration": 6,
    "start_time": "2022-06-30T02:24:40.739Z"
   },
   {
    "duration": 6,
    "start_time": "2022-06-30T02:24:40.747Z"
   },
   {
    "duration": 1042,
    "start_time": "2022-06-30T02:24:40.755Z"
   },
   {
    "duration": 148,
    "start_time": "2022-06-30T02:24:41.798Z"
   },
   {
    "duration": 494,
    "start_time": "2022-06-30T02:24:41.947Z"
   },
   {
    "duration": 454,
    "start_time": "2022-06-30T02:24:42.444Z"
   },
   {
    "duration": 574,
    "start_time": "2022-06-30T02:24:42.900Z"
   },
   {
    "duration": 23,
    "start_time": "2022-06-30T02:24:43.477Z"
   },
   {
    "duration": 14,
    "start_time": "2022-06-30T02:24:43.501Z"
   },
   {
    "duration": 15,
    "start_time": "2022-06-30T02:24:43.517Z"
   },
   {
    "duration": 18,
    "start_time": "2022-06-30T02:24:43.533Z"
   },
   {
    "duration": 77,
    "start_time": "2022-06-30T02:24:43.553Z"
   },
   {
    "duration": 9,
    "start_time": "2022-06-30T02:24:43.632Z"
   },
   {
    "duration": 3,
    "start_time": "2022-06-30T02:24:43.642Z"
   },
   {
    "duration": 285,
    "start_time": "2022-06-30T02:24:43.646Z"
   },
   {
    "duration": 25,
    "start_time": "2022-06-30T02:24:43.932Z"
   },
   {
    "duration": 23,
    "start_time": "2022-06-30T02:24:43.959Z"
   },
   {
    "duration": 109,
    "start_time": "2022-06-30T02:24:43.984Z"
   },
   {
    "duration": 16,
    "start_time": "2022-06-30T02:24:44.095Z"
   },
   {
    "duration": 16,
    "start_time": "2022-06-30T02:24:44.113Z"
   },
   {
    "duration": 57,
    "start_time": "2022-06-30T02:24:44.131Z"
   },
   {
    "duration": 16,
    "start_time": "2022-06-30T02:24:44.190Z"
   },
   {
    "duration": 121,
    "start_time": "2022-06-30T02:24:44.208Z"
   },
   {
    "duration": 16,
    "start_time": "2022-06-30T02:24:44.331Z"
   },
   {
    "duration": 19,
    "start_time": "2022-06-30T02:24:44.348Z"
   },
   {
    "duration": 54,
    "start_time": "2022-06-30T02:24:44.474Z"
   },
   {
    "duration": 20,
    "start_time": "2022-06-30T02:24:44.529Z"
   },
   {
    "duration": 16,
    "start_time": "2022-06-30T02:24:44.551Z"
   },
   {
    "duration": 132,
    "start_time": "2022-06-30T02:24:44.568Z"
   },
   {
    "duration": 16,
    "start_time": "2022-06-30T02:24:44.701Z"
   },
   {
    "duration": 18,
    "start_time": "2022-06-30T02:24:44.727Z"
   },
   {
    "duration": 16,
    "start_time": "2022-06-30T02:24:44.747Z"
   },
   {
    "duration": 131,
    "start_time": "2022-06-30T02:24:44.764Z"
   },
   {
    "duration": 16,
    "start_time": "2022-06-30T02:24:44.897Z"
   },
   {
    "duration": 29,
    "start_time": "2022-06-30T02:24:44.915Z"
   },
   {
    "duration": 17,
    "start_time": "2022-06-30T02:24:44.946Z"
   },
   {
    "duration": 121,
    "start_time": "2022-06-30T02:24:44.965Z"
   },
   {
    "duration": 16,
    "start_time": "2022-06-30T02:24:45.087Z"
   },
   {
    "duration": 28,
    "start_time": "2022-06-30T02:24:45.105Z"
   },
   {
    "duration": 400,
    "start_time": "2022-06-30T02:24:45.134Z"
   },
   {
    "duration": 17,
    "start_time": "2022-06-30T02:24:45.535Z"
   },
   {
    "duration": 285,
    "start_time": "2022-06-30T02:24:45.554Z"
   },
   {
    "duration": 18,
    "start_time": "2022-06-30T02:24:45.841Z"
   },
   {
    "duration": 15,
    "start_time": "2022-06-30T02:24:45.860Z"
   },
   {
    "duration": 71,
    "start_time": "2022-06-30T02:24:45.877Z"
   },
   {
    "duration": 84,
    "start_time": "2022-06-30T02:24:45.950Z"
   },
   {
    "duration": 72,
    "start_time": "2022-06-30T02:24:46.036Z"
   },
   {
    "duration": 736,
    "start_time": "2022-06-30T02:24:46.110Z"
   },
   {
    "duration": 619,
    "start_time": "2022-06-30T02:24:46.847Z"
   },
   {
    "duration": 1059,
    "start_time": "2022-06-30T02:24:47.468Z"
   },
   {
    "duration": 43,
    "start_time": "2022-06-30T02:24:48.529Z"
   },
   {
    "duration": 513,
    "start_time": "2022-06-30T02:24:48.573Z"
   },
   {
    "duration": 97,
    "start_time": "2022-06-30T02:24:49.087Z"
   },
   {
    "duration": 2605,
    "start_time": "2022-06-30T02:24:49.186Z"
   },
   {
    "duration": 4,
    "start_time": "2022-06-30T02:24:55.338Z"
   },
   {
    "duration": 39389,
    "start_time": "2022-06-30T02:25:01.179Z"
   },
   {
    "duration": 1689,
    "start_time": "2022-06-30T02:25:40.570Z"
   },
   {
    "duration": 156572,
    "start_time": "2022-06-30T02:25:42.260Z"
   },
   {
    "duration": 6553,
    "start_time": "2022-06-30T02:28:18.834Z"
   },
   {
    "duration": 39363,
    "start_time": "2022-06-30T02:28:25.389Z"
   },
   {
    "duration": 38481,
    "start_time": "2022-06-30T02:31:03.135Z"
   },
   {
    "duration": 1649,
    "start_time": "2022-06-30T02:31:41.618Z"
   },
   {
    "duration": 115613,
    "start_time": "2022-06-30T02:31:51.561Z"
   },
   {
    "duration": 0,
    "start_time": "2022-06-30T02:33:47.176Z"
   },
   {
    "duration": 39258,
    "start_time": "2022-06-30T02:33:49.781Z"
   },
   {
    "duration": 1733,
    "start_time": "2022-06-30T02:35:07.382Z"
   },
   {
    "duration": 156971,
    "start_time": "2022-06-30T02:35:14.234Z"
   },
   {
    "duration": 6629,
    "start_time": "2022-06-30T02:37:51.207Z"
   },
   {
    "duration": 2061,
    "start_time": "2022-06-30T02:59:32.493Z"
   },
   {
    "duration": 2088,
    "start_time": "2022-06-30T02:59:34.556Z"
   },
   {
    "duration": 5,
    "start_time": "2022-06-30T02:59:36.645Z"
   },
   {
    "duration": 9,
    "start_time": "2022-06-30T02:59:36.652Z"
   },
   {
    "duration": 772,
    "start_time": "2022-06-30T02:59:36.662Z"
   },
   {
    "duration": 142,
    "start_time": "2022-06-30T02:59:37.435Z"
   },
   {
    "duration": 434,
    "start_time": "2022-06-30T02:59:37.578Z"
   },
   {
    "duration": 379,
    "start_time": "2022-06-30T02:59:38.014Z"
   },
   {
    "duration": 472,
    "start_time": "2022-06-30T02:59:38.395Z"
   },
   {
    "duration": 20,
    "start_time": "2022-06-30T02:59:38.870Z"
   },
   {
    "duration": 5,
    "start_time": "2022-06-30T02:59:38.892Z"
   },
   {
    "duration": 10,
    "start_time": "2022-06-30T02:59:38.898Z"
   },
   {
    "duration": 14,
    "start_time": "2022-06-30T02:59:38.926Z"
   },
   {
    "duration": 39,
    "start_time": "2022-06-30T02:59:38.942Z"
   },
   {
    "duration": 10,
    "start_time": "2022-06-30T02:59:38.982Z"
   },
   {
    "duration": 4,
    "start_time": "2022-06-30T02:59:38.994Z"
   },
   {
    "duration": 385,
    "start_time": "2022-06-30T02:59:39.000Z"
   },
   {
    "duration": 24,
    "start_time": "2022-06-30T02:59:39.386Z"
   },
   {
    "duration": 31,
    "start_time": "2022-06-30T02:59:39.412Z"
   },
   {
    "duration": 109,
    "start_time": "2022-06-30T02:59:39.444Z"
   },
   {
    "duration": 16,
    "start_time": "2022-06-30T02:59:39.555Z"
   },
   {
    "duration": 5,
    "start_time": "2022-06-30T02:59:39.572Z"
   },
   {
    "duration": 54,
    "start_time": "2022-06-30T02:59:39.579Z"
   },
   {
    "duration": 16,
    "start_time": "2022-06-30T02:59:39.634Z"
   },
   {
    "duration": 110,
    "start_time": "2022-06-30T02:59:39.651Z"
   },
   {
    "duration": 14,
    "start_time": "2022-06-30T02:59:39.763Z"
   },
   {
    "duration": 19,
    "start_time": "2022-06-30T02:59:39.779Z"
   },
   {
    "duration": 60,
    "start_time": "2022-06-30T02:59:39.802Z"
   },
   {
    "duration": 20,
    "start_time": "2022-06-30T02:59:39.863Z"
   },
   {
    "duration": 15,
    "start_time": "2022-06-30T02:59:39.884Z"
   },
   {
    "duration": 133,
    "start_time": "2022-06-30T02:59:39.900Z"
   },
   {
    "duration": 16,
    "start_time": "2022-06-30T02:59:40.035Z"
   },
   {
    "duration": 20,
    "start_time": "2022-06-30T02:59:40.053Z"
   },
   {
    "duration": 15,
    "start_time": "2022-06-30T02:59:40.075Z"
   },
   {
    "duration": 129,
    "start_time": "2022-06-30T02:59:40.091Z"
   },
   {
    "duration": 17,
    "start_time": "2022-06-30T02:59:40.221Z"
   },
   {
    "duration": 20,
    "start_time": "2022-06-30T02:59:40.239Z"
   },
   {
    "duration": 15,
    "start_time": "2022-06-30T02:59:40.260Z"
   },
   {
    "duration": 125,
    "start_time": "2022-06-30T02:59:40.277Z"
   },
   {
    "duration": 24,
    "start_time": "2022-06-30T02:59:40.403Z"
   },
   {
    "duration": 17,
    "start_time": "2022-06-30T02:59:40.428Z"
   },
   {
    "duration": 404,
    "start_time": "2022-06-30T02:59:40.447Z"
   },
   {
    "duration": 17,
    "start_time": "2022-06-30T02:59:40.852Z"
   },
   {
    "duration": 285,
    "start_time": "2022-06-30T02:59:40.871Z"
   },
   {
    "duration": 17,
    "start_time": "2022-06-30T02:59:41.158Z"
   },
   {
    "duration": 21,
    "start_time": "2022-06-30T02:59:41.177Z"
   },
   {
    "duration": 48,
    "start_time": "2022-06-30T02:59:41.200Z"
   },
   {
    "duration": 86,
    "start_time": "2022-06-30T02:59:41.250Z"
   },
   {
    "duration": 70,
    "start_time": "2022-06-30T02:59:41.338Z"
   },
   {
    "duration": 694,
    "start_time": "2022-06-30T02:59:41.410Z"
   },
   {
    "duration": 602,
    "start_time": "2022-06-30T02:59:42.106Z"
   },
   {
    "duration": 1014,
    "start_time": "2022-06-30T02:59:42.709Z"
   },
   {
    "duration": 48,
    "start_time": "2022-06-30T02:59:43.725Z"
   },
   {
    "duration": 511,
    "start_time": "2022-06-30T02:59:43.774Z"
   },
   {
    "duration": 86,
    "start_time": "2022-06-30T02:59:44.287Z"
   },
   {
    "duration": 2097,
    "start_time": "2022-06-30T03:00:35.259Z"
   },
   {
    "duration": 2100,
    "start_time": "2022-06-30T03:00:37.359Z"
   },
   {
    "duration": 1436,
    "start_time": "2022-06-30T03:00:39.461Z"
   },
   {
    "duration": 2,
    "start_time": "2022-06-30T03:00:40.900Z"
   },
   {
    "duration": 1111,
    "start_time": "2022-06-30T03:00:40.904Z"
   },
   {
    "duration": 151,
    "start_time": "2022-06-30T03:00:42.017Z"
   },
   {
    "duration": 474,
    "start_time": "2022-06-30T03:00:42.170Z"
   },
   {
    "duration": 459,
    "start_time": "2022-06-30T03:00:42.645Z"
   },
   {
    "duration": 601,
    "start_time": "2022-06-30T03:00:43.105Z"
   },
   {
    "duration": 26,
    "start_time": "2022-06-30T03:00:43.708Z"
   },
   {
    "duration": 8,
    "start_time": "2022-06-30T03:00:43.736Z"
   },
   {
    "duration": 10,
    "start_time": "2022-06-30T03:00:43.745Z"
   },
   {
    "duration": 18,
    "start_time": "2022-06-30T03:00:43.757Z"
   },
   {
    "duration": 86,
    "start_time": "2022-06-30T03:00:43.776Z"
   },
   {
    "duration": 10,
    "start_time": "2022-06-30T03:00:43.864Z"
   },
   {
    "duration": 6,
    "start_time": "2022-06-30T03:00:43.875Z"
   },
   {
    "duration": 279,
    "start_time": "2022-06-30T03:00:43.882Z"
   },
   {
    "duration": 25,
    "start_time": "2022-06-30T03:00:44.163Z"
   },
   {
    "duration": 23,
    "start_time": "2022-06-30T03:00:44.190Z"
   },
   {
    "duration": 99,
    "start_time": "2022-06-30T03:00:44.228Z"
   },
   {
    "duration": 16,
    "start_time": "2022-06-30T03:00:44.329Z"
   },
   {
    "duration": 5,
    "start_time": "2022-06-30T03:00:44.347Z"
   },
   {
    "duration": 74,
    "start_time": "2022-06-30T03:00:44.353Z"
   },
   {
    "duration": 16,
    "start_time": "2022-06-30T03:00:44.429Z"
   },
   {
    "duration": 109,
    "start_time": "2022-06-30T03:00:44.446Z"
   },
   {
    "duration": 15,
    "start_time": "2022-06-30T03:00:44.557Z"
   },
   {
    "duration": 19,
    "start_time": "2022-06-30T03:00:44.574Z"
   },
   {
    "duration": 56,
    "start_time": "2022-06-30T03:00:44.680Z"
   },
   {
    "duration": 19,
    "start_time": "2022-06-30T03:00:44.738Z"
   },
   {
    "duration": 19,
    "start_time": "2022-06-30T03:00:44.758Z"
   },
   {
    "duration": 133,
    "start_time": "2022-06-30T03:00:44.778Z"
   },
   {
    "duration": 21,
    "start_time": "2022-06-30T03:00:44.912Z"
   },
   {
    "duration": 20,
    "start_time": "2022-06-30T03:00:44.935Z"
   },
   {
    "duration": 16,
    "start_time": "2022-06-30T03:00:44.956Z"
   },
   {
    "duration": 130,
    "start_time": "2022-06-30T03:00:44.973Z"
   },
   {
    "duration": 16,
    "start_time": "2022-06-30T03:00:45.105Z"
   },
   {
    "duration": 19,
    "start_time": "2022-06-30T03:00:45.127Z"
   },
   {
    "duration": 16,
    "start_time": "2022-06-30T03:00:45.147Z"
   },
   {
    "duration": 137,
    "start_time": "2022-06-30T03:00:45.164Z"
   },
   {
    "duration": 15,
    "start_time": "2022-06-30T03:00:45.303Z"
   },
   {
    "duration": 17,
    "start_time": "2022-06-30T03:00:45.327Z"
   },
   {
    "duration": 419,
    "start_time": "2022-06-30T03:00:45.346Z"
   },
   {
    "duration": 17,
    "start_time": "2022-06-30T03:00:45.766Z"
   },
   {
    "duration": 285,
    "start_time": "2022-06-30T03:00:45.784Z"
   },
   {
    "duration": 17,
    "start_time": "2022-06-30T03:00:46.070Z"
   },
   {
    "duration": 15,
    "start_time": "2022-06-30T03:00:46.089Z"
   },
   {
    "duration": 82,
    "start_time": "2022-06-30T03:00:46.106Z"
   },
   {
    "duration": 124,
    "start_time": "2022-06-30T03:00:46.191Z"
   },
   {
    "duration": 102,
    "start_time": "2022-06-30T03:00:46.317Z"
   },
   {
    "duration": 651,
    "start_time": "2022-06-30T03:00:46.428Z"
   },
   {
    "duration": 618,
    "start_time": "2022-06-30T03:00:47.080Z"
   },
   {
    "duration": 983,
    "start_time": "2022-06-30T03:00:47.700Z"
   },
   {
    "duration": 44,
    "start_time": "2022-06-30T03:00:48.684Z"
   },
   {
    "duration": 507,
    "start_time": "2022-06-30T03:00:48.729Z"
   },
   {
    "duration": 90,
    "start_time": "2022-06-30T03:00:49.238Z"
   },
   {
    "duration": 2603,
    "start_time": "2022-06-30T03:00:49.330Z"
   },
   {
    "duration": 4,
    "start_time": "2022-06-30T03:00:51.934Z"
   },
   {
    "duration": 89489,
    "start_time": "2022-06-30T03:00:51.939Z"
   },
   {
    "duration": 998,
    "start_time": "2022-06-30T03:02:21.431Z"
   },
   {
    "duration": 3808072,
    "start_time": "2022-06-30T03:02:22.431Z"
   },
   {
    "duration": 0,
    "start_time": "2022-06-30T04:05:50.506Z"
   },
   {
    "duration": 0,
    "start_time": "2022-06-30T04:05:50.508Z"
   },
   {
    "duration": 0,
    "start_time": "2022-06-30T04:05:50.510Z"
   },
   {
    "duration": 4,
    "start_time": "2022-06-30T04:15:09.682Z"
   },
   {
    "duration": 9,
    "start_time": "2022-06-30T04:21:24.504Z"
   },
   {
    "duration": 3,
    "start_time": "2022-06-30T04:21:30.497Z"
   },
   {
    "duration": 11,
    "start_time": "2022-06-30T04:21:31.710Z"
   },
   {
    "duration": 3,
    "start_time": "2022-06-30T04:21:42.249Z"
   },
   {
    "duration": 15,
    "start_time": "2022-06-30T04:23:20.420Z"
   },
   {
    "duration": 16,
    "start_time": "2022-06-30T04:24:51.191Z"
   },
   {
    "duration": 16,
    "start_time": "2022-06-30T04:24:59.254Z"
   },
   {
    "duration": 15,
    "start_time": "2022-06-30T04:25:29.344Z"
   },
   {
    "duration": 2072,
    "start_time": "2022-06-30T04:25:50.608Z"
   },
   {
    "duration": 2162,
    "start_time": "2022-06-30T04:25:52.682Z"
   },
   {
    "duration": 7,
    "start_time": "2022-06-30T04:25:54.846Z"
   },
   {
    "duration": 6,
    "start_time": "2022-06-30T04:25:54.855Z"
   },
   {
    "duration": 753,
    "start_time": "2022-06-30T04:25:54.863Z"
   },
   {
    "duration": 139,
    "start_time": "2022-06-30T04:25:55.618Z"
   },
   {
    "duration": 461,
    "start_time": "2022-06-30T04:25:55.759Z"
   },
   {
    "duration": 462,
    "start_time": "2022-06-30T04:25:56.222Z"
   },
   {
    "duration": 645,
    "start_time": "2022-06-30T04:25:56.685Z"
   },
   {
    "duration": 20,
    "start_time": "2022-06-30T04:25:57.333Z"
   },
   {
    "duration": 5,
    "start_time": "2022-06-30T04:25:57.355Z"
   },
   {
    "duration": 12,
    "start_time": "2022-06-30T04:25:57.361Z"
   },
   {
    "duration": 60,
    "start_time": "2022-06-30T04:25:57.374Z"
   },
   {
    "duration": 92,
    "start_time": "2022-06-30T04:25:57.436Z"
   },
   {
    "duration": 9,
    "start_time": "2022-06-30T04:25:57.530Z"
   },
   {
    "duration": 7,
    "start_time": "2022-06-30T04:25:57.540Z"
   },
   {
    "duration": 792,
    "start_time": "2022-06-30T04:25:57.549Z"
   },
   {
    "duration": 92,
    "start_time": "2022-06-30T04:25:58.344Z"
   },
   {
    "duration": 29,
    "start_time": "2022-06-30T04:25:58.438Z"
   },
   {
    "duration": 193,
    "start_time": "2022-06-30T04:25:58.468Z"
   },
   {
    "duration": 70,
    "start_time": "2022-06-30T04:25:58.663Z"
   },
   {
    "duration": 4,
    "start_time": "2022-06-30T04:25:58.734Z"
   },
   {
    "duration": 94,
    "start_time": "2022-06-30T04:25:58.740Z"
   },
   {
    "duration": 17,
    "start_time": "2022-06-30T04:25:58.835Z"
   },
   {
    "duration": 184,
    "start_time": "2022-06-30T04:25:58.854Z"
   },
   {
    "duration": 17,
    "start_time": "2022-06-30T04:25:59.040Z"
   },
   {
    "duration": 22,
    "start_time": "2022-06-30T04:25:59.058Z"
   },
   {
    "duration": 70,
    "start_time": "2022-06-30T04:25:59.085Z"
   },
   {
    "duration": 21,
    "start_time": "2022-06-30T04:25:59.157Z"
   },
   {
    "duration": 20,
    "start_time": "2022-06-30T04:25:59.180Z"
   },
   {
    "duration": 150,
    "start_time": "2022-06-30T04:25:59.203Z"
   },
   {
    "duration": 18,
    "start_time": "2022-06-30T04:25:59.355Z"
   },
   {
    "duration": 23,
    "start_time": "2022-06-30T04:25:59.375Z"
   },
   {
    "duration": 31,
    "start_time": "2022-06-30T04:25:59.399Z"
   },
   {
    "duration": 124,
    "start_time": "2022-06-30T04:25:59.432Z"
   },
   {
    "duration": 19,
    "start_time": "2022-06-30T04:25:59.558Z"
   },
   {
    "duration": 36,
    "start_time": "2022-06-30T04:25:59.579Z"
   },
   {
    "duration": 18,
    "start_time": "2022-06-30T04:25:59.628Z"
   },
   {
    "duration": 121,
    "start_time": "2022-06-30T04:25:59.647Z"
   },
   {
    "duration": 15,
    "start_time": "2022-06-30T04:25:59.770Z"
   },
   {
    "duration": 19,
    "start_time": "2022-06-30T04:25:59.787Z"
   },
   {
    "duration": 459,
    "start_time": "2022-06-30T04:25:59.807Z"
   },
   {
    "duration": 16,
    "start_time": "2022-06-30T04:26:00.268Z"
   },
   {
    "duration": 296,
    "start_time": "2022-06-30T04:26:00.286Z"
   },
   {
    "duration": 18,
    "start_time": "2022-06-30T04:26:00.583Z"
   },
   {
    "duration": 28,
    "start_time": "2022-06-30T04:26:00.603Z"
   },
   {
    "duration": 38,
    "start_time": "2022-06-30T04:26:00.633Z"
   },
   {
    "duration": 97,
    "start_time": "2022-06-30T04:26:00.673Z"
   },
   {
    "duration": 88,
    "start_time": "2022-06-30T04:26:00.772Z"
   },
   {
    "duration": 821,
    "start_time": "2022-06-30T04:26:00.862Z"
   },
   {
    "duration": 627,
    "start_time": "2022-06-30T04:26:01.685Z"
   },
   {
    "duration": 1052,
    "start_time": "2022-06-30T04:26:02.314Z"
   },
   {
    "duration": 63,
    "start_time": "2022-06-30T04:26:03.367Z"
   },
   {
    "duration": 536,
    "start_time": "2022-06-30T04:26:03.432Z"
   },
   {
    "duration": 98,
    "start_time": "2022-06-30T04:26:03.970Z"
   },
   {
    "duration": 2695,
    "start_time": "2022-06-30T04:26:04.070Z"
   },
   {
    "duration": 14,
    "start_time": "2022-06-30T04:26:14.162Z"
   },
   {
    "duration": 750860,
    "start_time": "2022-06-30T04:28:24.935Z"
   },
   {
    "duration": 35466,
    "start_time": "2022-06-30T04:40:55.796Z"
   },
   {
    "duration": 4,
    "start_time": "2022-06-30T04:41:31.264Z"
   },
   {
    "duration": 4,
    "start_time": "2022-06-30T04:43:04.711Z"
   },
   {
    "duration": 5350,
    "start_time": "2022-06-30T04:43:13.576Z"
   },
   {
    "duration": 17,
    "start_time": "2022-06-30T04:47:58.203Z"
   },
   {
    "duration": 4606,
    "start_time": "2022-06-30T04:48:29.179Z"
   },
   {
    "duration": 4513,
    "start_time": "2022-06-30T04:49:26.467Z"
   },
   {
    "duration": 2261,
    "start_time": "2022-06-30T04:50:13.405Z"
   },
   {
    "duration": 2341,
    "start_time": "2022-06-30T04:50:15.670Z"
   },
   {
    "duration": 6,
    "start_time": "2022-06-30T04:50:18.014Z"
   },
   {
    "duration": 20,
    "start_time": "2022-06-30T04:50:18.023Z"
   },
   {
    "duration": 782,
    "start_time": "2022-06-30T04:50:18.046Z"
   },
   {
    "duration": 142,
    "start_time": "2022-06-30T04:50:18.830Z"
   },
   {
    "duration": 499,
    "start_time": "2022-06-30T04:50:18.974Z"
   },
   {
    "duration": 433,
    "start_time": "2022-06-30T04:50:19.475Z"
   },
   {
    "duration": 556,
    "start_time": "2022-06-30T04:50:19.909Z"
   },
   {
    "duration": 19,
    "start_time": "2022-06-30T04:50:20.468Z"
   },
   {
    "duration": 5,
    "start_time": "2022-06-30T04:50:20.489Z"
   },
   {
    "duration": 31,
    "start_time": "2022-06-30T04:50:20.496Z"
   },
   {
    "duration": 14,
    "start_time": "2022-06-30T04:50:20.530Z"
   },
   {
    "duration": 38,
    "start_time": "2022-06-30T04:50:20.546Z"
   },
   {
    "duration": 9,
    "start_time": "2022-06-30T04:50:20.586Z"
   },
   {
    "duration": 32,
    "start_time": "2022-06-30T04:50:20.597Z"
   },
   {
    "duration": 340,
    "start_time": "2022-06-30T04:50:20.631Z"
   },
   {
    "duration": 29,
    "start_time": "2022-06-30T04:50:20.973Z"
   },
   {
    "duration": 46,
    "start_time": "2022-06-30T04:50:21.004Z"
   },
   {
    "duration": 144,
    "start_time": "2022-06-30T04:50:21.053Z"
   },
   {
    "duration": 31,
    "start_time": "2022-06-30T04:50:21.199Z"
   },
   {
    "duration": 5,
    "start_time": "2022-06-30T04:50:21.232Z"
   },
   {
    "duration": 54,
    "start_time": "2022-06-30T04:50:21.239Z"
   },
   {
    "duration": 41,
    "start_time": "2022-06-30T04:50:21.295Z"
   },
   {
    "duration": 141,
    "start_time": "2022-06-30T04:50:21.339Z"
   },
   {
    "duration": 21,
    "start_time": "2022-06-30T04:50:21.484Z"
   },
   {
    "duration": 43,
    "start_time": "2022-06-30T04:50:21.507Z"
   },
   {
    "duration": 84,
    "start_time": "2022-06-30T04:50:21.556Z"
   },
   {
    "duration": 34,
    "start_time": "2022-06-30T04:50:21.643Z"
   },
   {
    "duration": 17,
    "start_time": "2022-06-30T04:50:21.679Z"
   },
   {
    "duration": 267,
    "start_time": "2022-06-30T04:50:21.698Z"
   },
   {
    "duration": 18,
    "start_time": "2022-06-30T04:50:21.967Z"
   },
   {
    "duration": 43,
    "start_time": "2022-06-30T04:50:21.987Z"
   },
   {
    "duration": 25,
    "start_time": "2022-06-30T04:50:22.033Z"
   },
   {
    "duration": 127,
    "start_time": "2022-06-30T04:50:22.060Z"
   },
   {
    "duration": 16,
    "start_time": "2022-06-30T04:50:22.189Z"
   },
   {
    "duration": 33,
    "start_time": "2022-06-30T04:50:22.207Z"
   },
   {
    "duration": 17,
    "start_time": "2022-06-30T04:50:22.242Z"
   },
   {
    "duration": 122,
    "start_time": "2022-06-30T04:50:22.260Z"
   },
   {
    "duration": 16,
    "start_time": "2022-06-30T04:50:22.384Z"
   },
   {
    "duration": 31,
    "start_time": "2022-06-30T04:50:22.402Z"
   },
   {
    "duration": 437,
    "start_time": "2022-06-30T04:50:22.435Z"
   },
   {
    "duration": 17,
    "start_time": "2022-06-30T04:50:22.874Z"
   },
   {
    "duration": 291,
    "start_time": "2022-06-30T04:50:22.893Z"
   },
   {
    "duration": 18,
    "start_time": "2022-06-30T04:50:23.186Z"
   },
   {
    "duration": 32,
    "start_time": "2022-06-30T04:50:23.205Z"
   },
   {
    "duration": 46,
    "start_time": "2022-06-30T04:50:23.239Z"
   },
   {
    "duration": 110,
    "start_time": "2022-06-30T04:50:23.287Z"
   },
   {
    "duration": 88,
    "start_time": "2022-06-30T04:50:23.399Z"
   },
   {
    "duration": 807,
    "start_time": "2022-06-30T04:50:23.489Z"
   },
   {
    "duration": 641,
    "start_time": "2022-06-30T04:50:24.298Z"
   },
   {
    "duration": 1005,
    "start_time": "2022-06-30T04:50:24.941Z"
   },
   {
    "duration": 57,
    "start_time": "2022-06-30T04:50:25.948Z"
   },
   {
    "duration": 636,
    "start_time": "2022-06-30T04:50:26.007Z"
   },
   {
    "duration": 85,
    "start_time": "2022-06-30T04:50:26.644Z"
   },
   {
    "duration": 2792,
    "start_time": "2022-06-30T04:50:26.731Z"
   },
   {
    "duration": 4,
    "start_time": "2022-06-30T04:50:29.525Z"
   },
   {
    "duration": 131509,
    "start_time": "2022-06-30T04:50:33.027Z"
   },
   {
    "duration": 4476,
    "start_time": "2022-06-30T04:52:44.629Z"
   },
   {
    "duration": 1497,
    "start_time": "2022-06-30T04:58:54.664Z"
   },
   {
    "duration": 2084,
    "start_time": "2022-06-30T05:06:20.944Z"
   },
   {
    "duration": 2150,
    "start_time": "2022-06-30T05:10:06.092Z"
   },
   {
    "duration": 2153,
    "start_time": "2022-06-30T05:10:46.358Z"
   },
   {
    "duration": 10455,
    "start_time": "2022-06-30T05:13:15.970Z"
   },
   {
    "duration": 11552,
    "start_time": "2022-06-30T05:14:54.286Z"
   },
   {
    "duration": 18213,
    "start_time": "2022-06-30T05:16:18.119Z"
   },
   {
    "duration": 4,
    "start_time": "2022-06-30T05:19:22.638Z"
   },
   {
    "duration": 3,
    "start_time": "2022-06-30T05:21:57.217Z"
   },
   {
    "duration": 14920,
    "start_time": "2022-06-30T05:24:22.608Z"
   },
   {
    "duration": 799,
    "start_time": "2022-06-30T05:24:50.441Z"
   },
   {
    "duration": 2303,
    "start_time": "2022-06-30T05:47:48.066Z"
   },
   {
    "duration": 2229,
    "start_time": "2022-06-30T05:47:50.371Z"
   },
   {
    "duration": 1615,
    "start_time": "2022-06-30T05:47:52.602Z"
   },
   {
    "duration": 4,
    "start_time": "2022-06-30T05:47:54.219Z"
   },
   {
    "duration": 1433,
    "start_time": "2022-06-30T05:47:54.224Z"
   },
   {
    "duration": 172,
    "start_time": "2022-06-30T05:47:55.659Z"
   },
   {
    "duration": 600,
    "start_time": "2022-06-30T05:47:55.834Z"
   },
   {
    "duration": 555,
    "start_time": "2022-06-30T05:47:56.435Z"
   },
   {
    "duration": 671,
    "start_time": "2022-06-30T05:47:56.992Z"
   },
   {
    "duration": 23,
    "start_time": "2022-06-30T05:47:57.666Z"
   },
   {
    "duration": 8,
    "start_time": "2022-06-30T05:47:57.690Z"
   },
   {
    "duration": 8,
    "start_time": "2022-06-30T05:47:57.700Z"
   },
   {
    "duration": 39,
    "start_time": "2022-06-30T05:47:57.709Z"
   },
   {
    "duration": 69,
    "start_time": "2022-06-30T05:47:57.750Z"
   },
   {
    "duration": 14,
    "start_time": "2022-06-30T05:47:57.821Z"
   },
   {
    "duration": 24,
    "start_time": "2022-06-30T05:47:57.837Z"
   },
   {
    "duration": 299,
    "start_time": "2022-06-30T05:47:57.862Z"
   },
   {
    "duration": 25,
    "start_time": "2022-06-30T05:47:58.163Z"
   },
   {
    "duration": 23,
    "start_time": "2022-06-30T05:47:58.189Z"
   },
   {
    "duration": 120,
    "start_time": "2022-06-30T05:47:58.213Z"
   },
   {
    "duration": 22,
    "start_time": "2022-06-30T05:47:58.335Z"
   },
   {
    "duration": 8,
    "start_time": "2022-06-30T05:47:58.359Z"
   },
   {
    "duration": 63,
    "start_time": "2022-06-30T05:47:58.368Z"
   },
   {
    "duration": 31,
    "start_time": "2022-06-30T05:47:58.432Z"
   },
   {
    "duration": 125,
    "start_time": "2022-06-30T05:47:58.465Z"
   },
   {
    "duration": 16,
    "start_time": "2022-06-30T05:47:58.592Z"
   },
   {
    "duration": 34,
    "start_time": "2022-06-30T05:47:58.609Z"
   },
   {
    "duration": 59,
    "start_time": "2022-06-30T05:47:58.728Z"
   },
   {
    "duration": 20,
    "start_time": "2022-06-30T05:47:58.789Z"
   },
   {
    "duration": 37,
    "start_time": "2022-06-30T05:47:58.810Z"
   },
   {
    "duration": 155,
    "start_time": "2022-06-30T05:47:58.849Z"
   },
   {
    "duration": 22,
    "start_time": "2022-06-30T05:47:59.006Z"
   },
   {
    "duration": 47,
    "start_time": "2022-06-30T05:47:59.030Z"
   },
   {
    "duration": 20,
    "start_time": "2022-06-30T05:47:59.079Z"
   },
   {
    "duration": 140,
    "start_time": "2022-06-30T05:47:59.100Z"
   },
   {
    "duration": 32,
    "start_time": "2022-06-30T05:47:59.241Z"
   },
   {
    "duration": 21,
    "start_time": "2022-06-30T05:47:59.275Z"
   },
   {
    "duration": 16,
    "start_time": "2022-06-30T05:47:59.297Z"
   },
   {
    "duration": 154,
    "start_time": "2022-06-30T05:47:59.314Z"
   },
   {
    "duration": 14,
    "start_time": "2022-06-30T05:47:59.470Z"
   },
   {
    "duration": 19,
    "start_time": "2022-06-30T05:47:59.486Z"
   },
   {
    "duration": 460,
    "start_time": "2022-06-30T05:47:59.506Z"
   },
   {
    "duration": 16,
    "start_time": "2022-06-30T05:47:59.968Z"
   },
   {
    "duration": 320,
    "start_time": "2022-06-30T05:47:59.985Z"
   },
   {
    "duration": 35,
    "start_time": "2022-06-30T05:48:00.307Z"
   },
   {
    "duration": 18,
    "start_time": "2022-06-30T05:48:00.345Z"
   },
   {
    "duration": 78,
    "start_time": "2022-06-30T05:48:00.364Z"
   },
   {
    "duration": 81,
    "start_time": "2022-06-30T05:48:00.448Z"
   },
   {
    "duration": 132,
    "start_time": "2022-06-30T05:48:00.535Z"
   },
   {
    "duration": 723,
    "start_time": "2022-06-30T05:48:00.668Z"
   },
   {
    "duration": 672,
    "start_time": "2022-06-30T05:48:01.392Z"
   },
   {
    "duration": 1022,
    "start_time": "2022-06-30T05:48:02.065Z"
   },
   {
    "duration": 46,
    "start_time": "2022-06-30T05:48:03.088Z"
   },
   {
    "duration": 525,
    "start_time": "2022-06-30T05:48:03.139Z"
   },
   {
    "duration": 101,
    "start_time": "2022-06-30T05:48:03.666Z"
   },
   {
    "duration": 2607,
    "start_time": "2022-06-30T05:48:03.769Z"
   },
   {
    "duration": 4,
    "start_time": "2022-06-30T05:48:08.915Z"
   },
   {
    "duration": 1544157,
    "start_time": "2022-06-30T05:48:18.139Z"
   },
   {
    "duration": 52,
    "start_time": "2022-06-30T06:14:32.968Z"
   },
   {
    "duration": 4878,
    "start_time": "2022-06-30T06:14:47.812Z"
   },
   {
    "duration": 2697,
    "start_time": "2022-06-30T06:14:52.693Z"
   },
   {
    "duration": 2071,
    "start_time": "2022-06-30T06:14:55.393Z"
   },
   {
    "duration": 5,
    "start_time": "2022-06-30T06:14:57.467Z"
   },
   {
    "duration": 1809,
    "start_time": "2022-06-30T06:14:57.474Z"
   },
   {
    "duration": 209,
    "start_time": "2022-06-30T06:14:59.285Z"
   },
   {
    "duration": 672,
    "start_time": "2022-06-30T06:14:59.495Z"
   },
   {
    "duration": 650,
    "start_time": "2022-06-30T06:15:00.169Z"
   },
   {
    "duration": 927,
    "start_time": "2022-06-30T06:15:00.821Z"
   },
   {
    "duration": 45,
    "start_time": "2022-06-30T06:15:01.751Z"
   },
   {
    "duration": 43,
    "start_time": "2022-06-30T06:15:01.799Z"
   },
   {
    "duration": 47,
    "start_time": "2022-06-30T06:15:01.844Z"
   },
   {
    "duration": 41,
    "start_time": "2022-06-30T06:15:01.893Z"
   },
   {
    "duration": 171,
    "start_time": "2022-06-30T06:15:01.936Z"
   },
   {
    "duration": 13,
    "start_time": "2022-06-30T06:15:02.109Z"
   },
   {
    "duration": 58,
    "start_time": "2022-06-30T06:15:02.124Z"
   },
   {
    "duration": 402,
    "start_time": "2022-06-30T06:15:02.184Z"
   },
   {
    "duration": 28,
    "start_time": "2022-06-30T06:15:02.588Z"
   },
   {
    "duration": 47,
    "start_time": "2022-06-30T06:15:02.635Z"
   },
   {
    "duration": 159,
    "start_time": "2022-06-30T06:15:02.684Z"
   },
   {
    "duration": 33,
    "start_time": "2022-06-30T06:15:02.844Z"
   },
   {
    "duration": 15,
    "start_time": "2022-06-30T06:15:02.878Z"
   },
   {
    "duration": 82,
    "start_time": "2022-06-30T06:15:02.895Z"
   },
   {
    "duration": 17,
    "start_time": "2022-06-30T06:15:02.979Z"
   },
   {
    "duration": 147,
    "start_time": "2022-06-30T06:15:02.997Z"
   },
   {
    "duration": 30,
    "start_time": "2022-06-30T06:15:03.146Z"
   },
   {
    "duration": 33,
    "start_time": "2022-06-30T06:15:03.177Z"
   },
   {
    "duration": 63,
    "start_time": "2022-06-30T06:15:03.348Z"
   },
   {
    "duration": 41,
    "start_time": "2022-06-30T06:15:03.414Z"
   },
   {
    "duration": 38,
    "start_time": "2022-06-30T06:15:03.458Z"
   },
   {
    "duration": 215,
    "start_time": "2022-06-30T06:15:03.498Z"
   },
   {
    "duration": 21,
    "start_time": "2022-06-30T06:15:03.715Z"
   },
   {
    "duration": 59,
    "start_time": "2022-06-30T06:15:03.739Z"
   },
   {
    "duration": 30,
    "start_time": "2022-06-30T06:15:03.801Z"
   },
   {
    "duration": 226,
    "start_time": "2022-06-30T06:15:03.833Z"
   },
   {
    "duration": 23,
    "start_time": "2022-06-30T06:15:04.066Z"
   },
   {
    "duration": 21,
    "start_time": "2022-06-30T06:15:04.091Z"
   },
   {
    "duration": 54,
    "start_time": "2022-06-30T06:15:04.114Z"
   },
   {
    "duration": 150,
    "start_time": "2022-06-30T06:15:04.170Z"
   },
   {
    "duration": 35,
    "start_time": "2022-06-30T06:15:04.322Z"
   },
   {
    "duration": 40,
    "start_time": "2022-06-30T06:15:04.359Z"
   },
   {
    "duration": 613,
    "start_time": "2022-06-30T06:15:04.401Z"
   },
   {
    "duration": 25,
    "start_time": "2022-06-30T06:15:05.016Z"
   },
   {
    "duration": 414,
    "start_time": "2022-06-30T06:15:05.044Z"
   },
   {
    "duration": 29,
    "start_time": "2022-06-30T06:15:05.460Z"
   },
   {
    "duration": 16,
    "start_time": "2022-06-30T06:15:05.491Z"
   },
   {
    "duration": 70,
    "start_time": "2022-06-30T06:15:05.508Z"
   },
   {
    "duration": 160,
    "start_time": "2022-06-30T06:15:05.580Z"
   },
   {
    "duration": 133,
    "start_time": "2022-06-30T06:15:05.743Z"
   },
   {
    "duration": 1036,
    "start_time": "2022-06-30T06:15:05.878Z"
   },
   {
    "duration": 929,
    "start_time": "2022-06-30T06:15:06.917Z"
   },
   {
    "duration": 1231,
    "start_time": "2022-06-30T06:15:07.848Z"
   },
   {
    "duration": 61,
    "start_time": "2022-06-30T06:15:09.081Z"
   },
   {
    "duration": 603,
    "start_time": "2022-06-30T06:15:09.144Z"
   },
   {
    "duration": 132,
    "start_time": "2022-06-30T06:15:09.749Z"
   },
   {
    "duration": 2941,
    "start_time": "2022-06-30T06:15:09.883Z"
   },
   {
    "duration": 174,
    "start_time": "2022-06-30T06:15:22.492Z"
   },
   {
    "duration": 5,
    "start_time": "2022-06-30T06:15:28.625Z"
   },
   {
    "duration": 0,
    "start_time": "2022-06-30T06:37:14.943Z"
   },
   {
    "duration": 6,
    "start_time": "2022-06-30T06:37:21.902Z"
   },
   {
    "duration": 4,
    "start_time": "2022-06-30T06:37:25.361Z"
   },
   {
    "duration": 1301,
    "start_time": "2022-06-30T06:37:26.723Z"
   },
   {
    "duration": 276,
    "start_time": "2022-06-30T06:37:28.026Z"
   },
   {
    "duration": 874,
    "start_time": "2022-06-30T06:37:37.444Z"
   },
   {
    "duration": 3019,
    "start_time": "2022-06-30T06:44:54.653Z"
   },
   {
    "duration": 2837,
    "start_time": "2022-06-30T06:44:57.677Z"
   },
   {
    "duration": 5,
    "start_time": "2022-06-30T06:45:00.516Z"
   },
   {
    "duration": 87,
    "start_time": "2022-06-30T06:45:00.523Z"
   },
   {
    "duration": 1185,
    "start_time": "2022-06-30T06:45:00.612Z"
   },
   {
    "duration": 220,
    "start_time": "2022-06-30T06:45:01.799Z"
   },
   {
    "duration": 682,
    "start_time": "2022-06-30T06:45:02.020Z"
   },
   {
    "duration": 655,
    "start_time": "2022-06-30T06:45:02.705Z"
   },
   {
    "duration": 700,
    "start_time": "2022-06-30T06:45:03.368Z"
   },
   {
    "duration": 22,
    "start_time": "2022-06-30T06:45:04.071Z"
   },
   {
    "duration": 5,
    "start_time": "2022-06-30T06:45:04.095Z"
   },
   {
    "duration": 24,
    "start_time": "2022-06-30T06:45:04.102Z"
   },
   {
    "duration": 54,
    "start_time": "2022-06-30T06:45:04.128Z"
   },
   {
    "duration": 48,
    "start_time": "2022-06-30T06:45:04.186Z"
   },
   {
    "duration": 16,
    "start_time": "2022-06-30T06:45:04.237Z"
   },
   {
    "duration": 29,
    "start_time": "2022-06-30T06:45:04.255Z"
   },
   {
    "duration": 409,
    "start_time": "2022-06-30T06:45:04.286Z"
   },
   {
    "duration": 27,
    "start_time": "2022-06-30T06:45:04.697Z"
   },
   {
    "duration": 52,
    "start_time": "2022-06-30T06:45:04.726Z"
   },
   {
    "duration": 167,
    "start_time": "2022-06-30T06:45:04.779Z"
   },
   {
    "duration": 28,
    "start_time": "2022-06-30T06:45:04.948Z"
   },
   {
    "duration": 9,
    "start_time": "2022-06-30T06:45:04.979Z"
   },
   {
    "duration": 63,
    "start_time": "2022-06-30T06:45:04.990Z"
   },
   {
    "duration": 28,
    "start_time": "2022-06-30T06:45:05.056Z"
   },
   {
    "duration": 193,
    "start_time": "2022-06-30T06:45:05.086Z"
   },
   {
    "duration": 19,
    "start_time": "2022-06-30T06:45:05.281Z"
   },
   {
    "duration": 32,
    "start_time": "2022-06-30T06:45:05.302Z"
   },
   {
    "duration": 100,
    "start_time": "2022-06-30T06:45:05.337Z"
   },
   {
    "duration": 40,
    "start_time": "2022-06-30T06:45:05.439Z"
   },
   {
    "duration": 28,
    "start_time": "2022-06-30T06:45:05.482Z"
   },
   {
    "duration": 186,
    "start_time": "2022-06-30T06:45:05.512Z"
   },
   {
    "duration": 17,
    "start_time": "2022-06-30T06:45:05.700Z"
   },
   {
    "duration": 38,
    "start_time": "2022-06-30T06:45:05.749Z"
   },
   {
    "duration": 18,
    "start_time": "2022-06-30T06:45:05.789Z"
   },
   {
    "duration": 196,
    "start_time": "2022-06-30T06:45:05.809Z"
   },
   {
    "duration": 21,
    "start_time": "2022-06-30T06:45:06.007Z"
   },
   {
    "duration": 63,
    "start_time": "2022-06-30T06:45:06.029Z"
   },
   {
    "duration": 17,
    "start_time": "2022-06-30T06:45:06.095Z"
   },
   {
    "duration": 194,
    "start_time": "2022-06-30T06:45:06.114Z"
   },
   {
    "duration": 35,
    "start_time": "2022-06-30T06:45:06.311Z"
   },
   {
    "duration": 53,
    "start_time": "2022-06-30T06:45:06.356Z"
   },
   {
    "duration": 712,
    "start_time": "2022-06-30T06:45:06.412Z"
   },
   {
    "duration": 27,
    "start_time": "2022-06-30T06:45:07.126Z"
   },
   {
    "duration": 589,
    "start_time": "2022-06-30T06:45:07.155Z"
   },
   {
    "duration": 38,
    "start_time": "2022-06-30T06:45:07.747Z"
   },
   {
    "duration": 23,
    "start_time": "2022-06-30T06:45:07.787Z"
   },
   {
    "duration": 72,
    "start_time": "2022-06-30T06:45:07.812Z"
   },
   {
    "duration": 133,
    "start_time": "2022-06-30T06:45:07.887Z"
   },
   {
    "duration": 120,
    "start_time": "2022-06-30T06:45:08.022Z"
   },
   {
    "duration": 1064,
    "start_time": "2022-06-30T06:45:08.144Z"
   },
   {
    "duration": 1115,
    "start_time": "2022-06-30T06:45:09.210Z"
   },
   {
    "duration": 1290,
    "start_time": "2022-06-30T06:45:10.331Z"
   },
   {
    "duration": 75,
    "start_time": "2022-06-30T06:45:11.623Z"
   },
   {
    "duration": 625,
    "start_time": "2022-06-30T06:45:11.700Z"
   },
   {
    "duration": 113,
    "start_time": "2022-06-30T06:45:12.330Z"
   },
   {
    "duration": 5478,
    "start_time": "2022-06-30T06:46:55.347Z"
   },
   {
    "duration": 4354,
    "start_time": "2022-06-30T06:47:00.828Z"
   },
   {
    "duration": 2363,
    "start_time": "2022-06-30T06:47:05.184Z"
   },
   {
    "duration": 12,
    "start_time": "2022-06-30T06:47:07.549Z"
   },
   {
    "duration": 2341,
    "start_time": "2022-06-30T06:47:07.564Z"
   },
   {
    "duration": 330,
    "start_time": "2022-06-30T06:47:09.908Z"
   },
   {
    "duration": 842,
    "start_time": "2022-06-30T06:47:10.247Z"
   },
   {
    "duration": 772,
    "start_time": "2022-06-30T06:47:11.095Z"
   },
   {
    "duration": 845,
    "start_time": "2022-06-30T06:47:11.878Z"
   },
   {
    "duration": 47,
    "start_time": "2022-06-30T06:47:12.725Z"
   },
   {
    "duration": 14,
    "start_time": "2022-06-30T06:47:12.774Z"
   },
   {
    "duration": 10,
    "start_time": "2022-06-30T06:47:12.792Z"
   },
   {
    "duration": 58,
    "start_time": "2022-06-30T06:47:12.804Z"
   },
   {
    "duration": 116,
    "start_time": "2022-06-30T06:47:12.865Z"
   },
   {
    "duration": 11,
    "start_time": "2022-06-30T06:47:12.983Z"
   },
   {
    "duration": 6,
    "start_time": "2022-06-30T06:47:12.996Z"
   },
   {
    "duration": 449,
    "start_time": "2022-06-30T06:47:13.005Z"
   },
   {
    "duration": 36,
    "start_time": "2022-06-30T06:47:13.456Z"
   },
   {
    "duration": 50,
    "start_time": "2022-06-30T06:47:13.494Z"
   },
   {
    "duration": 145,
    "start_time": "2022-06-30T06:47:13.547Z"
   },
   {
    "duration": 18,
    "start_time": "2022-06-30T06:47:13.694Z"
   },
   {
    "duration": 6,
    "start_time": "2022-06-30T06:47:13.713Z"
   },
   {
    "duration": 100,
    "start_time": "2022-06-30T06:47:13.720Z"
   },
   {
    "duration": 34,
    "start_time": "2022-06-30T06:47:13.822Z"
   },
   {
    "duration": 169,
    "start_time": "2022-06-30T06:47:13.871Z"
   },
   {
    "duration": 35,
    "start_time": "2022-06-30T06:47:14.041Z"
   },
   {
    "duration": 26,
    "start_time": "2022-06-30T06:47:14.078Z"
   },
   {
    "duration": 208,
    "start_time": "2022-06-30T06:47:14.106Z"
   },
   {
    "duration": 34,
    "start_time": "2022-06-30T06:47:14.317Z"
   },
   {
    "duration": 38,
    "start_time": "2022-06-30T06:47:14.353Z"
   },
   {
    "duration": 165,
    "start_time": "2022-06-30T06:47:14.392Z"
   },
   {
    "duration": 20,
    "start_time": "2022-06-30T06:47:14.567Z"
   },
   {
    "duration": 32,
    "start_time": "2022-06-30T06:47:14.589Z"
   },
   {
    "duration": 74,
    "start_time": "2022-06-30T06:47:14.623Z"
   },
   {
    "duration": 214,
    "start_time": "2022-06-30T06:47:14.699Z"
   },
   {
    "duration": 26,
    "start_time": "2022-06-30T06:47:14.915Z"
   },
   {
    "duration": 61,
    "start_time": "2022-06-30T06:47:14.943Z"
   },
   {
    "duration": 74,
    "start_time": "2022-06-30T06:47:15.006Z"
   },
   {
    "duration": 198,
    "start_time": "2022-06-30T06:47:15.082Z"
   },
   {
    "duration": 24,
    "start_time": "2022-06-30T06:47:15.287Z"
   },
   {
    "duration": 98,
    "start_time": "2022-06-30T06:47:15.316Z"
   },
   {
    "duration": 639,
    "start_time": "2022-06-30T06:47:15.416Z"
   },
   {
    "duration": 27,
    "start_time": "2022-06-30T06:47:16.058Z"
   },
   {
    "duration": 511,
    "start_time": "2022-06-30T06:47:16.088Z"
   },
   {
    "duration": 21,
    "start_time": "2022-06-30T06:47:16.602Z"
   },
   {
    "duration": 67,
    "start_time": "2022-06-30T06:47:16.626Z"
   },
   {
    "duration": 110,
    "start_time": "2022-06-30T06:47:16.695Z"
   },
   {
    "duration": 162,
    "start_time": "2022-06-30T06:47:16.808Z"
   },
   {
    "duration": 166,
    "start_time": "2022-06-30T06:47:16.974Z"
   },
   {
    "duration": 1004,
    "start_time": "2022-06-30T06:47:17.142Z"
   },
   {
    "duration": 858,
    "start_time": "2022-06-30T06:47:18.148Z"
   },
   {
    "duration": 1373,
    "start_time": "2022-06-30T06:47:19.008Z"
   },
   {
    "duration": 52,
    "start_time": "2022-06-30T06:47:20.383Z"
   },
   {
    "duration": 613,
    "start_time": "2022-06-30T06:47:20.438Z"
   },
   {
    "duration": 115,
    "start_time": "2022-06-30T06:47:21.054Z"
   },
   {
    "duration": 2994,
    "start_time": "2022-06-30T06:47:21.175Z"
   },
   {
    "duration": 4,
    "start_time": "2022-06-30T06:56:54.941Z"
   },
   {
    "duration": 48274,
    "start_time": "2022-06-30T06:57:10.168Z"
   },
   {
    "duration": 49386,
    "start_time": "2022-06-30T06:57:58.452Z"
   },
   {
    "duration": 201362,
    "start_time": "2022-06-30T06:59:06.452Z"
   },
   {
    "duration": 14,
    "start_time": "2022-06-30T07:09:11.785Z"
   },
   {
    "duration": 109,
    "start_time": "2022-06-30T07:18:17.693Z"
   },
   {
    "duration": 999,
    "start_time": "2022-06-30T07:18:27.629Z"
   },
   {
    "duration": 16,
    "start_time": "2022-06-30T07:18:34.662Z"
   },
   {
    "duration": 1005,
    "start_time": "2022-06-30T07:18:56.046Z"
   },
   {
    "duration": 63,
    "start_time": "2022-06-30T07:19:19.279Z"
   },
   {
    "duration": 100239,
    "start_time": "2022-06-30T07:30:21.865Z"
   },
   {
    "duration": 118450,
    "start_time": "2022-06-30T07:32:16.671Z"
   },
   {
    "duration": 115,
    "start_time": "2022-06-30T07:38:05.054Z"
   },
   {
    "duration": 2,
    "start_time": "2022-06-30T07:38:21.999Z"
   },
   {
    "duration": 13,
    "start_time": "2022-06-30T07:38:22.003Z"
   },
   {
    "duration": 1646,
    "start_time": "2022-06-30T07:38:22.018Z"
   },
   {
    "duration": 3,
    "start_time": "2022-06-30T07:38:23.666Z"
   },
   {
    "duration": 1332,
    "start_time": "2022-06-30T07:38:23.671Z"
   },
   {
    "duration": 174,
    "start_time": "2022-06-30T07:38:25.005Z"
   },
   {
    "duration": 579,
    "start_time": "2022-06-30T07:38:25.181Z"
   },
   {
    "duration": 562,
    "start_time": "2022-06-30T07:38:25.761Z"
   },
   {
    "duration": 748,
    "start_time": "2022-06-30T07:38:26.327Z"
   },
   {
    "duration": 24,
    "start_time": "2022-06-30T07:38:27.077Z"
   },
   {
    "duration": 8,
    "start_time": "2022-06-30T07:38:27.103Z"
   },
   {
    "duration": 16,
    "start_time": "2022-06-30T07:38:27.112Z"
   },
   {
    "duration": 23,
    "start_time": "2022-06-30T07:38:27.131Z"
   },
   {
    "duration": 94,
    "start_time": "2022-06-30T07:38:27.156Z"
   },
   {
    "duration": 11,
    "start_time": "2022-06-30T07:38:27.251Z"
   },
   {
    "duration": 5,
    "start_time": "2022-06-30T07:38:27.264Z"
   },
   {
    "duration": 325,
    "start_time": "2022-06-30T07:38:27.271Z"
   },
   {
    "duration": 36,
    "start_time": "2022-06-30T07:38:27.598Z"
   },
   {
    "duration": 35,
    "start_time": "2022-06-30T07:38:27.639Z"
   },
   {
    "duration": 114,
    "start_time": "2022-06-30T07:38:27.676Z"
   },
   {
    "duration": 18,
    "start_time": "2022-06-30T07:38:27.791Z"
   },
   {
    "duration": 18,
    "start_time": "2022-06-30T07:38:27.810Z"
   },
   {
    "duration": 63,
    "start_time": "2022-06-30T07:38:27.831Z"
   },
   {
    "duration": 34,
    "start_time": "2022-06-30T07:38:27.897Z"
   },
   {
    "duration": 209,
    "start_time": "2022-06-30T07:38:27.933Z"
   },
   {
    "duration": 16,
    "start_time": "2022-06-30T07:38:28.144Z"
   },
   {
    "duration": 21,
    "start_time": "2022-06-30T07:38:28.162Z"
   },
   {
    "duration": 80,
    "start_time": "2022-06-30T07:38:28.185Z"
   },
   {
    "duration": 22,
    "start_time": "2022-06-30T07:38:28.266Z"
   },
   {
    "duration": 20,
    "start_time": "2022-06-30T07:38:28.289Z"
   },
   {
    "duration": 159,
    "start_time": "2022-06-30T07:38:28.311Z"
   },
   {
    "duration": 30,
    "start_time": "2022-06-30T07:38:28.472Z"
   },
   {
    "duration": 47,
    "start_time": "2022-06-30T07:38:28.504Z"
   },
   {
    "duration": 21,
    "start_time": "2022-06-30T07:38:28.554Z"
   },
   {
    "duration": 135,
    "start_time": "2022-06-30T07:38:28.576Z"
   },
   {
    "duration": 20,
    "start_time": "2022-06-30T07:38:28.713Z"
   },
   {
    "duration": 31,
    "start_time": "2022-06-30T07:38:28.735Z"
   },
   {
    "duration": 30,
    "start_time": "2022-06-30T07:38:28.768Z"
   },
   {
    "duration": 156,
    "start_time": "2022-06-30T07:38:28.800Z"
   },
   {
    "duration": 17,
    "start_time": "2022-06-30T07:38:28.958Z"
   },
   {
    "duration": 22,
    "start_time": "2022-06-30T07:38:28.976Z"
   },
   {
    "duration": 513,
    "start_time": "2022-06-30T07:38:29.000Z"
   },
   {
    "duration": 27,
    "start_time": "2022-06-30T07:38:29.515Z"
   },
   {
    "duration": 371,
    "start_time": "2022-06-30T07:38:29.544Z"
   },
   {
    "duration": 34,
    "start_time": "2022-06-30T07:38:29.916Z"
   },
   {
    "duration": 19,
    "start_time": "2022-06-30T07:38:29.952Z"
   },
   {
    "duration": 74,
    "start_time": "2022-06-30T07:38:29.973Z"
   },
   {
    "duration": 108,
    "start_time": "2022-06-30T07:38:30.049Z"
   },
   {
    "duration": 82,
    "start_time": "2022-06-30T07:38:30.162Z"
   },
   {
    "duration": 1011,
    "start_time": "2022-06-30T07:38:30.249Z"
   },
   {
    "duration": 1208,
    "start_time": "2022-06-30T07:38:31.262Z"
   },
   {
    "duration": 20,
    "start_time": "2022-06-30T07:38:32.471Z"
   },
   {
    "duration": 1109,
    "start_time": "2022-06-30T07:38:32.493Z"
   },
   {
    "duration": 66,
    "start_time": "2022-06-30T07:38:33.604Z"
   },
   {
    "duration": 549,
    "start_time": "2022-06-30T07:38:33.671Z"
   },
   {
    "duration": 78,
    "start_time": "2022-06-30T07:38:34.222Z"
   },
   {
    "duration": 2767,
    "start_time": "2022-06-30T07:38:34.302Z"
   },
   {
    "duration": 142,
    "start_time": "2022-06-30T07:39:03.289Z"
   },
   {
    "duration": 4,
    "start_time": "2022-06-30T07:39:10.936Z"
   },
   {
    "duration": 885821,
    "start_time": "2022-06-30T07:39:16.137Z"
   },
   {
    "duration": 3,
    "start_time": "2022-06-30T07:56:14.886Z"
   },
   {
    "duration": 11,
    "start_time": "2022-06-30T07:56:14.892Z"
   },
   {
    "duration": 6,
    "start_time": "2022-06-30T07:56:14.905Z"
   },
   {
    "duration": 6,
    "start_time": "2022-06-30T07:56:14.913Z"
   },
   {
    "duration": 907,
    "start_time": "2022-06-30T07:56:14.920Z"
   },
   {
    "duration": 160,
    "start_time": "2022-06-30T07:56:15.829Z"
   },
   {
    "duration": 614,
    "start_time": "2022-06-30T07:56:15.991Z"
   },
   {
    "duration": 483,
    "start_time": "2022-06-30T07:56:16.608Z"
   },
   {
    "duration": 687,
    "start_time": "2022-06-30T07:56:17.094Z"
   },
   {
    "duration": 19,
    "start_time": "2022-06-30T07:56:17.783Z"
   },
   {
    "duration": 5,
    "start_time": "2022-06-30T07:56:17.804Z"
   },
   {
    "duration": 22,
    "start_time": "2022-06-30T07:56:17.811Z"
   },
   {
    "duration": 21,
    "start_time": "2022-06-30T07:56:17.835Z"
   },
   {
    "duration": 51,
    "start_time": "2022-06-30T07:56:17.858Z"
   },
   {
    "duration": 22,
    "start_time": "2022-06-30T07:56:17.911Z"
   },
   {
    "duration": 9,
    "start_time": "2022-06-30T07:56:17.935Z"
   },
   {
    "duration": 299,
    "start_time": "2022-06-30T07:56:17.946Z"
   },
   {
    "duration": 34,
    "start_time": "2022-06-30T07:56:18.247Z"
   },
   {
    "duration": 24,
    "start_time": "2022-06-30T07:56:18.283Z"
   },
   {
    "duration": 128,
    "start_time": "2022-06-30T07:56:18.328Z"
   },
   {
    "duration": 17,
    "start_time": "2022-06-30T07:56:18.459Z"
   },
   {
    "duration": 5,
    "start_time": "2022-06-30T07:56:18.478Z"
   },
   {
    "duration": 61,
    "start_time": "2022-06-30T07:56:18.484Z"
   },
   {
    "duration": 17,
    "start_time": "2022-06-30T07:56:18.551Z"
   },
   {
    "duration": 139,
    "start_time": "2022-06-30T07:56:18.570Z"
   },
   {
    "duration": 21,
    "start_time": "2022-06-30T07:56:18.711Z"
   },
   {
    "duration": 33,
    "start_time": "2022-06-30T07:56:18.734Z"
   },
   {
    "duration": 53,
    "start_time": "2022-06-30T07:56:18.769Z"
   },
   {
    "duration": 31,
    "start_time": "2022-06-30T07:56:18.827Z"
   },
   {
    "duration": 25,
    "start_time": "2022-06-30T07:56:18.860Z"
   },
   {
    "duration": 140,
    "start_time": "2022-06-30T07:56:18.887Z"
   },
   {
    "duration": 25,
    "start_time": "2022-06-30T07:56:19.029Z"
   },
   {
    "duration": 20,
    "start_time": "2022-06-30T07:56:19.056Z"
   },
   {
    "duration": 17,
    "start_time": "2022-06-30T07:56:19.078Z"
   },
   {
    "duration": 162,
    "start_time": "2022-06-30T07:56:19.098Z"
   },
   {
    "duration": 18,
    "start_time": "2022-06-30T07:56:19.262Z"
   },
   {
    "duration": 31,
    "start_time": "2022-06-30T07:56:19.282Z"
   },
   {
    "duration": 29,
    "start_time": "2022-06-30T07:56:19.315Z"
   },
   {
    "duration": 132,
    "start_time": "2022-06-30T07:56:19.346Z"
   },
   {
    "duration": 17,
    "start_time": "2022-06-30T07:56:19.479Z"
   },
   {
    "duration": 32,
    "start_time": "2022-06-30T07:56:19.497Z"
   },
   {
    "duration": 496,
    "start_time": "2022-06-30T07:56:19.531Z"
   },
   {
    "duration": 19,
    "start_time": "2022-06-30T07:56:20.030Z"
   },
   {
    "duration": 316,
    "start_time": "2022-06-30T07:56:20.051Z"
   },
   {
    "duration": 22,
    "start_time": "2022-06-30T07:56:20.368Z"
   },
   {
    "duration": 16,
    "start_time": "2022-06-30T07:56:20.391Z"
   },
   {
    "duration": 44,
    "start_time": "2022-06-30T07:56:20.428Z"
   },
   {
    "duration": 109,
    "start_time": "2022-06-30T07:56:20.474Z"
   },
   {
    "duration": 98,
    "start_time": "2022-06-30T07:56:20.584Z"
   },
   {
    "duration": 891,
    "start_time": "2022-06-30T07:56:20.684Z"
   },
   {
    "duration": 1165,
    "start_time": "2022-06-30T07:56:21.577Z"
   },
   {
    "duration": 21,
    "start_time": "2022-06-30T07:56:22.745Z"
   },
   {
    "duration": 1048,
    "start_time": "2022-06-30T07:56:22.768Z"
   },
   {
    "duration": 67,
    "start_time": "2022-06-30T07:56:23.817Z"
   },
   {
    "duration": 535,
    "start_time": "2022-06-30T07:56:23.886Z"
   },
   {
    "duration": 72,
    "start_time": "2022-06-30T07:56:24.423Z"
   },
   {
    "duration": 51,
    "start_time": "2022-06-30T07:57:30.455Z"
   },
   {
    "duration": 3,
    "start_time": "2022-06-30T08:31:32.108Z"
   },
   {
    "duration": 9,
    "start_time": "2022-06-30T08:31:32.113Z"
   },
   {
    "duration": 1754,
    "start_time": "2022-06-30T08:31:32.123Z"
   },
   {
    "duration": 3,
    "start_time": "2022-06-30T08:31:33.878Z"
   },
   {
    "duration": 1308,
    "start_time": "2022-06-30T08:31:33.885Z"
   },
   {
    "duration": 214,
    "start_time": "2022-06-30T08:31:35.195Z"
   },
   {
    "duration": 634,
    "start_time": "2022-06-30T08:31:35.410Z"
   },
   {
    "duration": 670,
    "start_time": "2022-06-30T08:31:36.047Z"
   },
   {
    "duration": 743,
    "start_time": "2022-06-30T08:31:36.719Z"
   },
   {
    "duration": 28,
    "start_time": "2022-06-30T08:31:37.464Z"
   },
   {
    "duration": 10,
    "start_time": "2022-06-30T08:31:37.494Z"
   },
   {
    "duration": 29,
    "start_time": "2022-06-30T08:31:37.507Z"
   },
   {
    "duration": 52,
    "start_time": "2022-06-30T08:31:37.538Z"
   },
   {
    "duration": 73,
    "start_time": "2022-06-30T08:31:37.593Z"
   },
   {
    "duration": 22,
    "start_time": "2022-06-30T08:31:37.668Z"
   },
   {
    "duration": 13,
    "start_time": "2022-06-30T08:31:37.692Z"
   },
   {
    "duration": 344,
    "start_time": "2022-06-30T08:31:37.707Z"
   },
   {
    "duration": 29,
    "start_time": "2022-06-30T08:31:38.055Z"
   },
   {
    "duration": 44,
    "start_time": "2022-06-30T08:31:38.086Z"
   },
   {
    "duration": 136,
    "start_time": "2022-06-30T08:31:38.138Z"
   },
   {
    "duration": 17,
    "start_time": "2022-06-30T08:31:38.276Z"
   },
   {
    "duration": 5,
    "start_time": "2022-06-30T08:31:38.294Z"
   },
   {
    "duration": 80,
    "start_time": "2022-06-30T08:31:38.300Z"
   },
   {
    "duration": 18,
    "start_time": "2022-06-30T08:31:38.382Z"
   },
   {
    "duration": 161,
    "start_time": "2022-06-30T08:31:38.401Z"
   },
   {
    "duration": 16,
    "start_time": "2022-06-30T08:31:38.564Z"
   },
   {
    "duration": 38,
    "start_time": "2022-06-30T08:31:38.582Z"
   },
   {
    "duration": 176,
    "start_time": "2022-06-30T08:31:38.622Z"
   },
   {
    "duration": 21,
    "start_time": "2022-06-30T08:31:38.800Z"
   },
   {
    "duration": 38,
    "start_time": "2022-06-30T08:31:38.827Z"
   },
   {
    "duration": 154,
    "start_time": "2022-06-30T08:31:38.867Z"
   },
   {
    "duration": 35,
    "start_time": "2022-06-30T08:31:39.023Z"
   },
   {
    "duration": 55,
    "start_time": "2022-06-30T08:31:39.060Z"
   },
   {
    "duration": 48,
    "start_time": "2022-06-30T08:31:39.118Z"
   },
   {
    "duration": 145,
    "start_time": "2022-06-30T08:31:39.168Z"
   },
   {
    "duration": 21,
    "start_time": "2022-06-30T08:31:39.315Z"
   },
   {
    "duration": 67,
    "start_time": "2022-06-30T08:31:39.338Z"
   },
   {
    "duration": 65,
    "start_time": "2022-06-30T08:31:39.406Z"
   },
   {
    "duration": 179,
    "start_time": "2022-06-30T08:31:39.473Z"
   },
   {
    "duration": 22,
    "start_time": "2022-06-30T08:31:39.655Z"
   },
   {
    "duration": 22,
    "start_time": "2022-06-30T08:31:39.682Z"
   },
   {
    "duration": 518,
    "start_time": "2022-06-30T08:31:39.706Z"
   },
   {
    "duration": 23,
    "start_time": "2022-06-30T08:31:40.227Z"
   },
   {
    "duration": 330,
    "start_time": "2022-06-30T08:31:40.252Z"
   },
   {
    "duration": 21,
    "start_time": "2022-06-30T08:31:40.583Z"
   },
   {
    "duration": 34,
    "start_time": "2022-06-30T08:31:40.606Z"
   },
   {
    "duration": 56,
    "start_time": "2022-06-30T08:31:40.642Z"
   },
   {
    "duration": 121,
    "start_time": "2022-06-30T08:31:40.700Z"
   },
   {
    "duration": 110,
    "start_time": "2022-06-30T08:31:40.827Z"
   },
   {
    "duration": 774,
    "start_time": "2022-06-30T08:31:40.939Z"
   },
   {
    "duration": 1155,
    "start_time": "2022-06-30T08:31:41.715Z"
   },
   {
    "duration": 15,
    "start_time": "2022-06-30T08:31:42.872Z"
   },
   {
    "duration": 1182,
    "start_time": "2022-06-30T08:31:42.889Z"
   },
   {
    "duration": 59,
    "start_time": "2022-06-30T08:31:44.073Z"
   },
   {
    "duration": 564,
    "start_time": "2022-06-30T08:31:44.134Z"
   },
   {
    "duration": 90,
    "start_time": "2022-06-30T08:31:44.700Z"
   },
   {
    "duration": 2850,
    "start_time": "2022-06-30T08:31:44.792Z"
   },
   {
    "duration": 5,
    "start_time": "2022-06-30T08:31:47.645Z"
   },
   {
    "duration": 261080,
    "start_time": "2022-06-30T08:31:47.652Z"
   },
   {
    "duration": 933,
    "start_time": "2022-06-30T08:36:08.734Z"
   },
   {
    "duration": 4,
    "start_time": "2022-06-30T23:21:50.689Z"
   },
   {
    "duration": 5,
    "start_time": "2022-06-30T23:21:50.694Z"
   },
   {
    "duration": 1574,
    "start_time": "2022-06-30T23:21:50.700Z"
   },
   {
    "duration": 3,
    "start_time": "2022-06-30T23:21:52.276Z"
   },
   {
    "duration": 1068,
    "start_time": "2022-06-30T23:21:52.281Z"
   },
   {
    "duration": 138,
    "start_time": "2022-06-30T23:21:53.350Z"
   },
   {
    "duration": 445,
    "start_time": "2022-06-30T23:21:53.490Z"
   },
   {
    "duration": 496,
    "start_time": "2022-06-30T23:21:53.937Z"
   },
   {
    "duration": 686,
    "start_time": "2022-06-30T23:21:54.437Z"
   },
   {
    "duration": 28,
    "start_time": "2022-06-30T23:21:55.125Z"
   },
   {
    "duration": 13,
    "start_time": "2022-06-30T23:21:55.158Z"
   },
   {
    "duration": 12,
    "start_time": "2022-06-30T23:21:55.173Z"
   },
   {
    "duration": 22,
    "start_time": "2022-06-30T23:21:55.187Z"
   },
   {
    "duration": 79,
    "start_time": "2022-06-30T23:21:55.210Z"
   },
   {
    "duration": 10,
    "start_time": "2022-06-30T23:21:55.291Z"
   },
   {
    "duration": 4,
    "start_time": "2022-06-30T23:21:55.303Z"
   },
   {
    "duration": 424,
    "start_time": "2022-06-30T23:21:55.308Z"
   },
   {
    "duration": 44,
    "start_time": "2022-06-30T23:21:55.733Z"
   },
   {
    "duration": 24,
    "start_time": "2022-06-30T23:21:55.779Z"
   },
   {
    "duration": 118,
    "start_time": "2022-06-30T23:21:55.805Z"
   },
   {
    "duration": 17,
    "start_time": "2022-06-30T23:21:55.925Z"
   },
   {
    "duration": 10,
    "start_time": "2022-06-30T23:21:55.951Z"
   },
   {
    "duration": 66,
    "start_time": "2022-06-30T23:21:55.968Z"
   },
   {
    "duration": 23,
    "start_time": "2022-06-30T23:21:56.038Z"
   },
   {
    "duration": 114,
    "start_time": "2022-06-30T23:21:56.064Z"
   },
   {
    "duration": 17,
    "start_time": "2022-06-30T23:21:56.179Z"
   },
   {
    "duration": 20,
    "start_time": "2022-06-30T23:21:56.198Z"
   },
   {
    "duration": 69,
    "start_time": "2022-06-30T23:21:56.220Z"
   },
   {
    "duration": 23,
    "start_time": "2022-06-30T23:21:56.290Z"
   },
   {
    "duration": 16,
    "start_time": "2022-06-30T23:21:56.314Z"
   },
   {
    "duration": 159,
    "start_time": "2022-06-30T23:21:56.332Z"
   },
   {
    "duration": 17,
    "start_time": "2022-06-30T23:21:56.493Z"
   },
   {
    "duration": 24,
    "start_time": "2022-06-30T23:21:56.511Z"
   },
   {
    "duration": 32,
    "start_time": "2022-06-30T23:21:56.537Z"
   },
   {
    "duration": 143,
    "start_time": "2022-06-30T23:21:56.573Z"
   },
   {
    "duration": 15,
    "start_time": "2022-06-30T23:21:56.718Z"
   },
   {
    "duration": 43,
    "start_time": "2022-06-30T23:21:56.735Z"
   },
   {
    "duration": 21,
    "start_time": "2022-06-30T23:21:56.781Z"
   },
   {
    "duration": 127,
    "start_time": "2022-06-30T23:21:56.804Z"
   },
   {
    "duration": 18,
    "start_time": "2022-06-30T23:21:56.933Z"
   },
   {
    "duration": 35,
    "start_time": "2022-06-30T23:21:56.953Z"
   },
   {
    "duration": 538,
    "start_time": "2022-06-30T23:21:56.990Z"
   },
   {
    "duration": 27,
    "start_time": "2022-06-30T23:21:57.530Z"
   },
   {
    "duration": 346,
    "start_time": "2022-06-30T23:21:57.559Z"
   },
   {
    "duration": 22,
    "start_time": "2022-06-30T23:21:57.906Z"
   },
   {
    "duration": 36,
    "start_time": "2022-06-30T23:21:57.930Z"
   },
   {
    "duration": 53,
    "start_time": "2022-06-30T23:21:57.968Z"
   },
   {
    "duration": 83,
    "start_time": "2022-06-30T23:21:58.023Z"
   },
   {
    "duration": 80,
    "start_time": "2022-06-30T23:21:58.108Z"
   },
   {
    "duration": 821,
    "start_time": "2022-06-30T23:21:58.190Z"
   },
   {
    "duration": 1013,
    "start_time": "2022-06-30T23:21:59.013Z"
   },
   {
    "duration": 28,
    "start_time": "2022-06-30T23:22:00.028Z"
   },
   {
    "duration": 1156,
    "start_time": "2022-06-30T23:22:00.058Z"
   },
   {
    "duration": 66,
    "start_time": "2022-06-30T23:22:01.215Z"
   },
   {
    "duration": 541,
    "start_time": "2022-06-30T23:22:01.283Z"
   },
   {
    "duration": 80,
    "start_time": "2022-06-30T23:22:01.825Z"
   },
   {
    "duration": 2579,
    "start_time": "2022-06-30T23:22:01.906Z"
   },
   {
    "duration": 3,
    "start_time": "2022-06-30T23:22:20.783Z"
   },
   {
    "duration": 669607,
    "start_time": "2022-06-30T23:22:23.623Z"
   },
   {
    "duration": 137859,
    "start_time": "2022-06-30T23:33:52.928Z"
   },
   {
    "duration": 30,
    "start_time": "2022-06-30T23:36:10.789Z"
   },
   {
    "duration": 14,
    "start_time": "2022-06-30T23:37:02.051Z"
   },
   {
    "duration": 19,
    "start_time": "2022-06-30T23:41:35.966Z"
   },
   {
    "duration": 966,
    "start_time": "2022-06-30T23:41:43.126Z"
   },
   {
    "duration": 0,
    "start_time": "2022-06-30T23:43:29.692Z"
   },
   {
    "duration": 15855,
    "start_time": "2022-06-30T23:43:33.785Z"
   },
   {
    "duration": 28523,
    "start_time": "2022-06-30T23:45:05.222Z"
   },
   {
    "duration": 1868,
    "start_time": "2022-06-30T23:46:51.762Z"
   },
   {
    "duration": 0,
    "start_time": "2022-06-30T23:50:34.323Z"
   },
   {
    "duration": 372,
    "start_time": "2022-06-30T23:50:37.665Z"
   },
   {
    "duration": 623421,
    "start_time": "2022-06-30T23:51:10.346Z"
   },
   {
    "duration": 4,
    "start_time": "2022-07-01T00:01:33.769Z"
   },
   {
    "duration": 947,
    "start_time": "2022-07-01T00:03:22.211Z"
   },
   {
    "duration": 2838,
    "start_time": "2022-07-01T00:05:00.728Z"
   },
   {
    "duration": 76,
    "start_time": "2022-07-01T00:05:10.439Z"
   },
   {
    "duration": 3953,
    "start_time": "2022-07-01T00:05:15.712Z"
   },
   {
    "duration": 40456,
    "start_time": "2022-07-01T00:06:35.603Z"
   },
   {
    "duration": 53793,
    "start_time": "2022-07-01T00:11:01.457Z"
   },
   {
    "duration": 16055,
    "start_time": "2022-07-01T00:12:20.902Z"
   },
   {
    "duration": 3776,
    "start_time": "2022-07-01T00:13:16.281Z"
   },
   {
    "duration": 131,
    "start_time": "2022-07-01T00:13:29.112Z"
   },
   {
    "duration": 4406,
    "start_time": "2022-07-01T00:13:37.151Z"
   },
   {
    "duration": 5942,
    "start_time": "2022-07-01T00:14:01.714Z"
   },
   {
    "duration": 5800,
    "start_time": "2022-07-01T00:14:13.754Z"
   },
   {
    "duration": 425,
    "start_time": "2022-07-01T00:15:00.667Z"
   },
   {
    "duration": 3,
    "start_time": "2022-07-01T00:15:24.289Z"
   },
   {
    "duration": 9,
    "start_time": "2022-07-01T00:15:24.294Z"
   },
   {
    "duration": 1393,
    "start_time": "2022-07-01T00:15:24.304Z"
   },
   {
    "duration": 3,
    "start_time": "2022-07-01T00:15:25.699Z"
   },
   {
    "duration": 1086,
    "start_time": "2022-07-01T00:15:25.704Z"
   },
   {
    "duration": 131,
    "start_time": "2022-07-01T00:15:26.792Z"
   },
   {
    "duration": 459,
    "start_time": "2022-07-01T00:15:26.925Z"
   },
   {
    "duration": 495,
    "start_time": "2022-07-01T00:15:27.386Z"
   },
   {
    "duration": 611,
    "start_time": "2022-07-01T00:15:27.884Z"
   },
   {
    "duration": 23,
    "start_time": "2022-07-01T00:15:28.497Z"
   },
   {
    "duration": 6,
    "start_time": "2022-07-01T00:15:28.522Z"
   },
   {
    "duration": 21,
    "start_time": "2022-07-01T00:15:28.530Z"
   },
   {
    "duration": 18,
    "start_time": "2022-07-01T00:15:28.553Z"
   },
   {
    "duration": 80,
    "start_time": "2022-07-01T00:15:28.573Z"
   },
   {
    "duration": 9,
    "start_time": "2022-07-01T00:15:28.655Z"
   },
   {
    "duration": 5,
    "start_time": "2022-07-01T00:15:28.666Z"
   },
   {
    "duration": 300,
    "start_time": "2022-07-01T00:15:28.673Z"
   },
   {
    "duration": 26,
    "start_time": "2022-07-01T00:15:28.974Z"
   },
   {
    "duration": 23,
    "start_time": "2022-07-01T00:15:29.002Z"
   },
   {
    "duration": 124,
    "start_time": "2022-07-01T00:15:29.027Z"
   },
   {
    "duration": 16,
    "start_time": "2022-07-01T00:15:29.153Z"
   },
   {
    "duration": 5,
    "start_time": "2022-07-01T00:15:29.171Z"
   },
   {
    "duration": 76,
    "start_time": "2022-07-01T00:15:29.178Z"
   },
   {
    "duration": 15,
    "start_time": "2022-07-01T00:15:29.258Z"
   },
   {
    "duration": 191,
    "start_time": "2022-07-01T00:15:29.274Z"
   },
   {
    "duration": 17,
    "start_time": "2022-07-01T00:15:29.467Z"
   },
   {
    "duration": 21,
    "start_time": "2022-07-01T00:15:29.487Z"
   },
   {
    "duration": 69,
    "start_time": "2022-07-01T00:15:29.510Z"
   },
   {
    "duration": 20,
    "start_time": "2022-07-01T00:15:29.580Z"
   },
   {
    "duration": 18,
    "start_time": "2022-07-01T00:15:29.602Z"
   },
   {
    "duration": 127,
    "start_time": "2022-07-01T00:15:29.621Z"
   },
   {
    "duration": 15,
    "start_time": "2022-07-01T00:15:29.750Z"
   },
   {
    "duration": 21,
    "start_time": "2022-07-01T00:15:29.767Z"
   },
   {
    "duration": 14,
    "start_time": "2022-07-01T00:15:29.790Z"
   },
   {
    "duration": 130,
    "start_time": "2022-07-01T00:15:29.805Z"
   },
   {
    "duration": 16,
    "start_time": "2022-07-01T00:15:29.937Z"
   },
   {
    "duration": 17,
    "start_time": "2022-07-01T00:15:29.954Z"
   },
   {
    "duration": 19,
    "start_time": "2022-07-01T00:15:29.972Z"
   },
   {
    "duration": 130,
    "start_time": "2022-07-01T00:15:29.992Z"
   },
   {
    "duration": 18,
    "start_time": "2022-07-01T00:15:30.124Z"
   },
   {
    "duration": 25,
    "start_time": "2022-07-01T00:15:30.143Z"
   },
   {
    "duration": 445,
    "start_time": "2022-07-01T00:15:30.170Z"
   },
   {
    "duration": 18,
    "start_time": "2022-07-01T00:15:30.617Z"
   },
   {
    "duration": 302,
    "start_time": "2022-07-01T00:15:30.636Z"
   },
   {
    "duration": 25,
    "start_time": "2022-07-01T00:15:30.940Z"
   },
   {
    "duration": 16,
    "start_time": "2022-07-01T00:15:30.967Z"
   },
   {
    "duration": 68,
    "start_time": "2022-07-01T00:15:30.984Z"
   },
   {
    "duration": 71,
    "start_time": "2022-07-01T00:15:31.053Z"
   },
   {
    "duration": 73,
    "start_time": "2022-07-01T00:15:31.126Z"
   },
   {
    "duration": 817,
    "start_time": "2022-07-01T00:15:31.201Z"
   },
   {
    "duration": 961,
    "start_time": "2022-07-01T00:15:32.020Z"
   },
   {
    "duration": 16,
    "start_time": "2022-07-01T00:15:32.982Z"
   },
   {
    "duration": 1058,
    "start_time": "2022-07-01T00:15:33.000Z"
   },
   {
    "duration": 58,
    "start_time": "2022-07-01T00:15:34.059Z"
   },
   {
    "duration": 538,
    "start_time": "2022-07-01T00:15:34.119Z"
   },
   {
    "duration": 73,
    "start_time": "2022-07-01T00:15:34.659Z"
   },
   {
    "duration": 2520,
    "start_time": "2022-07-01T00:15:34.734Z"
   },
   {
    "duration": 3,
    "start_time": "2022-07-01T00:15:37.256Z"
   },
   {
    "duration": 3,
    "start_time": "2022-07-01T00:36:59.844Z"
   },
   {
    "duration": 7,
    "start_time": "2022-07-01T00:36:59.849Z"
   },
   {
    "duration": 1557,
    "start_time": "2022-07-01T00:36:59.857Z"
   },
   {
    "duration": 3,
    "start_time": "2022-07-01T00:37:01.417Z"
   },
   {
    "duration": 1333,
    "start_time": "2022-07-01T00:37:01.422Z"
   },
   {
    "duration": 228,
    "start_time": "2022-07-01T00:37:02.757Z"
   },
   {
    "duration": 837,
    "start_time": "2022-07-01T00:37:02.987Z"
   },
   {
    "duration": 540,
    "start_time": "2022-07-01T00:37:03.826Z"
   },
   {
    "duration": 714,
    "start_time": "2022-07-01T00:37:04.368Z"
   },
   {
    "duration": 23,
    "start_time": "2022-07-01T00:37:05.085Z"
   },
   {
    "duration": 7,
    "start_time": "2022-07-01T00:37:05.109Z"
   },
   {
    "duration": 10,
    "start_time": "2022-07-01T00:37:05.117Z"
   },
   {
    "duration": 30,
    "start_time": "2022-07-01T00:37:05.128Z"
   },
   {
    "duration": 64,
    "start_time": "2022-07-01T00:37:05.160Z"
   },
   {
    "duration": 8,
    "start_time": "2022-07-01T00:37:05.226Z"
   },
   {
    "duration": 4,
    "start_time": "2022-07-01T00:37:05.251Z"
   },
   {
    "duration": 278,
    "start_time": "2022-07-01T00:37:05.256Z"
   },
   {
    "duration": 31,
    "start_time": "2022-07-01T00:37:05.536Z"
   },
   {
    "duration": 24,
    "start_time": "2022-07-01T00:37:05.568Z"
   },
   {
    "duration": 104,
    "start_time": "2022-07-01T00:37:05.593Z"
   },
   {
    "duration": 16,
    "start_time": "2022-07-01T00:37:05.699Z"
   },
   {
    "duration": 4,
    "start_time": "2022-07-01T00:37:05.716Z"
   },
   {
    "duration": 73,
    "start_time": "2022-07-01T00:37:05.722Z"
   },
   {
    "duration": 15,
    "start_time": "2022-07-01T00:37:05.797Z"
   },
   {
    "duration": 106,
    "start_time": "2022-07-01T00:37:05.814Z"
   },
   {
    "duration": 14,
    "start_time": "2022-07-01T00:37:05.921Z"
   },
   {
    "duration": 29,
    "start_time": "2022-07-01T00:37:05.936Z"
   },
   {
    "duration": 42,
    "start_time": "2022-07-01T00:37:06.051Z"
   },
   {
    "duration": 17,
    "start_time": "2022-07-01T00:37:06.094Z"
   },
   {
    "duration": 13,
    "start_time": "2022-07-01T00:37:06.113Z"
   },
   {
    "duration": 128,
    "start_time": "2022-07-01T00:37:06.128Z"
   },
   {
    "duration": 14,
    "start_time": "2022-07-01T00:37:06.257Z"
   },
   {
    "duration": 18,
    "start_time": "2022-07-01T00:37:06.273Z"
   },
   {
    "duration": 15,
    "start_time": "2022-07-01T00:37:06.292Z"
   },
   {
    "duration": 140,
    "start_time": "2022-07-01T00:37:06.309Z"
   },
   {
    "duration": 13,
    "start_time": "2022-07-01T00:37:06.451Z"
   },
   {
    "duration": 16,
    "start_time": "2022-07-01T00:37:06.466Z"
   },
   {
    "duration": 17,
    "start_time": "2022-07-01T00:37:06.483Z"
   },
   {
    "duration": 125,
    "start_time": "2022-07-01T00:37:06.502Z"
   },
   {
    "duration": 14,
    "start_time": "2022-07-01T00:37:06.628Z"
   },
   {
    "duration": 26,
    "start_time": "2022-07-01T00:37:06.643Z"
   },
   {
    "duration": 388,
    "start_time": "2022-07-01T00:37:06.671Z"
   },
   {
    "duration": 17,
    "start_time": "2022-07-01T00:37:07.061Z"
   },
   {
    "duration": 316,
    "start_time": "2022-07-01T00:37:07.079Z"
   },
   {
    "duration": 18,
    "start_time": "2022-07-01T00:37:07.397Z"
   },
   {
    "duration": 16,
    "start_time": "2022-07-01T00:37:07.417Z"
   },
   {
    "duration": 37,
    "start_time": "2022-07-01T00:37:07.451Z"
   },
   {
    "duration": 81,
    "start_time": "2022-07-01T00:37:07.490Z"
   },
   {
    "duration": 60,
    "start_time": "2022-07-01T00:37:07.573Z"
   },
   {
    "duration": 786,
    "start_time": "2022-07-01T00:37:07.635Z"
   },
   {
    "duration": 920,
    "start_time": "2022-07-01T00:37:08.422Z"
   },
   {
    "duration": 20,
    "start_time": "2022-07-01T00:37:09.344Z"
   },
   {
    "duration": 988,
    "start_time": "2022-07-01T00:37:09.366Z"
   },
   {
    "duration": 61,
    "start_time": "2022-07-01T00:37:10.356Z"
   },
   {
    "duration": 511,
    "start_time": "2022-07-01T00:37:10.419Z"
   },
   {
    "duration": 77,
    "start_time": "2022-07-01T00:37:10.932Z"
   },
   {
    "duration": 2524,
    "start_time": "2022-07-01T00:37:11.011Z"
   },
   {
    "duration": 3,
    "start_time": "2022-07-01T00:37:13.537Z"
   },
   {
    "duration": 173851,
    "start_time": "2022-07-01T00:37:23.179Z"
   },
   {
    "duration": 1039127,
    "start_time": "2022-07-01T00:43:58.738Z"
   },
   {
    "duration": 373756,
    "start_time": "2022-07-01T01:01:17.866Z"
   },
   {
    "duration": 4,
    "start_time": "2022-07-01T01:17:28.208Z"
   },
   {
    "duration": 5,
    "start_time": "2022-07-01T01:17:28.214Z"
   },
   {
    "duration": 1505,
    "start_time": "2022-07-01T01:17:28.220Z"
   },
   {
    "duration": 3,
    "start_time": "2022-07-01T01:17:29.727Z"
   },
   {
    "duration": 862,
    "start_time": "2022-07-01T01:17:29.731Z"
   },
   {
    "duration": 134,
    "start_time": "2022-07-01T01:17:30.594Z"
   },
   {
    "duration": 443,
    "start_time": "2022-07-01T01:17:30.729Z"
   },
   {
    "duration": 500,
    "start_time": "2022-07-01T01:17:31.173Z"
   },
   {
    "duration": 593,
    "start_time": "2022-07-01T01:17:31.675Z"
   },
   {
    "duration": 23,
    "start_time": "2022-07-01T01:17:32.270Z"
   },
   {
    "duration": 12,
    "start_time": "2022-07-01T01:17:32.294Z"
   },
   {
    "duration": 8,
    "start_time": "2022-07-01T01:17:32.308Z"
   },
   {
    "duration": 17,
    "start_time": "2022-07-01T01:17:32.318Z"
   },
   {
    "duration": 65,
    "start_time": "2022-07-01T01:17:32.351Z"
   },
   {
    "duration": 8,
    "start_time": "2022-07-01T01:17:32.418Z"
   },
   {
    "duration": 4,
    "start_time": "2022-07-01T01:17:32.428Z"
   },
   {
    "duration": 276,
    "start_time": "2022-07-01T01:17:32.451Z"
   },
   {
    "duration": 30,
    "start_time": "2022-07-01T01:17:32.729Z"
   },
   {
    "duration": 22,
    "start_time": "2022-07-01T01:17:32.761Z"
   },
   {
    "duration": 99,
    "start_time": "2022-07-01T01:17:32.785Z"
   },
   {
    "duration": 15,
    "start_time": "2022-07-01T01:17:32.886Z"
   },
   {
    "duration": 5,
    "start_time": "2022-07-01T01:17:32.903Z"
   },
   {
    "duration": 73,
    "start_time": "2022-07-01T01:17:32.909Z"
   },
   {
    "duration": 16,
    "start_time": "2022-07-01T01:17:32.984Z"
   },
   {
    "duration": 116,
    "start_time": "2022-07-01T01:17:33.002Z"
   },
   {
    "duration": 15,
    "start_time": "2022-07-01T01:17:33.119Z"
   },
   {
    "duration": 25,
    "start_time": "2022-07-01T01:17:33.136Z"
   },
   {
    "duration": 48,
    "start_time": "2022-07-01T01:17:33.241Z"
   },
   {
    "duration": 18,
    "start_time": "2022-07-01T01:17:33.291Z"
   },
   {
    "duration": 14,
    "start_time": "2022-07-01T01:17:33.311Z"
   },
   {
    "duration": 126,
    "start_time": "2022-07-01T01:17:33.327Z"
   },
   {
    "duration": 14,
    "start_time": "2022-07-01T01:17:33.455Z"
   },
   {
    "duration": 22,
    "start_time": "2022-07-01T01:17:33.471Z"
   },
   {
    "duration": 18,
    "start_time": "2022-07-01T01:17:33.495Z"
   },
   {
    "duration": 129,
    "start_time": "2022-07-01T01:17:33.515Z"
   },
   {
    "duration": 18,
    "start_time": "2022-07-01T01:17:33.646Z"
   },
   {
    "duration": 21,
    "start_time": "2022-07-01T01:17:33.665Z"
   },
   {
    "duration": 16,
    "start_time": "2022-07-01T01:17:33.688Z"
   },
   {
    "duration": 122,
    "start_time": "2022-07-01T01:17:33.706Z"
   },
   {
    "duration": 22,
    "start_time": "2022-07-01T01:17:33.829Z"
   },
   {
    "duration": 16,
    "start_time": "2022-07-01T01:17:33.853Z"
   },
   {
    "duration": 419,
    "start_time": "2022-07-01T01:17:33.870Z"
   },
   {
    "duration": 18,
    "start_time": "2022-07-01T01:17:34.291Z"
   },
   {
    "duration": 340,
    "start_time": "2022-07-01T01:17:34.310Z"
   },
   {
    "duration": 18,
    "start_time": "2022-07-01T01:17:34.652Z"
   },
   {
    "duration": 15,
    "start_time": "2022-07-01T01:17:34.672Z"
   },
   {
    "duration": 69,
    "start_time": "2022-07-01T01:17:34.689Z"
   },
   {
    "duration": 63,
    "start_time": "2022-07-01T01:17:34.760Z"
   },
   {
    "duration": 78,
    "start_time": "2022-07-01T01:17:34.826Z"
   },
   {
    "duration": 893,
    "start_time": "2022-07-01T01:17:34.906Z"
   },
   {
    "duration": 964,
    "start_time": "2022-07-01T01:17:35.801Z"
   },
   {
    "duration": 16,
    "start_time": "2022-07-01T01:17:36.767Z"
   },
   {
    "duration": 1013,
    "start_time": "2022-07-01T01:17:36.785Z"
   },
   {
    "duration": 56,
    "start_time": "2022-07-01T01:17:37.799Z"
   },
   {
    "duration": 503,
    "start_time": "2022-07-01T01:17:37.858Z"
   },
   {
    "duration": 71,
    "start_time": "2022-07-01T01:17:38.362Z"
   },
   {
    "duration": 2555,
    "start_time": "2022-07-01T01:17:38.435Z"
   },
   {
    "duration": 3,
    "start_time": "2022-07-01T01:17:40.992Z"
   },
   {
    "duration": 590505,
    "start_time": "2022-07-01T01:17:52.004Z"
   },
   {
    "duration": 3,
    "start_time": "2022-07-01T01:29:20.893Z"
   },
   {
    "duration": 6,
    "start_time": "2022-07-01T01:29:20.898Z"
   },
   {
    "duration": 7,
    "start_time": "2022-07-01T01:29:20.906Z"
   },
   {
    "duration": 9,
    "start_time": "2022-07-01T01:29:20.916Z"
   },
   {
    "duration": 903,
    "start_time": "2022-07-01T01:29:20.927Z"
   },
   {
    "duration": 137,
    "start_time": "2022-07-01T01:29:21.832Z"
   },
   {
    "duration": 438,
    "start_time": "2022-07-01T01:29:21.970Z"
   },
   {
    "duration": 455,
    "start_time": "2022-07-01T01:29:22.410Z"
   },
   {
    "duration": 545,
    "start_time": "2022-07-01T01:29:22.868Z"
   },
   {
    "duration": 22,
    "start_time": "2022-07-01T01:29:23.415Z"
   },
   {
    "duration": 18,
    "start_time": "2022-07-01T01:29:23.439Z"
   },
   {
    "duration": 30,
    "start_time": "2022-07-01T01:29:23.459Z"
   },
   {
    "duration": 18,
    "start_time": "2022-07-01T01:29:23.491Z"
   },
   {
    "duration": 56,
    "start_time": "2022-07-01T01:29:23.511Z"
   },
   {
    "duration": 10,
    "start_time": "2022-07-01T01:29:23.569Z"
   },
   {
    "duration": 4,
    "start_time": "2022-07-01T01:29:23.581Z"
   },
   {
    "duration": 385,
    "start_time": "2022-07-01T01:29:23.587Z"
   },
   {
    "duration": 29,
    "start_time": "2022-07-01T01:29:23.975Z"
   },
   {
    "duration": 27,
    "start_time": "2022-07-01T01:29:24.006Z"
   },
   {
    "duration": 115,
    "start_time": "2022-07-01T01:29:24.051Z"
   },
   {
    "duration": 18,
    "start_time": "2022-07-01T01:29:24.168Z"
   },
   {
    "duration": 5,
    "start_time": "2022-07-01T01:29:24.188Z"
   },
   {
    "duration": 68,
    "start_time": "2022-07-01T01:29:24.195Z"
   },
   {
    "duration": 16,
    "start_time": "2022-07-01T01:29:24.267Z"
   },
   {
    "duration": 122,
    "start_time": "2022-07-01T01:29:24.285Z"
   },
   {
    "duration": 19,
    "start_time": "2022-07-01T01:29:24.409Z"
   },
   {
    "duration": 42,
    "start_time": "2022-07-01T01:29:24.430Z"
   },
   {
    "duration": 78,
    "start_time": "2022-07-01T01:29:24.474Z"
   },
   {
    "duration": 26,
    "start_time": "2022-07-01T01:29:24.555Z"
   },
   {
    "duration": 26,
    "start_time": "2022-07-01T01:29:24.583Z"
   },
   {
    "duration": 132,
    "start_time": "2022-07-01T01:29:24.612Z"
   },
   {
    "duration": 24,
    "start_time": "2022-07-01T01:29:24.745Z"
   },
   {
    "duration": 27,
    "start_time": "2022-07-01T01:29:24.770Z"
   },
   {
    "duration": 17,
    "start_time": "2022-07-01T01:29:24.799Z"
   },
   {
    "duration": 122,
    "start_time": "2022-07-01T01:29:24.817Z"
   },
   {
    "duration": 25,
    "start_time": "2022-07-01T01:29:24.941Z"
   },
   {
    "duration": 17,
    "start_time": "2022-07-01T01:29:24.967Z"
   },
   {
    "duration": 19,
    "start_time": "2022-07-01T01:29:24.986Z"
   },
   {
    "duration": 135,
    "start_time": "2022-07-01T01:29:25.007Z"
   },
   {
    "duration": 28,
    "start_time": "2022-07-01T01:29:25.144Z"
   },
   {
    "duration": 34,
    "start_time": "2022-07-01T01:29:25.173Z"
   },
   {
    "duration": 560,
    "start_time": "2022-07-01T01:29:25.210Z"
   },
   {
    "duration": 18,
    "start_time": "2022-07-01T01:29:25.772Z"
   },
   {
    "duration": 419,
    "start_time": "2022-07-01T01:29:25.792Z"
   },
   {
    "duration": 18,
    "start_time": "2022-07-01T01:29:26.213Z"
   },
   {
    "duration": 37,
    "start_time": "2022-07-01T01:29:26.233Z"
   },
   {
    "duration": 46,
    "start_time": "2022-07-01T01:29:26.272Z"
   },
   {
    "duration": 92,
    "start_time": "2022-07-01T01:29:26.319Z"
   },
   {
    "duration": 84,
    "start_time": "2022-07-01T01:29:26.413Z"
   },
   {
    "duration": 846,
    "start_time": "2022-07-01T01:29:26.498Z"
   },
   {
    "duration": 1031,
    "start_time": "2022-07-01T01:29:27.346Z"
   },
   {
    "duration": 15,
    "start_time": "2022-07-01T01:29:28.379Z"
   },
   {
    "duration": 1037,
    "start_time": "2022-07-01T01:29:28.395Z"
   },
   {
    "duration": 74,
    "start_time": "2022-07-01T01:29:29.434Z"
   },
   {
    "duration": 526,
    "start_time": "2022-07-01T01:29:29.509Z"
   },
   {
    "duration": 75,
    "start_time": "2022-07-01T01:29:30.037Z"
   },
   {
    "duration": 2639,
    "start_time": "2022-07-01T01:29:30.114Z"
   },
   {
    "duration": 4,
    "start_time": "2022-07-01T01:29:32.754Z"
   },
   {
    "duration": 930854,
    "start_time": "2022-07-01T01:30:19.612Z"
   },
   {
    "duration": 4,
    "start_time": "2022-07-01T01:46:29.493Z"
   },
   {
    "duration": 12,
    "start_time": "2022-07-01T01:46:29.499Z"
   },
   {
    "duration": 1569,
    "start_time": "2022-07-01T01:46:29.512Z"
   },
   {
    "duration": 3,
    "start_time": "2022-07-01T01:46:31.083Z"
   },
   {
    "duration": 1308,
    "start_time": "2022-07-01T01:46:31.088Z"
   },
   {
    "duration": 133,
    "start_time": "2022-07-01T01:46:32.398Z"
   },
   {
    "duration": 495,
    "start_time": "2022-07-01T01:46:32.532Z"
   },
   {
    "duration": 514,
    "start_time": "2022-07-01T01:46:33.029Z"
   },
   {
    "duration": 634,
    "start_time": "2022-07-01T01:46:33.552Z"
   },
   {
    "duration": 23,
    "start_time": "2022-07-01T01:46:34.188Z"
   },
   {
    "duration": 9,
    "start_time": "2022-07-01T01:46:34.212Z"
   },
   {
    "duration": 11,
    "start_time": "2022-07-01T01:46:34.223Z"
   },
   {
    "duration": 34,
    "start_time": "2022-07-01T01:46:34.236Z"
   },
   {
    "duration": 64,
    "start_time": "2022-07-01T01:46:34.272Z"
   },
   {
    "duration": 15,
    "start_time": "2022-07-01T01:46:34.338Z"
   },
   {
    "duration": 11,
    "start_time": "2022-07-01T01:46:34.355Z"
   },
   {
    "duration": 332,
    "start_time": "2022-07-01T01:46:34.367Z"
   },
   {
    "duration": 24,
    "start_time": "2022-07-01T01:46:34.701Z"
   },
   {
    "duration": 41,
    "start_time": "2022-07-01T01:46:34.726Z"
   },
   {
    "duration": 92,
    "start_time": "2022-07-01T01:46:34.769Z"
   },
   {
    "duration": 16,
    "start_time": "2022-07-01T01:46:34.863Z"
   },
   {
    "duration": 4,
    "start_time": "2022-07-01T01:46:34.881Z"
   },
   {
    "duration": 76,
    "start_time": "2022-07-01T01:46:34.887Z"
   },
   {
    "duration": 15,
    "start_time": "2022-07-01T01:46:34.966Z"
   },
   {
    "duration": 190,
    "start_time": "2022-07-01T01:46:34.983Z"
   },
   {
    "duration": 13,
    "start_time": "2022-07-01T01:46:35.175Z"
   },
   {
    "duration": 16,
    "start_time": "2022-07-01T01:46:35.190Z"
   },
   {
    "duration": 61,
    "start_time": "2022-07-01T01:46:35.207Z"
   },
   {
    "duration": 18,
    "start_time": "2022-07-01T01:46:35.269Z"
   },
   {
    "duration": 14,
    "start_time": "2022-07-01T01:46:35.289Z"
   },
   {
    "duration": 126,
    "start_time": "2022-07-01T01:46:35.304Z"
   },
   {
    "duration": 32,
    "start_time": "2022-07-01T01:46:35.432Z"
   },
   {
    "duration": 22,
    "start_time": "2022-07-01T01:46:35.466Z"
   },
   {
    "duration": 19,
    "start_time": "2022-07-01T01:46:35.489Z"
   },
   {
    "duration": 120,
    "start_time": "2022-07-01T01:46:35.510Z"
   },
   {
    "duration": 32,
    "start_time": "2022-07-01T01:46:35.631Z"
   },
   {
    "duration": 16,
    "start_time": "2022-07-01T01:46:35.664Z"
   },
   {
    "duration": 13,
    "start_time": "2022-07-01T01:46:35.682Z"
   },
   {
    "duration": 116,
    "start_time": "2022-07-01T01:46:35.697Z"
   },
   {
    "duration": 13,
    "start_time": "2022-07-01T01:46:35.815Z"
   },
   {
    "duration": 36,
    "start_time": "2022-07-01T01:46:35.830Z"
   },
   {
    "duration": 416,
    "start_time": "2022-07-01T01:46:35.869Z"
   },
   {
    "duration": 17,
    "start_time": "2022-07-01T01:46:36.287Z"
   },
   {
    "duration": 298,
    "start_time": "2022-07-01T01:46:36.306Z"
   },
   {
    "duration": 17,
    "start_time": "2022-07-01T01:46:36.605Z"
   },
   {
    "duration": 42,
    "start_time": "2022-07-01T01:46:36.624Z"
   },
   {
    "duration": 50,
    "start_time": "2022-07-01T01:46:36.667Z"
   },
   {
    "duration": 71,
    "start_time": "2022-07-01T01:46:36.718Z"
   },
   {
    "duration": 74,
    "start_time": "2022-07-01T01:46:36.792Z"
   },
   {
    "duration": 799,
    "start_time": "2022-07-01T01:46:36.868Z"
   },
   {
    "duration": 995,
    "start_time": "2022-07-01T01:46:37.669Z"
   },
   {
    "duration": 17,
    "start_time": "2022-07-01T01:46:38.666Z"
   },
   {
    "duration": 1026,
    "start_time": "2022-07-01T01:46:38.684Z"
   },
   {
    "duration": 63,
    "start_time": "2022-07-01T01:46:39.711Z"
   },
   {
    "duration": 530,
    "start_time": "2022-07-01T01:46:39.775Z"
   },
   {
    "duration": 83,
    "start_time": "2022-07-01T01:46:40.307Z"
   },
   {
    "duration": 2556,
    "start_time": "2022-07-01T01:46:40.392Z"
   },
   {
    "duration": 4,
    "start_time": "2022-07-01T01:46:45.941Z"
   },
   {
    "duration": 55714,
    "start_time": "2022-07-01T01:46:52.182Z"
   },
   {
    "duration": 302,
    "start_time": "2022-07-01T01:48:07.881Z"
   },
   {
    "duration": 6396,
    "start_time": "2022-07-01T01:48:26.098Z"
   },
   {
    "duration": 204839,
    "start_time": "2022-07-01T01:49:45.397Z"
   },
   {
    "duration": 12551,
    "start_time": "2022-07-01T01:59:34.983Z"
   },
   {
    "duration": 12962,
    "start_time": "2022-07-01T02:00:23.968Z"
   },
   {
    "duration": 977095,
    "start_time": "2022-07-01T02:03:14.135Z"
   },
   {
    "duration": 148906,
    "start_time": "2022-07-01T02:19:31.232Z"
   },
   {
    "duration": 223087,
    "start_time": "2022-07-01T02:22:00.153Z"
   },
   {
    "duration": 12876,
    "start_time": "2022-07-01T02:30:09.280Z"
   },
   {
    "duration": 4,
    "start_time": "2022-07-01T02:30:39.903Z"
   },
   {
    "duration": 6,
    "start_time": "2022-07-01T02:30:39.909Z"
   },
   {
    "duration": 1429,
    "start_time": "2022-07-01T02:30:39.916Z"
   },
   {
    "duration": 4,
    "start_time": "2022-07-01T02:30:41.347Z"
   },
   {
    "duration": 806,
    "start_time": "2022-07-01T02:30:41.353Z"
   },
   {
    "duration": 134,
    "start_time": "2022-07-01T02:30:42.161Z"
   },
   {
    "duration": 439,
    "start_time": "2022-07-01T02:30:42.297Z"
   },
   {
    "duration": 478,
    "start_time": "2022-07-01T02:30:42.737Z"
   },
   {
    "duration": 579,
    "start_time": "2022-07-01T02:30:43.217Z"
   },
   {
    "duration": 24,
    "start_time": "2022-07-01T02:30:43.798Z"
   },
   {
    "duration": 26,
    "start_time": "2022-07-01T02:30:43.824Z"
   },
   {
    "duration": 12,
    "start_time": "2022-07-01T02:30:43.851Z"
   },
   {
    "duration": 22,
    "start_time": "2022-07-01T02:30:43.864Z"
   },
   {
    "duration": 70,
    "start_time": "2022-07-01T02:30:43.889Z"
   },
   {
    "duration": 9,
    "start_time": "2022-07-01T02:30:43.960Z"
   },
   {
    "duration": 19,
    "start_time": "2022-07-01T02:30:43.970Z"
   },
   {
    "duration": 302,
    "start_time": "2022-07-01T02:30:43.991Z"
   },
   {
    "duration": 23,
    "start_time": "2022-07-01T02:30:44.295Z"
   },
   {
    "duration": 36,
    "start_time": "2022-07-01T02:30:44.320Z"
   },
   {
    "duration": 120,
    "start_time": "2022-07-01T02:30:44.358Z"
   },
   {
    "duration": 20,
    "start_time": "2022-07-01T02:30:44.480Z"
   },
   {
    "duration": 6,
    "start_time": "2022-07-01T02:30:44.502Z"
   },
   {
    "duration": 86,
    "start_time": "2022-07-01T02:30:44.509Z"
   },
   {
    "duration": 25,
    "start_time": "2022-07-01T02:30:44.598Z"
   },
   {
    "duration": 108,
    "start_time": "2022-07-01T02:30:44.625Z"
   },
   {
    "duration": 20,
    "start_time": "2022-07-01T02:30:44.735Z"
   },
   {
    "duration": 17,
    "start_time": "2022-07-01T02:30:44.756Z"
   },
   {
    "duration": 137,
    "start_time": "2022-07-01T02:30:44.775Z"
   },
   {
    "duration": 19,
    "start_time": "2022-07-01T02:30:44.914Z"
   },
   {
    "duration": 29,
    "start_time": "2022-07-01T02:30:44.935Z"
   },
   {
    "duration": 127,
    "start_time": "2022-07-01T02:30:44.966Z"
   },
   {
    "duration": 17,
    "start_time": "2022-07-01T02:30:45.095Z"
   },
   {
    "duration": 24,
    "start_time": "2022-07-01T02:30:45.114Z"
   },
   {
    "duration": 13,
    "start_time": "2022-07-01T02:30:45.151Z"
   },
   {
    "duration": 129,
    "start_time": "2022-07-01T02:30:45.166Z"
   },
   {
    "duration": 15,
    "start_time": "2022-07-01T02:30:45.297Z"
   },
   {
    "duration": 19,
    "start_time": "2022-07-01T02:30:45.314Z"
   },
   {
    "duration": 29,
    "start_time": "2022-07-01T02:30:45.335Z"
   },
   {
    "duration": 127,
    "start_time": "2022-07-01T02:30:45.366Z"
   },
   {
    "duration": 16,
    "start_time": "2022-07-01T02:30:45.495Z"
   },
   {
    "duration": 21,
    "start_time": "2022-07-01T02:30:45.516Z"
   },
   {
    "duration": 426,
    "start_time": "2022-07-01T02:30:45.550Z"
   },
   {
    "duration": 16,
    "start_time": "2022-07-01T02:30:45.978Z"
   },
   {
    "duration": 295,
    "start_time": "2022-07-01T02:30:45.996Z"
   },
   {
    "duration": 18,
    "start_time": "2022-07-01T02:30:46.293Z"
   },
   {
    "duration": 34,
    "start_time": "2022-07-01T02:30:46.312Z"
   },
   {
    "duration": 80,
    "start_time": "2022-07-01T02:30:46.348Z"
   },
   {
    "duration": 65,
    "start_time": "2022-07-01T02:30:46.429Z"
   },
   {
    "duration": 63,
    "start_time": "2022-07-01T02:30:46.495Z"
   },
   {
    "duration": 791,
    "start_time": "2022-07-01T02:30:46.560Z"
   },
   {
    "duration": 940,
    "start_time": "2022-07-01T02:30:47.353Z"
   },
   {
    "duration": 18,
    "start_time": "2022-07-01T02:30:48.294Z"
   },
   {
    "duration": 1028,
    "start_time": "2022-07-01T02:30:48.314Z"
   },
   {
    "duration": 56,
    "start_time": "2022-07-01T02:30:49.343Z"
   },
   {
    "duration": 520,
    "start_time": "2022-07-01T02:30:49.401Z"
   },
   {
    "duration": 77,
    "start_time": "2022-07-01T02:30:49.923Z"
   },
   {
    "duration": 2581,
    "start_time": "2022-07-01T02:30:50.002Z"
   },
   {
    "duration": 4,
    "start_time": "2022-07-01T02:30:52.584Z"
   },
   {
    "duration": 3,
    "start_time": "2022-07-01T02:30:53.442Z"
   },
   {
    "duration": 557389,
    "start_time": "2022-07-01T02:31:22.341Z"
   },
   {
    "duration": 1348101,
    "start_time": "2022-07-01T02:54:24.970Z"
   },
   {
    "duration": 439098,
    "start_time": "2022-07-01T03:59:52.274Z"
   },
   {
    "duration": 88721,
    "start_time": "2022-07-01T04:07:12.852Z"
   },
   {
    "duration": 48092,
    "start_time": "2022-07-01T04:11:40.068Z"
   },
   {
    "duration": 49025,
    "start_time": "2022-07-01T04:13:09.735Z"
   },
   {
    "duration": 1236612,
    "start_time": "2022-07-01T04:20:28.053Z"
   },
   {
    "duration": 222580,
    "start_time": "2022-07-01T04:42:43.482Z"
   },
   {
    "duration": 159183,
    "start_time": "2022-07-01T04:50:03.581Z"
   },
   {
    "duration": 11224,
    "start_time": "2022-07-01T04:54:18.645Z"
   },
   {
    "duration": 129552,
    "start_time": "2022-07-01T04:54:55.000Z"
   },
   {
    "duration": 963838,
    "start_time": "2022-07-01T04:58:14.518Z"
   },
   {
    "duration": 13784,
    "start_time": "2022-07-01T05:15:18.163Z"
   },
   {
    "duration": 205254,
    "start_time": "2022-07-01T05:15:51.213Z"
   },
   {
    "duration": 380169,
    "start_time": "2022-07-01T05:19:47.883Z"
   },
   {
    "duration": 4,
    "start_time": "2022-07-01T05:34:11.649Z"
   },
   {
    "duration": 54,
    "start_time": "2022-07-01T05:35:30.678Z"
   },
   {
    "duration": 3,
    "start_time": "2022-07-01T05:35:53.772Z"
   },
   {
    "duration": 596680,
    "start_time": "2022-07-01T05:36:02.989Z"
   },
   {
    "duration": 332394,
    "start_time": "2022-07-01T05:47:51.202Z"
   },
   {
    "duration": 4,
    "start_time": "2022-07-01T06:19:06.367Z"
   },
   {
    "duration": 9,
    "start_time": "2022-07-01T06:19:06.373Z"
   },
   {
    "duration": 1330,
    "start_time": "2022-07-01T06:19:06.384Z"
   },
   {
    "duration": 3,
    "start_time": "2022-07-01T06:19:07.716Z"
   },
   {
    "duration": 957,
    "start_time": "2022-07-01T06:19:07.721Z"
   },
   {
    "duration": 113,
    "start_time": "2022-07-01T06:19:08.679Z"
   },
   {
    "duration": 398,
    "start_time": "2022-07-01T06:19:08.794Z"
   },
   {
    "duration": 421,
    "start_time": "2022-07-01T06:19:09.193Z"
   },
   {
    "duration": 506,
    "start_time": "2022-07-01T06:19:09.616Z"
   },
   {
    "duration": 21,
    "start_time": "2022-07-01T06:19:10.125Z"
   },
   {
    "duration": 4,
    "start_time": "2022-07-01T06:19:10.151Z"
   },
   {
    "duration": 14,
    "start_time": "2022-07-01T06:19:10.157Z"
   },
   {
    "duration": 17,
    "start_time": "2022-07-01T06:19:10.173Z"
   },
   {
    "duration": 84,
    "start_time": "2022-07-01T06:19:10.192Z"
   },
   {
    "duration": 8,
    "start_time": "2022-07-01T06:19:10.277Z"
   },
   {
    "duration": 3,
    "start_time": "2022-07-01T06:19:10.287Z"
   },
   {
    "duration": 286,
    "start_time": "2022-07-01T06:19:10.292Z"
   },
   {
    "duration": 22,
    "start_time": "2022-07-01T06:19:10.579Z"
   },
   {
    "duration": 22,
    "start_time": "2022-07-01T06:19:10.603Z"
   },
   {
    "duration": 101,
    "start_time": "2022-07-01T06:19:10.627Z"
   },
   {
    "duration": 25,
    "start_time": "2022-07-01T06:19:10.730Z"
   },
   {
    "duration": 5,
    "start_time": "2022-07-01T06:19:10.757Z"
   },
   {
    "duration": 54,
    "start_time": "2022-07-01T06:19:10.764Z"
   },
   {
    "duration": 12,
    "start_time": "2022-07-01T06:19:10.819Z"
   },
   {
    "duration": 85,
    "start_time": "2022-07-01T06:19:10.851Z"
   },
   {
    "duration": 24,
    "start_time": "2022-07-01T06:19:10.937Z"
   },
   {
    "duration": 24,
    "start_time": "2022-07-01T06:19:10.962Z"
   },
   {
    "duration": 38,
    "start_time": "2022-07-01T06:19:11.056Z"
   },
   {
    "duration": 16,
    "start_time": "2022-07-01T06:19:11.096Z"
   },
   {
    "duration": 15,
    "start_time": "2022-07-01T06:19:11.113Z"
   },
   {
    "duration": 111,
    "start_time": "2022-07-01T06:19:11.129Z"
   },
   {
    "duration": 14,
    "start_time": "2022-07-01T06:19:11.242Z"
   },
   {
    "duration": 24,
    "start_time": "2022-07-01T06:19:11.257Z"
   },
   {
    "duration": 14,
    "start_time": "2022-07-01T06:19:11.282Z"
   },
   {
    "duration": 112,
    "start_time": "2022-07-01T06:19:11.298Z"
   },
   {
    "duration": 13,
    "start_time": "2022-07-01T06:19:11.411Z"
   },
   {
    "duration": 25,
    "start_time": "2022-07-01T06:19:11.425Z"
   },
   {
    "duration": 14,
    "start_time": "2022-07-01T06:19:11.452Z"
   },
   {
    "duration": 111,
    "start_time": "2022-07-01T06:19:11.468Z"
   },
   {
    "duration": 13,
    "start_time": "2022-07-01T06:19:11.581Z"
   },
   {
    "duration": 24,
    "start_time": "2022-07-01T06:19:11.596Z"
   },
   {
    "duration": 361,
    "start_time": "2022-07-01T06:19:11.623Z"
   },
   {
    "duration": 15,
    "start_time": "2022-07-01T06:19:11.986Z"
   },
   {
    "duration": 264,
    "start_time": "2022-07-01T06:19:12.003Z"
   },
   {
    "duration": 17,
    "start_time": "2022-07-01T06:19:12.268Z"
   },
   {
    "duration": 14,
    "start_time": "2022-07-01T06:19:12.286Z"
   },
   {
    "duration": 66,
    "start_time": "2022-07-01T06:19:12.302Z"
   },
   {
    "duration": 59,
    "start_time": "2022-07-01T06:19:12.370Z"
   },
   {
    "duration": 65,
    "start_time": "2022-07-01T06:19:12.431Z"
   },
   {
    "duration": 630,
    "start_time": "2022-07-01T06:19:12.498Z"
   },
   {
    "duration": 816,
    "start_time": "2022-07-01T06:19:13.130Z"
   },
   {
    "duration": 16,
    "start_time": "2022-07-01T06:19:13.948Z"
   },
   {
    "duration": 976,
    "start_time": "2022-07-01T06:19:13.965Z"
   },
   {
    "duration": 53,
    "start_time": "2022-07-01T06:19:14.943Z"
   },
   {
    "duration": 489,
    "start_time": "2022-07-01T06:19:14.998Z"
   },
   {
    "duration": 85,
    "start_time": "2022-07-01T06:19:15.490Z"
   },
   {
    "duration": 2468,
    "start_time": "2022-07-01T06:19:15.577Z"
   },
   {
    "duration": 3,
    "start_time": "2022-07-01T06:19:18.046Z"
   },
   {
    "duration": 3,
    "start_time": "2022-07-01T06:24:58.045Z"
   },
   {
    "duration": 1051592,
    "start_time": "2022-07-01T06:25:15.182Z"
   },
   {
    "duration": 308578,
    "start_time": "2022-07-01T06:48:04.532Z"
   },
   {
    "duration": 593364,
    "start_time": "2022-07-01T06:54:34.952Z"
   },
   {
    "duration": 1313077,
    "start_time": "2022-07-01T07:04:58.975Z"
   },
   {
    "duration": 717871,
    "start_time": "2022-07-01T07:28:01.088Z"
   },
   {
    "duration": 90,
    "start_time": "2022-07-01T07:39:58.962Z"
   },
   {
    "duration": 127,
    "start_time": "2022-07-01T07:39:59.054Z"
   },
   {
    "duration": 36478,
    "start_time": "2022-07-01T07:44:09.716Z"
   },
   {
    "duration": 51249,
    "start_time": "2022-07-01T07:48:34.111Z"
   },
   {
    "duration": 53362,
    "start_time": "2022-07-01T07:50:42.498Z"
   },
   {
    "duration": 4,
    "start_time": "2022-07-01T07:52:08.339Z"
   },
   {
    "duration": 144,
    "start_time": "2022-07-01T07:52:11.828Z"
   },
   {
    "duration": 10130,
    "start_time": "2022-07-01T07:52:38.597Z"
   },
   {
    "duration": 33,
    "start_time": "2022-07-01T07:53:05.263Z"
   },
   {
    "duration": 52677,
    "start_time": "2022-07-01T07:53:22.542Z"
   },
   {
    "duration": 21,
    "start_time": "2022-07-01T07:54:15.220Z"
   },
   {
    "duration": 3,
    "start_time": "2022-07-01T07:55:31.763Z"
   },
   {
    "duration": 22,
    "start_time": "2022-07-01T07:55:40.378Z"
   },
   {
    "duration": 23,
    "start_time": "2022-07-01T07:55:50.682Z"
   },
   {
    "duration": 4,
    "start_time": "2022-07-01T07:56:16.838Z"
   },
   {
    "duration": 5,
    "start_time": "2022-07-01T07:56:16.845Z"
   },
   {
    "duration": 7,
    "start_time": "2022-07-01T07:56:16.852Z"
   },
   {
    "duration": 6,
    "start_time": "2022-07-01T07:56:16.861Z"
   },
   {
    "duration": 1033,
    "start_time": "2022-07-01T07:56:16.869Z"
   },
   {
    "duration": 152,
    "start_time": "2022-07-01T07:56:17.905Z"
   },
   {
    "duration": 530,
    "start_time": "2022-07-01T07:56:18.059Z"
   },
   {
    "duration": 504,
    "start_time": "2022-07-01T07:56:18.591Z"
   },
   {
    "duration": 606,
    "start_time": "2022-07-01T07:56:19.098Z"
   },
   {
    "duration": 21,
    "start_time": "2022-07-01T07:56:19.706Z"
   },
   {
    "duration": 5,
    "start_time": "2022-07-01T07:56:19.729Z"
   },
   {
    "duration": 10,
    "start_time": "2022-07-01T07:56:19.752Z"
   },
   {
    "duration": 16,
    "start_time": "2022-07-01T07:56:19.765Z"
   },
   {
    "duration": 75,
    "start_time": "2022-07-01T07:56:19.783Z"
   },
   {
    "duration": 13,
    "start_time": "2022-07-01T07:56:19.860Z"
   },
   {
    "duration": 6,
    "start_time": "2022-07-01T07:56:19.875Z"
   },
   {
    "duration": 369,
    "start_time": "2022-07-01T07:56:19.883Z"
   },
   {
    "duration": 31,
    "start_time": "2022-07-01T07:56:20.255Z"
   },
   {
    "duration": 63,
    "start_time": "2022-07-01T07:56:20.288Z"
   },
   {
    "duration": 124,
    "start_time": "2022-07-01T07:56:20.354Z"
   },
   {
    "duration": 19,
    "start_time": "2022-07-01T07:56:20.479Z"
   },
   {
    "duration": 6,
    "start_time": "2022-07-01T07:56:20.500Z"
   },
   {
    "duration": 67,
    "start_time": "2022-07-01T07:56:20.507Z"
   },
   {
    "duration": 23,
    "start_time": "2022-07-01T07:56:20.579Z"
   },
   {
    "duration": 130,
    "start_time": "2022-07-01T07:56:20.610Z"
   },
   {
    "duration": 22,
    "start_time": "2022-07-01T07:56:20.742Z"
   },
   {
    "duration": 21,
    "start_time": "2022-07-01T07:56:20.767Z"
   },
   {
    "duration": 75,
    "start_time": "2022-07-01T07:56:20.790Z"
   },
   {
    "duration": 23,
    "start_time": "2022-07-01T07:56:20.867Z"
   },
   {
    "duration": 18,
    "start_time": "2022-07-01T07:56:20.892Z"
   },
   {
    "duration": 146,
    "start_time": "2022-07-01T07:56:20.913Z"
   },
   {
    "duration": 17,
    "start_time": "2022-07-01T07:56:21.061Z"
   },
   {
    "duration": 25,
    "start_time": "2022-07-01T07:56:21.080Z"
   },
   {
    "duration": 44,
    "start_time": "2022-07-01T07:56:21.107Z"
   },
   {
    "duration": 135,
    "start_time": "2022-07-01T07:56:21.153Z"
   },
   {
    "duration": 16,
    "start_time": "2022-07-01T07:56:21.291Z"
   },
   {
    "duration": 20,
    "start_time": "2022-07-01T07:56:21.309Z"
   },
   {
    "duration": 30,
    "start_time": "2022-07-01T07:56:21.331Z"
   },
   {
    "duration": 179,
    "start_time": "2022-07-01T07:56:21.363Z"
   },
   {
    "duration": 22,
    "start_time": "2022-07-01T07:56:21.544Z"
   },
   {
    "duration": 19,
    "start_time": "2022-07-01T07:56:21.569Z"
   },
   {
    "duration": 496,
    "start_time": "2022-07-01T07:56:21.590Z"
   },
   {
    "duration": 23,
    "start_time": "2022-07-01T07:56:22.088Z"
   },
   {
    "duration": 467,
    "start_time": "2022-07-01T07:56:22.114Z"
   },
   {
    "duration": 21,
    "start_time": "2022-07-01T07:56:22.583Z"
   },
   {
    "duration": 46,
    "start_time": "2022-07-01T07:56:22.606Z"
   },
   {
    "duration": 44,
    "start_time": "2022-07-01T07:56:22.654Z"
   },
   {
    "duration": 105,
    "start_time": "2022-07-01T07:56:22.700Z"
   },
   {
    "duration": 87,
    "start_time": "2022-07-01T07:56:22.807Z"
   },
   {
    "duration": 1142,
    "start_time": "2022-07-01T07:56:22.896Z"
   },
   {
    "duration": 1207,
    "start_time": "2022-07-01T07:56:24.040Z"
   },
   {
    "duration": 20,
    "start_time": "2022-07-01T07:56:25.250Z"
   },
   {
    "duration": 1155,
    "start_time": "2022-07-01T07:56:25.272Z"
   },
   {
    "duration": 79,
    "start_time": "2022-07-01T07:56:26.429Z"
   },
   {
    "duration": 570,
    "start_time": "2022-07-01T07:56:26.510Z"
   },
   {
    "duration": 81,
    "start_time": "2022-07-01T07:56:27.083Z"
   },
   {
    "duration": 2915,
    "start_time": "2022-07-01T07:56:27.167Z"
   },
   {
    "duration": 4,
    "start_time": "2022-07-01T07:56:30.084Z"
   },
   {
    "duration": 4,
    "start_time": "2022-07-01T07:56:48.297Z"
   },
   {
    "duration": 53797,
    "start_time": "2022-07-01T07:56:54.891Z"
   },
   {
    "duration": 4,
    "start_time": "2022-07-01T07:59:35.682Z"
   },
   {
    "duration": 52342,
    "start_time": "2022-07-01T07:59:38.872Z"
   },
   {
    "duration": 4,
    "start_time": "2022-07-01T09:26:34.597Z"
   },
   {
    "duration": 8,
    "start_time": "2022-07-01T09:26:34.603Z"
   },
   {
    "duration": 1680,
    "start_time": "2022-07-01T09:26:34.613Z"
   },
   {
    "duration": 3,
    "start_time": "2022-07-01T09:26:36.296Z"
   },
   {
    "duration": 2818,
    "start_time": "2022-07-01T09:26:36.301Z"
   },
   {
    "duration": 130,
    "start_time": "2022-07-01T09:26:39.121Z"
   },
   {
    "duration": 441,
    "start_time": "2022-07-01T09:26:39.252Z"
   },
   {
    "duration": 462,
    "start_time": "2022-07-01T09:26:39.695Z"
   },
   {
    "duration": 545,
    "start_time": "2022-07-01T09:26:40.158Z"
   },
   {
    "duration": 27,
    "start_time": "2022-07-01T09:26:40.706Z"
   },
   {
    "duration": 17,
    "start_time": "2022-07-01T09:26:40.735Z"
   },
   {
    "duration": 33,
    "start_time": "2022-07-01T09:26:40.754Z"
   },
   {
    "duration": 17,
    "start_time": "2022-07-01T09:26:40.788Z"
   },
   {
    "duration": 62,
    "start_time": "2022-07-01T09:26:40.807Z"
   },
   {
    "duration": 9,
    "start_time": "2022-07-01T09:26:40.871Z"
   },
   {
    "duration": 4,
    "start_time": "2022-07-01T09:26:40.881Z"
   },
   {
    "duration": 373,
    "start_time": "2022-07-01T09:26:40.887Z"
   },
   {
    "duration": 25,
    "start_time": "2022-07-01T09:26:41.262Z"
   },
   {
    "duration": 39,
    "start_time": "2022-07-01T09:26:41.289Z"
   },
   {
    "duration": 95,
    "start_time": "2022-07-01T09:26:41.330Z"
   },
   {
    "duration": 17,
    "start_time": "2022-07-01T09:26:41.427Z"
   },
   {
    "duration": 6,
    "start_time": "2022-07-01T09:26:41.446Z"
   },
   {
    "duration": 78,
    "start_time": "2022-07-01T09:26:41.454Z"
   },
   {
    "duration": 15,
    "start_time": "2022-07-01T09:26:41.534Z"
   },
   {
    "duration": 127,
    "start_time": "2022-07-01T09:26:41.551Z"
   },
   {
    "duration": 16,
    "start_time": "2022-07-01T09:26:41.680Z"
   },
   {
    "duration": 29,
    "start_time": "2022-07-01T09:26:41.697Z"
   },
   {
    "duration": 46,
    "start_time": "2022-07-01T09:26:41.730Z"
   },
   {
    "duration": 19,
    "start_time": "2022-07-01T09:26:41.778Z"
   },
   {
    "duration": 30,
    "start_time": "2022-07-01T09:26:41.799Z"
   },
   {
    "duration": 120,
    "start_time": "2022-07-01T09:26:41.831Z"
   },
   {
    "duration": 14,
    "start_time": "2022-07-01T09:26:41.953Z"
   },
   {
    "duration": 17,
    "start_time": "2022-07-01T09:26:41.969Z"
   },
   {
    "duration": 14,
    "start_time": "2022-07-01T09:26:41.988Z"
   },
   {
    "duration": 128,
    "start_time": "2022-07-01T09:26:42.003Z"
   },
   {
    "duration": 14,
    "start_time": "2022-07-01T09:26:42.133Z"
   },
   {
    "duration": 18,
    "start_time": "2022-07-01T09:26:42.148Z"
   },
   {
    "duration": 14,
    "start_time": "2022-07-01T09:26:42.168Z"
   },
   {
    "duration": 135,
    "start_time": "2022-07-01T09:26:42.184Z"
   },
   {
    "duration": 14,
    "start_time": "2022-07-01T09:26:42.321Z"
   },
   {
    "duration": 17,
    "start_time": "2022-07-01T09:26:42.337Z"
   },
   {
    "duration": 415,
    "start_time": "2022-07-01T09:26:42.356Z"
   },
   {
    "duration": 17,
    "start_time": "2022-07-01T09:26:42.773Z"
   },
   {
    "duration": 285,
    "start_time": "2022-07-01T09:26:42.791Z"
   },
   {
    "duration": 17,
    "start_time": "2022-07-01T09:26:43.078Z"
   },
   {
    "duration": 13,
    "start_time": "2022-07-01T09:26:43.096Z"
   },
   {
    "duration": 47,
    "start_time": "2022-07-01T09:26:43.126Z"
   },
   {
    "duration": 79,
    "start_time": "2022-07-01T09:26:43.174Z"
   },
   {
    "duration": 71,
    "start_time": "2022-07-01T09:26:43.255Z"
   },
   {
    "duration": 720,
    "start_time": "2022-07-01T09:26:43.328Z"
   },
   {
    "duration": 903,
    "start_time": "2022-07-01T09:26:44.049Z"
   },
   {
    "duration": 17,
    "start_time": "2022-07-01T09:26:44.954Z"
   },
   {
    "duration": 1070,
    "start_time": "2022-07-01T09:26:44.973Z"
   },
   {
    "duration": 60,
    "start_time": "2022-07-01T09:26:46.045Z"
   },
   {
    "duration": 516,
    "start_time": "2022-07-01T09:26:46.106Z"
   },
   {
    "duration": 75,
    "start_time": "2022-07-01T09:26:46.626Z"
   },
   {
    "duration": 2614,
    "start_time": "2022-07-01T09:26:46.706Z"
   },
   {
    "duration": 4,
    "start_time": "2022-07-01T09:26:49.324Z"
   },
   {
    "duration": 113,
    "start_time": "2022-07-01T09:27:09.389Z"
   },
   {
    "duration": 4,
    "start_time": "2022-07-01T09:27:15.347Z"
   },
   {
    "duration": 4,
    "start_time": "2022-07-01T09:27:29.092Z"
   },
   {
    "duration": 149,
    "start_time": "2022-07-01T09:29:42.371Z"
   },
   {
    "duration": 4,
    "start_time": "2022-07-01T09:29:46.420Z"
   },
   {
    "duration": 43972,
    "start_time": "2022-07-01T09:30:02.607Z"
   },
   {
    "duration": 65,
    "start_time": "2022-07-01T09:31:42.760Z"
   },
   {
    "duration": 415,
    "start_time": "2022-07-01T09:32:07.961Z"
   },
   {
    "duration": 65,
    "start_time": "2022-07-01T09:32:17.720Z"
   },
   {
    "duration": 12,
    "start_time": "2022-07-01T09:32:18.847Z"
   },
   {
    "duration": 115,
    "start_time": "2022-07-01T09:32:49.663Z"
   },
   {
    "duration": 107,
    "start_time": "2022-07-01T09:33:10.166Z"
   },
   {
    "duration": 394,
    "start_time": "2022-07-01T09:33:49.119Z"
   },
   {
    "duration": 54,
    "start_time": "2022-07-01T09:34:24.773Z"
   },
   {
    "duration": 397,
    "start_time": "2022-07-01T09:34:32.722Z"
   },
   {
    "duration": 404,
    "start_time": "2022-07-01T09:34:57.408Z"
   },
   {
    "duration": 51,
    "start_time": "2022-07-01T09:34:59.916Z"
   },
   {
    "duration": 395,
    "start_time": "2022-07-01T09:35:01.044Z"
   },
   {
    "duration": 37613,
    "start_time": "2022-07-01T09:35:38.754Z"
   },
   {
    "duration": 42377,
    "start_time": "2022-07-01T09:36:38.629Z"
   },
   {
    "duration": 40459,
    "start_time": "2022-07-01T09:37:34.875Z"
   },
   {
    "duration": 3,
    "start_time": "2022-07-01T09:40:18.735Z"
   },
   {
    "duration": 64,
    "start_time": "2022-07-01T09:41:17.515Z"
   },
   {
    "duration": 2214,
    "start_time": "2022-07-01T09:41:18.704Z"
   },
   {
    "duration": 4,
    "start_time": "2022-07-01T09:41:47.342Z"
   },
   {
    "duration": 3,
    "start_time": "2022-07-01T09:41:56.454Z"
   },
   {
    "duration": 37751,
    "start_time": "2022-07-01T09:42:12.346Z"
   },
   {
    "duration": 3,
    "start_time": "2022-07-01T09:43:18.941Z"
   },
   {
    "duration": 38720,
    "start_time": "2022-07-01T09:44:49.487Z"
   },
   {
    "duration": 39141,
    "start_time": "2022-07-01T09:46:23.144Z"
   },
   {
    "duration": 3,
    "start_time": "2022-07-01T09:47:02.287Z"
   },
   {
    "duration": 39544,
    "start_time": "2022-07-01T09:47:16.639Z"
   },
   {
    "duration": 12869,
    "start_time": "2022-07-01T09:48:17.622Z"
   },
   {
    "duration": 98,
    "start_time": "2022-07-01T09:49:27.795Z"
   },
   {
    "duration": 466829,
    "start_time": "2022-07-01T09:49:36.621Z"
   },
   {
    "duration": 67359,
    "start_time": "2022-07-01T09:57:23.452Z"
   },
   {
    "duration": 69741,
    "start_time": "2022-07-01T09:58:30.812Z"
   },
   {
    "duration": 4,
    "start_time": "2022-07-01T10:01:06.881Z"
   },
   {
    "duration": 15,
    "start_time": "2022-07-01T10:01:06.887Z"
   },
   {
    "duration": 1518,
    "start_time": "2022-07-01T10:01:06.904Z"
   },
   {
    "duration": 15,
    "start_time": "2022-07-01T10:01:08.423Z"
   },
   {
    "duration": 803,
    "start_time": "2022-07-01T10:01:08.440Z"
   },
   {
    "duration": 136,
    "start_time": "2022-07-01T10:01:09.245Z"
   },
   {
    "duration": 454,
    "start_time": "2022-07-01T10:01:09.383Z"
   },
   {
    "duration": 466,
    "start_time": "2022-07-01T10:01:09.839Z"
   },
   {
    "duration": 600,
    "start_time": "2022-07-01T10:01:10.307Z"
   },
   {
    "duration": 33,
    "start_time": "2022-07-01T10:01:10.909Z"
   },
   {
    "duration": 10,
    "start_time": "2022-07-01T10:01:10.943Z"
   },
   {
    "duration": 14,
    "start_time": "2022-07-01T10:01:10.955Z"
   },
   {
    "duration": 20,
    "start_time": "2022-07-01T10:01:10.970Z"
   },
   {
    "duration": 81,
    "start_time": "2022-07-01T10:01:10.994Z"
   },
   {
    "duration": 9,
    "start_time": "2022-07-01T10:01:11.076Z"
   },
   {
    "duration": 9,
    "start_time": "2022-07-01T10:01:11.086Z"
   },
   {
    "duration": 346,
    "start_time": "2022-07-01T10:01:11.096Z"
   },
   {
    "duration": 24,
    "start_time": "2022-07-01T10:01:11.444Z"
   },
   {
    "duration": 21,
    "start_time": "2022-07-01T10:01:11.470Z"
   },
   {
    "duration": 110,
    "start_time": "2022-07-01T10:01:11.492Z"
   },
   {
    "duration": 31,
    "start_time": "2022-07-01T10:01:11.604Z"
   },
   {
    "duration": 6,
    "start_time": "2022-07-01T10:01:11.637Z"
   },
   {
    "duration": 69,
    "start_time": "2022-07-01T10:01:11.645Z"
   },
   {
    "duration": 21,
    "start_time": "2022-07-01T10:01:11.716Z"
   },
   {
    "duration": 115,
    "start_time": "2022-07-01T10:01:11.739Z"
   },
   {
    "duration": 13,
    "start_time": "2022-07-01T10:01:11.856Z"
   },
   {
    "duration": 16,
    "start_time": "2022-07-01T10:01:11.871Z"
   },
   {
    "duration": 151,
    "start_time": "2022-07-01T10:01:11.888Z"
   },
   {
    "duration": 19,
    "start_time": "2022-07-01T10:01:12.041Z"
   },
   {
    "duration": 15,
    "start_time": "2022-07-01T10:01:12.062Z"
   },
   {
    "duration": 141,
    "start_time": "2022-07-01T10:01:12.079Z"
   },
   {
    "duration": 22,
    "start_time": "2022-07-01T10:01:12.221Z"
   },
   {
    "duration": 23,
    "start_time": "2022-07-01T10:01:12.244Z"
   },
   {
    "duration": 13,
    "start_time": "2022-07-01T10:01:12.269Z"
   },
   {
    "duration": 129,
    "start_time": "2022-07-01T10:01:12.284Z"
   },
   {
    "duration": 25,
    "start_time": "2022-07-01T10:01:12.415Z"
   },
   {
    "duration": 43,
    "start_time": "2022-07-01T10:01:12.442Z"
   },
   {
    "duration": 30,
    "start_time": "2022-07-01T10:01:12.487Z"
   },
   {
    "duration": 167,
    "start_time": "2022-07-01T10:01:12.518Z"
   },
   {
    "duration": 14,
    "start_time": "2022-07-01T10:01:12.687Z"
   },
   {
    "duration": 53,
    "start_time": "2022-07-01T10:01:12.705Z"
   },
   {
    "duration": 421,
    "start_time": "2022-07-01T10:01:12.760Z"
   },
   {
    "duration": 16,
    "start_time": "2022-07-01T10:01:13.184Z"
   },
   {
    "duration": 315,
    "start_time": "2022-07-01T10:01:13.202Z"
   },
   {
    "duration": 31,
    "start_time": "2022-07-01T10:01:13.519Z"
   },
   {
    "duration": 16,
    "start_time": "2022-07-01T10:01:13.551Z"
   },
   {
    "duration": 73,
    "start_time": "2022-07-01T10:01:13.569Z"
   },
   {
    "duration": 66,
    "start_time": "2022-07-01T10:01:13.644Z"
   },
   {
    "duration": 70,
    "start_time": "2022-07-01T10:01:13.726Z"
   },
   {
    "duration": 671,
    "start_time": "2022-07-01T10:01:13.797Z"
   },
   {
    "duration": 938,
    "start_time": "2022-07-01T10:01:14.470Z"
   },
   {
    "duration": 32,
    "start_time": "2022-07-01T10:01:15.410Z"
   },
   {
    "duration": 935,
    "start_time": "2022-07-01T10:01:15.444Z"
   },
   {
    "duration": 62,
    "start_time": "2022-07-01T10:01:16.381Z"
   },
   {
    "duration": 497,
    "start_time": "2022-07-01T10:01:16.445Z"
   },
   {
    "duration": 55,
    "start_time": "2022-07-01T10:01:16.944Z"
   },
   {
    "duration": 2173,
    "start_time": "2022-07-01T10:01:17.001Z"
   },
   {
    "duration": 3,
    "start_time": "2022-07-01T10:01:21.876Z"
   },
   {
    "duration": 3,
    "start_time": "2022-07-01T10:01:27.000Z"
   },
   {
    "duration": 3,
    "start_time": "2022-07-01T10:01:27.557Z"
   },
   {
    "duration": 37950,
    "start_time": "2022-07-01T10:01:28.097Z"
   },
   {
    "duration": 13720,
    "start_time": "2022-07-01T10:02:06.049Z"
   },
   {
    "duration": 60876,
    "start_time": "2022-07-01T10:02:19.771Z"
   },
   {
    "duration": 67454,
    "start_time": "2022-07-01T10:03:20.649Z"
   },
   {
    "duration": 93,
    "start_time": "2022-07-01T10:08:19.584Z"
   },
   {
    "duration": 83,
    "start_time": "2022-07-01T10:09:39.637Z"
   },
   {
    "duration": 100,
    "start_time": "2022-07-01T10:11:53.070Z"
   },
   {
    "duration": 1791,
    "start_time": "2022-07-01T10:52:39.958Z"
   },
   {
    "duration": 9,
    "start_time": "2022-07-01T10:52:43.767Z"
   },
   {
    "duration": 1087,
    "start_time": "2022-07-01T10:52:47.100Z"
   },
   {
    "duration": 128,
    "start_time": "2022-07-01T10:52:48.189Z"
   },
   {
    "duration": 490,
    "start_time": "2022-07-01T10:52:54.932Z"
   },
   {
    "duration": 442,
    "start_time": "2022-07-01T10:53:09.153Z"
   },
   {
    "duration": 551,
    "start_time": "2022-07-01T10:53:13.846Z"
   },
   {
    "duration": 23,
    "start_time": "2022-07-01T10:53:53.961Z"
   },
   {
    "duration": 4,
    "start_time": "2022-07-01T10:55:33.222Z"
   },
   {
    "duration": 6,
    "start_time": "2022-07-01T10:55:35.830Z"
   },
   {
    "duration": 22,
    "start_time": "2022-07-01T11:01:02.603Z"
   },
   {
    "duration": 67,
    "start_time": "2022-07-01T11:01:15.267Z"
   },
   {
    "duration": 11,
    "start_time": "2022-07-01T11:01:15.571Z"
   },
   {
    "duration": 4,
    "start_time": "2022-07-01T11:01:17.178Z"
   },
   {
    "duration": 377,
    "start_time": "2022-07-01T11:02:00.963Z"
   },
   {
    "duration": 308,
    "start_time": "2022-07-01T11:02:25.227Z"
   },
   {
    "duration": 310,
    "start_time": "2022-07-01T11:02:33.513Z"
   },
   {
    "duration": 334,
    "start_time": "2022-07-01T11:03:50.769Z"
   },
   {
    "duration": 294,
    "start_time": "2022-07-01T11:04:00.531Z"
   },
   {
    "duration": 25,
    "start_time": "2022-07-01T11:04:13.312Z"
   },
   {
    "duration": 24,
    "start_time": "2022-07-01T11:04:15.054Z"
   },
   {
    "duration": 94,
    "start_time": "2022-07-01T11:07:26.887Z"
   },
   {
    "duration": 18,
    "start_time": "2022-07-01T11:07:27.411Z"
   },
   {
    "duration": 5,
    "start_time": "2022-07-01T11:07:49.967Z"
   },
   {
    "duration": 56,
    "start_time": "2022-07-01T11:07:57.716Z"
   },
   {
    "duration": 7,
    "start_time": "2022-07-01T11:16:49.099Z"
   },
   {
    "duration": 13,
    "start_time": "2022-07-01T11:18:01.129Z"
   },
   {
    "duration": 97,
    "start_time": "2022-07-01T11:18:19.694Z"
   },
   {
    "duration": 14,
    "start_time": "2022-07-01T11:18:20.232Z"
   },
   {
    "duration": 16,
    "start_time": "2022-07-01T11:19:36.280Z"
   },
   {
    "duration": 22,
    "start_time": "2022-07-01T11:20:18.492Z"
   },
   {
    "duration": 112,
    "start_time": "2022-07-01T11:20:54.762Z"
   },
   {
    "duration": 16,
    "start_time": "2022-07-01T11:20:55.700Z"
   },
   {
    "duration": 17,
    "start_time": "2022-07-01T11:20:58.760Z"
   },
   {
    "duration": 113,
    "start_time": "2022-07-01T11:21:06.213Z"
   },
   {
    "duration": 15,
    "start_time": "2022-07-01T11:21:06.798Z"
   },
   {
    "duration": 19,
    "start_time": "2022-07-01T11:21:07.416Z"
   },
   {
    "duration": 108,
    "start_time": "2022-07-01T11:21:20.825Z"
   },
   {
    "duration": 25,
    "start_time": "2022-07-01T11:21:25.345Z"
   },
   {
    "duration": 26,
    "start_time": "2022-07-01T11:21:25.703Z"
   },
   {
    "duration": 62,
    "start_time": "2022-07-01T11:22:14.149Z"
   },
   {
    "duration": 397,
    "start_time": "2022-07-01T11:22:21.245Z"
   },
   {
    "duration": 23,
    "start_time": "2022-07-01T11:22:24.523Z"
   },
   {
    "duration": 387,
    "start_time": "2022-07-01T11:22:24.982Z"
   },
   {
    "duration": 18,
    "start_time": "2022-07-01T11:22:31.055Z"
   },
   {
    "duration": 16,
    "start_time": "2022-07-01T11:22:32.380Z"
   },
   {
    "duration": 47,
    "start_time": "2022-07-01T11:35:03.784Z"
   },
   {
    "duration": 71,
    "start_time": "2022-07-01T11:36:01.835Z"
   },
   {
    "duration": 62,
    "start_time": "2022-07-01T11:36:12.333Z"
   },
   {
    "duration": 745,
    "start_time": "2022-07-01T11:36:21.274Z"
   },
   {
    "duration": 134,
    "start_time": "2022-07-01T11:36:44.776Z"
   },
   {
    "duration": 4,
    "start_time": "2022-07-01T11:36:55.503Z"
   },
   {
    "duration": 880,
    "start_time": "2022-07-01T11:37:04.875Z"
   },
   {
    "duration": 21,
    "start_time": "2022-07-01T11:37:05.759Z"
   },
   {
    "duration": 59,
    "start_time": "2022-07-01T11:40:34.203Z"
   },
   {
    "duration": 512,
    "start_time": "2022-07-01T11:40:34.751Z"
   },
   {
    "duration": 64,
    "start_time": "2022-07-01T11:41:12.307Z"
   },
   {
    "duration": 2274,
    "start_time": "2022-07-01T11:41:22.536Z"
   },
   {
    "duration": 4,
    "start_time": "2022-07-01T11:49:33.900Z"
   },
   {
    "duration": 3,
    "start_time": "2022-07-01T12:06:38.302Z"
   },
   {
    "duration": 6,
    "start_time": "2022-07-01T12:06:48.053Z"
   },
   {
    "duration": 142,
    "start_time": "2022-07-01T14:03:49.399Z"
   },
   {
    "duration": 2,
    "start_time": "2022-07-01T14:04:09.055Z"
   },
   {
    "duration": 26,
    "start_time": "2022-07-01T14:04:09.065Z"
   },
   {
    "duration": 1576,
    "start_time": "2022-07-01T14:04:12.049Z"
   },
   {
    "duration": 3,
    "start_time": "2022-07-01T14:04:13.627Z"
   },
   {
    "duration": 1143,
    "start_time": "2022-07-01T14:04:13.631Z"
   },
   {
    "duration": 150,
    "start_time": "2022-07-01T14:04:14.776Z"
   },
   {
    "duration": 507,
    "start_time": "2022-07-01T14:04:14.928Z"
   },
   {
    "duration": 451,
    "start_time": "2022-07-01T14:04:15.437Z"
   },
   {
    "duration": 534,
    "start_time": "2022-07-01T14:04:16.490Z"
   },
   {
    "duration": 22,
    "start_time": "2022-07-01T14:04:17.025Z"
   },
   {
    "duration": 29,
    "start_time": "2022-07-01T14:04:17.049Z"
   },
   {
    "duration": 10,
    "start_time": "2022-07-01T14:04:17.080Z"
   },
   {
    "duration": 16,
    "start_time": "2022-07-01T14:04:17.092Z"
   },
   {
    "duration": 63,
    "start_time": "2022-07-01T14:04:17.110Z"
   },
   {
    "duration": 9,
    "start_time": "2022-07-01T14:04:18.302Z"
   },
   {
    "duration": 3,
    "start_time": "2022-07-01T14:04:18.313Z"
   },
   {
    "duration": 367,
    "start_time": "2022-07-01T14:04:18.318Z"
   },
   {
    "duration": 24,
    "start_time": "2022-07-01T14:04:18.686Z"
   },
   {
    "duration": 21,
    "start_time": "2022-07-01T14:04:18.712Z"
   },
   {
    "duration": 119,
    "start_time": "2022-07-01T14:04:18.735Z"
   },
   {
    "duration": 22,
    "start_time": "2022-07-01T14:04:18.858Z"
   },
   {
    "duration": 5,
    "start_time": "2022-07-01T14:04:18.881Z"
   },
   {
    "duration": 52,
    "start_time": "2022-07-01T14:04:18.887Z"
   },
   {
    "duration": 34,
    "start_time": "2022-07-01T14:04:18.940Z"
   },
   {
    "duration": 128,
    "start_time": "2022-07-01T14:04:18.976Z"
   },
   {
    "duration": 17,
    "start_time": "2022-07-01T14:04:19.105Z"
   },
   {
    "duration": 23,
    "start_time": "2022-07-01T14:04:19.123Z"
   },
   {
    "duration": 61,
    "start_time": "2022-07-01T14:04:19.149Z"
   },
   {
    "duration": 19,
    "start_time": "2022-07-01T14:04:19.211Z"
   },
   {
    "duration": 45,
    "start_time": "2022-07-01T14:04:19.231Z"
   },
   {
    "duration": 121,
    "start_time": "2022-07-01T14:04:19.277Z"
   },
   {
    "duration": 15,
    "start_time": "2022-07-01T14:04:19.399Z"
   },
   {
    "duration": 20,
    "start_time": "2022-07-01T14:04:19.415Z"
   },
   {
    "duration": 44,
    "start_time": "2022-07-01T14:04:19.436Z"
   },
   {
    "duration": 119,
    "start_time": "2022-07-01T14:04:19.481Z"
   },
   {
    "duration": 15,
    "start_time": "2022-07-01T14:04:19.601Z"
   },
   {
    "duration": 24,
    "start_time": "2022-07-01T14:04:19.618Z"
   },
   {
    "duration": 33,
    "start_time": "2022-07-01T14:04:19.644Z"
   },
   {
    "duration": 124,
    "start_time": "2022-07-01T14:04:22.347Z"
   },
   {
    "duration": 15,
    "start_time": "2022-07-01T14:04:22.473Z"
   },
   {
    "duration": 19,
    "start_time": "2022-07-01T14:04:22.489Z"
   },
   {
    "duration": 394,
    "start_time": "2022-07-01T14:04:22.510Z"
   },
   {
    "duration": 16,
    "start_time": "2022-07-01T14:04:22.908Z"
   },
   {
    "duration": 319,
    "start_time": "2022-07-01T14:04:22.926Z"
   },
   {
    "duration": 30,
    "start_time": "2022-07-01T14:04:23.247Z"
   },
   {
    "duration": 15,
    "start_time": "2022-07-01T14:04:23.282Z"
   },
   {
    "duration": 47,
    "start_time": "2022-07-01T14:04:23.299Z"
   },
   {
    "duration": 82,
    "start_time": "2022-07-01T14:04:23.359Z"
   },
   {
    "duration": 89,
    "start_time": "2022-07-01T14:04:23.442Z"
   },
   {
    "duration": 683,
    "start_time": "2022-07-01T14:04:23.533Z"
   },
   {
    "duration": 1001,
    "start_time": "2022-07-01T14:04:24.217Z"
   },
   {
    "duration": 15,
    "start_time": "2022-07-01T14:04:25.221Z"
   },
   {
    "duration": 1075,
    "start_time": "2022-07-01T14:04:25.237Z"
   },
   {
    "duration": 59,
    "start_time": "2022-07-01T14:04:26.313Z"
   },
   {
    "duration": 500,
    "start_time": "2022-07-01T14:04:26.375Z"
   },
   {
    "duration": 55,
    "start_time": "2022-07-01T14:04:26.877Z"
   },
   {
    "duration": 2202,
    "start_time": "2022-07-01T14:04:26.933Z"
   },
   {
    "duration": 4,
    "start_time": "2022-07-01T14:04:29.136Z"
   },
   {
    "duration": 135,
    "start_time": "2022-07-01T14:05:19.286Z"
   },
   {
    "duration": 3,
    "start_time": "2022-07-01T14:05:38.098Z"
   },
   {
    "duration": 78,
    "start_time": "2022-07-01T14:05:45.419Z"
   },
   {
    "duration": 5,
    "start_time": "2022-07-01T14:05:54.640Z"
   },
   {
    "duration": 3,
    "start_time": "2022-07-01T14:18:48.254Z"
   },
   {
    "duration": 92,
    "start_time": "2022-07-01T14:18:58.210Z"
   },
   {
    "duration": 3,
    "start_time": "2022-07-01T14:20:13.109Z"
   },
   {
    "duration": 194126,
    "start_time": "2022-07-01T14:20:15.944Z"
   },
   {
    "duration": 53,
    "start_time": "2022-07-01T14:25:00.481Z"
   },
   {
    "duration": 881,
    "start_time": "2022-07-01T14:25:34.038Z"
   },
   {
    "duration": 4,
    "start_time": "2022-07-02T06:30:10.814Z"
   },
   {
    "duration": 5,
    "start_time": "2022-07-02T06:30:10.819Z"
   },
   {
    "duration": 1559,
    "start_time": "2022-07-02T06:30:10.826Z"
   },
   {
    "duration": 2,
    "start_time": "2022-07-02T06:30:12.387Z"
   },
   {
    "duration": 786,
    "start_time": "2022-07-02T06:30:12.391Z"
   },
   {
    "duration": 165,
    "start_time": "2022-07-02T06:30:13.179Z"
   },
   {
    "duration": 500,
    "start_time": "2022-07-02T06:30:13.346Z"
   },
   {
    "duration": 503,
    "start_time": "2022-07-02T06:30:13.848Z"
   },
   {
    "duration": 638,
    "start_time": "2022-07-02T06:30:14.353Z"
   },
   {
    "duration": 32,
    "start_time": "2022-07-02T06:30:14.994Z"
   },
   {
    "duration": 19,
    "start_time": "2022-07-02T06:30:15.028Z"
   },
   {
    "duration": 15,
    "start_time": "2022-07-02T06:30:15.049Z"
   },
   {
    "duration": 21,
    "start_time": "2022-07-02T06:30:15.065Z"
   },
   {
    "duration": 66,
    "start_time": "2022-07-02T06:30:15.088Z"
   },
   {
    "duration": 9,
    "start_time": "2022-07-02T06:30:15.156Z"
   },
   {
    "duration": 5,
    "start_time": "2022-07-02T06:30:15.166Z"
   },
   {
    "duration": 287,
    "start_time": "2022-07-02T06:30:15.172Z"
   },
   {
    "duration": 25,
    "start_time": "2022-07-02T06:30:15.461Z"
   },
   {
    "duration": 24,
    "start_time": "2022-07-02T06:30:15.487Z"
   },
   {
    "duration": 100,
    "start_time": "2022-07-02T06:30:15.526Z"
   },
   {
    "duration": 16,
    "start_time": "2022-07-02T06:30:15.628Z"
   },
   {
    "duration": 4,
    "start_time": "2022-07-02T06:30:15.646Z"
   },
   {
    "duration": 57,
    "start_time": "2022-07-02T06:30:15.652Z"
   },
   {
    "duration": 29,
    "start_time": "2022-07-02T06:30:15.710Z"
   },
   {
    "duration": 116,
    "start_time": "2022-07-02T06:30:15.741Z"
   },
   {
    "duration": 17,
    "start_time": "2022-07-02T06:30:15.859Z"
   },
   {
    "duration": 19,
    "start_time": "2022-07-02T06:30:15.878Z"
   },
   {
    "duration": 56,
    "start_time": "2022-07-02T06:30:15.992Z"
   },
   {
    "duration": 20,
    "start_time": "2022-07-02T06:30:16.049Z"
   },
   {
    "duration": 16,
    "start_time": "2022-07-02T06:30:16.070Z"
   },
   {
    "duration": 134,
    "start_time": "2022-07-02T06:30:16.087Z"
   },
   {
    "duration": 16,
    "start_time": "2022-07-02T06:30:16.223Z"
   },
   {
    "duration": 24,
    "start_time": "2022-07-02T06:30:16.241Z"
   },
   {
    "duration": 20,
    "start_time": "2022-07-02T06:30:16.267Z"
   },
   {
    "duration": 132,
    "start_time": "2022-07-02T06:30:16.288Z"
   },
   {
    "duration": 17,
    "start_time": "2022-07-02T06:30:16.421Z"
   },
   {
    "duration": 18,
    "start_time": "2022-07-02T06:30:16.440Z"
   },
   {
    "duration": 21,
    "start_time": "2022-07-02T06:30:16.460Z"
   },
   {
    "duration": 122,
    "start_time": "2022-07-02T06:30:16.483Z"
   },
   {
    "duration": 22,
    "start_time": "2022-07-02T06:30:16.607Z"
   },
   {
    "duration": 21,
    "start_time": "2022-07-02T06:30:16.630Z"
   },
   {
    "duration": 410,
    "start_time": "2022-07-02T06:30:16.652Z"
   },
   {
    "duration": 18,
    "start_time": "2022-07-02T06:30:17.064Z"
   },
   {
    "duration": 292,
    "start_time": "2022-07-02T06:30:17.083Z"
   },
   {
    "duration": 21,
    "start_time": "2022-07-02T06:30:17.376Z"
   },
   {
    "duration": 28,
    "start_time": "2022-07-02T06:30:17.399Z"
   },
   {
    "duration": 51,
    "start_time": "2022-07-02T06:30:17.429Z"
   },
   {
    "duration": 91,
    "start_time": "2022-07-02T06:30:17.482Z"
   },
   {
    "duration": 86,
    "start_time": "2022-07-02T06:30:17.575Z"
   },
   {
    "duration": 781,
    "start_time": "2022-07-02T06:30:17.663Z"
   },
   {
    "duration": 980,
    "start_time": "2022-07-02T06:30:18.446Z"
   },
   {
    "duration": 17,
    "start_time": "2022-07-02T06:30:19.427Z"
   },
   {
    "duration": 992,
    "start_time": "2022-07-02T06:30:19.445Z"
   },
   {
    "duration": 60,
    "start_time": "2022-07-02T06:30:20.439Z"
   },
   {
    "duration": 528,
    "start_time": "2022-07-02T06:30:20.500Z"
   },
   {
    "duration": 63,
    "start_time": "2022-07-02T06:30:21.030Z"
   },
   {
    "duration": 2970,
    "start_time": "2022-07-02T06:30:21.095Z"
   },
   {
    "duration": 3,
    "start_time": "2022-07-02T06:30:30.155Z"
   },
   {
    "duration": 98605,
    "start_time": "2022-07-02T06:30:32.724Z"
   },
   {
    "duration": 30651,
    "start_time": "2022-07-02T06:39:05.377Z"
   },
   {
    "duration": 5,
    "start_time": "2022-07-02T06:39:52.421Z"
   },
   {
    "duration": 23541,
    "start_time": "2022-07-02T06:40:25.588Z"
   },
   {
    "duration": 4,
    "start_time": "2022-07-02T06:40:52.494Z"
   },
   {
    "duration": 100197,
    "start_time": "2022-07-02T06:41:25.728Z"
   },
   {
    "duration": 5,
    "start_time": "2022-07-02T06:43:05.928Z"
   },
   {
    "duration": 116203,
    "start_time": "2022-07-02T06:43:05.935Z"
   },
   {
    "duration": 3,
    "start_time": "2022-07-02T07:34:47.993Z"
   },
   {
    "duration": 6,
    "start_time": "2022-07-02T07:34:47.998Z"
   },
   {
    "duration": 1548,
    "start_time": "2022-07-02T07:34:48.005Z"
   },
   {
    "duration": 3,
    "start_time": "2022-07-02T07:34:49.555Z"
   },
   {
    "duration": 995,
    "start_time": "2022-07-02T07:34:49.559Z"
   },
   {
    "duration": 123,
    "start_time": "2022-07-02T07:34:50.556Z"
   },
   {
    "duration": 446,
    "start_time": "2022-07-02T07:34:50.681Z"
   },
   {
    "duration": 471,
    "start_time": "2022-07-02T07:34:51.129Z"
   },
   {
    "duration": 23,
    "start_time": "2022-07-02T07:34:51.603Z"
   },
   {
    "duration": 555,
    "start_time": "2022-07-02T07:34:51.629Z"
   },
   {
    "duration": 3,
    "start_time": "2022-07-02T07:34:52.186Z"
   },
   {
    "duration": 11,
    "start_time": "2022-07-02T07:34:52.191Z"
   },
   {
    "duration": 17,
    "start_time": "2022-07-02T07:34:52.205Z"
   },
   {
    "duration": 80,
    "start_time": "2022-07-02T07:34:52.223Z"
   },
   {
    "duration": 9,
    "start_time": "2022-07-02T07:34:52.305Z"
   },
   {
    "duration": 4,
    "start_time": "2022-07-02T07:34:52.315Z"
   },
   {
    "duration": 384,
    "start_time": "2022-07-02T07:34:52.320Z"
   },
   {
    "duration": 26,
    "start_time": "2022-07-02T07:34:52.706Z"
   },
   {
    "duration": 41,
    "start_time": "2022-07-02T07:34:52.733Z"
   },
   {
    "duration": 97,
    "start_time": "2022-07-02T07:34:52.776Z"
   },
   {
    "duration": 16,
    "start_time": "2022-07-02T07:34:52.875Z"
   },
   {
    "duration": 5,
    "start_time": "2022-07-02T07:34:52.892Z"
   },
   {
    "duration": 75,
    "start_time": "2022-07-02T07:34:52.899Z"
   },
   {
    "duration": 14,
    "start_time": "2022-07-02T07:34:52.977Z"
   },
   {
    "duration": 107,
    "start_time": "2022-07-02T07:34:52.992Z"
   },
   {
    "duration": 15,
    "start_time": "2022-07-02T07:34:53.100Z"
   },
   {
    "duration": 23,
    "start_time": "2022-07-02T07:34:53.117Z"
   },
   {
    "duration": 72,
    "start_time": "2022-07-02T07:34:53.142Z"
   },
   {
    "duration": 16,
    "start_time": "2022-07-02T07:34:53.216Z"
   },
   {
    "duration": 14,
    "start_time": "2022-07-02T07:34:53.234Z"
   },
   {
    "duration": 126,
    "start_time": "2022-07-02T07:34:53.250Z"
   },
   {
    "duration": 15,
    "start_time": "2022-07-02T07:34:53.378Z"
   },
   {
    "duration": 34,
    "start_time": "2022-07-02T07:34:53.394Z"
   },
   {
    "duration": 24,
    "start_time": "2022-07-02T07:34:53.430Z"
   },
   {
    "duration": 108,
    "start_time": "2022-07-02T07:34:53.456Z"
   },
   {
    "duration": 14,
    "start_time": "2022-07-02T07:34:53.566Z"
   },
   {
    "duration": 23,
    "start_time": "2022-07-02T07:34:53.581Z"
   },
   {
    "duration": 14,
    "start_time": "2022-07-02T07:34:53.605Z"
   },
   {
    "duration": 126,
    "start_time": "2022-07-02T07:34:53.620Z"
   },
   {
    "duration": 12,
    "start_time": "2022-07-02T07:34:53.748Z"
   },
   {
    "duration": 19,
    "start_time": "2022-07-02T07:34:53.768Z"
   },
   {
    "duration": 365,
    "start_time": "2022-07-02T07:34:53.789Z"
   },
   {
    "duration": 24,
    "start_time": "2022-07-02T07:34:54.156Z"
   },
   {
    "duration": 287,
    "start_time": "2022-07-02T07:34:54.182Z"
   },
   {
    "duration": 16,
    "start_time": "2022-07-02T07:34:54.471Z"
   },
   {
    "duration": 15,
    "start_time": "2022-07-02T07:34:54.489Z"
   },
   {
    "duration": 70,
    "start_time": "2022-07-02T07:34:54.505Z"
   },
   {
    "duration": 71,
    "start_time": "2022-07-02T07:34:54.577Z"
   },
   {
    "duration": 71,
    "start_time": "2022-07-02T07:34:54.650Z"
   },
   {
    "duration": 688,
    "start_time": "2022-07-02T07:34:54.723Z"
   },
   {
    "duration": 867,
    "start_time": "2022-07-02T07:34:55.412Z"
   },
   {
    "duration": 15,
    "start_time": "2022-07-02T07:34:56.281Z"
   },
   {
    "duration": 983,
    "start_time": "2022-07-02T07:34:56.298Z"
   },
   {
    "duration": 53,
    "start_time": "2022-07-02T07:34:57.283Z"
   },
   {
    "duration": 494,
    "start_time": "2022-07-02T07:34:57.337Z"
   },
   {
    "duration": 62,
    "start_time": "2022-07-02T07:34:57.833Z"
   },
   {
    "duration": 2147,
    "start_time": "2022-07-02T07:34:57.896Z"
   },
   {
    "duration": 3,
    "start_time": "2022-07-02T07:35:00.045Z"
   },
   {
    "duration": 120034,
    "start_time": "2022-07-02T07:35:32.145Z"
   },
   {
    "duration": 940,
    "start_time": "2022-07-02T07:37:32.270Z"
   },
   {
    "duration": 4,
    "start_time": "2022-07-02T07:38:03.366Z"
   },
   {
    "duration": 944,
    "start_time": "2022-07-02T07:38:06.471Z"
   },
   {
    "duration": 113026,
    "start_time": "2022-07-02T07:38:11.655Z"
   }
  ],
  "kernelspec": {
   "display_name": "Python 3 (ipykernel)",
   "language": "python",
   "name": "python3"
  },
  "language_info": {
   "codemirror_mode": {
    "name": "ipython",
    "version": 3
   },
   "file_extension": ".py",
   "mimetype": "text/x-python",
   "name": "python",
   "nbconvert_exporter": "python",
   "pygments_lexer": "ipython3",
   "version": "3.9.12"
  },
  "toc": {
   "base_numbering": 1,
   "nav_menu": {},
   "number_sections": true,
   "sideBar": true,
   "skip_h1_title": true,
   "title_cell": "Table of Contents",
   "title_sidebar": "Contents",
   "toc_cell": false,
   "toc_position": {
    "height": "calc(100% - 180px)",
    "left": "10px",
    "top": "150px",
    "width": "366.391px"
   },
   "toc_section_display": true,
   "toc_window_display": true
  }
 },
 "nbformat": 4,
 "nbformat_minor": 2
}
