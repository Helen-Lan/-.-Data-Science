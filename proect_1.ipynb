{
 "cells": [
  {
   "cell_type": "markdown",
   "metadata": {},
   "source": [
    "Привет, Елена!\n",
    "\n",
    "Меня зовут Вячеслав Погорелый, и я буду проводить ревью твоего первого проекта. \n",
    "\n",
    "Предлагаю перейти на \"ты\", если не против)\n",
    "\n",
    "Но если это не удобно - дай знать, и мы перейдем на \"вы\". Моя главная задача — не находить сделанные тобою ошибки, а передать свой опыт и помочь тебе стать аналитиком данных.\n",
    "\n",
    "Я отметил комментарии и замечания разным цветом далее по тексту markdown:\n",
    "\n",
    "---    \n",
    "<div class=\"alert alert-block alert-danger\">\n",
    "    \n",
    "### Ошибка\n",
    "    \n",
    "Критическое замечание, которые следует исправить.\n",
    "</div> \n",
    "    \n",
    "---\n",
    "    \n",
    "<div class=\"alert alert-block alert-warning\">\n",
    "    \n",
    "### Совет\n",
    "    \n",
    "Замечание\\совет на будущее.\n",
    "</div>\n",
    "    \n",
    "---\n",
    "    \n",
    "<div class=\"alert alert-block alert-success\">\n",
    "    \n",
    "### Успех\n",
    "    \n",
    "Когда всё сделано правильно.\n",
    "</div>\n",
    "    \n",
    "    \n",
    "    \n",
    "Будет здорово, если для ответов ты выберешь любой **<font color=\"maroon\">читабельный и заметный цвет</font>**, так мне будет проще все проверить.\n",
    "\n",
    "\n",
    "При доработке проекта попрошу тебя сохранить и не видоизменять заметки ревьюера, это осложняет повторную проверку."
   ]
  },
  {
   "cell_type": "markdown",
   "metadata": {},
   "source": [
    "<div class=\"alert alert-block alert-success\">\n",
    "    \n",
    "## Итоговый комментарии от ревьюера:\n",
    "    \n",
    "#### Успех \n",
    "\n",
    "Благодарю тебя за такой хороший проект. Ты грамотно использовала полученные знания для решения задач. Ты справилась со всеми функциями и циклами. Группировка и сортировка проведена правильно, что меня лично порадовало, так как многие делают ошибки в этих пунктах.\n",
    "    \n",
    "    \n",
    "В проекте осталось устранить одно замечание. Уверен, справиться с ним тебе не составит труда. Буду ждать доработанный проект. Удачи!\n",
    "</div>"
   ]
  },
  {
   "cell_type": "markdown",
   "metadata": {},
   "source": [
    "<div class=\"alert alert-block alert-success\">\n",
    "    \n",
    "## Итоговый комментарии от ревьюера ver.2\n",
    "    \n",
    "#### Успех \n",
    "\n",
    "Теперь ты все исправила. Спасибо тебе большое. Ты молодец.\n",
    "</div>"
   ]
  },
  {
   "cell_type": "markdown",
   "metadata": {
    "id": "E0vqbgi9ay0H"
   },
   "source": [
    "# Яндекс.Музыка"
   ]
  },
  {
   "cell_type": "markdown",
   "metadata": {
    "id": "VUC88oWjTJw2"
   },
   "source": [
    "Сравнение Москвы и Петербурга окружено мифами. Например:\n",
    " * Москва — мегаполис, подчинённый жёсткому ритму рабочей недели;\n",
    " * Петербург — культурная столица, со своими вкусами.\n",
    "\n",
    "На данных Яндекс.Музыки вы сравните поведение пользователей двух столиц.\n",
    "\n",
    "**Цель исследования** — проверьте три гипотезы:\n",
    "1. Активность пользователей зависит от дня недели. Причём в Москве и Петербурге это проявляется по-разному.\n",
    "2. В понедельник утром в Москве преобладают одни жанры, а в Петербурге — другие. Так же и вечером пятницы преобладают разные жанры — в зависимости от города. \n",
    "3. Москва и Петербург предпочитают разные жанры музыки. В Москве чаще слушают поп-музыку, в Петербурге — русский рэп.\n",
    "\n",
    "**Ход исследования**\n",
    "\n",
    "Данные о поведении пользователей получены из файла `yandex_music_project.csv`. \n",
    "С целью проверки достоверности данных необходимо провести предобработку и обзор данных.\n",
    " \n",
    "Таким образом, исследование пройдёт в три этапа:\n",
    " 1. Обзор данных.\n",
    " 2. Предобработка данных.\n",
    " 3. Проверка гипотез.\n",
    "\n"
   ]
  },
  {
   "cell_type": "markdown",
   "metadata": {
    "id": "Ml1hmfXC_Zcs"
   },
   "source": [
    "## Обзор данных\n",
    "\n"
   ]
  },
  {
   "cell_type": "markdown",
   "metadata": {
    "id": "57eAOGIz_Zcs"
   },
   "source": [
    "Импортируем библиотеку pandas, с помощью которой будет осуществлятся обзор и анализ данных."
   ]
  },
  {
   "cell_type": "code",
   "execution_count": 1,
   "metadata": {
    "id": "AXN7PHPN_Zcs"
   },
   "outputs": [],
   "source": [
    "import pandas as pd # импорт библиотеки pandas"
   ]
  },
  {
   "cell_type": "markdown",
   "metadata": {},
   "source": [
    "<div class=\"alert alert-block alert-success\">\n",
    " \n",
    "### Комментарий ревьюера\n",
    "    \n",
    "#### Успех\n",
    "    \n",
    "Отличное начало. Импорт библиотеки сделан правильно\n",
    "</div>"
   ]
  },
  {
   "cell_type": "markdown",
   "metadata": {
    "id": "SG23P8tt_Zcs"
   },
   "source": [
    "Сохраняем данные из файла `yandex_music_project.csv`(`/datasets`) в переменную `df`:"
   ]
  },
  {
   "cell_type": "code",
   "execution_count": 2,
   "metadata": {
    "id": "fFVu7vqh_Zct"
   },
   "outputs": [],
   "source": [
    "df = pd.read_csv('/datasets/yandex_music_project.csv') # чтение файла с данными и сохранение в df"
   ]
  },
  {
   "cell_type": "markdown",
   "metadata": {},
   "source": [
    "<div class=\"alert alert-block alert-success\">\n",
    " \n",
    "### Комментарий ревьюера\n",
    "    \n",
    "#### Успех\n",
    "    \n",
    "Файл из корневой папки прочитан и сохранен в переменную \n",
    "</div>"
   ]
  },
  {
   "cell_type": "markdown",
   "metadata": {},
   "source": [
    "Выводим на экран первые десять строк таблицы:"
   ]
  },
  {
   "cell_type": "code",
   "execution_count": 3,
   "metadata": {
    "id": "oWTVX3gW_Zct",
    "scrolled": true
   },
   "outputs": [
    {
     "data": {
      "text/html": [
       "<div>\n",
       "<style scoped>\n",
       "    .dataframe tbody tr th:only-of-type {\n",
       "        vertical-align: middle;\n",
       "    }\n",
       "\n",
       "    .dataframe tbody tr th {\n",
       "        vertical-align: top;\n",
       "    }\n",
       "\n",
       "    .dataframe thead th {\n",
       "        text-align: right;\n",
       "    }\n",
       "</style>\n",
       "<table border=\"1\" class=\"dataframe\">\n",
       "  <thead>\n",
       "    <tr style=\"text-align: right;\">\n",
       "      <th></th>\n",
       "      <th>userID</th>\n",
       "      <th>Track</th>\n",
       "      <th>artist</th>\n",
       "      <th>genre</th>\n",
       "      <th>City</th>\n",
       "      <th>time</th>\n",
       "      <th>Day</th>\n",
       "    </tr>\n",
       "  </thead>\n",
       "  <tbody>\n",
       "    <tr>\n",
       "      <td>0</td>\n",
       "      <td>FFB692EC</td>\n",
       "      <td>Kamigata To Boots</td>\n",
       "      <td>The Mass Missile</td>\n",
       "      <td>rock</td>\n",
       "      <td>Saint-Petersburg</td>\n",
       "      <td>20:28:33</td>\n",
       "      <td>Wednesday</td>\n",
       "    </tr>\n",
       "    <tr>\n",
       "      <td>1</td>\n",
       "      <td>55204538</td>\n",
       "      <td>Delayed Because of Accident</td>\n",
       "      <td>Andreas Rönnberg</td>\n",
       "      <td>rock</td>\n",
       "      <td>Moscow</td>\n",
       "      <td>14:07:09</td>\n",
       "      <td>Friday</td>\n",
       "    </tr>\n",
       "    <tr>\n",
       "      <td>2</td>\n",
       "      <td>20EC38</td>\n",
       "      <td>Funiculì funiculà</td>\n",
       "      <td>Mario Lanza</td>\n",
       "      <td>pop</td>\n",
       "      <td>Saint-Petersburg</td>\n",
       "      <td>20:58:07</td>\n",
       "      <td>Wednesday</td>\n",
       "    </tr>\n",
       "    <tr>\n",
       "      <td>3</td>\n",
       "      <td>A3DD03C9</td>\n",
       "      <td>Dragons in the Sunset</td>\n",
       "      <td>Fire + Ice</td>\n",
       "      <td>folk</td>\n",
       "      <td>Saint-Petersburg</td>\n",
       "      <td>08:37:09</td>\n",
       "      <td>Monday</td>\n",
       "    </tr>\n",
       "    <tr>\n",
       "      <td>4</td>\n",
       "      <td>E2DC1FAE</td>\n",
       "      <td>Soul People</td>\n",
       "      <td>Space Echo</td>\n",
       "      <td>dance</td>\n",
       "      <td>Moscow</td>\n",
       "      <td>08:34:34</td>\n",
       "      <td>Monday</td>\n",
       "    </tr>\n",
       "    <tr>\n",
       "      <td>5</td>\n",
       "      <td>842029A1</td>\n",
       "      <td>Преданная</td>\n",
       "      <td>IMPERVTOR</td>\n",
       "      <td>rusrap</td>\n",
       "      <td>Saint-Petersburg</td>\n",
       "      <td>13:09:41</td>\n",
       "      <td>Friday</td>\n",
       "    </tr>\n",
       "    <tr>\n",
       "      <td>6</td>\n",
       "      <td>4CB90AA5</td>\n",
       "      <td>True</td>\n",
       "      <td>Roman Messer</td>\n",
       "      <td>dance</td>\n",
       "      <td>Moscow</td>\n",
       "      <td>13:00:07</td>\n",
       "      <td>Wednesday</td>\n",
       "    </tr>\n",
       "    <tr>\n",
       "      <td>7</td>\n",
       "      <td>F03E1C1F</td>\n",
       "      <td>Feeling This Way</td>\n",
       "      <td>Polina Griffith</td>\n",
       "      <td>dance</td>\n",
       "      <td>Moscow</td>\n",
       "      <td>20:47:49</td>\n",
       "      <td>Wednesday</td>\n",
       "    </tr>\n",
       "    <tr>\n",
       "      <td>8</td>\n",
       "      <td>8FA1D3BE</td>\n",
       "      <td>И вновь продолжается бой</td>\n",
       "      <td>NaN</td>\n",
       "      <td>ruspop</td>\n",
       "      <td>Moscow</td>\n",
       "      <td>09:17:40</td>\n",
       "      <td>Friday</td>\n",
       "    </tr>\n",
       "    <tr>\n",
       "      <td>9</td>\n",
       "      <td>E772D5C0</td>\n",
       "      <td>Pessimist</td>\n",
       "      <td>NaN</td>\n",
       "      <td>dance</td>\n",
       "      <td>Saint-Petersburg</td>\n",
       "      <td>21:20:49</td>\n",
       "      <td>Wednesday</td>\n",
       "    </tr>\n",
       "  </tbody>\n",
       "</table>\n",
       "</div>"
      ],
      "text/plain": [
       "     userID                        Track            artist   genre  \\\n",
       "0  FFB692EC            Kamigata To Boots  The Mass Missile    rock   \n",
       "1  55204538  Delayed Because of Accident  Andreas Rönnberg    rock   \n",
       "2    20EC38            Funiculì funiculà       Mario Lanza     pop   \n",
       "3  A3DD03C9        Dragons in the Sunset        Fire + Ice    folk   \n",
       "4  E2DC1FAE                  Soul People        Space Echo   dance   \n",
       "5  842029A1                    Преданная         IMPERVTOR  rusrap   \n",
       "6  4CB90AA5                         True      Roman Messer   dance   \n",
       "7  F03E1C1F             Feeling This Way   Polina Griffith   dance   \n",
       "8  8FA1D3BE     И вновь продолжается бой               NaN  ruspop   \n",
       "9  E772D5C0                    Pessimist               NaN   dance   \n",
       "\n",
       "             City        time        Day  \n",
       "0  Saint-Petersburg  20:28:33  Wednesday  \n",
       "1            Moscow  14:07:09     Friday  \n",
       "2  Saint-Petersburg  20:58:07  Wednesday  \n",
       "3  Saint-Petersburg  08:37:09     Monday  \n",
       "4            Moscow  08:34:34     Monday  \n",
       "5  Saint-Petersburg  13:09:41     Friday  \n",
       "6            Moscow  13:00:07  Wednesday  \n",
       "7            Moscow  20:47:49  Wednesday  \n",
       "8            Moscow  09:17:40     Friday  \n",
       "9  Saint-Petersburg  21:20:49  Wednesday  "
      ]
     },
     "metadata": {},
     "output_type": "display_data"
    }
   ],
   "source": [
    "display(df.head(10)) # получение первых 10 строк таблицы df"
   ]
  },
  {
   "cell_type": "markdown",
   "metadata": {},
   "source": [
    "<div class=\"alert alert-block alert-success\">\n",
    " \n",
    "### Комментарий ревьюера\n",
    "    \n",
    "#### Успех\n",
    "    \n",
    "Первые 10 строк выведены\n",
    "</div>"
   ]
  },
  {
   "cell_type": "markdown",
   "metadata": {},
   "source": [
    "Получаем общую информацию о таблице:"
   ]
  },
  {
   "cell_type": "code",
   "execution_count": 4,
   "metadata": {
    "id": "DSf2kIb-_Zct"
   },
   "outputs": [
    {
     "name": "stdout",
     "output_type": "stream",
     "text": [
      "<class 'pandas.core.frame.DataFrame'>\n",
      "RangeIndex: 65079 entries, 0 to 65078\n",
      "Data columns (total 7 columns):\n",
      "  userID    65079 non-null object\n",
      "Track       63848 non-null object\n",
      "artist      57876 non-null object\n",
      "genre       63881 non-null object\n",
      "  City      65079 non-null object\n",
      "time        65079 non-null object\n",
      "Day         65079 non-null object\n",
      "dtypes: object(7)\n",
      "memory usage: 3.5+ MB\n"
     ]
    }
   ],
   "source": [
    "df.info() # получение общей информации о данных в таблице df"
   ]
  },
  {
   "cell_type": "markdown",
   "metadata": {},
   "source": [
    "<div class=\"alert alert-block alert-success\">\n",
    " \n",
    "### Комментарий ревьюера\n",
    "    \n",
    "#### Успех\n",
    "    \n",
    "Здорово, что воспользовалась методом info()\n",
    "</div>"
   ]
  },
  {
   "cell_type": "markdown",
   "metadata": {
    "id": "TaQ2Iwbr_Zct"
   },
   "source": [
    "Итак, в таблице семь столбцов. Тип данных во всех столбцах — `object`.\n",
    "\n",
    "Согласно документации к данным:\n",
    "* `userID` — идентификатор пользователя;\n",
    "* `Track` — название трека;  \n",
    "* `artist` — имя исполнителя;\n",
    "* `genre` — название жанра;\n",
    "* `City` — город пользователя;\n",
    "* `time` — время начала прослушивания;\n",
    "* `Day` — день недели.\n",
    "\n",
    "В названиях колонок видны три нарушения стиля:\n",
    "1. Строчные буквы сочетаются с прописными.\n",
    "2. Встречаются пробелы.\n",
    "3. Наименование `userID` прописан с нарушением стиля.\n",
    "\n",
    "\n",
    "\n",
    "Количество значений в столбцах различается. Значит, в данных есть пропущенные значения.\n"
   ]
  },
  {
   "cell_type": "markdown",
   "metadata": {},
   "source": [
    "<div class=\"alert alert-block alert-success\">\n",
    " \n",
    "### Комментарий ревьюера\n",
    "    \n",
    "#### Успех\n",
    "    \n",
    "Все верно. Он записан без учета змеиного регистра\n",
    "</div>"
   ]
  },
  {
   "cell_type": "markdown",
   "metadata": {
    "id": "MCB6-dXG_Zct"
   },
   "source": [
    "**Выводы**\n",
    "\n",
    "В каждой строке таблицы — данные о прослушанном треке. Часть колонок описывает саму композицию: название, исполнителя и жанр. Остальные данные рассказывают о пользователе: из какого он города, когда он слушал музыку. \n",
    "\n",
    "Предварительно можно утверждать, что, данных достаточно для проверки гипотез. Но встречаются пропуски в данных, а в названиях колонок — расхождения с хорошим стилем.\n",
    "\n",
    "Чтобы двигаться дальше, нужно устранить проблемы в данных."
   ]
  },
  {
   "cell_type": "markdown",
   "metadata": {
    "id": "SjYF6Ub9_Zct"
   },
   "source": [
    "## Предобработка данных\n",
    "План работы:\n",
    "- исправить стиль в заголовках столбцов, исключите пропуски;\n",
    "- проверить данные на явные дубликаты;\n",
    "- проверить данные на неявные дубликаты;\n",
    "- удалить явные дубликаты и исправить неявные."
   ]
  },
  {
   "cell_type": "markdown",
   "metadata": {
    "id": "dIaKXr29_Zct"
   },
   "source": [
    "### Стиль заголовков\n",
    "Выводим на экран названия столбцов:"
   ]
  },
  {
   "cell_type": "code",
   "execution_count": 5,
   "metadata": {
    "id": "oKOTdF_Q_Zct"
   },
   "outputs": [
    {
     "data": {
      "text/plain": [
       "Index(['  userID', 'Track', 'artist', 'genre', '  City  ', 'time', 'Day'], dtype='object')"
      ]
     },
     "execution_count": 5,
     "metadata": {},
     "output_type": "execute_result"
    }
   ],
   "source": [
    "df.columns # перечень названий столбцов таблицы df"
   ]
  },
  {
   "cell_type": "markdown",
   "metadata": {},
   "source": [
    "<div class=\"alert alert-block alert-warning\">\n",
    " \n",
    "### Комментарий ревьюера\n",
    "    \n",
    "#### Совет\n",
    "    \n",
    "Интересным и оригинальным методом ты воспользовалась. Единственный минуc, что здесь ты не видишь отступы.\n",
    "    \n",
    "Я рекомендую без использования print() делать вызов. Так как это последняя строчка ячейки, то вызов df.columns покажет результат и без print()\n",
    "</div>"
   ]
  },
  {
   "cell_type": "markdown",
   "metadata": {
    "id": "zj5534cv_Zct"
   },
   "source": [
    "Исправляем названия колонок:\n",
    "* `'  userID'` → `'user_id'`; # удаляем пробелы и прописываем слова через `_`\n",
    "* `'Track'` → `'track'`; # исправляем заглавные буквы на строчные\n",
    "* `'  City  '` → `'city'`; # удаляем пробелы и исправляем заглавные буквы на строчные\n",
    "* `'Day'` → `'day'`. # исправляем заглавные буквы на строчные"
   ]
  },
  {
   "cell_type": "code",
   "execution_count": 6,
   "metadata": {
    "id": "ISlFqs5y_Zct"
   },
   "outputs": [],
   "source": [
    "df = df.rename(columns = {'  userID': 'user_id', 'Track': 'track', '  City  ': 'city', 'Day': 'day'}) # переименование столбцов"
   ]
  },
  {
   "cell_type": "markdown",
   "metadata": {},
   "source": [
    "<div class=\"alert alert-block alert-success\">\n",
    " \n",
    "### Комментарий ревьюера\n",
    "    \n",
    "#### Успех\n",
    "    \n",
    "Отлично\n",
    "</div>"
   ]
  },
  {
   "cell_type": "markdown",
   "metadata": {
    "id": "1dqbh00J_Zct"
   },
   "source": [
    "Проверяем результат. \n",
    "Выводим на экран новые названия столбцов:"
   ]
  },
  {
   "cell_type": "code",
   "execution_count": 7,
   "metadata": {
    "id": "d4NOAmTW_Zct",
    "scrolled": true
   },
   "outputs": [
    {
     "data": {
      "text/plain": [
       "Index(['user_id', 'track', 'artist', 'genre', 'city', 'time', 'day'], dtype='object')"
      ]
     },
     "execution_count": 7,
     "metadata": {},
     "output_type": "execute_result"
    }
   ],
   "source": [
    "df.columns # проверка результатов - перечень названий столбцов"
   ]
  },
  {
   "cell_type": "markdown",
   "metadata": {},
   "source": [
    "<div class=\"alert alert-block alert-warning\">\n",
    " \n",
    "### Комментарий ревьюера\n",
    "    \n",
    "#### Совет\n",
    "    \n",
    "Столбцы переименованы, но лучше делать вывод команды без print(), как я тебе говорил выше\n",
    "</div>"
   ]
  },
  {
   "cell_type": "markdown",
   "metadata": {},
   "source": [
    "Все названия столбцов исправлены."
   ]
  },
  {
   "cell_type": "markdown",
   "metadata": {
    "id": "5ISfbcfY_Zct"
   },
   "source": [
    "### Пропуски значений\n",
    "Считаем количество пропущенных значений:"
   ]
  },
  {
   "cell_type": "code",
   "execution_count": 8,
   "metadata": {
    "id": "RskX29qr_Zct"
   },
   "outputs": [
    {
     "data": {
      "text/plain": [
       "user_id       0\n",
       "track      1231\n",
       "artist     7203\n",
       "genre      1198\n",
       "city          0\n",
       "time          0\n",
       "day           0\n",
       "dtype: int64"
      ]
     },
     "execution_count": 8,
     "metadata": {},
     "output_type": "execute_result"
    }
   ],
   "source": [
    "df.isna().sum() # подсчёт пропусков"
   ]
  },
  {
   "cell_type": "markdown",
   "metadata": {},
   "source": [
    "<div class=\"alert alert-block alert-warning\">\n",
    " \n",
    "### Комментарий ревьюера\n",
    "    \n",
    "#### Совет\n",
    "    \n",
    "Здесь как и в случае с print(). Функцию display() можно не использовать, так как df.isna().sum() это последняя строка ячейки кода. Результат будет показан. \n",
    "</div>"
   ]
  },
  {
   "cell_type": "markdown",
   "metadata": {
    "id": "qubhgnlO_Zct"
   },
   "source": [
    "Значения в `track` и `artist` не повлияют на результат работы, поэтому заменяем их на явные обозначениями.\n",
    "Но пропуски в `genre` могут помешать сравнению музыкальных вкусов в Москве и Санкт-Петербурге. \n",
    "\n",
    "В связи с отсутствием возможности установить причину пропусков и восстановить данные, нам необходимо провести следующие действия:\n",
    "* заполнить и эти пропуски явными обозначениями,\n",
    "* оценить, насколько они повредят расчётам. "
   ]
  },
  {
   "cell_type": "markdown",
   "metadata": {
    "id": "fSv2laPA_Zct"
   },
   "source": [
    "С помощью цикла осуществляем замену пропущенных значений.\n",
    "В заголовке цикла перебераем значения в столбцах `track`, `artist` и `genre`.\n",
    "В теле цикла заменяем пропущенные значения на строку `'unknown'`"
   ]
  },
  {
   "cell_type": "code",
   "execution_count": 9,
   "metadata": {
    "id": "KplB5qWs_Zct"
   },
   "outputs": [],
   "source": [
    "columns_to_replace = ['track', 'artist', 'genre'] #создаем список полей для цикла\n",
    "for place in columns_to_replace:\n",
    "    df[place] = df[place].fillna('unknown')\n",
    "# перебор названий столбцов в цикле и замена пропущенных значений на 'unknown'"
   ]
  },
  {
   "cell_type": "markdown",
   "metadata": {},
   "source": [
    "<div class=\"alert alert-block alert-success\">\n",
    " \n",
    "### Комментарий ревьюера\n",
    "    \n",
    "#### Успех\n",
    "    \n",
    "Функция написана верно\n",
    "</div>"
   ]
  },
  {
   "cell_type": "markdown",
   "metadata": {
    "id": "Ilsm-MZo_Zct"
   },
   "source": [
    "Проверяем, что в таблице не осталось пропусков:"
   ]
  },
  {
   "cell_type": "code",
   "execution_count": 10,
   "metadata": {
    "id": "Tq4nYRX4_Zct"
   },
   "outputs": [
    {
     "data": {
      "text/plain": [
       "user_id    0\n",
       "track      0\n",
       "artist     0\n",
       "genre      0\n",
       "city       0\n",
       "time       0\n",
       "day        0\n",
       "dtype: int64"
      ]
     },
     "metadata": {},
     "output_type": "display_data"
    }
   ],
   "source": [
    "display(df.isna().sum()) # подсчёт пропусков"
   ]
  },
  {
   "cell_type": "markdown",
   "metadata": {},
   "source": [
    "<div class=\"alert alert-block alert-success\">\n",
    " \n",
    "### Комментарий ревьюера\n",
    "    \n",
    "#### Успех\n",
    "    \n",
    "Результат верный. Молодец.\n",
    "    \n",
    "    \n",
    "За Print() или display() больше напоминать не буду. Думаю, что уже я донес о необязательности их применения\n",
    "</div>"
   ]
  },
  {
   "cell_type": "markdown",
   "metadata": {},
   "source": [
    "Все пропуски в таблице исправлены."
   ]
  },
  {
   "cell_type": "markdown",
   "metadata": {
    "id": "BWKRtBJ3_Zct"
   },
   "source": [
    "### Дубликаты\n",
    "Считаем явные дубликаты в таблице:"
   ]
  },
  {
   "cell_type": "code",
   "execution_count": 11,
   "metadata": {
    "id": "36eES_S0_Zct"
   },
   "outputs": [
    {
     "name": "stdout",
     "output_type": "stream",
     "text": [
      "Таблица содержит дубликатов: 3826\n"
     ]
    }
   ],
   "source": [
    "print(f'Таблица содержит дубликатов:', end = ' ')\n",
    "print(df.duplicated().sum()) # подсчёт явных дубликатов"
   ]
  },
  {
   "cell_type": "markdown",
   "metadata": {},
   "source": [
    "<div class=\"alert alert-block alert-success\">\n",
    " \n",
    "### Комментарий ревьюера\n",
    "    \n",
    "#### Успех\n",
    "    \n",
    "Здесь ты проявила инициативу и решила красиво оформить вывод. \n",
    "</div>"
   ]
  },
  {
   "cell_type": "markdown",
   "metadata": {},
   "source": [
    "С помощью функции `drop_duplicates()` удаляем явные дубликаты и обновляем индексацию: "
   ]
  },
  {
   "cell_type": "code",
   "execution_count": 12,
   "metadata": {
    "id": "exFHq6tt_Zct"
   },
   "outputs": [],
   "source": [
    "df = df.drop_duplicates().reset_index(drop=True) # удаление явных дубликатов (с удалением старых индексов и формированием новых)"
   ]
  },
  {
   "cell_type": "markdown",
   "metadata": {},
   "source": [
    "<div class=\"alert alert-block alert-danger\">\n",
    " \n",
    "### Комментарий ревьюера\n",
    "    \n",
    "#### Ошибка\n",
    "    \n",
    "По условиям еще требуется удалить столбец со старыми индексами. Для этого необходимо в скобочках написать drop=True\n",
    "</div>"
   ]
  },
  {
   "cell_type": "markdown",
   "metadata": {},
   "source": [
    "<div class=\"alert alert-block alert-success\">\n",
    " \n",
    "## Комментарий ревьюера ver.2\n",
    "    \n",
    "#### Успех\n",
    "    \n",
    "Исправлено. Молодец \n",
    "</div>"
   ]
  },
  {
   "cell_type": "markdown",
   "metadata": {
    "id": "Im2YwBEG_Zct"
   },
   "source": [
    "Проверяем наличие дубликатов для проверки:"
   ]
  },
  {
   "cell_type": "code",
   "execution_count": 13,
   "metadata": {
    "id": "-8PuNWQ0_Zct"
   },
   "outputs": [
    {
     "name": "stdout",
     "output_type": "stream",
     "text": [
      "Таблица содержит дубликатов: 0\n"
     ]
    }
   ],
   "source": [
    "print(f'Таблица содержит дубликатов:', end = ' ')\n",
    "print(df.duplicated().sum()) # проверка на отсутствие дубликатов"
   ]
  },
  {
   "cell_type": "markdown",
   "metadata": {},
   "source": [
    "<div class=\"alert alert-block alert-success\">\n",
    " \n",
    "### Комментарий ревьюера\n",
    "    \n",
    "#### Успех\n",
    "    \n",
    "Отличный итог\n",
    "</div>"
   ]
  },
  {
   "cell_type": "markdown",
   "metadata": {
    "id": "QlFBsxAr_Zct"
   },
   "source": [
    "Проверяем столбец `genre` на наличие неявных дубликатов. \n",
    "Возможно название одного и того же жанра может быть записано немного по-разному."
   ]
  },
  {
   "cell_type": "markdown",
   "metadata": {
    "id": "eSjWwsOh_Zct"
   },
   "source": [
    "Выводим на экран список уникальных названий жанров, отсортированный в алфавитном порядке. Для этого:\n",
    "* извлекаем нужный столбец `'genre'` датафрейма, \n",
    "* применяем к нему метод сортировки `sorted()`,\n",
    "* извлекаем уникальные значения из столбца с помощью метода `unique()`."
   ]
  },
  {
   "cell_type": "code",
   "execution_count": 14,
   "metadata": {
    "id": "JIUcqzZN_Zct",
    "scrolled": true
   },
   "outputs": [
    {
     "data": {
      "text/plain": [
       "['acid',\n",
       " 'acoustic',\n",
       " 'action',\n",
       " 'adult',\n",
       " 'africa',\n",
       " 'afrikaans',\n",
       " 'alternative',\n",
       " 'alternativepunk',\n",
       " 'ambient',\n",
       " 'americana',\n",
       " 'animated',\n",
       " 'anime',\n",
       " 'arabesk',\n",
       " 'arabic',\n",
       " 'arena',\n",
       " 'argentinetango',\n",
       " 'art',\n",
       " 'audiobook',\n",
       " 'author',\n",
       " 'avantgarde',\n",
       " 'axé',\n",
       " 'baile',\n",
       " 'balkan',\n",
       " 'beats',\n",
       " 'bigroom',\n",
       " 'black',\n",
       " 'bluegrass',\n",
       " 'blues',\n",
       " 'bollywood',\n",
       " 'bossa',\n",
       " 'brazilian',\n",
       " 'breakbeat',\n",
       " 'breaks',\n",
       " 'broadway',\n",
       " 'cantautori',\n",
       " 'cantopop',\n",
       " 'canzone',\n",
       " 'caribbean',\n",
       " 'caucasian',\n",
       " 'celtic',\n",
       " 'chamber',\n",
       " 'chanson',\n",
       " 'children',\n",
       " 'chill',\n",
       " 'chinese',\n",
       " 'choral',\n",
       " 'christian',\n",
       " 'christmas',\n",
       " 'classical',\n",
       " 'classicmetal',\n",
       " 'club',\n",
       " 'colombian',\n",
       " 'comedy',\n",
       " 'conjazz',\n",
       " 'contemporary',\n",
       " 'country',\n",
       " 'cuban',\n",
       " 'dance',\n",
       " 'dancehall',\n",
       " 'dancepop',\n",
       " 'dark',\n",
       " 'death',\n",
       " 'deep',\n",
       " 'deutschrock',\n",
       " 'deutschspr',\n",
       " 'dirty',\n",
       " 'disco',\n",
       " 'dnb',\n",
       " 'documentary',\n",
       " 'downbeat',\n",
       " 'downtempo',\n",
       " 'drum',\n",
       " 'dub',\n",
       " 'dubstep',\n",
       " 'eastern',\n",
       " 'easy',\n",
       " 'electronic',\n",
       " 'electropop',\n",
       " 'emo',\n",
       " 'entehno',\n",
       " 'epicmetal',\n",
       " 'estrada',\n",
       " 'ethnic',\n",
       " 'eurofolk',\n",
       " 'european',\n",
       " 'experimental',\n",
       " 'extrememetal',\n",
       " 'fado',\n",
       " 'fairytail',\n",
       " 'film',\n",
       " 'fitness',\n",
       " 'flamenco',\n",
       " 'folk',\n",
       " 'folklore',\n",
       " 'folkmetal',\n",
       " 'folkrock',\n",
       " 'folktronica',\n",
       " 'forró',\n",
       " 'frankreich',\n",
       " 'französisch',\n",
       " 'french',\n",
       " 'funk',\n",
       " 'future',\n",
       " 'gangsta',\n",
       " 'garage',\n",
       " 'german',\n",
       " 'ghazal',\n",
       " 'gitarre',\n",
       " 'glitch',\n",
       " 'gospel',\n",
       " 'gothic',\n",
       " 'grime',\n",
       " 'grunge',\n",
       " 'gypsy',\n",
       " 'handsup',\n",
       " \"hard'n'heavy\",\n",
       " 'hardcore',\n",
       " 'hardstyle',\n",
       " 'hardtechno',\n",
       " 'hip',\n",
       " 'hip-hop',\n",
       " 'hiphop',\n",
       " 'historisch',\n",
       " 'holiday',\n",
       " 'hop',\n",
       " 'horror',\n",
       " 'house',\n",
       " 'hymn',\n",
       " 'idm',\n",
       " 'independent',\n",
       " 'indian',\n",
       " 'indie',\n",
       " 'indipop',\n",
       " 'industrial',\n",
       " 'inspirational',\n",
       " 'instrumental',\n",
       " 'international',\n",
       " 'irish',\n",
       " 'jam',\n",
       " 'japanese',\n",
       " 'jazz',\n",
       " 'jewish',\n",
       " 'jpop',\n",
       " 'jungle',\n",
       " 'k-pop',\n",
       " 'karadeniz',\n",
       " 'karaoke',\n",
       " 'kayokyoku',\n",
       " 'korean',\n",
       " 'laiko',\n",
       " 'latin',\n",
       " 'latino',\n",
       " 'leftfield',\n",
       " 'local',\n",
       " 'lounge',\n",
       " 'loungeelectronic',\n",
       " 'lovers',\n",
       " 'malaysian',\n",
       " 'mandopop',\n",
       " 'marschmusik',\n",
       " 'meditative',\n",
       " 'mediterranean',\n",
       " 'melodic',\n",
       " 'metal',\n",
       " 'metalcore',\n",
       " 'mexican',\n",
       " 'middle',\n",
       " 'minimal',\n",
       " 'miscellaneous',\n",
       " 'modern',\n",
       " 'mood',\n",
       " 'mpb',\n",
       " 'muslim',\n",
       " 'native',\n",
       " 'neoklassik',\n",
       " 'neue',\n",
       " 'new',\n",
       " 'newage',\n",
       " 'newwave',\n",
       " 'nu',\n",
       " 'nujazz',\n",
       " 'numetal',\n",
       " 'oceania',\n",
       " 'old',\n",
       " 'opera',\n",
       " 'orchestral',\n",
       " 'other',\n",
       " 'piano',\n",
       " 'podcasts',\n",
       " 'pop',\n",
       " 'popdance',\n",
       " 'popelectronic',\n",
       " 'popeurodance',\n",
       " 'poprussian',\n",
       " 'post',\n",
       " 'posthardcore',\n",
       " 'postrock',\n",
       " 'power',\n",
       " 'progmetal',\n",
       " 'progressive',\n",
       " 'psychedelic',\n",
       " 'punjabi',\n",
       " 'punk',\n",
       " 'quebecois',\n",
       " 'ragga',\n",
       " 'ram',\n",
       " 'rancheras',\n",
       " 'rap',\n",
       " 'rave',\n",
       " 'reggae',\n",
       " 'reggaeton',\n",
       " 'regional',\n",
       " 'relax',\n",
       " 'religious',\n",
       " 'retro',\n",
       " 'rhythm',\n",
       " 'rnb',\n",
       " 'rnr',\n",
       " 'rock',\n",
       " 'rockabilly',\n",
       " 'rockalternative',\n",
       " 'rockindie',\n",
       " 'rockother',\n",
       " 'romance',\n",
       " 'roots',\n",
       " 'ruspop',\n",
       " 'rusrap',\n",
       " 'rusrock',\n",
       " 'russian',\n",
       " 'salsa',\n",
       " 'samba',\n",
       " 'scenic',\n",
       " 'schlager',\n",
       " 'self',\n",
       " 'sertanejo',\n",
       " 'shanson',\n",
       " 'shoegazing',\n",
       " 'showtunes',\n",
       " 'singer',\n",
       " 'ska',\n",
       " 'skarock',\n",
       " 'slow',\n",
       " 'smooth',\n",
       " 'soft',\n",
       " 'soul',\n",
       " 'soulful',\n",
       " 'sound',\n",
       " 'soundtrack',\n",
       " 'southern',\n",
       " 'specialty',\n",
       " 'speech',\n",
       " 'spiritual',\n",
       " 'sport',\n",
       " 'stonerrock',\n",
       " 'surf',\n",
       " 'swing',\n",
       " 'synthpop',\n",
       " 'synthrock',\n",
       " 'sängerportrait',\n",
       " 'tango',\n",
       " 'tanzorchester',\n",
       " 'taraftar',\n",
       " 'tatar',\n",
       " 'tech',\n",
       " 'techno',\n",
       " 'teen',\n",
       " 'thrash',\n",
       " 'top',\n",
       " 'traditional',\n",
       " 'tradjazz',\n",
       " 'trance',\n",
       " 'tribal',\n",
       " 'trip',\n",
       " 'triphop',\n",
       " 'tropical',\n",
       " 'türk',\n",
       " 'türkçe',\n",
       " 'ukrrock',\n",
       " 'unknown',\n",
       " 'urban',\n",
       " 'uzbek',\n",
       " 'variété',\n",
       " 'vi',\n",
       " 'videogame',\n",
       " 'vocal',\n",
       " 'western',\n",
       " 'world',\n",
       " 'worldbeat',\n",
       " 'ïîï',\n",
       " 'электроника']"
      ]
     },
     "execution_count": 14,
     "metadata": {},
     "output_type": "execute_result"
    }
   ],
   "source": [
    "sorted(df['genre'].unique()) # Просмотр уникальных названий жанров"
   ]
  },
  {
   "cell_type": "markdown",
   "metadata": {},
   "source": [
    "<div class=\"alert alert-block alert-warning\">\n",
    " \n",
    "### Комментарий ревьюера\n",
    "    \n",
    "#### Совет\n",
    "    \n",
    "Результат получился верный. В качестве оптимизации рекомендую тебе для сортировки использовать метод sort_values(), так как он больше подходит для столбцов таблицы\n",
    "</div>"
   ]
  },
  {
   "cell_type": "markdown",
   "metadata": {
    "id": "qej-Qmuo_Zct"
   },
   "source": [
    "Установлены следующие неявные дубликаты:\n",
    "* *hip*,\n",
    "* *hop*,\n",
    "* *hip-hop*.\n",
    "\n",
    "Для устранения дубликатов создаем функцию `replace_wrong_genres()` с двумя параметрами: \n",
    "- `wrong_genres` — список дубликатов,\n",
    "- `correct_genre` — строка с правильным значением."
   ]
  },
  {
   "cell_type": "code",
   "execution_count": 15,
   "metadata": {
    "id": "ErNDkmns_Zct"
   },
   "outputs": [],
   "source": [
    "def replace_wrong_genres(wrong_genres, correct_genre):\n",
    "    df['genre'] = df['genre'].replace(wrong_genres, correct_genre) # Функция для замены неявных дубликатов"
   ]
  },
  {
   "cell_type": "markdown",
   "metadata": {},
   "source": [
    "<div class=\"alert alert-block alert-success\">\n",
    " \n",
    "### Комментарий ревьюера\n",
    "    \n",
    "#### Успех\n",
    "    \n",
    "Функция написана верно. Молодец \n",
    "</div>"
   ]
  },
  {
   "cell_type": "markdown",
   "metadata": {
    "id": "aDoBJxbA_Zct"
   },
   "source": [
    "Вызываем функцию `replace_wrong_genres()` и задаем аргументы:"
   ]
  },
  {
   "cell_type": "code",
   "execution_count": 16,
   "metadata": {
    "id": "YN5i2hpmSo09"
   },
   "outputs": [],
   "source": [
    "wrong_genres = ['hip', 'hop', 'hip-hop'] # создаем список дубликатов, которые нужно заменить\n",
    "correct_genre = 'hiphop' # указываем верное название\n",
    "replace_wrong_genres(wrong_genres, correct_genre) # с помощью функции заменяем название"
   ]
  },
  {
   "cell_type": "markdown",
   "metadata": {
    "id": "zQKF16_RG15m"
   },
   "source": [
    "Проверяем отсортированный список уникальных значений столбца `genre`:"
   ]
  },
  {
   "cell_type": "code",
   "execution_count": 17,
   "metadata": {
    "id": "wvixALnFG15m"
   },
   "outputs": [
    {
     "data": {
      "text/plain": [
       "['acid',\n",
       " 'acoustic',\n",
       " 'action',\n",
       " 'adult',\n",
       " 'africa',\n",
       " 'afrikaans',\n",
       " 'alternative',\n",
       " 'alternativepunk',\n",
       " 'ambient',\n",
       " 'americana',\n",
       " 'animated',\n",
       " 'anime',\n",
       " 'arabesk',\n",
       " 'arabic',\n",
       " 'arena',\n",
       " 'argentinetango',\n",
       " 'art',\n",
       " 'audiobook',\n",
       " 'author',\n",
       " 'avantgarde',\n",
       " 'axé',\n",
       " 'baile',\n",
       " 'balkan',\n",
       " 'beats',\n",
       " 'bigroom',\n",
       " 'black',\n",
       " 'bluegrass',\n",
       " 'blues',\n",
       " 'bollywood',\n",
       " 'bossa',\n",
       " 'brazilian',\n",
       " 'breakbeat',\n",
       " 'breaks',\n",
       " 'broadway',\n",
       " 'cantautori',\n",
       " 'cantopop',\n",
       " 'canzone',\n",
       " 'caribbean',\n",
       " 'caucasian',\n",
       " 'celtic',\n",
       " 'chamber',\n",
       " 'chanson',\n",
       " 'children',\n",
       " 'chill',\n",
       " 'chinese',\n",
       " 'choral',\n",
       " 'christian',\n",
       " 'christmas',\n",
       " 'classical',\n",
       " 'classicmetal',\n",
       " 'club',\n",
       " 'colombian',\n",
       " 'comedy',\n",
       " 'conjazz',\n",
       " 'contemporary',\n",
       " 'country',\n",
       " 'cuban',\n",
       " 'dance',\n",
       " 'dancehall',\n",
       " 'dancepop',\n",
       " 'dark',\n",
       " 'death',\n",
       " 'deep',\n",
       " 'deutschrock',\n",
       " 'deutschspr',\n",
       " 'dirty',\n",
       " 'disco',\n",
       " 'dnb',\n",
       " 'documentary',\n",
       " 'downbeat',\n",
       " 'downtempo',\n",
       " 'drum',\n",
       " 'dub',\n",
       " 'dubstep',\n",
       " 'eastern',\n",
       " 'easy',\n",
       " 'electronic',\n",
       " 'electropop',\n",
       " 'emo',\n",
       " 'entehno',\n",
       " 'epicmetal',\n",
       " 'estrada',\n",
       " 'ethnic',\n",
       " 'eurofolk',\n",
       " 'european',\n",
       " 'experimental',\n",
       " 'extrememetal',\n",
       " 'fado',\n",
       " 'fairytail',\n",
       " 'film',\n",
       " 'fitness',\n",
       " 'flamenco',\n",
       " 'folk',\n",
       " 'folklore',\n",
       " 'folkmetal',\n",
       " 'folkrock',\n",
       " 'folktronica',\n",
       " 'forró',\n",
       " 'frankreich',\n",
       " 'französisch',\n",
       " 'french',\n",
       " 'funk',\n",
       " 'future',\n",
       " 'gangsta',\n",
       " 'garage',\n",
       " 'german',\n",
       " 'ghazal',\n",
       " 'gitarre',\n",
       " 'glitch',\n",
       " 'gospel',\n",
       " 'gothic',\n",
       " 'grime',\n",
       " 'grunge',\n",
       " 'gypsy',\n",
       " 'handsup',\n",
       " \"hard'n'heavy\",\n",
       " 'hardcore',\n",
       " 'hardstyle',\n",
       " 'hardtechno',\n",
       " 'hiphop',\n",
       " 'historisch',\n",
       " 'holiday',\n",
       " 'horror',\n",
       " 'house',\n",
       " 'hymn',\n",
       " 'idm',\n",
       " 'independent',\n",
       " 'indian',\n",
       " 'indie',\n",
       " 'indipop',\n",
       " 'industrial',\n",
       " 'inspirational',\n",
       " 'instrumental',\n",
       " 'international',\n",
       " 'irish',\n",
       " 'jam',\n",
       " 'japanese',\n",
       " 'jazz',\n",
       " 'jewish',\n",
       " 'jpop',\n",
       " 'jungle',\n",
       " 'k-pop',\n",
       " 'karadeniz',\n",
       " 'karaoke',\n",
       " 'kayokyoku',\n",
       " 'korean',\n",
       " 'laiko',\n",
       " 'latin',\n",
       " 'latino',\n",
       " 'leftfield',\n",
       " 'local',\n",
       " 'lounge',\n",
       " 'loungeelectronic',\n",
       " 'lovers',\n",
       " 'malaysian',\n",
       " 'mandopop',\n",
       " 'marschmusik',\n",
       " 'meditative',\n",
       " 'mediterranean',\n",
       " 'melodic',\n",
       " 'metal',\n",
       " 'metalcore',\n",
       " 'mexican',\n",
       " 'middle',\n",
       " 'minimal',\n",
       " 'miscellaneous',\n",
       " 'modern',\n",
       " 'mood',\n",
       " 'mpb',\n",
       " 'muslim',\n",
       " 'native',\n",
       " 'neoklassik',\n",
       " 'neue',\n",
       " 'new',\n",
       " 'newage',\n",
       " 'newwave',\n",
       " 'nu',\n",
       " 'nujazz',\n",
       " 'numetal',\n",
       " 'oceania',\n",
       " 'old',\n",
       " 'opera',\n",
       " 'orchestral',\n",
       " 'other',\n",
       " 'piano',\n",
       " 'podcasts',\n",
       " 'pop',\n",
       " 'popdance',\n",
       " 'popelectronic',\n",
       " 'popeurodance',\n",
       " 'poprussian',\n",
       " 'post',\n",
       " 'posthardcore',\n",
       " 'postrock',\n",
       " 'power',\n",
       " 'progmetal',\n",
       " 'progressive',\n",
       " 'psychedelic',\n",
       " 'punjabi',\n",
       " 'punk',\n",
       " 'quebecois',\n",
       " 'ragga',\n",
       " 'ram',\n",
       " 'rancheras',\n",
       " 'rap',\n",
       " 'rave',\n",
       " 'reggae',\n",
       " 'reggaeton',\n",
       " 'regional',\n",
       " 'relax',\n",
       " 'religious',\n",
       " 'retro',\n",
       " 'rhythm',\n",
       " 'rnb',\n",
       " 'rnr',\n",
       " 'rock',\n",
       " 'rockabilly',\n",
       " 'rockalternative',\n",
       " 'rockindie',\n",
       " 'rockother',\n",
       " 'romance',\n",
       " 'roots',\n",
       " 'ruspop',\n",
       " 'rusrap',\n",
       " 'rusrock',\n",
       " 'russian',\n",
       " 'salsa',\n",
       " 'samba',\n",
       " 'scenic',\n",
       " 'schlager',\n",
       " 'self',\n",
       " 'sertanejo',\n",
       " 'shanson',\n",
       " 'shoegazing',\n",
       " 'showtunes',\n",
       " 'singer',\n",
       " 'ska',\n",
       " 'skarock',\n",
       " 'slow',\n",
       " 'smooth',\n",
       " 'soft',\n",
       " 'soul',\n",
       " 'soulful',\n",
       " 'sound',\n",
       " 'soundtrack',\n",
       " 'southern',\n",
       " 'specialty',\n",
       " 'speech',\n",
       " 'spiritual',\n",
       " 'sport',\n",
       " 'stonerrock',\n",
       " 'surf',\n",
       " 'swing',\n",
       " 'synthpop',\n",
       " 'synthrock',\n",
       " 'sängerportrait',\n",
       " 'tango',\n",
       " 'tanzorchester',\n",
       " 'taraftar',\n",
       " 'tatar',\n",
       " 'tech',\n",
       " 'techno',\n",
       " 'teen',\n",
       " 'thrash',\n",
       " 'top',\n",
       " 'traditional',\n",
       " 'tradjazz',\n",
       " 'trance',\n",
       " 'tribal',\n",
       " 'trip',\n",
       " 'triphop',\n",
       " 'tropical',\n",
       " 'türk',\n",
       " 'türkçe',\n",
       " 'ukrrock',\n",
       " 'unknown',\n",
       " 'urban',\n",
       " 'uzbek',\n",
       " 'variété',\n",
       " 'vi',\n",
       " 'videogame',\n",
       " 'vocal',\n",
       " 'western',\n",
       " 'world',\n",
       " 'worldbeat',\n",
       " 'ïîï',\n",
       " 'электроника']"
      ]
     },
     "execution_count": 17,
     "metadata": {},
     "output_type": "execute_result"
    }
   ],
   "source": [
    "sorted(df['genre'].unique()) # Проверка на неявные дубликаты"
   ]
  },
  {
   "cell_type": "markdown",
   "metadata": {},
   "source": [
    "<div class=\"alert alert-block alert-warning\">\n",
    " \n",
    "### Комментарий ревьюера\n",
    "    \n",
    "#### Совет\n",
    "    \n",
    "Здесь тот же совет по сортировке. Ну и снова display() \n",
    "</div>"
   ]
  },
  {
   "cell_type": "markdown",
   "metadata": {},
   "source": [
    "Наименования жанров не повторяются, дубликаты исправлены."
   ]
  },
  {
   "cell_type": "markdown",
   "metadata": {
    "id": "jz6a9-7HQUDd"
   },
   "source": [
    "**Выводы**\n",
    "\n",
    "Предобработка обнаружила три проблемы в данных:\n",
    "\n",
    "- нарушения в стиле заголовков,\n",
    "- пропущенные значения,\n",
    "- дубликаты — явные и неявные.\n",
    "\n",
    "Все выявленные проблемы исправлены."
   ]
  },
  {
   "cell_type": "markdown",
   "metadata": {
    "id": "WttZHXH0SqKk"
   },
   "source": [
    "## Проверка гипотез"
   ]
  },
  {
   "cell_type": "markdown",
   "metadata": {
    "id": "Im936VVi_Zcu"
   },
   "source": [
    "### Сравнение поведения пользователей двух столиц"
   ]
  },
  {
   "cell_type": "markdown",
   "metadata": {
    "id": "nwt_MuaL_Zcu"
   },
   "source": [
    "Проверяем первую гипотезу, что пользователи по-разному слушают музыку в Москве и Санкт-Петербурге. \n",
    "\n",
    "План работы:\n",
    "* Разделяем пользователей Москвы и Санкт-Петербурга\n",
    "* Сравниваем, сколько треков послушала каждая группа пользователей в понедельник, среду и пятницу.\n"
   ]
  },
  {
   "cell_type": "markdown",
   "metadata": {
    "id": "8Dw_YMmT_Zcu"
   },
   "source": [
    "Оцениваем активность пользователей в каждом городе. \n",
    "Для этого группируем данные по городу и считаем прослушивания в каждой группе."
   ]
  },
  {
   "cell_type": "code",
   "execution_count": 18,
   "metadata": {
    "id": "0_Qs96oh_Zcu"
   },
   "outputs": [
    {
     "data": {
      "text/plain": [
       "city\n",
       "Moscow              42741\n",
       "Saint-Petersburg    18512\n",
       "Name: track, dtype: int64"
      ]
     },
     "execution_count": 18,
     "metadata": {},
     "output_type": "execute_result"
    }
   ],
   "source": [
    "df.groupby('city')['track'].count() # Подсчёт прослушиваний в каждом городе"
   ]
  },
  {
   "cell_type": "markdown",
   "metadata": {},
   "source": [
    "<div class=\"alert alert-block alert-success\">\n",
    " \n",
    "### Комментарий ревьюера\n",
    "    \n",
    "#### Успех\n",
    "    \n",
    "С группировкой справилась отлично \n",
    "</div>"
   ]
  },
  {
   "cell_type": "markdown",
   "metadata": {
    "id": "dzli3w8o_Zcu"
   },
   "source": [
    "В Москве прослушиваний больше, чем в Петербурге. Из этого не следует, что московские пользователи чаще слушают музыку. Просто самих пользователей в Москве больше.\n",
    "\n",
    "Теперь группируем данные по дню недели и считаем прослушивания в понедельник, среду и пятницу. В представленной таблице есть информация только о прослушиваниях только за эти дни.\n"
   ]
  },
  {
   "cell_type": "code",
   "execution_count": 19,
   "metadata": {
    "id": "uZMKjiJz_Zcu"
   },
   "outputs": [
    {
     "data": {
      "text/plain": [
       "day\n",
       "Friday       21840\n",
       "Monday       21354\n",
       "Wednesday    18059\n",
       "Name: track, dtype: int64"
      ]
     },
     "execution_count": 19,
     "metadata": {},
     "output_type": "execute_result"
    }
   ],
   "source": [
    "df.groupby('day')['track'].count() # Подсчёт прослушиваний в каждый из трёх дней"
   ]
  },
  {
   "cell_type": "markdown",
   "metadata": {},
   "source": [
    "<div class=\"alert alert-block alert-success\">\n",
    " \n",
    "### Комментарий ревьюера\n",
    "    \n",
    "#### Успех\n",
    "    \n",
    "И здесь тоже \n",
    "</div>"
   ]
  },
  {
   "cell_type": "markdown",
   "metadata": {
    "id": "cC2tNrlL_Zcu"
   },
   "source": [
    "В среднем пользователи из двух городов менее активны по средам. Но картина может измениться, если рассмотреть каждый город в отдельности."
   ]
  },
  {
   "cell_type": "markdown",
   "metadata": {
    "id": "POzs8bGa_Zcu"
   },
   "source": [
    "Создаем функцию `number_tracks`, которая подсчитает количество пользователей с учетом города и дня недели. Для этого задаем два рараметра `day` и `city`:"
   ]
  },
  {
   "cell_type": "code",
   "execution_count": 20,
   "metadata": {
    "id": "Nz3GdQB1_Zcu"
   },
   "outputs": [],
   "source": [
    "def number_tracks(day, city): # <создание функции number_tracks()> # Объявляется функция с двумя параметрами: day, city.\n",
    "    track_list = df[df['day'] == day] # В track_list coхраняем строки таблицы df, для которых значение в столбце 'day' равно параметру day\n",
    "    track_list_count = track_list[track_list['city'] == city]['user_id'].count() # В переменной track_list_count сохранияем число значений столбца 'user_id'\n",
    "    return track_list_count #функция возвращает количество пользователей в указанный день в указанном городе"
   ]
  },
  {
   "cell_type": "markdown",
   "metadata": {},
   "source": [
    "<div class=\"alert alert-block alert-success\">\n",
    " \n",
    "### Комментарий ревьюера\n",
    "    \n",
    "#### Успех\n",
    "    \n",
    "Функция написана с учетом требований задания\n",
    "</div>"
   ]
  },
  {
   "cell_type": "markdown",
   "metadata": {
    "id": "ytf7xFrFJQ2r"
   },
   "source": [
    "С помощью функции `number_tracks()` производим расчеты, меняя значение параметров — так, чтобы получить данные для каждого города в каждый из трёх дней."
   ]
  },
  {
   "cell_type": "code",
   "execution_count": 21,
   "metadata": {
    "id": "rJcRATNQ_Zcu"
   },
   "outputs": [
    {
     "name": "stdout",
     "output_type": "stream",
     "text": [
      "Количество пользователей в понедельник в Москве: 15740\n"
     ]
    }
   ],
   "source": [
    "print('Количество пользователей в понедельник в Москве:', number_tracks(day = 'Monday', city = 'Moscow')) # количество прослушиваний в Москве по понедельникам"
   ]
  },
  {
   "cell_type": "code",
   "execution_count": 22,
   "metadata": {
    "id": "hq_ncZ5T_Zcu"
   },
   "outputs": [
    {
     "name": "stdout",
     "output_type": "stream",
     "text": [
      "Количество пользователей в понедельник в Санкт-Петербурге: 5614\n"
     ]
    }
   ],
   "source": [
    "print('Количество пользователей в понедельник в Санкт-Петербурге:', number_tracks(day = 'Monday', city = 'Saint-Petersburg')) # количество прослушиваний в Санкт-Петербурге по понедельникам"
   ]
  },
  {
   "cell_type": "code",
   "execution_count": 23,
   "metadata": {
    "id": "_NTy2VPU_Zcu"
   },
   "outputs": [
    {
     "name": "stdout",
     "output_type": "stream",
     "text": [
      "Количество пользователей в среду в Москве: 11056\n"
     ]
    }
   ],
   "source": [
    "print('Количество пользователей в среду в Москве:', number_tracks(day = 'Wednesday', city = 'Moscow')) # количество прослушиваний в Москве по средам"
   ]
  },
  {
   "cell_type": "code",
   "execution_count": 24,
   "metadata": {
    "id": "j2y3TAwo_Zcu"
   },
   "outputs": [
    {
     "name": "stdout",
     "output_type": "stream",
     "text": [
      "Количество пользователей в среду в Санкт-Петербурге: 7003\n"
     ]
    }
   ],
   "source": [
    "print('Количество пользователей в среду в Санкт-Петербурге:', number_tracks(day = 'Wednesday', city = 'Saint-Petersburg')) # количество прослушиваний в Санкт-Петербурге по средам"
   ]
  },
  {
   "cell_type": "code",
   "execution_count": 25,
   "metadata": {
    "id": "vYDw5u_K_Zcu"
   },
   "outputs": [
    {
     "name": "stdout",
     "output_type": "stream",
     "text": [
      "Количество пользователей в пятницу в Москве: 15945\n"
     ]
    }
   ],
   "source": [
    "print('Количество пользователей в пятницу в Москве:', number_tracks(day = 'Friday', city = 'Moscow')) # количество прослушиваний в Москве по пятницам"
   ]
  },
  {
   "cell_type": "code",
   "execution_count": 26,
   "metadata": {
    "id": "8_yzFtW3_Zcu"
   },
   "outputs": [
    {
     "name": "stdout",
     "output_type": "stream",
     "text": [
      "Количество пользователей в пятницу в Санкт-Петербурге: 5895\n"
     ]
    }
   ],
   "source": [
    "print('Количество пользователей в пятницу в Санкт-Петербурге:', number_tracks(day = 'Friday', city = 'Saint-Petersburg')) # количество прослушиваний в Санкт-Петербурге по пятницам"
   ]
  },
  {
   "cell_type": "markdown",
   "metadata": {},
   "source": [
    "<div class=\"alert alert-block alert-success\">\n",
    " \n",
    "### Комментарий ревьюера\n",
    "    \n",
    "#### Успех\n",
    "    \n",
    "И вновь красиво оформила вывод. Вот здесь я не против использования print() если тебе так удобно. \n",
    "</div>"
   ]
  },
  {
   "cell_type": "markdown",
   "metadata": {
    "id": "7QXffbO-_Zcu"
   },
   "source": [
    "С помощью конструктора `pd.DataFrame` создаем таблицу, где\n",
    "* названия колонок — `['city', 'monday', 'wednesday', 'friday']`;\n",
    "* данные — результаты, которые были получены с помощью `number_tracks`.\n",
    "\n",
    "Данные помещаем в переменную `exp`."
   ]
  },
  {
   "cell_type": "code",
   "execution_count": 27,
   "metadata": {
    "id": "APAcLpOr_Zcu"
   },
   "outputs": [
    {
     "data": {
      "text/html": [
       "<div>\n",
       "<style scoped>\n",
       "    .dataframe tbody tr th:only-of-type {\n",
       "        vertical-align: middle;\n",
       "    }\n",
       "\n",
       "    .dataframe tbody tr th {\n",
       "        vertical-align: top;\n",
       "    }\n",
       "\n",
       "    .dataframe thead th {\n",
       "        text-align: right;\n",
       "    }\n",
       "</style>\n",
       "<table border=\"1\" class=\"dataframe\">\n",
       "  <thead>\n",
       "    <tr style=\"text-align: right;\">\n",
       "      <th></th>\n",
       "      <th>city</th>\n",
       "      <th>monday</th>\n",
       "      <th>wednesday</th>\n",
       "      <th>friday</th>\n",
       "    </tr>\n",
       "  </thead>\n",
       "  <tbody>\n",
       "    <tr>\n",
       "      <td>0</td>\n",
       "      <td>Moscow</td>\n",
       "      <td>15740</td>\n",
       "      <td>11056</td>\n",
       "      <td>15945</td>\n",
       "    </tr>\n",
       "    <tr>\n",
       "      <td>1</td>\n",
       "      <td>Saint-Petersburg</td>\n",
       "      <td>5614</td>\n",
       "      <td>7003</td>\n",
       "      <td>5895</td>\n",
       "    </tr>\n",
       "  </tbody>\n",
       "</table>\n",
       "</div>"
      ],
      "text/plain": [
       "               city  monday  wednesday  friday\n",
       "0            Moscow   15740      11056   15945\n",
       "1  Saint-Petersburg    5614       7003    5895"
      ]
     },
     "metadata": {},
     "output_type": "display_data"
    }
   ],
   "source": [
    "exp = ['Moscow', 15740, 11056, 15945], ['Saint-Petersburg', 5614, 7003, 5895] # создаем список данных\n",
    "display(pd.DataFrame(data=exp, columns=['city', 'monday', 'wednesday', 'friday'])) # Таблица с результатами"
   ]
  },
  {
   "cell_type": "markdown",
   "metadata": {},
   "source": [
    "<div class=\"alert alert-block alert-success\">\n",
    " \n",
    "### Комментарий ревьюера\n",
    "    \n",
    "#### Успех\n",
    "    \n",
    "Датафрейм получился отличный\n",
    "</div>"
   ]
  },
  {
   "cell_type": "markdown",
   "metadata": {
    "id": "-EgPIHYu_Zcu"
   },
   "source": [
    "**Выводы**\n",
    "\n",
    "Данные показывают разницу поведения пользователей:\n",
    "\n",
    "- В Москве пик прослушиваний приходится на понедельник и пятницу, а в среду заметен спад.\n",
    "- В Петербурге, наоборот, больше слушают музыку по средам. Активность в понедельник и пятницу здесь почти в равной мере уступает среде.\n",
    "\n",
    "Значит, данные говорят в пользу первой гипотезы."
   ]
  },
  {
   "cell_type": "markdown",
   "metadata": {
    "id": "atZAxtq4_Zcu"
   },
   "source": [
    "### Музыка в начале и в конце недели"
   ]
  },
  {
   "cell_type": "markdown",
   "metadata": {
    "id": "eXrQqXFH_Zcu"
   },
   "source": [
    "Согласно второй гипотезе, утром в понедельник в Москве преобладают одни жанры, а в Петербурге — другие. Так же и вечером пятницы преобладают разные жанры — в зависимости от города."
   ]
  },
  {
   "cell_type": "markdown",
   "metadata": {
    "id": "S8UcW6Hw_Zcu"
   },
   "source": [
    "Для проверки гипотезы создаем две таблицы с данными по двум городам:\n",
    "* по Москве — в `moscow_general`;\n",
    "* по Санкт-Петербургу — в `spb_general`."
   ]
  },
  {
   "cell_type": "code",
   "execution_count": 28,
   "metadata": {
    "id": "qeaFfM_P_Zcu"
   },
   "outputs": [],
   "source": [
    "moscow_general = df[df['city'] == 'Moscow'] # получение таблицы moscow_general из тех строк таблицы df, \n",
    "# для которых значение в столбце 'city' равно 'Moscow'"
   ]
  },
  {
   "cell_type": "code",
   "execution_count": 29,
   "metadata": {
    "id": "ORaVRKto_Zcu"
   },
   "outputs": [],
   "source": [
    "spb_general = df[df['city'] == 'Saint-Petersburg'] # получение таблицы spb_general из тех строк таблицы df,\n",
    "# для которых значение в столбце 'city' равно 'Saint-Petersburg'\n"
   ]
  },
  {
   "cell_type": "markdown",
   "metadata": {},
   "source": [
    "<div class=\"alert alert-block alert-success\">\n",
    " \n",
    "### Комментарий ревьюера\n",
    "    \n",
    "#### Успех\n",
    "    \n",
    "Срезы сделаны по правилам\n",
    "</div>"
   ]
  },
  {
   "cell_type": "markdown",
   "metadata": {
    "id": "MEJV-CX2_Zcu"
   },
   "source": [
    "Создаем функцию `genre_weekday()` с четырьмя параметрами:\n",
    "* таблица (датафрейм) с данными,\n",
    "* день недели,\n",
    "* начальная временная метка в формате 'hh:mm', \n",
    "* последняя временная метка в формате 'hh:mm'.\n",
    "\n",
    "Функция выведет информацию о топ-10 жанров тех треков, которые прослушивали в указанный день, в промежутке между двумя отметками времени."
   ]
  },
  {
   "cell_type": "code",
   "execution_count": 30,
   "metadata": {
    "id": "laJT9BYl_Zcu"
   },
   "outputs": [],
   "source": [
    "def genre_weekday(table, day, time1, time2): # Объявляем функцию genre_weekday() с параметрами table, day, time1, time2\n",
    "    genre_df = table[table['day'] == day] # выбираем из датафрейма строки за указанный день\n",
    "    genre_df = genre_df[genre_df['time'] > time1] # последовательная фильтрация по значению времени\n",
    "    genre_df = genre_df[genre_df['time'] < time2]\n",
    "    genre_df_count = genre_df.groupby('genre')['user_id'].count() # группируем данные по столбцу genre подсчитываем количество пользователей\n",
    "    genre_df_sorted = genre_df_count.sort_values(ascending=False) # сортируем по популярности жанров\n",
    "    return genre_df_sorted.head(10) #возвращаем топ-10 популярных жанров в указанное время"
   ]
  },
  {
   "cell_type": "markdown",
   "metadata": {},
   "source": [
    "<div class=\"alert alert-block alert-success\">\n",
    " \n",
    "### Комментарий ревьюера\n",
    "    \n",
    "#### Успех\n",
    "    \n",
    "Ты справилась с самой сложной функцией\n",
    "</div>"
   ]
  },
  {
   "cell_type": "markdown",
   "metadata": {
    "id": "la2s2_PF_Zcu"
   },
   "source": [
    "Сравниваем результаты расчетов для Москвы и Санкт-Петербурга в понедельник утром (с 7:00 до 11:00) и в пятницу вечером (с 17:00 до 23:00):"
   ]
  },
  {
   "cell_type": "code",
   "execution_count": 31,
   "metadata": {
    "id": "yz7itPUQ_Zcu"
   },
   "outputs": [
    {
     "name": "stdout",
     "output_type": "stream",
     "text": [
      "топ-10 жанров утром в Москве:\n"
     ]
    },
    {
     "data": {
      "text/plain": [
       "genre\n",
       "pop            781\n",
       "dance          549\n",
       "electronic     480\n",
       "rock           474\n",
       "hiphop         286\n",
       "ruspop         186\n",
       "world          181\n",
       "rusrap         175\n",
       "alternative    164\n",
       "unknown        161\n",
       "Name: user_id, dtype: int64"
      ]
     },
     "metadata": {},
     "output_type": "display_data"
    }
   ],
   "source": [
    "print('топ-10 жанров утром в Москве:') \n",
    "display(genre_weekday(moscow_general, 'Monday', '07:00', '11:00'))\n",
    "# с помощью функции genre_weekday из датафрейма moscow_general расчитываем количество прослушиваний популярных жанров"
   ]
  },
  {
   "cell_type": "code",
   "execution_count": 32,
   "metadata": {
    "id": "kwUcHPdy_Zcu"
   },
   "outputs": [
    {
     "name": "stdout",
     "output_type": "stream",
     "text": [
      "топ-10 жанров утром в Санкт_Петербурге:\n"
     ]
    },
    {
     "data": {
      "text/plain": [
       "genre\n",
       "pop            218\n",
       "dance          182\n",
       "rock           162\n",
       "electronic     147\n",
       "hiphop          80\n",
       "ruspop          64\n",
       "alternative     58\n",
       "rusrap          55\n",
       "jazz            44\n",
       "classical       40\n",
       "Name: user_id, dtype: int64"
      ]
     },
     "metadata": {},
     "output_type": "display_data"
    }
   ],
   "source": [
    "print('топ-10 жанров утром в Санкт_Петербурге:')\n",
    "display(genre_weekday(spb_general, 'Monday', '07:00', '11:00')) \n",
    "# с помощью функции genre_weekday из датафрейма spb_general расчитываем количество прослушиваний популярных жанров"
   ]
  },
  {
   "cell_type": "code",
   "execution_count": 33,
   "metadata": {
    "id": "EzXVRE1o_Zcu"
   },
   "outputs": [
    {
     "name": "stdout",
     "output_type": "stream",
     "text": [
      "топ-10 жанров вечером в Москве:\n"
     ]
    },
    {
     "data": {
      "text/plain": [
       "genre\n",
       "pop            713\n",
       "rock           517\n",
       "dance          495\n",
       "electronic     482\n",
       "hiphop         273\n",
       "world          208\n",
       "ruspop         170\n",
       "alternative    163\n",
       "classical      163\n",
       "rusrap         142\n",
       "Name: user_id, dtype: int64"
      ]
     },
     "metadata": {},
     "output_type": "display_data"
    }
   ],
   "source": [
    "print('топ-10 жанров вечером в Москве:') \n",
    "display(genre_weekday(moscow_general, 'Friday', '17:00', '23:00'))\n",
    "# с помощью функции genre_weekday из датафрейма moscow_general расчитываем количество прослушиваний популярных жанров\n"
   ]
  },
  {
   "cell_type": "code",
   "execution_count": 34,
   "metadata": {
    "id": "JZaEKu5v_Zcu"
   },
   "outputs": [
    {
     "name": "stdout",
     "output_type": "stream",
     "text": [
      "топ-10 жанров вечером в Санкт_Петербурге:\n"
     ]
    },
    {
     "data": {
      "text/plain": [
       "genre\n",
       "pop            256\n",
       "rock           216\n",
       "electronic     216\n",
       "dance          210\n",
       "hiphop          97\n",
       "alternative     63\n",
       "jazz            61\n",
       "classical       60\n",
       "rusrap          59\n",
       "world           54\n",
       "Name: user_id, dtype: int64"
      ]
     },
     "metadata": {},
     "output_type": "display_data"
    }
   ],
   "source": [
    "print('топ-10 жанров вечером в Санкт_Петербурге:')\n",
    "display(genre_weekday(spb_general, 'Friday', '17:00', '23:00')) \n",
    "# с помощью функции genre_weekday из датафрейма spb_general расчитываем количество прослушиваний популярных жанров"
   ]
  },
  {
   "cell_type": "markdown",
   "metadata": {},
   "source": [
    "<div class=\"alert alert-block alert-success\">\n",
    " \n",
    "### Комментарий ревьюера\n",
    "    \n",
    "#### Успех\n",
    "    \n",
    "Как можешь видеть, функция работает\n",
    "</div>"
   ]
  },
  {
   "cell_type": "markdown",
   "metadata": {
    "id": "wrCe4MNX_Zcu"
   },
   "source": [
    "**Выводы**\n",
    "\n",
    "Если сравнить топ-10 жанров в понедельник утром, можно сделать такие выводы:\n",
    "\n",
    "1. В Москве и Петербурге слушают похожую музыку. Единственное отличие — в московский рейтинг вошёл жанр “world”, а в петербургский — джаз и классика.\n",
    "\n",
    "2. В Москве пропущенных значений оказалось так много, что значение `'unknown'` заняло десятое место среди самых популярных жанров. Значит, пропущенные значения занимают существенную долю в данных и угрожают достоверности исследования.\n",
    "\n",
    "Вечер пятницы не меняет эту картину. Некоторые жанры поднимаются немного выше, другие спускаются, но в целом топ-10 остаётся тем же самым.\n",
    "\n",
    "Таким образом, вторая гипотеза подтвердилась лишь частично:\n",
    "* Пользователи слушают похожую музыку в начале недели и в конце.\n",
    "* Разница между Москвой и Петербургом не слишком выражена. В Москве чаще слушают русскую популярную музыку, в Петербурге — джаз.\n",
    "\n",
    "Однако пропуски в данных ставят под сомнение этот результат. В Москве их так много, что рейтинг топ-10 мог бы выглядеть иначе, если бы не утерянные  данные о жанрах."
   ]
  },
  {
   "cell_type": "markdown",
   "metadata": {
    "id": "JolODAqr_Zcu"
   },
   "source": [
    "### Жанровые предпочтения в Москве и Петербурге\n",
    "\n",
    "Гипотеза: Петербург — столица рэпа, музыку этого жанра там слушают чаще, чем в Москве.  А Москва — город контрастов, в котором, тем не менее, преобладает поп-музыка."
   ]
  },
  {
   "cell_type": "markdown",
   "metadata": {
    "id": "DlegSvaT_Zcu"
   },
   "source": [
    "Для проверки гипотезы расчитываем количество прослушанных треков в разрезе жанров по городам.\n",
    "Создаем таблицы по жанру и наибольшему количеству прослушивания треков каждого жанра."
   ]
  },
  {
   "cell_type": "code",
   "execution_count": 35,
   "metadata": {
    "id": "r19lIPke_Zcu"
   },
   "outputs": [],
   "source": [
    "moscow_genres = moscow_general.groupby('genre')['genre'].count().sort_values(ascending=False)\n",
    "# группируем таблицы moscow_general по столбцу 'genre', \n",
    "# расчитываем количество значений 'genre' в этой группировке методом count(), \n",
    "# сортируем в порядке убывания и сохраняем в moscow_genres"
   ]
  },
  {
   "cell_type": "markdown",
   "metadata": {},
   "source": [
    "<div class=\"alert alert-block alert-success\">\n",
    " \n",
    "### Комментарий ревьюера\n",
    "    \n",
    "#### Успех\n",
    "    \n",
    "Группировка сделана правильно. \n",
    "</div>"
   ]
  },
  {
   "cell_type": "code",
   "execution_count": 36,
   "metadata": {
    "id": "WhCSooF8_Zcv",
    "scrolled": true
   },
   "outputs": [
    {
     "name": "stdout",
     "output_type": "stream",
     "text": [
      "Количество прослушанных треков в разрезе жанров (топ-10) в Москве:\n"
     ]
    },
    {
     "data": {
      "text/plain": [
       "genre\n",
       "pop            5892\n",
       "dance          4435\n",
       "rock           3965\n",
       "electronic     3786\n",
       "hiphop         2096\n",
       "classical      1616\n",
       "world          1432\n",
       "alternative    1379\n",
       "ruspop         1372\n",
       "rusrap         1161\n",
       "Name: genre, dtype: int64"
      ]
     },
     "metadata": {},
     "output_type": "display_data"
    }
   ],
   "source": [
    "print('Количество прослушанных треков в разрезе жанров (топ-10) в Москве:')\n",
    "display(moscow_genres.head(10)) # просмотр первых 10 строк moscow_genres"
   ]
  },
  {
   "cell_type": "code",
   "execution_count": 37,
   "metadata": {
    "id": "gluLIpE7_Zcv"
   },
   "outputs": [],
   "source": [
    "spb_genres = spb_general.groupby('genre')['genre'].count().sort_values(ascending=False)\n",
    "# группируем таблицы spb_general по столбцу 'genre', \n",
    "# расчитываем количество значений 'genre' в этой группировке методом count(), \n",
    "# сортируем в порядке убывания и сохраняем в moscow_genres"
   ]
  },
  {
   "cell_type": "markdown",
   "metadata": {},
   "source": [
    "<div class=\"alert alert-block alert-success\">\n",
    " \n",
    "### Комментарий ревьюера\n",
    "    \n",
    "#### Успех\n",
    "    \n",
    "И здесь ты идеально справилась\n",
    "</div>"
   ]
  },
  {
   "cell_type": "code",
   "execution_count": 38,
   "metadata": {
    "id": "uaGJHjVU_Zcv"
   },
   "outputs": [
    {
     "name": "stdout",
     "output_type": "stream",
     "text": [
      "Количество прослушанных треков в разрезе жанров (топ-10) в Санкт-Петербурге:\n"
     ]
    },
    {
     "data": {
      "text/plain": [
       "genre\n",
       "pop            2431\n",
       "dance          1932\n",
       "rock           1879\n",
       "electronic     1736\n",
       "hiphop          960\n",
       "alternative     649\n",
       "classical       646\n",
       "rusrap          564\n",
       "ruspop          538\n",
       "world           515\n",
       "Name: genre, dtype: int64"
      ]
     },
     "metadata": {},
     "output_type": "display_data"
    }
   ],
   "source": [
    "print('Количество прослушанных треков в разрезе жанров (топ-10) в Санкт-Петербурге:')\n",
    "display(spb_genres.head(10)) # просмотр первых 10 строк spb_genres"
   ]
  },
  {
   "cell_type": "markdown",
   "metadata": {
    "id": "RY51YJYu_Zcv"
   },
   "source": [
    "**Выводы**"
   ]
  },
  {
   "cell_type": "markdown",
   "metadata": {
    "id": "nVhnJEm__Zcv"
   },
   "source": [
    "Гипотеза частично подтвердилась:\n",
    "* Поп-музыка — самый популярный жанр в Москве, как и предполагала гипотеза. Более того, в топ-10 жанров встречается близкий жанр — русская популярная музыка.\n",
    "* Вопреки ожиданиям, рэп одинаково популярен в Москве и Петербурге. \n"
   ]
  },
  {
   "cell_type": "markdown",
   "metadata": {
    "id": "ykKQ0N65_Zcv"
   },
   "source": [
    "## Итоги исследования"
   ]
  },
  {
   "cell_type": "markdown",
   "metadata": {
    "id": "tjUwbHb3_Zcv"
   },
   "source": [
    "Вы проверили три гипотезы и установили:\n",
    "\n",
    "1. День недели по-разному влияет на активность пользователей в Москве и Петербурге. \n",
    "\n",
    "Первая гипотеза полностью подтвердилась.\n",
    "\n",
    "2. Музыкальные предпочтения не сильно меняются в течение недели — будь то Москва или Петербург. Небольшие различия заметны в начале недели, по понедельникам:\n",
    "* в Москве слушают музыку жанра “world”,\n",
    "* в Петербурге — джаз и классику.\n",
    "\n",
    "Таким образом, вторая гипотеза подтвердилась лишь отчасти. Этот результат мог оказаться иным, если бы не пропуски в данных.\n",
    "\n",
    "3. Во вкусах пользователей Москвы и Петербурга больше общего чем различий. Вопреки ожиданиям, предпочтения жанров в Петербурге напоминают московские.\n",
    "\n",
    "Третья гипотеза не подтвердилась. Если различия в предпочтениях и существуют, на основной массе пользователей они незаметны.\n",
    "\n",
    "**На практике исследования содержат проверки статистических гипотез.**\n",
    "Из данных одного сервиса не всегда можно сделать вывод о всех жителях города.\n",
    "Проверки статистических гипотез покажут, насколько они достоверны, исходя из имеющихся данных. \n",
    "С методами проверок гипотез вы ещё познакомитесь в следующих темах."
   ]
  },
  {
   "cell_type": "markdown",
   "metadata": {},
   "source": [
    "<div class=\"alert alert-block alert-info\">\n",
    "\n",
    "## Итоговый комментарии от ревьюера:\n",
    "    \n",
    "#### Успех\n",
    "\n",
    "Хороший и качественный проект. Ты хорошо владеешь пройденный материалом. При написании циклов и функций применены удобные методы. Ты хорошо пишешь функции, а это будет тебе плюсом при решении следующих проектов.\n",
    "В работе осталось только одно замечание:\n",
    "    \n",
    "* Надо удалить столбец со старыми индексами.\n",
    "        \n",
    "Еще я оставил рекомендации, которые помогут сделать работу лучше. Очень надеюсь, что ты учтешь их в этом и последующих проектах.\n",
    "    \n",
    "Жду проект после доработки. Уверен, ты справишься.\n",
    "</div>"
   ]
  },
  {
   "cell_type": "markdown",
   "metadata": {},
   "source": [
    " <div class=\"alert alert-block alert-info\">\n",
    "    \n",
    "## Добрый день, Вячеслав!\n",
    "    \n",
    "Благодарю за высокую оценку моему первому проекту!\n",
    "    \n",
    "Ошибку исправила, замечания и советы приняла к сведению.\n",
    "</div>"
   ]
  },
  {
   "cell_type": "markdown",
   "metadata": {},
   "source": [
    "<div class=\"alert alert-block alert-info\">\n",
    "\n",
    "# Итоговый комментарии от ревьюера ver.2\n",
    "    \n",
    "#### Успех\n",
    "\n",
    "Спасибо большое за исправления. Ты здорово постаралась. Проект я принимаю и желаю тебе удачи в дальнейшей учебе.\n",
    "</div>"
   ]
  }
 ],
 "metadata": {
  "ExecuteTimeLog": [
   {
    "duration": 617,
    "start_time": "2022-02-07T10:42:38.012Z"
   },
   {
    "duration": 117,
    "start_time": "2022-02-07T10:43:33.558Z"
   },
   {
    "duration": 20,
    "start_time": "2022-02-07T10:44:34.717Z"
   },
   {
    "duration": 8,
    "start_time": "2022-02-07T10:44:56.720Z"
   },
   {
    "duration": 7,
    "start_time": "2022-02-07T10:46:21.723Z"
   },
   {
    "duration": 22,
    "start_time": "2022-02-07T10:47:08.595Z"
   },
   {
    "duration": 364,
    "start_time": "2022-02-07T10:55:37.324Z"
   },
   {
    "duration": 328,
    "start_time": "2022-02-07T10:55:42.702Z"
   },
   {
    "duration": 4,
    "start_time": "2022-02-07T10:55:56.563Z"
   },
   {
    "duration": 1674,
    "start_time": "2022-02-07T10:59:55.164Z"
   },
   {
    "duration": 316,
    "start_time": "2022-02-07T11:00:17.790Z"
   },
   {
    "duration": 335,
    "start_time": "2022-02-07T11:01:56.455Z"
   },
   {
    "duration": 17,
    "start_time": "2022-02-07T11:02:02.528Z"
   },
   {
    "duration": 3,
    "start_time": "2022-02-07T11:02:15.269Z"
   },
   {
    "duration": 20,
    "start_time": "2022-02-07T11:04:36.584Z"
   },
   {
    "duration": 112,
    "start_time": "2022-02-07T11:11:36.752Z"
   },
   {
    "duration": 115,
    "start_time": "2022-02-07T11:12:14.226Z"
   },
   {
    "duration": 15,
    "start_time": "2022-02-07T11:13:12.382Z"
   },
   {
    "duration": 21,
    "start_time": "2022-02-07T11:13:31.139Z"
   },
   {
    "duration": 49,
    "start_time": "2022-02-07T11:20:48.236Z"
   },
   {
    "duration": 48,
    "start_time": "2022-02-07T11:23:19.175Z"
   },
   {
    "duration": 47,
    "start_time": "2022-02-07T11:23:45.048Z"
   },
   {
    "duration": 54,
    "start_time": "2022-02-07T11:25:16.599Z"
   },
   {
    "duration": 48,
    "start_time": "2022-02-07T11:25:34.680Z"
   },
   {
    "duration": 8,
    "start_time": "2022-02-07T11:28:23.600Z"
   },
   {
    "duration": 5,
    "start_time": "2022-02-07T11:29:43.592Z"
   },
   {
    "duration": 10,
    "start_time": "2022-02-07T11:29:56.384Z"
   },
   {
    "duration": 3,
    "start_time": "2022-02-07T11:33:56.316Z"
   },
   {
    "duration": 7,
    "start_time": "2022-02-07T11:43:18.353Z"
   },
   {
    "duration": 9,
    "start_time": "2022-02-07T11:43:40.429Z"
   },
   {
    "duration": 10,
    "start_time": "2022-02-07T11:48:38.592Z"
   },
   {
    "duration": 10,
    "start_time": "2022-02-07T11:49:36.490Z"
   },
   {
    "duration": 3,
    "start_time": "2022-02-07T12:11:56.392Z"
   },
   {
    "duration": 726,
    "start_time": "2022-02-07T12:14:05.059Z"
   },
   {
    "duration": 704,
    "start_time": "2022-02-07T12:14:58.123Z"
   },
   {
    "duration": 3,
    "start_time": "2022-02-07T12:15:03.845Z"
   },
   {
    "duration": 774,
    "start_time": "2022-02-07T12:15:07.299Z"
   },
   {
    "duration": 127,
    "start_time": "2022-02-07T12:15:48.268Z"
   },
   {
    "duration": 662,
    "start_time": "2022-02-07T12:15:52.334Z"
   },
   {
    "duration": 105,
    "start_time": "2022-02-07T12:20:35.560Z"
   },
   {
    "duration": 132,
    "start_time": "2022-02-07T12:21:38.145Z"
   },
   {
    "duration": 2,
    "start_time": "2022-02-07T12:22:52.585Z"
   },
   {
    "duration": 18,
    "start_time": "2022-02-07T12:22:56.449Z"
   },
   {
    "duration": 15,
    "start_time": "2022-02-07T12:23:00.460Z"
   },
   {
    "duration": 3,
    "start_time": "2022-02-07T12:23:32.570Z"
   },
   {
    "duration": 16,
    "start_time": "2022-02-07T12:23:35.413Z"
   },
   {
    "duration": 14,
    "start_time": "2022-02-07T12:25:14.547Z"
   },
   {
    "duration": 14,
    "start_time": "2022-02-07T12:26:23.334Z"
   },
   {
    "duration": 13,
    "start_time": "2022-02-07T12:26:45.883Z"
   },
   {
    "duration": 16,
    "start_time": "2022-02-07T12:27:16.474Z"
   },
   {
    "duration": 16,
    "start_time": "2022-02-07T12:27:33.779Z"
   },
   {
    "duration": 7,
    "start_time": "2022-02-07T12:41:15.567Z"
   },
   {
    "duration": 7,
    "start_time": "2022-02-07T12:41:42.135Z"
   },
   {
    "duration": 2,
    "start_time": "2022-02-07T13:03:48.569Z"
   },
   {
    "duration": 118,
    "start_time": "2022-02-07T13:03:52.498Z"
   },
   {
    "duration": 8,
    "start_time": "2022-02-07T13:03:56.288Z"
   },
   {
    "duration": 3,
    "start_time": "2022-02-07T13:08:20.775Z"
   },
   {
    "duration": 4,
    "start_time": "2022-02-07T13:13:39.253Z"
   },
   {
    "duration": 19,
    "start_time": "2022-02-07T13:13:58.406Z"
   },
   {
    "duration": 3,
    "start_time": "2022-02-07T13:14:00.957Z"
   },
   {
    "duration": 16,
    "start_time": "2022-02-07T13:24:21.067Z"
   },
   {
    "duration": 51,
    "start_time": "2022-02-07T13:24:56.849Z"
   },
   {
    "duration": 49,
    "start_time": "2022-02-07T13:25:29.933Z"
   },
   {
    "duration": 116,
    "start_time": "2022-02-07T13:26:42.888Z"
   },
   {
    "duration": 57,
    "start_time": "2022-02-07T13:28:16.461Z"
   },
   {
    "duration": 48,
    "start_time": "2022-02-07T13:28:21.750Z"
   },
   {
    "duration": 49,
    "start_time": "2022-02-07T13:29:01.500Z"
   },
   {
    "duration": 44,
    "start_time": "2022-02-07T13:29:23.515Z"
   },
   {
    "duration": 124,
    "start_time": "2022-02-08T09:23:02.388Z"
   },
   {
    "duration": 287,
    "start_time": "2022-02-08T09:23:12.583Z"
   },
   {
    "duration": 651,
    "start_time": "2022-02-08T09:23:32.790Z"
   },
   {
    "duration": 153,
    "start_time": "2022-02-08T09:23:33.443Z"
   },
   {
    "duration": 18,
    "start_time": "2022-02-08T09:23:33.598Z"
   },
   {
    "duration": 33,
    "start_time": "2022-02-08T09:23:33.618Z"
   },
   {
    "duration": 16,
    "start_time": "2022-02-08T09:23:33.653Z"
   },
   {
    "duration": 32,
    "start_time": "2022-02-08T09:23:33.671Z"
   },
   {
    "duration": 6,
    "start_time": "2022-02-08T09:23:33.705Z"
   },
   {
    "duration": 41,
    "start_time": "2022-02-08T09:23:33.713Z"
   },
   {
    "duration": 28,
    "start_time": "2022-02-08T09:23:33.756Z"
   },
   {
    "duration": 80,
    "start_time": "2022-02-08T09:23:33.786Z"
   },
   {
    "duration": 98,
    "start_time": "2022-02-08T09:23:33.868Z"
   },
   {
    "duration": 81,
    "start_time": "2022-02-08T09:23:33.968Z"
   },
   {
    "duration": 62,
    "start_time": "2022-02-08T09:23:34.051Z"
   },
   {
    "duration": 11,
    "start_time": "2022-02-08T09:23:34.115Z"
   },
   {
    "duration": 13,
    "start_time": "2022-02-08T09:23:34.128Z"
   },
   {
    "duration": 23,
    "start_time": "2022-02-08T09:23:34.143Z"
   },
   {
    "duration": 48,
    "start_time": "2022-02-08T09:23:34.168Z"
   },
   {
    "duration": 36,
    "start_time": "2022-02-08T09:23:34.218Z"
   },
   {
    "duration": 16,
    "start_time": "2022-02-08T09:23:34.255Z"
   },
   {
    "duration": 12,
    "start_time": "2022-02-08T09:23:34.273Z"
   },
   {
    "duration": 33,
    "start_time": "2022-02-08T09:23:34.287Z"
   },
   {
    "duration": 30,
    "start_time": "2022-02-08T09:23:34.322Z"
   },
   {
    "duration": 54,
    "start_time": "2022-02-08T09:23:34.355Z"
   },
   {
    "duration": 17,
    "start_time": "2022-02-08T09:23:34.411Z"
   },
   {
    "duration": 26,
    "start_time": "2022-02-08T09:23:34.430Z"
   },
   {
    "duration": 18,
    "start_time": "2022-02-08T09:23:34.508Z"
   },
   {
    "duration": 10,
    "start_time": "2022-02-08T09:23:34.528Z"
   },
   {
    "duration": 11,
    "start_time": "2022-02-08T09:23:34.540Z"
   },
   {
    "duration": 16,
    "start_time": "2022-02-08T09:23:34.553Z"
   },
   {
    "duration": 12,
    "start_time": "2022-02-08T09:23:34.571Z"
   },
   {
    "duration": 25,
    "start_time": "2022-02-08T09:23:34.585Z"
   },
   {
    "duration": 20,
    "start_time": "2022-02-08T09:23:34.613Z"
   },
   {
    "duration": 24,
    "start_time": "2022-02-08T09:23:34.635Z"
   },
   {
    "duration": 20,
    "start_time": "2022-02-08T09:23:34.661Z"
   },
   {
    "duration": 21,
    "start_time": "2022-02-08T09:23:34.683Z"
   },
   {
    "duration": 7,
    "start_time": "2022-02-08T09:23:34.706Z"
   },
   {
    "duration": 21,
    "start_time": "2022-02-08T09:23:34.715Z"
   },
   {
    "duration": 23,
    "start_time": "2022-02-08T09:23:34.738Z"
   },
   {
    "duration": 20,
    "start_time": "2022-02-08T09:29:39.792Z"
   },
   {
    "duration": 20,
    "start_time": "2022-02-08T09:30:02.097Z"
   },
   {
    "duration": 20,
    "start_time": "2022-02-08T09:30:21.136Z"
   },
   {
    "duration": 18,
    "start_time": "2022-02-08T09:30:38.282Z"
   },
   {
    "duration": 19,
    "start_time": "2022-02-08T09:31:04.168Z"
   },
   {
    "duration": 19,
    "start_time": "2022-02-08T09:31:52.168Z"
   },
   {
    "duration": 24,
    "start_time": "2022-02-08T09:32:23.258Z"
   },
   {
    "duration": 12,
    "start_time": "2022-02-08T09:37:10.806Z"
   },
   {
    "duration": 10,
    "start_time": "2022-02-08T09:37:59.868Z"
   },
   {
    "duration": 21,
    "start_time": "2022-02-08T09:38:10.550Z"
   },
   {
    "duration": 13,
    "start_time": "2022-02-08T09:38:28.551Z"
   },
   {
    "duration": 5,
    "start_time": "2022-02-08T10:09:06.693Z"
   },
   {
    "duration": 4,
    "start_time": "2022-02-08T10:10:20.406Z"
   },
   {
    "duration": 13,
    "start_time": "2022-02-08T10:11:15.222Z"
   },
   {
    "duration": 12,
    "start_time": "2022-02-08T10:11:16.036Z"
   },
   {
    "duration": 19,
    "start_time": "2022-02-08T10:12:15.898Z"
   },
   {
    "duration": 17,
    "start_time": "2022-02-08T10:12:29.979Z"
   },
   {
    "duration": 18,
    "start_time": "2022-02-08T10:12:42.489Z"
   },
   {
    "duration": 16,
    "start_time": "2022-02-08T10:12:53.982Z"
   },
   {
    "duration": 19,
    "start_time": "2022-02-08T10:13:09.444Z"
   },
   {
    "duration": 303,
    "start_time": "2022-02-08T10:13:26.349Z"
   },
   {
    "duration": 118,
    "start_time": "2022-02-08T10:13:45.279Z"
   },
   {
    "duration": 18,
    "start_time": "2022-02-08T10:13:58.987Z"
   },
   {
    "duration": 17,
    "start_time": "2022-02-08T10:15:34.360Z"
   },
   {
    "duration": 23,
    "start_time": "2022-02-08T10:16:15.482Z"
   },
   {
    "duration": 23,
    "start_time": "2022-02-08T10:17:43.875Z"
   },
   {
    "duration": 16,
    "start_time": "2022-02-08T10:18:42.834Z"
   },
   {
    "duration": 23,
    "start_time": "2022-02-08T10:21:25.777Z"
   },
   {
    "duration": 12,
    "start_time": "2022-02-08T10:22:42.363Z"
   },
   {
    "duration": 29,
    "start_time": "2022-02-08T10:23:34.196Z"
   },
   {
    "duration": 20,
    "start_time": "2022-02-08T10:24:41.495Z"
   },
   {
    "duration": 16,
    "start_time": "2022-02-08T10:24:54.008Z"
   },
   {
    "duration": 18,
    "start_time": "2022-02-08T10:30:56.097Z"
   },
   {
    "duration": 9,
    "start_time": "2022-02-08T10:35:44.938Z"
   },
   {
    "duration": 6,
    "start_time": "2022-02-08T10:36:20.349Z"
   },
   {
    "duration": 348,
    "start_time": "2022-02-08T10:37:35.746Z"
   },
   {
    "duration": 7,
    "start_time": "2022-02-08T10:38:02.850Z"
   },
   {
    "duration": 6,
    "start_time": "2022-02-08T10:38:05.365Z"
   },
   {
    "duration": 3,
    "start_time": "2022-02-08T10:47:38.321Z"
   },
   {
    "duration": 159,
    "start_time": "2022-02-08T10:47:38.327Z"
   },
   {
    "duration": 11,
    "start_time": "2022-02-08T10:47:38.489Z"
   },
   {
    "duration": 36,
    "start_time": "2022-02-08T10:47:38.507Z"
   },
   {
    "duration": 17,
    "start_time": "2022-02-08T10:47:38.544Z"
   },
   {
    "duration": 35,
    "start_time": "2022-02-08T10:47:38.563Z"
   },
   {
    "duration": 4,
    "start_time": "2022-02-08T10:47:38.600Z"
   },
   {
    "duration": 35,
    "start_time": "2022-02-08T10:47:38.606Z"
   },
   {
    "duration": 21,
    "start_time": "2022-02-08T10:47:38.643Z"
   },
   {
    "duration": 24,
    "start_time": "2022-02-08T10:47:38.665Z"
   },
   {
    "duration": 73,
    "start_time": "2022-02-08T10:47:38.691Z"
   },
   {
    "duration": 89,
    "start_time": "2022-02-08T10:47:38.766Z"
   },
   {
    "duration": 72,
    "start_time": "2022-02-08T10:47:38.857Z"
   },
   {
    "duration": 9,
    "start_time": "2022-02-08T10:47:38.931Z"
   },
   {
    "duration": 3,
    "start_time": "2022-02-08T10:47:38.942Z"
   },
   {
    "duration": 14,
    "start_time": "2022-02-08T10:47:38.946Z"
   },
   {
    "duration": 16,
    "start_time": "2022-02-08T10:47:38.962Z"
   },
   {
    "duration": 38,
    "start_time": "2022-02-08T10:47:38.980Z"
   },
   {
    "duration": 14,
    "start_time": "2022-02-08T10:47:39.020Z"
   },
   {
    "duration": 8,
    "start_time": "2022-02-08T10:47:39.036Z"
   },
   {
    "duration": 28,
    "start_time": "2022-02-08T10:47:39.046Z"
   },
   {
    "duration": 42,
    "start_time": "2022-02-08T10:47:39.076Z"
   },
   {
    "duration": 19,
    "start_time": "2022-02-08T10:47:39.120Z"
   },
   {
    "duration": 17,
    "start_time": "2022-02-08T10:47:39.141Z"
   },
   {
    "duration": 57,
    "start_time": "2022-02-08T10:47:39.161Z"
   },
   {
    "duration": 19,
    "start_time": "2022-02-08T10:47:39.220Z"
   },
   {
    "duration": 9,
    "start_time": "2022-02-08T10:47:39.241Z"
   },
   {
    "duration": 20,
    "start_time": "2022-02-08T10:47:39.251Z"
   },
   {
    "duration": 42,
    "start_time": "2022-02-08T10:47:39.273Z"
   },
   {
    "duration": 5,
    "start_time": "2022-02-08T10:47:39.317Z"
   },
   {
    "duration": 29,
    "start_time": "2022-02-08T10:47:39.324Z"
   },
   {
    "duration": 16,
    "start_time": "2022-02-08T10:47:39.356Z"
   },
   {
    "duration": 49,
    "start_time": "2022-02-08T10:47:39.374Z"
   },
   {
    "duration": 15,
    "start_time": "2022-02-08T10:47:39.426Z"
   },
   {
    "duration": 9,
    "start_time": "2022-02-08T10:47:39.444Z"
   },
   {
    "duration": 5,
    "start_time": "2022-02-08T10:47:39.455Z"
   },
   {
    "duration": 45,
    "start_time": "2022-02-08T10:47:39.462Z"
   },
   {
    "duration": 6,
    "start_time": "2022-02-08T10:47:39.509Z"
   },
   {
    "duration": 6,
    "start_time": "2022-02-08T11:03:15.604Z"
   },
   {
    "duration": 6,
    "start_time": "2022-02-08T11:06:10.448Z"
   },
   {
    "duration": 6,
    "start_time": "2022-02-08T11:06:26.950Z"
   },
   {
    "duration": 6,
    "start_time": "2022-02-08T11:06:31.788Z"
   },
   {
    "duration": 110,
    "start_time": "2022-02-13T16:06:31.682Z"
   },
   {
    "duration": 149,
    "start_time": "2022-02-13T16:44:06.396Z"
   },
   {
    "duration": 331,
    "start_time": "2022-02-14T00:18:14.224Z"
   },
   {
    "duration": 273,
    "start_time": "2022-02-14T00:18:45.759Z"
   },
   {
    "duration": 726,
    "start_time": "2022-02-14T00:19:06.169Z"
   },
   {
    "duration": 196,
    "start_time": "2022-02-14T00:19:06.898Z"
   },
   {
    "duration": 49,
    "start_time": "2022-02-14T00:19:07.099Z"
   },
   {
    "duration": 49,
    "start_time": "2022-02-14T00:19:07.152Z"
   },
   {
    "duration": 7,
    "start_time": "2022-02-14T00:19:07.204Z"
   },
   {
    "duration": 58,
    "start_time": "2022-02-14T00:19:07.214Z"
   },
   {
    "duration": 5,
    "start_time": "2022-02-14T00:19:07.275Z"
   },
   {
    "duration": 31,
    "start_time": "2022-02-14T00:19:07.285Z"
   },
   {
    "duration": 24,
    "start_time": "2022-02-14T00:19:07.349Z"
   },
   {
    "duration": 30,
    "start_time": "2022-02-14T00:19:07.376Z"
   },
   {
    "duration": 113,
    "start_time": "2022-02-14T00:19:07.408Z"
   },
   {
    "duration": 113,
    "start_time": "2022-02-14T00:19:07.523Z"
   },
   {
    "duration": 82,
    "start_time": "2022-02-14T00:19:07.638Z"
   },
   {
    "duration": 29,
    "start_time": "2022-02-14T00:19:07.723Z"
   },
   {
    "duration": 3,
    "start_time": "2022-02-14T00:19:07.755Z"
   },
   {
    "duration": 15,
    "start_time": "2022-02-14T00:19:07.761Z"
   },
   {
    "duration": 14,
    "start_time": "2022-02-14T00:19:07.779Z"
   },
   {
    "duration": 17,
    "start_time": "2022-02-14T00:19:07.795Z"
   },
   {
    "duration": 16,
    "start_time": "2022-02-14T00:19:07.848Z"
   },
   {
    "duration": 4,
    "start_time": "2022-02-14T00:19:07.866Z"
   },
   {
    "duration": 23,
    "start_time": "2022-02-14T00:19:07.873Z"
   },
   {
    "duration": 49,
    "start_time": "2022-02-14T00:19:07.899Z"
   },
   {
    "duration": 19,
    "start_time": "2022-02-14T00:19:07.953Z"
   },
   {
    "duration": 17,
    "start_time": "2022-02-14T00:19:07.974Z"
   },
   {
    "duration": 22,
    "start_time": "2022-02-14T00:19:07.994Z"
   },
   {
    "duration": 22,
    "start_time": "2022-02-14T00:19:08.049Z"
   },
   {
    "duration": 12,
    "start_time": "2022-02-14T00:19:08.074Z"
   },
   {
    "duration": 18,
    "start_time": "2022-02-14T00:19:08.089Z"
   },
   {
    "duration": 52,
    "start_time": "2022-02-14T00:19:08.109Z"
   },
   {
    "duration": 8,
    "start_time": "2022-02-14T00:19:08.164Z"
   },
   {
    "duration": 36,
    "start_time": "2022-02-14T00:19:08.174Z"
   },
   {
    "duration": 51,
    "start_time": "2022-02-14T00:19:08.212Z"
   },
   {
    "duration": 22,
    "start_time": "2022-02-14T00:19:08.266Z"
   },
   {
    "duration": 18,
    "start_time": "2022-02-14T00:19:08.290Z"
   },
   {
    "duration": 47,
    "start_time": "2022-02-14T00:19:08.311Z"
   },
   {
    "duration": 8,
    "start_time": "2022-02-14T00:19:08.361Z"
   },
   {
    "duration": 11,
    "start_time": "2022-02-14T00:19:08.371Z"
   },
   {
    "duration": 7,
    "start_time": "2022-02-14T00:19:08.384Z"
   },
   {
    "duration": 7,
    "start_time": "2022-02-14T00:20:10.766Z"
   },
   {
    "duration": 29,
    "start_time": "2022-02-14T00:20:28.798Z"
   },
   {
    "duration": 105,
    "start_time": "2022-02-14T00:21:07.399Z"
   },
   {
    "duration": 325,
    "start_time": "2022-02-14T00:21:48.801Z"
   },
   {
    "duration": 4,
    "start_time": "2022-02-14T00:22:14.528Z"
   },
   {
    "duration": 214,
    "start_time": "2022-02-14T00:22:14.534Z"
   },
   {
    "duration": 15,
    "start_time": "2022-02-14T00:22:14.751Z"
   },
   {
    "duration": 31,
    "start_time": "2022-02-14T00:22:14.769Z"
   },
   {
    "duration": 5,
    "start_time": "2022-02-14T00:22:14.803Z"
   },
   {
    "duration": 54,
    "start_time": "2022-02-14T00:22:14.811Z"
   },
   {
    "duration": 6,
    "start_time": "2022-02-14T00:22:14.867Z"
   },
   {
    "duration": 30,
    "start_time": "2022-02-14T00:22:14.877Z"
   },
   {
    "duration": 47,
    "start_time": "2022-02-14T00:22:14.910Z"
   },
   {
    "duration": 28,
    "start_time": "2022-02-14T00:22:14.960Z"
   },
   {
    "duration": 117,
    "start_time": "2022-02-14T00:22:14.990Z"
   },
   {
    "duration": 100,
    "start_time": "2022-02-14T00:22:15.109Z"
   },
   {
    "duration": 78,
    "start_time": "2022-02-14T00:22:15.212Z"
   },
   {
    "duration": 350,
    "start_time": "2022-02-14T00:22:15.292Z"
   },
   {
    "duration": 52025,
    "start_time": "2022-02-14T00:21:23.620Z"
   },
   {
    "duration": 52024,
    "start_time": "2022-02-14T00:21:23.623Z"
   },
   {
    "duration": 52023,
    "start_time": "2022-02-14T00:21:23.625Z"
   },
   {
    "duration": 52021,
    "start_time": "2022-02-14T00:21:23.629Z"
   },
   {
    "duration": 52019,
    "start_time": "2022-02-14T00:21:23.632Z"
   },
   {
    "duration": 52018,
    "start_time": "2022-02-14T00:21:23.635Z"
   },
   {
    "duration": 52017,
    "start_time": "2022-02-14T00:21:23.637Z"
   },
   {
    "duration": 52016,
    "start_time": "2022-02-14T00:21:23.639Z"
   },
   {
    "duration": 52016,
    "start_time": "2022-02-14T00:21:23.641Z"
   },
   {
    "duration": 52014,
    "start_time": "2022-02-14T00:21:23.644Z"
   },
   {
    "duration": 52009,
    "start_time": "2022-02-14T00:21:23.650Z"
   },
   {
    "duration": 52008,
    "start_time": "2022-02-14T00:21:23.653Z"
   },
   {
    "duration": 52007,
    "start_time": "2022-02-14T00:21:23.655Z"
   },
   {
    "duration": 52006,
    "start_time": "2022-02-14T00:21:23.657Z"
   },
   {
    "duration": 52005,
    "start_time": "2022-02-14T00:21:23.659Z"
   },
   {
    "duration": 52004,
    "start_time": "2022-02-14T00:21:23.662Z"
   },
   {
    "duration": 52002,
    "start_time": "2022-02-14T00:21:23.665Z"
   },
   {
    "duration": 52001,
    "start_time": "2022-02-14T00:21:23.667Z"
   },
   {
    "duration": 52001,
    "start_time": "2022-02-14T00:21:23.669Z"
   },
   {
    "duration": 51965,
    "start_time": "2022-02-14T00:21:23.706Z"
   },
   {
    "duration": 51965,
    "start_time": "2022-02-14T00:21:23.708Z"
   },
   {
    "duration": 51963,
    "start_time": "2022-02-14T00:21:23.711Z"
   },
   {
    "duration": 51962,
    "start_time": "2022-02-14T00:21:23.713Z"
   },
   {
    "duration": 51961,
    "start_time": "2022-02-14T00:21:23.715Z"
   },
   {
    "duration": 14,
    "start_time": "2022-02-14T00:23:10.179Z"
   },
   {
    "duration": 14,
    "start_time": "2022-02-14T00:23:33.524Z"
   },
   {
    "duration": 4,
    "start_time": "2022-02-14T00:24:24.283Z"
   },
   {
    "duration": 187,
    "start_time": "2022-02-14T00:24:24.289Z"
   },
   {
    "duration": 15,
    "start_time": "2022-02-14T00:24:24.479Z"
   },
   {
    "duration": 31,
    "start_time": "2022-02-14T00:24:24.497Z"
   },
   {
    "duration": 5,
    "start_time": "2022-02-14T00:24:24.549Z"
   },
   {
    "duration": 26,
    "start_time": "2022-02-14T00:24:24.557Z"
   },
   {
    "duration": 5,
    "start_time": "2022-02-14T00:24:24.586Z"
   },
   {
    "duration": 62,
    "start_time": "2022-02-14T00:24:24.594Z"
   },
   {
    "duration": 23,
    "start_time": "2022-02-14T00:24:24.658Z"
   },
   {
    "duration": 30,
    "start_time": "2022-02-14T00:24:24.684Z"
   },
   {
    "duration": 104,
    "start_time": "2022-02-14T00:24:24.716Z"
   },
   {
    "duration": 104,
    "start_time": "2022-02-14T00:24:24.823Z"
   },
   {
    "duration": 83,
    "start_time": "2022-02-14T00:24:24.929Z"
   },
   {
    "duration": 14,
    "start_time": "2022-02-14T00:24:25.014Z"
   },
   {
    "duration": 20,
    "start_time": "2022-02-14T00:24:25.030Z"
   },
   {
    "duration": 13,
    "start_time": "2022-02-14T00:24:25.052Z"
   },
   {
    "duration": 18,
    "start_time": "2022-02-14T00:24:25.068Z"
   },
   {
    "duration": 15,
    "start_time": "2022-02-14T00:24:25.088Z"
   },
   {
    "duration": 50,
    "start_time": "2022-02-14T00:24:25.107Z"
   },
   {
    "duration": 4,
    "start_time": "2022-02-14T00:24:25.160Z"
   },
   {
    "duration": 34,
    "start_time": "2022-02-14T00:24:25.167Z"
   },
   {
    "duration": 18,
    "start_time": "2022-02-14T00:24:25.204Z"
   },
   {
    "duration": 35,
    "start_time": "2022-02-14T00:24:25.225Z"
   },
   {
    "duration": 16,
    "start_time": "2022-02-14T00:24:25.262Z"
   },
   {
    "duration": 19,
    "start_time": "2022-02-14T00:24:25.281Z"
   },
   {
    "duration": 50,
    "start_time": "2022-02-14T00:24:25.303Z"
   },
   {
    "duration": 12,
    "start_time": "2022-02-14T00:24:25.355Z"
   },
   {
    "duration": 23,
    "start_time": "2022-02-14T00:24:25.369Z"
   },
   {
    "duration": 16,
    "start_time": "2022-02-14T00:24:25.394Z"
   },
   {
    "duration": 5,
    "start_time": "2022-02-14T00:24:25.413Z"
   },
   {
    "duration": 26,
    "start_time": "2022-02-14T00:24:25.449Z"
   },
   {
    "duration": 17,
    "start_time": "2022-02-14T00:24:25.477Z"
   },
   {
    "duration": 59,
    "start_time": "2022-02-14T00:24:25.496Z"
   },
   {
    "duration": 17,
    "start_time": "2022-02-14T00:24:25.558Z"
   },
   {
    "duration": 10,
    "start_time": "2022-02-14T00:24:25.578Z"
   },
   {
    "duration": 18,
    "start_time": "2022-02-14T00:24:25.590Z"
   },
   {
    "duration": 39,
    "start_time": "2022-02-14T00:24:25.610Z"
   },
   {
    "duration": 7,
    "start_time": "2022-02-14T00:24:25.652Z"
   },
   {
    "duration": 14,
    "start_time": "2022-02-14T00:27:31.458Z"
   },
   {
    "duration": 274,
    "start_time": "2022-02-14T00:27:42.580Z"
   },
   {
    "duration": 14,
    "start_time": "2022-02-14T00:27:55.181Z"
   },
   {
    "duration": 15,
    "start_time": "2022-02-14T00:28:26.045Z"
   },
   {
    "duration": 16,
    "start_time": "2022-02-14T00:28:34.957Z"
   },
   {
    "duration": 340,
    "start_time": "2022-02-14T00:37:20.764Z"
   },
   {
    "duration": 13,
    "start_time": "2022-02-14T00:37:38.550Z"
   },
   {
    "duration": 100,
    "start_time": "2022-02-14T00:38:01.695Z"
   },
   {
    "duration": 92,
    "start_time": "2022-02-14T00:38:40.991Z"
   },
   {
    "duration": 109,
    "start_time": "2022-02-14T00:38:53.536Z"
   },
   {
    "duration": 171,
    "start_time": "2022-02-14T00:39:12.769Z"
   },
   {
    "duration": 111,
    "start_time": "2022-02-14T00:39:56.827Z"
   },
   {
    "duration": 118,
    "start_time": "2022-02-14T00:46:59.448Z"
   },
   {
    "duration": 319,
    "start_time": "2022-02-14T00:47:12.936Z"
   },
   {
    "duration": 428,
    "start_time": "2022-02-14T00:47:43.442Z"
   },
   {
    "duration": 75,
    "start_time": "2022-02-14T00:48:26.050Z"
   },
   {
    "duration": 14,
    "start_time": "2022-02-14T00:50:13.430Z"
   },
   {
    "duration": 3,
    "start_time": "2022-02-14T00:50:57.919Z"
   },
   {
    "duration": 3,
    "start_time": "2022-02-14T00:51:03.527Z"
   },
   {
    "duration": 3,
    "start_time": "2022-02-14T01:09:13.617Z"
   },
   {
    "duration": 4,
    "start_time": "2022-02-14T01:09:25.394Z"
   },
   {
    "duration": 3,
    "start_time": "2022-02-14T01:09:28.706Z"
   },
   {
    "duration": 562,
    "start_time": "2022-02-14T07:20:09.365Z"
   },
   {
    "duration": 123,
    "start_time": "2022-02-14T07:20:09.929Z"
   },
   {
    "duration": 16,
    "start_time": "2022-02-14T07:20:10.055Z"
   },
   {
    "duration": 56,
    "start_time": "2022-02-14T07:20:10.073Z"
   },
   {
    "duration": 19,
    "start_time": "2022-02-14T07:20:10.131Z"
   },
   {
    "duration": 51,
    "start_time": "2022-02-14T07:20:10.152Z"
   },
   {
    "duration": 50,
    "start_time": "2022-02-14T07:20:10.205Z"
   },
   {
    "duration": 44,
    "start_time": "2022-02-14T07:20:10.257Z"
   },
   {
    "duration": 51,
    "start_time": "2022-02-14T07:20:10.303Z"
   },
   {
    "duration": 41,
    "start_time": "2022-02-14T07:20:10.356Z"
   },
   {
    "duration": 123,
    "start_time": "2022-02-14T07:20:10.398Z"
   },
   {
    "duration": 77,
    "start_time": "2022-02-14T07:20:10.523Z"
   },
   {
    "duration": 61,
    "start_time": "2022-02-14T07:20:10.601Z"
   },
   {
    "duration": 15,
    "start_time": "2022-02-14T07:20:10.664Z"
   },
   {
    "duration": 11,
    "start_time": "2022-02-14T07:20:10.681Z"
   },
   {
    "duration": 73,
    "start_time": "2022-02-14T07:20:10.693Z"
   },
   {
    "duration": 30,
    "start_time": "2022-02-14T07:20:10.768Z"
   },
   {
    "duration": 30,
    "start_time": "2022-02-14T07:20:10.799Z"
   },
   {
    "duration": 38,
    "start_time": "2022-02-14T07:20:10.831Z"
   },
   {
    "duration": 23,
    "start_time": "2022-02-14T07:20:10.871Z"
   },
   {
    "duration": 40,
    "start_time": "2022-02-14T07:20:10.895Z"
   },
   {
    "duration": 38,
    "start_time": "2022-02-14T07:20:10.936Z"
   },
   {
    "duration": 35,
    "start_time": "2022-02-14T07:20:10.978Z"
   },
   {
    "duration": 34,
    "start_time": "2022-02-14T07:20:11.015Z"
   },
   {
    "duration": 37,
    "start_time": "2022-02-14T07:20:11.051Z"
   },
   {
    "duration": 35,
    "start_time": "2022-02-14T07:20:11.089Z"
   },
   {
    "duration": 25,
    "start_time": "2022-02-14T07:20:11.125Z"
   },
   {
    "duration": 33,
    "start_time": "2022-02-14T07:20:11.152Z"
   },
   {
    "duration": 37,
    "start_time": "2022-02-14T07:20:11.187Z"
   },
   {
    "duration": 29,
    "start_time": "2022-02-14T07:20:11.226Z"
   },
   {
    "duration": 48,
    "start_time": "2022-02-14T07:20:11.257Z"
   },
   {
    "duration": 15,
    "start_time": "2022-02-14T07:20:11.307Z"
   },
   {
    "duration": 42,
    "start_time": "2022-02-14T07:20:11.324Z"
   },
   {
    "duration": 26,
    "start_time": "2022-02-14T07:20:11.368Z"
   },
   {
    "duration": 21,
    "start_time": "2022-02-14T07:20:11.396Z"
   },
   {
    "duration": 6,
    "start_time": "2022-02-14T07:20:11.419Z"
   },
   {
    "duration": 15,
    "start_time": "2022-02-14T07:20:11.427Z"
   },
   {
    "duration": 16,
    "start_time": "2022-02-14T07:20:11.443Z"
   }
  ],
  "colab": {
   "collapsed_sections": [
    "E0vqbgi9ay0H",
    "VUC88oWjTJw2"
   ],
   "name": "yandex_music_project_2021.2.ipynb",
   "provenance": []
  },
  "kernelspec": {
   "display_name": "Python 3 (ipykernel)",
   "language": "python",
   "name": "python3"
  },
  "language_info": {
   "codemirror_mode": {
    "name": "ipython",
    "version": 3
   },
   "file_extension": ".py",
   "mimetype": "text/x-python",
   "name": "python",
   "nbconvert_exporter": "python",
   "pygments_lexer": "ipython3",
   "version": "3.9.5"
  },
  "toc": {
   "base_numbering": 1,
   "nav_menu": {},
   "number_sections": true,
   "sideBar": true,
   "skip_h1_title": true,
   "title_cell": "Table of Contents",
   "title_sidebar": "Contents",
   "toc_cell": false,
   "toc_position": {
    "height": "calc(100% - 180px)",
    "left": "10px",
    "top": "150px",
    "width": "366.391px"
   },
   "toc_section_display": true,
   "toc_window_display": true
  }
 },
 "nbformat": 4,
 "nbformat_minor": 1
}
