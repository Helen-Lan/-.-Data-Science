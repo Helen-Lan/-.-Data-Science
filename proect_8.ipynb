{
 "cells": [
  {
   "cell_type": "markdown",
   "metadata": {},
   "source": [
    "# Выбор локации для скважины"
   ]
  },
  {
   "cell_type": "markdown",
   "metadata": {},
   "source": [
    "Допустим, вы работаете в добывающей компании «ГлавРосГосНефть». Нужно решить, где бурить новую скважину.\n",
    "\n",
    "Вам предоставлены пробы нефти в трёх регионах: в каждом 10 000 месторождений, где измерили качество нефти и объём её запасов. Постройте модель машинного обучения, которая поможет определить регион, где добыча принесёт наибольшую прибыль. Проанализируйте возможную прибыль и риски техникой *Bootstrap.*\n",
    "\n",
    "Шаги для выбора локации:\n",
    "\n",
    "- В избранном регионе ищут месторождения, для каждого определяют значения признаков;\n",
    "- Строят модель и оценивают объём запасов;\n",
    "- Выбирают месторождения с самым высокими оценками значений. Количество месторождений зависит от бюджета компании и стоимости разработки одной скважины;\n",
    "- Прибыль равна суммарной прибыли отобранных месторождений."
   ]
  },
  {
   "cell_type": "markdown",
   "metadata": {},
   "source": [
    "План работы:\n",
    "* проверка данных, обработка\n",
    "* построение модели, изучение показателей и получение предсказаний\n",
    "* подготовка данных для расчета прибыли\n",
    "* расчет прибыли и рисков\n",
    "* Вывод"
   ]
  },
  {
   "cell_type": "markdown",
   "metadata": {},
   "source": [
    "## Загрузка и подготовка данных"
   ]
  },
  {
   "cell_type": "markdown",
   "metadata": {},
   "source": [
    "Загружаем библиотеки"
   ]
  },
  {
   "cell_type": "code",
   "execution_count": 3,
   "metadata": {},
   "outputs": [],
   "source": [
    "import pandas as pd\n",
    "from sklearn.model_selection import train_test_split\n",
    "from sklearn.preprocessing import StandardScaler \n",
    "from sklearn.model_selection import GridSearchCV \n",
    "import matplotlib.pyplot as plt\n",
    "import numpy as np\n",
    "import plotly.express as px\n",
    "import seaborn as sns\n",
    "import warnings\n",
    "warnings.filterwarnings('ignore')\n",
    "from sklearn.metrics import mean_squared_error, r2_score, mean_absolute_error\n",
    "from sklearn.linear_model import LinearRegression \n",
    "from scipy import stats as st "
   ]
  },
  {
   "cell_type": "markdown",
   "metadata": {},
   "source": [
    "Загружаем данные:"
   ]
  },
  {
   "cell_type": "code",
   "execution_count": 4,
   "metadata": {},
   "outputs": [],
   "source": [
    "geo_0 = pd.read_csv('/datasets/geo_data_0.csv')\n",
    "geo_1 = pd.read_csv('/datasets/geo_data_1.csv')\n",
    "geo_2 = pd.read_csv('/datasets/geo_data_2.csv')"
   ]
  },
  {
   "cell_type": "code",
   "execution_count": 5,
   "metadata": {},
   "outputs": [],
   "source": [
    "pd.options.display.float_format = '{:,.3f}'.format"
   ]
  },
  {
   "cell_type": "markdown",
   "metadata": {},
   "source": [
    "Построим функцию для вывода основных сведений о данных:\n",
    "* вывод на экран\n",
    "* вывод основной информации о файле\n",
    "* проверка на наличие пропусков\n",
    "* проверка на наличие повторов\n",
    "* вывод сведений о распределении данных\n",
    "* вывод сведений о корреляции (наличие мультиколлениарности)"
   ]
  },
  {
   "cell_type": "code",
   "execution_count": 6,
   "metadata": {},
   "outputs": [],
   "source": [
    "def plays(dev):\n",
    "    display(dev.head(5))\n",
    "    print('Датафрейм содержит', dev.shape[0], 'наблюдений и', dev.shape[1], 'признаков')\n",
    "    print()\n",
    "    dev.info()\n",
    "    print()\n",
    "    print('Наличие пропусков:', dev.isna().sum().sum())\n",
    "    print('Наличие повторов:', dev.duplicated().sum())\n",
    "    print()\n",
    "    print(f'Сведения о распределении данных')\n",
    "    print(dev.describe())\n",
    "    print()\n",
    "    print(f'Корреляция данных')\n",
    "    print(dev.corr())\n",
    "    \n",
    "    plt.figure(figsize=(8, 6))\n",
    "    sns.heatmap(geo_0.corr(), annot=True, vmin=-1, vmax=1, center= 0, cmap= 'Purples', fmt='.1g');\n",
    "    print()\n",
    "        \n",
    "    #sns.pairplot(dev, hue='product', palette='Purples'); (можно посмотреть, но долго)\n",
    "    "
   ]
  },
  {
   "cell_type": "markdown",
   "metadata": {},
   "source": [
    "### Регион geo_0"
   ]
  },
  {
   "cell_type": "code",
   "execution_count": 7,
   "metadata": {
    "scrolled": true
   },
   "outputs": [
    {
     "data": {
      "text/html": [
       "<div>\n",
       "<style scoped>\n",
       "    .dataframe tbody tr th:only-of-type {\n",
       "        vertical-align: middle;\n",
       "    }\n",
       "\n",
       "    .dataframe tbody tr th {\n",
       "        vertical-align: top;\n",
       "    }\n",
       "\n",
       "    .dataframe thead th {\n",
       "        text-align: right;\n",
       "    }\n",
       "</style>\n",
       "<table border=\"1\" class=\"dataframe\">\n",
       "  <thead>\n",
       "    <tr style=\"text-align: right;\">\n",
       "      <th></th>\n",
       "      <th>id</th>\n",
       "      <th>f0</th>\n",
       "      <th>f1</th>\n",
       "      <th>f2</th>\n",
       "      <th>product</th>\n",
       "    </tr>\n",
       "  </thead>\n",
       "  <tbody>\n",
       "    <tr>\n",
       "      <th>0</th>\n",
       "      <td>txEyH</td>\n",
       "      <td>0.706</td>\n",
       "      <td>-0.498</td>\n",
       "      <td>1.221</td>\n",
       "      <td>105.280</td>\n",
       "    </tr>\n",
       "    <tr>\n",
       "      <th>1</th>\n",
       "      <td>2acmU</td>\n",
       "      <td>1.335</td>\n",
       "      <td>-0.340</td>\n",
       "      <td>4.365</td>\n",
       "      <td>73.038</td>\n",
       "    </tr>\n",
       "    <tr>\n",
       "      <th>2</th>\n",
       "      <td>409Wp</td>\n",
       "      <td>1.023</td>\n",
       "      <td>0.152</td>\n",
       "      <td>1.420</td>\n",
       "      <td>85.266</td>\n",
       "    </tr>\n",
       "    <tr>\n",
       "      <th>3</th>\n",
       "      <td>iJLyR</td>\n",
       "      <td>-0.032</td>\n",
       "      <td>0.139</td>\n",
       "      <td>2.979</td>\n",
       "      <td>168.621</td>\n",
       "    </tr>\n",
       "    <tr>\n",
       "      <th>4</th>\n",
       "      <td>Xdl7t</td>\n",
       "      <td>1.988</td>\n",
       "      <td>0.155</td>\n",
       "      <td>4.752</td>\n",
       "      <td>154.037</td>\n",
       "    </tr>\n",
       "  </tbody>\n",
       "</table>\n",
       "</div>"
      ],
      "text/plain": [
       "      id     f0     f1    f2  product\n",
       "0  txEyH  0.706 -0.498 1.221  105.280\n",
       "1  2acmU  1.335 -0.340 4.365   73.038\n",
       "2  409Wp  1.023  0.152 1.420   85.266\n",
       "3  iJLyR -0.032  0.139 2.979  168.621\n",
       "4  Xdl7t  1.988  0.155 4.752  154.037"
      ]
     },
     "metadata": {},
     "output_type": "display_data"
    },
    {
     "name": "stdout",
     "output_type": "stream",
     "text": [
      "Датафрейм содержит 100000 наблюдений и 5 признаков\n",
      "\n",
      "<class 'pandas.core.frame.DataFrame'>\n",
      "RangeIndex: 100000 entries, 0 to 99999\n",
      "Data columns (total 5 columns):\n",
      " #   Column   Non-Null Count   Dtype  \n",
      "---  ------   --------------   -----  \n",
      " 0   id       100000 non-null  object \n",
      " 1   f0       100000 non-null  float64\n",
      " 2   f1       100000 non-null  float64\n",
      " 3   f2       100000 non-null  float64\n",
      " 4   product  100000 non-null  float64\n",
      "dtypes: float64(4), object(1)\n",
      "memory usage: 3.8+ MB\n",
      "\n",
      "Наличие пропусков: 0\n",
      "Наличие повторов: 0\n",
      "\n",
      "Сведения о распределении данных\n",
      "               f0          f1          f2     product\n",
      "count 100,000.000 100,000.000 100,000.000 100,000.000\n",
      "mean        0.500       0.250       2.503      92.500\n",
      "std         0.872       0.504       3.248      44.289\n",
      "min        -1.409      -0.848     -12.088       0.000\n",
      "25%        -0.073      -0.201       0.288      56.498\n",
      "50%         0.502       0.250       2.516      91.850\n",
      "75%         1.074       0.701       4.715     128.564\n",
      "max         2.362       1.344      16.004     185.364\n",
      "\n",
      "Корреляция данных\n",
      "            f0     f1     f2  product\n",
      "f0       1.000 -0.441 -0.003    0.144\n",
      "f1      -0.441  1.000  0.002   -0.192\n",
      "f2      -0.003  0.002  1.000    0.484\n",
      "product  0.144 -0.192  0.484    1.000\n",
      "\n"
     ]
    },
    {
     "data": {
      "image/png": "[encoded data removed]",
      "text/plain": [
       "<Figure size 576x432 with 2 Axes>"
      ]
     },
     "metadata": {
      "needs_background": "light"
     },
     "output_type": "display_data"
    }
   ],
   "source": [
    "plays(geo_0)"
   ]
  },
  {
   "cell_type": "markdown",
   "metadata": {},
   "source": [
    "* Датафрейм содержит 100000 наблюдений и 5 признаков\n",
    "* В файле содержаться признаки f0 f1 f2 и целевой признак, а так же сведения об id скважины. Нам не известны что означают f0 f1 f2, но id не является не является признаком, необходимым для предсказания (удалим его в дальнейшей работе)\n",
    "* все данные распределены нормально, средние значения соответствуют медиане, стандартное отклонение небольшое\n",
    "* корреляция признаков слабая, мультиколлениарность отсутствует. "
   ]
  },
  {
   "cell_type": "markdown",
   "metadata": {},
   "source": [
    "### Регион geo_1"
   ]
  },
  {
   "cell_type": "code",
   "execution_count": 8,
   "metadata": {
    "scrolled": true
   },
   "outputs": [
    {
     "data": {
      "text/html": [
       "<div>\n",
       "<style scoped>\n",
       "    .dataframe tbody tr th:only-of-type {\n",
       "        vertical-align: middle;\n",
       "    }\n",
       "\n",
       "    .dataframe tbody tr th {\n",
       "        vertical-align: top;\n",
       "    }\n",
       "\n",
       "    .dataframe thead th {\n",
       "        text-align: right;\n",
       "    }\n",
       "</style>\n",
       "<table border=\"1\" class=\"dataframe\">\n",
       "  <thead>\n",
       "    <tr style=\"text-align: right;\">\n",
       "      <th></th>\n",
       "      <th>id</th>\n",
       "      <th>f0</th>\n",
       "      <th>f1</th>\n",
       "      <th>f2</th>\n",
       "      <th>product</th>\n",
       "    </tr>\n",
       "  </thead>\n",
       "  <tbody>\n",
       "    <tr>\n",
       "      <th>0</th>\n",
       "      <td>kBEdx</td>\n",
       "      <td>-15.001</td>\n",
       "      <td>-8.276</td>\n",
       "      <td>-0.006</td>\n",
       "      <td>3.179</td>\n",
       "    </tr>\n",
       "    <tr>\n",
       "      <th>1</th>\n",
       "      <td>62mP7</td>\n",
       "      <td>14.272</td>\n",
       "      <td>-3.475</td>\n",
       "      <td>0.999</td>\n",
       "      <td>26.953</td>\n",
       "    </tr>\n",
       "    <tr>\n",
       "      <th>2</th>\n",
       "      <td>vyE1P</td>\n",
       "      <td>6.263</td>\n",
       "      <td>-5.948</td>\n",
       "      <td>5.001</td>\n",
       "      <td>134.766</td>\n",
       "    </tr>\n",
       "    <tr>\n",
       "      <th>3</th>\n",
       "      <td>KcrkZ</td>\n",
       "      <td>-13.081</td>\n",
       "      <td>-11.506</td>\n",
       "      <td>4.999</td>\n",
       "      <td>137.945</td>\n",
       "    </tr>\n",
       "    <tr>\n",
       "      <th>4</th>\n",
       "      <td>AHL4O</td>\n",
       "      <td>12.702</td>\n",
       "      <td>-8.147</td>\n",
       "      <td>5.004</td>\n",
       "      <td>134.766</td>\n",
       "    </tr>\n",
       "  </tbody>\n",
       "</table>\n",
       "</div>"
      ],
      "text/plain": [
       "      id      f0      f1     f2  product\n",
       "0  kBEdx -15.001  -8.276 -0.006    3.179\n",
       "1  62mP7  14.272  -3.475  0.999   26.953\n",
       "2  vyE1P   6.263  -5.948  5.001  134.766\n",
       "3  KcrkZ -13.081 -11.506  4.999  137.945\n",
       "4  AHL4O  12.702  -8.147  5.004  134.766"
      ]
     },
     "metadata": {},
     "output_type": "display_data"
    },
    {
     "name": "stdout",
     "output_type": "stream",
     "text": [
      "Датафрейм содержит 100000 наблюдений и 5 признаков\n",
      "\n",
      "<class 'pandas.core.frame.DataFrame'>\n",
      "RangeIndex: 100000 entries, 0 to 99999\n",
      "Data columns (total 5 columns):\n",
      " #   Column   Non-Null Count   Dtype  \n",
      "---  ------   --------------   -----  \n",
      " 0   id       100000 non-null  object \n",
      " 1   f0       100000 non-null  float64\n",
      " 2   f1       100000 non-null  float64\n",
      " 3   f2       100000 non-null  float64\n",
      " 4   product  100000 non-null  float64\n",
      "dtypes: float64(4), object(1)\n",
      "memory usage: 3.8+ MB\n",
      "\n",
      "Наличие пропусков: 0\n",
      "Наличие повторов: 0\n",
      "\n",
      "Сведения о распределении данных\n",
      "               f0          f1          f2     product\n",
      "count 100,000.000 100,000.000 100,000.000 100,000.000\n",
      "mean        1.141      -4.797       2.495      68.825\n",
      "std         8.966       5.120       1.704      45.944\n",
      "min       -31.610     -26.359      -0.018       0.000\n",
      "25%        -6.299      -8.268       1.000      26.953\n",
      "50%         1.153      -4.813       2.011      57.086\n",
      "75%         8.621      -1.333       4.000     107.813\n",
      "max        29.422      18.734       5.020     137.945\n",
      "\n",
      "Корреляция данных\n",
      "            f0     f1     f2  product\n",
      "f0       1.000  0.182 -0.002   -0.030\n",
      "f1       0.182  1.000 -0.003   -0.010\n",
      "f2      -0.002 -0.003  1.000    0.999\n",
      "product -0.030 -0.010  0.999    1.000\n",
      "\n"
     ]
    },
    {
     "data": {
      "image/png": "[encoded data removed]",
      "text/plain": [
       "<Figure size 576x432 with 2 Axes>"
      ]
     },
     "metadata": {
      "needs_background": "light"
     },
     "output_type": "display_data"
    }
   ],
   "source": [
    "plays(geo_1)"
   ]
  },
  {
   "cell_type": "markdown",
   "metadata": {},
   "source": [
    "* Датафрейм содержит 100000 наблюдений и 5 признаков\n",
    "* В файле содержаться признаки f0 f1 f2 и целевой признак, а так же сведения об id скважины. Нам не известны что означают f0 f1 f2, но id не является не является признаком, необходимым для предсказания (удалим его в дальнейшей работе)\n",
    "* все данные распределены нормально, средние значения соответствуют медиане, стандартное отклонение небольшое\n",
    "* корреляция признаков незначительная, мультиколлениарность отсутствует. "
   ]
  },
  {
   "cell_type": "markdown",
   "metadata": {},
   "source": [
    "### Регион geo_2"
   ]
  },
  {
   "cell_type": "code",
   "execution_count": 9,
   "metadata": {
    "scrolled": true
   },
   "outputs": [
    {
     "data": {
      "text/html": [
       "<div>\n",
       "<style scoped>\n",
       "    .dataframe tbody tr th:only-of-type {\n",
       "        vertical-align: middle;\n",
       "    }\n",
       "\n",
       "    .dataframe tbody tr th {\n",
       "        vertical-align: top;\n",
       "    }\n",
       "\n",
       "    .dataframe thead th {\n",
       "        text-align: right;\n",
       "    }\n",
       "</style>\n",
       "<table border=\"1\" class=\"dataframe\">\n",
       "  <thead>\n",
       "    <tr style=\"text-align: right;\">\n",
       "      <th></th>\n",
       "      <th>id</th>\n",
       "      <th>f0</th>\n",
       "      <th>f1</th>\n",
       "      <th>f2</th>\n",
       "      <th>product</th>\n",
       "    </tr>\n",
       "  </thead>\n",
       "  <tbody>\n",
       "    <tr>\n",
       "      <th>0</th>\n",
       "      <td>fwXo0</td>\n",
       "      <td>-1.147</td>\n",
       "      <td>0.963</td>\n",
       "      <td>-0.829</td>\n",
       "      <td>27.759</td>\n",
       "    </tr>\n",
       "    <tr>\n",
       "      <th>1</th>\n",
       "      <td>WJtFt</td>\n",
       "      <td>0.263</td>\n",
       "      <td>0.270</td>\n",
       "      <td>-2.530</td>\n",
       "      <td>56.070</td>\n",
       "    </tr>\n",
       "    <tr>\n",
       "      <th>2</th>\n",
       "      <td>ovLUW</td>\n",
       "      <td>0.195</td>\n",
       "      <td>0.289</td>\n",
       "      <td>-5.586</td>\n",
       "      <td>62.872</td>\n",
       "    </tr>\n",
       "    <tr>\n",
       "      <th>3</th>\n",
       "      <td>q6cA6</td>\n",
       "      <td>2.236</td>\n",
       "      <td>-0.554</td>\n",
       "      <td>0.930</td>\n",
       "      <td>114.573</td>\n",
       "    </tr>\n",
       "    <tr>\n",
       "      <th>4</th>\n",
       "      <td>WPMUX</td>\n",
       "      <td>-0.516</td>\n",
       "      <td>1.716</td>\n",
       "      <td>5.899</td>\n",
       "      <td>149.601</td>\n",
       "    </tr>\n",
       "  </tbody>\n",
       "</table>\n",
       "</div>"
      ],
      "text/plain": [
       "      id     f0     f1     f2  product\n",
       "0  fwXo0 -1.147  0.963 -0.829   27.759\n",
       "1  WJtFt  0.263  0.270 -2.530   56.070\n",
       "2  ovLUW  0.195  0.289 -5.586   62.872\n",
       "3  q6cA6  2.236 -0.554  0.930  114.573\n",
       "4  WPMUX -0.516  1.716  5.899  149.601"
      ]
     },
     "metadata": {},
     "output_type": "display_data"
    },
    {
     "name": "stdout",
     "output_type": "stream",
     "text": [
      "Датафрейм содержит 100000 наблюдений и 5 признаков\n",
      "\n",
      "<class 'pandas.core.frame.DataFrame'>\n",
      "RangeIndex: 100000 entries, 0 to 99999\n",
      "Data columns (total 5 columns):\n",
      " #   Column   Non-Null Count   Dtype  \n",
      "---  ------   --------------   -----  \n",
      " 0   id       100000 non-null  object \n",
      " 1   f0       100000 non-null  float64\n",
      " 2   f1       100000 non-null  float64\n",
      " 3   f2       100000 non-null  float64\n",
      " 4   product  100000 non-null  float64\n",
      "dtypes: float64(4), object(1)\n",
      "memory usage: 3.8+ MB\n",
      "\n",
      "Наличие пропусков: 0\n",
      "Наличие повторов: 0\n",
      "\n",
      "Сведения о распределении данных\n",
      "               f0          f1          f2     product\n",
      "count 100,000.000 100,000.000 100,000.000 100,000.000\n",
      "mean        0.002      -0.002       2.495      95.000\n",
      "std         1.732       1.730       3.473      44.750\n",
      "min        -8.760      -7.084     -11.970       0.000\n",
      "25%        -1.162      -1.175       0.130      59.450\n",
      "50%         0.009      -0.009       2.484      94.926\n",
      "75%         1.159       1.164       4.859     130.595\n",
      "max         7.238       7.845      16.739     190.030\n",
      "\n",
      "Корреляция данных\n",
      "            f0     f1     f2  product\n",
      "f0       1.000  0.001 -0.000   -0.002\n",
      "f1       0.001  1.000  0.001   -0.001\n",
      "f2      -0.000  0.001  1.000    0.446\n",
      "product -0.002 -0.001  0.446    1.000\n",
      "\n"
     ]
    },
    {
     "data": {
      "image/png": "[encoded data removed]",
      "text/plain": [
       "<Figure size 576x432 with 2 Axes>"
      ]
     },
     "metadata": {
      "needs_background": "light"
     },
     "output_type": "display_data"
    }
   ],
   "source": [
    "plays(geo_2)"
   ]
  },
  {
   "cell_type": "markdown",
   "metadata": {},
   "source": [
    "* Датафрейм содержит 100000 наблюдений и 5 признаков\n",
    "* В файле содержаться признаки f0 f1 f2 и целевой признак, а так же сведения об id скважины. Нам не известны что означают f0 f1 f2, но id не является не является признаком, необходимым для предсказания (удалим его в дальнейшей работе)\n",
    "* все данные распределены нормально, средние значения соответствуют медиане, стандартное отклонение небольшое\n",
    "* корреляция признаков незначительная, мультиколлениарность отсутствует. "
   ]
  },
  {
   "cell_type": "markdown",
   "metadata": {},
   "source": [
    "**Вывод: Данные готовы к построению модели**"
   ]
  },
  {
   "cell_type": "markdown",
   "metadata": {},
   "source": [
    "## Обучение и проверка модели"
   ]
  },
  {
   "cell_type": "markdown",
   "metadata": {},
   "source": [
    "Построим функцию для построения модели, расчета основных показателей и получении предсказаний:\n",
    "* удаляем колонку id\n",
    "* разделяем данные на features (признаки) и (target) целевой признак\n",
    "* разделяем на обучающую и валидационную выборки в соотношении 75/25\n",
    "* проведем масштабирование признаков\n",
    "* инициируем модель линейной регрессии и обучим на обучающей выборке\n",
    "* получим предсказания на валидационной выборке\n",
    "* расчитаем показатели RMSE, mean_predict, mean_product, R2, MAE"
   ]
  },
  {
   "cell_type": "code",
   "execution_count": 10,
   "metadata": {},
   "outputs": [],
   "source": [
    "def modeling(geo_region):\n",
    "    geo_region = geo_region.drop('id', axis=1)\n",
    "    # удаляем столбец `id`\n",
    "    features = geo_region.drop('product', axis=1)\n",
    "    target = geo_region['product']\n",
    "    \n",
    "    # разделим выборку на обучающую и валидационную\n",
    "    features_train, features_valid = train_test_split(features, test_size=0.25, random_state=12345)\n",
    "    target_train, target_valid = train_test_split(target, test_size=0.25, random_state=12345)\n",
    "    \n",
    "    # проведем масштабирование признаков\n",
    "    scaler = StandardScaler()\n",
    "    scaler.fit(features_train)\n",
    "    features_train_scaler = scaler.transform(features_train)\n",
    "    features_valid_scaler = scaler.transform(features_valid)\n",
    "    \n",
    "    # выведем данные (для проверки)\n",
    "    print(f'Размеры обучающей выборки {features_train_scaler.shape} и целевого признака {target_train.shape}')\n",
    "    print(f'Размер валидационной выборки {features_valid_scaler.shape} и целевого признака {target_valid.shape}')\n",
    "    print()\n",
    "    # обучаем модель LinearRegression\n",
    "    model = LinearRegression() \n",
    "    model.fit(features_train_scaler, target_train) \n",
    "    \n",
    "    # предсказываем значения\n",
    "    predictions_valid = model.predict(features_valid_scaler) \n",
    "    \n",
    "    # расчитываем показатели\n",
    "    rmse = mean_squared_error(target_valid, predictions_valid)**0.5 \n",
    "    r_2 = r2_score(target_valid, predictions_valid)\n",
    "    mae = mean_absolute_error(target_valid, predictions_valid)\n",
    "    mean_predict = predictions_valid.mean()\n",
    "    mean_product = geo_region['product'].mean()\n",
    "        \n",
    "    return rmse, mean_predict, predictions_valid, features_valid_scaler, mean_product, r_2, mae, target_valid"
   ]
  },
  {
   "cell_type": "markdown",
   "metadata": {},
   "source": [
    "### Регион \"geo_0\""
   ]
  },
  {
   "cell_type": "markdown",
   "metadata": {},
   "source": [
    "Применим функцию `modeling` на данных Региона_0"
   ]
  },
  {
   "cell_type": "code",
   "execution_count": 11,
   "metadata": {},
   "outputs": [
    {
     "name": "stdout",
     "output_type": "stream",
     "text": [
      "Размеры обучающей выборки (75000, 3) и целевого признака (75000,)\n",
      "Размер валидационной выборки (25000, 3) и целевого признака (25000,)\n",
      "\n",
      "Корень из средней квадратичной ошибки (RMSE): 37.58\n",
      "Коэффициент детерминации (R2): 0.28\n",
      "Среднее абсолютное отклонение: 30.92\n",
      "Среднее предсказанного количество сырья: 92.59 тыс.баррелей\n",
      "Среднее фактическое количество сырья: 92.50 тыс.баррелей\n"
     ]
    }
   ],
   "source": [
    "rmse, mean_predict, predictions_valid, features_valid_scaler, mean_product, r_2, mae, target_valid = modeling(geo_0)\n",
    "print(f'Корень из средней квадратичной ошибки (RMSE): {rmse:.2f}')\n",
    "print(f'Коэффициент детерминации (R2): {r_2:.2f}')\n",
    "print(f'Среднее абсолютное отклонение: {mae:.2f}')\n",
    "print(f'Среднее предсказанного количество сырья: {mean_predict:.2f} тыс.баррелей')\n",
    "print(f'Среднее фактическое количество сырья: {mean_product:.2f} тыс.баррелей')"
   ]
  },
  {
   "cell_type": "markdown",
   "metadata": {},
   "source": [
    "Сохраним предсказания и целевой признак валидационной модели:"
   ]
  },
  {
   "cell_type": "code",
   "execution_count": 12,
   "metadata": {},
   "outputs": [],
   "source": [
    "Predictions_Geo_0 = predictions_valid\n",
    "Features_Geo_0 = features_valid_scaler\n",
    "Target_Geo_0 = target_valid"
   ]
  },
  {
   "cell_type": "markdown",
   "metadata": {},
   "source": [
    "### Регион \"geo_1\""
   ]
  },
  {
   "cell_type": "code",
   "execution_count": 13,
   "metadata": {},
   "outputs": [
    {
     "name": "stdout",
     "output_type": "stream",
     "text": [
      "Размеры обучающей выборки (75000, 3) и целевого признака (75000,)\n",
      "Размер валидационной выборки (25000, 3) и целевого признака (25000,)\n",
      "\n",
      "Корень из средней квадратичной ошибки (RMSE): 0.89\n",
      "Коэффициент детерминации (R2): 0.9996\n",
      "Среднее абсолютное отклонение: 0.72\n",
      "Среднее предсказанного количество сырья: 68.73 тыс.баррелей\n",
      "Среднее фактическое количество сырья: 68.83 тыс.баррелей\n"
     ]
    }
   ],
   "source": [
    "rmse, mean_predict, predictions_valid, features_valid_scaler, mean_product, r_2, mae, target_valid = modeling(geo_1)\n",
    "print(f'Корень из средней квадратичной ошибки (RMSE): {rmse:.2f}')\n",
    "print(f'Коэффициент детерминации (R2): {r_2:.4f}')\n",
    "print(f'Среднее абсолютное отклонение: {mae:.2f}')\n",
    "print(f'Среднее предсказанного количество сырья: {mean_predict:.2f} тыс.баррелей')\n",
    "print(f'Среднее фактическое количество сырья: {mean_product:.2f} тыс.баррелей')"
   ]
  },
  {
   "cell_type": "markdown",
   "metadata": {},
   "source": [
    "Сохраним предсказания и целевой признак валидационной модели:"
   ]
  },
  {
   "cell_type": "code",
   "execution_count": 14,
   "metadata": {},
   "outputs": [],
   "source": [
    "Predictions_Geo_1 = predictions_valid\n",
    "Features_Geo_1 = features_valid_scaler\n",
    "Target_Geo_1 = target_valid"
   ]
  },
  {
   "cell_type": "markdown",
   "metadata": {},
   "source": [
    "### Регион \"geo_2\""
   ]
  },
  {
   "cell_type": "code",
   "execution_count": 15,
   "metadata": {},
   "outputs": [
    {
     "name": "stdout",
     "output_type": "stream",
     "text": [
      "Размеры обучающей выборки (75000, 3) и целевого признака (75000,)\n",
      "Размер валидационной выборки (25000, 3) и целевого признака (25000,)\n",
      "\n",
      "Корень из средней квадратичной ошибки (RMSE): 40.03\n",
      "Коэффициент детерминации (R2): 0.21\n",
      "Среднее абсолютное отклонение: 32.79\n",
      "Среднее предсказанного количество сырья: 94.97 тыс.баррелей\n",
      "Среднее фактическое количество сырья: 95.00 тыс.баррелей\n"
     ]
    }
   ],
   "source": [
    "rmse, mean_predict, predictions_valid, features_valid_scaler, mean_product, r_2, mae, target_valid = modeling(geo_2)\n",
    "print(f'Корень из средней квадратичной ошибки (RMSE): {rmse:.2f}')\n",
    "print(f'Коэффициент детерминации (R2): {r_2:.2f}')\n",
    "print(f'Среднее абсолютное отклонение: {mae:.2f}')\n",
    "print(f'Среднее предсказанного количество сырья: {mean_predict:.2f} тыс.баррелей')\n",
    "print(f'Среднее фактическое количество сырья: {mean_product:.2f} тыс.баррелей')"
   ]
  },
  {
   "cell_type": "markdown",
   "metadata": {},
   "source": [
    "Сохраним предсказания и целевой признак валидационной модели:"
   ]
  },
  {
   "cell_type": "code",
   "execution_count": 16,
   "metadata": {},
   "outputs": [],
   "source": [
    "Predictions_Geo_2 = predictions_valid\n",
    "Features_Geo_2 = features_valid_scaler\n",
    "Target_Geo_2 = target_valid"
   ]
  },
  {
   "cell_type": "markdown",
   "metadata": {},
   "source": [
    "Сведем все данные в один датафрейм для наглядности:"
   ]
  },
  {
   "cell_type": "code",
   "execution_count": 17,
   "metadata": {},
   "outputs": [
    {
     "name": "stdout",
     "output_type": "stream",
     "text": [
      "Размеры обучающей выборки (75000, 3) и целевого признака (75000,)\n",
      "Размер валидационной выборки (25000, 3) и целевого признака (25000,)\n",
      "\n",
      "Размеры обучающей выборки (75000, 3) и целевого признака (75000,)\n",
      "Размер валидационной выборки (25000, 3) и целевого признака (25000,)\n",
      "\n",
      "Размеры обучающей выборки (75000, 3) и целевого признака (75000,)\n",
      "Размер валидационной выборки (25000, 3) и целевого признака (25000,)\n",
      "\n"
     ]
    },
    {
     "data": {
      "text/html": [
       "<div>\n",
       "<style scoped>\n",
       "    .dataframe tbody tr th:only-of-type {\n",
       "        vertical-align: middle;\n",
       "    }\n",
       "\n",
       "    .dataframe tbody tr th {\n",
       "        vertical-align: top;\n",
       "    }\n",
       "\n",
       "    .dataframe thead th {\n",
       "        text-align: right;\n",
       "    }\n",
       "</style>\n",
       "<table border=\"1\" class=\"dataframe\">\n",
       "  <thead>\n",
       "    <tr style=\"text-align: right;\">\n",
       "      <th></th>\n",
       "      <th>Регион</th>\n",
       "      <th>RMSE</th>\n",
       "      <th>R2</th>\n",
       "      <th>MAE</th>\n",
       "      <th>Среднее предсказанное</th>\n",
       "      <th>Среднее фактическое</th>\n",
       "      <th>Отклонение %</th>\n",
       "    </tr>\n",
       "  </thead>\n",
       "  <tbody>\n",
       "    <tr>\n",
       "      <th>0</th>\n",
       "      <td>0</td>\n",
       "      <td>37.579</td>\n",
       "      <td>0.280</td>\n",
       "      <td>30.920</td>\n",
       "      <td>92.593</td>\n",
       "      <td>92.500</td>\n",
       "      <td>0.100</td>\n",
       "    </tr>\n",
       "    <tr>\n",
       "      <th>1</th>\n",
       "      <td>1</td>\n",
       "      <td>0.893</td>\n",
       "      <td>1.000</td>\n",
       "      <td>0.719</td>\n",
       "      <td>68.729</td>\n",
       "      <td>68.825</td>\n",
       "      <td>-0.140</td>\n",
       "    </tr>\n",
       "    <tr>\n",
       "      <th>2</th>\n",
       "      <td>2</td>\n",
       "      <td>40.030</td>\n",
       "      <td>0.205</td>\n",
       "      <td>32.793</td>\n",
       "      <td>94.965</td>\n",
       "      <td>95.000</td>\n",
       "      <td>-0.037</td>\n",
       "    </tr>\n",
       "  </tbody>\n",
       "</table>\n",
       "</div>"
      ],
      "text/plain": [
       "   Регион   RMSE    R2    MAE  Среднее предсказанное  Среднее фактическое  \\\n",
       "0       0 37.579 0.280 30.920                 92.593               92.500   \n",
       "1       1  0.893 1.000  0.719                 68.729               68.825   \n",
       "2       2 40.030 0.205 32.793                 94.965               95.000   \n",
       "\n",
       "   Отклонение %  \n",
       "0         0.100  \n",
       "1        -0.140  \n",
       "2        -0.037  "
      ]
     },
     "metadata": {},
     "output_type": "display_data"
    }
   ],
   "source": [
    "region = [geo_0, geo_1, geo_2]\n",
    "region_numer = []\n",
    "rmse_region = []\n",
    "r_2_region = []\n",
    "mean_predict_region = []\n",
    "mean_product_region = []\n",
    "deviation = []\n",
    "index = 0\n",
    "mae_region = []\n",
    "\n",
    "for value in region:\n",
    "    rmse, mean_predict, predictions_valid, features_valid_scaler, mean_product, r_2, mae, target_valid = modeling(value)\n",
    "    region_numer.append(index)\n",
    "    index +=1\n",
    "    rmse_region.append(rmse)\n",
    "    r_2_region.append(r_2)\n",
    "    mae_region.append(mae)\n",
    "    mean_predict_region.append(mean_predict)\n",
    "    mean_product_region.append(mean_product)\n",
    "    deviation.append(mean_predict/mean_product*100-100)\n",
    "    \n",
    "data_region = pd.DataFrame({'Регион': region_numer,\n",
    "                            'RMSE': rmse_region,\n",
    "                            'R2': r_2_region,\n",
    "                            'MAE': mae_region,\n",
    "                            'Среднее предсказанное': mean_predict_region,\n",
    "                            'Среднее фактическое': mean_product_region, 'Отклонение %': deviation})\n",
    "display(data_region)"
   ]
  },
  {
   "cell_type": "markdown",
   "metadata": {},
   "source": [
    "### Вывод:"
   ]
  },
  {
   "cell_type": "markdown",
   "metadata": {},
   "source": [
    "Модель для Региона \"geo_0\"\n",
    "* Среднее предсказанного сырья незначительно отличается от среднего фактического количества (92,59 / 92,50), что является хорошим результатом\n",
    "* Корень средней квадратичной ошибки 37,58. Так как он расчитывается в натуральном выражении, то составляет почти 35% от среднего предсказанного количества одной скважины. \n",
    "* Коэффициент детерминации (коэфициент количества совподений в прогнозах) должен стремиться к 1, но в нашем случае он равен 0,28. Значит модель будет давать польшое количество ошибок на незнакомых данных.\n",
    "* Метрика MAE среднее абсолютное отклонение так же как и RMSE чем ближе к нулю тем лучше. Наша модель показала результат 30,92."
   ]
  },
  {
   "cell_type": "markdown",
   "metadata": {},
   "source": [
    "Модель для Региона \"geo_1\"\n",
    "\n",
    "* Среднее предсказанного сырья незначительно отличается от среднего фактического количества (68,73 / 68,83), что является хорошим результатом\n",
    "* Корень средней квадратичной ошибки 0.89, очень хороший результат.\n",
    "* Коэффициент детерминации (коэфициент количества совподений в прогнозах) стремится к 1.\n",
    "* Метрика MAE среднее абсолютное отклонение 0.72, говорит о хорошем качестве предсказаний."
   ]
  },
  {
   "cell_type": "markdown",
   "metadata": {},
   "source": [
    "Модель для Региона \"geo_2\"\n",
    "* Среднее количество предсказанного сырья незначительно отличается от среднего фактического количества (94.97 / 95.00), что является хорошим результатом\n",
    "* Корень средней квадратичной ошибки 40.03, а значит ошибки могут составлять до 50% от среднего предсказанного количества.\n",
    "* Коэффициент детерминации (коэфициент количества совподений в прогнозах) 0.21, количество ошибок довольно много.\n",
    "* Метрика MAE среднее абсолютное отклонение 32.79, а должна стремиться к 0."
   ]
  },
  {
   "cell_type": "markdown",
   "metadata": {},
   "source": [
    "**Наилучший результат обучаемости модель показала на выборке региона \"geo_1\".**"
   ]
  },
  {
   "cell_type": "markdown",
   "metadata": {},
   "source": [
    "## Подготовка к расчёту прибыли"
   ]
  },
  {
   "cell_type": "markdown",
   "metadata": {},
   "source": [
    "**Вводные данные**\n",
    "- Бюджет на разработку скважин в регионе — 10 млрд рублей.\n",
    "- Количество скважин в разработке - 200.\n",
    "- Бюджет на одну скважину - 50 млн.руб\n",
    "- Цена одного барреля - 450 рублей дохода. \n",
    "- Доход с каждой единицы продукта составляет 450 тыс. рублей, поскольку объём указан в тысячах баррелей.\n",
    "- Точка безубыточности скважены - 112 тыс.баррелей\n"
   ]
  },
  {
   "cell_type": "markdown",
   "metadata": {},
   "source": [
    "Введем необходимые переменные:"
   ]
  },
  {
   "cell_type": "code",
   "execution_count": 18,
   "metadata": {},
   "outputs": [],
   "source": [
    "price_barrel = 450 #цена за баррель\n",
    "budget_thousand = 10000000 # бюджет на бурение (тыс.руб)"
   ]
  },
  {
   "cell_type": "markdown",
   "metadata": {},
   "source": [
    "Создадим датафпеймы с необходимыми расчетами:\n",
    "- предсказанное количество баррель\n",
    "- реально количество баррель\n",
    "- доход от скважины по предсказанным данным\n",
    "- доход от скваживы по реальным данным"
   ]
  },
  {
   "cell_type": "code",
   "execution_count": 19,
   "metadata": {},
   "outputs": [
    {
     "data": {
      "text/html": [
       "<div>\n",
       "<style scoped>\n",
       "    .dataframe tbody tr th:only-of-type {\n",
       "        vertical-align: middle;\n",
       "    }\n",
       "\n",
       "    .dataframe tbody tr th {\n",
       "        vertical-align: top;\n",
       "    }\n",
       "\n",
       "    .dataframe thead th {\n",
       "        text-align: right;\n",
       "    }\n",
       "</style>\n",
       "<table border=\"1\" class=\"dataframe\">\n",
       "  <thead>\n",
       "    <tr style=\"text-align: right;\">\n",
       "      <th></th>\n",
       "      <th>predict</th>\n",
       "      <th>product</th>\n",
       "      <th>yield_thousand</th>\n",
       "      <th>yield_thousand_predict</th>\n",
       "    </tr>\n",
       "  </thead>\n",
       "  <tbody>\n",
       "    <tr>\n",
       "      <th>71751</th>\n",
       "      <td>95.895</td>\n",
       "      <td>10.039</td>\n",
       "      <td>4,517.390</td>\n",
       "      <td>43,152.728</td>\n",
       "    </tr>\n",
       "    <tr>\n",
       "      <th>80493</th>\n",
       "      <td>77.573</td>\n",
       "      <td>114.551</td>\n",
       "      <td>51,548.170</td>\n",
       "      <td>34,907.662</td>\n",
       "    </tr>\n",
       "    <tr>\n",
       "      <th>2655</th>\n",
       "      <td>77.893</td>\n",
       "      <td>132.604</td>\n",
       "      <td>59,671.636</td>\n",
       "      <td>35,051.688</td>\n",
       "    </tr>\n",
       "    <tr>\n",
       "      <th>53233</th>\n",
       "      <td>90.175</td>\n",
       "      <td>169.072</td>\n",
       "      <td>76,082.456</td>\n",
       "      <td>40,578.810</td>\n",
       "    </tr>\n",
       "    <tr>\n",
       "      <th>91141</th>\n",
       "      <td>70.510</td>\n",
       "      <td>122.325</td>\n",
       "      <td>55,046.331</td>\n",
       "      <td>31,729.540</td>\n",
       "    </tr>\n",
       "  </tbody>\n",
       "</table>\n",
       "</div>"
      ],
      "text/plain": [
       "       predict  product  yield_thousand  yield_thousand_predict\n",
       "71751   95.895   10.039       4,517.390              43,152.728\n",
       "80493   77.573  114.551      51,548.170              34,907.662\n",
       "2655    77.893  132.604      59,671.636              35,051.688\n",
       "53233   90.175  169.072      76,082.456              40,578.810\n",
       "91141   70.510  122.325      55,046.331              31,729.540"
      ]
     },
     "metadata": {},
     "output_type": "display_data"
    },
    {
     "data": {
      "text/plain": [
       "(25000, 4)"
      ]
     },
     "metadata": {},
     "output_type": "display_data"
    },
    {
     "data": {
      "text/html": [
       "<div>\n",
       "<style scoped>\n",
       "    .dataframe tbody tr th:only-of-type {\n",
       "        vertical-align: middle;\n",
       "    }\n",
       "\n",
       "    .dataframe tbody tr th {\n",
       "        vertical-align: top;\n",
       "    }\n",
       "\n",
       "    .dataframe thead th {\n",
       "        text-align: right;\n",
       "    }\n",
       "</style>\n",
       "<table border=\"1\" class=\"dataframe\">\n",
       "  <thead>\n",
       "    <tr style=\"text-align: right;\">\n",
       "      <th></th>\n",
       "      <th>predict</th>\n",
       "      <th>product</th>\n",
       "      <th>yield_thousand</th>\n",
       "      <th>yield_thousand_predict</th>\n",
       "    </tr>\n",
       "  </thead>\n",
       "  <tbody>\n",
       "    <tr>\n",
       "      <th>71751</th>\n",
       "      <td>82.663</td>\n",
       "      <td>80.860</td>\n",
       "      <td>36,386.902</td>\n",
       "      <td>37,198.491</td>\n",
       "    </tr>\n",
       "    <tr>\n",
       "      <th>80493</th>\n",
       "      <td>54.432</td>\n",
       "      <td>53.907</td>\n",
       "      <td>24,257.935</td>\n",
       "      <td>24,494.304</td>\n",
       "    </tr>\n",
       "    <tr>\n",
       "      <th>2655</th>\n",
       "      <td>29.749</td>\n",
       "      <td>30.132</td>\n",
       "      <td>13,559.564</td>\n",
       "      <td>13,386.942</td>\n",
       "    </tr>\n",
       "    <tr>\n",
       "      <th>53233</th>\n",
       "      <td>53.552</td>\n",
       "      <td>53.907</td>\n",
       "      <td>24,257.935</td>\n",
       "      <td>24,098.460</td>\n",
       "    </tr>\n",
       "    <tr>\n",
       "      <th>91141</th>\n",
       "      <td>1.244</td>\n",
       "      <td>0.000</td>\n",
       "      <td>0.000</td>\n",
       "      <td>559.735</td>\n",
       "    </tr>\n",
       "  </tbody>\n",
       "</table>\n",
       "</div>"
      ],
      "text/plain": [
       "       predict  product  yield_thousand  yield_thousand_predict\n",
       "71751   82.663   80.860      36,386.902              37,198.491\n",
       "80493   54.432   53.907      24,257.935              24,494.304\n",
       "2655    29.749   30.132      13,559.564              13,386.942\n",
       "53233   53.552   53.907      24,257.935              24,098.460\n",
       "91141    1.244    0.000           0.000                 559.735"
      ]
     },
     "metadata": {},
     "output_type": "display_data"
    },
    {
     "data": {
      "text/plain": [
       "(25000, 4)"
      ]
     },
     "metadata": {},
     "output_type": "display_data"
    },
    {
     "data": {
      "text/html": [
       "<div>\n",
       "<style scoped>\n",
       "    .dataframe tbody tr th:only-of-type {\n",
       "        vertical-align: middle;\n",
       "    }\n",
       "\n",
       "    .dataframe tbody tr th {\n",
       "        vertical-align: top;\n",
       "    }\n",
       "\n",
       "    .dataframe thead th {\n",
       "        text-align: right;\n",
       "    }\n",
       "</style>\n",
       "<table border=\"1\" class=\"dataframe\">\n",
       "  <thead>\n",
       "    <tr style=\"text-align: right;\">\n",
       "      <th></th>\n",
       "      <th>predict</th>\n",
       "      <th>product</th>\n",
       "      <th>yield_thousand</th>\n",
       "      <th>yield_thousand_predict</th>\n",
       "    </tr>\n",
       "  </thead>\n",
       "  <tbody>\n",
       "    <tr>\n",
       "      <th>71751</th>\n",
       "      <td>93.600</td>\n",
       "      <td>61.212</td>\n",
       "      <td>27,545.569</td>\n",
       "      <td>42,119.835</td>\n",
       "    </tr>\n",
       "    <tr>\n",
       "      <th>80493</th>\n",
       "      <td>75.105</td>\n",
       "      <td>41.850</td>\n",
       "      <td>18,832.553</td>\n",
       "      <td>33,797.321</td>\n",
       "    </tr>\n",
       "    <tr>\n",
       "      <th>2655</th>\n",
       "      <td>90.067</td>\n",
       "      <td>57.777</td>\n",
       "      <td>25,999.462</td>\n",
       "      <td>40,530.064</td>\n",
       "    </tr>\n",
       "    <tr>\n",
       "      <th>53233</th>\n",
       "      <td>105.162</td>\n",
       "      <td>100.054</td>\n",
       "      <td>45,024.192</td>\n",
       "      <td>47,323.069</td>\n",
       "    </tr>\n",
       "    <tr>\n",
       "      <th>91141</th>\n",
       "      <td>115.303</td>\n",
       "      <td>109.897</td>\n",
       "      <td>49,453.705</td>\n",
       "      <td>51,886.490</td>\n",
       "    </tr>\n",
       "  </tbody>\n",
       "</table>\n",
       "</div>"
      ],
      "text/plain": [
       "       predict  product  yield_thousand  yield_thousand_predict\n",
       "71751   93.600   61.212      27,545.569              42,119.835\n",
       "80493   75.105   41.850      18,832.553              33,797.321\n",
       "2655    90.067   57.777      25,999.462              40,530.064\n",
       "53233  105.162  100.054      45,024.192              47,323.069\n",
       "91141  115.303  109.897      49,453.705              51,886.490"
      ]
     },
     "metadata": {},
     "output_type": "display_data"
    },
    {
     "data": {
      "text/plain": [
       "(25000, 4)"
      ]
     },
     "metadata": {},
     "output_type": "display_data"
    }
   ],
   "source": [
    "# создаем датафрейм\n",
    "data_geo_0 = pd.DataFrame({'predict': Predictions_Geo_0, 'product': Target_Geo_0})\n",
    "# добавляем расчет выручки по реальным данным о количестве (тыс.руб)\n",
    "data_geo_0['yield_thousand'] = data_geo_0['product'] * price_barrel\n",
    "# добавляем расчет предполагаемой выручки по предсказанным данным данным о количестве (тыс.руб)\n",
    "data_geo_0['yield_thousand_predict'] = data_geo_0['predict'] * price_barrel\n",
    "\n",
    "# аналогично для остальных регионов\n",
    "data_geo_1 = pd.DataFrame({'predict': Predictions_Geo_1, 'product': Target_Geo_1})\n",
    "data_geo_1['yield_thousand'] = data_geo_1['product'] * price_barrel\n",
    "data_geo_1['yield_thousand_predict'] = data_geo_1['predict'] * price_barrel\n",
    "\n",
    "data_geo_2 = pd.DataFrame({'predict': Predictions_Geo_2, 'product': Target_Geo_2})\n",
    "data_geo_2['yield_thousand'] = data_geo_2['product'] * price_barrel\n",
    "data_geo_2['yield_thousand_predict'] = data_geo_2['predict'] * price_barrel\n",
    "\n",
    "# проверка\n",
    "display(data_geo_0.head(), data_geo_0.shape)\n",
    "display(data_geo_1.head(), data_geo_1.shape)\n",
    "display(data_geo_2.head(), data_geo_2.shape)"
   ]
  },
  {
   "cell_type": "markdown",
   "metadata": {},
   "source": [
    "**Точка безубыточности скажины:**\n",
    "\n",
    "Для расчета количества сырья в скважине, необходимого для безубыточной разработке необходимо:\n",
    "* найти бюджет на одну скважину (по техническому заданию - 200)\n",
    "* найти частное бюджета одной скважины и цены за один баррель"
   ]
  },
  {
   "cell_type": "code",
   "execution_count": 24,
   "metadata": {
    "scrolled": true
   },
   "outputs": [
    {
     "name": "stdout",
     "output_type": "stream",
     "text": [
      "Точка безубыточности скажины: 111.11\n"
     ]
    }
   ],
   "source": [
    "print('Точка безубыточности скажины: {:.2f}'.format(budget_thousand / 200 /price_barrel))"
   ]
  },
  {
   "cell_type": "code",
   "execution_count": 29,
   "metadata": {
    "scrolled": true
   },
   "outputs": [
    {
     "name": "stdout",
     "output_type": "stream",
     "text": [
      "Среднее количество сырья в скважине региона geo_0: 92.08\n",
      "Среднее количество сырья в скважине региона geo_1: 68.72\n",
      "Среднее количество сырья в скважине региона geo_2: 94.88\n"
     ]
    }
   ],
   "source": [
    "print('Среднее количество сырья в скважине региона geo_0: {:.2f}'.format(data_geo_0['product'].mean()))\n",
    "print('Среднее количество сырья в скважине региона geo_1: {:.2f}'.format(data_geo_1['product'].mean()))\n",
    "print('Среднее количество сырья в скважине региона geo_2: {:.2f}'.format(data_geo_2['product'].mean()))"
   ]
  },
  {
   "cell_type": "code",
   "execution_count": 31,
   "metadata": {},
   "outputs": [
    {
     "name": "stdout",
     "output_type": "stream",
     "text": [
      "Медиана количества сырья в скважине региона geo_0: 90.90\n",
      "Медиана количества сырья в скважине региона geo_1: 57.09\n",
      "Медиана количества сырья в скважине региона geo_2: 94.98\n"
     ]
    }
   ],
   "source": [
    "print('Медиана количества сырья в скважине региона geo_0: {:.2f}'.format(data_geo_0['product'].median()))\n",
    "print('Медиана количества сырья в скважине региона geo_1: {:.2f}'.format(data_geo_1['product'].median()))\n",
    "print('Медиана количества сырья в скважине региона geo_2: {:.2f}'.format(data_geo_2['product'].median()))"
   ]
  },
  {
   "cell_type": "markdown",
   "metadata": {},
   "source": [
    "На основании проведенных расчетов установлено, что необходимое количество баррелей для прохождения точки безубыточности нет ни в одном регионе."
   ]
  },
  {
   "cell_type": "markdown",
   "metadata": {},
   "source": [
    "**Данные готовы к работе**"
   ]
  },
  {
   "cell_type": "markdown",
   "metadata": {},
   "source": [
    "## Расчёт прибыли и рисков "
   ]
  },
  {
   "cell_type": "markdown",
   "metadata": {},
   "source": [
    "Проанализируем возможную прибыль и риски техникой Bootstrap:"
   ]
  },
  {
   "cell_type": "markdown",
   "metadata": {},
   "source": [
    "Пишем функцию о расчете выручки для 200 лучших из рандомно взятых 500 скважин."
   ]
  },
  {
   "cell_type": "code",
   "execution_count": 78,
   "metadata": {},
   "outputs": [],
   "source": [
    "def calculations(geo, budget_thousand):\n",
    "    state = np.random.RandomState(12345)\n",
    "    values = [] # переменная выручки\n",
    "    for i in range(1000): \n",
    "        data = geo.sample(n=500, random_state=state, replace=True) # создаем 500 выборок\n",
    "        predict = data.sort_values(by='predict', ascending=False)[:200] # выбираем ТОП-200 скважин по предсказанным данным \n",
    "        rev = (predict['yield_thousand'].sum() - budget_thousand) # общая выручка по реальным данным\n",
    "        values.append(rev / 1000) # создаем список возможной выручки\n",
    "    values = pd.Series(values)\n",
    "    lower = values.quantile(0.025) # 2,5%-квантиль (доверительный интерсвал 95%)\n",
    "    hight = values.quantile(0.975) # 97,5%-квантиль\n",
    "    loss = values[values < 0] # сортируем убыточные скважины\n",
    "    mean = values.mean() # средняя возможная прибыль \n",
    "    print(f'Средняя прибыль: {mean:.2f} млн.руб.')\n",
    "    print(f'2,5%-квантиль: {lower:.2f} млн.руб.')\n",
    "    print(f'97,5%-квантиль: {hight:.2f} млн.руб.')\n",
    "    print('Количество убыточных экспериментов:', loss.count())\n",
    "    print('Вероятность убытков: {:.2%}'.format(loss.count()/len(values)))\n",
    "    print('Максимальный убыток: {:.2f}'.format(loss.min()))\n",
    "    print('Максимальная прибыль: {:.2f}'.format(values.max()))\n",
    "    print('Количество экспериментов:', len(values))"
   ]
  },
  {
   "cell_type": "code",
   "execution_count": 79,
   "metadata": {},
   "outputs": [
    {
     "name": "stdout",
     "output_type": "stream",
     "text": [
      " Данные по региону № 0\n",
      "Средняя прибыль: 396.16 млн.руб.\n",
      "2,5%-квантиль: -111.22 млн.руб.\n",
      "97,5%-квантиль: 909.77 млн.руб.\n",
      "Количество убыточных экспериментов: 69\n",
      "Вероятность убытков: 6.90%\n",
      "Максимальный убыток: -369.57\n",
      "Максимальная прибыль: 1349.27\n",
      "Количество экспериментов: 1000\n",
      "\n",
      " Данные по региону № 1\n",
      "Средняя прибыль: 456.05 млн.руб.\n",
      "2,5%-квантиль: 33.82 млн.руб.\n",
      "97,5%-квантиль: 852.29 млн.руб.\n",
      "Количество убыточных экспериментов: 15\n",
      "Вероятность убытков: 1.50%\n",
      "Максимальный убыток: -192.27\n",
      "Максимальная прибыль: 1154.05\n",
      "Количество экспериментов: 1000\n",
      "\n",
      " Данные по региону № 2\n",
      "Средняя прибыль: 404.40 млн.руб.\n",
      "2,5%-квантиль: -163.35 млн.руб.\n",
      "97,5%-квантиль: 950.36 млн.руб.\n",
      "Количество убыточных экспериментов: 76\n",
      "Вероятность убытков: 7.60%\n",
      "Максимальный убыток: -417.86\n",
      "Максимальная прибыль: 1330.59\n",
      "Количество экспериментов: 1000\n",
      "\n"
     ]
    }
   ],
   "source": [
    "geo = [data_geo_0, data_geo_1, data_geo_2]\n",
    "x = 0\n",
    "for value in geo:\n",
    "    print(f' Данные по региону № {x}')\n",
    "    calculations(value, budget_thousand)\n",
    "    x += 1\n",
    "    print()"
   ]
  },
  {
   "cell_type": "markdown",
   "metadata": {},
   "source": [
    "**Вывод:**"
   ]
  },
  {
   "cell_type": "markdown",
   "metadata": {},
   "source": [
    "При расчете прибыли и убытко на выборке региона *data_geo_2* установлено:\n",
    "- вероятность убытков на 95% доверительном интервале составляет 7,6%\n",
    "- Из 1000 проведенных экспериментов 76 оказались неудачными\n",
    "- Данный регион показывает самый большой уровень убытков (417 млн), который равен средней возможной прибыли (404 млн)\n",
    "- Медиана количества сырья в одной скважине региона 94.98 баррелей. Это наибольшее количество из всех регионов\n",
    "\n",
    "*Разработка скважи в данном регионе является крайне рискованным мероприятием, однако и возможно, максимально прибыльным.*"
   ]
  },
  {
   "cell_type": "markdown",
   "metadata": {
    "scrolled": true
   },
   "source": [
    "При расчете прибыли и убытко на выборке региона *data_geo_0* установлено:\n",
    "- вероятность убытков на 95% доверительном интервале составляет 6,9%\n",
    "- Из 1000 проведенных экспериментов 69 оказались неудачными\n",
    "- Однако данный регион показывает самую большую возможную прибыль (1349 млн.) при самой маленькой средней (396,16 млн.). "
   ]
  },
  {
   "cell_type": "markdown",
   "metadata": {},
   "source": [
    "При расчете прибыли и убытко на выборке региона *data_geo_2* установлено:\n",
    "- вероятность убытков на 95% доверительном интервале составляет 1,50%, **что соответствует техническому заданию**\n",
    "- Из 1000 проведенных экспериментов 15 оказались неудачными\n",
    "- Границы доверительного интервала начинаются с уровня 33,8 млн, в то время как в других регионах они имеют отрицательные значения\n",
    "- Данный регион показывает самый большой уровень средней прибыли (456 млн) и самый маленький уровень максимальной прибыли (1154 млн) \n",
    "- Медиана количества сырья в одной скважине региона: 57.09 бареллей. Это минимальный показатель из всех регионов.\n",
    "\n",
    "*Разработка скважин в данном регионе не будет убыточной, но и сверхприбыли не принесет.*\n"
   ]
  },
  {
   "cell_type": "markdown",
   "metadata": {},
   "source": [
    "## Вывод:"
   ]
  },
  {
   "cell_type": "markdown",
   "metadata": {},
   "source": [
    "Вводные данные: Нам предоставлены пробы нефти в трёх регионах: в каждом 10 000 месторождений, где измерили качество нефти и объём её запасов.\n",
    "\n",
    "Задачи:\n",
    "- Построить модель машинного обучения, которая поможет определить регион, где добыча принесёт наибольшую прибыль. \n",
    "- Проанализировать возможную прибыль и риски техникой Bootstrap."
   ]
  },
  {
   "cell_type": "markdown",
   "metadata": {},
   "source": [
    "1. Подготовка данных:\n",
    "* Датафреймы содержат по 100000 наблюдений и 5 признаков\n",
    "* В файлах имеются признаки f0 f1 f2 и целевой признак, а так же сведения об id скважины\n",
    "* все данные распределены нормально, средние значения соответствуют медиане, стандартное отклонение небольшое\n",
    "* корреляция признаков незначительная, мультиколлениарность отсутствует. "
   ]
  },
  {
   "cell_type": "markdown",
   "metadata": {},
   "source": [
    "2. Обучение и проверка модели:"
   ]
  },
  {
   "cell_type": "markdown",
   "metadata": {},
   "source": [
    "Модель для Региона \"geo_0\"\n",
    "* Среднее предсказанного сырья незначительно отличается от среднего фактического количества (92,59 / 92,50), что является хорошим результатом\n",
    "* Корень средней квадратичной ошибки 37,58. Так как он расчитывается в натуральном выражении, то составляет почти 35% от среднего предсказанного количества одной скважины. \n",
    "* Коэффициент детерминации (коэфициент количества совподений в прогнозах) должен стремиться к 1, но в нашем случае он равен 0,28. Значит модель будет давать польшое количество ошибок на незнакомых данных.\n",
    "* Метрика MAE среднее абсолютное отклонение так же как и RMSE чем ближе к нулю тем лучше. Наша модель показала результат 30,92."
   ]
  },
  {
   "cell_type": "markdown",
   "metadata": {},
   "source": [
    "Модель для Региона \"geo_1\"\n",
    "\n",
    "* Среднее предсказанного сырья незначительно отличается от среднего фактического количества (68,73 / 68,83), что является хорошим результатом\n",
    "* Корень средней квадратичной ошибки 0.89, очень хороший результат.\n",
    "* Коэффициент детерминации (коэфициент количества совподений в прогнозах) стремится к 1.\n",
    "* Метрика MAE среднее абсолютное отклонение 0.72, говорит о хорошем качестве предсказаний."
   ]
  },
  {
   "cell_type": "markdown",
   "metadata": {},
   "source": [
    "Модель для Региона \"geo_2\"\n",
    "* Среднее количество предсказанного сырья незначительно отличается от среднего фактического количества (94.97 / 95.00), что является хорошим результатом\n",
    "* Корень средней квадратичной ошибки 40.03, а значит ошибки могут составлять до 50% от среднего предсказанного количества.\n",
    "* Коэффициент детерминации (коэфициент количества совподений в прогнозах) 0.21, количество ошибок довольно много.\n",
    "* Метрика MAE среднее абсолютное отклонение 32.79, а должна стремиться к 0."
   ]
  },
  {
   "cell_type": "markdown",
   "metadata": {},
   "source": [
    "3. Расчет прибыли и рисков:"
   ]
  },
  {
   "cell_type": "markdown",
   "metadata": {},
   "source": [
    "При расчете прибыли и убытко на выборке региона *geo_2* установлено:\n",
    "- вероятность убытков на 95% доверительном интервале составляет 7,6%\n",
    "- Из 1000 проведенных экспериментов 76 оказались неудачными\n",
    "- Данный регион показывает самый большой уровень убытков (417 млн), который равен средней возможной прибыли (404 млн) "
   ]
  },
  {
   "cell_type": "markdown",
   "metadata": {
    "scrolled": true
   },
   "source": [
    "При расчете прибыли и убытко на выборке региона *geo_0* установлено:\n",
    "- вероятность убытков на 95% доверительном интервале составляет 6,9%\n",
    "- Из 1000 проведенных экспериментов 69 оказались неудачными\n",
    "- Однако данный регион показывает самую большую возможную прибыль (1349 млн.) при самой маленькой средней (396,16 млн.). "
   ]
  },
  {
   "cell_type": "markdown",
   "metadata": {},
   "source": [
    "При расчете прибыли и убытко на выборке региона *geo_1* установлено:\n",
    "- вероятность убытков на 95% доверительном интервале составляет 1,50%, **что соответствует техническому заданию**\n",
    "- Из 1000 проведенных экспериментов 15 оказались неудачными\n",
    "- Границы доверительного интервала начинаются с уровня 33,8 млн, в то время как в других регионах они имеют отрицательные значения\n",
    "- Данный регион показывает самый большой уровень средней прибыли (456 млн) и самый маленький уровень максимальной прибыли (1154 млн) "
   ]
  },
  {
   "cell_type": "markdown",
   "metadata": {},
   "source": [
    "4. Проведенный анализ Bootstrap даёт нам явно понять, что регион **geo_1**, будет предпочтительнее, так как при разработке 200 скважин, вероятность убытков наименьшая - 1,5%."
   ]
  }
 ],
 "metadata": {
  "ExecuteTimeLog": [
   {
    "duration": 1524,
    "start_time": "2022-05-17T23:17:55.629Z"
   },
   {
    "duration": 722,
    "start_time": "2022-05-17T23:17:57.155Z"
   },
   {
    "duration": 3,
    "start_time": "2022-05-17T23:17:57.879Z"
   },
   {
    "duration": 7,
    "start_time": "2022-05-17T23:17:57.885Z"
   },
   {
    "duration": 736,
    "start_time": "2022-05-17T23:17:57.893Z"
   },
   {
    "duration": 840,
    "start_time": "2022-05-17T23:17:58.631Z"
   },
   {
    "duration": 809,
    "start_time": "2022-05-17T23:17:59.526Z"
   },
   {
    "duration": 4,
    "start_time": "2022-05-17T23:18:00.336Z"
   },
   {
    "duration": 23,
    "start_time": "2022-05-17T23:18:00.342Z"
   },
   {
    "duration": 149,
    "start_time": "2022-05-17T23:18:00.367Z"
   },
   {
    "duration": 0,
    "start_time": "2022-05-17T23:18:00.518Z"
   },
   {
    "duration": 0,
    "start_time": "2022-05-17T23:18:00.519Z"
   },
   {
    "duration": 4,
    "start_time": "2022-05-17T23:19:59.085Z"
   },
   {
    "duration": 23,
    "start_time": "2022-05-17T23:20:02.037Z"
   },
   {
    "duration": 5,
    "start_time": "2022-05-17T23:20:44.831Z"
   },
   {
    "duration": 18,
    "start_time": "2022-05-17T23:21:02.718Z"
   },
   {
    "duration": 23,
    "start_time": "2022-05-17T23:22:04.056Z"
   },
   {
    "duration": 4,
    "start_time": "2022-05-17T23:22:32.809Z"
   },
   {
    "duration": 18,
    "start_time": "2022-05-17T23:22:35.338Z"
   },
   {
    "duration": 3,
    "start_time": "2022-05-17T23:24:31.302Z"
   },
   {
    "duration": 20,
    "start_time": "2022-05-17T23:24:34.005Z"
   },
   {
    "duration": 4,
    "start_time": "2022-05-17T23:25:47.183Z"
   },
   {
    "duration": 12,
    "start_time": "2022-05-17T23:26:24.578Z"
   },
   {
    "duration": 38,
    "start_time": "2022-05-17T23:26:38.225Z"
   },
   {
    "duration": 6,
    "start_time": "2022-05-17T23:28:01.325Z"
   },
   {
    "duration": 18,
    "start_time": "2022-05-17T23:29:14.230Z"
   },
   {
    "duration": 26,
    "start_time": "2022-05-17T23:30:41.588Z"
   },
   {
    "duration": 248,
    "start_time": "2022-05-17T23:32:14.085Z"
   },
   {
    "duration": 33,
    "start_time": "2022-05-17T23:33:40.991Z"
   },
   {
    "duration": 5,
    "start_time": "2022-05-17T23:33:48.591Z"
   },
   {
    "duration": 5,
    "start_time": "2022-05-17T23:34:26.944Z"
   },
   {
    "duration": 41,
    "start_time": "2022-05-17T23:34:28.200Z"
   },
   {
    "duration": 6,
    "start_time": "2022-05-17T23:42:20.856Z"
   },
   {
    "duration": 597,
    "start_time": "2022-05-17T23:42:22.680Z"
   },
   {
    "duration": 6,
    "start_time": "2022-05-17T23:43:57.339Z"
   },
   {
    "duration": 652,
    "start_time": "2022-05-17T23:43:58.467Z"
   },
   {
    "duration": 6,
    "start_time": "2022-05-17T23:45:42.766Z"
   },
   {
    "duration": 754,
    "start_time": "2022-05-17T23:45:43.710Z"
   },
   {
    "duration": 6,
    "start_time": "2022-05-17T23:47:39.754Z"
   },
   {
    "duration": 645,
    "start_time": "2022-05-17T23:47:40.314Z"
   },
   {
    "duration": 6,
    "start_time": "2022-05-17T23:47:55.338Z"
   },
   {
    "duration": 726,
    "start_time": "2022-05-17T23:47:56.003Z"
   },
   {
    "duration": 5,
    "start_time": "2022-05-17T23:49:04.132Z"
   },
   {
    "duration": 456,
    "start_time": "2022-05-17T23:49:04.908Z"
   },
   {
    "duration": 5,
    "start_time": "2022-05-17T23:49:16.693Z"
   },
   {
    "duration": 384,
    "start_time": "2022-05-17T23:49:17.493Z"
   },
   {
    "duration": 5,
    "start_time": "2022-05-17T23:51:05.057Z"
   },
   {
    "duration": 3,
    "start_time": "2022-05-17T23:51:34.993Z"
   },
   {
    "duration": 660,
    "start_time": "2022-05-17T23:51:49.914Z"
   },
   {
    "duration": 418,
    "start_time": "2022-05-17T23:52:18.315Z"
   },
   {
    "duration": 5,
    "start_time": "2022-05-17T23:55:27.169Z"
   },
   {
    "duration": 1585,
    "start_time": "2022-05-17T23:55:27.985Z"
   },
   {
    "duration": 6,
    "start_time": "2022-05-17T23:55:37.729Z"
   },
   {
    "duration": 1120,
    "start_time": "2022-05-17T23:55:38.914Z"
   },
   {
    "duration": 1159,
    "start_time": "2022-05-17T23:56:32.155Z"
   },
   {
    "duration": 6,
    "start_time": "2022-05-17T23:57:39.005Z"
   },
   {
    "duration": 630,
    "start_time": "2022-05-17T23:57:39.860Z"
   },
   {
    "duration": 5,
    "start_time": "2022-05-17T23:58:07.214Z"
   },
   {
    "duration": 1321,
    "start_time": "2022-05-17T23:58:07.734Z"
   },
   {
    "duration": 1118,
    "start_time": "2022-05-17T23:58:41.535Z"
   },
   {
    "duration": 1228,
    "start_time": "2022-05-17T23:58:53.023Z"
   },
   {
    "duration": 6,
    "start_time": "2022-05-17T23:59:55.825Z"
   },
   {
    "duration": 1184,
    "start_time": "2022-05-17T23:59:57.257Z"
   },
   {
    "duration": 129,
    "start_time": "2022-05-18T00:00:09.402Z"
   },
   {
    "duration": 1268,
    "start_time": "2022-05-18T00:00:10.218Z"
   },
   {
    "duration": 6,
    "start_time": "2022-05-18T00:01:02.098Z"
   },
   {
    "duration": 407,
    "start_time": "2022-05-18T00:01:02.803Z"
   },
   {
    "duration": 413,
    "start_time": "2022-05-18T00:01:06.691Z"
   },
   {
    "duration": 464,
    "start_time": "2022-05-18T00:01:09.540Z"
   },
   {
    "duration": 6,
    "start_time": "2022-05-18T00:09:24.836Z"
   },
   {
    "duration": 92,
    "start_time": "2022-05-18T00:09:25.436Z"
   },
   {
    "duration": 38,
    "start_time": "2022-05-18T00:10:33.502Z"
   },
   {
    "duration": 5,
    "start_time": "2022-05-18T00:10:42.711Z"
   },
   {
    "duration": 31,
    "start_time": "2022-05-18T00:10:47.612Z"
   },
   {
    "duration": 41,
    "start_time": "2022-05-18T00:14:04.868Z"
   },
   {
    "duration": 5,
    "start_time": "2022-05-18T00:14:52.255Z"
   },
   {
    "duration": 90,
    "start_time": "2022-05-18T00:14:53.142Z"
   },
   {
    "duration": 5,
    "start_time": "2022-05-18T00:20:23.976Z"
   },
   {
    "duration": 32,
    "start_time": "2022-05-18T00:20:24.433Z"
   },
   {
    "duration": 5,
    "start_time": "2022-05-18T00:22:35.614Z"
   },
   {
    "duration": 40,
    "start_time": "2022-05-18T00:22:36.093Z"
   },
   {
    "duration": 33,
    "start_time": "2022-05-18T00:23:01.286Z"
   },
   {
    "duration": 5,
    "start_time": "2022-05-18T00:23:56.120Z"
   },
   {
    "duration": 31,
    "start_time": "2022-05-18T00:24:00.759Z"
   },
   {
    "duration": 3,
    "start_time": "2022-05-18T00:24:07.784Z"
   },
   {
    "duration": 6,
    "start_time": "2022-05-18T00:33:13.970Z"
   },
   {
    "duration": 91,
    "start_time": "2022-05-18T00:33:14.545Z"
   },
   {
    "duration": 6,
    "start_time": "2022-05-18T00:33:32.659Z"
   },
   {
    "duration": 46,
    "start_time": "2022-05-18T00:33:33.186Z"
   },
   {
    "duration": 39,
    "start_time": "2022-05-18T00:33:48.002Z"
   },
   {
    "duration": 38,
    "start_time": "2022-05-18T00:39:13.493Z"
   },
   {
    "duration": 2,
    "start_time": "2022-05-18T00:39:15.853Z"
   },
   {
    "duration": 28,
    "start_time": "2022-05-18T00:39:41.654Z"
   },
   {
    "duration": 2,
    "start_time": "2022-05-18T00:40:00.142Z"
   },
   {
    "duration": 32,
    "start_time": "2022-05-18T00:40:28.071Z"
   },
   {
    "duration": 2,
    "start_time": "2022-05-18T00:40:28.888Z"
   },
   {
    "duration": 5,
    "start_time": "2022-05-18T00:43:29.085Z"
   },
   {
    "duration": 138,
    "start_time": "2022-05-18T00:44:00.191Z"
   },
   {
    "duration": 94,
    "start_time": "2022-05-18T00:44:24.039Z"
   },
   {
    "duration": 118,
    "start_time": "2022-05-18T00:45:48.411Z"
   },
   {
    "duration": 207,
    "start_time": "2022-05-18T00:46:58.621Z"
   },
   {
    "duration": 5,
    "start_time": "2022-05-18T00:47:38.670Z"
   },
   {
    "duration": 79,
    "start_time": "2022-05-18T00:47:39.749Z"
   },
   {
    "duration": 2,
    "start_time": "2022-05-18T00:47:42.429Z"
   },
   {
    "duration": 35,
    "start_time": "2022-05-18T00:47:44.510Z"
   },
   {
    "duration": 2,
    "start_time": "2022-05-18T00:47:46.653Z"
   },
   {
    "duration": 28,
    "start_time": "2022-05-18T00:47:47.886Z"
   },
   {
    "duration": 3,
    "start_time": "2022-05-18T00:47:48.557Z"
   },
   {
    "duration": 71,
    "start_time": "2022-05-18T00:47:52.758Z"
   },
   {
    "duration": 426,
    "start_time": "2022-05-18T00:50:08.314Z"
   },
   {
    "duration": 4,
    "start_time": "2022-05-18T00:52:16.943Z"
   },
   {
    "duration": 4,
    "start_time": "2022-05-18T00:54:59.406Z"
   },
   {
    "duration": 319,
    "start_time": "2022-05-18T00:54:59.413Z"
   },
   {
    "duration": 3,
    "start_time": "2022-05-18T00:54:59.734Z"
   },
   {
    "duration": 5,
    "start_time": "2022-05-18T00:54:59.740Z"
   },
   {
    "duration": 452,
    "start_time": "2022-05-18T00:54:59.747Z"
   },
   {
    "duration": 408,
    "start_time": "2022-05-18T00:55:00.200Z"
   },
   {
    "duration": 453,
    "start_time": "2022-05-18T00:55:00.610Z"
   },
   {
    "duration": 6,
    "start_time": "2022-05-18T00:55:01.064Z"
   },
   {
    "duration": 80,
    "start_time": "2022-05-18T00:55:01.072Z"
   },
   {
    "duration": 3,
    "start_time": "2022-05-18T00:55:01.230Z"
   },
   {
    "duration": 108,
    "start_time": "2022-05-18T00:55:01.235Z"
   },
   {
    "duration": 0,
    "start_time": "2022-05-18T00:55:01.345Z"
   },
   {
    "duration": 0,
    "start_time": "2022-05-18T00:55:01.346Z"
   },
   {
    "duration": 0,
    "start_time": "2022-05-18T00:55:01.347Z"
   },
   {
    "duration": 0,
    "start_time": "2022-05-18T00:55:01.348Z"
   },
   {
    "duration": 0,
    "start_time": "2022-05-18T00:55:01.349Z"
   },
   {
    "duration": 0,
    "start_time": "2022-05-18T00:55:01.350Z"
   },
   {
    "duration": 15,
    "start_time": "2022-05-18T01:06:33.974Z"
   },
   {
    "duration": 13,
    "start_time": "2022-05-18T01:06:57.500Z"
   },
   {
    "duration": 4,
    "start_time": "2022-05-18T01:08:01.463Z"
   },
   {
    "duration": 13,
    "start_time": "2022-05-18T01:08:07.414Z"
   },
   {
    "duration": 4,
    "start_time": "2022-05-18T01:11:01.341Z"
   },
   {
    "duration": 431,
    "start_time": "2022-05-18T01:11:01.347Z"
   },
   {
    "duration": 3,
    "start_time": "2022-05-18T01:11:01.780Z"
   },
   {
    "duration": 32,
    "start_time": "2022-05-18T01:11:01.785Z"
   },
   {
    "duration": 519,
    "start_time": "2022-05-18T01:11:01.819Z"
   },
   {
    "duration": 481,
    "start_time": "2022-05-18T01:11:02.340Z"
   },
   {
    "duration": 568,
    "start_time": "2022-05-18T01:11:02.822Z"
   },
   {
    "duration": 5,
    "start_time": "2022-05-18T01:11:03.392Z"
   },
   {
    "duration": 79,
    "start_time": "2022-05-18T01:11:03.399Z"
   },
   {
    "duration": 5,
    "start_time": "2022-05-18T01:11:03.530Z"
   },
   {
    "duration": 108,
    "start_time": "2022-05-18T01:11:03.537Z"
   },
   {
    "duration": 0,
    "start_time": "2022-05-18T01:11:03.647Z"
   },
   {
    "duration": 0,
    "start_time": "2022-05-18T01:11:03.648Z"
   },
   {
    "duration": 0,
    "start_time": "2022-05-18T01:11:03.649Z"
   },
   {
    "duration": 0,
    "start_time": "2022-05-18T01:11:03.650Z"
   },
   {
    "duration": 0,
    "start_time": "2022-05-18T01:11:03.652Z"
   },
   {
    "duration": 0,
    "start_time": "2022-05-18T01:11:03.654Z"
   },
   {
    "duration": 0,
    "start_time": "2022-05-18T01:11:03.655Z"
   },
   {
    "duration": 9,
    "start_time": "2022-05-18T01:11:37.804Z"
   },
   {
    "duration": 11,
    "start_time": "2022-05-18T01:12:29.013Z"
   },
   {
    "duration": 5,
    "start_time": "2022-05-18T01:15:18.843Z"
   },
   {
    "duration": 397,
    "start_time": "2022-05-18T01:15:18.851Z"
   },
   {
    "duration": 3,
    "start_time": "2022-05-18T01:15:19.250Z"
   },
   {
    "duration": 6,
    "start_time": "2022-05-18T01:15:19.259Z"
   },
   {
    "duration": 462,
    "start_time": "2022-05-18T01:15:19.267Z"
   },
   {
    "duration": 477,
    "start_time": "2022-05-18T01:15:19.731Z"
   },
   {
    "duration": 516,
    "start_time": "2022-05-18T01:15:20.218Z"
   },
   {
    "duration": 11,
    "start_time": "2022-05-18T01:15:20.737Z"
   },
   {
    "duration": 84,
    "start_time": "2022-05-18T01:15:20.749Z"
   },
   {
    "duration": 85,
    "start_time": "2022-05-18T01:15:20.843Z"
   },
   {
    "duration": 31,
    "start_time": "2022-05-18T01:15:20.930Z"
   },
   {
    "duration": 0,
    "start_time": "2022-05-18T01:15:20.963Z"
   },
   {
    "duration": 0,
    "start_time": "2022-05-18T01:15:20.964Z"
   },
   {
    "duration": 0,
    "start_time": "2022-05-18T01:15:20.966Z"
   },
   {
    "duration": 0,
    "start_time": "2022-05-18T01:15:20.967Z"
   },
   {
    "duration": 0,
    "start_time": "2022-05-18T01:15:20.969Z"
   },
   {
    "duration": 0,
    "start_time": "2022-05-18T01:15:20.970Z"
   },
   {
    "duration": 0,
    "start_time": "2022-05-18T01:15:20.972Z"
   },
   {
    "duration": 0,
    "start_time": "2022-05-18T01:15:20.974Z"
   },
   {
    "duration": 5,
    "start_time": "2022-05-18T01:16:13.800Z"
   },
   {
    "duration": 395,
    "start_time": "2022-05-18T01:16:13.808Z"
   },
   {
    "duration": 3,
    "start_time": "2022-05-18T01:16:14.205Z"
   },
   {
    "duration": 42,
    "start_time": "2022-05-18T01:16:14.210Z"
   },
   {
    "duration": 492,
    "start_time": "2022-05-18T01:16:14.254Z"
   },
   {
    "duration": 469,
    "start_time": "2022-05-18T01:16:14.748Z"
   },
   {
    "duration": 483,
    "start_time": "2022-05-18T01:16:15.219Z"
   },
   {
    "duration": 6,
    "start_time": "2022-05-18T01:16:15.703Z"
   },
   {
    "duration": 87,
    "start_time": "2022-05-18T01:16:15.712Z"
   },
   {
    "duration": 4,
    "start_time": "2022-05-18T01:16:15.828Z"
   },
   {
    "duration": 126,
    "start_time": "2022-05-18T01:16:15.834Z"
   },
   {
    "duration": 0,
    "start_time": "2022-05-18T01:16:15.962Z"
   },
   {
    "duration": 0,
    "start_time": "2022-05-18T01:16:15.963Z"
   },
   {
    "duration": 0,
    "start_time": "2022-05-18T01:16:15.964Z"
   },
   {
    "duration": 0,
    "start_time": "2022-05-18T01:16:15.965Z"
   },
   {
    "duration": 0,
    "start_time": "2022-05-18T01:16:15.966Z"
   },
   {
    "duration": 0,
    "start_time": "2022-05-18T01:16:15.967Z"
   },
   {
    "duration": 0,
    "start_time": "2022-05-18T01:16:15.968Z"
   },
   {
    "duration": 0,
    "start_time": "2022-05-18T01:16:15.969Z"
   },
   {
    "duration": 4,
    "start_time": "2022-05-18T01:17:28.859Z"
   },
   {
    "duration": 345,
    "start_time": "2022-05-18T01:17:28.866Z"
   },
   {
    "duration": 3,
    "start_time": "2022-05-18T01:17:29.213Z"
   },
   {
    "duration": 15,
    "start_time": "2022-05-18T01:17:29.218Z"
   },
   {
    "duration": 450,
    "start_time": "2022-05-18T01:17:29.235Z"
   },
   {
    "duration": 436,
    "start_time": "2022-05-18T01:17:29.687Z"
   },
   {
    "duration": 482,
    "start_time": "2022-05-18T01:17:30.124Z"
   },
   {
    "duration": 8,
    "start_time": "2022-05-18T01:17:30.609Z"
   },
   {
    "duration": 104,
    "start_time": "2022-05-18T01:17:30.629Z"
   },
   {
    "duration": 4,
    "start_time": "2022-05-18T01:17:30.735Z"
   },
   {
    "duration": 102,
    "start_time": "2022-05-18T01:17:30.743Z"
   },
   {
    "duration": 97,
    "start_time": "2022-05-18T01:17:30.848Z"
   },
   {
    "duration": 81,
    "start_time": "2022-05-18T01:17:30.947Z"
   },
   {
    "duration": 113,
    "start_time": "2022-05-18T01:17:31.031Z"
   },
   {
    "duration": 0,
    "start_time": "2022-05-18T01:17:31.146Z"
   },
   {
    "duration": 0,
    "start_time": "2022-05-18T01:17:31.147Z"
   },
   {
    "duration": 0,
    "start_time": "2022-05-18T01:17:31.148Z"
   },
   {
    "duration": 0,
    "start_time": "2022-05-18T01:17:31.150Z"
   },
   {
    "duration": 0,
    "start_time": "2022-05-18T01:17:31.151Z"
   },
   {
    "duration": 35,
    "start_time": "2022-05-18T01:19:08.604Z"
   },
   {
    "duration": 3,
    "start_time": "2022-05-18T01:19:09.451Z"
   },
   {
    "duration": 11,
    "start_time": "2022-05-18T01:19:10.314Z"
   },
   {
    "duration": 38,
    "start_time": "2022-05-18T01:20:14.108Z"
   },
   {
    "duration": 3,
    "start_time": "2022-05-18T01:20:16.925Z"
   },
   {
    "duration": 100,
    "start_time": "2022-05-18T01:22:30.362Z"
   },
   {
    "duration": 52,
    "start_time": "2022-05-18T01:22:58.020Z"
   },
   {
    "duration": 7,
    "start_time": "2022-05-18T01:23:33.712Z"
   },
   {
    "duration": 81,
    "start_time": "2022-05-18T01:23:34.954Z"
   },
   {
    "duration": 3,
    "start_time": "2022-05-18T01:23:36.955Z"
   },
   {
    "duration": 4,
    "start_time": "2022-05-18T01:23:37.859Z"
   },
   {
    "duration": 77,
    "start_time": "2022-05-18T01:24:09.756Z"
   },
   {
    "duration": 2,
    "start_time": "2022-05-18T01:24:22.629Z"
   },
   {
    "duration": 3,
    "start_time": "2022-05-18T01:24:23.637Z"
   },
   {
    "duration": 58,
    "start_time": "2022-05-18T01:24:26.780Z"
   },
   {
    "duration": 3,
    "start_time": "2022-05-18T01:24:27.565Z"
   },
   {
    "duration": 4,
    "start_time": "2022-05-18T01:24:28.261Z"
   },
   {
    "duration": 4,
    "start_time": "2022-05-18T01:24:34.973Z"
   },
   {
    "duration": 9,
    "start_time": "2022-05-18T01:24:35.908Z"
   },
   {
    "duration": 4,
    "start_time": "2022-05-18T01:32:07.188Z"
   },
   {
    "duration": 11,
    "start_time": "2022-05-18T01:32:08.187Z"
   },
   {
    "duration": 4,
    "start_time": "2022-05-18T01:33:17.754Z"
   },
   {
    "duration": 362,
    "start_time": "2022-05-18T01:33:17.760Z"
   },
   {
    "duration": 4,
    "start_time": "2022-05-18T01:33:18.123Z"
   },
   {
    "duration": 7,
    "start_time": "2022-05-18T01:33:18.129Z"
   },
   {
    "duration": 443,
    "start_time": "2022-05-18T01:33:18.138Z"
   },
   {
    "duration": 594,
    "start_time": "2022-05-18T01:33:18.582Z"
   },
   {
    "duration": 450,
    "start_time": "2022-05-18T01:33:19.178Z"
   },
   {
    "duration": 5,
    "start_time": "2022-05-18T01:33:19.630Z"
   },
   {
    "duration": 93,
    "start_time": "2022-05-18T01:33:19.637Z"
   },
   {
    "duration": 3,
    "start_time": "2022-05-18T01:33:19.734Z"
   },
   {
    "duration": 95,
    "start_time": "2022-05-18T01:33:19.739Z"
   },
   {
    "duration": 35,
    "start_time": "2022-05-18T01:33:19.836Z"
   },
   {
    "duration": 3,
    "start_time": "2022-05-18T01:33:19.928Z"
   },
   {
    "duration": 100,
    "start_time": "2022-05-18T01:33:19.933Z"
   },
   {
    "duration": 94,
    "start_time": "2022-05-18T01:33:20.035Z"
   },
   {
    "duration": 3,
    "start_time": "2022-05-18T01:33:20.132Z"
   },
   {
    "duration": 98,
    "start_time": "2022-05-18T01:33:20.137Z"
   },
   {
    "duration": 407,
    "start_time": "2022-05-18T01:33:20.237Z"
   },
   {
    "duration": 83,
    "start_time": "2022-05-18T01:33:20.646Z"
   },
   {
    "duration": 94,
    "start_time": "2022-05-18T01:33:20.740Z"
   },
   {
    "duration": 336,
    "start_time": "2022-05-18T01:33:36.823Z"
   },
   {
    "duration": 7,
    "start_time": "2022-05-18T01:34:32.201Z"
   },
   {
    "duration": 35,
    "start_time": "2022-05-18T01:34:33.544Z"
   },
   {
    "duration": 4,
    "start_time": "2022-05-18T01:34:43.148Z"
   },
   {
    "duration": 343,
    "start_time": "2022-05-18T01:34:43.154Z"
   },
   {
    "duration": 3,
    "start_time": "2022-05-18T01:34:43.499Z"
   },
   {
    "duration": 6,
    "start_time": "2022-05-18T01:34:43.504Z"
   },
   {
    "duration": 501,
    "start_time": "2022-05-18T01:34:43.511Z"
   },
   {
    "duration": 470,
    "start_time": "2022-05-18T01:34:44.014Z"
   },
   {
    "duration": 470,
    "start_time": "2022-05-18T01:34:44.485Z"
   },
   {
    "duration": 5,
    "start_time": "2022-05-18T01:34:44.957Z"
   },
   {
    "duration": 70,
    "start_time": "2022-05-18T01:34:44.964Z"
   },
   {
    "duration": 89,
    "start_time": "2022-05-18T01:34:45.039Z"
   },
   {
    "duration": 9,
    "start_time": "2022-05-18T01:34:45.130Z"
   },
   {
    "duration": 88,
    "start_time": "2022-05-18T01:34:45.140Z"
   },
   {
    "duration": 3,
    "start_time": "2022-05-18T01:34:45.231Z"
   },
   {
    "duration": 97,
    "start_time": "2022-05-18T01:34:45.236Z"
   },
   {
    "duration": 39,
    "start_time": "2022-05-18T01:34:45.334Z"
   },
   {
    "duration": 52,
    "start_time": "2022-05-18T01:34:45.376Z"
   },
   {
    "duration": 98,
    "start_time": "2022-05-18T01:34:45.430Z"
   },
   {
    "duration": 410,
    "start_time": "2022-05-18T01:34:45.530Z"
   },
   {
    "duration": 85,
    "start_time": "2022-05-18T01:34:45.943Z"
   },
   {
    "duration": 103,
    "start_time": "2022-05-18T01:34:46.031Z"
   },
   {
    "duration": 411,
    "start_time": "2022-05-18T01:35:46.828Z"
   },
   {
    "duration": 394,
    "start_time": "2022-05-18T01:36:39.748Z"
   },
   {
    "duration": 348,
    "start_time": "2022-05-18T01:36:56.901Z"
   },
   {
    "duration": 78,
    "start_time": "2022-05-18T01:42:48.852Z"
   },
   {
    "duration": 4,
    "start_time": "2022-05-18T01:42:56.747Z"
   },
   {
    "duration": 330,
    "start_time": "2022-05-18T01:42:56.753Z"
   },
   {
    "duration": 3,
    "start_time": "2022-05-18T01:42:57.085Z"
   },
   {
    "duration": 13,
    "start_time": "2022-05-18T01:42:57.090Z"
   },
   {
    "duration": 414,
    "start_time": "2022-05-18T01:42:57.104Z"
   },
   {
    "duration": 447,
    "start_time": "2022-05-18T01:42:57.520Z"
   },
   {
    "duration": 404,
    "start_time": "2022-05-18T01:42:57.969Z"
   },
   {
    "duration": 5,
    "start_time": "2022-05-18T01:42:58.375Z"
   },
   {
    "duration": 150,
    "start_time": "2022-05-18T01:42:58.382Z"
   },
   {
    "duration": 0,
    "start_time": "2022-05-18T01:42:58.535Z"
   },
   {
    "duration": 0,
    "start_time": "2022-05-18T01:42:58.626Z"
   },
   {
    "duration": 0,
    "start_time": "2022-05-18T01:42:58.628Z"
   },
   {
    "duration": 0,
    "start_time": "2022-05-18T01:42:58.629Z"
   },
   {
    "duration": 0,
    "start_time": "2022-05-18T01:42:58.630Z"
   },
   {
    "duration": 0,
    "start_time": "2022-05-18T01:42:58.631Z"
   },
   {
    "duration": 4,
    "start_time": "2022-05-18T01:43:39.410Z"
   },
   {
    "duration": 5,
    "start_time": "2022-05-18T01:43:43.344Z"
   },
   {
    "duration": 370,
    "start_time": "2022-05-18T01:43:43.351Z"
   },
   {
    "duration": 5,
    "start_time": "2022-05-18T01:43:43.723Z"
   },
   {
    "duration": 26,
    "start_time": "2022-05-18T01:43:43.729Z"
   },
   {
    "duration": 456,
    "start_time": "2022-05-18T01:43:43.756Z"
   },
   {
    "duration": 481,
    "start_time": "2022-05-18T01:43:44.214Z"
   },
   {
    "duration": 497,
    "start_time": "2022-05-18T01:43:44.697Z"
   },
   {
    "duration": 5,
    "start_time": "2022-05-18T01:43:45.196Z"
   },
   {
    "duration": 129,
    "start_time": "2022-05-18T01:43:45.203Z"
   },
   {
    "duration": 0,
    "start_time": "2022-05-18T01:43:45.335Z"
   },
   {
    "duration": 0,
    "start_time": "2022-05-18T01:43:45.337Z"
   },
   {
    "duration": 0,
    "start_time": "2022-05-18T01:43:45.338Z"
   },
   {
    "duration": 0,
    "start_time": "2022-05-18T01:43:45.341Z"
   },
   {
    "duration": 0,
    "start_time": "2022-05-18T01:43:45.427Z"
   },
   {
    "duration": 0,
    "start_time": "2022-05-18T01:43:45.557Z"
   },
   {
    "duration": 4,
    "start_time": "2022-05-18T01:44:27.924Z"
   },
   {
    "duration": 151,
    "start_time": "2022-05-18T01:44:29.587Z"
   },
   {
    "duration": 5,
    "start_time": "2022-05-18T01:45:11.373Z"
   },
   {
    "duration": 90,
    "start_time": "2022-05-18T01:45:12.237Z"
   },
   {
    "duration": 2,
    "start_time": "2022-05-18T01:45:17.636Z"
   },
   {
    "duration": 45,
    "start_time": "2022-05-18T01:45:18.692Z"
   },
   {
    "duration": 2,
    "start_time": "2022-05-18T01:45:19.205Z"
   },
   {
    "duration": 55,
    "start_time": "2022-05-18T01:45:20.373Z"
   },
   {
    "duration": 12,
    "start_time": "2022-05-18T01:45:21.525Z"
   },
   {
    "duration": 375,
    "start_time": "2022-05-18T01:45:23.164Z"
   },
   {
    "duration": 5,
    "start_time": "2022-05-18T02:15:48.312Z"
   },
   {
    "duration": 166,
    "start_time": "2022-05-18T02:15:50.967Z"
   },
   {
    "duration": 6,
    "start_time": "2022-05-18T02:16:08.808Z"
   },
   {
    "duration": 175,
    "start_time": "2022-05-18T02:16:10.751Z"
   },
   {
    "duration": 4,
    "start_time": "2022-05-18T02:16:34.451Z"
   },
   {
    "duration": 335,
    "start_time": "2022-05-18T02:16:34.457Z"
   },
   {
    "duration": 2,
    "start_time": "2022-05-18T02:16:34.794Z"
   },
   {
    "duration": 22,
    "start_time": "2022-05-18T02:16:34.798Z"
   },
   {
    "duration": 464,
    "start_time": "2022-05-18T02:16:34.821Z"
   },
   {
    "duration": 400,
    "start_time": "2022-05-18T02:16:35.286Z"
   },
   {
    "duration": 417,
    "start_time": "2022-05-18T02:16:35.688Z"
   },
   {
    "duration": 6,
    "start_time": "2022-05-18T02:16:36.106Z"
   },
   {
    "duration": 103,
    "start_time": "2022-05-18T02:16:36.126Z"
   },
   {
    "duration": 98,
    "start_time": "2022-05-18T02:16:36.231Z"
   },
   {
    "duration": 99,
    "start_time": "2022-05-18T02:16:36.331Z"
   },
   {
    "duration": 4,
    "start_time": "2022-05-18T02:16:36.433Z"
   },
   {
    "duration": 100,
    "start_time": "2022-05-18T02:16:36.528Z"
   },
   {
    "duration": 3,
    "start_time": "2022-05-18T02:16:36.631Z"
   },
   {
    "duration": 290,
    "start_time": "2022-05-18T02:16:36.637Z"
   },
   {
    "duration": 5,
    "start_time": "2022-05-18T02:19:09.055Z"
   },
   {
    "duration": 351,
    "start_time": "2022-05-18T02:19:09.061Z"
   },
   {
    "duration": 3,
    "start_time": "2022-05-18T02:19:09.414Z"
   },
   {
    "duration": 10,
    "start_time": "2022-05-18T02:19:09.420Z"
   },
   {
    "duration": 461,
    "start_time": "2022-05-18T02:19:09.431Z"
   },
   {
    "duration": 449,
    "start_time": "2022-05-18T02:19:09.894Z"
   },
   {
    "duration": 444,
    "start_time": "2022-05-18T02:19:10.345Z"
   },
   {
    "duration": 5,
    "start_time": "2022-05-18T02:19:10.791Z"
   },
   {
    "duration": 134,
    "start_time": "2022-05-18T02:19:10.798Z"
   },
   {
    "duration": 0,
    "start_time": "2022-05-18T02:19:10.935Z"
   },
   {
    "duration": 0,
    "start_time": "2022-05-18T02:19:10.936Z"
   },
   {
    "duration": 0,
    "start_time": "2022-05-18T02:19:11.027Z"
   },
   {
    "duration": 0,
    "start_time": "2022-05-18T02:19:11.028Z"
   },
   {
    "duration": 0,
    "start_time": "2022-05-18T02:19:11.029Z"
   },
   {
    "duration": 0,
    "start_time": "2022-05-18T02:19:11.030Z"
   },
   {
    "duration": 6,
    "start_time": "2022-05-18T02:19:38.142Z"
   },
   {
    "duration": 31,
    "start_time": "2022-05-18T02:19:39.774Z"
   },
   {
    "duration": 2,
    "start_time": "2022-05-18T02:19:40.422Z"
   },
   {
    "duration": 32,
    "start_time": "2022-05-18T02:19:41.166Z"
   },
   {
    "duration": 3,
    "start_time": "2022-05-18T02:19:41.445Z"
   },
   {
    "duration": 31,
    "start_time": "2022-05-18T02:19:41.957Z"
   },
   {
    "duration": 3,
    "start_time": "2022-05-18T02:19:42.197Z"
   },
   {
    "duration": 495,
    "start_time": "2022-05-18T02:19:43.237Z"
   },
   {
    "duration": 4,
    "start_time": "2022-05-18T02:33:07.506Z"
   },
   {
    "duration": 374,
    "start_time": "2022-05-18T02:33:07.512Z"
   },
   {
    "duration": 3,
    "start_time": "2022-05-18T02:33:07.888Z"
   },
   {
    "duration": 11,
    "start_time": "2022-05-18T02:33:07.894Z"
   },
   {
    "duration": 465,
    "start_time": "2022-05-18T02:33:07.907Z"
   },
   {
    "duration": 434,
    "start_time": "2022-05-18T02:33:08.373Z"
   },
   {
    "duration": 485,
    "start_time": "2022-05-18T02:33:08.809Z"
   },
   {
    "duration": 9,
    "start_time": "2022-05-18T02:33:09.295Z"
   },
   {
    "duration": 125,
    "start_time": "2022-05-18T02:33:09.306Z"
   },
   {
    "duration": 90,
    "start_time": "2022-05-18T02:33:09.437Z"
   },
   {
    "duration": 98,
    "start_time": "2022-05-18T02:33:09.529Z"
   },
   {
    "duration": 4,
    "start_time": "2022-05-18T02:33:09.629Z"
   },
   {
    "duration": 194,
    "start_time": "2022-05-18T02:33:09.636Z"
   },
   {
    "duration": 5,
    "start_time": "2022-05-18T02:33:09.832Z"
   },
   {
    "duration": 190,
    "start_time": "2022-05-18T02:33:09.839Z"
   },
   {
    "duration": 541,
    "start_time": "2022-05-18T02:33:33.401Z"
   },
   {
    "duration": 11,
    "start_time": "2022-05-18T04:07:04.806Z"
   },
   {
    "duration": 5,
    "start_time": "2022-05-18T04:10:49.398Z"
   },
   {
    "duration": 12,
    "start_time": "2022-05-18T04:11:08.591Z"
   },
   {
    "duration": 13,
    "start_time": "2022-05-18T04:16:43.675Z"
   },
   {
    "duration": 16,
    "start_time": "2022-05-18T04:17:45.705Z"
   },
   {
    "duration": 21,
    "start_time": "2022-05-18T04:19:37.926Z"
   },
   {
    "duration": 4,
    "start_time": "2022-05-18T04:20:38.098Z"
   },
   {
    "duration": 376,
    "start_time": "2022-05-18T04:20:38.104Z"
   },
   {
    "duration": 3,
    "start_time": "2022-05-18T04:20:38.481Z"
   },
   {
    "duration": 17,
    "start_time": "2022-05-18T04:20:38.487Z"
   },
   {
    "duration": 484,
    "start_time": "2022-05-18T04:20:38.505Z"
   },
   {
    "duration": 464,
    "start_time": "2022-05-18T04:20:38.991Z"
   },
   {
    "duration": 554,
    "start_time": "2022-05-18T04:20:39.457Z"
   },
   {
    "duration": 16,
    "start_time": "2022-05-18T04:20:40.013Z"
   },
   {
    "duration": 111,
    "start_time": "2022-05-18T04:20:40.031Z"
   },
   {
    "duration": 119,
    "start_time": "2022-05-18T04:20:40.145Z"
   },
   {
    "duration": 167,
    "start_time": "2022-05-18T04:20:40.266Z"
   },
   {
    "duration": 6,
    "start_time": "2022-05-18T04:20:40.434Z"
   },
   {
    "duration": 89,
    "start_time": "2022-05-18T04:20:40.442Z"
   },
   {
    "duration": 7,
    "start_time": "2022-05-18T04:20:40.533Z"
   },
   {
    "duration": 488,
    "start_time": "2022-05-18T04:20:40.542Z"
   },
   {
    "duration": 7,
    "start_time": "2022-05-18T04:20:41.032Z"
   },
   {
    "duration": 126,
    "start_time": "2022-05-18T04:20:41.041Z"
   },
   {
    "duration": 17,
    "start_time": "2022-05-18T04:20:41.168Z"
   },
   {
    "duration": 32,
    "start_time": "2022-05-18T04:20:41.187Z"
   },
   {
    "duration": 24,
    "start_time": "2022-05-18T04:20:56.768Z"
   },
   {
    "duration": 34,
    "start_time": "2022-05-18T04:21:16.080Z"
   },
   {
    "duration": 14,
    "start_time": "2022-05-18T04:28:14.158Z"
   },
   {
    "duration": 13,
    "start_time": "2022-05-18T04:30:11.434Z"
   },
   {
    "duration": 13,
    "start_time": "2022-05-18T04:33:04.791Z"
   },
   {
    "duration": 13,
    "start_time": "2022-05-18T04:34:32.642Z"
   },
   {
    "duration": 39,
    "start_time": "2022-05-18T04:57:26.951Z"
   },
   {
    "duration": 42,
    "start_time": "2022-05-18T04:57:54.944Z"
   },
   {
    "duration": 45,
    "start_time": "2022-05-18T04:58:17.817Z"
   },
   {
    "duration": 7,
    "start_time": "2022-05-18T05:40:04.679Z"
   },
   {
    "duration": 9,
    "start_time": "2022-05-18T05:40:44.328Z"
   },
   {
    "duration": 2,
    "start_time": "2022-05-18T05:40:58.121Z"
   },
   {
    "duration": 829,
    "start_time": "2022-05-18T05:41:03.312Z"
   },
   {
    "duration": 8,
    "start_time": "2022-05-18T05:41:59.331Z"
   },
   {
    "duration": 840,
    "start_time": "2022-05-18T05:42:00.403Z"
   },
   {
    "duration": 6,
    "start_time": "2022-05-18T05:42:59.301Z"
   },
   {
    "duration": 927,
    "start_time": "2022-05-18T05:43:01.788Z"
   },
   {
    "duration": 6,
    "start_time": "2022-05-18T05:44:22.895Z"
   },
   {
    "duration": 787,
    "start_time": "2022-05-18T05:44:23.951Z"
   },
   {
    "duration": 4,
    "start_time": "2022-05-18T05:46:11.682Z"
   },
   {
    "duration": 57,
    "start_time": "2022-05-18T05:46:12.412Z"
   },
   {
    "duration": 9,
    "start_time": "2022-05-18T05:46:17.547Z"
   },
   {
    "duration": 908,
    "start_time": "2022-05-18T05:46:18.355Z"
   },
   {
    "duration": 3,
    "start_time": "2022-05-18T05:47:09.364Z"
   },
   {
    "duration": 58,
    "start_time": "2022-05-18T05:47:09.871Z"
   },
   {
    "duration": 8,
    "start_time": "2022-05-18T05:47:17.310Z"
   },
   {
    "duration": 938,
    "start_time": "2022-05-18T05:47:19.275Z"
   },
   {
    "duration": 10,
    "start_time": "2022-05-18T06:00:16.162Z"
   },
   {
    "duration": 955,
    "start_time": "2022-05-18T06:00:17.301Z"
   },
   {
    "duration": 3,
    "start_time": "2022-05-18T06:02:49.307Z"
   },
   {
    "duration": 52,
    "start_time": "2022-05-18T06:02:49.951Z"
   },
   {
    "duration": 7,
    "start_time": "2022-05-18T06:02:53.596Z"
   },
   {
    "duration": 6,
    "start_time": "2022-05-18T06:03:18.954Z"
   },
   {
    "duration": 878,
    "start_time": "2022-05-18T06:03:19.987Z"
   },
   {
    "duration": 3,
    "start_time": "2022-05-18T06:04:20.045Z"
   },
   {
    "duration": 43,
    "start_time": "2022-05-18T06:04:20.582Z"
   },
   {
    "duration": 31,
    "start_time": "2022-05-18T06:04:24.253Z"
   },
   {
    "duration": 6,
    "start_time": "2022-05-18T06:04:32.710Z"
   },
   {
    "duration": 3,
    "start_time": "2022-05-18T06:04:41.622Z"
   },
   {
    "duration": 41,
    "start_time": "2022-05-18T06:04:47.775Z"
   },
   {
    "duration": 6,
    "start_time": "2022-05-18T06:04:52.758Z"
   },
   {
    "duration": 873,
    "start_time": "2022-05-18T06:04:54.174Z"
   },
   {
    "duration": 6,
    "start_time": "2022-05-18T06:06:00.457Z"
   },
   {
    "duration": 982,
    "start_time": "2022-05-18T06:06:01.160Z"
   },
   {
    "duration": 2715,
    "start_time": "2022-05-18T06:20:05.092Z"
   },
   {
    "duration": 6,
    "start_time": "2022-05-18T06:23:13.377Z"
   },
   {
    "duration": 3115,
    "start_time": "2022-05-18T06:23:14.000Z"
   },
   {
    "duration": 41,
    "start_time": "2022-05-18T06:28:57.006Z"
   },
   {
    "duration": 6,
    "start_time": "2022-05-18T06:32:08.682Z"
   },
   {
    "duration": 2238,
    "start_time": "2022-05-18T06:32:09.282Z"
   },
   {
    "duration": 2230,
    "start_time": "2022-05-18T06:33:11.955Z"
   },
   {
    "duration": 28,
    "start_time": "2022-05-18T06:33:36.686Z"
   },
   {
    "duration": 6,
    "start_time": "2022-05-18T06:33:40.841Z"
   },
   {
    "duration": 2282,
    "start_time": "2022-05-18T06:33:41.500Z"
   },
   {
    "duration": 36,
    "start_time": "2022-05-18T06:34:42.616Z"
   },
   {
    "duration": 416,
    "start_time": "2022-05-18T06:36:58.019Z"
   },
   {
    "duration": 3,
    "start_time": "2022-05-18T06:37:05.075Z"
   },
   {
    "duration": 28,
    "start_time": "2022-05-18T06:37:05.645Z"
   },
   {
    "duration": 9,
    "start_time": "2022-05-18T06:37:37.224Z"
   },
   {
    "duration": 709,
    "start_time": "2022-05-18T06:37:37.235Z"
   },
   {
    "duration": 3,
    "start_time": "2022-05-18T06:37:37.947Z"
   },
   {
    "duration": 7,
    "start_time": "2022-05-18T06:37:37.953Z"
   },
   {
    "duration": 439,
    "start_time": "2022-05-18T06:37:37.962Z"
   },
   {
    "duration": 493,
    "start_time": "2022-05-18T06:37:38.403Z"
   },
   {
    "duration": 642,
    "start_time": "2022-05-18T06:37:38.898Z"
   },
   {
    "duration": 8,
    "start_time": "2022-05-18T06:37:39.542Z"
   },
   {
    "duration": 179,
    "start_time": "2022-05-18T06:37:39.551Z"
   },
   {
    "duration": 6,
    "start_time": "2022-05-18T06:37:39.735Z"
   },
   {
    "duration": 291,
    "start_time": "2022-05-18T06:37:39.743Z"
   },
   {
    "duration": 5,
    "start_time": "2022-05-18T06:37:40.037Z"
   },
   {
    "duration": 190,
    "start_time": "2022-05-18T06:37:40.044Z"
   },
   {
    "duration": 12,
    "start_time": "2022-05-18T06:37:40.241Z"
   },
   {
    "duration": 497,
    "start_time": "2022-05-18T06:37:40.255Z"
   },
   {
    "duration": 6,
    "start_time": "2022-05-18T06:37:40.754Z"
   },
   {
    "duration": 35,
    "start_time": "2022-05-18T06:37:40.831Z"
   },
   {
    "duration": 9,
    "start_time": "2022-05-18T06:37:40.868Z"
   },
   {
    "duration": 3216,
    "start_time": "2022-05-18T06:37:40.929Z"
   },
   {
    "duration": 4,
    "start_time": "2022-05-18T06:38:55.945Z"
   },
   {
    "duration": 418,
    "start_time": "2022-05-18T06:38:55.951Z"
   },
   {
    "duration": 3,
    "start_time": "2022-05-18T06:38:56.375Z"
   },
   {
    "duration": 23,
    "start_time": "2022-05-18T06:38:56.380Z"
   },
   {
    "duration": 556,
    "start_time": "2022-05-18T06:38:56.406Z"
   },
   {
    "duration": 531,
    "start_time": "2022-05-18T06:38:56.964Z"
   },
   {
    "duration": 515,
    "start_time": "2022-05-18T06:38:57.498Z"
   },
   {
    "duration": 25,
    "start_time": "2022-05-18T06:38:58.015Z"
   },
   {
    "duration": 106,
    "start_time": "2022-05-18T06:38:58.042Z"
   },
   {
    "duration": 76,
    "start_time": "2022-05-18T06:38:58.152Z"
   },
   {
    "duration": 102,
    "start_time": "2022-05-18T06:38:58.230Z"
   },
   {
    "duration": 3,
    "start_time": "2022-05-18T06:38:58.334Z"
   },
   {
    "duration": 191,
    "start_time": "2022-05-18T06:38:58.340Z"
   },
   {
    "duration": 4,
    "start_time": "2022-05-18T06:38:58.536Z"
   },
   {
    "duration": 592,
    "start_time": "2022-05-18T06:38:58.543Z"
   },
   {
    "duration": 85,
    "start_time": "2022-05-18T06:38:59.150Z"
   },
   {
    "duration": 57,
    "start_time": "2022-05-18T06:38:59.237Z"
   },
   {
    "duration": 7,
    "start_time": "2022-05-18T06:38:59.295Z"
   },
   {
    "duration": 2761,
    "start_time": "2022-05-18T06:38:59.304Z"
   },
   {
    "duration": 4,
    "start_time": "2022-05-18T06:50:07.227Z"
   },
   {
    "duration": 425,
    "start_time": "2022-05-18T06:50:09.331Z"
   },
   {
    "duration": 5,
    "start_time": "2022-05-18T06:52:08.856Z"
   },
   {
    "duration": 453,
    "start_time": "2022-05-18T06:52:10.574Z"
   },
   {
    "duration": 446,
    "start_time": "2022-05-18T06:52:43.215Z"
   },
   {
    "duration": 127,
    "start_time": "2022-05-18T07:00:49.928Z"
   },
   {
    "duration": 15,
    "start_time": "2022-05-18T07:01:13.856Z"
   },
   {
    "duration": 406,
    "start_time": "2022-05-18T07:01:29.224Z"
   },
   {
    "duration": 7,
    "start_time": "2022-05-18T07:02:00.658Z"
   },
   {
    "duration": 228,
    "start_time": "2022-05-18T07:02:02.194Z"
   },
   {
    "duration": 18,
    "start_time": "2022-05-18T07:22:13.786Z"
   },
   {
    "duration": 9,
    "start_time": "2022-05-18T07:25:01.948Z"
   },
   {
    "duration": 189,
    "start_time": "2022-05-18T07:25:06.615Z"
   },
   {
    "duration": 9,
    "start_time": "2022-05-18T07:28:41.686Z"
   },
   {
    "duration": 187,
    "start_time": "2022-05-18T07:28:44.821Z"
   },
   {
    "duration": 16,
    "start_time": "2022-05-18T07:30:44.658Z"
   },
   {
    "duration": 1920,
    "start_time": "2022-05-18T23:19:46.932Z"
   },
   {
    "duration": 1678,
    "start_time": "2022-05-18T23:19:48.855Z"
   },
   {
    "duration": 3,
    "start_time": "2022-05-18T23:19:50.575Z"
   },
   {
    "duration": 6,
    "start_time": "2022-05-18T23:19:50.580Z"
   },
   {
    "duration": 669,
    "start_time": "2022-05-18T23:19:50.587Z"
   },
   {
    "duration": 439,
    "start_time": "2022-05-18T23:19:51.258Z"
   },
   {
    "duration": 403,
    "start_time": "2022-05-18T23:19:51.699Z"
   },
   {
    "duration": 6,
    "start_time": "2022-05-18T23:19:52.104Z"
   },
   {
    "duration": 178,
    "start_time": "2022-05-18T23:19:52.111Z"
   },
   {
    "duration": 5,
    "start_time": "2022-05-18T23:19:52.376Z"
   },
   {
    "duration": 197,
    "start_time": "2022-05-18T23:19:52.382Z"
   },
   {
    "duration": 93,
    "start_time": "2022-05-18T23:19:52.582Z"
   },
   {
    "duration": 104,
    "start_time": "2022-05-18T23:19:52.677Z"
   },
   {
    "duration": 5,
    "start_time": "2022-05-18T23:22:08.121Z"
   },
   {
    "duration": 407,
    "start_time": "2022-05-18T23:22:08.128Z"
   },
   {
    "duration": 4,
    "start_time": "2022-05-18T23:22:08.536Z"
   },
   {
    "duration": 7,
    "start_time": "2022-05-18T23:22:08.542Z"
   },
   {
    "duration": 441,
    "start_time": "2022-05-18T23:22:08.550Z"
   },
   {
    "duration": 403,
    "start_time": "2022-05-18T23:22:08.992Z"
   },
   {
    "duration": 499,
    "start_time": "2022-05-18T23:22:09.397Z"
   },
   {
    "duration": 5,
    "start_time": "2022-05-18T23:22:09.898Z"
   },
   {
    "duration": 71,
    "start_time": "2022-05-18T23:22:09.905Z"
   },
   {
    "duration": 4,
    "start_time": "2022-05-18T23:22:09.980Z"
   },
   {
    "duration": 192,
    "start_time": "2022-05-18T23:22:09.985Z"
   },
   {
    "duration": 4,
    "start_time": "2022-05-18T23:22:10.179Z"
   },
   {
    "duration": 125,
    "start_time": "2022-05-18T23:22:10.186Z"
   },
   {
    "duration": 2,
    "start_time": "2022-05-18T23:22:10.313Z"
   },
   {
    "duration": 601,
    "start_time": "2022-05-18T23:22:10.376Z"
   },
   {
    "duration": 3,
    "start_time": "2022-05-18T23:22:10.979Z"
   },
   {
    "duration": 100,
    "start_time": "2022-05-18T23:22:10.984Z"
   },
   {
    "duration": 1,
    "start_time": "2022-05-18T23:22:11.085Z"
   },
   {
    "duration": 0,
    "start_time": "2022-05-18T23:22:11.087Z"
   },
   {
    "duration": 31,
    "start_time": "2022-05-18T23:22:29.367Z"
   },
   {
    "duration": 6,
    "start_time": "2022-05-18T23:22:33.413Z"
   },
   {
    "duration": 2109,
    "start_time": "2022-05-18T23:22:34.239Z"
   },
   {
    "duration": 38,
    "start_time": "2022-05-18T23:23:50.384Z"
   },
   {
    "duration": 78,
    "start_time": "2022-05-18T23:26:22.213Z"
   },
   {
    "duration": 93,
    "start_time": "2022-05-18T23:29:22.411Z"
   },
   {
    "duration": 5,
    "start_time": "2022-05-18T23:30:17.652Z"
   },
   {
    "duration": 45,
    "start_time": "2022-05-18T23:41:22.780Z"
   },
   {
    "duration": 38,
    "start_time": "2022-05-18T23:52:41.850Z"
   },
   {
    "duration": 4,
    "start_time": "2022-05-18T23:54:16.120Z"
   },
   {
    "duration": 3,
    "start_time": "2022-05-19T00:07:47.924Z"
   },
   {
    "duration": 4,
    "start_time": "2022-05-19T00:07:51.049Z"
   },
   {
    "duration": 412,
    "start_time": "2022-05-19T00:07:51.064Z"
   },
   {
    "duration": 4,
    "start_time": "2022-05-19T00:07:51.478Z"
   },
   {
    "duration": 8,
    "start_time": "2022-05-19T00:07:51.484Z"
   },
   {
    "duration": 441,
    "start_time": "2022-05-19T00:07:51.494Z"
   },
   {
    "duration": 556,
    "start_time": "2022-05-19T00:07:51.936Z"
   },
   {
    "duration": 510,
    "start_time": "2022-05-19T00:07:52.494Z"
   },
   {
    "duration": 9,
    "start_time": "2022-05-19T00:07:53.006Z"
   },
   {
    "duration": 104,
    "start_time": "2022-05-19T00:07:53.017Z"
   },
   {
    "duration": 6,
    "start_time": "2022-05-19T00:07:53.174Z"
   },
   {
    "duration": 137,
    "start_time": "2022-05-19T00:07:53.185Z"
   },
   {
    "duration": 7,
    "start_time": "2022-05-19T00:07:53.324Z"
   },
   {
    "duration": 208,
    "start_time": "2022-05-19T00:07:53.376Z"
   },
   {
    "duration": 4,
    "start_time": "2022-05-19T00:07:53.587Z"
   },
   {
    "duration": 507,
    "start_time": "2022-05-19T00:07:53.592Z"
   },
   {
    "duration": 3,
    "start_time": "2022-05-19T00:07:54.101Z"
   },
   {
    "duration": 118,
    "start_time": "2022-05-19T00:07:54.176Z"
   },
   {
    "duration": 8,
    "start_time": "2022-05-19T00:07:54.296Z"
   },
   {
    "duration": 3749,
    "start_time": "2022-05-19T00:07:54.306Z"
   },
   {
    "duration": 107,
    "start_time": "2022-05-19T00:23:01.170Z"
   },
   {
    "duration": 32,
    "start_time": "2022-05-19T00:28:53.013Z"
   },
   {
    "duration": 41,
    "start_time": "2022-05-19T00:38:26.712Z"
   },
   {
    "duration": 40,
    "start_time": "2022-05-19T00:51:03.440Z"
   },
   {
    "duration": 54,
    "start_time": "2022-05-19T00:57:25.429Z"
   },
   {
    "duration": 42,
    "start_time": "2022-05-19T00:57:49.181Z"
   },
   {
    "duration": 6,
    "start_time": "2022-05-19T00:58:04.643Z"
   },
   {
    "duration": 2228,
    "start_time": "2022-05-19T00:58:07.420Z"
   },
   {
    "duration": 6,
    "start_time": "2022-05-19T00:58:28.834Z"
   },
   {
    "duration": 2139,
    "start_time": "2022-05-19T00:58:30.918Z"
   },
   {
    "duration": 16,
    "start_time": "2022-05-19T01:00:46.627Z"
   },
   {
    "duration": 732,
    "start_time": "2022-05-19T01:00:47.370Z"
   },
   {
    "duration": 6,
    "start_time": "2022-05-19T01:01:07.932Z"
   },
   {
    "duration": 2150,
    "start_time": "2022-05-19T01:01:08.459Z"
   },
   {
    "duration": 3,
    "start_time": "2022-05-19T01:13:25.052Z"
   },
   {
    "duration": 42,
    "start_time": "2022-05-19T23:33:42.701Z"
   },
   {
    "duration": 50,
    "start_time": "2022-05-19T23:36:51.119Z"
   },
   {
    "duration": 1922,
    "start_time": "2022-05-19T23:36:59.886Z"
   },
   {
    "duration": 767,
    "start_time": "2022-05-19T23:37:01.810Z"
   },
   {
    "duration": 3,
    "start_time": "2022-05-19T23:37:02.579Z"
   },
   {
    "duration": 22,
    "start_time": "2022-05-19T23:37:02.584Z"
   },
   {
    "duration": 483,
    "start_time": "2022-05-19T23:37:02.607Z"
   },
   {
    "duration": 474,
    "start_time": "2022-05-19T23:37:03.091Z"
   },
   {
    "duration": 447,
    "start_time": "2022-05-19T23:37:03.567Z"
   },
   {
    "duration": 6,
    "start_time": "2022-05-19T23:37:04.016Z"
   },
   {
    "duration": 103,
    "start_time": "2022-05-19T23:37:04.028Z"
   },
   {
    "duration": 91,
    "start_time": "2022-05-19T23:37:04.138Z"
   },
   {
    "duration": 106,
    "start_time": "2022-05-19T23:37:04.231Z"
   },
   {
    "duration": 4,
    "start_time": "2022-05-19T23:37:04.428Z"
   },
   {
    "duration": 121,
    "start_time": "2022-05-19T23:37:04.434Z"
   },
   {
    "duration": 72,
    "start_time": "2022-05-19T23:37:04.557Z"
   },
   {
    "duration": 498,
    "start_time": "2022-05-19T23:37:04.631Z"
   },
   {
    "duration": 3,
    "start_time": "2022-05-19T23:37:05.132Z"
   },
   {
    "duration": 118,
    "start_time": "2022-05-19T23:37:05.137Z"
   },
   {
    "duration": 4,
    "start_time": "2022-05-19T23:37:09.800Z"
   },
   {
    "duration": 3,
    "start_time": "2022-05-19T23:37:16.601Z"
   },
   {
    "duration": 4,
    "start_time": "2022-05-19T23:37:39.017Z"
   },
   {
    "duration": 4,
    "start_time": "2022-05-19T23:44:41.844Z"
   },
   {
    "duration": 5,
    "start_time": "2022-05-19T23:45:06.409Z"
   },
   {
    "duration": 4,
    "start_time": "2022-05-19T23:46:30.659Z"
   },
   {
    "duration": 6,
    "start_time": "2022-05-19T23:48:23.235Z"
   },
   {
    "duration": 6,
    "start_time": "2022-05-19T23:48:44.328Z"
   },
   {
    "duration": 6,
    "start_time": "2022-05-19T23:48:48.879Z"
   },
   {
    "duration": 6,
    "start_time": "2022-05-19T23:49:18.864Z"
   },
   {
    "duration": 7,
    "start_time": "2022-05-19T23:54:32.523Z"
   },
   {
    "duration": 7,
    "start_time": "2022-05-19T23:54:51.647Z"
   },
   {
    "duration": 43,
    "start_time": "2022-05-20T00:03:43.277Z"
   }
  ],
  "kernelspec": {
   "display_name": "Python 3 (ipykernel)",
   "language": "python",
   "name": "python3"
  },
  "language_info": {
   "codemirror_mode": {
    "name": "ipython",
    "version": 3
   },
   "file_extension": ".py",
   "mimetype": "text/x-python",
   "name": "python",
   "nbconvert_exporter": "python",
   "pygments_lexer": "ipython3",
   "version": "3.9.12"
  },
  "toc": {
   "base_numbering": 1,
   "nav_menu": {},
   "number_sections": true,
   "sideBar": true,
   "skip_h1_title": true,
   "title_cell": "Table of Contents",
   "title_sidebar": "Contents",
   "toc_cell": false,
   "toc_position": {},
   "toc_section_display": true,
   "toc_window_display": true
  }
 },
 "nbformat": 4,
 "nbformat_minor": 2
}
