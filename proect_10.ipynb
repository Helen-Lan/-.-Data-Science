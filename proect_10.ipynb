{
 "cells": [
  {
   "cell_type": "markdown",
   "metadata": {
    "toc": true
   },
   "source": [
    "<h1>Содержание<span class=\"tocSkip\"></span></h1>\n",
    "<div class=\"toc\"><ul class=\"toc-item\"><li><span><a href=\"#Загрузка-данных\" data-toc-modified-id=\"Загрузка-данных-1\"><span class=\"toc-item-num\">1&nbsp;&nbsp;</span>Загрузка данных</a></span></li><li><span><a href=\"#Умножение-матриц\" data-toc-modified-id=\"Умножение-матриц-2\"><span class=\"toc-item-num\">2&nbsp;&nbsp;</span>Умножение матриц</a></span></li><li><span><a href=\"#Алгоритм-преобразования\" data-toc-modified-id=\"Алгоритм-преобразования-3\"><span class=\"toc-item-num\">3&nbsp;&nbsp;</span>Алгоритм преобразования</a></span></li><li><span><a href=\"#Проверка-алгоритма\" data-toc-modified-id=\"Проверка-алгоритма-4\"><span class=\"toc-item-num\">4&nbsp;&nbsp;</span>Проверка алгоритма</a></span></li><li><span><a href=\"#Чек-лист-проверки\" data-toc-modified-id=\"Чек-лист-проверки-5\"><span class=\"toc-item-num\">5&nbsp;&nbsp;</span>Чек-лист проверки</a></span></li></ul></div>"
   ]
  },
  {
   "cell_type": "markdown",
   "metadata": {},
   "source": [
    "# Защита персональных данных клиентов"
   ]
  },
  {
   "cell_type": "markdown",
   "metadata": {},
   "source": [
    "Вам нужно защитить данные клиентов страховой компании «Хоть потоп». Разработайте такой метод преобразования данных, чтобы по ним было сложно восстановить персональную информацию. Обоснуйте корректность его работы.\n",
    "\n",
    "Нужно защитить данные, чтобы при преобразовании качество моделей машинного обучения не ухудшилось. Подбирать наилучшую модель не требуется."
   ]
  },
  {
   "cell_type": "markdown",
   "metadata": {},
   "source": [
    "**План работы:**\n",
    "- Загрузить и изучить данные.\n",
    "- Ответить на вопрос (Изменится ли качество линейной регрессии, если признаки умножают на обратимую матрицу) и обосновать решение.\n",
    "- Предложить алгоритм преобразования данных для решения задачи.\n",
    "- Запрограммировать этот алгоритм, применив матричные операции. Проверить качество линейной регрессии из sklearn, применив метрику R2."
   ]
  },
  {
   "cell_type": "markdown",
   "metadata": {},
   "source": [
    "**Данные**\n",
    "- Признаки: пол, возраст и зарплата застрахованного, количество членов его семьи.\n",
    "- Целевой признак: количество страховых выплат клиенту за последние 5 лет."
   ]
  },
  {
   "cell_type": "markdown",
   "metadata": {},
   "source": [
    "## Загрузка данных"
   ]
  },
  {
   "cell_type": "code",
   "execution_count": 1,
   "metadata": {},
   "outputs": [],
   "source": [
    "import pandas as pd\n",
    "import numpy as np\n",
    "\n",
    "import matplotlib.pyplot as plt\n",
    "import seaborn as sns\n",
    "\n",
    "from sklearn.metrics import r2_score\n",
    "from sklearn.linear_model import LinearRegression\n",
    "from sklearn.model_selection import train_test_split"
   ]
  },
  {
   "cell_type": "code",
   "execution_count": 2,
   "metadata": {},
   "outputs": [],
   "source": [
    "df = pd.read_csv('/datasets/insurance.csv')"
   ]
  },
  {
   "cell_type": "code",
   "execution_count": 3,
   "metadata": {},
   "outputs": [],
   "source": [
    "def plays(dev):\n",
    "    display(dev.head(5))\n",
    "    print('Датафрейм содержит', dev.shape[0], 'наблюдений и', dev.shape[1], 'признаков')\n",
    "    print()\n",
    "    dev.info()\n",
    "    print()\n",
    "    print('Наличие пропусков:', dev.isna().sum().sum())\n",
    "    print('Наличие повторов:', dev.duplicated().sum())\n",
    "    print()\n",
    "    print(f'Сведения о распределении данных')\n",
    "    print(dev.describe())\n",
    "    print()\n",
    "    print(f'Корреляция данных')\n",
    "    print(dev.corr())\n",
    "    \n",
    "    plt.figure(figsize=(8, 6))\n",
    "    sns.heatmap(dev.corr(), annot=True, vmin=-1, vmax=1, center= 0, cmap= 'Purples', fmt='.1g');\n",
    "    print()"
   ]
  },
  {
   "cell_type": "code",
   "execution_count": 4,
   "metadata": {
    "scrolled": false
   },
   "outputs": [
    {
     "data": {
      "text/html": [
       "<div>\n",
       "<style scoped>\n",
       "    .dataframe tbody tr th:only-of-type {\n",
       "        vertical-align: middle;\n",
       "    }\n",
       "\n",
       "    .dataframe tbody tr th {\n",
       "        vertical-align: top;\n",
       "    }\n",
       "\n",
       "    .dataframe thead th {\n",
       "        text-align: right;\n",
       "    }\n",
       "</style>\n",
       "<table border=\"1\" class=\"dataframe\">\n",
       "  <thead>\n",
       "    <tr style=\"text-align: right;\">\n",
       "      <th></th>\n",
       "      <th>Пол</th>\n",
       "      <th>Возраст</th>\n",
       "      <th>Зарплата</th>\n",
       "      <th>Члены семьи</th>\n",
       "      <th>Страховые выплаты</th>\n",
       "    </tr>\n",
       "  </thead>\n",
       "  <tbody>\n",
       "    <tr>\n",
       "      <th>0</th>\n",
       "      <td>1</td>\n",
       "      <td>41.0</td>\n",
       "      <td>49600.0</td>\n",
       "      <td>1</td>\n",
       "      <td>0</td>\n",
       "    </tr>\n",
       "    <tr>\n",
       "      <th>1</th>\n",
       "      <td>0</td>\n",
       "      <td>46.0</td>\n",
       "      <td>38000.0</td>\n",
       "      <td>1</td>\n",
       "      <td>1</td>\n",
       "    </tr>\n",
       "    <tr>\n",
       "      <th>2</th>\n",
       "      <td>0</td>\n",
       "      <td>29.0</td>\n",
       "      <td>21000.0</td>\n",
       "      <td>0</td>\n",
       "      <td>0</td>\n",
       "    </tr>\n",
       "    <tr>\n",
       "      <th>3</th>\n",
       "      <td>0</td>\n",
       "      <td>21.0</td>\n",
       "      <td>41700.0</td>\n",
       "      <td>2</td>\n",
       "      <td>0</td>\n",
       "    </tr>\n",
       "    <tr>\n",
       "      <th>4</th>\n",
       "      <td>1</td>\n",
       "      <td>28.0</td>\n",
       "      <td>26100.0</td>\n",
       "      <td>0</td>\n",
       "      <td>0</td>\n",
       "    </tr>\n",
       "  </tbody>\n",
       "</table>\n",
       "</div>"
      ],
      "text/plain": [
       "   Пол  Возраст  Зарплата  Члены семьи  Страховые выплаты\n",
       "0    1     41.0   49600.0            1                  0\n",
       "1    0     46.0   38000.0            1                  1\n",
       "2    0     29.0   21000.0            0                  0\n",
       "3    0     21.0   41700.0            2                  0\n",
       "4    1     28.0   26100.0            0                  0"
      ]
     },
     "metadata": {},
     "output_type": "display_data"
    },
    {
     "name": "stdout",
     "output_type": "stream",
     "text": [
      "Датафрейм содержит 5000 наблюдений и 5 признаков\n",
      "\n",
      "<class 'pandas.core.frame.DataFrame'>\n",
      "RangeIndex: 5000 entries, 0 to 4999\n",
      "Data columns (total 5 columns):\n",
      " #   Column             Non-Null Count  Dtype  \n",
      "---  ------             --------------  -----  \n",
      " 0   Пол                5000 non-null   int64  \n",
      " 1   Возраст            5000 non-null   float64\n",
      " 2   Зарплата           5000 non-null   float64\n",
      " 3   Члены семьи        5000 non-null   int64  \n",
      " 4   Страховые выплаты  5000 non-null   int64  \n",
      "dtypes: float64(2), int64(3)\n",
      "memory usage: 195.4 KB\n",
      "\n",
      "Наличие пропусков: 0\n",
      "Наличие повторов: 153\n",
      "\n",
      "Сведения о распределении данных\n",
      "               Пол      Возраст      Зарплата  Члены семьи  Страховые выплаты\n",
      "count  5000.000000  5000.000000   5000.000000  5000.000000        5000.000000\n",
      "mean      0.499000    30.952800  39916.360000     1.194200           0.148000\n",
      "std       0.500049     8.440807   9900.083569     1.091387           0.463183\n",
      "min       0.000000    18.000000   5300.000000     0.000000           0.000000\n",
      "25%       0.000000    24.000000  33300.000000     0.000000           0.000000\n",
      "50%       0.000000    30.000000  40200.000000     1.000000           0.000000\n",
      "75%       1.000000    37.000000  46600.000000     2.000000           0.000000\n",
      "max       1.000000    65.000000  79000.000000     6.000000           5.000000\n",
      "\n",
      "Корреляция данных\n",
      "                        Пол   Возраст  Зарплата  Члены семьи  \\\n",
      "Пол                1.000000  0.002074  0.014910    -0.008991   \n",
      "Возраст            0.002074  1.000000 -0.019093    -0.006692   \n",
      "Зарплата           0.014910 -0.019093  1.000000    -0.030296   \n",
      "Члены семьи       -0.008991 -0.006692 -0.030296     1.000000   \n",
      "Страховые выплаты  0.010140  0.651030 -0.014963    -0.036290   \n",
      "\n",
      "                   Страховые выплаты  \n",
      "Пол                         0.010140  \n",
      "Возраст                     0.651030  \n",
      "Зарплата                   -0.014963  \n",
      "Члены семьи                -0.036290  \n",
      "Страховые выплаты           1.000000  \n",
      "\n"
     ]
    },
    {
     "data": {
      "image/png": "[encoded data removed]",
      "text/plain": [
       "<Figure size 576x432 with 2 Axes>"
      ]
     },
     "metadata": {
      "needs_background": "light"
     },
     "output_type": "display_data"
    }
   ],
   "source": [
    "plays(df)"
   ]
  },
  {
   "cell_type": "markdown",
   "metadata": {},
   "source": [
    "Удаляем повторы:"
   ]
  },
  {
   "cell_type": "code",
   "execution_count": 5,
   "metadata": {},
   "outputs": [],
   "source": [
    "df = df.drop_duplicates()"
   ]
  },
  {
   "cell_type": "markdown",
   "metadata": {},
   "source": [
    "**Вывод:**\n",
    "- Датафрейм содержит 5000 наблюдений и 5 признаков\n",
    "- Наличие пропусков: 0\n",
    "- Наличие повторов: 153\n",
    "- Данные распределены нормально, аномалий и выбросов нет\n",
    "- Имеется высокая корреляция признака \"Возраст\" на целевой признак, остальные признаки влияния не оказывают.\n",
    "\n",
    "Повторы удалены, данные готовы к дальнейшей работе."
   ]
  },
  {
   "cell_type": "markdown",
   "metadata": {},
   "source": [
    "## Умножение матриц"
   ]
  },
  {
   "cell_type": "markdown",
   "metadata": {},
   "source": [
    "Обозначения:\n",
    "\n",
    "- $X$ — матрица признаков (нулевой столбец состоит из единиц)\n",
    "\n",
    "- $y$ — вектор целевого признака\n",
    "\n",
    "- $P$ — матрица, на которую умножаются признаки\n",
    "\n",
    "- $w$ — вектор весов линейной регрессии (нулевой элемент равен сдвигу)\n",
    "\n",
    "- $E$ - единичная матрица"
   ]
  },
  {
   "cell_type": "markdown",
   "metadata": {},
   "source": [
    "Предсказания:\n",
    "\n",
    "$$\n",
    "a = Xw\n",
    "$$\n",
    "\n",
    "Задача обучения:\n",
    "\n",
    "$$\n",
    "w = \\arg\\min_w MSE(Xw, y)\n",
    "$$\n",
    "\n",
    "Формула обучения:\n",
    "\n",
    "$$\n",
    "w = (X^T X)^{-1} X^T y\n",
    "$$"
   ]
  },
  {
   "cell_type": "markdown",
   "metadata": {},
   "source": [
    "**Ответ:** Качество линейной регресии после кодирования не измениться\n",
    "\n",
    "**Обоснование:**  У линейной регрессии признаки — это вектор чисел в n-мерном пространстве. Предсказание модели вычисляется так: скалярно умножается вектор признаков на вектор весов , затем к этому произведению прибавляется величина сдвига предсказания. Отсюда следует, что умножение признаков на обратимый вектор не изменит предсказание модели."
   ]
  },
  {
   "cell_type": "markdown",
   "metadata": {},
   "source": [
    "Воспользуемся свойством матрицы\n",
    "$$E = AA^T$$ \n",
    "$$E = AA^{-1}$$ \n",
    "$$ AE = EA = A$$\n",
    "$$ E^T = E$$\n",
    "$$E^{-1} = E$$\n",
    "\n",
    "$$(A^T)^{-1} = (A^{-1})^T$$"
   ]
  },
  {
   "cell_type": "markdown",
   "metadata": {},
   "source": [
    "Решение:\n",
    "$$w' = ((XP)^T XP)^{-1} (XP)^T y = (P^T X^T X P)^{-1} P^T X^T y = $$\n",
    "$$ (AB)^T=B^T A^T $$\n",
    "$$(AB)^{-1} = B^{-1} A^{-1} $$\n",
    "$$= P^{-1}(X^T X )^{-1} (P^T)^{-1} P^T X^T y =  $$\n",
    "$$(P^T)^{-1} P^T$$\n",
    "$$= P^{-1}(X^T X )^{-1} X^T y =  P^{-1} w $$\n",
    "$$a = Xw = XEw = XPP^{-1}w = (XP)P^{-1}w = (XP)w'$$"
   ]
  },
  {
   "cell_type": "markdown",
   "metadata": {},
   "source": [
    "## Алгоритм преобразования"
   ]
  },
  {
   "cell_type": "markdown",
   "metadata": {},
   "source": [
    "**Алгоритм**\n",
    "\n",
    "Для защиты данных можно использовать метод умножения данных на обратимую матрицу, по размерам совпадающую с размерами матрицы признаков"
   ]
  },
  {
   "cell_type": "markdown",
   "metadata": {},
   "source": [
    "- Создаем случайную матрицу Z размера nхn, где n - это количество признаков.\n",
    "- Проверяем ее на обратимость - вычисляем детерминант. Если он не равен 0 - матрица обратима.\n",
    "- Перемножаем первоначальную матрицу A и Z и далее работаем с результатом - зашифрованной матрицей A_Z.\n",
    "- Для восстановления матрицы A нужно зашифрованную матрицу A_Z умножить на обратную к Z"
   ]
  },
  {
   "cell_type": "markdown",
   "metadata": {},
   "source": [
    "**Обоснование**"
   ]
  },
  {
   "cell_type": "code",
   "execution_count": 6,
   "metadata": {},
   "outputs": [
    {
     "data": {
      "text/plain": [
       "array([[ 1,  2,  3,  4],\n",
       "       [11, 12, 13, 14],\n",
       "       [21, 22, 23, 24],\n",
       "       [31, 32, 33, 34]])"
      ]
     },
     "execution_count": 6,
     "metadata": {},
     "output_type": "execute_result"
    }
   ],
   "source": [
    "#создадим матрицу для проверки теории\n",
    "A = np.array([[1, 2, 3, 4], [11, 12, 13, 14], [21, 22, 23, 24], [31, 32, 33, 34]])\n",
    "A"
   ]
  },
  {
   "cell_type": "code",
   "execution_count": 7,
   "metadata": {},
   "outputs": [
    {
     "data": {
      "text/plain": [
       "array([[-0.60590772,  0.19169494,  0.43522442,  0.26215258],\n",
       "       [ 0.27532753,  0.33106445,  1.44872551, -0.92462718],\n",
       "       [ 0.08304296,  0.49260858,  0.49513212,  0.21065936],\n",
       "       [-1.60427213,  0.87084947, -1.06633741,  0.00699572]])"
      ]
     },
     "execution_count": 7,
     "metadata": {},
     "output_type": "execute_result"
    }
   ],
   "source": [
    "Z = np.random.normal(size = (4,4)) #создаем рандомную матрицу для шифрования\n",
    "Z"
   ]
  },
  {
   "cell_type": "code",
   "execution_count": 8,
   "metadata": {},
   "outputs": [
    {
     "data": {
      "text/plain": [
       "-1.1473314871072982"
      ]
     },
     "execution_count": 8,
     "metadata": {},
     "output_type": "execute_result"
    }
   ],
   "source": [
    "np.linalg.det(Z) #вычисляем детерминант"
   ]
  },
  {
   "cell_type": "code",
   "execution_count": 9,
   "metadata": {},
   "outputs": [
    {
     "data": {
      "text/plain": [
       "array([[ -6.2232123 ,   5.81504744,   0.55272215,  -0.92714084],\n",
       "       [-24.74130586,  24.67722175,  13.6801685 ,  -5.37533607],\n",
       "       [-43.25939942,  43.53939606,  26.80761485,  -9.8235313 ],\n",
       "       [-61.77749298,  62.40157037,  39.9350612 , -14.27172653]])"
      ]
     },
     "execution_count": 9,
     "metadata": {},
     "output_type": "execute_result"
    }
   ],
   "source": [
    "A_Z = A @ Z #зашифровываем данные\n",
    "A_Z"
   ]
  },
  {
   "cell_type": "code",
   "execution_count": 10,
   "metadata": {},
   "outputs": [
    {
     "data": {
      "text/plain": [
       "array([[ 1.,  2.,  3.,  4.],\n",
       "       [11., 12., 13., 14.],\n",
       "       [21., 22., 23., 24.],\n",
       "       [31., 32., 33., 34.]])"
      ]
     },
     "execution_count": 10,
     "metadata": {},
     "output_type": "execute_result"
    }
   ],
   "source": [
    "A_Z @ np.linalg.inv(Z) #расшифруем данные путем умножения на обратную Z"
   ]
  },
  {
   "cell_type": "markdown",
   "metadata": {},
   "source": [
    "**Вывод:**\n",
    "Данный метод можно использовать для шифрования данных"
   ]
  },
  {
   "cell_type": "markdown",
   "metadata": {},
   "source": [
    "## Проверка алгоритма"
   ]
  },
  {
   "cell_type": "markdown",
   "metadata": {},
   "source": [
    "Обучим линейную регрессию на незашифрованных данных и оценим качество."
   ]
  },
  {
   "cell_type": "code",
   "execution_count": 11,
   "metadata": {},
   "outputs": [],
   "source": [
    "features = df.drop(['Страховые выплаты'], axis=1)\n",
    "target = df['Страховые выплаты'] \n",
    "features_train, features_valid, target_train, target_valid = train_test_split(\n",
    "    features, target, test_size=0.25, random_state=12345)"
   ]
  },
  {
   "cell_type": "code",
   "execution_count": 12,
   "metadata": {},
   "outputs": [
    {
     "name": "stdout",
     "output_type": "stream",
     "text": [
      "R2 модели линейной регрессии на валидационной выборке: 0.423\n"
     ]
    }
   ],
   "source": [
    "model = LinearRegression() \n",
    "model.fit(features_train, target_train) \n",
    "predictions_valid = model.predict(features_valid)\n",
    "\n",
    "result = r2_score(target_valid, predictions_valid)  \n",
    "print(f'R2 модели линейной регрессии на валидационной выборке: {result:,.3f}')"
   ]
  },
  {
   "cell_type": "markdown",
   "metadata": {},
   "source": [
    "Обучим линейную регрессию на зашифрованных данных и оценим качество."
   ]
  },
  {
   "cell_type": "code",
   "execution_count": 13,
   "metadata": {},
   "outputs": [],
   "source": [
    "features_z = features.dot(Z)\n",
    "target_z = df['Страховые выплаты']"
   ]
  },
  {
   "cell_type": "code",
   "execution_count": 14,
   "metadata": {},
   "outputs": [],
   "source": [
    "features_train_z, features_valid_z, target_train_z, target_valid_z = train_test_split(\n",
    "    features_z, target_z, test_size=0.25, random_state=12345)"
   ]
  },
  {
   "cell_type": "code",
   "execution_count": 15,
   "metadata": {},
   "outputs": [
    {
     "name": "stdout",
     "output_type": "stream",
     "text": [
      "R2 модели линейной регрессии на валидационной выборке: 0.423\n"
     ]
    }
   ],
   "source": [
    "model = LinearRegression() \n",
    "model.fit(features_train_z, target_train_z) \n",
    "predictions_valid = model.predict(features_valid_z)\n",
    "\n",
    "result = r2_score(target_valid_z, predictions_valid)  \n",
    "print(f'R2 модели линейной регрессии на валидационной выборке: {result:,.3f}')"
   ]
  },
  {
   "cell_type": "markdown",
   "metadata": {},
   "source": [
    "**Вывод:**\n",
    "    Качество не изменилось. Можно использовать наш алгоритм для шифрования данных."
   ]
  }
 ],
 "metadata": {
  "ExecuteTimeLog": [
   {
    "duration": 2,
    "start_time": "2022-06-15T05:27:39.418Z"
   },
   {
    "duration": 29,
    "start_time": "2022-06-15T05:27:40.080Z"
   },
   {
    "duration": 6,
    "start_time": "2022-06-15T05:32:51.765Z"
   },
   {
    "duration": 135,
    "start_time": "2022-06-15T05:33:05.276Z"
   },
   {
    "duration": 397,
    "start_time": "2022-06-15T05:33:47.070Z"
   },
   {
    "duration": 5,
    "start_time": "2022-06-15T05:33:50.182Z"
   },
   {
    "duration": 53,
    "start_time": "2022-06-15T05:33:50.826Z"
   },
   {
    "duration": 56,
    "start_time": "2022-06-15T05:34:16.086Z"
   },
   {
    "duration": 55,
    "start_time": "2022-06-15T05:34:20.102Z"
   },
   {
    "duration": 7,
    "start_time": "2022-06-15T05:34:39.515Z"
   },
   {
    "duration": 452,
    "start_time": "2022-06-15T05:34:40.249Z"
   },
   {
    "duration": 22,
    "start_time": "2022-06-15T05:40:39.405Z"
   },
   {
    "duration": 416,
    "start_time": "2022-06-15T05:40:41.008Z"
   },
   {
    "duration": 6,
    "start_time": "2022-06-15T05:41:08.999Z"
   },
   {
    "duration": 7196,
    "start_time": "2022-06-15T05:41:09.787Z"
   },
   {
    "duration": 4,
    "start_time": "2022-06-15T05:46:17.372Z"
   },
   {
    "duration": 420,
    "start_time": "2022-06-15T05:46:17.862Z"
   },
   {
    "duration": 10,
    "start_time": "2022-06-15T16:17:28.468Z"
   },
   {
    "duration": 43,
    "start_time": "2022-06-15T16:18:38.418Z"
   },
   {
    "duration": 4,
    "start_time": "2022-06-15T16:20:49.214Z"
   },
   {
    "duration": 27,
    "start_time": "2022-06-15T16:20:50.322Z"
   },
   {
    "duration": 5,
    "start_time": "2022-06-15T16:20:50.758Z"
   },
   {
    "duration": 441,
    "start_time": "2022-06-15T16:20:51.338Z"
   },
   {
    "duration": 6,
    "start_time": "2022-06-15T16:20:58.560Z"
   },
   {
    "duration": 9,
    "start_time": "2022-06-15T16:21:15.675Z"
   },
   {
    "duration": 32,
    "start_time": "2022-06-15T16:21:59.045Z"
   },
   {
    "duration": 19,
    "start_time": "2022-06-15T16:22:12.321Z"
   },
   {
    "duration": 34,
    "start_time": "2022-06-15T16:22:30.463Z"
   },
   {
    "duration": 18,
    "start_time": "2022-06-15T16:23:13.228Z"
   },
   {
    "duration": 38,
    "start_time": "2022-06-15T16:23:37.045Z"
   },
   {
    "duration": 9,
    "start_time": "2022-06-15T16:24:56.781Z"
   },
   {
    "duration": 4,
    "start_time": "2022-06-15T16:29:36.586Z"
   },
   {
    "duration": 4,
    "start_time": "2022-06-15T16:30:38.460Z"
   },
   {
    "duration": 4,
    "start_time": "2022-06-15T16:32:05.421Z"
   },
   {
    "duration": 10,
    "start_time": "2022-06-15T16:36:02.954Z"
   },
   {
    "duration": 5,
    "start_time": "2022-06-15T16:36:05.841Z"
   },
   {
    "duration": 5,
    "start_time": "2022-06-15T16:36:07.288Z"
   },
   {
    "duration": 9,
    "start_time": "2022-06-15T16:37:00.584Z"
   },
   {
    "duration": 11,
    "start_time": "2022-06-15T16:51:29.871Z"
   },
   {
    "duration": 3,
    "start_time": "2022-06-15T16:51:55.002Z"
   },
   {
    "duration": 6,
    "start_time": "2022-06-15T16:52:03.908Z"
   },
   {
    "duration": 4,
    "start_time": "2022-06-15T16:52:16.085Z"
   },
   {
    "duration": 5,
    "start_time": "2022-06-15T16:52:34.475Z"
   },
   {
    "duration": 5,
    "start_time": "2022-06-15T16:53:31.403Z"
   },
   {
    "duration": 4,
    "start_time": "2022-06-15T16:53:51.550Z"
   },
   {
    "duration": 4,
    "start_time": "2022-06-15T16:54:28.021Z"
   },
   {
    "duration": 3,
    "start_time": "2022-06-15T16:54:49.502Z"
   },
   {
    "duration": 5,
    "start_time": "2022-06-15T16:54:55.965Z"
   },
   {
    "duration": 6,
    "start_time": "2022-06-15T16:55:50.423Z"
   },
   {
    "duration": 6,
    "start_time": "2022-06-15T16:56:56.874Z"
   },
   {
    "duration": 3,
    "start_time": "2022-06-15T17:01:35.015Z"
   },
   {
    "duration": 6,
    "start_time": "2022-06-15T17:01:35.711Z"
   },
   {
    "duration": 10,
    "start_time": "2022-06-15T17:01:36.445Z"
   },
   {
    "duration": 5,
    "start_time": "2022-06-15T17:04:07.344Z"
   },
   {
    "duration": 1331,
    "start_time": "2022-06-16T13:23:32.747Z"
   },
   {
    "duration": 81,
    "start_time": "2022-06-16T13:23:34.080Z"
   },
   {
    "duration": 4,
    "start_time": "2022-06-16T13:23:34.162Z"
   },
   {
    "duration": 412,
    "start_time": "2022-06-16T13:23:34.168Z"
   },
   {
    "duration": 9,
    "start_time": "2022-06-16T13:23:34.582Z"
   },
   {
    "duration": 4,
    "start_time": "2022-06-16T13:23:34.593Z"
   },
   {
    "duration": 5,
    "start_time": "2022-06-16T13:23:34.598Z"
   },
   {
    "duration": 5,
    "start_time": "2022-06-16T13:23:34.605Z"
   },
   {
    "duration": 5,
    "start_time": "2022-06-16T13:23:34.611Z"
   },
   {
    "duration": 5,
    "start_time": "2022-06-16T13:23:34.617Z"
   },
   {
    "duration": 68,
    "start_time": "2022-06-16T13:23:34.623Z"
   },
   {
    "duration": 9,
    "start_time": "2022-06-16T13:23:34.693Z"
   },
   {
    "duration": 88,
    "start_time": "2022-06-16T13:23:34.703Z"
   },
   {
    "duration": 3,
    "start_time": "2022-06-16T13:23:34.794Z"
   },
   {
    "duration": 9,
    "start_time": "2022-06-16T13:23:34.799Z"
   }
  ],
  "kernelspec": {
   "display_name": "Python 3 (ipykernel)",
   "language": "python",
   "name": "python3"
  },
  "language_info": {
   "codemirror_mode": {
    "name": "ipython",
    "version": 3
   },
   "file_extension": ".py",
   "mimetype": "text/x-python",
   "name": "python",
   "nbconvert_exporter": "python",
   "pygments_lexer": "ipython3",
   "version": "3.9.12"
  },
  "toc": {
   "base_numbering": 1,
   "nav_menu": {},
   "number_sections": true,
   "sideBar": true,
   "skip_h1_title": true,
   "title_cell": "Содержание",
   "title_sidebar": "Contents",
   "toc_cell": true,
   "toc_position": {
    "height": "calc(100% - 180px)",
    "left": "10px",
    "top": "150px",
    "width": "165px"
   },
   "toc_section_display": true,
   "toc_window_display": true
  }
 },
 "nbformat": 4,
 "nbformat_minor": 2
}
