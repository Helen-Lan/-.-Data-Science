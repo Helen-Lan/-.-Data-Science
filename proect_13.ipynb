{
 "cells": [
  {
   "cell_type": "markdown",
   "metadata": {
    "toc": true
   },
   "source": [
    "<h1>Содержание<span class=\"tocSkip\"></span></h1>\n",
    "<div class=\"toc\"><ul class=\"toc-item\"><li><span><a href=\"#Подготовка\" data-toc-modified-id=\"Подготовка-1\"><span class=\"toc-item-num\">1&nbsp;&nbsp;</span>Подготовка</a></span></li><li><span><a href=\"#Обучение\" data-toc-modified-id=\"Обучение-2\"><span class=\"toc-item-num\">2&nbsp;&nbsp;</span>Обучение</a></span><ul class=\"toc-item\"><li><span><a href=\"#Обучающая-выборка\" data-toc-modified-id=\"Обучающая-выборка-2.1\"><span class=\"toc-item-num\">2.1&nbsp;&nbsp;</span>Обучающая выборка</a></span></li><li><span><a href=\"#Тестовая-выборка\" data-toc-modified-id=\"Тестовая-выборка-2.2\"><span class=\"toc-item-num\">2.2&nbsp;&nbsp;</span>Тестовая выборка</a></span></li></ul></li><li><span><a href=\"#Выводы\" data-toc-modified-id=\"Выводы-3\"><span class=\"toc-item-num\">3&nbsp;&nbsp;</span>Выводы</a></span></li><li><span><a href=\"#Чек-лист-проверки\" data-toc-modified-id=\"Чек-лист-проверки-4\"><span class=\"toc-item-num\">4&nbsp;&nbsp;</span>Чек-лист проверки</a></span></li></ul></div>"
   ]
  },
  {
   "cell_type": "markdown",
   "metadata": {},
   "source": [
    "# Проект для «Викишоп»"
   ]
  },
  {
   "cell_type": "markdown",
   "metadata": {},
   "source": [
    "Интернет-магазин «Викишоп» запускает новый сервис. Теперь пользователи могут редактировать и дополнять описания товаров, как в вики-сообществах. То есть клиенты предлагают свои правки и комментируют изменения других. Магазину нужен инструмент, который будет искать токсичные комментарии и отправлять их на модерацию. \n",
    "\n",
    "Обучите модель классифицировать комментарии на позитивные и негативные. В вашем распоряжении набор данных с разметкой о токсичности правок.\n",
    "\n",
    "Постройте модель со значением метрики качества *F1* не меньше 0.75. \n",
    "\n",
    "**План по выполнению проекта**\n",
    "\n",
    "1. Загрузка и подготовка данных.\n",
    "2. Обучение моделей.\n",
    "3. Тестирование лучшей модели\n",
    "4. Выводы.\n",
    "\n",
    "\n",
    "**Описание данных**\n",
    "\n",
    "Данные находятся в файле `toxic_comments.csv`. Столбец *text* в нём содержит текст комментария, а *toxic* — целевой признак."
   ]
  },
  {
   "cell_type": "markdown",
   "metadata": {},
   "source": [
    "## Подготовка"
   ]
  },
  {
   "cell_type": "code",
   "execution_count": 48,
   "metadata": {
    "scrolled": false
   },
   "outputs": [],
   "source": [
    "#! pip install lightgbm\n",
    "#!pip install -qq catboost\n",
    "#! pip install spacy\n",
    "#!python -m spacy download en"
   ]
  },
  {
   "cell_type": "code",
   "execution_count": 1,
   "metadata": {},
   "outputs": [],
   "source": [
    "import numpy as np\n",
    "import pandas as pd\n",
    "\n",
    "import nltk\n",
    "\n",
    "from nltk.corpus import stopwords as nltk_stopwords\n",
    "from sklearn.feature_extraction.text import TfidfVectorizer\n",
    "import spacy\n",
    "import re\n",
    "from sklearn.svm import SVC\n",
    "from sklearn.pipeline import Pipeline\n",
    "\n",
    "from sklearn.model_selection import train_test_split, cross_val_score, GridSearchCV\n",
    "from sklearn.feature_extraction.text import CountVectorizer\n",
    "\n",
    "from sklearn.linear_model import LogisticRegression\n",
    "from sklearn.neighbors import KNeighborsClassifier\n",
    "from sklearn.naive_bayes import MultinomialNB\n",
    "import lightgbm\n",
    "from catboost import CatBoostClassifier\n",
    "from lightgbm import LGBMClassifier\n",
    "from sklearn.dummy import DummyClassifier\n",
    "\n",
    "from sklearn.metrics import f1_score\n",
    "from sklearn.utils import shuffle\n",
    "\n",
    "import matplotlib.pyplot as plt\n",
    "import seaborn as sns\n",
    "\n",
    "import warnings\n",
    "warnings.filterwarnings('ignore')"
   ]
  },
  {
   "cell_type": "code",
   "execution_count": 21,
   "metadata": {},
   "outputs": [],
   "source": [
    "data = pd.read_csv('/datasets/toxic_comments.csv')"
   ]
  },
  {
   "cell_type": "code",
   "execution_count": 22,
   "metadata": {
    "scrolled": false
   },
   "outputs": [
    {
     "name": "stdout",
     "output_type": "stream",
     "text": [
      "<class 'pandas.core.frame.DataFrame'>\n",
      "RangeIndex: 159571 entries, 0 to 159570\n",
      "Data columns (total 2 columns):\n",
      " #   Column  Non-Null Count   Dtype \n",
      "---  ------  --------------   ----- \n",
      " 0   text    159571 non-null  object\n",
      " 1   toxic   159571 non-null  int64 \n",
      "dtypes: int64(1), object(1)\n",
      "memory usage: 2.4+ MB\n",
      "Количество признаков: 2 , количество наблюдений: 159571\n"
     ]
    }
   ],
   "source": [
    "data.info()\n",
    "print('Количество признаков:', data.shape[1], ', количество наблюдений:', data.shape[0])"
   ]
  },
  {
   "cell_type": "code",
   "execution_count": 23,
   "metadata": {
    "scrolled": true
   },
   "outputs": [
    {
     "data": {
      "text/html": [
       "<div>\n",
       "<style scoped>\n",
       "    .dataframe tbody tr th:only-of-type {\n",
       "        vertical-align: middle;\n",
       "    }\n",
       "\n",
       "    .dataframe tbody tr th {\n",
       "        vertical-align: top;\n",
       "    }\n",
       "\n",
       "    .dataframe thead th {\n",
       "        text-align: right;\n",
       "    }\n",
       "</style>\n",
       "<table border=\"1\" class=\"dataframe\">\n",
       "  <thead>\n",
       "    <tr style=\"text-align: right;\">\n",
       "      <th></th>\n",
       "      <th>text</th>\n",
       "      <th>toxic</th>\n",
       "    </tr>\n",
       "  </thead>\n",
       "  <tbody>\n",
       "    <tr>\n",
       "      <th>0</th>\n",
       "      <td>Explanation\\nWhy the edits made under my usern...</td>\n",
       "      <td>0</td>\n",
       "    </tr>\n",
       "    <tr>\n",
       "      <th>1</th>\n",
       "      <td>D'aww! He matches this background colour I'm s...</td>\n",
       "      <td>0</td>\n",
       "    </tr>\n",
       "    <tr>\n",
       "      <th>2</th>\n",
       "      <td>Hey man, I'm really not trying to edit war. It...</td>\n",
       "      <td>0</td>\n",
       "    </tr>\n",
       "    <tr>\n",
       "      <th>3</th>\n",
       "      <td>\"\\nMore\\nI can't make any real suggestions on ...</td>\n",
       "      <td>0</td>\n",
       "    </tr>\n",
       "    <tr>\n",
       "      <th>4</th>\n",
       "      <td>You, sir, are my hero. Any chance you remember...</td>\n",
       "      <td>0</td>\n",
       "    </tr>\n",
       "  </tbody>\n",
       "</table>\n",
       "</div>"
      ],
      "text/plain": [
       "                                                text  toxic\n",
       "0  Explanation\\nWhy the edits made under my usern...      0\n",
       "1  D'aww! He matches this background colour I'm s...      0\n",
       "2  Hey man, I'm really not trying to edit war. It...      0\n",
       "3  \"\\nMore\\nI can't make any real suggestions on ...      0\n",
       "4  You, sir, are my hero. Any chance you remember...      0"
      ]
     },
     "metadata": {},
     "output_type": "display_data"
    }
   ],
   "source": [
    "display(data.head(5))"
   ]
  },
  {
   "cell_type": "code",
   "execution_count": 24,
   "metadata": {},
   "outputs": [
    {
     "data": {
      "text/html": [
       "<div>\n",
       "<style scoped>\n",
       "    .dataframe tbody tr th:only-of-type {\n",
       "        vertical-align: middle;\n",
       "    }\n",
       "\n",
       "    .dataframe tbody tr th {\n",
       "        vertical-align: top;\n",
       "    }\n",
       "\n",
       "    .dataframe thead th {\n",
       "        text-align: right;\n",
       "    }\n",
       "</style>\n",
       "<table border=\"1\" class=\"dataframe\">\n",
       "  <thead>\n",
       "    <tr style=\"text-align: right;\">\n",
       "      <th></th>\n",
       "      <th>toxic</th>\n",
       "      <th>text</th>\n",
       "    </tr>\n",
       "  </thead>\n",
       "  <tbody>\n",
       "    <tr>\n",
       "      <th>0</th>\n",
       "      <td>0</td>\n",
       "      <td>143346</td>\n",
       "    </tr>\n",
       "    <tr>\n",
       "      <th>1</th>\n",
       "      <td>1</td>\n",
       "      <td>16225</td>\n",
       "    </tr>\n",
       "  </tbody>\n",
       "</table>\n",
       "</div>"
      ],
      "text/plain": [
       "   toxic    text\n",
       "0      0  143346\n",
       "1      1   16225"
      ]
     },
     "execution_count": 24,
     "metadata": {},
     "output_type": "execute_result"
    }
   ],
   "source": [
    "data_pie = data.groupby('toxic').count().reset_index()\n",
    "data_pie"
   ]
  },
  {
   "cell_type": "code",
   "execution_count": 25,
   "metadata": {},
   "outputs": [
    {
     "data": {
      "image/png": "[encoded data removed]",
      "text/plain": [
       "<Figure size 360x360 with 1 Axes>"
      ]
     },
     "metadata": {},
     "output_type": "display_data"
    }
   ],
   "source": [
    "fig, (ax) = plt.subplots(figsize = (5,5))\n",
    "plt.style.use('ggplot')\n",
    "ax.pie(data_pie['text'], labels = data_pie['toxic'], autopct='%1.1f%%', explode=[0.2, 0], colors=[\"#99d8c9\", \"#756bb1\"])\n",
    "\n",
    "ax.set_title('Количество значений');"
   ]
  },
  {
   "cell_type": "markdown",
   "metadata": {},
   "source": [
    "- Нам представлен датафрейм текстовых комментариев на английском языке, содержащий 159571 наблюдений и 2 признака.\n",
    "- Целевой признак - токсичность комментария. Датафрейм содержит 10,2% наблюдения, где признак 1(положительный) и 89,8% наблюдений с нулевым признаком."
   ]
  },
  {
   "cell_type": "markdown",
   "metadata": {},
   "source": [
    "Для работы с текстовыми данными необходимо исходный текст лемматизировать и очистить:"
   ]
  },
  {
   "cell_type": "code",
   "execution_count": 26,
   "metadata": {},
   "outputs": [],
   "source": [
    "nlp = spacy.load('en_core_web_sm') # инициируем модель\n",
    "\n",
    "def lemma_clear_text(text): # лемматизация и очистка текста\n",
    "    text = text.lower() #преобразовываем в нижний регистр\n",
    "    doc = nlp(text) # лемматизируем текст\n",
    "    lemm_text = \" \".join([token.lemma_ for token in doc]) \n",
    "    clear_text = re.sub(r'[^a-zA-Z]', ' ', lemm_text) \n",
    "    \n",
    "    return \" \".join(clear_text.split())"
   ]
  },
  {
   "cell_type": "code",
   "execution_count": 27,
   "metadata": {},
   "outputs": [
    {
     "name": "stdout",
     "output_type": "stream",
     "text": [
      "CPU times: user 34min 9s, sys: 2.48 s, total: 34min 12s\n",
      "Wall time: 34min 13s\n"
     ]
    }
   ],
   "source": [
    "%%time\n",
    "# полная выборка\n",
    "data['lemm_text'] = data['text'].apply(lemma_clear_text)\n",
    "data = data.drop(['text'], axis=1)"
   ]
  },
  {
   "cell_type": "markdown",
   "metadata": {},
   "source": [
    "**Мы подготовим 2 набора обучающих и тестовых выборок:**\n",
    "1. Полная выборка с CountVectorizer\n",
    "2. Сбалансированная выборка с TfidfVectorizer"
   ]
  },
  {
   "cell_type": "markdown",
   "metadata": {},
   "source": [
    "Разделим данные на обучающую и тестовую выборку 9/1:"
   ]
  },
  {
   "cell_type": "code",
   "execution_count": 28,
   "metadata": {},
   "outputs": [
    {
     "name": "stdout",
     "output_type": "stream",
     "text": [
      "(143613, 2) (15958, 2)\n"
     ]
    }
   ],
   "source": [
    "data_train, data_test = train_test_split(data, test_size=0.10, random_state=15456)\n",
    "print(data_train.shape, data_test.shape)"
   ]
  },
  {
   "cell_type": "code",
   "execution_count": 29,
   "metadata": {},
   "outputs": [],
   "source": [
    "del data #удаляем лишние данные"
   ]
  },
  {
   "cell_type": "markdown",
   "metadata": {},
   "source": [
    "Сбалансируем обучающую выборку методом downsampling:"
   ]
  },
  {
   "cell_type": "code",
   "execution_count": 30,
   "metadata": {},
   "outputs": [
    {
     "name": "stdout",
     "output_type": "stream",
     "text": [
      " количество значений toxic=0: 129022\n",
      " количество значений toxic=1: 14591\n",
      "доля 0.11308924059462727\n"
     ]
    }
   ],
   "source": [
    "train_zeros = data_train.query('toxic == 0') # нулевые значения toxic\n",
    "train_ones = data_train.query('toxic != 0') # значения toxic равны 1\n",
    "print(f' количество значений toxic=0: {train_zeros.shape[0]}')\n",
    "print(f' количество значений toxic=1: {train_ones.shape[0]}')\n",
    "print(f'доля {train_ones.shape[0]/train_zeros.shape[0]}')\n",
    "     "
   ]
  },
  {
   "cell_type": "code",
   "execution_count": 31,
   "metadata": {
    "scrolled": false
   },
   "outputs": [
    {
     "name": "stdout",
     "output_type": "stream",
     "text": [
      "       lemm_text\n",
      "toxic           \n",
      "0          14591\n",
      "1          14591\n"
     ]
    }
   ],
   "source": [
    "# отбираем случайные данные из train_zeros и объединяем с train_ones\n",
    "train_downsampled = pd.concat([train_zeros.sample(frac=(train_ones.shape[0]/train_zeros.shape[0]),\n",
    "                                                  random_state=12345)] + [train_ones])\n",
    "train_downsampled = shuffle(train_downsampled, random_state=359) # перемешиваем\n",
    "print(train_downsampled.groupby('toxic').count()) # проверяем"
   ]
  },
  {
   "cell_type": "code",
   "execution_count": 32,
   "metadata": {},
   "outputs": [
    {
     "name": "stdout",
     "output_type": "stream",
     "text": [
      "        toxic                                          lemm_text\n",
      "78664       0  remove image again abu badali if you continue ...\n",
      "48258       0  kenya please do not add nonsense to wikipedia ...\n",
      "60327       0  I ll have to say that if the purpose of post t...\n",
      "92666       0  you may be uninterested but wikipedia be you c...\n",
      "135622      0  wikipedia coi policy chip you probably do not ... (143613, 2)\n"
     ]
    }
   ],
   "source": [
    "print(data_train.shape, data_train.head(5)) #проверяем. полная выбрка"
   ]
  },
  {
   "cell_type": "code",
   "execution_count": 33,
   "metadata": {},
   "outputs": [
    {
     "name": "stdout",
     "output_type": "stream",
     "text": [
      "        toxic                                          lemm_text\n",
      "100423      1  cesc fabregas I see it be be change that he no...\n",
      "105537      0  yes thank I guess user be not go to stop the o...\n",
      "130929      1  oh ouch moreschi and ryanpostlethwaite fucking...\n",
      "13945       1  I h u I h u u suck ur a nerd w nothing well do...\n",
      "71181       1                           ooh I be scared fuck you (29182, 2)\n"
     ]
    }
   ],
   "source": [
    "print( train_downsampled.shape, train_downsampled.head(5))  #проверяем. сокращенная выборка"
   ]
  },
  {
   "cell_type": "code",
   "execution_count": 34,
   "metadata": {},
   "outputs": [
    {
     "name": "stdout",
     "output_type": "stream",
     "text": [
      "        toxic                                          lemm_text\n",
      "139742      0  no personal attack I appologize to the girl fo...\n",
      "40961       0  frankly I find it ridiculous that hand s notab...\n",
      "25822       0                  cooking pasteurising freezing etc\n",
      "45462       0               only a fool turn his back on history\n",
      "16766       1  any chance I can get this shorten I ll admit I... (15958, 2)\n"
     ]
    }
   ],
   "source": [
    "print(data_test.shape, data_test.head(5)) #проверяем. тестовая выборка выборка"
   ]
  },
  {
   "cell_type": "markdown",
   "metadata": {},
   "source": [
    "Подготовим features_test и target_test для тестирования"
   ]
  },
  {
   "cell_type": "code",
   "execution_count": 37,
   "metadata": {},
   "outputs": [
    {
     "name": "stdout",
     "output_type": "stream",
     "text": [
      "(15958,) (15958, 1)\n"
     ]
    }
   ],
   "source": [
    "target_test = data_test['toxic']\n",
    "features_test = data_test.drop(['toxic'], axis=1)\n",
    "print(target_test.shape, features_test.shape)"
   ]
  },
  {
   "cell_type": "markdown",
   "metadata": {},
   "source": [
    "Подготовим features_train и target для обучения (сбалансированная выборка)"
   ]
  },
  {
   "cell_type": "code",
   "execution_count": 36,
   "metadata": {
    "scrolled": true
   },
   "outputs": [
    {
     "name": "stdout",
     "output_type": "stream",
     "text": [
      "(29182,) (29182, 1)\n"
     ]
    }
   ],
   "source": [
    "target = train_downsampled['toxic']\n",
    "features_train = train_downsampled.drop(['toxic'], axis=1)\n",
    "print(target.shape, features_train.shape)"
   ]
  },
  {
   "cell_type": "markdown",
   "metadata": {},
   "source": [
    "Расчитаем матрицы tf_idf:"
   ]
  },
  {
   "cell_type": "code",
   "execution_count": 38,
   "metadata": {},
   "outputs": [
    {
     "name": "stderr",
     "output_type": "stream",
     "text": [
      "[nltk_data] Downloading package stopwords to /home/jovyan/nltk_data...\n",
      "[nltk_data]   Package stopwords is already up-to-date!\n"
     ]
    },
    {
     "name": "stdout",
     "output_type": "stream",
     "text": [
      "Размер матрицы test: (15958, 50162)\n",
      "Размер матрицы train: (29182, 50162)\n"
     ]
    }
   ],
   "source": [
    "nltk.download('stopwords')\n",
    "stopwords = set(nltk_stopwords.words('english'))\n",
    "\n",
    "count_tf_idf = TfidfVectorizer(stop_words=stopwords)\n",
    "\n",
    "tf_idf_train = count_tf_idf.fit_transform(features_train['lemm_text']) \n",
    "tf_idf_test = count_tf_idf.transform(features_test['lemm_text']) \n",
    "print(\"Размер матрицы test:\", tf_idf_test.shape)\n",
    "print(\"Размер матрицы train:\", tf_idf_train.shape)"
   ]
  },
  {
   "cell_type": "markdown",
   "metadata": {},
   "source": [
    "Подготовим features_train и target для обучения на полной выборке"
   ]
  },
  {
   "cell_type": "code",
   "execution_count": 35,
   "metadata": {},
   "outputs": [
    {
     "name": "stdout",
     "output_type": "stream",
     "text": [
      "(143613,) (143613, 1)\n"
     ]
    }
   ],
   "source": [
    "target_data = data_train['toxic']\n",
    "features_data = data_train.drop(['toxic'], axis=1)\n",
    "print(target_data.shape, features_data.shape)"
   ]
  },
  {
   "cell_type": "markdown",
   "metadata": {},
   "source": [
    "CountVectorizer"
   ]
  },
  {
   "cell_type": "code",
   "execution_count": 44,
   "metadata": {},
   "outputs": [
    {
     "name": "stdout",
     "output_type": "stream",
     "text": [
      "(143613, 144448)\n",
      "(15958, 144448)\n"
     ]
    }
   ],
   "source": [
    "vectorizer = CountVectorizer(stop_words=stopwords)\n",
    "vectorizer.fit(features_data['lemm_text']) \n",
    "features_vector = vectorizer.transform(features_data['lemm_text'])\n",
    "features_vector_test = vectorizer.transform(features_test['lemm_text'])\n",
    "print(features_vector.shape)\n",
    "print(features_vector_test.shape)"
   ]
  },
  {
   "cell_type": "code",
   "execution_count": 84,
   "metadata": {},
   "outputs": [],
   "source": [
    "del train_zeros # удалим ненужные переменные\n",
    "del train_ones\n",
    "del data_train\n",
    "del train_downsampled\n",
    "del count_tf_idf"
   ]
  },
  {
   "cell_type": "markdown",
   "metadata": {},
   "source": [
    "У нас подготовлено 2 набора обучающих и тестовых выборок:\n",
    "1. Полная выборка с CountVectorizer\n",
    "    - tf_idf_train, target\n",
    "    - tf_idf_test, target_test\n",
    "2. Сбалансированная выборка с TfidfVectorizer\n",
    "    - features_vector, target_data\n",
    "    - features_vector_test, target_test"
   ]
  },
  {
   "cell_type": "markdown",
   "metadata": {},
   "source": [
    "**Вывод: Данные готовы для обучения**"
   ]
  },
  {
   "cell_type": "markdown",
   "metadata": {},
   "source": [
    "## Обучение"
   ]
  },
  {
   "cell_type": "markdown",
   "metadata": {},
   "source": [
    "Обучение проведем на следующих моделях:\n",
    "\n",
    "- LogisticRegression()\n",
    "- CatBoostClassifier()\n",
    "- MultinomialNB()\n",
    "- LGBMClassifier()"
   ]
  },
  {
   "cell_type": "markdown",
   "metadata": {},
   "source": [
    "### Обучающая выборка"
   ]
  },
  {
   "cell_type": "code",
   "execution_count": 71,
   "metadata": {},
   "outputs": [],
   "source": [
    "def ml(model, features, target, params):\n",
    "    grcv = GridSearchCV(estimator = model, param_grid = params, cv = 3, scoring = 'f1')\n",
    "    grcv.fit(features, target)  \n",
    "    \n",
    "    f1_result = grcv.best_score_\n",
    "    params_good = grcv.best_params_\n",
    "        \n",
    "    return f1_result, params_good"
   ]
  },
  {
   "cell_type": "markdown",
   "metadata": {},
   "source": [
    "LogisticRegression"
   ]
  },
  {
   "cell_type": "code",
   "execution_count": 72,
   "metadata": {
    "scrolled": true
   },
   "outputs": [
    {
     "name": "stdout",
     "output_type": "stream",
     "text": [
      "Для сбалансированной выборки f1_result =  0.90\n",
      "{'C': 7, 'fit_intercept': False, 'max_iter': 9}\n",
      "CPU times: user 50.7 s, sys: 1min 40s, total: 2min 31s\n",
      "Wall time: 2min 31s\n"
     ]
    }
   ],
   "source": [
    "%%time\n",
    "# Для сбалансированной выборки\n",
    "params = {'fit_intercept':[True,False], 'C': [1, 7, 9, 15], 'max_iter': [3, 5, 9, 12]}\n",
    "\n",
    "f1_result, params_good = ml(LogisticRegression(), tf_idf_train, target, params)\n",
    "\n",
    "print(F'Для сбалансированной выборки f1_result = {f1_result: ,.2f}')\n",
    "print(params_good)"
   ]
  },
  {
   "cell_type": "code",
   "execution_count": 73,
   "metadata": {},
   "outputs": [
    {
     "name": "stdout",
     "output_type": "stream",
     "text": [
      "f1_result =  0.72\n",
      "{'C': 7, 'fit_intercept': False, 'max_iter': 12}\n",
      "CPU times: user 1min 58s, sys: 2min 57s, total: 4min 56s\n",
      "Wall time: 4min 56s\n"
     ]
    }
   ],
   "source": [
    "%%time\n",
    "# Для полной выборки\n",
    "params = {'fit_intercept':[True,False], 'C': [1, 7, 9, 15], 'max_iter': [3, 5, 9, 12]}\n",
    "\n",
    "f1_result, params_good = ml(LogisticRegression(), features_vector, target_data, params)\n",
    "\n",
    "print(F'f1_result = {f1_result: ,.2f}')\n",
    "print(params_good)"
   ]
  },
  {
   "cell_type": "markdown",
   "metadata": {},
   "source": [
    "CatBoostClassifier"
   ]
  },
  {
   "cell_type": "code",
   "execution_count": 74,
   "metadata": {
    "scrolled": true
   },
   "outputs": [
    {
     "name": "stdout",
     "output_type": "stream",
     "text": [
      "Learning rate set to 0.160065\n",
      "0:\tlearn: 0.6239937\ttotal: 596ms\tremaining: 1m 58s\n",
      "1:\tlearn: 0.5899260\ttotal: 1.04s\tremaining: 1m 43s\n",
      "2:\tlearn: 0.5658152\ttotal: 1.49s\tremaining: 1m 37s\n",
      "3:\tlearn: 0.5442271\ttotal: 1.94s\tremaining: 1m 34s\n",
      "4:\tlearn: 0.5284851\ttotal: 2.38s\tremaining: 1m 32s\n",
      "5:\tlearn: 0.5186164\ttotal: 2.84s\tremaining: 1m 31s\n",
      "6:\tlearn: 0.5096444\ttotal: 3.27s\tremaining: 1m 30s\n",
      "7:\tlearn: 0.5011351\ttotal: 3.71s\tremaining: 1m 29s\n",
      "8:\tlearn: 0.4941272\ttotal: 4.17s\tremaining: 1m 28s\n",
      "9:\tlearn: 0.4871846\ttotal: 4.61s\tremaining: 1m 27s\n",
      "10:\tlearn: 0.4782472\ttotal: 5.08s\tremaining: 1m 27s\n",
      "11:\tlearn: 0.4711347\ttotal: 5.51s\tremaining: 1m 26s\n",
      "12:\tlearn: 0.4653310\ttotal: 5.94s\tremaining: 1m 25s\n",
      "13:\tlearn: 0.4611262\ttotal: 6.37s\tremaining: 1m 24s\n",
      "14:\tlearn: 0.4569359\ttotal: 6.8s\tremaining: 1m 23s\n",
      "15:\tlearn: 0.4504287\ttotal: 7.22s\tremaining: 1m 23s\n",
      "16:\tlearn: 0.4455088\ttotal: 7.65s\tremaining: 1m 22s\n",
      "17:\tlearn: 0.4402429\ttotal: 8.08s\tremaining: 1m 21s\n",
      "18:\tlearn: 0.4357769\ttotal: 8.51s\tremaining: 1m 21s\n",
      "19:\tlearn: 0.4323543\ttotal: 8.94s\tremaining: 1m 20s\n",
      "20:\tlearn: 0.4295831\ttotal: 9.36s\tremaining: 1m 19s\n",
      "21:\tlearn: 0.4273240\ttotal: 9.8s\tremaining: 1m 19s\n",
      "22:\tlearn: 0.4236533\ttotal: 10.2s\tremaining: 1m 18s\n",
      "23:\tlearn: 0.4195094\ttotal: 10.6s\tremaining: 1m 17s\n",
      "24:\tlearn: 0.4169332\ttotal: 11.1s\tremaining: 1m 17s\n",
      "25:\tlearn: 0.4145049\ttotal: 11.5s\tremaining: 1m 16s\n",
      "26:\tlearn: 0.4123349\ttotal: 11.9s\tremaining: 1m 16s\n",
      "27:\tlearn: 0.4104222\ttotal: 12.4s\tremaining: 1m 15s\n",
      "28:\tlearn: 0.4061220\ttotal: 12.8s\tremaining: 1m 15s\n",
      "29:\tlearn: 0.4035226\ttotal: 13.2s\tremaining: 1m 14s\n",
      "30:\tlearn: 0.4017631\ttotal: 13.6s\tremaining: 1m 14s\n",
      "31:\tlearn: 0.3992509\ttotal: 14.1s\tremaining: 1m 13s\n",
      "32:\tlearn: 0.3969356\ttotal: 14.6s\tremaining: 1m 13s\n",
      "33:\tlearn: 0.3947331\ttotal: 15s\tremaining: 1m 13s\n",
      "34:\tlearn: 0.3926244\ttotal: 15.5s\tremaining: 1m 13s\n",
      "35:\tlearn: 0.3897178\ttotal: 16s\tremaining: 1m 12s\n",
      "36:\tlearn: 0.3880872\ttotal: 16.4s\tremaining: 1m 12s\n",
      "37:\tlearn: 0.3859235\ttotal: 16.8s\tremaining: 1m 11s\n",
      "38:\tlearn: 0.3845221\ttotal: 17.3s\tremaining: 1m 11s\n",
      "39:\tlearn: 0.3828641\ttotal: 17.7s\tremaining: 1m 10s\n",
      "40:\tlearn: 0.3812077\ttotal: 18.2s\tremaining: 1m 10s\n",
      "41:\tlearn: 0.3790651\ttotal: 18.6s\tremaining: 1m 10s\n",
      "42:\tlearn: 0.3777140\ttotal: 19.1s\tremaining: 1m 9s\n",
      "43:\tlearn: 0.3759142\ttotal: 19.5s\tremaining: 1m 9s\n",
      "44:\tlearn: 0.3745374\ttotal: 20s\tremaining: 1m 8s\n",
      "45:\tlearn: 0.3725262\ttotal: 20.4s\tremaining: 1m 8s\n",
      "46:\tlearn: 0.3712114\ttotal: 20.9s\tremaining: 1m 7s\n",
      "47:\tlearn: 0.3697574\ttotal: 21.3s\tremaining: 1m 7s\n",
      "48:\tlearn: 0.3680281\ttotal: 21.7s\tremaining: 1m 7s\n",
      "49:\tlearn: 0.3662625\ttotal: 22.2s\tremaining: 1m 6s\n",
      "50:\tlearn: 0.3650802\ttotal: 22.6s\tremaining: 1m 6s\n",
      "51:\tlearn: 0.3639570\ttotal: 23s\tremaining: 1m 5s\n",
      "52:\tlearn: 0.3618405\ttotal: 23.5s\tremaining: 1m 5s\n",
      "53:\tlearn: 0.3605800\ttotal: 23.9s\tremaining: 1m 4s\n",
      "54:\tlearn: 0.3595918\ttotal: 24.3s\tremaining: 1m 4s\n",
      "55:\tlearn: 0.3581643\ttotal: 24.7s\tremaining: 1m 3s\n",
      "56:\tlearn: 0.3567938\ttotal: 25.2s\tremaining: 1m 3s\n",
      "57:\tlearn: 0.3551103\ttotal: 25.6s\tremaining: 1m 2s\n",
      "58:\tlearn: 0.3537225\ttotal: 26s\tremaining: 1m 2s\n",
      "59:\tlearn: 0.3505666\ttotal: 26.5s\tremaining: 1m 1s\n",
      "60:\tlearn: 0.3489282\ttotal: 26.9s\tremaining: 1m 1s\n",
      "61:\tlearn: 0.3478477\ttotal: 27.3s\tremaining: 1m\n",
      "62:\tlearn: 0.3465740\ttotal: 27.7s\tremaining: 1m\n",
      "63:\tlearn: 0.3445449\ttotal: 28.1s\tremaining: 59.8s\n",
      "64:\tlearn: 0.3435655\ttotal: 28.6s\tremaining: 59.3s\n",
      "65:\tlearn: 0.3424840\ttotal: 29s\tremaining: 58.8s\n",
      "66:\tlearn: 0.3413777\ttotal: 29.4s\tremaining: 58.4s\n",
      "67:\tlearn: 0.3404069\ttotal: 29.8s\tremaining: 57.9s\n",
      "68:\tlearn: 0.3384561\ttotal: 30.2s\tremaining: 57.4s\n",
      "69:\tlearn: 0.3362522\ttotal: 30.7s\tremaining: 57s\n",
      "70:\tlearn: 0.3344976\ttotal: 31.1s\tremaining: 56.5s\n",
      "71:\tlearn: 0.3329992\ttotal: 31.5s\tremaining: 56.1s\n",
      "72:\tlearn: 0.3315509\ttotal: 32s\tremaining: 55.6s\n",
      "73:\tlearn: 0.3304230\ttotal: 32.4s\tremaining: 55.1s\n",
      "74:\tlearn: 0.3295063\ttotal: 32.8s\tremaining: 54.6s\n",
      "75:\tlearn: 0.3284098\ttotal: 33.2s\tremaining: 54.2s\n",
      "76:\tlearn: 0.3273302\ttotal: 33.6s\tremaining: 53.7s\n",
      "77:\tlearn: 0.3262173\ttotal: 34.1s\tremaining: 53.3s\n",
      "78:\tlearn: 0.3249023\ttotal: 34.5s\tremaining: 52.9s\n",
      "79:\tlearn: 0.3238403\ttotal: 35s\tremaining: 52.4s\n",
      "80:\tlearn: 0.3228069\ttotal: 35.4s\tremaining: 52s\n",
      "81:\tlearn: 0.3215994\ttotal: 35.8s\tremaining: 51.5s\n",
      "82:\tlearn: 0.3206717\ttotal: 36.2s\tremaining: 51.1s\n",
      "83:\tlearn: 0.3196833\ttotal: 36.7s\tremaining: 50.6s\n",
      "84:\tlearn: 0.3185202\ttotal: 37.1s\tremaining: 50.2s\n",
      "85:\tlearn: 0.3173035\ttotal: 37.5s\tremaining: 49.7s\n",
      "86:\tlearn: 0.3157500\ttotal: 37.9s\tremaining: 49.3s\n",
      "87:\tlearn: 0.3147200\ttotal: 38.4s\tremaining: 48.8s\n",
      "88:\tlearn: 0.3138331\ttotal: 38.8s\tremaining: 48.4s\n",
      "89:\tlearn: 0.3128779\ttotal: 39.2s\tremaining: 47.9s\n",
      "90:\tlearn: 0.3119101\ttotal: 39.6s\tremaining: 47.5s\n",
      "91:\tlearn: 0.3109027\ttotal: 40s\tremaining: 47s\n",
      "92:\tlearn: 0.3093331\ttotal: 40.5s\tremaining: 46.6s\n",
      "93:\tlearn: 0.3074225\ttotal: 40.9s\tremaining: 46.1s\n",
      "94:\tlearn: 0.3066536\ttotal: 41.3s\tremaining: 45.7s\n",
      "95:\tlearn: 0.3057991\ttotal: 41.7s\tremaining: 45.2s\n",
      "96:\tlearn: 0.3048605\ttotal: 42.2s\tremaining: 44.8s\n",
      "97:\tlearn: 0.3035699\ttotal: 42.7s\tremaining: 44.4s\n",
      "98:\tlearn: 0.3025992\ttotal: 43.1s\tremaining: 43.9s\n",
      "99:\tlearn: 0.3018286\ttotal: 43.5s\tremaining: 43.5s\n",
      "100:\tlearn: 0.3011322\ttotal: 43.9s\tremaining: 43s\n",
      "101:\tlearn: 0.3002931\ttotal: 44.3s\tremaining: 42.6s\n",
      "102:\tlearn: 0.2995592\ttotal: 44.8s\tremaining: 42.2s\n",
      "103:\tlearn: 0.2983423\ttotal: 45.2s\tremaining: 41.7s\n",
      "104:\tlearn: 0.2977371\ttotal: 45.6s\tremaining: 41.3s\n",
      "105:\tlearn: 0.2968526\ttotal: 46.1s\tremaining: 40.8s\n",
      "106:\tlearn: 0.2957897\ttotal: 46.5s\tremaining: 40.4s\n",
      "107:\tlearn: 0.2950239\ttotal: 46.9s\tremaining: 39.9s\n",
      "108:\tlearn: 0.2942573\ttotal: 47.3s\tremaining: 39.5s\n",
      "109:\tlearn: 0.2933863\ttotal: 47.7s\tremaining: 39.1s\n",
      "110:\tlearn: 0.2926734\ttotal: 48.1s\tremaining: 38.6s\n",
      "111:\tlearn: 0.2920131\ttotal: 48.6s\tremaining: 38.2s\n",
      "112:\tlearn: 0.2912176\ttotal: 49s\tremaining: 37.7s\n",
      "113:\tlearn: 0.2901886\ttotal: 49.4s\tremaining: 37.3s\n",
      "114:\tlearn: 0.2896192\ttotal: 49.8s\tremaining: 36.8s\n",
      "115:\tlearn: 0.2889476\ttotal: 50.2s\tremaining: 36.4s\n",
      "116:\tlearn: 0.2881330\ttotal: 50.7s\tremaining: 35.9s\n",
      "117:\tlearn: 0.2875621\ttotal: 51.1s\tremaining: 35.5s\n",
      "118:\tlearn: 0.2862038\ttotal: 51.5s\tremaining: 35.1s\n",
      "119:\tlearn: 0.2857770\ttotal: 51.9s\tremaining: 34.6s\n",
      "120:\tlearn: 0.2853099\ttotal: 52.3s\tremaining: 34.2s\n",
      "121:\tlearn: 0.2847478\ttotal: 52.8s\tremaining: 33.7s\n",
      "122:\tlearn: 0.2840713\ttotal: 53.2s\tremaining: 33.3s\n",
      "123:\tlearn: 0.2831235\ttotal: 53.6s\tremaining: 32.8s\n",
      "124:\tlearn: 0.2822657\ttotal: 54s\tremaining: 32.4s\n",
      "125:\tlearn: 0.2816653\ttotal: 54.4s\tremaining: 32s\n",
      "126:\tlearn: 0.2809099\ttotal: 54.9s\tremaining: 31.5s\n",
      "127:\tlearn: 0.2801734\ttotal: 55.3s\tremaining: 31.1s\n",
      "128:\tlearn: 0.2794059\ttotal: 55.7s\tremaining: 30.7s\n",
      "129:\tlearn: 0.2788533\ttotal: 56.2s\tremaining: 30.3s\n",
      "130:\tlearn: 0.2785195\ttotal: 56.6s\tremaining: 29.8s\n",
      "131:\tlearn: 0.2778480\ttotal: 57.1s\tremaining: 29.4s\n",
      "132:\tlearn: 0.2761966\ttotal: 57.5s\tremaining: 29s\n",
      "133:\tlearn: 0.2753921\ttotal: 57.9s\tremaining: 28.5s\n",
      "134:\tlearn: 0.2742656\ttotal: 58.3s\tremaining: 28.1s\n",
      "135:\tlearn: 0.2737638\ttotal: 58.7s\tremaining: 27.6s\n",
      "136:\tlearn: 0.2734979\ttotal: 59.1s\tremaining: 27.2s\n",
      "137:\tlearn: 0.2730309\ttotal: 59.6s\tremaining: 26.8s\n",
      "138:\tlearn: 0.2726024\ttotal: 60s\tremaining: 26.3s\n",
      "139:\tlearn: 0.2719245\ttotal: 1m\tremaining: 25.9s\n",
      "140:\tlearn: 0.2714351\ttotal: 1m\tremaining: 25.4s\n",
      "141:\tlearn: 0.2709947\ttotal: 1m 1s\tremaining: 25s\n",
      "142:\tlearn: 0.2704376\ttotal: 1m 1s\tremaining: 24.6s\n",
      "143:\tlearn: 0.2697004\ttotal: 1m 2s\tremaining: 24.1s\n",
      "144:\tlearn: 0.2692068\ttotal: 1m 2s\tremaining: 23.7s\n",
      "145:\tlearn: 0.2685673\ttotal: 1m 2s\tremaining: 23.3s\n",
      "146:\tlearn: 0.2680303\ttotal: 1m 3s\tremaining: 22.8s\n",
      "147:\tlearn: 0.2672183\ttotal: 1m 3s\tremaining: 22.4s\n",
      "148:\tlearn: 0.2669543\ttotal: 1m 4s\tremaining: 22s\n",
      "149:\tlearn: 0.2664732\ttotal: 1m 4s\tremaining: 21.5s\n",
      "150:\tlearn: 0.2660447\ttotal: 1m 5s\tremaining: 21.1s\n",
      "151:\tlearn: 0.2654102\ttotal: 1m 5s\tremaining: 20.7s\n",
      "152:\tlearn: 0.2651396\ttotal: 1m 5s\tremaining: 20.2s\n",
      "153:\tlearn: 0.2643903\ttotal: 1m 6s\tremaining: 19.8s\n",
      "154:\tlearn: 0.2637729\ttotal: 1m 6s\tremaining: 19.4s\n",
      "155:\tlearn: 0.2630261\ttotal: 1m 7s\tremaining: 18.9s\n",
      "156:\tlearn: 0.2622270\ttotal: 1m 7s\tremaining: 18.5s\n",
      "157:\tlearn: 0.2616198\ttotal: 1m 7s\tremaining: 18.1s\n",
      "158:\tlearn: 0.2613407\ttotal: 1m 8s\tremaining: 17.6s\n",
      "159:\tlearn: 0.2610280\ttotal: 1m 8s\tremaining: 17.2s\n",
      "160:\tlearn: 0.2605510\ttotal: 1m 9s\tremaining: 16.8s\n",
      "161:\tlearn: 0.2601861\ttotal: 1m 9s\tremaining: 16.3s\n",
      "162:\tlearn: 0.2595732\ttotal: 1m 10s\tremaining: 15.9s\n",
      "163:\tlearn: 0.2591713\ttotal: 1m 10s\tremaining: 15.5s\n",
      "164:\tlearn: 0.2589794\ttotal: 1m 10s\tremaining: 15s\n",
      "165:\tlearn: 0.2584496\ttotal: 1m 11s\tremaining: 14.6s\n",
      "166:\tlearn: 0.2581945\ttotal: 1m 11s\tremaining: 14.2s\n",
      "167:\tlearn: 0.2575880\ttotal: 1m 12s\tremaining: 13.7s\n",
      "168:\tlearn: 0.2570375\ttotal: 1m 12s\tremaining: 13.3s\n",
      "169:\tlearn: 0.2565121\ttotal: 1m 12s\tremaining: 12.9s\n",
      "170:\tlearn: 0.2559509\ttotal: 1m 13s\tremaining: 12.4s\n",
      "171:\tlearn: 0.2556435\ttotal: 1m 13s\tremaining: 12s\n",
      "172:\tlearn: 0.2547952\ttotal: 1m 14s\tremaining: 11.6s\n",
      "173:\tlearn: 0.2542456\ttotal: 1m 14s\tremaining: 11.2s\n",
      "174:\tlearn: 0.2537839\ttotal: 1m 15s\tremaining: 10.7s\n",
      "175:\tlearn: 0.2533644\ttotal: 1m 15s\tremaining: 10.3s\n",
      "176:\tlearn: 0.2531313\ttotal: 1m 16s\tremaining: 9.88s\n",
      "177:\tlearn: 0.2524464\ttotal: 1m 16s\tremaining: 9.46s\n",
      "178:\tlearn: 0.2520002\ttotal: 1m 16s\tremaining: 9.03s\n",
      "179:\tlearn: 0.2515537\ttotal: 1m 17s\tremaining: 8.6s\n",
      "180:\tlearn: 0.2510584\ttotal: 1m 17s\tremaining: 8.17s\n",
      "181:\tlearn: 0.2508608\ttotal: 1m 18s\tremaining: 7.74s\n",
      "182:\tlearn: 0.2506208\ttotal: 1m 18s\tremaining: 7.31s\n",
      "183:\tlearn: 0.2504457\ttotal: 1m 19s\tremaining: 6.88s\n",
      "184:\tlearn: 0.2501864\ttotal: 1m 19s\tremaining: 6.45s\n",
      "185:\tlearn: 0.2499790\ttotal: 1m 19s\tremaining: 6.02s\n",
      "186:\tlearn: 0.2495564\ttotal: 1m 20s\tremaining: 5.59s\n",
      "187:\tlearn: 0.2489954\ttotal: 1m 20s\tremaining: 5.16s\n",
      "188:\tlearn: 0.2485614\ttotal: 1m 21s\tremaining: 4.73s\n",
      "189:\tlearn: 0.2483216\ttotal: 1m 21s\tremaining: 4.3s\n",
      "190:\tlearn: 0.2479586\ttotal: 1m 22s\tremaining: 3.87s\n",
      "191:\tlearn: 0.2474826\ttotal: 1m 22s\tremaining: 3.44s\n",
      "192:\tlearn: 0.2470022\ttotal: 1m 22s\tremaining: 3.01s\n",
      "193:\tlearn: 0.2464717\ttotal: 1m 23s\tremaining: 2.58s\n",
      "194:\tlearn: 0.2462991\ttotal: 1m 23s\tremaining: 2.15s\n",
      "195:\tlearn: 0.2460660\ttotal: 1m 24s\tremaining: 1.72s\n",
      "196:\tlearn: 0.2455741\ttotal: 1m 24s\tremaining: 1.29s\n",
      "197:\tlearn: 0.2452377\ttotal: 1m 25s\tremaining: 859ms\n",
      "198:\tlearn: 0.2447507\ttotal: 1m 25s\tremaining: 429ms\n",
      "199:\tlearn: 0.2445975\ttotal: 1m 25s\tremaining: 0us\n",
      "Learning rate set to 0.160068\n",
      "0:\tlearn: 0.6271068\ttotal: 637ms\tremaining: 2m 6s\n",
      "1:\tlearn: 0.5879500\ttotal: 1.07s\tremaining: 1m 45s\n",
      "2:\tlearn: 0.5625664\ttotal: 1.52s\tremaining: 1m 39s\n",
      "3:\tlearn: 0.5457847\ttotal: 1.96s\tremaining: 1m 35s\n",
      "4:\tlearn: 0.5280788\ttotal: 2.42s\tremaining: 1m 34s\n",
      "5:\tlearn: 0.5190354\ttotal: 2.87s\tremaining: 1m 32s\n",
      "6:\tlearn: 0.5047511\ttotal: 3.29s\tremaining: 1m 30s\n",
      "7:\tlearn: 0.4970222\ttotal: 3.75s\tremaining: 1m 29s\n",
      "8:\tlearn: 0.4898510\ttotal: 4.17s\tremaining: 1m 28s\n",
      "9:\tlearn: 0.4835244\ttotal: 4.6s\tremaining: 1m 27s\n",
      "10:\tlearn: 0.4767134\ttotal: 5.04s\tremaining: 1m 26s\n",
      "11:\tlearn: 0.4685824\ttotal: 5.48s\tremaining: 1m 25s\n",
      "12:\tlearn: 0.4625411\ttotal: 5.93s\tremaining: 1m 25s\n",
      "13:\tlearn: 0.4576156\ttotal: 6.4s\tremaining: 1m 25s\n",
      "14:\tlearn: 0.4534943\ttotal: 6.84s\tremaining: 1m 24s\n",
      "15:\tlearn: 0.4499416\ttotal: 7.28s\tremaining: 1m 23s\n",
      "16:\tlearn: 0.4457375\ttotal: 7.71s\tremaining: 1m 23s\n",
      "17:\tlearn: 0.4417548\ttotal: 8.15s\tremaining: 1m 22s\n",
      "18:\tlearn: 0.4363527\ttotal: 8.59s\tremaining: 1m 21s\n",
      "19:\tlearn: 0.4315526\ttotal: 9.02s\tremaining: 1m 21s\n",
      "20:\tlearn: 0.4265818\ttotal: 9.46s\tremaining: 1m 20s\n",
      "21:\tlearn: 0.4239885\ttotal: 9.89s\tremaining: 1m 20s\n",
      "22:\tlearn: 0.4213928\ttotal: 10.3s\tremaining: 1m 19s\n",
      "23:\tlearn: 0.4183102\ttotal: 10.8s\tremaining: 1m 18s\n",
      "24:\tlearn: 0.4156927\ttotal: 11.2s\tremaining: 1m 18s\n",
      "25:\tlearn: 0.4122094\ttotal: 11.6s\tremaining: 1m 17s\n",
      "26:\tlearn: 0.4088982\ttotal: 12.1s\tremaining: 1m 17s\n",
      "27:\tlearn: 0.4061655\ttotal: 12.5s\tremaining: 1m 16s\n",
      "28:\tlearn: 0.4025654\ttotal: 13s\tremaining: 1m 16s\n",
      "29:\tlearn: 0.3997780\ttotal: 13.4s\tremaining: 1m 15s\n",
      "30:\tlearn: 0.3978404\ttotal: 13.9s\tremaining: 1m 15s\n",
      "31:\tlearn: 0.3952469\ttotal: 14.3s\tremaining: 1m 15s\n",
      "32:\tlearn: 0.3937634\ttotal: 14.7s\tremaining: 1m 14s\n",
      "33:\tlearn: 0.3919105\ttotal: 15.2s\tremaining: 1m 14s\n",
      "34:\tlearn: 0.3892096\ttotal: 15.6s\tremaining: 1m 13s\n",
      "35:\tlearn: 0.3876862\ttotal: 16s\tremaining: 1m 12s\n",
      "36:\tlearn: 0.3861142\ttotal: 16.5s\tremaining: 1m 12s\n",
      "37:\tlearn: 0.3841921\ttotal: 16.9s\tremaining: 1m 12s\n",
      "38:\tlearn: 0.3819579\ttotal: 17.3s\tremaining: 1m 11s\n",
      "39:\tlearn: 0.3802980\ttotal: 17.8s\tremaining: 1m 11s\n",
      "40:\tlearn: 0.3784257\ttotal: 18.2s\tremaining: 1m 10s\n",
      "41:\tlearn: 0.3768134\ttotal: 18.6s\tremaining: 1m 10s\n",
      "42:\tlearn: 0.3741454\ttotal: 19.1s\tremaining: 1m 9s\n",
      "43:\tlearn: 0.3729432\ttotal: 19.5s\tremaining: 1m 9s\n",
      "44:\tlearn: 0.3714107\ttotal: 19.9s\tremaining: 1m 8s\n",
      "45:\tlearn: 0.3700410\ttotal: 20.3s\tremaining: 1m 8s\n",
      "46:\tlearn: 0.3685015\ttotal: 20.8s\tremaining: 1m 7s\n",
      "47:\tlearn: 0.3663558\ttotal: 21.2s\tremaining: 1m 7s\n",
      "48:\tlearn: 0.3650422\ttotal: 21.7s\tremaining: 1m 6s\n",
      "49:\tlearn: 0.3632804\ttotal: 22.1s\tremaining: 1m 6s\n",
      "50:\tlearn: 0.3615670\ttotal: 22.5s\tremaining: 1m 5s\n",
      "51:\tlearn: 0.3603630\ttotal: 23s\tremaining: 1m 5s\n",
      "52:\tlearn: 0.3590804\ttotal: 23.4s\tremaining: 1m 4s\n",
      "53:\tlearn: 0.3578761\ttotal: 23.8s\tremaining: 1m 4s\n",
      "54:\tlearn: 0.3563561\ttotal: 24.3s\tremaining: 1m 3s\n",
      "55:\tlearn: 0.3549519\ttotal: 24.7s\tremaining: 1m 3s\n",
      "56:\tlearn: 0.3538135\ttotal: 25.2s\tremaining: 1m 3s\n",
      "57:\tlearn: 0.3520560\ttotal: 25.6s\tremaining: 1m 2s\n",
      "58:\tlearn: 0.3507639\ttotal: 26.1s\tremaining: 1m 2s\n",
      "59:\tlearn: 0.3489717\ttotal: 26.5s\tremaining: 1m 1s\n",
      "60:\tlearn: 0.3452439\ttotal: 27s\tremaining: 1m 1s\n",
      "61:\tlearn: 0.3440764\ttotal: 27.4s\tremaining: 1m 1s\n",
      "62:\tlearn: 0.3429733\ttotal: 27.9s\tremaining: 1m\n",
      "63:\tlearn: 0.3418298\ttotal: 28.3s\tremaining: 1m\n",
      "64:\tlearn: 0.3407464\ttotal: 28.8s\tremaining: 59.7s\n",
      "65:\tlearn: 0.3391757\ttotal: 29.2s\tremaining: 59.4s\n",
      "66:\tlearn: 0.3380783\ttotal: 29.7s\tremaining: 59s\n",
      "67:\tlearn: 0.3367434\ttotal: 30.1s\tremaining: 58.5s\n",
      "68:\tlearn: 0.3357251\ttotal: 30.6s\tremaining: 58.1s\n",
      "69:\tlearn: 0.3342739\ttotal: 31s\tremaining: 57.6s\n",
      "70:\tlearn: 0.3325267\ttotal: 31.5s\tremaining: 57.2s\n",
      "71:\tlearn: 0.3310917\ttotal: 31.9s\tremaining: 56.8s\n",
      "72:\tlearn: 0.3299973\ttotal: 32.4s\tremaining: 56.3s\n",
      "73:\tlearn: 0.3285255\ttotal: 32.8s\tremaining: 55.9s\n",
      "74:\tlearn: 0.3259590\ttotal: 33.3s\tremaining: 55.5s\n",
      "75:\tlearn: 0.3247622\ttotal: 33.7s\tremaining: 55.1s\n",
      "76:\tlearn: 0.3234681\ttotal: 34.2s\tremaining: 54.6s\n",
      "77:\tlearn: 0.3224436\ttotal: 34.6s\tremaining: 54.2s\n",
      "78:\tlearn: 0.3213939\ttotal: 35.1s\tremaining: 53.7s\n",
      "79:\tlearn: 0.3201682\ttotal: 35.5s\tremaining: 53.3s\n",
      "80:\tlearn: 0.3190534\ttotal: 36s\tremaining: 52.9s\n",
      "81:\tlearn: 0.3181427\ttotal: 36.5s\tremaining: 52.5s\n",
      "82:\tlearn: 0.3170495\ttotal: 36.9s\tremaining: 52s\n",
      "83:\tlearn: 0.3157237\ttotal: 37.3s\tremaining: 51.5s\n",
      "84:\tlearn: 0.3148058\ttotal: 37.7s\tremaining: 51s\n",
      "85:\tlearn: 0.3138870\ttotal: 38.2s\tremaining: 50.6s\n",
      "86:\tlearn: 0.3120342\ttotal: 38.6s\tremaining: 50.1s\n",
      "87:\tlearn: 0.3106859\ttotal: 39s\tremaining: 49.7s\n",
      "88:\tlearn: 0.3099869\ttotal: 39.4s\tremaining: 49.2s\n",
      "89:\tlearn: 0.3088519\ttotal: 39.8s\tremaining: 48.7s\n",
      "90:\tlearn: 0.3077407\ttotal: 40.3s\tremaining: 48.2s\n",
      "91:\tlearn: 0.3067473\ttotal: 40.7s\tremaining: 47.8s\n",
      "92:\tlearn: 0.3059513\ttotal: 41.1s\tremaining: 47.3s\n",
      "93:\tlearn: 0.3050766\ttotal: 41.6s\tremaining: 46.9s\n",
      "94:\tlearn: 0.3039973\ttotal: 42s\tremaining: 46.4s\n",
      "95:\tlearn: 0.3033836\ttotal: 42.4s\tremaining: 45.9s\n",
      "96:\tlearn: 0.3024810\ttotal: 42.8s\tremaining: 45.5s\n",
      "97:\tlearn: 0.3016058\ttotal: 43.3s\tremaining: 45s\n",
      "98:\tlearn: 0.3007434\ttotal: 43.7s\tremaining: 44.6s\n",
      "99:\tlearn: 0.3002614\ttotal: 44.2s\tremaining: 44.2s\n",
      "100:\tlearn: 0.2995633\ttotal: 44.6s\tremaining: 43.7s\n",
      "101:\tlearn: 0.2986979\ttotal: 45s\tremaining: 43.3s\n",
      "102:\tlearn: 0.2979172\ttotal: 45.5s\tremaining: 42.8s\n",
      "103:\tlearn: 0.2971556\ttotal: 45.9s\tremaining: 42.4s\n",
      "104:\tlearn: 0.2963653\ttotal: 46.5s\tremaining: 42s\n",
      "105:\tlearn: 0.2953094\ttotal: 46.9s\tremaining: 41.6s\n",
      "106:\tlearn: 0.2945275\ttotal: 47.4s\tremaining: 41.2s\n",
      "107:\tlearn: 0.2933696\ttotal: 47.8s\tremaining: 40.7s\n",
      "108:\tlearn: 0.2926596\ttotal: 48.3s\tremaining: 40.3s\n",
      "109:\tlearn: 0.2921374\ttotal: 48.7s\tremaining: 39.8s\n",
      "110:\tlearn: 0.2916443\ttotal: 49.1s\tremaining: 39.4s\n",
      "111:\tlearn: 0.2907662\ttotal: 49.6s\tremaining: 38.9s\n",
      "112:\tlearn: 0.2900680\ttotal: 50s\tremaining: 38.5s\n",
      "113:\tlearn: 0.2894216\ttotal: 50.5s\tremaining: 38.1s\n",
      "114:\tlearn: 0.2886358\ttotal: 50.9s\tremaining: 37.6s\n",
      "115:\tlearn: 0.2876856\ttotal: 51.4s\tremaining: 37.2s\n",
      "116:\tlearn: 0.2870556\ttotal: 51.8s\tremaining: 36.7s\n",
      "117:\tlearn: 0.2866476\ttotal: 52.2s\tremaining: 36.3s\n",
      "118:\tlearn: 0.2856482\ttotal: 52.6s\tremaining: 35.8s\n",
      "119:\tlearn: 0.2850278\ttotal: 53.1s\tremaining: 35.4s\n",
      "120:\tlearn: 0.2842829\ttotal: 53.5s\tremaining: 34.9s\n",
      "121:\tlearn: 0.2838498\ttotal: 53.9s\tremaining: 34.5s\n",
      "122:\tlearn: 0.2831090\ttotal: 54.4s\tremaining: 34s\n",
      "123:\tlearn: 0.2820355\ttotal: 54.8s\tremaining: 33.6s\n",
      "124:\tlearn: 0.2814074\ttotal: 55.2s\tremaining: 33.1s\n",
      "125:\tlearn: 0.2807220\ttotal: 55.7s\tremaining: 32.7s\n",
      "126:\tlearn: 0.2795297\ttotal: 56.1s\tremaining: 32.2s\n",
      "127:\tlearn: 0.2792008\ttotal: 56.5s\tremaining: 31.8s\n",
      "128:\tlearn: 0.2783912\ttotal: 57s\tremaining: 31.4s\n",
      "129:\tlearn: 0.2777456\ttotal: 57.4s\tremaining: 30.9s\n",
      "130:\tlearn: 0.2771376\ttotal: 57.8s\tremaining: 30.5s\n",
      "131:\tlearn: 0.2764354\ttotal: 58.2s\tremaining: 30s\n",
      "132:\tlearn: 0.2757283\ttotal: 58.7s\tremaining: 29.6s\n",
      "133:\tlearn: 0.2750125\ttotal: 59.1s\tremaining: 29.1s\n",
      "134:\tlearn: 0.2742239\ttotal: 59.5s\tremaining: 28.7s\n",
      "135:\tlearn: 0.2737469\ttotal: 59.9s\tremaining: 28.2s\n",
      "136:\tlearn: 0.2732609\ttotal: 1m\tremaining: 27.7s\n",
      "137:\tlearn: 0.2729307\ttotal: 1m\tremaining: 27.3s\n",
      "138:\tlearn: 0.2723336\ttotal: 1m 1s\tremaining: 26.8s\n",
      "139:\tlearn: 0.2720558\ttotal: 1m 1s\tremaining: 26.4s\n",
      "140:\tlearn: 0.2713057\ttotal: 1m 1s\tremaining: 25.9s\n",
      "141:\tlearn: 0.2707352\ttotal: 1m 2s\tremaining: 25.5s\n",
      "142:\tlearn: 0.2700962\ttotal: 1m 2s\tremaining: 25.1s\n",
      "143:\tlearn: 0.2694310\ttotal: 1m 3s\tremaining: 24.6s\n",
      "144:\tlearn: 0.2689253\ttotal: 1m 3s\tremaining: 24.2s\n",
      "145:\tlearn: 0.2682255\ttotal: 1m 4s\tremaining: 23.7s\n",
      "146:\tlearn: 0.2676532\ttotal: 1m 4s\tremaining: 23.3s\n",
      "147:\tlearn: 0.2670992\ttotal: 1m 4s\tremaining: 22.8s\n",
      "148:\tlearn: 0.2665864\ttotal: 1m 5s\tremaining: 22.4s\n",
      "149:\tlearn: 0.2659741\ttotal: 1m 5s\tremaining: 22s\n",
      "150:\tlearn: 0.2653629\ttotal: 1m 6s\tremaining: 21.5s\n",
      "151:\tlearn: 0.2646905\ttotal: 1m 6s\tremaining: 21.1s\n",
      "152:\tlearn: 0.2640488\ttotal: 1m 7s\tremaining: 20.6s\n",
      "153:\tlearn: 0.2635335\ttotal: 1m 7s\tremaining: 20.2s\n",
      "154:\tlearn: 0.2632761\ttotal: 1m 8s\tremaining: 19.8s\n",
      "155:\tlearn: 0.2630055\ttotal: 1m 8s\tremaining: 19.3s\n",
      "156:\tlearn: 0.2624121\ttotal: 1m 8s\tremaining: 18.9s\n",
      "157:\tlearn: 0.2618647\ttotal: 1m 9s\tremaining: 18.4s\n",
      "158:\tlearn: 0.2601435\ttotal: 1m 9s\tremaining: 18s\n",
      "159:\tlearn: 0.2593753\ttotal: 1m 10s\tremaining: 17.5s\n",
      "160:\tlearn: 0.2590394\ttotal: 1m 10s\tremaining: 17.1s\n",
      "161:\tlearn: 0.2587463\ttotal: 1m 11s\tremaining: 16.7s\n",
      "162:\tlearn: 0.2581168\ttotal: 1m 11s\tremaining: 16.2s\n",
      "163:\tlearn: 0.2576751\ttotal: 1m 11s\tremaining: 15.8s\n",
      "164:\tlearn: 0.2572509\ttotal: 1m 12s\tremaining: 15.3s\n",
      "165:\tlearn: 0.2566481\ttotal: 1m 12s\tremaining: 14.9s\n",
      "166:\tlearn: 0.2561050\ttotal: 1m 13s\tremaining: 14.5s\n",
      "167:\tlearn: 0.2554807\ttotal: 1m 13s\tremaining: 14s\n",
      "168:\tlearn: 0.2551050\ttotal: 1m 14s\tremaining: 13.6s\n",
      "169:\tlearn: 0.2544919\ttotal: 1m 14s\tremaining: 13.1s\n",
      "170:\tlearn: 0.2540245\ttotal: 1m 14s\tremaining: 12.7s\n",
      "171:\tlearn: 0.2534527\ttotal: 1m 15s\tremaining: 12.3s\n",
      "172:\tlearn: 0.2531997\ttotal: 1m 15s\tremaining: 11.8s\n",
      "173:\tlearn: 0.2529015\ttotal: 1m 16s\tremaining: 11.4s\n",
      "174:\tlearn: 0.2524907\ttotal: 1m 16s\tremaining: 10.9s\n",
      "175:\tlearn: 0.2519753\ttotal: 1m 17s\tremaining: 10.5s\n",
      "176:\tlearn: 0.2517911\ttotal: 1m 17s\tremaining: 10.1s\n",
      "177:\tlearn: 0.2515419\ttotal: 1m 17s\tremaining: 9.62s\n",
      "178:\tlearn: 0.2512075\ttotal: 1m 18s\tremaining: 9.18s\n",
      "179:\tlearn: 0.2505445\ttotal: 1m 18s\tremaining: 8.74s\n",
      "180:\tlearn: 0.2493182\ttotal: 1m 19s\tremaining: 8.3s\n",
      "181:\tlearn: 0.2489528\ttotal: 1m 19s\tremaining: 7.86s\n",
      "182:\tlearn: 0.2487312\ttotal: 1m 19s\tremaining: 7.42s\n",
      "183:\tlearn: 0.2482746\ttotal: 1m 20s\tremaining: 6.99s\n",
      "184:\tlearn: 0.2476960\ttotal: 1m 20s\tremaining: 6.55s\n",
      "185:\tlearn: 0.2472585\ttotal: 1m 21s\tremaining: 6.11s\n",
      "186:\tlearn: 0.2470353\ttotal: 1m 21s\tremaining: 5.67s\n",
      "187:\tlearn: 0.2468557\ttotal: 1m 22s\tremaining: 5.23s\n",
      "188:\tlearn: 0.2462004\ttotal: 1m 22s\tremaining: 4.8s\n",
      "189:\tlearn: 0.2457374\ttotal: 1m 22s\tremaining: 4.36s\n",
      "190:\tlearn: 0.2452428\ttotal: 1m 23s\tremaining: 3.92s\n",
      "191:\tlearn: 0.2450330\ttotal: 1m 23s\tremaining: 3.49s\n",
      "192:\tlearn: 0.2447415\ttotal: 1m 24s\tremaining: 3.05s\n",
      "193:\tlearn: 0.2441532\ttotal: 1m 24s\tremaining: 2.62s\n",
      "194:\tlearn: 0.2436205\ttotal: 1m 24s\tremaining: 2.18s\n",
      "195:\tlearn: 0.2432065\ttotal: 1m 25s\tremaining: 1.74s\n",
      "196:\tlearn: 0.2426039\ttotal: 1m 25s\tremaining: 1.31s\n",
      "197:\tlearn: 0.2423494\ttotal: 1m 26s\tremaining: 872ms\n",
      "198:\tlearn: 0.2421502\ttotal: 1m 26s\tremaining: 436ms\n",
      "199:\tlearn: 0.2417096\ttotal: 1m 27s\tremaining: 0us\n",
      "Learning rate set to 0.160068\n",
      "0:\tlearn: 0.6228969\ttotal: 578ms\tremaining: 1m 55s\n",
      "1:\tlearn: 0.5867681\ttotal: 999ms\tremaining: 1m 38s\n",
      "2:\tlearn: 0.5695021\ttotal: 1.43s\tremaining: 1m 33s\n",
      "3:\tlearn: 0.5517609\ttotal: 1.86s\tremaining: 1m 31s\n",
      "4:\tlearn: 0.5345416\ttotal: 2.29s\tremaining: 1m 29s\n",
      "5:\tlearn: 0.5176916\ttotal: 2.71s\tremaining: 1m 27s\n",
      "6:\tlearn: 0.5083709\ttotal: 3.15s\tremaining: 1m 26s\n",
      "7:\tlearn: 0.4999298\ttotal: 3.6s\tremaining: 1m 26s\n",
      "8:\tlearn: 0.4937545\ttotal: 4.02s\tremaining: 1m 25s\n",
      "9:\tlearn: 0.4869180\ttotal: 4.45s\tremaining: 1m 24s\n",
      "10:\tlearn: 0.4804455\ttotal: 4.87s\tremaining: 1m 23s\n",
      "11:\tlearn: 0.4741104\ttotal: 5.3s\tremaining: 1m 23s\n",
      "12:\tlearn: 0.4660585\ttotal: 5.75s\tremaining: 1m 22s\n",
      "13:\tlearn: 0.4608606\ttotal: 6.2s\tremaining: 1m 22s\n",
      "14:\tlearn: 0.4546653\ttotal: 6.68s\tremaining: 1m 22s\n",
      "15:\tlearn: 0.4500846\ttotal: 7.13s\tremaining: 1m 21s\n",
      "16:\tlearn: 0.4467295\ttotal: 7.57s\tremaining: 1m 21s\n",
      "17:\tlearn: 0.4431002\ttotal: 8.01s\tremaining: 1m 20s\n",
      "18:\tlearn: 0.4396611\ttotal: 8.44s\tremaining: 1m 20s\n",
      "19:\tlearn: 0.4355330\ttotal: 8.88s\tremaining: 1m 19s\n",
      "20:\tlearn: 0.4326955\ttotal: 9.32s\tremaining: 1m 19s\n",
      "21:\tlearn: 0.4301773\ttotal: 9.76s\tremaining: 1m 18s\n",
      "22:\tlearn: 0.4276937\ttotal: 10.2s\tremaining: 1m 18s\n",
      "23:\tlearn: 0.4252261\ttotal: 10.6s\tremaining: 1m 17s\n",
      "24:\tlearn: 0.4195750\ttotal: 11s\tremaining: 1m 17s\n",
      "25:\tlearn: 0.4176475\ttotal: 11.5s\tremaining: 1m 16s\n",
      "26:\tlearn: 0.4146174\ttotal: 11.9s\tremaining: 1m 16s\n",
      "27:\tlearn: 0.4120621\ttotal: 12.3s\tremaining: 1m 15s\n",
      "28:\tlearn: 0.4091615\ttotal: 12.8s\tremaining: 1m 15s\n",
      "29:\tlearn: 0.4060437\ttotal: 13.2s\tremaining: 1m 14s\n",
      "30:\tlearn: 0.4044695\ttotal: 13.6s\tremaining: 1m 14s\n",
      "31:\tlearn: 0.4026409\ttotal: 14.1s\tremaining: 1m 13s\n",
      "32:\tlearn: 0.4005952\ttotal: 14.5s\tremaining: 1m 13s\n",
      "33:\tlearn: 0.3981249\ttotal: 14.9s\tremaining: 1m 12s\n",
      "34:\tlearn: 0.3947576\ttotal: 15.3s\tremaining: 1m 12s\n",
      "35:\tlearn: 0.3927108\ttotal: 15.8s\tremaining: 1m 11s\n",
      "36:\tlearn: 0.3904753\ttotal: 16.2s\tremaining: 1m 11s\n",
      "37:\tlearn: 0.3882011\ttotal: 16.8s\tremaining: 1m 11s\n",
      "38:\tlearn: 0.3864446\ttotal: 17.2s\tremaining: 1m 10s\n",
      "39:\tlearn: 0.3842456\ttotal: 17.6s\tremaining: 1m 10s\n",
      "40:\tlearn: 0.3818650\ttotal: 18.1s\tremaining: 1m 10s\n",
      "41:\tlearn: 0.3805533\ttotal: 18.5s\tremaining: 1m 9s\n",
      "42:\tlearn: 0.3793192\ttotal: 19s\tremaining: 1m 9s\n",
      "43:\tlearn: 0.3777313\ttotal: 19.4s\tremaining: 1m 8s\n",
      "44:\tlearn: 0.3756402\ttotal: 19.9s\tremaining: 1m 8s\n",
      "45:\tlearn: 0.3742225\ttotal: 20.3s\tremaining: 1m 8s\n",
      "46:\tlearn: 0.3724454\ttotal: 20.8s\tremaining: 1m 7s\n",
      "47:\tlearn: 0.3707367\ttotal: 21.2s\tremaining: 1m 7s\n",
      "48:\tlearn: 0.3692754\ttotal: 21.7s\tremaining: 1m 6s\n",
      "49:\tlearn: 0.3680559\ttotal: 22.1s\tremaining: 1m 6s\n",
      "50:\tlearn: 0.3663198\ttotal: 22.5s\tremaining: 1m 5s\n",
      "51:\tlearn: 0.3644813\ttotal: 23s\tremaining: 1m 5s\n",
      "52:\tlearn: 0.3630344\ttotal: 23.4s\tremaining: 1m 4s\n",
      "53:\tlearn: 0.3618096\ttotal: 23.8s\tremaining: 1m 4s\n",
      "54:\tlearn: 0.3608120\ttotal: 24.3s\tremaining: 1m 4s\n",
      "55:\tlearn: 0.3595764\ttotal: 24.7s\tremaining: 1m 3s\n",
      "56:\tlearn: 0.3584656\ttotal: 25.2s\tremaining: 1m 3s\n",
      "57:\tlearn: 0.3552381\ttotal: 25.6s\tremaining: 1m 2s\n",
      "58:\tlearn: 0.3540300\ttotal: 26s\tremaining: 1m 2s\n",
      "59:\tlearn: 0.3525052\ttotal: 26.5s\tremaining: 1m 1s\n",
      "60:\tlearn: 0.3513912\ttotal: 27s\tremaining: 1m 1s\n",
      "61:\tlearn: 0.3504124\ttotal: 27.4s\tremaining: 1m 1s\n",
      "62:\tlearn: 0.3490423\ttotal: 27.9s\tremaining: 1m\n",
      "63:\tlearn: 0.3473669\ttotal: 28.3s\tremaining: 1m\n",
      "64:\tlearn: 0.3461702\ttotal: 28.7s\tremaining: 59.7s\n",
      "65:\tlearn: 0.3451549\ttotal: 29.1s\tremaining: 59.2s\n",
      "66:\tlearn: 0.3439617\ttotal: 29.6s\tremaining: 58.7s\n",
      "67:\tlearn: 0.3425325\ttotal: 30s\tremaining: 58.3s\n",
      "68:\tlearn: 0.3407397\ttotal: 30.4s\tremaining: 57.8s\n",
      "69:\tlearn: 0.3395125\ttotal: 30.9s\tremaining: 57.4s\n",
      "70:\tlearn: 0.3384068\ttotal: 31.3s\tremaining: 56.9s\n",
      "71:\tlearn: 0.3371052\ttotal: 31.8s\tremaining: 56.5s\n",
      "72:\tlearn: 0.3354920\ttotal: 32.2s\tremaining: 56s\n",
      "73:\tlearn: 0.3343605\ttotal: 32.7s\tremaining: 55.6s\n",
      "74:\tlearn: 0.3333941\ttotal: 33.1s\tremaining: 55.2s\n",
      "75:\tlearn: 0.3323425\ttotal: 33.6s\tremaining: 54.8s\n",
      "76:\tlearn: 0.3310614\ttotal: 34s\tremaining: 54.3s\n",
      "77:\tlearn: 0.3299928\ttotal: 34.4s\tremaining: 53.9s\n",
      "78:\tlearn: 0.3291154\ttotal: 34.9s\tremaining: 53.4s\n",
      "79:\tlearn: 0.3275061\ttotal: 35.3s\tremaining: 53s\n",
      "80:\tlearn: 0.3265438\ttotal: 35.8s\tremaining: 52.5s\n",
      "81:\tlearn: 0.3256753\ttotal: 36.2s\tremaining: 52.1s\n",
      "82:\tlearn: 0.3246288\ttotal: 36.7s\tremaining: 51.7s\n",
      "83:\tlearn: 0.3224790\ttotal: 37.1s\tremaining: 51.2s\n",
      "84:\tlearn: 0.3216738\ttotal: 37.5s\tremaining: 50.8s\n",
      "85:\tlearn: 0.3202352\ttotal: 38s\tremaining: 50.3s\n",
      "86:\tlearn: 0.3192172\ttotal: 38.4s\tremaining: 49.9s\n",
      "87:\tlearn: 0.3180690\ttotal: 38.8s\tremaining: 49.4s\n",
      "88:\tlearn: 0.3171718\ttotal: 39.3s\tremaining: 49s\n",
      "89:\tlearn: 0.3162562\ttotal: 39.7s\tremaining: 48.5s\n",
      "90:\tlearn: 0.3146040\ttotal: 40.1s\tremaining: 48.1s\n",
      "91:\tlearn: 0.3138328\ttotal: 40.6s\tremaining: 47.6s\n",
      "92:\tlearn: 0.3130799\ttotal: 41s\tremaining: 47.2s\n",
      "93:\tlearn: 0.3122284\ttotal: 41.4s\tremaining: 46.7s\n",
      "94:\tlearn: 0.3113225\ttotal: 41.9s\tremaining: 46.3s\n",
      "95:\tlearn: 0.3101596\ttotal: 42.3s\tremaining: 45.8s\n",
      "96:\tlearn: 0.3087417\ttotal: 42.8s\tremaining: 45.4s\n",
      "97:\tlearn: 0.3078007\ttotal: 43.2s\tremaining: 45s\n",
      "98:\tlearn: 0.3062736\ttotal: 43.7s\tremaining: 44.5s\n",
      "99:\tlearn: 0.3055303\ttotal: 44.1s\tremaining: 44.1s\n",
      "100:\tlearn: 0.3048720\ttotal: 44.6s\tremaining: 43.7s\n",
      "101:\tlearn: 0.3039309\ttotal: 45s\tremaining: 43.2s\n",
      "102:\tlearn: 0.3030553\ttotal: 45.4s\tremaining: 42.8s\n",
      "103:\tlearn: 0.3022313\ttotal: 45.9s\tremaining: 42.3s\n",
      "104:\tlearn: 0.3015364\ttotal: 46.3s\tremaining: 41.9s\n",
      "105:\tlearn: 0.3004572\ttotal: 46.8s\tremaining: 41.5s\n",
      "106:\tlearn: 0.2997298\ttotal: 47.2s\tremaining: 41s\n",
      "107:\tlearn: 0.2992214\ttotal: 47.7s\tremaining: 40.6s\n",
      "108:\tlearn: 0.2983809\ttotal: 48.1s\tremaining: 40.2s\n",
      "109:\tlearn: 0.2973927\ttotal: 48.5s\tremaining: 39.7s\n",
      "110:\tlearn: 0.2965317\ttotal: 49s\tremaining: 39.3s\n",
      "111:\tlearn: 0.2960567\ttotal: 49.4s\tremaining: 38.8s\n",
      "112:\tlearn: 0.2952324\ttotal: 49.8s\tremaining: 38.4s\n",
      "113:\tlearn: 0.2943086\ttotal: 50.3s\tremaining: 37.9s\n",
      "114:\tlearn: 0.2934130\ttotal: 50.7s\tremaining: 37.5s\n",
      "115:\tlearn: 0.2926633\ttotal: 51.2s\tremaining: 37.1s\n",
      "116:\tlearn: 0.2913339\ttotal: 51.6s\tremaining: 36.6s\n",
      "117:\tlearn: 0.2906555\ttotal: 52.1s\tremaining: 36.2s\n",
      "118:\tlearn: 0.2896667\ttotal: 52.5s\tremaining: 35.7s\n",
      "119:\tlearn: 0.2891070\ttotal: 52.9s\tremaining: 35.3s\n",
      "120:\tlearn: 0.2874792\ttotal: 53.4s\tremaining: 34.8s\n",
      "121:\tlearn: 0.2867533\ttotal: 53.8s\tremaining: 34.4s\n",
      "122:\tlearn: 0.2860580\ttotal: 54.3s\tremaining: 34s\n",
      "123:\tlearn: 0.2853466\ttotal: 54.7s\tremaining: 33.6s\n",
      "124:\tlearn: 0.2845460\ttotal: 55.2s\tremaining: 33.1s\n",
      "125:\tlearn: 0.2840700\ttotal: 55.6s\tremaining: 32.7s\n",
      "126:\tlearn: 0.2834031\ttotal: 56.1s\tremaining: 32.2s\n",
      "127:\tlearn: 0.2827648\ttotal: 56.5s\tremaining: 31.8s\n",
      "128:\tlearn: 0.2820203\ttotal: 57s\tremaining: 31.4s\n",
      "129:\tlearn: 0.2812044\ttotal: 57.4s\tremaining: 30.9s\n",
      "130:\tlearn: 0.2805618\ttotal: 57.9s\tremaining: 30.5s\n",
      "131:\tlearn: 0.2801980\ttotal: 58.3s\tremaining: 30s\n",
      "132:\tlearn: 0.2794835\ttotal: 58.8s\tremaining: 29.6s\n",
      "133:\tlearn: 0.2787278\ttotal: 59.2s\tremaining: 29.2s\n",
      "134:\tlearn: 0.2781621\ttotal: 59.6s\tremaining: 28.7s\n",
      "135:\tlearn: 0.2773555\ttotal: 1m\tremaining: 28.3s\n",
      "136:\tlearn: 0.2769190\ttotal: 1m\tremaining: 27.8s\n",
      "137:\tlearn: 0.2761329\ttotal: 1m\tremaining: 27.4s\n",
      "138:\tlearn: 0.2751566\ttotal: 1m 1s\tremaining: 26.9s\n",
      "139:\tlearn: 0.2744058\ttotal: 1m 1s\tremaining: 26.5s\n",
      "140:\tlearn: 0.2740961\ttotal: 1m 2s\tremaining: 26s\n",
      "141:\tlearn: 0.2733012\ttotal: 1m 2s\tremaining: 25.6s\n",
      "142:\tlearn: 0.2727288\ttotal: 1m 3s\tremaining: 25.1s\n",
      "143:\tlearn: 0.2723016\ttotal: 1m 3s\tremaining: 24.7s\n",
      "144:\tlearn: 0.2715367\ttotal: 1m 3s\tremaining: 24.2s\n",
      "145:\tlearn: 0.2709898\ttotal: 1m 4s\tremaining: 23.8s\n",
      "146:\tlearn: 0.2703245\ttotal: 1m 4s\tremaining: 23.3s\n",
      "147:\tlearn: 0.2698544\ttotal: 1m 5s\tremaining: 22.9s\n",
      "148:\tlearn: 0.2691861\ttotal: 1m 5s\tremaining: 22.4s\n",
      "149:\tlearn: 0.2688892\ttotal: 1m 5s\tremaining: 22s\n",
      "150:\tlearn: 0.2683016\ttotal: 1m 6s\tremaining: 21.6s\n",
      "151:\tlearn: 0.2680401\ttotal: 1m 6s\tremaining: 21.1s\n",
      "152:\tlearn: 0.2672665\ttotal: 1m 7s\tremaining: 20.7s\n",
      "153:\tlearn: 0.2667329\ttotal: 1m 7s\tremaining: 20.2s\n",
      "154:\tlearn: 0.2661654\ttotal: 1m 8s\tremaining: 19.8s\n",
      "155:\tlearn: 0.2657591\ttotal: 1m 8s\tremaining: 19.3s\n",
      "156:\tlearn: 0.2651757\ttotal: 1m 8s\tremaining: 18.9s\n",
      "157:\tlearn: 0.2647722\ttotal: 1m 9s\tremaining: 18.4s\n",
      "158:\tlearn: 0.2641474\ttotal: 1m 9s\tremaining: 18s\n",
      "159:\tlearn: 0.2636754\ttotal: 1m 10s\tremaining: 17.6s\n",
      "160:\tlearn: 0.2631748\ttotal: 1m 10s\tremaining: 17.1s\n",
      "161:\tlearn: 0.2626113\ttotal: 1m 11s\tremaining: 16.7s\n",
      "162:\tlearn: 0.2622160\ttotal: 1m 11s\tremaining: 16.2s\n",
      "163:\tlearn: 0.2619479\ttotal: 1m 11s\tremaining: 15.8s\n",
      "164:\tlearn: 0.2613416\ttotal: 1m 12s\tremaining: 15.3s\n",
      "165:\tlearn: 0.2607484\ttotal: 1m 12s\tremaining: 14.9s\n",
      "166:\tlearn: 0.2603504\ttotal: 1m 13s\tremaining: 14.5s\n",
      "167:\tlearn: 0.2598415\ttotal: 1m 13s\tremaining: 14s\n",
      "168:\tlearn: 0.2595020\ttotal: 1m 14s\tremaining: 13.6s\n",
      "169:\tlearn: 0.2590139\ttotal: 1m 14s\tremaining: 13.1s\n",
      "170:\tlearn: 0.2584403\ttotal: 1m 14s\tremaining: 12.7s\n",
      "171:\tlearn: 0.2582133\ttotal: 1m 15s\tremaining: 12.3s\n",
      "172:\tlearn: 0.2577604\ttotal: 1m 15s\tremaining: 11.8s\n",
      "173:\tlearn: 0.2572431\ttotal: 1m 16s\tremaining: 11.4s\n",
      "174:\tlearn: 0.2567416\ttotal: 1m 16s\tremaining: 11s\n",
      "175:\tlearn: 0.2564236\ttotal: 1m 17s\tremaining: 10.5s\n",
      "176:\tlearn: 0.2562199\ttotal: 1m 17s\tremaining: 10.1s\n",
      "177:\tlearn: 0.2557705\ttotal: 1m 17s\tremaining: 9.64s\n",
      "178:\tlearn: 0.2554733\ttotal: 1m 18s\tremaining: 9.2s\n",
      "179:\tlearn: 0.2549589\ttotal: 1m 18s\tremaining: 8.76s\n",
      "180:\tlearn: 0.2544953\ttotal: 1m 19s\tremaining: 8.32s\n",
      "181:\tlearn: 0.2539517\ttotal: 1m 19s\tremaining: 7.88s\n",
      "182:\tlearn: 0.2536057\ttotal: 1m 20s\tremaining: 7.44s\n",
      "183:\tlearn: 0.2532038\ttotal: 1m 20s\tremaining: 7s\n",
      "184:\tlearn: 0.2524715\ttotal: 1m 20s\tremaining: 6.56s\n",
      "185:\tlearn: 0.2523109\ttotal: 1m 21s\tremaining: 6.12s\n",
      "186:\tlearn: 0.2518277\ttotal: 1m 21s\tremaining: 5.68s\n",
      "187:\tlearn: 0.2515818\ttotal: 1m 22s\tremaining: 5.25s\n",
      "188:\tlearn: 0.2509939\ttotal: 1m 22s\tremaining: 4.81s\n",
      "189:\tlearn: 0.2506982\ttotal: 1m 23s\tremaining: 4.37s\n",
      "190:\tlearn: 0.2502541\ttotal: 1m 23s\tremaining: 3.93s\n",
      "191:\tlearn: 0.2499968\ttotal: 1m 23s\tremaining: 3.49s\n",
      "192:\tlearn: 0.2497682\ttotal: 1m 24s\tremaining: 3.06s\n",
      "193:\tlearn: 0.2494138\ttotal: 1m 24s\tremaining: 2.62s\n",
      "194:\tlearn: 0.2484390\ttotal: 1m 25s\tremaining: 2.18s\n",
      "195:\tlearn: 0.2471714\ttotal: 1m 25s\tremaining: 1.75s\n",
      "196:\tlearn: 0.2469041\ttotal: 1m 25s\tremaining: 1.31s\n",
      "197:\tlearn: 0.2463832\ttotal: 1m 26s\tremaining: 873ms\n",
      "198:\tlearn: 0.2462112\ttotal: 1m 26s\tremaining: 436ms\n",
      "199:\tlearn: 0.2459029\ttotal: 1m 27s\tremaining: 0us\n",
      "Learning rate set to 0.160065\n",
      "0:\tlearn: 0.6276270\ttotal: 569ms\tremaining: 1m 53s\n",
      "1:\tlearn: 0.5869263\ttotal: 984ms\tremaining: 1m 37s\n",
      "2:\tlearn: 0.5640440\ttotal: 1.4s\tremaining: 1m 31s\n",
      "3:\tlearn: 0.5440708\ttotal: 1.83s\tremaining: 1m 29s\n",
      "4:\tlearn: 0.5308763\ttotal: 2.25s\tremaining: 1m 27s\n",
      "5:\tlearn: 0.5190135\ttotal: 2.67s\tremaining: 1m 26s\n",
      "6:\tlearn: 0.5072922\ttotal: 3.11s\tremaining: 1m 25s\n",
      "7:\tlearn: 0.4989296\ttotal: 3.55s\tremaining: 1m 25s\n",
      "8:\tlearn: 0.4911898\ttotal: 3.97s\tremaining: 1m 24s\n",
      "9:\tlearn: 0.4831340\ttotal: 4.4s\tremaining: 1m 23s\n",
      "10:\tlearn: 0.4787091\ttotal: 4.83s\tremaining: 1m 23s\n",
      "11:\tlearn: 0.4736325\ttotal: 5.26s\tremaining: 1m 22s\n",
      "12:\tlearn: 0.4661110\ttotal: 5.7s\tremaining: 1m 22s\n",
      "13:\tlearn: 0.4579955\ttotal: 6.15s\tremaining: 1m 21s\n",
      "14:\tlearn: 0.4523586\ttotal: 6.61s\tremaining: 1m 21s\n",
      "15:\tlearn: 0.4484736\ttotal: 7.05s\tremaining: 1m 21s\n",
      "16:\tlearn: 0.4442995\ttotal: 7.47s\tremaining: 1m 20s\n",
      "17:\tlearn: 0.4393761\ttotal: 7.9s\tremaining: 1m 19s\n",
      "18:\tlearn: 0.4361218\ttotal: 8.32s\tremaining: 1m 19s\n",
      "19:\tlearn: 0.4334416\ttotal: 8.76s\tremaining: 1m 18s\n",
      "20:\tlearn: 0.4299275\ttotal: 9.21s\tremaining: 1m 18s\n",
      "21:\tlearn: 0.4265637\ttotal: 9.64s\tremaining: 1m 17s\n",
      "22:\tlearn: 0.4247326\ttotal: 10.1s\tremaining: 1m 17s\n",
      "23:\tlearn: 0.4199113\ttotal: 10.5s\tremaining: 1m 16s\n",
      "24:\tlearn: 0.4174836\ttotal: 10.9s\tremaining: 1m 16s\n",
      "25:\tlearn: 0.4133717\ttotal: 11.3s\tremaining: 1m 15s\n",
      "26:\tlearn: 0.4101823\ttotal: 11.8s\tremaining: 1m 15s\n",
      "27:\tlearn: 0.4085608\ttotal: 12.2s\tremaining: 1m 14s\n",
      "28:\tlearn: 0.4057705\ttotal: 12.6s\tremaining: 1m 14s\n",
      "29:\tlearn: 0.4028401\ttotal: 13.1s\tremaining: 1m 14s\n",
      "30:\tlearn: 0.4008257\ttotal: 13.5s\tremaining: 1m 13s\n",
      "31:\tlearn: 0.3990375\ttotal: 13.9s\tremaining: 1m 13s\n",
      "32:\tlearn: 0.3966794\ttotal: 14.4s\tremaining: 1m 12s\n",
      "33:\tlearn: 0.3945062\ttotal: 14.8s\tremaining: 1m 12s\n",
      "34:\tlearn: 0.3921970\ttotal: 15.2s\tremaining: 1m 11s\n",
      "35:\tlearn: 0.3903371\ttotal: 15.6s\tremaining: 1m 11s\n",
      "36:\tlearn: 0.3886213\ttotal: 16.1s\tremaining: 1m 10s\n",
      "37:\tlearn: 0.3856034\ttotal: 16.5s\tremaining: 1m 10s\n",
      "38:\tlearn: 0.3820342\ttotal: 16.9s\tremaining: 1m 9s\n",
      "39:\tlearn: 0.3802871\ttotal: 17.4s\tremaining: 1m 9s\n",
      "40:\tlearn: 0.3790227\ttotal: 17.8s\tremaining: 1m 8s\n",
      "41:\tlearn: 0.3776056\ttotal: 18.2s\tremaining: 1m 8s\n",
      "42:\tlearn: 0.3753489\ttotal: 18.6s\tremaining: 1m 8s\n",
      "43:\tlearn: 0.3728750\ttotal: 19.1s\tremaining: 1m 7s\n",
      "44:\tlearn: 0.3713760\ttotal: 19.5s\tremaining: 1m 7s\n",
      "45:\tlearn: 0.3702392\ttotal: 19.9s\tremaining: 1m 6s\n",
      "46:\tlearn: 0.3684611\ttotal: 20.3s\tremaining: 1m 6s\n",
      "47:\tlearn: 0.3669141\ttotal: 20.8s\tremaining: 1m 5s\n",
      "48:\tlearn: 0.3655826\ttotal: 21.2s\tremaining: 1m 5s\n",
      "49:\tlearn: 0.3642708\ttotal: 21.6s\tremaining: 1m 4s\n",
      "50:\tlearn: 0.3630556\ttotal: 22s\tremaining: 1m 4s\n",
      "51:\tlearn: 0.3611101\ttotal: 22.5s\tremaining: 1m 3s\n",
      "52:\tlearn: 0.3592590\ttotal: 22.9s\tremaining: 1m 3s\n",
      "53:\tlearn: 0.3577323\ttotal: 23.3s\tremaining: 1m 3s\n",
      "54:\tlearn: 0.3561672\ttotal: 23.7s\tremaining: 1m 2s\n",
      "55:\tlearn: 0.3548532\ttotal: 24.2s\tremaining: 1m 2s\n",
      "56:\tlearn: 0.3537576\ttotal: 24.6s\tremaining: 1m 1s\n",
      "57:\tlearn: 0.3526352\ttotal: 25s\tremaining: 1m 1s\n",
      "58:\tlearn: 0.3513294\ttotal: 25.4s\tremaining: 1m\n",
      "59:\tlearn: 0.3500342\ttotal: 25.9s\tremaining: 1m\n",
      "60:\tlearn: 0.3490088\ttotal: 26.3s\tremaining: 59.9s\n",
      "61:\tlearn: 0.3476959\ttotal: 26.8s\tremaining: 59.5s\n",
      "62:\tlearn: 0.3458090\ttotal: 27.2s\tremaining: 59.1s\n",
      "63:\tlearn: 0.3445252\ttotal: 27.6s\tremaining: 58.7s\n",
      "64:\tlearn: 0.3432380\ttotal: 28.1s\tremaining: 58.5s\n",
      "65:\tlearn: 0.3417680\ttotal: 28.6s\tremaining: 58s\n",
      "66:\tlearn: 0.3397132\ttotal: 29s\tremaining: 57.5s\n",
      "67:\tlearn: 0.3387207\ttotal: 29.4s\tremaining: 57.1s\n",
      "68:\tlearn: 0.3372971\ttotal: 29.9s\tremaining: 56.7s\n",
      "69:\tlearn: 0.3363057\ttotal: 30.3s\tremaining: 56.2s\n",
      "70:\tlearn: 0.3350820\ttotal: 30.7s\tremaining: 55.8s\n",
      "71:\tlearn: 0.3335694\ttotal: 31.1s\tremaining: 55.3s\n",
      "72:\tlearn: 0.3320990\ttotal: 31.5s\tremaining: 54.9s\n",
      "73:\tlearn: 0.3309661\ttotal: 32s\tremaining: 54.4s\n",
      "74:\tlearn: 0.3297017\ttotal: 32.4s\tremaining: 54s\n",
      "75:\tlearn: 0.3285240\ttotal: 32.8s\tremaining: 53.5s\n",
      "76:\tlearn: 0.3266165\ttotal: 33.3s\tremaining: 53.1s\n",
      "77:\tlearn: 0.3256752\ttotal: 33.7s\tremaining: 52.7s\n",
      "78:\tlearn: 0.3245538\ttotal: 34.1s\tremaining: 52.3s\n",
      "79:\tlearn: 0.3235658\ttotal: 34.6s\tremaining: 51.8s\n",
      "80:\tlearn: 0.3226864\ttotal: 35s\tremaining: 51.4s\n",
      "81:\tlearn: 0.3212902\ttotal: 35.4s\tremaining: 51s\n",
      "82:\tlearn: 0.3200691\ttotal: 35.9s\tremaining: 50.6s\n",
      "83:\tlearn: 0.3190670\ttotal: 36.3s\tremaining: 50.1s\n",
      "84:\tlearn: 0.3181788\ttotal: 36.8s\tremaining: 49.8s\n",
      "85:\tlearn: 0.3172061\ttotal: 37.2s\tremaining: 49.3s\n",
      "86:\tlearn: 0.3163094\ttotal: 37.7s\tremaining: 48.9s\n",
      "87:\tlearn: 0.3153590\ttotal: 38.1s\tremaining: 48.5s\n",
      "88:\tlearn: 0.3142395\ttotal: 38.5s\tremaining: 48s\n",
      "89:\tlearn: 0.3132001\ttotal: 39s\tremaining: 47.6s\n",
      "90:\tlearn: 0.3124148\ttotal: 39.4s\tremaining: 47.2s\n",
      "91:\tlearn: 0.3115376\ttotal: 39.8s\tremaining: 46.8s\n",
      "92:\tlearn: 0.3107090\ttotal: 40.3s\tremaining: 46.3s\n",
      "93:\tlearn: 0.3099599\ttotal: 40.7s\tremaining: 45.9s\n",
      "94:\tlearn: 0.3084457\ttotal: 41.1s\tremaining: 45.4s\n",
      "95:\tlearn: 0.3076695\ttotal: 41.5s\tremaining: 45s\n",
      "96:\tlearn: 0.3068829\ttotal: 42s\tremaining: 44.6s\n",
      "97:\tlearn: 0.3060464\ttotal: 42.4s\tremaining: 44.1s\n",
      "98:\tlearn: 0.3039235\ttotal: 42.9s\tremaining: 43.7s\n",
      "99:\tlearn: 0.3031215\ttotal: 43.3s\tremaining: 43.3s\n",
      "100:\tlearn: 0.3021271\ttotal: 43.7s\tremaining: 42.9s\n",
      "101:\tlearn: 0.3013098\ttotal: 44.2s\tremaining: 42.4s\n",
      "102:\tlearn: 0.3004408\ttotal: 44.6s\tremaining: 42s\n",
      "103:\tlearn: 0.2995023\ttotal: 45s\tremaining: 41.6s\n",
      "104:\tlearn: 0.2987117\ttotal: 45.5s\tremaining: 41.1s\n",
      "105:\tlearn: 0.2979171\ttotal: 45.9s\tremaining: 40.7s\n",
      "106:\tlearn: 0.2973705\ttotal: 46.4s\tremaining: 40.4s\n",
      "107:\tlearn: 0.2963241\ttotal: 46.9s\tremaining: 40s\n",
      "108:\tlearn: 0.2952827\ttotal: 47.4s\tremaining: 39.5s\n",
      "109:\tlearn: 0.2948438\ttotal: 47.8s\tremaining: 39.1s\n",
      "110:\tlearn: 0.2940268\ttotal: 48.3s\tremaining: 38.7s\n",
      "111:\tlearn: 0.2932053\ttotal: 48.7s\tremaining: 38.3s\n",
      "112:\tlearn: 0.2925259\ttotal: 49.1s\tremaining: 37.8s\n",
      "113:\tlearn: 0.2915997\ttotal: 49.6s\tremaining: 37.4s\n",
      "114:\tlearn: 0.2909448\ttotal: 50s\tremaining: 37s\n",
      "115:\tlearn: 0.2900070\ttotal: 50.5s\tremaining: 36.6s\n",
      "116:\tlearn: 0.2889208\ttotal: 50.9s\tremaining: 36.1s\n",
      "117:\tlearn: 0.2879870\ttotal: 51.4s\tremaining: 35.7s\n",
      "118:\tlearn: 0.2868795\ttotal: 51.8s\tremaining: 35.3s\n",
      "119:\tlearn: 0.2862588\ttotal: 52.2s\tremaining: 34.8s\n",
      "120:\tlearn: 0.2853013\ttotal: 52.7s\tremaining: 34.4s\n",
      "121:\tlearn: 0.2844677\ttotal: 53.1s\tremaining: 34s\n",
      "122:\tlearn: 0.2835922\ttotal: 53.5s\tremaining: 33.5s\n",
      "123:\tlearn: 0.2828828\ttotal: 54s\tremaining: 33.1s\n",
      "124:\tlearn: 0.2821369\ttotal: 54.4s\tremaining: 32.7s\n",
      "125:\tlearn: 0.2817444\ttotal: 54.9s\tremaining: 32.2s\n",
      "126:\tlearn: 0.2811442\ttotal: 55.3s\tremaining: 31.8s\n",
      "127:\tlearn: 0.2805149\ttotal: 55.7s\tremaining: 31.4s\n",
      "128:\tlearn: 0.2796686\ttotal: 56.2s\tremaining: 30.9s\n",
      "129:\tlearn: 0.2788522\ttotal: 56.7s\tremaining: 30.5s\n",
      "130:\tlearn: 0.2781549\ttotal: 57.1s\tremaining: 30.1s\n",
      "131:\tlearn: 0.2776097\ttotal: 57.6s\tremaining: 29.6s\n",
      "132:\tlearn: 0.2769230\ttotal: 58s\tremaining: 29.2s\n",
      "133:\tlearn: 0.2766508\ttotal: 58.4s\tremaining: 28.8s\n",
      "134:\tlearn: 0.2759598\ttotal: 58.8s\tremaining: 28.3s\n",
      "135:\tlearn: 0.2751224\ttotal: 59.2s\tremaining: 27.9s\n",
      "136:\tlearn: 0.2745353\ttotal: 59.7s\tremaining: 27.4s\n",
      "137:\tlearn: 0.2740578\ttotal: 1m\tremaining: 27s\n",
      "138:\tlearn: 0.2730983\ttotal: 1m\tremaining: 26.6s\n",
      "139:\tlearn: 0.2724187\ttotal: 1m\tremaining: 26.1s\n",
      "140:\tlearn: 0.2720482\ttotal: 1m 1s\tremaining: 25.7s\n",
      "141:\tlearn: 0.2714273\ttotal: 1m 1s\tremaining: 25.2s\n",
      "142:\tlearn: 0.2707965\ttotal: 1m 2s\tremaining: 24.8s\n",
      "143:\tlearn: 0.2703141\ttotal: 1m 2s\tremaining: 24.3s\n",
      "144:\tlearn: 0.2697856\ttotal: 1m 3s\tremaining: 23.9s\n",
      "145:\tlearn: 0.2694994\ttotal: 1m 3s\tremaining: 23.5s\n",
      "146:\tlearn: 0.2690164\ttotal: 1m 3s\tremaining: 23s\n",
      "147:\tlearn: 0.2681475\ttotal: 1m 4s\tremaining: 22.6s\n",
      "148:\tlearn: 0.2675540\ttotal: 1m 4s\tremaining: 22.1s\n",
      "149:\tlearn: 0.2672112\ttotal: 1m 5s\tremaining: 21.7s\n",
      "150:\tlearn: 0.2665795\ttotal: 1m 5s\tremaining: 21.3s\n",
      "151:\tlearn: 0.2662596\ttotal: 1m 5s\tremaining: 20.8s\n",
      "152:\tlearn: 0.2657743\ttotal: 1m 6s\tremaining: 20.4s\n",
      "153:\tlearn: 0.2648934\ttotal: 1m 6s\tremaining: 20s\n",
      "154:\tlearn: 0.2646670\ttotal: 1m 7s\tremaining: 19.5s\n",
      "155:\tlearn: 0.2644095\ttotal: 1m 7s\tremaining: 19.1s\n",
      "156:\tlearn: 0.2639120\ttotal: 1m 8s\tremaining: 18.7s\n",
      "157:\tlearn: 0.2633697\ttotal: 1m 8s\tremaining: 18.2s\n",
      "158:\tlearn: 0.2627742\ttotal: 1m 8s\tremaining: 17.8s\n",
      "159:\tlearn: 0.2624700\ttotal: 1m 9s\tremaining: 17.3s\n",
      "160:\tlearn: 0.2617526\ttotal: 1m 9s\tremaining: 16.9s\n",
      "161:\tlearn: 0.2612749\ttotal: 1m 10s\tremaining: 16.5s\n",
      "162:\tlearn: 0.2607095\ttotal: 1m 10s\tremaining: 16s\n",
      "163:\tlearn: 0.2600650\ttotal: 1m 11s\tremaining: 15.6s\n",
      "164:\tlearn: 0.2595009\ttotal: 1m 11s\tremaining: 15.2s\n",
      "165:\tlearn: 0.2586847\ttotal: 1m 11s\tremaining: 14.7s\n",
      "166:\tlearn: 0.2580666\ttotal: 1m 12s\tremaining: 14.3s\n",
      "167:\tlearn: 0.2577099\ttotal: 1m 12s\tremaining: 13.9s\n",
      "168:\tlearn: 0.2574725\ttotal: 1m 13s\tremaining: 13.4s\n",
      "169:\tlearn: 0.2568641\ttotal: 1m 13s\tremaining: 13s\n",
      "170:\tlearn: 0.2566867\ttotal: 1m 13s\tremaining: 12.5s\n",
      "171:\tlearn: 0.2558780\ttotal: 1m 14s\tremaining: 12.1s\n",
      "172:\tlearn: 0.2555521\ttotal: 1m 14s\tremaining: 11.7s\n",
      "173:\tlearn: 0.2549030\ttotal: 1m 15s\tremaining: 11.3s\n",
      "174:\tlearn: 0.2542994\ttotal: 1m 15s\tremaining: 10.8s\n",
      "175:\tlearn: 0.2537722\ttotal: 1m 16s\tremaining: 10.4s\n",
      "176:\tlearn: 0.2533834\ttotal: 1m 16s\tremaining: 9.96s\n",
      "177:\tlearn: 0.2528494\ttotal: 1m 17s\tremaining: 9.53s\n",
      "178:\tlearn: 0.2526500\ttotal: 1m 17s\tremaining: 9.09s\n",
      "179:\tlearn: 0.2521652\ttotal: 1m 17s\tremaining: 8.66s\n",
      "180:\tlearn: 0.2519055\ttotal: 1m 18s\tremaining: 8.22s\n",
      "181:\tlearn: 0.2513823\ttotal: 1m 18s\tremaining: 7.79s\n",
      "182:\tlearn: 0.2510196\ttotal: 1m 19s\tremaining: 7.35s\n",
      "183:\tlearn: 0.2495153\ttotal: 1m 19s\tremaining: 6.92s\n",
      "184:\tlearn: 0.2490292\ttotal: 1m 20s\tremaining: 6.49s\n",
      "185:\tlearn: 0.2488197\ttotal: 1m 20s\tremaining: 6.05s\n",
      "186:\tlearn: 0.2483044\ttotal: 1m 20s\tremaining: 5.62s\n",
      "187:\tlearn: 0.2478677\ttotal: 1m 21s\tremaining: 5.19s\n",
      "188:\tlearn: 0.2476941\ttotal: 1m 21s\tremaining: 4.75s\n",
      "189:\tlearn: 0.2472907\ttotal: 1m 22s\tremaining: 4.32s\n",
      "190:\tlearn: 0.2469192\ttotal: 1m 22s\tremaining: 3.89s\n",
      "191:\tlearn: 0.2463295\ttotal: 1m 22s\tremaining: 3.46s\n",
      "192:\tlearn: 0.2461272\ttotal: 1m 23s\tremaining: 3.02s\n",
      "193:\tlearn: 0.2455421\ttotal: 1m 23s\tremaining: 2.59s\n",
      "194:\tlearn: 0.2452467\ttotal: 1m 24s\tremaining: 2.16s\n",
      "195:\tlearn: 0.2445153\ttotal: 1m 24s\tremaining: 1.73s\n",
      "196:\tlearn: 0.2443562\ttotal: 1m 25s\tremaining: 1.29s\n",
      "197:\tlearn: 0.2438338\ttotal: 1m 25s\tremaining: 863ms\n",
      "198:\tlearn: 0.2434029\ttotal: 1m 25s\tremaining: 432ms\n",
      "199:\tlearn: 0.2432011\ttotal: 1m 26s\tremaining: 0us\n",
      "Learning rate set to 0.160068\n",
      "0:\tlearn: 0.6347584\ttotal: 604ms\tremaining: 2m\n",
      "1:\tlearn: 0.5915228\ttotal: 1.07s\tremaining: 1m 46s\n",
      "2:\tlearn: 0.5654430\ttotal: 1.53s\tremaining: 1m 40s\n",
      "3:\tlearn: 0.5451875\ttotal: 1.98s\tremaining: 1m 37s\n",
      "4:\tlearn: 0.5334045\ttotal: 2.43s\tremaining: 1m 34s\n",
      "5:\tlearn: 0.5203588\ttotal: 2.89s\tremaining: 1m 33s\n",
      "6:\tlearn: 0.5082683\ttotal: 3.33s\tremaining: 1m 31s\n",
      "7:\tlearn: 0.5003565\ttotal: 3.81s\tremaining: 1m 31s\n",
      "8:\tlearn: 0.4929500\ttotal: 4.27s\tremaining: 1m 30s\n",
      "9:\tlearn: 0.4839964\ttotal: 4.73s\tremaining: 1m 29s\n",
      "10:\tlearn: 0.4759829\ttotal: 5.18s\tremaining: 1m 29s\n",
      "11:\tlearn: 0.4709619\ttotal: 5.64s\tremaining: 1m 28s\n",
      "12:\tlearn: 0.4656349\ttotal: 6.11s\tremaining: 1m 27s\n",
      "13:\tlearn: 0.4573065\ttotal: 6.58s\tremaining: 1m 27s\n",
      "14:\tlearn: 0.4533341\ttotal: 7.06s\tremaining: 1m 27s\n",
      "15:\tlearn: 0.4491238\ttotal: 7.55s\tremaining: 1m 26s\n",
      "16:\tlearn: 0.4454967\ttotal: 8.02s\tremaining: 1m 26s\n",
      "17:\tlearn: 0.4404022\ttotal: 8.44s\tremaining: 1m 25s\n",
      "18:\tlearn: 0.4359910\ttotal: 8.88s\tremaining: 1m 24s\n",
      "19:\tlearn: 0.4320089\ttotal: 9.32s\tremaining: 1m 23s\n",
      "20:\tlearn: 0.4276040\ttotal: 9.76s\tremaining: 1m 23s\n",
      "21:\tlearn: 0.4248163\ttotal: 10.2s\tremaining: 1m 22s\n",
      "22:\tlearn: 0.4212669\ttotal: 10.6s\tremaining: 1m 21s\n",
      "23:\tlearn: 0.4177807\ttotal: 11.1s\tremaining: 1m 21s\n",
      "24:\tlearn: 0.4144275\ttotal: 11.5s\tremaining: 1m 20s\n",
      "25:\tlearn: 0.4121325\ttotal: 12s\tremaining: 1m 19s\n",
      "26:\tlearn: 0.4097225\ttotal: 12.4s\tremaining: 1m 19s\n",
      "27:\tlearn: 0.4075632\ttotal: 12.9s\tremaining: 1m 19s\n",
      "28:\tlearn: 0.4050523\ttotal: 13.3s\tremaining: 1m 18s\n",
      "29:\tlearn: 0.4028368\ttotal: 13.8s\tremaining: 1m 17s\n",
      "30:\tlearn: 0.4005238\ttotal: 14.2s\tremaining: 1m 17s\n",
      "31:\tlearn: 0.3983357\ttotal: 14.7s\tremaining: 1m 17s\n",
      "32:\tlearn: 0.3957648\ttotal: 15.2s\tremaining: 1m 16s\n",
      "33:\tlearn: 0.3930151\ttotal: 15.6s\tremaining: 1m 16s\n",
      "34:\tlearn: 0.3908920\ttotal: 16.1s\tremaining: 1m 15s\n",
      "35:\tlearn: 0.3887923\ttotal: 16.5s\tremaining: 1m 15s\n",
      "36:\tlearn: 0.3862979\ttotal: 17s\tremaining: 1m 14s\n",
      "37:\tlearn: 0.3841766\ttotal: 17.5s\tremaining: 1m 14s\n",
      "38:\tlearn: 0.3826276\ttotal: 17.9s\tremaining: 1m 13s\n",
      "39:\tlearn: 0.3803556\ttotal: 18.3s\tremaining: 1m 13s\n",
      "40:\tlearn: 0.3781127\ttotal: 18.8s\tremaining: 1m 12s\n",
      "41:\tlearn: 0.3770542\ttotal: 19.2s\tremaining: 1m 12s\n",
      "42:\tlearn: 0.3753727\ttotal: 19.6s\tremaining: 1m 11s\n",
      "43:\tlearn: 0.3733171\ttotal: 20s\tremaining: 1m 11s\n",
      "44:\tlearn: 0.3716755\ttotal: 20.5s\tremaining: 1m 10s\n",
      "45:\tlearn: 0.3697455\ttotal: 20.9s\tremaining: 1m 10s\n",
      "46:\tlearn: 0.3677839\ttotal: 21.4s\tremaining: 1m 9s\n",
      "47:\tlearn: 0.3666038\ttotal: 21.8s\tremaining: 1m 8s\n",
      "48:\tlearn: 0.3652057\ttotal: 22.2s\tremaining: 1m 8s\n",
      "49:\tlearn: 0.3638772\ttotal: 22.6s\tremaining: 1m 7s\n",
      "50:\tlearn: 0.3616316\ttotal: 23.1s\tremaining: 1m 7s\n",
      "51:\tlearn: 0.3594547\ttotal: 23.5s\tremaining: 1m 6s\n",
      "52:\tlearn: 0.3581771\ttotal: 24s\tremaining: 1m 6s\n",
      "53:\tlearn: 0.3565613\ttotal: 24.4s\tremaining: 1m 6s\n",
      "54:\tlearn: 0.3548114\ttotal: 24.9s\tremaining: 1m 5s\n",
      "55:\tlearn: 0.3537385\ttotal: 25.3s\tremaining: 1m 4s\n",
      "56:\tlearn: 0.3525909\ttotal: 25.7s\tremaining: 1m 4s\n",
      "57:\tlearn: 0.3505193\ttotal: 26.1s\tremaining: 1m 3s\n",
      "58:\tlearn: 0.3490386\ttotal: 26.6s\tremaining: 1m 3s\n",
      "59:\tlearn: 0.3478099\ttotal: 27s\tremaining: 1m 2s\n",
      "60:\tlearn: 0.3466753\ttotal: 27.4s\tremaining: 1m 2s\n",
      "61:\tlearn: 0.3447598\ttotal: 27.9s\tremaining: 1m 2s\n",
      "62:\tlearn: 0.3428704\ttotal: 28.3s\tremaining: 1m 1s\n",
      "63:\tlearn: 0.3414063\ttotal: 28.7s\tremaining: 1m 1s\n",
      "64:\tlearn: 0.3401346\ttotal: 29.2s\tremaining: 1m\n",
      "65:\tlearn: 0.3388417\ttotal: 29.6s\tremaining: 1m\n",
      "66:\tlearn: 0.3379497\ttotal: 30s\tremaining: 59.5s\n",
      "67:\tlearn: 0.3365779\ttotal: 30.4s\tremaining: 59s\n",
      "68:\tlearn: 0.3351849\ttotal: 30.8s\tremaining: 58.6s\n",
      "69:\tlearn: 0.3341644\ttotal: 31.3s\tremaining: 58.1s\n",
      "70:\tlearn: 0.3331396\ttotal: 31.7s\tremaining: 57.6s\n",
      "71:\tlearn: 0.3320010\ttotal: 32.1s\tremaining: 57.1s\n",
      "72:\tlearn: 0.3304309\ttotal: 32.5s\tremaining: 56.6s\n",
      "73:\tlearn: 0.3294102\ttotal: 33s\tremaining: 56.1s\n",
      "74:\tlearn: 0.3271076\ttotal: 33.4s\tremaining: 55.6s\n",
      "75:\tlearn: 0.3256071\ttotal: 33.8s\tremaining: 55.2s\n",
      "76:\tlearn: 0.3246051\ttotal: 34.3s\tremaining: 54.7s\n",
      "77:\tlearn: 0.3231717\ttotal: 34.7s\tremaining: 54.3s\n",
      "78:\tlearn: 0.3220567\ttotal: 35.1s\tremaining: 53.8s\n",
      "79:\tlearn: 0.3206053\ttotal: 35.5s\tremaining: 53.3s\n",
      "80:\tlearn: 0.3196857\ttotal: 35.9s\tremaining: 52.8s\n",
      "81:\tlearn: 0.3183870\ttotal: 36.4s\tremaining: 52.3s\n",
      "82:\tlearn: 0.3174033\ttotal: 36.8s\tremaining: 51.9s\n",
      "83:\tlearn: 0.3162686\ttotal: 37.3s\tremaining: 51.5s\n",
      "84:\tlearn: 0.3149398\ttotal: 37.7s\tremaining: 51s\n",
      "85:\tlearn: 0.3137239\ttotal: 38.1s\tremaining: 50.5s\n",
      "86:\tlearn: 0.3130544\ttotal: 38.5s\tremaining: 50s\n",
      "87:\tlearn: 0.3122203\ttotal: 39s\tremaining: 49.6s\n",
      "88:\tlearn: 0.3113358\ttotal: 39.4s\tremaining: 49.1s\n",
      "89:\tlearn: 0.3103694\ttotal: 39.8s\tremaining: 48.7s\n",
      "90:\tlearn: 0.3089509\ttotal: 40.3s\tremaining: 48.2s\n",
      "91:\tlearn: 0.3083588\ttotal: 40.7s\tremaining: 47.8s\n",
      "92:\tlearn: 0.3067213\ttotal: 41.1s\tremaining: 47.3s\n",
      "93:\tlearn: 0.3057910\ttotal: 41.5s\tremaining: 46.8s\n",
      "94:\tlearn: 0.3047727\ttotal: 41.9s\tremaining: 46.4s\n",
      "95:\tlearn: 0.3039655\ttotal: 42.4s\tremaining: 45.9s\n",
      "96:\tlearn: 0.3029495\ttotal: 42.8s\tremaining: 45.4s\n",
      "97:\tlearn: 0.3019513\ttotal: 43.2s\tremaining: 45s\n",
      "98:\tlearn: 0.3009089\ttotal: 43.7s\tremaining: 44.5s\n",
      "99:\tlearn: 0.2996823\ttotal: 44.1s\tremaining: 44.1s\n",
      "100:\tlearn: 0.2988184\ttotal: 44.5s\tremaining: 43.6s\n",
      "101:\tlearn: 0.2979400\ttotal: 45s\tremaining: 43.2s\n",
      "102:\tlearn: 0.2974225\ttotal: 45.4s\tremaining: 42.7s\n",
      "103:\tlearn: 0.2966653\ttotal: 45.8s\tremaining: 42.3s\n",
      "104:\tlearn: 0.2960612\ttotal: 46.2s\tremaining: 41.8s\n",
      "105:\tlearn: 0.2948573\ttotal: 46.6s\tremaining: 41.4s\n",
      "106:\tlearn: 0.2942123\ttotal: 47s\tremaining: 40.9s\n",
      "107:\tlearn: 0.2934663\ttotal: 47.5s\tremaining: 40.5s\n",
      "108:\tlearn: 0.2929491\ttotal: 47.9s\tremaining: 40s\n",
      "109:\tlearn: 0.2921469\ttotal: 48.3s\tremaining: 39.5s\n",
      "110:\tlearn: 0.2916362\ttotal: 48.7s\tremaining: 39.1s\n",
      "111:\tlearn: 0.2907557\ttotal: 49.2s\tremaining: 38.6s\n",
      "112:\tlearn: 0.2898614\ttotal: 49.6s\tremaining: 38.2s\n",
      "113:\tlearn: 0.2892491\ttotal: 50s\tremaining: 37.7s\n",
      "114:\tlearn: 0.2879740\ttotal: 50.4s\tremaining: 37.3s\n",
      "115:\tlearn: 0.2872866\ttotal: 50.9s\tremaining: 36.8s\n",
      "116:\tlearn: 0.2864771\ttotal: 51.3s\tremaining: 36.4s\n",
      "117:\tlearn: 0.2858167\ttotal: 51.7s\tremaining: 35.9s\n",
      "118:\tlearn: 0.2851455\ttotal: 52.1s\tremaining: 35.5s\n",
      "119:\tlearn: 0.2843743\ttotal: 52.6s\tremaining: 35s\n",
      "120:\tlearn: 0.2840070\ttotal: 53s\tremaining: 34.6s\n",
      "121:\tlearn: 0.2832894\ttotal: 53.4s\tremaining: 34.1s\n",
      "122:\tlearn: 0.2827195\ttotal: 53.8s\tremaining: 33.7s\n",
      "123:\tlearn: 0.2819976\ttotal: 54.2s\tremaining: 33.2s\n",
      "124:\tlearn: 0.2811410\ttotal: 54.7s\tremaining: 32.8s\n",
      "125:\tlearn: 0.2805846\ttotal: 55.1s\tremaining: 32.4s\n",
      "126:\tlearn: 0.2791251\ttotal: 55.5s\tremaining: 31.9s\n",
      "127:\tlearn: 0.2785227\ttotal: 55.9s\tremaining: 31.5s\n",
      "128:\tlearn: 0.2778660\ttotal: 56.3s\tremaining: 31s\n",
      "129:\tlearn: 0.2771057\ttotal: 56.8s\tremaining: 30.6s\n",
      "130:\tlearn: 0.2767566\ttotal: 57.2s\tremaining: 30.1s\n",
      "131:\tlearn: 0.2758919\ttotal: 57.7s\tremaining: 29.7s\n",
      "132:\tlearn: 0.2753704\ttotal: 58.1s\tremaining: 29.3s\n",
      "133:\tlearn: 0.2746283\ttotal: 58.6s\tremaining: 28.9s\n",
      "134:\tlearn: 0.2737258\ttotal: 59s\tremaining: 28.4s\n",
      "135:\tlearn: 0.2733656\ttotal: 59.5s\tremaining: 28s\n",
      "136:\tlearn: 0.2726027\ttotal: 59.9s\tremaining: 27.5s\n",
      "137:\tlearn: 0.2722049\ttotal: 1m\tremaining: 27.1s\n",
      "138:\tlearn: 0.2718941\ttotal: 1m\tremaining: 26.7s\n",
      "139:\tlearn: 0.2712709\ttotal: 1m 1s\tremaining: 26.2s\n",
      "140:\tlearn: 0.2708153\ttotal: 1m 1s\tremaining: 25.8s\n",
      "141:\tlearn: 0.2701803\ttotal: 1m 2s\tremaining: 25.3s\n",
      "142:\tlearn: 0.2697200\ttotal: 1m 2s\tremaining: 24.9s\n",
      "143:\tlearn: 0.2690958\ttotal: 1m 2s\tremaining: 24.5s\n",
      "144:\tlearn: 0.2684952\ttotal: 1m 3s\tremaining: 24s\n",
      "145:\tlearn: 0.2680211\ttotal: 1m 3s\tremaining: 23.6s\n",
      "146:\tlearn: 0.2676620\ttotal: 1m 4s\tremaining: 23.1s\n",
      "147:\tlearn: 0.2671238\ttotal: 1m 4s\tremaining: 22.7s\n",
      "148:\tlearn: 0.2656388\ttotal: 1m 5s\tremaining: 22.3s\n",
      "149:\tlearn: 0.2653163\ttotal: 1m 5s\tremaining: 21.8s\n",
      "150:\tlearn: 0.2647563\ttotal: 1m 5s\tremaining: 21.4s\n",
      "151:\tlearn: 0.2638109\ttotal: 1m 6s\tremaining: 20.9s\n",
      "152:\tlearn: 0.2632348\ttotal: 1m 6s\tremaining: 20.5s\n",
      "153:\tlearn: 0.2628308\ttotal: 1m 7s\tremaining: 20.1s\n",
      "154:\tlearn: 0.2622097\ttotal: 1m 7s\tremaining: 19.7s\n",
      "155:\tlearn: 0.2617489\ttotal: 1m 8s\tremaining: 19.2s\n",
      "156:\tlearn: 0.2608319\ttotal: 1m 8s\tremaining: 18.8s\n",
      "157:\tlearn: 0.2602907\ttotal: 1m 8s\tremaining: 18.3s\n",
      "158:\tlearn: 0.2594716\ttotal: 1m 9s\tremaining: 17.9s\n",
      "159:\tlearn: 0.2587159\ttotal: 1m 9s\tremaining: 17.5s\n",
      "160:\tlearn: 0.2584629\ttotal: 1m 10s\tremaining: 17s\n",
      "161:\tlearn: 0.2579394\ttotal: 1m 10s\tremaining: 16.6s\n",
      "162:\tlearn: 0.2576846\ttotal: 1m 11s\tremaining: 16.1s\n",
      "163:\tlearn: 0.2571384\ttotal: 1m 11s\tremaining: 15.7s\n",
      "164:\tlearn: 0.2566837\ttotal: 1m 11s\tremaining: 15.3s\n",
      "165:\tlearn: 0.2561928\ttotal: 1m 12s\tremaining: 14.8s\n",
      "166:\tlearn: 0.2557139\ttotal: 1m 12s\tremaining: 14.4s\n",
      "167:\tlearn: 0.2552760\ttotal: 1m 13s\tremaining: 14s\n",
      "168:\tlearn: 0.2549906\ttotal: 1m 13s\tremaining: 13.5s\n",
      "169:\tlearn: 0.2545026\ttotal: 1m 14s\tremaining: 13.1s\n",
      "170:\tlearn: 0.2539347\ttotal: 1m 14s\tremaining: 12.6s\n",
      "171:\tlearn: 0.2534045\ttotal: 1m 15s\tremaining: 12.2s\n",
      "172:\tlearn: 0.2531985\ttotal: 1m 15s\tremaining: 11.8s\n",
      "173:\tlearn: 0.2527131\ttotal: 1m 15s\tremaining: 11.3s\n",
      "174:\tlearn: 0.2523801\ttotal: 1m 16s\tremaining: 10.9s\n",
      "175:\tlearn: 0.2518283\ttotal: 1m 16s\tremaining: 10.5s\n",
      "176:\tlearn: 0.2513157\ttotal: 1m 17s\tremaining: 10s\n",
      "177:\tlearn: 0.2509879\ttotal: 1m 17s\tremaining: 9.59s\n",
      "178:\tlearn: 0.2506003\ttotal: 1m 18s\tremaining: 9.16s\n",
      "179:\tlearn: 0.2503591\ttotal: 1m 18s\tremaining: 8.72s\n",
      "180:\tlearn: 0.2497559\ttotal: 1m 18s\tremaining: 8.28s\n",
      "181:\tlearn: 0.2487654\ttotal: 1m 19s\tremaining: 7.84s\n",
      "182:\tlearn: 0.2482778\ttotal: 1m 19s\tremaining: 7.41s\n",
      "183:\tlearn: 0.2481003\ttotal: 1m 20s\tremaining: 6.97s\n",
      "184:\tlearn: 0.2476479\ttotal: 1m 20s\tremaining: 6.53s\n",
      "185:\tlearn: 0.2468050\ttotal: 1m 21s\tremaining: 6.1s\n",
      "186:\tlearn: 0.2465659\ttotal: 1m 21s\tremaining: 5.66s\n",
      "187:\tlearn: 0.2462653\ttotal: 1m 21s\tremaining: 5.22s\n",
      "188:\tlearn: 0.2458069\ttotal: 1m 22s\tremaining: 4.79s\n",
      "189:\tlearn: 0.2456122\ttotal: 1m 22s\tremaining: 4.35s\n",
      "190:\tlearn: 0.2452915\ttotal: 1m 23s\tremaining: 3.91s\n",
      "191:\tlearn: 0.2448578\ttotal: 1m 23s\tremaining: 3.48s\n",
      "192:\tlearn: 0.2445294\ttotal: 1m 23s\tremaining: 3.04s\n",
      "193:\tlearn: 0.2439221\ttotal: 1m 24s\tremaining: 2.61s\n",
      "194:\tlearn: 0.2434905\ttotal: 1m 24s\tremaining: 2.17s\n",
      "195:\tlearn: 0.2430743\ttotal: 1m 25s\tremaining: 1.74s\n",
      "196:\tlearn: 0.2426480\ttotal: 1m 25s\tremaining: 1.3s\n",
      "197:\tlearn: 0.2421316\ttotal: 1m 26s\tremaining: 869ms\n",
      "198:\tlearn: 0.2418935\ttotal: 1m 26s\tremaining: 434ms\n",
      "199:\tlearn: 0.2414791\ttotal: 1m 26s\tremaining: 0us\n",
      "Learning rate set to 0.160068\n",
      "0:\tlearn: 0.6249334\ttotal: 570ms\tremaining: 1m 53s\n",
      "1:\tlearn: 0.5878572\ttotal: 993ms\tremaining: 1m 38s\n",
      "2:\tlearn: 0.5649422\ttotal: 1.43s\tremaining: 1m 33s\n",
      "3:\tlearn: 0.5471528\ttotal: 1.86s\tremaining: 1m 31s\n",
      "4:\tlearn: 0.5283220\ttotal: 2.29s\tremaining: 1m 29s\n",
      "5:\tlearn: 0.5170943\ttotal: 2.71s\tremaining: 1m 27s\n",
      "6:\tlearn: 0.5082082\ttotal: 3.14s\tremaining: 1m 26s\n",
      "7:\tlearn: 0.5020499\ttotal: 3.56s\tremaining: 1m 25s\n",
      "8:\tlearn: 0.4943472\ttotal: 3.99s\tremaining: 1m 24s\n",
      "9:\tlearn: 0.4849030\ttotal: 4.44s\tremaining: 1m 24s\n",
      "10:\tlearn: 0.4792660\ttotal: 4.88s\tremaining: 1m 23s\n",
      "11:\tlearn: 0.4740633\ttotal: 5.33s\tremaining: 1m 23s\n",
      "12:\tlearn: 0.4673793\ttotal: 5.75s\tremaining: 1m 22s\n",
      "13:\tlearn: 0.4623532\ttotal: 6.17s\tremaining: 1m 22s\n",
      "14:\tlearn: 0.4584256\ttotal: 6.61s\tremaining: 1m 21s\n",
      "15:\tlearn: 0.4545861\ttotal: 7.04s\tremaining: 1m 20s\n",
      "16:\tlearn: 0.4492186\ttotal: 7.48s\tremaining: 1m 20s\n",
      "17:\tlearn: 0.4447667\ttotal: 7.94s\tremaining: 1m 20s\n",
      "18:\tlearn: 0.4369635\ttotal: 8.37s\tremaining: 1m 19s\n",
      "19:\tlearn: 0.4332942\ttotal: 8.8s\tremaining: 1m 19s\n",
      "20:\tlearn: 0.4293838\ttotal: 9.22s\tremaining: 1m 18s\n",
      "21:\tlearn: 0.4265977\ttotal: 9.66s\tremaining: 1m 18s\n",
      "22:\tlearn: 0.4230343\ttotal: 10.1s\tremaining: 1m 17s\n",
      "23:\tlearn: 0.4203030\ttotal: 10.5s\tremaining: 1m 17s\n",
      "24:\tlearn: 0.4178827\ttotal: 11s\tremaining: 1m 16s\n",
      "25:\tlearn: 0.4158837\ttotal: 11.4s\tremaining: 1m 16s\n",
      "26:\tlearn: 0.4130787\ttotal: 11.8s\tremaining: 1m 15s\n",
      "27:\tlearn: 0.4111461\ttotal: 12.2s\tremaining: 1m 15s\n",
      "28:\tlearn: 0.4080308\ttotal: 12.7s\tremaining: 1m 14s\n",
      "29:\tlearn: 0.4056914\ttotal: 13.1s\tremaining: 1m 14s\n",
      "30:\tlearn: 0.4034513\ttotal: 13.5s\tremaining: 1m 13s\n",
      "31:\tlearn: 0.4017763\ttotal: 14s\tremaining: 1m 13s\n",
      "32:\tlearn: 0.3997691\ttotal: 14.4s\tremaining: 1m 12s\n",
      "33:\tlearn: 0.3972529\ttotal: 14.8s\tremaining: 1m 12s\n",
      "34:\tlearn: 0.3955636\ttotal: 15.3s\tremaining: 1m 12s\n",
      "35:\tlearn: 0.3936629\ttotal: 15.7s\tremaining: 1m 11s\n",
      "36:\tlearn: 0.3920302\ttotal: 16.2s\tremaining: 1m 11s\n",
      "37:\tlearn: 0.3902357\ttotal: 16.6s\tremaining: 1m 10s\n",
      "38:\tlearn: 0.3884623\ttotal: 17s\tremaining: 1m 10s\n",
      "39:\tlearn: 0.3867341\ttotal: 17.4s\tremaining: 1m 9s\n",
      "40:\tlearn: 0.3852632\ttotal: 17.9s\tremaining: 1m 9s\n",
      "41:\tlearn: 0.3834444\ttotal: 18.3s\tremaining: 1m 9s\n",
      "42:\tlearn: 0.3818520\ttotal: 18.8s\tremaining: 1m 8s\n",
      "43:\tlearn: 0.3806832\ttotal: 19.2s\tremaining: 1m 8s\n",
      "44:\tlearn: 0.3778881\ttotal: 19.6s\tremaining: 1m 7s\n",
      "45:\tlearn: 0.3762367\ttotal: 20.1s\tremaining: 1m 7s\n",
      "46:\tlearn: 0.3749973\ttotal: 20.5s\tremaining: 1m 6s\n",
      "47:\tlearn: 0.3734142\ttotal: 20.9s\tremaining: 1m 6s\n",
      "48:\tlearn: 0.3719701\ttotal: 21.3s\tremaining: 1m 5s\n",
      "49:\tlearn: 0.3707883\ttotal: 21.8s\tremaining: 1m 5s\n",
      "50:\tlearn: 0.3692341\ttotal: 22.2s\tremaining: 1m 4s\n",
      "51:\tlearn: 0.3678650\ttotal: 22.6s\tremaining: 1m 4s\n",
      "52:\tlearn: 0.3656164\ttotal: 23s\tremaining: 1m 3s\n",
      "53:\tlearn: 0.3644842\ttotal: 23.4s\tremaining: 1m 3s\n",
      "54:\tlearn: 0.3632980\ttotal: 23.9s\tremaining: 1m 2s\n",
      "55:\tlearn: 0.3618193\ttotal: 24.3s\tremaining: 1m 2s\n",
      "56:\tlearn: 0.3606400\ttotal: 24.7s\tremaining: 1m 2s\n",
      "57:\tlearn: 0.3587503\ttotal: 25.2s\tremaining: 1m 1s\n",
      "58:\tlearn: 0.3574256\ttotal: 25.6s\tremaining: 1m 1s\n",
      "59:\tlearn: 0.3561152\ttotal: 26s\tremaining: 1m\n",
      "60:\tlearn: 0.3547927\ttotal: 26.5s\tremaining: 1m\n",
      "61:\tlearn: 0.3525477\ttotal: 26.9s\tremaining: 60s\n",
      "62:\tlearn: 0.3513090\ttotal: 27.4s\tremaining: 59.5s\n",
      "63:\tlearn: 0.3494675\ttotal: 27.8s\tremaining: 59.2s\n",
      "64:\tlearn: 0.3477193\ttotal: 28.3s\tremaining: 58.7s\n",
      "65:\tlearn: 0.3456145\ttotal: 28.7s\tremaining: 58.3s\n",
      "66:\tlearn: 0.3444352\ttotal: 29.1s\tremaining: 57.8s\n",
      "67:\tlearn: 0.3431207\ttotal: 29.6s\tremaining: 57.4s\n",
      "68:\tlearn: 0.3421003\ttotal: 30s\tremaining: 56.9s\n",
      "69:\tlearn: 0.3409264\ttotal: 30.4s\tremaining: 56.4s\n",
      "70:\tlearn: 0.3397329\ttotal: 30.8s\tremaining: 55.9s\n",
      "71:\tlearn: 0.3384563\ttotal: 31.2s\tremaining: 55.5s\n",
      "72:\tlearn: 0.3366680\ttotal: 31.6s\tremaining: 55s\n",
      "73:\tlearn: 0.3355126\ttotal: 32.1s\tremaining: 54.6s\n",
      "74:\tlearn: 0.3342730\ttotal: 32.5s\tremaining: 54.1s\n",
      "75:\tlearn: 0.3331564\ttotal: 32.9s\tremaining: 53.7s\n",
      "76:\tlearn: 0.3308554\ttotal: 33.3s\tremaining: 53.2s\n",
      "77:\tlearn: 0.3296691\ttotal: 33.7s\tremaining: 52.8s\n",
      "78:\tlearn: 0.3286539\ttotal: 34.2s\tremaining: 52.3s\n",
      "79:\tlearn: 0.3271388\ttotal: 34.6s\tremaining: 51.9s\n",
      "80:\tlearn: 0.3261085\ttotal: 35s\tremaining: 51.4s\n",
      "81:\tlearn: 0.3248892\ttotal: 35.4s\tremaining: 51s\n",
      "82:\tlearn: 0.3238226\ttotal: 35.9s\tremaining: 50.6s\n",
      "83:\tlearn: 0.3225255\ttotal: 36.3s\tremaining: 50.1s\n",
      "84:\tlearn: 0.3210657\ttotal: 36.7s\tremaining: 49.7s\n",
      "85:\tlearn: 0.3195760\ttotal: 37.2s\tremaining: 49.3s\n",
      "86:\tlearn: 0.3184021\ttotal: 37.6s\tremaining: 48.9s\n",
      "87:\tlearn: 0.3174980\ttotal: 38.1s\tremaining: 48.5s\n",
      "88:\tlearn: 0.3164460\ttotal: 38.5s\tremaining: 48s\n",
      "89:\tlearn: 0.3156502\ttotal: 38.9s\tremaining: 47.6s\n",
      "90:\tlearn: 0.3147476\ttotal: 39.3s\tremaining: 47.1s\n",
      "91:\tlearn: 0.3139114\ttotal: 39.8s\tremaining: 46.7s\n",
      "92:\tlearn: 0.3132545\ttotal: 40.2s\tremaining: 46.2s\n",
      "93:\tlearn: 0.3119256\ttotal: 40.6s\tremaining: 45.8s\n",
      "94:\tlearn: 0.3109181\ttotal: 41s\tremaining: 45.3s\n",
      "95:\tlearn: 0.3101237\ttotal: 41.4s\tremaining: 44.9s\n",
      "96:\tlearn: 0.3093135\ttotal: 41.9s\tremaining: 44.5s\n",
      "97:\tlearn: 0.3085341\ttotal: 42.3s\tremaining: 44s\n",
      "98:\tlearn: 0.3078486\ttotal: 42.7s\tremaining: 43.6s\n",
      "99:\tlearn: 0.3069132\ttotal: 43.1s\tremaining: 43.1s\n",
      "100:\tlearn: 0.3059459\ttotal: 43.6s\tremaining: 42.7s\n",
      "101:\tlearn: 0.3049510\ttotal: 44s\tremaining: 42.2s\n",
      "102:\tlearn: 0.3041755\ttotal: 44.4s\tremaining: 41.8s\n",
      "103:\tlearn: 0.3033350\ttotal: 44.8s\tremaining: 41.4s\n",
      "104:\tlearn: 0.3025477\ttotal: 45.3s\tremaining: 41s\n",
      "105:\tlearn: 0.3019361\ttotal: 45.7s\tremaining: 40.5s\n",
      "106:\tlearn: 0.3006645\ttotal: 46.1s\tremaining: 40.1s\n",
      "107:\tlearn: 0.2992276\ttotal: 46.6s\tremaining: 39.7s\n",
      "108:\tlearn: 0.2983780\ttotal: 47s\tremaining: 39.3s\n",
      "109:\tlearn: 0.2974485\ttotal: 47.5s\tremaining: 38.8s\n",
      "110:\tlearn: 0.2965553\ttotal: 47.9s\tremaining: 38.4s\n",
      "111:\tlearn: 0.2958879\ttotal: 48.4s\tremaining: 38s\n",
      "112:\tlearn: 0.2949007\ttotal: 48.8s\tremaining: 37.5s\n",
      "113:\tlearn: 0.2941477\ttotal: 49.2s\tremaining: 37.1s\n",
      "114:\tlearn: 0.2934716\ttotal: 49.6s\tremaining: 36.7s\n",
      "115:\tlearn: 0.2927385\ttotal: 50s\tremaining: 36.2s\n",
      "116:\tlearn: 0.2922976\ttotal: 50.4s\tremaining: 35.8s\n",
      "117:\tlearn: 0.2915504\ttotal: 50.9s\tremaining: 35.3s\n",
      "118:\tlearn: 0.2905425\ttotal: 51.3s\tremaining: 34.9s\n",
      "119:\tlearn: 0.2897223\ttotal: 51.7s\tremaining: 34.5s\n",
      "120:\tlearn: 0.2888685\ttotal: 52.1s\tremaining: 34s\n",
      "121:\tlearn: 0.2880318\ttotal: 52.6s\tremaining: 33.6s\n",
      "122:\tlearn: 0.2873271\ttotal: 53s\tremaining: 33.2s\n",
      "123:\tlearn: 0.2865793\ttotal: 53.4s\tremaining: 32.7s\n",
      "124:\tlearn: 0.2857196\ttotal: 53.8s\tremaining: 32.3s\n",
      "125:\tlearn: 0.2850389\ttotal: 54.3s\tremaining: 31.9s\n",
      "126:\tlearn: 0.2841934\ttotal: 54.7s\tremaining: 31.4s\n",
      "127:\tlearn: 0.2835501\ttotal: 55.1s\tremaining: 31s\n",
      "128:\tlearn: 0.2825040\ttotal: 55.6s\tremaining: 30.6s\n",
      "129:\tlearn: 0.2819959\ttotal: 56s\tremaining: 30.1s\n",
      "130:\tlearn: 0.2813417\ttotal: 56.4s\tremaining: 29.7s\n",
      "131:\tlearn: 0.2807440\ttotal: 56.8s\tremaining: 29.3s\n",
      "132:\tlearn: 0.2797693\ttotal: 57.3s\tremaining: 28.9s\n",
      "133:\tlearn: 0.2791402\ttotal: 57.7s\tremaining: 28.4s\n",
      "134:\tlearn: 0.2784522\ttotal: 58.2s\tremaining: 28s\n",
      "135:\tlearn: 0.2779831\ttotal: 58.6s\tremaining: 27.6s\n",
      "136:\tlearn: 0.2775485\ttotal: 59s\tremaining: 27.1s\n",
      "137:\tlearn: 0.2772536\ttotal: 59.4s\tremaining: 26.7s\n",
      "138:\tlearn: 0.2765781\ttotal: 59.8s\tremaining: 26.3s\n",
      "139:\tlearn: 0.2760447\ttotal: 1m\tremaining: 25.8s\n",
      "140:\tlearn: 0.2750184\ttotal: 1m\tremaining: 25.4s\n",
      "141:\tlearn: 0.2744590\ttotal: 1m 1s\tremaining: 24.9s\n",
      "142:\tlearn: 0.2740378\ttotal: 1m 1s\tremaining: 24.5s\n",
      "143:\tlearn: 0.2734490\ttotal: 1m 1s\tremaining: 24.1s\n",
      "144:\tlearn: 0.2728868\ttotal: 1m 2s\tremaining: 23.6s\n",
      "145:\tlearn: 0.2724913\ttotal: 1m 2s\tremaining: 23.2s\n",
      "146:\tlearn: 0.2716870\ttotal: 1m 3s\tremaining: 22.8s\n",
      "147:\tlearn: 0.2714270\ttotal: 1m 3s\tremaining: 22.3s\n",
      "148:\tlearn: 0.2700756\ttotal: 1m 4s\tremaining: 21.9s\n",
      "149:\tlearn: 0.2696235\ttotal: 1m 4s\tremaining: 21.5s\n",
      "150:\tlearn: 0.2691014\ttotal: 1m 4s\tremaining: 21s\n",
      "151:\tlearn: 0.2682220\ttotal: 1m 5s\tremaining: 20.6s\n",
      "152:\tlearn: 0.2677282\ttotal: 1m 5s\tremaining: 20.2s\n",
      "153:\tlearn: 0.2670744\ttotal: 1m 6s\tremaining: 19.8s\n",
      "154:\tlearn: 0.2663145\ttotal: 1m 6s\tremaining: 19.3s\n",
      "155:\tlearn: 0.2655487\ttotal: 1m 7s\tremaining: 18.9s\n",
      "156:\tlearn: 0.2652074\ttotal: 1m 7s\tremaining: 18.5s\n",
      "157:\tlearn: 0.2646013\ttotal: 1m 7s\tremaining: 18.1s\n",
      "158:\tlearn: 0.2640622\ttotal: 1m 8s\tremaining: 17.6s\n",
      "159:\tlearn: 0.2637519\ttotal: 1m 8s\tremaining: 17.2s\n",
      "160:\tlearn: 0.2634888\ttotal: 1m 9s\tremaining: 16.7s\n",
      "161:\tlearn: 0.2630170\ttotal: 1m 9s\tremaining: 16.3s\n",
      "162:\tlearn: 0.2625147\ttotal: 1m 9s\tremaining: 15.9s\n",
      "163:\tlearn: 0.2622460\ttotal: 1m 10s\tremaining: 15.4s\n",
      "164:\tlearn: 0.2605521\ttotal: 1m 10s\tremaining: 15s\n",
      "165:\tlearn: 0.2602245\ttotal: 1m 11s\tremaining: 14.6s\n",
      "166:\tlearn: 0.2596424\ttotal: 1m 11s\tremaining: 14.2s\n",
      "167:\tlearn: 0.2594115\ttotal: 1m 12s\tremaining: 13.7s\n",
      "168:\tlearn: 0.2588677\ttotal: 1m 12s\tremaining: 13.3s\n",
      "169:\tlearn: 0.2582814\ttotal: 1m 12s\tremaining: 12.9s\n",
      "170:\tlearn: 0.2578862\ttotal: 1m 13s\tremaining: 12.4s\n",
      "171:\tlearn: 0.2573523\ttotal: 1m 13s\tremaining: 12s\n",
      "172:\tlearn: 0.2568434\ttotal: 1m 14s\tremaining: 11.6s\n",
      "173:\tlearn: 0.2564422\ttotal: 1m 14s\tremaining: 11.2s\n",
      "174:\tlearn: 0.2561114\ttotal: 1m 15s\tremaining: 10.7s\n",
      "175:\tlearn: 0.2556709\ttotal: 1m 15s\tremaining: 10.3s\n",
      "176:\tlearn: 0.2552412\ttotal: 1m 15s\tremaining: 9.87s\n",
      "177:\tlearn: 0.2547593\ttotal: 1m 16s\tremaining: 9.44s\n",
      "178:\tlearn: 0.2543061\ttotal: 1m 16s\tremaining: 9.01s\n",
      "179:\tlearn: 0.2540506\ttotal: 1m 17s\tremaining: 8.58s\n",
      "180:\tlearn: 0.2535000\ttotal: 1m 17s\tremaining: 8.15s\n",
      "181:\tlearn: 0.2529484\ttotal: 1m 18s\tremaining: 7.72s\n",
      "182:\tlearn: 0.2527795\ttotal: 1m 18s\tremaining: 7.29s\n",
      "183:\tlearn: 0.2521721\ttotal: 1m 18s\tremaining: 6.86s\n",
      "184:\tlearn: 0.2518901\ttotal: 1m 19s\tremaining: 6.43s\n",
      "185:\tlearn: 0.2513943\ttotal: 1m 19s\tremaining: 6s\n",
      "186:\tlearn: 0.2507962\ttotal: 1m 20s\tremaining: 5.57s\n",
      "187:\tlearn: 0.2503541\ttotal: 1m 20s\tremaining: 5.14s\n",
      "188:\tlearn: 0.2497123\ttotal: 1m 21s\tremaining: 4.72s\n",
      "189:\tlearn: 0.2494218\ttotal: 1m 21s\tremaining: 4.29s\n",
      "190:\tlearn: 0.2489701\ttotal: 1m 21s\tremaining: 3.86s\n",
      "191:\tlearn: 0.2486283\ttotal: 1m 22s\tremaining: 3.43s\n",
      "192:\tlearn: 0.2483270\ttotal: 1m 22s\tremaining: 3s\n",
      "193:\tlearn: 0.2478351\ttotal: 1m 23s\tremaining: 2.57s\n",
      "194:\tlearn: 0.2472223\ttotal: 1m 23s\tremaining: 2.14s\n",
      "195:\tlearn: 0.2469867\ttotal: 1m 23s\tremaining: 1.71s\n",
      "196:\tlearn: 0.2467080\ttotal: 1m 24s\tremaining: 1.28s\n",
      "197:\tlearn: 0.2463949\ttotal: 1m 24s\tremaining: 856ms\n",
      "198:\tlearn: 0.2459865\ttotal: 1m 25s\tremaining: 428ms\n",
      "199:\tlearn: 0.2455070\ttotal: 1m 25s\tremaining: 0us\n",
      "Learning rate set to 0.190324\n",
      "0:\tlearn: 0.6170484\ttotal: 776ms\tremaining: 2m 34s\n",
      "1:\tlearn: 0.5737651\ttotal: 1.37s\tremaining: 2m 15s\n",
      "2:\tlearn: 0.5480026\ttotal: 1.96s\tremaining: 2m 8s\n",
      "3:\tlearn: 0.5322220\ttotal: 2.56s\tremaining: 2m 5s\n",
      "4:\tlearn: 0.5190792\ttotal: 3.15s\tremaining: 2m 3s\n",
      "5:\tlearn: 0.5045391\ttotal: 3.76s\tremaining: 2m 1s\n",
      "6:\tlearn: 0.4969645\ttotal: 4.35s\tremaining: 1m 59s\n",
      "7:\tlearn: 0.4888994\ttotal: 4.96s\tremaining: 1m 58s\n",
      "8:\tlearn: 0.4811429\ttotal: 5.54s\tremaining: 1m 57s\n",
      "9:\tlearn: 0.4712910\ttotal: 6.14s\tremaining: 1m 56s\n",
      "10:\tlearn: 0.4660729\ttotal: 6.74s\tremaining: 1m 55s\n",
      "11:\tlearn: 0.4585795\ttotal: 7.35s\tremaining: 1m 55s\n",
      "12:\tlearn: 0.4500689\ttotal: 8.02s\tremaining: 1m 55s\n",
      "13:\tlearn: 0.4447971\ttotal: 8.64s\tremaining: 1m 54s\n",
      "14:\tlearn: 0.4404061\ttotal: 9.23s\tremaining: 1m 53s\n",
      "15:\tlearn: 0.4374655\ttotal: 9.83s\tremaining: 1m 53s\n",
      "16:\tlearn: 0.4311871\ttotal: 10.4s\tremaining: 1m 52s\n",
      "17:\tlearn: 0.4262505\ttotal: 11s\tremaining: 1m 51s\n",
      "18:\tlearn: 0.4229510\ttotal: 11.6s\tremaining: 1m 50s\n",
      "19:\tlearn: 0.4191046\ttotal: 12.2s\tremaining: 1m 50s\n",
      "20:\tlearn: 0.4148386\ttotal: 12.8s\tremaining: 1m 49s\n",
      "21:\tlearn: 0.4101366\ttotal: 13.4s\tremaining: 1m 48s\n",
      "22:\tlearn: 0.4061793\ttotal: 14s\tremaining: 1m 47s\n",
      "23:\tlearn: 0.4032541\ttotal: 14.6s\tremaining: 1m 47s\n",
      "24:\tlearn: 0.4006315\ttotal: 15.2s\tremaining: 1m 46s\n",
      "25:\tlearn: 0.3984419\ttotal: 15.8s\tremaining: 1m 46s\n",
      "26:\tlearn: 0.3960469\ttotal: 16.5s\tremaining: 1m 45s\n",
      "27:\tlearn: 0.3930155\ttotal: 17.1s\tremaining: 1m 45s\n",
      "28:\tlearn: 0.3898145\ttotal: 17.7s\tremaining: 1m 44s\n",
      "29:\tlearn: 0.3870934\ttotal: 18.4s\tremaining: 1m 44s\n",
      "30:\tlearn: 0.3849800\ttotal: 19s\tremaining: 1m 43s\n",
      "31:\tlearn: 0.3828643\ttotal: 19.6s\tremaining: 1m 42s\n",
      "32:\tlearn: 0.3811448\ttotal: 20.2s\tremaining: 1m 42s\n",
      "33:\tlearn: 0.3790294\ttotal: 20.8s\tremaining: 1m 41s\n",
      "34:\tlearn: 0.3773540\ttotal: 21.4s\tremaining: 1m 40s\n",
      "35:\tlearn: 0.3760129\ttotal: 22s\tremaining: 1m 40s\n",
      "36:\tlearn: 0.3735712\ttotal: 22.5s\tremaining: 1m 39s\n",
      "37:\tlearn: 0.3719658\ttotal: 23.1s\tremaining: 1m 38s\n",
      "38:\tlearn: 0.3705521\ttotal: 23.7s\tremaining: 1m 37s\n",
      "39:\tlearn: 0.3685915\ttotal: 24.3s\tremaining: 1m 37s\n",
      "40:\tlearn: 0.3672389\ttotal: 24.9s\tremaining: 1m 36s\n",
      "41:\tlearn: 0.3657694\ttotal: 25.5s\tremaining: 1m 35s\n",
      "42:\tlearn: 0.3635159\ttotal: 26.1s\tremaining: 1m 35s\n",
      "43:\tlearn: 0.3620048\ttotal: 26.7s\tremaining: 1m 34s\n",
      "44:\tlearn: 0.3603976\ttotal: 27.3s\tremaining: 1m 33s\n",
      "45:\tlearn: 0.3589453\ttotal: 27.9s\tremaining: 1m 33s\n",
      "46:\tlearn: 0.3573584\ttotal: 28.5s\tremaining: 1m 32s\n",
      "47:\tlearn: 0.3553691\ttotal: 29.1s\tremaining: 1m 32s\n",
      "48:\tlearn: 0.3541181\ttotal: 29.7s\tremaining: 1m 31s\n",
      "49:\tlearn: 0.3530072\ttotal: 30.3s\tremaining: 1m 30s\n",
      "50:\tlearn: 0.3511226\ttotal: 30.8s\tremaining: 1m 30s\n",
      "51:\tlearn: 0.3484919\ttotal: 31.4s\tremaining: 1m 29s\n",
      "52:\tlearn: 0.3472285\ttotal: 32s\tremaining: 1m 28s\n",
      "53:\tlearn: 0.3459115\ttotal: 32.6s\tremaining: 1m 28s\n",
      "54:\tlearn: 0.3441676\ttotal: 33.2s\tremaining: 1m 27s\n",
      "55:\tlearn: 0.3430752\ttotal: 33.8s\tremaining: 1m 26s\n",
      "56:\tlearn: 0.3403497\ttotal: 34.4s\tremaining: 1m 26s\n",
      "57:\tlearn: 0.3390325\ttotal: 35s\tremaining: 1m 25s\n",
      "58:\tlearn: 0.3377524\ttotal: 35.6s\tremaining: 1m 24s\n",
      "59:\tlearn: 0.3364578\ttotal: 36.1s\tremaining: 1m 24s\n",
      "60:\tlearn: 0.3352324\ttotal: 36.7s\tremaining: 1m 23s\n",
      "61:\tlearn: 0.3339621\ttotal: 37.3s\tremaining: 1m 23s\n",
      "62:\tlearn: 0.3326530\ttotal: 37.9s\tremaining: 1m 22s\n",
      "63:\tlearn: 0.3311269\ttotal: 38.5s\tremaining: 1m 21s\n",
      "64:\tlearn: 0.3301124\ttotal: 39.1s\tremaining: 1m 21s\n",
      "65:\tlearn: 0.3287133\ttotal: 39.7s\tremaining: 1m 20s\n",
      "66:\tlearn: 0.3276719\ttotal: 40.3s\tremaining: 1m 19s\n",
      "67:\tlearn: 0.3252227\ttotal: 40.9s\tremaining: 1m 19s\n",
      "68:\tlearn: 0.3239310\ttotal: 41.5s\tremaining: 1m 18s\n",
      "69:\tlearn: 0.3228661\ttotal: 42s\tremaining: 1m 18s\n",
      "70:\tlearn: 0.3218910\ttotal: 42.6s\tremaining: 1m 17s\n",
      "71:\tlearn: 0.3206862\ttotal: 43.2s\tremaining: 1m 16s\n",
      "72:\tlearn: 0.3192384\ttotal: 43.8s\tremaining: 1m 16s\n",
      "73:\tlearn: 0.3183264\ttotal: 44.4s\tremaining: 1m 15s\n",
      "74:\tlearn: 0.3171451\ttotal: 44.9s\tremaining: 1m 14s\n",
      "75:\tlearn: 0.3157207\ttotal: 45.6s\tremaining: 1m 14s\n",
      "76:\tlearn: 0.3145994\ttotal: 46.2s\tremaining: 1m 13s\n",
      "77:\tlearn: 0.3134355\ttotal: 46.8s\tremaining: 1m 13s\n",
      "78:\tlearn: 0.3122011\ttotal: 47.4s\tremaining: 1m 12s\n",
      "79:\tlearn: 0.3112876\ttotal: 48s\tremaining: 1m 11s\n",
      "80:\tlearn: 0.3101234\ttotal: 48.6s\tremaining: 1m 11s\n",
      "81:\tlearn: 0.3087091\ttotal: 49.1s\tremaining: 1m 10s\n",
      "82:\tlearn: 0.3077652\ttotal: 49.7s\tremaining: 1m 10s\n",
      "83:\tlearn: 0.3069336\ttotal: 50.3s\tremaining: 1m 9s\n",
      "84:\tlearn: 0.3059066\ttotal: 50.9s\tremaining: 1m 8s\n",
      "85:\tlearn: 0.3052616\ttotal: 51.5s\tremaining: 1m 8s\n",
      "86:\tlearn: 0.3044692\ttotal: 52s\tremaining: 1m 7s\n",
      "87:\tlearn: 0.3036947\ttotal: 52.6s\tremaining: 1m 6s\n",
      "88:\tlearn: 0.3026763\ttotal: 53.2s\tremaining: 1m 6s\n",
      "89:\tlearn: 0.3018702\ttotal: 53.8s\tremaining: 1m 5s\n",
      "90:\tlearn: 0.3009279\ttotal: 54.4s\tremaining: 1m 5s\n",
      "91:\tlearn: 0.2990788\ttotal: 55s\tremaining: 1m 4s\n",
      "92:\tlearn: 0.2981443\ttotal: 55.6s\tremaining: 1m 3s\n",
      "93:\tlearn: 0.2973991\ttotal: 56.1s\tremaining: 1m 3s\n",
      "94:\tlearn: 0.2966771\ttotal: 56.7s\tremaining: 1m 2s\n",
      "95:\tlearn: 0.2959868\ttotal: 57.3s\tremaining: 1m 2s\n",
      "96:\tlearn: 0.2950322\ttotal: 57.9s\tremaining: 1m 1s\n",
      "97:\tlearn: 0.2941185\ttotal: 58.5s\tremaining: 1m\n",
      "98:\tlearn: 0.2930957\ttotal: 59.1s\tremaining: 1m\n",
      "99:\tlearn: 0.2923158\ttotal: 59.7s\tremaining: 59.7s\n",
      "100:\tlearn: 0.2916217\ttotal: 1m\tremaining: 59.1s\n",
      "101:\tlearn: 0.2904579\ttotal: 1m\tremaining: 58.5s\n",
      "102:\tlearn: 0.2897492\ttotal: 1m 1s\tremaining: 57.9s\n",
      "103:\tlearn: 0.2892595\ttotal: 1m 2s\tremaining: 57.2s\n",
      "104:\tlearn: 0.2885431\ttotal: 1m 2s\tremaining: 56.6s\n",
      "105:\tlearn: 0.2877486\ttotal: 1m 3s\tremaining: 56s\n",
      "106:\tlearn: 0.2868733\ttotal: 1m 3s\tremaining: 55.4s\n",
      "107:\tlearn: 0.2862529\ttotal: 1m 4s\tremaining: 54.8s\n",
      "108:\tlearn: 0.2849606\ttotal: 1m 4s\tremaining: 54.2s\n",
      "109:\tlearn: 0.2841712\ttotal: 1m 5s\tremaining: 53.6s\n",
      "110:\tlearn: 0.2835328\ttotal: 1m 6s\tremaining: 53s\n",
      "111:\tlearn: 0.2828218\ttotal: 1m 6s\tremaining: 52.4s\n",
      "112:\tlearn: 0.2823902\ttotal: 1m 7s\tremaining: 51.8s\n",
      "113:\tlearn: 0.2817629\ttotal: 1m 7s\tremaining: 51.2s\n",
      "114:\tlearn: 0.2813993\ttotal: 1m 8s\tremaining: 50.6s\n",
      "115:\tlearn: 0.2804243\ttotal: 1m 9s\tremaining: 50s\n",
      "116:\tlearn: 0.2797316\ttotal: 1m 9s\tremaining: 49.4s\n",
      "117:\tlearn: 0.2790247\ttotal: 1m 10s\tremaining: 48.8s\n",
      "118:\tlearn: 0.2783871\ttotal: 1m 10s\tremaining: 48.2s\n",
      "119:\tlearn: 0.2775548\ttotal: 1m 11s\tremaining: 47.6s\n",
      "120:\tlearn: 0.2767089\ttotal: 1m 11s\tremaining: 47s\n",
      "121:\tlearn: 0.2760337\ttotal: 1m 12s\tremaining: 46.4s\n",
      "122:\tlearn: 0.2752818\ttotal: 1m 13s\tremaining: 45.8s\n",
      "123:\tlearn: 0.2747023\ttotal: 1m 13s\tremaining: 45.2s\n",
      "124:\tlearn: 0.2741139\ttotal: 1m 14s\tremaining: 44.6s\n",
      "125:\tlearn: 0.2736145\ttotal: 1m 14s\tremaining: 44s\n",
      "126:\tlearn: 0.2730300\ttotal: 1m 15s\tremaining: 43.4s\n",
      "127:\tlearn: 0.2722859\ttotal: 1m 16s\tremaining: 42.8s\n",
      "128:\tlearn: 0.2716417\ttotal: 1m 16s\tremaining: 42.2s\n",
      "129:\tlearn: 0.2710587\ttotal: 1m 17s\tremaining: 41.6s\n",
      "130:\tlearn: 0.2703745\ttotal: 1m 17s\tremaining: 41s\n",
      "131:\tlearn: 0.2697844\ttotal: 1m 18s\tremaining: 40.5s\n",
      "132:\tlearn: 0.2692068\ttotal: 1m 19s\tremaining: 39.8s\n",
      "133:\tlearn: 0.2685945\ttotal: 1m 19s\tremaining: 39.2s\n",
      "134:\tlearn: 0.2682383\ttotal: 1m 20s\tremaining: 38.6s\n",
      "135:\tlearn: 0.2677627\ttotal: 1m 20s\tremaining: 38s\n",
      "136:\tlearn: 0.2674588\ttotal: 1m 21s\tremaining: 37.4s\n",
      "137:\tlearn: 0.2669316\ttotal: 1m 21s\tremaining: 36.8s\n",
      "138:\tlearn: 0.2666183\ttotal: 1m 22s\tremaining: 36.2s\n",
      "139:\tlearn: 0.2659311\ttotal: 1m 23s\tremaining: 35.6s\n",
      "140:\tlearn: 0.2653494\ttotal: 1m 23s\tremaining: 35s\n",
      "141:\tlearn: 0.2647609\ttotal: 1m 24s\tremaining: 34.4s\n",
      "142:\tlearn: 0.2644082\ttotal: 1m 24s\tremaining: 33.8s\n",
      "143:\tlearn: 0.2641698\ttotal: 1m 25s\tremaining: 33.2s\n",
      "144:\tlearn: 0.2638799\ttotal: 1m 25s\tremaining: 32.6s\n",
      "145:\tlearn: 0.2634292\ttotal: 1m 26s\tremaining: 32s\n",
      "146:\tlearn: 0.2625280\ttotal: 1m 27s\tremaining: 31.4s\n",
      "147:\tlearn: 0.2620837\ttotal: 1m 27s\tremaining: 30.8s\n",
      "148:\tlearn: 0.2612883\ttotal: 1m 28s\tremaining: 30.2s\n",
      "149:\tlearn: 0.2603555\ttotal: 1m 28s\tremaining: 29.6s\n",
      "150:\tlearn: 0.2597429\ttotal: 1m 29s\tremaining: 29s\n",
      "151:\tlearn: 0.2589462\ttotal: 1m 30s\tremaining: 28.4s\n",
      "152:\tlearn: 0.2586995\ttotal: 1m 30s\tremaining: 27.8s\n",
      "153:\tlearn: 0.2582117\ttotal: 1m 31s\tremaining: 27.2s\n",
      "154:\tlearn: 0.2580035\ttotal: 1m 31s\tremaining: 26.6s\n",
      "155:\tlearn: 0.2574452\ttotal: 1m 32s\tremaining: 26s\n",
      "156:\tlearn: 0.2568376\ttotal: 1m 32s\tremaining: 25.4s\n",
      "157:\tlearn: 0.2563832\ttotal: 1m 33s\tremaining: 24.8s\n",
      "158:\tlearn: 0.2558434\ttotal: 1m 34s\tremaining: 24.3s\n",
      "159:\tlearn: 0.2554404\ttotal: 1m 34s\tremaining: 23.7s\n",
      "160:\tlearn: 0.2550213\ttotal: 1m 35s\tremaining: 23.1s\n",
      "161:\tlearn: 0.2546061\ttotal: 1m 35s\tremaining: 22.5s\n",
      "162:\tlearn: 0.2541096\ttotal: 1m 36s\tremaining: 21.9s\n",
      "163:\tlearn: 0.2536490\ttotal: 1m 36s\tremaining: 21.3s\n",
      "164:\tlearn: 0.2530912\ttotal: 1m 37s\tremaining: 20.7s\n",
      "165:\tlearn: 0.2526071\ttotal: 1m 38s\tremaining: 20.1s\n",
      "166:\tlearn: 0.2519740\ttotal: 1m 38s\tremaining: 19.5s\n",
      "167:\tlearn: 0.2517400\ttotal: 1m 39s\tremaining: 18.9s\n",
      "168:\tlearn: 0.2513721\ttotal: 1m 39s\tremaining: 18.3s\n",
      "169:\tlearn: 0.2508487\ttotal: 1m 40s\tremaining: 17.7s\n",
      "170:\tlearn: 0.2503100\ttotal: 1m 41s\tremaining: 17.1s\n",
      "171:\tlearn: 0.2498509\ttotal: 1m 41s\tremaining: 16.5s\n",
      "172:\tlearn: 0.2493413\ttotal: 1m 42s\tremaining: 15.9s\n",
      "173:\tlearn: 0.2491288\ttotal: 1m 42s\tremaining: 15.3s\n",
      "174:\tlearn: 0.2486692\ttotal: 1m 43s\tremaining: 14.8s\n",
      "175:\tlearn: 0.2482547\ttotal: 1m 43s\tremaining: 14.2s\n",
      "176:\tlearn: 0.2479861\ttotal: 1m 44s\tremaining: 13.6s\n",
      "177:\tlearn: 0.2477858\ttotal: 1m 45s\tremaining: 13s\n",
      "178:\tlearn: 0.2472800\ttotal: 1m 45s\tremaining: 12.4s\n",
      "179:\tlearn: 0.2470341\ttotal: 1m 46s\tremaining: 11.8s\n",
      "180:\tlearn: 0.2464391\ttotal: 1m 46s\tremaining: 11.2s\n",
      "181:\tlearn: 0.2461745\ttotal: 1m 47s\tremaining: 10.6s\n",
      "182:\tlearn: 0.2457478\ttotal: 1m 47s\tremaining: 10s\n",
      "183:\tlearn: 0.2447302\ttotal: 1m 48s\tremaining: 9.44s\n",
      "184:\tlearn: 0.2439952\ttotal: 1m 49s\tremaining: 8.85s\n",
      "185:\tlearn: 0.2435394\ttotal: 1m 49s\tremaining: 8.26s\n",
      "186:\tlearn: 0.2428040\ttotal: 1m 50s\tremaining: 7.67s\n",
      "187:\tlearn: 0.2425715\ttotal: 1m 50s\tremaining: 7.07s\n",
      "188:\tlearn: 0.2421496\ttotal: 1m 51s\tremaining: 6.48s\n",
      "189:\tlearn: 0.2417273\ttotal: 1m 51s\tremaining: 5.89s\n",
      "190:\tlearn: 0.2411849\ttotal: 1m 52s\tremaining: 5.3s\n",
      "191:\tlearn: 0.2408033\ttotal: 1m 53s\tremaining: 4.71s\n",
      "192:\tlearn: 0.2406422\ttotal: 1m 53s\tremaining: 4.12s\n",
      "193:\tlearn: 0.2402652\ttotal: 1m 54s\tremaining: 3.53s\n",
      "194:\tlearn: 0.2399416\ttotal: 1m 54s\tremaining: 2.94s\n",
      "195:\tlearn: 0.2395554\ttotal: 1m 55s\tremaining: 2.35s\n",
      "196:\tlearn: 0.2390996\ttotal: 1m 55s\tremaining: 1.76s\n",
      "197:\tlearn: 0.2380862\ttotal: 1m 56s\tremaining: 1.18s\n",
      "198:\tlearn: 0.2376888\ttotal: 1m 57s\tremaining: 588ms\n",
      "199:\tlearn: 0.2371293\ttotal: 1m 57s\tremaining: 0us\n",
      "Для сбалансированной выборки f1_result =  0.88\n",
      "{'iterations': 200, 'random_seed': 20}\n",
      "CPU times: user 10min 43s, sys: 7.94 s, total: 10min 51s\n",
      "Wall time: 10min 57s\n"
     ]
    }
   ],
   "source": [
    "%%time\n",
    "params = {'random_seed': [10, 20],\n",
    "          'iterations': [200]}\n",
    "f1_result, params_good = ml(CatBoostClassifier(), tf_idf_train, target, params)\n",
    "\n",
    "print(F'Для сбалансированной выборки f1_result = {f1_result: ,.2f}')\n",
    "print(params_good)"
   ]
  },
  {
   "cell_type": "code",
   "execution_count": 75,
   "metadata": {
    "scrolled": true
   },
   "outputs": [
    {
     "name": "stdout",
     "output_type": "stream",
     "text": [
      "Learning rate set to 0.13643\n",
      "0:\tlearn: 0.5625720\ttotal: 810ms\tremaining: 6m 44s\n",
      "1:\tlearn: 0.4680334\ttotal: 1.69s\tremaining: 7m\n",
      "2:\tlearn: 0.4004263\ttotal: 2.56s\tremaining: 7m 4s\n",
      "3:\tlearn: 0.3531861\ttotal: 3.42s\tremaining: 7m 3s\n",
      "4:\tlearn: 0.3195433\ttotal: 4.29s\tremaining: 7m 4s\n",
      "5:\tlearn: 0.2954314\ttotal: 5.17s\tremaining: 7m 5s\n",
      "6:\tlearn: 0.2758300\ttotal: 6.05s\tremaining: 7m 5s\n",
      "7:\tlearn: 0.2624859\ttotal: 6.91s\tremaining: 7m 4s\n",
      "8:\tlearn: 0.2526472\ttotal: 7.77s\tremaining: 7m 3s\n",
      "9:\tlearn: 0.2438150\ttotal: 8.68s\tremaining: 7m 5s\n",
      "10:\tlearn: 0.2373653\ttotal: 9.56s\tremaining: 7m 5s\n",
      "11:\tlearn: 0.2319261\ttotal: 10.4s\tremaining: 7m 3s\n",
      "12:\tlearn: 0.2276198\ttotal: 11.3s\tremaining: 7m 3s\n",
      "13:\tlearn: 0.2242817\ttotal: 12.2s\tremaining: 7m 2s\n",
      "14:\tlearn: 0.2204164\ttotal: 13s\tremaining: 7m 1s\n",
      "15:\tlearn: 0.2177413\ttotal: 13.9s\tremaining: 6m 59s\n",
      "16:\tlearn: 0.2150589\ttotal: 14.7s\tremaining: 6m 59s\n",
      "17:\tlearn: 0.2130851\ttotal: 15.6s\tremaining: 6m 57s\n",
      "18:\tlearn: 0.2107301\ttotal: 16.5s\tremaining: 6m 57s\n",
      "19:\tlearn: 0.2085622\ttotal: 17.4s\tremaining: 6m 56s\n",
      "20:\tlearn: 0.2067099\ttotal: 18.3s\tremaining: 6m 56s\n",
      "21:\tlearn: 0.2050069\ttotal: 19.1s\tremaining: 6m 55s\n",
      "22:\tlearn: 0.2034536\ttotal: 20s\tremaining: 6m 54s\n",
      "23:\tlearn: 0.2018703\ttotal: 20.9s\tremaining: 6m 53s\n",
      "24:\tlearn: 0.2006410\ttotal: 21.7s\tremaining: 6m 52s\n",
      "25:\tlearn: 0.1992639\ttotal: 22.6s\tremaining: 6m 51s\n",
      "26:\tlearn: 0.1978516\ttotal: 23.5s\tremaining: 6m 51s\n",
      "27:\tlearn: 0.1965050\ttotal: 24.3s\tremaining: 6m 50s\n",
      "28:\tlearn: 0.1953647\ttotal: 25.2s\tremaining: 6m 49s\n",
      "29:\tlearn: 0.1941020\ttotal: 26.1s\tremaining: 6m 49s\n",
      "30:\tlearn: 0.1929765\ttotal: 27s\tremaining: 6m 48s\n",
      "31:\tlearn: 0.1920325\ttotal: 27.9s\tremaining: 6m 47s\n",
      "32:\tlearn: 0.1911109\ttotal: 28.7s\tremaining: 6m 46s\n",
      "33:\tlearn: 0.1898265\ttotal: 29.6s\tremaining: 6m 45s\n",
      "34:\tlearn: 0.1890410\ttotal: 30.4s\tremaining: 6m 44s\n",
      "35:\tlearn: 0.1878666\ttotal: 31.3s\tremaining: 6m 43s\n",
      "36:\tlearn: 0.1872211\ttotal: 32.1s\tremaining: 6m 42s\n",
      "37:\tlearn: 0.1863227\ttotal: 33s\tremaining: 6m 41s\n",
      "38:\tlearn: 0.1855790\ttotal: 33.9s\tremaining: 6m 40s\n",
      "39:\tlearn: 0.1847057\ttotal: 34.7s\tremaining: 6m 39s\n",
      "40:\tlearn: 0.1838253\ttotal: 35.6s\tremaining: 6m 38s\n",
      "41:\tlearn: 0.1830616\ttotal: 36.4s\tremaining: 6m 37s\n",
      "42:\tlearn: 0.1824541\ttotal: 37.3s\tremaining: 6m 36s\n",
      "43:\tlearn: 0.1815697\ttotal: 38.2s\tremaining: 6m 35s\n",
      "44:\tlearn: 0.1808442\ttotal: 39.1s\tremaining: 6m 35s\n",
      "45:\tlearn: 0.1801614\ttotal: 39.9s\tremaining: 6m 34s\n",
      "46:\tlearn: 0.1794602\ttotal: 40.8s\tremaining: 6m 33s\n",
      "47:\tlearn: 0.1785827\ttotal: 41.7s\tremaining: 6m 32s\n",
      "48:\tlearn: 0.1780708\ttotal: 42.5s\tremaining: 6m 31s\n",
      "49:\tlearn: 0.1774733\ttotal: 43.3s\tremaining: 6m 29s\n",
      "50:\tlearn: 0.1767604\ttotal: 44.2s\tremaining: 6m 28s\n",
      "51:\tlearn: 0.1759497\ttotal: 45s\tremaining: 6m 27s\n",
      "52:\tlearn: 0.1754139\ttotal: 45.8s\tremaining: 6m 26s\n",
      "53:\tlearn: 0.1749377\ttotal: 46.7s\tremaining: 6m 25s\n",
      "54:\tlearn: 0.1743817\ttotal: 47.5s\tremaining: 6m 24s\n",
      "55:\tlearn: 0.1738308\ttotal: 48.4s\tremaining: 6m 23s\n",
      "56:\tlearn: 0.1731950\ttotal: 49.3s\tremaining: 6m 23s\n",
      "57:\tlearn: 0.1728370\ttotal: 50.1s\tremaining: 6m 22s\n",
      "58:\tlearn: 0.1723892\ttotal: 50.9s\tremaining: 6m 20s\n",
      "59:\tlearn: 0.1718491\ttotal: 51.8s\tremaining: 6m 19s\n",
      "60:\tlearn: 0.1712835\ttotal: 52.6s\tremaining: 6m 18s\n",
      "61:\tlearn: 0.1707637\ttotal: 53.4s\tremaining: 6m 17s\n",
      "62:\tlearn: 0.1702061\ttotal: 54.3s\tremaining: 6m 16s\n",
      "63:\tlearn: 0.1697046\ttotal: 55.2s\tremaining: 6m 15s\n",
      "64:\tlearn: 0.1693444\ttotal: 56s\tremaining: 6m 14s\n",
      "65:\tlearn: 0.1688451\ttotal: 56.9s\tremaining: 6m 14s\n",
      "66:\tlearn: 0.1683795\ttotal: 57.7s\tremaining: 6m 13s\n",
      "67:\tlearn: 0.1678249\ttotal: 58.7s\tremaining: 6m 12s\n",
      "68:\tlearn: 0.1675095\ttotal: 59.5s\tremaining: 6m 11s\n",
      "69:\tlearn: 0.1670828\ttotal: 1m\tremaining: 6m 10s\n",
      "70:\tlearn: 0.1666476\ttotal: 1m 1s\tremaining: 6m 9s\n",
      "71:\tlearn: 0.1662094\ttotal: 1m 2s\tremaining: 6m 8s\n",
      "72:\tlearn: 0.1658291\ttotal: 1m 2s\tremaining: 6m 7s\n",
      "73:\tlearn: 0.1654385\ttotal: 1m 3s\tremaining: 6m 6s\n",
      "74:\tlearn: 0.1650175\ttotal: 1m 4s\tremaining: 6m 5s\n",
      "75:\tlearn: 0.1646099\ttotal: 1m 5s\tremaining: 6m 4s\n",
      "76:\tlearn: 0.1643251\ttotal: 1m 6s\tremaining: 6m 3s\n",
      "77:\tlearn: 0.1639304\ttotal: 1m 7s\tremaining: 6m 2s\n",
      "78:\tlearn: 0.1634942\ttotal: 1m 7s\tremaining: 6m 1s\n",
      "79:\tlearn: 0.1631519\ttotal: 1m 8s\tremaining: 6m\n",
      "80:\tlearn: 0.1626219\ttotal: 1m 9s\tremaining: 6m\n",
      "81:\tlearn: 0.1621918\ttotal: 1m 10s\tremaining: 5m 59s\n",
      "82:\tlearn: 0.1618705\ttotal: 1m 11s\tremaining: 5m 57s\n",
      "83:\tlearn: 0.1615380\ttotal: 1m 12s\tremaining: 5m 56s\n",
      "84:\tlearn: 0.1611143\ttotal: 1m 12s\tremaining: 5m 55s\n",
      "85:\tlearn: 0.1606611\ttotal: 1m 13s\tremaining: 5m 54s\n",
      "86:\tlearn: 0.1603782\ttotal: 1m 14s\tremaining: 5m 53s\n",
      "87:\tlearn: 0.1599557\ttotal: 1m 15s\tremaining: 5m 53s\n",
      "88:\tlearn: 0.1596232\ttotal: 1m 16s\tremaining: 5m 52s\n",
      "89:\tlearn: 0.1593456\ttotal: 1m 17s\tremaining: 5m 51s\n",
      "90:\tlearn: 0.1589651\ttotal: 1m 17s\tremaining: 5m 50s\n",
      "91:\tlearn: 0.1586481\ttotal: 1m 18s\tremaining: 5m 49s\n",
      "92:\tlearn: 0.1583378\ttotal: 1m 19s\tremaining: 5m 48s\n",
      "93:\tlearn: 0.1580056\ttotal: 1m 20s\tremaining: 5m 47s\n",
      "94:\tlearn: 0.1577191\ttotal: 1m 21s\tremaining: 5m 46s\n",
      "95:\tlearn: 0.1574426\ttotal: 1m 22s\tremaining: 5m 45s\n",
      "96:\tlearn: 0.1570878\ttotal: 1m 22s\tremaining: 5m 44s\n",
      "97:\tlearn: 0.1568926\ttotal: 1m 23s\tremaining: 5m 43s\n",
      "98:\tlearn: 0.1566213\ttotal: 1m 24s\tremaining: 5m 42s\n",
      "99:\tlearn: 0.1563251\ttotal: 1m 25s\tremaining: 5m 41s\n",
      "100:\tlearn: 0.1559506\ttotal: 1m 26s\tremaining: 5m 40s\n",
      "101:\tlearn: 0.1556896\ttotal: 1m 27s\tremaining: 5m 39s\n",
      "102:\tlearn: 0.1553862\ttotal: 1m 27s\tremaining: 5m 38s\n",
      "103:\tlearn: 0.1550741\ttotal: 1m 28s\tremaining: 5m 38s\n",
      "104:\tlearn: 0.1548067\ttotal: 1m 29s\tremaining: 5m 37s\n",
      "105:\tlearn: 0.1545297\ttotal: 1m 30s\tremaining: 5m 36s\n",
      "106:\tlearn: 0.1542125\ttotal: 1m 31s\tremaining: 5m 35s\n",
      "107:\tlearn: 0.1539349\ttotal: 1m 32s\tremaining: 5m 34s\n",
      "108:\tlearn: 0.1535909\ttotal: 1m 32s\tremaining: 5m 33s\n",
      "109:\tlearn: 0.1532021\ttotal: 1m 33s\tremaining: 5m 32s\n",
      "110:\tlearn: 0.1529422\ttotal: 1m 34s\tremaining: 5m 31s\n",
      "111:\tlearn: 0.1528149\ttotal: 1m 35s\tremaining: 5m 30s\n",
      "112:\tlearn: 0.1525083\ttotal: 1m 36s\tremaining: 5m 29s\n",
      "113:\tlearn: 0.1522447\ttotal: 1m 36s\tremaining: 5m 28s\n",
      "114:\tlearn: 0.1519219\ttotal: 1m 37s\tremaining: 5m 27s\n",
      "115:\tlearn: 0.1517266\ttotal: 1m 38s\tremaining: 5m 26s\n",
      "116:\tlearn: 0.1514704\ttotal: 1m 39s\tremaining: 5m 25s\n",
      "117:\tlearn: 0.1511641\ttotal: 1m 40s\tremaining: 5m 24s\n",
      "118:\tlearn: 0.1509704\ttotal: 1m 41s\tremaining: 5m 23s\n",
      "119:\tlearn: 0.1507306\ttotal: 1m 41s\tremaining: 5m 22s\n",
      "120:\tlearn: 0.1504287\ttotal: 1m 42s\tremaining: 5m 22s\n",
      "121:\tlearn: 0.1501767\ttotal: 1m 43s\tremaining: 5m 21s\n",
      "122:\tlearn: 0.1500789\ttotal: 1m 44s\tremaining: 5m 19s\n",
      "123:\tlearn: 0.1498483\ttotal: 1m 45s\tremaining: 5m 18s\n",
      "124:\tlearn: 0.1497559\ttotal: 1m 45s\tremaining: 5m 17s\n",
      "125:\tlearn: 0.1493622\ttotal: 1m 46s\tremaining: 5m 16s\n",
      "126:\tlearn: 0.1491136\ttotal: 1m 47s\tremaining: 5m 15s\n",
      "127:\tlearn: 0.1489626\ttotal: 1m 48s\tremaining: 5m 14s\n",
      "128:\tlearn: 0.1487320\ttotal: 1m 49s\tremaining: 5m 13s\n",
      "129:\tlearn: 0.1484799\ttotal: 1m 49s\tremaining: 5m 12s\n",
      "130:\tlearn: 0.1482086\ttotal: 1m 50s\tremaining: 5m 11s\n",
      "131:\tlearn: 0.1481281\ttotal: 1m 51s\tremaining: 5m 10s\n",
      "132:\tlearn: 0.1478969\ttotal: 1m 52s\tremaining: 5m 9s\n",
      "133:\tlearn: 0.1476703\ttotal: 1m 53s\tremaining: 5m 9s\n",
      "134:\tlearn: 0.1474706\ttotal: 1m 53s\tremaining: 5m 8s\n",
      "135:\tlearn: 0.1471829\ttotal: 1m 54s\tremaining: 5m 7s\n",
      "136:\tlearn: 0.1469277\ttotal: 1m 55s\tremaining: 5m 6s\n",
      "137:\tlearn: 0.1466777\ttotal: 1m 56s\tremaining: 5m 5s\n",
      "138:\tlearn: 0.1464112\ttotal: 1m 57s\tremaining: 5m 4s\n",
      "139:\tlearn: 0.1462124\ttotal: 1m 58s\tremaining: 5m 3s\n",
      "140:\tlearn: 0.1459943\ttotal: 1m 58s\tremaining: 5m 2s\n",
      "141:\tlearn: 0.1459114\ttotal: 1m 59s\tremaining: 5m 1s\n",
      "142:\tlearn: 0.1456878\ttotal: 2m\tremaining: 5m\n",
      "143:\tlearn: 0.1454614\ttotal: 2m 1s\tremaining: 4m 59s\n",
      "144:\tlearn: 0.1452716\ttotal: 2m 2s\tremaining: 4m 59s\n",
      "145:\tlearn: 0.1449730\ttotal: 2m 3s\tremaining: 4m 58s\n",
      "146:\tlearn: 0.1448061\ttotal: 2m 3s\tremaining: 4m 57s\n",
      "147:\tlearn: 0.1445922\ttotal: 2m 4s\tremaining: 4m 56s\n",
      "148:\tlearn: 0.1442987\ttotal: 2m 5s\tremaining: 4m 55s\n",
      "149:\tlearn: 0.1441050\ttotal: 2m 6s\tremaining: 4m 54s\n",
      "150:\tlearn: 0.1438811\ttotal: 2m 7s\tremaining: 4m 53s\n",
      "151:\tlearn: 0.1436736\ttotal: 2m 7s\tremaining: 4m 52s\n",
      "152:\tlearn: 0.1436013\ttotal: 2m 8s\tremaining: 4m 51s\n",
      "153:\tlearn: 0.1433987\ttotal: 2m 9s\tremaining: 4m 50s\n",
      "154:\tlearn: 0.1431917\ttotal: 2m 10s\tremaining: 4m 50s\n",
      "155:\tlearn: 0.1430211\ttotal: 2m 11s\tremaining: 4m 49s\n",
      "156:\tlearn: 0.1427828\ttotal: 2m 11s\tremaining: 4m 48s\n",
      "157:\tlearn: 0.1425891\ttotal: 2m 12s\tremaining: 4m 47s\n",
      "158:\tlearn: 0.1424757\ttotal: 2m 13s\tremaining: 4m 46s\n",
      "159:\tlearn: 0.1423993\ttotal: 2m 14s\tremaining: 4m 45s\n",
      "160:\tlearn: 0.1422243\ttotal: 2m 15s\tremaining: 4m 44s\n",
      "161:\tlearn: 0.1420033\ttotal: 2m 15s\tremaining: 4m 43s\n",
      "162:\tlearn: 0.1417590\ttotal: 2m 16s\tremaining: 4m 42s\n",
      "163:\tlearn: 0.1416946\ttotal: 2m 17s\tremaining: 4m 41s\n",
      "164:\tlearn: 0.1416213\ttotal: 2m 18s\tremaining: 4m 40s\n",
      "165:\tlearn: 0.1413464\ttotal: 2m 18s\tremaining: 4m 39s\n",
      "166:\tlearn: 0.1411560\ttotal: 2m 19s\tremaining: 4m 38s\n",
      "167:\tlearn: 0.1410126\ttotal: 2m 20s\tremaining: 4m 37s\n",
      "168:\tlearn: 0.1409483\ttotal: 2m 21s\tremaining: 4m 36s\n",
      "169:\tlearn: 0.1408873\ttotal: 2m 22s\tremaining: 4m 35s\n",
      "170:\tlearn: 0.1408323\ttotal: 2m 22s\tremaining: 4m 34s\n",
      "171:\tlearn: 0.1406066\ttotal: 2m 23s\tremaining: 4m 33s\n",
      "172:\tlearn: 0.1403603\ttotal: 2m 24s\tremaining: 4m 32s\n",
      "173:\tlearn: 0.1401786\ttotal: 2m 25s\tremaining: 4m 31s\n",
      "174:\tlearn: 0.1401208\ttotal: 2m 25s\tremaining: 4m 30s\n",
      "175:\tlearn: 0.1400672\ttotal: 2m 26s\tremaining: 4m 30s\n",
      "176:\tlearn: 0.1400008\ttotal: 2m 27s\tremaining: 4m 29s\n",
      "177:\tlearn: 0.1399366\ttotal: 2m 28s\tremaining: 4m 27s\n",
      "178:\tlearn: 0.1398825\ttotal: 2m 28s\tremaining: 4m 27s\n",
      "179:\tlearn: 0.1396663\ttotal: 2m 29s\tremaining: 4m 26s\n",
      "180:\tlearn: 0.1395625\ttotal: 2m 30s\tremaining: 4m 25s\n",
      "181:\tlearn: 0.1395059\ttotal: 2m 31s\tremaining: 4m 24s\n",
      "182:\tlearn: 0.1393515\ttotal: 2m 32s\tremaining: 4m 23s\n",
      "183:\tlearn: 0.1392189\ttotal: 2m 32s\tremaining: 4m 22s\n",
      "184:\tlearn: 0.1390901\ttotal: 2m 33s\tremaining: 4m 21s\n",
      "185:\tlearn: 0.1389042\ttotal: 2m 34s\tremaining: 4m 20s\n",
      "186:\tlearn: 0.1388538\ttotal: 2m 35s\tremaining: 4m 19s\n",
      "187:\tlearn: 0.1387068\ttotal: 2m 36s\tremaining: 4m 19s\n",
      "188:\tlearn: 0.1385992\ttotal: 2m 37s\tremaining: 4m 18s\n",
      "189:\tlearn: 0.1385508\ttotal: 2m 37s\tremaining: 4m 17s\n",
      "190:\tlearn: 0.1384016\ttotal: 2m 38s\tremaining: 4m 16s\n",
      "191:\tlearn: 0.1381910\ttotal: 2m 39s\tremaining: 4m 15s\n",
      "192:\tlearn: 0.1381422\ttotal: 2m 40s\tremaining: 4m 14s\n",
      "193:\tlearn: 0.1380939\ttotal: 2m 41s\tremaining: 4m 13s\n",
      "194:\tlearn: 0.1380351\ttotal: 2m 41s\tremaining: 4m 12s\n",
      "195:\tlearn: 0.1378264\ttotal: 2m 42s\tremaining: 4m 12s\n",
      "196:\tlearn: 0.1376808\ttotal: 2m 43s\tremaining: 4m 11s\n",
      "197:\tlearn: 0.1374769\ttotal: 2m 44s\tremaining: 4m 10s\n",
      "198:\tlearn: 0.1372796\ttotal: 2m 45s\tremaining: 4m 9s\n",
      "199:\tlearn: 0.1371254\ttotal: 2m 45s\tremaining: 4m 8s\n",
      "200:\tlearn: 0.1369763\ttotal: 2m 46s\tremaining: 4m 7s\n",
      "201:\tlearn: 0.1368503\ttotal: 2m 47s\tremaining: 4m 7s\n",
      "202:\tlearn: 0.1366775\ttotal: 2m 48s\tremaining: 4m 6s\n",
      "203:\tlearn: 0.1366302\ttotal: 2m 49s\tremaining: 4m 5s\n",
      "204:\tlearn: 0.1364708\ttotal: 2m 49s\tremaining: 4m 4s\n",
      "205:\tlearn: 0.1364256\ttotal: 2m 50s\tremaining: 4m 3s\n",
      "206:\tlearn: 0.1363699\ttotal: 2m 51s\tremaining: 4m 2s\n",
      "207:\tlearn: 0.1362708\ttotal: 2m 52s\tremaining: 4m 1s\n",
      "208:\tlearn: 0.1360290\ttotal: 2m 52s\tremaining: 4m\n",
      "209:\tlearn: 0.1358768\ttotal: 2m 53s\tremaining: 3m 59s\n",
      "210:\tlearn: 0.1357644\ttotal: 2m 54s\tremaining: 3m 58s\n",
      "211:\tlearn: 0.1355873\ttotal: 2m 55s\tremaining: 3m 58s\n",
      "212:\tlearn: 0.1354453\ttotal: 2m 56s\tremaining: 3m 57s\n",
      "213:\tlearn: 0.1354012\ttotal: 2m 56s\tremaining: 3m 56s\n",
      "214:\tlearn: 0.1352460\ttotal: 2m 57s\tremaining: 3m 55s\n",
      "215:\tlearn: 0.1352080\ttotal: 2m 58s\tremaining: 3m 54s\n",
      "216:\tlearn: 0.1350750\ttotal: 2m 59s\tremaining: 3m 53s\n",
      "217:\tlearn: 0.1350334\ttotal: 3m\tremaining: 3m 52s\n",
      "218:\tlearn: 0.1349918\ttotal: 3m\tremaining: 3m 52s\n",
      "219:\tlearn: 0.1348552\ttotal: 3m 1s\tremaining: 3m 51s\n",
      "220:\tlearn: 0.1348115\ttotal: 3m 2s\tremaining: 3m 50s\n",
      "221:\tlearn: 0.1346979\ttotal: 3m 3s\tremaining: 3m 49s\n",
      "222:\tlearn: 0.1345873\ttotal: 3m 3s\tremaining: 3m 48s\n",
      "223:\tlearn: 0.1344034\ttotal: 3m 4s\tremaining: 3m 47s\n",
      "224:\tlearn: 0.1343596\ttotal: 3m 5s\tremaining: 3m 46s\n",
      "225:\tlearn: 0.1342162\ttotal: 3m 6s\tremaining: 3m 45s\n",
      "226:\tlearn: 0.1340724\ttotal: 3m 7s\tremaining: 3m 44s\n",
      "227:\tlearn: 0.1339750\ttotal: 3m 7s\tremaining: 3m 44s\n",
      "228:\tlearn: 0.1339335\ttotal: 3m 8s\tremaining: 3m 43s\n",
      "229:\tlearn: 0.1337800\ttotal: 3m 9s\tremaining: 3m 42s\n",
      "230:\tlearn: 0.1337421\ttotal: 3m 10s\tremaining: 3m 41s\n",
      "231:\tlearn: 0.1335757\ttotal: 3m 10s\tremaining: 3m 40s\n",
      "232:\tlearn: 0.1334585\ttotal: 3m 11s\tremaining: 3m 39s\n",
      "233:\tlearn: 0.1333271\ttotal: 3m 12s\tremaining: 3m 38s\n",
      "234:\tlearn: 0.1332889\ttotal: 3m 13s\tremaining: 3m 37s\n",
      "235:\tlearn: 0.1332427\ttotal: 3m 13s\tremaining: 3m 36s\n",
      "236:\tlearn: 0.1331868\ttotal: 3m 14s\tremaining: 3m 36s\n",
      "237:\tlearn: 0.1331446\ttotal: 3m 15s\tremaining: 3m 35s\n",
      "238:\tlearn: 0.1329613\ttotal: 3m 16s\tremaining: 3m 34s\n",
      "239:\tlearn: 0.1328137\ttotal: 3m 17s\tremaining: 3m 33s\n",
      "240:\tlearn: 0.1327713\ttotal: 3m 17s\tremaining: 3m 32s\n",
      "241:\tlearn: 0.1326910\ttotal: 3m 18s\tremaining: 3m 31s\n",
      "242:\tlearn: 0.1326172\ttotal: 3m 19s\tremaining: 3m 30s\n",
      "243:\tlearn: 0.1325811\ttotal: 3m 20s\tremaining: 3m 29s\n",
      "244:\tlearn: 0.1322624\ttotal: 3m 20s\tremaining: 3m 29s\n",
      "245:\tlearn: 0.1322279\ttotal: 3m 21s\tremaining: 3m 28s\n",
      "246:\tlearn: 0.1321068\ttotal: 3m 22s\tremaining: 3m 27s\n",
      "247:\tlearn: 0.1319380\ttotal: 3m 23s\tremaining: 3m 26s\n",
      "248:\tlearn: 0.1317750\ttotal: 3m 24s\tremaining: 3m 25s\n",
      "249:\tlearn: 0.1316250\ttotal: 3m 24s\tremaining: 3m 24s\n",
      "250:\tlearn: 0.1315165\ttotal: 3m 25s\tremaining: 3m 24s\n",
      "251:\tlearn: 0.1314319\ttotal: 3m 26s\tremaining: 3m 23s\n",
      "252:\tlearn: 0.1313939\ttotal: 3m 27s\tremaining: 3m 22s\n",
      "253:\tlearn: 0.1313579\ttotal: 3m 27s\tremaining: 3m 21s\n",
      "254:\tlearn: 0.1312003\ttotal: 3m 28s\tremaining: 3m 20s\n",
      "255:\tlearn: 0.1311503\ttotal: 3m 29s\tremaining: 3m 19s\n",
      "256:\tlearn: 0.1310308\ttotal: 3m 30s\tremaining: 3m 18s\n",
      "257:\tlearn: 0.1309941\ttotal: 3m 31s\tremaining: 3m 17s\n",
      "258:\tlearn: 0.1308518\ttotal: 3m 31s\tremaining: 3m 17s\n",
      "259:\tlearn: 0.1308180\ttotal: 3m 32s\tremaining: 3m 16s\n",
      "260:\tlearn: 0.1306815\ttotal: 3m 33s\tremaining: 3m 15s\n",
      "261:\tlearn: 0.1306075\ttotal: 3m 34s\tremaining: 3m 14s\n",
      "262:\tlearn: 0.1304549\ttotal: 3m 34s\tremaining: 3m 13s\n",
      "263:\tlearn: 0.1304136\ttotal: 3m 35s\tremaining: 3m 12s\n",
      "264:\tlearn: 0.1303250\ttotal: 3m 36s\tremaining: 3m 11s\n",
      "265:\tlearn: 0.1302196\ttotal: 3m 37s\tremaining: 3m 11s\n",
      "266:\tlearn: 0.1300958\ttotal: 3m 38s\tremaining: 3m 10s\n",
      "267:\tlearn: 0.1300202\ttotal: 3m 38s\tremaining: 3m 9s\n",
      "268:\tlearn: 0.1298968\ttotal: 3m 39s\tremaining: 3m 8s\n",
      "269:\tlearn: 0.1297682\ttotal: 3m 40s\tremaining: 3m 7s\n",
      "270:\tlearn: 0.1296566\ttotal: 3m 41s\tremaining: 3m 7s\n",
      "271:\tlearn: 0.1296225\ttotal: 3m 42s\tremaining: 3m 6s\n",
      "272:\tlearn: 0.1295611\ttotal: 3m 42s\tremaining: 3m 5s\n",
      "273:\tlearn: 0.1295274\ttotal: 3m 43s\tremaining: 3m 4s\n",
      "274:\tlearn: 0.1293768\ttotal: 3m 44s\tremaining: 3m 3s\n",
      "275:\tlearn: 0.1292925\ttotal: 3m 45s\tremaining: 3m 2s\n",
      "276:\tlearn: 0.1292342\ttotal: 3m 45s\tremaining: 3m 1s\n",
      "277:\tlearn: 0.1290888\ttotal: 3m 46s\tremaining: 3m 1s\n",
      "278:\tlearn: 0.1288958\ttotal: 3m 47s\tremaining: 3m\n",
      "279:\tlearn: 0.1287319\ttotal: 3m 48s\tremaining: 2m 59s\n",
      "280:\tlearn: 0.1286340\ttotal: 3m 49s\tremaining: 2m 58s\n",
      "281:\tlearn: 0.1285576\ttotal: 3m 49s\tremaining: 2m 57s\n",
      "282:\tlearn: 0.1285246\ttotal: 3m 50s\tremaining: 2m 56s\n",
      "283:\tlearn: 0.1284723\ttotal: 3m 51s\tremaining: 2m 55s\n",
      "284:\tlearn: 0.1284348\ttotal: 3m 52s\tremaining: 2m 55s\n",
      "285:\tlearn: 0.1283218\ttotal: 3m 52s\tremaining: 2m 54s\n",
      "286:\tlearn: 0.1282907\ttotal: 3m 53s\tremaining: 2m 53s\n",
      "287:\tlearn: 0.1281310\ttotal: 3m 54s\tremaining: 2m 52s\n",
      "288:\tlearn: 0.1280726\ttotal: 3m 55s\tremaining: 2m 51s\n",
      "289:\tlearn: 0.1280233\ttotal: 3m 56s\tremaining: 2m 50s\n",
      "290:\tlearn: 0.1278946\ttotal: 3m 56s\tremaining: 2m 50s\n",
      "291:\tlearn: 0.1278656\ttotal: 3m 57s\tremaining: 2m 49s\n",
      "292:\tlearn: 0.1277271\ttotal: 3m 58s\tremaining: 2m 48s\n",
      "293:\tlearn: 0.1276083\ttotal: 3m 59s\tremaining: 2m 47s\n",
      "294:\tlearn: 0.1274636\ttotal: 4m\tremaining: 2m 46s\n",
      "295:\tlearn: 0.1273601\ttotal: 4m 1s\tremaining: 2m 46s\n",
      "296:\tlearn: 0.1273226\ttotal: 4m 1s\tremaining: 2m 45s\n",
      "297:\tlearn: 0.1272110\ttotal: 4m 2s\tremaining: 2m 44s\n",
      "298:\tlearn: 0.1271811\ttotal: 4m 3s\tremaining: 2m 43s\n",
      "299:\tlearn: 0.1271455\ttotal: 4m 4s\tremaining: 2m 42s\n",
      "300:\tlearn: 0.1270515\ttotal: 4m 4s\tremaining: 2m 41s\n",
      "301:\tlearn: 0.1269671\ttotal: 4m 5s\tremaining: 2m 41s\n",
      "302:\tlearn: 0.1269294\ttotal: 4m 6s\tremaining: 2m 40s\n",
      "303:\tlearn: 0.1267945\ttotal: 4m 7s\tremaining: 2m 39s\n",
      "304:\tlearn: 0.1266796\ttotal: 4m 7s\tremaining: 2m 38s\n",
      "305:\tlearn: 0.1266446\ttotal: 4m 8s\tremaining: 2m 37s\n",
      "306:\tlearn: 0.1265519\ttotal: 4m 9s\tremaining: 2m 36s\n",
      "307:\tlearn: 0.1264281\ttotal: 4m 10s\tremaining: 2m 36s\n",
      "308:\tlearn: 0.1263158\ttotal: 4m 11s\tremaining: 2m 35s\n",
      "309:\tlearn: 0.1262783\ttotal: 4m 11s\tremaining: 2m 34s\n",
      "310:\tlearn: 0.1262054\ttotal: 4m 12s\tremaining: 2m 33s\n",
      "311:\tlearn: 0.1261355\ttotal: 4m 13s\tremaining: 2m 32s\n",
      "312:\tlearn: 0.1260215\ttotal: 4m 14s\tremaining: 2m 31s\n",
      "313:\tlearn: 0.1259206\ttotal: 4m 14s\tremaining: 2m 31s\n",
      "314:\tlearn: 0.1258911\ttotal: 4m 15s\tremaining: 2m 30s\n",
      "315:\tlearn: 0.1257951\ttotal: 4m 16s\tremaining: 2m 29s\n",
      "316:\tlearn: 0.1256844\ttotal: 4m 17s\tremaining: 2m 28s\n",
      "317:\tlearn: 0.1256114\ttotal: 4m 18s\tremaining: 2m 27s\n",
      "318:\tlearn: 0.1255523\ttotal: 4m 18s\tremaining: 2m 26s\n",
      "319:\tlearn: 0.1255217\ttotal: 4m 19s\tremaining: 2m 26s\n",
      "320:\tlearn: 0.1254910\ttotal: 4m 20s\tremaining: 2m 25s\n",
      "321:\tlearn: 0.1253656\ttotal: 4m 21s\tremaining: 2m 24s\n",
      "322:\tlearn: 0.1253372\ttotal: 4m 21s\tremaining: 2m 23s\n",
      "323:\tlearn: 0.1253045\ttotal: 4m 22s\tremaining: 2m 22s\n",
      "324:\tlearn: 0.1252008\ttotal: 4m 23s\tremaining: 2m 21s\n",
      "325:\tlearn: 0.1251534\ttotal: 4m 24s\tremaining: 2m 20s\n",
      "326:\tlearn: 0.1250634\ttotal: 4m 24s\tremaining: 2m 20s\n",
      "327:\tlearn: 0.1248936\ttotal: 4m 25s\tremaining: 2m 19s\n",
      "328:\tlearn: 0.1247874\ttotal: 4m 26s\tremaining: 2m 18s\n",
      "329:\tlearn: 0.1246686\ttotal: 4m 27s\tremaining: 2m 17s\n",
      "330:\tlearn: 0.1245874\ttotal: 4m 28s\tremaining: 2m 16s\n",
      "331:\tlearn: 0.1244421\ttotal: 4m 29s\tremaining: 2m 16s\n",
      "332:\tlearn: 0.1243339\ttotal: 4m 29s\tremaining: 2m 15s\n",
      "333:\tlearn: 0.1242631\ttotal: 4m 30s\tremaining: 2m 14s\n",
      "334:\tlearn: 0.1241812\ttotal: 4m 31s\tremaining: 2m 13s\n",
      "335:\tlearn: 0.1241182\ttotal: 4m 32s\tremaining: 2m 12s\n",
      "336:\tlearn: 0.1240623\ttotal: 4m 32s\tremaining: 2m 12s\n",
      "337:\tlearn: 0.1240335\ttotal: 4m 33s\tremaining: 2m 11s\n",
      "338:\tlearn: 0.1239788\ttotal: 4m 34s\tremaining: 2m 10s\n",
      "339:\tlearn: 0.1238712\ttotal: 4m 35s\tremaining: 2m 9s\n",
      "340:\tlearn: 0.1237855\ttotal: 4m 36s\tremaining: 2m 8s\n",
      "341:\tlearn: 0.1237534\ttotal: 4m 36s\tremaining: 2m 7s\n",
      "342:\tlearn: 0.1237237\ttotal: 4m 37s\tremaining: 2m 7s\n",
      "343:\tlearn: 0.1236351\ttotal: 4m 38s\tremaining: 2m 6s\n",
      "344:\tlearn: 0.1235220\ttotal: 4m 39s\tremaining: 2m 5s\n",
      "345:\tlearn: 0.1234884\ttotal: 4m 40s\tremaining: 2m 4s\n",
      "346:\tlearn: 0.1234614\ttotal: 4m 40s\tremaining: 2m 3s\n",
      "347:\tlearn: 0.1234369\ttotal: 4m 41s\tremaining: 2m 2s\n",
      "348:\tlearn: 0.1233985\ttotal: 4m 42s\tremaining: 2m 2s\n",
      "349:\tlearn: 0.1233724\ttotal: 4m 43s\tremaining: 2m 1s\n",
      "350:\tlearn: 0.1232979\ttotal: 4m 43s\tremaining: 2m\n",
      "351:\tlearn: 0.1232721\ttotal: 4m 44s\tremaining: 1m 59s\n",
      "352:\tlearn: 0.1232462\ttotal: 4m 45s\tremaining: 1m 58s\n",
      "353:\tlearn: 0.1232200\ttotal: 4m 45s\tremaining: 1m 57s\n",
      "354:\tlearn: 0.1230833\ttotal: 4m 46s\tremaining: 1m 57s\n",
      "355:\tlearn: 0.1230562\ttotal: 4m 47s\tremaining: 1m 56s\n",
      "356:\tlearn: 0.1229852\ttotal: 4m 48s\tremaining: 1m 55s\n",
      "357:\tlearn: 0.1229506\ttotal: 4m 49s\tremaining: 1m 54s\n",
      "358:\tlearn: 0.1228168\ttotal: 4m 49s\tremaining: 1m 53s\n",
      "359:\tlearn: 0.1227895\ttotal: 4m 50s\tremaining: 1m 53s\n",
      "360:\tlearn: 0.1226765\ttotal: 4m 51s\tremaining: 1m 52s\n",
      "361:\tlearn: 0.1226504\ttotal: 4m 52s\tremaining: 1m 51s\n",
      "362:\tlearn: 0.1226255\ttotal: 4m 52s\tremaining: 1m 50s\n",
      "363:\tlearn: 0.1226020\ttotal: 4m 53s\tremaining: 1m 49s\n",
      "364:\tlearn: 0.1225772\ttotal: 4m 54s\tremaining: 1m 48s\n",
      "365:\tlearn: 0.1225535\ttotal: 4m 55s\tremaining: 1m 48s\n",
      "366:\tlearn: 0.1225306\ttotal: 4m 55s\tremaining: 1m 47s\n",
      "367:\tlearn: 0.1225076\ttotal: 4m 56s\tremaining: 1m 46s\n",
      "368:\tlearn: 0.1224845\ttotal: 4m 57s\tremaining: 1m 45s\n",
      "369:\tlearn: 0.1224625\ttotal: 4m 58s\tremaining: 1m 44s\n",
      "370:\tlearn: 0.1224398\ttotal: 4m 58s\tremaining: 1m 43s\n",
      "371:\tlearn: 0.1224141\ttotal: 4m 59s\tremaining: 1m 43s\n",
      "372:\tlearn: 0.1222955\ttotal: 5m\tremaining: 1m 42s\n",
      "373:\tlearn: 0.1222716\ttotal: 5m 1s\tremaining: 1m 41s\n",
      "374:\tlearn: 0.1221781\ttotal: 5m 2s\tremaining: 1m 40s\n",
      "375:\tlearn: 0.1221084\ttotal: 5m 2s\tremaining: 1m 39s\n",
      "376:\tlearn: 0.1220857\ttotal: 5m 3s\tremaining: 1m 39s\n",
      "377:\tlearn: 0.1219918\ttotal: 5m 4s\tremaining: 1m 38s\n",
      "378:\tlearn: 0.1218507\ttotal: 5m 5s\tremaining: 1m 37s\n",
      "379:\tlearn: 0.1218001\ttotal: 5m 5s\tremaining: 1m 36s\n",
      "380:\tlearn: 0.1217761\ttotal: 5m 6s\tremaining: 1m 35s\n",
      "381:\tlearn: 0.1217232\ttotal: 5m 7s\tremaining: 1m 34s\n",
      "382:\tlearn: 0.1216993\ttotal: 5m 8s\tremaining: 1m 34s\n",
      "383:\tlearn: 0.1216765\ttotal: 5m 8s\tremaining: 1m 33s\n",
      "384:\tlearn: 0.1216537\ttotal: 5m 9s\tremaining: 1m 32s\n",
      "385:\tlearn: 0.1216324\ttotal: 5m 10s\tremaining: 1m 31s\n",
      "386:\tlearn: 0.1216092\ttotal: 5m 11s\tremaining: 1m 30s\n",
      "387:\tlearn: 0.1215217\ttotal: 5m 11s\tremaining: 1m 30s\n",
      "388:\tlearn: 0.1214135\ttotal: 5m 12s\tremaining: 1m 29s\n",
      "389:\tlearn: 0.1213689\ttotal: 5m 13s\tremaining: 1m 28s\n",
      "390:\tlearn: 0.1213457\ttotal: 5m 14s\tremaining: 1m 27s\n",
      "391:\tlearn: 0.1213233\ttotal: 5m 14s\tremaining: 1m 26s\n",
      "392:\tlearn: 0.1212974\ttotal: 5m 15s\tremaining: 1m 25s\n",
      "393:\tlearn: 0.1212454\ttotal: 5m 16s\tremaining: 1m 25s\n",
      "394:\tlearn: 0.1212124\ttotal: 5m 17s\tremaining: 1m 24s\n",
      "395:\tlearn: 0.1211900\ttotal: 5m 17s\tremaining: 1m 23s\n",
      "396:\tlearn: 0.1211060\ttotal: 5m 18s\tremaining: 1m 22s\n",
      "397:\tlearn: 0.1210748\ttotal: 5m 19s\tremaining: 1m 21s\n",
      "398:\tlearn: 0.1209512\ttotal: 5m 20s\tremaining: 1m 21s\n",
      "399:\tlearn: 0.1208995\ttotal: 5m 20s\tremaining: 1m 20s\n",
      "400:\tlearn: 0.1208765\ttotal: 5m 21s\tremaining: 1m 19s\n",
      "401:\tlearn: 0.1208543\ttotal: 5m 22s\tremaining: 1m 18s\n",
      "402:\tlearn: 0.1208322\ttotal: 5m 23s\tremaining: 1m 17s\n",
      "403:\tlearn: 0.1206859\ttotal: 5m 23s\tremaining: 1m 16s\n",
      "404:\tlearn: 0.1206632\ttotal: 5m 24s\tremaining: 1m 16s\n",
      "405:\tlearn: 0.1205488\ttotal: 5m 25s\tremaining: 1m 15s\n",
      "406:\tlearn: 0.1203902\ttotal: 5m 26s\tremaining: 1m 14s\n",
      "407:\tlearn: 0.1203684\ttotal: 5m 27s\tremaining: 1m 13s\n",
      "408:\tlearn: 0.1203432\ttotal: 5m 27s\tremaining: 1m 12s\n",
      "409:\tlearn: 0.1202272\ttotal: 5m 28s\tremaining: 1m 12s\n",
      "410:\tlearn: 0.1201499\ttotal: 5m 29s\tremaining: 1m 11s\n",
      "411:\tlearn: 0.1201271\ttotal: 5m 30s\tremaining: 1m 10s\n",
      "412:\tlearn: 0.1200885\ttotal: 5m 30s\tremaining: 1m 9s\n",
      "413:\tlearn: 0.1200673\ttotal: 5m 31s\tremaining: 1m 8s\n",
      "414:\tlearn: 0.1199768\ttotal: 5m 32s\tremaining: 1m 8s\n",
      "415:\tlearn: 0.1199344\ttotal: 5m 33s\tremaining: 1m 7s\n",
      "416:\tlearn: 0.1199132\ttotal: 5m 33s\tremaining: 1m 6s\n",
      "417:\tlearn: 0.1198915\ttotal: 5m 34s\tremaining: 1m 5s\n",
      "418:\tlearn: 0.1198694\ttotal: 5m 35s\tremaining: 1m 4s\n",
      "419:\tlearn: 0.1198477\ttotal: 5m 36s\tremaining: 1m 4s\n",
      "420:\tlearn: 0.1197560\ttotal: 5m 36s\tremaining: 1m 3s\n",
      "421:\tlearn: 0.1197309\ttotal: 5m 37s\tremaining: 1m 2s\n",
      "422:\tlearn: 0.1197089\ttotal: 5m 38s\tremaining: 1m 1s\n",
      "423:\tlearn: 0.1196872\ttotal: 5m 39s\tremaining: 1m\n",
      "424:\tlearn: 0.1195744\ttotal: 5m 40s\tremaining: 1m\n",
      "425:\tlearn: 0.1195538\ttotal: 5m 40s\tremaining: 59.2s\n",
      "426:\tlearn: 0.1195001\ttotal: 5m 41s\tremaining: 58.4s\n",
      "427:\tlearn: 0.1194771\ttotal: 5m 42s\tremaining: 57.6s\n",
      "428:\tlearn: 0.1194144\ttotal: 5m 43s\tremaining: 56.8s\n",
      "429:\tlearn: 0.1193911\ttotal: 5m 43s\tremaining: 56s\n",
      "430:\tlearn: 0.1193693\ttotal: 5m 44s\tremaining: 55.2s\n",
      "431:\tlearn: 0.1193247\ttotal: 5m 45s\tremaining: 54.4s\n",
      "432:\tlearn: 0.1193046\ttotal: 5m 46s\tremaining: 53.6s\n",
      "433:\tlearn: 0.1192830\ttotal: 5m 46s\tremaining: 52.7s\n",
      "434:\tlearn: 0.1191210\ttotal: 5m 47s\tremaining: 52s\n",
      "435:\tlearn: 0.1190775\ttotal: 5m 48s\tremaining: 51.2s\n",
      "436:\tlearn: 0.1190562\ttotal: 5m 49s\tremaining: 50.4s\n",
      "437:\tlearn: 0.1189757\ttotal: 5m 50s\tremaining: 49.6s\n",
      "438:\tlearn: 0.1189036\ttotal: 5m 50s\tremaining: 48.8s\n",
      "439:\tlearn: 0.1188763\ttotal: 5m 51s\tremaining: 48s\n",
      "440:\tlearn: 0.1188548\ttotal: 5m 52s\tremaining: 47.1s\n",
      "441:\tlearn: 0.1188339\ttotal: 5m 53s\tremaining: 46.3s\n",
      "442:\tlearn: 0.1188124\ttotal: 5m 53s\tremaining: 45.5s\n",
      "443:\tlearn: 0.1187916\ttotal: 5m 54s\tremaining: 44.7s\n",
      "444:\tlearn: 0.1187706\ttotal: 5m 55s\tremaining: 43.9s\n",
      "445:\tlearn: 0.1187498\ttotal: 5m 56s\tremaining: 43.1s\n",
      "446:\tlearn: 0.1187287\ttotal: 5m 56s\tremaining: 42.3s\n",
      "447:\tlearn: 0.1186795\ttotal: 5m 57s\tremaining: 41.5s\n",
      "448:\tlearn: 0.1186590\ttotal: 5m 58s\tremaining: 40.7s\n",
      "449:\tlearn: 0.1186394\ttotal: 5m 59s\tremaining: 39.9s\n",
      "450:\tlearn: 0.1186199\ttotal: 5m 59s\tremaining: 39.1s\n",
      "451:\tlearn: 0.1185080\ttotal: 6m\tremaining: 38.3s\n",
      "452:\tlearn: 0.1184033\ttotal: 6m 1s\tremaining: 37.5s\n",
      "453:\tlearn: 0.1183831\ttotal: 6m 2s\tremaining: 36.7s\n",
      "454:\tlearn: 0.1183135\ttotal: 6m 3s\tremaining: 35.9s\n",
      "455:\tlearn: 0.1182926\ttotal: 6m 3s\tremaining: 35.1s\n",
      "456:\tlearn: 0.1181834\ttotal: 6m 4s\tremaining: 34.3s\n",
      "457:\tlearn: 0.1181636\ttotal: 6m 5s\tremaining: 33.5s\n",
      "458:\tlearn: 0.1181433\ttotal: 6m 5s\tremaining: 32.7s\n",
      "459:\tlearn: 0.1181233\ttotal: 6m 6s\tremaining: 31.9s\n",
      "460:\tlearn: 0.1181030\ttotal: 6m 7s\tremaining: 31.1s\n",
      "461:\tlearn: 0.1180829\ttotal: 6m 8s\tremaining: 30.3s\n",
      "462:\tlearn: 0.1180628\ttotal: 6m 8s\tremaining: 29.5s\n",
      "463:\tlearn: 0.1180435\ttotal: 6m 9s\tremaining: 28.7s\n",
      "464:\tlearn: 0.1180228\ttotal: 6m 10s\tremaining: 27.9s\n",
      "465:\tlearn: 0.1180017\ttotal: 6m 11s\tremaining: 27.1s\n",
      "466:\tlearn: 0.1179812\ttotal: 6m 11s\tremaining: 26.3s\n",
      "467:\tlearn: 0.1179605\ttotal: 6m 12s\tremaining: 25.5s\n",
      "468:\tlearn: 0.1179413\ttotal: 6m 13s\tremaining: 24.7s\n",
      "469:\tlearn: 0.1179215\ttotal: 6m 13s\tremaining: 23.9s\n",
      "470:\tlearn: 0.1179012\ttotal: 6m 14s\tremaining: 23.1s\n",
      "471:\tlearn: 0.1178284\ttotal: 6m 15s\tremaining: 22.3s\n",
      "472:\tlearn: 0.1178081\ttotal: 6m 16s\tremaining: 21.5s\n",
      "473:\tlearn: 0.1177559\ttotal: 6m 16s\tremaining: 20.7s\n",
      "474:\tlearn: 0.1177263\ttotal: 6m 17s\tremaining: 19.9s\n",
      "475:\tlearn: 0.1177061\ttotal: 6m 18s\tremaining: 19.1s\n",
      "476:\tlearn: 0.1176615\ttotal: 6m 19s\tremaining: 18.3s\n",
      "477:\tlearn: 0.1176417\ttotal: 6m 19s\tremaining: 17.5s\n",
      "478:\tlearn: 0.1176217\ttotal: 6m 20s\tremaining: 16.7s\n",
      "479:\tlearn: 0.1176019\ttotal: 6m 21s\tremaining: 15.9s\n",
      "480:\tlearn: 0.1175829\ttotal: 6m 22s\tremaining: 15.1s\n",
      "481:\tlearn: 0.1175631\ttotal: 6m 22s\tremaining: 14.3s\n",
      "482:\tlearn: 0.1175440\ttotal: 6m 23s\tremaining: 13.5s\n",
      "483:\tlearn: 0.1174718\ttotal: 6m 24s\tremaining: 12.7s\n",
      "484:\tlearn: 0.1174524\ttotal: 6m 25s\tremaining: 11.9s\n",
      "485:\tlearn: 0.1174001\ttotal: 6m 25s\tremaining: 11.1s\n",
      "486:\tlearn: 0.1173803\ttotal: 6m 26s\tremaining: 10.3s\n",
      "487:\tlearn: 0.1173576\ttotal: 6m 27s\tremaining: 9.52s\n",
      "488:\tlearn: 0.1172733\ttotal: 6m 28s\tremaining: 8.73s\n",
      "489:\tlearn: 0.1172493\ttotal: 6m 28s\tremaining: 7.93s\n",
      "490:\tlearn: 0.1172304\ttotal: 6m 29s\tremaining: 7.14s\n",
      "491:\tlearn: 0.1172109\ttotal: 6m 30s\tremaining: 6.34s\n",
      "492:\tlearn: 0.1171915\ttotal: 6m 30s\tremaining: 5.55s\n",
      "493:\tlearn: 0.1171726\ttotal: 6m 31s\tremaining: 4.76s\n",
      "494:\tlearn: 0.1171526\ttotal: 6m 32s\tremaining: 3.96s\n",
      "495:\tlearn: 0.1171328\ttotal: 6m 33s\tremaining: 3.17s\n",
      "496:\tlearn: 0.1170246\ttotal: 6m 33s\tremaining: 2.38s\n",
      "497:\tlearn: 0.1170049\ttotal: 6m 34s\tremaining: 1.58s\n",
      "498:\tlearn: 0.1169321\ttotal: 6m 35s\tremaining: 792ms\n",
      "499:\tlearn: 0.1169124\ttotal: 6m 36s\tremaining: 0us\n",
      "Learning rate set to 0.13643\n",
      "0:\tlearn: 0.5652742\ttotal: 828ms\tremaining: 6m 53s\n",
      "1:\tlearn: 0.4689561\ttotal: 1.67s\tremaining: 6m 56s\n",
      "2:\tlearn: 0.4054483\ttotal: 2.51s\tremaining: 6m 56s\n",
      "3:\tlearn: 0.3552616\ttotal: 3.38s\tremaining: 6m 58s\n",
      "4:\tlearn: 0.3215728\ttotal: 4.25s\tremaining: 7m\n",
      "5:\tlearn: 0.2980437\ttotal: 5.13s\tremaining: 7m 2s\n",
      "6:\tlearn: 0.2798436\ttotal: 6.01s\tremaining: 7m 3s\n",
      "7:\tlearn: 0.2644173\ttotal: 6.91s\tremaining: 7m 5s\n",
      "8:\tlearn: 0.2543797\ttotal: 7.76s\tremaining: 7m 3s\n",
      "9:\tlearn: 0.2455989\ttotal: 8.65s\tremaining: 7m 3s\n",
      "10:\tlearn: 0.2394900\ttotal: 9.49s\tremaining: 7m 1s\n",
      "11:\tlearn: 0.2345627\ttotal: 10.4s\tremaining: 7m 1s\n",
      "12:\tlearn: 0.2307297\ttotal: 11.2s\tremaining: 7m\n",
      "13:\tlearn: 0.2254838\ttotal: 12.1s\tremaining: 7m\n",
      "14:\tlearn: 0.2225946\ttotal: 13s\tremaining: 6m 59s\n",
      "15:\tlearn: 0.2199281\ttotal: 13.8s\tremaining: 6m 57s\n",
      "16:\tlearn: 0.2176742\ttotal: 14.7s\tremaining: 6m 56s\n",
      "17:\tlearn: 0.2152388\ttotal: 15.5s\tremaining: 6m 55s\n",
      "18:\tlearn: 0.2125059\ttotal: 16.4s\tremaining: 6m 56s\n",
      "19:\tlearn: 0.2107820\ttotal: 17.3s\tremaining: 6m 55s\n",
      "20:\tlearn: 0.2088069\ttotal: 18.2s\tremaining: 6m 54s\n",
      "21:\tlearn: 0.2073458\ttotal: 19s\tremaining: 6m 52s\n",
      "22:\tlearn: 0.2057467\ttotal: 19.9s\tremaining: 6m 51s\n",
      "23:\tlearn: 0.2042793\ttotal: 20.8s\tremaining: 6m 51s\n",
      "24:\tlearn: 0.2027451\ttotal: 21.6s\tremaining: 6m 50s\n",
      "25:\tlearn: 0.2012652\ttotal: 22.5s\tremaining: 6m 50s\n",
      "26:\tlearn: 0.1992436\ttotal: 23.4s\tremaining: 6m 49s\n",
      "27:\tlearn: 0.1977206\ttotal: 24.2s\tremaining: 6m 48s\n",
      "28:\tlearn: 0.1964030\ttotal: 25.1s\tremaining: 6m 47s\n",
      "29:\tlearn: 0.1953498\ttotal: 25.9s\tremaining: 6m 46s\n",
      "30:\tlearn: 0.1943411\ttotal: 26.8s\tremaining: 6m 44s\n",
      "31:\tlearn: 0.1934918\ttotal: 27.6s\tremaining: 6m 44s\n",
      "32:\tlearn: 0.1925568\ttotal: 28.5s\tremaining: 6m 42s\n",
      "33:\tlearn: 0.1913371\ttotal: 29.3s\tremaining: 6m 41s\n",
      "34:\tlearn: 0.1903485\ttotal: 30.1s\tremaining: 6m 40s\n",
      "35:\tlearn: 0.1895045\ttotal: 31s\tremaining: 6m 39s\n",
      "36:\tlearn: 0.1885987\ttotal: 31.9s\tremaining: 6m 38s\n",
      "37:\tlearn: 0.1878319\ttotal: 32.7s\tremaining: 6m 37s\n",
      "38:\tlearn: 0.1870068\ttotal: 33.6s\tremaining: 6m 36s\n",
      "39:\tlearn: 0.1863738\ttotal: 34.4s\tremaining: 6m 35s\n",
      "40:\tlearn: 0.1855129\ttotal: 35.2s\tremaining: 6m 34s\n",
      "41:\tlearn: 0.1846215\ttotal: 36s\tremaining: 6m 33s\n",
      "42:\tlearn: 0.1838285\ttotal: 36.9s\tremaining: 6m 32s\n",
      "43:\tlearn: 0.1830136\ttotal: 37.8s\tremaining: 6m 31s\n",
      "44:\tlearn: 0.1824970\ttotal: 38.6s\tremaining: 6m 29s\n",
      "45:\tlearn: 0.1817787\ttotal: 39.4s\tremaining: 6m 28s\n",
      "46:\tlearn: 0.1809544\ttotal: 40.2s\tremaining: 6m 27s\n",
      "47:\tlearn: 0.1802808\ttotal: 41.1s\tremaining: 6m 27s\n",
      "48:\tlearn: 0.1796379\ttotal: 42s\tremaining: 6m 26s\n",
      "49:\tlearn: 0.1789106\ttotal: 42.9s\tremaining: 6m 26s\n",
      "50:\tlearn: 0.1782286\ttotal: 43.7s\tremaining: 6m 25s\n",
      "51:\tlearn: 0.1775782\ttotal: 44.6s\tremaining: 6m 23s\n",
      "52:\tlearn: 0.1767064\ttotal: 45.4s\tremaining: 6m 23s\n",
      "53:\tlearn: 0.1759987\ttotal: 46.2s\tremaining: 6m 21s\n",
      "54:\tlearn: 0.1753202\ttotal: 47s\tremaining: 6m 20s\n",
      "55:\tlearn: 0.1748108\ttotal: 47.9s\tremaining: 6m 19s\n",
      "56:\tlearn: 0.1742833\ttotal: 48.7s\tremaining: 6m 18s\n",
      "57:\tlearn: 0.1737443\ttotal: 49.6s\tremaining: 6m 17s\n",
      "58:\tlearn: 0.1733785\ttotal: 50.4s\tremaining: 6m 16s\n",
      "59:\tlearn: 0.1730098\ttotal: 51.3s\tremaining: 6m 16s\n",
      "60:\tlearn: 0.1724243\ttotal: 52.1s\tremaining: 6m 15s\n",
      "61:\tlearn: 0.1717437\ttotal: 52.9s\tremaining: 6m 14s\n",
      "62:\tlearn: 0.1712740\ttotal: 53.8s\tremaining: 6m 13s\n",
      "63:\tlearn: 0.1707849\ttotal: 54.6s\tremaining: 6m 12s\n",
      "64:\tlearn: 0.1702960\ttotal: 55.5s\tremaining: 6m 11s\n",
      "65:\tlearn: 0.1699057\ttotal: 56.3s\tremaining: 6m 10s\n",
      "66:\tlearn: 0.1694872\ttotal: 57.1s\tremaining: 6m 9s\n",
      "67:\tlearn: 0.1691057\ttotal: 58s\tremaining: 6m 8s\n",
      "68:\tlearn: 0.1685288\ttotal: 58.9s\tremaining: 6m 7s\n",
      "69:\tlearn: 0.1682119\ttotal: 59.6s\tremaining: 6m 6s\n",
      "70:\tlearn: 0.1677731\ttotal: 1m\tremaining: 6m 5s\n",
      "71:\tlearn: 0.1673187\ttotal: 1m 1s\tremaining: 6m 5s\n",
      "72:\tlearn: 0.1669872\ttotal: 1m 2s\tremaining: 6m 4s\n",
      "73:\tlearn: 0.1665838\ttotal: 1m 3s\tremaining: 6m 3s\n",
      "74:\tlearn: 0.1662474\ttotal: 1m 3s\tremaining: 6m 2s\n",
      "75:\tlearn: 0.1658529\ttotal: 1m 4s\tremaining: 6m 2s\n",
      "76:\tlearn: 0.1654551\ttotal: 1m 5s\tremaining: 6m\n",
      "77:\tlearn: 0.1651790\ttotal: 1m 6s\tremaining: 5m 59s\n",
      "78:\tlearn: 0.1647569\ttotal: 1m 7s\tremaining: 5m 58s\n",
      "79:\tlearn: 0.1644008\ttotal: 1m 8s\tremaining: 5m 57s\n",
      "80:\tlearn: 0.1639892\ttotal: 1m 8s\tremaining: 5m 56s\n",
      "81:\tlearn: 0.1635693\ttotal: 1m 9s\tremaining: 5m 56s\n",
      "82:\tlearn: 0.1631524\ttotal: 1m 10s\tremaining: 5m 55s\n",
      "83:\tlearn: 0.1627846\ttotal: 1m 11s\tremaining: 5m 54s\n",
      "84:\tlearn: 0.1624499\ttotal: 1m 12s\tremaining: 5m 53s\n",
      "85:\tlearn: 0.1621071\ttotal: 1m 13s\tremaining: 5m 52s\n",
      "86:\tlearn: 0.1617351\ttotal: 1m 14s\tremaining: 5m 51s\n",
      "87:\tlearn: 0.1613874\ttotal: 1m 14s\tremaining: 5m 50s\n",
      "88:\tlearn: 0.1609835\ttotal: 1m 15s\tremaining: 5m 50s\n",
      "89:\tlearn: 0.1607996\ttotal: 1m 16s\tremaining: 5m 48s\n",
      "90:\tlearn: 0.1604547\ttotal: 1m 17s\tremaining: 5m 47s\n",
      "91:\tlearn: 0.1601449\ttotal: 1m 18s\tremaining: 5m 47s\n",
      "92:\tlearn: 0.1599905\ttotal: 1m 19s\tremaining: 5m 45s\n",
      "93:\tlearn: 0.1596495\ttotal: 1m 19s\tremaining: 5m 45s\n",
      "94:\tlearn: 0.1592979\ttotal: 1m 20s\tremaining: 5m 44s\n",
      "95:\tlearn: 0.1589187\ttotal: 1m 21s\tremaining: 5m 43s\n",
      "96:\tlearn: 0.1584482\ttotal: 1m 22s\tremaining: 5m 42s\n",
      "97:\tlearn: 0.1580518\ttotal: 1m 23s\tremaining: 5m 41s\n",
      "98:\tlearn: 0.1577581\ttotal: 1m 24s\tremaining: 5m 41s\n",
      "99:\tlearn: 0.1574196\ttotal: 1m 25s\tremaining: 5m 40s\n",
      "100:\tlearn: 0.1570769\ttotal: 1m 25s\tremaining: 5m 39s\n",
      "101:\tlearn: 0.1567714\ttotal: 1m 26s\tremaining: 5m 38s\n",
      "102:\tlearn: 0.1563892\ttotal: 1m 27s\tremaining: 5m 37s\n",
      "103:\tlearn: 0.1560818\ttotal: 1m 28s\tremaining: 5m 36s\n",
      "104:\tlearn: 0.1559364\ttotal: 1m 29s\tremaining: 5m 35s\n",
      "105:\tlearn: 0.1556272\ttotal: 1m 30s\tremaining: 5m 34s\n",
      "106:\tlearn: 0.1552891\ttotal: 1m 30s\tremaining: 5m 34s\n",
      "107:\tlearn: 0.1549745\ttotal: 1m 31s\tremaining: 5m 33s\n",
      "108:\tlearn: 0.1548453\ttotal: 1m 32s\tremaining: 5m 32s\n",
      "109:\tlearn: 0.1545010\ttotal: 1m 33s\tremaining: 5m 31s\n",
      "110:\tlearn: 0.1542586\ttotal: 1m 34s\tremaining: 5m 30s\n",
      "111:\tlearn: 0.1538907\ttotal: 1m 35s\tremaining: 5m 29s\n",
      "112:\tlearn: 0.1536432\ttotal: 1m 35s\tremaining: 5m 28s\n",
      "113:\tlearn: 0.1533716\ttotal: 1m 36s\tremaining: 5m 27s\n",
      "114:\tlearn: 0.1530760\ttotal: 1m 37s\tremaining: 5m 27s\n",
      "115:\tlearn: 0.1526992\ttotal: 1m 38s\tremaining: 5m 26s\n",
      "116:\tlearn: 0.1524459\ttotal: 1m 39s\tremaining: 5m 25s\n",
      "117:\tlearn: 0.1522438\ttotal: 1m 40s\tremaining: 5m 24s\n",
      "118:\tlearn: 0.1519890\ttotal: 1m 41s\tremaining: 5m 23s\n",
      "119:\tlearn: 0.1517259\ttotal: 1m 41s\tremaining: 5m 22s\n",
      "120:\tlearn: 0.1515212\ttotal: 1m 42s\tremaining: 5m 21s\n",
      "121:\tlearn: 0.1511470\ttotal: 1m 43s\tremaining: 5m 21s\n",
      "122:\tlearn: 0.1508863\ttotal: 1m 44s\tremaining: 5m 20s\n",
      "123:\tlearn: 0.1507809\ttotal: 1m 45s\tremaining: 5m 18s\n",
      "124:\tlearn: 0.1504605\ttotal: 1m 46s\tremaining: 5m 18s\n",
      "125:\tlearn: 0.1501785\ttotal: 1m 46s\tremaining: 5m 17s\n",
      "126:\tlearn: 0.1499162\ttotal: 1m 47s\tremaining: 5m 16s\n",
      "127:\tlearn: 0.1498202\ttotal: 1m 48s\tremaining: 5m 15s\n",
      "128:\tlearn: 0.1495710\ttotal: 1m 49s\tremaining: 5m 14s\n",
      "129:\tlearn: 0.1492417\ttotal: 1m 50s\tremaining: 5m 13s\n",
      "130:\tlearn: 0.1490932\ttotal: 1m 51s\tremaining: 5m 12s\n",
      "131:\tlearn: 0.1488542\ttotal: 1m 51s\tremaining: 5m 12s\n",
      "132:\tlearn: 0.1485498\ttotal: 1m 52s\tremaining: 5m 11s\n",
      "133:\tlearn: 0.1484486\ttotal: 1m 53s\tremaining: 5m 10s\n",
      "134:\tlearn: 0.1482224\ttotal: 1m 54s\tremaining: 5m 9s\n",
      "135:\tlearn: 0.1479099\ttotal: 1m 55s\tremaining: 5m 8s\n",
      "136:\tlearn: 0.1477290\ttotal: 1m 55s\tremaining: 5m 7s\n",
      "137:\tlearn: 0.1474918\ttotal: 1m 56s\tremaining: 5m 6s\n",
      "138:\tlearn: 0.1474064\ttotal: 1m 57s\tremaining: 5m 5s\n",
      "139:\tlearn: 0.1472985\ttotal: 1m 58s\tremaining: 5m 4s\n",
      "140:\tlearn: 0.1470648\ttotal: 1m 59s\tremaining: 5m 3s\n",
      "141:\tlearn: 0.1468183\ttotal: 2m\tremaining: 5m 2s\n",
      "142:\tlearn: 0.1466261\ttotal: 2m 1s\tremaining: 5m 2s\n",
      "143:\tlearn: 0.1465426\ttotal: 2m 1s\tremaining: 5m 1s\n",
      "144:\tlearn: 0.1463281\ttotal: 2m 2s\tremaining: 5m\n",
      "145:\tlearn: 0.1460256\ttotal: 2m 3s\tremaining: 4m 59s\n",
      "146:\tlearn: 0.1458034\ttotal: 2m 4s\tremaining: 4m 58s\n",
      "147:\tlearn: 0.1455733\ttotal: 2m 5s\tremaining: 4m 57s\n",
      "148:\tlearn: 0.1454906\ttotal: 2m 5s\tremaining: 4m 56s\n",
      "149:\tlearn: 0.1452421\ttotal: 2m 6s\tremaining: 4m 55s\n",
      "150:\tlearn: 0.1451619\ttotal: 2m 7s\tremaining: 4m 54s\n",
      "151:\tlearn: 0.1449049\ttotal: 2m 8s\tremaining: 4m 53s\n",
      "152:\tlearn: 0.1446603\ttotal: 2m 9s\tremaining: 4m 52s\n",
      "153:\tlearn: 0.1445739\ttotal: 2m 9s\tremaining: 4m 51s\n",
      "154:\tlearn: 0.1442968\ttotal: 2m 10s\tremaining: 4m 51s\n",
      "155:\tlearn: 0.1440318\ttotal: 2m 11s\tremaining: 4m 50s\n",
      "156:\tlearn: 0.1438202\ttotal: 2m 12s\tremaining: 4m 49s\n",
      "157:\tlearn: 0.1436660\ttotal: 2m 13s\tremaining: 4m 48s\n",
      "158:\tlearn: 0.1434114\ttotal: 2m 14s\tremaining: 4m 47s\n",
      "159:\tlearn: 0.1432460\ttotal: 2m 14s\tremaining: 4m 46s\n",
      "160:\tlearn: 0.1430670\ttotal: 2m 15s\tremaining: 4m 45s\n",
      "161:\tlearn: 0.1429478\ttotal: 2m 16s\tremaining: 4m 44s\n",
      "162:\tlearn: 0.1427464\ttotal: 2m 17s\tremaining: 4m 44s\n",
      "163:\tlearn: 0.1425189\ttotal: 2m 18s\tremaining: 4m 43s\n",
      "164:\tlearn: 0.1423060\ttotal: 2m 18s\tremaining: 4m 42s\n",
      "165:\tlearn: 0.1421431\ttotal: 2m 19s\tremaining: 4m 41s\n",
      "166:\tlearn: 0.1419923\ttotal: 2m 20s\tremaining: 4m 40s\n",
      "167:\tlearn: 0.1418342\ttotal: 2m 21s\tremaining: 4m 39s\n",
      "168:\tlearn: 0.1417609\ttotal: 2m 22s\tremaining: 4m 38s\n",
      "169:\tlearn: 0.1415668\ttotal: 2m 22s\tremaining: 4m 37s\n",
      "170:\tlearn: 0.1415011\ttotal: 2m 23s\tremaining: 4m 36s\n",
      "171:\tlearn: 0.1414311\ttotal: 2m 24s\tremaining: 4m 35s\n",
      "172:\tlearn: 0.1412021\ttotal: 2m 25s\tremaining: 4m 34s\n",
      "173:\tlearn: 0.1409979\ttotal: 2m 26s\tremaining: 4m 33s\n",
      "174:\tlearn: 0.1409340\ttotal: 2m 26s\tremaining: 4m 32s\n",
      "175:\tlearn: 0.1407672\ttotal: 2m 27s\tremaining: 4m 31s\n",
      "176:\tlearn: 0.1405552\ttotal: 2m 28s\tremaining: 4m 31s\n",
      "177:\tlearn: 0.1403836\ttotal: 2m 29s\tremaining: 4m 30s\n",
      "178:\tlearn: 0.1403217\ttotal: 2m 30s\tremaining: 4m 29s\n",
      "179:\tlearn: 0.1401779\ttotal: 2m 30s\tremaining: 4m 28s\n",
      "180:\tlearn: 0.1400077\ttotal: 2m 31s\tremaining: 4m 27s\n",
      "181:\tlearn: 0.1398579\ttotal: 2m 32s\tremaining: 4m 26s\n",
      "182:\tlearn: 0.1398030\ttotal: 2m 33s\tremaining: 4m 25s\n",
      "183:\tlearn: 0.1397459\ttotal: 2m 34s\tremaining: 4m 24s\n",
      "184:\tlearn: 0.1395930\ttotal: 2m 34s\tremaining: 4m 23s\n",
      "185:\tlearn: 0.1395380\ttotal: 2m 35s\tremaining: 4m 22s\n",
      "186:\tlearn: 0.1393476\ttotal: 2m 36s\tremaining: 4m 21s\n",
      "187:\tlearn: 0.1392122\ttotal: 2m 37s\tremaining: 4m 20s\n",
      "188:\tlearn: 0.1391586\ttotal: 2m 37s\tremaining: 4m 19s\n",
      "189:\tlearn: 0.1391060\ttotal: 2m 38s\tremaining: 4m 18s\n",
      "190:\tlearn: 0.1389463\ttotal: 2m 39s\tremaining: 4m 17s\n",
      "191:\tlearn: 0.1388954\ttotal: 2m 40s\tremaining: 4m 16s\n",
      "192:\tlearn: 0.1387614\ttotal: 2m 40s\tremaining: 4m 16s\n",
      "193:\tlearn: 0.1385867\ttotal: 2m 41s\tremaining: 4m 15s\n",
      "194:\tlearn: 0.1384891\ttotal: 2m 42s\tremaining: 4m 14s\n",
      "195:\tlearn: 0.1383319\ttotal: 2m 43s\tremaining: 4m 13s\n",
      "196:\tlearn: 0.1382767\ttotal: 2m 44s\tremaining: 4m 12s\n",
      "197:\tlearn: 0.1381077\ttotal: 2m 44s\tremaining: 4m 11s\n",
      "198:\tlearn: 0.1378497\ttotal: 2m 45s\tremaining: 4m 10s\n",
      "199:\tlearn: 0.1377832\ttotal: 2m 46s\tremaining: 4m 9s\n",
      "200:\tlearn: 0.1377331\ttotal: 2m 47s\tremaining: 4m 8s\n",
      "201:\tlearn: 0.1375739\ttotal: 2m 48s\tremaining: 4m 7s\n",
      "202:\tlearn: 0.1375264\ttotal: 2m 48s\tremaining: 4m 6s\n",
      "203:\tlearn: 0.1374771\ttotal: 2m 49s\tremaining: 4m 5s\n",
      "204:\tlearn: 0.1374325\ttotal: 2m 50s\tremaining: 4m 4s\n",
      "205:\tlearn: 0.1373777\ttotal: 2m 50s\tremaining: 4m 4s\n",
      "206:\tlearn: 0.1373330\ttotal: 2m 51s\tremaining: 4m 3s\n",
      "207:\tlearn: 0.1371360\ttotal: 2m 52s\tremaining: 4m 2s\n",
      "208:\tlearn: 0.1370726\ttotal: 2m 53s\tremaining: 4m 1s\n",
      "209:\tlearn: 0.1369129\ttotal: 2m 54s\tremaining: 4m\n",
      "210:\tlearn: 0.1368559\ttotal: 2m 54s\tremaining: 3m 59s\n",
      "211:\tlearn: 0.1366928\ttotal: 2m 55s\tremaining: 3m 58s\n",
      "212:\tlearn: 0.1366472\ttotal: 2m 56s\tremaining: 3m 57s\n",
      "213:\tlearn: 0.1366053\ttotal: 2m 57s\tremaining: 3m 56s\n",
      "214:\tlearn: 0.1364902\ttotal: 2m 57s\tremaining: 3m 55s\n",
      "215:\tlearn: 0.1362676\ttotal: 2m 58s\tremaining: 3m 54s\n",
      "216:\tlearn: 0.1361046\ttotal: 2m 59s\tremaining: 3m 54s\n",
      "217:\tlearn: 0.1359450\ttotal: 3m\tremaining: 3m 53s\n",
      "218:\tlearn: 0.1357940\ttotal: 3m 1s\tremaining: 3m 52s\n",
      "219:\tlearn: 0.1356558\ttotal: 3m 1s\tremaining: 3m 51s\n",
      "220:\tlearn: 0.1355366\ttotal: 3m 2s\tremaining: 3m 50s\n",
      "221:\tlearn: 0.1354893\ttotal: 3m 3s\tremaining: 3m 49s\n",
      "222:\tlearn: 0.1354255\ttotal: 3m 4s\tremaining: 3m 48s\n",
      "223:\tlearn: 0.1352376\ttotal: 3m 5s\tremaining: 3m 47s\n",
      "224:\tlearn: 0.1350746\ttotal: 3m 5s\tremaining: 3m 47s\n",
      "225:\tlearn: 0.1350300\ttotal: 3m 6s\tremaining: 3m 46s\n",
      "226:\tlearn: 0.1349881\ttotal: 3m 7s\tremaining: 3m 45s\n",
      "227:\tlearn: 0.1349363\ttotal: 3m 8s\tremaining: 3m 44s\n",
      "228:\tlearn: 0.1348962\ttotal: 3m 8s\tremaining: 3m 43s\n",
      "229:\tlearn: 0.1348488\ttotal: 3m 9s\tremaining: 3m 42s\n",
      "230:\tlearn: 0.1346921\ttotal: 3m 10s\tremaining: 3m 41s\n",
      "231:\tlearn: 0.1345696\ttotal: 3m 11s\tremaining: 3m 40s\n",
      "232:\tlearn: 0.1344816\ttotal: 3m 11s\tremaining: 3m 39s\n",
      "233:\tlearn: 0.1343563\ttotal: 3m 12s\tremaining: 3m 39s\n",
      "234:\tlearn: 0.1341825\ttotal: 3m 13s\tremaining: 3m 38s\n",
      "235:\tlearn: 0.1341443\ttotal: 3m 14s\tremaining: 3m 37s\n",
      "236:\tlearn: 0.1340252\ttotal: 3m 15s\tremaining: 3m 36s\n",
      "237:\tlearn: 0.1339850\ttotal: 3m 15s\tremaining: 3m 35s\n",
      "238:\tlearn: 0.1338203\ttotal: 3m 16s\tremaining: 3m 34s\n",
      "239:\tlearn: 0.1337849\ttotal: 3m 17s\tremaining: 3m 33s\n",
      "240:\tlearn: 0.1336771\ttotal: 3m 18s\tremaining: 3m 32s\n",
      "241:\tlearn: 0.1334791\ttotal: 3m 18s\tremaining: 3m 32s\n",
      "242:\tlearn: 0.1332816\ttotal: 3m 19s\tremaining: 3m 31s\n",
      "243:\tlearn: 0.1330578\ttotal: 3m 20s\tremaining: 3m 30s\n",
      "244:\tlearn: 0.1328678\ttotal: 3m 21s\tremaining: 3m 29s\n",
      "245:\tlearn: 0.1326667\ttotal: 3m 22s\tremaining: 3m 29s\n",
      "246:\tlearn: 0.1325143\ttotal: 3m 23s\tremaining: 3m 28s\n",
      "247:\tlearn: 0.1324782\ttotal: 3m 23s\tremaining: 3m 27s\n",
      "248:\tlearn: 0.1324282\ttotal: 3m 24s\tremaining: 3m 26s\n",
      "249:\tlearn: 0.1322276\ttotal: 3m 25s\tremaining: 3m 25s\n",
      "250:\tlearn: 0.1321638\ttotal: 3m 26s\tremaining: 3m 24s\n",
      "251:\tlearn: 0.1320141\ttotal: 3m 27s\tremaining: 3m 23s\n",
      "252:\tlearn: 0.1318392\ttotal: 3m 27s\tremaining: 3m 23s\n",
      "253:\tlearn: 0.1318036\ttotal: 3m 28s\tremaining: 3m 22s\n",
      "254:\tlearn: 0.1317644\ttotal: 3m 29s\tremaining: 3m 21s\n",
      "255:\tlearn: 0.1315956\ttotal: 3m 30s\tremaining: 3m 20s\n",
      "256:\tlearn: 0.1315355\ttotal: 3m 30s\tremaining: 3m 19s\n",
      "257:\tlearn: 0.1315003\ttotal: 3m 31s\tremaining: 3m 18s\n",
      "258:\tlearn: 0.1314573\ttotal: 3m 32s\tremaining: 3m 17s\n",
      "259:\tlearn: 0.1313352\ttotal: 3m 33s\tremaining: 3m 16s\n",
      "260:\tlearn: 0.1312416\ttotal: 3m 34s\tremaining: 3m 15s\n",
      "261:\tlearn: 0.1312045\ttotal: 3m 34s\tremaining: 3m 15s\n",
      "262:\tlearn: 0.1311024\ttotal: 3m 35s\tremaining: 3m 14s\n",
      "263:\tlearn: 0.1309569\ttotal: 3m 36s\tremaining: 3m 13s\n",
      "264:\tlearn: 0.1309245\ttotal: 3m 37s\tremaining: 3m 12s\n",
      "265:\tlearn: 0.1308121\ttotal: 3m 37s\tremaining: 3m 11s\n",
      "266:\tlearn: 0.1307039\ttotal: 3m 38s\tremaining: 3m 10s\n",
      "267:\tlearn: 0.1306008\ttotal: 3m 39s\tremaining: 3m 10s\n",
      "268:\tlearn: 0.1304768\ttotal: 3m 40s\tremaining: 3m 9s\n",
      "269:\tlearn: 0.1304436\ttotal: 3m 41s\tremaining: 3m 8s\n",
      "270:\tlearn: 0.1303031\ttotal: 3m 42s\tremaining: 3m 7s\n",
      "271:\tlearn: 0.1301667\ttotal: 3m 42s\tremaining: 3m 6s\n",
      "272:\tlearn: 0.1300912\ttotal: 3m 43s\tremaining: 3m 5s\n",
      "273:\tlearn: 0.1300540\ttotal: 3m 44s\tremaining: 3m 5s\n",
      "274:\tlearn: 0.1299170\ttotal: 3m 45s\tremaining: 3m 4s\n",
      "275:\tlearn: 0.1298057\ttotal: 3m 45s\tremaining: 3m 3s\n",
      "276:\tlearn: 0.1297709\ttotal: 3m 46s\tremaining: 3m 2s\n",
      "277:\tlearn: 0.1296427\ttotal: 3m 47s\tremaining: 3m 1s\n",
      "278:\tlearn: 0.1294599\ttotal: 3m 48s\tremaining: 3m\n",
      "279:\tlearn: 0.1294300\ttotal: 3m 49s\tremaining: 3m\n",
      "280:\tlearn: 0.1293123\ttotal: 3m 49s\tremaining: 2m 59s\n",
      "281:\tlearn: 0.1292141\ttotal: 3m 50s\tremaining: 2m 58s\n",
      "282:\tlearn: 0.1290509\ttotal: 3m 51s\tremaining: 2m 57s\n",
      "283:\tlearn: 0.1290067\ttotal: 3m 52s\tremaining: 2m 56s\n",
      "284:\tlearn: 0.1288150\ttotal: 3m 53s\tremaining: 2m 55s\n",
      "285:\tlearn: 0.1286444\ttotal: 3m 53s\tremaining: 2m 55s\n",
      "286:\tlearn: 0.1285366\ttotal: 3m 54s\tremaining: 2m 54s\n",
      "287:\tlearn: 0.1284071\ttotal: 3m 55s\tremaining: 2m 53s\n",
      "288:\tlearn: 0.1283647\ttotal: 3m 56s\tremaining: 2m 52s\n",
      "289:\tlearn: 0.1283318\ttotal: 3m 57s\tremaining: 2m 51s\n",
      "290:\tlearn: 0.1282249\ttotal: 3m 57s\tremaining: 2m 50s\n",
      "291:\tlearn: 0.1280766\ttotal: 3m 58s\tremaining: 2m 49s\n",
      "292:\tlearn: 0.1280378\ttotal: 3m 59s\tremaining: 2m 49s\n",
      "293:\tlearn: 0.1279901\ttotal: 4m\tremaining: 2m 48s\n",
      "294:\tlearn: 0.1278956\ttotal: 4m\tremaining: 2m 47s\n",
      "295:\tlearn: 0.1277822\ttotal: 4m 1s\tremaining: 2m 46s\n",
      "296:\tlearn: 0.1277535\ttotal: 4m 2s\tremaining: 2m 45s\n",
      "297:\tlearn: 0.1276437\ttotal: 4m 3s\tremaining: 2m 44s\n",
      "298:\tlearn: 0.1275858\ttotal: 4m 4s\tremaining: 2m 44s\n",
      "299:\tlearn: 0.1275429\ttotal: 4m 4s\tremaining: 2m 43s\n",
      "300:\tlearn: 0.1274171\ttotal: 4m 5s\tremaining: 2m 42s\n",
      "301:\tlearn: 0.1273869\ttotal: 4m 6s\tremaining: 2m 41s\n",
      "302:\tlearn: 0.1272199\ttotal: 4m 7s\tremaining: 2m 40s\n",
      "303:\tlearn: 0.1271828\ttotal: 4m 7s\tremaining: 2m 39s\n",
      "304:\tlearn: 0.1270691\ttotal: 4m 8s\tremaining: 2m 39s\n",
      "305:\tlearn: 0.1270048\ttotal: 4m 9s\tremaining: 2m 38s\n",
      "306:\tlearn: 0.1269733\ttotal: 4m 10s\tremaining: 2m 37s\n",
      "307:\tlearn: 0.1268749\ttotal: 4m 11s\tremaining: 2m 36s\n",
      "308:\tlearn: 0.1268450\ttotal: 4m 11s\tremaining: 2m 35s\n",
      "309:\tlearn: 0.1268124\ttotal: 4m 12s\tremaining: 2m 34s\n",
      "310:\tlearn: 0.1267821\ttotal: 4m 13s\tremaining: 2m 33s\n",
      "311:\tlearn: 0.1266898\ttotal: 4m 14s\tremaining: 2m 33s\n",
      "312:\tlearn: 0.1265897\ttotal: 4m 14s\tremaining: 2m 32s\n",
      "313:\tlearn: 0.1264480\ttotal: 4m 15s\tremaining: 2m 31s\n",
      "314:\tlearn: 0.1263278\ttotal: 4m 16s\tremaining: 2m 30s\n",
      "315:\tlearn: 0.1262923\ttotal: 4m 17s\tremaining: 2m 29s\n",
      "316:\tlearn: 0.1261903\ttotal: 4m 18s\tremaining: 2m 28s\n",
      "317:\tlearn: 0.1261461\ttotal: 4m 18s\tremaining: 2m 28s\n",
      "318:\tlearn: 0.1260557\ttotal: 4m 19s\tremaining: 2m 27s\n",
      "319:\tlearn: 0.1259587\ttotal: 4m 20s\tremaining: 2m 26s\n",
      "320:\tlearn: 0.1257990\ttotal: 4m 21s\tremaining: 2m 25s\n",
      "321:\tlearn: 0.1257449\ttotal: 4m 22s\tremaining: 2m 24s\n",
      "322:\tlearn: 0.1256115\ttotal: 4m 22s\tremaining: 2m 24s\n",
      "323:\tlearn: 0.1255421\ttotal: 4m 23s\tremaining: 2m 23s\n",
      "324:\tlearn: 0.1254147\ttotal: 4m 24s\tremaining: 2m 22s\n",
      "325:\tlearn: 0.1252679\ttotal: 4m 25s\tremaining: 2m 21s\n",
      "326:\tlearn: 0.1251789\ttotal: 4m 26s\tremaining: 2m 20s\n",
      "327:\tlearn: 0.1250494\ttotal: 4m 26s\tremaining: 2m 19s\n",
      "328:\tlearn: 0.1250059\ttotal: 4m 27s\tremaining: 2m 19s\n",
      "329:\tlearn: 0.1248924\ttotal: 4m 28s\tremaining: 2m 18s\n",
      "330:\tlearn: 0.1248003\ttotal: 4m 29s\tremaining: 2m 17s\n",
      "331:\tlearn: 0.1246732\ttotal: 4m 30s\tremaining: 2m 16s\n",
      "332:\tlearn: 0.1246038\ttotal: 4m 30s\tremaining: 2m 15s\n",
      "333:\tlearn: 0.1244882\ttotal: 4m 31s\tremaining: 2m 15s\n",
      "334:\tlearn: 0.1244205\ttotal: 4m 32s\tremaining: 2m 14s\n",
      "335:\tlearn: 0.1243798\ttotal: 4m 33s\tremaining: 2m 13s\n",
      "336:\tlearn: 0.1242664\ttotal: 4m 34s\tremaining: 2m 12s\n",
      "337:\tlearn: 0.1242376\ttotal: 4m 34s\tremaining: 2m 11s\n",
      "338:\tlearn: 0.1241909\ttotal: 4m 35s\tremaining: 2m 10s\n",
      "339:\tlearn: 0.1240815\ttotal: 4m 36s\tremaining: 2m 10s\n",
      "340:\tlearn: 0.1240002\ttotal: 4m 37s\tremaining: 2m 9s\n",
      "341:\tlearn: 0.1238775\ttotal: 4m 37s\tremaining: 2m 8s\n",
      "342:\tlearn: 0.1238469\ttotal: 4m 38s\tremaining: 2m 7s\n",
      "343:\tlearn: 0.1237492\ttotal: 4m 39s\tremaining: 2m 6s\n",
      "344:\tlearn: 0.1236816\ttotal: 4m 40s\tremaining: 2m 5s\n",
      "345:\tlearn: 0.1235429\ttotal: 4m 41s\tremaining: 2m 5s\n",
      "346:\tlearn: 0.1234963\ttotal: 4m 41s\tremaining: 2m 4s\n",
      "347:\tlearn: 0.1234701\ttotal: 4m 42s\tremaining: 2m 3s\n",
      "348:\tlearn: 0.1234449\ttotal: 4m 43s\tremaining: 2m 2s\n",
      "349:\tlearn: 0.1234179\ttotal: 4m 44s\tremaining: 2m 1s\n",
      "350:\tlearn: 0.1233670\ttotal: 4m 44s\tremaining: 2m\n",
      "351:\tlearn: 0.1232590\ttotal: 4m 45s\tremaining: 2m\n",
      "352:\tlearn: 0.1231746\ttotal: 4m 46s\tremaining: 1m 59s\n",
      "353:\tlearn: 0.1230482\ttotal: 4m 47s\tremaining: 1m 58s\n",
      "354:\tlearn: 0.1229343\ttotal: 4m 47s\tremaining: 1m 57s\n",
      "355:\tlearn: 0.1229096\ttotal: 4m 48s\tremaining: 1m 56s\n",
      "356:\tlearn: 0.1228694\ttotal: 4m 49s\tremaining: 1m 55s\n",
      "357:\tlearn: 0.1227626\ttotal: 4m 50s\tremaining: 1m 55s\n",
      "358:\tlearn: 0.1226946\ttotal: 4m 51s\tremaining: 1m 54s\n",
      "359:\tlearn: 0.1226137\ttotal: 4m 51s\tremaining: 1m 53s\n",
      "360:\tlearn: 0.1225841\ttotal: 4m 52s\tremaining: 1m 52s\n",
      "361:\tlearn: 0.1225438\ttotal: 4m 53s\tremaining: 1m 51s\n",
      "362:\tlearn: 0.1225181\ttotal: 4m 54s\tremaining: 1m 50s\n",
      "363:\tlearn: 0.1224916\ttotal: 4m 54s\tremaining: 1m 50s\n",
      "364:\tlearn: 0.1224579\ttotal: 4m 55s\tremaining: 1m 49s\n",
      "365:\tlearn: 0.1223452\ttotal: 4m 56s\tremaining: 1m 48s\n",
      "366:\tlearn: 0.1223201\ttotal: 4m 57s\tremaining: 1m 47s\n",
      "367:\tlearn: 0.1222882\ttotal: 4m 57s\tremaining: 1m 46s\n",
      "368:\tlearn: 0.1222397\ttotal: 4m 58s\tremaining: 1m 46s\n",
      "369:\tlearn: 0.1222129\ttotal: 4m 59s\tremaining: 1m 45s\n",
      "370:\tlearn: 0.1221822\ttotal: 5m\tremaining: 1m 44s\n",
      "371:\tlearn: 0.1221577\ttotal: 5m\tremaining: 1m 43s\n",
      "372:\tlearn: 0.1221269\ttotal: 5m 1s\tremaining: 1m 42s\n",
      "373:\tlearn: 0.1220917\ttotal: 5m 2s\tremaining: 1m 41s\n",
      "374:\tlearn: 0.1219707\ttotal: 5m 3s\tremaining: 1m 41s\n",
      "375:\tlearn: 0.1218820\ttotal: 5m 4s\tremaining: 1m 40s\n",
      "376:\tlearn: 0.1217818\ttotal: 5m 4s\tremaining: 1m 39s\n",
      "377:\tlearn: 0.1217258\ttotal: 5m 5s\tremaining: 1m 38s\n",
      "378:\tlearn: 0.1216502\ttotal: 5m 6s\tremaining: 1m 37s\n",
      "379:\tlearn: 0.1215825\ttotal: 5m 7s\tremaining: 1m 37s\n",
      "380:\tlearn: 0.1215571\ttotal: 5m 8s\tremaining: 1m 36s\n",
      "381:\tlearn: 0.1214538\ttotal: 5m 8s\tremaining: 1m 35s\n",
      "382:\tlearn: 0.1214293\ttotal: 5m 9s\tremaining: 1m 34s\n",
      "383:\tlearn: 0.1214030\ttotal: 5m 10s\tremaining: 1m 33s\n",
      "384:\tlearn: 0.1213803\ttotal: 5m 11s\tremaining: 1m 32s\n",
      "385:\tlearn: 0.1213482\ttotal: 5m 11s\tremaining: 1m 32s\n",
      "386:\tlearn: 0.1213057\ttotal: 5m 12s\tremaining: 1m 31s\n",
      "387:\tlearn: 0.1212578\ttotal: 5m 13s\tremaining: 1m 30s\n",
      "388:\tlearn: 0.1212334\ttotal: 5m 14s\tremaining: 1m 29s\n",
      "389:\tlearn: 0.1211577\ttotal: 5m 14s\tremaining: 1m 28s\n",
      "390:\tlearn: 0.1211339\ttotal: 5m 15s\tremaining: 1m 27s\n",
      "391:\tlearn: 0.1211105\ttotal: 5m 16s\tremaining: 1m 27s\n",
      "392:\tlearn: 0.1210869\ttotal: 5m 17s\tremaining: 1m 26s\n",
      "393:\tlearn: 0.1210633\ttotal: 5m 17s\tremaining: 1m 25s\n",
      "394:\tlearn: 0.1210401\ttotal: 5m 18s\tremaining: 1m 24s\n",
      "395:\tlearn: 0.1210124\ttotal: 5m 19s\tremaining: 1m 23s\n",
      "396:\tlearn: 0.1209336\ttotal: 5m 19s\tremaining: 1m 23s\n",
      "397:\tlearn: 0.1209100\ttotal: 5m 20s\tremaining: 1m 22s\n",
      "398:\tlearn: 0.1208775\ttotal: 5m 21s\tremaining: 1m 21s\n",
      "399:\tlearn: 0.1208549\ttotal: 5m 22s\tremaining: 1m 20s\n",
      "400:\tlearn: 0.1208325\ttotal: 5m 22s\tremaining: 1m 19s\n",
      "401:\tlearn: 0.1208093\ttotal: 5m 23s\tremaining: 1m 18s\n",
      "402:\tlearn: 0.1207283\ttotal: 5m 24s\tremaining: 1m 18s\n",
      "403:\tlearn: 0.1207048\ttotal: 5m 25s\tremaining: 1m 17s\n",
      "404:\tlearn: 0.1206844\ttotal: 5m 25s\tremaining: 1m 16s\n",
      "405:\tlearn: 0.1206625\ttotal: 5m 26s\tremaining: 1m 15s\n",
      "406:\tlearn: 0.1205110\ttotal: 5m 27s\tremaining: 1m 14s\n",
      "407:\tlearn: 0.1203984\ttotal: 5m 28s\tremaining: 1m 14s\n",
      "408:\tlearn: 0.1203759\ttotal: 5m 28s\tremaining: 1m 13s\n",
      "409:\tlearn: 0.1202227\ttotal: 5m 29s\tremaining: 1m 12s\n",
      "410:\tlearn: 0.1201998\ttotal: 5m 30s\tremaining: 1m 11s\n",
      "411:\tlearn: 0.1201472\ttotal: 5m 31s\tremaining: 1m 10s\n",
      "412:\tlearn: 0.1201242\ttotal: 5m 31s\tremaining: 1m 9s\n",
      "413:\tlearn: 0.1200483\ttotal: 5m 32s\tremaining: 1m 9s\n",
      "414:\tlearn: 0.1200257\ttotal: 5m 33s\tremaining: 1m 8s\n",
      "415:\tlearn: 0.1199999\ttotal: 5m 34s\tremaining: 1m 7s\n",
      "416:\tlearn: 0.1199779\ttotal: 5m 35s\tremaining: 1m 6s\n",
      "417:\tlearn: 0.1199565\ttotal: 5m 35s\tremaining: 1m 5s\n",
      "418:\tlearn: 0.1199013\ttotal: 5m 36s\tremaining: 1m 5s\n",
      "419:\tlearn: 0.1198752\ttotal: 5m 37s\tremaining: 1m 4s\n",
      "420:\tlearn: 0.1197855\ttotal: 5m 38s\tremaining: 1m 3s\n",
      "421:\tlearn: 0.1197600\ttotal: 5m 38s\tremaining: 1m 2s\n",
      "422:\tlearn: 0.1197374\ttotal: 5m 39s\tremaining: 1m 1s\n",
      "423:\tlearn: 0.1197157\ttotal: 5m 40s\tremaining: 1m 1s\n",
      "424:\tlearn: 0.1196950\ttotal: 5m 41s\tremaining: 1m\n",
      "425:\tlearn: 0.1196557\ttotal: 5m 41s\tremaining: 59.4s\n",
      "426:\tlearn: 0.1196337\ttotal: 5m 42s\tremaining: 58.6s\n",
      "427:\tlearn: 0.1195680\ttotal: 5m 43s\tremaining: 57.9s\n",
      "428:\tlearn: 0.1195470\ttotal: 5m 44s\tremaining: 57.1s\n",
      "429:\tlearn: 0.1194622\ttotal: 5m 45s\tremaining: 56.3s\n",
      "430:\tlearn: 0.1193388\ttotal: 5m 46s\tremaining: 55.5s\n",
      "431:\tlearn: 0.1193168\ttotal: 5m 47s\tremaining: 54.6s\n",
      "432:\tlearn: 0.1191881\ttotal: 5m 47s\tremaining: 53.8s\n",
      "433:\tlearn: 0.1191663\ttotal: 5m 48s\tremaining: 53s\n",
      "434:\tlearn: 0.1191449\ttotal: 5m 49s\tremaining: 52.2s\n",
      "435:\tlearn: 0.1191238\ttotal: 5m 50s\tremaining: 51.4s\n",
      "436:\tlearn: 0.1190755\ttotal: 5m 50s\tremaining: 50.6s\n",
      "437:\tlearn: 0.1190542\ttotal: 5m 51s\tremaining: 49.8s\n",
      "438:\tlearn: 0.1190331\ttotal: 5m 52s\tremaining: 49s\n",
      "439:\tlearn: 0.1190118\ttotal: 5m 53s\tremaining: 48.1s\n",
      "440:\tlearn: 0.1189884\ttotal: 5m 53s\tremaining: 47.3s\n",
      "441:\tlearn: 0.1189669\ttotal: 5m 54s\tremaining: 46.5s\n",
      "442:\tlearn: 0.1188688\ttotal: 5m 55s\tremaining: 45.7s\n",
      "443:\tlearn: 0.1188475\ttotal: 5m 56s\tremaining: 44.9s\n",
      "444:\tlearn: 0.1188261\ttotal: 5m 56s\tremaining: 44.1s\n",
      "445:\tlearn: 0.1188051\ttotal: 5m 57s\tremaining: 43.3s\n",
      "446:\tlearn: 0.1187839\ttotal: 5m 58s\tremaining: 42.5s\n",
      "447:\tlearn: 0.1187634\ttotal: 5m 59s\tremaining: 41.7s\n",
      "448:\tlearn: 0.1186845\ttotal: 5m 59s\tremaining: 40.9s\n",
      "449:\tlearn: 0.1186634\ttotal: 6m\tremaining: 40.1s\n",
      "450:\tlearn: 0.1186432\ttotal: 6m 1s\tremaining: 39.3s\n",
      "451:\tlearn: 0.1185468\ttotal: 6m 2s\tremaining: 38.5s\n",
      "452:\tlearn: 0.1185170\ttotal: 6m 2s\tremaining: 37.7s\n",
      "453:\tlearn: 0.1184343\ttotal: 6m 3s\tremaining: 36.9s\n",
      "454:\tlearn: 0.1183540\ttotal: 6m 4s\tremaining: 36s\n",
      "455:\tlearn: 0.1182582\ttotal: 6m 5s\tremaining: 35.3s\n",
      "456:\tlearn: 0.1180959\ttotal: 6m 6s\tremaining: 34.5s\n",
      "457:\tlearn: 0.1180747\ttotal: 6m 6s\tremaining: 33.7s\n",
      "458:\tlearn: 0.1180535\ttotal: 6m 7s\tremaining: 32.8s\n",
      "459:\tlearn: 0.1180329\ttotal: 6m 8s\tremaining: 32s\n",
      "460:\tlearn: 0.1180133\ttotal: 6m 9s\tremaining: 31.2s\n",
      "461:\tlearn: 0.1179862\ttotal: 6m 9s\tremaining: 30.4s\n",
      "462:\tlearn: 0.1178829\ttotal: 6m 10s\tremaining: 29.6s\n",
      "463:\tlearn: 0.1178616\ttotal: 6m 11s\tremaining: 28.8s\n",
      "464:\tlearn: 0.1178265\ttotal: 6m 12s\tremaining: 28s\n",
      "465:\tlearn: 0.1178057\ttotal: 6m 12s\tremaining: 27.2s\n",
      "466:\tlearn: 0.1177541\ttotal: 6m 13s\tremaining: 26.4s\n",
      "467:\tlearn: 0.1177356\ttotal: 6m 14s\tremaining: 25.6s\n",
      "468:\tlearn: 0.1177069\ttotal: 6m 15s\tremaining: 24.8s\n",
      "469:\tlearn: 0.1176863\ttotal: 6m 15s\tremaining: 24s\n",
      "470:\tlearn: 0.1176657\ttotal: 6m 16s\tremaining: 23.2s\n",
      "471:\tlearn: 0.1176427\ttotal: 6m 17s\tremaining: 22.4s\n",
      "472:\tlearn: 0.1176220\ttotal: 6m 18s\tremaining: 21.6s\n",
      "473:\tlearn: 0.1176022\ttotal: 6m 18s\tremaining: 20.8s\n",
      "474:\tlearn: 0.1175820\ttotal: 6m 19s\tremaining: 20s\n",
      "475:\tlearn: 0.1175616\ttotal: 6m 20s\tremaining: 19.2s\n",
      "476:\tlearn: 0.1175411\ttotal: 6m 20s\tremaining: 18.4s\n",
      "477:\tlearn: 0.1174749\ttotal: 6m 21s\tremaining: 17.6s\n",
      "478:\tlearn: 0.1174276\ttotal: 6m 22s\tremaining: 16.8s\n",
      "479:\tlearn: 0.1174074\ttotal: 6m 23s\tremaining: 16s\n",
      "480:\tlearn: 0.1173675\ttotal: 6m 24s\tremaining: 15.2s\n",
      "481:\tlearn: 0.1173470\ttotal: 6m 24s\tremaining: 14.4s\n",
      "482:\tlearn: 0.1173273\ttotal: 6m 25s\tremaining: 13.6s\n",
      "483:\tlearn: 0.1173067\ttotal: 6m 26s\tremaining: 12.8s\n",
      "484:\tlearn: 0.1172870\ttotal: 6m 26s\tremaining: 12s\n",
      "485:\tlearn: 0.1172652\ttotal: 6m 27s\tremaining: 11.2s\n",
      "486:\tlearn: 0.1172441\ttotal: 6m 28s\tremaining: 10.4s\n",
      "487:\tlearn: 0.1172242\ttotal: 6m 29s\tremaining: 9.57s\n",
      "488:\tlearn: 0.1172039\ttotal: 6m 29s\tremaining: 8.77s\n",
      "489:\tlearn: 0.1171838\ttotal: 6m 30s\tremaining: 7.97s\n",
      "490:\tlearn: 0.1171605\ttotal: 6m 31s\tremaining: 7.17s\n",
      "491:\tlearn: 0.1171015\ttotal: 6m 32s\tremaining: 6.38s\n",
      "492:\tlearn: 0.1170819\ttotal: 6m 32s\tremaining: 5.58s\n",
      "493:\tlearn: 0.1170118\ttotal: 6m 33s\tremaining: 4.78s\n",
      "494:\tlearn: 0.1169611\ttotal: 6m 34s\tremaining: 3.98s\n",
      "495:\tlearn: 0.1169415\ttotal: 6m 35s\tremaining: 3.19s\n",
      "496:\tlearn: 0.1169212\ttotal: 6m 35s\tremaining: 2.39s\n",
      "497:\tlearn: 0.1169013\ttotal: 6m 36s\tremaining: 1.59s\n",
      "498:\tlearn: 0.1168817\ttotal: 6m 37s\tremaining: 796ms\n",
      "499:\tlearn: 0.1168623\ttotal: 6m 37s\tremaining: 0us\n",
      "Learning rate set to 0.13643\n",
      "0:\tlearn: 0.5614788\ttotal: 858ms\tremaining: 7m 8s\n",
      "1:\tlearn: 0.4708594\ttotal: 1.67s\tremaining: 6m 55s\n",
      "2:\tlearn: 0.4007632\ttotal: 2.53s\tremaining: 6m 59s\n",
      "3:\tlearn: 0.3526921\ttotal: 3.4s\tremaining: 7m 1s\n",
      "4:\tlearn: 0.3202675\ttotal: 4.24s\tremaining: 7m\n",
      "5:\tlearn: 0.2971831\ttotal: 5.08s\tremaining: 6m 58s\n",
      "6:\tlearn: 0.2798992\ttotal: 5.93s\tremaining: 6m 57s\n",
      "7:\tlearn: 0.2642117\ttotal: 6.83s\tremaining: 7m\n",
      "8:\tlearn: 0.2544183\ttotal: 7.7s\tremaining: 6m 59s\n",
      "9:\tlearn: 0.2458632\ttotal: 8.55s\tremaining: 6m 58s\n",
      "10:\tlearn: 0.2398065\ttotal: 9.39s\tremaining: 6m 57s\n",
      "11:\tlearn: 0.2351051\ttotal: 10.3s\tremaining: 6m 57s\n",
      "12:\tlearn: 0.2302351\ttotal: 11.1s\tremaining: 6m 56s\n",
      "13:\tlearn: 0.2267402\ttotal: 12s\tremaining: 6m 55s\n",
      "14:\tlearn: 0.2229065\ttotal: 12.9s\tremaining: 6m 56s\n",
      "15:\tlearn: 0.2204317\ttotal: 13.7s\tremaining: 6m 55s\n",
      "16:\tlearn: 0.2181954\ttotal: 14.6s\tremaining: 6m 54s\n",
      "17:\tlearn: 0.2157112\ttotal: 15.5s\tremaining: 6m 53s\n",
      "18:\tlearn: 0.2135612\ttotal: 16.3s\tremaining: 6m 52s\n",
      "19:\tlearn: 0.2118489\ttotal: 17.1s\tremaining: 6m 51s\n",
      "20:\tlearn: 0.2095221\ttotal: 18s\tremaining: 6m 50s\n",
      "21:\tlearn: 0.2078731\ttotal: 18.8s\tremaining: 6m 48s\n",
      "22:\tlearn: 0.2064831\ttotal: 19.7s\tremaining: 6m 47s\n",
      "23:\tlearn: 0.2051875\ttotal: 20.5s\tremaining: 6m 47s\n",
      "24:\tlearn: 0.2033079\ttotal: 21.4s\tremaining: 6m 47s\n",
      "25:\tlearn: 0.2018706\ttotal: 22.3s\tremaining: 6m 46s\n",
      "26:\tlearn: 0.2002757\ttotal: 23.2s\tremaining: 6m 45s\n",
      "27:\tlearn: 0.1991529\ttotal: 24s\tremaining: 6m 45s\n",
      "28:\tlearn: 0.1977173\ttotal: 24.9s\tremaining: 6m 44s\n",
      "29:\tlearn: 0.1964943\ttotal: 25.7s\tremaining: 6m 43s\n",
      "30:\tlearn: 0.1955798\ttotal: 26.6s\tremaining: 6m 41s\n",
      "31:\tlearn: 0.1945745\ttotal: 27.4s\tremaining: 6m 41s\n",
      "32:\tlearn: 0.1932592\ttotal: 28.3s\tremaining: 6m 40s\n",
      "33:\tlearn: 0.1925204\ttotal: 29.1s\tremaining: 6m 39s\n",
      "34:\tlearn: 0.1915809\ttotal: 30s\tremaining: 6m 38s\n",
      "35:\tlearn: 0.1907006\ttotal: 30.9s\tremaining: 6m 38s\n",
      "36:\tlearn: 0.1897947\ttotal: 31.7s\tremaining: 6m 36s\n",
      "37:\tlearn: 0.1890447\ttotal: 32.6s\tremaining: 6m 36s\n",
      "38:\tlearn: 0.1882703\ttotal: 33.4s\tremaining: 6m 34s\n",
      "39:\tlearn: 0.1871568\ttotal: 34.2s\tremaining: 6m 33s\n",
      "40:\tlearn: 0.1863639\ttotal: 35.1s\tremaining: 6m 32s\n",
      "41:\tlearn: 0.1856354\ttotal: 35.9s\tremaining: 6m 31s\n",
      "42:\tlearn: 0.1847655\ttotal: 36.8s\tremaining: 6m 30s\n",
      "43:\tlearn: 0.1840626\ttotal: 37.6s\tremaining: 6m 29s\n",
      "44:\tlearn: 0.1832573\ttotal: 38.5s\tremaining: 6m 28s\n",
      "45:\tlearn: 0.1824954\ttotal: 39.4s\tremaining: 6m 28s\n",
      "46:\tlearn: 0.1817618\ttotal: 40.2s\tremaining: 6m 27s\n",
      "47:\tlearn: 0.1810735\ttotal: 41.1s\tremaining: 6m 27s\n",
      "48:\tlearn: 0.1802137\ttotal: 42s\tremaining: 6m 26s\n",
      "49:\tlearn: 0.1795610\ttotal: 42.8s\tremaining: 6m 25s\n",
      "50:\tlearn: 0.1788632\ttotal: 43.7s\tremaining: 6m 24s\n",
      "51:\tlearn: 0.1783146\ttotal: 44.5s\tremaining: 6m 23s\n",
      "52:\tlearn: 0.1777297\ttotal: 45.4s\tremaining: 6m 22s\n",
      "53:\tlearn: 0.1772746\ttotal: 46.2s\tremaining: 6m 21s\n",
      "54:\tlearn: 0.1768005\ttotal: 47s\tremaining: 6m 20s\n",
      "55:\tlearn: 0.1763815\ttotal: 47.9s\tremaining: 6m 19s\n",
      "56:\tlearn: 0.1757042\ttotal: 48.7s\tremaining: 6m 18s\n",
      "57:\tlearn: 0.1752455\ttotal: 49.6s\tremaining: 6m 18s\n",
      "58:\tlearn: 0.1747391\ttotal: 50.5s\tremaining: 6m 17s\n",
      "59:\tlearn: 0.1743446\ttotal: 51.3s\tremaining: 6m 15s\n",
      "60:\tlearn: 0.1738642\ttotal: 52.1s\tremaining: 6m 14s\n",
      "61:\tlearn: 0.1732905\ttotal: 52.9s\tremaining: 6m 13s\n",
      "62:\tlearn: 0.1728989\ttotal: 53.7s\tremaining: 6m 12s\n",
      "63:\tlearn: 0.1724637\ttotal: 54.5s\tremaining: 6m 11s\n",
      "64:\tlearn: 0.1721236\ttotal: 55.3s\tremaining: 6m 9s\n",
      "65:\tlearn: 0.1715569\ttotal: 56.1s\tremaining: 6m 9s\n",
      "66:\tlearn: 0.1711668\ttotal: 56.9s\tremaining: 6m 7s\n",
      "67:\tlearn: 0.1705488\ttotal: 57.8s\tremaining: 6m 7s\n",
      "68:\tlearn: 0.1700437\ttotal: 58.7s\tremaining: 6m 6s\n",
      "69:\tlearn: 0.1695461\ttotal: 59.5s\tremaining: 6m 5s\n",
      "70:\tlearn: 0.1691830\ttotal: 1m\tremaining: 6m 4s\n",
      "71:\tlearn: 0.1687829\ttotal: 1m 1s\tremaining: 6m 3s\n",
      "72:\tlearn: 0.1684045\ttotal: 1m 2s\tremaining: 6m 2s\n",
      "73:\tlearn: 0.1679252\ttotal: 1m 2s\tremaining: 6m 1s\n",
      "74:\tlearn: 0.1675362\ttotal: 1m 3s\tremaining: 6m\n",
      "75:\tlearn: 0.1671047\ttotal: 1m 4s\tremaining: 5m 59s\n",
      "76:\tlearn: 0.1667680\ttotal: 1m 5s\tremaining: 5m 58s\n",
      "77:\tlearn: 0.1662033\ttotal: 1m 6s\tremaining: 5m 57s\n",
      "78:\tlearn: 0.1658617\ttotal: 1m 6s\tremaining: 5m 56s\n",
      "79:\tlearn: 0.1655158\ttotal: 1m 7s\tremaining: 5m 55s\n",
      "80:\tlearn: 0.1650105\ttotal: 1m 8s\tremaining: 5m 55s\n",
      "81:\tlearn: 0.1645027\ttotal: 1m 9s\tremaining: 5m 54s\n",
      "82:\tlearn: 0.1642153\ttotal: 1m 10s\tremaining: 5m 53s\n",
      "83:\tlearn: 0.1638371\ttotal: 1m 11s\tremaining: 5m 52s\n",
      "84:\tlearn: 0.1635361\ttotal: 1m 12s\tremaining: 5m 51s\n",
      "85:\tlearn: 0.1631636\ttotal: 1m 12s\tremaining: 5m 50s\n",
      "86:\tlearn: 0.1628864\ttotal: 1m 13s\tremaining: 5m 49s\n",
      "87:\tlearn: 0.1624886\ttotal: 1m 14s\tremaining: 5m 48s\n",
      "88:\tlearn: 0.1621546\ttotal: 1m 15s\tremaining: 5m 47s\n",
      "89:\tlearn: 0.1617483\ttotal: 1m 16s\tremaining: 5m 46s\n",
      "90:\tlearn: 0.1614838\ttotal: 1m 16s\tremaining: 5m 45s\n",
      "91:\tlearn: 0.1609893\ttotal: 1m 17s\tremaining: 5m 44s\n",
      "92:\tlearn: 0.1605612\ttotal: 1m 18s\tremaining: 5m 43s\n",
      "93:\tlearn: 0.1603714\ttotal: 1m 19s\tremaining: 5m 42s\n",
      "94:\tlearn: 0.1600857\ttotal: 1m 20s\tremaining: 5m 41s\n",
      "95:\tlearn: 0.1597575\ttotal: 1m 21s\tremaining: 5m 41s\n",
      "96:\tlearn: 0.1594542\ttotal: 1m 21s\tremaining: 5m 40s\n",
      "97:\tlearn: 0.1591438\ttotal: 1m 22s\tremaining: 5m 39s\n",
      "98:\tlearn: 0.1588425\ttotal: 1m 23s\tremaining: 5m 38s\n",
      "99:\tlearn: 0.1585050\ttotal: 1m 24s\tremaining: 5m 37s\n",
      "100:\tlearn: 0.1583697\ttotal: 1m 25s\tremaining: 5m 35s\n",
      "101:\tlearn: 0.1580641\ttotal: 1m 25s\tremaining: 5m 35s\n",
      "102:\tlearn: 0.1577717\ttotal: 1m 26s\tremaining: 5m 34s\n",
      "103:\tlearn: 0.1574124\ttotal: 1m 27s\tremaining: 5m 33s\n",
      "104:\tlearn: 0.1571606\ttotal: 1m 28s\tremaining: 5m 32s\n",
      "105:\tlearn: 0.1568687\ttotal: 1m 29s\tremaining: 5m 31s\n",
      "106:\tlearn: 0.1564900\ttotal: 1m 30s\tremaining: 5m 30s\n",
      "107:\tlearn: 0.1562313\ttotal: 1m 30s\tremaining: 5m 29s\n",
      "108:\tlearn: 0.1559811\ttotal: 1m 31s\tremaining: 5m 28s\n",
      "109:\tlearn: 0.1555513\ttotal: 1m 32s\tremaining: 5m 27s\n",
      "110:\tlearn: 0.1551780\ttotal: 1m 33s\tremaining: 5m 27s\n",
      "111:\tlearn: 0.1549134\ttotal: 1m 34s\tremaining: 5m 26s\n",
      "112:\tlearn: 0.1547989\ttotal: 1m 34s\tremaining: 5m 25s\n",
      "113:\tlearn: 0.1545778\ttotal: 1m 35s\tremaining: 5m 24s\n",
      "114:\tlearn: 0.1542837\ttotal: 1m 36s\tremaining: 5m 23s\n",
      "115:\tlearn: 0.1539447\ttotal: 1m 37s\tremaining: 5m 22s\n",
      "116:\tlearn: 0.1536594\ttotal: 1m 38s\tremaining: 5m 21s\n",
      "117:\tlearn: 0.1533842\ttotal: 1m 38s\tremaining: 5m 20s\n",
      "118:\tlearn: 0.1531325\ttotal: 1m 39s\tremaining: 5m 19s\n",
      "119:\tlearn: 0.1528458\ttotal: 1m 40s\tremaining: 5m 18s\n",
      "120:\tlearn: 0.1526170\ttotal: 1m 41s\tremaining: 5m 17s\n",
      "121:\tlearn: 0.1523299\ttotal: 1m 42s\tremaining: 5m 17s\n",
      "122:\tlearn: 0.1519765\ttotal: 1m 43s\tremaining: 5m 16s\n",
      "123:\tlearn: 0.1518776\ttotal: 1m 43s\tremaining: 5m 15s\n",
      "124:\tlearn: 0.1517488\ttotal: 1m 44s\tremaining: 5m 13s\n",
      "125:\tlearn: 0.1515301\ttotal: 1m 45s\tremaining: 5m 13s\n",
      "126:\tlearn: 0.1513001\ttotal: 1m 46s\tremaining: 5m 12s\n",
      "127:\tlearn: 0.1509936\ttotal: 1m 47s\tremaining: 5m 11s\n",
      "128:\tlearn: 0.1508941\ttotal: 1m 47s\tremaining: 5m 10s\n",
      "129:\tlearn: 0.1506238\ttotal: 1m 48s\tremaining: 5m 9s\n",
      "130:\tlearn: 0.1503771\ttotal: 1m 49s\tremaining: 5m 8s\n",
      "131:\tlearn: 0.1501186\ttotal: 1m 50s\tremaining: 5m 7s\n",
      "132:\tlearn: 0.1498969\ttotal: 1m 51s\tremaining: 5m 6s\n",
      "133:\tlearn: 0.1496838\ttotal: 1m 51s\tremaining: 5m 5s\n",
      "134:\tlearn: 0.1495973\ttotal: 1m 52s\tremaining: 5m 4s\n",
      "135:\tlearn: 0.1495143\ttotal: 1m 53s\tremaining: 5m 3s\n",
      "136:\tlearn: 0.1492598\ttotal: 1m 54s\tremaining: 5m 2s\n",
      "137:\tlearn: 0.1490754\ttotal: 1m 55s\tremaining: 5m 1s\n",
      "138:\tlearn: 0.1488646\ttotal: 1m 55s\tremaining: 5m\n",
      "139:\tlearn: 0.1486225\ttotal: 1m 56s\tremaining: 4m 59s\n",
      "140:\tlearn: 0.1484750\ttotal: 1m 57s\tremaining: 4m 58s\n",
      "141:\tlearn: 0.1483961\ttotal: 1m 58s\tremaining: 4m 57s\n",
      "142:\tlearn: 0.1482218\ttotal: 1m 58s\tremaining: 4m 56s\n",
      "143:\tlearn: 0.1480433\ttotal: 1m 59s\tremaining: 4m 55s\n",
      "144:\tlearn: 0.1478150\ttotal: 2m\tremaining: 4m 55s\n",
      "145:\tlearn: 0.1475772\ttotal: 2m 1s\tremaining: 4m 54s\n",
      "146:\tlearn: 0.1473289\ttotal: 2m 2s\tremaining: 4m 53s\n",
      "147:\tlearn: 0.1472587\ttotal: 2m 3s\tremaining: 4m 52s\n",
      "148:\tlearn: 0.1471619\ttotal: 2m 3s\tremaining: 4m 51s\n",
      "149:\tlearn: 0.1469675\ttotal: 2m 4s\tremaining: 4m 50s\n",
      "150:\tlearn: 0.1467576\ttotal: 2m 5s\tremaining: 4m 49s\n",
      "151:\tlearn: 0.1465781\ttotal: 2m 6s\tremaining: 4m 49s\n",
      "152:\tlearn: 0.1464019\ttotal: 2m 7s\tremaining: 4m 48s\n",
      "153:\tlearn: 0.1462077\ttotal: 2m 7s\tremaining: 4m 47s\n",
      "154:\tlearn: 0.1459739\ttotal: 2m 8s\tremaining: 4m 46s\n",
      "155:\tlearn: 0.1457440\ttotal: 2m 9s\tremaining: 4m 45s\n",
      "156:\tlearn: 0.1456081\ttotal: 2m 10s\tremaining: 4m 44s\n",
      "157:\tlearn: 0.1453907\ttotal: 2m 11s\tremaining: 4m 43s\n",
      "158:\tlearn: 0.1451920\ttotal: 2m 12s\tremaining: 4m 43s\n",
      "159:\tlearn: 0.1451178\ttotal: 2m 12s\tremaining: 4m 42s\n",
      "160:\tlearn: 0.1449366\ttotal: 2m 13s\tremaining: 4m 41s\n",
      "161:\tlearn: 0.1448375\ttotal: 2m 14s\tremaining: 4m 40s\n",
      "162:\tlearn: 0.1445350\ttotal: 2m 15s\tremaining: 4m 39s\n",
      "163:\tlearn: 0.1443154\ttotal: 2m 15s\tremaining: 4m 38s\n",
      "164:\tlearn: 0.1441608\ttotal: 2m 16s\tremaining: 4m 37s\n",
      "165:\tlearn: 0.1439311\ttotal: 2m 17s\tremaining: 4m 36s\n",
      "166:\tlearn: 0.1436480\ttotal: 2m 18s\tremaining: 4m 35s\n",
      "167:\tlearn: 0.1434600\ttotal: 2m 19s\tremaining: 4m 34s\n",
      "168:\tlearn: 0.1433014\ttotal: 2m 19s\tremaining: 4m 34s\n",
      "169:\tlearn: 0.1431208\ttotal: 2m 20s\tremaining: 4m 33s\n",
      "170:\tlearn: 0.1430552\ttotal: 2m 21s\tremaining: 4m 32s\n",
      "171:\tlearn: 0.1428701\ttotal: 2m 22s\tremaining: 4m 31s\n",
      "172:\tlearn: 0.1428063\ttotal: 2m 23s\tremaining: 4m 31s\n",
      "173:\tlearn: 0.1427438\ttotal: 2m 24s\tremaining: 4m 30s\n",
      "174:\tlearn: 0.1425432\ttotal: 2m 25s\tremaining: 4m 29s\n",
      "175:\tlearn: 0.1423452\ttotal: 2m 26s\tremaining: 4m 29s\n",
      "176:\tlearn: 0.1422930\ttotal: 2m 26s\tremaining: 4m 28s\n",
      "177:\tlearn: 0.1420966\ttotal: 2m 27s\tremaining: 4m 27s\n",
      "178:\tlearn: 0.1419613\ttotal: 2m 28s\tremaining: 4m 26s\n",
      "179:\tlearn: 0.1419069\ttotal: 2m 29s\tremaining: 4m 25s\n",
      "180:\tlearn: 0.1416960\ttotal: 2m 30s\tremaining: 4m 24s\n",
      "181:\tlearn: 0.1414740\ttotal: 2m 31s\tremaining: 4m 23s\n",
      "182:\tlearn: 0.1413197\ttotal: 2m 31s\tremaining: 4m 22s\n",
      "183:\tlearn: 0.1411553\ttotal: 2m 32s\tremaining: 4m 22s\n",
      "184:\tlearn: 0.1410911\ttotal: 2m 33s\tremaining: 4m 21s\n",
      "185:\tlearn: 0.1410400\ttotal: 2m 34s\tremaining: 4m 19s\n",
      "186:\tlearn: 0.1409879\ttotal: 2m 34s\tremaining: 4m 18s\n",
      "187:\tlearn: 0.1408268\ttotal: 2m 35s\tremaining: 4m 18s\n",
      "188:\tlearn: 0.1406549\ttotal: 2m 36s\tremaining: 4m 17s\n",
      "189:\tlearn: 0.1404964\ttotal: 2m 37s\tremaining: 4m 16s\n",
      "190:\tlearn: 0.1404451\ttotal: 2m 37s\tremaining: 4m 15s\n",
      "191:\tlearn: 0.1402593\ttotal: 2m 38s\tremaining: 4m 14s\n",
      "192:\tlearn: 0.1400471\ttotal: 2m 39s\tremaining: 4m 13s\n",
      "193:\tlearn: 0.1399831\ttotal: 2m 40s\tremaining: 4m 12s\n",
      "194:\tlearn: 0.1398301\ttotal: 2m 41s\tremaining: 4m 12s\n",
      "195:\tlearn: 0.1397211\ttotal: 2m 41s\tremaining: 4m 11s\n",
      "196:\tlearn: 0.1396723\ttotal: 2m 42s\tremaining: 4m 10s\n",
      "197:\tlearn: 0.1396263\ttotal: 2m 43s\tremaining: 4m 9s\n",
      "198:\tlearn: 0.1395802\ttotal: 2m 44s\tremaining: 4m 8s\n",
      "199:\tlearn: 0.1395301\ttotal: 2m 44s\tremaining: 4m 7s\n",
      "200:\tlearn: 0.1393917\ttotal: 2m 45s\tremaining: 4m 6s\n",
      "201:\tlearn: 0.1392897\ttotal: 2m 46s\tremaining: 4m 5s\n",
      "202:\tlearn: 0.1391690\ttotal: 2m 47s\tremaining: 4m 4s\n",
      "203:\tlearn: 0.1390110\ttotal: 2m 47s\tremaining: 4m 3s\n",
      "204:\tlearn: 0.1388619\ttotal: 2m 48s\tremaining: 4m 2s\n",
      "205:\tlearn: 0.1388168\ttotal: 2m 49s\tremaining: 4m 1s\n",
      "206:\tlearn: 0.1386727\ttotal: 2m 50s\tremaining: 4m\n",
      "207:\tlearn: 0.1386208\ttotal: 2m 50s\tremaining: 3m 59s\n",
      "208:\tlearn: 0.1384319\ttotal: 2m 51s\tremaining: 3m 59s\n",
      "209:\tlearn: 0.1382962\ttotal: 2m 52s\tremaining: 3m 58s\n",
      "210:\tlearn: 0.1382494\ttotal: 2m 53s\tremaining: 3m 57s\n",
      "211:\tlearn: 0.1382048\ttotal: 2m 53s\tremaining: 3m 56s\n",
      "212:\tlearn: 0.1380498\ttotal: 2m 54s\tremaining: 3m 55s\n",
      "213:\tlearn: 0.1379274\ttotal: 2m 55s\tremaining: 3m 54s\n",
      "214:\tlearn: 0.1378007\ttotal: 2m 56s\tremaining: 3m 53s\n",
      "215:\tlearn: 0.1376068\ttotal: 2m 57s\tremaining: 3m 52s\n",
      "216:\tlearn: 0.1375655\ttotal: 2m 57s\tremaining: 3m 52s\n",
      "217:\tlearn: 0.1373731\ttotal: 2m 58s\tremaining: 3m 51s\n",
      "218:\tlearn: 0.1372190\ttotal: 2m 59s\tremaining: 3m 50s\n",
      "219:\tlearn: 0.1371777\ttotal: 3m\tremaining: 3m 49s\n",
      "220:\tlearn: 0.1371359\ttotal: 3m 1s\tremaining: 3m 48s\n",
      "221:\tlearn: 0.1369681\ttotal: 3m 2s\tremaining: 3m 47s\n",
      "222:\tlearn: 0.1368816\ttotal: 3m 2s\tremaining: 3m 47s\n",
      "223:\tlearn: 0.1367781\ttotal: 3m 3s\tremaining: 3m 46s\n",
      "224:\tlearn: 0.1367387\ttotal: 3m 4s\tremaining: 3m 45s\n",
      "225:\tlearn: 0.1366959\ttotal: 3m 4s\tremaining: 3m 44s\n",
      "226:\tlearn: 0.1365066\ttotal: 3m 5s\tremaining: 3m 43s\n",
      "227:\tlearn: 0.1363751\ttotal: 3m 6s\tremaining: 3m 42s\n",
      "228:\tlearn: 0.1363111\ttotal: 3m 7s\tremaining: 3m 41s\n",
      "229:\tlearn: 0.1362605\ttotal: 3m 8s\tremaining: 3m 40s\n",
      "230:\tlearn: 0.1361344\ttotal: 3m 8s\tremaining: 3m 39s\n",
      "231:\tlearn: 0.1359810\ttotal: 3m 9s\tremaining: 3m 39s\n",
      "232:\tlearn: 0.1357641\ttotal: 3m 10s\tremaining: 3m 38s\n",
      "233:\tlearn: 0.1357160\ttotal: 3m 11s\tremaining: 3m 37s\n",
      "234:\tlearn: 0.1356697\ttotal: 3m 11s\tremaining: 3m 36s\n",
      "235:\tlearn: 0.1354973\ttotal: 3m 12s\tremaining: 3m 35s\n",
      "236:\tlearn: 0.1354530\ttotal: 3m 13s\tremaining: 3m 34s\n",
      "237:\tlearn: 0.1354129\ttotal: 3m 14s\tremaining: 3m 33s\n",
      "238:\tlearn: 0.1353106\ttotal: 3m 15s\tremaining: 3m 32s\n",
      "239:\tlearn: 0.1351361\ttotal: 3m 15s\tremaining: 3m 32s\n",
      "240:\tlearn: 0.1350039\ttotal: 3m 16s\tremaining: 3m 31s\n",
      "241:\tlearn: 0.1349054\ttotal: 3m 17s\tremaining: 3m 30s\n",
      "242:\tlearn: 0.1348659\ttotal: 3m 18s\tremaining: 3m 29s\n",
      "243:\tlearn: 0.1347267\ttotal: 3m 19s\tremaining: 3m 28s\n",
      "244:\tlearn: 0.1346760\ttotal: 3m 19s\tremaining: 3m 27s\n",
      "245:\tlearn: 0.1346412\ttotal: 3m 20s\tremaining: 3m 27s\n",
      "246:\tlearn: 0.1344662\ttotal: 3m 21s\tremaining: 3m 26s\n",
      "247:\tlearn: 0.1343076\ttotal: 3m 22s\tremaining: 3m 25s\n",
      "248:\tlearn: 0.1341785\ttotal: 3m 22s\tremaining: 3m 24s\n",
      "249:\tlearn: 0.1341433\ttotal: 3m 23s\tremaining: 3m 23s\n",
      "250:\tlearn: 0.1339942\ttotal: 3m 24s\tremaining: 3m 22s\n",
      "251:\tlearn: 0.1339568\ttotal: 3m 25s\tremaining: 3m 21s\n",
      "252:\tlearn: 0.1337775\ttotal: 3m 26s\tremaining: 3m 21s\n",
      "253:\tlearn: 0.1337002\ttotal: 3m 26s\tremaining: 3m 20s\n",
      "254:\tlearn: 0.1335137\ttotal: 3m 27s\tremaining: 3m 19s\n",
      "255:\tlearn: 0.1334768\ttotal: 3m 28s\tremaining: 3m 18s\n",
      "256:\tlearn: 0.1333592\ttotal: 3m 29s\tremaining: 3m 17s\n",
      "257:\tlearn: 0.1332068\ttotal: 3m 29s\tremaining: 3m 16s\n",
      "258:\tlearn: 0.1331708\ttotal: 3m 30s\tremaining: 3m 16s\n",
      "259:\tlearn: 0.1331361\ttotal: 3m 31s\tremaining: 3m 15s\n",
      "260:\tlearn: 0.1329521\ttotal: 3m 32s\tremaining: 3m 14s\n",
      "261:\tlearn: 0.1329181\ttotal: 3m 33s\tremaining: 3m 13s\n",
      "262:\tlearn: 0.1327156\ttotal: 3m 33s\tremaining: 3m 12s\n",
      "263:\tlearn: 0.1326551\ttotal: 3m 34s\tremaining: 3m 11s\n",
      "264:\tlearn: 0.1325338\ttotal: 3m 35s\tremaining: 3m 11s\n",
      "265:\tlearn: 0.1324084\ttotal: 3m 36s\tremaining: 3m 10s\n",
      "266:\tlearn: 0.1322833\ttotal: 3m 37s\tremaining: 3m 9s\n",
      "267:\tlearn: 0.1321897\ttotal: 3m 38s\tremaining: 3m 8s\n",
      "268:\tlearn: 0.1320535\ttotal: 3m 38s\tremaining: 3m 8s\n",
      "269:\tlearn: 0.1320045\ttotal: 3m 39s\tremaining: 3m 7s\n",
      "270:\tlearn: 0.1319154\ttotal: 3m 40s\tremaining: 3m 6s\n",
      "271:\tlearn: 0.1318047\ttotal: 3m 41s\tremaining: 3m 5s\n",
      "272:\tlearn: 0.1317685\ttotal: 3m 42s\tremaining: 3m 4s\n",
      "273:\tlearn: 0.1317024\ttotal: 3m 43s\tremaining: 3m 3s\n",
      "274:\tlearn: 0.1316661\ttotal: 3m 43s\tremaining: 3m 3s\n",
      "275:\tlearn: 0.1315353\ttotal: 3m 44s\tremaining: 3m 2s\n",
      "276:\tlearn: 0.1313408\ttotal: 3m 45s\tremaining: 3m 1s\n",
      "277:\tlearn: 0.1311516\ttotal: 3m 46s\tremaining: 3m\n",
      "278:\tlearn: 0.1310437\ttotal: 3m 47s\tremaining: 2m 59s\n",
      "279:\tlearn: 0.1310099\ttotal: 3m 47s\tremaining: 2m 59s\n",
      "280:\tlearn: 0.1308648\ttotal: 3m 48s\tremaining: 2m 58s\n",
      "281:\tlearn: 0.1308302\ttotal: 3m 49s\tremaining: 2m 57s\n",
      "282:\tlearn: 0.1306985\ttotal: 3m 50s\tremaining: 2m 56s\n",
      "283:\tlearn: 0.1305349\ttotal: 3m 51s\tremaining: 2m 55s\n",
      "284:\tlearn: 0.1303963\ttotal: 3m 52s\tremaining: 2m 55s\n",
      "285:\tlearn: 0.1303660\ttotal: 3m 52s\tremaining: 2m 54s\n",
      "286:\tlearn: 0.1303320\ttotal: 3m 53s\tremaining: 2m 53s\n",
      "287:\tlearn: 0.1301495\ttotal: 3m 54s\tremaining: 2m 52s\n",
      "288:\tlearn: 0.1301103\ttotal: 3m 55s\tremaining: 2m 51s\n",
      "289:\tlearn: 0.1299835\ttotal: 3m 56s\tremaining: 2m 50s\n",
      "290:\tlearn: 0.1299251\ttotal: 3m 56s\tremaining: 2m 50s\n",
      "291:\tlearn: 0.1298463\ttotal: 3m 57s\tremaining: 2m 49s\n",
      "292:\tlearn: 0.1297269\ttotal: 3m 58s\tremaining: 2m 48s\n",
      "293:\tlearn: 0.1296721\ttotal: 3m 59s\tremaining: 2m 47s\n",
      "294:\tlearn: 0.1296171\ttotal: 3m 59s\tremaining: 2m 46s\n",
      "295:\tlearn: 0.1295119\ttotal: 4m\tremaining: 2m 45s\n",
      "296:\tlearn: 0.1294790\ttotal: 4m 1s\tremaining: 2m 45s\n",
      "297:\tlearn: 0.1294477\ttotal: 4m 2s\tremaining: 2m 44s\n",
      "298:\tlearn: 0.1292857\ttotal: 4m 3s\tremaining: 2m 43s\n",
      "299:\tlearn: 0.1291479\ttotal: 4m 4s\tremaining: 2m 42s\n",
      "300:\tlearn: 0.1291135\ttotal: 4m 4s\tremaining: 2m 41s\n",
      "301:\tlearn: 0.1289765\ttotal: 4m 5s\tremaining: 2m 41s\n",
      "302:\tlearn: 0.1288212\ttotal: 4m 6s\tremaining: 2m 40s\n",
      "303:\tlearn: 0.1286999\ttotal: 4m 7s\tremaining: 2m 39s\n",
      "304:\tlearn: 0.1285720\ttotal: 4m 8s\tremaining: 2m 38s\n",
      "305:\tlearn: 0.1285376\ttotal: 4m 8s\tremaining: 2m 37s\n",
      "306:\tlearn: 0.1284607\ttotal: 4m 9s\tremaining: 2m 37s\n",
      "307:\tlearn: 0.1283460\ttotal: 4m 10s\tremaining: 2m 36s\n",
      "308:\tlearn: 0.1282774\ttotal: 4m 11s\tremaining: 2m 35s\n",
      "309:\tlearn: 0.1281950\ttotal: 4m 12s\tremaining: 2m 34s\n",
      "310:\tlearn: 0.1280695\ttotal: 4m 13s\tremaining: 2m 33s\n",
      "311:\tlearn: 0.1280228\ttotal: 4m 13s\tremaining: 2m 33s\n",
      "312:\tlearn: 0.1279893\ttotal: 4m 14s\tremaining: 2m 32s\n",
      "313:\tlearn: 0.1279091\ttotal: 4m 15s\tremaining: 2m 31s\n",
      "314:\tlearn: 0.1278780\ttotal: 4m 16s\tremaining: 2m 30s\n",
      "315:\tlearn: 0.1277600\ttotal: 4m 17s\tremaining: 2m 29s\n",
      "316:\tlearn: 0.1276651\ttotal: 4m 17s\tremaining: 2m 28s\n",
      "317:\tlearn: 0.1275742\ttotal: 4m 18s\tremaining: 2m 28s\n",
      "318:\tlearn: 0.1274513\ttotal: 4m 19s\tremaining: 2m 27s\n",
      "319:\tlearn: 0.1273671\ttotal: 4m 20s\tremaining: 2m 26s\n",
      "320:\tlearn: 0.1272518\ttotal: 4m 21s\tremaining: 2m 25s\n",
      "321:\tlearn: 0.1271408\ttotal: 4m 22s\tremaining: 2m 24s\n",
      "322:\tlearn: 0.1270198\ttotal: 4m 22s\tremaining: 2m 24s\n",
      "323:\tlearn: 0.1268936\ttotal: 4m 23s\tremaining: 2m 23s\n",
      "324:\tlearn: 0.1268117\ttotal: 4m 24s\tremaining: 2m 22s\n",
      "325:\tlearn: 0.1267749\ttotal: 4m 25s\tremaining: 2m 21s\n",
      "326:\tlearn: 0.1267252\ttotal: 4m 25s\tremaining: 2m 20s\n",
      "327:\tlearn: 0.1266234\ttotal: 4m 26s\tremaining: 2m 19s\n",
      "328:\tlearn: 0.1264973\ttotal: 4m 27s\tremaining: 2m 19s\n",
      "329:\tlearn: 0.1264332\ttotal: 4m 28s\tremaining: 2m 18s\n",
      "330:\tlearn: 0.1263891\ttotal: 4m 29s\tremaining: 2m 17s\n",
      "331:\tlearn: 0.1263111\ttotal: 4m 30s\tremaining: 2m 16s\n",
      "332:\tlearn: 0.1262110\ttotal: 4m 30s\tremaining: 2m 15s\n",
      "333:\tlearn: 0.1261362\ttotal: 4m 31s\tremaining: 2m 15s\n",
      "334:\tlearn: 0.1260108\ttotal: 4m 32s\tremaining: 2m 14s\n",
      "335:\tlearn: 0.1259192\ttotal: 4m 33s\tremaining: 2m 13s\n",
      "336:\tlearn: 0.1257966\ttotal: 4m 34s\tremaining: 2m 12s\n",
      "337:\tlearn: 0.1257691\ttotal: 4m 35s\tremaining: 2m 11s\n",
      "338:\tlearn: 0.1256657\ttotal: 4m 35s\tremaining: 2m 10s\n",
      "339:\tlearn: 0.1255158\ttotal: 4m 36s\tremaining: 2m 10s\n",
      "340:\tlearn: 0.1254872\ttotal: 4m 37s\tremaining: 2m 9s\n",
      "341:\tlearn: 0.1254233\ttotal: 4m 38s\tremaining: 2m 8s\n",
      "342:\tlearn: 0.1253621\ttotal: 4m 39s\tremaining: 2m 7s\n",
      "343:\tlearn: 0.1253334\ttotal: 4m 39s\tremaining: 2m 6s\n",
      "344:\tlearn: 0.1252593\ttotal: 4m 40s\tremaining: 2m 6s\n",
      "345:\tlearn: 0.1251405\ttotal: 4m 41s\tremaining: 2m 5s\n",
      "346:\tlearn: 0.1250704\ttotal: 4m 42s\tremaining: 2m 4s\n",
      "347:\tlearn: 0.1249465\ttotal: 4m 43s\tremaining: 2m 3s\n",
      "348:\tlearn: 0.1249200\ttotal: 4m 43s\tremaining: 2m 2s\n",
      "349:\tlearn: 0.1248758\ttotal: 4m 44s\tremaining: 2m 2s\n",
      "350:\tlearn: 0.1248329\ttotal: 4m 45s\tremaining: 2m 1s\n",
      "351:\tlearn: 0.1247601\ttotal: 4m 46s\tremaining: 2m\n",
      "352:\tlearn: 0.1246440\ttotal: 4m 47s\tremaining: 1m 59s\n",
      "353:\tlearn: 0.1246170\ttotal: 4m 47s\tremaining: 1m 58s\n",
      "354:\tlearn: 0.1244928\ttotal: 4m 48s\tremaining: 1m 57s\n",
      "355:\tlearn: 0.1244142\ttotal: 4m 49s\tremaining: 1m 57s\n",
      "356:\tlearn: 0.1243345\ttotal: 4m 50s\tremaining: 1m 56s\n",
      "357:\tlearn: 0.1243058\ttotal: 4m 51s\tremaining: 1m 55s\n",
      "358:\tlearn: 0.1242761\ttotal: 4m 51s\tremaining: 1m 54s\n",
      "359:\tlearn: 0.1242490\ttotal: 4m 52s\tremaining: 1m 53s\n",
      "360:\tlearn: 0.1242233\ttotal: 4m 53s\tremaining: 1m 52s\n",
      "361:\tlearn: 0.1241969\ttotal: 4m 54s\tremaining: 1m 52s\n",
      "362:\tlearn: 0.1241727\ttotal: 4m 54s\tremaining: 1m 51s\n",
      "363:\tlearn: 0.1241433\ttotal: 4m 55s\tremaining: 1m 50s\n",
      "364:\tlearn: 0.1240518\ttotal: 4m 56s\tremaining: 1m 49s\n",
      "365:\tlearn: 0.1239419\ttotal: 4m 57s\tremaining: 1m 48s\n",
      "366:\tlearn: 0.1239121\ttotal: 4m 58s\tremaining: 1m 48s\n",
      "367:\tlearn: 0.1238867\ttotal: 4m 58s\tremaining: 1m 47s\n",
      "368:\tlearn: 0.1238314\ttotal: 4m 59s\tremaining: 1m 46s\n",
      "369:\tlearn: 0.1237645\ttotal: 5m\tremaining: 1m 45s\n",
      "370:\tlearn: 0.1237394\ttotal: 5m 1s\tremaining: 1m 44s\n",
      "371:\tlearn: 0.1237151\ttotal: 5m 1s\tremaining: 1m 43s\n",
      "372:\tlearn: 0.1236903\ttotal: 5m 2s\tremaining: 1m 43s\n",
      "373:\tlearn: 0.1235903\ttotal: 5m 3s\tremaining: 1m 42s\n",
      "374:\tlearn: 0.1235646\ttotal: 5m 4s\tremaining: 1m 41s\n",
      "375:\tlearn: 0.1234696\ttotal: 5m 4s\tremaining: 1m 40s\n",
      "376:\tlearn: 0.1233733\ttotal: 5m 5s\tremaining: 1m 39s\n",
      "377:\tlearn: 0.1233488\ttotal: 5m 6s\tremaining: 1m 38s\n",
      "378:\tlearn: 0.1233243\ttotal: 5m 7s\tremaining: 1m 38s\n",
      "379:\tlearn: 0.1232723\ttotal: 5m 8s\tremaining: 1m 37s\n",
      "380:\tlearn: 0.1232487\ttotal: 5m 8s\tremaining: 1m 36s\n",
      "381:\tlearn: 0.1232111\ttotal: 5m 9s\tremaining: 1m 35s\n",
      "382:\tlearn: 0.1231152\ttotal: 5m 10s\tremaining: 1m 34s\n",
      "383:\tlearn: 0.1230898\ttotal: 5m 11s\tremaining: 1m 33s\n",
      "384:\tlearn: 0.1230670\ttotal: 5m 11s\tremaining: 1m 33s\n",
      "385:\tlearn: 0.1230439\ttotal: 5m 12s\tremaining: 1m 32s\n",
      "386:\tlearn: 0.1230206\ttotal: 5m 13s\tremaining: 1m 31s\n",
      "387:\tlearn: 0.1229773\ttotal: 5m 14s\tremaining: 1m 30s\n",
      "388:\tlearn: 0.1229480\ttotal: 5m 14s\tremaining: 1m 29s\n",
      "389:\tlearn: 0.1229012\ttotal: 5m 15s\tremaining: 1m 28s\n",
      "390:\tlearn: 0.1228516\ttotal: 5m 16s\tremaining: 1m 28s\n",
      "391:\tlearn: 0.1227422\ttotal: 5m 17s\tremaining: 1m 27s\n",
      "392:\tlearn: 0.1227193\ttotal: 5m 17s\tremaining: 1m 26s\n",
      "393:\tlearn: 0.1226959\ttotal: 5m 18s\tremaining: 1m 25s\n",
      "394:\tlearn: 0.1226358\ttotal: 5m 19s\tremaining: 1m 24s\n",
      "395:\tlearn: 0.1225736\ttotal: 5m 20s\tremaining: 1m 24s\n",
      "396:\tlearn: 0.1224692\ttotal: 5m 21s\tremaining: 1m 23s\n",
      "397:\tlearn: 0.1224455\ttotal: 5m 21s\tremaining: 1m 22s\n",
      "398:\tlearn: 0.1224232\ttotal: 5m 22s\tremaining: 1m 21s\n",
      "399:\tlearn: 0.1224005\ttotal: 5m 23s\tremaining: 1m 20s\n",
      "400:\tlearn: 0.1223050\ttotal: 5m 24s\tremaining: 1m 20s\n",
      "401:\tlearn: 0.1222696\ttotal: 5m 24s\tremaining: 1m 19s\n",
      "402:\tlearn: 0.1221553\ttotal: 5m 25s\tremaining: 1m 18s\n",
      "403:\tlearn: 0.1221291\ttotal: 5m 26s\tremaining: 1m 17s\n",
      "404:\tlearn: 0.1220049\ttotal: 5m 27s\tremaining: 1m 16s\n",
      "405:\tlearn: 0.1219837\ttotal: 5m 28s\tremaining: 1m 15s\n",
      "406:\tlearn: 0.1219516\ttotal: 5m 28s\tremaining: 1m 15s\n",
      "407:\tlearn: 0.1219299\ttotal: 5m 29s\tremaining: 1m 14s\n",
      "408:\tlearn: 0.1219087\ttotal: 5m 30s\tremaining: 1m 13s\n",
      "409:\tlearn: 0.1218145\ttotal: 5m 31s\tremaining: 1m 12s\n",
      "410:\tlearn: 0.1217920\ttotal: 5m 31s\tremaining: 1m 11s\n",
      "411:\tlearn: 0.1217697\ttotal: 5m 32s\tremaining: 1m 11s\n",
      "412:\tlearn: 0.1217279\ttotal: 5m 33s\tremaining: 1m 10s\n",
      "413:\tlearn: 0.1216508\ttotal: 5m 34s\tremaining: 1m 9s\n",
      "414:\tlearn: 0.1216283\ttotal: 5m 34s\tremaining: 1m 8s\n",
      "415:\tlearn: 0.1215790\ttotal: 5m 35s\tremaining: 1m 7s\n",
      "416:\tlearn: 0.1215572\ttotal: 5m 36s\tremaining: 1m 6s\n",
      "417:\tlearn: 0.1215349\ttotal: 5m 36s\tremaining: 1m 6s\n",
      "418:\tlearn: 0.1215125\ttotal: 5m 37s\tremaining: 1m 5s\n",
      "419:\tlearn: 0.1214900\ttotal: 5m 38s\tremaining: 1m 4s\n",
      "420:\tlearn: 0.1214680\ttotal: 5m 39s\tremaining: 1m 3s\n",
      "421:\tlearn: 0.1214483\ttotal: 5m 39s\tremaining: 1m 2s\n",
      "422:\tlearn: 0.1214274\ttotal: 5m 40s\tremaining: 1m 2s\n",
      "423:\tlearn: 0.1214054\ttotal: 5m 41s\tremaining: 1m 1s\n",
      "424:\tlearn: 0.1213109\ttotal: 5m 42s\tremaining: 1m\n",
      "425:\tlearn: 0.1212834\ttotal: 5m 42s\tremaining: 59.6s\n",
      "426:\tlearn: 0.1212566\ttotal: 5m 43s\tremaining: 58.8s\n",
      "427:\tlearn: 0.1212357\ttotal: 5m 44s\tremaining: 57.9s\n",
      "428:\tlearn: 0.1212141\ttotal: 5m 45s\tremaining: 57.1s\n",
      "429:\tlearn: 0.1211421\ttotal: 5m 45s\tremaining: 56.3s\n",
      "430:\tlearn: 0.1211206\ttotal: 5m 46s\tremaining: 55.5s\n",
      "431:\tlearn: 0.1210995\ttotal: 5m 47s\tremaining: 54.7s\n",
      "432:\tlearn: 0.1210270\ttotal: 5m 48s\tremaining: 53.9s\n",
      "433:\tlearn: 0.1210056\ttotal: 5m 48s\tremaining: 53s\n",
      "434:\tlearn: 0.1209841\ttotal: 5m 49s\tremaining: 52.2s\n",
      "435:\tlearn: 0.1209161\ttotal: 5m 50s\tremaining: 51.4s\n",
      "436:\tlearn: 0.1207784\ttotal: 5m 51s\tremaining: 50.6s\n",
      "437:\tlearn: 0.1207565\ttotal: 5m 51s\tremaining: 49.8s\n",
      "438:\tlearn: 0.1206599\ttotal: 5m 52s\tremaining: 49s\n",
      "439:\tlearn: 0.1205264\ttotal: 5m 53s\tremaining: 48.2s\n",
      "440:\tlearn: 0.1205051\ttotal: 5m 54s\tremaining: 47.4s\n",
      "441:\tlearn: 0.1204840\ttotal: 5m 54s\tremaining: 46.6s\n",
      "442:\tlearn: 0.1204626\ttotal: 5m 55s\tremaining: 45.8s\n",
      "443:\tlearn: 0.1204425\ttotal: 5m 56s\tremaining: 44.9s\n",
      "444:\tlearn: 0.1204215\ttotal: 5m 57s\tremaining: 44.1s\n",
      "445:\tlearn: 0.1203596\ttotal: 5m 57s\tremaining: 43.3s\n",
      "446:\tlearn: 0.1203385\ttotal: 5m 58s\tremaining: 42.5s\n",
      "447:\tlearn: 0.1203180\ttotal: 5m 59s\tremaining: 41.7s\n",
      "448:\tlearn: 0.1202969\ttotal: 6m\tremaining: 40.9s\n",
      "449:\tlearn: 0.1202766\ttotal: 6m\tremaining: 40.1s\n",
      "450:\tlearn: 0.1202561\ttotal: 6m 1s\tremaining: 39.3s\n",
      "451:\tlearn: 0.1202356\ttotal: 6m 2s\tremaining: 38.5s\n",
      "452:\tlearn: 0.1202134\ttotal: 6m 3s\tremaining: 37.7s\n",
      "453:\tlearn: 0.1201908\ttotal: 6m 3s\tremaining: 36.9s\n",
      "454:\tlearn: 0.1201701\ttotal: 6m 4s\tremaining: 36.1s\n",
      "455:\tlearn: 0.1201506\ttotal: 6m 5s\tremaining: 35.3s\n",
      "456:\tlearn: 0.1201304\ttotal: 6m 6s\tremaining: 34.4s\n",
      "457:\tlearn: 0.1201091\ttotal: 6m 6s\tremaining: 33.6s\n",
      "458:\tlearn: 0.1200899\ttotal: 6m 7s\tremaining: 32.8s\n",
      "459:\tlearn: 0.1200692\ttotal: 6m 8s\tremaining: 32s\n",
      "460:\tlearn: 0.1200486\ttotal: 6m 8s\tremaining: 31.2s\n",
      "461:\tlearn: 0.1200170\ttotal: 6m 9s\tremaining: 30.4s\n",
      "462:\tlearn: 0.1199246\ttotal: 6m 10s\tremaining: 29.6s\n",
      "463:\tlearn: 0.1199039\ttotal: 6m 11s\tremaining: 28.8s\n",
      "464:\tlearn: 0.1198834\ttotal: 6m 11s\tremaining: 28s\n",
      "465:\tlearn: 0.1198634\ttotal: 6m 12s\tremaining: 27.2s\n",
      "466:\tlearn: 0.1197487\ttotal: 6m 13s\tremaining: 26.4s\n",
      "467:\tlearn: 0.1197284\ttotal: 6m 14s\tremaining: 25.6s\n",
      "468:\tlearn: 0.1197081\ttotal: 6m 14s\tremaining: 24.8s\n",
      "469:\tlearn: 0.1196882\ttotal: 6m 15s\tremaining: 24s\n",
      "470:\tlearn: 0.1196682\ttotal: 6m 16s\tremaining: 23.2s\n",
      "471:\tlearn: 0.1196228\ttotal: 6m 17s\tremaining: 22.4s\n",
      "472:\tlearn: 0.1196036\ttotal: 6m 17s\tremaining: 21.6s\n",
      "473:\tlearn: 0.1195304\ttotal: 6m 18s\tremaining: 20.8s\n",
      "474:\tlearn: 0.1195104\ttotal: 6m 19s\tremaining: 20s\n",
      "475:\tlearn: 0.1194206\ttotal: 6m 20s\tremaining: 19.2s\n",
      "476:\tlearn: 0.1194011\ttotal: 6m 21s\tremaining: 18.4s\n",
      "477:\tlearn: 0.1193816\ttotal: 6m 21s\tremaining: 17.6s\n",
      "478:\tlearn: 0.1193614\ttotal: 6m 22s\tremaining: 16.8s\n",
      "479:\tlearn: 0.1193412\ttotal: 6m 23s\tremaining: 16s\n",
      "480:\tlearn: 0.1193213\ttotal: 6m 23s\tremaining: 15.2s\n",
      "481:\tlearn: 0.1193013\ttotal: 6m 24s\tremaining: 14.4s\n",
      "482:\tlearn: 0.1192820\ttotal: 6m 25s\tremaining: 13.6s\n",
      "483:\tlearn: 0.1192583\ttotal: 6m 26s\tremaining: 12.8s\n",
      "484:\tlearn: 0.1192390\ttotal: 6m 26s\tremaining: 12s\n",
      "485:\tlearn: 0.1191523\ttotal: 6m 27s\tremaining: 11.2s\n",
      "486:\tlearn: 0.1191330\ttotal: 6m 28s\tremaining: 10.4s\n",
      "487:\tlearn: 0.1190466\ttotal: 6m 29s\tremaining: 9.57s\n",
      "488:\tlearn: 0.1190277\ttotal: 6m 29s\tremaining: 8.77s\n",
      "489:\tlearn: 0.1190084\ttotal: 6m 30s\tremaining: 7.97s\n",
      "490:\tlearn: 0.1189891\ttotal: 6m 31s\tremaining: 7.17s\n",
      "491:\tlearn: 0.1189697\ttotal: 6m 32s\tremaining: 6.38s\n",
      "492:\tlearn: 0.1189500\ttotal: 6m 32s\tremaining: 5.58s\n",
      "493:\tlearn: 0.1188384\ttotal: 6m 33s\tremaining: 4.78s\n",
      "494:\tlearn: 0.1188165\ttotal: 6m 34s\tremaining: 3.98s\n",
      "495:\tlearn: 0.1187975\ttotal: 6m 35s\tremaining: 3.19s\n",
      "496:\tlearn: 0.1187245\ttotal: 6m 35s\tremaining: 2.39s\n",
      "497:\tlearn: 0.1186797\ttotal: 6m 36s\tremaining: 1.59s\n",
      "498:\tlearn: 0.1186604\ttotal: 6m 37s\tremaining: 796ms\n",
      "499:\tlearn: 0.1186406\ttotal: 6m 38s\tremaining: 0us\n",
      "Learning rate set to 0.162218\n",
      "0:\tlearn: 0.5351479\ttotal: 1.15s\tremaining: 9m 33s\n",
      "1:\tlearn: 0.4325912\ttotal: 2.3s\tremaining: 9m 33s\n",
      "2:\tlearn: 0.3670271\ttotal: 3.44s\tremaining: 9m 30s\n",
      "3:\tlearn: 0.3244905\ttotal: 4.63s\tremaining: 9m 34s\n",
      "4:\tlearn: 0.2944367\ttotal: 5.77s\tremaining: 9m 30s\n",
      "5:\tlearn: 0.2739292\ttotal: 6.91s\tremaining: 9m 29s\n",
      "6:\tlearn: 0.2574317\ttotal: 8.14s\tremaining: 9m 33s\n",
      "7:\tlearn: 0.2472366\ttotal: 9.32s\tremaining: 9m 32s\n",
      "8:\tlearn: 0.2394035\ttotal: 10.5s\tremaining: 9m 31s\n",
      "9:\tlearn: 0.2331032\ttotal: 11.7s\tremaining: 9m 34s\n",
      "10:\tlearn: 0.2281186\ttotal: 13s\tremaining: 9m 35s\n",
      "11:\tlearn: 0.2241013\ttotal: 14.1s\tremaining: 9m 35s\n",
      "12:\tlearn: 0.2193420\ttotal: 15.3s\tremaining: 9m 34s\n",
      "13:\tlearn: 0.2157107\ttotal: 16.5s\tremaining: 9m 31s\n",
      "14:\tlearn: 0.2131969\ttotal: 17.6s\tremaining: 9m 30s\n",
      "15:\tlearn: 0.2110622\ttotal: 18.8s\tremaining: 9m 28s\n",
      "16:\tlearn: 0.2089961\ttotal: 19.9s\tremaining: 9m 25s\n",
      "17:\tlearn: 0.2073693\ttotal: 21.1s\tremaining: 9m 24s\n",
      "18:\tlearn: 0.2057118\ttotal: 22.2s\tremaining: 9m 22s\n",
      "19:\tlearn: 0.2038191\ttotal: 23.4s\tremaining: 9m 21s\n",
      "20:\tlearn: 0.2018571\ttotal: 24.6s\tremaining: 9m 20s\n",
      "21:\tlearn: 0.1993181\ttotal: 25.9s\tremaining: 9m 23s\n",
      "22:\tlearn: 0.1982205\ttotal: 27s\tremaining: 9m 20s\n",
      "23:\tlearn: 0.1970017\ttotal: 28.2s\tremaining: 9m 19s\n",
      "24:\tlearn: 0.1953801\ttotal: 29.3s\tremaining: 9m 17s\n",
      "25:\tlearn: 0.1940630\ttotal: 30.5s\tremaining: 9m 15s\n",
      "26:\tlearn: 0.1930865\ttotal: 31.6s\tremaining: 9m 13s\n",
      "27:\tlearn: 0.1918506\ttotal: 32.8s\tremaining: 9m 12s\n",
      "28:\tlearn: 0.1909122\ttotal: 33.9s\tremaining: 9m 11s\n",
      "29:\tlearn: 0.1898302\ttotal: 35.1s\tremaining: 9m 10s\n",
      "30:\tlearn: 0.1887869\ttotal: 36.3s\tremaining: 9m 9s\n",
      "31:\tlearn: 0.1880491\ttotal: 37.4s\tremaining: 9m 7s\n",
      "32:\tlearn: 0.1871844\ttotal: 38.5s\tremaining: 9m 4s\n",
      "33:\tlearn: 0.1859174\ttotal: 39.6s\tremaining: 9m 3s\n",
      "34:\tlearn: 0.1850680\ttotal: 40.8s\tremaining: 9m 1s\n",
      "35:\tlearn: 0.1840618\ttotal: 41.9s\tremaining: 9m\n",
      "36:\tlearn: 0.1833198\ttotal: 43.1s\tremaining: 8m 59s\n",
      "37:\tlearn: 0.1824446\ttotal: 44.3s\tremaining: 8m 58s\n",
      "38:\tlearn: 0.1817624\ttotal: 45.5s\tremaining: 8m 57s\n",
      "39:\tlearn: 0.1809080\ttotal: 46.6s\tremaining: 8m 55s\n",
      "40:\tlearn: 0.1800626\ttotal: 47.8s\tremaining: 8m 54s\n",
      "41:\tlearn: 0.1793600\ttotal: 48.9s\tremaining: 8m 53s\n",
      "42:\tlearn: 0.1781479\ttotal: 50s\tremaining: 8m 51s\n",
      "43:\tlearn: 0.1774473\ttotal: 51.1s\tremaining: 8m 49s\n",
      "44:\tlearn: 0.1765128\ttotal: 52.3s\tremaining: 8m 48s\n",
      "45:\tlearn: 0.1758586\ttotal: 53.4s\tremaining: 8m 46s\n",
      "46:\tlearn: 0.1752662\ttotal: 54.5s\tremaining: 8m 45s\n",
      "47:\tlearn: 0.1744699\ttotal: 55.6s\tremaining: 8m 44s\n",
      "48:\tlearn: 0.1738352\ttotal: 56.8s\tremaining: 8m 42s\n",
      "49:\tlearn: 0.1732813\ttotal: 57.9s\tremaining: 8m 41s\n",
      "50:\tlearn: 0.1727650\ttotal: 59s\tremaining: 8m 39s\n",
      "51:\tlearn: 0.1720612\ttotal: 1m\tremaining: 8m 38s\n",
      "52:\tlearn: 0.1715149\ttotal: 1m 1s\tremaining: 8m 36s\n",
      "53:\tlearn: 0.1710034\ttotal: 1m 2s\tremaining: 8m 35s\n",
      "54:\tlearn: 0.1705594\ttotal: 1m 3s\tremaining: 8m 33s\n",
      "55:\tlearn: 0.1701660\ttotal: 1m 4s\tremaining: 8m 32s\n",
      "56:\tlearn: 0.1696644\ttotal: 1m 5s\tremaining: 8m 30s\n",
      "57:\tlearn: 0.1692197\ttotal: 1m 6s\tremaining: 8m 28s\n",
      "58:\tlearn: 0.1687181\ttotal: 1m 7s\tremaining: 8m 27s\n",
      "59:\tlearn: 0.1681790\ttotal: 1m 9s\tremaining: 8m 26s\n",
      "60:\tlearn: 0.1676611\ttotal: 1m 10s\tremaining: 8m 24s\n",
      "61:\tlearn: 0.1671098\ttotal: 1m 11s\tremaining: 8m 23s\n",
      "62:\tlearn: 0.1666512\ttotal: 1m 12s\tremaining: 8m 22s\n",
      "63:\tlearn: 0.1658662\ttotal: 1m 13s\tremaining: 8m 20s\n",
      "64:\tlearn: 0.1654486\ttotal: 1m 14s\tremaining: 8m 18s\n",
      "65:\tlearn: 0.1650196\ttotal: 1m 15s\tremaining: 8m 17s\n",
      "66:\tlearn: 0.1646792\ttotal: 1m 16s\tremaining: 8m 15s\n",
      "67:\tlearn: 0.1641985\ttotal: 1m 17s\tremaining: 8m 13s\n",
      "68:\tlearn: 0.1637251\ttotal: 1m 18s\tremaining: 8m 12s\n",
      "69:\tlearn: 0.1632833\ttotal: 1m 19s\tremaining: 8m 10s\n",
      "70:\tlearn: 0.1628708\ttotal: 1m 20s\tremaining: 8m 9s\n",
      "71:\tlearn: 0.1624256\ttotal: 1m 22s\tremaining: 8m 7s\n",
      "72:\tlearn: 0.1620193\ttotal: 1m 23s\tremaining: 8m 6s\n",
      "73:\tlearn: 0.1617228\ttotal: 1m 24s\tremaining: 8m 5s\n",
      "74:\tlearn: 0.1613079\ttotal: 1m 25s\tremaining: 8m 4s\n",
      "75:\tlearn: 0.1609438\ttotal: 1m 26s\tremaining: 8m 3s\n",
      "76:\tlearn: 0.1604984\ttotal: 1m 27s\tremaining: 8m 2s\n",
      "77:\tlearn: 0.1601170\ttotal: 1m 28s\tremaining: 8m 1s\n",
      "78:\tlearn: 0.1597817\ttotal: 1m 30s\tremaining: 7m 59s\n",
      "79:\tlearn: 0.1593995\ttotal: 1m 31s\tremaining: 7m 58s\n",
      "80:\tlearn: 0.1589693\ttotal: 1m 32s\tremaining: 7m 57s\n",
      "81:\tlearn: 0.1585530\ttotal: 1m 33s\tremaining: 7m 56s\n",
      "82:\tlearn: 0.1582550\ttotal: 1m 34s\tremaining: 7m 54s\n",
      "83:\tlearn: 0.1579545\ttotal: 1m 35s\tremaining: 7m 53s\n",
      "84:\tlearn: 0.1576506\ttotal: 1m 36s\tremaining: 7m 52s\n",
      "85:\tlearn: 0.1572626\ttotal: 1m 37s\tremaining: 7m 50s\n",
      "86:\tlearn: 0.1569653\ttotal: 1m 38s\tremaining: 7m 49s\n",
      "87:\tlearn: 0.1566033\ttotal: 1m 39s\tremaining: 7m 47s\n",
      "88:\tlearn: 0.1562879\ttotal: 1m 41s\tremaining: 7m 46s\n",
      "89:\tlearn: 0.1559679\ttotal: 1m 42s\tremaining: 7m 45s\n",
      "90:\tlearn: 0.1555394\ttotal: 1m 43s\tremaining: 7m 44s\n",
      "91:\tlearn: 0.1551596\ttotal: 1m 44s\tremaining: 7m 43s\n",
      "92:\tlearn: 0.1548522\ttotal: 1m 45s\tremaining: 7m 42s\n",
      "93:\tlearn: 0.1547074\ttotal: 1m 46s\tremaining: 7m 40s\n",
      "94:\tlearn: 0.1544575\ttotal: 1m 47s\tremaining: 7m 39s\n",
      "95:\tlearn: 0.1541186\ttotal: 1m 48s\tremaining: 7m 38s\n",
      "96:\tlearn: 0.1536811\ttotal: 1m 50s\tremaining: 7m 37s\n",
      "97:\tlearn: 0.1534080\ttotal: 1m 51s\tremaining: 7m 36s\n",
      "98:\tlearn: 0.1532846\ttotal: 1m 52s\tremaining: 7m 34s\n",
      "99:\tlearn: 0.1529068\ttotal: 1m 53s\tremaining: 7m 33s\n",
      "100:\tlearn: 0.1524518\ttotal: 1m 54s\tremaining: 7m 32s\n",
      "101:\tlearn: 0.1521682\ttotal: 1m 55s\tremaining: 7m 30s\n",
      "102:\tlearn: 0.1519294\ttotal: 1m 56s\tremaining: 7m 29s\n",
      "103:\tlearn: 0.1516349\ttotal: 1m 57s\tremaining: 7m 28s\n",
      "104:\tlearn: 0.1513828\ttotal: 1m 58s\tremaining: 7m 26s\n",
      "105:\tlearn: 0.1511196\ttotal: 1m 59s\tremaining: 7m 25s\n",
      "106:\tlearn: 0.1508727\ttotal: 2m\tremaining: 7m 24s\n",
      "107:\tlearn: 0.1506199\ttotal: 2m 1s\tremaining: 7m 22s\n",
      "108:\tlearn: 0.1503509\ttotal: 2m 3s\tremaining: 7m 21s\n",
      "109:\tlearn: 0.1501295\ttotal: 2m 4s\tremaining: 7m 20s\n",
      "110:\tlearn: 0.1499383\ttotal: 2m 5s\tremaining: 7m 18s\n",
      "111:\tlearn: 0.1496733\ttotal: 2m 6s\tremaining: 7m 17s\n",
      "112:\tlearn: 0.1495359\ttotal: 2m 7s\tremaining: 7m 15s\n",
      "113:\tlearn: 0.1493158\ttotal: 2m 8s\tremaining: 7m 14s\n",
      "114:\tlearn: 0.1492182\ttotal: 2m 9s\tremaining: 7m 12s\n",
      "115:\tlearn: 0.1488749\ttotal: 2m 10s\tremaining: 7m 11s\n",
      "116:\tlearn: 0.1487023\ttotal: 2m 11s\tremaining: 7m 10s\n",
      "117:\tlearn: 0.1482610\ttotal: 2m 12s\tremaining: 7m 9s\n",
      "118:\tlearn: 0.1480465\ttotal: 2m 13s\tremaining: 7m 7s\n",
      "119:\tlearn: 0.1478090\ttotal: 2m 14s\tremaining: 7m 6s\n",
      "120:\tlearn: 0.1476056\ttotal: 2m 15s\tremaining: 7m 5s\n",
      "121:\tlearn: 0.1473450\ttotal: 2m 16s\tremaining: 7m 4s\n",
      "122:\tlearn: 0.1471007\ttotal: 2m 17s\tremaining: 7m 2s\n",
      "123:\tlearn: 0.1467400\ttotal: 2m 19s\tremaining: 7m 1s\n",
      "124:\tlearn: 0.1466431\ttotal: 2m 19s\tremaining: 6m 59s\n",
      "125:\tlearn: 0.1462914\ttotal: 2m 21s\tremaining: 6m 58s\n",
      "126:\tlearn: 0.1460575\ttotal: 2m 22s\tremaining: 6m 57s\n",
      "127:\tlearn: 0.1458370\ttotal: 2m 23s\tremaining: 6m 55s\n",
      "128:\tlearn: 0.1456195\ttotal: 2m 24s\tremaining: 6m 54s\n",
      "129:\tlearn: 0.1453630\ttotal: 2m 25s\tremaining: 6m 53s\n",
      "130:\tlearn: 0.1451209\ttotal: 2m 26s\tremaining: 6m 52s\n",
      "131:\tlearn: 0.1450389\ttotal: 2m 27s\tremaining: 6m 51s\n",
      "132:\tlearn: 0.1448298\ttotal: 2m 28s\tremaining: 6m 49s\n",
      "133:\tlearn: 0.1446041\ttotal: 2m 29s\tremaining: 6m 48s\n",
      "134:\tlearn: 0.1444297\ttotal: 2m 30s\tremaining: 6m 47s\n",
      "135:\tlearn: 0.1441775\ttotal: 2m 31s\tremaining: 6m 46s\n",
      "136:\tlearn: 0.1441030\ttotal: 2m 32s\tremaining: 6m 44s\n",
      "137:\tlearn: 0.1439087\ttotal: 2m 33s\tremaining: 6m 43s\n",
      "138:\tlearn: 0.1437955\ttotal: 2m 34s\tremaining: 6m 42s\n",
      "139:\tlearn: 0.1435433\ttotal: 2m 35s\tremaining: 6m 40s\n",
      "140:\tlearn: 0.1433700\ttotal: 2m 36s\tremaining: 6m 39s\n",
      "141:\tlearn: 0.1431532\ttotal: 2m 38s\tremaining: 6m 38s\n",
      "142:\tlearn: 0.1429715\ttotal: 2m 39s\tremaining: 6m 37s\n",
      "143:\tlearn: 0.1427254\ttotal: 2m 40s\tremaining: 6m 36s\n",
      "144:\tlearn: 0.1425752\ttotal: 2m 41s\tremaining: 6m 34s\n",
      "145:\tlearn: 0.1423032\ttotal: 2m 42s\tremaining: 6m 33s\n",
      "146:\tlearn: 0.1422229\ttotal: 2m 43s\tremaining: 6m 32s\n",
      "147:\tlearn: 0.1420202\ttotal: 2m 44s\tremaining: 6m 31s\n",
      "148:\tlearn: 0.1418720\ttotal: 2m 45s\tremaining: 6m 29s\n",
      "149:\tlearn: 0.1416078\ttotal: 2m 46s\tremaining: 6m 28s\n",
      "150:\tlearn: 0.1413946\ttotal: 2m 47s\tremaining: 6m 27s\n",
      "151:\tlearn: 0.1413311\ttotal: 2m 48s\tremaining: 6m 26s\n",
      "152:\tlearn: 0.1411344\ttotal: 2m 49s\tremaining: 6m 24s\n",
      "153:\tlearn: 0.1409920\ttotal: 2m 50s\tremaining: 6m 23s\n",
      "154:\tlearn: 0.1408525\ttotal: 2m 51s\tremaining: 6m 22s\n",
      "155:\tlearn: 0.1406888\ttotal: 2m 52s\tremaining: 6m 21s\n",
      "156:\tlearn: 0.1406301\ttotal: 2m 53s\tremaining: 6m 20s\n",
      "157:\tlearn: 0.1405687\ttotal: 2m 54s\tremaining: 6m 18s\n",
      "158:\tlearn: 0.1403252\ttotal: 2m 55s\tremaining: 6m 17s\n",
      "159:\tlearn: 0.1401212\ttotal: 2m 57s\tremaining: 6m 16s\n",
      "160:\tlearn: 0.1399987\ttotal: 2m 58s\tremaining: 6m 14s\n",
      "161:\tlearn: 0.1399429\ttotal: 2m 58s\tremaining: 6m 13s\n",
      "162:\tlearn: 0.1398001\ttotal: 3m\tremaining: 6m 12s\n",
      "163:\tlearn: 0.1396451\ttotal: 3m 1s\tremaining: 6m 10s\n",
      "164:\tlearn: 0.1394486\ttotal: 3m 2s\tremaining: 6m 9s\n",
      "165:\tlearn: 0.1392263\ttotal: 3m 3s\tremaining: 6m 8s\n",
      "166:\tlearn: 0.1391755\ttotal: 3m 4s\tremaining: 6m 7s\n",
      "167:\tlearn: 0.1389520\ttotal: 3m 5s\tremaining: 6m 6s\n",
      "168:\tlearn: 0.1387922\ttotal: 3m 6s\tremaining: 6m 5s\n",
      "169:\tlearn: 0.1386358\ttotal: 3m 7s\tremaining: 6m 3s\n",
      "170:\tlearn: 0.1385802\ttotal: 3m 8s\tremaining: 6m 2s\n",
      "171:\tlearn: 0.1383984\ttotal: 3m 9s\tremaining: 6m 1s\n",
      "172:\tlearn: 0.1383177\ttotal: 3m 10s\tremaining: 6m\n",
      "173:\tlearn: 0.1381110\ttotal: 3m 11s\tremaining: 5m 59s\n",
      "174:\tlearn: 0.1379548\ttotal: 3m 12s\tremaining: 5m 57s\n",
      "175:\tlearn: 0.1378226\ttotal: 3m 13s\tremaining: 5m 56s\n",
      "176:\tlearn: 0.1377699\ttotal: 3m 14s\tremaining: 5m 55s\n",
      "177:\tlearn: 0.1374823\ttotal: 3m 15s\tremaining: 5m 54s\n",
      "178:\tlearn: 0.1372681\ttotal: 3m 17s\tremaining: 5m 53s\n",
      "179:\tlearn: 0.1372217\ttotal: 3m 18s\tremaining: 5m 52s\n",
      "180:\tlearn: 0.1371119\ttotal: 3m 19s\tremaining: 5m 50s\n",
      "181:\tlearn: 0.1369234\ttotal: 3m 20s\tremaining: 5m 49s\n",
      "182:\tlearn: 0.1367538\ttotal: 3m 21s\tremaining: 5m 48s\n",
      "183:\tlearn: 0.1365190\ttotal: 3m 22s\tremaining: 5m 47s\n",
      "184:\tlearn: 0.1363557\ttotal: 3m 23s\tremaining: 5m 46s\n",
      "185:\tlearn: 0.1362272\ttotal: 3m 24s\tremaining: 5m 45s\n",
      "186:\tlearn: 0.1360628\ttotal: 3m 25s\tremaining: 5m 44s\n",
      "187:\tlearn: 0.1359307\ttotal: 3m 26s\tremaining: 5m 43s\n",
      "188:\tlearn: 0.1358859\ttotal: 3m 27s\tremaining: 5m 41s\n",
      "189:\tlearn: 0.1357556\ttotal: 3m 28s\tremaining: 5m 40s\n",
      "190:\tlearn: 0.1356262\ttotal: 3m 29s\tremaining: 5m 39s\n",
      "191:\tlearn: 0.1355810\ttotal: 3m 30s\tremaining: 5m 38s\n",
      "192:\tlearn: 0.1354895\ttotal: 3m 31s\tremaining: 5m 37s\n",
      "193:\tlearn: 0.1353400\ttotal: 3m 32s\tremaining: 5m 35s\n",
      "194:\tlearn: 0.1351938\ttotal: 3m 34s\tremaining: 5m 34s\n",
      "195:\tlearn: 0.1351149\ttotal: 3m 35s\tremaining: 5m 33s\n",
      "196:\tlearn: 0.1349890\ttotal: 3m 36s\tremaining: 5m 32s\n",
      "197:\tlearn: 0.1348269\ttotal: 3m 37s\tremaining: 5m 31s\n",
      "198:\tlearn: 0.1346460\ttotal: 3m 38s\tremaining: 5m 30s\n",
      "199:\tlearn: 0.1346008\ttotal: 3m 39s\tremaining: 5m 28s\n",
      "200:\tlearn: 0.1344832\ttotal: 3m 40s\tremaining: 5m 27s\n",
      "201:\tlearn: 0.1343149\ttotal: 3m 41s\tremaining: 5m 26s\n",
      "202:\tlearn: 0.1341872\ttotal: 3m 42s\tremaining: 5m 25s\n",
      "203:\tlearn: 0.1341441\ttotal: 3m 43s\tremaining: 5m 24s\n",
      "204:\tlearn: 0.1339801\ttotal: 3m 44s\tremaining: 5m 23s\n",
      "205:\tlearn: 0.1339389\ttotal: 3m 45s\tremaining: 5m 21s\n",
      "206:\tlearn: 0.1338474\ttotal: 3m 46s\tremaining: 5m 20s\n",
      "207:\tlearn: 0.1338034\ttotal: 3m 47s\tremaining: 5m 19s\n",
      "208:\tlearn: 0.1336835\ttotal: 3m 48s\tremaining: 5m 18s\n",
      "209:\tlearn: 0.1336446\ttotal: 3m 49s\tremaining: 5m 16s\n",
      "210:\tlearn: 0.1335089\ttotal: 3m 50s\tremaining: 5m 15s\n",
      "211:\tlearn: 0.1333488\ttotal: 3m 51s\tremaining: 5m 14s\n",
      "212:\tlearn: 0.1332982\ttotal: 3m 52s\tremaining: 5m 13s\n",
      "213:\tlearn: 0.1331472\ttotal: 3m 53s\tremaining: 5m 12s\n",
      "214:\tlearn: 0.1330176\ttotal: 3m 54s\tremaining: 5m 10s\n",
      "215:\tlearn: 0.1329746\ttotal: 3m 55s\tremaining: 5m 9s\n",
      "216:\tlearn: 0.1327971\ttotal: 3m 56s\tremaining: 5m 8s\n",
      "217:\tlearn: 0.1326296\ttotal: 3m 57s\tremaining: 5m 7s\n",
      "218:\tlearn: 0.1324974\ttotal: 3m 58s\tremaining: 5m 6s\n",
      "219:\tlearn: 0.1323707\ttotal: 3m 59s\tremaining: 5m 5s\n",
      "220:\tlearn: 0.1323214\ttotal: 4m\tremaining: 5m 3s\n",
      "221:\tlearn: 0.1322797\ttotal: 4m 1s\tremaining: 5m 2s\n",
      "222:\tlearn: 0.1321602\ttotal: 4m 2s\tremaining: 5m 1s\n",
      "223:\tlearn: 0.1320064\ttotal: 4m 3s\tremaining: 5m\n",
      "224:\tlearn: 0.1319533\ttotal: 4m 4s\tremaining: 4m 59s\n",
      "225:\tlearn: 0.1319016\ttotal: 4m 5s\tremaining: 4m 57s\n",
      "226:\tlearn: 0.1318642\ttotal: 4m 6s\tremaining: 4m 56s\n",
      "227:\tlearn: 0.1318242\ttotal: 4m 7s\tremaining: 4m 55s\n",
      "228:\tlearn: 0.1316623\ttotal: 4m 8s\tremaining: 4m 54s\n",
      "229:\tlearn: 0.1315698\ttotal: 4m 9s\tremaining: 4m 53s\n",
      "230:\tlearn: 0.1315319\ttotal: 4m 10s\tremaining: 4m 51s\n",
      "231:\tlearn: 0.1314930\ttotal: 4m 11s\tremaining: 4m 50s\n",
      "232:\tlearn: 0.1314550\ttotal: 4m 12s\tremaining: 4m 49s\n",
      "233:\tlearn: 0.1314186\ttotal: 4m 13s\tremaining: 4m 48s\n",
      "234:\tlearn: 0.1312987\ttotal: 4m 14s\tremaining: 4m 47s\n",
      "235:\tlearn: 0.1312646\ttotal: 4m 15s\tremaining: 4m 45s\n",
      "236:\tlearn: 0.1312324\ttotal: 4m 16s\tremaining: 4m 44s\n",
      "237:\tlearn: 0.1311994\ttotal: 4m 17s\tremaining: 4m 43s\n",
      "238:\tlearn: 0.1310447\ttotal: 4m 18s\tremaining: 4m 42s\n",
      "239:\tlearn: 0.1308895\ttotal: 4m 19s\tremaining: 4m 41s\n",
      "240:\tlearn: 0.1307296\ttotal: 4m 20s\tremaining: 4m 40s\n",
      "241:\tlearn: 0.1305779\ttotal: 4m 21s\tremaining: 4m 39s\n",
      "242:\tlearn: 0.1304492\ttotal: 4m 22s\tremaining: 4m 38s\n",
      "243:\tlearn: 0.1304143\ttotal: 4m 23s\tremaining: 4m 36s\n",
      "244:\tlearn: 0.1302779\ttotal: 4m 24s\tremaining: 4m 35s\n",
      "245:\tlearn: 0.1301669\ttotal: 4m 26s\tremaining: 4m 34s\n",
      "246:\tlearn: 0.1301328\ttotal: 4m 26s\tremaining: 4m 33s\n",
      "247:\tlearn: 0.1301009\ttotal: 4m 27s\tremaining: 4m 32s\n",
      "248:\tlearn: 0.1300674\ttotal: 4m 28s\tremaining: 4m 30s\n",
      "249:\tlearn: 0.1299475\ttotal: 4m 29s\tremaining: 4m 29s\n",
      "250:\tlearn: 0.1298756\ttotal: 4m 30s\tremaining: 4m 28s\n",
      "251:\tlearn: 0.1297258\ttotal: 4m 31s\tremaining: 4m 27s\n",
      "252:\tlearn: 0.1296968\ttotal: 4m 32s\tremaining: 4m 26s\n",
      "253:\tlearn: 0.1295099\ttotal: 4m 34s\tremaining: 4m 25s\n",
      "254:\tlearn: 0.1293683\ttotal: 4m 35s\tremaining: 4m 24s\n",
      "255:\tlearn: 0.1293265\ttotal: 4m 35s\tremaining: 4m 23s\n",
      "256:\tlearn: 0.1292965\ttotal: 4m 36s\tremaining: 4m 21s\n",
      "257:\tlearn: 0.1292057\ttotal: 4m 37s\tremaining: 4m 20s\n",
      "258:\tlearn: 0.1290802\ttotal: 4m 39s\tremaining: 4m 19s\n",
      "259:\tlearn: 0.1290436\ttotal: 4m 39s\tremaining: 4m 18s\n",
      "260:\tlearn: 0.1289121\ttotal: 4m 41s\tremaining: 4m 17s\n",
      "261:\tlearn: 0.1287571\ttotal: 4m 42s\tremaining: 4m 16s\n",
      "262:\tlearn: 0.1286311\ttotal: 4m 43s\tremaining: 4m 15s\n",
      "263:\tlearn: 0.1286014\ttotal: 4m 44s\tremaining: 4m 14s\n",
      "264:\tlearn: 0.1284512\ttotal: 4m 45s\tremaining: 4m 12s\n",
      "265:\tlearn: 0.1284243\ttotal: 4m 46s\tremaining: 4m 11s\n",
      "266:\tlearn: 0.1282831\ttotal: 4m 47s\tremaining: 4m 10s\n",
      "267:\tlearn: 0.1281873\ttotal: 4m 48s\tremaining: 4m 9s\n",
      "268:\tlearn: 0.1280340\ttotal: 4m 49s\tremaining: 4m 8s\n",
      "269:\tlearn: 0.1280034\ttotal: 4m 50s\tremaining: 4m 7s\n",
      "270:\tlearn: 0.1278707\ttotal: 4m 51s\tremaining: 4m 6s\n",
      "271:\tlearn: 0.1278401\ttotal: 4m 52s\tremaining: 4m 5s\n",
      "272:\tlearn: 0.1277771\ttotal: 4m 53s\tremaining: 4m 4s\n",
      "273:\tlearn: 0.1276411\ttotal: 4m 54s\tremaining: 4m 2s\n",
      "274:\tlearn: 0.1276126\ttotal: 4m 55s\tremaining: 4m 1s\n",
      "275:\tlearn: 0.1275807\ttotal: 4m 56s\tremaining: 4m\n",
      "276:\tlearn: 0.1274745\ttotal: 4m 57s\tremaining: 3m 59s\n",
      "277:\tlearn: 0.1273519\ttotal: 4m 58s\tremaining: 3m 58s\n",
      "278:\tlearn: 0.1272974\ttotal: 4m 59s\tremaining: 3m 57s\n",
      "279:\tlearn: 0.1272111\ttotal: 5m\tremaining: 3m 56s\n",
      "280:\tlearn: 0.1271778\ttotal: 5m 1s\tremaining: 3m 54s\n",
      "281:\tlearn: 0.1270947\ttotal: 5m 2s\tremaining: 3m 53s\n",
      "282:\tlearn: 0.1269883\ttotal: 5m 3s\tremaining: 3m 52s\n",
      "283:\tlearn: 0.1268860\ttotal: 5m 4s\tremaining: 3m 51s\n",
      "284:\tlearn: 0.1268499\ttotal: 5m 5s\tremaining: 3m 50s\n",
      "285:\tlearn: 0.1267246\ttotal: 5m 6s\tremaining: 3m 49s\n",
      "286:\tlearn: 0.1266959\ttotal: 5m 7s\tremaining: 3m 48s\n",
      "287:\tlearn: 0.1265681\ttotal: 5m 8s\tremaining: 3m 47s\n",
      "288:\tlearn: 0.1264730\ttotal: 5m 9s\tremaining: 3m 46s\n",
      "289:\tlearn: 0.1264439\ttotal: 5m 10s\tremaining: 3m 44s\n",
      "290:\tlearn: 0.1264118\ttotal: 5m 11s\tremaining: 3m 43s\n",
      "291:\tlearn: 0.1263313\ttotal: 5m 12s\tremaining: 3m 42s\n",
      "292:\tlearn: 0.1262423\ttotal: 5m 13s\tremaining: 3m 41s\n",
      "293:\tlearn: 0.1262120\ttotal: 5m 14s\tremaining: 3m 40s\n",
      "294:\tlearn: 0.1261368\ttotal: 5m 15s\tremaining: 3m 39s\n",
      "295:\tlearn: 0.1261033\ttotal: 5m 16s\tremaining: 3m 38s\n",
      "296:\tlearn: 0.1260728\ttotal: 5m 17s\tremaining: 3m 37s\n",
      "297:\tlearn: 0.1259791\ttotal: 5m 18s\tremaining: 3m 35s\n",
      "298:\tlearn: 0.1258687\ttotal: 5m 19s\tremaining: 3m 34s\n",
      "299:\tlearn: 0.1257558\ttotal: 5m 20s\tremaining: 3m 33s\n",
      "300:\tlearn: 0.1256081\ttotal: 5m 21s\tremaining: 3m 32s\n",
      "301:\tlearn: 0.1255056\ttotal: 5m 22s\tremaining: 3m 31s\n",
      "302:\tlearn: 0.1254293\ttotal: 5m 23s\tremaining: 3m 30s\n",
      "303:\tlearn: 0.1253202\ttotal: 5m 25s\tremaining: 3m 29s\n",
      "304:\tlearn: 0.1252957\ttotal: 5m 25s\tremaining: 3m 28s\n",
      "305:\tlearn: 0.1252395\ttotal: 5m 26s\tremaining: 3m 27s\n",
      "306:\tlearn: 0.1251978\ttotal: 5m 27s\tremaining: 3m 26s\n",
      "307:\tlearn: 0.1251638\ttotal: 5m 28s\tremaining: 3m 24s\n",
      "308:\tlearn: 0.1251346\ttotal: 5m 29s\tremaining: 3m 23s\n",
      "309:\tlearn: 0.1250105\ttotal: 5m 30s\tremaining: 3m 22s\n",
      "310:\tlearn: 0.1249012\ttotal: 5m 31s\tremaining: 3m 21s\n",
      "311:\tlearn: 0.1247886\ttotal: 5m 32s\tremaining: 3m 20s\n",
      "312:\tlearn: 0.1246796\ttotal: 5m 34s\tremaining: 3m 19s\n",
      "313:\tlearn: 0.1246484\ttotal: 5m 34s\tremaining: 3m 18s\n",
      "314:\tlearn: 0.1246110\ttotal: 5m 35s\tremaining: 3m 17s\n",
      "315:\tlearn: 0.1245615\ttotal: 5m 36s\tremaining: 3m 16s\n",
      "316:\tlearn: 0.1244079\ttotal: 5m 38s\tremaining: 3m 15s\n",
      "317:\tlearn: 0.1243834\ttotal: 5m 38s\tremaining: 3m 13s\n",
      "318:\tlearn: 0.1243235\ttotal: 5m 39s\tremaining: 3m 12s\n",
      "319:\tlearn: 0.1242162\ttotal: 5m 41s\tremaining: 3m 11s\n",
      "320:\tlearn: 0.1241424\ttotal: 5m 42s\tremaining: 3m 10s\n",
      "321:\tlearn: 0.1240214\ttotal: 5m 43s\tremaining: 3m 9s\n",
      "322:\tlearn: 0.1239380\ttotal: 5m 44s\tremaining: 3m 8s\n",
      "323:\tlearn: 0.1239129\ttotal: 5m 45s\tremaining: 3m 7s\n",
      "324:\tlearn: 0.1238788\ttotal: 5m 46s\tremaining: 3m 6s\n",
      "325:\tlearn: 0.1237909\ttotal: 5m 47s\tremaining: 3m 5s\n",
      "326:\tlearn: 0.1236461\ttotal: 5m 48s\tremaining: 3m 4s\n",
      "327:\tlearn: 0.1235656\ttotal: 5m 49s\tremaining: 3m 3s\n",
      "328:\tlearn: 0.1234823\ttotal: 5m 50s\tremaining: 3m 2s\n",
      "329:\tlearn: 0.1234136\ttotal: 5m 51s\tremaining: 3m\n",
      "330:\tlearn: 0.1233091\ttotal: 5m 52s\tremaining: 2m 59s\n",
      "331:\tlearn: 0.1231894\ttotal: 5m 53s\tremaining: 2m 58s\n",
      "332:\tlearn: 0.1231638\ttotal: 5m 54s\tremaining: 2m 57s\n",
      "333:\tlearn: 0.1230553\ttotal: 5m 55s\tremaining: 2m 56s\n",
      "334:\tlearn: 0.1229682\ttotal: 5m 56s\tremaining: 2m 55s\n",
      "335:\tlearn: 0.1229118\ttotal: 5m 57s\tremaining: 2m 54s\n",
      "336:\tlearn: 0.1228832\ttotal: 5m 58s\tremaining: 2m 53s\n",
      "337:\tlearn: 0.1227830\ttotal: 5m 59s\tremaining: 2m 52s\n",
      "338:\tlearn: 0.1226883\ttotal: 6m\tremaining: 2m 51s\n",
      "339:\tlearn: 0.1226231\ttotal: 6m 1s\tremaining: 2m 50s\n",
      "340:\tlearn: 0.1225580\ttotal: 6m 2s\tremaining: 2m 49s\n",
      "341:\tlearn: 0.1225294\ttotal: 6m 3s\tremaining: 2m 47s\n",
      "342:\tlearn: 0.1224575\ttotal: 6m 4s\tremaining: 2m 46s\n",
      "343:\tlearn: 0.1224312\ttotal: 6m 5s\tremaining: 2m 45s\n",
      "344:\tlearn: 0.1223661\ttotal: 6m 6s\tremaining: 2m 44s\n",
      "345:\tlearn: 0.1222412\ttotal: 6m 7s\tremaining: 2m 43s\n",
      "346:\tlearn: 0.1222126\ttotal: 6m 8s\tremaining: 2m 42s\n",
      "347:\tlearn: 0.1220527\ttotal: 6m 9s\tremaining: 2m 41s\n",
      "348:\tlearn: 0.1220298\ttotal: 6m 10s\tremaining: 2m 40s\n",
      "349:\tlearn: 0.1219864\ttotal: 6m 11s\tremaining: 2m 39s\n",
      "350:\tlearn: 0.1219378\ttotal: 6m 12s\tremaining: 2m 38s\n",
      "351:\tlearn: 0.1218330\ttotal: 6m 13s\tremaining: 2m 37s\n",
      "352:\tlearn: 0.1218049\ttotal: 6m 14s\tremaining: 2m 36s\n",
      "353:\tlearn: 0.1217179\ttotal: 6m 15s\tremaining: 2m 34s\n",
      "354:\tlearn: 0.1216413\ttotal: 6m 16s\tremaining: 2m 33s\n",
      "355:\tlearn: 0.1216180\ttotal: 6m 17s\tremaining: 2m 32s\n",
      "356:\tlearn: 0.1215857\ttotal: 6m 18s\tremaining: 2m 31s\n",
      "357:\tlearn: 0.1214907\ttotal: 6m 19s\tremaining: 2m 30s\n",
      "358:\tlearn: 0.1214006\ttotal: 6m 20s\tremaining: 2m 29s\n",
      "359:\tlearn: 0.1213304\ttotal: 6m 21s\tremaining: 2m 28s\n",
      "360:\tlearn: 0.1213074\ttotal: 6m 22s\tremaining: 2m 27s\n",
      "361:\tlearn: 0.1212031\ttotal: 6m 23s\tremaining: 2m 26s\n",
      "362:\tlearn: 0.1211460\ttotal: 6m 24s\tremaining: 2m 25s\n",
      "363:\tlearn: 0.1211099\ttotal: 6m 25s\tremaining: 2m 24s\n",
      "364:\tlearn: 0.1210409\ttotal: 6m 26s\tremaining: 2m 23s\n",
      "365:\tlearn: 0.1210170\ttotal: 6m 27s\tremaining: 2m 21s\n",
      "366:\tlearn: 0.1209116\ttotal: 6m 28s\tremaining: 2m 20s\n",
      "367:\tlearn: 0.1208911\ttotal: 6m 29s\tremaining: 2m 19s\n",
      "368:\tlearn: 0.1208253\ttotal: 6m 30s\tremaining: 2m 18s\n",
      "369:\tlearn: 0.1208047\ttotal: 6m 31s\tremaining: 2m 17s\n",
      "370:\tlearn: 0.1207355\ttotal: 6m 32s\tremaining: 2m 16s\n",
      "371:\tlearn: 0.1207140\ttotal: 6m 33s\tremaining: 2m 15s\n",
      "372:\tlearn: 0.1206406\ttotal: 6m 34s\tremaining: 2m 14s\n",
      "373:\tlearn: 0.1205976\ttotal: 6m 35s\tremaining: 2m 13s\n",
      "374:\tlearn: 0.1205775\ttotal: 6m 36s\tremaining: 2m 12s\n",
      "375:\tlearn: 0.1205243\ttotal: 6m 37s\tremaining: 2m 11s\n",
      "376:\tlearn: 0.1204245\ttotal: 6m 38s\tremaining: 2m 10s\n",
      "377:\tlearn: 0.1203996\ttotal: 6m 39s\tremaining: 2m 8s\n",
      "378:\tlearn: 0.1203196\ttotal: 6m 40s\tremaining: 2m 7s\n",
      "379:\tlearn: 0.1201858\ttotal: 6m 41s\tremaining: 2m 6s\n",
      "380:\tlearn: 0.1201570\ttotal: 6m 42s\tremaining: 2m 5s\n",
      "381:\tlearn: 0.1200358\ttotal: 6m 43s\tremaining: 2m 4s\n",
      "382:\tlearn: 0.1200158\ttotal: 6m 44s\tremaining: 2m 3s\n",
      "383:\tlearn: 0.1199206\ttotal: 6m 45s\tremaining: 2m 2s\n",
      "384:\tlearn: 0.1198993\ttotal: 6m 46s\tremaining: 2m 1s\n",
      "385:\tlearn: 0.1198557\ttotal: 6m 47s\tremaining: 2m\n",
      "386:\tlearn: 0.1198128\ttotal: 6m 48s\tremaining: 1m 59s\n",
      "387:\tlearn: 0.1197921\ttotal: 6m 49s\tremaining: 1m 58s\n",
      "388:\tlearn: 0.1197097\ttotal: 6m 50s\tremaining: 1m 57s\n",
      "389:\tlearn: 0.1196886\ttotal: 6m 51s\tremaining: 1m 56s\n",
      "390:\tlearn: 0.1196686\ttotal: 6m 52s\tremaining: 1m 55s\n",
      "391:\tlearn: 0.1196217\ttotal: 6m 53s\tremaining: 1m 53s\n",
      "392:\tlearn: 0.1195987\ttotal: 6m 54s\tremaining: 1m 52s\n",
      "393:\tlearn: 0.1195781\ttotal: 6m 55s\tremaining: 1m 51s\n",
      "394:\tlearn: 0.1195585\ttotal: 6m 56s\tremaining: 1m 50s\n",
      "395:\tlearn: 0.1195394\ttotal: 6m 57s\tremaining: 1m 49s\n",
      "396:\tlearn: 0.1194636\ttotal: 6m 58s\tremaining: 1m 48s\n",
      "397:\tlearn: 0.1193822\ttotal: 6m 59s\tremaining: 1m 47s\n",
      "398:\tlearn: 0.1192722\ttotal: 7m\tremaining: 1m 46s\n",
      "399:\tlearn: 0.1192512\ttotal: 7m 1s\tremaining: 1m 45s\n",
      "400:\tlearn: 0.1192180\ttotal: 7m 2s\tremaining: 1m 44s\n",
      "401:\tlearn: 0.1191976\ttotal: 7m 3s\tremaining: 1m 43s\n",
      "402:\tlearn: 0.1191766\ttotal: 7m 4s\tremaining: 1m 42s\n",
      "403:\tlearn: 0.1191564\ttotal: 7m 5s\tremaining: 1m 41s\n",
      "404:\tlearn: 0.1191109\ttotal: 7m 6s\tremaining: 1m 40s\n",
      "405:\tlearn: 0.1190783\ttotal: 7m 7s\tremaining: 1m 38s\n",
      "406:\tlearn: 0.1190100\ttotal: 7m 8s\tremaining: 1m 37s\n",
      "407:\tlearn: 0.1189909\ttotal: 7m 9s\tremaining: 1m 36s\n",
      "408:\tlearn: 0.1189059\ttotal: 7m 10s\tremaining: 1m 35s\n",
      "409:\tlearn: 0.1188660\ttotal: 7m 11s\tremaining: 1m 34s\n",
      "410:\tlearn: 0.1188259\ttotal: 7m 12s\tremaining: 1m 33s\n",
      "411:\tlearn: 0.1188060\ttotal: 7m 13s\tremaining: 1m 32s\n",
      "412:\tlearn: 0.1187129\ttotal: 7m 14s\tremaining: 1m 31s\n",
      "413:\tlearn: 0.1186942\ttotal: 7m 15s\tremaining: 1m 30s\n",
      "414:\tlearn: 0.1186285\ttotal: 7m 16s\tremaining: 1m 29s\n",
      "415:\tlearn: 0.1186088\ttotal: 7m 17s\tremaining: 1m 28s\n",
      "416:\tlearn: 0.1185504\ttotal: 7m 18s\tremaining: 1m 27s\n",
      "417:\tlearn: 0.1185095\ttotal: 7m 19s\tremaining: 1m 26s\n",
      "418:\tlearn: 0.1184760\ttotal: 7m 20s\tremaining: 1m 25s\n",
      "419:\tlearn: 0.1184486\ttotal: 7m 21s\tremaining: 1m 24s\n",
      "420:\tlearn: 0.1184299\ttotal: 7m 22s\tremaining: 1m 23s\n",
      "421:\tlearn: 0.1184102\ttotal: 7m 23s\tremaining: 1m 21s\n",
      "422:\tlearn: 0.1183909\ttotal: 7m 24s\tremaining: 1m 20s\n",
      "423:\tlearn: 0.1183011\ttotal: 7m 25s\tremaining: 1m 19s\n",
      "424:\tlearn: 0.1182789\ttotal: 7m 26s\tremaining: 1m 18s\n",
      "425:\tlearn: 0.1182600\ttotal: 7m 27s\tremaining: 1m 17s\n",
      "426:\tlearn: 0.1182411\ttotal: 7m 28s\tremaining: 1m 16s\n",
      "427:\tlearn: 0.1181841\ttotal: 7m 29s\tremaining: 1m 15s\n",
      "428:\tlearn: 0.1181648\ttotal: 7m 30s\tremaining: 1m 14s\n",
      "429:\tlearn: 0.1181459\ttotal: 7m 30s\tremaining: 1m 13s\n",
      "430:\tlearn: 0.1181026\ttotal: 7m 31s\tremaining: 1m 12s\n",
      "431:\tlearn: 0.1180823\ttotal: 7m 32s\tremaining: 1m 11s\n",
      "432:\tlearn: 0.1180453\ttotal: 7m 33s\tremaining: 1m 10s\n",
      "433:\tlearn: 0.1180261\ttotal: 7m 34s\tremaining: 1m 9s\n",
      "434:\tlearn: 0.1179692\ttotal: 7m 35s\tremaining: 1m 8s\n",
      "435:\tlearn: 0.1179500\ttotal: 7m 36s\tremaining: 1m 7s\n",
      "436:\tlearn: 0.1179318\ttotal: 7m 37s\tremaining: 1m 5s\n",
      "437:\tlearn: 0.1178843\ttotal: 7m 38s\tremaining: 1m 4s\n",
      "438:\tlearn: 0.1178074\ttotal: 7m 39s\tremaining: 1m 3s\n",
      "439:\tlearn: 0.1177892\ttotal: 7m 40s\tremaining: 1m 2s\n",
      "440:\tlearn: 0.1177586\ttotal: 7m 41s\tremaining: 1m 1s\n",
      "441:\tlearn: 0.1177403\ttotal: 7m 42s\tremaining: 1m\n",
      "442:\tlearn: 0.1177220\ttotal: 7m 43s\tremaining: 59.7s\n",
      "443:\tlearn: 0.1177032\ttotal: 7m 44s\tremaining: 58.6s\n",
      "444:\tlearn: 0.1176239\ttotal: 7m 45s\tremaining: 57.6s\n",
      "445:\tlearn: 0.1176065\ttotal: 7m 46s\tremaining: 56.5s\n",
      "446:\tlearn: 0.1174911\ttotal: 7m 47s\tremaining: 55.5s\n",
      "447:\tlearn: 0.1174215\ttotal: 7m 48s\tremaining: 54.4s\n",
      "448:\tlearn: 0.1174036\ttotal: 7m 49s\tremaining: 53.4s\n",
      "449:\tlearn: 0.1173529\ttotal: 7m 50s\tremaining: 52.3s\n",
      "450:\tlearn: 0.1173304\ttotal: 7m 51s\tremaining: 51.3s\n",
      "451:\tlearn: 0.1173128\ttotal: 7m 52s\tremaining: 50.2s\n",
      "452:\tlearn: 0.1172948\ttotal: 7m 53s\tremaining: 49.1s\n",
      "453:\tlearn: 0.1172730\ttotal: 7m 54s\tremaining: 48.1s\n",
      "454:\tlearn: 0.1172546\ttotal: 7m 55s\tremaining: 47s\n",
      "455:\tlearn: 0.1172122\ttotal: 7m 56s\tremaining: 46s\n",
      "456:\tlearn: 0.1171948\ttotal: 7m 57s\tremaining: 44.9s\n",
      "457:\tlearn: 0.1171349\ttotal: 7m 58s\tremaining: 43.9s\n",
      "458:\tlearn: 0.1171172\ttotal: 7m 59s\tremaining: 42.8s\n",
      "459:\tlearn: 0.1170827\ttotal: 8m\tremaining: 41.8s\n",
      "460:\tlearn: 0.1170654\ttotal: 8m 1s\tremaining: 40.7s\n",
      "461:\tlearn: 0.1169805\ttotal: 8m 2s\tremaining: 39.7s\n",
      "462:\tlearn: 0.1169639\ttotal: 8m 3s\tremaining: 38.6s\n",
      "463:\tlearn: 0.1169465\ttotal: 8m 4s\tremaining: 37.6s\n",
      "464:\tlearn: 0.1168792\ttotal: 8m 5s\tremaining: 36.5s\n",
      "465:\tlearn: 0.1167951\ttotal: 8m 6s\tremaining: 35.5s\n",
      "466:\tlearn: 0.1167773\ttotal: 8m 7s\tremaining: 34.4s\n",
      "467:\tlearn: 0.1166991\ttotal: 8m 8s\tremaining: 33.4s\n",
      "468:\tlearn: 0.1166676\ttotal: 8m 9s\tremaining: 32.4s\n",
      "469:\tlearn: 0.1166498\ttotal: 8m 10s\tremaining: 31.3s\n",
      "470:\tlearn: 0.1166317\ttotal: 8m 11s\tremaining: 30.3s\n",
      "471:\tlearn: 0.1166139\ttotal: 8m 12s\tremaining: 29.2s\n",
      "472:\tlearn: 0.1165944\ttotal: 8m 13s\tremaining: 28.2s\n",
      "473:\tlearn: 0.1165768\ttotal: 8m 14s\tremaining: 27.1s\n",
      "474:\tlearn: 0.1165596\ttotal: 8m 15s\tremaining: 26.1s\n",
      "475:\tlearn: 0.1165038\ttotal: 8m 16s\tremaining: 25s\n",
      "476:\tlearn: 0.1164866\ttotal: 8m 17s\tremaining: 24s\n",
      "477:\tlearn: 0.1164693\ttotal: 8m 17s\tremaining: 22.9s\n",
      "478:\tlearn: 0.1164517\ttotal: 8m 18s\tremaining: 21.9s\n",
      "479:\tlearn: 0.1164341\ttotal: 8m 19s\tremaining: 20.8s\n",
      "480:\tlearn: 0.1163579\ttotal: 8m 20s\tremaining: 19.8s\n",
      "481:\tlearn: 0.1163409\ttotal: 8m 21s\tremaining: 18.7s\n",
      "482:\tlearn: 0.1163244\ttotal: 8m 22s\tremaining: 17.7s\n",
      "483:\tlearn: 0.1162623\ttotal: 8m 23s\tremaining: 16.7s\n",
      "484:\tlearn: 0.1162455\ttotal: 8m 24s\tremaining: 15.6s\n",
      "485:\tlearn: 0.1162285\ttotal: 8m 25s\tremaining: 14.6s\n",
      "486:\tlearn: 0.1162120\ttotal: 8m 26s\tremaining: 13.5s\n",
      "487:\tlearn: 0.1161765\ttotal: 8m 27s\tremaining: 12.5s\n",
      "488:\tlearn: 0.1161127\ttotal: 8m 28s\tremaining: 11.4s\n",
      "489:\tlearn: 0.1160961\ttotal: 8m 29s\tremaining: 10.4s\n",
      "490:\tlearn: 0.1160791\ttotal: 8m 30s\tremaining: 9.36s\n",
      "491:\tlearn: 0.1160634\ttotal: 8m 31s\tremaining: 8.32s\n",
      "492:\tlearn: 0.1159944\ttotal: 8m 32s\tremaining: 7.28s\n",
      "493:\tlearn: 0.1159755\ttotal: 8m 33s\tremaining: 6.24s\n",
      "494:\tlearn: 0.1159557\ttotal: 8m 34s\tremaining: 5.2s\n",
      "495:\tlearn: 0.1159387\ttotal: 8m 35s\tremaining: 4.16s\n",
      "496:\tlearn: 0.1159215\ttotal: 8m 36s\tremaining: 3.12s\n",
      "497:\tlearn: 0.1158599\ttotal: 8m 37s\tremaining: 2.08s\n",
      "498:\tlearn: 0.1158166\ttotal: 8m 38s\tremaining: 1.04s\n",
      "499:\tlearn: 0.1158002\ttotal: 8m 39s\tremaining: 0us\n",
      "Для полной выборки f1_result =  0.73\n",
      "{'iterations': 500, 'random_seed': 30}\n",
      "CPU times: user 27min 34s, sys: 2min 31s, total: 30min 6s\n",
      "Wall time: 30min 15s\n"
     ]
    }
   ],
   "source": [
    "%%time\n",
    "params = {'random_seed': [10, 20, 30],\n",
    "          'iterations': [200, 500]}\n",
    "f1_result, params_good = ml(CatBoostClassifier(), features_vector, target_data, params)\n",
    "\n",
    "print(F'Для полной выборки f1_result = {f1_result: ,.2f}')\n",
    "print(params_good)"
   ]
  },
  {
   "cell_type": "markdown",
   "metadata": {},
   "source": [
    "MultinomialNB"
   ]
  },
  {
   "cell_type": "code",
   "execution_count": 76,
   "metadata": {},
   "outputs": [
    {
     "name": "stdout",
     "output_type": "stream",
     "text": [
      "Для сбалансированной выборки f1_result =  0.88\n",
      "{'alpha': 0.5, 'fit_prior': False}\n",
      "CPU times: user 289 ms, sys: 0 ns, total: 289 ms\n",
      "Wall time: 295 ms\n"
     ]
    }
   ],
   "source": [
    "%%time\n",
    "params={'alpha': [0.1, 0.5, 1], 'fit_prior': [True, False]}\n",
    "\n",
    "f1_result, params_good = ml(MultinomialNB(), tf_idf_train, target, params)\n",
    "\n",
    "print(F'Для сбалансированной выборки f1_result = {f1_result: ,.2f}')\n",
    "print(params_good)"
   ]
  },
  {
   "cell_type": "code",
   "execution_count": 77,
   "metadata": {},
   "outputs": [
    {
     "name": "stdout",
     "output_type": "stream",
     "text": [
      "Для полной выборки f1_result =  0.69\n",
      "{'alpha': 0.5, 'fit_prior': True}\n",
      "CPU times: user 1.24 s, sys: 1.21 ms, total: 1.24 s\n",
      "Wall time: 1.25 s\n"
     ]
    }
   ],
   "source": [
    "%%time\n",
    "params={'alpha': [0.1, 0.5, 1], 'fit_prior': [True, False]}\n",
    "\n",
    "f1_result, params_good = ml(MultinomialNB(), features_vector, target_data, params)\n",
    "\n",
    "print(F'Для полной выборки f1_result = {f1_result: ,.2f}')\n",
    "print(params_good)"
   ]
  },
  {
   "cell_type": "markdown",
   "metadata": {},
   "source": [
    "LGBMClassifier"
   ]
  },
  {
   "cell_type": "code",
   "execution_count": 78,
   "metadata": {},
   "outputs": [
    {
     "name": "stdout",
     "output_type": "stream",
     "text": [
      "Для сбалансированной выборки f1_result =  0.87\n",
      "{'max_depth': 13, 'n_estimators': 150}\n",
      "CPU times: user 1min 42s, sys: 0 ns, total: 1min 42s\n",
      "Wall time: 1min 42s\n"
     ]
    }
   ],
   "source": [
    "%%time\n",
    "params = {'n_estimators': [120, 150], 'max_depth': [13]}\n",
    "\n",
    "f1_result, params_good = ml(LGBMClassifier(), tf_idf_train, target, params)\n",
    "\n",
    "print(F'Для сбалансированной выборки f1_result = {f1_result: ,.2f}')\n",
    "print(params_good)"
   ]
  },
  {
   "cell_type": "code",
   "execution_count": 79,
   "metadata": {},
   "outputs": [
    {
     "name": "stdout",
     "output_type": "stream",
     "text": [
      "Для полной выборки f1_result =  0.74\n",
      "{'max_depth': 20, 'n_estimators': 150}\n",
      "CPU times: user 5min 27s, sys: 0 ns, total: 5min 27s\n",
      "Wall time: 5min 27s\n"
     ]
    }
   ],
   "source": [
    "%%time\n",
    "\n",
    "X_features = features_vector.astype('float32') #данная модель требует тип данных 'float32', преобразовываем\n",
    "X_target = target_data.astype('float32')   \n",
    "\n",
    "params = {'n_estimators': [150], 'max_depth': [13, 20]}\n",
    "\n",
    "f1_result, params_good = ml(LGBMClassifier(), X_features, X_target, params)\n",
    "\n",
    "print(F'Для полной выборки f1_result = {f1_result: ,.2f}')\n",
    "print(params_good)"
   ]
  },
  {
   "cell_type": "markdown",
   "metadata": {},
   "source": [
    "Модели показали следующие результаты на обучающей сбалансированной выборки выборке:\n",
    "- LogisticRegression: f1_result =  0.90 ('C': 7, 'fit_intercept': False, 'max_iter': 9)\n",
    "- CatBoostClassifier: f1_result =  0.87 ('iterations': 200, 'random_seed': 20)\n",
    "- MultinomialNB: f1_result =  0.88 ('alpha': 0.5, 'fit_prior': False)\n",
    "- LGBMClassifier: f1_result =  0.87 ('max_depth': 13, 'n_estimators': 150)"
   ]
  },
  {
   "cell_type": "markdown",
   "metadata": {},
   "source": [
    "Модели показали следующие результаты на обучающей сбалансированной выборки выборке:\n",
    "\n",
    "- LogisticRegression: f1_result =  0.72 {'C': 7, 'fit_intercept': False, 'max_iter': 12}\n",
    "- CatBoostClassifier: f1_result = 0.73 ('iterations': 500, 'random_seed': 30)\n",
    "- MultinomialNB: f1_result =  0.69 {'alpha': 0.5, 'fit_prior': True}\n",
    "- LGBMClassifier: f1_result = 0.74 ('max_depth': 20, 'n_estimators': 150)"
   ]
  },
  {
   "cell_type": "markdown",
   "metadata": {},
   "source": [
    "### Тестовая выборка"
   ]
  },
  {
   "cell_type": "code",
   "execution_count": 80,
   "metadata": {},
   "outputs": [],
   "source": [
    "def test_ml(model, x_features, x_target, y_features, y_target):\n",
    "    model.fit(x_features, x_target)\n",
    "    predict = model.predict(y_features)\n",
    "    f1_result = f1_score(y_target, predict)\n",
    "    \n",
    "    df_ml = pd.DataFrame(target_test)\n",
    "    df_ml['predict'] = predict\n",
    "    df_ml['values'] = predict\n",
    "    df = df_ml.pivot_table(values='values', index='predict', columns='toxic', aggfunc='count')\n",
    "    sns.heatmap(df, annot=True, center= 0, cmap= 'YlGnBu', fmt =\"d\");\n",
    "    \n",
    "    return f1_result\n",
    "    print(F'На сбаланстрованной выборке f1_result = {f1_result: ,.2f}')"
   ]
  },
  {
   "cell_type": "markdown",
   "metadata": {},
   "source": [
    "LogisticRegression"
   ]
  },
  {
   "cell_type": "code",
   "execution_count": 81,
   "metadata": {},
   "outputs": [
    {
     "name": "stdout",
     "output_type": "stream",
     "text": [
      "На сбаланстрованной выборке f1_result =  0.67\n",
      "CPU times: user 2.52 s, sys: 0 ns, total: 2.52 s\n",
      "Wall time: 2.47 s\n"
     ]
    },
    {
     "data": {
      "image/png": "[encoded data removed]",
      "text/plain": [
       "<Figure size 432x288 with 2 Axes>"
      ]
     },
     "metadata": {},
     "output_type": "display_data"
    }
   ],
   "source": [
    "%%time\n",
    "model = LogisticRegression(C=9, fit_intercept=False, max_iter=9, random_state=12568)\n",
    "f1_result = test_ml(model, tf_idf_train, target, tf_idf_test, target_test)\n",
    "print(F'На сбаланстрованной выборке f1_result = {f1_result: ,.2f}')"
   ]
  },
  {
   "cell_type": "markdown",
   "metadata": {},
   "source": [
    "По графику видно, что на тестовой несбалансированной выборке модель справилась не так хорошо, как на обучающей. Предсказано 13% ложноотрицательных и 9% ложноположительных ответов. Модель присвоила положительную классификацию 2775 наблюдениям (истинноположительных 1634), и в половине случаев (1294) ошиблась. Модель имеет признаки переобучения."
   ]
  },
  {
   "cell_type": "code",
   "execution_count": 82,
   "metadata": {},
   "outputs": [
    {
     "name": "stdout",
     "output_type": "stream",
     "text": [
      "На полной выборке f1_result =  0.73\n",
      "CPU times: user 3.22 s, sys: 2.22 s, total: 5.44 s\n",
      "Wall time: 5.44 s\n"
     ]
    },
    {
     "data": {
      "image/png": "[encoded data removed]",
      "text/plain": [
       "<Figure size 432x288 with 2 Axes>"
      ]
     },
     "metadata": {},
     "output_type": "display_data"
    }
   ],
   "source": [
    "%%time\n",
    "model = LogisticRegression(C=7, fit_intercept=False, max_iter=12, random_state=12568)\n",
    "f1_result = test_ml(model, features_vector, target_data, features_vector_test, target_test)\n",
    "print(F'На полной выборке f1_result = {f1_result: ,.2f}')"
   ]
  },
  {
   "cell_type": "markdown",
   "metadata": {},
   "source": [
    "Модель LogisticRegression обученная на полной несбалансированной выборке показала такой же хороший результат, как и на обучающей. Предсказано 28% ложноотрицательных и 3,5% ложноположительных ответов. Модель присвоила положительную классификацию 1673 наблюдениям (истинноположительных 1634), и в 1/3 случаев (501) ошиблась."
   ]
  },
  {
   "cell_type": "markdown",
   "metadata": {},
   "source": [
    "CatBoostClassifier"
   ]
  },
  {
   "cell_type": "code",
   "execution_count": 83,
   "metadata": {
    "scrolled": true
   },
   "outputs": [
    {
     "name": "stdout",
     "output_type": "stream",
     "text": [
      " На сбалансированной выборке f1_result =  0.74\n"
     ]
    },
    {
     "data": {
      "image/png": "[encoded data removed]",
      "text/plain": [
       "<Figure size 432x288 with 2 Axes>"
      ]
     },
     "metadata": {},
     "output_type": "display_data"
    }
   ],
   "source": [
    "%%time\n",
    "cat = CatBoostClassifier(random_seed=20, iterations=200, eval_metric=\"F1\")\n",
    "cat.fit(tf_idf_train, target, verbose=False); #plot=True\n",
    "predict = cat.predict(tf_idf_test)\n",
    "f1_result = f1_score(target_test, predict)\n",
    "df_cb = pd.DataFrame(target_test)\n",
    "df_cb['predict'] = predict\n",
    "df_cb['values'] = predict\n",
    "df = df_cb.pivot_table(values='values', index='predict', columns='toxic', aggfunc='count')\n",
    "sns.heatmap(df, annot=True, center= 0, cmap= 'YlGnBu', fmt =\"d\");\n",
    "print(F' На сбалансированной выборке f1_result = {f1_result: ,.2f}')"
   ]
  },
  {
   "cell_type": "markdown",
   "metadata": {},
   "source": [
    "Предсказано 17.9% ложноотрицательных и 5% ложноположительных ответов. Модель присвоила положительную классификацию 2037 (истинноположительных 1634) наблюдениям, и ошиблась в 1/3 случаев."
   ]
  },
  {
   "cell_type": "code",
   "execution_count": 84,
   "metadata": {},
   "outputs": [
    {
     "name": "stdout",
     "output_type": "stream",
     "text": [
      "На полной выборке f1_result =  0.75\n"
     ]
    },
    {
     "data": {
      "image/png": "[encoded data removed]",
      "text/plain": [
       "<Figure size 432x288 with 2 Axes>"
      ]
     },
     "metadata": {},
     "output_type": "display_data"
    }
   ],
   "source": [
    "%%time\n",
    "cat = CatBoostClassifier(random_seed=30, iterations=500, eval_metric=\"F1\")\n",
    "cat.fit(features_vector, target_data, verbose=False); # plot=True\n",
    "predict = cat.predict(features_vector_test)\n",
    "f1_result = f1_score(target_test, predict)\n",
    "df_cb = pd.DataFrame(target_test)\n",
    "df_cb['predict'] = predict\n",
    "df_cb['values'] = predict\n",
    "df = df_cb.pivot_table(values='values', index='predict', columns='toxic', aggfunc='count')\n",
    "sns.heatmap(df, annot=True, center= 0, cmap= 'YlGnBu', fmt =\"d\");\n",
    "print(F'На полной выборке f1_result = {f1_result: ,.2f}')"
   ]
  },
  {
   "cell_type": "markdown",
   "metadata": {},
   "source": [
    "Предсказано 36,5% ложноотрицательных и 0,7% ложноположительных ответов. Модель присвоила положительную классификацию 1137 (истинноположительных 1634) наблюдениям, и ошиблась в 9% случаев. Однако, модель имеет признаки переобучени, большой процент потерь токсичных сообщений"
   ]
  },
  {
   "cell_type": "markdown",
   "metadata": {},
   "source": [
    "MultinomialNB"
   ]
  },
  {
   "cell_type": "code",
   "execution_count": 85,
   "metadata": {},
   "outputs": [
    {
     "name": "stdout",
     "output_type": "stream",
     "text": [
      "На сбаланстрованной выборке f1_result =  0.62\n",
      "CPU times: user 98.7 ms, sys: 44.1 ms, total: 143 ms\n",
      "Wall time: 140 ms\n"
     ]
    },
    {
     "data": {
      "image/png": "[encoded data removed]",
      "text/plain": [
       "<Figure size 432x288 with 2 Axes>"
      ]
     },
     "metadata": {},
     "output_type": "display_data"
    }
   ],
   "source": [
    "%%time\n",
    "model = MultinomialNB(alpha=0.5, fit_prior=False)\n",
    "f1_result = test_ml(model, tf_idf_train, target, tf_idf_test, target_test)\n",
    "print(F'На сбаланстрованной выборке f1_result = {f1_result: ,.2f}')"
   ]
  },
  {
   "cell_type": "markdown",
   "metadata": {},
   "source": [
    "Предсказано 11.9% ложноотрицательных и 11.3% ложноположительных ответов. Модель присвоила положительную классификацию 3035 (истинноположительных 1604) наблюдениям, и ошиблась в 53,4% случаев. Модель имеет признаки переобучения, однвко у нее самый маленький процент потерь."
   ]
  },
  {
   "cell_type": "code",
   "execution_count": 86,
   "metadata": {},
   "outputs": [
    {
     "name": "stdout",
     "output_type": "stream",
     "text": [
      "На полной выборке f1_result =  0.68\n",
      "CPU times: user 121 ms, sys: 62.2 ms, total: 183 ms\n",
      "Wall time: 162 ms\n"
     ]
    },
    {
     "data": {
      "image/png": "[encoded data removed]",
      "text/plain": [
       "<Figure size 432x288 with 2 Axes>"
      ]
     },
     "metadata": {},
     "output_type": "display_data"
    }
   ],
   "source": [
    "%%time\n",
    "model = MultinomialNB(alpha=0.5, fit_prior=False)\n",
    "f1_result = test_ml(model, features_vector, target_data, features_vector_test, target_test)\n",
    "print(F'На полной выборке f1_result = {f1_result: ,.2f}')"
   ]
  },
  {
   "cell_type": "markdown",
   "metadata": {},
   "source": [
    "Предсказано 11.9% ложноотрицательных и 11.3% ложноположительных ответов. Модель присвоила положительную классификацию 3035 (истинноположительных 1604) наблюдениям, и ошиблась в 53,4% случаев. Модель имеет признаки переобучения, однвко у нее самый маленький процент потерь."
   ]
  },
  {
   "cell_type": "markdown",
   "metadata": {},
   "source": [
    "LGBMClassifier"
   ]
  },
  {
   "cell_type": "code",
   "execution_count": 87,
   "metadata": {},
   "outputs": [
    {
     "name": "stdout",
     "output_type": "stream",
     "text": [
      "На сбаланстрованной выборке f1_result =  0.74\n",
      "CPU times: user 21.9 s, sys: 0 ns, total: 21.9 s\n",
      "Wall time: 22.1 s\n"
     ]
    },
    {
     "data": {
      "image/png": "[encoded data removed]",
      "text/plain": [
       "<Figure size 432x288 with 2 Axes>"
      ]
     },
     "metadata": {},
     "output_type": "display_data"
    }
   ],
   "source": [
    "%%time\n",
    "\n",
    "model = LGBMClassifier(max_depth=13, n_estimators=150, random_state=12568)\n",
    "f1_result = test_ml(model, tf_idf_train, target, tf_idf_test, target_test)\n",
    "print(F'На сбаланстрованной выборке f1_result = {f1_result: ,.2f}')"
   ]
  },
  {
   "cell_type": "markdown",
   "metadata": {},
   "source": [
    "Предсказано 18.8% ложноотрицательных и 5,9% ложноположительных ответов. Модель присвоила положительную классификацию 2007 (истинноположительных 1604) наблюдениям, и ошиблась в 1/3 случаев."
   ]
  },
  {
   "cell_type": "code",
   "execution_count": 88,
   "metadata": {},
   "outputs": [
    {
     "name": "stdout",
     "output_type": "stream",
     "text": [
      "На полной выборке f1_result =  0.76\n",
      "CPU times: user 1min 17s, sys: 0 ns, total: 1min 17s\n",
      "Wall time: 1min 17s\n"
     ]
    },
    {
     "data": {
      "image/png": "[encoded data removed]",
      "text/plain": [
       "<Figure size 432x288 with 2 Axes>"
      ]
     },
     "metadata": {},
     "output_type": "display_data"
    }
   ],
   "source": [
    "%%time\n",
    "\n",
    "Y_features = features_vector_test.astype('float32') #данная модель требует тип данных 'float32', преобразовываем\n",
    "Y_target = target_test.astype('float32')   \n",
    "\n",
    "model = LGBMClassifier(max_depth=20, n_estimators=150, random_state=12568)\n",
    "f1_result = test_ml(model, X_features, X_target, Y_features, Y_target)\n",
    "print(F'На полной выборке f1_result = {f1_result: ,.2f}')"
   ]
  },
  {
   "cell_type": "markdown",
   "metadata": {},
   "source": [
    "Предсказано 35% ложноотрицательных и 0,7% ложноположительных ответов. Модель присвоила положительную классификацию 1166 (истинноположительных 1634) наблюдениям, и ошиблась в 9% случаев."
   ]
  },
  {
   "cell_type": "markdown",
   "metadata": {},
   "source": [
    "DummyClassifier"
   ]
  },
  {
   "cell_type": "code",
   "execution_count": 89,
   "metadata": {},
   "outputs": [
    {
     "name": "stdout",
     "output_type": "stream",
     "text": [
      "На сбаланстрованной выборке f1_result =  0.00\n"
     ]
    },
    {
     "data": {
      "image/png": "[encoded data removed]",
      "text/plain": [
       "<Figure size 432x288 with 2 Axes>"
      ]
     },
     "metadata": {},
     "output_type": "display_data"
    }
   ],
   "source": [
    "model = DummyClassifier(strategy=\"most_frequent\")\n",
    "f1_result = test_ml(model, tf_idf_train, target, tf_idf_test, target_test)\n",
    "print(F'На сбаланстрованной выборке f1_result = {f1_result: ,.2f}')"
   ]
  },
  {
   "cell_type": "code",
   "execution_count": 90,
   "metadata": {},
   "outputs": [
    {
     "name": "stdout",
     "output_type": "stream",
     "text": [
      "На полной выборке f1_result =  0.00\n"
     ]
    },
    {
     "data": {
      "image/png": "[encoded data removed]",
      "text/plain": [
       "<Figure size 432x288 with 2 Axes>"
      ]
     },
     "metadata": {},
     "output_type": "display_data"
    }
   ],
   "source": [
    "model = DummyClassifier(strategy=\"most_frequent\")\n",
    "f1_result = test_ml(model, X_features, X_target, Y_features, Y_target)\n",
    "print(F'На полной выборке f1_result = {f1_result: ,.2f}')"
   ]
  },
  {
   "cell_type": "markdown",
   "metadata": {},
   "source": [
    "> визуализация данных великая вещь)) Dummy без разбора всем присвоила 1))"
   ]
  },
  {
   "cell_type": "markdown",
   "metadata": {},
   "source": [
    "Результаты на тестовой сбалансированой выборке:\n",
    "- LogisticRegression: f1_result =  0.65 (не соответствует техническому заданию)\n",
    "- CatBoostClassifier: f1_result = 0.72 (не соответствует техническому заданию)\n",
    "- MultinomialNB: f1_result = 0.61 (не соответствует техническому заданию)\n",
    "- LGBMClassifier: f1_result = 0.72 (не соответствует техническому заданию)\n",
    "\n",
    "- *DummyClassifier: f1_result =  0.18 (для сравнения адекватности моделей)*"
   ]
  },
  {
   "cell_type": "markdown",
   "metadata": {},
   "source": [
    "Результаты на тестовой полной выборке:\n",
    "- LogisticRegression: f1_result =  0.73 (не соответствует техническому заданию)\n",
    "- **CatBoostClassifier: f1_result = 0.75 (соответствует техническому заданию)**\n",
    "- MultinomialNB: f1_result = 0.69 (не соответствует техническому заданию)\n",
    "- **LGBMClassifier: f1_result = 0.76 (соответствует техническому заданию)**"
   ]
  },
  {
   "cell_type": "markdown",
   "metadata": {},
   "source": [
    "## Выводы"
   ]
  },
  {
   "cell_type": "markdown",
   "metadata": {},
   "source": [
    "1. Подготовка:\n",
    "- Нам представлен датафрейм текстовых комментариев на английском языке, содержащий 159571 наблюдений и 2 признака.\n",
    "Целевой признак - токсичность комментария. Датафрейм содержит 10,2% наблюдения, где признак 1(положительный) и 89,8% наблюдений с нулевым признаком.\n",
    "- Для работы с текстовыми данные лемматизированы и очищены.\n",
    "- Разделили данные на обучающую и тестовую выборку 9/1\n",
    "- Подготовели 2 набора обучающих и тестовых выборок:\n",
    "    - Полная выборка с CountVectorizer\n",
    "    - Сбалансированная выборка с TfidfVectorizer\n",
    "- Подготовили features и target для обучения и тестирования"
   ]
  },
  {
   "cell_type": "markdown",
   "metadata": {},
   "source": [
    "2. Обучение проведено на следующих моделях:\n",
    "- LogisticRegression: f1_result = 0.89 ('fit_intercept': False)\n",
    "- CatBoostClassifier: f1_result = 0.80 ('depth': 10, 'iterations': 200, 'l2_leaf_reg': 4, 'learning_rate': 0.15)\n",
    "- MultinomialNB: f1_result = 0.88 ('alpha': 0.5, 'fit_prior': True)\n",
    "- LGBMClassifier: f1_result = 0.84 ('max_depth': 10, 'n_estimators': 100)"
   ]
  },
  {
   "cell_type": "markdown",
   "metadata": {},
   "source": [
    "3. В результате тестирования на сбалансированной выборке:\n",
    "- LogisticRegression: f1_result =  0.65 (не соответствует техническому заданию). По графику видно, что на тестовой несбалансированной выборке модель справилась не так хорошо, как на обучающей. Предсказано 13% ложноотрицательных и 9% ложноположительных ответов. Модель присвоила положительную классификацию 2698 наблюдениям (истинноположительных 1604), и в половине случаев (1304) ошиблась. Модель имеет признаки переобучения.\n",
    "\n",
    "- CatBoostClassifier: f1_result = 0.72 (не соответствует техническому заданию). Предсказано 17.9% ложноотрицательных и 5% ложноположительных ответов. Модель присвоила положительную классификацию 2037 (истинноположительных 1604) наблюдениям, и ошиблась в 1/3 случаев.\n",
    "\n",
    "- MultinomialNB: f1_result = 0.61 (не соответствует техническому заданию). Предсказано 11.9% ложноотрицательных и 11.3% ложноположительных ответов. Модель присвоила положительную классификацию 3035 (истинноположительных 1604) наблюдениям, и ошиблась в 53,4% случаев. Модель имеет признаки переобучения\n",
    "\n",
    "- LGBMClassifier: f1_result = 0.72 (не соответствует техническому заданию). Предсказано 18.8% ложноотрицательных и 5,9% ложноположительных ответов. Модель присвоила положительную классификацию 2007 (истинноположительных 1604) наблюдениям, и ошиблась в 1/3 случаев.\n",
    "\n",
    "- *DummyClassifier: f1_result =  0.18 (для сравнения адекватности моделей)*"
   ]
  },
  {
   "cell_type": "markdown",
   "metadata": {},
   "source": [
    "4. В результате тестирования на полной несбалансированной выборке:\n",
    "- LogisticRegression: f1_result =  0.73 (не соответствует техническому заданию). Модель LogisticRegression обученная на полной несбалансированной выборке показала такой же хороший результат, как и на обучающей. Предсказано 28% ложноотрицательных и 3,5% ложноположительных ответов. Модель присвоила положительную классификацию 1673 наблюдениям (истинноположительных 1634), и в 1/3 случаев (501) ошиблась.\n",
    "\n",
    "- CatBoostClassifier: f1_result = 0.75 (соответствует техническому заданию). Предсказано 36,5% ложноотрицательных и 0,7% ложноположительных ответов. Модель присвоила положительную классификацию 1137 (истинноположительных 1634) наблюдениям, и ошиблась в 9% случаев. Однако, модель имеет признаки переобучени, большой процент потерь токсичных сообщений\n",
    "\n",
    "- MultinomialNB: f1_result = 0.68 (не соответствует техническому заданию). Предсказано 11.9% ложноотрицательных и 11.3% ложноположительных ответов. Модель присвоила положительную классификацию 3035 (истинноположительных 1604) наблюдениям, и ошиблась в 53,4% случаев. Модель имеет признаки переобучения\n",
    "\n",
    "- LGBMClassifier: f1_result = 0.76 (не соответствует техническому заданию). Предсказано 35% ложноотрицательных и 0,7% ложноположительных ответов. Модель присвоила положительную классификацию 1166 (истинноположительных 1634) наблюдениям, и ошиблась в 9% случаев."
   ]
  },
  {
   "cell_type": "markdown",
   "metadata": {},
   "source": [
    "**Лучший результат показала модель LGBMClassifier (f1_result = 0.76) на полной несбалансированной выборке**"
   ]
  },
  {
   "cell_type": "markdown",
   "metadata": {},
   "source": [
    "5. Модели, обученные на полной несбалансированной выорке менее всего были подвержаны переобучению."
   ]
  }
 ],
 "metadata": {
  "ExecuteTimeLog": [
   {
    "duration": 52,
    "start_time": "2022-07-19T04:20:54.350Z"
   },
   {
    "duration": 1579,
    "start_time": "2022-07-19T04:20:57.341Z"
   },
   {
    "duration": 2282,
    "start_time": "2022-07-19T04:20:58.923Z"
   },
   {
    "duration": 33,
    "start_time": "2022-07-19T04:21:15.342Z"
   },
   {
    "duration": 31,
    "start_time": "2022-07-19T04:21:57.279Z"
   },
   {
    "duration": 13,
    "start_time": "2022-07-19T04:22:45.089Z"
   },
   {
    "duration": 7,
    "start_time": "2022-07-19T04:22:59.729Z"
   },
   {
    "duration": 4,
    "start_time": "2022-07-19T04:25:00.565Z"
   },
   {
    "duration": 4,
    "start_time": "2022-07-19T04:25:17.127Z"
   },
   {
    "duration": 1898,
    "start_time": "2022-07-20T12:08:59.499Z"
   },
   {
    "duration": 2297,
    "start_time": "2022-07-20T12:09:01.400Z"
   },
   {
    "duration": 38,
    "start_time": "2022-07-20T12:09:03.699Z"
   },
   {
    "duration": 10,
    "start_time": "2022-07-20T12:09:03.739Z"
   },
   {
    "duration": 47,
    "start_time": "2022-07-20T12:09:03.751Z"
   },
   {
    "duration": 147,
    "start_time": "2022-07-20T12:09:03.801Z"
   },
   {
    "duration": 41,
    "start_time": "2022-07-20T12:09:18.150Z"
   },
   {
    "duration": 24,
    "start_time": "2022-07-20T12:09:29.715Z"
   },
   {
    "duration": 29,
    "start_time": "2022-07-20T12:09:42.387Z"
   },
   {
    "duration": 24,
    "start_time": "2022-07-20T12:10:14.267Z"
   },
   {
    "duration": 6,
    "start_time": "2022-07-20T12:10:15.011Z"
   },
   {
    "duration": 4,
    "start_time": "2022-07-20T12:10:47.917Z"
   },
   {
    "duration": 21011,
    "start_time": "2022-07-20T12:10:47.923Z"
   },
   {
    "duration": 15,
    "start_time": "2022-07-20T12:12:41.522Z"
   },
   {
    "duration": 485,
    "start_time": "2022-07-20T12:12:52.606Z"
   },
   {
    "duration": 4,
    "start_time": "2022-07-20T12:13:10.548Z"
   },
   {
    "duration": 10702,
    "start_time": "2022-07-20T12:13:36.316Z"
   },
   {
    "duration": 11,
    "start_time": "2022-07-20T12:14:03.838Z"
   },
   {
    "duration": 77,
    "start_time": "2022-07-20T12:14:12.597Z"
   },
   {
    "duration": 5,
    "start_time": "2022-07-20T12:22:22.433Z"
   },
   {
    "duration": 785,
    "start_time": "2022-07-20T12:22:22.441Z"
   },
   {
    "duration": 38,
    "start_time": "2022-07-20T12:22:23.227Z"
   },
   {
    "duration": 19,
    "start_time": "2022-07-20T12:22:23.267Z"
   },
   {
    "duration": 49,
    "start_time": "2022-07-20T12:22:23.288Z"
   },
   {
    "duration": 93,
    "start_time": "2022-07-20T12:22:23.339Z"
   },
   {
    "duration": 36,
    "start_time": "2022-07-20T12:22:23.434Z"
   },
   {
    "duration": 22,
    "start_time": "2022-07-20T12:22:23.472Z"
   },
   {
    "duration": 23,
    "start_time": "2022-07-20T12:22:23.496Z"
   },
   {
    "duration": 47,
    "start_time": "2022-07-20T12:22:23.521Z"
   },
   {
    "duration": 8,
    "start_time": "2022-07-20T12:22:23.570Z"
   },
   {
    "duration": 18866,
    "start_time": "2022-07-20T12:22:23.580Z"
   },
   {
    "duration": 27,
    "start_time": "2022-07-20T12:22:42.448Z"
   },
   {
    "duration": 5,
    "start_time": "2022-07-20T12:22:42.479Z"
   },
   {
    "duration": 10505,
    "start_time": "2022-07-20T12:22:42.485Z"
   },
   {
    "duration": 8,
    "start_time": "2022-07-20T12:22:52.992Z"
   },
   {
    "duration": 181,
    "start_time": "2022-07-20T12:22:53.002Z"
   },
   {
    "duration": 3,
    "start_time": "2022-07-20T12:23:12.290Z"
   },
   {
    "duration": 5,
    "start_time": "2022-07-20T12:25:27.516Z"
   },
   {
    "duration": 733,
    "start_time": "2022-07-20T12:25:27.523Z"
   },
   {
    "duration": 35,
    "start_time": "2022-07-20T12:25:28.258Z"
   },
   {
    "duration": 21,
    "start_time": "2022-07-20T12:25:28.296Z"
   },
   {
    "duration": 52,
    "start_time": "2022-07-20T12:25:28.319Z"
   },
   {
    "duration": 78,
    "start_time": "2022-07-20T12:25:28.373Z"
   },
   {
    "duration": 41,
    "start_time": "2022-07-20T12:25:28.463Z"
   },
   {
    "duration": 22,
    "start_time": "2022-07-20T12:25:28.506Z"
   },
   {
    "duration": 50,
    "start_time": "2022-07-20T12:25:28.530Z"
   },
   {
    "duration": 25,
    "start_time": "2022-07-20T12:25:28.583Z"
   },
   {
    "duration": 13,
    "start_time": "2022-07-20T12:25:28.610Z"
   },
   {
    "duration": 17808,
    "start_time": "2022-07-20T12:25:28.625Z"
   },
   {
    "duration": 29,
    "start_time": "2022-07-20T12:25:46.435Z"
   },
   {
    "duration": 5,
    "start_time": "2022-07-20T12:25:46.467Z"
   },
   {
    "duration": 10471,
    "start_time": "2022-07-20T12:25:46.473Z"
   },
   {
    "duration": 22,
    "start_time": "2022-07-20T12:25:56.946Z"
   },
   {
    "duration": 3555,
    "start_time": "2022-07-20T12:26:27.451Z"
   },
   {
    "duration": 4,
    "start_time": "2022-07-20T12:26:33.539Z"
   },
   {
    "duration": 6,
    "start_time": "2022-07-20T13:10:15.752Z"
   },
   {
    "duration": 797,
    "start_time": "2022-07-20T13:10:15.761Z"
   },
   {
    "duration": 28,
    "start_time": "2022-07-20T13:10:16.560Z"
   },
   {
    "duration": 6,
    "start_time": "2022-07-20T13:10:16.590Z"
   },
   {
    "duration": 46,
    "start_time": "2022-07-20T13:10:16.598Z"
   },
   {
    "duration": 73,
    "start_time": "2022-07-20T13:10:16.663Z"
   },
   {
    "duration": 44,
    "start_time": "2022-07-20T13:10:16.738Z"
   },
   {
    "duration": 21,
    "start_time": "2022-07-20T13:10:16.783Z"
   },
   {
    "duration": 27,
    "start_time": "2022-07-20T13:10:16.806Z"
   },
   {
    "duration": 3,
    "start_time": "2022-07-20T13:10:16.863Z"
   },
   {
    "duration": 12,
    "start_time": "2022-07-20T13:10:16.868Z"
   },
   {
    "duration": 20127,
    "start_time": "2022-07-20T13:10:16.882Z"
   },
   {
    "duration": 3,
    "start_time": "2022-07-20T13:10:37.011Z"
   },
   {
    "duration": 7,
    "start_time": "2022-07-20T13:10:37.016Z"
   },
   {
    "duration": 11944,
    "start_time": "2022-07-20T13:10:37.025Z"
   },
   {
    "duration": 19,
    "start_time": "2022-07-20T13:10:48.977Z"
   },
   {
    "duration": 3456,
    "start_time": "2022-07-20T13:11:13.217Z"
   },
   {
    "duration": 108,
    "start_time": "2022-07-20T13:14:20.686Z"
   },
   {
    "duration": 4,
    "start_time": "2022-07-20T13:14:21.633Z"
   },
   {
    "duration": 112938,
    "start_time": "2022-07-20T13:14:22.570Z"
   },
   {
    "duration": 47,
    "start_time": "2022-07-20T13:16:28.864Z"
   },
   {
    "duration": 65,
    "start_time": "2022-07-20T13:16:39.115Z"
   },
   {
    "duration": 41,
    "start_time": "2022-07-20T13:16:56.083Z"
   },
   {
    "duration": 4,
    "start_time": "2022-07-20T13:19:14.185Z"
   },
   {
    "duration": 7,
    "start_time": "2022-07-20T13:20:04.330Z"
   },
   {
    "duration": 7,
    "start_time": "2022-07-20T13:26:53.811Z"
   },
   {
    "duration": 6,
    "start_time": "2022-07-20T13:26:55.133Z"
   },
   {
    "duration": 3622,
    "start_time": "2022-07-20T13:27:35.031Z"
   },
   {
    "duration": 3301,
    "start_time": "2022-07-20T13:29:28.374Z"
   },
   {
    "duration": 78,
    "start_time": "2022-07-20T13:30:32.573Z"
   },
   {
    "duration": 8,
    "start_time": "2022-07-20T14:02:18.560Z"
   },
   {
    "duration": 215,
    "start_time": "2022-07-20T14:02:21.956Z"
   },
   {
    "duration": 12,
    "start_time": "2022-07-20T14:03:07.159Z"
   },
   {
    "duration": 122,
    "start_time": "2022-07-20T14:03:12.374Z"
   },
   {
    "duration": 5,
    "start_time": "2022-07-20T14:06:11.056Z"
   },
   {
    "duration": 4,
    "start_time": "2022-07-20T14:06:35.158Z"
   },
   {
    "duration": 71,
    "start_time": "2022-07-20T14:06:35.595Z"
   },
   {
    "duration": 158,
    "start_time": "2022-07-20T14:07:49.895Z"
   },
   {
    "duration": 124,
    "start_time": "2022-07-20T14:08:04.123Z"
   },
   {
    "duration": 12,
    "start_time": "2022-07-20T14:08:57.706Z"
   },
   {
    "duration": 9,
    "start_time": "2022-07-20T14:09:40.160Z"
   },
   {
    "duration": 974,
    "start_time": "2022-07-20T14:09:40.171Z"
   },
   {
    "duration": 47,
    "start_time": "2022-07-20T14:09:41.147Z"
   },
   {
    "duration": 23,
    "start_time": "2022-07-20T14:09:41.198Z"
   },
   {
    "duration": 62,
    "start_time": "2022-07-20T14:09:41.224Z"
   },
   {
    "duration": 113,
    "start_time": "2022-07-20T14:09:41.290Z"
   },
   {
    "duration": 11,
    "start_time": "2022-07-20T14:09:41.405Z"
   },
   {
    "duration": 131864,
    "start_time": "2022-07-20T14:09:41.419Z"
   },
   {
    "duration": 46,
    "start_time": "2022-07-20T14:11:53.286Z"
   },
   {
    "duration": 57,
    "start_time": "2022-07-20T14:11:53.335Z"
   },
   {
    "duration": 38,
    "start_time": "2022-07-20T14:11:53.394Z"
   },
   {
    "duration": 17,
    "start_time": "2022-07-20T14:11:53.434Z"
   },
   {
    "duration": 17,
    "start_time": "2022-07-20T14:11:53.465Z"
   },
   {
    "duration": 169,
    "start_time": "2022-07-20T14:19:35.887Z"
   },
   {
    "duration": 5,
    "start_time": "2022-07-20T14:19:54.941Z"
   },
   {
    "duration": 144640,
    "start_time": "2022-07-20T14:19:55.563Z"
   },
   {
    "duration": 499249,
    "start_time": "2022-07-20T14:24:58.556Z"
   },
   {
    "duration": 184,
    "start_time": "2022-07-20T14:33:17.807Z"
   },
   {
    "duration": 129,
    "start_time": "2022-07-20T14:33:18.012Z"
   },
   {
    "duration": 231,
    "start_time": "2022-07-20T14:40:03.591Z"
   },
   {
    "duration": 107,
    "start_time": "2022-07-20T14:42:19.955Z"
   },
   {
    "duration": 136,
    "start_time": "2022-07-20T14:42:32.708Z"
   },
   {
    "duration": 114,
    "start_time": "2022-07-20T14:43:30.726Z"
   },
   {
    "duration": 106,
    "start_time": "2022-07-20T14:43:46.560Z"
   },
   {
    "duration": 10,
    "start_time": "2022-07-20T14:45:06.076Z"
   },
   {
    "duration": 4298578,
    "start_time": "2022-07-20T14:45:13.054Z"
   },
   {
    "duration": 2996,
    "start_time": "2022-07-20T15:56:51.634Z"
   },
   {
    "duration": 45,
    "start_time": "2022-07-20T15:56:54.633Z"
   },
   {
    "duration": 2300,
    "start_time": "2022-07-20T15:58:55.451Z"
   },
   {
    "duration": 1790,
    "start_time": "2022-07-20T15:58:57.754Z"
   },
   {
    "duration": 832,
    "start_time": "2022-07-20T15:58:59.545Z"
   },
   {
    "duration": 39,
    "start_time": "2022-07-20T15:59:00.383Z"
   },
   {
    "duration": 25,
    "start_time": "2022-07-20T15:59:00.424Z"
   },
   {
    "duration": 64,
    "start_time": "2022-07-20T15:59:00.451Z"
   },
   {
    "duration": 111,
    "start_time": "2022-07-20T15:59:00.516Z"
   },
   {
    "duration": 4,
    "start_time": "2022-07-20T15:59:00.628Z"
   },
   {
    "duration": 109416,
    "start_time": "2022-07-20T15:59:00.633Z"
   },
   {
    "duration": 42,
    "start_time": "2022-07-20T16:00:50.052Z"
   },
   {
    "duration": 23,
    "start_time": "2022-07-20T16:00:50.096Z"
   },
   {
    "duration": 21,
    "start_time": "2022-07-20T16:00:50.121Z"
   },
   {
    "duration": 12,
    "start_time": "2022-07-20T16:00:50.165Z"
   },
   {
    "duration": 21,
    "start_time": "2022-07-20T16:00:50.178Z"
   },
   {
    "duration": 3659,
    "start_time": "2022-07-20T16:00:50.200Z"
   },
   {
    "duration": 64,
    "start_time": "2022-07-20T16:01:23.476Z"
   },
   {
    "duration": 190,
    "start_time": "2022-07-20T16:02:09.605Z"
   },
   {
    "duration": 4,
    "start_time": "2022-07-20T16:02:15.014Z"
   },
   {
    "duration": 49185,
    "start_time": "2022-07-20T16:02:18.207Z"
   },
   {
    "duration": 1852,
    "start_time": "2022-07-20T23:18:02.876Z"
   },
   {
    "duration": 2714,
    "start_time": "2022-07-20T23:18:04.730Z"
   },
   {
    "duration": 39,
    "start_time": "2022-07-20T23:18:07.446Z"
   },
   {
    "duration": 13,
    "start_time": "2022-07-20T23:18:07.487Z"
   },
   {
    "duration": 61,
    "start_time": "2022-07-20T23:18:07.502Z"
   },
   {
    "duration": 95,
    "start_time": "2022-07-20T23:18:09.953Z"
   },
   {
    "duration": 3,
    "start_time": "2022-07-20T23:18:10.929Z"
   },
   {
    "duration": 95490,
    "start_time": "2022-07-20T23:18:12.312Z"
   },
   {
    "duration": 24,
    "start_time": "2022-07-20T23:19:52.708Z"
   },
   {
    "duration": 23,
    "start_time": "2022-07-20T23:19:53.500Z"
   },
   {
    "duration": 26,
    "start_time": "2022-07-20T23:19:54.252Z"
   },
   {
    "duration": 7,
    "start_time": "2022-07-20T23:19:54.931Z"
   },
   {
    "duration": 6,
    "start_time": "2022-07-20T23:19:55.939Z"
   },
   {
    "duration": 3595,
    "start_time": "2022-07-20T23:19:57.292Z"
   },
   {
    "duration": 61,
    "start_time": "2022-07-20T23:20:04.149Z"
   },
   {
    "duration": 3,
    "start_time": "2022-07-20T23:20:09.977Z"
   },
   {
    "duration": 1700,
    "start_time": "2022-07-21T00:05:46.286Z"
   },
   {
    "duration": 848,
    "start_time": "2022-07-21T00:05:54.377Z"
   },
   {
    "duration": 44,
    "start_time": "2022-07-21T00:05:55.227Z"
   },
   {
    "duration": 12,
    "start_time": "2022-07-21T00:05:55.279Z"
   },
   {
    "duration": 54,
    "start_time": "2022-07-21T00:05:55.294Z"
   },
   {
    "duration": 90,
    "start_time": "2022-07-21T00:05:55.350Z"
   },
   {
    "duration": 3,
    "start_time": "2022-07-21T00:05:56.077Z"
   },
   {
    "duration": 96937,
    "start_time": "2022-07-21T00:05:56.644Z"
   },
   {
    "duration": 22,
    "start_time": "2022-07-21T00:07:33.584Z"
   },
   {
    "duration": 38,
    "start_time": "2022-07-21T00:07:33.608Z"
   },
   {
    "duration": 49,
    "start_time": "2022-07-21T00:07:33.648Z"
   },
   {
    "duration": 9,
    "start_time": "2022-07-21T00:07:33.698Z"
   },
   {
    "duration": 40,
    "start_time": "2022-07-21T00:07:33.709Z"
   },
   {
    "duration": 3506,
    "start_time": "2022-07-21T00:07:33.750Z"
   },
   {
    "duration": 61,
    "start_time": "2022-07-21T00:07:37.258Z"
   },
   {
    "duration": 126,
    "start_time": "2022-07-21T00:08:42.329Z"
   },
   {
    "duration": 4,
    "start_time": "2022-07-21T00:09:03.320Z"
   },
   {
    "duration": 10,
    "start_time": "2022-07-21T00:09:20.441Z"
   },
   {
    "duration": 10,
    "start_time": "2022-07-21T00:10:27.977Z"
   },
   {
    "duration": 15,
    "start_time": "2022-07-21T00:11:27.159Z"
   },
   {
    "duration": 10,
    "start_time": "2022-07-21T00:11:34.095Z"
   },
   {
    "duration": 11,
    "start_time": "2022-07-21T00:15:48.190Z"
   },
   {
    "duration": 10,
    "start_time": "2022-07-21T00:15:52.142Z"
   },
   {
    "duration": 11,
    "start_time": "2022-07-21T00:19:10.074Z"
   },
   {
    "duration": 11,
    "start_time": "2022-07-21T00:27:51.148Z"
   },
   {
    "duration": 10,
    "start_time": "2022-07-21T00:29:13.544Z"
   },
   {
    "duration": 560,
    "start_time": "2022-07-21T00:32:58.113Z"
   },
   {
    "duration": 1045,
    "start_time": "2022-07-21T00:33:31.250Z"
   },
   {
    "duration": 515,
    "start_time": "2022-07-21T00:34:37.068Z"
   },
   {
    "duration": 530,
    "start_time": "2022-07-21T00:34:43.532Z"
   },
   {
    "duration": 133,
    "start_time": "2022-07-21T00:35:01.085Z"
   },
   {
    "duration": 11,
    "start_time": "2022-07-21T00:37:47.883Z"
   },
   {
    "duration": 5699,
    "start_time": "2022-07-21T00:40:40.170Z"
   },
   {
    "duration": 11,
    "start_time": "2022-07-21T00:44:10.472Z"
   },
   {
    "duration": 4,
    "start_time": "2022-07-21T00:44:23.704Z"
   },
   {
    "duration": 123599,
    "start_time": "2022-07-21T00:44:28.592Z"
   },
   {
    "duration": 1112968,
    "start_time": "2022-07-21T00:46:46.558Z"
   },
   {
    "duration": 81,
    "start_time": "2022-07-21T01:05:19.529Z"
   },
   {
    "duration": 299317,
    "start_time": "2022-07-21T01:05:24.924Z"
   },
   {
    "duration": 4037,
    "start_time": "2022-07-21T01:10:24.244Z"
   },
   {
    "duration": 1982356,
    "start_time": "2022-07-21T01:10:31.965Z"
   },
   {
    "duration": 15,
    "start_time": "2022-07-21T01:43:34.338Z"
   },
   {
    "duration": 1027964,
    "start_time": "2022-07-21T01:43:44.088Z"
   },
   {
    "duration": 1396,
    "start_time": "2022-07-21T02:00:52.054Z"
   },
   {
    "duration": 673,
    "start_time": "2022-07-21T02:03:35.277Z"
   },
   {
    "duration": 502,
    "start_time": "2022-07-21T02:03:49.382Z"
   },
   {
    "duration": 122,
    "start_time": "2022-07-21T02:04:02.414Z"
   },
   {
    "duration": 2062752,
    "start_time": "2022-07-21T02:05:17.784Z"
   },
   {
    "duration": 6481,
    "start_time": "2022-07-21T02:39:57.606Z"
   },
   {
    "duration": 5300,
    "start_time": "2022-07-21T02:40:07.165Z"
   },
   {
    "duration": 92,
    "start_time": "2022-07-21T02:40:12.468Z"
   },
   {
    "duration": 938,
    "start_time": "2022-07-21T02:40:12.562Z"
   },
   {
    "duration": 16,
    "start_time": "2022-07-21T02:41:22.440Z"
   },
   {
    "duration": 10,
    "start_time": "2022-07-21T02:41:56.049Z"
   },
   {
    "duration": 10,
    "start_time": "2022-07-21T02:42:08.577Z"
   },
   {
    "duration": 10,
    "start_time": "2022-07-21T02:42:40.891Z"
   },
   {
    "duration": 16,
    "start_time": "2022-07-21T02:43:08.099Z"
   },
   {
    "duration": 11,
    "start_time": "2022-07-21T02:43:15.835Z"
   },
   {
    "duration": 18,
    "start_time": "2022-07-21T02:44:08.277Z"
   },
   {
    "duration": 9,
    "start_time": "2022-07-21T02:44:52.736Z"
   },
   {
    "duration": 265,
    "start_time": "2022-07-21T02:46:11.105Z"
   },
   {
    "duration": 364,
    "start_time": "2022-07-21T02:46:30.346Z"
   },
   {
    "duration": 248,
    "start_time": "2022-07-21T02:46:39.258Z"
   },
   {
    "duration": 237,
    "start_time": "2022-07-21T02:46:50.571Z"
   },
   {
    "duration": 261,
    "start_time": "2022-07-21T02:52:39.911Z"
   },
   {
    "duration": 277891,
    "start_time": "2022-07-21T02:53:55.665Z"
   },
   {
    "duration": 0,
    "start_time": "2022-07-21T02:58:33.557Z"
   },
   {
    "duration": 0,
    "start_time": "2022-07-21T02:58:33.559Z"
   },
   {
    "duration": 0,
    "start_time": "2022-07-21T03:00:16.124Z"
   },
   {
    "duration": 257,
    "start_time": "2022-07-21T03:00:29.141Z"
   },
   {
    "duration": 71894,
    "start_time": "2022-07-21T03:00:46.902Z"
   },
   {
    "duration": 590534,
    "start_time": "2022-07-21T03:01:58.798Z"
   },
   {
    "duration": 72252,
    "start_time": "2022-07-21T03:46:21.852Z"
   },
   {
    "duration": 3,
    "start_time": "2022-07-21T03:47:51.850Z"
   },
   {
    "duration": 3,
    "start_time": "2022-07-21T03:48:00.634Z"
   },
   {
    "duration": 234,
    "start_time": "2022-07-21T03:48:01.587Z"
   },
   {
    "duration": 72674,
    "start_time": "2022-07-21T03:48:27.945Z"
   },
   {
    "duration": 3,
    "start_time": "2022-07-21T03:49:40.621Z"
   },
   {
    "duration": 282,
    "start_time": "2022-07-21T03:49:40.626Z"
   },
   {
    "duration": 591,
    "start_time": "2022-07-21T03:51:41.534Z"
   },
   {
    "duration": 71366,
    "start_time": "2022-07-21T03:51:53.579Z"
   },
   {
    "duration": 73670,
    "start_time": "2022-07-21T03:53:07.442Z"
   },
   {
    "duration": 1212308,
    "start_time": "2022-07-21T03:54:28.045Z"
   },
   {
    "duration": 15,
    "start_time": "2022-07-21T04:14:40.355Z"
   },
   {
    "duration": 244,
    "start_time": "2022-07-21T04:14:40.372Z"
   },
   {
    "duration": 12832,
    "start_time": "2022-07-21T04:22:42.891Z"
   },
   {
    "duration": 358,
    "start_time": "2022-07-21T04:23:27.163Z"
   },
   {
    "duration": 348339,
    "start_time": "2022-07-21T04:38:50.051Z"
   },
   {
    "duration": 335458,
    "start_time": "2022-07-21T04:44:38.392Z"
   },
   {
    "duration": 12,
    "start_time": "2022-07-21T04:50:13.856Z"
   },
   {
    "duration": 0,
    "start_time": "2022-07-21T04:50:13.870Z"
   },
   {
    "duration": 56,
    "start_time": "2022-07-21T04:50:44.401Z"
   },
   {
    "duration": 94,
    "start_time": "2022-07-21T04:51:27.442Z"
   },
   {
    "duration": 4,
    "start_time": "2022-07-21T04:51:43.051Z"
   },
   {
    "duration": 454,
    "start_time": "2022-07-21T04:51:57.620Z"
   },
   {
    "duration": 22,
    "start_time": "2022-07-21T04:53:40.055Z"
   },
   {
    "duration": 315,
    "start_time": "2022-07-21T04:54:35.697Z"
   },
   {
    "duration": 868015,
    "start_time": "2022-07-21T04:55:16.771Z"
   },
   {
    "duration": 9,
    "start_time": "2022-07-21T05:09:44.788Z"
   },
   {
    "duration": 300,
    "start_time": "2022-07-21T05:09:44.798Z"
   },
   {
    "duration": 38254,
    "start_time": "2022-07-21T05:14:15.722Z"
   },
   {
    "duration": 283,
    "start_time": "2022-07-21T05:15:06.515Z"
   },
   {
    "duration": 324963,
    "start_time": "2022-07-21T05:15:22.699Z"
   },
   {
    "duration": 251,
    "start_time": "2022-07-21T05:20:47.664Z"
   },
   {
    "duration": 136770,
    "start_time": "2022-07-21T05:21:10.004Z"
   },
   {
    "duration": 244,
    "start_time": "2022-07-21T05:23:26.776Z"
   },
   {
    "duration": 2871136,
    "start_time": "2022-07-21T05:27:24.073Z"
   },
   {
    "duration": 1594420,
    "start_time": "2022-07-21T06:15:29.534Z"
   },
   {
    "duration": 510182,
    "start_time": "2022-07-21T06:42:31.493Z"
   },
   {
    "duration": 111010,
    "start_time": "2022-07-21T06:51:28.958Z"
   },
   {
    "duration": 265,
    "start_time": "2022-07-21T06:53:19.970Z"
   },
   {
    "duration": 84147,
    "start_time": "2022-07-21T06:54:12.134Z"
   },
   {
    "duration": 334,
    "start_time": "2022-07-21T06:55:36.283Z"
   },
   {
    "duration": 72026,
    "start_time": "2022-07-21T06:56:59.844Z"
   },
   {
    "duration": 241,
    "start_time": "2022-07-21T06:58:11.873Z"
   },
   {
    "duration": 954,
    "start_time": "2022-07-21T07:09:04.048Z"
   },
   {
    "duration": 1330349,
    "start_time": "2022-07-21T07:09:17.148Z"
   },
   {
    "duration": 0,
    "start_time": "2022-07-21T07:39:02.827Z"
   },
   {
    "duration": 4,
    "start_time": "2022-07-21T07:41:54.374Z"
   },
   {
    "duration": 923,
    "start_time": "2022-07-21T07:41:56.443Z"
   },
   {
    "duration": 35,
    "start_time": "2022-07-21T07:41:58.010Z"
   },
   {
    "duration": 8,
    "start_time": "2022-07-21T07:41:58.754Z"
   },
   {
    "duration": 43,
    "start_time": "2022-07-21T07:41:59.570Z"
   },
   {
    "duration": 84,
    "start_time": "2022-07-21T07:42:00.331Z"
   },
   {
    "duration": 4,
    "start_time": "2022-07-21T07:42:03.571Z"
   },
   {
    "duration": 100796,
    "start_time": "2022-07-21T07:42:05.259Z"
   },
   {
    "duration": 28,
    "start_time": "2022-07-21T07:43:46.061Z"
   },
   {
    "duration": 21,
    "start_time": "2022-07-21T07:43:46.091Z"
   },
   {
    "duration": 50,
    "start_time": "2022-07-21T07:43:46.114Z"
   },
   {
    "duration": 18,
    "start_time": "2022-07-21T07:43:46.166Z"
   },
   {
    "duration": 20,
    "start_time": "2022-07-21T07:43:46.185Z"
   },
   {
    "duration": 3260,
    "start_time": "2022-07-21T07:43:46.214Z"
   },
   {
    "duration": 48,
    "start_time": "2022-07-21T07:43:49.476Z"
   },
   {
    "duration": 1891,
    "start_time": "2022-07-21T10:23:54.160Z"
   },
   {
    "duration": 4001,
    "start_time": "2022-07-21T10:23:57.932Z"
   },
   {
    "duration": 31,
    "start_time": "2022-07-21T10:24:01.936Z"
   },
   {
    "duration": 16,
    "start_time": "2022-07-21T10:24:01.969Z"
   },
   {
    "duration": 52,
    "start_time": "2022-07-21T10:24:01.987Z"
   },
   {
    "duration": 96,
    "start_time": "2022-07-21T10:24:02.041Z"
   },
   {
    "duration": 3,
    "start_time": "2022-07-21T10:24:03.259Z"
   },
   {
    "duration": 101434,
    "start_time": "2022-07-21T10:24:04.132Z"
   },
   {
    "duration": 44,
    "start_time": "2022-07-21T10:25:45.568Z"
   },
   {
    "duration": 37,
    "start_time": "2022-07-21T10:25:45.620Z"
   },
   {
    "duration": 20,
    "start_time": "2022-07-21T10:25:45.659Z"
   },
   {
    "duration": 6,
    "start_time": "2022-07-21T10:25:45.681Z"
   },
   {
    "duration": 16,
    "start_time": "2022-07-21T10:25:45.689Z"
   },
   {
    "duration": 3603,
    "start_time": "2022-07-21T10:25:45.707Z"
   },
   {
    "duration": 53,
    "start_time": "2022-07-21T10:25:49.316Z"
   },
   {
    "duration": 3,
    "start_time": "2022-07-21T10:26:10.345Z"
   },
   {
    "duration": 133091,
    "start_time": "2022-07-21T10:26:11.734Z"
   },
   {
    "duration": 6850216,
    "start_time": "2022-07-21T10:36:53.063Z"
   },
   {
    "duration": 16054,
    "start_time": "2022-07-21T12:31:03.281Z"
   },
   {
    "duration": 12513,
    "start_time": "2022-07-21T12:31:39.739Z"
   },
   {
    "duration": 6446,
    "start_time": "2022-07-21T12:32:02.685Z"
   },
   {
    "duration": 7849,
    "start_time": "2022-07-21T12:33:53.073Z"
   },
   {
    "duration": 224,
    "start_time": "2022-07-21T12:35:10.031Z"
   },
   {
    "duration": 7654,
    "start_time": "2022-07-21T12:36:13.862Z"
   },
   {
    "duration": 237,
    "start_time": "2022-07-21T12:36:21.518Z"
   },
   {
    "duration": 3,
    "start_time": "2022-07-21T12:41:38.169Z"
   },
   {
    "duration": 1713,
    "start_time": "2022-07-21T12:41:38.174Z"
   },
   {
    "duration": 799,
    "start_time": "2022-07-21T12:41:39.888Z"
   },
   {
    "duration": 41,
    "start_time": "2022-07-21T12:41:40.689Z"
   },
   {
    "duration": 13,
    "start_time": "2022-07-21T12:41:40.736Z"
   },
   {
    "duration": 39,
    "start_time": "2022-07-21T12:41:40.750Z"
   },
   {
    "duration": 101,
    "start_time": "2022-07-21T12:41:40.790Z"
   },
   {
    "duration": 4,
    "start_time": "2022-07-21T12:41:40.892Z"
   },
   {
    "duration": 97687,
    "start_time": "2022-07-21T12:41:40.897Z"
   },
   {
    "duration": 37,
    "start_time": "2022-07-21T12:43:18.586Z"
   },
   {
    "duration": 30,
    "start_time": "2022-07-21T12:43:18.626Z"
   },
   {
    "duration": 21,
    "start_time": "2022-07-21T12:43:18.657Z"
   },
   {
    "duration": 5,
    "start_time": "2022-07-21T12:43:18.680Z"
   },
   {
    "duration": 8,
    "start_time": "2022-07-21T12:43:18.686Z"
   },
   {
    "duration": 3572,
    "start_time": "2022-07-21T12:43:18.696Z"
   },
   {
    "duration": 74,
    "start_time": "2022-07-21T12:43:22.269Z"
   },
   {
    "duration": 3,
    "start_time": "2022-07-21T12:43:30.053Z"
   },
   {
    "duration": 66880,
    "start_time": "2022-07-21T12:43:33.827Z"
   },
   {
    "duration": 317434,
    "start_time": "2022-07-21T12:44:51.029Z"
   },
   {
    "duration": 697374,
    "start_time": "2022-07-21T12:54:36.213Z"
   },
   {
    "duration": 303,
    "start_time": "2022-07-21T13:06:13.589Z"
   },
   {
    "duration": 118929,
    "start_time": "2022-07-21T13:07:52.102Z"
   },
   {
    "duration": 6798,
    "start_time": "2022-07-21T13:09:55.821Z"
   },
   {
    "duration": 264,
    "start_time": "2022-07-21T13:10:07.888Z"
   },
   {
    "duration": 30,
    "start_time": "2022-07-21T13:10:20.544Z"
   },
   {
    "duration": 131570,
    "start_time": "2022-07-21T13:10:26.193Z"
   },
   {
    "duration": 3,
    "start_time": "2022-07-21T13:12:39.769Z"
   },
   {
    "duration": 357,
    "start_time": "2022-07-21T13:12:50.697Z"
   },
   {
    "duration": 95,
    "start_time": "2022-07-21T13:13:05.218Z"
   },
   {
    "duration": 21,
    "start_time": "2022-07-21T13:13:12.674Z"
   },
   {
    "duration": 208,
    "start_time": "2022-07-21T13:13:33.641Z"
   },
   {
    "duration": 9,
    "start_time": "2022-07-21T13:14:49.026Z"
   },
   {
    "duration": 230,
    "start_time": "2022-07-21T13:14:49.513Z"
   },
   {
    "duration": 8529366,
    "start_time": "2022-07-21T13:15:08.227Z"
   },
   {
    "duration": 71329,
    "start_time": "2022-07-21T15:37:39.917Z"
   },
   {
    "duration": 95886,
    "start_time": "2022-07-21T15:39:10.199Z"
   },
   {
    "duration": 607104,
    "start_time": "2022-07-21T15:42:46.853Z"
   },
   {
    "duration": 3,
    "start_time": "2022-07-21T23:18:47.989Z"
   },
   {
    "duration": 1859,
    "start_time": "2022-07-21T23:18:47.994Z"
   },
   {
    "duration": 2505,
    "start_time": "2022-07-21T23:18:49.855Z"
   },
   {
    "duration": 32,
    "start_time": "2022-07-21T23:18:52.363Z"
   },
   {
    "duration": 28,
    "start_time": "2022-07-21T23:18:52.397Z"
   },
   {
    "duration": 58,
    "start_time": "2022-07-21T23:18:52.426Z"
   },
   {
    "duration": 82,
    "start_time": "2022-07-21T23:18:52.486Z"
   },
   {
    "duration": 3,
    "start_time": "2022-07-21T23:18:52.569Z"
   },
   {
    "duration": 92289,
    "start_time": "2022-07-21T23:18:52.574Z"
   },
   {
    "duration": 27,
    "start_time": "2022-07-21T23:20:24.865Z"
   },
   {
    "duration": 39,
    "start_time": "2022-07-21T23:20:24.894Z"
   },
   {
    "duration": 21,
    "start_time": "2022-07-21T23:20:24.935Z"
   },
   {
    "duration": 5,
    "start_time": "2022-07-21T23:20:24.958Z"
   },
   {
    "duration": 8,
    "start_time": "2022-07-21T23:20:24.965Z"
   },
   {
    "duration": 3452,
    "start_time": "2022-07-21T23:20:24.974Z"
   },
   {
    "duration": 50,
    "start_time": "2022-07-21T23:20:28.428Z"
   },
   {
    "duration": 201,
    "start_time": "2022-07-21T23:21:05.922Z"
   },
   {
    "duration": 4,
    "start_time": "2022-07-21T23:21:11.573Z"
   },
   {
    "duration": 1275389,
    "start_time": "2022-07-21T23:21:15.534Z"
   },
   {
    "duration": 578808,
    "start_time": "2022-07-21T23:48:09.925Z"
   },
   {
    "duration": 357,
    "start_time": "2022-07-21T23:57:48.735Z"
   },
   {
    "duration": 3,
    "start_time": "2022-07-22T08:35:29.863Z"
   },
   {
    "duration": 3218,
    "start_time": "2022-07-22T08:35:29.870Z"
   },
   {
    "duration": 3647,
    "start_time": "2022-07-22T08:35:33.090Z"
   },
   {
    "duration": 35,
    "start_time": "2022-07-22T08:35:36.739Z"
   },
   {
    "duration": 10,
    "start_time": "2022-07-22T08:35:36.776Z"
   },
   {
    "duration": 48,
    "start_time": "2022-07-22T08:35:36.788Z"
   },
   {
    "duration": 108,
    "start_time": "2022-07-22T08:35:36.838Z"
   },
   {
    "duration": 3,
    "start_time": "2022-07-22T08:35:36.948Z"
   },
   {
    "duration": 113423,
    "start_time": "2022-07-22T08:35:36.953Z"
   },
   {
    "duration": 12,
    "start_time": "2022-07-22T08:37:30.379Z"
   },
   {
    "duration": 8,
    "start_time": "2022-07-24T03:39:15.633Z"
   },
   {
    "duration": 2188,
    "start_time": "2022-07-24T03:39:21.936Z"
   },
   {
    "duration": 3388,
    "start_time": "2022-07-24T03:39:24.126Z"
   },
   {
    "duration": 41,
    "start_time": "2022-07-24T03:39:27.516Z"
   },
   {
    "duration": 15,
    "start_time": "2022-07-24T03:39:27.560Z"
   },
   {
    "duration": 71,
    "start_time": "2022-07-24T03:39:27.577Z"
   },
   {
    "duration": 118,
    "start_time": "2022-07-24T03:39:27.650Z"
   },
   {
    "duration": 3,
    "start_time": "2022-07-24T03:39:36.431Z"
   },
   {
    "duration": 558,
    "start_time": "2022-07-24T03:39:38.558Z"
   },
   {
    "duration": 4,
    "start_time": "2022-07-24T03:40:07.733Z"
   },
   {
    "duration": 1074,
    "start_time": "2022-07-24T03:40:09.303Z"
   },
   {
    "duration": 3,
    "start_time": "2022-07-24T03:41:46.740Z"
   },
   {
    "duration": 7883,
    "start_time": "2022-07-24T03:41:51.724Z"
   },
   {
    "duration": 8,
    "start_time": "2022-07-24T03:42:02.056Z"
   },
   {
    "duration": 7,
    "start_time": "2022-07-24T03:47:41.832Z"
   },
   {
    "duration": 4,
    "start_time": "2022-07-24T03:53:16.725Z"
   },
   {
    "duration": 1340,
    "start_time": "2022-07-24T03:53:21.159Z"
   },
   {
    "duration": 3,
    "start_time": "2022-07-24T03:54:18.767Z"
   },
   {
    "duration": 70505,
    "start_time": "2022-07-24T03:54:18.772Z"
   },
   {
    "duration": 866,
    "start_time": "2022-07-24T03:55:29.280Z"
   },
   {
    "duration": 36,
    "start_time": "2022-07-24T03:55:30.148Z"
   },
   {
    "duration": 60,
    "start_time": "2022-07-24T03:55:30.185Z"
   },
   {
    "duration": 61,
    "start_time": "2022-07-24T03:55:30.247Z"
   },
   {
    "duration": 125,
    "start_time": "2022-07-24T03:55:30.310Z"
   },
   {
    "duration": 4,
    "start_time": "2022-07-24T03:55:30.437Z"
   },
   {
    "duration": 79,
    "start_time": "2022-07-24T03:56:59.051Z"
   },
   {
    "duration": 4,
    "start_time": "2022-07-24T03:57:13.125Z"
   },
   {
    "duration": 1174,
    "start_time": "2022-07-24T03:57:14.646Z"
   },
   {
    "duration": 6,
    "start_time": "2022-07-24T03:58:45.979Z"
   },
   {
    "duration": 455,
    "start_time": "2022-07-24T03:58:47.627Z"
   },
   {
    "duration": 85,
    "start_time": "2022-07-24T04:00:29.543Z"
   },
   {
    "duration": 43264,
    "start_time": "2022-07-24T04:01:41.370Z"
   },
   {
    "duration": 4,
    "start_time": "2022-07-24T04:03:12.762Z"
   },
   {
    "duration": 506,
    "start_time": "2022-07-24T04:03:14.521Z"
   },
   {
    "duration": 4,
    "start_time": "2022-07-24T04:03:27.139Z"
   },
   {
    "duration": 1607435,
    "start_time": "2022-07-24T04:03:28.563Z"
   },
   {
    "duration": 12,
    "start_time": "2022-07-24T04:30:16.000Z"
   },
   {
    "duration": 4,
    "start_time": "2022-07-24T04:30:39.821Z"
   },
   {
    "duration": 955,
    "start_time": "2022-07-24T04:30:41.499Z"
   },
   {
    "duration": 3,
    "start_time": "2022-07-24T04:35:34.363Z"
   },
   {
    "duration": 1502,
    "start_time": "2022-07-24T04:35:35.730Z"
   },
   {
    "duration": 3,
    "start_time": "2022-07-24T04:35:58.339Z"
   },
   {
    "duration": 5148724,
    "start_time": "2022-07-24T04:35:58.345Z"
   },
   {
    "duration": 32773,
    "start_time": "2022-07-24T23:11:24.445Z"
   },
   {
    "duration": 52554,
    "start_time": "2022-07-24T23:11:57.220Z"
   },
   {
    "duration": 2240,
    "start_time": "2022-07-24T23:13:09.457Z"
   },
   {
    "duration": 31,
    "start_time": "2022-07-24T23:13:11.699Z"
   },
   {
    "duration": 21,
    "start_time": "2022-07-24T23:13:11.732Z"
   },
   {
    "duration": 41,
    "start_time": "2022-07-24T23:13:12.648Z"
   },
   {
    "duration": 81,
    "start_time": "2022-07-24T23:13:13.382Z"
   },
   {
    "duration": 4,
    "start_time": "2022-07-24T23:13:16.391Z"
   },
   {
    "duration": 595504,
    "start_time": "2022-07-24T23:13:19.248Z"
   },
   {
    "duration": 8,
    "start_time": "2022-07-24T23:23:14.754Z"
   },
   {
    "duration": 3,
    "start_time": "2022-07-24T23:24:19.937Z"
   },
   {
    "duration": 670,
    "start_time": "2022-07-24T23:24:22.575Z"
   },
   {
    "duration": 3,
    "start_time": "2022-07-24T23:24:46.737Z"
   },
   {
    "duration": 5,
    "start_time": "2022-07-24T23:27:51.917Z"
   },
   {
    "duration": 787,
    "start_time": "2022-07-24T23:27:54.973Z"
   },
   {
    "duration": 31,
    "start_time": "2022-07-24T23:27:55.762Z"
   },
   {
    "duration": 7,
    "start_time": "2022-07-24T23:27:56.116Z"
   },
   {
    "duration": 38,
    "start_time": "2022-07-24T23:27:59.044Z"
   },
   {
    "duration": 71,
    "start_time": "2022-07-24T23:27:59.644Z"
   },
   {
    "duration": 3,
    "start_time": "2022-07-24T23:28:05.085Z"
   },
   {
    "duration": 156,
    "start_time": "2022-07-24T23:30:01.850Z"
   },
   {
    "duration": 50532,
    "start_time": "2022-07-24T23:30:10.346Z"
   },
   {
    "duration": 2301,
    "start_time": "2022-07-24T23:31:00.880Z"
   },
   {
    "duration": 36,
    "start_time": "2022-07-24T23:31:03.183Z"
   },
   {
    "duration": 11,
    "start_time": "2022-07-24T23:31:03.221Z"
   },
   {
    "duration": 45,
    "start_time": "2022-07-24T23:31:03.233Z"
   },
   {
    "duration": 103,
    "start_time": "2022-07-24T23:31:03.279Z"
   },
   {
    "duration": 516,
    "start_time": "2022-07-24T23:31:28.136Z"
   },
   {
    "duration": 3,
    "start_time": "2022-07-24T23:31:36.853Z"
   },
   {
    "duration": 4,
    "start_time": "2022-07-24T23:31:55.900Z"
   },
   {
    "duration": 447,
    "start_time": "2022-07-24T23:33:18.455Z"
   },
   {
    "duration": 4,
    "start_time": "2022-07-24T23:33:21.758Z"
   },
   {
    "duration": 429,
    "start_time": "2022-07-24T23:33:49.073Z"
   },
   {
    "duration": 4,
    "start_time": "2022-07-24T23:33:51.944Z"
   },
   {
    "duration": 876,
    "start_time": "2022-07-24T23:34:24.753Z"
   },
   {
    "duration": 5,
    "start_time": "2022-07-24T23:34:47.140Z"
   },
   {
    "duration": 4,
    "start_time": "2022-07-24T23:35:46.067Z"
   },
   {
    "duration": 3215967,
    "start_time": "2022-07-24T23:35:49.251Z"
   },
   {
    "duration": 3,
    "start_time": "2022-07-25T00:42:06.963Z"
   },
   {
    "duration": 4,
    "start_time": "2022-07-25T00:42:07.827Z"
   },
   {
    "duration": 726,
    "start_time": "2022-07-25T00:42:10.243Z"
   },
   {
    "duration": 33,
    "start_time": "2022-07-25T00:42:11.067Z"
   },
   {
    "duration": 6,
    "start_time": "2022-07-25T00:42:12.243Z"
   },
   {
    "duration": 44,
    "start_time": "2022-07-25T00:42:12.987Z"
   },
   {
    "duration": 75,
    "start_time": "2022-07-25T00:42:13.779Z"
   },
   {
    "duration": 24,
    "start_time": "2022-07-25T00:42:17.683Z"
   },
   {
    "duration": 39,
    "start_time": "2022-07-25T00:42:20.156Z"
   },
   {
    "duration": 23,
    "start_time": "2022-07-25T00:42:26.563Z"
   },
   {
    "duration": 4,
    "start_time": "2022-07-25T00:44:00.592Z"
   },
   {
    "duration": 6970413,
    "start_time": "2022-07-25T00:44:13.168Z"
   },
   {
    "duration": 1098,
    "start_time": "2022-07-25T02:40:23.583Z"
   },
   {
    "duration": 53161,
    "start_time": "2022-07-25T08:44:56.850Z"
   },
   {
    "duration": 81722,
    "start_time": "2022-07-25T08:45:58.179Z"
   },
   {
    "duration": 2664,
    "start_time": "2022-07-25T08:47:19.904Z"
   },
   {
    "duration": 43,
    "start_time": "2022-07-25T08:47:22.570Z"
   },
   {
    "duration": 20,
    "start_time": "2022-07-25T08:47:22.616Z"
   },
   {
    "duration": 64,
    "start_time": "2022-07-25T08:47:22.638Z"
   },
   {
    "duration": 101,
    "start_time": "2022-07-25T08:47:22.704Z"
   },
   {
    "duration": 50,
    "start_time": "2022-07-25T08:47:22.807Z"
   },
   {
    "duration": 34,
    "start_time": "2022-07-25T08:47:22.859Z"
   },
   {
    "duration": 52,
    "start_time": "2022-07-25T08:47:22.895Z"
   },
   {
    "duration": 19,
    "start_time": "2022-07-25T08:47:22.950Z"
   },
   {
    "duration": 413996,
    "start_time": "2022-07-25T08:47:22.971Z"
   },
   {
    "duration": 140216,
    "start_time": "2022-07-25T08:54:16.969Z"
   },
   {
    "duration": 7,
    "start_time": "2022-07-25T08:56:37.187Z"
   },
   {
    "duration": 28,
    "start_time": "2022-07-25T08:56:37.196Z"
   },
   {
    "duration": 21,
    "start_time": "2022-07-25T08:56:37.226Z"
   },
   {
    "duration": 36,
    "start_time": "2022-07-25T08:56:37.250Z"
   },
   {
    "duration": 176,
    "start_time": "2022-07-25T08:56:37.291Z"
   },
   {
    "duration": 6,
    "start_time": "2022-07-25T08:56:49.774Z"
   },
   {
    "duration": 681,
    "start_time": "2022-07-25T08:56:57.863Z"
   },
   {
    "duration": 32,
    "start_time": "2022-07-25T08:56:58.546Z"
   },
   {
    "duration": 8,
    "start_time": "2022-07-25T08:56:58.629Z"
   },
   {
    "duration": 48,
    "start_time": "2022-07-25T08:56:59.007Z"
   },
   {
    "duration": 83,
    "start_time": "2022-07-25T08:56:59.395Z"
   },
   {
    "duration": 29,
    "start_time": "2022-07-25T08:57:02.271Z"
   },
   {
    "duration": 5,
    "start_time": "2022-07-25T08:57:04.327Z"
   },
   {
    "duration": 54,
    "start_time": "2022-07-25T08:57:08.136Z"
   },
   {
    "duration": 34,
    "start_time": "2022-07-25T08:57:08.848Z"
   },
   {
    "duration": 4,
    "start_time": "2022-07-25T09:00:21.169Z"
   },
   {
    "duration": 3964,
    "start_time": "2022-07-25T09:00:23.689Z"
   },
   {
    "duration": 1679,
    "start_time": "2022-07-25T09:00:31.370Z"
   },
   {
    "duration": 18,
    "start_time": "2022-07-25T09:00:33.051Z"
   },
   {
    "duration": 8,
    "start_time": "2022-07-25T09:00:49.402Z"
   },
   {
    "duration": 4,
    "start_time": "2022-07-25T09:02:48.537Z"
   },
   {
    "duration": 697,
    "start_time": "2022-07-25T09:03:02.627Z"
   },
   {
    "duration": 33,
    "start_time": "2022-07-25T09:03:03.327Z"
   },
   {
    "duration": 29,
    "start_time": "2022-07-25T09:03:03.363Z"
   },
   {
    "duration": 72,
    "start_time": "2022-07-25T09:03:03.394Z"
   },
   {
    "duration": 107,
    "start_time": "2022-07-25T09:03:03.468Z"
   },
   {
    "duration": 32,
    "start_time": "2022-07-25T09:03:04.851Z"
   },
   {
    "duration": 7,
    "start_time": "2022-07-25T09:03:06.035Z"
   },
   {
    "duration": 44,
    "start_time": "2022-07-25T09:03:07.003Z"
   },
   {
    "duration": 27,
    "start_time": "2022-07-25T09:03:07.669Z"
   },
   {
    "duration": 3,
    "start_time": "2022-07-25T09:03:11.492Z"
   },
   {
    "duration": 427,
    "start_time": "2022-07-25T09:03:13.700Z"
   },
   {
    "duration": 4,
    "start_time": "2022-07-25T09:03:35.875Z"
   },
   {
    "duration": 504,
    "start_time": "2022-07-25T09:03:38.874Z"
   },
   {
    "duration": 5,
    "start_time": "2022-07-25T09:03:49.019Z"
   },
   {
    "duration": 864,
    "start_time": "2022-07-25T09:03:50.147Z"
   },
   {
    "duration": 11,
    "start_time": "2022-07-25T09:03:56.107Z"
   },
   {
    "duration": 12,
    "start_time": "2022-07-25T09:04:25.615Z"
   },
   {
    "duration": 3,
    "start_time": "2022-07-25T09:05:00.589Z"
   },
   {
    "duration": 1008,
    "start_time": "2022-07-25T09:05:02.237Z"
   },
   {
    "duration": 9,
    "start_time": "2022-07-25T09:05:07.018Z"
   },
   {
    "duration": 4,
    "start_time": "2022-07-25T09:09:23.300Z"
   },
   {
    "duration": 495861,
    "start_time": "2022-07-25T09:09:25.654Z"
   },
   {
    "duration": 4572,
    "start_time": "2022-07-25T09:17:41.517Z"
   },
   {
    "duration": 11,
    "start_time": "2022-07-25T09:17:46.091Z"
   },
   {
    "duration": 13,
    "start_time": "2022-07-25T09:17:46.105Z"
   },
   {
    "duration": 14,
    "start_time": "2022-07-25T09:17:46.120Z"
   },
   {
    "duration": 13,
    "start_time": "2022-07-25T09:17:46.136Z"
   },
   {
    "duration": 8,
    "start_time": "2022-07-25T09:17:46.150Z"
   },
   {
    "duration": 2,
    "start_time": "2022-07-25T09:18:08.279Z"
   },
   {
    "duration": 12,
    "start_time": "2022-07-25T09:18:08.284Z"
   },
   {
    "duration": 722,
    "start_time": "2022-07-25T09:18:08.298Z"
   },
   {
    "duration": 41,
    "start_time": "2022-07-25T09:18:09.023Z"
   },
   {
    "duration": 11,
    "start_time": "2022-07-25T09:18:09.066Z"
   },
   {
    "duration": 83,
    "start_time": "2022-07-25T09:18:09.079Z"
   },
   {
    "duration": 133,
    "start_time": "2022-07-25T09:18:09.164Z"
   },
   {
    "duration": 47,
    "start_time": "2022-07-25T09:18:09.299Z"
   },
   {
    "duration": 7,
    "start_time": "2022-07-25T09:18:09.347Z"
   },
   {
    "duration": 52,
    "start_time": "2022-07-25T09:18:09.356Z"
   },
   {
    "duration": 48,
    "start_time": "2022-07-25T09:18:09.410Z"
   },
   {
    "duration": 5,
    "start_time": "2022-07-25T09:18:20.524Z"
   },
   {
    "duration": 822,
    "start_time": "2022-07-25T09:18:22.588Z"
   },
   {
    "duration": 5,
    "start_time": "2022-07-25T09:19:05.699Z"
   },
   {
    "duration": 750,
    "start_time": "2022-07-25T09:19:07.499Z"
   },
   {
    "duration": 4,
    "start_time": "2022-07-25T09:19:33.131Z"
   },
   {
    "duration": 1118,
    "start_time": "2022-07-25T09:19:34.107Z"
   },
   {
    "duration": 7,
    "start_time": "2022-07-25T09:20:00.579Z"
   },
   {
    "duration": 172748,
    "start_time": "2022-07-25T09:20:02.475Z"
   },
   {
    "duration": 33,
    "start_time": "2022-07-25T09:23:27.659Z"
   },
   {
    "duration": 2541,
    "start_time": "2022-07-25T09:23:42.302Z"
   },
   {
    "duration": 43,
    "start_time": "2022-07-25T09:24:10.486Z"
   },
   {
    "duration": 4,
    "start_time": "2022-07-25T09:27:58.662Z"
   },
   {
    "duration": 334,
    "start_time": "2022-07-25T09:28:00.576Z"
   },
   {
    "duration": 6,
    "start_time": "2022-07-25T09:28:30.930Z"
   },
   {
    "duration": 292,
    "start_time": "2022-07-25T09:28:33.416Z"
   },
   {
    "duration": 6,
    "start_time": "2022-07-25T09:28:52.565Z"
   },
   {
    "duration": 37827,
    "start_time": "2022-07-25T09:28:53.535Z"
   },
   {
    "duration": 21451,
    "start_time": "2022-07-25T09:30:10.048Z"
   },
   {
    "duration": 38,
    "start_time": "2022-07-25T09:30:31.503Z"
   },
   {
    "duration": 19,
    "start_time": "2022-07-25T09:30:31.544Z"
   },
   {
    "duration": 6,
    "start_time": "2022-07-25T09:34:15.625Z"
   },
   {
    "duration": 1180,
    "start_time": "2022-07-25T09:34:17.267Z"
   },
   {
    "duration": 2197,
    "start_time": "2022-07-25T09:35:03.908Z"
   },
   {
    "duration": 8,
    "start_time": "2022-07-25T09:35:06.109Z"
   },
   {
    "duration": 846,
    "start_time": "2022-07-25T09:35:06.119Z"
   },
   {
    "duration": 37,
    "start_time": "2022-07-25T09:35:06.967Z"
   },
   {
    "duration": 33,
    "start_time": "2022-07-25T09:35:07.007Z"
   },
   {
    "duration": 66,
    "start_time": "2022-07-25T09:35:07.041Z"
   },
   {
    "duration": 107,
    "start_time": "2022-07-25T09:35:07.109Z"
   },
   {
    "duration": 73,
    "start_time": "2022-07-25T09:35:07.218Z"
   },
   {
    "duration": 8,
    "start_time": "2022-07-25T09:35:07.296Z"
   },
   {
    "duration": 75,
    "start_time": "2022-07-25T09:35:07.306Z"
   },
   {
    "duration": 54,
    "start_time": "2022-07-25T09:35:07.384Z"
   },
   {
    "duration": 6,
    "start_time": "2022-07-25T09:35:14.187Z"
   },
   {
    "duration": 530,
    "start_time": "2022-07-25T09:35:15.492Z"
   },
   {
    "duration": 5,
    "start_time": "2022-07-25T09:35:38.540Z"
   },
   {
    "duration": 85329,
    "start_time": "2022-07-25T09:35:41.101Z"
   },
   {
    "duration": 1628,
    "start_time": "2022-07-25T09:37:06.433Z"
   },
   {
    "duration": 49,
    "start_time": "2022-07-25T09:37:08.064Z"
   },
   {
    "duration": 0,
    "start_time": "2022-07-25T09:37:08.116Z"
   },
   {
    "duration": 6,
    "start_time": "2022-07-25T09:42:17.383Z"
   },
   {
    "duration": 319,
    "start_time": "2022-07-25T09:42:25.970Z"
   },
   {
    "duration": 6,
    "start_time": "2022-07-25T09:42:48.615Z"
   },
   {
    "duration": 698687,
    "start_time": "2022-07-25T09:42:51.991Z"
   },
   {
    "duration": 4364,
    "start_time": "2022-07-25T09:54:30.682Z"
   },
   {
    "duration": 8,
    "start_time": "2022-07-25T09:54:35.048Z"
   },
   {
    "duration": 5,
    "start_time": "2022-07-25T09:54:38.942Z"
   },
   {
    "duration": 2873,
    "start_time": "2022-07-25T09:54:40.046Z"
   },
   {
    "duration": 2259,
    "start_time": "2022-07-25T09:55:08.632Z"
   },
   {
    "duration": 809,
    "start_time": "2022-07-25T09:55:10.893Z"
   },
   {
    "duration": 48,
    "start_time": "2022-07-25T09:55:11.704Z"
   },
   {
    "duration": 10,
    "start_time": "2022-07-25T09:55:11.754Z"
   },
   {
    "duration": 89,
    "start_time": "2022-07-25T09:55:11.766Z"
   },
   {
    "duration": 118,
    "start_time": "2022-07-25T09:55:11.857Z"
   },
   {
    "duration": 61,
    "start_time": "2022-07-25T09:55:11.977Z"
   },
   {
    "duration": 7,
    "start_time": "2022-07-25T09:55:12.040Z"
   },
   {
    "duration": 62,
    "start_time": "2022-07-25T09:55:12.049Z"
   },
   {
    "duration": 40,
    "start_time": "2022-07-25T09:55:12.114Z"
   },
   {
    "duration": 5,
    "start_time": "2022-07-25T09:55:12.156Z"
   },
   {
    "duration": 4,
    "start_time": "2022-07-25T09:55:15.841Z"
   },
   {
    "duration": 8527,
    "start_time": "2022-07-25T09:55:18.206Z"
   },
   {
    "duration": 4,
    "start_time": "2022-07-25T09:55:39.938Z"
   },
   {
    "duration": 13,
    "start_time": "2022-07-25T11:27:06.268Z"
   },
   {
    "duration": 798,
    "start_time": "2022-07-25T11:27:10.181Z"
   },
   {
    "duration": 5,
    "start_time": "2022-07-25T11:27:13.941Z"
   },
   {
    "duration": 775,
    "start_time": "2022-07-25T11:27:15.773Z"
   },
   {
    "duration": 34,
    "start_time": "2022-07-25T11:27:16.553Z"
   },
   {
    "duration": 9,
    "start_time": "2022-07-25T11:27:16.953Z"
   },
   {
    "duration": 53,
    "start_time": "2022-07-25T11:27:17.539Z"
   },
   {
    "duration": 92,
    "start_time": "2022-07-25T11:27:17.908Z"
   },
   {
    "duration": 49,
    "start_time": "2022-07-25T11:27:19.173Z"
   },
   {
    "duration": 7,
    "start_time": "2022-07-25T11:27:20.059Z"
   },
   {
    "duration": 68,
    "start_time": "2022-07-25T11:27:21.379Z"
   },
   {
    "duration": 31,
    "start_time": "2022-07-25T11:27:22.068Z"
   },
   {
    "duration": 3,
    "start_time": "2022-07-25T11:27:23.796Z"
   },
   {
    "duration": 18034,
    "start_time": "2022-07-25T11:27:25.639Z"
   },
   {
    "duration": 10,
    "start_time": "2022-07-25T11:27:56.156Z"
   },
   {
    "duration": 745273,
    "start_time": "2022-07-25T11:27:58.300Z"
   },
   {
    "duration": 124,
    "start_time": "2022-07-25T11:44:13.389Z"
   },
   {
    "duration": 19,
    "start_time": "2022-07-25T11:44:33.653Z"
   },
   {
    "duration": 16231,
    "start_time": "2022-07-25T11:44:53.957Z"
   },
   {
    "duration": 12369,
    "start_time": "2022-07-25T11:45:23.411Z"
   },
   {
    "duration": 4,
    "start_time": "2022-07-25T11:47:22.493Z"
   },
   {
    "duration": 10087162,
    "start_time": "2022-07-25T11:47:24.415Z"
   },
   {
    "duration": 2631,
    "start_time": "2022-07-25T14:35:31.579Z"
   },
   {
    "duration": 6,
    "start_time": "2022-07-25T14:35:34.212Z"
   },
   {
    "duration": 26,
    "start_time": "2022-07-25T14:35:34.221Z"
   },
   {
    "duration": 0,
    "start_time": "2022-07-25T14:35:34.249Z"
   },
   {
    "duration": 0,
    "start_time": "2022-07-25T14:35:34.250Z"
   },
   {
    "duration": 0,
    "start_time": "2022-07-25T14:35:34.252Z"
   },
   {
    "duration": 0,
    "start_time": "2022-07-25T14:35:34.253Z"
   },
   {
    "duration": 0,
    "start_time": "2022-07-25T14:35:34.254Z"
   },
   {
    "duration": 0,
    "start_time": "2022-07-25T14:35:34.256Z"
   },
   {
    "duration": 0,
    "start_time": "2022-07-25T14:35:34.257Z"
   },
   {
    "duration": 0,
    "start_time": "2022-07-25T14:35:34.258Z"
   },
   {
    "duration": 0,
    "start_time": "2022-07-25T14:35:34.260Z"
   },
   {
    "duration": 0,
    "start_time": "2022-07-25T14:35:34.261Z"
   },
   {
    "duration": 0,
    "start_time": "2022-07-25T14:35:34.263Z"
   },
   {
    "duration": 0,
    "start_time": "2022-07-25T14:35:34.264Z"
   },
   {
    "duration": 985,
    "start_time": "2022-07-25T14:35:52.817Z"
   },
   {
    "duration": 3,
    "start_time": "2022-07-25T14:36:04.807Z"
   },
   {
    "duration": 15,
    "start_time": "2022-07-25T14:36:04.813Z"
   },
   {
    "duration": 788,
    "start_time": "2022-07-25T14:36:04.830Z"
   },
   {
    "duration": 39,
    "start_time": "2022-07-25T14:36:05.623Z"
   },
   {
    "duration": 7,
    "start_time": "2022-07-25T14:36:05.663Z"
   },
   {
    "duration": 66,
    "start_time": "2022-07-25T14:36:05.672Z"
   },
   {
    "duration": 89,
    "start_time": "2022-07-25T14:36:05.739Z"
   },
   {
    "duration": 39,
    "start_time": "2022-07-25T14:36:05.830Z"
   },
   {
    "duration": 7,
    "start_time": "2022-07-25T14:36:05.871Z"
   },
   {
    "duration": 77,
    "start_time": "2022-07-25T14:36:05.881Z"
   },
   {
    "duration": 39,
    "start_time": "2022-07-25T14:36:05.960Z"
   },
   {
    "duration": 4,
    "start_time": "2022-07-25T14:36:06.002Z"
   },
   {
    "duration": 7,
    "start_time": "2022-07-25T14:36:09.811Z"
   },
   {
    "duration": 2610,
    "start_time": "2022-07-25T14:36:11.858Z"
   },
   {
    "duration": 1143,
    "start_time": "2022-07-25T14:36:53.644Z"
   },
   {
    "duration": 568,
    "start_time": "2022-07-25T14:37:37.042Z"
   },
   {
    "duration": 39617,
    "start_time": "2022-07-25T14:38:20.220Z"
   },
   {
    "duration": 4,
    "start_time": "2022-07-25T14:42:07.190Z"
   },
   {
    "duration": 3,
    "start_time": "2022-07-25T14:42:08.167Z"
   },
   {
    "duration": 42,
    "start_time": "2022-07-25T14:42:09.007Z"
   },
   {
    "duration": 3,
    "start_time": "2022-07-25T14:43:06.047Z"
   },
   {
    "duration": 4,
    "start_time": "2022-07-25T14:43:06.711Z"
   },
   {
    "duration": 32,
    "start_time": "2022-07-25T14:43:07.975Z"
   },
   {
    "duration": 3,
    "start_time": "2022-07-25T14:43:23.254Z"
   },
   {
    "duration": 3,
    "start_time": "2022-07-25T14:43:23.894Z"
   },
   {
    "duration": 3,
    "start_time": "2022-07-25T14:43:24.527Z"
   },
   {
    "duration": 5,
    "start_time": "2022-07-25T14:43:25.991Z"
   },
   {
    "duration": 5,
    "start_time": "2022-07-25T14:43:41.224Z"
   },
   {
    "duration": 2,
    "start_time": "2022-07-25T14:43:47.801Z"
   },
   {
    "duration": 3,
    "start_time": "2022-07-25T14:43:48.847Z"
   },
   {
    "duration": 5,
    "start_time": "2022-07-25T14:43:49.434Z"
   },
   {
    "duration": 6,
    "start_time": "2022-07-25T14:43:51.519Z"
   },
   {
    "duration": 3,
    "start_time": "2022-07-25T14:44:03.808Z"
   },
   {
    "duration": 3,
    "start_time": "2022-07-25T14:44:04.334Z"
   },
   {
    "duration": 5,
    "start_time": "2022-07-25T14:44:04.927Z"
   },
   {
    "duration": 5,
    "start_time": "2022-07-25T14:44:06.679Z"
   },
   {
    "duration": 28,
    "start_time": "2022-07-25T14:46:29.295Z"
   },
   {
    "duration": 1186,
    "start_time": "2022-07-25T14:46:42.320Z"
   },
   {
    "duration": 10,
    "start_time": "2022-07-25T14:51:51.363Z"
   },
   {
    "duration": 2512,
    "start_time": "2022-07-25T14:52:08.219Z"
   },
   {
    "duration": 7,
    "start_time": "2022-07-25T14:52:55.173Z"
   },
   {
    "duration": 297,
    "start_time": "2022-07-25T14:52:59.092Z"
   },
   {
    "duration": 23,
    "start_time": "2022-07-25T14:53:28.558Z"
   },
   {
    "duration": 34,
    "start_time": "2022-07-25T15:00:35.672Z"
   },
   {
    "duration": 11,
    "start_time": "2022-07-25T15:00:41.911Z"
   },
   {
    "duration": 5,
    "start_time": "2022-07-25T15:02:33.463Z"
   },
   {
    "duration": 3,
    "start_time": "2022-07-25T23:12:02.416Z"
   },
   {
    "duration": 60097,
    "start_time": "2022-07-26T23:07:27.182Z"
   },
   {
    "duration": 2081,
    "start_time": "2022-07-26T23:08:27.281Z"
   },
   {
    "duration": 31,
    "start_time": "2022-07-26T23:08:29.364Z"
   },
   {
    "duration": 9,
    "start_time": "2022-07-26T23:08:29.397Z"
   },
   {
    "duration": 39,
    "start_time": "2022-07-26T23:08:29.408Z"
   },
   {
    "duration": 88,
    "start_time": "2022-07-26T23:08:29.448Z"
   },
   {
    "duration": 26,
    "start_time": "2022-07-26T23:08:45.198Z"
   },
   {
    "duration": 8,
    "start_time": "2022-07-26T23:08:46.172Z"
   },
   {
    "duration": 26,
    "start_time": "2022-07-26T23:08:47.141Z"
   },
   {
    "duration": 22,
    "start_time": "2022-07-26T23:08:47.957Z"
   },
   {
    "duration": 496,
    "start_time": "2022-07-26T23:08:50.485Z"
   },
   {
    "duration": 333,
    "start_time": "2022-07-26T23:10:51.860Z"
   },
   {
    "duration": 443,
    "start_time": "2022-07-26T23:10:56.224Z"
   },
   {
    "duration": 18,
    "start_time": "2022-07-26T23:10:56.914Z"
   },
   {
    "duration": 388,
    "start_time": "2022-07-26T23:11:47.115Z"
   },
   {
    "duration": 25587,
    "start_time": "2022-07-26T23:11:52.238Z"
   },
   {
    "duration": 644,
    "start_time": "2022-07-26T23:12:38.853Z"
   },
   {
    "duration": 375,
    "start_time": "2022-07-26T23:14:09.801Z"
   },
   {
    "duration": 3053,
    "start_time": "2022-07-26T23:14:10.177Z"
   },
   {
    "duration": 677,
    "start_time": "2022-07-26T23:18:13.626Z"
   },
   {
    "duration": 25,
    "start_time": "2022-07-26T23:18:14.305Z"
   },
   {
    "duration": 7,
    "start_time": "2022-07-26T23:18:14.953Z"
   },
   {
    "duration": 42,
    "start_time": "2022-07-26T23:18:15.815Z"
   },
   {
    "duration": 73,
    "start_time": "2022-07-26T23:18:16.745Z"
   },
   {
    "duration": 380,
    "start_time": "2022-07-26T23:18:26.088Z"
   },
   {
    "duration": 2053981,
    "start_time": "2022-07-26T23:18:29.529Z"
   },
   {
    "duration": 35,
    "start_time": "2022-07-26T23:52:54.439Z"
   },
   {
    "duration": 6,
    "start_time": "2022-07-26T23:52:59.422Z"
   },
   {
    "duration": 51,
    "start_time": "2022-07-26T23:53:01.479Z"
   },
   {
    "duration": 23,
    "start_time": "2022-07-26T23:53:07.109Z"
   },
   {
    "duration": 6,
    "start_time": "2022-07-26T23:53:10.237Z"
   },
   {
    "duration": 5,
    "start_time": "2022-07-26T23:53:10.550Z"
   },
   {
    "duration": 7,
    "start_time": "2022-07-26T23:53:28.813Z"
   },
   {
    "duration": 15,
    "start_time": "2022-07-26T23:54:01.000Z"
   },
   {
    "duration": 8,
    "start_time": "2022-07-26T23:54:02.576Z"
   },
   {
    "duration": 5,
    "start_time": "2022-07-26T23:54:04.176Z"
   },
   {
    "duration": 1622,
    "start_time": "2022-07-26T23:54:10.967Z"
   },
   {
    "duration": 28,
    "start_time": "2022-07-26T23:54:40.337Z"
   },
   {
    "duration": 22,
    "start_time": "2022-07-26T23:54:47.794Z"
   },
   {
    "duration": 10147,
    "start_time": "2022-07-26T23:56:16.462Z"
   },
   {
    "duration": 662,
    "start_time": "2022-07-27T00:01:09.191Z"
   },
   {
    "duration": 11051,
    "start_time": "2022-07-27T00:02:13.983Z"
   },
   {
    "duration": 10991,
    "start_time": "2022-07-27T00:03:35.419Z"
   },
   {
    "duration": 4,
    "start_time": "2022-07-27T00:06:42.634Z"
   },
   {
    "duration": 4,
    "start_time": "2022-07-27T00:07:26.610Z"
   },
   {
    "duration": 314749,
    "start_time": "2022-07-27T00:08:11.525Z"
   },
   {
    "duration": 159103,
    "start_time": "2022-07-27T00:13:26.276Z"
   },
   {
    "duration": 3803,
    "start_time": "2022-07-27T00:16:05.381Z"
   },
   {
    "duration": 106,
    "start_time": "2022-07-27T00:17:28.023Z"
   },
   {
    "duration": 3293650,
    "start_time": "2022-07-27T00:18:06.041Z"
   },
   {
    "duration": 1357218,
    "start_time": "2022-07-27T01:12:59.693Z"
   },
   {
    "duration": 1222,
    "start_time": "2022-07-27T01:35:36.912Z"
   },
   {
    "duration": 212,
    "start_time": "2022-07-27T01:35:38.136Z"
   },
   {
    "duration": 255,
    "start_time": "2022-07-27T01:35:38.350Z"
   },
   {
    "duration": 0,
    "start_time": "2022-07-27T01:38:44.333Z"
   },
   {
    "duration": 0,
    "start_time": "2022-07-27T01:38:44.334Z"
   },
   {
    "duration": 124434,
    "start_time": "2022-07-27T01:38:48.040Z"
   },
   {
    "duration": 3,
    "start_time": "2022-07-27T01:40:52.476Z"
   },
   {
    "duration": 249,
    "start_time": "2022-07-27T01:40:52.481Z"
   },
   {
    "duration": 260338,
    "start_time": "2022-07-27T01:40:52.732Z"
   },
   {
    "duration": 276,
    "start_time": "2022-07-27T01:45:13.072Z"
   },
   {
    "duration": 6325,
    "start_time": "2022-07-27T01:45:13.350Z"
   },
   {
    "duration": 350120,
    "start_time": "2022-07-27T01:47:45.683Z"
   },
   {
    "duration": 1406542,
    "start_time": "2022-07-27T01:53:35.807Z"
   },
   {
    "duration": 333826,
    "start_time": "2022-07-27T02:17:02.351Z"
   },
   {
    "duration": 55,
    "start_time": "2022-07-27T02:22:36.181Z"
   },
   {
    "duration": 288,
    "start_time": "2022-07-27T02:22:36.238Z"
   },
   {
    "duration": 59,
    "start_time": "2022-07-27T02:22:36.528Z"
   },
   {
    "duration": 0,
    "start_time": "2022-07-27T02:22:36.589Z"
   },
   {
    "duration": 82749,
    "start_time": "2022-07-27T02:23:34.090Z"
   },
   {
    "duration": 6391,
    "start_time": "2022-07-27T04:11:51.228Z"
   },
   {
    "duration": 3,
    "start_time": "2022-07-27T04:13:24.906Z"
   },
   {
    "duration": 151722,
    "start_time": "2022-07-27T04:13:25.753Z"
   },
   {
    "duration": 296689,
    "start_time": "2022-07-27T04:15:57.486Z"
   },
   {
    "duration": 657687,
    "start_time": "2022-07-27T04:20:54.177Z"
   },
   {
    "duration": 1815844,
    "start_time": "2022-07-27T04:31:51.867Z"
   },
   {
    "duration": 300,
    "start_time": "2022-07-27T05:02:07.714Z"
   },
   {
    "duration": 1252,
    "start_time": "2022-07-27T05:02:08.016Z"
   },
   {
    "duration": 102744,
    "start_time": "2022-07-27T05:02:09.270Z"
   },
   {
    "duration": 327727,
    "start_time": "2022-07-27T05:03:52.016Z"
   },
   {
    "duration": 5,
    "start_time": "2022-07-27T05:09:19.746Z"
   },
   {
    "duration": 2612,
    "start_time": "2022-07-27T05:09:41.817Z"
   },
   {
    "duration": 5578,
    "start_time": "2022-07-27T05:09:44.431Z"
   },
   {
    "duration": 122913,
    "start_time": "2022-07-27T05:10:03.690Z"
   },
   {
    "duration": 563928,
    "start_time": "2022-07-27T05:12:06.605Z"
   },
   {
    "duration": 287,
    "start_time": "2022-07-27T05:21:30.535Z"
   },
   {
    "duration": 305,
    "start_time": "2022-07-27T05:21:30.824Z"
   },
   {
    "duration": 22206,
    "start_time": "2022-07-27T05:21:31.131Z"
   },
   {
    "duration": 77491,
    "start_time": "2022-07-27T05:21:53.339Z"
   },
   {
    "duration": 294,
    "start_time": "2022-07-27T05:23:10.831Z"
   },
   {
    "duration": 278,
    "start_time": "2022-07-27T05:23:11.126Z"
   },
   {
    "duration": 51,
    "start_time": "2022-07-27T05:25:15.247Z"
   }
  ],
  "kernelspec": {
   "display_name": "Python 3 (ipykernel)",
   "language": "python",
   "name": "python3"
  },
  "language_info": {
   "codemirror_mode": {
    "name": "ipython",
    "version": 3
   },
   "file_extension": ".py",
   "mimetype": "text/x-python",
   "name": "python",
   "nbconvert_exporter": "python",
   "pygments_lexer": "ipython3",
   "version": "3.9.12"
  },
  "toc": {
   "base_numbering": 1,
   "nav_menu": {},
   "number_sections": true,
   "sideBar": true,
   "skip_h1_title": true,
   "title_cell": "Содержание",
   "title_sidebar": "Contents",
   "toc_cell": true,
   "toc_position": {
    "height": "calc(100% - 180px)",
    "left": "10px",
    "top": "150px",
    "width": "165px"
   },
   "toc_section_display": true,
   "toc_window_display": false
  }
 },
 "nbformat": 4,
 "nbformat_minor": 2
}
