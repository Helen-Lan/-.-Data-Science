{
 "cells": [
  {
   "cell_type": "code",
   "execution_count": 1,
   "id": "8ed52b80",
   "metadata": {},
   "outputs": [],
   "source": [
    "import pandas as pd\n",
    "import math\n",
    "import warnings\n",
    "warnings.filterwarnings('ignore')"
   ]
  },
  {
   "cell_type": "code",
   "execution_count": 2,
   "id": "94683051",
   "metadata": {},
   "outputs": [],
   "source": [
    "pd.options.display.float_format = '{:,.2f}'.format #отображение данных на уровне 2-х знаков\n",
    "pd.set_option('display.max_columns', None) #отображение всех столбцов датафрейма"
   ]
  },
  {
   "cell_type": "code",
   "execution_count": 3,
   "id": "0fb8d7e5",
   "metadata": {},
   "outputs": [],
   "source": [
    "data = pd.read_excel('/Users/REKL1/Downloads/TLV/RKC_02_2023.xls') #загружаем 2021 год"
   ]
  },
  {
   "cell_type": "code",
   "execution_count": 5,
   "id": "c9a34680",
   "metadata": {
    "scrolled": true
   },
   "outputs": [
    {
     "name": "stdout",
     "output_type": "stream",
     "text": [
      "Введите данные для контроля: общая сумма начисленных средств\n",
      "658375.38\n"
     ]
    }
   ],
   "source": [
    "print('Введите данные для контроля: общая сумма начисленных средств')\n",
    "X_0 = float(input())"
   ]
  },
  {
   "cell_type": "code",
   "execution_count": 6,
   "id": "5772cf13",
   "metadata": {},
   "outputs": [
    {
     "name": "stdout",
     "output_type": "stream",
     "text": [
      "Введите месяц загрузки\n",
      "2\n"
     ]
    }
   ],
   "source": [
    "print('Введите месяц загрузки')\n",
    "MONTH = int(input())"
   ]
  },
  {
   "cell_type": "code",
   "execution_count": 7,
   "id": "c867271a",
   "metadata": {},
   "outputs": [
    {
     "name": "stdout",
     "output_type": "stream",
     "text": [
      "Введите год загрузки\n",
      "2023\n"
     ]
    }
   ],
   "source": [
    "print('Введите год загрузки')\n",
    "YEAR = int(input())"
   ]
  },
  {
   "cell_type": "code",
   "execution_count": 8,
   "id": "2b45e906",
   "metadata": {
    "scrolled": true
   },
   "outputs": [],
   "source": [
    "#data.head()"
   ]
  },
  {
   "cell_type": "code",
   "execution_count": 9,
   "id": "445ecc98",
   "metadata": {},
   "outputs": [],
   "source": [
    "data = data.rename(columns = {'Справка о начислениях и оплате по услугам за период по лицевым счетам здания': 'Unnamed_0'})"
   ]
  },
  {
   "cell_type": "code",
   "execution_count": 10,
   "id": "1d8226dd",
   "metadata": {
    "scrolled": true
   },
   "outputs": [
    {
     "name": "stdout",
     "output_type": "stream",
     "text": [
      "<class 'pandas.core.frame.DataFrame'>\n",
      "RangeIndex: 18903 entries, 0 to 18902\n",
      "Data columns (total 13 columns):\n",
      " #   Column       Non-Null Count  Dtype         \n",
      "---  ------       --------------  -----         \n",
      " 0   Unnamed_0    18899 non-null  object        \n",
      " 1   Unnamed: 1   18837 non-null  object        \n",
      " 2   Unnamed: 2   7785 non-null   object        \n",
      " 3   Unnamed: 3   7785 non-null   object        \n",
      " 4   Unnamed: 4   1 non-null      object        \n",
      " 5   Unnamed: 5   18837 non-null  object        \n",
      " 6   Unnamed: 6   13342 non-null  object        \n",
      " 7   Unnamed: 7   0 non-null      float64       \n",
      " 8   Unnamed: 8   13343 non-null  object        \n",
      " 9   Unnamed: 9   13342 non-null  object        \n",
      " 10  Unnamed: 10  18838 non-null  object        \n",
      " 11  Unnamed: 11  1 non-null      datetime64[ns]\n",
      " 12  Unnamed: 12  7785 non-null   object        \n",
      "dtypes: datetime64[ns](1), float64(1), object(11)\n",
      "memory usage: 1.9+ MB\n"
     ]
    }
   ],
   "source": [
    "data.info()"
   ]
  },
  {
   "cell_type": "markdown",
   "id": "faced042",
   "metadata": {},
   "source": [
    "Первый контрольный замер данных:"
   ]
  },
  {
   "cell_type": "code",
   "execution_count": 11,
   "id": "b079612d",
   "metadata": {},
   "outputs": [
    {
     "name": "stdout",
     "output_type": "stream",
     "text": [
      "В представленном файле 7784 записей на сумму  658,375.38\n"
     ]
    }
   ],
   "source": [
    "x_k_1 = data[data['Unnamed_0'] == \"Система видеонаблюдения\"]['Unnamed: 9'].sum()\n",
    "x_d_1 = data[data['Unnamed_0'] == \"Обслуживание домофона\"]['Unnamed: 9'].sum()\n",
    "y_k_1 = data[data['Unnamed_0'] == \"Система видеонаблюдения\"]['Unnamed_0'].count()\n",
    "y_d_1 = data[data['Unnamed_0'] == \"Обслуживание домофона\"]['Unnamed_0'].count()\n",
    "\n",
    "print(f'В представленном файле {y_k_1 + y_d_1} записей на сумму {x_k_1 + x_d_1: ,.2f}')"
   ]
  },
  {
   "cell_type": "code",
   "execution_count": 12,
   "id": "f15c4130",
   "metadata": {},
   "outputs": [],
   "source": [
    "data_1 = data.copy()"
   ]
  },
  {
   "cell_type": "code",
   "execution_count": 13,
   "id": "e9cb6aac",
   "metadata": {},
   "outputs": [],
   "source": [
    "def dom(Unnamed):\n",
    "    if str(Unnamed).find(\", д.\") > 1:\n",
    "        return Unnamed"
   ]
  },
  {
   "cell_type": "code",
   "execution_count": 14,
   "id": "45052e73",
   "metadata": {
    "scrolled": true
   },
   "outputs": [],
   "source": [
    "data_1['dom'] = data_1['Unnamed_0'].apply(dom)"
   ]
  },
  {
   "cell_type": "code",
   "execution_count": 15,
   "id": "422a6b72",
   "metadata": {},
   "outputs": [],
   "source": [
    "for i in range(1, len(data)):\n",
    "    if str(data_1['Unnamed_0'][i]).find(\", д.\") == -1:\n",
    "        data_1['dom'][i] = data_1['dom'][i-1]\n",
    "            \n",
    "    else:\n",
    "        data_1['dom'][i] = data_1['Unnamed_0'][i]"
   ]
  },
  {
   "cell_type": "code",
   "execution_count": 16,
   "id": "e2e5386f",
   "metadata": {},
   "outputs": [],
   "source": [
    "def kv(Unnamed):\n",
    "    if str(Unnamed).find(\"в.\") >= 1:\n",
    "        return Unnamed"
   ]
  },
  {
   "cell_type": "code",
   "execution_count": 17,
   "id": "2213c7ff",
   "metadata": {},
   "outputs": [],
   "source": [
    "data_1['kv'] = data_1['Unnamed_0'].apply(kv)"
   ]
  },
  {
   "cell_type": "code",
   "execution_count": null,
   "id": "0007c7d9",
   "metadata": {},
   "outputs": [],
   "source": [
    "for i in range(1, len(data)):\n",
    "    if str(data_1['Unnamed_0'][i]).find(\"кв.\") == -1:\n",
    "        data_1['kv'][i] = data_1['kv'][i-1]\n",
    "            \n",
    "    else:\n",
    "        data_1['kv'][i] = data_1['Unnamed_0'][i]"
   ]
  },
  {
   "cell_type": "code",
   "execution_count": null,
   "id": "c47ea5da",
   "metadata": {},
   "outputs": [],
   "source": [
    "def ls(Unnamed):\n",
    "    if str(Unnamed).find(\"№\") >= 0:\n",
    "        return Unnamed"
   ]
  },
  {
   "cell_type": "code",
   "execution_count": null,
   "id": "e1162e13",
   "metadata": {},
   "outputs": [],
   "source": [
    "data_1['ls'] = data_1['Unnamed: 10'].apply(ls)"
   ]
  },
  {
   "cell_type": "code",
   "execution_count": null,
   "id": "7a1d107a",
   "metadata": {},
   "outputs": [],
   "source": [
    "for i in range(1, len(data)):\n",
    "    if str(data_1['Unnamed: 10'][i]).find(\"лс\") == -1:\n",
    "        data_1['ls'][i] = data_1['ls'][i-1]\n",
    "            \n",
    "    else:\n",
    "        data_1['ls'][i] = data_1['Unnamed: 10'][i]"
   ]
  },
  {
   "cell_type": "code",
   "execution_count": null,
   "id": "699cd7c2",
   "metadata": {
    "scrolled": true
   },
   "outputs": [],
   "source": [
    "#data_1"
   ]
  },
  {
   "cell_type": "code",
   "execution_count": null,
   "id": "06edac5e",
   "metadata": {},
   "outputs": [],
   "source": [
    "data_1 = data_1.drop(['Unnamed: 1', 'Unnamed: 2', 'Unnamed: 3', 'Unnamed: 4', 'Unnamed: 7', 'Unnamed: 8',\n",
    "                      'Unnamed: 11', 'Unnamed: 12'],\n",
    "                     axis=1)"
   ]
  },
  {
   "cell_type": "code",
   "execution_count": null,
   "id": "9b449274",
   "metadata": {},
   "outputs": [],
   "source": [
    "data_1 = data_1.rename(columns = {'Unnamed_0': 'services', 'Unnamed: 5': 'tarif', 'Unnamed: 6': 'tarif_now',\n",
    "                              'Unnamed: 9': 'sum_total', 'Unnamed: 10': 'balance'})"
   ]
  },
  {
   "cell_type": "code",
   "execution_count": null,
   "id": "6c3e533b",
   "metadata": {
    "scrolled": true
   },
   "outputs": [],
   "source": [
    "products = data_1.query('services == \"Система видеонаблюдения\" or services == \"Обслуживание домофона\"').reset_index(drop=True)"
   ]
  },
  {
   "cell_type": "markdown",
   "id": "a9551495",
   "metadata": {},
   "source": [
    "Второй контрольный замер:"
   ]
  },
  {
   "cell_type": "code",
   "execution_count": null,
   "id": "9d454dbe",
   "metadata": {
    "scrolled": true
   },
   "outputs": [],
   "source": [
    "x_k_2 = products[products['services'] == \"Система видеонаблюдения\"]['sum_total'].sum()\n",
    "x_d_2 = products[products['services'] == \"Обслуживание домофона\"]['sum_total'].sum()\n",
    "y_k_2 = products[products['services'] == \"Система видеонаблюдения\"]['services'].count()\n",
    "y_d_2 = products[products['services'] == \"Обслуживание домофона\"]['services'].count()\n",
    "\n",
    "print(f'В представленном файле {y_k_2 + y_d_2} записей на сумму {x_k_2 + x_d_2: ,.2f}')"
   ]
  },
  {
   "cell_type": "code",
   "execution_count": null,
   "id": "22f48f90",
   "metadata": {
    "scrolled": true
   },
   "outputs": [],
   "source": [
    "if round((X_0/(x_k_2 + x_d_2)),2) == 1 and (y_k_2 + y_d_1) == (y_k_1 + y_d_2) and (x_k_2 + x_d_1) == (x_k_1 + x_d_2):\n",
    "    print('Проверка завершена удачно')\n",
    "else:\n",
    "    print('Данные не достоверные!! Проверьте данные в файле example.xlsx')\n",
    "    writer = pd.ExcelWriter('example.xlsx', engine='xlsxwriter') # Указать writer библиотеки\n",
    "    products.to_excel(writer, 'Sheet1') # Записать ваш DataFrame в файл  \n",
    "    writer.save() # Сохраним результат "
   ]
  },
  {
   "cell_type": "code",
   "execution_count": null,
   "id": "fd2d17fa",
   "metadata": {},
   "outputs": [],
   "source": [
    "#writer = pd.ExcelWriter('example.xlsx', engine='xlsxwriter') # Указать writer библиотеки\n",
    "#control_1.to_excel(writer, 'Sheet1') # Записать ваш DataFrame в файл  \n",
    "#writer.save() # Сохраним результат "
   ]
  },
  {
   "cell_type": "code",
   "execution_count": null,
   "id": "fa220b8b",
   "metadata": {},
   "outputs": [],
   "source": [
    "products['services'] = products['services'].replace({'Обслуживание домофона': 'домофон', 'Система видеонаблюдения': 'камеры'})"
   ]
  },
  {
   "cell_type": "code",
   "execution_count": null,
   "id": "5b493b5f",
   "metadata": {},
   "outputs": [],
   "source": [
    "products['month'] = MONTH\n",
    "products['year'] = YEAR"
   ]
  },
  {
   "cell_type": "code",
   "execution_count": null,
   "id": "8cac0811",
   "metadata": {},
   "outputs": [],
   "source": [
    "products['dom_kv_PKC'] = 0\n",
    "for i in range(len(products)):\n",
    "        \n",
    "    y = \" \".join(products['kv'][i].split('. '))\n",
    "    x = \" \".join(products['dom'][i].split(', д.'))\n",
    "            \n",
    "    products['dom_kv_PKC'][i] = x + \" \" + y"
   ]
  },
  {
   "cell_type": "code",
   "execution_count": null,
   "id": "93dbcb72",
   "metadata": {
    "scrolled": true
   },
   "outputs": [],
   "source": [
    "#products"
   ]
  },
  {
   "cell_type": "code",
   "execution_count": null,
   "id": "4fae6692",
   "metadata": {},
   "outputs": [],
   "source": []
  },
  {
   "cell_type": "code",
   "execution_count": null,
   "id": "4c6da4ac",
   "metadata": {},
   "outputs": [],
   "source": []
  },
  {
   "cell_type": "code",
   "execution_count": null,
   "id": "55fe07af",
   "metadata": {
    "scrolled": true
   },
   "outputs": [],
   "source": [
    "products.info()"
   ]
  },
  {
   "cell_type": "code",
   "execution_count": null,
   "id": "6870cd27",
   "metadata": {},
   "outputs": [],
   "source": [
    "products['sum_total'] = products['sum_total'].astype(float)"
   ]
  },
  {
   "cell_type": "code",
   "execution_count": null,
   "id": "73dc4b27",
   "metadata": {},
   "outputs": [],
   "source": [
    "#products"
   ]
  },
  {
   "cell_type": "markdown",
   "id": "ffc9481f",
   "metadata": {},
   "source": [
    "Загружаем справочник лицевых счетов"
   ]
  },
  {
   "cell_type": "code",
   "execution_count": null,
   "id": "d9ce0c70",
   "metadata": {},
   "outputs": [],
   "source": [
    "box_ls = pd.read_excel('/Users/REKL1/Downloads/TLV/ls_id_standart.xlsx', sheet_name='Sheet1') #загружаем лицевые счета"
   ]
  },
  {
   "cell_type": "code",
   "execution_count": null,
   "id": "26c043be",
   "metadata": {},
   "outputs": [],
   "source": [
    "#box_ls"
   ]
  },
  {
   "cell_type": "code",
   "execution_count": null,
   "id": "3211f2c7",
   "metadata": {},
   "outputs": [],
   "source": [
    "df = products.merge(box_ls, on=[\"ls\", \"services\"], how = 'left').reset_index(drop=True)"
   ]
  },
  {
   "cell_type": "code",
   "execution_count": null,
   "id": "e922a7c9",
   "metadata": {},
   "outputs": [],
   "source": [
    "#df"
   ]
  },
  {
   "cell_type": "code",
   "execution_count": null,
   "id": "deceefd7",
   "metadata": {},
   "outputs": [],
   "source": [
    "warning = 0\n",
    "free_dom = []\n",
    "for i in range(len(df)):\n",
    "    if df['dom_kv_PKC'][i] != df['dom_kv'][i] and df['dom_kv_PKC'][i] != df['dom_kv'][i]:\n",
    "        warning += 1\n",
    "        free_dom.append(df['dom'][i])"
   ]
  },
  {
   "cell_type": "code",
   "execution_count": null,
   "id": "8f82f9d8",
   "metadata": {
    "scrolled": true
   },
   "outputs": [],
   "source": [
    "warning"
   ]
  },
  {
   "cell_type": "code",
   "execution_count": null,
   "id": "7c7628be",
   "metadata": {},
   "outputs": [],
   "source": [
    "set(free_dom)"
   ]
  },
  {
   "cell_type": "code",
   "execution_count": null,
   "id": "3930f1a6",
   "metadata": {},
   "outputs": [],
   "source": [
    "control_1 = df.query('dom in @free_dom')"
   ]
  },
  {
   "cell_type": "code",
   "execution_count": null,
   "id": "d64a9393",
   "metadata": {},
   "outputs": [],
   "source": [
    "writer = pd.ExcelWriter('control_1.xlsx', engine='xlsxwriter') # Указать writer библиотеки\n",
    "control_1.to_excel(writer, 'Sheet1') # Записать ваш DataFrame в файл  \n",
    "writer.save() # Сохраним результат "
   ]
  },
  {
   "cell_type": "code",
   "execution_count": null,
   "id": "8d87f146",
   "metadata": {},
   "outputs": [],
   "source": [
    "df[df['id'].isna() == True].query('dom == \"СВЯТИТЕЛЯ ИННОКЕНТИЯ, д.19\"').head(5)"
   ]
  },
  {
   "cell_type": "code",
   "execution_count": null,
   "id": "54a2dd60",
   "metadata": {},
   "outputs": [],
   "source": [
    "box_dom = pd.read_excel('/Users/REKL1/Downloads/TLV/ls_id_standart.xlsx', sheet_name='Лист2') #загружаем 2021 годa"
   ]
  },
  {
   "cell_type": "code",
   "execution_count": null,
   "id": "371ec8f0",
   "metadata": {},
   "outputs": [],
   "source": [
    "#box_dom.head(5)"
   ]
  },
  {
   "cell_type": "code",
   "execution_count": null,
   "id": "c0f8d3d4",
   "metadata": {},
   "outputs": [],
   "source": [
    "df_1 = df[df['id'].isna() == True]"
   ]
  },
  {
   "cell_type": "code",
   "execution_count": null,
   "id": "b02df78c",
   "metadata": {},
   "outputs": [],
   "source": [
    "df_2 = df[df['id'].isna() == False]"
   ]
  },
  {
   "cell_type": "code",
   "execution_count": null,
   "id": "67a32910",
   "metadata": {
    "scrolled": true
   },
   "outputs": [],
   "source": [
    "df_1 = df_1.merge(box_dom, on=[\"dom_kv_PKC\", \"services\"], how = 'left').reset_index(drop=True)\n",
    "df_1['id'] = df_1['cid']"
   ]
  },
  {
   "cell_type": "code",
   "execution_count": null,
   "id": "86750977",
   "metadata": {},
   "outputs": [],
   "source": [
    "df_1[df_1['id'].isna() == True] #проверяем на пропуски"
   ]
  },
  {
   "cell_type": "code",
   "execution_count": null,
   "id": "5eabef80",
   "metadata": {},
   "outputs": [],
   "source": [
    "df_1 = df_1[['dom', 'services', 'tarif', 'sum_total', 'tarif_now', 'balance', 'ls', 'month', 'year', 'dom_kv_PKC', 'id']]"
   ]
  },
  {
   "cell_type": "code",
   "execution_count": null,
   "id": "19c6865d",
   "metadata": {},
   "outputs": [],
   "source": [
    "df_2 = df_2[['dom', 'services', 'tarif', 'sum_total', 'tarif_now', 'balance', 'ls', 'month', 'year', 'dom_kv_PKC', 'id']]"
   ]
  },
  {
   "cell_type": "code",
   "execution_count": null,
   "id": "77432605",
   "metadata": {},
   "outputs": [],
   "source": []
  },
  {
   "cell_type": "code",
   "execution_count": null,
   "id": "495e83ab",
   "metadata": {},
   "outputs": [],
   "source": [
    "data = df_1.append(df_2, sort = False).reset_index(drop=True) #объединяем файлы"
   ]
  },
  {
   "cell_type": "code",
   "execution_count": null,
   "id": "ce866590",
   "metadata": {},
   "outputs": [],
   "source": [
    "data.info()"
   ]
  },
  {
   "cell_type": "markdown",
   "id": "37f3f31b",
   "metadata": {},
   "source": [
    "Третья проверка:"
   ]
  },
  {
   "cell_type": "code",
   "execution_count": null,
   "id": "f68d04ae",
   "metadata": {},
   "outputs": [],
   "source": [
    "x_k_3 = data[data['services'] == \"камеры\"]['sum_total'].sum()\n",
    "x_d_3 = data[data['services'] == \"домофон\"]['sum_total'].sum()\n",
    "y_k_3 = data[data['services'] == \"камеры\"]['sum_total'].count()\n",
    "y_d_3 = data[data['services'] == \"домофон\"]['sum_total'].count()\n",
    "\n",
    "print(f'В представленном файле {y_k_3 + y_d_3} записей на сумму {x_k_3 + x_d_3: ,.2f}')"
   ]
  },
  {
   "cell_type": "code",
   "execution_count": null,
   "id": "37e603ce",
   "metadata": {},
   "outputs": [],
   "source": [
    "data_export = data[data['sum_total'] > 0]\n",
    "data_export = data_export[['ls', 'services','sum_total', 'id']].reset_index()"
   ]
  },
  {
   "cell_type": "code",
   "execution_count": null,
   "id": "7476b060",
   "metadata": {},
   "outputs": [],
   "source": [
    "data_export_1 = data[data['tarif_now'] != 0]\n",
    "data_export_1 = data_export_1[['ls', 'services','tarif_now', 'id']].reset_index()"
   ]
  },
  {
   "cell_type": "code",
   "execution_count": null,
   "id": "50994a26",
   "metadata": {
    "scrolled": true
   },
   "outputs": [],
   "source": [
    "#data_export_1"
   ]
  },
  {
   "cell_type": "markdown",
   "id": "7f245608",
   "metadata": {},
   "source": [
    "Выгружаем данные:"
   ]
  },
  {
   "cell_type": "code",
   "execution_count": null,
   "id": "442d96c1",
   "metadata": {},
   "outputs": [],
   "source": [
    "writer = pd.ExcelWriter('data_PKC_01_23.xlsx', engine='xlsxwriter') # Указать writer библиотеки\n",
    "data.to_excel(writer, 'Sheet1') # Записать ваш DataFrame в файл  \n",
    "writer.save() # Сохраним результат "
   ]
  },
  {
   "cell_type": "code",
   "execution_count": null,
   "id": "6b166d64",
   "metadata": {},
   "outputs": [],
   "source": [
    "#writer = pd.ExcelWriter('ls_id.xlsx', engine='xlsxwriter') # Указать writer библиотеки\n",
    "#data[['ls', 'services', 'id', 'dom']].to_excel(writer, 'Sheet1') # Записать ваш DataFrame в файл  \n",
    "#writer.save() # Сохраним результат "
   ]
  },
  {
   "cell_type": "code",
   "execution_count": null,
   "id": "bf9ad806",
   "metadata": {},
   "outputs": [],
   "source": [
    "writer = pd.ExcelWriter('data_export.xlsx', engine='xlsxwriter') # Указать writer библиотеки\n",
    "data_export.to_excel(writer, 'Sheet1') # Записать ваш DataFrame в файл  \n",
    "data_export_1.to_excel(writer, 'Sheet2') # Записать ваш DataFrame в файл  \n",
    "writer.save() # Сохраним результат "
   ]
  },
  {
   "cell_type": "code",
   "execution_count": null,
   "id": "16164344",
   "metadata": {},
   "outputs": [],
   "source": []
  },
  {
   "cell_type": "code",
   "execution_count": null,
   "id": "7276e339",
   "metadata": {},
   "outputs": [],
   "source": []
  },
  {
   "cell_type": "code",
   "execution_count": null,
   "id": "f4254c4f",
   "metadata": {},
   "outputs": [],
   "source": []
  },
  {
   "cell_type": "code",
   "execution_count": null,
   "id": "3e5c5605",
   "metadata": {},
   "outputs": [],
   "source": []
  },
  {
   "cell_type": "code",
   "execution_count": null,
   "id": "ad47899c",
   "metadata": {},
   "outputs": [],
   "source": []
  },
  {
   "cell_type": "code",
   "execution_count": null,
   "id": "f6b425d1",
   "metadata": {},
   "outputs": [],
   "source": []
  }
 ],
 "metadata": {
  "kernelspec": {
   "display_name": "Python 3 (ipykernel)",
   "language": "python",
   "name": "python3"
  },
  "language_info": {
   "codemirror_mode": {
    "name": "ipython",
    "version": 3
   },
   "file_extension": ".py",
   "mimetype": "text/x-python",
   "name": "python",
   "nbconvert_exporter": "python",
   "pygments_lexer": "ipython3",
   "version": "3.9.12"
  }
 },
 "nbformat": 4,
 "nbformat_minor": 5
}
