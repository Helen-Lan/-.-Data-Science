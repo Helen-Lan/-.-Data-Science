{
 "cells": [
  {
   "cell_type": "markdown",
   "id": "177d45ca",
   "metadata": {},
   "source": [
    "# Проект: Введение в машинное обучение"
   ]
  },
  {
   "cell_type": "markdown",
   "id": "0fd07c4f",
   "metadata": {},
   "source": [
    "**Цель проекта: построить модель для задачи классификации, которая выберет подходящий тариф.**\n",
    "\n",
    "Входные данные: сведения о 500 пользователей и их использование сотовой связью.\n",
    "Оператор мобильной связи «Мегалайн» выяснил: многие клиенты пользуются архивными тарифами. Они хотят построить систему, способную проанализировать поведение клиентов и предложить пользователям новый тариф: «Смарт» или «Ультра».\n",
    "В вашем распоряжении данные о поведении клиентов, которые уже перешли на эти тарифы."
   ]
  },
  {
   "cell_type": "markdown",
   "id": "7108d6f9",
   "metadata": {},
   "source": [
    "**План работы:**\n",
    "- изучение данных;\n",
    "- разделение данных на обучающую, валидационную и тестовую выборки;\n",
    "- постороение моделей c минимальной долей правильных ответов 0,75;\n",
    "- изучение качества разных моделей;\n",
    "- проверка качества модели на тестовой выборке;\n",
    "- проверка модели на вменяемость\n"
   ]
  },
  {
   "cell_type": "markdown",
   "id": "9687ae11",
   "metadata": {},
   "source": [
    "## Шаг 1. Обзор данных"
   ]
  },
  {
   "cell_type": "markdown",
   "id": "e6415dee",
   "metadata": {},
   "source": [
    "## Загружаем данные"
   ]
  },
  {
   "cell_type": "markdown",
   "id": "42b38721",
   "metadata": {},
   "source": [
    "Импортируем библиотеки"
   ]
  },
  {
   "cell_type": "code",
   "execution_count": 87,
   "id": "bd70462e",
   "metadata": {},
   "outputs": [],
   "source": [
    "import pandas as pd\n",
    "from sklearn.model_selection import train_test_split\n",
    "from sklearn.ensemble import RandomForestClassifier\n",
    "from sklearn.tree import DecisionTreeClassifier\n",
    "from sklearn.linear_model import LogisticRegression\n",
    "from sklearn.metrics import accuracy_score\n",
    "import matplotlib.pyplot as plt\n",
    "from sklearn.dummy import DummyClassifier \n",
    "import seaborn as sns\n",
    "%matplotlib inline"
   ]
  },
  {
   "cell_type": "markdown",
   "id": "be7cd6ce",
   "metadata": {},
   "source": [
    "Загружаем датафрейм"
   ]
  },
  {
   "cell_type": "code",
   "execution_count": 88,
   "id": "1564ec34",
   "metadata": {},
   "outputs": [],
   "source": [
    "try:\n",
    "    data = pd.read_csv('/datasets/users_behavior.csv')\n",
    "except:\n",
    "    data = pd.read_csv('C:/Users/alnka/Downloads/users_behavior.csv')"
   ]
  },
  {
   "cell_type": "markdown",
   "id": "e1f6c6ec",
   "metadata": {},
   "source": [
    "Снижает размерность чисел для вывода на экран на всем проекте:"
   ]
  },
  {
   "cell_type": "code",
   "execution_count": 89,
   "id": "eedec2f3",
   "metadata": {},
   "outputs": [],
   "source": [
    "pd.options.display.float_format = '{:,.2f}'.format"
   ]
  },
  {
   "cell_type": "markdown",
   "id": "0b1b2330",
   "metadata": {},
   "source": [
    "## Изучаем данные"
   ]
  },
  {
   "cell_type": "code",
   "execution_count": 90,
   "id": "39960fdb",
   "metadata": {},
   "outputs": [
    {
     "name": "stdout",
     "output_type": "stream",
     "text": [
      "<class 'pandas.core.frame.DataFrame'>\n",
      "RangeIndex: 3214 entries, 0 to 3213\n",
      "Data columns (total 5 columns):\n",
      " #   Column    Non-Null Count  Dtype  \n",
      "---  ------    --------------  -----  \n",
      " 0   calls     3214 non-null   float64\n",
      " 1   minutes   3214 non-null   float64\n",
      " 2   messages  3214 non-null   float64\n",
      " 3   mb_used   3214 non-null   float64\n",
      " 4   is_ultra  3214 non-null   int64  \n",
      "dtypes: float64(4), int64(1)\n",
      "memory usage: 125.7 KB\n"
     ]
    }
   ],
   "source": [
    "data.info()"
   ]
  },
  {
   "cell_type": "code",
   "execution_count": 91,
   "id": "9d69e4bf",
   "metadata": {},
   "outputs": [
    {
     "data": {
      "text/html": [
       "<div>\n",
       "<style scoped>\n",
       "    .dataframe tbody tr th:only-of-type {\n",
       "        vertical-align: middle;\n",
       "    }\n",
       "\n",
       "    .dataframe tbody tr th {\n",
       "        vertical-align: top;\n",
       "    }\n",
       "\n",
       "    .dataframe thead th {\n",
       "        text-align: right;\n",
       "    }\n",
       "</style>\n",
       "<table border=\"1\" class=\"dataframe\">\n",
       "  <thead>\n",
       "    <tr style=\"text-align: right;\">\n",
       "      <th></th>\n",
       "      <th>calls</th>\n",
       "      <th>minutes</th>\n",
       "      <th>messages</th>\n",
       "      <th>mb_used</th>\n",
       "      <th>is_ultra</th>\n",
       "    </tr>\n",
       "  </thead>\n",
       "  <tbody>\n",
       "    <tr>\n",
       "      <th>0</th>\n",
       "      <td>40.00</td>\n",
       "      <td>311.90</td>\n",
       "      <td>83.00</td>\n",
       "      <td>19,915.42</td>\n",
       "      <td>0</td>\n",
       "    </tr>\n",
       "    <tr>\n",
       "      <th>1</th>\n",
       "      <td>85.00</td>\n",
       "      <td>516.75</td>\n",
       "      <td>56.00</td>\n",
       "      <td>22,696.96</td>\n",
       "      <td>0</td>\n",
       "    </tr>\n",
       "    <tr>\n",
       "      <th>2</th>\n",
       "      <td>77.00</td>\n",
       "      <td>467.66</td>\n",
       "      <td>86.00</td>\n",
       "      <td>21,060.45</td>\n",
       "      <td>0</td>\n",
       "    </tr>\n",
       "    <tr>\n",
       "      <th>3</th>\n",
       "      <td>106.00</td>\n",
       "      <td>745.53</td>\n",
       "      <td>81.00</td>\n",
       "      <td>8,437.39</td>\n",
       "      <td>1</td>\n",
       "    </tr>\n",
       "    <tr>\n",
       "      <th>4</th>\n",
       "      <td>66.00</td>\n",
       "      <td>418.74</td>\n",
       "      <td>1.00</td>\n",
       "      <td>14,502.75</td>\n",
       "      <td>0</td>\n",
       "    </tr>\n",
       "  </tbody>\n",
       "</table>\n",
       "</div>"
      ],
      "text/plain": [
       "   calls  minutes  messages   mb_used  is_ultra\n",
       "0  40.00   311.90     83.00 19,915.42         0\n",
       "1  85.00   516.75     56.00 22,696.96         0\n",
       "2  77.00   467.66     86.00 21,060.45         0\n",
       "3 106.00   745.53     81.00  8,437.39         1\n",
       "4  66.00   418.74      1.00 14,502.75         0"
      ]
     },
     "metadata": {},
     "output_type": "display_data"
    }
   ],
   "source": [
    "display(data.head(5))"
   ]
  },
  {
   "cell_type": "code",
   "execution_count": 92,
   "id": "14dfdf1f",
   "metadata": {},
   "outputs": [
    {
     "data": {
      "text/plain": [
       "985"
      ]
     },
     "execution_count": 92,
     "metadata": {},
     "output_type": "execute_result"
    }
   ],
   "source": [
    "data['is_ultra'].sum()"
   ]
  },
  {
   "cell_type": "markdown",
   "id": "f6f535bc",
   "metadata": {},
   "source": [
    "В данном датафрейме 3214 объекта 5 признаков. Пропуски отсутствуют. "
   ]
  },
  {
   "cell_type": "markdown",
   "id": "67c5bf9d",
   "metadata": {},
   "source": [
    "Выборка не сбалансирована, так как количество абонентов с тарифом ультра 985 из 3214 (менее 30%). "
   ]
  },
  {
   "cell_type": "markdown",
   "id": "f9422348",
   "metadata": {},
   "source": [
    "> \"Как определить высокие и низкие цены? Хорошо, когда классов в машинном обучении примерно поровну. Почему? Тяжело научиться отличать уток-мандаринок от лутков, если показывать только первых!\""
   ]
  },
  {
   "cell_type": "code",
   "execution_count": 93,
   "id": "3053ccae",
   "metadata": {
    "scrolled": true
   },
   "outputs": [
    {
     "data": {
      "image/png": "[encoded data removed]",
      "text/plain": [
       "<Figure size 764.5x720 with 20 Axes>"
      ]
     },
     "metadata": {
      "needs_background": "light"
     },
     "output_type": "display_data"
    }
   ],
   "source": [
    "sns.pairplot(data, hue='is_ultra', palette='Purples');"
   ]
  },
  {
   "cell_type": "markdown",
   "id": "87b52467",
   "metadata": {},
   "source": [
    "## Разделяем датафрейм на обучающую, валидационную и тестовую выборки"
   ]
  },
  {
   "cell_type": "markdown",
   "id": "b7de63be",
   "metadata": {},
   "source": [
    "Разделим датафрейм:\n",
    "- 60% - обучающая выборка\n",
    "- 20% - валидационная выборка\n",
    "- 20% - тестовая выборка"
   ]
  },
  {
   "cell_type": "code",
   "execution_count": 94,
   "id": "0753cd08",
   "metadata": {},
   "outputs": [],
   "source": [
    "df_train, df = train_test_split(data, test_size=0.4, random_state=12345)\n",
    "df_test, df_valid = train_test_split(df, test_size=0.5, random_state=12345)"
   ]
  },
  {
   "cell_type": "markdown",
   "id": "00c9eb53",
   "metadata": {},
   "source": [
    "Проверяем:"
   ]
  },
  {
   "cell_type": "code",
   "execution_count": 95,
   "id": "b3414b9b",
   "metadata": {
    "scrolled": true
   },
   "outputs": [
    {
     "name": "stdout",
     "output_type": "stream",
     "text": [
      "<class 'pandas.core.frame.DataFrame'>\n",
      "Int64Index: 1928 entries, 3027 to 482\n",
      "Data columns (total 5 columns):\n",
      " #   Column    Non-Null Count  Dtype  \n",
      "---  ------    --------------  -----  \n",
      " 0   calls     1928 non-null   float64\n",
      " 1   minutes   1928 non-null   float64\n",
      " 2   messages  1928 non-null   float64\n",
      " 3   mb_used   1928 non-null   float64\n",
      " 4   is_ultra  1928 non-null   int64  \n",
      "dtypes: float64(4), int64(1)\n",
      "memory usage: 90.4 KB\n"
     ]
    }
   ],
   "source": [
    "df_train.info()"
   ]
  },
  {
   "cell_type": "code",
   "execution_count": 96,
   "id": "c4c6d8a9",
   "metadata": {},
   "outputs": [
    {
     "name": "stdout",
     "output_type": "stream",
     "text": [
      "<class 'pandas.core.frame.DataFrame'>\n",
      "Int64Index: 643 entries, 1386 to 3197\n",
      "Data columns (total 5 columns):\n",
      " #   Column    Non-Null Count  Dtype  \n",
      "---  ------    --------------  -----  \n",
      " 0   calls     643 non-null    float64\n",
      " 1   minutes   643 non-null    float64\n",
      " 2   messages  643 non-null    float64\n",
      " 3   mb_used   643 non-null    float64\n",
      " 4   is_ultra  643 non-null    int64  \n",
      "dtypes: float64(4), int64(1)\n",
      "memory usage: 30.1 KB\n"
     ]
    }
   ],
   "source": [
    "df_test.info()"
   ]
  },
  {
   "cell_type": "code",
   "execution_count": 97,
   "id": "0d932363",
   "metadata": {
    "scrolled": true
   },
   "outputs": [
    {
     "name": "stdout",
     "output_type": "stream",
     "text": [
      "<class 'pandas.core.frame.DataFrame'>\n",
      "Int64Index: 643 entries, 160 to 2313\n",
      "Data columns (total 5 columns):\n",
      " #   Column    Non-Null Count  Dtype  \n",
      "---  ------    --------------  -----  \n",
      " 0   calls     643 non-null    float64\n",
      " 1   minutes   643 non-null    float64\n",
      " 2   messages  643 non-null    float64\n",
      " 3   mb_used   643 non-null    float64\n",
      " 4   is_ultra  643 non-null    int64  \n",
      "dtypes: float64(4), int64(1)\n",
      "memory usage: 30.1 KB\n"
     ]
    }
   ],
   "source": [
    "df_valid.info()"
   ]
  },
  {
   "cell_type": "markdown",
   "id": "dae05f72",
   "metadata": {},
   "source": [
    "Создаем данные для обучения `features` и целевой признак `target` из обучающей выборки:"
   ]
  },
  {
   "cell_type": "code",
   "execution_count": 98,
   "id": "b7de5af4",
   "metadata": {},
   "outputs": [],
   "source": [
    "features = df_train.drop(['is_ultra'], axis=1)\n",
    "target = df_train['is_ultra']"
   ]
  },
  {
   "cell_type": "markdown",
   "id": "3600ea39",
   "metadata": {},
   "source": [
    "Создаем данные для обучения features и целевой признак target из валидационной выборки:"
   ]
  },
  {
   "cell_type": "code",
   "execution_count": 99,
   "id": "624ccc14",
   "metadata": {},
   "outputs": [],
   "source": [
    "features_valid = df_valid.drop(['is_ultra'], axis=1)\n",
    "target_valid = df_valid['is_ultra']"
   ]
  },
  {
   "cell_type": "markdown",
   "id": "53e4428e",
   "metadata": {},
   "source": [
    "Создаем данные для обучения features и целевой признак target из тестовой выборки:"
   ]
  },
  {
   "cell_type": "code",
   "execution_count": 100,
   "id": "8db583c8",
   "metadata": {},
   "outputs": [],
   "source": [
    "features_test = df_test.drop(['is_ultra'], axis=1)\n",
    "target_test = df_test['is_ultra']"
   ]
  },
  {
   "cell_type": "markdown",
   "id": "9d23dd41",
   "metadata": {},
   "source": [
    "**Вывод**\n",
    "\n",
    "Данные изучены, разделены и готовы к построению моделей обучения."
   ]
  },
  {
   "cell_type": "markdown",
   "id": "385f078b",
   "metadata": {},
   "source": [
    "## Строим модели"
   ]
  },
  {
   "cell_type": "markdown",
   "id": "f93485b2",
   "metadata": {},
   "source": [
    "Нам предстоит обучить модель бинарной классификации, определить тариф на основании представленных признаков, поэтому будем использовать модели:\n",
    "- дерево решений\n",
    "- случайный лес\n",
    "- логистическая регрессия"
   ]
  },
  {
   "cell_type": "markdown",
   "id": "9df9f9a1",
   "metadata": {},
   "source": [
    "### Дерево решений "
   ]
  },
  {
   "cell_type": "code",
   "execution_count": 101,
   "id": "8c26bf8a",
   "metadata": {
    "scrolled": false
   },
   "outputs": [
    {
     "name": "stdout",
     "output_type": "stream",
     "text": [
      "max_depth = 1 : 0.7356143079315708\n",
      "max_depth = 2 : 0.7744945567651633\n",
      "max_depth = 3 : 0.7791601866251944\n",
      "max_depth = 4 : 0.7744945567651633\n",
      "max_depth = 5 : 0.7838258164852255\n",
      "max_depth = 6 : 0.776049766718507\n",
      "max_depth = 7 : 0.7993779160186625\n",
      "max_depth = 8 : 0.7931570762052877\n",
      "max_depth = 9 : 0.7807153965785381\n",
      "Лучший результат 0.7993779160186625 у модели с гиперпараметром max_depth= 7\n",
      "CPU times: user 59.9 ms, sys: 0 ns, total: 59.9 ms\n",
      "Wall time: 86.6 ms\n"
     ]
    }
   ],
   "source": [
    "%%time\n",
    "\n",
    "best = None\n",
    "best_result = 0 #переменные для лучшего результата \n",
    "accuracy_result = [] #переменная для сохранения результатов \n",
    "depth_result = [] #переменная для сохранения показателей \n",
    "for depth in range(1, 10):\n",
    "    model = DecisionTreeClassifier(random_state=12345, max_depth=depth)\n",
    "    model.fit(features, target) #обучаем модель\n",
    "    predictions_valid = model.predict(features_valid) #получаем предсказания\n",
    "    accuracy = accuracy_score(target_valid, predictions_valid) #проверяем долю верных ответов\n",
    "    print(f'max_depth = {depth} : {accuracy}') #выводим на экран результаты\n",
    "    accuracy_result.append(accuracy) #сохраняем результат\n",
    "    depth_result.append(depth) #сохраняем показатель\n",
    "    if best_result < accuracy: #выбираем лечшее решение\n",
    "        best = depth\n",
    "        best_result = accuracy\n",
    "print(f'Лучший результат {best_result} у модели с гиперпараметром max_depth= {best}')"
   ]
  },
  {
   "cell_type": "code",
   "execution_count": 102,
   "id": "2948895c",
   "metadata": {},
   "outputs": [
    {
     "data": {
      "image/png": "[encoded data removed]",
      "text/plain": [
       "<Figure size 1008x288 with 1 Axes>"
      ]
     },
     "metadata": {
      "needs_background": "light"
     },
     "output_type": "display_data"
    }
   ],
   "source": [
    "x = depth_result\n",
    "y = accuracy_result\n",
    "plt.figure(figsize=(14,4))\n",
    "plt.plot(x, y)\n",
    "plt.grid()\n",
    "plt.title(\"Результативность модели\")\n",
    "plt.xlabel(\"Гипперпарамерт max_depth\")\n",
    "plt.ylabel(\"Результат\");"
   ]
  },
  {
   "cell_type": "markdown",
   "id": "58b26f12",
   "metadata": {},
   "source": [
    "**Вывод:**\n",
    "\n",
    "Лучший результат показала модель с показателем `depth_result` равной 7 (гиперпараметр решающего дерева - максимальная глубина)."
   ]
  },
  {
   "cell_type": "markdown",
   "id": "896f9b1e",
   "metadata": {},
   "source": [
    "### Случайный лес"
   ]
  },
  {
   "cell_type": "code",
   "execution_count": 103,
   "id": "34c031bb",
   "metadata": {},
   "outputs": [
    {
     "name": "stdout",
     "output_type": "stream",
     "text": [
      "max_depth = 5 : 0.7667185069984448\n",
      "max_depth = 10 : 0.7807153965785381\n",
      "max_depth = 15 : 0.7807153965785381\n",
      "max_depth = 20 : 0.7822706065318819\n",
      "max_depth = 25 : 0.7776049766718507\n",
      "max_depth = 30 : 0.7853810264385692\n",
      "max_depth = 50 : 0.7931570762052877\n",
      "max_depth = 100 : 0.7853810264385692\n",
      "max_depth = 150 : 0.7884914463452566\n",
      "Лучший результат 0.7931570762052877 у модели с гиперпараметром max_depth= 50\n",
      "CPU times: user 1.5 s, sys: 20.1 ms, total: 1.52 s\n",
      "Wall time: 1.64 s\n"
     ]
    }
   ],
   "source": [
    "%%time\n",
    "best = None\n",
    "best_result = 0 #переменные для лучшего результата \n",
    "accuracy_result = [] #переменная для сохранения результатов \n",
    "est_result = [] #переменная для сохранения показателей \n",
    "for est in (5, 10, 15, 20, 25, 30, 50, 100, 150):\n",
    "    model = RandomForestClassifier(random_state=12345, n_estimators=est)\n",
    "    model.fit(features, target) #обучаем модель\n",
    "    predictions_valid = model.predict(features_valid) #получаем предсказания\n",
    "    accuracy = accuracy_score(target_valid, predictions_valid) #проверяем долю верных ответов\n",
    "    print(f'max_depth = {est} : {accuracy}') #выводим на экран результаты\n",
    "    accuracy_result.append(accuracy) #сохраняем результат\n",
    "    est_result.append(est) #сохраняем показатель\n",
    "    if best_result < accuracy: #выбираем лечшее решение\n",
    "        best = est\n",
    "        best_result = accuracy\n",
    "print(f'Лучший результат {best_result} у модели с гиперпараметром max_depth= {best}')"
   ]
  },
  {
   "cell_type": "code",
   "execution_count": 104,
   "id": "e4680bae",
   "metadata": {},
   "outputs": [
    {
     "data": {
      "image/png": "[encoded data removed]",
      "text/plain": [
       "<Figure size 1008x288 with 1 Axes>"
      ]
     },
     "metadata": {
      "needs_background": "light"
     },
     "output_type": "display_data"
    }
   ],
   "source": [
    "x = est_result\n",
    "y = accuracy_result\n",
    "plt.figure(figsize=(14,4))\n",
    "plt.plot(x, y)\n",
    "plt.grid()\n",
    "plt.title(\"Результативность модели\")\n",
    "plt.xlabel(\"Гипперпарамерт est_result\")\n",
    "plt.ylabel(\"Результат\");"
   ]
  },
  {
   "cell_type": "markdown",
   "id": "0cc9f53c",
   "metadata": {},
   "source": [
    "**Вывод:**\n",
    "\n",
    "Лучший результат показала модель с показателем `n_estimators` равной 50 (гиперпараметр случайного леса - количество деревьев)."
   ]
  },
  {
   "cell_type": "markdown",
   "id": "20801013",
   "metadata": {},
   "source": [
    "### Логистическая регрессия"
   ]
  },
  {
   "cell_type": "code",
   "execution_count": 105,
   "id": "10b07b40",
   "metadata": {
    "scrolled": true
   },
   "outputs": [
    {
     "name": "stdout",
     "output_type": "stream",
     "text": [
      " Модель логистической регрессии на валидационной выборке: 0.6842923794712286\n",
      "CPU times: user 19.5 ms, sys: 134 µs, total: 19.6 ms\n",
      "Wall time: 18.2 ms\n"
     ]
    }
   ],
   "source": [
    "%%time\n",
    "\n",
    "model = LogisticRegression(random_state=12345)\n",
    "model.fit(features, target)\n",
    "predictions_valid = model.predict(features_valid)\n",
    "accuracy = accuracy_score(target_valid, predictions_valid)\n",
    "print(f' Модель логистической регрессии на валидационной выборке: {accuracy}')"
   ]
  },
  {
   "cell_type": "markdown",
   "id": "955f7499",
   "metadata": {},
   "source": [
    "**Вывод**\n",
    "\n",
    "Модель логистической регрессии дает результат 0.68 успешных предсказаний (доля)."
   ]
  },
  {
   "cell_type": "markdown",
   "id": "304b3c4d",
   "metadata": {},
   "source": [
    "**Вывод:**\n",
    "- Модель случайного леса медленне, но дает лучший результат\n",
    "- Модель дерева решений показало так же хороший результат\n",
    "- Модель логистической регрессии показало самый низкий результат на валидационной и тестовой выборке, но показало самую высокую скорость. \n"
   ]
  },
  {
   "cell_type": "markdown",
   "id": "3051fa3e",
   "metadata": {},
   "source": [
    "## Проверка качества моделей на тестовой выборке."
   ]
  },
  {
   "cell_type": "markdown",
   "id": "e999044c",
   "metadata": {},
   "source": [
    "Для проверки моделей на тестовой выборке, объединяем обучающую выборку с валидационной. Аналогично поступаем с целевым признаком."
   ]
  },
  {
   "cell_type": "code",
   "execution_count": 106,
   "id": "f2bcef4e",
   "metadata": {
    "scrolled": true
   },
   "outputs": [],
   "source": [
    "features_training = features.append(features_valid)\n",
    "target_training = target.append(target_valid)"
   ]
  },
  {
   "cell_type": "markdown",
   "id": "61be0336",
   "metadata": {},
   "source": [
    "Проверяем:"
   ]
  },
  {
   "cell_type": "code",
   "execution_count": 107,
   "id": "9752048a",
   "metadata": {},
   "outputs": [
    {
     "name": "stdout",
     "output_type": "stream",
     "text": [
      "<class 'pandas.core.frame.DataFrame'>\n",
      "Int64Index: 2571 entries, 3027 to 2313\n",
      "Data columns (total 4 columns):\n",
      " #   Column    Non-Null Count  Dtype  \n",
      "---  ------    --------------  -----  \n",
      " 0   calls     2571 non-null   float64\n",
      " 1   minutes   2571 non-null   float64\n",
      " 2   messages  2571 non-null   float64\n",
      " 3   mb_used   2571 non-null   float64\n",
      "dtypes: float64(4)\n",
      "memory usage: 100.4 KB\n"
     ]
    }
   ],
   "source": [
    "features_training.info()"
   ]
  },
  {
   "cell_type": "code",
   "execution_count": 108,
   "id": "f0027eb4",
   "metadata": {
    "scrolled": false
   },
   "outputs": [
    {
     "data": {
      "text/plain": [
       "3027    0\n",
       "434     0\n",
       "1226    0\n",
       "1054    0\n",
       "1842    0\n",
       "       ..\n",
       "2401    0\n",
       "2928    1\n",
       "1985    0\n",
       "357     0\n",
       "2313    0\n",
       "Name: is_ultra, Length: 2571, dtype: int64"
      ]
     },
     "execution_count": 108,
     "metadata": {},
     "output_type": "execute_result"
    }
   ],
   "source": [
    "target_training"
   ]
  },
  {
   "cell_type": "code",
   "execution_count": 109,
   "id": "9993990b",
   "metadata": {},
   "outputs": [
    {
     "name": "stdout",
     "output_type": "stream",
     "text": [
      " Модель дерева решений на тестовой выборке: 0.7916018662519441\n"
     ]
    }
   ],
   "source": [
    "model = DecisionTreeClassifier(random_state=12345, max_depth=7)\n",
    "model.fit(features_training, target_training) #обучаем модель\n",
    "predictions_test = model.predict(features_test) #получаем предсказания\n",
    "accuracy = accuracy_score(target_test, predictions_test)\n",
    "print(f' Модель дерева решений на тестовой выборке: {accuracy}')"
   ]
  },
  {
   "cell_type": "code",
   "execution_count": 110,
   "id": "e9e9f617",
   "metadata": {
    "scrolled": true
   },
   "outputs": [
    {
     "name": "stdout",
     "output_type": "stream",
     "text": [
      " Модель случайного леса на тестовой выборке: 0.80248833592535\n"
     ]
    }
   ],
   "source": [
    "model = RandomForestClassifier(random_state=12345, n_estimators=50)\n",
    "model.fit(features_training, target_training) #обучаем модель\n",
    "predictions_test = model.predict(features_test) #получаем предсказания\n",
    "accuracy = accuracy_score(target_test, predictions_test)\n",
    "print(f' Модель случайного леса на тестовой выборке: {accuracy}')"
   ]
  },
  {
   "cell_type": "code",
   "execution_count": 111,
   "id": "1ded7882",
   "metadata": {
    "scrolled": true
   },
   "outputs": [
    {
     "name": "stdout",
     "output_type": "stream",
     "text": [
      " Модель логистической регрессии на тестовой выборке: 0.7060653188180405\n"
     ]
    }
   ],
   "source": [
    "model = LogisticRegression(random_state=12345)\n",
    "model.fit(features_training, target_training)\n",
    "predictions_test = model.predict(features_test) #получаем предсказания\n",
    "accuracy = accuracy_score(target_test, predictions_test)\n",
    "print(f' Модель логистической регрессии на тестовой выборке: {accuracy}')"
   ]
  },
  {
   "cell_type": "markdown",
   "id": "8bcc88c6",
   "metadata": {},
   "source": [
    "Для решения поставленной задачи нам подойдет модель случайного леса с гиперпараметром (количество деревьев) равное 50."
   ]
  },
  {
   "cell_type": "markdown",
   "id": "fb6a3d09",
   "metadata": {},
   "source": [
    "## Проверка модели на вменяемость"
   ]
  },
  {
   "cell_type": "code",
   "execution_count": 112,
   "id": "608f3aa2",
   "metadata": {},
   "outputs": [
    {
     "name": "stdout",
     "output_type": "stream",
     "text": [
      "Accuracy Dummy-модели на тестовой выборке: 0.7060653188180405\n"
     ]
    }
   ],
   "source": [
    "\n",
    "dummy = (DummyClassifier(strategy='most_frequent', random_state=12345)\n",
    "         .fit(features_training, target_training))\n",
    "print('Accuracy Dummy-модели на тестовой выборке:', dummy.score(features_test,target_test))\n"
   ]
  },
  {
   "cell_type": "markdown",
   "id": "bffc617f",
   "metadata": {},
   "source": [
    "**Вывод**\n",
    "\n",
    "Результаты проверки данных на DummyClassifier (фиктивной модели) установили порог адекватности 70% успешных предсказанных значений. Выбранная нами модель случайного леса имеет большую результативность и может считаться вменяемой."
   ]
  },
  {
   "cell_type": "markdown",
   "id": "88a82e74",
   "metadata": {},
   "source": [
    "## Вывод:"
   ]
  },
  {
   "cell_type": "markdown",
   "id": "1fee6538",
   "metadata": {},
   "source": [
    "В ходе проделанной работы было выполнено:\n",
    "\n",
    "- изучение данных;\n",
    "- разделение данных на обучающую, валидационную и тестовую выборки;\n",
    "- постороены модели \n",
    "    * дерево решений\n",
    "    * случайный лес\n",
    "    * логистическая регрессия;\n",
    "- изучение качества разных моделей;\n",
    "- проверка качества модели на тестовой выборке;\n",
    "- проверка модели на вменяемость\n",
    "\n",
    "Для решения поставленной задачи нам подойдет модель случайного леса с гиперпараметром (количество деревьев) равное 50 с результативностью предсказаний 80%.\n",
    "\n",
    "Результаты проверки данных на DummyClassifier (фиктивной модели) установили порог адекватности 70% успешных предсказанных значений. Выбранная нами модель случайного леса имеет большую результативность и может считаться вменяемой."
   ]
  }
 ],
 "metadata": {
  "ExecuteTimeLog": [
   {
    "duration": 2874,
    "start_time": "2022-02-19T12:06:01.299Z"
   },
   {
    "duration": 2126,
    "start_time": "2022-02-19T12:06:35.513Z"
   },
   {
    "duration": 1809,
    "start_time": "2022-02-19T12:06:38.573Z"
   },
   {
    "duration": 1903,
    "start_time": "2022-02-19T12:08:28.440Z"
   },
   {
    "duration": 68,
    "start_time": "2022-02-19T12:14:39.368Z"
   },
   {
    "duration": 24,
    "start_time": "2022-02-19T12:19:39.359Z"
   },
   {
    "duration": 4,
    "start_time": "2022-02-19T12:35:22.048Z"
   },
   {
    "duration": 3,
    "start_time": "2022-02-19T12:35:28.699Z"
   },
   {
    "duration": 13,
    "start_time": "2022-02-19T12:37:46.096Z"
   },
   {
    "duration": 13,
    "start_time": "2022-02-19T12:39:49.521Z"
   },
   {
    "duration": 16,
    "start_time": "2022-02-19T12:41:10.037Z"
   },
   {
    "duration": 17,
    "start_time": "2022-02-19T12:41:53.359Z"
   },
   {
    "duration": 33,
    "start_time": "2022-02-19T12:42:09.997Z"
   },
   {
    "duration": 21,
    "start_time": "2022-02-19T12:45:08.814Z"
   },
   {
    "duration": 93,
    "start_time": "2022-02-19T13:05:31.678Z"
   },
   {
    "duration": 13,
    "start_time": "2022-02-19T13:23:15.954Z"
   },
   {
    "duration": 4,
    "start_time": "2022-02-19T13:24:43.066Z"
   },
   {
    "duration": 6,
    "start_time": "2022-02-19T13:24:57.015Z"
   },
   {
    "duration": 4,
    "start_time": "2022-02-19T13:25:40.594Z"
   },
   {
    "duration": 6,
    "start_time": "2022-02-19T13:25:58.033Z"
   },
   {
    "duration": 7717,
    "start_time": "2022-02-21T10:21:14.431Z"
   },
   {
    "duration": 193,
    "start_time": "2022-02-21T10:21:35.569Z"
   },
   {
    "duration": -3777,
    "start_time": "2022-02-21T10:21:39.541Z"
   },
   {
    "duration": -3778,
    "start_time": "2022-02-21T10:21:39.543Z"
   },
   {
    "duration": -3778,
    "start_time": "2022-02-21T10:21:39.544Z"
   },
   {
    "duration": -3778,
    "start_time": "2022-02-21T10:21:39.545Z"
   },
   {
    "duration": -3869,
    "start_time": "2022-02-21T10:21:39.637Z"
   },
   {
    "duration": -3871,
    "start_time": "2022-02-21T10:21:39.640Z"
   },
   {
    "duration": 654,
    "start_time": "2022-02-21T10:21:56.459Z"
   },
   {
    "duration": 13,
    "start_time": "2022-02-21T10:21:57.115Z"
   },
   {
    "duration": 21,
    "start_time": "2022-02-21T10:21:57.131Z"
   },
   {
    "duration": 11,
    "start_time": "2022-02-21T10:21:57.154Z"
   },
   {
    "duration": 4,
    "start_time": "2022-02-21T10:21:57.167Z"
   },
   {
    "duration": 10,
    "start_time": "2022-02-21T10:21:57.173Z"
   },
   {
    "duration": 5,
    "start_time": "2022-02-21T10:23:18.153Z"
   },
   {
    "duration": 5,
    "start_time": "2022-02-21T10:25:53.864Z"
   },
   {
    "duration": 17,
    "start_time": "2022-02-21T10:26:54.324Z"
   },
   {
    "duration": 1024,
    "start_time": "2022-02-21T10:29:23.513Z"
   },
   {
    "duration": 16,
    "start_time": "2022-02-21T10:29:30.052Z"
   },
   {
    "duration": 45,
    "start_time": "2022-02-21T10:31:03.130Z"
   },
   {
    "duration": 14,
    "start_time": "2022-02-21T10:31:03.177Z"
   },
   {
    "duration": 13,
    "start_time": "2022-02-21T10:31:03.194Z"
   },
   {
    "duration": 17,
    "start_time": "2022-02-21T10:31:03.210Z"
   },
   {
    "duration": 25,
    "start_time": "2022-02-21T10:31:03.228Z"
   },
   {
    "duration": 12,
    "start_time": "2022-02-21T10:31:03.255Z"
   },
   {
    "duration": 10,
    "start_time": "2022-02-21T10:31:03.269Z"
   },
   {
    "duration": 14,
    "start_time": "2022-02-21T10:31:03.281Z"
   },
   {
    "duration": 4,
    "start_time": "2022-02-21T10:40:43.310Z"
   },
   {
    "duration": 116,
    "start_time": "2022-02-21T10:42:07.055Z"
   },
   {
    "duration": 115,
    "start_time": "2022-02-21T10:42:58.946Z"
   },
   {
    "duration": 134,
    "start_time": "2022-02-21T10:43:15.475Z"
   },
   {
    "duration": 114,
    "start_time": "2022-02-21T10:44:01.105Z"
   },
   {
    "duration": 50,
    "start_time": "2022-02-21T10:44:08.260Z"
   },
   {
    "duration": 11,
    "start_time": "2022-02-21T10:44:08.312Z"
   },
   {
    "duration": 25,
    "start_time": "2022-02-21T10:44:08.325Z"
   },
   {
    "duration": 33,
    "start_time": "2022-02-21T10:44:08.351Z"
   },
   {
    "duration": 10,
    "start_time": "2022-02-21T10:44:08.386Z"
   },
   {
    "duration": 250,
    "start_time": "2022-02-21T10:44:08.398Z"
   },
   {
    "duration": -3768,
    "start_time": "2022-02-21T10:44:12.418Z"
   },
   {
    "duration": -3768,
    "start_time": "2022-02-21T10:44:12.419Z"
   },
   {
    "duration": -3768,
    "start_time": "2022-02-21T10:44:12.420Z"
   },
   {
    "duration": 5,
    "start_time": "2022-02-21T10:45:21.792Z"
   },
   {
    "duration": 5,
    "start_time": "2022-02-21T10:47:01.372Z"
   },
   {
    "duration": 5,
    "start_time": "2022-02-21T10:47:36.060Z"
   },
   {
    "duration": 4,
    "start_time": "2022-02-21T10:47:47.137Z"
   },
   {
    "duration": 4,
    "start_time": "2022-02-21T10:59:29.626Z"
   },
   {
    "duration": 5,
    "start_time": "2022-02-21T10:59:39.201Z"
   },
   {
    "duration": 4,
    "start_time": "2022-02-21T11:01:09.913Z"
   },
   {
    "duration": 4,
    "start_time": "2022-02-21T11:01:12.146Z"
   },
   {
    "duration": 11,
    "start_time": "2022-02-21T11:01:14.359Z"
   },
   {
    "duration": 7,
    "start_time": "2022-02-21T11:06:20.303Z"
   },
   {
    "duration": 104,
    "start_time": "2022-02-21T11:14:27.592Z"
   },
   {
    "duration": 10,
    "start_time": "2022-02-21T11:16:35.888Z"
   },
   {
    "duration": 10,
    "start_time": "2022-02-21T11:18:12.502Z"
   },
   {
    "duration": 11,
    "start_time": "2022-02-21T11:18:18.289Z"
   },
   {
    "duration": 90,
    "start_time": "2022-02-21T11:18:32.615Z"
   },
   {
    "duration": 6,
    "start_time": "2022-02-21T11:18:46.722Z"
   },
   {
    "duration": 4,
    "start_time": "2022-02-21T11:19:01.631Z"
   },
   {
    "duration": 7,
    "start_time": "2022-02-21T11:19:03.709Z"
   },
   {
    "duration": 8,
    "start_time": "2022-02-21T11:21:51.385Z"
   },
   {
    "duration": 6,
    "start_time": "2022-02-21T11:22:42.632Z"
   },
   {
    "duration": 5,
    "start_time": "2022-02-21T11:22:58.129Z"
   },
   {
    "duration": 6,
    "start_time": "2022-02-21T11:23:05.567Z"
   },
   {
    "duration": 8,
    "start_time": "2022-02-21T11:23:16.103Z"
   },
   {
    "duration": 10,
    "start_time": "2022-02-21T11:23:25.495Z"
   },
   {
    "duration": 8,
    "start_time": "2022-02-21T11:24:19.247Z"
   },
   {
    "duration": 5,
    "start_time": "2022-02-21T11:24:54.507Z"
   },
   {
    "duration": 9,
    "start_time": "2022-02-21T11:33:37.139Z"
   },
   {
    "duration": 7,
    "start_time": "2022-02-21T11:33:51.369Z"
   },
   {
    "duration": 3,
    "start_time": "2022-02-21T11:37:51.349Z"
   },
   {
    "duration": 4,
    "start_time": "2022-02-21T11:37:58.517Z"
   },
   {
    "duration": 140,
    "start_time": "2022-02-21T11:38:23.637Z"
   },
   {
    "duration": 3,
    "start_time": "2022-02-21T11:38:28.011Z"
   },
   {
    "duration": 4,
    "start_time": "2022-02-21T11:38:41.693Z"
   },
   {
    "duration": 6,
    "start_time": "2022-02-21T11:42:54.794Z"
   },
   {
    "duration": 6,
    "start_time": "2022-02-21T11:44:31.750Z"
   },
   {
    "duration": 5,
    "start_time": "2022-02-21T11:44:39.388Z"
   },
   {
    "duration": 9,
    "start_time": "2022-02-21T11:45:52.751Z"
   },
   {
    "duration": 93,
    "start_time": "2022-02-21T11:47:38.689Z"
   },
   {
    "duration": 6,
    "start_time": "2022-02-21T11:47:48.260Z"
   },
   {
    "duration": 2,
    "start_time": "2022-02-21T11:52:23.541Z"
   },
   {
    "duration": 2,
    "start_time": "2022-02-21T11:52:48.283Z"
   },
   {
    "duration": 286,
    "start_time": "2022-02-21T11:56:33.867Z"
   },
   {
    "duration": 4,
    "start_time": "2022-02-21T11:57:21.867Z"
   },
   {
    "duration": 4,
    "start_time": "2022-02-21T12:05:25.578Z"
   },
   {
    "duration": 4,
    "start_time": "2022-02-21T12:08:30.291Z"
   },
   {
    "duration": 12,
    "start_time": "2022-02-21T12:09:09.569Z"
   },
   {
    "duration": 24,
    "start_time": "2022-02-21T12:10:20.355Z"
   },
   {
    "duration": 13,
    "start_time": "2022-02-21T12:10:43.994Z"
   },
   {
    "duration": 16,
    "start_time": "2022-02-21T12:11:02.832Z"
   },
   {
    "duration": 48,
    "start_time": "2022-02-21T12:18:00.233Z"
   },
   {
    "duration": 15,
    "start_time": "2022-02-21T12:18:00.283Z"
   },
   {
    "duration": 43,
    "start_time": "2022-02-21T12:18:00.300Z"
   },
   {
    "duration": 10,
    "start_time": "2022-02-21T12:18:00.346Z"
   },
   {
    "duration": 5,
    "start_time": "2022-02-21T12:18:00.358Z"
   },
   {
    "duration": 9,
    "start_time": "2022-02-21T12:18:00.365Z"
   },
   {
    "duration": 6,
    "start_time": "2022-02-21T12:18:00.376Z"
   },
   {
    "duration": 28,
    "start_time": "2022-02-21T12:18:00.384Z"
   },
   {
    "duration": 31,
    "start_time": "2022-02-21T12:18:00.414Z"
   },
   {
    "duration": 13,
    "start_time": "2022-02-21T12:18:00.447Z"
   },
   {
    "duration": 7,
    "start_time": "2022-02-21T12:18:00.462Z"
   },
   {
    "duration": 10,
    "start_time": "2022-02-21T12:18:00.471Z"
   },
   {
    "duration": 12,
    "start_time": "2022-02-21T12:18:00.482Z"
   },
   {
    "duration": 11,
    "start_time": "2022-02-21T12:18:00.496Z"
   },
   {
    "duration": 38,
    "start_time": "2022-02-21T12:18:00.510Z"
   },
   {
    "duration": 7,
    "start_time": "2022-02-21T12:23:55.997Z"
   },
   {
    "duration": 50,
    "start_time": "2022-02-21T12:24:08.702Z"
   },
   {
    "duration": 11,
    "start_time": "2022-02-21T12:24:08.754Z"
   },
   {
    "duration": 12,
    "start_time": "2022-02-21T12:24:08.767Z"
   },
   {
    "duration": 14,
    "start_time": "2022-02-21T12:24:08.782Z"
   },
   {
    "duration": 10,
    "start_time": "2022-02-21T12:24:08.818Z"
   },
   {
    "duration": 11,
    "start_time": "2022-02-21T12:24:08.835Z"
   },
   {
    "duration": 11,
    "start_time": "2022-02-21T12:24:08.847Z"
   },
   {
    "duration": 5,
    "start_time": "2022-02-21T12:24:08.860Z"
   },
   {
    "duration": 5,
    "start_time": "2022-02-21T12:24:08.867Z"
   },
   {
    "duration": 15,
    "start_time": "2022-02-21T12:24:08.874Z"
   },
   {
    "duration": 5,
    "start_time": "2022-02-21T12:24:08.891Z"
   },
   {
    "duration": 32,
    "start_time": "2022-02-21T12:24:08.898Z"
   },
   {
    "duration": 23,
    "start_time": "2022-02-21T12:24:08.932Z"
   },
   {
    "duration": 11,
    "start_time": "2022-02-21T12:24:08.957Z"
   },
   {
    "duration": 8,
    "start_time": "2022-02-21T12:24:08.969Z"
   },
   {
    "duration": 18,
    "start_time": "2022-02-21T12:24:08.979Z"
   },
   {
    "duration": 71,
    "start_time": "2022-02-21T12:26:54.870Z"
   },
   {
    "duration": 388,
    "start_time": "2022-02-21T12:28:58.786Z"
   },
   {
    "duration": 58,
    "start_time": "2022-02-21T12:29:09.362Z"
   },
   {
    "duration": 333,
    "start_time": "2022-02-21T12:29:56.700Z"
   },
   {
    "duration": 6,
    "start_time": "2022-02-21T12:30:11.757Z"
   },
   {
    "duration": 4,
    "start_time": "2022-02-21T12:41:03.010Z"
   },
   {
    "duration": 5,
    "start_time": "2022-02-21T12:41:06.445Z"
   },
   {
    "duration": 5,
    "start_time": "2022-02-21T12:41:12.911Z"
   },
   {
    "duration": 5,
    "start_time": "2022-02-21T12:41:21.191Z"
   },
   {
    "duration": 5,
    "start_time": "2022-02-21T12:41:32.114Z"
   },
   {
    "duration": 8,
    "start_time": "2022-02-21T13:03:29.861Z"
   },
   {
    "duration": 13,
    "start_time": "2022-02-21T13:03:49.675Z"
   },
   {
    "duration": 7,
    "start_time": "2022-02-21T13:04:00.722Z"
   },
   {
    "duration": 12,
    "start_time": "2022-02-21T13:15:05.215Z"
   },
   {
    "duration": 6,
    "start_time": "2022-02-21T13:15:08.143Z"
   },
   {
    "duration": 17,
    "start_time": "2022-02-21T13:17:51.515Z"
   },
   {
    "duration": 7,
    "start_time": "2022-02-21T13:17:52.332Z"
   },
   {
    "duration": 94,
    "start_time": "2022-02-21T13:18:18.400Z"
   },
   {
    "duration": 13,
    "start_time": "2022-02-21T13:18:40.309Z"
   },
   {
    "duration": 6,
    "start_time": "2022-02-21T13:18:41.760Z"
   },
   {
    "duration": 26,
    "start_time": "2022-02-21T13:20:39.217Z"
   },
   {
    "duration": 6,
    "start_time": "2022-02-21T13:20:40.579Z"
   },
   {
    "duration": 87,
    "start_time": "2022-02-21T13:21:49.170Z"
   },
   {
    "duration": 232,
    "start_time": "2022-02-21T13:21:54.572Z"
   },
   {
    "duration": 252,
    "start_time": "2022-02-21T13:31:07.892Z"
   },
   {
    "duration": 6,
    "start_time": "2022-02-21T13:32:34.990Z"
   },
   {
    "duration": 6,
    "start_time": "2022-02-21T13:32:36.996Z"
   },
   {
    "duration": 73,
    "start_time": "2022-02-21T13:33:27.096Z"
   },
   {
    "duration": 11,
    "start_time": "2022-02-21T13:36:18.834Z"
   },
   {
    "duration": 6,
    "start_time": "2022-02-21T13:36:28.687Z"
   },
   {
    "duration": 253,
    "start_time": "2022-02-21T13:38:17.698Z"
   },
   {
    "duration": 310,
    "start_time": "2022-02-21T13:38:36.737Z"
   },
   {
    "duration": 43,
    "start_time": "2022-02-21T13:41:05.406Z"
   },
   {
    "duration": 7,
    "start_time": "2022-02-21T13:41:06.557Z"
   },
   {
    "duration": 290,
    "start_time": "2022-02-21T13:48:41.343Z"
   },
   {
    "duration": 9,
    "start_time": "2022-02-21T13:48:50.848Z"
   },
   {
    "duration": 7,
    "start_time": "2022-02-21T13:48:53.207Z"
   },
   {
    "duration": 249,
    "start_time": "2022-02-21T13:51:49.231Z"
   },
   {
    "duration": 31,
    "start_time": "2022-02-21T13:52:02.822Z"
   },
   {
    "duration": 820,
    "start_time": "2022-02-21T13:55:31.095Z"
   },
   {
    "duration": 50,
    "start_time": "2022-02-21T13:59:59.518Z"
   },
   {
    "duration": -3770,
    "start_time": "2022-02-21T14:00:31.297Z"
   },
   {
    "duration": 46,
    "start_time": "2022-02-21T14:00:31.737Z"
   },
   {
    "duration": 12,
    "start_time": "2022-02-21T14:00:33.561Z"
   },
   {
    "duration": 15,
    "start_time": "2022-02-21T14:00:39.942Z"
   },
   {
    "duration": 15,
    "start_time": "2022-02-21T14:00:43.813Z"
   },
   {
    "duration": 4,
    "start_time": "2022-02-21T14:00:46.757Z"
   },
   {
    "duration": 6,
    "start_time": "2022-02-21T14:00:51.916Z"
   },
   {
    "duration": 8,
    "start_time": "2022-02-21T14:00:54.900Z"
   },
   {
    "duration": 5,
    "start_time": "2022-02-21T14:01:00.702Z"
   },
   {
    "duration": 5,
    "start_time": "2022-02-21T14:01:05.253Z"
   },
   {
    "duration": 18,
    "start_time": "2022-02-21T14:01:08.613Z"
   },
   {
    "duration": 6,
    "start_time": "2022-02-21T14:01:16.125Z"
   },
   {
    "duration": 4,
    "start_time": "2022-02-21T14:01:20.294Z"
   },
   {
    "duration": 7,
    "start_time": "2022-02-21T14:01:23.732Z"
   },
   {
    "duration": 5,
    "start_time": "2022-02-21T14:01:28.432Z"
   },
   {
    "duration": 5,
    "start_time": "2022-02-21T14:01:30.725Z"
   },
   {
    "duration": 18,
    "start_time": "2022-02-21T14:01:39.789Z"
   },
   {
    "duration": 7,
    "start_time": "2022-02-21T14:01:45.654Z"
   },
   {
    "duration": 7,
    "start_time": "2022-02-21T14:01:56.846Z"
   },
   {
    "duration": -3787,
    "start_time": "2022-02-21T14:02:49.260Z"
   },
   {
    "duration": 14,
    "start_time": "2022-02-21T14:03:17.575Z"
   },
   {
    "duration": 6,
    "start_time": "2022-02-21T14:03:20.170Z"
   },
   {
    "duration": 16,
    "start_time": "2022-02-21T14:03:45.210Z"
   },
   {
    "duration": 6,
    "start_time": "2022-02-21T14:03:47.241Z"
   },
   {
    "duration": 46,
    "start_time": "2022-02-21T14:03:54.566Z"
   },
   {
    "duration": 20,
    "start_time": "2022-02-21T14:03:54.614Z"
   },
   {
    "duration": 40,
    "start_time": "2022-02-21T14:03:54.636Z"
   },
   {
    "duration": 34,
    "start_time": "2022-02-21T14:03:54.679Z"
   },
   {
    "duration": 21,
    "start_time": "2022-02-21T14:03:54.714Z"
   },
   {
    "duration": 34,
    "start_time": "2022-02-21T14:03:54.737Z"
   },
   {
    "duration": 46,
    "start_time": "2022-02-21T14:03:54.773Z"
   },
   {
    "duration": 38,
    "start_time": "2022-02-21T14:03:54.821Z"
   },
   {
    "duration": 37,
    "start_time": "2022-02-21T14:03:54.862Z"
   },
   {
    "duration": 35,
    "start_time": "2022-02-21T14:03:54.901Z"
   },
   {
    "duration": 36,
    "start_time": "2022-02-21T14:03:54.937Z"
   },
   {
    "duration": 33,
    "start_time": "2022-02-21T14:03:54.976Z"
   },
   {
    "duration": 39,
    "start_time": "2022-02-21T14:03:55.011Z"
   },
   {
    "duration": 37,
    "start_time": "2022-02-21T14:03:55.052Z"
   },
   {
    "duration": 40,
    "start_time": "2022-02-21T14:03:55.091Z"
   },
   {
    "duration": 65,
    "start_time": "2022-02-21T14:03:55.133Z"
   },
   {
    "duration": 42,
    "start_time": "2022-02-21T14:03:55.201Z"
   },
   {
    "duration": 66,
    "start_time": "2022-02-21T14:03:55.245Z"
   },
   {
    "duration": 26,
    "start_time": "2022-02-21T14:03:55.313Z"
   },
   {
    "duration": 42,
    "start_time": "2022-02-21T14:03:55.340Z"
   },
   {
    "duration": 34,
    "start_time": "2022-02-21T14:08:28.618Z"
   },
   {
    "duration": 6,
    "start_time": "2022-02-21T14:08:30.186Z"
   },
   {
    "duration": 46,
    "start_time": "2022-02-21T14:09:21.212Z"
   },
   {
    "duration": 6,
    "start_time": "2022-02-21T14:09:22.313Z"
   },
   {
    "duration": 56,
    "start_time": "2022-02-21T14:13:49.789Z"
   },
   {
    "duration": 6,
    "start_time": "2022-02-21T14:13:51.359Z"
   },
   {
    "duration": 28,
    "start_time": "2022-02-21T14:14:36.815Z"
   },
   {
    "duration": 5,
    "start_time": "2022-02-21T14:14:38.922Z"
   },
   {
    "duration": 51,
    "start_time": "2022-02-21T14:14:46.463Z"
   },
   {
    "duration": 14,
    "start_time": "2022-02-21T14:14:46.516Z"
   },
   {
    "duration": 17,
    "start_time": "2022-02-21T14:14:46.532Z"
   },
   {
    "duration": 15,
    "start_time": "2022-02-21T14:14:46.551Z"
   },
   {
    "duration": 8,
    "start_time": "2022-02-21T14:14:46.568Z"
   },
   {
    "duration": 10,
    "start_time": "2022-02-21T14:14:46.577Z"
   },
   {
    "duration": 19,
    "start_time": "2022-02-21T14:14:46.589Z"
   },
   {
    "duration": 4,
    "start_time": "2022-02-21T14:14:46.620Z"
   },
   {
    "duration": 5,
    "start_time": "2022-02-21T14:14:46.626Z"
   },
   {
    "duration": 15,
    "start_time": "2022-02-21T14:14:46.633Z"
   },
   {
    "duration": 6,
    "start_time": "2022-02-21T14:14:46.650Z"
   },
   {
    "duration": 8,
    "start_time": "2022-02-21T14:14:46.658Z"
   },
   {
    "duration": 9,
    "start_time": "2022-02-21T14:14:46.668Z"
   },
   {
    "duration": 42,
    "start_time": "2022-02-21T14:14:46.679Z"
   },
   {
    "duration": 8,
    "start_time": "2022-02-21T14:14:46.723Z"
   },
   {
    "duration": 13,
    "start_time": "2022-02-21T14:14:46.733Z"
   },
   {
    "duration": 10,
    "start_time": "2022-02-21T14:14:46.748Z"
   },
   {
    "duration": 62,
    "start_time": "2022-02-21T14:14:46.760Z"
   },
   {
    "duration": 6,
    "start_time": "2022-02-21T14:14:46.824Z"
   },
   {
    "duration": 4,
    "start_time": "2022-02-21T14:14:46.832Z"
   },
   {
    "duration": 46,
    "start_time": "2022-02-21T14:15:53.822Z"
   },
   {
    "duration": 6,
    "start_time": "2022-02-21T14:15:54.872Z"
   },
   {
    "duration": 85,
    "start_time": "2022-02-21T14:16:57.854Z"
   },
   {
    "duration": 5,
    "start_time": "2022-02-21T14:16:59.222Z"
   },
   {
    "duration": 47,
    "start_time": "2022-02-21T14:22:36.286Z"
   },
   {
    "duration": 48,
    "start_time": "2022-02-21T14:23:04.461Z"
   },
   {
    "duration": 12,
    "start_time": "2022-02-21T14:23:04.512Z"
   },
   {
    "duration": 61,
    "start_time": "2022-02-21T14:23:04.527Z"
   },
   {
    "duration": 32,
    "start_time": "2022-02-21T14:23:04.590Z"
   },
   {
    "duration": 20,
    "start_time": "2022-02-21T14:23:04.624Z"
   },
   {
    "duration": 23,
    "start_time": "2022-02-21T14:23:04.646Z"
   },
   {
    "duration": 13,
    "start_time": "2022-02-21T14:23:04.671Z"
   },
   {
    "duration": 8,
    "start_time": "2022-02-21T14:23:04.685Z"
   },
   {
    "duration": 10,
    "start_time": "2022-02-21T14:23:04.695Z"
   },
   {
    "duration": 14,
    "start_time": "2022-02-21T14:23:04.708Z"
   },
   {
    "duration": 6,
    "start_time": "2022-02-21T14:23:04.723Z"
   },
   {
    "duration": 6,
    "start_time": "2022-02-21T14:23:04.731Z"
   },
   {
    "duration": 11,
    "start_time": "2022-02-21T14:23:04.739Z"
   },
   {
    "duration": 6,
    "start_time": "2022-02-21T14:23:04.752Z"
   },
   {
    "duration": 5,
    "start_time": "2022-02-21T14:23:04.760Z"
   },
   {
    "duration": 15,
    "start_time": "2022-02-21T14:23:04.767Z"
   },
   {
    "duration": 67,
    "start_time": "2022-02-21T14:23:04.784Z"
   },
   {
    "duration": 6,
    "start_time": "2022-02-21T14:23:04.853Z"
   },
   {
    "duration": 112,
    "start_time": "2022-02-21T14:23:04.860Z"
   },
   {
    "duration": 5,
    "start_time": "2022-02-21T14:23:04.973Z"
   },
   {
    "duration": 102,
    "start_time": "2022-02-21T14:25:03.518Z"
   },
   {
    "duration": 46,
    "start_time": "2022-02-21T14:25:27.412Z"
   },
   {
    "duration": 5,
    "start_time": "2022-02-21T14:27:34.645Z"
   },
   {
    "duration": 5,
    "start_time": "2022-02-21T14:27:44.899Z"
   },
   {
    "duration": 9,
    "start_time": "2022-02-21T14:28:31.591Z"
   },
   {
    "duration": 533,
    "start_time": "2022-02-22T09:43:56.628Z"
   },
   {
    "duration": 668,
    "start_time": "2022-02-22T09:44:11.068Z"
   },
   {
    "duration": 11,
    "start_time": "2022-02-22T09:44:11.738Z"
   },
   {
    "duration": 20,
    "start_time": "2022-02-22T09:44:11.751Z"
   },
   {
    "duration": 10,
    "start_time": "2022-02-22T09:44:11.773Z"
   },
   {
    "duration": 5,
    "start_time": "2022-02-22T09:44:11.784Z"
   },
   {
    "duration": 32,
    "start_time": "2022-02-22T09:44:11.790Z"
   },
   {
    "duration": 10,
    "start_time": "2022-02-22T09:44:11.824Z"
   },
   {
    "duration": 7,
    "start_time": "2022-02-22T09:44:11.836Z"
   },
   {
    "duration": 5,
    "start_time": "2022-02-22T09:44:11.845Z"
   },
   {
    "duration": 15,
    "start_time": "2022-02-22T09:44:11.851Z"
   },
   {
    "duration": 5,
    "start_time": "2022-02-22T09:44:11.868Z"
   },
   {
    "duration": 4,
    "start_time": "2022-02-22T09:44:11.875Z"
   },
   {
    "duration": 12,
    "start_time": "2022-02-22T09:44:11.881Z"
   },
   {
    "duration": 27,
    "start_time": "2022-02-22T09:44:11.895Z"
   },
   {
    "duration": 5,
    "start_time": "2022-02-22T09:44:11.923Z"
   },
   {
    "duration": 12,
    "start_time": "2022-02-22T09:44:11.930Z"
   },
   {
    "duration": 86,
    "start_time": "2022-02-22T09:44:11.944Z"
   },
   {
    "duration": 7,
    "start_time": "2022-02-22T09:44:12.032Z"
   },
   {
    "duration": 308,
    "start_time": "2022-02-22T09:44:12.041Z"
   },
   {
    "duration": -67,
    "start_time": "2022-02-22T09:44:12.418Z"
   },
   {
    "duration": -67,
    "start_time": "2022-02-22T09:44:12.420Z"
   },
   {
    "duration": -68,
    "start_time": "2022-02-22T09:44:12.422Z"
   },
   {
    "duration": 280,
    "start_time": "2022-02-22T09:45:08.803Z"
   },
   {
    "duration": 319,
    "start_time": "2022-02-22T09:45:28.673Z"
   },
   {
    "duration": 328,
    "start_time": "2022-02-22T09:45:44.605Z"
   },
   {
    "duration": 334,
    "start_time": "2022-02-22T09:46:29.570Z"
   },
   {
    "duration": 261,
    "start_time": "2022-02-22T09:47:38.296Z"
   },
   {
    "duration": 262,
    "start_time": "2022-02-22T09:56:55.698Z"
   },
   {
    "duration": 266,
    "start_time": "2022-02-22T09:58:07.731Z"
   },
   {
    "duration": 255,
    "start_time": "2022-02-22T09:58:17.980Z"
   },
   {
    "duration": 279,
    "start_time": "2022-02-22T09:58:33.543Z"
   },
   {
    "duration": 428,
    "start_time": "2022-02-22T10:01:30.113Z"
   },
   {
    "duration": 421,
    "start_time": "2022-02-22T10:01:55.452Z"
   },
   {
    "duration": 347,
    "start_time": "2022-02-22T10:02:07.787Z"
   },
   {
    "duration": 359,
    "start_time": "2022-02-22T10:02:39.912Z"
   },
   {
    "duration": 35,
    "start_time": "2022-02-22T10:06:41.322Z"
   },
   {
    "duration": 3922,
    "start_time": "2022-02-22T10:07:24.756Z"
   },
   {
    "duration": -173,
    "start_time": "2022-02-22T10:07:28.853Z"
   },
   {
    "duration": 277,
    "start_time": "2022-02-22T10:17:56.217Z"
   },
   {
    "duration": 1490,
    "start_time": "2022-02-22T10:18:44.317Z"
   },
   {
    "duration": 1457,
    "start_time": "2022-02-22T10:21:07.684Z"
   },
   {
    "duration": 1400,
    "start_time": "2022-02-22T10:21:57.152Z"
   },
   {
    "duration": 1449,
    "start_time": "2022-02-22T10:27:29.230Z"
   },
   {
    "duration": 9,
    "start_time": "2022-02-22T10:28:52.369Z"
   },
   {
    "duration": 14,
    "start_time": "2022-02-22T10:28:59.804Z"
   },
   {
    "duration": 9,
    "start_time": "2022-02-22T10:29:23.648Z"
   },
   {
    "duration": 12,
    "start_time": "2022-02-22T10:29:27.244Z"
   },
   {
    "duration": 289,
    "start_time": "2022-02-22T10:40:20.496Z"
   },
   {
    "duration": 46,
    "start_time": "2022-02-22T10:40:36.055Z"
   },
   {
    "duration": 5,
    "start_time": "2022-02-22T10:40:43.912Z"
   },
   {
    "duration": 46,
    "start_time": "2022-02-22T10:40:59.263Z"
   },
   {
    "duration": 11,
    "start_time": "2022-02-22T10:40:59.311Z"
   },
   {
    "duration": 12,
    "start_time": "2022-02-22T10:40:59.324Z"
   },
   {
    "duration": 13,
    "start_time": "2022-02-22T10:40:59.338Z"
   },
   {
    "duration": 4,
    "start_time": "2022-02-22T10:41:00.844Z"
   },
   {
    "duration": 5,
    "start_time": "2022-02-22T10:41:00.884Z"
   },
   {
    "duration": 18,
    "start_time": "2022-02-22T10:41:00.891Z"
   },
   {
    "duration": 7,
    "start_time": "2022-02-22T10:41:00.911Z"
   },
   {
    "duration": 4,
    "start_time": "2022-02-22T10:41:00.948Z"
   },
   {
    "duration": 14,
    "start_time": "2022-02-22T10:41:02.457Z"
   },
   {
    "duration": 20,
    "start_time": "2022-02-22T10:41:02.473Z"
   },
   {
    "duration": 17,
    "start_time": "2022-02-22T10:41:02.495Z"
   },
   {
    "duration": 24,
    "start_time": "2022-02-22T10:41:02.515Z"
   },
   {
    "duration": 22,
    "start_time": "2022-02-22T10:41:02.541Z"
   },
   {
    "duration": 27,
    "start_time": "2022-02-22T10:41:02.565Z"
   },
   {
    "duration": 19,
    "start_time": "2022-02-22T10:41:02.593Z"
   },
   {
    "duration": 67,
    "start_time": "2022-02-22T10:41:02.614Z"
   },
   {
    "duration": 5,
    "start_time": "2022-02-22T10:41:02.684Z"
   },
   {
    "duration": 9,
    "start_time": "2022-02-22T10:41:02.691Z"
   },
   {
    "duration": 17,
    "start_time": "2022-02-22T10:41:02.702Z"
   },
   {
    "duration": 10,
    "start_time": "2022-02-22T10:41:02.721Z"
   },
   {
    "duration": 6,
    "start_time": "2022-02-22T10:41:02.733Z"
   },
   {
    "duration": 5,
    "start_time": "2022-02-22T10:42:18.831Z"
   },
   {
    "duration": 11,
    "start_time": "2022-02-22T10:42:23.930Z"
   },
   {
    "duration": 331,
    "start_time": "2022-02-22T10:44:24.289Z"
   },
   {
    "duration": 299,
    "start_time": "2022-02-22T10:45:06.389Z"
   },
   {
    "duration": 271,
    "start_time": "2022-02-22T11:08:21.015Z"
   },
   {
    "duration": 245,
    "start_time": "2022-02-22T11:08:27.838Z"
   },
   {
    "duration": 89,
    "start_time": "2022-02-22T11:14:31.014Z"
   },
   {
    "duration": 292,
    "start_time": "2022-02-22T11:14:39.311Z"
   },
   {
    "duration": 280,
    "start_time": "2022-02-22T11:14:50.846Z"
   },
   {
    "duration": 27,
    "start_time": "2022-02-22T11:19:05.277Z"
   },
   {
    "duration": 12,
    "start_time": "2022-02-22T11:19:15.894Z"
   },
   {
    "duration": 387,
    "start_time": "2022-02-22T11:21:14.195Z"
   },
   {
    "duration": 308,
    "start_time": "2022-02-22T11:21:57.660Z"
   },
   {
    "duration": 12,
    "start_time": "2022-02-22T11:22:06.833Z"
   },
   {
    "duration": 6,
    "start_time": "2022-02-22T11:22:18.961Z"
   },
   {
    "duration": 279,
    "start_time": "2022-02-22T11:22:47.090Z"
   },
   {
    "duration": 87,
    "start_time": "2022-02-23T06:25:06.594Z"
   },
   {
    "duration": 4,
    "start_time": "2022-02-23T06:30:24.906Z"
   },
   {
    "duration": 208,
    "start_time": "2022-02-23T06:33:44.265Z"
   },
   {
    "duration": 178,
    "start_time": "2022-02-23T06:34:30.369Z"
   },
   {
    "duration": 616,
    "start_time": "2022-02-23T06:35:10.048Z"
   },
   {
    "duration": 11,
    "start_time": "2022-02-23T06:35:10.666Z"
   },
   {
    "duration": 23,
    "start_time": "2022-02-23T06:35:10.680Z"
   },
   {
    "duration": 17,
    "start_time": "2022-02-23T06:35:10.705Z"
   },
   {
    "duration": 4,
    "start_time": "2022-02-23T06:35:10.724Z"
   },
   {
    "duration": 7,
    "start_time": "2022-02-23T06:35:10.730Z"
   },
   {
    "duration": 11,
    "start_time": "2022-02-23T06:35:10.739Z"
   },
   {
    "duration": 5,
    "start_time": "2022-02-23T06:35:10.752Z"
   },
   {
    "duration": 3,
    "start_time": "2022-02-23T06:35:10.759Z"
   },
   {
    "duration": 13,
    "start_time": "2022-02-23T06:35:10.764Z"
   },
   {
    "duration": 42,
    "start_time": "2022-02-23T06:35:10.779Z"
   },
   {
    "duration": 4,
    "start_time": "2022-02-23T06:35:10.823Z"
   },
   {
    "duration": 11,
    "start_time": "2022-02-23T06:35:10.829Z"
   },
   {
    "duration": 5,
    "start_time": "2022-02-23T06:35:10.842Z"
   },
   {
    "duration": 4,
    "start_time": "2022-02-23T06:35:10.849Z"
   },
   {
    "duration": 12,
    "start_time": "2022-02-23T06:35:10.855Z"
   },
   {
    "duration": 82,
    "start_time": "2022-02-23T06:35:10.869Z"
   },
   {
    "duration": 5,
    "start_time": "2022-02-23T06:35:10.953Z"
   },
   {
    "duration": 4,
    "start_time": "2022-02-23T06:35:10.959Z"
   },
   {
    "duration": 227,
    "start_time": "2022-02-23T06:35:10.965Z"
   },
   {
    "duration": -1714,
    "start_time": "2022-02-23T06:35:12.908Z"
   },
   {
    "duration": -1716,
    "start_time": "2022-02-23T06:35:12.911Z"
   },
   {
    "duration": -1717,
    "start_time": "2022-02-23T06:35:12.913Z"
   },
   {
    "duration": 10,
    "start_time": "2022-02-23T06:35:26.524Z"
   },
   {
    "duration": 9,
    "start_time": "2022-02-23T06:35:44.663Z"
   },
   {
    "duration": 3,
    "start_time": "2022-02-23T06:36:16.560Z"
   },
   {
    "duration": 10,
    "start_time": "2022-02-23T06:36:18.995Z"
   },
   {
    "duration": 9,
    "start_time": "2022-02-23T06:36:27.371Z"
   },
   {
    "duration": 5,
    "start_time": "2022-02-23T06:36:47.340Z"
   },
   {
    "duration": 5,
    "start_time": "2022-02-23T06:41:37.832Z"
   },
   {
    "duration": 12,
    "start_time": "2022-02-23T06:48:04.439Z"
   },
   {
    "duration": 7,
    "start_time": "2022-02-23T06:48:14.514Z"
   },
   {
    "duration": 15,
    "start_time": "2022-02-23T07:24:19.705Z"
   },
   {
    "duration": 8,
    "start_time": "2022-02-23T07:33:05.461Z"
   },
   {
    "duration": 10,
    "start_time": "2022-02-23T07:33:32.167Z"
   },
   {
    "duration": 26,
    "start_time": "2022-02-23T07:35:22.172Z"
   },
   {
    "duration": 7,
    "start_time": "2022-02-23T07:35:27.082Z"
   },
   {
    "duration": 10,
    "start_time": "2022-02-23T07:35:52.399Z"
   },
   {
    "duration": 8,
    "start_time": "2022-02-23T07:37:15.815Z"
   },
   {
    "duration": 6,
    "start_time": "2022-02-23T07:37:27.999Z"
   },
   {
    "duration": 188,
    "start_time": "2022-02-23T07:49:45.990Z"
   },
   {
    "duration": 5,
    "start_time": "2022-02-23T07:49:58.401Z"
   },
   {
    "duration": 11,
    "start_time": "2022-02-23T07:50:24.583Z"
   },
   {
    "duration": 52,
    "start_time": "2022-02-23T07:59:55.912Z"
   },
   {
    "duration": 13,
    "start_time": "2022-02-23T07:59:55.966Z"
   },
   {
    "duration": 13,
    "start_time": "2022-02-23T07:59:55.981Z"
   },
   {
    "duration": 25,
    "start_time": "2022-02-23T07:59:55.996Z"
   },
   {
    "duration": 6,
    "start_time": "2022-02-23T07:59:56.023Z"
   },
   {
    "duration": 5,
    "start_time": "2022-02-23T07:59:56.030Z"
   },
   {
    "duration": 6,
    "start_time": "2022-02-23T07:59:56.037Z"
   },
   {
    "duration": 3,
    "start_time": "2022-02-23T07:59:56.045Z"
   },
   {
    "duration": 7,
    "start_time": "2022-02-23T07:59:56.050Z"
   },
   {
    "duration": 17,
    "start_time": "2022-02-23T07:59:56.059Z"
   },
   {
    "duration": 6,
    "start_time": "2022-02-23T07:59:56.232Z"
   },
   {
    "duration": 6,
    "start_time": "2022-02-23T07:59:56.240Z"
   },
   {
    "duration": 7,
    "start_time": "2022-02-23T07:59:56.248Z"
   },
   {
    "duration": 5,
    "start_time": "2022-02-23T07:59:56.499Z"
   },
   {
    "duration": 7,
    "start_time": "2022-02-23T07:59:56.506Z"
   },
   {
    "duration": 13,
    "start_time": "2022-02-23T07:59:56.515Z"
   },
   {
    "duration": 52,
    "start_time": "2022-02-23T07:59:56.531Z"
   },
   {
    "duration": 5,
    "start_time": "2022-02-23T07:59:56.585Z"
   },
   {
    "duration": 32,
    "start_time": "2022-02-23T07:59:56.591Z"
   },
   {
    "duration": 11,
    "start_time": "2022-02-23T07:59:56.625Z"
   },
   {
    "duration": 8,
    "start_time": "2022-02-23T07:59:56.639Z"
   },
   {
    "duration": 10,
    "start_time": "2022-02-23T07:59:56.649Z"
   },
   {
    "duration": 6,
    "start_time": "2022-02-23T07:59:56.660Z"
   },
   {
    "duration": 54,
    "start_time": "2022-02-23T07:59:56.698Z"
   },
   {
    "duration": -2185,
    "start_time": "2022-02-23T07:59:58.939Z"
   },
   {
    "duration": -2186,
    "start_time": "2022-02-23T07:59:58.941Z"
   },
   {
    "duration": -2186,
    "start_time": "2022-02-23T07:59:58.942Z"
   },
   {
    "duration": -2187,
    "start_time": "2022-02-23T07:59:58.944Z"
   },
   {
    "duration": -2211,
    "start_time": "2022-02-23T07:59:58.969Z"
   },
   {
    "duration": 6,
    "start_time": "2022-02-23T07:59:57.077Z"
   },
   {
    "duration": 62,
    "start_time": "2022-02-23T07:59:57.085Z"
   },
   {
    "duration": -1873,
    "start_time": "2022-02-23T07:59:59.022Z"
   },
   {
    "duration": -1874,
    "start_time": "2022-02-23T07:59:59.024Z"
   },
   {
    "duration": 3,
    "start_time": "2022-02-23T08:00:12.264Z"
   },
   {
    "duration": 9,
    "start_time": "2022-02-23T08:00:17.939Z"
   },
   {
    "duration": 14,
    "start_time": "2022-02-23T08:00:26.272Z"
   },
   {
    "duration": 56,
    "start_time": "2022-02-23T08:02:01.884Z"
   },
   {
    "duration": 11,
    "start_time": "2022-02-23T08:02:38.229Z"
   },
   {
    "duration": 6,
    "start_time": "2022-02-23T08:02:39.458Z"
   },
   {
    "duration": 17,
    "start_time": "2022-02-23T08:03:26.885Z"
   },
   {
    "duration": 3,
    "start_time": "2022-02-23T08:14:16.472Z"
   },
   {
    "duration": 4282,
    "start_time": "2022-02-23T08:14:50.752Z"
   },
   {
    "duration": 14,
    "start_time": "2022-02-23T08:14:56.798Z"
   },
   {
    "duration": 11,
    "start_time": "2022-02-23T08:16:19.168Z"
   },
   {
    "duration": 16,
    "start_time": "2022-02-23T08:16:25.686Z"
   },
   {
    "duration": 21,
    "start_time": "2022-02-23T08:30:14.809Z"
   },
   {
    "duration": 42,
    "start_time": "2022-02-23T08:30:47.376Z"
   },
   {
    "duration": 11,
    "start_time": "2022-02-23T08:30:47.419Z"
   },
   {
    "duration": 13,
    "start_time": "2022-02-23T08:30:47.432Z"
   },
   {
    "duration": 10,
    "start_time": "2022-02-23T08:30:47.446Z"
   },
   {
    "duration": 4,
    "start_time": "2022-02-23T08:30:47.457Z"
   },
   {
    "duration": 6,
    "start_time": "2022-02-23T08:30:47.462Z"
   },
   {
    "duration": 30,
    "start_time": "2022-02-23T08:30:47.491Z"
   },
   {
    "duration": 5,
    "start_time": "2022-02-23T08:30:47.523Z"
   },
   {
    "duration": 4,
    "start_time": "2022-02-23T08:30:47.531Z"
   },
   {
    "duration": 13,
    "start_time": "2022-02-23T08:30:47.536Z"
   },
   {
    "duration": 6,
    "start_time": "2022-02-23T08:30:47.551Z"
   },
   {
    "duration": 4,
    "start_time": "2022-02-23T08:30:47.558Z"
   },
   {
    "duration": 14,
    "start_time": "2022-02-23T08:30:47.605Z"
   },
   {
    "duration": 4,
    "start_time": "2022-02-23T08:30:47.621Z"
   },
   {
    "duration": 5,
    "start_time": "2022-02-23T08:30:47.627Z"
   },
   {
    "duration": 11,
    "start_time": "2022-02-23T08:30:47.634Z"
   },
   {
    "duration": 99,
    "start_time": "2022-02-23T08:30:47.647Z"
   },
   {
    "duration": 6,
    "start_time": "2022-02-23T08:30:47.748Z"
   },
   {
    "duration": 6,
    "start_time": "2022-02-23T08:30:47.757Z"
   },
   {
    "duration": 54,
    "start_time": "2022-02-23T08:30:47.766Z"
   },
   {
    "duration": 12,
    "start_time": "2022-02-23T08:30:47.822Z"
   },
   {
    "duration": 7,
    "start_time": "2022-02-23T08:30:47.836Z"
   },
   {
    "duration": 7,
    "start_time": "2022-02-23T08:30:47.845Z"
   },
   {
    "duration": 7,
    "start_time": "2022-02-23T08:30:47.855Z"
   },
   {
    "duration": 56,
    "start_time": "2022-02-23T08:30:47.863Z"
   },
   {
    "duration": 12,
    "start_time": "2022-02-23T08:30:47.921Z"
   },
   {
    "duration": 59,
    "start_time": "2022-02-23T08:30:47.935Z"
   },
   {
    "duration": -1345,
    "start_time": "2022-02-23T08:30:49.341Z"
   },
   {
    "duration": -1347,
    "start_time": "2022-02-23T08:30:49.344Z"
   },
   {
    "duration": -1348,
    "start_time": "2022-02-23T08:30:49.346Z"
   },
   {
    "duration": -1349,
    "start_time": "2022-02-23T08:30:49.348Z"
   },
   {
    "duration": -1351,
    "start_time": "2022-02-23T08:30:49.351Z"
   },
   {
    "duration": -1351,
    "start_time": "2022-02-23T08:30:49.352Z"
   },
   {
    "duration": -1356,
    "start_time": "2022-02-23T08:30:49.358Z"
   },
   {
    "duration": 44,
    "start_time": "2022-02-23T08:31:04.667Z"
   },
   {
    "duration": 11,
    "start_time": "2022-02-23T08:31:04.714Z"
   },
   {
    "duration": 18,
    "start_time": "2022-02-23T08:31:04.728Z"
   },
   {
    "duration": 17,
    "start_time": "2022-02-23T08:31:04.748Z"
   },
   {
    "duration": 12,
    "start_time": "2022-02-23T08:31:04.767Z"
   },
   {
    "duration": 24,
    "start_time": "2022-02-23T08:31:04.780Z"
   },
   {
    "duration": 11,
    "start_time": "2022-02-23T08:31:04.807Z"
   },
   {
    "duration": 14,
    "start_time": "2022-02-23T08:31:04.820Z"
   },
   {
    "duration": 10,
    "start_time": "2022-02-23T08:31:04.837Z"
   },
   {
    "duration": 21,
    "start_time": "2022-02-23T08:31:04.849Z"
   },
   {
    "duration": 7,
    "start_time": "2022-02-23T08:31:04.872Z"
   },
   {
    "duration": 19,
    "start_time": "2022-02-23T08:31:04.880Z"
   },
   {
    "duration": 22,
    "start_time": "2022-02-23T08:31:04.901Z"
   },
   {
    "duration": 5,
    "start_time": "2022-02-23T08:31:04.925Z"
   },
   {
    "duration": 15,
    "start_time": "2022-02-23T08:31:04.932Z"
   },
   {
    "duration": 26,
    "start_time": "2022-02-23T08:31:04.949Z"
   },
   {
    "duration": 74,
    "start_time": "2022-02-23T08:31:04.977Z"
   },
   {
    "duration": 5,
    "start_time": "2022-02-23T08:31:05.053Z"
   },
   {
    "duration": 21,
    "start_time": "2022-02-23T08:31:05.060Z"
   },
   {
    "duration": 25,
    "start_time": "2022-02-23T08:31:05.084Z"
   },
   {
    "duration": 22,
    "start_time": "2022-02-23T08:31:05.111Z"
   },
   {
    "duration": 12,
    "start_time": "2022-02-23T08:31:05.136Z"
   },
   {
    "duration": 13,
    "start_time": "2022-02-23T08:31:05.151Z"
   },
   {
    "duration": 23,
    "start_time": "2022-02-23T08:31:05.166Z"
   },
   {
    "duration": 13,
    "start_time": "2022-02-23T08:31:05.191Z"
   },
   {
    "duration": 23,
    "start_time": "2022-02-23T08:31:05.205Z"
   },
   {
    "duration": 14,
    "start_time": "2022-02-23T08:31:05.230Z"
   },
   {
    "duration": 25,
    "start_time": "2022-02-23T08:31:05.246Z"
   },
   {
    "duration": 12,
    "start_time": "2022-02-23T08:31:05.273Z"
   },
   {
    "duration": 8,
    "start_time": "2022-02-23T08:31:05.287Z"
   },
   {
    "duration": 17,
    "start_time": "2022-02-23T08:31:05.297Z"
   },
   {
    "duration": 21,
    "start_time": "2022-02-23T08:31:05.316Z"
   },
   {
    "duration": 29,
    "start_time": "2022-02-23T08:31:05.339Z"
   },
   {
    "duration": 14,
    "start_time": "2022-02-23T08:34:17.134Z"
   },
   {
    "duration": 11,
    "start_time": "2022-02-23T08:34:49.226Z"
   },
   {
    "duration": 15,
    "start_time": "2022-02-23T08:38:57.281Z"
   },
   {
    "duration": 187,
    "start_time": "2022-02-23T08:42:19.228Z"
   },
   {
    "duration": 3,
    "start_time": "2022-02-23T08:42:33.760Z"
   },
   {
    "duration": 6,
    "start_time": "2022-02-23T08:43:28.036Z"
   },
   {
    "duration": 9,
    "start_time": "2022-02-23T08:43:37.651Z"
   },
   {
    "duration": 4,
    "start_time": "2022-02-23T08:43:56.800Z"
   },
   {
    "duration": 8,
    "start_time": "2022-02-23T08:44:00.272Z"
   },
   {
    "duration": 7,
    "start_time": "2022-02-23T08:52:04.029Z"
   },
   {
    "duration": 9,
    "start_time": "2022-02-23T08:52:06.180Z"
   },
   {
    "duration": 6,
    "start_time": "2022-02-23T08:52:27.746Z"
   },
   {
    "duration": 10,
    "start_time": "2022-02-23T08:52:29.042Z"
   },
   {
    "duration": 182,
    "start_time": "2022-02-23T08:56:04.836Z"
   },
   {
    "duration": 173,
    "start_time": "2022-02-23T08:56:30.996Z"
   },
   {
    "duration": 6,
    "start_time": "2022-02-23T08:57:39.918Z"
   },
   {
    "duration": 2,
    "start_time": "2022-02-23T09:07:20.250Z"
   },
   {
    "duration": 65,
    "start_time": "2022-02-23T09:08:13.769Z"
   },
   {
    "duration": 232,
    "start_time": "2022-02-23T09:09:55.810Z"
   },
   {
    "duration": 16,
    "start_time": "2022-02-23T09:10:03.325Z"
   },
   {
    "duration": 7,
    "start_time": "2022-02-23T09:11:14.939Z"
   },
   {
    "duration": 172,
    "start_time": "2022-02-23T09:25:41.991Z"
   },
   {
    "duration": 181,
    "start_time": "2022-02-23T09:32:47.338Z"
   },
   {
    "duration": 190,
    "start_time": "2022-02-23T09:34:26.250Z"
   },
   {
    "duration": 57,
    "start_time": "2022-02-23T09:34:45.123Z"
   },
   {
    "duration": 56,
    "start_time": "2022-02-23T09:35:10.358Z"
   },
   {
    "duration": 475,
    "start_time": "2022-02-23T09:35:20.293Z"
   },
   {
    "duration": 11,
    "start_time": "2022-02-23T09:37:05.548Z"
   },
   {
    "duration": 237,
    "start_time": "2022-02-23T09:37:33.827Z"
   },
   {
    "duration": 42,
    "start_time": "2022-02-23T09:37:49.334Z"
   },
   {
    "duration": 10,
    "start_time": "2022-02-23T09:37:49.378Z"
   },
   {
    "duration": 29,
    "start_time": "2022-02-23T09:37:49.389Z"
   },
   {
    "duration": 19,
    "start_time": "2022-02-23T09:37:49.420Z"
   },
   {
    "duration": 10,
    "start_time": "2022-02-23T09:37:49.440Z"
   },
   {
    "duration": 9,
    "start_time": "2022-02-23T09:37:49.452Z"
   },
   {
    "duration": 6,
    "start_time": "2022-02-23T09:37:49.462Z"
   },
   {
    "duration": 4,
    "start_time": "2022-02-23T09:37:49.471Z"
   },
   {
    "duration": 4,
    "start_time": "2022-02-23T09:37:49.477Z"
   },
   {
    "duration": 40,
    "start_time": "2022-02-23T09:37:49.482Z"
   },
   {
    "duration": 7,
    "start_time": "2022-02-23T09:37:49.524Z"
   },
   {
    "duration": 4,
    "start_time": "2022-02-23T09:37:49.533Z"
   },
   {
    "duration": 9,
    "start_time": "2022-02-23T09:37:49.539Z"
   },
   {
    "duration": 6,
    "start_time": "2022-02-23T09:37:49.549Z"
   },
   {
    "duration": 9,
    "start_time": "2022-02-23T09:37:49.556Z"
   },
   {
    "duration": 12,
    "start_time": "2022-02-23T09:37:49.566Z"
   },
   {
    "duration": 85,
    "start_time": "2022-02-23T09:37:49.580Z"
   },
   {
    "duration": 5,
    "start_time": "2022-02-23T09:37:49.666Z"
   },
   {
    "duration": 4,
    "start_time": "2022-02-23T09:37:49.673Z"
   },
   {
    "duration": 41,
    "start_time": "2022-02-23T09:37:49.679Z"
   },
   {
    "duration": 10,
    "start_time": "2022-02-23T09:37:49.721Z"
   },
   {
    "duration": 7,
    "start_time": "2022-02-23T09:37:49.732Z"
   },
   {
    "duration": 8,
    "start_time": "2022-02-23T09:37:49.744Z"
   },
   {
    "duration": 7,
    "start_time": "2022-02-23T09:37:49.755Z"
   },
   {
    "duration": 6,
    "start_time": "2022-02-23T09:37:49.764Z"
   },
   {
    "duration": 53,
    "start_time": "2022-02-23T09:37:49.771Z"
   },
   {
    "duration": 4,
    "start_time": "2022-02-23T09:37:49.826Z"
   },
   {
    "duration": 10,
    "start_time": "2022-02-23T09:37:49.832Z"
   },
   {
    "duration": 6,
    "start_time": "2022-02-23T09:37:49.844Z"
   },
   {
    "duration": 4,
    "start_time": "2022-02-23T09:37:49.852Z"
   },
   {
    "duration": 13,
    "start_time": "2022-02-23T09:37:49.858Z"
   },
   {
    "duration": 47,
    "start_time": "2022-02-23T09:37:49.873Z"
   },
   {
    "duration": 16,
    "start_time": "2022-02-23T09:37:49.922Z"
   },
   {
    "duration": 7,
    "start_time": "2022-02-23T09:37:49.940Z"
   },
   {
    "duration": 6,
    "start_time": "2022-02-23T09:37:49.948Z"
   },
   {
    "duration": 13,
    "start_time": "2022-02-23T09:37:49.956Z"
   },
   {
    "duration": 17,
    "start_time": "2022-02-23T09:37:49.970Z"
   },
   {
    "duration": 32,
    "start_time": "2022-02-23T09:37:49.988Z"
   },
   {
    "duration": 177,
    "start_time": "2022-02-23T09:37:50.022Z"
   },
   {
    "duration": 191,
    "start_time": "2022-02-23T09:38:29.721Z"
   },
   {
    "duration": 48,
    "start_time": "2022-02-23T09:38:36.346Z"
   },
   {
    "duration": 13,
    "start_time": "2022-02-23T09:38:36.397Z"
   },
   {
    "duration": 18,
    "start_time": "2022-02-23T09:38:36.412Z"
   },
   {
    "duration": 39,
    "start_time": "2022-02-23T09:38:36.432Z"
   },
   {
    "duration": 33,
    "start_time": "2022-02-23T09:38:36.473Z"
   },
   {
    "duration": 38,
    "start_time": "2022-02-23T09:38:36.508Z"
   },
   {
    "duration": 17,
    "start_time": "2022-02-23T09:38:36.547Z"
   },
   {
    "duration": 22,
    "start_time": "2022-02-23T09:38:36.566Z"
   },
   {
    "duration": 24,
    "start_time": "2022-02-23T09:38:36.590Z"
   },
   {
    "duration": 40,
    "start_time": "2022-02-23T09:38:36.616Z"
   },
   {
    "duration": 22,
    "start_time": "2022-02-23T09:38:36.658Z"
   },
   {
    "duration": 26,
    "start_time": "2022-02-23T09:38:36.682Z"
   },
   {
    "duration": 26,
    "start_time": "2022-02-23T09:38:36.709Z"
   },
   {
    "duration": 27,
    "start_time": "2022-02-23T09:38:36.736Z"
   },
   {
    "duration": 30,
    "start_time": "2022-02-23T09:38:36.765Z"
   },
   {
    "duration": 35,
    "start_time": "2022-02-23T09:38:36.797Z"
   },
   {
    "duration": 77,
    "start_time": "2022-02-23T09:38:36.833Z"
   },
   {
    "duration": 5,
    "start_time": "2022-02-23T09:38:36.912Z"
   },
   {
    "duration": 20,
    "start_time": "2022-02-23T09:38:36.918Z"
   },
   {
    "duration": 30,
    "start_time": "2022-02-23T09:38:36.939Z"
   },
   {
    "duration": 22,
    "start_time": "2022-02-23T09:38:36.970Z"
   },
   {
    "duration": 23,
    "start_time": "2022-02-23T09:38:36.994Z"
   },
   {
    "duration": 29,
    "start_time": "2022-02-23T09:38:37.021Z"
   },
   {
    "duration": 26,
    "start_time": "2022-02-23T09:38:37.052Z"
   },
   {
    "duration": 27,
    "start_time": "2022-02-23T09:38:37.080Z"
   },
   {
    "duration": 32,
    "start_time": "2022-02-23T09:38:37.109Z"
   },
   {
    "duration": 27,
    "start_time": "2022-02-23T09:38:37.143Z"
   },
   {
    "duration": 34,
    "start_time": "2022-02-23T09:38:37.172Z"
   },
   {
    "duration": 23,
    "start_time": "2022-02-23T09:38:37.208Z"
   },
   {
    "duration": 15,
    "start_time": "2022-02-23T09:38:37.233Z"
   },
   {
    "duration": 33,
    "start_time": "2022-02-23T09:38:37.250Z"
   },
   {
    "duration": 27,
    "start_time": "2022-02-23T09:38:37.284Z"
   },
   {
    "duration": 44,
    "start_time": "2022-02-23T09:38:37.313Z"
   },
   {
    "duration": 33,
    "start_time": "2022-02-23T09:38:37.359Z"
   },
   {
    "duration": 20,
    "start_time": "2022-02-23T09:38:37.394Z"
   },
   {
    "duration": 34,
    "start_time": "2022-02-23T09:38:37.416Z"
   },
   {
    "duration": 40,
    "start_time": "2022-02-23T09:38:37.451Z"
   },
   {
    "duration": 17,
    "start_time": "2022-02-23T09:38:37.493Z"
   },
   {
    "duration": 203,
    "start_time": "2022-02-23T09:38:37.512Z"
   },
   {
    "duration": 317,
    "start_time": "2022-02-23T09:39:05.147Z"
   },
   {
    "duration": 13,
    "start_time": "2022-02-23T09:39:22.131Z"
   },
   {
    "duration": 12,
    "start_time": "2022-02-23T09:39:40.950Z"
   },
   {
    "duration": 4754,
    "start_time": "2022-02-23T09:42:43.434Z"
   },
   {
    "duration": 6,
    "start_time": "2022-02-23T09:43:25.948Z"
   },
   {
    "duration": 9,
    "start_time": "2022-02-23T09:43:35.691Z"
   },
   {
    "duration": 13,
    "start_time": "2022-02-23T09:43:44.566Z"
   },
   {
    "duration": 7,
    "start_time": "2022-02-23T09:43:52.620Z"
   },
   {
    "duration": 245,
    "start_time": "2022-02-23T09:55:26.368Z"
   },
   {
    "duration": 16,
    "start_time": "2022-02-23T09:55:49.279Z"
   },
   {
    "duration": 6,
    "start_time": "2022-02-23T09:55:50.410Z"
   },
   {
    "duration": 7,
    "start_time": "2022-02-23T09:57:05.831Z"
   },
   {
    "duration": 9,
    "start_time": "2022-02-23T09:57:24.316Z"
   },
   {
    "duration": 8,
    "start_time": "2022-02-23T09:57:47.987Z"
   },
   {
    "duration": 183,
    "start_time": "2022-02-23T10:22:32.553Z"
   },
   {
    "duration": 48,
    "start_time": "2022-02-23T10:22:53.361Z"
   },
   {
    "duration": 13,
    "start_time": "2022-02-23T10:22:53.411Z"
   },
   {
    "duration": 13,
    "start_time": "2022-02-23T10:22:53.426Z"
   },
   {
    "duration": 13,
    "start_time": "2022-02-23T10:22:53.441Z"
   },
   {
    "duration": 4,
    "start_time": "2022-02-23T10:22:53.456Z"
   },
   {
    "duration": 5,
    "start_time": "2022-02-23T10:22:53.462Z"
   },
   {
    "duration": 8,
    "start_time": "2022-02-23T10:22:53.519Z"
   },
   {
    "duration": 4,
    "start_time": "2022-02-23T10:22:53.531Z"
   },
   {
    "duration": 4,
    "start_time": "2022-02-23T10:22:53.538Z"
   },
   {
    "duration": 14,
    "start_time": "2022-02-23T10:22:53.544Z"
   },
   {
    "duration": 5,
    "start_time": "2022-02-23T10:22:53.560Z"
   },
   {
    "duration": 54,
    "start_time": "2022-02-23T10:22:53.567Z"
   },
   {
    "duration": 8,
    "start_time": "2022-02-23T10:22:53.623Z"
   },
   {
    "duration": 5,
    "start_time": "2022-02-23T10:22:53.633Z"
   },
   {
    "duration": 5,
    "start_time": "2022-02-23T10:22:53.639Z"
   },
   {
    "duration": 14,
    "start_time": "2022-02-23T10:22:53.646Z"
   },
   {
    "duration": 100,
    "start_time": "2022-02-23T10:22:53.661Z"
   },
   {
    "duration": 5,
    "start_time": "2022-02-23T10:22:53.763Z"
   },
   {
    "duration": 4,
    "start_time": "2022-02-23T10:22:53.770Z"
   },
   {
    "duration": 46,
    "start_time": "2022-02-23T10:22:53.776Z"
   },
   {
    "duration": 10,
    "start_time": "2022-02-23T10:22:53.824Z"
   },
   {
    "duration": 7,
    "start_time": "2022-02-23T10:22:53.835Z"
   },
   {
    "duration": 9,
    "start_time": "2022-02-23T10:22:53.845Z"
   },
   {
    "duration": 6,
    "start_time": "2022-02-23T10:22:53.856Z"
   },
   {
    "duration": 5,
    "start_time": "2022-02-23T10:22:53.864Z"
   },
   {
    "duration": 10,
    "start_time": "2022-02-23T10:22:53.918Z"
   },
   {
    "duration": 4,
    "start_time": "2022-02-23T10:22:53.929Z"
   },
   {
    "duration": 10,
    "start_time": "2022-02-23T10:22:53.935Z"
   },
   {
    "duration": 7,
    "start_time": "2022-02-23T10:22:53.947Z"
   },
   {
    "duration": 4,
    "start_time": "2022-02-23T10:22:53.956Z"
   },
   {
    "duration": 13,
    "start_time": "2022-02-23T10:22:53.961Z"
   },
   {
    "duration": 14,
    "start_time": "2022-02-23T10:22:54.019Z"
   },
   {
    "duration": 19,
    "start_time": "2022-02-23T10:22:54.034Z"
   },
   {
    "duration": 6,
    "start_time": "2022-02-23T10:22:54.055Z"
   },
   {
    "duration": 6,
    "start_time": "2022-02-23T10:22:54.063Z"
   },
   {
    "duration": 10,
    "start_time": "2022-02-23T10:22:54.071Z"
   },
   {
    "duration": 51,
    "start_time": "2022-02-23T10:22:54.083Z"
   },
   {
    "duration": 5,
    "start_time": "2022-02-23T10:22:54.136Z"
   },
   {
    "duration": 9,
    "start_time": "2022-02-23T10:22:54.142Z"
   },
   {
    "duration": 16,
    "start_time": "2022-02-23T10:22:54.153Z"
   },
   {
    "duration": 14,
    "start_time": "2022-02-23T10:22:54.170Z"
   },
   {
    "duration": 46,
    "start_time": "2022-02-23T10:22:54.185Z"
   },
   {
    "duration": 7,
    "start_time": "2022-02-23T10:22:54.233Z"
   },
   {
    "duration": 10,
    "start_time": "2022-02-23T10:22:54.242Z"
   },
   {
    "duration": 11,
    "start_time": "2022-02-23T10:22:54.254Z"
   },
   {
    "duration": 52,
    "start_time": "2022-02-23T10:22:54.267Z"
   },
   {
    "duration": 8,
    "start_time": "2022-02-23T10:22:54.321Z"
   },
   {
    "duration": 7,
    "start_time": "2022-02-23T10:22:54.331Z"
   },
   {
    "duration": 11,
    "start_time": "2022-02-23T10:22:54.339Z"
   },
   {
    "duration": 13,
    "start_time": "2022-02-23T10:22:54.352Z"
   },
   {
    "duration": 17,
    "start_time": "2022-02-23T10:23:16.782Z"
   },
   {
    "duration": 7,
    "start_time": "2022-02-23T10:24:30.793Z"
   },
   {
    "duration": 6,
    "start_time": "2022-02-23T10:24:41.203Z"
   },
   {
    "duration": 8,
    "start_time": "2022-02-23T10:24:42.508Z"
   },
   {
    "duration": 45,
    "start_time": "2022-02-23T10:50:14.243Z"
   },
   {
    "duration": 12,
    "start_time": "2022-02-23T10:50:14.290Z"
   },
   {
    "duration": 14,
    "start_time": "2022-02-23T10:50:14.305Z"
   },
   {
    "duration": 13,
    "start_time": "2022-02-23T10:50:14.321Z"
   },
   {
    "duration": 4,
    "start_time": "2022-02-23T10:50:14.337Z"
   },
   {
    "duration": 8,
    "start_time": "2022-02-23T10:50:14.343Z"
   },
   {
    "duration": 10,
    "start_time": "2022-02-23T10:50:14.352Z"
   },
   {
    "duration": 6,
    "start_time": "2022-02-23T10:50:14.364Z"
   },
   {
    "duration": 46,
    "start_time": "2022-02-23T10:50:14.373Z"
   },
   {
    "duration": 16,
    "start_time": "2022-02-23T10:50:14.421Z"
   },
   {
    "duration": 5,
    "start_time": "2022-02-23T10:50:14.439Z"
   },
   {
    "duration": 7,
    "start_time": "2022-02-23T10:50:14.445Z"
   },
   {
    "duration": 10,
    "start_time": "2022-02-23T10:50:14.454Z"
   },
   {
    "duration": 6,
    "start_time": "2022-02-23T10:50:14.465Z"
   },
   {
    "duration": 46,
    "start_time": "2022-02-23T10:50:14.473Z"
   },
   {
    "duration": 12,
    "start_time": "2022-02-23T10:50:14.521Z"
   },
   {
    "duration": 57,
    "start_time": "2022-02-23T10:50:14.535Z"
   },
   {
    "duration": 5,
    "start_time": "2022-02-23T10:50:14.618Z"
   },
   {
    "duration": 5,
    "start_time": "2022-02-23T10:50:14.625Z"
   },
   {
    "duration": 14,
    "start_time": "2022-02-23T10:50:14.634Z"
   },
   {
    "duration": 9,
    "start_time": "2022-02-23T10:50:14.651Z"
   },
   {
    "duration": 6,
    "start_time": "2022-02-23T10:50:14.662Z"
   },
   {
    "duration": 57,
    "start_time": "2022-02-23T10:50:14.671Z"
   },
   {
    "duration": 6,
    "start_time": "2022-02-23T10:50:14.730Z"
   },
   {
    "duration": 6,
    "start_time": "2022-02-23T10:50:14.738Z"
   },
   {
    "duration": 14,
    "start_time": "2022-02-23T10:50:14.746Z"
   },
   {
    "duration": 4,
    "start_time": "2022-02-23T10:50:14.762Z"
   },
   {
    "duration": 57,
    "start_time": "2022-02-23T10:50:14.768Z"
   },
   {
    "duration": 8,
    "start_time": "2022-02-23T10:50:14.827Z"
   },
   {
    "duration": 3,
    "start_time": "2022-02-23T10:50:14.837Z"
   },
   {
    "duration": 13,
    "start_time": "2022-02-23T10:50:14.842Z"
   },
   {
    "duration": 16,
    "start_time": "2022-02-23T10:50:14.857Z"
   },
   {
    "duration": 54,
    "start_time": "2022-02-23T10:50:14.874Z"
   },
   {
    "duration": 7,
    "start_time": "2022-02-23T10:50:14.929Z"
   },
   {
    "duration": 6,
    "start_time": "2022-02-23T10:50:14.938Z"
   },
   {
    "duration": 11,
    "start_time": "2022-02-23T10:50:14.946Z"
   },
   {
    "duration": 14,
    "start_time": "2022-02-23T10:50:14.959Z"
   },
   {
    "duration": 6,
    "start_time": "2022-02-23T10:50:14.975Z"
   },
   {
    "duration": 40,
    "start_time": "2022-02-23T10:50:14.983Z"
   },
   {
    "duration": 16,
    "start_time": "2022-02-23T10:50:15.026Z"
   },
   {
    "duration": 13,
    "start_time": "2022-02-23T10:50:15.044Z"
   },
   {
    "duration": 16,
    "start_time": "2022-02-23T10:50:15.059Z"
   },
   {
    "duration": 6,
    "start_time": "2022-02-23T10:50:15.076Z"
   },
   {
    "duration": 6,
    "start_time": "2022-02-23T10:50:15.120Z"
   },
   {
    "duration": 10,
    "start_time": "2022-02-23T10:50:15.128Z"
   },
   {
    "duration": 18,
    "start_time": "2022-02-23T10:50:15.140Z"
   },
   {
    "duration": 6,
    "start_time": "2022-02-23T10:50:15.160Z"
   },
   {
    "duration": 6,
    "start_time": "2022-02-23T10:50:15.167Z"
   },
   {
    "duration": 49,
    "start_time": "2022-02-23T10:50:15.177Z"
   },
   {
    "duration": 816,
    "start_time": "2022-03-05T21:07:09.247Z"
   },
   {
    "duration": 20,
    "start_time": "2022-03-05T21:07:10.065Z"
   },
   {
    "duration": 32,
    "start_time": "2022-03-05T21:07:10.091Z"
   },
   {
    "duration": 12,
    "start_time": "2022-03-05T21:07:10.126Z"
   },
   {
    "duration": 5,
    "start_time": "2022-03-05T21:07:10.141Z"
   },
   {
    "duration": 43,
    "start_time": "2022-03-05T21:07:10.149Z"
   },
   {
    "duration": 9,
    "start_time": "2022-03-05T21:07:10.198Z"
   },
   {
    "duration": 5,
    "start_time": "2022-03-05T21:07:10.210Z"
   },
   {
    "duration": 7,
    "start_time": "2022-03-05T21:07:10.220Z"
   },
   {
    "duration": 58,
    "start_time": "2022-03-05T21:07:10.232Z"
   },
   {
    "duration": 10,
    "start_time": "2022-03-05T21:07:10.293Z"
   },
   {
    "duration": 11,
    "start_time": "2022-03-05T21:07:10.306Z"
   },
   {
    "duration": 10,
    "start_time": "2022-03-05T21:07:10.320Z"
   },
   {
    "duration": 8,
    "start_time": "2022-03-05T21:07:10.332Z"
   },
   {
    "duration": 42,
    "start_time": "2022-03-05T21:07:10.343Z"
   },
   {
    "duration": 34,
    "start_time": "2022-03-05T21:07:10.390Z"
   },
   {
    "duration": 91,
    "start_time": "2022-03-05T21:07:10.426Z"
   },
   {
    "duration": 7,
    "start_time": "2022-03-05T21:07:10.520Z"
   },
   {
    "duration": 7,
    "start_time": "2022-03-05T21:07:10.530Z"
   },
   {
    "duration": 55,
    "start_time": "2022-03-05T21:07:10.539Z"
   },
   {
    "duration": 18,
    "start_time": "2022-03-05T21:07:10.598Z"
   },
   {
    "duration": 8,
    "start_time": "2022-03-05T21:07:10.619Z"
   },
   {
    "duration": 13,
    "start_time": "2022-03-05T21:07:10.629Z"
   },
   {
    "duration": 44,
    "start_time": "2022-03-05T21:07:10.645Z"
   },
   {
    "duration": 14,
    "start_time": "2022-03-05T21:07:10.692Z"
   },
   {
    "duration": 23,
    "start_time": "2022-03-05T21:07:10.709Z"
   },
   {
    "duration": 5,
    "start_time": "2022-03-05T21:07:10.738Z"
   },
   {
    "duration": 54,
    "start_time": "2022-03-05T21:07:10.747Z"
   },
   {
    "duration": 11,
    "start_time": "2022-03-05T21:07:10.804Z"
   },
   {
    "duration": 5,
    "start_time": "2022-03-05T21:07:10.818Z"
   },
   {
    "duration": 15,
    "start_time": "2022-03-05T21:07:10.825Z"
   },
   {
    "duration": 51,
    "start_time": "2022-03-05T21:07:10.843Z"
   },
   {
    "duration": 40,
    "start_time": "2022-03-05T21:07:10.899Z"
   },
   {
    "duration": 10,
    "start_time": "2022-03-05T21:07:10.942Z"
   },
   {
    "duration": 38,
    "start_time": "2022-03-05T21:07:10.955Z"
   },
   {
    "duration": 12,
    "start_time": "2022-03-05T21:07:10.996Z"
   },
   {
    "duration": 24,
    "start_time": "2022-03-05T21:07:11.011Z"
   },
   {
    "duration": 8,
    "start_time": "2022-03-05T21:07:11.038Z"
   },
   {
    "duration": 34,
    "start_time": "2022-03-05T21:07:11.048Z"
   },
   {
    "duration": 31,
    "start_time": "2022-03-05T21:07:11.087Z"
   },
   {
    "duration": 25,
    "start_time": "2022-03-05T21:07:11.121Z"
   },
   {
    "duration": 22,
    "start_time": "2022-03-05T21:07:11.149Z"
   },
   {
    "duration": 22,
    "start_time": "2022-03-05T21:07:11.173Z"
   },
   {
    "duration": 13,
    "start_time": "2022-03-05T21:07:11.198Z"
   },
   {
    "duration": 13,
    "start_time": "2022-03-05T21:07:11.214Z"
   },
   {
    "duration": 23,
    "start_time": "2022-03-05T21:07:11.230Z"
   },
   {
    "duration": 35,
    "start_time": "2022-03-05T21:07:11.255Z"
   },
   {
    "duration": 13,
    "start_time": "2022-03-05T21:07:11.293Z"
   },
   {
    "duration": 16,
    "start_time": "2022-03-05T21:07:11.308Z"
   },
   {
    "duration": 32,
    "start_time": "2022-03-05T21:11:44.967Z"
   },
   {
    "duration": 1562,
    "start_time": "2022-04-20T15:49:53.766Z"
   },
   {
    "duration": 233,
    "start_time": "2022-04-20T15:49:55.331Z"
   },
   {
    "duration": 0,
    "start_time": "2022-04-20T15:49:55.569Z"
   },
   {
    "duration": 0,
    "start_time": "2022-04-20T15:49:55.570Z"
   },
   {
    "duration": 0,
    "start_time": "2022-04-20T15:49:55.571Z"
   },
   {
    "duration": 0,
    "start_time": "2022-04-20T15:49:55.572Z"
   },
   {
    "duration": 121,
    "start_time": "2022-04-20T15:50:32.773Z"
   },
   {
    "duration": 121,
    "start_time": "2022-04-20T15:50:51.920Z"
   },
   {
    "duration": 68,
    "start_time": "2022-04-20T15:52:12.835Z"
   },
   {
    "duration": 5,
    "start_time": "2022-04-20T15:55:25.466Z"
   },
   {
    "duration": 73,
    "start_time": "2022-04-20T15:55:27.223Z"
   },
   {
    "duration": 122,
    "start_time": "2022-04-20T15:55:33.957Z"
   },
   {
    "duration": 78,
    "start_time": "2022-04-20T15:56:16.395Z"
   },
   {
    "duration": 128,
    "start_time": "2022-04-20T15:57:05.262Z"
   },
   {
    "duration": 136,
    "start_time": "2022-04-20T15:58:08.057Z"
   },
   {
    "duration": 55,
    "start_time": "2022-04-20T16:00:04.547Z"
   },
   {
    "duration": 1673,
    "start_time": "2022-04-20T16:00:14.745Z"
   },
   {
    "duration": 13,
    "start_time": "2022-04-20T16:00:19.024Z"
   },
   {
    "duration": 3,
    "start_time": "2022-04-20T16:00:31.824Z"
   },
   {
    "duration": 14,
    "start_time": "2022-04-20T16:00:33.726Z"
   },
   {
    "duration": 11,
    "start_time": "2022-04-20T16:00:37.113Z"
   },
   {
    "duration": 5,
    "start_time": "2022-04-20T16:00:38.079Z"
   },
   {
    "duration": 101,
    "start_time": "2022-04-20T16:00:42.610Z"
   },
   {
    "duration": 6342,
    "start_time": "2022-04-20T16:01:10.294Z"
   },
   {
    "duration": 5,
    "start_time": "2022-04-20T16:01:55.239Z"
   },
   {
    "duration": 274,
    "start_time": "2022-04-20T16:04:34.032Z"
   },
   {
    "duration": 131,
    "start_time": "2022-04-20T16:04:50.071Z"
   },
   {
    "duration": 5364,
    "start_time": "2022-04-20T16:14:52.073Z"
   },
   {
    "duration": 1156,
    "start_time": "2022-04-20T16:16:54.999Z"
   },
   {
    "duration": 5221,
    "start_time": "2022-04-20T16:18:52.086Z"
   },
   {
    "duration": 5203,
    "start_time": "2022-04-20T16:19:23.718Z"
   },
   {
    "duration": 5086,
    "start_time": "2022-04-20T16:19:51.488Z"
   },
   {
    "duration": 1218,
    "start_time": "2022-04-20T16:20:04.881Z"
   },
   {
    "duration": 5011,
    "start_time": "2022-04-20T16:20:11.040Z"
   },
   {
    "duration": 5926,
    "start_time": "2022-04-20T16:22:09.181Z"
   },
   {
    "duration": 5340,
    "start_time": "2022-04-20T16:22:38.069Z"
   },
   {
    "duration": 5970,
    "start_time": "2022-04-20T16:23:28.485Z"
   },
   {
    "duration": 9,
    "start_time": "2022-04-20T16:30:45.185Z"
   },
   {
    "duration": 7,
    "start_time": "2022-04-20T16:30:55.676Z"
   },
   {
    "duration": 22,
    "start_time": "2022-04-20T16:30:55.685Z"
   },
   {
    "duration": 2,
    "start_time": "2022-04-20T16:30:55.709Z"
   },
   {
    "duration": 13,
    "start_time": "2022-04-20T16:30:55.713Z"
   },
   {
    "duration": 11,
    "start_time": "2022-04-20T16:30:55.727Z"
   },
   {
    "duration": 7,
    "start_time": "2022-04-20T16:30:55.739Z"
   },
   {
    "duration": 4981,
    "start_time": "2022-04-20T16:30:55.763Z"
   },
   {
    "duration": 8,
    "start_time": "2022-04-20T16:31:00.752Z"
   },
   {
    "duration": 37,
    "start_time": "2022-04-20T16:31:00.765Z"
   },
   {
    "duration": 12,
    "start_time": "2022-04-20T16:31:00.804Z"
   },
   {
    "duration": 14,
    "start_time": "2022-04-20T16:31:00.818Z"
   },
   {
    "duration": 10,
    "start_time": "2022-04-20T16:31:00.833Z"
   },
   {
    "duration": 39,
    "start_time": "2022-04-20T16:31:00.845Z"
   },
   {
    "duration": 6,
    "start_time": "2022-04-20T16:31:00.886Z"
   },
   {
    "duration": 3,
    "start_time": "2022-04-20T16:31:04.019Z"
   },
   {
    "duration": 4,
    "start_time": "2022-04-20T16:31:04.819Z"
   },
   {
    "duration": 28,
    "start_time": "2022-04-20T16:31:42.833Z"
   },
   {
    "duration": 5,
    "start_time": "2022-04-20T16:32:26.585Z"
   },
   {
    "duration": 21,
    "start_time": "2022-04-20T16:32:26.592Z"
   },
   {
    "duration": 3,
    "start_time": "2022-04-20T16:32:26.615Z"
   },
   {
    "duration": 11,
    "start_time": "2022-04-20T16:32:26.619Z"
   },
   {
    "duration": 7,
    "start_time": "2022-04-20T16:32:26.632Z"
   },
   {
    "duration": 5,
    "start_time": "2022-04-20T16:32:26.640Z"
   },
   {
    "duration": 5352,
    "start_time": "2022-04-20T16:32:26.654Z"
   },
   {
    "duration": 8,
    "start_time": "2022-04-20T16:32:32.007Z"
   },
   {
    "duration": 49,
    "start_time": "2022-04-20T16:32:32.017Z"
   },
   {
    "duration": 28,
    "start_time": "2022-04-20T16:32:32.076Z"
   },
   {
    "duration": 14,
    "start_time": "2022-04-20T16:32:32.106Z"
   },
   {
    "duration": 4,
    "start_time": "2022-04-20T16:32:32.122Z"
   },
   {
    "duration": 5,
    "start_time": "2022-04-20T16:32:32.128Z"
   },
   {
    "duration": 6,
    "start_time": "2022-04-20T16:32:32.134Z"
   },
   {
    "duration": 4,
    "start_time": "2022-04-20T16:32:36.338Z"
   },
   {
    "duration": 18,
    "start_time": "2022-04-20T16:32:37.020Z"
   },
   {
    "duration": 3,
    "start_time": "2022-04-20T16:32:54.630Z"
   },
   {
    "duration": 13,
    "start_time": "2022-04-20T16:33:04.161Z"
   },
   {
    "duration": 16,
    "start_time": "2022-04-20T16:33:17.441Z"
   },
   {
    "duration": 6,
    "start_time": "2022-04-20T16:33:39.173Z"
   },
   {
    "duration": 5,
    "start_time": "2022-04-20T16:38:01.608Z"
   },
   {
    "duration": 22,
    "start_time": "2022-04-20T16:38:01.614Z"
   },
   {
    "duration": 2,
    "start_time": "2022-04-20T16:38:01.638Z"
   },
   {
    "duration": 29,
    "start_time": "2022-04-20T16:38:01.642Z"
   },
   {
    "duration": 24,
    "start_time": "2022-04-20T16:38:01.673Z"
   },
   {
    "duration": 11,
    "start_time": "2022-04-20T16:38:01.699Z"
   },
   {
    "duration": 5202,
    "start_time": "2022-04-20T16:38:01.712Z"
   },
   {
    "duration": 7,
    "start_time": "2022-04-20T16:38:06.915Z"
   },
   {
    "duration": 32,
    "start_time": "2022-04-20T16:38:06.923Z"
   },
   {
    "duration": 12,
    "start_time": "2022-04-20T16:38:06.960Z"
   },
   {
    "duration": 28,
    "start_time": "2022-04-20T16:38:06.974Z"
   },
   {
    "duration": 9,
    "start_time": "2022-04-20T16:38:07.004Z"
   },
   {
    "duration": 10,
    "start_time": "2022-04-20T16:38:07.015Z"
   },
   {
    "duration": 6,
    "start_time": "2022-04-20T16:38:07.028Z"
   },
   {
    "duration": 84,
    "start_time": "2022-04-20T16:38:07.036Z"
   },
   {
    "duration": 167,
    "start_time": "2022-04-20T16:38:07.122Z"
   },
   {
    "duration": 1675,
    "start_time": "2022-04-20T16:38:07.292Z"
   },
   {
    "duration": 163,
    "start_time": "2022-04-20T16:38:08.969Z"
   },
   {
    "duration": 28,
    "start_time": "2022-04-20T16:38:09.133Z"
   },
   {
    "duration": 17,
    "start_time": "2022-04-20T16:38:09.163Z"
   },
   {
    "duration": 220,
    "start_time": "2022-04-20T16:38:09.183Z"
   },
   {
    "duration": 22,
    "start_time": "2022-04-20T16:38:09.405Z"
   },
   {
    "duration": 4,
    "start_time": "2022-04-20T16:38:09.429Z"
   },
   {
    "duration": 24,
    "start_time": "2022-04-20T16:38:09.449Z"
   },
   {
    "duration": 19,
    "start_time": "2022-04-20T16:38:09.475Z"
   },
   {
    "duration": 8,
    "start_time": "2022-04-20T16:38:09.496Z"
   },
   {
    "duration": 6,
    "start_time": "2022-04-20T16:55:26.295Z"
   },
   {
    "duration": 23,
    "start_time": "2022-04-20T16:55:26.303Z"
   },
   {
    "duration": 3,
    "start_time": "2022-04-20T16:55:26.329Z"
   },
   {
    "duration": 21,
    "start_time": "2022-04-20T16:55:26.334Z"
   },
   {
    "duration": 14,
    "start_time": "2022-04-20T16:55:26.358Z"
   },
   {
    "duration": 6,
    "start_time": "2022-04-20T16:55:26.373Z"
   },
   {
    "duration": 5429,
    "start_time": "2022-04-20T16:55:26.381Z"
   },
   {
    "duration": 6,
    "start_time": "2022-04-20T16:55:31.812Z"
   },
   {
    "duration": 10,
    "start_time": "2022-04-20T16:55:31.819Z"
   },
   {
    "duration": 15,
    "start_time": "2022-04-20T16:55:31.850Z"
   },
   {
    "duration": 11,
    "start_time": "2022-04-20T16:55:31.868Z"
   },
   {
    "duration": 4,
    "start_time": "2022-04-20T16:55:31.881Z"
   },
   {
    "duration": 4,
    "start_time": "2022-04-20T16:55:31.889Z"
   },
   {
    "duration": 6,
    "start_time": "2022-04-20T16:55:31.894Z"
   },
   {
    "duration": 94,
    "start_time": "2022-04-20T16:55:31.901Z"
   },
   {
    "duration": 171,
    "start_time": "2022-04-20T16:55:31.997Z"
   },
   {
    "duration": 1645,
    "start_time": "2022-04-20T16:55:32.169Z"
   },
   {
    "duration": 152,
    "start_time": "2022-04-20T16:55:33.816Z"
   },
   {
    "duration": 22,
    "start_time": "2022-04-20T16:55:33.970Z"
   },
   {
    "duration": 4,
    "start_time": "2022-04-20T16:55:33.993Z"
   },
   {
    "duration": 10,
    "start_time": "2022-04-20T16:55:33.999Z"
   },
   {
    "duration": 37,
    "start_time": "2022-04-20T16:55:34.011Z"
   },
   {
    "duration": 16,
    "start_time": "2022-04-20T16:55:34.050Z"
   },
   {
    "duration": 251,
    "start_time": "2022-04-20T16:55:34.067Z"
   },
   {
    "duration": 545,
    "start_time": "2022-04-20T16:55:34.320Z"
   },
   {
    "duration": 80,
    "start_time": "2022-04-20T16:55:34.872Z"
   }
  ],
  "celltoolbar": "Необработанный формат ячейки",
  "kernelspec": {
   "display_name": "Python 3 (ipykernel)",
   "language": "python",
   "name": "python3"
  },
  "language_info": {
   "codemirror_mode": {
    "name": "ipython",
    "version": 3
   },
   "file_extension": ".py",
   "mimetype": "text/x-python",
   "name": "python",
   "nbconvert_exporter": "python",
   "pygments_lexer": "ipython3",
   "version": "3.9.12"
  },
  "toc": {
   "base_numbering": 1,
   "nav_menu": {},
   "number_sections": false,
   "sideBar": true,
   "skip_h1_title": false,
   "title_cell": "Table of Contents",
   "title_sidebar": "Contents",
   "toc_cell": false,
   "toc_position": {
    "height": "calc(100% - 180px)",
    "left": "10px",
    "top": "150px",
    "width": "302.391px"
   },
   "toc_section_display": true,
   "toc_window_display": true
  }
 },
 "nbformat": 4,
 "nbformat_minor": 5
}
