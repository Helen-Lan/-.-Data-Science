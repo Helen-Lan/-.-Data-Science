{
 "cells": [
  {
   "cell_type": "markdown",
   "id": "ccf43c63",
   "metadata": {},
   "source": [
    "# Предварительный анализ трафиков."
   ]
  },
  {
   "cell_type": "markdown",
   "id": "0fd07c4f",
   "metadata": {},
   "source": [
    "**Цель проекта: изучить тарифы на предмет экономической эффективности.**\n",
    "\n",
    "Входные данные: сведения о 500 пользователей и их использование сотовой связью."
   ]
  },
  {
   "cell_type": "markdown",
   "id": "7108d6f9",
   "metadata": {},
   "source": [
    "**План работы:**\n",
    "- изучение данных;\n",
    "- предобработка данных;\n",
    "- дополнительные расчеты в соответствии с заданием;\n",
    "- объединение датафреймов;\n",
    "- расчет расходов абонентов двух тарифов;\n",
    "- анализ поведения абонентов двух тарифов (расчет дисперсии, стандартного отклонения, анализ гистаграмм);\n",
    "- проверка гипотез;\n",
    "- общий вывод."
   ]
  },
  {
   "cell_type": "markdown",
   "id": "9687ae11",
   "metadata": {},
   "source": [
    "## Шаг 1. Обзор данных"
   ]
  },
  {
   "cell_type": "markdown",
   "id": "e6415dee",
   "metadata": {},
   "source": [
    "### Загружаем данные"
   ]
  },
  {
   "cell_type": "markdown",
   "id": "42b38721",
   "metadata": {},
   "source": [
    "Импортируем библиотеки Pandas, Numpy и метод scipy из библиотеки Stats"
   ]
  },
  {
   "cell_type": "code",
   "execution_count": 1,
   "id": "bd70462e",
   "metadata": {},
   "outputs": [],
   "source": [
    "import pandas as pd\n",
    "import numpy as np\n",
    "from scipy import stats as st"
   ]
  },
  {
   "cell_type": "code",
   "execution_count": 2,
   "metadata": {},
   "outputs": [],
   "source": [
    "import matplotlib.pyplot as plt"
   ]
  },
  {
   "cell_type": "markdown",
   "id": "be7cd6ce",
   "metadata": {},
   "source": [
    "Загружаем датафреймы\n",
    "- users (информация о пользователях)\n",
    "- calls (информация о звонках)\n",
    "- messages (информация о смс)\n",
    "- internet (информация об интернет-сессиях)\n",
    "- tariffs (информация о тарифах)"
   ]
  },
  {
   "cell_type": "code",
   "execution_count": 3,
   "id": "1564ec34",
   "metadata": {},
   "outputs": [],
   "source": [
    "users = pd.read_csv('/datasets/users.csv')"
   ]
  },
  {
   "cell_type": "code",
   "execution_count": 4,
   "id": "a5d00c14",
   "metadata": {},
   "outputs": [],
   "source": [
    "calls = pd.read_csv('/datasets/calls.csv')"
   ]
  },
  {
   "cell_type": "code",
   "execution_count": 5,
   "id": "d30f2e65",
   "metadata": {},
   "outputs": [],
   "source": [
    "messages = pd.read_csv('/datasets/messages.csv')"
   ]
  },
  {
   "cell_type": "code",
   "execution_count": 6,
   "id": "59a2a3b4",
   "metadata": {},
   "outputs": [],
   "source": [
    "internet = pd.read_csv('/datasets/internet.csv')"
   ]
  },
  {
   "cell_type": "code",
   "execution_count": 7,
   "id": "3e67fa69",
   "metadata": {},
   "outputs": [],
   "source": [
    "tariffs = pd.read_csv('/datasets/tariffs.csv')"
   ]
  },
  {
   "cell_type": "markdown",
   "metadata": {},
   "source": [
    "Снижает размерность чисел для вывода на экран на всем проекте:"
   ]
  },
  {
   "cell_type": "code",
   "execution_count": 8,
   "metadata": {},
   "outputs": [],
   "source": [
    "pd.options.display.float_format = '{:,.2f}'.format"
   ]
  },
  {
   "cell_type": "markdown",
   "id": "0b1b2330",
   "metadata": {},
   "source": [
    "### Изучаем и подготавливаем данные"
   ]
  },
  {
   "cell_type": "markdown",
   "id": "89ab2131",
   "metadata": {},
   "source": [
    "#### Датафрейм users (абоненты)"
   ]
  },
  {
   "cell_type": "code",
   "execution_count": 9,
   "id": "39960fdb",
   "metadata": {},
   "outputs": [
    {
     "name": "stdout",
     "output_type": "stream",
     "text": [
      "<class 'pandas.core.frame.DataFrame'>\n",
      "RangeIndex: 500 entries, 0 to 499\n",
      "Data columns (total 8 columns):\n",
      " #   Column      Non-Null Count  Dtype \n",
      "---  ------      --------------  ----- \n",
      " 0   user_id     500 non-null    int64 \n",
      " 1   age         500 non-null    int64 \n",
      " 2   churn_date  38 non-null     object\n",
      " 3   city        500 non-null    object\n",
      " 4   first_name  500 non-null    object\n",
      " 5   last_name   500 non-null    object\n",
      " 6   reg_date    500 non-null    object\n",
      " 7   tariff      500 non-null    object\n",
      "dtypes: int64(2), object(6)\n",
      "memory usage: 31.4+ KB\n"
     ]
    }
   ],
   "source": [
    "users.info()"
   ]
  },
  {
   "cell_type": "markdown",
   "id": "9435ea5e",
   "metadata": {},
   "source": [
    "В данном датафрейме 500 строк (абонентов) и 8 столбцов. Пропуски имеются только в столбце `churn_date`, а согласно технической документации, это означает, что на момент выгрузки данный тариф действовал. "
   ]
  },
  {
   "cell_type": "code",
   "execution_count": 10,
   "id": "9d69e4bf",
   "metadata": {},
   "outputs": [
    {
     "data": {
      "text/html": [
       "<div>\n",
       "<style scoped>\n",
       "    .dataframe tbody tr th:only-of-type {\n",
       "        vertical-align: middle;\n",
       "    }\n",
       "\n",
       "    .dataframe tbody tr th {\n",
       "        vertical-align: top;\n",
       "    }\n",
       "\n",
       "    .dataframe thead th {\n",
       "        text-align: right;\n",
       "    }\n",
       "</style>\n",
       "<table border=\"1\" class=\"dataframe\">\n",
       "  <thead>\n",
       "    <tr style=\"text-align: right;\">\n",
       "      <th></th>\n",
       "      <th>user_id</th>\n",
       "      <th>age</th>\n",
       "      <th>churn_date</th>\n",
       "      <th>city</th>\n",
       "      <th>first_name</th>\n",
       "      <th>last_name</th>\n",
       "      <th>reg_date</th>\n",
       "      <th>tariff</th>\n",
       "    </tr>\n",
       "  </thead>\n",
       "  <tbody>\n",
       "    <tr>\n",
       "      <th>0</th>\n",
       "      <td>1000</td>\n",
       "      <td>52</td>\n",
       "      <td>NaN</td>\n",
       "      <td>Краснодар</td>\n",
       "      <td>Рафаил</td>\n",
       "      <td>Верещагин</td>\n",
       "      <td>2018-05-25</td>\n",
       "      <td>ultra</td>\n",
       "    </tr>\n",
       "    <tr>\n",
       "      <th>1</th>\n",
       "      <td>1001</td>\n",
       "      <td>41</td>\n",
       "      <td>NaN</td>\n",
       "      <td>Москва</td>\n",
       "      <td>Иван</td>\n",
       "      <td>Ежов</td>\n",
       "      <td>2018-11-01</td>\n",
       "      <td>smart</td>\n",
       "    </tr>\n",
       "    <tr>\n",
       "      <th>2</th>\n",
       "      <td>1002</td>\n",
       "      <td>59</td>\n",
       "      <td>NaN</td>\n",
       "      <td>Стерлитамак</td>\n",
       "      <td>Евгений</td>\n",
       "      <td>Абрамович</td>\n",
       "      <td>2018-06-17</td>\n",
       "      <td>smart</td>\n",
       "    </tr>\n",
       "    <tr>\n",
       "      <th>3</th>\n",
       "      <td>1003</td>\n",
       "      <td>23</td>\n",
       "      <td>NaN</td>\n",
       "      <td>Москва</td>\n",
       "      <td>Белла</td>\n",
       "      <td>Белякова</td>\n",
       "      <td>2018-08-17</td>\n",
       "      <td>ultra</td>\n",
       "    </tr>\n",
       "    <tr>\n",
       "      <th>4</th>\n",
       "      <td>1004</td>\n",
       "      <td>68</td>\n",
       "      <td>NaN</td>\n",
       "      <td>Новокузнецк</td>\n",
       "      <td>Татьяна</td>\n",
       "      <td>Авдеенко</td>\n",
       "      <td>2018-05-14</td>\n",
       "      <td>ultra</td>\n",
       "    </tr>\n",
       "    <tr>\n",
       "      <th>5</th>\n",
       "      <td>1005</td>\n",
       "      <td>67</td>\n",
       "      <td>NaN</td>\n",
       "      <td>Набережные Челны</td>\n",
       "      <td>Афанасий</td>\n",
       "      <td>Горлов</td>\n",
       "      <td>2018-01-25</td>\n",
       "      <td>smart</td>\n",
       "    </tr>\n",
       "    <tr>\n",
       "      <th>6</th>\n",
       "      <td>1006</td>\n",
       "      <td>21</td>\n",
       "      <td>NaN</td>\n",
       "      <td>Ульяновск</td>\n",
       "      <td>Леонид</td>\n",
       "      <td>Ермолаев</td>\n",
       "      <td>2018-02-26</td>\n",
       "      <td>smart</td>\n",
       "    </tr>\n",
       "    <tr>\n",
       "      <th>7</th>\n",
       "      <td>1007</td>\n",
       "      <td>65</td>\n",
       "      <td>NaN</td>\n",
       "      <td>Москва</td>\n",
       "      <td>Юна</td>\n",
       "      <td>Березина</td>\n",
       "      <td>2018-04-19</td>\n",
       "      <td>smart</td>\n",
       "    </tr>\n",
       "    <tr>\n",
       "      <th>8</th>\n",
       "      <td>1008</td>\n",
       "      <td>63</td>\n",
       "      <td>NaN</td>\n",
       "      <td>Челябинск</td>\n",
       "      <td>Рустэм</td>\n",
       "      <td>Пономарёв</td>\n",
       "      <td>2018-12-19</td>\n",
       "      <td>smart</td>\n",
       "    </tr>\n",
       "    <tr>\n",
       "      <th>9</th>\n",
       "      <td>1009</td>\n",
       "      <td>24</td>\n",
       "      <td>NaN</td>\n",
       "      <td>Пермь</td>\n",
       "      <td>Василиса</td>\n",
       "      <td>Блинова</td>\n",
       "      <td>2018-03-22</td>\n",
       "      <td>smart</td>\n",
       "    </tr>\n",
       "  </tbody>\n",
       "</table>\n",
       "</div>"
      ],
      "text/plain": [
       "   user_id  age churn_date              city first_name  last_name  \\\n",
       "0     1000   52        NaN         Краснодар     Рафаил  Верещагин   \n",
       "1     1001   41        NaN            Москва       Иван       Ежов   \n",
       "2     1002   59        NaN       Стерлитамак    Евгений  Абрамович   \n",
       "3     1003   23        NaN            Москва      Белла   Белякова   \n",
       "4     1004   68        NaN       Новокузнецк    Татьяна   Авдеенко   \n",
       "5     1005   67        NaN  Набережные Челны   Афанасий     Горлов   \n",
       "6     1006   21        NaN         Ульяновск     Леонид   Ермолаев   \n",
       "7     1007   65        NaN            Москва        Юна   Березина   \n",
       "8     1008   63        NaN         Челябинск     Рустэм  Пономарёв   \n",
       "9     1009   24        NaN             Пермь   Василиса    Блинова   \n",
       "\n",
       "     reg_date tariff  \n",
       "0  2018-05-25  ultra  \n",
       "1  2018-11-01  smart  \n",
       "2  2018-06-17  smart  \n",
       "3  2018-08-17  ultra  \n",
       "4  2018-05-14  ultra  \n",
       "5  2018-01-25  smart  \n",
       "6  2018-02-26  smart  \n",
       "7  2018-04-19  smart  \n",
       "8  2018-12-19  smart  \n",
       "9  2018-03-22  smart  "
      ]
     },
     "metadata": {},
     "output_type": "display_data"
    }
   ],
   "source": [
    "display(users.head(10))"
   ]
  },
  {
   "cell_type": "markdown",
   "id": "34cb70d3",
   "metadata": {},
   "source": [
    "Преобразуем столбец `reg_date` из `object` в `datetime64`."
   ]
  },
  {
   "cell_type": "code",
   "execution_count": 11,
   "id": "b7435f63",
   "metadata": {},
   "outputs": [],
   "source": [
    "users['reg_date'] = pd.to_datetime(users['reg_date'], format='%Y-%m-%d')"
   ]
  },
  {
   "cell_type": "code",
   "execution_count": 12,
   "id": "7756a84c",
   "metadata": {},
   "outputs": [
    {
     "name": "stdout",
     "output_type": "stream",
     "text": [
      "<class 'pandas.core.frame.DataFrame'>\n",
      "RangeIndex: 500 entries, 0 to 499\n",
      "Data columns (total 8 columns):\n",
      " #   Column      Non-Null Count  Dtype         \n",
      "---  ------      --------------  -----         \n",
      " 0   user_id     500 non-null    int64         \n",
      " 1   age         500 non-null    int64         \n",
      " 2   churn_date  38 non-null     object        \n",
      " 3   city        500 non-null    object        \n",
      " 4   first_name  500 non-null    object        \n",
      " 5   last_name   500 non-null    object        \n",
      " 6   reg_date    500 non-null    datetime64[ns]\n",
      " 7   tariff      500 non-null    object        \n",
      "dtypes: datetime64[ns](1), int64(2), object(5)\n",
      "memory usage: 31.4+ KB\n"
     ]
    }
   ],
   "source": [
    "users.info()"
   ]
  },
  {
   "cell_type": "markdown",
   "id": "3058217d",
   "metadata": {},
   "source": [
    "#### Датафрейм calls (звонки)"
   ]
  },
  {
   "cell_type": "code",
   "execution_count": 13,
   "id": "1f888eb1",
   "metadata": {
    "scrolled": true
   },
   "outputs": [
    {
     "name": "stdout",
     "output_type": "stream",
     "text": [
      "<class 'pandas.core.frame.DataFrame'>\n",
      "RangeIndex: 202607 entries, 0 to 202606\n",
      "Data columns (total 4 columns):\n",
      " #   Column     Non-Null Count   Dtype  \n",
      "---  ------     --------------   -----  \n",
      " 0   id         202607 non-null  object \n",
      " 1   call_date  202607 non-null  object \n",
      " 2   duration   202607 non-null  float64\n",
      " 3   user_id    202607 non-null  int64  \n",
      "dtypes: float64(1), int64(1), object(2)\n",
      "memory usage: 6.2+ MB\n"
     ]
    }
   ],
   "source": [
    "calls.info()"
   ]
  },
  {
   "cell_type": "markdown",
   "id": "bf95b975",
   "metadata": {},
   "source": [
    "В датафрейме 4 столбца и 202607 строк. Пропуски отсутствуют."
   ]
  },
  {
   "cell_type": "code",
   "execution_count": 14,
   "id": "0e68038e",
   "metadata": {},
   "outputs": [
    {
     "data": {
      "text/html": [
       "<div>\n",
       "<style scoped>\n",
       "    .dataframe tbody tr th:only-of-type {\n",
       "        vertical-align: middle;\n",
       "    }\n",
       "\n",
       "    .dataframe tbody tr th {\n",
       "        vertical-align: top;\n",
       "    }\n",
       "\n",
       "    .dataframe thead th {\n",
       "        text-align: right;\n",
       "    }\n",
       "</style>\n",
       "<table border=\"1\" class=\"dataframe\">\n",
       "  <thead>\n",
       "    <tr style=\"text-align: right;\">\n",
       "      <th></th>\n",
       "      <th>id</th>\n",
       "      <th>call_date</th>\n",
       "      <th>duration</th>\n",
       "      <th>user_id</th>\n",
       "    </tr>\n",
       "  </thead>\n",
       "  <tbody>\n",
       "    <tr>\n",
       "      <th>0</th>\n",
       "      <td>1000_0</td>\n",
       "      <td>2018-07-25</td>\n",
       "      <td>0.00</td>\n",
       "      <td>1000</td>\n",
       "    </tr>\n",
       "    <tr>\n",
       "      <th>1</th>\n",
       "      <td>1000_1</td>\n",
       "      <td>2018-08-17</td>\n",
       "      <td>0.00</td>\n",
       "      <td>1000</td>\n",
       "    </tr>\n",
       "    <tr>\n",
       "      <th>2</th>\n",
       "      <td>1000_2</td>\n",
       "      <td>2018-06-11</td>\n",
       "      <td>2.85</td>\n",
       "      <td>1000</td>\n",
       "    </tr>\n",
       "    <tr>\n",
       "      <th>3</th>\n",
       "      <td>1000_3</td>\n",
       "      <td>2018-09-21</td>\n",
       "      <td>13.80</td>\n",
       "      <td>1000</td>\n",
       "    </tr>\n",
       "    <tr>\n",
       "      <th>4</th>\n",
       "      <td>1000_4</td>\n",
       "      <td>2018-12-15</td>\n",
       "      <td>5.18</td>\n",
       "      <td>1000</td>\n",
       "    </tr>\n",
       "  </tbody>\n",
       "</table>\n",
       "</div>"
      ],
      "text/plain": [
       "       id   call_date  duration  user_id\n",
       "0  1000_0  2018-07-25      0.00     1000\n",
       "1  1000_1  2018-08-17      0.00     1000\n",
       "2  1000_2  2018-06-11      2.85     1000\n",
       "3  1000_3  2018-09-21     13.80     1000\n",
       "4  1000_4  2018-12-15      5.18     1000"
      ]
     },
     "metadata": {},
     "output_type": "display_data"
    }
   ],
   "source": [
    "display(calls.head(5))"
   ]
  },
  {
   "cell_type": "markdown",
   "id": "8e024605",
   "metadata": {},
   "source": [
    "Мы видим, что в столбце `duration` имеются нулевые значения. Согласно технической документации это пропущенные звонки."
   ]
  },
  {
   "cell_type": "markdown",
   "id": "0a41197d",
   "metadata": {},
   "source": [
    "Меняем тип данных столбеца `call_date` из `object` в `datetime64`."
   ]
  },
  {
   "cell_type": "code",
   "execution_count": 15,
   "id": "d0875f81",
   "metadata": {},
   "outputs": [],
   "source": [
    "calls['call_date'] = pd.to_datetime(calls['call_date'], format='%Y-%m-%d')"
   ]
  },
  {
   "cell_type": "code",
   "execution_count": 16,
   "id": "88587f5f",
   "metadata": {},
   "outputs": [
    {
     "name": "stdout",
     "output_type": "stream",
     "text": [
      "<class 'pandas.core.frame.DataFrame'>\n",
      "RangeIndex: 202607 entries, 0 to 202606\n",
      "Data columns (total 4 columns):\n",
      " #   Column     Non-Null Count   Dtype         \n",
      "---  ------     --------------   -----         \n",
      " 0   id         202607 non-null  object        \n",
      " 1   call_date  202607 non-null  datetime64[ns]\n",
      " 2   duration   202607 non-null  float64       \n",
      " 3   user_id    202607 non-null  int64         \n",
      "dtypes: datetime64[ns](1), float64(1), int64(1), object(1)\n",
      "memory usage: 6.2+ MB\n"
     ]
    }
   ],
   "source": [
    "calls.info()"
   ]
  },
  {
   "cell_type": "code",
   "execution_count": null,
   "id": "ffa6b77f",
   "metadata": {},
   "outputs": [],
   "source": []
  },
  {
   "cell_type": "markdown",
   "id": "cdb077b9",
   "metadata": {},
   "source": [
    "#### Датафрейм internet (интернет-трафик)"
   ]
  },
  {
   "cell_type": "code",
   "execution_count": 17,
   "id": "2ee98548",
   "metadata": {
    "scrolled": true
   },
   "outputs": [
    {
     "name": "stdout",
     "output_type": "stream",
     "text": [
      "<class 'pandas.core.frame.DataFrame'>\n",
      "RangeIndex: 149396 entries, 0 to 149395\n",
      "Data columns (total 5 columns):\n",
      " #   Column        Non-Null Count   Dtype  \n",
      "---  ------        --------------   -----  \n",
      " 0   Unnamed: 0    149396 non-null  int64  \n",
      " 1   id            149396 non-null  object \n",
      " 2   mb_used       149396 non-null  float64\n",
      " 3   session_date  149396 non-null  object \n",
      " 4   user_id       149396 non-null  int64  \n",
      "dtypes: float64(1), int64(2), object(2)\n",
      "memory usage: 5.7+ MB\n"
     ]
    }
   ],
   "source": [
    "internet.info()"
   ]
  },
  {
   "cell_type": "markdown",
   "id": "f9885a44",
   "metadata": {},
   "source": [
    "В датафрейме 4 столбца и 149396 строк. Пропуски отсутствуют."
   ]
  },
  {
   "cell_type": "code",
   "execution_count": 18,
   "id": "3583f481",
   "metadata": {},
   "outputs": [
    {
     "data": {
      "text/html": [
       "<div>\n",
       "<style scoped>\n",
       "    .dataframe tbody tr th:only-of-type {\n",
       "        vertical-align: middle;\n",
       "    }\n",
       "\n",
       "    .dataframe tbody tr th {\n",
       "        vertical-align: top;\n",
       "    }\n",
       "\n",
       "    .dataframe thead th {\n",
       "        text-align: right;\n",
       "    }\n",
       "</style>\n",
       "<table border=\"1\" class=\"dataframe\">\n",
       "  <thead>\n",
       "    <tr style=\"text-align: right;\">\n",
       "      <th></th>\n",
       "      <th>Unnamed: 0</th>\n",
       "      <th>id</th>\n",
       "      <th>mb_used</th>\n",
       "      <th>session_date</th>\n",
       "      <th>user_id</th>\n",
       "    </tr>\n",
       "  </thead>\n",
       "  <tbody>\n",
       "    <tr>\n",
       "      <th>0</th>\n",
       "      <td>0</td>\n",
       "      <td>1000_0</td>\n",
       "      <td>112.95</td>\n",
       "      <td>2018-11-25</td>\n",
       "      <td>1000</td>\n",
       "    </tr>\n",
       "    <tr>\n",
       "      <th>1</th>\n",
       "      <td>1</td>\n",
       "      <td>1000_1</td>\n",
       "      <td>1,052.81</td>\n",
       "      <td>2018-09-07</td>\n",
       "      <td>1000</td>\n",
       "    </tr>\n",
       "    <tr>\n",
       "      <th>2</th>\n",
       "      <td>2</td>\n",
       "      <td>1000_2</td>\n",
       "      <td>1,197.26</td>\n",
       "      <td>2018-06-25</td>\n",
       "      <td>1000</td>\n",
       "    </tr>\n",
       "    <tr>\n",
       "      <th>3</th>\n",
       "      <td>3</td>\n",
       "      <td>1000_3</td>\n",
       "      <td>550.27</td>\n",
       "      <td>2018-08-22</td>\n",
       "      <td>1000</td>\n",
       "    </tr>\n",
       "    <tr>\n",
       "      <th>4</th>\n",
       "      <td>4</td>\n",
       "      <td>1000_4</td>\n",
       "      <td>302.56</td>\n",
       "      <td>2018-09-24</td>\n",
       "      <td>1000</td>\n",
       "    </tr>\n",
       "  </tbody>\n",
       "</table>\n",
       "</div>"
      ],
      "text/plain": [
       "   Unnamed: 0      id  mb_used session_date  user_id\n",
       "0           0  1000_0   112.95   2018-11-25     1000\n",
       "1           1  1000_1 1,052.81   2018-09-07     1000\n",
       "2           2  1000_2 1,197.26   2018-06-25     1000\n",
       "3           3  1000_3   550.27   2018-08-22     1000\n",
       "4           4  1000_4   302.56   2018-09-24     1000"
      ]
     },
     "metadata": {},
     "output_type": "display_data"
    }
   ],
   "source": [
    "display(internet.head(5))"
   ]
  },
  {
   "cell_type": "code",
   "execution_count": 19,
   "id": "d30d6b80",
   "metadata": {},
   "outputs": [],
   "source": [
    "internet['session_date'] = pd.to_datetime(internet['session_date'], format='%Y-%m-%d')"
   ]
  },
  {
   "cell_type": "markdown",
   "id": "1034625b",
   "metadata": {},
   "source": [
    "#### Датафрейм messages (смс-сообщения)"
   ]
  },
  {
   "cell_type": "code",
   "execution_count": 20,
   "id": "13cb3817",
   "metadata": {
    "scrolled": true
   },
   "outputs": [
    {
     "name": "stdout",
     "output_type": "stream",
     "text": [
      "<class 'pandas.core.frame.DataFrame'>\n",
      "RangeIndex: 123036 entries, 0 to 123035\n",
      "Data columns (total 3 columns):\n",
      " #   Column        Non-Null Count   Dtype \n",
      "---  ------        --------------   ----- \n",
      " 0   id            123036 non-null  object\n",
      " 1   message_date  123036 non-null  object\n",
      " 2   user_id       123036 non-null  int64 \n",
      "dtypes: int64(1), object(2)\n",
      "memory usage: 2.8+ MB\n"
     ]
    }
   ],
   "source": [
    "messages.info()"
   ]
  },
  {
   "cell_type": "markdown",
   "id": "c3dd6b8f",
   "metadata": {},
   "source": [
    "В датафрейме 3 столбца и 123036 строк. Пропуски отсутствуют."
   ]
  },
  {
   "cell_type": "code",
   "execution_count": 21,
   "id": "9c63df10",
   "metadata": {},
   "outputs": [
    {
     "data": {
      "text/html": [
       "<div>\n",
       "<style scoped>\n",
       "    .dataframe tbody tr th:only-of-type {\n",
       "        vertical-align: middle;\n",
       "    }\n",
       "\n",
       "    .dataframe tbody tr th {\n",
       "        vertical-align: top;\n",
       "    }\n",
       "\n",
       "    .dataframe thead th {\n",
       "        text-align: right;\n",
       "    }\n",
       "</style>\n",
       "<table border=\"1\" class=\"dataframe\">\n",
       "  <thead>\n",
       "    <tr style=\"text-align: right;\">\n",
       "      <th></th>\n",
       "      <th>id</th>\n",
       "      <th>message_date</th>\n",
       "      <th>user_id</th>\n",
       "    </tr>\n",
       "  </thead>\n",
       "  <tbody>\n",
       "    <tr>\n",
       "      <th>0</th>\n",
       "      <td>1000_0</td>\n",
       "      <td>2018-06-27</td>\n",
       "      <td>1000</td>\n",
       "    </tr>\n",
       "    <tr>\n",
       "      <th>1</th>\n",
       "      <td>1000_1</td>\n",
       "      <td>2018-10-08</td>\n",
       "      <td>1000</td>\n",
       "    </tr>\n",
       "    <tr>\n",
       "      <th>2</th>\n",
       "      <td>1000_2</td>\n",
       "      <td>2018-08-04</td>\n",
       "      <td>1000</td>\n",
       "    </tr>\n",
       "    <tr>\n",
       "      <th>3</th>\n",
       "      <td>1000_3</td>\n",
       "      <td>2018-06-16</td>\n",
       "      <td>1000</td>\n",
       "    </tr>\n",
       "    <tr>\n",
       "      <th>4</th>\n",
       "      <td>1000_4</td>\n",
       "      <td>2018-12-05</td>\n",
       "      <td>1000</td>\n",
       "    </tr>\n",
       "  </tbody>\n",
       "</table>\n",
       "</div>"
      ],
      "text/plain": [
       "       id message_date  user_id\n",
       "0  1000_0   2018-06-27     1000\n",
       "1  1000_1   2018-10-08     1000\n",
       "2  1000_2   2018-08-04     1000\n",
       "3  1000_3   2018-06-16     1000\n",
       "4  1000_4   2018-12-05     1000"
      ]
     },
     "metadata": {},
     "output_type": "display_data"
    }
   ],
   "source": [
    "display(messages.head(5))"
   ]
  },
  {
   "cell_type": "code",
   "execution_count": 22,
   "id": "ac53601c",
   "metadata": {},
   "outputs": [],
   "source": [
    "messages['message_date'] = pd.to_datetime(messages['message_date'], format='%Y-%m-%d')"
   ]
  },
  {
   "cell_type": "code",
   "execution_count": null,
   "id": "4bf7c63f",
   "metadata": {},
   "outputs": [],
   "source": []
  },
  {
   "cell_type": "markdown",
   "id": "68c96360",
   "metadata": {},
   "source": [
    "#### Датафрейм tariffs (тариф)"
   ]
  },
  {
   "cell_type": "code",
   "execution_count": 23,
   "id": "024f58a0",
   "metadata": {
    "scrolled": true
   },
   "outputs": [
    {
     "name": "stdout",
     "output_type": "stream",
     "text": [
      "<class 'pandas.core.frame.DataFrame'>\n",
      "RangeIndex: 2 entries, 0 to 1\n",
      "Data columns (total 8 columns):\n",
      " #   Column                 Non-Null Count  Dtype \n",
      "---  ------                 --------------  ----- \n",
      " 0   messages_included      2 non-null      int64 \n",
      " 1   mb_per_month_included  2 non-null      int64 \n",
      " 2   minutes_included       2 non-null      int64 \n",
      " 3   rub_monthly_fee        2 non-null      int64 \n",
      " 4   rub_per_gb             2 non-null      int64 \n",
      " 5   rub_per_message        2 non-null      int64 \n",
      " 6   rub_per_minute         2 non-null      int64 \n",
      " 7   tariff_name            2 non-null      object\n",
      "dtypes: int64(7), object(1)\n",
      "memory usage: 256.0+ bytes\n"
     ]
    }
   ],
   "source": [
    "tariffs.info()"
   ]
  },
  {
   "cell_type": "markdown",
   "id": "4b54a465",
   "metadata": {},
   "source": [
    "В датафрейме 8 столбцов и 2 строки. Пропуски отсутствуют."
   ]
  },
  {
   "cell_type": "code",
   "execution_count": 24,
   "id": "8e1e43d4",
   "metadata": {},
   "outputs": [
    {
     "data": {
      "text/html": [
       "<div>\n",
       "<style scoped>\n",
       "    .dataframe tbody tr th:only-of-type {\n",
       "        vertical-align: middle;\n",
       "    }\n",
       "\n",
       "    .dataframe tbody tr th {\n",
       "        vertical-align: top;\n",
       "    }\n",
       "\n",
       "    .dataframe thead th {\n",
       "        text-align: right;\n",
       "    }\n",
       "</style>\n",
       "<table border=\"1\" class=\"dataframe\">\n",
       "  <thead>\n",
       "    <tr style=\"text-align: right;\">\n",
       "      <th></th>\n",
       "      <th>messages_included</th>\n",
       "      <th>mb_per_month_included</th>\n",
       "      <th>minutes_included</th>\n",
       "      <th>rub_monthly_fee</th>\n",
       "      <th>rub_per_gb</th>\n",
       "      <th>rub_per_message</th>\n",
       "      <th>rub_per_minute</th>\n",
       "      <th>tariff_name</th>\n",
       "    </tr>\n",
       "  </thead>\n",
       "  <tbody>\n",
       "    <tr>\n",
       "      <th>0</th>\n",
       "      <td>50</td>\n",
       "      <td>15360</td>\n",
       "      <td>500</td>\n",
       "      <td>550</td>\n",
       "      <td>200</td>\n",
       "      <td>3</td>\n",
       "      <td>3</td>\n",
       "      <td>smart</td>\n",
       "    </tr>\n",
       "    <tr>\n",
       "      <th>1</th>\n",
       "      <td>1000</td>\n",
       "      <td>30720</td>\n",
       "      <td>3000</td>\n",
       "      <td>1950</td>\n",
       "      <td>150</td>\n",
       "      <td>1</td>\n",
       "      <td>1</td>\n",
       "      <td>ultra</td>\n",
       "    </tr>\n",
       "  </tbody>\n",
       "</table>\n",
       "</div>"
      ],
      "text/plain": [
       "   messages_included  mb_per_month_included  minutes_included  \\\n",
       "0                 50                  15360               500   \n",
       "1               1000                  30720              3000   \n",
       "\n",
       "   rub_monthly_fee  rub_per_gb  rub_per_message  rub_per_minute tariff_name  \n",
       "0              550         200                3               3       smart  \n",
       "1             1950         150                1               1       ultra  "
      ]
     },
     "metadata": {},
     "output_type": "display_data"
    }
   ],
   "source": [
    "display(tariffs)"
   ]
  },
  {
   "cell_type": "markdown",
   "id": "85533f5e",
   "metadata": {},
   "source": [
    "Стоит обратить внимание, что расчет за интернет-трафик происходит за гигабайт, а в датафрейме указаны данные за мегабайты. Добавим дополнительный столбец `gb_per_month_included` с расчетом тарифа в гигабайтах:"
   ]
  },
  {
   "cell_type": "code",
   "execution_count": 25,
   "id": "435c9318",
   "metadata": {},
   "outputs": [],
   "source": [
    "tariffs['gb_per_month_included'] = (tariffs['mb_per_month_included'] / 1024).apply(np.ceil).astype(int)"
   ]
  },
  {
   "cell_type": "markdown",
   "id": "1ac20831",
   "metadata": {},
   "source": [
    "Наименование столбца `tariff_name` в датафрейме `tariffs` отличается от наименования столбца в датафрейме `users`. Стоит сразу заменить, чтобы в дальнейшем было объединить:"
   ]
  },
  {
   "cell_type": "code",
   "execution_count": 26,
   "id": "eacdb7a5",
   "metadata": {},
   "outputs": [],
   "source": [
    "tariffs = tariffs.rename(columns={'tariff_name': 'tariff'})"
   ]
  },
  {
   "cell_type": "code",
   "execution_count": 27,
   "id": "46b15033",
   "metadata": {
    "scrolled": true
   },
   "outputs": [
    {
     "data": {
      "text/html": [
       "<div>\n",
       "<style scoped>\n",
       "    .dataframe tbody tr th:only-of-type {\n",
       "        vertical-align: middle;\n",
       "    }\n",
       "\n",
       "    .dataframe tbody tr th {\n",
       "        vertical-align: top;\n",
       "    }\n",
       "\n",
       "    .dataframe thead th {\n",
       "        text-align: right;\n",
       "    }\n",
       "</style>\n",
       "<table border=\"1\" class=\"dataframe\">\n",
       "  <thead>\n",
       "    <tr style=\"text-align: right;\">\n",
       "      <th></th>\n",
       "      <th>messages_included</th>\n",
       "      <th>mb_per_month_included</th>\n",
       "      <th>minutes_included</th>\n",
       "      <th>rub_monthly_fee</th>\n",
       "      <th>rub_per_gb</th>\n",
       "      <th>rub_per_message</th>\n",
       "      <th>rub_per_minute</th>\n",
       "      <th>tariff</th>\n",
       "      <th>gb_per_month_included</th>\n",
       "    </tr>\n",
       "  </thead>\n",
       "  <tbody>\n",
       "    <tr>\n",
       "      <th>0</th>\n",
       "      <td>50</td>\n",
       "      <td>15360</td>\n",
       "      <td>500</td>\n",
       "      <td>550</td>\n",
       "      <td>200</td>\n",
       "      <td>3</td>\n",
       "      <td>3</td>\n",
       "      <td>smart</td>\n",
       "      <td>15</td>\n",
       "    </tr>\n",
       "    <tr>\n",
       "      <th>1</th>\n",
       "      <td>1000</td>\n",
       "      <td>30720</td>\n",
       "      <td>3000</td>\n",
       "      <td>1950</td>\n",
       "      <td>150</td>\n",
       "      <td>1</td>\n",
       "      <td>1</td>\n",
       "      <td>ultra</td>\n",
       "      <td>30</td>\n",
       "    </tr>\n",
       "  </tbody>\n",
       "</table>\n",
       "</div>"
      ],
      "text/plain": [
       "   messages_included  mb_per_month_included  minutes_included  \\\n",
       "0                 50                  15360               500   \n",
       "1               1000                  30720              3000   \n",
       "\n",
       "   rub_monthly_fee  rub_per_gb  rub_per_message  rub_per_minute tariff  \\\n",
       "0              550         200                3               3  smart   \n",
       "1             1950         150                1               1  ultra   \n",
       "\n",
       "   gb_per_month_included  \n",
       "0                     15  \n",
       "1                     30  "
      ]
     },
     "metadata": {},
     "output_type": "display_data"
    }
   ],
   "source": [
    "display(tariffs)"
   ]
  },
  {
   "cell_type": "markdown",
   "id": "6af4e7ad",
   "metadata": {},
   "source": [
    "### Осуществляем дополнительные вычисления в соответствии с заданием."
   ]
  },
  {
   "cell_type": "markdown",
   "id": "c6c5be52",
   "metadata": {},
   "source": [
    "В датафрейме `calls` добавляем столбец с расчетом звонков в минутах. Согласно технической документации время звонков указано в минутах, но согласно тарифному плану время округляется до целых минут по каждому звонку отдельно.\n",
    "\n",
    "Создаем столбец `calls_ceil`"
   ]
  },
  {
   "cell_type": "code",
   "execution_count": 28,
   "metadata": {},
   "outputs": [],
   "source": [
    "calls['duration_ceil'] = np.ceil(calls['duration']).astype(int)"
   ]
  },
  {
   "cell_type": "markdown",
   "id": "a406295d",
   "metadata": {},
   "source": [
    "Добавляем столбец с номером месяца:"
   ]
  },
  {
   "cell_type": "code",
   "execution_count": 29,
   "id": "7d560e4f",
   "metadata": {},
   "outputs": [],
   "source": [
    "calls['month'] = calls['call_date'].dt.month"
   ]
  },
  {
   "cell_type": "markdown",
   "id": "3e3fe73c",
   "metadata": {},
   "source": [
    "Проверяем:"
   ]
  },
  {
   "cell_type": "code",
   "execution_count": 30,
   "id": "b25acb03",
   "metadata": {
    "scrolled": true
   },
   "outputs": [
    {
     "data": {
      "text/html": [
       "<div>\n",
       "<style scoped>\n",
       "    .dataframe tbody tr th:only-of-type {\n",
       "        vertical-align: middle;\n",
       "    }\n",
       "\n",
       "    .dataframe tbody tr th {\n",
       "        vertical-align: top;\n",
       "    }\n",
       "\n",
       "    .dataframe thead th {\n",
       "        text-align: right;\n",
       "    }\n",
       "</style>\n",
       "<table border=\"1\" class=\"dataframe\">\n",
       "  <thead>\n",
       "    <tr style=\"text-align: right;\">\n",
       "      <th></th>\n",
       "      <th>id</th>\n",
       "      <th>call_date</th>\n",
       "      <th>duration</th>\n",
       "      <th>user_id</th>\n",
       "      <th>duration_ceil</th>\n",
       "      <th>month</th>\n",
       "    </tr>\n",
       "  </thead>\n",
       "  <tbody>\n",
       "    <tr>\n",
       "      <th>0</th>\n",
       "      <td>1000_0</td>\n",
       "      <td>2018-07-25</td>\n",
       "      <td>0.00</td>\n",
       "      <td>1000</td>\n",
       "      <td>0</td>\n",
       "      <td>7</td>\n",
       "    </tr>\n",
       "    <tr>\n",
       "      <th>1</th>\n",
       "      <td>1000_1</td>\n",
       "      <td>2018-08-17</td>\n",
       "      <td>0.00</td>\n",
       "      <td>1000</td>\n",
       "      <td>0</td>\n",
       "      <td>8</td>\n",
       "    </tr>\n",
       "    <tr>\n",
       "      <th>2</th>\n",
       "      <td>1000_2</td>\n",
       "      <td>2018-06-11</td>\n",
       "      <td>2.85</td>\n",
       "      <td>1000</td>\n",
       "      <td>3</td>\n",
       "      <td>6</td>\n",
       "    </tr>\n",
       "    <tr>\n",
       "      <th>3</th>\n",
       "      <td>1000_3</td>\n",
       "      <td>2018-09-21</td>\n",
       "      <td>13.80</td>\n",
       "      <td>1000</td>\n",
       "      <td>14</td>\n",
       "      <td>9</td>\n",
       "    </tr>\n",
       "    <tr>\n",
       "      <th>4</th>\n",
       "      <td>1000_4</td>\n",
       "      <td>2018-12-15</td>\n",
       "      <td>5.18</td>\n",
       "      <td>1000</td>\n",
       "      <td>6</td>\n",
       "      <td>12</td>\n",
       "    </tr>\n",
       "  </tbody>\n",
       "</table>\n",
       "</div>"
      ],
      "text/plain": [
       "       id  call_date  duration  user_id  duration_ceil  month\n",
       "0  1000_0 2018-07-25      0.00     1000              0      7\n",
       "1  1000_1 2018-08-17      0.00     1000              0      8\n",
       "2  1000_2 2018-06-11      2.85     1000              3      6\n",
       "3  1000_3 2018-09-21     13.80     1000             14      9\n",
       "4  1000_4 2018-12-15      5.18     1000              6     12"
      ]
     },
     "metadata": {},
     "output_type": "display_data"
    }
   ],
   "source": [
    "display(calls.head(5))"
   ]
  },
  {
   "cell_type": "markdown",
   "id": "18b320fc",
   "metadata": {},
   "source": [
    "Группируем данные по столбцам `user_id` и `month`, считаем сумму звонков за месяц и их количество. Обязательно обновляем индексацию:"
   ]
  },
  {
   "cell_type": "code",
   "execution_count": 31,
   "id": "6796ea92",
   "metadata": {},
   "outputs": [],
   "source": [
    "calls_group = calls.pivot_table(index=['user_id','month'], values='duration_ceil', aggfunc=['sum', 'count']).reset_index()"
   ]
  },
  {
   "cell_type": "markdown",
   "id": "572a06b2",
   "metadata": {},
   "source": [
    "Меняем наименование столбцов:"
   ]
  },
  {
   "cell_type": "code",
   "execution_count": 32,
   "id": "db231adc",
   "metadata": {},
   "outputs": [],
   "source": [
    "calls_group.columns = ['user_id', 'month', 'duration_sum', 'duration_count']"
   ]
  },
  {
   "cell_type": "markdown",
   "id": "2dd1693f",
   "metadata": {},
   "source": [
    "Проверяем:"
   ]
  },
  {
   "cell_type": "code",
   "execution_count": 33,
   "id": "06fec580",
   "metadata": {},
   "outputs": [
    {
     "data": {
      "text/html": [
       "<div>\n",
       "<style scoped>\n",
       "    .dataframe tbody tr th:only-of-type {\n",
       "        vertical-align: middle;\n",
       "    }\n",
       "\n",
       "    .dataframe tbody tr th {\n",
       "        vertical-align: top;\n",
       "    }\n",
       "\n",
       "    .dataframe thead th {\n",
       "        text-align: right;\n",
       "    }\n",
       "</style>\n",
       "<table border=\"1\" class=\"dataframe\">\n",
       "  <thead>\n",
       "    <tr style=\"text-align: right;\">\n",
       "      <th></th>\n",
       "      <th>user_id</th>\n",
       "      <th>month</th>\n",
       "      <th>duration_sum</th>\n",
       "      <th>duration_count</th>\n",
       "    </tr>\n",
       "  </thead>\n",
       "  <tbody>\n",
       "    <tr>\n",
       "      <th>0</th>\n",
       "      <td>1000</td>\n",
       "      <td>5</td>\n",
       "      <td>159</td>\n",
       "      <td>22</td>\n",
       "    </tr>\n",
       "    <tr>\n",
       "      <th>1</th>\n",
       "      <td>1000</td>\n",
       "      <td>6</td>\n",
       "      <td>172</td>\n",
       "      <td>43</td>\n",
       "    </tr>\n",
       "    <tr>\n",
       "      <th>2</th>\n",
       "      <td>1000</td>\n",
       "      <td>7</td>\n",
       "      <td>340</td>\n",
       "      <td>47</td>\n",
       "    </tr>\n",
       "    <tr>\n",
       "      <th>3</th>\n",
       "      <td>1000</td>\n",
       "      <td>8</td>\n",
       "      <td>408</td>\n",
       "      <td>52</td>\n",
       "    </tr>\n",
       "    <tr>\n",
       "      <th>4</th>\n",
       "      <td>1000</td>\n",
       "      <td>9</td>\n",
       "      <td>466</td>\n",
       "      <td>58</td>\n",
       "    </tr>\n",
       "  </tbody>\n",
       "</table>\n",
       "</div>"
      ],
      "text/plain": [
       "   user_id  month  duration_sum  duration_count\n",
       "0     1000      5           159              22\n",
       "1     1000      6           172              43\n",
       "2     1000      7           340              47\n",
       "3     1000      8           408              52\n",
       "4     1000      9           466              58"
      ]
     },
     "metadata": {},
     "output_type": "display_data"
    }
   ],
   "source": [
    "display(calls_group.head(5))"
   ]
  },
  {
   "cell_type": "markdown",
   "id": "d576b893",
   "metadata": {},
   "source": [
    "В датафрейме `internet` добавляем столбец с порядковым месяцем:"
   ]
  },
  {
   "cell_type": "code",
   "execution_count": 34,
   "id": "a4ad4838",
   "metadata": {},
   "outputs": [],
   "source": [
    "internet['month'] = internet['session_date'].dt.month"
   ]
  },
  {
   "cell_type": "markdown",
   "id": "8314a65a",
   "metadata": {},
   "source": [
    "Группируем по столбцам user_id и month, считаем количество израсходованного трафика по месяцам:"
   ]
  },
  {
   "cell_type": "code",
   "execution_count": 35,
   "id": "985ae526",
   "metadata": {},
   "outputs": [],
   "source": [
    "internet_group = internet.pivot_table(index=['user_id','month'], values='mb_used', aggfunc=['sum', 'count']).reset_index()"
   ]
  },
  {
   "cell_type": "markdown",
   "id": "3b8a26e9",
   "metadata": {},
   "source": [
    "Меняем наименование столбцов:"
   ]
  },
  {
   "cell_type": "code",
   "execution_count": 36,
   "id": "535dfca9",
   "metadata": {},
   "outputs": [],
   "source": [
    "internet_group.columns = ['user_id', 'month', 'mb_user_sum', 'mb_user_count']"
   ]
  },
  {
   "cell_type": "markdown",
   "id": "d5ff01b7",
   "metadata": {},
   "source": [
    "Согласно тарифному плану расчет использованного интернет-трафика осуществляется как общая сумма за месяц в гигабайтах, с округлением в большую сторону. Создаем столбец `gb_user_sum` в котором расчитаем трафик разделив количество мегабайт на 1024 до целого числа:"
   ]
  },
  {
   "cell_type": "code",
   "execution_count": 37,
   "id": "cc5a2632",
   "metadata": {},
   "outputs": [],
   "source": [
    "internet_group['gb_user_sum'] = (internet_group['mb_user_sum'] / 1024).apply(np.ceil).astype(int)"
   ]
  },
  {
   "cell_type": "markdown",
   "id": "6e518466",
   "metadata": {},
   "source": [
    "Проверяем:"
   ]
  },
  {
   "cell_type": "code",
   "execution_count": 38,
   "id": "23f37073",
   "metadata": {
    "scrolled": true
   },
   "outputs": [
    {
     "data": {
      "text/html": [
       "<div>\n",
       "<style scoped>\n",
       "    .dataframe tbody tr th:only-of-type {\n",
       "        vertical-align: middle;\n",
       "    }\n",
       "\n",
       "    .dataframe tbody tr th {\n",
       "        vertical-align: top;\n",
       "    }\n",
       "\n",
       "    .dataframe thead th {\n",
       "        text-align: right;\n",
       "    }\n",
       "</style>\n",
       "<table border=\"1\" class=\"dataframe\">\n",
       "  <thead>\n",
       "    <tr style=\"text-align: right;\">\n",
       "      <th></th>\n",
       "      <th>user_id</th>\n",
       "      <th>month</th>\n",
       "      <th>mb_user_sum</th>\n",
       "      <th>mb_user_count</th>\n",
       "      <th>gb_user_sum</th>\n",
       "    </tr>\n",
       "  </thead>\n",
       "  <tbody>\n",
       "    <tr>\n",
       "      <th>0</th>\n",
       "      <td>1000</td>\n",
       "      <td>5</td>\n",
       "      <td>2,253.49</td>\n",
       "      <td>5</td>\n",
       "      <td>3</td>\n",
       "    </tr>\n",
       "    <tr>\n",
       "      <th>1</th>\n",
       "      <td>1000</td>\n",
       "      <td>6</td>\n",
       "      <td>23,233.77</td>\n",
       "      <td>49</td>\n",
       "      <td>23</td>\n",
       "    </tr>\n",
       "    <tr>\n",
       "      <th>2</th>\n",
       "      <td>1000</td>\n",
       "      <td>7</td>\n",
       "      <td>14,003.64</td>\n",
       "      <td>29</td>\n",
       "      <td>14</td>\n",
       "    </tr>\n",
       "    <tr>\n",
       "      <th>3</th>\n",
       "      <td>1000</td>\n",
       "      <td>8</td>\n",
       "      <td>14,055.93</td>\n",
       "      <td>29</td>\n",
       "      <td>14</td>\n",
       "    </tr>\n",
       "    <tr>\n",
       "      <th>4</th>\n",
       "      <td>1000</td>\n",
       "      <td>9</td>\n",
       "      <td>14,568.91</td>\n",
       "      <td>27</td>\n",
       "      <td>15</td>\n",
       "    </tr>\n",
       "  </tbody>\n",
       "</table>\n",
       "</div>"
      ],
      "text/plain": [
       "   user_id  month  mb_user_sum  mb_user_count  gb_user_sum\n",
       "0     1000      5     2,253.49              5            3\n",
       "1     1000      6    23,233.77             49           23\n",
       "2     1000      7    14,003.64             29           14\n",
       "3     1000      8    14,055.93             29           14\n",
       "4     1000      9    14,568.91             27           15"
      ]
     },
     "metadata": {},
     "output_type": "display_data"
    }
   ],
   "source": [
    "display(internet_group.head(5))"
   ]
  },
  {
   "cell_type": "markdown",
   "id": "48387dce",
   "metadata": {},
   "source": [
    "В датафрейме `messages` добавляем столбец с порядковым месяцем:"
   ]
  },
  {
   "cell_type": "code",
   "execution_count": 39,
   "id": "dd8a26bd",
   "metadata": {},
   "outputs": [],
   "source": [
    "messages['month'] = messages['message_date'].dt.month"
   ]
  },
  {
   "cell_type": "markdown",
   "id": "8314a65a",
   "metadata": {},
   "source": [
    "Группируем по столбцам user_id и month, считаем количество израсходованного трафика по месяцам:"
   ]
  },
  {
   "cell_type": "code",
   "execution_count": 40,
   "id": "985ae526",
   "metadata": {},
   "outputs": [],
   "source": [
    "messages_group = messages.pivot_table(index=['user_id','month'], values='id', aggfunc='count').reset_index()"
   ]
  },
  {
   "cell_type": "markdown",
   "id": "3b8a26e9",
   "metadata": {},
   "source": [
    "Меняем наименование столбцов:"
   ]
  },
  {
   "cell_type": "code",
   "execution_count": 41,
   "id": "db231adc",
   "metadata": {},
   "outputs": [],
   "source": [
    "messages_group.columns = ['user_id', 'month', 'messages_count']"
   ]
  },
  {
   "cell_type": "markdown",
   "id": "66b45ca9",
   "metadata": {},
   "source": [
    "Проверяем:"
   ]
  },
  {
   "cell_type": "code",
   "execution_count": 42,
   "id": "fffebb85",
   "metadata": {},
   "outputs": [
    {
     "data": {
      "text/html": [
       "<div>\n",
       "<style scoped>\n",
       "    .dataframe tbody tr th:only-of-type {\n",
       "        vertical-align: middle;\n",
       "    }\n",
       "\n",
       "    .dataframe tbody tr th {\n",
       "        vertical-align: top;\n",
       "    }\n",
       "\n",
       "    .dataframe thead th {\n",
       "        text-align: right;\n",
       "    }\n",
       "</style>\n",
       "<table border=\"1\" class=\"dataframe\">\n",
       "  <thead>\n",
       "    <tr style=\"text-align: right;\">\n",
       "      <th></th>\n",
       "      <th>user_id</th>\n",
       "      <th>month</th>\n",
       "      <th>messages_count</th>\n",
       "    </tr>\n",
       "  </thead>\n",
       "  <tbody>\n",
       "    <tr>\n",
       "      <th>0</th>\n",
       "      <td>1000</td>\n",
       "      <td>5</td>\n",
       "      <td>22</td>\n",
       "    </tr>\n",
       "    <tr>\n",
       "      <th>1</th>\n",
       "      <td>1000</td>\n",
       "      <td>6</td>\n",
       "      <td>60</td>\n",
       "    </tr>\n",
       "    <tr>\n",
       "      <th>2</th>\n",
       "      <td>1000</td>\n",
       "      <td>7</td>\n",
       "      <td>75</td>\n",
       "    </tr>\n",
       "    <tr>\n",
       "      <th>3</th>\n",
       "      <td>1000</td>\n",
       "      <td>8</td>\n",
       "      <td>81</td>\n",
       "    </tr>\n",
       "    <tr>\n",
       "      <th>4</th>\n",
       "      <td>1000</td>\n",
       "      <td>9</td>\n",
       "      <td>57</td>\n",
       "    </tr>\n",
       "  </tbody>\n",
       "</table>\n",
       "</div>"
      ],
      "text/plain": [
       "   user_id  month  messages_count\n",
       "0     1000      5              22\n",
       "1     1000      6              60\n",
       "2     1000      7              75\n",
       "3     1000      8              81\n",
       "4     1000      9              57"
      ]
     },
     "metadata": {},
     "output_type": "display_data"
    }
   ],
   "source": [
    "display(messages_group.head(5))"
   ]
  },
  {
   "cell_type": "markdown",
   "id": "803ff3e7",
   "metadata": {},
   "source": [
    "### Вывод:"
   ]
  },
  {
   "cell_type": "markdown",
   "id": "00eeb460",
   "metadata": {},
   "source": [
    "В результате проделанной работы:\n",
    "- загружены и проверены 5 датафреймов со сведениями об абонентах, их активности (звонки, сообщения и интернет-трафиках) и имеющихся трафиках;\n",
    "- проведена предобработка данных:\n",
    "   * изменен тип данных, содержащих данные о датах,\n",
    "   * добавлены столбцы, содержащие сведение о месяце;\n",
    "   * пересчитаны сведения о минутах до целых чисел (округление в сторону увеличения);\n",
    "   * в датафрейме тарифов мегабайты переведены в гигабайты;\n",
    "- созданы датафреймы содержащие сгруппированные сведения звонках, смс-сообщениях и израсходованных мегабайтах за месяц по каждому пользователю;\n",
    "- мегабайты израсходованные за месяц переведены в гигабайты с округлением в сторону увеличесния."
   ]
  },
  {
   "cell_type": "markdown",
   "id": "3435ea71",
   "metadata": {},
   "source": [
    "## Объединение датафреймов"
   ]
  },
  {
   "cell_type": "markdown",
   "id": "f8083989",
   "metadata": {},
   "source": [
    "Слияние столбцов:"
   ]
  },
  {
   "cell_type": "code",
   "execution_count": 43,
   "id": "37d7629c",
   "metadata": {},
   "outputs": [],
   "source": [
    "data = (calls_group.merge(messages_group, on=['user_id', 'month'], how='outer')\n",
    "             .merge(internet_group, on=['user_id', 'month'], how='outer')\n",
    "             .merge(users, on='user_id',how='outer'))"
   ]
  },
  {
   "cell_type": "code",
   "execution_count": 44,
   "id": "9c55ada1",
   "metadata": {},
   "outputs": [
    {
     "name": "stdout",
     "output_type": "stream",
     "text": [
      "<class 'pandas.core.frame.DataFrame'>\n",
      "Int64Index: 3216 entries, 0 to 3215\n",
      "Data columns (total 15 columns):\n",
      " #   Column          Non-Null Count  Dtype         \n",
      "---  ------          --------------  -----         \n",
      " 0   user_id         3216 non-null   int64         \n",
      " 1   month           3214 non-null   float64       \n",
      " 2   duration_sum    3174 non-null   float64       \n",
      " 3   duration_count  3174 non-null   float64       \n",
      " 4   messages_count  2717 non-null   float64       \n",
      " 5   mb_user_sum     3203 non-null   float64       \n",
      " 6   mb_user_count   3203 non-null   float64       \n",
      " 7   gb_user_sum     3203 non-null   float64       \n",
      " 8   age             3216 non-null   int64         \n",
      " 9   churn_date      189 non-null    object        \n",
      " 10  city            3216 non-null   object        \n",
      " 11  first_name      3216 non-null   object        \n",
      " 12  last_name       3216 non-null   object        \n",
      " 13  reg_date        3216 non-null   datetime64[ns]\n",
      " 14  tariff          3216 non-null   object        \n",
      "dtypes: datetime64[ns](1), float64(7), int64(2), object(5)\n",
      "memory usage: 402.0+ KB\n"
     ]
    }
   ],
   "source": [
    "data.info()"
   ]
  },
  {
   "cell_type": "code",
   "execution_count": 45,
   "id": "d57ea603",
   "metadata": {},
   "outputs": [
    {
     "data": {
      "text/html": [
       "<div>\n",
       "<style scoped>\n",
       "    .dataframe tbody tr th:only-of-type {\n",
       "        vertical-align: middle;\n",
       "    }\n",
       "\n",
       "    .dataframe tbody tr th {\n",
       "        vertical-align: top;\n",
       "    }\n",
       "\n",
       "    .dataframe thead th {\n",
       "        text-align: right;\n",
       "    }\n",
       "</style>\n",
       "<table border=\"1\" class=\"dataframe\">\n",
       "  <thead>\n",
       "    <tr style=\"text-align: right;\">\n",
       "      <th></th>\n",
       "      <th>user_id</th>\n",
       "      <th>month</th>\n",
       "      <th>duration_sum</th>\n",
       "      <th>duration_count</th>\n",
       "      <th>messages_count</th>\n",
       "      <th>mb_user_sum</th>\n",
       "      <th>mb_user_count</th>\n",
       "      <th>gb_user_sum</th>\n",
       "      <th>age</th>\n",
       "      <th>churn_date</th>\n",
       "      <th>city</th>\n",
       "      <th>first_name</th>\n",
       "      <th>last_name</th>\n",
       "      <th>reg_date</th>\n",
       "      <th>tariff</th>\n",
       "    </tr>\n",
       "  </thead>\n",
       "  <tbody>\n",
       "    <tr>\n",
       "      <th>0</th>\n",
       "      <td>1000</td>\n",
       "      <td>5.00</td>\n",
       "      <td>159.00</td>\n",
       "      <td>22.00</td>\n",
       "      <td>22.00</td>\n",
       "      <td>2,253.49</td>\n",
       "      <td>5.00</td>\n",
       "      <td>3.00</td>\n",
       "      <td>52</td>\n",
       "      <td>NaN</td>\n",
       "      <td>Краснодар</td>\n",
       "      <td>Рафаил</td>\n",
       "      <td>Верещагин</td>\n",
       "      <td>2018-05-25</td>\n",
       "      <td>ultra</td>\n",
       "    </tr>\n",
       "    <tr>\n",
       "      <th>1</th>\n",
       "      <td>1000</td>\n",
       "      <td>6.00</td>\n",
       "      <td>172.00</td>\n",
       "      <td>43.00</td>\n",
       "      <td>60.00</td>\n",
       "      <td>23,233.77</td>\n",
       "      <td>49.00</td>\n",
       "      <td>23.00</td>\n",
       "      <td>52</td>\n",
       "      <td>NaN</td>\n",
       "      <td>Краснодар</td>\n",
       "      <td>Рафаил</td>\n",
       "      <td>Верещагин</td>\n",
       "      <td>2018-05-25</td>\n",
       "      <td>ultra</td>\n",
       "    </tr>\n",
       "    <tr>\n",
       "      <th>2</th>\n",
       "      <td>1000</td>\n",
       "      <td>7.00</td>\n",
       "      <td>340.00</td>\n",
       "      <td>47.00</td>\n",
       "      <td>75.00</td>\n",
       "      <td>14,003.64</td>\n",
       "      <td>29.00</td>\n",
       "      <td>14.00</td>\n",
       "      <td>52</td>\n",
       "      <td>NaN</td>\n",
       "      <td>Краснодар</td>\n",
       "      <td>Рафаил</td>\n",
       "      <td>Верещагин</td>\n",
       "      <td>2018-05-25</td>\n",
       "      <td>ultra</td>\n",
       "    </tr>\n",
       "    <tr>\n",
       "      <th>3</th>\n",
       "      <td>1000</td>\n",
       "      <td>8.00</td>\n",
       "      <td>408.00</td>\n",
       "      <td>52.00</td>\n",
       "      <td>81.00</td>\n",
       "      <td>14,055.93</td>\n",
       "      <td>29.00</td>\n",
       "      <td>14.00</td>\n",
       "      <td>52</td>\n",
       "      <td>NaN</td>\n",
       "      <td>Краснодар</td>\n",
       "      <td>Рафаил</td>\n",
       "      <td>Верещагин</td>\n",
       "      <td>2018-05-25</td>\n",
       "      <td>ultra</td>\n",
       "    </tr>\n",
       "    <tr>\n",
       "      <th>4</th>\n",
       "      <td>1000</td>\n",
       "      <td>9.00</td>\n",
       "      <td>466.00</td>\n",
       "      <td>58.00</td>\n",
       "      <td>57.00</td>\n",
       "      <td>14,568.91</td>\n",
       "      <td>27.00</td>\n",
       "      <td>15.00</td>\n",
       "      <td>52</td>\n",
       "      <td>NaN</td>\n",
       "      <td>Краснодар</td>\n",
       "      <td>Рафаил</td>\n",
       "      <td>Верещагин</td>\n",
       "      <td>2018-05-25</td>\n",
       "      <td>ultra</td>\n",
       "    </tr>\n",
       "  </tbody>\n",
       "</table>\n",
       "</div>"
      ],
      "text/plain": [
       "   user_id  month  duration_sum  duration_count  messages_count  mb_user_sum  \\\n",
       "0     1000   5.00        159.00           22.00           22.00     2,253.49   \n",
       "1     1000   6.00        172.00           43.00           60.00    23,233.77   \n",
       "2     1000   7.00        340.00           47.00           75.00    14,003.64   \n",
       "3     1000   8.00        408.00           52.00           81.00    14,055.93   \n",
       "4     1000   9.00        466.00           58.00           57.00    14,568.91   \n",
       "\n",
       "   mb_user_count  gb_user_sum  age churn_date       city first_name  \\\n",
       "0           5.00         3.00   52        NaN  Краснодар     Рафаил   \n",
       "1          49.00        23.00   52        NaN  Краснодар     Рафаил   \n",
       "2          29.00        14.00   52        NaN  Краснодар     Рафаил   \n",
       "3          29.00        14.00   52        NaN  Краснодар     Рафаил   \n",
       "4          27.00        15.00   52        NaN  Краснодар     Рафаил   \n",
       "\n",
       "   last_name   reg_date tariff  \n",
       "0  Верещагин 2018-05-25  ultra  \n",
       "1  Верещагин 2018-05-25  ultra  \n",
       "2  Верещагин 2018-05-25  ultra  \n",
       "3  Верещагин 2018-05-25  ultra  \n",
       "4  Верещагин 2018-05-25  ultra  "
      ]
     },
     "metadata": {},
     "output_type": "display_data"
    }
   ],
   "source": [
    "display(data.head(5))"
   ]
  },
  {
   "cell_type": "markdown",
   "id": "3035943c",
   "metadata": {},
   "source": [
    "Два абонента подключились во второй половине декабря и не воспользовались сотовой связью, все данные нулевые. Их можно удалить."
   ]
  },
  {
   "cell_type": "markdown",
   "metadata": {},
   "source": [
    "<div class=\"alert alert-anger\">\n",
    "<font size=\"4\"><b>❌ Комментарий ревьюера ✔️</b></font>\n",
    "    <br /> \n",
    "    <font size=\"3\", color = \"black\">\n",
    "<br />Данные абоненты принесли выручку компании, нельзя их просто удалить.\n",
    "\n",
    "Точность в расчетах с выручкой и параметрами, которые связаны с деньгами должна быть 100%"
   ]
  },
  {
   "cell_type": "code",
   "execution_count": 46,
   "id": "e26b672c",
   "metadata": {},
   "outputs": [],
   "source": [
    "data = data.dropna(subset=['month']).reset_index()"
   ]
  },
  {
   "cell_type": "markdown",
   "id": "6b0c98cc",
   "metadata": {},
   "source": [
    "Остальные пропуски можно заменить на 0. Эти пропуски могли появиться, если абонент в тот или иной месяц не пользовался интернетом, не звонил или не писал смс:"
   ]
  },
  {
   "cell_type": "code",
   "execution_count": 47,
   "id": "d354e1e1",
   "metadata": {},
   "outputs": [],
   "source": [
    "data['duration_sum'] = data['duration_sum'].fillna(0)\n",
    "data['duration_count'] = data['duration_count'].fillna(0)\n",
    "data['messages_count'] = data['messages_count'].fillna(0)\n",
    "data['mb_user_sum'] = data['mb_user_sum'].fillna(0)\n",
    "data['mb_user_count'] = data['mb_user_count'].fillna(0)\n",
    "data['gb_user_sum'] = data['gb_user_sum'].fillna(0)"
   ]
  },
  {
   "cell_type": "code",
   "execution_count": 48,
   "id": "fa6a04d5",
   "metadata": {},
   "outputs": [
    {
     "name": "stdout",
     "output_type": "stream",
     "text": [
      "<class 'pandas.core.frame.DataFrame'>\n",
      "RangeIndex: 3214 entries, 0 to 3213\n",
      "Data columns (total 16 columns):\n",
      " #   Column          Non-Null Count  Dtype         \n",
      "---  ------          --------------  -----         \n",
      " 0   index           3214 non-null   int64         \n",
      " 1   user_id         3214 non-null   int64         \n",
      " 2   month           3214 non-null   float64       \n",
      " 3   duration_sum    3214 non-null   float64       \n",
      " 4   duration_count  3214 non-null   float64       \n",
      " 5   messages_count  3214 non-null   float64       \n",
      " 6   mb_user_sum     3214 non-null   float64       \n",
      " 7   mb_user_count   3214 non-null   float64       \n",
      " 8   gb_user_sum     3214 non-null   float64       \n",
      " 9   age             3214 non-null   int64         \n",
      " 10  churn_date      187 non-null    object        \n",
      " 11  city            3214 non-null   object        \n",
      " 12  first_name      3214 non-null   object        \n",
      " 13  last_name       3214 non-null   object        \n",
      " 14  reg_date        3214 non-null   datetime64[ns]\n",
      " 15  tariff          3214 non-null   object        \n",
      "dtypes: datetime64[ns](1), float64(7), int64(3), object(5)\n",
      "memory usage: 401.9+ KB\n"
     ]
    }
   ],
   "source": [
    "data.info()"
   ]
  },
  {
   "cell_type": "markdown",
   "id": "4baa8b55",
   "metadata": {},
   "source": [
    "## Расчет расходов абонентов"
   ]
  },
  {
   "cell_type": "code",
   "execution_count": 49,
   "id": "e6151c81",
   "metadata": {},
   "outputs": [],
   "source": [
    "data_good = data[['user_id', 'month', 'duration_sum', 'messages_count', 'gb_user_sum', 'city', 'tariff']]"
   ]
  },
  {
   "cell_type": "code",
   "execution_count": 50,
   "id": "d4805cd3",
   "metadata": {},
   "outputs": [],
   "source": [
    "data_good = data_good.merge(tariffs, on='tariff', how='outer')"
   ]
  },
  {
   "cell_type": "code",
   "execution_count": 51,
   "id": "7ee1e4b4",
   "metadata": {},
   "outputs": [
    {
     "name": "stdout",
     "output_type": "stream",
     "text": [
      "<class 'pandas.core.frame.DataFrame'>\n",
      "Int64Index: 3214 entries, 0 to 3213\n",
      "Data columns (total 15 columns):\n",
      " #   Column                 Non-Null Count  Dtype  \n",
      "---  ------                 --------------  -----  \n",
      " 0   user_id                3214 non-null   int64  \n",
      " 1   month                  3214 non-null   float64\n",
      " 2   duration_sum           3214 non-null   float64\n",
      " 3   messages_count         3214 non-null   float64\n",
      " 4   gb_user_sum            3214 non-null   float64\n",
      " 5   city                   3214 non-null   object \n",
      " 6   tariff                 3214 non-null   object \n",
      " 7   messages_included      3214 non-null   int64  \n",
      " 8   mb_per_month_included  3214 non-null   int64  \n",
      " 9   minutes_included       3214 non-null   int64  \n",
      " 10  rub_monthly_fee        3214 non-null   int64  \n",
      " 11  rub_per_gb             3214 non-null   int64  \n",
      " 12  rub_per_message        3214 non-null   int64  \n",
      " 13  rub_per_minute         3214 non-null   int64  \n",
      " 14  gb_per_month_included  3214 non-null   int64  \n",
      "dtypes: float64(4), int64(9), object(2)\n",
      "memory usage: 401.8+ KB\n"
     ]
    }
   ],
   "source": [
    "data_good.info()"
   ]
  },
  {
   "cell_type": "code",
   "execution_count": 52,
   "metadata": {},
   "outputs": [
    {
     "data": {
      "image/png": "[encoded data removed]",
      "text/plain": [
       "<Figure size 720x288 with 1 Axes>"
      ]
     },
     "metadata": {
      "needs_background": "light"
     },
     "output_type": "display_data"
    }
   ],
   "source": [
    "(data_good\n",
    " .pivot_table(index='tariff', columns='month', values='user_id', aggfunc='count')\n",
    " .T\n",
    " .plot(kind='line', figsize=(10,4),  style = 'o-')\n",
    ")\n",
    "plt.title('Рост кол-ва клиентов по 2-м тарифам за год'+ \"\\n\")\n",
    "plt.xlabel('Месяц')\n",
    "plt.ylabel('кол-во');"
   ]
  },
  {
   "cell_type": "markdown",
   "metadata": {},
   "source": [
    "Согласно данных графика можно сделать вывод, что общее количество абонентов, подключивших изучаемые тарифы, растет, но у тарифа Смарт динамика роста активнее."
   ]
  },
  {
   "cell_type": "code",
   "execution_count": 53,
   "metadata": {
    "scrolled": true
   },
   "outputs": [
    {
     "name": "stdout",
     "output_type": "stream",
     "text": [
      "Количество абонентов на тарифе Смарт, которые не использовали минуты: 8\n",
      "Количество абонентов на тарифе Смарт, которые не использовали смс: 307\n",
      "Количество абонентов на тарифе Смарт, которые не использовали ГБ: 0\n",
      "Количество абонентов на тарифе Ультра, которые не использовали минуты: 38\n",
      "Количество абонентов на тарифе Ультра, которые не использовали смс: 190\n",
      "Количество абонентов на тарифе Ультра, которые не использовали ГБ: 0\n"
     ]
    }
   ],
   "source": [
    "print('Количество абонентов на тарифе Смарт, которые не использовали минуты:',\n",
    "       data_good.query('tariff == \"smart\" and duration_sum == 0')['user_id'].count())\n",
    "print('Количество абонентов на тарифе Смарт, которые не использовали смс:', \n",
    "      data_good.query('tariff == \"smart\" and messages_count == 0')['user_id'].count())\n",
    "print('Количество абонентов на тарифе Смарт, которые не использовали ГБ:', \n",
    "      data_good.query('tariff == \"smart\" and mb_per_month_included == 0')['user_id'].count())\n",
    "print('Количество абонентов на тарифе Ультра, которые не использовали минуты:',\n",
    "       data_good.query('tariff == \"ultra\" and duration_sum == 0')['user_id'].count())\n",
    "print('Количество абонентов на тарифе Ультра, которые не использовали смс:', \n",
    "      data_good.query('tariff == \"ultra\" and messages_count == 0')['user_id'].count())\n",
    "print('Количество абонентов на тарифе Ультра, которые не использовали ГБ:', \n",
    "      data_good.query('tariff == \"ultra\" and mb_per_month_included == 0')['user_id'].count())"
   ]
  },
  {
   "cell_type": "code",
   "execution_count": 54,
   "id": "0af038f5",
   "metadata": {},
   "outputs": [],
   "source": [
    "def minutes(row):\n",
    "    mes = row['duration_sum'] - row['minutes_included']\n",
    "    if row['duration_sum'] < row['minutes_included']:\n",
    "        return 0\n",
    "    return mes"
   ]
  },
  {
   "cell_type": "code",
   "execution_count": 55,
   "id": "677bd24f",
   "metadata": {},
   "outputs": [],
   "source": [
    "data_good['lot_minutes'] = data_good.apply(minutes, axis=1)"
   ]
  },
  {
   "cell_type": "code",
   "execution_count": 56,
   "id": "1a35fa82",
   "metadata": {},
   "outputs": [],
   "source": [
    "def messages(row):\n",
    "    mes = row['messages_count'] - row['messages_included']\n",
    "    if row['messages_count'] < row['messages_included']:\n",
    "        return 0\n",
    "    return mes"
   ]
  },
  {
   "cell_type": "code",
   "execution_count": 57,
   "id": "7e4074ae",
   "metadata": {},
   "outputs": [],
   "source": [
    "data_good['lot_messages'] = data_good.apply(messages, axis=1)"
   ]
  },
  {
   "cell_type": "code",
   "execution_count": 58,
   "id": "1a35fa82",
   "metadata": {},
   "outputs": [],
   "source": [
    "def internet(row):\n",
    "    mes = row['gb_user_sum'] - row['gb_per_month_included']\n",
    "    if row['gb_user_sum'] < row['gb_per_month_included']:\n",
    "        return 0\n",
    "    return mes"
   ]
  },
  {
   "cell_type": "code",
   "execution_count": 59,
   "id": "7e4074ae",
   "metadata": {},
   "outputs": [],
   "source": [
    "data_good['lot_internet'] = data_good.apply(internet, axis=1)"
   ]
  },
  {
   "cell_type": "code",
   "execution_count": 60,
   "id": "5797b1d5",
   "metadata": {},
   "outputs": [],
   "source": [
    "data_good['lot_sum'] = data_good['lot_minutes']*data_good['rub_per_minute'] + data_good['lot_messages']*data_good['rub_per_message'] + data_good['lot_internet']*data_good['rub_per_gb']\n",
    "data_good['general_sum'] = data_good['lot_sum'] + data_good['rub_monthly_fee']\n"
   ]
  },
  {
   "cell_type": "code",
   "execution_count": 61,
   "id": "bd0e8a1c",
   "metadata": {},
   "outputs": [
    {
     "data": {
      "text/html": [
       "<div>\n",
       "<style scoped>\n",
       "    .dataframe tbody tr th:only-of-type {\n",
       "        vertical-align: middle;\n",
       "    }\n",
       "\n",
       "    .dataframe tbody tr th {\n",
       "        vertical-align: top;\n",
       "    }\n",
       "\n",
       "    .dataframe thead th {\n",
       "        text-align: right;\n",
       "    }\n",
       "</style>\n",
       "<table border=\"1\" class=\"dataframe\">\n",
       "  <thead>\n",
       "    <tr style=\"text-align: right;\">\n",
       "      <th></th>\n",
       "      <th>user_id</th>\n",
       "      <th>month</th>\n",
       "      <th>duration_sum</th>\n",
       "      <th>messages_count</th>\n",
       "      <th>gb_user_sum</th>\n",
       "      <th>city</th>\n",
       "      <th>tariff</th>\n",
       "      <th>messages_included</th>\n",
       "      <th>mb_per_month_included</th>\n",
       "      <th>minutes_included</th>\n",
       "      <th>rub_monthly_fee</th>\n",
       "      <th>rub_per_gb</th>\n",
       "      <th>rub_per_message</th>\n",
       "      <th>rub_per_minute</th>\n",
       "      <th>gb_per_month_included</th>\n",
       "      <th>lot_minutes</th>\n",
       "      <th>lot_messages</th>\n",
       "      <th>lot_internet</th>\n",
       "      <th>lot_sum</th>\n",
       "      <th>general_sum</th>\n",
       "    </tr>\n",
       "  </thead>\n",
       "  <tbody>\n",
       "    <tr>\n",
       "      <th>0</th>\n",
       "      <td>1000</td>\n",
       "      <td>5.00</td>\n",
       "      <td>159.00</td>\n",
       "      <td>22.00</td>\n",
       "      <td>3.00</td>\n",
       "      <td>Краснодар</td>\n",
       "      <td>ultra</td>\n",
       "      <td>1000</td>\n",
       "      <td>30720</td>\n",
       "      <td>3000</td>\n",
       "      <td>1950</td>\n",
       "      <td>150</td>\n",
       "      <td>1</td>\n",
       "      <td>1</td>\n",
       "      <td>30</td>\n",
       "      <td>0.00</td>\n",
       "      <td>0.00</td>\n",
       "      <td>0.00</td>\n",
       "      <td>0.00</td>\n",
       "      <td>1,950.00</td>\n",
       "    </tr>\n",
       "    <tr>\n",
       "      <th>1</th>\n",
       "      <td>1000</td>\n",
       "      <td>6.00</td>\n",
       "      <td>172.00</td>\n",
       "      <td>60.00</td>\n",
       "      <td>23.00</td>\n",
       "      <td>Краснодар</td>\n",
       "      <td>ultra</td>\n",
       "      <td>1000</td>\n",
       "      <td>30720</td>\n",
       "      <td>3000</td>\n",
       "      <td>1950</td>\n",
       "      <td>150</td>\n",
       "      <td>1</td>\n",
       "      <td>1</td>\n",
       "      <td>30</td>\n",
       "      <td>0.00</td>\n",
       "      <td>0.00</td>\n",
       "      <td>0.00</td>\n",
       "      <td>0.00</td>\n",
       "      <td>1,950.00</td>\n",
       "    </tr>\n",
       "    <tr>\n",
       "      <th>2</th>\n",
       "      <td>1000</td>\n",
       "      <td>7.00</td>\n",
       "      <td>340.00</td>\n",
       "      <td>75.00</td>\n",
       "      <td>14.00</td>\n",
       "      <td>Краснодар</td>\n",
       "      <td>ultra</td>\n",
       "      <td>1000</td>\n",
       "      <td>30720</td>\n",
       "      <td>3000</td>\n",
       "      <td>1950</td>\n",
       "      <td>150</td>\n",
       "      <td>1</td>\n",
       "      <td>1</td>\n",
       "      <td>30</td>\n",
       "      <td>0.00</td>\n",
       "      <td>0.00</td>\n",
       "      <td>0.00</td>\n",
       "      <td>0.00</td>\n",
       "      <td>1,950.00</td>\n",
       "    </tr>\n",
       "    <tr>\n",
       "      <th>3</th>\n",
       "      <td>1000</td>\n",
       "      <td>8.00</td>\n",
       "      <td>408.00</td>\n",
       "      <td>81.00</td>\n",
       "      <td>14.00</td>\n",
       "      <td>Краснодар</td>\n",
       "      <td>ultra</td>\n",
       "      <td>1000</td>\n",
       "      <td>30720</td>\n",
       "      <td>3000</td>\n",
       "      <td>1950</td>\n",
       "      <td>150</td>\n",
       "      <td>1</td>\n",
       "      <td>1</td>\n",
       "      <td>30</td>\n",
       "      <td>0.00</td>\n",
       "      <td>0.00</td>\n",
       "      <td>0.00</td>\n",
       "      <td>0.00</td>\n",
       "      <td>1,950.00</td>\n",
       "    </tr>\n",
       "    <tr>\n",
       "      <th>4</th>\n",
       "      <td>1000</td>\n",
       "      <td>9.00</td>\n",
       "      <td>466.00</td>\n",
       "      <td>57.00</td>\n",
       "      <td>15.00</td>\n",
       "      <td>Краснодар</td>\n",
       "      <td>ultra</td>\n",
       "      <td>1000</td>\n",
       "      <td>30720</td>\n",
       "      <td>3000</td>\n",
       "      <td>1950</td>\n",
       "      <td>150</td>\n",
       "      <td>1</td>\n",
       "      <td>1</td>\n",
       "      <td>30</td>\n",
       "      <td>0.00</td>\n",
       "      <td>0.00</td>\n",
       "      <td>0.00</td>\n",
       "      <td>0.00</td>\n",
       "      <td>1,950.00</td>\n",
       "    </tr>\n",
       "  </tbody>\n",
       "</table>\n",
       "</div>"
      ],
      "text/plain": [
       "   user_id  month  duration_sum  messages_count  gb_user_sum       city  \\\n",
       "0     1000   5.00        159.00           22.00         3.00  Краснодар   \n",
       "1     1000   6.00        172.00           60.00        23.00  Краснодар   \n",
       "2     1000   7.00        340.00           75.00        14.00  Краснодар   \n",
       "3     1000   8.00        408.00           81.00        14.00  Краснодар   \n",
       "4     1000   9.00        466.00           57.00        15.00  Краснодар   \n",
       "\n",
       "  tariff  messages_included  mb_per_month_included  minutes_included  \\\n",
       "0  ultra               1000                  30720              3000   \n",
       "1  ultra               1000                  30720              3000   \n",
       "2  ultra               1000                  30720              3000   \n",
       "3  ultra               1000                  30720              3000   \n",
       "4  ultra               1000                  30720              3000   \n",
       "\n",
       "   rub_monthly_fee  rub_per_gb  rub_per_message  rub_per_minute  \\\n",
       "0             1950         150                1               1   \n",
       "1             1950         150                1               1   \n",
       "2             1950         150                1               1   \n",
       "3             1950         150                1               1   \n",
       "4             1950         150                1               1   \n",
       "\n",
       "   gb_per_month_included  lot_minutes  lot_messages  lot_internet  lot_sum  \\\n",
       "0                     30         0.00          0.00          0.00     0.00   \n",
       "1                     30         0.00          0.00          0.00     0.00   \n",
       "2                     30         0.00          0.00          0.00     0.00   \n",
       "3                     30         0.00          0.00          0.00     0.00   \n",
       "4                     30         0.00          0.00          0.00     0.00   \n",
       "\n",
       "   general_sum  \n",
       "0     1,950.00  \n",
       "1     1,950.00  \n",
       "2     1,950.00  \n",
       "3     1,950.00  \n",
       "4     1,950.00  "
      ]
     },
     "metadata": {},
     "output_type": "display_data"
    }
   ],
   "source": [
    "display(data_good.head(5))"
   ]
  },
  {
   "cell_type": "code",
   "execution_count": 62,
   "id": "33b40689",
   "metadata": {
    "scrolled": true
   },
   "outputs": [
    {
     "data": {
      "text/html": [
       "<div>\n",
       "<style scoped>\n",
       "    .dataframe tbody tr th:only-of-type {\n",
       "        vertical-align: middle;\n",
       "    }\n",
       "\n",
       "    .dataframe tbody tr th {\n",
       "        vertical-align: top;\n",
       "    }\n",
       "\n",
       "    .dataframe thead th {\n",
       "        text-align: right;\n",
       "    }\n",
       "</style>\n",
       "<table border=\"1\" class=\"dataframe\">\n",
       "  <thead>\n",
       "    <tr style=\"text-align: right;\">\n",
       "      <th></th>\n",
       "      <th>month_count</th>\n",
       "      <th>rub_free_sum</th>\n",
       "      <th>lot_sum_mean</th>\n",
       "      <th>lot_sum</th>\n",
       "      <th>general_sum_mean</th>\n",
       "      <th>general_sum</th>\n",
       "      <th>duration_mean</th>\n",
       "      <th>messages_mean</th>\n",
       "      <th>gb_user_mean</th>\n",
       "    </tr>\n",
       "    <tr>\n",
       "      <th>tariff</th>\n",
       "      <th></th>\n",
       "      <th></th>\n",
       "      <th></th>\n",
       "      <th></th>\n",
       "      <th></th>\n",
       "      <th></th>\n",
       "      <th></th>\n",
       "      <th></th>\n",
       "      <th></th>\n",
       "    </tr>\n",
       "  </thead>\n",
       "  <tbody>\n",
       "    <tr>\n",
       "      <th>smart</th>\n",
       "      <td>2229</td>\n",
       "      <td>1225950</td>\n",
       "      <td>740</td>\n",
       "      <td>1649401</td>\n",
       "      <td>1290</td>\n",
       "      <td>2875351</td>\n",
       "      <td>418</td>\n",
       "      <td>34</td>\n",
       "      <td>17</td>\n",
       "    </tr>\n",
       "    <tr>\n",
       "      <th>ultra</th>\n",
       "      <td>985</td>\n",
       "      <td>1920750</td>\n",
       "      <td>121</td>\n",
       "      <td>118350</td>\n",
       "      <td>2071</td>\n",
       "      <td>2039100</td>\n",
       "      <td>527</td>\n",
       "      <td>50</td>\n",
       "      <td>20</td>\n",
       "    </tr>\n",
       "  </tbody>\n",
       "</table>\n",
       "</div>"
      ],
      "text/plain": [
       "        month_count  rub_free_sum  lot_sum_mean  lot_sum  general_sum_mean  \\\n",
       "tariff                                                                       \n",
       "smart          2229       1225950           740  1649401              1290   \n",
       "ultra           985       1920750           121   118350              2071   \n",
       "\n",
       "        general_sum  duration_mean  messages_mean  gb_user_mean  \n",
       "tariff                                                           \n",
       "smart       2875351            418             34            17  \n",
       "ultra       2039100            527             50            20  "
      ]
     },
     "metadata": {},
     "output_type": "display_data"
    }
   ],
   "source": [
    "data_good_group = data_good.groupby('tariff').agg(\n",
    "    ({'month': 'count', 'rub_monthly_fee': 'sum', 'lot_sum': ['mean', 'sum'],\n",
    "      'general_sum': ['mean', 'sum'], 'duration_sum': 'mean', 'messages_count': 'mean',\n",
    "     'gb_user_sum': 'mean'})) #группируем по тарифам\n",
    "\n",
    "data_good_group.columns = (['month_count', 'rub_free_sum', 'lot_sum_mean',\n",
    "                            'lot_sum', 'general_sum_mean', 'general_sum', 'duration_mean',\n",
    "                            'messages_mean', 'gb_user_mean']) # переименовываем столбцы\n",
    "\n",
    "# округляем данные в столбцах до целого числа в сторону увеличения\n",
    "\n",
    "data_good_group = np.ceil(data_good_group).astype(int)\n",
    "\n",
    "display(data_good_group)"
   ]
  },
  {
   "cell_type": "code",
   "execution_count": 63,
   "id": "33743740",
   "metadata": {},
   "outputs": [
    {
     "name": "stdout",
     "output_type": "stream",
     "text": [
      "Количество превышений по тарифу SMART 1662\n",
      "Количество превышений по тарифу SMART 134\n"
     ]
    }
   ],
   "source": [
    "print('Количество превышений по тарифу SMART', data_good[(data_good['lot_sum'] > 0) & (data_good['tariff'] == 'smart')]['lot_sum'].count())\n",
    "print('Количество превышений по тарифу SMART', data_good[(data_good['lot_sum'] > 0) & (data_good['tariff'] == 'ultra')]['lot_sum'].count())"
   ]
  },
  {
   "cell_type": "code",
   "execution_count": 64,
   "metadata": {
    "scrolled": true
   },
   "outputs": [
    {
     "data": {
      "image/png": "[encoded data removed]",
      "text/plain": [
       "<Figure size 720x288 with 1 Axes>"
      ]
     },
     "metadata": {
      "needs_background": "light"
     },
     "output_type": "display_data"
    }
   ],
   "source": [
    "(data_good\n",
    " .pivot_table(index='tariff', columns='month', values='general_sum', aggfunc='mean')\n",
    " .T\n",
    " .plot(kind='line', figsize=(10,4),  style = 'o-')\n",
    ")\n",
    "plt.title('Средняя ежемесячная выручка от одного абонента'+ \"\\n\")\n",
    "plt.xlabel('Месяц')\n",
    "plt.ylabel('Рубли');"
   ]
  },
  {
   "cell_type": "code",
   "execution_count": 65,
   "id": "5dc37995",
   "metadata": {},
   "outputs": [
    {
     "name": "stdout",
     "output_type": "stream",
     "text": [
      "Общая сумма дохода по тарифу SMART 2875351 , доля дополнительных затрат абонентов 57.36346623420931\n",
      "Общая сумма дохода по тарифу ULTRA 2039100 , доля дополнительных затрат абонентов 5.804031190230984\n"
     ]
    }
   ],
   "source": [
    "print('Общая сумма дохода по тарифу SMART', 2875351, ', доля дополнительных затрат абонентов', 1649401/2875351*100)\n",
    "print('Общая сумма дохода по тарифу ULTRA', 2039100, ', доля дополнительных затрат абонентов', 118350/2039100*100)"
   ]
  },
  {
   "cell_type": "markdown",
   "id": "29eccfc3",
   "metadata": {},
   "source": [
    "*Расчет осуществлен по количеству активных месяцев все абонентов тарифов, так как количество самих абонентов не является показательным. Абонент может подключить тариф, а через месяц уйти на другой тариф или перейти к другому сотовому оператору.*\n"
   ]
  },
  {
   "cell_type": "markdown",
   "id": "26451eb1",
   "metadata": {},
   "source": [
    "По предварительным расчетам можно сделать вывод:\n",
    "- тариф SMART принес за год больше прибыли сотовому оператору, чем ULTRA на 30%;\n",
    "- тариф SMART пользуется большей популярностью у абонентов, его использовали на 44% больше;\n",
    "- абоненты SMART чаще превышают оплаченный лимит по тарифу по звонкам, смс и интернет-трафику (1662 месяца из 2229);\n",
    "- абоненты тарифа ULTRA никогда не превышают количество минут и количество смс-сообщений, предусмотренных тарифом, редко по количеству интернет-трафика (134 месяца из 985);\n",
    "- средний расход абонента SMART на услуги сотовой связи сверх тарифа 740 рублей (общая сумма расхода с абонентской платой 1290 рублей);\n",
    "- средний расход абонента ULTRA на услуги сотовой связи сверх тарифа 121 рублей (общая сумма расхода с абонентской платой 2071 рублей);\n",
    "- Количество абонентов на тарифе Смарт, которые не использовали минуты: 8\n",
    "- Количество абонентов на тарифе Смарт, которые не использовали смс: 307\n",
    "- Количество абонентов на тарифе Смарт, которые не использовали ГБ: 0\n",
    "- Количество абонентов на тарифе Ультра, которые не использовали минуты: 38\n",
    "- Количество абонентов на тарифе Ультра, которые не использовали смс: 190\n",
    "- Количество абонентов на тарифе Ультра, которые не использовали ГБ: 0\n",
    "\n",
    "При этом среднее количество минут/смс/ГБ на одного абонента в месяц:\n",
    "- SMART: 418 минут, 34 смс, 17 ГБ;\n",
    "- ULTRA: 527 минут, 50 смс, 20 ГБ."
   ]
  },
  {
   "cell_type": "markdown",
   "id": "40e30c0a",
   "metadata": {},
   "source": [
    "## Дисперсия, стандартное отклонение, расчет нормы и гистограммы значений"
   ]
  },
  {
   "cell_type": "markdown",
   "id": "88886e96",
   "metadata": {},
   "source": [
    "При расчете дисперсии необходимо учесть, что у нас не генеральная совокупность, а статистика (случайная выборка)."
   ]
  },
  {
   "cell_type": "markdown",
   "id": "dbe23e5f",
   "metadata": {},
   "source": [
    "Создадим два отдельных датафрейма `data_smart` и `data_ultra`, в которые поместим абонентов с разными тарифными планами. "
   ]
  },
  {
   "cell_type": "code",
   "execution_count": 66,
   "id": "a4ace712",
   "metadata": {},
   "outputs": [],
   "source": [
    "data_smart = (\n",
    "    data_good.query('tariff == \"smart\"')[['user_id', 'month', 'duration_sum', 'messages_count', 'gb_user_sum', 'city', 'general_sum']]\n",
    "    .reset_index(drop=True))"
   ]
  },
  {
   "cell_type": "code",
   "execution_count": 67,
   "id": "57d3072d",
   "metadata": {},
   "outputs": [],
   "source": [
    "data_ultra = (\n",
    "    data_good.query('tariff == \"ultra\"')[['user_id', 'month', 'duration_sum', 'messages_count', 'gb_user_sum', 'city', 'general_sum']]\n",
    "    .reset_index(drop=True))\n"
   ]
  },
  {
   "cell_type": "code",
   "execution_count": 68,
   "id": "bb41e82c",
   "metadata": {},
   "outputs": [],
   "source": [
    "def standart(dev):\n",
    "    dev_mean = dev.mean()\n",
    "    dev_median = dev.median()\n",
    "    dev_var = np.var(dev, ddof=1)\n",
    "    dev_std = np.std(dev, ddof=1)\n",
    "    dev_sig = dev_mean + 3*dev_std\n",
    "    print('Среднее значение:', dev_mean)\n",
    "    print('Медиана:', dev_median)\n",
    "    print('Дисперсия:', dev_var)\n",
    "    print('Стандартное отклонение:', dev_std)\n",
    "    print('Ожидаемое значение:', dev_sig)\n",
    "    dev.hist(alpha=0.5, figsize = (10, 3), bins = 15)\n",
    "    return"
   ]
  },
  {
   "cell_type": "code",
   "execution_count": 69,
   "id": "29e4b067",
   "metadata": {},
   "outputs": [
    {
     "name": "stdout",
     "output_type": "stream",
     "text": [
      "Среднее значение: 417.9349484073576\n",
      "Медиана: 422.0\n",
      "Дисперсия: 36219.31578434428\n",
      "Стандартное отклонение: 190.31372988921288\n",
      "Ожидаемое значение: 988.8761380749961\n"
     ]
    },
    {
     "data": {
      "image/png": "[encoded data removed]",
      "text/plain": [
       "<Figure size 720x216 with 1 Axes>"
      ]
     },
     "metadata": {
      "needs_background": "light"
     },
     "output_type": "display_data"
    }
   ],
   "source": [
    "standart(data_smart['duration_sum'])"
   ]
  },
  {
   "cell_type": "code",
   "execution_count": 70,
   "id": "cc80294c",
   "metadata": {},
   "outputs": [
    {
     "name": "stdout",
     "output_type": "stream",
     "text": [
      "Среднее значение: 33.384028712427096\n",
      "Медиана: 28.0\n",
      "Дисперсия: 796.8129584480083\n",
      "Стандартное отклонение: 28.22787555676141\n",
      "Ожидаемое значение: 118.06765538271134\n"
     ]
    },
    {
     "data": {
      "image/png": "[encoded data removed]",
      "text/plain": [
       "<Figure size 720x216 with 1 Axes>"
      ]
     },
     "metadata": {
      "needs_background": "light"
     },
     "output_type": "display_data"
    }
   ],
   "source": [
    "standart(data_smart['messages_count'])"
   ]
  },
  {
   "cell_type": "code",
   "execution_count": 71,
   "id": "0d054bb9",
   "metadata": {},
   "outputs": [
    {
     "name": "stdout",
     "output_type": "stream",
     "text": [
      "Среднее значение: 16.328847016599372\n",
      "Медиана: 17.0\n",
      "Дисперсия: 33.02870517811161\n",
      "Стандартное отклонение: 5.7470605685090534\n",
      "Ожидаемое значение: 33.57002872212654\n"
     ]
    },
    {
     "data": {
      "image/png": "[encoded data removed]",
      "text/plain": [
       "<Figure size 720x216 with 1 Axes>"
      ]
     },
     "metadata": {
      "needs_background": "light"
     },
     "output_type": "display_data"
    }
   ],
   "source": [
    "standart(data_smart['gb_user_sum'])"
   ]
  },
  {
   "cell_type": "code",
   "execution_count": 72,
   "id": "c0d33cf4",
   "metadata": {},
   "outputs": [
    {
     "name": "stdout",
     "output_type": "stream",
     "text": [
      "Среднее значение: 1289.9735307312696\n",
      "Медиана: 1023.0\n",
      "Дисперсия: 669785.7080064242\n",
      "Стандартное отклонение: 818.4043670499469\n",
      "Ожидаемое значение: 3745.1866318811108\n"
     ]
    },
    {
     "data": {
      "image/png": "[encoded data removed]",
      "text/plain": [
       "<Figure size 720x216 with 1 Axes>"
      ]
     },
     "metadata": {
      "needs_background": "light"
     },
     "output_type": "display_data"
    }
   ],
   "source": [
    "standart(data_smart['general_sum'])"
   ]
  },
  {
   "cell_type": "code",
   "execution_count": 73,
   "id": "e11af616",
   "metadata": {
    "scrolled": true
   },
   "outputs": [
    {
     "name": "stdout",
     "output_type": "stream",
     "text": [
      "Среднее значение: 526.6233502538071\n",
      "Медиана: 518.0\n",
      "Дисперсия: 100873.63339730098\n",
      "Стандартное отклонение: 317.6060978591264\n",
      "Ожидаемое значение: 1479.4416438311864\n"
     ]
    },
    {
     "data": {
      "image/png": "[encoded data removed]",
      "text/plain": [
       "<Figure size 720x216 with 1 Axes>"
      ]
     },
     "metadata": {
      "needs_background": "light"
     },
     "output_type": "display_data"
    }
   ],
   "source": [
    "standart(data_ultra['duration_sum'])"
   ]
  },
  {
   "cell_type": "code",
   "execution_count": 74,
   "id": "451ac42f",
   "metadata": {
    "scrolled": true
   },
   "outputs": [
    {
     "name": "stdout",
     "output_type": "stream",
     "text": [
      "Среднее значение: 49.36345177664975\n",
      "Медиана: 38.0\n",
      "Дисперсия: 2285.2661425446736\n",
      "Стандартное отклонение: 47.804457350174715\n",
      "Ожидаемое значение: 192.7768238271739\n"
     ]
    },
    {
     "data": {
      "image/png": "[encoded data removed]",
      "text/plain": [
       "<Figure size 720x216 with 1 Axes>"
      ]
     },
     "metadata": {
      "needs_background": "light"
     },
     "output_type": "display_data"
    }
   ],
   "source": [
    "standart(data_ultra['messages_count'])"
   ]
  },
  {
   "cell_type": "code",
   "execution_count": 75,
   "id": "debf925e",
   "metadata": {
    "scrolled": true
   },
   "outputs": [
    {
     "name": "stdout",
     "output_type": "stream",
     "text": [
      "Среднее значение: 19.494416243654822\n",
      "Медиана: 19.0\n",
      "Дисперсия: 97.09168626965459\n",
      "Стандартное отклонение: 9.853511367510293\n",
      "Ожидаемое значение: 49.054950346185706\n"
     ]
    },
    {
     "data": {
      "image/png": "[encoded data removed]",
      "text/plain": [
       "<Figure size 720x216 with 1 Axes>"
      ]
     },
     "metadata": {
      "needs_background": "light"
     },
     "output_type": "display_data"
    }
   ],
   "source": [
    "standart(data_ultra['gb_user_sum'])"
   ]
  },
  {
   "cell_type": "code",
   "execution_count": 76,
   "id": "086e8054",
   "metadata": {},
   "outputs": [
    {
     "name": "stdout",
     "output_type": "stream",
     "text": [
      "Среднее значение: 2070.1522842639592\n",
      "Медиана: 1950.0\n",
      "Дисперсия: 141516.7450786183\n",
      "Стандартное отклонение: 376.1871144505328\n",
      "Ожидаемое значение: 3198.713627615558\n"
     ]
    },
    {
     "data": {
      "image/png": "[encoded data removed]",
      "text/plain": [
       "<Figure size 720x216 with 1 Axes>"
      ]
     },
     "metadata": {
      "needs_background": "light"
     },
     "output_type": "display_data"
    }
   ],
   "source": [
    "standart(data_ultra['general_sum'])"
   ]
  },
  {
   "cell_type": "markdown",
   "id": "c6875de4",
   "metadata": {},
   "source": [
    "Для абонента тарифа `Smart` в месяц ожидаемое количество использование сотовой связи:\n",
    "- 989 минут разговоров\n",
    "- 118 смс\n",
    "- 33 Гб интернет-трафика\n",
    "- прибыль 3745 рублей в месяц.\n",
    "\n",
    "Медиана значений значений, а именно стандартное поведение среднего абонента в месяц:\n",
    "- 422 минуты разговоров\n",
    "- 28 смс\n",
    "- 17 Гб интернет-трафика\n",
    "- расходы 1023 рубля в месяц.\n",
    "\n",
    "Согласно гистаграммам, распределение значений находится в следующих диапазонах:\n",
    "- большое количество абонентов тратят в месяц от 300 до 570 минут\n",
    "- от 0 до 10 смс\n",
    "- от 12 до 22 ГБ интернет-трафика\n",
    "- расходуют в пределах 1050 рублей (что превышает стоимость тарифного плана в 2 раза)"
   ]
  },
  {
   "cell_type": "markdown",
   "id": "5299e46f",
   "metadata": {},
   "source": [
    "Для абонента тарифа `Ultra` в месяц ожидаемое количество использование сотовой связи:\n",
    "- 1480 минут разговоров\n",
    "- 192 смс\n",
    "- 49 Гб интернет-трафика\n",
    "- прибыль 3200 рублей в месяц.\n",
    "\n",
    "Медиана значений значений, а именно стандартное поведение среднего абонента в месяц:\n",
    "- 518 минуты разговоров\n",
    "- 19 смс\n",
    "- 17 Гб интернет-трафика\n",
    "- расходы 1950 рубля в месяц (в пределах тарифного плана).\n",
    "\n",
    "Согласно гистаграммам, распределение значений находится в следующих диапазонах:\n",
    "- большое количество абонентов тратят в месяц от 240 до 870 минут\n",
    "- от 0 до 15 смс\n",
    "- от 10 до 29 ГБ интернет-трафика\n",
    "- расходы не превышают стоимости тарифного плана"
   ]
  },
  {
   "cell_type": "markdown",
   "id": "60073360",
   "metadata": {},
   "source": [
    "## Гипотезы"
   ]
  },
  {
   "cell_type": "markdown",
   "id": "0f9d67e5",
   "metadata": {},
   "source": [
    "1. средняя выручка пользователей тарифов «Ультра» и «Смарт» различаются;\n",
    "2. средняя выручка пользователей из Москвы отличается от выручки пользователей из других регионов."
   ]
  },
  {
   "cell_type": "markdown",
   "id": "06ce38d4",
   "metadata": {},
   "source": [
    "**Формируем двухстороннюю гипотезу `средняя выручка пользователей тарифов «Ультра» и «Смарт» различаются`.**\n",
    "\n",
    "Гипотеза будет звучать `Выручка пользователей тарифов «Смарт» равна выручке тарифа «Ультра». Альтернативная: выручки не равны.\n",
    "\n",
    "Критический уровень статистической значимости укажем 5%"
   ]
  },
  {
   "cell_type": "code",
   "execution_count": 77,
   "id": "470da288",
   "metadata": {},
   "outputs": [
    {
     "name": "stdout",
     "output_type": "stream",
     "text": [
      "p-значение: 4.2606313931076085e-250\n",
      "Отвергаем нулевую гипотезу\n"
     ]
    }
   ],
   "source": [
    "smart = data_smart['general_sum']\n",
    "ultra = data_ultra['general_sum']\n",
    "\n",
    "alpha = 0.05\n",
    "\n",
    "results = st.ttest_ind(smart, ultra, equal_var = False)\n",
    "\n",
    "print('p-значение:', results.pvalue)\n",
    "\n",
    "if results.pvalue < alpha:\n",
    "    print(\"Отвергаем нулевую гипотезу\")\n",
    "else:\n",
    "    print(\"Не получилось отвергнуть нулевую гипотезу\") "
   ]
  },
  {
   "cell_type": "markdown",
   "id": "b891dbba",
   "metadata": {},
   "source": [
    "**Вывод:** Гипотеза о равенстве средней выручке по двум тарифам отвергнута, соответственно средняя выручка пользователей тарифов «Ультра» и «Смарт» различаются"
   ]
  },
  {
   "cell_type": "markdown",
   "id": "adeda15b",
   "metadata": {},
   "source": [
    "**Формируем гипотезу `средняя выручка пользователей из Москвы отличается от выручки пользователей из других регионов`.** \n",
    "\n",
    "В данном случае речь о равенстве средних для независимых (парных) выборок. "
   ]
  },
  {
   "cell_type": "code",
   "execution_count": 78,
   "id": "5a77c1f6",
   "metadata": {},
   "outputs": [],
   "source": [
    "moscow = data_good[data_good['city'] == 'Москва']['general_sum'].reset_index(drop=True)"
   ]
  },
  {
   "cell_type": "code",
   "execution_count": 79,
   "id": "ae57b768",
   "metadata": {},
   "outputs": [
    {
     "data": {
      "text/plain": [
       "611"
      ]
     },
     "execution_count": 79,
     "metadata": {},
     "output_type": "execute_result"
    }
   ],
   "source": [
    "moscow.shape[0]"
   ]
  },
  {
   "cell_type": "code",
   "execution_count": 80,
   "id": "4a520296",
   "metadata": {},
   "outputs": [],
   "source": [
    "outside_MKAD = data_good[data_good['city'] != 'Москва']['general_sum'].reset_index(drop=True)"
   ]
  },
  {
   "cell_type": "code",
   "execution_count": 81,
   "id": "c20a1817",
   "metadata": {},
   "outputs": [
    {
     "data": {
      "text/plain": [
       "2603"
      ]
     },
     "execution_count": 81,
     "metadata": {},
     "output_type": "execute_result"
    }
   ],
   "source": [
    "outside_MKAD.shape[0]"
   ]
  },
  {
   "cell_type": "markdown",
   "id": "decdd741",
   "metadata": {},
   "source": [
    "Гипотеза будет звучать `Средняя выручка пользователей из Москвы равна выручке пользователей из других регионов`. Альтернативная: выручки не равны.\n",
    "\n",
    "Критический уровень статистической значимости укажем 5%\n",
    "\n",
    "Так как выборки у нас не одинаковые, укажим параметр `equal_var = False`"
   ]
  },
  {
   "cell_type": "code",
   "execution_count": 82,
   "id": "430d492b",
   "metadata": {
    "scrolled": true
   },
   "outputs": [
    {
     "name": "stdout",
     "output_type": "stream",
     "text": [
      "p-значение: 0.5257376663729298\n",
      "Не получилось отвергнуть нулевую гипотезу\n"
     ]
    }
   ],
   "source": [
    "alpha = 0.05\n",
    "\n",
    "results = st.ttest_ind(moscow, outside_MKAD, equal_var = False)\n",
    "\n",
    "print('p-значение:', results.pvalue)\n",
    "\n",
    "if results.pvalue < alpha:\n",
    "    print(\"Отвергаем нулевую гипотезу\")\n",
    "else:\n",
    "    print(\"Не получилось отвергнуть нулевую гипотезу\") "
   ]
  },
  {
   "cell_type": "markdown",
   "id": "ac93637c",
   "metadata": {},
   "source": [
    "**Вывод:** Гипотеза о равенстве средней выручке абонентов Москвы и абонентов других городов не отвергнута, значит средняя выручка пользователей из Москвы скорее всего не отличается от выручки пользователей из других регионов."
   ]
  },
  {
   "cell_type": "code",
   "execution_count": 83,
   "metadata": {},
   "outputs": [
    {
     "name": "stdout",
     "output_type": "stream",
     "text": [
      "p-значение: 0.1912450522572209\n",
      "Не получилось отвергнуть нулевую гипотезу\n"
     ]
    }
   ],
   "source": [
    "# Приведены два датасета: сумма покупок, совершённых за месяц посетителями ...\n",
    "\n",
    "sample_1 = [3071, 3636, 3454, 3151, 2185, 3259, 1727, 2263, 2015,\n",
    "2582, 4815, 633, 3186, 887, 2028, 3589, 2564, 1422, 1785,\n",
    "3180, 1770, 2716, 2546, 1848, 4644, 3134, 475, 2686,\n",
    "1838, 3352]\n",
    "sample_2 = [1211, 1228, 2157, 3699, 600, 1898, 1688, 1420, 5048, 3007,\n",
    "509, 3777, 5583, 3949, 121, 1674, 4300, 1338, 3066,\n",
    "3562, 1010, 2311, 462, 863, 2021, 528, 1849, 255,\n",
    "1740, 2596]\n",
    "alpha = .05 # критический уровень статистической значимости\n",
    "# если p-value окажется меньше него - отвергнем гипотезу\n",
    "results = st.ttest_ind(\n",
    "sample_1,\n",
    "sample_2)\n",
    "print('p-значение:', results.pvalue)\n",
    "if (results.pvalue < alpha):\n",
    "    print(\"Отвергаем нулевую гипотезу\")\n",
    "else:\n",
    "    print(\"Не получилось отвергнуть нулевую гипотезу\")"
   ]
  },
  {
   "cell_type": "markdown",
   "id": "245f0d50",
   "metadata": {},
   "source": [
    "## Вывод по проекту:\n",
    "1. Входные данные: сведения о 500 пользователей и их использование сотовой связью в 5 отдельных датафреймах:\n",
    "    - users (информация о пользователях)\n",
    "    - calls (информация о звонках)\n",
    "    - messages (информация о смс)\n",
    "    - internet (информация об интернет-сессиях)\n",
    "    - tariffs (информация о тарифах)\n",
    "    \n",
    "2. Проведена предобработка данных:\n",
    "   * изменен тип данных, содержащих данные о датах,\n",
    "   * добавлены столбцы, содержащие сведение о месяце;\n",
    "   * пересчитаны сведения о минутах до целых чисел (округление в сторону увеличения);\n",
    "   * в датафрейме тарифов мегабайты переведены в гигабайты.\n",
    "   \n",
    "3. Созданы датафреймы содержащие сгруппированные сведения звонках, смс-сообщениях и израсходованных мегабайтах за месяц по каждому пользователю, мегабайты израсходованные за месяц переведены в гигабайты с округлением в сторону увеличения.\n",
    "\n",
    "4. Сгруппированные датафреймы объеденены в один общий `data`. Данный датафрейм содержит сведения о каждом абоненте и их ежемесячных действиях в сотовой связи.\n",
    "    - удалены сведения о двух абонентах, у которых небыло совершено ни одной сессии;\n",
    "    - пропуски заполнены 0\n",
    "    \n",
    "5. Создан датафрейм `data_good` путем слияния `data` и датафрейма `tariffs`:\n",
    "    - добавлены сведения о тарифных планах (лимиты по звонкам, смс, интернет-трафике, стоимости превышения и сумме абонентской платы);\n",
    "    - проведены расчеты по превышению тарифного плана, суммы переплаты и общей суммы выручки по каждому месяцу.\n",
    "    \n",
    "6. Сгруппирован датафрейм `data_good_group` с основными средними данными действий абонентов по тарифам, согласно которому:\n",
    "    - тариф SMART принес за год больше прибыли сотовому оператору, чем ULTRA на 30%;\n",
    "    - тариф SMART пользуется большей популярностью у абонентов, его использовали на 44% больше;\n",
    "    - абоненты SMART чаще превышают оплаченный лимит по тарифу по звонкам, смс и интернет-трафику (1662 месяца из 2229);\n",
    "    - абоненты тарифа ULTRA никогда не превышают количество минут и количество смс-сообщений, предусмотренных тарифом, редко по количеству интернет-трафика (134 месяца из 985);\n",
    "    - средний расход абонента SMART на услуги сотовой связи сверх тарифа 740 рублей (общая сумма расхода с абонентской платой 1290 рублей);\n",
    "    - средний расход абонента ULTRA на услуги сотовой связи сверх тарифа 121 рублей (общая сумма расхода с абонентской платой 2071 рублей);\n",
    "    - При этом среднее количество минут/смс/ГБ на одного абонента в месяц:\n",
    "        * SMART: 418 минут, 34 смс, 17 ГБ;\n",
    "        * ULTRA: 527 минут, 50 смс, 20 ГБ.\n",
    "    - Количество абонентов на тарифе Смарт, которые не использовали минуты - 8, не использовали смс: 307, которые не использовали ГБ: 0.\n",
    "    - Количество абонентов на тарифе Ультра, которые не использовали минуты: 38, не использовали смс: 190, не использовали ГБ: 0.\n",
    "7. Проведен расчет дисперсии, стандартного отклонения, медианы и ожидаемых значений по количеству минут, смс и ГБ интернет-трафика абонента в месяц по каждому тарифу:\n",
    "    - Для абонента тарифа `Smart` в месяц ожидаемое количество использование сотовой связи:\n",
    "        * 989 минут разговоров, 118 смс, 33 Гб интернет-трафика, прибыль 3745 рублей в месяц. \n",
    "    - Медиана значений значений, а именно стандартное поведение среднего абонента в месяц:\n",
    "        * 422 минуты разговоров, 28 смс, 17 Гб интернет-трафика, расходы 1023 рубля в месяц.\n",
    "    - Согласно гистаграммам, распределение значений находится в следующих диапазонах:\n",
    "        * большое количество абонентов тратят в месяц от 300 до 570 минут, от 0 до 10 смс, от 12 до 22 ГБ интернет-трафика, расходуют в пределах 1050 рублей (что превышает стоимость тарифного плана в 2 раза).\n",
    "\n",
    "    - Для абонента тарифа `Ultra` в месяц ожидаемое количество использование сотовой связи:\n",
    "        * 1480 минут разговоров, 192 смс, 49 Гб интернет-трафика, прибыль 3200 рублей в месяц.\n",
    "    - Медиана значений значений, а именно стандартное поведение среднего абонента в месяц:\n",
    "        * 518 минуты разговоров, 19 смс, 17 Гб интернет-трафика, расходы 1950 рубля в месяц (в пределах тарифного плана).\n",
    "    - Согласно гистаграммам, распределение значений находится в следующих диапазонах:\n",
    "        * большое количество абонентов тратят в месяц от 240 до 870 минут, от 0 до 15 смс, от 10 до 29 ГБ интернет-трафика, расходы не превышают стоимости тарифного плана.\n",
    "        \n",
    "8. Сформированы и проверены гипотезы:\n",
    "    -  Гипотеза о равенстве средней выручке по двум тарифам отвергнута, соответственно средняя выручка пользователей тарифов «Ультра» и «Смарт» различаются;\n",
    "    - Гипотеза о равенстве средней выручке абонентов Москвы и абонентов других городов отвергнута, значит средняя выручка пользователей из Москвы скорее всего отличается от выручки пользователей из других регионов."
   ]
  },
  {
   "cell_type": "markdown",
   "metadata": {},
   "source": [
    "9. Предложения для сотового оператора:\n",
    "Сейчас в наличии всего два тарифа, Смарт за 550 рублей и Ультра за 1990 рублей. Можно отметить, что оба эти тарифа не покрывают всей потребности абонентов, один слишком дорогой, второй маленький. \n",
    "- Абоненты тарифа Смарт более чем в 70% случаях превышают лимиты и тратят дополнительно 740 рублей. \n",
    "- Абоненты никогда не превышали лимиты Ультра, но цена данных тарифов отличается в 4 раза, соответственно абоненту дешевле купить тариф Смарт и доплатить в среднем еще 1,5 стоимости тарифа.\n",
    "\n",
    "Необходимо разработать дополнительные тарифы \n",
    "* `Smapt +`:\n",
    "    - 950 минут, 100 смс, 30 ГБ (данные расчитаны исходя из верхней границы нормального распределения данных) \n",
    "    - в ценовом диапазоне 1000 рублей.\n",
    "\n",
    "Данный тариф будет отличной решением для большенства абонентов, кому тесно в Смарт, но нет желания переплачивать.\n"
   ]
  }
 ],
 "metadata": {
  "ExecuteTimeLog": [
   {
    "duration": 46,
    "start_time": "2022-03-28T10:58:38.928Z"
   },
   {
    "duration": 937,
    "start_time": "2022-03-28T10:58:52.242Z"
   },
   {
    "duration": 25,
    "start_time": "2022-03-28T10:58:53.181Z"
   },
   {
    "duration": 135,
    "start_time": "2022-03-28T10:58:53.208Z"
   },
   {
    "duration": 78,
    "start_time": "2022-03-28T10:58:53.345Z"
   },
   {
    "duration": 127,
    "start_time": "2022-03-28T10:58:53.425Z"
   },
   {
    "duration": 9,
    "start_time": "2022-03-28T10:58:53.554Z"
   },
   {
    "duration": 3,
    "start_time": "2022-03-28T10:58:53.564Z"
   },
   {
    "duration": 16,
    "start_time": "2022-03-28T10:58:53.568Z"
   },
   {
    "duration": 39,
    "start_time": "2022-03-28T10:58:53.586Z"
   },
   {
    "duration": 4,
    "start_time": "2022-03-28T10:58:53.626Z"
   },
   {
    "duration": 18,
    "start_time": "2022-03-28T10:58:53.632Z"
   },
   {
    "duration": 28,
    "start_time": "2022-03-28T10:58:53.652Z"
   },
   {
    "duration": 7,
    "start_time": "2022-03-28T10:58:53.682Z"
   },
   {
    "duration": 47,
    "start_time": "2022-03-28T10:58:53.692Z"
   },
   {
    "duration": 18,
    "start_time": "2022-03-28T10:58:53.741Z"
   },
   {
    "duration": 20,
    "start_time": "2022-03-28T10:58:53.760Z"
   },
   {
    "duration": 8,
    "start_time": "2022-03-28T10:58:53.781Z"
   },
   {
    "duration": 50,
    "start_time": "2022-03-28T10:58:53.790Z"
   },
   {
    "duration": 18,
    "start_time": "2022-03-28T10:58:53.842Z"
   },
   {
    "duration": 6,
    "start_time": "2022-03-28T10:58:53.862Z"
   },
   {
    "duration": 27,
    "start_time": "2022-03-28T10:58:53.870Z"
   },
   {
    "duration": 9,
    "start_time": "2022-03-28T10:58:53.899Z"
   },
   {
    "duration": 8,
    "start_time": "2022-03-28T10:58:53.932Z"
   },
   {
    "duration": 8,
    "start_time": "2022-03-28T10:58:53.942Z"
   },
   {
    "duration": 6,
    "start_time": "2022-03-28T10:58:53.952Z"
   },
   {
    "duration": 12,
    "start_time": "2022-03-28T10:58:53.960Z"
   },
   {
    "duration": 16,
    "start_time": "2022-03-28T10:58:53.973Z"
   },
   {
    "duration": 44,
    "start_time": "2022-03-28T10:58:53.991Z"
   },
   {
    "duration": 8,
    "start_time": "2022-03-28T10:58:54.037Z"
   },
   {
    "duration": 57,
    "start_time": "2022-03-28T10:58:54.046Z"
   },
   {
    "duration": 3,
    "start_time": "2022-03-28T10:58:54.104Z"
   },
   {
    "duration": 25,
    "start_time": "2022-03-28T10:58:54.109Z"
   },
   {
    "duration": 18,
    "start_time": "2022-03-28T10:58:54.135Z"
   },
   {
    "duration": 44,
    "start_time": "2022-03-28T10:58:54.155Z"
   },
   {
    "duration": 4,
    "start_time": "2022-03-28T10:58:54.201Z"
   },
   {
    "duration": 26,
    "start_time": "2022-03-28T10:58:54.207Z"
   },
   {
    "duration": 11,
    "start_time": "2022-03-28T10:58:54.235Z"
   },
   {
    "duration": 18,
    "start_time": "2022-03-28T10:58:54.247Z"
   },
   {
    "duration": 25,
    "start_time": "2022-03-28T10:58:54.267Z"
   },
   {
    "duration": 3,
    "start_time": "2022-03-28T10:58:54.294Z"
   },
   {
    "duration": 33,
    "start_time": "2022-03-28T10:58:54.301Z"
   },
   {
    "duration": 18,
    "start_time": "2022-03-28T10:58:54.336Z"
   },
   {
    "duration": 13,
    "start_time": "2022-03-28T10:58:54.356Z"
   },
   {
    "duration": 12,
    "start_time": "2022-03-28T10:58:54.370Z"
   },
   {
    "duration": 16,
    "start_time": "2022-03-28T10:58:54.384Z"
   },
   {
    "duration": 35,
    "start_time": "2022-03-28T10:58:54.402Z"
   },
   {
    "duration": 21,
    "start_time": "2022-03-28T10:58:54.438Z"
   },
   {
    "duration": 14,
    "start_time": "2022-03-28T10:58:54.461Z"
   },
   {
    "duration": 6,
    "start_time": "2022-03-28T10:58:54.477Z"
   },
   {
    "duration": 7,
    "start_time": "2022-03-28T10:58:54.485Z"
   },
   {
    "duration": 12,
    "start_time": "2022-03-28T10:58:54.494Z"
   },
   {
    "duration": 3,
    "start_time": "2022-03-28T10:58:54.507Z"
   },
   {
    "duration": 71,
    "start_time": "2022-03-28T10:58:54.511Z"
   },
   {
    "duration": 5,
    "start_time": "2022-03-28T10:58:54.583Z"
   },
   {
    "duration": 65,
    "start_time": "2022-03-28T10:58:54.590Z"
   },
   {
    "duration": 6,
    "start_time": "2022-03-28T10:58:54.657Z"
   },
   {
    "duration": 55,
    "start_time": "2022-03-28T10:58:54.664Z"
   },
   {
    "duration": 16,
    "start_time": "2022-03-28T10:58:54.721Z"
   },
   {
    "duration": 16,
    "start_time": "2022-03-28T10:58:54.739Z"
   },
   {
    "duration": 28,
    "start_time": "2022-03-28T10:58:54.756Z"
   },
   {
    "duration": 377,
    "start_time": "2022-03-28T10:58:54.786Z"
   },
   {
    "duration": 9,
    "start_time": "2022-03-28T11:00:33.169Z"
   },
   {
    "duration": 199,
    "start_time": "2022-04-07T21:15:01.387Z"
   },
   {
    "duration": 197,
    "start_time": "2022-04-07T21:15:25.258Z"
   },
   {
    "duration": 183,
    "start_time": "2022-04-07T21:16:50.527Z"
   },
   {
    "duration": 194,
    "start_time": "2022-04-07T21:17:52.393Z"
   },
   {
    "duration": 191,
    "start_time": "2022-04-07T21:20:27.631Z"
   },
   {
    "duration": 3,
    "start_time": "2022-04-07T21:21:05.112Z"
   },
   {
    "duration": 42,
    "start_time": "2022-04-07T21:21:08.991Z"
   },
   {
    "duration": 822,
    "start_time": "2022-04-07T21:21:21.913Z"
   },
   {
    "duration": 30,
    "start_time": "2022-04-07T21:21:22.737Z"
   },
   {
    "duration": 151,
    "start_time": "2022-04-07T21:21:22.768Z"
   },
   {
    "duration": 86,
    "start_time": "2022-04-07T21:21:22.921Z"
   },
   {
    "duration": 128,
    "start_time": "2022-04-07T21:21:23.009Z"
   },
   {
    "duration": 16,
    "start_time": "2022-04-07T21:21:23.138Z"
   },
   {
    "duration": 3,
    "start_time": "2022-04-07T21:21:23.155Z"
   },
   {
    "duration": 13,
    "start_time": "2022-04-07T21:21:23.159Z"
   },
   {
    "duration": 16,
    "start_time": "2022-04-07T21:21:23.174Z"
   },
   {
    "duration": 9,
    "start_time": "2022-04-07T21:21:23.192Z"
   },
   {
    "duration": 11,
    "start_time": "2022-04-07T21:21:23.203Z"
   },
   {
    "duration": 25,
    "start_time": "2022-04-07T21:21:23.216Z"
   },
   {
    "duration": 6,
    "start_time": "2022-04-07T21:21:23.243Z"
   },
   {
    "duration": 57,
    "start_time": "2022-04-07T21:21:23.251Z"
   },
   {
    "duration": 18,
    "start_time": "2022-04-07T21:21:23.310Z"
   },
   {
    "duration": 19,
    "start_time": "2022-04-07T21:21:23.329Z"
   },
   {
    "duration": 7,
    "start_time": "2022-04-07T21:21:23.349Z"
   },
   {
    "duration": 49,
    "start_time": "2022-04-07T21:21:23.358Z"
   },
   {
    "duration": 19,
    "start_time": "2022-04-07T21:21:23.408Z"
   },
   {
    "duration": 6,
    "start_time": "2022-04-07T21:21:23.429Z"
   },
   {
    "duration": 20,
    "start_time": "2022-04-07T21:21:23.437Z"
   },
   {
    "duration": 10,
    "start_time": "2022-04-07T21:21:23.459Z"
   },
   {
    "duration": 35,
    "start_time": "2022-04-07T21:21:23.470Z"
   },
   {
    "duration": 7,
    "start_time": "2022-04-07T21:21:23.506Z"
   },
   {
    "duration": 2,
    "start_time": "2022-04-07T21:21:23.515Z"
   },
   {
    "duration": 12,
    "start_time": "2022-04-07T21:21:23.519Z"
   },
   {
    "duration": 9,
    "start_time": "2022-04-07T21:21:23.532Z"
   },
   {
    "duration": 24,
    "start_time": "2022-04-07T21:21:23.545Z"
   },
   {
    "duration": 8,
    "start_time": "2022-04-07T21:21:23.570Z"
   },
   {
    "duration": 53,
    "start_time": "2022-04-07T21:21:23.602Z"
   },
   {
    "duration": 3,
    "start_time": "2022-04-07T21:21:23.657Z"
   },
   {
    "duration": 10,
    "start_time": "2022-04-07T21:21:23.661Z"
   },
   {
    "duration": 33,
    "start_time": "2022-04-07T21:21:23.673Z"
   },
   {
    "duration": 47,
    "start_time": "2022-04-07T21:21:23.708Z"
   },
   {
    "duration": 3,
    "start_time": "2022-04-07T21:21:23.756Z"
   },
   {
    "duration": 7,
    "start_time": "2022-04-07T21:21:23.761Z"
   },
   {
    "duration": 8,
    "start_time": "2022-04-07T21:21:23.770Z"
   },
   {
    "duration": 34,
    "start_time": "2022-04-07T21:21:23.780Z"
   },
   {
    "duration": 29,
    "start_time": "2022-04-07T21:21:23.816Z"
   },
   {
    "duration": 4,
    "start_time": "2022-04-07T21:21:23.846Z"
   },
   {
    "duration": 9,
    "start_time": "2022-04-07T21:21:23.851Z"
   },
   {
    "duration": 46,
    "start_time": "2022-04-07T21:21:23.861Z"
   },
   {
    "duration": 13,
    "start_time": "2022-04-07T21:21:23.909Z"
   },
   {
    "duration": 13,
    "start_time": "2022-04-07T21:21:23.924Z"
   },
   {
    "duration": 13,
    "start_time": "2022-04-07T21:21:23.939Z"
   },
   {
    "duration": 7,
    "start_time": "2022-04-07T21:21:23.954Z"
   },
   {
    "duration": 44,
    "start_time": "2022-04-07T21:21:23.962Z"
   },
   {
    "duration": 13,
    "start_time": "2022-04-07T21:21:24.007Z"
   },
   {
    "duration": 4,
    "start_time": "2022-04-07T21:21:24.022Z"
   },
   {
    "duration": 9,
    "start_time": "2022-04-07T21:21:24.027Z"
   },
   {
    "duration": 13,
    "start_time": "2022-04-07T21:21:24.037Z"
   },
   {
    "duration": 3,
    "start_time": "2022-04-07T21:21:24.052Z"
   },
   {
    "duration": 70,
    "start_time": "2022-04-07T21:21:24.056Z"
   },
   {
    "duration": 6,
    "start_time": "2022-04-07T21:21:24.127Z"
   },
   {
    "duration": 51,
    "start_time": "2022-04-07T21:21:24.134Z"
   },
   {
    "duration": 16,
    "start_time": "2022-04-07T21:21:24.186Z"
   },
   {
    "duration": 61,
    "start_time": "2022-04-07T21:21:24.203Z"
   },
   {
    "duration": 7,
    "start_time": "2022-04-07T21:21:24.266Z"
   },
   {
    "duration": 26,
    "start_time": "2022-04-07T21:21:24.275Z"
   },
   {
    "duration": 27,
    "start_time": "2022-04-07T21:21:24.302Z"
   },
   {
    "duration": 7,
    "start_time": "2022-04-07T21:21:24.330Z"
   },
   {
    "duration": 4,
    "start_time": "2022-04-07T21:21:24.338Z"
   },
   {
    "duration": 10,
    "start_time": "2022-04-07T21:21:24.343Z"
   },
   {
    "duration": 186,
    "start_time": "2022-04-07T21:21:24.354Z"
   },
   {
    "duration": 0,
    "start_time": "2022-04-07T21:21:24.542Z"
   },
   {
    "duration": 0,
    "start_time": "2022-04-07T21:21:24.543Z"
   },
   {
    "duration": 0,
    "start_time": "2022-04-07T21:21:24.544Z"
   },
   {
    "duration": 0,
    "start_time": "2022-04-07T21:21:24.545Z"
   },
   {
    "duration": 0,
    "start_time": "2022-04-07T21:21:24.546Z"
   },
   {
    "duration": 0,
    "start_time": "2022-04-07T21:21:24.547Z"
   },
   {
    "duration": 0,
    "start_time": "2022-04-07T21:21:24.548Z"
   },
   {
    "duration": 0,
    "start_time": "2022-04-07T21:21:24.549Z"
   },
   {
    "duration": 0,
    "start_time": "2022-04-07T21:21:24.550Z"
   },
   {
    "duration": 0,
    "start_time": "2022-04-07T21:21:24.551Z"
   },
   {
    "duration": 0,
    "start_time": "2022-04-07T21:21:24.552Z"
   },
   {
    "duration": 0,
    "start_time": "2022-04-07T21:21:24.553Z"
   },
   {
    "duration": 0,
    "start_time": "2022-04-07T21:21:24.554Z"
   },
   {
    "duration": 0,
    "start_time": "2022-04-07T21:21:24.555Z"
   },
   {
    "duration": 0,
    "start_time": "2022-04-07T21:21:24.556Z"
   },
   {
    "duration": 5,
    "start_time": "2022-04-07T21:21:31.221Z"
   },
   {
    "duration": 4,
    "start_time": "2022-04-07T21:21:45.534Z"
   },
   {
    "duration": 5,
    "start_time": "2022-04-07T21:21:53.896Z"
   },
   {
    "duration": 7,
    "start_time": "2022-04-07T21:28:06.025Z"
   },
   {
    "duration": 4,
    "start_time": "2022-04-07T21:28:13.677Z"
   },
   {
    "duration": 7,
    "start_time": "2022-04-07T21:28:19.988Z"
   },
   {
    "duration": 3,
    "start_time": "2022-04-07T21:28:21.997Z"
   },
   {
    "duration": 602,
    "start_time": "2022-04-07T21:28:23.547Z"
   },
   {
    "duration": 134,
    "start_time": "2022-04-07T21:28:24.152Z"
   },
   {
    "duration": 127,
    "start_time": "2022-04-07T21:28:27.715Z"
   },
   {
    "duration": 121,
    "start_time": "2022-04-07T21:28:29.028Z"
   },
   {
    "duration": 124,
    "start_time": "2022-04-07T21:28:29.941Z"
   },
   {
    "duration": 116,
    "start_time": "2022-04-07T21:28:30.853Z"
   },
   {
    "duration": 118,
    "start_time": "2022-04-07T21:28:31.764Z"
   },
   {
    "duration": 119,
    "start_time": "2022-04-07T21:28:36.501Z"
   },
   {
    "duration": 187,
    "start_time": "2022-04-07T21:33:35.615Z"
   },
   {
    "duration": 5,
    "start_time": "2022-04-07T21:38:44.025Z"
   },
   {
    "duration": 145,
    "start_time": "2022-04-07T21:43:58.172Z"
   },
   {
    "duration": 6,
    "start_time": "2022-04-07T21:44:01.966Z"
   },
   {
    "duration": 5,
    "start_time": "2022-04-07T21:44:02.206Z"
   },
   {
    "duration": 6,
    "start_time": "2022-04-07T21:44:02.406Z"
   },
   {
    "duration": 5,
    "start_time": "2022-04-07T21:44:02.622Z"
   },
   {
    "duration": 5,
    "start_time": "2022-04-07T21:44:03.517Z"
   },
   {
    "duration": 204,
    "start_time": "2022-04-07T21:44:30.342Z"
   },
   {
    "duration": 208,
    "start_time": "2022-04-07T21:45:02.248Z"
   },
   {
    "duration": 144,
    "start_time": "2022-04-07T21:50:28.534Z"
   },
   {
    "duration": 4,
    "start_time": "2022-04-07T21:50:38.084Z"
   },
   {
    "duration": 1149,
    "start_time": "2022-04-07T21:51:12.678Z"
   },
   {
    "duration": 42,
    "start_time": "2022-04-07T21:51:23.358Z"
   },
   {
    "duration": 2,
    "start_time": "2022-04-07T21:51:30.744Z"
   },
   {
    "duration": 189,
    "start_time": "2022-04-07T21:52:22.697Z"
   },
   {
    "duration": 10,
    "start_time": "2022-04-07T21:52:31.659Z"
   },
   {
    "duration": 10,
    "start_time": "2022-04-07T21:52:48.715Z"
   },
   {
    "duration": 161,
    "start_time": "2022-04-07T21:52:58.754Z"
   },
   {
    "duration": 172,
    "start_time": "2022-04-07T21:53:07.891Z"
   },
   {
    "duration": 3,
    "start_time": "2022-04-07T21:53:32.362Z"
   },
   {
    "duration": 850,
    "start_time": "2022-04-07T21:53:40.877Z"
   },
   {
    "duration": 30,
    "start_time": "2022-04-07T21:53:41.729Z"
   },
   {
    "duration": 166,
    "start_time": "2022-04-07T21:53:41.760Z"
   },
   {
    "duration": 94,
    "start_time": "2022-04-07T21:53:41.928Z"
   },
   {
    "duration": 136,
    "start_time": "2022-04-07T21:53:42.025Z"
   },
   {
    "duration": 17,
    "start_time": "2022-04-07T21:53:42.163Z"
   },
   {
    "duration": 4,
    "start_time": "2022-04-07T21:53:42.181Z"
   },
   {
    "duration": 12,
    "start_time": "2022-04-07T21:53:42.186Z"
   },
   {
    "duration": 21,
    "start_time": "2022-04-07T21:53:42.202Z"
   },
   {
    "duration": 4,
    "start_time": "2022-04-07T21:53:42.225Z"
   },
   {
    "duration": 13,
    "start_time": "2022-04-07T21:53:42.231Z"
   },
   {
    "duration": 26,
    "start_time": "2022-04-07T21:53:42.245Z"
   },
   {
    "duration": 30,
    "start_time": "2022-04-07T21:53:42.273Z"
   },
   {
    "duration": 38,
    "start_time": "2022-04-07T21:53:42.308Z"
   },
   {
    "duration": 20,
    "start_time": "2022-04-07T21:53:42.347Z"
   },
   {
    "duration": 46,
    "start_time": "2022-04-07T21:53:42.369Z"
   },
   {
    "duration": 9,
    "start_time": "2022-04-07T21:53:42.417Z"
   },
   {
    "duration": 25,
    "start_time": "2022-04-07T21:53:42.427Z"
   },
   {
    "duration": 18,
    "start_time": "2022-04-07T21:53:42.454Z"
   },
   {
    "duration": 36,
    "start_time": "2022-04-07T21:53:42.473Z"
   },
   {
    "duration": 24,
    "start_time": "2022-04-07T21:53:42.511Z"
   },
   {
    "duration": 10,
    "start_time": "2022-04-07T21:53:42.536Z"
   },
   {
    "duration": 9,
    "start_time": "2022-04-07T21:53:42.547Z"
   },
   {
    "duration": 6,
    "start_time": "2022-04-07T21:53:42.558Z"
   },
   {
    "duration": 37,
    "start_time": "2022-04-07T21:53:42.566Z"
   },
   {
    "duration": 14,
    "start_time": "2022-04-07T21:53:42.606Z"
   },
   {
    "duration": 7,
    "start_time": "2022-04-07T21:53:42.621Z"
   },
   {
    "duration": 22,
    "start_time": "2022-04-07T21:53:42.630Z"
   },
   {
    "duration": 8,
    "start_time": "2022-04-07T21:53:42.654Z"
   },
   {
    "duration": 91,
    "start_time": "2022-04-07T21:53:42.663Z"
   },
   {
    "duration": 3,
    "start_time": "2022-04-07T21:53:42.755Z"
   },
   {
    "duration": 8,
    "start_time": "2022-04-07T21:53:42.760Z"
   },
   {
    "duration": 39,
    "start_time": "2022-04-07T21:53:42.770Z"
   },
   {
    "duration": 51,
    "start_time": "2022-04-07T21:53:42.813Z"
   },
   {
    "duration": 2,
    "start_time": "2022-04-07T21:53:42.866Z"
   },
   {
    "duration": 5,
    "start_time": "2022-04-07T21:53:42.870Z"
   },
   {
    "duration": 10,
    "start_time": "2022-04-07T21:53:42.876Z"
   },
   {
    "duration": 36,
    "start_time": "2022-04-07T21:53:42.887Z"
   },
   {
    "duration": 26,
    "start_time": "2022-04-07T21:53:42.925Z"
   },
   {
    "duration": 3,
    "start_time": "2022-04-07T21:53:42.953Z"
   },
   {
    "duration": 7,
    "start_time": "2022-04-07T21:53:42.960Z"
   },
   {
    "duration": 54,
    "start_time": "2022-04-07T21:53:42.969Z"
   },
   {
    "duration": 12,
    "start_time": "2022-04-07T21:53:43.025Z"
   },
   {
    "duration": 13,
    "start_time": "2022-04-07T21:53:43.038Z"
   },
   {
    "duration": 13,
    "start_time": "2022-04-07T21:53:43.052Z"
   },
   {
    "duration": 6,
    "start_time": "2022-04-07T21:53:43.066Z"
   },
   {
    "duration": 35,
    "start_time": "2022-04-07T21:53:43.074Z"
   },
   {
    "duration": 14,
    "start_time": "2022-04-07T21:53:43.112Z"
   },
   {
    "duration": 3,
    "start_time": "2022-04-07T21:53:43.128Z"
   },
   {
    "duration": 14,
    "start_time": "2022-04-07T21:53:43.133Z"
   },
   {
    "duration": 14,
    "start_time": "2022-04-07T21:53:43.149Z"
   },
   {
    "duration": 3,
    "start_time": "2022-04-07T21:53:43.164Z"
   },
   {
    "duration": 82,
    "start_time": "2022-04-07T21:53:43.169Z"
   },
   {
    "duration": 6,
    "start_time": "2022-04-07T21:53:43.253Z"
   },
   {
    "duration": 67,
    "start_time": "2022-04-07T21:53:43.261Z"
   },
   {
    "duration": 7,
    "start_time": "2022-04-07T21:53:43.331Z"
   },
   {
    "duration": 63,
    "start_time": "2022-04-07T21:53:43.340Z"
   },
   {
    "duration": 10,
    "start_time": "2022-04-07T21:53:43.406Z"
   },
   {
    "duration": 5,
    "start_time": "2022-04-07T21:53:43.418Z"
   },
   {
    "duration": 13,
    "start_time": "2022-04-07T21:53:43.424Z"
   },
   {
    "duration": 26,
    "start_time": "2022-04-07T21:53:43.439Z"
   },
   {
    "duration": 48,
    "start_time": "2022-04-07T21:53:43.467Z"
   },
   {
    "duration": 3,
    "start_time": "2022-04-07T21:53:43.517Z"
   },
   {
    "duration": 10,
    "start_time": "2022-04-07T21:53:43.522Z"
   },
   {
    "duration": 6,
    "start_time": "2022-04-07T21:53:43.534Z"
   },
   {
    "duration": 4,
    "start_time": "2022-04-07T21:53:43.541Z"
   },
   {
    "duration": 465,
    "start_time": "2022-04-07T21:53:43.547Z"
   },
   {
    "duration": 149,
    "start_time": "2022-04-07T21:53:44.015Z"
   },
   {
    "duration": 156,
    "start_time": "2022-04-07T21:53:44.166Z"
   },
   {
    "duration": 153,
    "start_time": "2022-04-07T21:53:44.324Z"
   },
   {
    "duration": 149,
    "start_time": "2022-04-07T21:53:44.479Z"
   },
   {
    "duration": 141,
    "start_time": "2022-04-07T21:53:44.629Z"
   },
   {
    "duration": 160,
    "start_time": "2022-04-07T21:53:44.772Z"
   },
   {
    "duration": 140,
    "start_time": "2022-04-07T21:53:44.934Z"
   },
   {
    "duration": 4,
    "start_time": "2022-04-07T21:53:45.075Z"
   },
   {
    "duration": 20,
    "start_time": "2022-04-07T21:53:45.081Z"
   },
   {
    "duration": 8,
    "start_time": "2022-04-07T21:53:45.105Z"
   },
   {
    "duration": 6,
    "start_time": "2022-04-07T21:53:45.115Z"
   },
   {
    "duration": 6,
    "start_time": "2022-04-07T21:53:45.122Z"
   },
   {
    "duration": 5,
    "start_time": "2022-04-07T21:53:45.129Z"
   },
   {
    "duration": 89,
    "start_time": "2022-04-07T21:53:45.135Z"
   },
   {
    "duration": 1136,
    "start_time": "2022-04-07T21:53:45.226Z"
   },
   {
    "duration": 3,
    "start_time": "2022-04-07T21:53:46.363Z"
   },
   {
    "duration": 174,
    "start_time": "2022-04-07T21:53:46.367Z"
   },
   {
    "duration": 173,
    "start_time": "2022-04-07T21:53:46.542Z"
   },
   {
    "duration": 163,
    "start_time": "2022-04-07T21:53:46.717Z"
   },
   {
    "duration": 50,
    "start_time": "2022-04-07T21:53:46.882Z"
   },
   {
    "duration": 95,
    "start_time": "2022-04-07T21:54:52.679Z"
   },
   {
    "duration": 15,
    "start_time": "2022-04-07T21:54:59.695Z"
   },
   {
    "duration": 5,
    "start_time": "2022-04-07T21:56:09.857Z"
   },
   {
    "duration": 803,
    "start_time": "2022-04-07T21:58:40.530Z"
   },
   {
    "duration": 30,
    "start_time": "2022-04-07T21:58:41.335Z"
   },
   {
    "duration": 150,
    "start_time": "2022-04-07T21:58:41.366Z"
   },
   {
    "duration": 85,
    "start_time": "2022-04-07T21:58:41.518Z"
   },
   {
    "duration": 128,
    "start_time": "2022-04-07T21:58:41.606Z"
   },
   {
    "duration": 16,
    "start_time": "2022-04-07T21:58:41.736Z"
   },
   {
    "duration": 3,
    "start_time": "2022-04-07T21:58:41.754Z"
   },
   {
    "duration": 13,
    "start_time": "2022-04-07T21:58:41.759Z"
   },
   {
    "duration": 34,
    "start_time": "2022-04-07T21:58:41.774Z"
   },
   {
    "duration": 5,
    "start_time": "2022-04-07T21:58:41.810Z"
   },
   {
    "duration": 15,
    "start_time": "2022-04-07T21:58:41.817Z"
   },
   {
    "duration": 25,
    "start_time": "2022-04-07T21:58:41.833Z"
   },
   {
    "duration": 8,
    "start_time": "2022-04-07T21:58:41.859Z"
   },
   {
    "duration": 56,
    "start_time": "2022-04-07T21:58:41.870Z"
   },
   {
    "duration": 19,
    "start_time": "2022-04-07T21:58:41.928Z"
   },
   {
    "duration": 21,
    "start_time": "2022-04-07T21:58:41.948Z"
   },
   {
    "duration": 31,
    "start_time": "2022-04-07T21:58:41.971Z"
   },
   {
    "duration": 26,
    "start_time": "2022-04-07T21:58:42.003Z"
   },
   {
    "duration": 18,
    "start_time": "2022-04-07T21:58:42.031Z"
   },
   {
    "duration": 7,
    "start_time": "2022-04-07T21:58:42.051Z"
   },
   {
    "duration": 46,
    "start_time": "2022-04-07T21:58:42.059Z"
   },
   {
    "duration": 10,
    "start_time": "2022-04-07T21:58:42.107Z"
   },
   {
    "duration": 9,
    "start_time": "2022-04-07T21:58:42.118Z"
   },
   {
    "duration": 6,
    "start_time": "2022-04-07T21:58:42.129Z"
   },
   {
    "duration": 3,
    "start_time": "2022-04-07T21:58:42.137Z"
   },
   {
    "duration": 11,
    "start_time": "2022-04-07T21:58:42.142Z"
   },
   {
    "duration": 9,
    "start_time": "2022-04-07T21:58:42.155Z"
   },
   {
    "duration": 48,
    "start_time": "2022-04-07T21:58:42.165Z"
   },
   {
    "duration": 9,
    "start_time": "2022-04-07T21:58:42.215Z"
   },
   {
    "duration": 58,
    "start_time": "2022-04-07T21:58:42.226Z"
   },
   {
    "duration": 16,
    "start_time": "2022-04-07T21:58:42.286Z"
   },
   {
    "duration": 10,
    "start_time": "2022-04-07T21:58:42.303Z"
   },
   {
    "duration": 25,
    "start_time": "2022-04-07T21:58:42.315Z"
   },
   {
    "duration": 47,
    "start_time": "2022-04-07T21:58:42.341Z"
   },
   {
    "duration": 12,
    "start_time": "2022-04-07T21:58:42.389Z"
   },
   {
    "duration": 4,
    "start_time": "2022-04-07T21:58:42.403Z"
   },
   {
    "duration": 9,
    "start_time": "2022-04-07T21:58:42.408Z"
   },
   {
    "duration": 15,
    "start_time": "2022-04-07T21:58:42.418Z"
   },
   {
    "duration": 25,
    "start_time": "2022-04-07T21:58:42.435Z"
   },
   {
    "duration": 3,
    "start_time": "2022-04-07T21:58:42.461Z"
   },
   {
    "duration": 35,
    "start_time": "2022-04-07T21:58:42.469Z"
   },
   {
    "duration": 17,
    "start_time": "2022-04-07T21:58:42.506Z"
   },
   {
    "duration": 12,
    "start_time": "2022-04-07T21:58:42.525Z"
   },
   {
    "duration": 13,
    "start_time": "2022-04-07T21:58:42.539Z"
   },
   {
    "duration": 15,
    "start_time": "2022-04-07T21:58:42.554Z"
   },
   {
    "duration": 33,
    "start_time": "2022-04-07T21:58:42.570Z"
   },
   {
    "duration": 7,
    "start_time": "2022-04-07T21:58:42.605Z"
   },
   {
    "duration": 14,
    "start_time": "2022-04-07T21:58:42.614Z"
   },
   {
    "duration": 4,
    "start_time": "2022-04-07T21:58:42.630Z"
   },
   {
    "duration": 13,
    "start_time": "2022-04-07T21:58:42.635Z"
   },
   {
    "duration": 13,
    "start_time": "2022-04-07T21:58:42.649Z"
   },
   {
    "duration": 3,
    "start_time": "2022-04-07T21:58:42.663Z"
   },
   {
    "duration": 66,
    "start_time": "2022-04-07T21:58:42.668Z"
   },
   {
    "duration": 5,
    "start_time": "2022-04-07T21:58:42.736Z"
   },
   {
    "duration": 48,
    "start_time": "2022-04-07T21:58:42.742Z"
   },
   {
    "duration": 11,
    "start_time": "2022-04-07T21:58:42.791Z"
   },
   {
    "duration": 52,
    "start_time": "2022-04-07T21:58:42.803Z"
   },
   {
    "duration": 6,
    "start_time": "2022-04-07T21:58:42.856Z"
   },
   {
    "duration": 7,
    "start_time": "2022-04-07T21:58:42.864Z"
   },
   {
    "duration": 31,
    "start_time": "2022-04-07T21:58:42.873Z"
   },
   {
    "duration": 27,
    "start_time": "2022-04-07T21:58:42.906Z"
   },
   {
    "duration": 9,
    "start_time": "2022-04-07T21:58:42.934Z"
   },
   {
    "duration": 4,
    "start_time": "2022-04-07T21:58:42.945Z"
   },
   {
    "duration": 10,
    "start_time": "2022-04-07T21:58:42.950Z"
   },
   {
    "duration": 8,
    "start_time": "2022-04-07T21:58:42.961Z"
   },
   {
    "duration": 33,
    "start_time": "2022-04-07T21:58:42.971Z"
   },
   {
    "duration": 453,
    "start_time": "2022-04-07T21:58:43.005Z"
   },
   {
    "duration": 125,
    "start_time": "2022-04-07T21:58:43.460Z"
   },
   {
    "duration": 122,
    "start_time": "2022-04-07T21:58:43.587Z"
   },
   {
    "duration": 133,
    "start_time": "2022-04-07T21:58:43.711Z"
   },
   {
    "duration": 133,
    "start_time": "2022-04-07T21:58:43.846Z"
   },
   {
    "duration": 116,
    "start_time": "2022-04-07T21:58:43.981Z"
   },
   {
    "duration": 121,
    "start_time": "2022-04-07T21:58:44.101Z"
   },
   {
    "duration": 140,
    "start_time": "2022-04-07T21:58:44.224Z"
   },
   {
    "duration": 6,
    "start_time": "2022-04-07T21:58:44.365Z"
   },
   {
    "duration": 6,
    "start_time": "2022-04-07T21:58:44.373Z"
   },
   {
    "duration": 21,
    "start_time": "2022-04-07T21:58:44.381Z"
   },
   {
    "duration": 7,
    "start_time": "2022-04-07T21:58:44.404Z"
   },
   {
    "duration": 4,
    "start_time": "2022-04-07T21:58:44.413Z"
   },
   {
    "duration": 5,
    "start_time": "2022-04-07T21:58:44.419Z"
   },
   {
    "duration": 57,
    "start_time": "2022-04-07T21:58:44.425Z"
   },
   {
    "duration": 1129,
    "start_time": "2022-04-07T21:58:44.500Z"
   },
   {
    "duration": 2,
    "start_time": "2022-04-07T21:58:45.631Z"
   },
   {
    "duration": 161,
    "start_time": "2022-04-07T21:58:45.634Z"
   },
   {
    "duration": 152,
    "start_time": "2022-04-07T21:58:45.797Z"
   },
   {
    "duration": 157,
    "start_time": "2022-04-07T21:58:45.950Z"
   },
   {
    "duration": 42,
    "start_time": "2022-04-07T21:58:46.109Z"
   },
   {
    "duration": 212,
    "start_time": "2022-04-07T21:59:42.658Z"
   },
   {
    "duration": 861,
    "start_time": "2022-04-07T23:23:54.173Z"
   },
   {
    "duration": 21,
    "start_time": "2022-04-07T23:23:55.036Z"
   },
   {
    "duration": 148,
    "start_time": "2022-04-07T23:23:55.058Z"
   },
   {
    "duration": 83,
    "start_time": "2022-04-07T23:23:55.208Z"
   },
   {
    "duration": 124,
    "start_time": "2022-04-07T23:23:55.293Z"
   },
   {
    "duration": 9,
    "start_time": "2022-04-07T23:23:55.419Z"
   },
   {
    "duration": 2,
    "start_time": "2022-04-07T23:23:55.430Z"
   },
   {
    "duration": 12,
    "start_time": "2022-04-07T23:23:55.434Z"
   },
   {
    "duration": 16,
    "start_time": "2022-04-07T23:23:55.447Z"
   },
   {
    "duration": 4,
    "start_time": "2022-04-07T23:23:55.466Z"
   },
   {
    "duration": 37,
    "start_time": "2022-04-07T23:23:55.472Z"
   },
   {
    "duration": 26,
    "start_time": "2022-04-07T23:23:55.510Z"
   },
   {
    "duration": 7,
    "start_time": "2022-04-07T23:23:55.538Z"
   },
   {
    "duration": 34,
    "start_time": "2022-04-07T23:23:55.546Z"
   },
   {
    "duration": 34,
    "start_time": "2022-04-07T23:23:55.582Z"
   },
   {
    "duration": 20,
    "start_time": "2022-04-07T23:23:55.618Z"
   },
   {
    "duration": 7,
    "start_time": "2022-04-07T23:23:55.639Z"
   },
   {
    "duration": 25,
    "start_time": "2022-04-07T23:23:55.648Z"
   },
   {
    "duration": 42,
    "start_time": "2022-04-07T23:23:55.675Z"
   },
   {
    "duration": 6,
    "start_time": "2022-04-07T23:23:55.719Z"
   },
   {
    "duration": 24,
    "start_time": "2022-04-07T23:23:55.726Z"
   },
   {
    "duration": 10,
    "start_time": "2022-04-07T23:23:55.751Z"
   },
   {
    "duration": 8,
    "start_time": "2022-04-07T23:23:55.763Z"
   },
   {
    "duration": 6,
    "start_time": "2022-04-07T23:23:55.772Z"
   },
   {
    "duration": 32,
    "start_time": "2022-04-07T23:23:55.779Z"
   },
   {
    "duration": 9,
    "start_time": "2022-04-07T23:23:55.812Z"
   },
   {
    "duration": 5,
    "start_time": "2022-04-07T23:25:10.518Z"
   },
   {
    "duration": 67,
    "start_time": "2022-04-07T23:25:23.651Z"
   },
   {
    "duration": 6,
    "start_time": "2022-04-07T23:25:28.132Z"
   },
   {
    "duration": 3,
    "start_time": "2022-04-07T23:29:39.697Z"
   },
   {
    "duration": 19,
    "start_time": "2022-04-07T23:29:39.701Z"
   },
   {
    "duration": 161,
    "start_time": "2022-04-07T23:29:39.721Z"
   },
   {
    "duration": 88,
    "start_time": "2022-04-07T23:29:39.884Z"
   },
   {
    "duration": 122,
    "start_time": "2022-04-07T23:29:39.974Z"
   },
   {
    "duration": 9,
    "start_time": "2022-04-07T23:29:40.097Z"
   },
   {
    "duration": 2,
    "start_time": "2022-04-07T23:29:40.108Z"
   },
   {
    "duration": 11,
    "start_time": "2022-04-07T23:29:40.112Z"
   },
   {
    "duration": 10,
    "start_time": "2022-04-07T23:29:40.124Z"
   },
   {
    "duration": 4,
    "start_time": "2022-04-07T23:29:40.136Z"
   },
   {
    "duration": 10,
    "start_time": "2022-04-07T23:29:40.143Z"
   },
   {
    "duration": 57,
    "start_time": "2022-04-07T23:29:40.155Z"
   },
   {
    "duration": 8,
    "start_time": "2022-04-07T23:29:40.214Z"
   },
   {
    "duration": 33,
    "start_time": "2022-04-07T23:29:40.224Z"
   },
   {
    "duration": 19,
    "start_time": "2022-04-07T23:29:40.259Z"
   },
   {
    "duration": 47,
    "start_time": "2022-04-07T23:29:40.280Z"
   },
   {
    "duration": 7,
    "start_time": "2022-04-07T23:29:40.329Z"
   },
   {
    "duration": 24,
    "start_time": "2022-04-07T23:29:40.338Z"
   },
   {
    "duration": 17,
    "start_time": "2022-04-07T23:29:40.364Z"
   },
   {
    "duration": 30,
    "start_time": "2022-04-07T23:29:40.383Z"
   },
   {
    "duration": 20,
    "start_time": "2022-04-07T23:29:40.415Z"
   },
   {
    "duration": 9,
    "start_time": "2022-04-07T23:29:40.437Z"
   },
   {
    "duration": 8,
    "start_time": "2022-04-07T23:29:40.448Z"
   },
   {
    "duration": 4,
    "start_time": "2022-04-07T23:29:40.458Z"
   },
   {
    "duration": 5,
    "start_time": "2022-04-07T23:29:40.464Z"
   },
   {
    "duration": 40,
    "start_time": "2022-04-07T23:29:40.470Z"
   },
   {
    "duration": 6,
    "start_time": "2022-04-07T23:29:40.512Z"
   },
   {
    "duration": 23,
    "start_time": "2022-04-07T23:29:40.519Z"
   },
   {
    "duration": 9,
    "start_time": "2022-04-07T23:29:40.545Z"
   },
   {
    "duration": 63,
    "start_time": "2022-04-07T23:29:40.555Z"
   },
   {
    "duration": 3,
    "start_time": "2022-04-07T23:29:40.620Z"
   },
   {
    "duration": 8,
    "start_time": "2022-04-07T23:29:40.625Z"
   },
   {
    "duration": 18,
    "start_time": "2022-04-07T23:29:40.635Z"
   },
   {
    "duration": 55,
    "start_time": "2022-04-07T23:29:40.654Z"
   },
   {
    "duration": 3,
    "start_time": "2022-04-07T23:29:40.711Z"
   },
   {
    "duration": 8,
    "start_time": "2022-04-07T23:29:40.716Z"
   },
   {
    "duration": 11,
    "start_time": "2022-04-07T23:29:40.726Z"
   },
   {
    "duration": 17,
    "start_time": "2022-04-07T23:29:40.739Z"
   },
   {
    "duration": 52,
    "start_time": "2022-04-07T23:29:40.757Z"
   },
   {
    "duration": 3,
    "start_time": "2022-04-07T23:29:40.811Z"
   },
   {
    "duration": 9,
    "start_time": "2022-04-07T23:29:40.816Z"
   },
   {
    "duration": 20,
    "start_time": "2022-04-07T23:29:40.826Z"
   },
   {
    "duration": 14,
    "start_time": "2022-04-07T23:29:40.847Z"
   },
   {
    "duration": 48,
    "start_time": "2022-04-07T23:29:40.863Z"
   },
   {
    "duration": 2,
    "start_time": "2022-04-07T23:38:04.466Z"
   },
   {
    "duration": 23,
    "start_time": "2022-04-07T23:38:04.470Z"
   },
   {
    "duration": 173,
    "start_time": "2022-04-07T23:38:04.495Z"
   },
   {
    "duration": 97,
    "start_time": "2022-04-07T23:38:04.670Z"
   },
   {
    "duration": 123,
    "start_time": "2022-04-07T23:38:04.770Z"
   },
   {
    "duration": 10,
    "start_time": "2022-04-07T23:38:04.894Z"
   },
   {
    "duration": 3,
    "start_time": "2022-04-07T23:38:04.908Z"
   },
   {
    "duration": 11,
    "start_time": "2022-04-07T23:38:04.913Z"
   },
   {
    "duration": 13,
    "start_time": "2022-04-07T23:38:04.926Z"
   },
   {
    "duration": 5,
    "start_time": "2022-04-07T23:38:04.941Z"
   },
   {
    "duration": 10,
    "start_time": "2022-04-07T23:38:04.950Z"
   },
   {
    "duration": 58,
    "start_time": "2022-04-07T23:38:04.962Z"
   },
   {
    "duration": 9,
    "start_time": "2022-04-07T23:38:05.022Z"
   },
   {
    "duration": 49,
    "start_time": "2022-04-07T23:38:05.033Z"
   },
   {
    "duration": 30,
    "start_time": "2022-04-07T23:38:05.084Z"
   },
   {
    "duration": 24,
    "start_time": "2022-04-07T23:38:05.116Z"
   },
   {
    "duration": 21,
    "start_time": "2022-04-07T23:38:05.143Z"
   },
   {
    "duration": 44,
    "start_time": "2022-04-07T23:38:05.166Z"
   },
   {
    "duration": 20,
    "start_time": "2022-04-07T23:38:05.212Z"
   },
   {
    "duration": 15,
    "start_time": "2022-04-07T23:38:05.234Z"
   },
   {
    "duration": 29,
    "start_time": "2022-04-07T23:38:05.251Z"
   },
   {
    "duration": 11,
    "start_time": "2022-04-07T23:38:05.282Z"
   },
   {
    "duration": 8,
    "start_time": "2022-04-07T23:38:05.309Z"
   },
   {
    "duration": 6,
    "start_time": "2022-04-07T23:38:05.319Z"
   },
   {
    "duration": 6,
    "start_time": "2022-04-07T23:38:05.326Z"
   },
   {
    "duration": 13,
    "start_time": "2022-04-07T23:38:05.334Z"
   },
   {
    "duration": 6,
    "start_time": "2022-04-07T23:38:05.349Z"
   },
   {
    "duration": 56,
    "start_time": "2022-04-07T23:38:05.357Z"
   },
   {
    "duration": 9,
    "start_time": "2022-04-07T23:38:05.418Z"
   },
   {
    "duration": 43,
    "start_time": "2022-04-07T23:38:05.429Z"
   },
   {
    "duration": 3,
    "start_time": "2022-04-07T23:38:05.474Z"
   },
   {
    "duration": 23,
    "start_time": "2022-04-07T23:38:05.479Z"
   },
   {
    "duration": 33,
    "start_time": "2022-04-07T23:38:05.509Z"
   },
   {
    "duration": 34,
    "start_time": "2022-04-07T23:38:05.544Z"
   },
   {
    "duration": 4,
    "start_time": "2022-04-07T23:38:05.580Z"
   },
   {
    "duration": 13,
    "start_time": "2022-04-07T23:38:05.586Z"
   },
   {
    "duration": 21,
    "start_time": "2022-04-07T23:38:05.601Z"
   },
   {
    "duration": 18,
    "start_time": "2022-04-07T23:38:05.624Z"
   },
   {
    "duration": 26,
    "start_time": "2022-04-07T23:38:05.644Z"
   },
   {
    "duration": 4,
    "start_time": "2022-04-07T23:38:05.672Z"
   },
   {
    "duration": 26,
    "start_time": "2022-04-07T23:38:05.678Z"
   },
   {
    "duration": 21,
    "start_time": "2022-04-07T23:38:05.709Z"
   },
   {
    "duration": 13,
    "start_time": "2022-04-07T23:38:05.732Z"
   },
   {
    "duration": 21,
    "start_time": "2022-04-07T23:38:05.747Z"
   },
   {
    "duration": 24,
    "start_time": "2022-04-07T23:38:05.770Z"
   },
   {
    "duration": 15,
    "start_time": "2022-04-07T23:38:05.795Z"
   },
   {
    "duration": 13,
    "start_time": "2022-04-07T23:38:05.812Z"
   },
   {
    "duration": 4,
    "start_time": "2022-04-07T23:38:05.827Z"
   },
   {
    "duration": 7,
    "start_time": "2022-04-07T23:38:05.833Z"
   },
   {
    "duration": 12,
    "start_time": "2022-04-07T23:38:05.842Z"
   },
   {
    "duration": 3,
    "start_time": "2022-04-07T23:38:05.856Z"
   },
   {
    "duration": 87,
    "start_time": "2022-04-07T23:38:05.861Z"
   },
   {
    "duration": 7,
    "start_time": "2022-04-07T23:38:05.950Z"
   },
   {
    "duration": 59,
    "start_time": "2022-04-07T23:38:05.959Z"
   },
   {
    "duration": 7,
    "start_time": "2022-04-07T23:38:06.020Z"
   },
   {
    "duration": 50,
    "start_time": "2022-04-07T23:38:06.029Z"
   },
   {
    "duration": 28,
    "start_time": "2022-04-07T23:38:06.081Z"
   },
   {
    "duration": 7,
    "start_time": "2022-04-07T23:38:06.111Z"
   },
   {
    "duration": 13,
    "start_time": "2022-04-07T23:38:06.120Z"
   },
   {
    "duration": 25,
    "start_time": "2022-04-07T23:38:13.341Z"
   },
   {
    "duration": 9,
    "start_time": "2022-04-07T23:38:54.489Z"
   },
   {
    "duration": 3,
    "start_time": "2022-04-07T23:38:55.314Z"
   },
   {
    "duration": 8,
    "start_time": "2022-04-07T23:39:53.571Z"
   },
   {
    "duration": 6,
    "start_time": "2022-04-07T23:39:54.451Z"
   },
   {
    "duration": 3,
    "start_time": "2022-04-07T23:55:58.502Z"
   },
   {
    "duration": 19,
    "start_time": "2022-04-07T23:55:58.507Z"
   },
   {
    "duration": 150,
    "start_time": "2022-04-07T23:55:58.528Z"
   },
   {
    "duration": 97,
    "start_time": "2022-04-07T23:55:58.680Z"
   },
   {
    "duration": 125,
    "start_time": "2022-04-07T23:55:58.778Z"
   },
   {
    "duration": 9,
    "start_time": "2022-04-07T23:55:58.905Z"
   },
   {
    "duration": 3,
    "start_time": "2022-04-07T23:55:58.915Z"
   },
   {
    "duration": 11,
    "start_time": "2022-04-07T23:55:58.919Z"
   },
   {
    "duration": 11,
    "start_time": "2022-04-07T23:55:58.933Z"
   },
   {
    "duration": 6,
    "start_time": "2022-04-07T23:55:58.945Z"
   },
   {
    "duration": 12,
    "start_time": "2022-04-07T23:55:58.952Z"
   },
   {
    "duration": 51,
    "start_time": "2022-04-07T23:55:58.965Z"
   },
   {
    "duration": 8,
    "start_time": "2022-04-07T23:55:59.018Z"
   },
   {
    "duration": 33,
    "start_time": "2022-04-07T23:55:59.028Z"
   },
   {
    "duration": 20,
    "start_time": "2022-04-07T23:55:59.063Z"
   },
   {
    "duration": 43,
    "start_time": "2022-04-07T23:55:59.085Z"
   },
   {
    "duration": 8,
    "start_time": "2022-04-07T23:55:59.130Z"
   },
   {
    "duration": 26,
    "start_time": "2022-04-07T23:55:59.139Z"
   },
   {
    "duration": 42,
    "start_time": "2022-04-07T23:55:59.167Z"
   },
   {
    "duration": 7,
    "start_time": "2022-04-07T23:55:59.211Z"
   },
   {
    "duration": 22,
    "start_time": "2022-04-07T23:55:59.220Z"
   },
   {
    "duration": 10,
    "start_time": "2022-04-07T23:55:59.244Z"
   },
   {
    "duration": 8,
    "start_time": "2022-04-07T23:55:59.256Z"
   },
   {
    "duration": 4,
    "start_time": "2022-04-07T23:55:59.268Z"
   },
   {
    "duration": 36,
    "start_time": "2022-04-07T23:55:59.273Z"
   },
   {
    "duration": 8,
    "start_time": "2022-04-07T23:55:59.311Z"
   },
   {
    "duration": 5,
    "start_time": "2022-04-07T23:55:59.320Z"
   },
   {
    "duration": 21,
    "start_time": "2022-04-07T23:55:59.327Z"
   },
   {
    "duration": 8,
    "start_time": "2022-04-07T23:55:59.350Z"
   },
   {
    "duration": 66,
    "start_time": "2022-04-07T23:55:59.360Z"
   },
   {
    "duration": 3,
    "start_time": "2022-04-07T23:55:59.428Z"
   },
   {
    "duration": 9,
    "start_time": "2022-04-07T23:55:59.433Z"
   },
   {
    "duration": 18,
    "start_time": "2022-04-07T23:55:59.443Z"
   },
   {
    "duration": 52,
    "start_time": "2022-04-07T23:55:59.463Z"
   },
   {
    "duration": 3,
    "start_time": "2022-04-07T23:55:59.517Z"
   },
   {
    "duration": 5,
    "start_time": "2022-04-07T23:55:59.522Z"
   },
   {
    "duration": 8,
    "start_time": "2022-04-07T23:55:59.529Z"
   },
   {
    "duration": 17,
    "start_time": "2022-04-07T23:55:59.538Z"
   },
   {
    "duration": 24,
    "start_time": "2022-04-07T23:55:59.557Z"
   },
   {
    "duration": 28,
    "start_time": "2022-04-07T23:55:59.582Z"
   },
   {
    "duration": 8,
    "start_time": "2022-04-07T23:55:59.611Z"
   },
   {
    "duration": 17,
    "start_time": "2022-04-07T23:55:59.621Z"
   },
   {
    "duration": 12,
    "start_time": "2022-04-07T23:55:59.639Z"
   },
   {
    "duration": 12,
    "start_time": "2022-04-07T23:55:59.653Z"
   },
   {
    "duration": 7,
    "start_time": "2022-04-07T23:55:59.667Z"
   },
   {
    "duration": 35,
    "start_time": "2022-04-07T23:55:59.676Z"
   },
   {
    "duration": 11,
    "start_time": "2022-04-07T23:55:59.713Z"
   },
   {
    "duration": 3,
    "start_time": "2022-04-07T23:55:59.726Z"
   },
   {
    "duration": 8,
    "start_time": "2022-04-07T23:55:59.731Z"
   },
   {
    "duration": 10,
    "start_time": "2022-04-07T23:55:59.741Z"
   },
   {
    "duration": 3,
    "start_time": "2022-04-07T23:55:59.752Z"
   },
   {
    "duration": 77,
    "start_time": "2022-04-07T23:55:59.756Z"
   },
   {
    "duration": 6,
    "start_time": "2022-04-07T23:55:59.834Z"
   },
   {
    "duration": 76,
    "start_time": "2022-04-07T23:55:59.841Z"
   },
   {
    "duration": 6,
    "start_time": "2022-04-07T23:55:59.919Z"
   },
   {
    "duration": 64,
    "start_time": "2022-04-07T23:55:59.926Z"
   },
   {
    "duration": 6,
    "start_time": "2022-04-07T23:55:59.991Z"
   },
   {
    "duration": 10,
    "start_time": "2022-04-07T23:55:59.999Z"
   },
   {
    "duration": 15,
    "start_time": "2022-04-07T23:56:00.011Z"
   },
   {
    "duration": 23,
    "start_time": "2022-04-07T23:56:00.027Z"
   },
   {
    "duration": 8,
    "start_time": "2022-04-07T23:56:00.052Z"
   },
   {
    "duration": 11,
    "start_time": "2022-04-07T23:56:00.061Z"
   },
   {
    "duration": 9,
    "start_time": "2022-04-07T23:56:00.074Z"
   },
   {
    "duration": 27,
    "start_time": "2022-04-07T23:56:00.084Z"
   },
   {
    "duration": 9,
    "start_time": "2022-04-07T23:56:00.112Z"
   },
   {
    "duration": 543,
    "start_time": "2022-04-07T23:56:00.122Z"
   },
   {
    "duration": 139,
    "start_time": "2022-04-07T23:56:00.666Z"
   },
   {
    "duration": 140,
    "start_time": "2022-04-07T23:56:00.808Z"
   },
   {
    "duration": 138,
    "start_time": "2022-04-07T23:56:00.953Z"
   },
   {
    "duration": 155,
    "start_time": "2022-04-07T23:56:01.092Z"
   },
   {
    "duration": 143,
    "start_time": "2022-04-07T23:56:01.249Z"
   },
   {
    "duration": 143,
    "start_time": "2022-04-07T23:56:01.394Z"
   },
   {
    "duration": 142,
    "start_time": "2022-04-07T23:56:01.538Z"
   },
   {
    "duration": 5,
    "start_time": "2022-04-07T23:56:04.243Z"
   },
   {
    "duration": 6,
    "start_time": "2022-04-08T00:43:13.472Z"
   },
   {
    "duration": 6,
    "start_time": "2022-04-08T00:44:36.411Z"
   },
   {
    "duration": 6,
    "start_time": "2022-04-08T00:44:44.884Z"
   },
   {
    "duration": 98,
    "start_time": "2022-04-08T00:53:18.458Z"
   },
   {
    "duration": 3,
    "start_time": "2022-04-08T00:53:26.946Z"
   },
   {
    "duration": 19,
    "start_time": "2022-04-08T00:53:26.950Z"
   },
   {
    "duration": 168,
    "start_time": "2022-04-08T00:53:26.970Z"
   },
   {
    "duration": 93,
    "start_time": "2022-04-08T00:53:27.140Z"
   },
   {
    "duration": 193,
    "start_time": "2022-04-08T00:53:27.235Z"
   },
   {
    "duration": 9,
    "start_time": "2022-04-08T00:53:27.430Z"
   },
   {
    "duration": 2,
    "start_time": "2022-04-08T00:53:27.441Z"
   },
   {
    "duration": 12,
    "start_time": "2022-04-08T00:53:27.445Z"
   },
   {
    "duration": 11,
    "start_time": "2022-04-08T00:53:27.459Z"
   },
   {
    "duration": 5,
    "start_time": "2022-04-08T00:53:27.471Z"
   },
   {
    "duration": 32,
    "start_time": "2022-04-08T00:53:27.477Z"
   },
   {
    "duration": 38,
    "start_time": "2022-04-08T00:53:27.511Z"
   },
   {
    "duration": 13,
    "start_time": "2022-04-08T00:53:27.551Z"
   },
   {
    "duration": 63,
    "start_time": "2022-04-08T00:53:27.565Z"
   },
   {
    "duration": 19,
    "start_time": "2022-04-08T00:53:27.630Z"
   },
   {
    "duration": 22,
    "start_time": "2022-04-08T00:53:27.650Z"
   },
   {
    "duration": 7,
    "start_time": "2022-04-08T00:53:27.674Z"
   },
   {
    "duration": 50,
    "start_time": "2022-04-08T00:53:27.683Z"
   },
   {
    "duration": 21,
    "start_time": "2022-04-08T00:53:27.734Z"
   },
   {
    "duration": 7,
    "start_time": "2022-04-08T00:53:27.757Z"
   },
   {
    "duration": 43,
    "start_time": "2022-04-08T00:53:27.766Z"
   },
   {
    "duration": 10,
    "start_time": "2022-04-08T00:53:27.811Z"
   },
   {
    "duration": 8,
    "start_time": "2022-04-08T00:53:27.823Z"
   },
   {
    "duration": 4,
    "start_time": "2022-04-08T00:53:27.835Z"
   },
   {
    "duration": 5,
    "start_time": "2022-04-08T00:53:27.841Z"
   },
   {
    "duration": 8,
    "start_time": "2022-04-08T00:53:27.849Z"
   },
   {
    "duration": 5,
    "start_time": "2022-04-08T00:53:27.859Z"
   },
   {
    "duration": 57,
    "start_time": "2022-04-08T00:53:27.866Z"
   },
   {
    "duration": 9,
    "start_time": "2022-04-08T00:53:27.924Z"
   },
   {
    "duration": 50,
    "start_time": "2022-04-08T00:53:27.935Z"
   },
   {
    "duration": 2,
    "start_time": "2022-04-08T00:53:27.987Z"
   },
   {
    "duration": 7,
    "start_time": "2022-04-08T00:53:28.008Z"
   },
   {
    "duration": 19,
    "start_time": "2022-04-08T00:53:28.017Z"
   },
   {
    "duration": 33,
    "start_time": "2022-04-08T00:53:28.037Z"
   },
   {
    "duration": 3,
    "start_time": "2022-04-08T00:53:28.072Z"
   },
   {
    "duration": 7,
    "start_time": "2022-04-08T00:53:28.076Z"
   },
   {
    "duration": 32,
    "start_time": "2022-04-08T00:53:28.085Z"
   },
   {
    "duration": 17,
    "start_time": "2022-04-08T00:53:28.119Z"
   },
   {
    "duration": 24,
    "start_time": "2022-04-08T00:53:28.137Z"
   },
   {
    "duration": 3,
    "start_time": "2022-04-08T00:53:28.163Z"
   },
   {
    "duration": 9,
    "start_time": "2022-04-08T00:53:28.167Z"
   },
   {
    "duration": 42,
    "start_time": "2022-04-08T00:53:28.178Z"
   },
   {
    "duration": 11,
    "start_time": "2022-04-08T00:53:28.222Z"
   },
   {
    "duration": 13,
    "start_time": "2022-04-08T00:53:28.234Z"
   },
   {
    "duration": 7,
    "start_time": "2022-04-08T00:53:28.249Z"
   },
   {
    "duration": 6,
    "start_time": "2022-04-08T00:53:28.258Z"
   },
   {
    "duration": 46,
    "start_time": "2022-04-08T00:53:28.266Z"
   },
   {
    "duration": 5,
    "start_time": "2022-04-08T00:53:28.314Z"
   },
   {
    "duration": 8,
    "start_time": "2022-04-08T00:53:28.321Z"
   },
   {
    "duration": 11,
    "start_time": "2022-04-08T00:53:28.331Z"
   },
   {
    "duration": 3,
    "start_time": "2022-04-08T00:53:28.344Z"
   },
   {
    "duration": 82,
    "start_time": "2022-04-08T00:53:28.348Z"
   },
   {
    "duration": 5,
    "start_time": "2022-04-08T00:53:28.432Z"
   },
   {
    "duration": 52,
    "start_time": "2022-04-08T00:53:28.439Z"
   },
   {
    "duration": 6,
    "start_time": "2022-04-08T00:53:28.493Z"
   },
   {
    "duration": 57,
    "start_time": "2022-04-08T00:53:28.509Z"
   },
   {
    "duration": 6,
    "start_time": "2022-04-08T00:53:28.568Z"
   },
   {
    "duration": 6,
    "start_time": "2022-04-08T00:53:28.575Z"
   },
   {
    "duration": 35,
    "start_time": "2022-04-08T00:53:28.583Z"
   },
   {
    "duration": 23,
    "start_time": "2022-04-08T00:53:28.620Z"
   },
   {
    "duration": 9,
    "start_time": "2022-04-08T00:53:28.645Z"
   },
   {
    "duration": 5,
    "start_time": "2022-04-08T00:53:28.655Z"
   },
   {
    "duration": 8,
    "start_time": "2022-04-08T00:53:28.662Z"
   },
   {
    "duration": 41,
    "start_time": "2022-04-08T00:53:28.671Z"
   },
   {
    "duration": 5,
    "start_time": "2022-04-08T00:53:28.713Z"
   },
   {
    "duration": 153,
    "start_time": "2022-04-08T00:53:28.719Z"
   },
   {
    "duration": 152,
    "start_time": "2022-04-08T00:53:28.874Z"
   },
   {
    "duration": 155,
    "start_time": "2022-04-08T00:53:29.027Z"
   },
   {
    "duration": 153,
    "start_time": "2022-04-08T00:53:29.187Z"
   },
   {
    "duration": 150,
    "start_time": "2022-04-08T00:53:29.342Z"
   },
   {
    "duration": 145,
    "start_time": "2022-04-08T00:53:29.494Z"
   },
   {
    "duration": 134,
    "start_time": "2022-04-08T00:53:29.641Z"
   },
   {
    "duration": 153,
    "start_time": "2022-04-08T00:53:29.776Z"
   },
   {
    "duration": 5,
    "start_time": "2022-04-08T00:53:29.931Z"
   },
   {
    "duration": 9,
    "start_time": "2022-04-08T00:53:29.938Z"
   },
   {
    "duration": 6,
    "start_time": "2022-04-08T00:53:29.948Z"
   },
   {
    "duration": 5,
    "start_time": "2022-04-08T00:53:29.955Z"
   },
   {
    "duration": 5,
    "start_time": "2022-04-08T00:53:29.962Z"
   },
   {
    "duration": 5,
    "start_time": "2022-04-08T00:53:34.226Z"
   },
   {
    "duration": 23,
    "start_time": "2022-04-08T00:54:43.053Z"
   },
   {
    "duration": 9,
    "start_time": "2022-04-08T00:55:25.813Z"
   },
   {
    "duration": 24,
    "start_time": "2022-04-08T00:55:58.688Z"
   },
   {
    "duration": 12,
    "start_time": "2022-04-08T01:28:52.742Z"
   },
   {
    "duration": 6,
    "start_time": "2022-04-08T01:30:00.025Z"
   },
   {
    "duration": 6,
    "start_time": "2022-04-08T01:30:22.841Z"
   },
   {
    "duration": 17,
    "start_time": "2022-04-08T04:14:28.081Z"
   },
   {
    "duration": 10,
    "start_time": "2022-04-08T04:14:42.102Z"
   },
   {
    "duration": 9,
    "start_time": "2022-04-08T04:15:00.272Z"
   },
   {
    "duration": 12,
    "start_time": "2022-04-08T04:15:08.841Z"
   },
   {
    "duration": 10,
    "start_time": "2022-04-08T04:15:13.657Z"
   },
   {
    "duration": 7,
    "start_time": "2022-04-08T04:15:37.825Z"
   },
   {
    "duration": 8,
    "start_time": "2022-04-08T04:15:59.041Z"
   },
   {
    "duration": 7,
    "start_time": "2022-04-08T04:16:35.763Z"
   },
   {
    "duration": 7,
    "start_time": "2022-04-08T04:19:01.366Z"
   },
   {
    "duration": 65,
    "start_time": "2022-04-08T04:20:09.675Z"
   },
   {
    "duration": 7,
    "start_time": "2022-04-08T04:21:42.836Z"
   },
   {
    "duration": 7,
    "start_time": "2022-04-08T04:21:50.789Z"
   },
   {
    "duration": 7,
    "start_time": "2022-04-08T04:22:15.686Z"
   },
   {
    "duration": 61,
    "start_time": "2022-04-08T04:22:31.150Z"
   },
   {
    "duration": 7,
    "start_time": "2022-04-08T04:22:36.406Z"
   },
   {
    "duration": 22,
    "start_time": "2022-04-08T04:24:05.269Z"
   },
   {
    "duration": 178,
    "start_time": "2022-04-08T04:37:49.022Z"
   },
   {
    "duration": 4,
    "start_time": "2022-04-08T04:37:56.559Z"
   },
   {
    "duration": 5,
    "start_time": "2022-04-08T04:37:56.565Z"
   },
   {
    "duration": 22,
    "start_time": "2022-04-08T04:37:56.573Z"
   },
   {
    "duration": 180,
    "start_time": "2022-04-08T04:37:56.597Z"
   },
   {
    "duration": 84,
    "start_time": "2022-04-08T04:37:56.779Z"
   },
   {
    "duration": 126,
    "start_time": "2022-04-08T04:37:56.865Z"
   },
   {
    "duration": 10,
    "start_time": "2022-04-08T04:37:56.993Z"
   },
   {
    "duration": 3,
    "start_time": "2022-04-08T04:37:57.008Z"
   },
   {
    "duration": 24,
    "start_time": "2022-04-08T04:37:57.013Z"
   },
   {
    "duration": 23,
    "start_time": "2022-04-08T04:37:57.038Z"
   },
   {
    "duration": 6,
    "start_time": "2022-04-08T04:37:57.064Z"
   },
   {
    "duration": 23,
    "start_time": "2022-04-08T04:37:57.071Z"
   },
   {
    "duration": 36,
    "start_time": "2022-04-08T04:37:57.096Z"
   },
   {
    "duration": 7,
    "start_time": "2022-04-08T04:37:57.134Z"
   },
   {
    "duration": 47,
    "start_time": "2022-04-08T04:37:57.142Z"
   },
   {
    "duration": 23,
    "start_time": "2022-04-08T04:37:57.191Z"
   },
   {
    "duration": 20,
    "start_time": "2022-04-08T04:37:57.216Z"
   },
   {
    "duration": 8,
    "start_time": "2022-04-08T04:37:57.238Z"
   },
   {
    "duration": 33,
    "start_time": "2022-04-08T04:37:57.247Z"
   },
   {
    "duration": 36,
    "start_time": "2022-04-08T04:37:57.281Z"
   },
   {
    "duration": 11,
    "start_time": "2022-04-08T04:37:57.319Z"
   },
   {
    "duration": 32,
    "start_time": "2022-04-08T04:37:57.332Z"
   },
   {
    "duration": 11,
    "start_time": "2022-04-08T04:37:57.366Z"
   },
   {
    "duration": 14,
    "start_time": "2022-04-08T04:37:57.379Z"
   },
   {
    "duration": 17,
    "start_time": "2022-04-08T04:37:57.395Z"
   },
   {
    "duration": 5,
    "start_time": "2022-04-08T04:37:57.414Z"
   },
   {
    "duration": 10,
    "start_time": "2022-04-08T04:37:57.421Z"
   },
   {
    "duration": 7,
    "start_time": "2022-04-08T04:37:57.432Z"
   },
   {
    "duration": 23,
    "start_time": "2022-04-08T04:37:57.443Z"
   },
   {
    "duration": 40,
    "start_time": "2022-04-08T04:37:57.469Z"
   },
   {
    "duration": 47,
    "start_time": "2022-04-08T04:37:57.511Z"
   },
   {
    "duration": 4,
    "start_time": "2022-04-08T04:37:57.560Z"
   },
   {
    "duration": 8,
    "start_time": "2022-04-08T04:37:57.566Z"
   },
   {
    "duration": 45,
    "start_time": "2022-04-08T04:37:57.576Z"
   },
   {
    "duration": 32,
    "start_time": "2022-04-08T04:37:57.623Z"
   },
   {
    "duration": 4,
    "start_time": "2022-04-08T04:37:57.657Z"
   },
   {
    "duration": 6,
    "start_time": "2022-04-08T04:37:57.662Z"
   },
   {
    "duration": 9,
    "start_time": "2022-04-08T04:37:57.670Z"
   },
   {
    "duration": 37,
    "start_time": "2022-04-08T04:37:57.681Z"
   },
   {
    "duration": 25,
    "start_time": "2022-04-08T04:37:57.720Z"
   },
   {
    "duration": 2,
    "start_time": "2022-04-08T04:37:57.747Z"
   },
   {
    "duration": 10,
    "start_time": "2022-04-08T04:37:57.752Z"
   },
   {
    "duration": 59,
    "start_time": "2022-04-08T04:37:57.764Z"
   },
   {
    "duration": 17,
    "start_time": "2022-04-08T04:37:57.825Z"
   },
   {
    "duration": 13,
    "start_time": "2022-04-08T04:37:57.844Z"
   },
   {
    "duration": 7,
    "start_time": "2022-04-08T04:37:57.859Z"
   },
   {
    "duration": 5,
    "start_time": "2022-04-08T04:37:57.868Z"
   },
   {
    "duration": 37,
    "start_time": "2022-04-08T04:37:57.875Z"
   },
   {
    "duration": 4,
    "start_time": "2022-04-08T04:37:57.914Z"
   },
   {
    "duration": 9,
    "start_time": "2022-04-08T04:37:57.920Z"
   },
   {
    "duration": 13,
    "start_time": "2022-04-08T04:37:57.930Z"
   },
   {
    "duration": 215,
    "start_time": "2022-04-08T04:37:57.944Z"
   },
   {
    "duration": 14,
    "start_time": "2022-04-08T04:41:04.450Z"
   },
   {
    "duration": 3,
    "start_time": "2022-04-08T04:41:42.767Z"
   },
   {
    "duration": 4,
    "start_time": "2022-04-08T04:41:42.772Z"
   },
   {
    "duration": 17,
    "start_time": "2022-04-08T04:41:42.778Z"
   },
   {
    "duration": 159,
    "start_time": "2022-04-08T04:41:42.797Z"
   },
   {
    "duration": 92,
    "start_time": "2022-04-08T04:41:42.958Z"
   },
   {
    "duration": 127,
    "start_time": "2022-04-08T04:41:43.052Z"
   },
   {
    "duration": 10,
    "start_time": "2022-04-08T04:41:43.181Z"
   },
   {
    "duration": 2,
    "start_time": "2022-04-08T04:41:43.193Z"
   },
   {
    "duration": 19,
    "start_time": "2022-04-08T04:41:43.197Z"
   },
   {
    "duration": 11,
    "start_time": "2022-04-08T04:41:43.217Z"
   },
   {
    "duration": 4,
    "start_time": "2022-04-08T04:41:43.231Z"
   },
   {
    "duration": 13,
    "start_time": "2022-04-08T04:41:43.237Z"
   },
   {
    "duration": 122,
    "start_time": "2022-04-08T04:41:43.251Z"
   },
   {
    "duration": 8,
    "start_time": "2022-04-08T04:41:43.375Z"
   },
   {
    "duration": 48,
    "start_time": "2022-04-08T04:41:43.384Z"
   },
   {
    "duration": 19,
    "start_time": "2022-04-08T04:41:43.434Z"
   },
   {
    "duration": 21,
    "start_time": "2022-04-08T04:41:43.455Z"
   },
   {
    "duration": 8,
    "start_time": "2022-04-08T04:41:43.478Z"
   },
   {
    "duration": 44,
    "start_time": "2022-04-08T04:41:43.487Z"
   },
   {
    "duration": 19,
    "start_time": "2022-04-08T04:41:43.533Z"
   },
   {
    "duration": 6,
    "start_time": "2022-04-08T04:41:43.554Z"
   },
   {
    "duration": 47,
    "start_time": "2022-04-08T04:41:43.562Z"
   },
   {
    "duration": 10,
    "start_time": "2022-04-08T04:41:43.611Z"
   },
   {
    "duration": 9,
    "start_time": "2022-04-08T04:41:43.623Z"
   },
   {
    "duration": 11,
    "start_time": "2022-04-08T04:41:43.634Z"
   },
   {
    "duration": 6,
    "start_time": "2022-04-08T04:41:43.647Z"
   },
   {
    "duration": 11,
    "start_time": "2022-04-08T04:41:43.655Z"
   },
   {
    "duration": 8,
    "start_time": "2022-04-08T04:41:43.668Z"
   },
   {
    "duration": 39,
    "start_time": "2022-04-08T04:41:43.680Z"
   },
   {
    "duration": 9,
    "start_time": "2022-04-08T04:41:43.721Z"
   },
   {
    "duration": 44,
    "start_time": "2022-04-08T04:41:43.732Z"
   },
   {
    "duration": 3,
    "start_time": "2022-04-08T04:41:43.778Z"
   },
   {
    "duration": 31,
    "start_time": "2022-04-08T04:41:43.782Z"
   },
   {
    "duration": 18,
    "start_time": "2022-04-08T04:41:43.814Z"
   },
   {
    "duration": 32,
    "start_time": "2022-04-08T04:41:43.833Z"
   },
   {
    "duration": 2,
    "start_time": "2022-04-08T04:41:43.867Z"
   },
   {
    "duration": 8,
    "start_time": "2022-04-08T04:41:43.871Z"
   },
   {
    "duration": 33,
    "start_time": "2022-04-08T04:41:43.881Z"
   },
   {
    "duration": 15,
    "start_time": "2022-04-08T04:41:43.916Z"
   },
   {
    "duration": 24,
    "start_time": "2022-04-08T04:41:43.932Z"
   },
   {
    "duration": 3,
    "start_time": "2022-04-08T04:41:43.957Z"
   },
   {
    "duration": 9,
    "start_time": "2022-04-08T04:41:43.961Z"
   },
   {
    "duration": 43,
    "start_time": "2022-04-08T04:41:43.972Z"
   },
   {
    "duration": 13,
    "start_time": "2022-04-08T04:41:44.017Z"
   },
   {
    "duration": 12,
    "start_time": "2022-04-08T04:41:44.031Z"
   },
   {
    "duration": 10,
    "start_time": "2022-04-08T04:41:44.045Z"
   },
   {
    "duration": 6,
    "start_time": "2022-04-08T04:41:44.057Z"
   },
   {
    "duration": 13,
    "start_time": "2022-04-08T04:41:44.064Z"
   },
   {
    "duration": 32,
    "start_time": "2022-04-08T04:41:44.079Z"
   },
   {
    "duration": 9,
    "start_time": "2022-04-08T04:41:44.113Z"
   },
   {
    "duration": 11,
    "start_time": "2022-04-08T04:41:44.123Z"
   },
   {
    "duration": 186,
    "start_time": "2022-04-08T04:41:44.135Z"
   },
   {
    "duration": 23,
    "start_time": "2022-04-08T04:41:44.323Z"
   },
   {
    "duration": 7,
    "start_time": "2022-04-08T04:41:44.347Z"
   },
   {
    "duration": 67,
    "start_time": "2022-04-08T04:41:44.356Z"
   },
   {
    "duration": 5,
    "start_time": "2022-04-08T04:41:44.424Z"
   },
   {
    "duration": 51,
    "start_time": "2022-04-08T04:41:44.431Z"
   },
   {
    "duration": 6,
    "start_time": "2022-04-08T04:41:44.483Z"
   },
   {
    "duration": 67,
    "start_time": "2022-04-08T04:41:44.490Z"
   },
   {
    "duration": 6,
    "start_time": "2022-04-08T04:41:44.558Z"
   },
   {
    "duration": 14,
    "start_time": "2022-04-08T04:41:44.566Z"
   },
   {
    "duration": 44,
    "start_time": "2022-04-08T04:41:44.582Z"
   },
   {
    "duration": 8,
    "start_time": "2022-04-08T04:41:44.628Z"
   },
   {
    "duration": 4,
    "start_time": "2022-04-08T04:41:44.638Z"
   },
   {
    "duration": 4,
    "start_time": "2022-04-08T04:41:46.884Z"
   },
   {
    "duration": 5,
    "start_time": "2022-04-08T04:42:46.270Z"
   },
   {
    "duration": 179,
    "start_time": "2022-04-08T04:43:04.045Z"
   },
   {
    "duration": 2,
    "start_time": "2022-04-08T05:25:45.733Z"
   },
   {
    "duration": 17,
    "start_time": "2022-04-08T05:25:45.737Z"
   },
   {
    "duration": 17,
    "start_time": "2022-04-08T05:25:45.756Z"
   },
   {
    "duration": 159,
    "start_time": "2022-04-08T05:25:45.775Z"
   },
   {
    "duration": 97,
    "start_time": "2022-04-08T05:25:45.937Z"
   },
   {
    "duration": 141,
    "start_time": "2022-04-08T05:25:46.036Z"
   },
   {
    "duration": 11,
    "start_time": "2022-04-08T05:25:46.179Z"
   },
   {
    "duration": 4,
    "start_time": "2022-04-08T05:25:46.192Z"
   },
   {
    "duration": 18,
    "start_time": "2022-04-08T05:25:46.198Z"
   },
   {
    "duration": 22,
    "start_time": "2022-04-08T05:25:46.218Z"
   },
   {
    "duration": 12,
    "start_time": "2022-04-08T05:25:46.243Z"
   },
   {
    "duration": 18,
    "start_time": "2022-04-08T05:25:46.257Z"
   },
   {
    "duration": 28,
    "start_time": "2022-04-08T05:25:46.277Z"
   },
   {
    "duration": 7,
    "start_time": "2022-04-08T05:25:46.307Z"
   },
   {
    "duration": 36,
    "start_time": "2022-04-08T05:25:46.316Z"
   },
   {
    "duration": 19,
    "start_time": "2022-04-08T05:25:46.354Z"
   },
   {
    "duration": 39,
    "start_time": "2022-04-08T05:25:46.374Z"
   },
   {
    "duration": 8,
    "start_time": "2022-04-08T05:25:46.415Z"
   },
   {
    "duration": 40,
    "start_time": "2022-04-08T05:25:46.424Z"
   },
   {
    "duration": 19,
    "start_time": "2022-04-08T05:25:46.466Z"
   },
   {
    "duration": 7,
    "start_time": "2022-04-08T05:25:46.487Z"
   },
   {
    "duration": 32,
    "start_time": "2022-04-08T05:25:46.496Z"
   },
   {
    "duration": 10,
    "start_time": "2022-04-08T05:25:46.530Z"
   },
   {
    "duration": 16,
    "start_time": "2022-04-08T05:25:46.542Z"
   },
   {
    "duration": 20,
    "start_time": "2022-04-08T05:25:46.560Z"
   },
   {
    "duration": 21,
    "start_time": "2022-04-08T05:25:46.582Z"
   },
   {
    "duration": 11,
    "start_time": "2022-04-08T05:25:46.605Z"
   },
   {
    "duration": 7,
    "start_time": "2022-04-08T05:25:46.618Z"
   },
   {
    "duration": 22,
    "start_time": "2022-04-08T05:25:46.630Z"
   },
   {
    "duration": 8,
    "start_time": "2022-04-08T05:25:46.655Z"
   },
   {
    "duration": 66,
    "start_time": "2022-04-08T05:25:46.666Z"
   },
   {
    "duration": 3,
    "start_time": "2022-04-08T05:25:46.734Z"
   },
   {
    "duration": 9,
    "start_time": "2022-04-08T05:25:46.738Z"
   },
   {
    "duration": 19,
    "start_time": "2022-04-08T05:25:46.749Z"
   },
   {
    "duration": 55,
    "start_time": "2022-04-08T05:25:46.769Z"
   },
   {
    "duration": 3,
    "start_time": "2022-04-08T05:25:46.826Z"
   },
   {
    "duration": 6,
    "start_time": "2022-04-08T05:25:46.830Z"
   },
   {
    "duration": 8,
    "start_time": "2022-04-08T05:25:46.838Z"
   },
   {
    "duration": 16,
    "start_time": "2022-04-08T05:25:46.848Z"
   },
   {
    "duration": 45,
    "start_time": "2022-04-08T05:25:46.866Z"
   },
   {
    "duration": 3,
    "start_time": "2022-04-08T05:25:46.913Z"
   },
   {
    "duration": 11,
    "start_time": "2022-04-08T05:25:46.917Z"
   },
   {
    "duration": 18,
    "start_time": "2022-04-08T05:25:46.929Z"
   },
   {
    "duration": 13,
    "start_time": "2022-04-08T05:25:46.949Z"
   },
   {
    "duration": 13,
    "start_time": "2022-04-08T05:25:46.964Z"
   },
   {
    "duration": 37,
    "start_time": "2022-04-08T05:25:46.978Z"
   },
   {
    "duration": 6,
    "start_time": "2022-04-08T05:25:47.017Z"
   },
   {
    "duration": 12,
    "start_time": "2022-04-08T05:25:47.025Z"
   },
   {
    "duration": 5,
    "start_time": "2022-04-08T05:25:47.038Z"
   },
   {
    "duration": 13,
    "start_time": "2022-04-08T05:25:47.044Z"
   },
   {
    "duration": 12,
    "start_time": "2022-04-08T05:25:47.058Z"
   },
   {
    "duration": 201,
    "start_time": "2022-04-08T05:25:47.071Z"
   },
   {
    "duration": 23,
    "start_time": "2022-04-08T05:25:47.274Z"
   },
   {
    "duration": 3,
    "start_time": "2022-04-08T05:25:47.309Z"
   },
   {
    "duration": 52,
    "start_time": "2022-04-08T05:25:47.314Z"
   },
   {
    "duration": 5,
    "start_time": "2022-04-08T05:25:47.368Z"
   },
   {
    "duration": 68,
    "start_time": "2022-04-08T05:25:47.375Z"
   },
   {
    "duration": 5,
    "start_time": "2022-04-08T05:25:47.445Z"
   },
   {
    "duration": 60,
    "start_time": "2022-04-08T05:25:47.452Z"
   },
   {
    "duration": 7,
    "start_time": "2022-04-08T05:25:47.513Z"
   },
   {
    "duration": 16,
    "start_time": "2022-04-08T05:25:47.521Z"
   },
   {
    "duration": 23,
    "start_time": "2022-04-08T05:25:47.538Z"
   },
   {
    "duration": 8,
    "start_time": "2022-04-08T05:25:47.562Z"
   },
   {
    "duration": 205,
    "start_time": "2022-04-08T05:25:47.572Z"
   },
   {
    "duration": 5,
    "start_time": "2022-04-08T05:25:47.778Z"
   },
   {
    "duration": 12,
    "start_time": "2022-04-08T05:25:47.784Z"
   },
   {
    "duration": 7,
    "start_time": "2022-04-08T05:25:47.809Z"
   },
   {
    "duration": 7,
    "start_time": "2022-04-08T05:25:47.818Z"
   },
   {
    "duration": 145,
    "start_time": "2022-04-08T05:25:47.827Z"
   },
   {
    "duration": 158,
    "start_time": "2022-04-08T05:25:47.973Z"
   },
   {
    "duration": 135,
    "start_time": "2022-04-08T05:25:48.132Z"
   },
   {
    "duration": 155,
    "start_time": "2022-04-08T05:25:48.269Z"
   },
   {
    "duration": 163,
    "start_time": "2022-04-08T05:25:48.426Z"
   },
   {
    "duration": 152,
    "start_time": "2022-04-08T05:25:48.591Z"
   },
   {
    "duration": 148,
    "start_time": "2022-04-08T05:25:48.744Z"
   },
   {
    "duration": 230,
    "start_time": "2022-04-08T05:25:48.894Z"
   },
   {
    "duration": 5,
    "start_time": "2022-04-08T05:25:49.126Z"
   },
   {
    "duration": 8,
    "start_time": "2022-04-08T05:25:49.133Z"
   },
   {
    "duration": 6,
    "start_time": "2022-04-08T05:25:49.142Z"
   },
   {
    "duration": 5,
    "start_time": "2022-04-08T05:25:49.149Z"
   },
   {
    "duration": 4,
    "start_time": "2022-04-08T05:25:49.156Z"
   },
   {
    "duration": 5,
    "start_time": "2022-04-08T05:25:49.162Z"
   },
   {
    "duration": 89,
    "start_time": "2022-04-08T05:25:49.173Z"
   },
   {
    "duration": 1125,
    "start_time": "2022-04-08T05:25:49.263Z"
   },
   {
    "duration": 184,
    "start_time": "2022-04-08T05:25:50.390Z"
   },
   {
    "duration": 192,
    "start_time": "2022-04-08T05:25:50.576Z"
   },
   {
    "duration": 173,
    "start_time": "2022-04-08T05:25:50.769Z"
   },
   {
    "duration": 28,
    "start_time": "2022-04-08T05:25:50.944Z"
   },
   {
    "duration": 146,
    "start_time": "2022-04-08T13:52:08.027Z"
   },
   {
    "duration": 43,
    "start_time": "2022-04-08T13:56:56.853Z"
   },
   {
    "duration": 850,
    "start_time": "2022-04-08T13:57:02.343Z"
   },
   {
    "duration": 393,
    "start_time": "2022-04-08T13:57:03.195Z"
   },
   {
    "duration": 86,
    "start_time": "2022-04-08T13:57:03.590Z"
   },
   {
    "duration": 142,
    "start_time": "2022-04-08T13:57:03.678Z"
   },
   {
    "duration": 78,
    "start_time": "2022-04-08T13:57:03.822Z"
   },
   {
    "duration": 121,
    "start_time": "2022-04-08T13:57:03.902Z"
   },
   {
    "duration": 11,
    "start_time": "2022-04-08T13:57:04.024Z"
   },
   {
    "duration": 14,
    "start_time": "2022-04-08T13:57:04.036Z"
   },
   {
    "duration": 25,
    "start_time": "2022-04-08T13:57:04.051Z"
   },
   {
    "duration": 39,
    "start_time": "2022-04-08T13:57:04.077Z"
   },
   {
    "duration": 12,
    "start_time": "2022-04-08T13:57:04.118Z"
   },
   {
    "duration": 35,
    "start_time": "2022-04-08T13:57:04.132Z"
   },
   {
    "duration": 34,
    "start_time": "2022-04-08T13:57:04.169Z"
   },
   {
    "duration": 8,
    "start_time": "2022-04-08T13:57:04.207Z"
   },
   {
    "duration": 43,
    "start_time": "2022-04-08T13:57:04.217Z"
   },
   {
    "duration": 19,
    "start_time": "2022-04-08T13:57:04.262Z"
   },
   {
    "duration": 37,
    "start_time": "2022-04-08T13:57:04.282Z"
   },
   {
    "duration": 14,
    "start_time": "2022-04-08T13:57:04.321Z"
   },
   {
    "duration": 29,
    "start_time": "2022-04-08T13:57:04.336Z"
   },
   {
    "duration": 18,
    "start_time": "2022-04-08T13:57:04.367Z"
   },
   {
    "duration": 8,
    "start_time": "2022-04-08T13:57:04.387Z"
   },
   {
    "duration": 40,
    "start_time": "2022-04-08T13:57:04.397Z"
   },
   {
    "duration": 27,
    "start_time": "2022-04-08T13:57:04.439Z"
   },
   {
    "duration": 17,
    "start_time": "2022-04-08T13:57:04.468Z"
   },
   {
    "duration": 21,
    "start_time": "2022-04-08T13:57:04.487Z"
   },
   {
    "duration": 9,
    "start_time": "2022-04-08T13:57:04.510Z"
   },
   {
    "duration": 21,
    "start_time": "2022-04-08T13:57:04.520Z"
   },
   {
    "duration": 17,
    "start_time": "2022-04-08T13:57:04.543Z"
   },
   {
    "duration": 46,
    "start_time": "2022-04-08T13:57:04.561Z"
   },
   {
    "duration": 13,
    "start_time": "2022-04-08T13:57:04.609Z"
   },
   {
    "duration": 75,
    "start_time": "2022-04-08T13:57:04.623Z"
   },
   {
    "duration": 4,
    "start_time": "2022-04-08T13:57:04.699Z"
   },
   {
    "duration": 26,
    "start_time": "2022-04-08T13:57:04.704Z"
   },
   {
    "duration": 31,
    "start_time": "2022-04-08T13:57:04.732Z"
   },
   {
    "duration": 50,
    "start_time": "2022-04-08T13:57:04.765Z"
   },
   {
    "duration": 4,
    "start_time": "2022-04-08T13:57:04.816Z"
   },
   {
    "duration": 19,
    "start_time": "2022-04-08T13:57:04.822Z"
   },
   {
    "duration": 27,
    "start_time": "2022-04-08T13:57:04.843Z"
   },
   {
    "duration": 22,
    "start_time": "2022-04-08T13:57:04.872Z"
   },
   {
    "duration": 34,
    "start_time": "2022-04-08T13:57:04.895Z"
   },
   {
    "duration": 10,
    "start_time": "2022-04-08T13:57:04.933Z"
   },
   {
    "duration": 24,
    "start_time": "2022-04-08T13:57:04.944Z"
   },
   {
    "duration": 37,
    "start_time": "2022-04-08T13:57:04.971Z"
   },
   {
    "duration": 12,
    "start_time": "2022-04-08T13:57:05.010Z"
   },
   {
    "duration": 29,
    "start_time": "2022-04-08T13:57:05.024Z"
   },
   {
    "duration": 28,
    "start_time": "2022-04-08T13:57:05.054Z"
   },
   {
    "duration": 14,
    "start_time": "2022-04-08T13:57:05.083Z"
   },
   {
    "duration": 28,
    "start_time": "2022-04-08T13:57:05.099Z"
   },
   {
    "duration": 25,
    "start_time": "2022-04-08T13:57:05.129Z"
   },
   {
    "duration": 24,
    "start_time": "2022-04-08T13:57:05.155Z"
   },
   {
    "duration": 13,
    "start_time": "2022-04-08T13:57:05.180Z"
   },
   {
    "duration": 180,
    "start_time": "2022-04-08T13:57:05.195Z"
   },
   {
    "duration": 24,
    "start_time": "2022-04-08T13:57:05.377Z"
   },
   {
    "duration": 26,
    "start_time": "2022-04-08T13:57:05.403Z"
   },
   {
    "duration": 63,
    "start_time": "2022-04-08T13:57:05.430Z"
   },
   {
    "duration": 5,
    "start_time": "2022-04-08T13:57:05.495Z"
   },
   {
    "duration": 68,
    "start_time": "2022-04-08T13:57:05.502Z"
   },
   {
    "duration": 7,
    "start_time": "2022-04-08T13:57:05.572Z"
   },
   {
    "duration": 66,
    "start_time": "2022-04-08T13:57:05.581Z"
   },
   {
    "duration": 7,
    "start_time": "2022-04-08T13:57:05.649Z"
   },
   {
    "duration": 35,
    "start_time": "2022-04-08T13:57:05.658Z"
   },
   {
    "duration": 39,
    "start_time": "2022-04-08T13:57:05.696Z"
   },
   {
    "duration": 9,
    "start_time": "2022-04-08T13:57:05.738Z"
   },
   {
    "duration": 167,
    "start_time": "2022-04-08T13:57:05.749Z"
   },
   {
    "duration": 5,
    "start_time": "2022-04-08T13:57:05.918Z"
   },
   {
    "duration": 22,
    "start_time": "2022-04-08T13:57:05.925Z"
   },
   {
    "duration": 10,
    "start_time": "2022-04-08T13:57:05.949Z"
   },
   {
    "duration": 8,
    "start_time": "2022-04-08T13:57:05.961Z"
   },
   {
    "duration": 123,
    "start_time": "2022-04-08T13:57:05.970Z"
   },
   {
    "duration": 139,
    "start_time": "2022-04-08T13:57:06.095Z"
   },
   {
    "duration": 136,
    "start_time": "2022-04-08T13:57:06.236Z"
   },
   {
    "duration": 127,
    "start_time": "2022-04-08T13:57:06.374Z"
   },
   {
    "duration": 136,
    "start_time": "2022-04-08T13:57:06.502Z"
   },
   {
    "duration": 131,
    "start_time": "2022-04-08T13:57:06.640Z"
   },
   {
    "duration": 128,
    "start_time": "2022-04-08T13:57:06.773Z"
   },
   {
    "duration": 127,
    "start_time": "2022-04-08T13:57:06.902Z"
   },
   {
    "duration": 4,
    "start_time": "2022-04-08T13:57:07.031Z"
   },
   {
    "duration": 26,
    "start_time": "2022-04-08T13:57:07.037Z"
   },
   {
    "duration": 22,
    "start_time": "2022-04-08T13:57:07.064Z"
   },
   {
    "duration": 13,
    "start_time": "2022-04-08T13:57:07.087Z"
   },
   {
    "duration": 14,
    "start_time": "2022-04-08T13:57:07.101Z"
   },
   {
    "duration": 14,
    "start_time": "2022-04-08T13:57:07.117Z"
   },
   {
    "duration": 166,
    "start_time": "2022-04-08T13:57:07.133Z"
   },
   {
    "duration": 1134,
    "start_time": "2022-04-08T13:57:07.301Z"
   },
   {
    "duration": 254,
    "start_time": "2022-04-08T13:57:08.438Z"
   },
   {
    "duration": 265,
    "start_time": "2022-04-08T13:57:08.694Z"
   },
   {
    "duration": 252,
    "start_time": "2022-04-08T13:57:08.962Z"
   },
   {
    "duration": 30,
    "start_time": "2022-04-08T13:57:09.216Z"
   },
   {
    "duration": 6,
    "start_time": "2022-04-08T14:02:24.524Z"
   },
   {
    "duration": 921,
    "start_time": "2022-04-08T14:06:32.571Z"
   },
   {
    "duration": 223,
    "start_time": "2022-04-08T14:06:33.494Z"
   },
   {
    "duration": 83,
    "start_time": "2022-04-08T14:06:33.719Z"
   },
   {
    "duration": 144,
    "start_time": "2022-04-08T14:06:33.803Z"
   },
   {
    "duration": 83,
    "start_time": "2022-04-08T14:06:33.950Z"
   },
   {
    "duration": 128,
    "start_time": "2022-04-08T14:06:34.034Z"
   },
   {
    "duration": 11,
    "start_time": "2022-04-08T14:06:34.164Z"
   },
   {
    "duration": 4,
    "start_time": "2022-04-08T14:06:34.176Z"
   },
   {
    "duration": 33,
    "start_time": "2022-04-08T14:06:34.181Z"
   },
   {
    "duration": 35,
    "start_time": "2022-04-08T14:06:34.215Z"
   },
   {
    "duration": 21,
    "start_time": "2022-04-08T14:06:34.252Z"
   },
   {
    "duration": 22,
    "start_time": "2022-04-08T14:06:34.275Z"
   },
   {
    "duration": 36,
    "start_time": "2022-04-08T14:06:34.298Z"
   },
   {
    "duration": 7,
    "start_time": "2022-04-08T14:06:34.337Z"
   },
   {
    "duration": 49,
    "start_time": "2022-04-08T14:06:34.346Z"
   },
   {
    "duration": 18,
    "start_time": "2022-04-08T14:06:34.397Z"
   },
   {
    "duration": 31,
    "start_time": "2022-04-08T14:06:34.416Z"
   },
   {
    "duration": 9,
    "start_time": "2022-04-08T14:06:34.448Z"
   },
   {
    "duration": 39,
    "start_time": "2022-04-08T14:06:34.459Z"
   },
   {
    "duration": 18,
    "start_time": "2022-04-08T14:06:34.500Z"
   },
   {
    "duration": 17,
    "start_time": "2022-04-08T14:06:34.520Z"
   },
   {
    "duration": 34,
    "start_time": "2022-04-08T14:06:34.538Z"
   },
   {
    "duration": 17,
    "start_time": "2022-04-08T14:06:34.573Z"
   },
   {
    "duration": 22,
    "start_time": "2022-04-08T14:06:34.592Z"
   },
   {
    "duration": 16,
    "start_time": "2022-04-08T14:06:34.616Z"
   },
   {
    "duration": 5,
    "start_time": "2022-04-08T14:06:34.633Z"
   },
   {
    "duration": 16,
    "start_time": "2022-04-08T14:06:34.639Z"
   },
   {
    "duration": 16,
    "start_time": "2022-04-08T14:06:34.656Z"
   },
   {
    "duration": 46,
    "start_time": "2022-04-08T14:06:34.674Z"
   },
   {
    "duration": 8,
    "start_time": "2022-04-08T14:06:34.722Z"
   },
   {
    "duration": 103,
    "start_time": "2022-04-08T14:06:34.733Z"
   },
   {
    "duration": 3,
    "start_time": "2022-04-08T14:06:34.839Z"
   },
   {
    "duration": 28,
    "start_time": "2022-04-08T14:06:34.844Z"
   },
   {
    "duration": 33,
    "start_time": "2022-04-08T14:06:34.874Z"
   },
   {
    "duration": 76,
    "start_time": "2022-04-08T14:06:34.910Z"
   },
   {
    "duration": 4,
    "start_time": "2022-04-08T14:06:34.988Z"
   },
   {
    "duration": 20,
    "start_time": "2022-04-08T14:06:34.993Z"
   },
   {
    "duration": 25,
    "start_time": "2022-04-08T14:06:35.014Z"
   },
   {
    "duration": 19,
    "start_time": "2022-04-08T14:06:35.041Z"
   },
   {
    "duration": 33,
    "start_time": "2022-04-08T14:06:35.062Z"
   },
   {
    "duration": 3,
    "start_time": "2022-04-08T14:06:35.100Z"
   },
   {
    "duration": 19,
    "start_time": "2022-04-08T14:06:35.104Z"
   },
   {
    "duration": 35,
    "start_time": "2022-04-08T14:06:35.124Z"
   },
   {
    "duration": 11,
    "start_time": "2022-04-08T14:06:35.161Z"
   },
   {
    "duration": 26,
    "start_time": "2022-04-08T14:06:35.174Z"
   },
   {
    "duration": 14,
    "start_time": "2022-04-08T14:06:35.201Z"
   },
   {
    "duration": 23,
    "start_time": "2022-04-08T14:06:35.216Z"
   },
   {
    "duration": 26,
    "start_time": "2022-04-08T14:06:35.241Z"
   },
   {
    "duration": 12,
    "start_time": "2022-04-08T14:06:35.269Z"
   },
   {
    "duration": 20,
    "start_time": "2022-04-08T14:06:35.283Z"
   },
   {
    "duration": 31,
    "start_time": "2022-04-08T14:06:35.304Z"
   },
   {
    "duration": 186,
    "start_time": "2022-04-08T14:06:35.337Z"
   },
   {
    "duration": 34,
    "start_time": "2022-04-08T14:06:35.525Z"
   },
   {
    "duration": 25,
    "start_time": "2022-04-08T14:06:35.561Z"
   },
   {
    "duration": 71,
    "start_time": "2022-04-08T14:06:35.588Z"
   },
   {
    "duration": 6,
    "start_time": "2022-04-08T14:06:35.660Z"
   },
   {
    "duration": 58,
    "start_time": "2022-04-08T14:06:35.667Z"
   },
   {
    "duration": 7,
    "start_time": "2022-04-08T14:06:35.726Z"
   },
   {
    "duration": 58,
    "start_time": "2022-04-08T14:06:35.735Z"
   },
   {
    "duration": 7,
    "start_time": "2022-04-08T14:06:35.795Z"
   },
   {
    "duration": 39,
    "start_time": "2022-04-08T14:06:35.803Z"
   },
   {
    "duration": 40,
    "start_time": "2022-04-08T14:06:35.843Z"
   },
   {
    "duration": 7,
    "start_time": "2022-04-08T14:06:35.885Z"
   },
   {
    "duration": 159,
    "start_time": "2022-04-08T14:06:35.894Z"
   },
   {
    "duration": 5,
    "start_time": "2022-04-08T14:06:36.057Z"
   },
   {
    "duration": 23,
    "start_time": "2022-04-08T14:06:36.065Z"
   },
   {
    "duration": 17,
    "start_time": "2022-04-08T14:06:36.091Z"
   },
   {
    "duration": 11,
    "start_time": "2022-04-08T14:06:36.110Z"
   },
   {
    "duration": 228,
    "start_time": "2022-04-08T14:06:36.123Z"
   },
   {
    "duration": 128,
    "start_time": "2022-04-08T14:06:36.359Z"
   },
   {
    "duration": 131,
    "start_time": "2022-04-08T14:06:36.489Z"
   },
   {
    "duration": 136,
    "start_time": "2022-04-08T14:06:36.622Z"
   },
   {
    "duration": 145,
    "start_time": "2022-04-08T14:06:36.759Z"
   },
   {
    "duration": 122,
    "start_time": "2022-04-08T14:06:36.906Z"
   },
   {
    "duration": 140,
    "start_time": "2022-04-08T14:06:37.030Z"
   },
   {
    "duration": 122,
    "start_time": "2022-04-08T14:06:37.172Z"
   },
   {
    "duration": 5,
    "start_time": "2022-04-08T14:06:37.296Z"
   },
   {
    "duration": 6,
    "start_time": "2022-04-08T14:06:37.302Z"
   },
   {
    "duration": 8,
    "start_time": "2022-04-08T14:06:37.310Z"
   },
   {
    "duration": 6,
    "start_time": "2022-04-08T14:06:37.319Z"
   },
   {
    "duration": 33,
    "start_time": "2022-04-08T14:06:37.326Z"
   },
   {
    "duration": 6,
    "start_time": "2022-04-08T14:06:37.361Z"
   },
   {
    "duration": 112,
    "start_time": "2022-04-08T14:06:37.369Z"
   },
   {
    "duration": 58,
    "start_time": "2022-04-08T14:06:37.483Z"
   },
   {
    "duration": 1120,
    "start_time": "2022-04-08T14:06:37.542Z"
   },
   {
    "duration": 167,
    "start_time": "2022-04-08T14:06:38.664Z"
   },
   {
    "duration": 163,
    "start_time": "2022-04-08T14:06:38.833Z"
   },
   {
    "duration": 157,
    "start_time": "2022-04-08T14:06:38.998Z"
   },
   {
    "duration": 30,
    "start_time": "2022-04-08T14:06:39.158Z"
   },
   {
    "duration": 45,
    "start_time": "2022-04-08T16:21:47.388Z"
   },
   {
    "duration": 833,
    "start_time": "2022-04-08T16:36:44.855Z"
   },
   {
    "duration": 369,
    "start_time": "2022-04-08T16:36:45.690Z"
   },
   {
    "duration": 92,
    "start_time": "2022-04-08T16:36:46.061Z"
   },
   {
    "duration": 144,
    "start_time": "2022-04-08T16:36:46.155Z"
   },
   {
    "duration": 83,
    "start_time": "2022-04-08T16:36:46.301Z"
   },
   {
    "duration": 132,
    "start_time": "2022-04-08T16:36:46.386Z"
   },
   {
    "duration": 10,
    "start_time": "2022-04-08T16:36:46.520Z"
   },
   {
    "duration": 3,
    "start_time": "2022-04-08T16:36:46.531Z"
   },
   {
    "duration": 20,
    "start_time": "2022-04-08T16:36:46.536Z"
   },
   {
    "duration": 14,
    "start_time": "2022-04-08T16:36:46.558Z"
   },
   {
    "duration": 4,
    "start_time": "2022-04-08T16:36:46.573Z"
   },
   {
    "duration": 13,
    "start_time": "2022-04-08T16:36:46.579Z"
   },
   {
    "duration": 28,
    "start_time": "2022-04-08T16:36:46.594Z"
   },
   {
    "duration": 9,
    "start_time": "2022-04-08T16:36:46.647Z"
   },
   {
    "duration": 34,
    "start_time": "2022-04-08T16:36:46.658Z"
   },
   {
    "duration": 18,
    "start_time": "2022-04-08T16:36:46.694Z"
   },
   {
    "duration": 43,
    "start_time": "2022-04-08T16:36:46.713Z"
   },
   {
    "duration": 7,
    "start_time": "2022-04-08T16:36:46.758Z"
   },
   {
    "duration": 26,
    "start_time": "2022-04-08T16:36:46.767Z"
   },
   {
    "duration": 18,
    "start_time": "2022-04-08T16:36:46.794Z"
   },
   {
    "duration": 7,
    "start_time": "2022-04-08T16:36:46.813Z"
   },
   {
    "duration": 21,
    "start_time": "2022-04-08T16:36:46.846Z"
   },
   {
    "duration": 10,
    "start_time": "2022-04-08T16:36:46.869Z"
   },
   {
    "duration": 9,
    "start_time": "2022-04-08T16:36:46.881Z"
   },
   {
    "duration": 6,
    "start_time": "2022-04-08T16:36:46.891Z"
   },
   {
    "duration": 6,
    "start_time": "2022-04-08T16:36:46.898Z"
   },
   {
    "duration": 10,
    "start_time": "2022-04-08T16:36:46.905Z"
   },
   {
    "duration": 6,
    "start_time": "2022-04-08T16:36:46.948Z"
   },
   {
    "duration": 22,
    "start_time": "2022-04-08T16:36:46.955Z"
   },
   {
    "duration": 9,
    "start_time": "2022-04-08T16:36:46.979Z"
   },
   {
    "duration": 78,
    "start_time": "2022-04-08T16:36:46.989Z"
   },
   {
    "duration": 3,
    "start_time": "2022-04-08T16:36:47.069Z"
   },
   {
    "duration": 20,
    "start_time": "2022-04-08T16:36:47.073Z"
   },
   {
    "duration": 18,
    "start_time": "2022-04-08T16:36:47.094Z"
   },
   {
    "duration": 60,
    "start_time": "2022-04-08T16:36:47.114Z"
   },
   {
    "duration": 3,
    "start_time": "2022-04-08T16:36:47.176Z"
   },
   {
    "duration": 9,
    "start_time": "2022-04-08T16:36:47.181Z"
   },
   {
    "duration": 12,
    "start_time": "2022-04-08T16:36:47.192Z"
   },
   {
    "duration": 17,
    "start_time": "2022-04-08T16:36:47.205Z"
   },
   {
    "duration": 39,
    "start_time": "2022-04-08T16:36:47.223Z"
   },
   {
    "duration": 3,
    "start_time": "2022-04-08T16:36:47.264Z"
   },
   {
    "duration": 10,
    "start_time": "2022-04-08T16:36:47.269Z"
   },
   {
    "duration": 36,
    "start_time": "2022-04-08T16:36:47.281Z"
   },
   {
    "duration": 12,
    "start_time": "2022-04-08T16:36:47.319Z"
   },
   {
    "duration": 13,
    "start_time": "2022-04-08T16:36:47.346Z"
   },
   {
    "duration": 8,
    "start_time": "2022-04-08T16:36:47.361Z"
   },
   {
    "duration": 6,
    "start_time": "2022-04-08T16:36:47.370Z"
   },
   {
    "duration": 11,
    "start_time": "2022-04-08T16:36:47.378Z"
   },
   {
    "duration": 4,
    "start_time": "2022-04-08T16:36:47.391Z"
   },
   {
    "duration": 9,
    "start_time": "2022-04-08T16:36:47.396Z"
   },
   {
    "duration": 42,
    "start_time": "2022-04-08T16:36:47.407Z"
   },
   {
    "duration": 177,
    "start_time": "2022-04-08T16:36:47.450Z"
   },
   {
    "duration": 32,
    "start_time": "2022-04-08T16:36:47.629Z"
   },
   {
    "duration": 2,
    "start_time": "2022-04-08T16:36:47.663Z"
   },
   {
    "duration": 47,
    "start_time": "2022-04-08T16:36:47.667Z"
   },
   {
    "duration": 5,
    "start_time": "2022-04-08T16:36:47.717Z"
   },
   {
    "duration": 66,
    "start_time": "2022-04-08T16:36:47.724Z"
   },
   {
    "duration": 7,
    "start_time": "2022-04-08T16:36:47.792Z"
   },
   {
    "duration": 60,
    "start_time": "2022-04-08T16:36:47.800Z"
   },
   {
    "duration": 6,
    "start_time": "2022-04-08T16:36:47.862Z"
   },
   {
    "duration": 15,
    "start_time": "2022-04-08T16:36:47.870Z"
   },
   {
    "duration": 29,
    "start_time": "2022-04-08T16:36:47.887Z"
   },
   {
    "duration": 7,
    "start_time": "2022-04-08T16:36:47.918Z"
   },
   {
    "duration": 186,
    "start_time": "2022-04-08T16:36:47.927Z"
   },
   {
    "duration": 5,
    "start_time": "2022-04-08T16:36:48.115Z"
   },
   {
    "duration": 11,
    "start_time": "2022-04-08T16:36:48.121Z"
   },
   {
    "duration": 17,
    "start_time": "2022-04-08T16:36:48.134Z"
   },
   {
    "duration": 17,
    "start_time": "2022-04-08T16:36:48.153Z"
   },
   {
    "duration": 129,
    "start_time": "2022-04-08T16:36:48.172Z"
   },
   {
    "duration": 137,
    "start_time": "2022-04-08T16:36:48.302Z"
   },
   {
    "duration": 138,
    "start_time": "2022-04-08T16:36:48.441Z"
   },
   {
    "duration": 134,
    "start_time": "2022-04-08T16:36:48.581Z"
   },
   {
    "duration": 148,
    "start_time": "2022-04-08T16:36:48.718Z"
   },
   {
    "duration": 128,
    "start_time": "2022-04-08T16:36:48.868Z"
   },
   {
    "duration": 135,
    "start_time": "2022-04-08T16:36:48.998Z"
   },
   {
    "duration": 128,
    "start_time": "2022-04-08T16:36:49.135Z"
   },
   {
    "duration": 5,
    "start_time": "2022-04-08T16:36:49.265Z"
   },
   {
    "duration": 7,
    "start_time": "2022-04-08T16:36:49.271Z"
   },
   {
    "duration": 6,
    "start_time": "2022-04-08T16:36:49.280Z"
   },
   {
    "duration": 9,
    "start_time": "2022-04-08T16:36:49.288Z"
   },
   {
    "duration": 5,
    "start_time": "2022-04-08T16:36:49.299Z"
   },
   {
    "duration": 6,
    "start_time": "2022-04-08T16:36:49.308Z"
   },
   {
    "duration": 1402,
    "start_time": "2022-04-09T15:15:42.717Z"
   },
   {
    "duration": 583,
    "start_time": "2022-04-09T15:15:44.123Z"
   },
   {
    "duration": 89,
    "start_time": "2022-04-09T15:15:44.709Z"
   },
   {
    "duration": 220,
    "start_time": "2022-04-09T15:15:44.800Z"
   },
   {
    "duration": 130,
    "start_time": "2022-04-09T15:15:45.024Z"
   },
   {
    "duration": 181,
    "start_time": "2022-04-09T15:15:45.156Z"
   },
   {
    "duration": 12,
    "start_time": "2022-04-09T15:15:45.340Z"
   },
   {
    "duration": 4,
    "start_time": "2022-04-09T15:15:45.355Z"
   },
   {
    "duration": 31,
    "start_time": "2022-04-09T15:15:45.362Z"
   },
   {
    "duration": 40,
    "start_time": "2022-04-09T15:15:45.396Z"
   },
   {
    "duration": 9,
    "start_time": "2022-04-09T15:15:45.439Z"
   },
   {
    "duration": 25,
    "start_time": "2022-04-09T15:15:45.451Z"
   },
   {
    "duration": 40,
    "start_time": "2022-04-09T15:15:45.479Z"
   },
   {
    "duration": 12,
    "start_time": "2022-04-09T15:15:45.524Z"
   },
   {
    "duration": 62,
    "start_time": "2022-04-09T15:15:45.539Z"
   },
   {
    "duration": 28,
    "start_time": "2022-04-09T15:15:45.603Z"
   },
   {
    "duration": 35,
    "start_time": "2022-04-09T15:15:45.633Z"
   },
   {
    "duration": 11,
    "start_time": "2022-04-09T15:15:45.671Z"
   },
   {
    "duration": 113,
    "start_time": "2022-04-09T15:15:45.685Z"
   },
   {
    "duration": 94,
    "start_time": "2022-04-09T15:15:45.801Z"
   },
   {
    "duration": 72,
    "start_time": "2022-04-09T15:15:45.898Z"
   },
   {
    "duration": 38,
    "start_time": "2022-04-09T15:15:45.973Z"
   },
   {
    "duration": 60,
    "start_time": "2022-04-09T15:15:46.013Z"
   },
   {
    "duration": 14,
    "start_time": "2022-04-09T15:15:46.076Z"
   },
   {
    "duration": 14,
    "start_time": "2022-04-09T15:15:46.094Z"
   },
   {
    "duration": 7,
    "start_time": "2022-04-09T15:15:46.111Z"
   },
   {
    "duration": 49,
    "start_time": "2022-04-09T15:15:46.121Z"
   },
   {
    "duration": 10,
    "start_time": "2022-04-09T15:15:46.174Z"
   },
   {
    "duration": 89,
    "start_time": "2022-04-09T15:15:46.187Z"
   },
   {
    "duration": 15,
    "start_time": "2022-04-09T15:15:46.278Z"
   },
   {
    "duration": 185,
    "start_time": "2022-04-09T15:15:46.296Z"
   },
   {
    "duration": 4,
    "start_time": "2022-04-09T15:15:46.483Z"
   },
   {
    "duration": 14,
    "start_time": "2022-04-09T15:15:46.489Z"
   },
   {
    "duration": 88,
    "start_time": "2022-04-09T15:15:46.506Z"
   },
   {
    "duration": 125,
    "start_time": "2022-04-09T15:15:46.597Z"
   },
   {
    "duration": 6,
    "start_time": "2022-04-09T15:15:46.725Z"
   },
   {
    "duration": 8,
    "start_time": "2022-04-09T15:15:46.733Z"
   },
   {
    "duration": 32,
    "start_time": "2022-04-09T15:15:46.743Z"
   },
   {
    "duration": 21,
    "start_time": "2022-04-09T15:15:46.777Z"
   },
   {
    "duration": 36,
    "start_time": "2022-04-09T15:15:46.800Z"
   },
   {
    "duration": 5,
    "start_time": "2022-04-09T15:15:46.869Z"
   },
   {
    "duration": 14,
    "start_time": "2022-04-09T15:15:46.877Z"
   },
   {
    "duration": 41,
    "start_time": "2022-04-09T15:15:46.895Z"
   },
   {
    "duration": 19,
    "start_time": "2022-04-09T15:15:46.969Z"
   },
   {
    "duration": 23,
    "start_time": "2022-04-09T15:15:46.990Z"
   },
   {
    "duration": 12,
    "start_time": "2022-04-09T15:15:47.015Z"
   },
   {
    "duration": 56,
    "start_time": "2022-04-09T15:15:47.029Z"
   },
   {
    "duration": 18,
    "start_time": "2022-04-09T15:15:47.087Z"
   },
   {
    "duration": 8,
    "start_time": "2022-04-09T15:15:47.107Z"
   },
   {
    "duration": 11,
    "start_time": "2022-04-09T15:15:47.117Z"
   },
   {
    "duration": 48,
    "start_time": "2022-04-09T15:15:47.131Z"
   },
   {
    "duration": 490,
    "start_time": "2022-04-09T15:15:47.181Z"
   },
   {
    "duration": 51,
    "start_time": "2022-04-09T15:15:47.674Z"
   },
   {
    "duration": 5,
    "start_time": "2022-04-09T15:15:47.728Z"
   },
   {
    "duration": 111,
    "start_time": "2022-04-09T15:15:47.736Z"
   },
   {
    "duration": 18,
    "start_time": "2022-04-09T15:15:47.849Z"
   },
   {
    "duration": 98,
    "start_time": "2022-04-09T15:15:47.870Z"
   },
   {
    "duration": 10,
    "start_time": "2022-04-09T15:15:47.970Z"
   },
   {
    "duration": 104,
    "start_time": "2022-04-09T15:15:47.982Z"
   },
   {
    "duration": 8,
    "start_time": "2022-04-09T15:15:48.089Z"
   },
   {
    "duration": 24,
    "start_time": "2022-04-09T15:15:48.099Z"
   },
   {
    "duration": 70,
    "start_time": "2022-04-09T15:15:48.125Z"
   },
   {
    "duration": 13,
    "start_time": "2022-04-09T15:15:48.197Z"
   },
   {
    "duration": 310,
    "start_time": "2022-04-09T15:15:48.213Z"
   },
   {
    "duration": 6,
    "start_time": "2022-04-09T15:15:48.525Z"
   },
   {
    "duration": 44,
    "start_time": "2022-04-09T15:15:48.535Z"
   },
   {
    "duration": 13,
    "start_time": "2022-04-09T15:15:48.583Z"
   },
   {
    "duration": 9,
    "start_time": "2022-04-09T15:15:48.599Z"
   },
   {
    "duration": 364,
    "start_time": "2022-04-09T15:15:48.611Z"
   },
   {
    "duration": 368,
    "start_time": "2022-04-09T15:15:48.979Z"
   },
   {
    "duration": 239,
    "start_time": "2022-04-09T15:15:49.350Z"
   },
   {
    "duration": 235,
    "start_time": "2022-04-09T15:15:49.591Z"
   },
   {
    "duration": 266,
    "start_time": "2022-04-09T15:15:49.829Z"
   },
   {
    "duration": 225,
    "start_time": "2022-04-09T15:15:50.098Z"
   },
   {
    "duration": 242,
    "start_time": "2022-04-09T15:15:50.325Z"
   },
   {
    "duration": 231,
    "start_time": "2022-04-09T15:15:50.570Z"
   },
   {
    "duration": 10,
    "start_time": "2022-04-09T15:15:50.804Z"
   },
   {
    "duration": 8,
    "start_time": "2022-04-09T15:15:50.817Z"
   },
   {
    "duration": 17,
    "start_time": "2022-04-09T15:15:50.827Z"
   },
   {
    "duration": 8,
    "start_time": "2022-04-09T15:15:50.868Z"
   },
   {
    "duration": 8,
    "start_time": "2022-04-09T15:15:50.878Z"
   },
   {
    "duration": 10,
    "start_time": "2022-04-09T15:15:50.888Z"
   },
   {
    "duration": 134,
    "start_time": "2022-04-09T15:15:50.900Z"
   },
   {
    "duration": 99,
    "start_time": "2022-04-09T15:15:51.036Z"
   },
   {
    "duration": 1532,
    "start_time": "2022-04-09T15:15:51.138Z"
   },
   {
    "duration": 302,
    "start_time": "2022-04-09T15:15:52.672Z"
   },
   {
    "duration": 493,
    "start_time": "2022-04-09T15:15:52.978Z"
   },
   {
    "duration": 433,
    "start_time": "2022-04-09T15:15:53.474Z"
   },
   {
    "duration": 64,
    "start_time": "2022-04-09T15:15:53.910Z"
   }
  ],
  "kernelspec": {
   "display_name": "Python 3 (ipykernel)",
   "language": "python",
   "name": "python3"
  },
  "language_info": {
   "codemirror_mode": {
    "name": "ipython",
    "version": 3
   },
   "file_extension": ".py",
   "mimetype": "text/x-python",
   "name": "python",
   "nbconvert_exporter": "python",
   "pygments_lexer": "ipython3",
   "version": "3.9.12"
  },
  "toc": {
   "base_numbering": 1,
   "nav_menu": {},
   "number_sections": true,
   "sideBar": true,
   "skip_h1_title": true,
   "title_cell": "Table of Contents",
   "title_sidebar": "Contents",
   "toc_cell": false,
   "toc_position": {},
   "toc_section_display": true,
   "toc_window_display": false
  }
 },
 "nbformat": 4,
 "nbformat_minor": 2
}
