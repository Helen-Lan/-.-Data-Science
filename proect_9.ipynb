{
 "cells": [
  {
   "cell_type": "markdown",
   "metadata": {
    "toc": true
   },
   "source": [
    "<h1>Содержание<span class=\"tocSkip\"></span></h1>\n",
    "<div class=\"toc\"><ul class=\"toc-item\"><li><span><a href=\"#Подготовка-данных\" data-toc-modified-id=\"Подготовка-данных-1\"><span class=\"toc-item-num\">1&nbsp;&nbsp;</span>Подготовка данных</a></span><ul class=\"toc-item\"><li><span><a href=\"#Знакомство-с-данными\" data-toc-modified-id=\"Знакомство-с-данными-1.1\"><span class=\"toc-item-num\">1.1&nbsp;&nbsp;</span>Знакомство с данными</a></span></li><li><span><a href=\"#Расчет-эффективности-обогащения-(MAE)\" data-toc-modified-id=\"Расчет-эффективности-обогащения-(MAE)-1.2\"><span class=\"toc-item-num\">1.2&nbsp;&nbsp;</span>Расчет эффективности обогащения (MAE)</a></span></li><li><span><a href=\"#Анализ-признаков,-недоступных-в-тестовой-выборке\" data-toc-modified-id=\"Анализ-признаков,-недоступных-в-тестовой-выборке-1.3\"><span class=\"toc-item-num\">1.3&nbsp;&nbsp;</span>Анализ признаков, недоступных в тестовой выборке</a></span></li><li><span><a href=\"#Предобработка-данных\" data-toc-modified-id=\"Предобработка-данных-1.4\"><span class=\"toc-item-num\">1.4&nbsp;&nbsp;</span>Предобработка данных</a></span></li></ul></li><li><span><a href=\"#Анализ-данных\" data-toc-modified-id=\"Анализ-данных-2\"><span class=\"toc-item-num\">2&nbsp;&nbsp;</span>Анализ данных</a></span><ul class=\"toc-item\"><li><span><a href=\"#Концентрация-металлов-(Au,-Ag,-Pb)-на-различных-этапах-очистки\" data-toc-modified-id=\"Концентрация-металлов-(Au,-Ag,-Pb)-на-различных-этапах-очистки-2.1\"><span class=\"toc-item-num\">2.1&nbsp;&nbsp;</span>Концентрация металлов (Au, Ag, Pb) на различных этапах очистки</a></span></li><li><span><a href=\"#Сравнение-размеров-гранул-сырья-на-обучающей-и-тестовой-выборках\" data-toc-modified-id=\"Сравнение-размеров-гранул-сырья-на-обучающей-и-тестовой-выборках-2.2\"><span class=\"toc-item-num\">2.2&nbsp;&nbsp;</span>Сравнение размеров гранул сырья на обучающей и тестовой выборках</a></span></li><li><span><a href=\"#Суммарная-концентрация-всех-веществ-на-разных-стадиях:-в-сырье,-в-черновом-и-финальном-концентратах.\" data-toc-modified-id=\"Суммарная-концентрация-всех-веществ-на-разных-стадиях:-в-сырье,-в-черновом-и-финальном-концентратах.-2.3\"><span class=\"toc-item-num\">2.3&nbsp;&nbsp;</span>Суммарная концентрация всех веществ на разных стадиях: в сырье, в черновом и финальном концентратах.</a></span></li></ul></li><li><span><a href=\"#Модель\" data-toc-modified-id=\"Модель-3\"><span class=\"toc-item-num\">3&nbsp;&nbsp;</span>Модель</a></span><ul class=\"toc-item\"><li><span><a href=\"#Функция-для-вычисления-итоговой-sMAPE\" data-toc-modified-id=\"Функция-для-вычисления-итоговой-sMAPE-3.1\"><span class=\"toc-item-num\">3.1&nbsp;&nbsp;</span>Функция для вычисления итоговой sMAPE</a></span></li><li><span><a href=\"#Подбор-и-обучение-модели\" data-toc-modified-id=\"Подбор-и-обучение-модели-3.2\"><span class=\"toc-item-num\">3.2&nbsp;&nbsp;</span>Подбор и обучение модели</a></span></li><li><span><a href=\"#Проверка-модели-на-тестовой-выборке\" data-toc-modified-id=\"Проверка-модели-на-тестовой-выборке-3.3\"><span class=\"toc-item-num\">3.3&nbsp;&nbsp;</span>Проверка модели на тестовой выборке</a></span></li></ul></li><li><span><a href=\"#Вывод\" data-toc-modified-id=\"Вывод-4\"><span class=\"toc-item-num\">4&nbsp;&nbsp;</span>Вывод</a></span></li><li><span><a href=\"#Чек-лист-готовности-проекта\" data-toc-modified-id=\"Чек-лист-готовности-проекта-5\"><span class=\"toc-item-num\">5&nbsp;&nbsp;</span>Чек-лист готовности проекта</a></span></li></ul></div>"
   ]
  },
  {
   "cell_type": "markdown",
   "metadata": {},
   "source": [
    "# Восстановление золота из руды"
   ]
  },
  {
   "cell_type": "markdown",
   "metadata": {},
   "source": [
    "Подготовьте прототип модели машинного обучения для «Цифры». Компания разрабатывает решения для эффективной работы промышленных предприятий.\n",
    "\n",
    "Модель должна предсказать коэффициент восстановления золота из золотосодержащей руды. Используйте данные с параметрами добычи и очистки. \n",
    "\n",
    "Модель поможет оптимизировать производство, чтобы не запускать предприятие с убыточными характеристиками.\n",
    "\n",
    "Вам нужно:\n",
    "\n",
    "1. Подготовить данные;\n",
    "2. Провести исследовательский анализ данных;\n",
    "3. Построить и обучить модель.\n"
   ]
  },
  {
   "cell_type": "markdown",
   "metadata": {},
   "source": [
    "Описание данных:\n",
    "* Технологический процесс\n",
    "* Rougher feed — исходное сырье\n",
    "* Rougher additions (или reagent additions) — флотационные реагенты: Xanthate, Sulphate, Depressant\n",
    "* Xanthate — ксантогенат (промотер, или активатор флотации);\n",
    "* Sulphate — сульфат (на данном производстве сульфид натрия);\n",
    "* Depressant — депрессант (силикат натрия).\n",
    "* Rougher process (англ. «грубый процесс») — флотация\n",
    "* Rougher tails — отвальные хвосты\n",
    "* Float banks — флотационная установка\n",
    "* Cleaner process — очистка\n",
    "* Rougher Au — черновой концентрат золота\n",
    "* Final Au — финальный концентрат золота\n",
    "\n",
    "\n",
    "Параметры этапов\n",
    "* air amount — объём воздуха\n",
    "* fluid levels — уровень жидкости\n",
    "* feed size — размер гранул сырья\n",
    "* feed rate — скорость подачи\n",
    "\n",
    "\n",
    "Наименование признаков\n",
    "Наименование признаков должно быть такое: [этап].[тип_параметра].[название_параметра] Пример: rougher.input.feed_ag\n",
    "\n",
    "Возможные значения для блока [этап]:\n",
    "* rougher — флотация\n",
    "* primary_cleaner — первичная очистка\n",
    "* secondary_cleaner — вторичная очистка\n",
    "* final — финальные характеристики\n",
    "\n",
    "\n",
    "Возможные значения для блока [тип_параметра]:\n",
    "* input — параметры сырья\n",
    "* output — параметры продукта\n",
    "* state — параметры, характеризующие текущее состояние этапа\n",
    "* calculation — расчётные характеристики"
   ]
  },
  {
   "cell_type": "markdown",
   "metadata": {},
   "source": [
    "Цель работы: Нужно спрогнозировать сразу две величины:\n",
    "- эффективность обогащения чернового концентрата **rougher.output.recovery**;\n",
    "- эффективность обогащения финального концентрата **final.output.recovery**."
   ]
  },
  {
   "cell_type": "markdown",
   "metadata": {},
   "source": [
    "План работы:\n",
    "1. Подготовка данных\n",
    "    - Изучение данных.\n",
    "    - Проверить расчет эффективности обогащения рассчитана правильно.\n",
    "    - Проанализировать признаки, недоступные в тестовой выборке. \n",
    "2. Проанализировать данные\n",
    "    - Изучить концентрацию металлов (Au, Ag, Pb) на различных этапах очистки.\n",
    "    - Сравнить распределения размеров гранул сырья на обучающей и тестовой выборках.\n",
    "    - Исследовать суммарную концентрацию всех веществ на разных стадиях: в сырье, в черновом и финальном концентратах.\n",
    "3. Построить модель\n",
    "    - Написать функцию для вычисления итоговой sMAPE.\n",
    "    - Обучить разные модели и оцените их качество кросс-валидацией.\n",
    "    - Выберать лучшую модель и проверьте её на тестовой выборке.\n",
    "4. Выводы."
   ]
  },
  {
   "cell_type": "markdown",
   "metadata": {},
   "source": [
    "## Подготовка данных"
   ]
  },
  {
   "cell_type": "code",
   "execution_count": 84,
   "metadata": {},
   "outputs": [],
   "source": [
    "import pandas as pd\n",
    "import numpy as np\n",
    "import seaborn as sns\n",
    "import matplotlib.pyplot as plt\n",
    "from sklearn.metrics import make_scorer, mean_absolute_error\n",
    "from sklearn.model_selection import cross_val_score, TimeSeriesSplit, GridSearchCV\n",
    "from sklearn.linear_model import LinearRegression\n",
    "from sklearn.ensemble import RandomForestRegressor\n",
    "from sklearn.impute import SimpleImputer\n",
    "from sklearn.preprocessing import StandardScaler\n",
    "from sklearn.tree import DecisionTreeClassifier\n",
    "from sklearn.dummy import DummyRegressor"
   ]
  },
  {
   "cell_type": "code",
   "execution_count": 85,
   "metadata": {},
   "outputs": [],
   "source": [
    "pd.options.display.float_format = '{:,.2f}'.format"
   ]
  },
  {
   "cell_type": "code",
   "execution_count": 86,
   "metadata": {},
   "outputs": [],
   "source": [
    "data_train = pd.read_csv('/datasets/gold_recovery_train_new.csv') # обучающая выборка\n",
    "data_test = pd.read_csv('/datasets/gold_recovery_test_new.csv') # тестовая выборка\n",
    "data_full = pd.read_csv('/datasets/gold_recovery_full_new.csv') # исходные данные"
   ]
  },
  {
   "cell_type": "markdown",
   "metadata": {},
   "source": [
    "### Знакомство с данными"
   ]
  },
  {
   "cell_type": "code",
   "execution_count": 87,
   "metadata": {
    "scrolled": false
   },
   "outputs": [],
   "source": [
    "def play(df):\n",
    "    df['date'] = pd.to_datetime(df['date'], format='%Y-%m-%d %H:%M')\n",
    "    df.info()\n",
    "    df.isna().sum().plot.bar(figsize=(20,10))\n",
    "    display(df.head())\n",
    "    print('Количество признаков', df.shape[1], 'количество наблюдений', df.shape[0])\n"
   ]
  },
  {
   "cell_type": "code",
   "execution_count": 88,
   "metadata": {
    "scrolled": true
   },
   "outputs": [
    {
     "name": "stdout",
     "output_type": "stream",
     "text": [
      "<class 'pandas.core.frame.DataFrame'>\n",
      "RangeIndex: 14149 entries, 0 to 14148\n",
      "Data columns (total 87 columns):\n",
      " #   Column                                              Non-Null Count  Dtype         \n",
      "---  ------                                              --------------  -----         \n",
      " 0   date                                                14149 non-null  datetime64[ns]\n",
      " 1   final.output.concentrate_ag                         14148 non-null  float64       \n",
      " 2   final.output.concentrate_pb                         14148 non-null  float64       \n",
      " 3   final.output.concentrate_sol                        13938 non-null  float64       \n",
      " 4   final.output.concentrate_au                         14149 non-null  float64       \n",
      " 5   final.output.recovery                               14149 non-null  float64       \n",
      " 6   final.output.tail_ag                                14149 non-null  float64       \n",
      " 7   final.output.tail_pb                                14049 non-null  float64       \n",
      " 8   final.output.tail_sol                               14144 non-null  float64       \n",
      " 9   final.output.tail_au                                14149 non-null  float64       \n",
      " 10  primary_cleaner.input.sulfate                       14129 non-null  float64       \n",
      " 11  primary_cleaner.input.depressant                    14117 non-null  float64       \n",
      " 12  primary_cleaner.input.feed_size                     14149 non-null  float64       \n",
      " 13  primary_cleaner.input.xanthate                      14049 non-null  float64       \n",
      " 14  primary_cleaner.output.concentrate_ag               14149 non-null  float64       \n",
      " 15  primary_cleaner.output.concentrate_pb               14063 non-null  float64       \n",
      " 16  primary_cleaner.output.concentrate_sol              13863 non-null  float64       \n",
      " 17  primary_cleaner.output.concentrate_au               14149 non-null  float64       \n",
      " 18  primary_cleaner.output.tail_ag                      14148 non-null  float64       \n",
      " 19  primary_cleaner.output.tail_pb                      14134 non-null  float64       \n",
      " 20  primary_cleaner.output.tail_sol                     14103 non-null  float64       \n",
      " 21  primary_cleaner.output.tail_au                      14149 non-null  float64       \n",
      " 22  primary_cleaner.state.floatbank8_a_air              14145 non-null  float64       \n",
      " 23  primary_cleaner.state.floatbank8_a_level            14148 non-null  float64       \n",
      " 24  primary_cleaner.state.floatbank8_b_air              14145 non-null  float64       \n",
      " 25  primary_cleaner.state.floatbank8_b_level            14148 non-null  float64       \n",
      " 26  primary_cleaner.state.floatbank8_c_air              14147 non-null  float64       \n",
      " 27  primary_cleaner.state.floatbank8_c_level            14148 non-null  float64       \n",
      " 28  primary_cleaner.state.floatbank8_d_air              14146 non-null  float64       \n",
      " 29  primary_cleaner.state.floatbank8_d_level            14148 non-null  float64       \n",
      " 30  rougher.calculation.sulfate_to_au_concentrate       14148 non-null  float64       \n",
      " 31  rougher.calculation.floatbank10_sulfate_to_au_feed  14148 non-null  float64       \n",
      " 32  rougher.calculation.floatbank11_sulfate_to_au_feed  14148 non-null  float64       \n",
      " 33  rougher.calculation.au_pb_ratio                     14149 non-null  float64       \n",
      " 34  rougher.input.feed_ag                               14149 non-null  float64       \n",
      " 35  rougher.input.feed_pb                               14049 non-null  float64       \n",
      " 36  rougher.input.feed_rate                             14141 non-null  float64       \n",
      " 37  rougher.input.feed_size                             14005 non-null  float64       \n",
      " 38  rougher.input.feed_sol                              14071 non-null  float64       \n",
      " 39  rougher.input.feed_au                               14149 non-null  float64       \n",
      " 40  rougher.input.floatbank10_sulfate                   14120 non-null  float64       \n",
      " 41  rougher.input.floatbank10_xanthate                  14141 non-null  float64       \n",
      " 42  rougher.input.floatbank11_sulfate                   14113 non-null  float64       \n",
      " 43  rougher.input.floatbank11_xanthate                  13721 non-null  float64       \n",
      " 44  rougher.output.concentrate_ag                       14149 non-null  float64       \n",
      " 45  rougher.output.concentrate_pb                       14149 non-null  float64       \n",
      " 46  rougher.output.concentrate_sol                      14127 non-null  float64       \n",
      " 47  rougher.output.concentrate_au                       14149 non-null  float64       \n",
      " 48  rougher.output.recovery                             14149 non-null  float64       \n",
      " 49  rougher.output.tail_ag                              14148 non-null  float64       \n",
      " 50  rougher.output.tail_pb                              14149 non-null  float64       \n",
      " 51  rougher.output.tail_sol                             14149 non-null  float64       \n",
      " 52  rougher.output.tail_au                              14149 non-null  float64       \n",
      " 53  rougher.state.floatbank10_a_air                     14148 non-null  float64       \n",
      " 54  rougher.state.floatbank10_a_level                   14148 non-null  float64       \n",
      " 55  rougher.state.floatbank10_b_air                     14148 non-null  float64       \n",
      " 56  rougher.state.floatbank10_b_level                   14148 non-null  float64       \n",
      " 57  rougher.state.floatbank10_c_air                     14148 non-null  float64       \n",
      " 58  rougher.state.floatbank10_c_level                   14148 non-null  float64       \n",
      " 59  rougher.state.floatbank10_d_air                     14149 non-null  float64       \n",
      " 60  rougher.state.floatbank10_d_level                   14149 non-null  float64       \n",
      " 61  rougher.state.floatbank10_e_air                     13713 non-null  float64       \n",
      " 62  rougher.state.floatbank10_e_level                   14149 non-null  float64       \n",
      " 63  rougher.state.floatbank10_f_air                     14149 non-null  float64       \n",
      " 64  rougher.state.floatbank10_f_level                   14149 non-null  float64       \n",
      " 65  secondary_cleaner.output.tail_ag                    14147 non-null  float64       \n",
      " 66  secondary_cleaner.output.tail_pb                    14139 non-null  float64       \n",
      " 67  secondary_cleaner.output.tail_sol                   12544 non-null  float64       \n",
      " 68  secondary_cleaner.output.tail_au                    14149 non-null  float64       \n",
      " 69  secondary_cleaner.state.floatbank2_a_air            13932 non-null  float64       \n",
      " 70  secondary_cleaner.state.floatbank2_a_level          14148 non-null  float64       \n",
      " 71  secondary_cleaner.state.floatbank2_b_air            14128 non-null  float64       \n",
      " 72  secondary_cleaner.state.floatbank2_b_level          14148 non-null  float64       \n",
      " 73  secondary_cleaner.state.floatbank3_a_air            14145 non-null  float64       \n",
      " 74  secondary_cleaner.state.floatbank3_a_level          14148 non-null  float64       \n",
      " 75  secondary_cleaner.state.floatbank3_b_air            14148 non-null  float64       \n",
      " 76  secondary_cleaner.state.floatbank3_b_level          14148 non-null  float64       \n",
      " 77  secondary_cleaner.state.floatbank4_a_air            14143 non-null  float64       \n",
      " 78  secondary_cleaner.state.floatbank4_a_level          14148 non-null  float64       \n",
      " 79  secondary_cleaner.state.floatbank4_b_air            14148 non-null  float64       \n",
      " 80  secondary_cleaner.state.floatbank4_b_level          14148 non-null  float64       \n",
      " 81  secondary_cleaner.state.floatbank5_a_air            14148 non-null  float64       \n",
      " 82  secondary_cleaner.state.floatbank5_a_level          14148 non-null  float64       \n",
      " 83  secondary_cleaner.state.floatbank5_b_air            14148 non-null  float64       \n",
      " 84  secondary_cleaner.state.floatbank5_b_level          14148 non-null  float64       \n",
      " 85  secondary_cleaner.state.floatbank6_a_air            14147 non-null  float64       \n",
      " 86  secondary_cleaner.state.floatbank6_a_level          14148 non-null  float64       \n",
      "dtypes: datetime64[ns](1), float64(86)\n",
      "memory usage: 9.4 MB\n"
     ]
    },
    {
     "data": {
      "text/html": [
       "<div>\n",
       "<style scoped>\n",
       "    .dataframe tbody tr th:only-of-type {\n",
       "        vertical-align: middle;\n",
       "    }\n",
       "\n",
       "    .dataframe tbody tr th {\n",
       "        vertical-align: top;\n",
       "    }\n",
       "\n",
       "    .dataframe thead th {\n",
       "        text-align: right;\n",
       "    }\n",
       "</style>\n",
       "<table border=\"1\" class=\"dataframe\">\n",
       "  <thead>\n",
       "    <tr style=\"text-align: right;\">\n",
       "      <th></th>\n",
       "      <th>date</th>\n",
       "      <th>final.output.concentrate_ag</th>\n",
       "      <th>final.output.concentrate_pb</th>\n",
       "      <th>final.output.concentrate_sol</th>\n",
       "      <th>final.output.concentrate_au</th>\n",
       "      <th>final.output.recovery</th>\n",
       "      <th>final.output.tail_ag</th>\n",
       "      <th>final.output.tail_pb</th>\n",
       "      <th>final.output.tail_sol</th>\n",
       "      <th>final.output.tail_au</th>\n",
       "      <th>...</th>\n",
       "      <th>secondary_cleaner.state.floatbank4_a_air</th>\n",
       "      <th>secondary_cleaner.state.floatbank4_a_level</th>\n",
       "      <th>secondary_cleaner.state.floatbank4_b_air</th>\n",
       "      <th>secondary_cleaner.state.floatbank4_b_level</th>\n",
       "      <th>secondary_cleaner.state.floatbank5_a_air</th>\n",
       "      <th>secondary_cleaner.state.floatbank5_a_level</th>\n",
       "      <th>secondary_cleaner.state.floatbank5_b_air</th>\n",
       "      <th>secondary_cleaner.state.floatbank5_b_level</th>\n",
       "      <th>secondary_cleaner.state.floatbank6_a_air</th>\n",
       "      <th>secondary_cleaner.state.floatbank6_a_level</th>\n",
       "    </tr>\n",
       "  </thead>\n",
       "  <tbody>\n",
       "    <tr>\n",
       "      <th>0</th>\n",
       "      <td>2016-01-15 00:00:00</td>\n",
       "      <td>6.06</td>\n",
       "      <td>9.89</td>\n",
       "      <td>5.51</td>\n",
       "      <td>42.19</td>\n",
       "      <td>70.54</td>\n",
       "      <td>10.41</td>\n",
       "      <td>0.90</td>\n",
       "      <td>16.90</td>\n",
       "      <td>2.14</td>\n",
       "      <td>...</td>\n",
       "      <td>14.02</td>\n",
       "      <td>-502.49</td>\n",
       "      <td>12.10</td>\n",
       "      <td>-504.72</td>\n",
       "      <td>9.93</td>\n",
       "      <td>-498.31</td>\n",
       "      <td>8.08</td>\n",
       "      <td>-500.47</td>\n",
       "      <td>14.15</td>\n",
       "      <td>-605.84</td>\n",
       "    </tr>\n",
       "    <tr>\n",
       "      <th>1</th>\n",
       "      <td>2016-01-15 01:00:00</td>\n",
       "      <td>6.03</td>\n",
       "      <td>9.97</td>\n",
       "      <td>5.26</td>\n",
       "      <td>42.70</td>\n",
       "      <td>69.27</td>\n",
       "      <td>10.46</td>\n",
       "      <td>0.93</td>\n",
       "      <td>16.63</td>\n",
       "      <td>2.22</td>\n",
       "      <td>...</td>\n",
       "      <td>13.99</td>\n",
       "      <td>-505.50</td>\n",
       "      <td>11.95</td>\n",
       "      <td>-501.33</td>\n",
       "      <td>10.04</td>\n",
       "      <td>-500.17</td>\n",
       "      <td>7.98</td>\n",
       "      <td>-500.58</td>\n",
       "      <td>14.00</td>\n",
       "      <td>-599.79</td>\n",
       "    </tr>\n",
       "    <tr>\n",
       "      <th>2</th>\n",
       "      <td>2016-01-15 02:00:00</td>\n",
       "      <td>6.06</td>\n",
       "      <td>10.21</td>\n",
       "      <td>5.38</td>\n",
       "      <td>42.66</td>\n",
       "      <td>68.12</td>\n",
       "      <td>10.51</td>\n",
       "      <td>0.95</td>\n",
       "      <td>16.21</td>\n",
       "      <td>2.26</td>\n",
       "      <td>...</td>\n",
       "      <td>14.02</td>\n",
       "      <td>-502.52</td>\n",
       "      <td>11.91</td>\n",
       "      <td>-501.13</td>\n",
       "      <td>10.07</td>\n",
       "      <td>-500.13</td>\n",
       "      <td>8.01</td>\n",
       "      <td>-500.52</td>\n",
       "      <td>14.03</td>\n",
       "      <td>-601.43</td>\n",
       "    </tr>\n",
       "    <tr>\n",
       "      <th>3</th>\n",
       "      <td>2016-01-15 03:00:00</td>\n",
       "      <td>6.05</td>\n",
       "      <td>9.98</td>\n",
       "      <td>4.86</td>\n",
       "      <td>42.69</td>\n",
       "      <td>68.35</td>\n",
       "      <td>10.42</td>\n",
       "      <td>0.88</td>\n",
       "      <td>16.53</td>\n",
       "      <td>2.15</td>\n",
       "      <td>...</td>\n",
       "      <td>14.04</td>\n",
       "      <td>-500.86</td>\n",
       "      <td>12.00</td>\n",
       "      <td>-501.19</td>\n",
       "      <td>9.97</td>\n",
       "      <td>-499.20</td>\n",
       "      <td>7.98</td>\n",
       "      <td>-500.26</td>\n",
       "      <td>14.01</td>\n",
       "      <td>-600.00</td>\n",
       "    </tr>\n",
       "    <tr>\n",
       "      <th>4</th>\n",
       "      <td>2016-01-15 04:00:00</td>\n",
       "      <td>6.15</td>\n",
       "      <td>10.14</td>\n",
       "      <td>4.94</td>\n",
       "      <td>42.77</td>\n",
       "      <td>66.93</td>\n",
       "      <td>10.36</td>\n",
       "      <td>0.79</td>\n",
       "      <td>16.53</td>\n",
       "      <td>2.06</td>\n",
       "      <td>...</td>\n",
       "      <td>14.03</td>\n",
       "      <td>-499.84</td>\n",
       "      <td>11.95</td>\n",
       "      <td>-501.05</td>\n",
       "      <td>9.93</td>\n",
       "      <td>-501.69</td>\n",
       "      <td>7.89</td>\n",
       "      <td>-500.36</td>\n",
       "      <td>14.00</td>\n",
       "      <td>-601.50</td>\n",
       "    </tr>\n",
       "  </tbody>\n",
       "</table>\n",
       "<p>5 rows × 87 columns</p>\n",
       "</div>"
      ],
      "text/plain": [
       "                 date  final.output.concentrate_ag  \\\n",
       "0 2016-01-15 00:00:00                         6.06   \n",
       "1 2016-01-15 01:00:00                         6.03   \n",
       "2 2016-01-15 02:00:00                         6.06   \n",
       "3 2016-01-15 03:00:00                         6.05   \n",
       "4 2016-01-15 04:00:00                         6.15   \n",
       "\n",
       "   final.output.concentrate_pb  final.output.concentrate_sol  \\\n",
       "0                         9.89                          5.51   \n",
       "1                         9.97                          5.26   \n",
       "2                        10.21                          5.38   \n",
       "3                         9.98                          4.86   \n",
       "4                        10.14                          4.94   \n",
       "\n",
       "   final.output.concentrate_au  final.output.recovery  final.output.tail_ag  \\\n",
       "0                        42.19                  70.54                 10.41   \n",
       "1                        42.70                  69.27                 10.46   \n",
       "2                        42.66                  68.12                 10.51   \n",
       "3                        42.69                  68.35                 10.42   \n",
       "4                        42.77                  66.93                 10.36   \n",
       "\n",
       "   final.output.tail_pb  final.output.tail_sol  final.output.tail_au  ...  \\\n",
       "0                  0.90                  16.90                  2.14  ...   \n",
       "1                  0.93                  16.63                  2.22  ...   \n",
       "2                  0.95                  16.21                  2.26  ...   \n",
       "3                  0.88                  16.53                  2.15  ...   \n",
       "4                  0.79                  16.53                  2.06  ...   \n",
       "\n",
       "   secondary_cleaner.state.floatbank4_a_air  \\\n",
       "0                                     14.02   \n",
       "1                                     13.99   \n",
       "2                                     14.02   \n",
       "3                                     14.04   \n",
       "4                                     14.03   \n",
       "\n",
       "   secondary_cleaner.state.floatbank4_a_level  \\\n",
       "0                                     -502.49   \n",
       "1                                     -505.50   \n",
       "2                                     -502.52   \n",
       "3                                     -500.86   \n",
       "4                                     -499.84   \n",
       "\n",
       "   secondary_cleaner.state.floatbank4_b_air  \\\n",
       "0                                     12.10   \n",
       "1                                     11.95   \n",
       "2                                     11.91   \n",
       "3                                     12.00   \n",
       "4                                     11.95   \n",
       "\n",
       "   secondary_cleaner.state.floatbank4_b_level  \\\n",
       "0                                     -504.72   \n",
       "1                                     -501.33   \n",
       "2                                     -501.13   \n",
       "3                                     -501.19   \n",
       "4                                     -501.05   \n",
       "\n",
       "   secondary_cleaner.state.floatbank5_a_air  \\\n",
       "0                                      9.93   \n",
       "1                                     10.04   \n",
       "2                                     10.07   \n",
       "3                                      9.97   \n",
       "4                                      9.93   \n",
       "\n",
       "   secondary_cleaner.state.floatbank5_a_level  \\\n",
       "0                                     -498.31   \n",
       "1                                     -500.17   \n",
       "2                                     -500.13   \n",
       "3                                     -499.20   \n",
       "4                                     -501.69   \n",
       "\n",
       "   secondary_cleaner.state.floatbank5_b_air  \\\n",
       "0                                      8.08   \n",
       "1                                      7.98   \n",
       "2                                      8.01   \n",
       "3                                      7.98   \n",
       "4                                      7.89   \n",
       "\n",
       "   secondary_cleaner.state.floatbank5_b_level  \\\n",
       "0                                     -500.47   \n",
       "1                                     -500.58   \n",
       "2                                     -500.52   \n",
       "3                                     -500.26   \n",
       "4                                     -500.36   \n",
       "\n",
       "   secondary_cleaner.state.floatbank6_a_air  \\\n",
       "0                                     14.15   \n",
       "1                                     14.00   \n",
       "2                                     14.03   \n",
       "3                                     14.01   \n",
       "4                                     14.00   \n",
       "\n",
       "   secondary_cleaner.state.floatbank6_a_level  \n",
       "0                                     -605.84  \n",
       "1                                     -599.79  \n",
       "2                                     -601.43  \n",
       "3                                     -600.00  \n",
       "4                                     -601.50  \n",
       "\n",
       "[5 rows x 87 columns]"
      ]
     },
     "metadata": {},
     "output_type": "display_data"
    },
    {
     "name": "stdout",
     "output_type": "stream",
     "text": [
      "Количество признаков 87 количество наблюдений 14149\n"
     ]
    },
    {
     "data": {
      "image/png": "[encoded data removed]",
      "text/plain": [
       "<Figure size 1440x720 with 1 Axes>"
      ]
     },
     "metadata": {
      "needs_background": "light"
     },
     "output_type": "display_data"
    }
   ],
   "source": [
    "play(data_train)"
   ]
  },
  {
   "cell_type": "code",
   "execution_count": 89,
   "metadata": {
    "scrolled": true
   },
   "outputs": [
    {
     "name": "stdout",
     "output_type": "stream",
     "text": [
      "<class 'pandas.core.frame.DataFrame'>\n",
      "RangeIndex: 5290 entries, 0 to 5289\n",
      "Data columns (total 53 columns):\n",
      " #   Column                                      Non-Null Count  Dtype         \n",
      "---  ------                                      --------------  -----         \n",
      " 0   date                                        5290 non-null   datetime64[ns]\n",
      " 1   primary_cleaner.input.sulfate               5286 non-null   float64       \n",
      " 2   primary_cleaner.input.depressant            5285 non-null   float64       \n",
      " 3   primary_cleaner.input.feed_size             5290 non-null   float64       \n",
      " 4   primary_cleaner.input.xanthate              5286 non-null   float64       \n",
      " 5   primary_cleaner.state.floatbank8_a_air      5290 non-null   float64       \n",
      " 6   primary_cleaner.state.floatbank8_a_level    5290 non-null   float64       \n",
      " 7   primary_cleaner.state.floatbank8_b_air      5290 non-null   float64       \n",
      " 8   primary_cleaner.state.floatbank8_b_level    5290 non-null   float64       \n",
      " 9   primary_cleaner.state.floatbank8_c_air      5290 non-null   float64       \n",
      " 10  primary_cleaner.state.floatbank8_c_level    5290 non-null   float64       \n",
      " 11  primary_cleaner.state.floatbank8_d_air      5290 non-null   float64       \n",
      " 12  primary_cleaner.state.floatbank8_d_level    5290 non-null   float64       \n",
      " 13  rougher.input.feed_ag                       5290 non-null   float64       \n",
      " 14  rougher.input.feed_pb                       5290 non-null   float64       \n",
      " 15  rougher.input.feed_rate                     5287 non-null   float64       \n",
      " 16  rougher.input.feed_size                     5289 non-null   float64       \n",
      " 17  rougher.input.feed_sol                      5269 non-null   float64       \n",
      " 18  rougher.input.feed_au                       5290 non-null   float64       \n",
      " 19  rougher.input.floatbank10_sulfate           5285 non-null   float64       \n",
      " 20  rougher.input.floatbank10_xanthate          5290 non-null   float64       \n",
      " 21  rougher.input.floatbank11_sulfate           5282 non-null   float64       \n",
      " 22  rougher.input.floatbank11_xanthate          5265 non-null   float64       \n",
      " 23  rougher.state.floatbank10_a_air             5290 non-null   float64       \n",
      " 24  rougher.state.floatbank10_a_level           5290 non-null   float64       \n",
      " 25  rougher.state.floatbank10_b_air             5290 non-null   float64       \n",
      " 26  rougher.state.floatbank10_b_level           5290 non-null   float64       \n",
      " 27  rougher.state.floatbank10_c_air             5290 non-null   float64       \n",
      " 28  rougher.state.floatbank10_c_level           5290 non-null   float64       \n",
      " 29  rougher.state.floatbank10_d_air             5290 non-null   float64       \n",
      " 30  rougher.state.floatbank10_d_level           5290 non-null   float64       \n",
      " 31  rougher.state.floatbank10_e_air             5290 non-null   float64       \n",
      " 32  rougher.state.floatbank10_e_level           5290 non-null   float64       \n",
      " 33  rougher.state.floatbank10_f_air             5290 non-null   float64       \n",
      " 34  rougher.state.floatbank10_f_level           5290 non-null   float64       \n",
      " 35  secondary_cleaner.state.floatbank2_a_air    5287 non-null   float64       \n",
      " 36  secondary_cleaner.state.floatbank2_a_level  5290 non-null   float64       \n",
      " 37  secondary_cleaner.state.floatbank2_b_air    5288 non-null   float64       \n",
      " 38  secondary_cleaner.state.floatbank2_b_level  5290 non-null   float64       \n",
      " 39  secondary_cleaner.state.floatbank3_a_air    5281 non-null   float64       \n",
      " 40  secondary_cleaner.state.floatbank3_a_level  5290 non-null   float64       \n",
      " 41  secondary_cleaner.state.floatbank3_b_air    5290 non-null   float64       \n",
      " 42  secondary_cleaner.state.floatbank3_b_level  5290 non-null   float64       \n",
      " 43  secondary_cleaner.state.floatbank4_a_air    5290 non-null   float64       \n",
      " 44  secondary_cleaner.state.floatbank4_a_level  5290 non-null   float64       \n",
      " 45  secondary_cleaner.state.floatbank4_b_air    5290 non-null   float64       \n",
      " 46  secondary_cleaner.state.floatbank4_b_level  5290 non-null   float64       \n",
      " 47  secondary_cleaner.state.floatbank5_a_air    5290 non-null   float64       \n",
      " 48  secondary_cleaner.state.floatbank5_a_level  5290 non-null   float64       \n",
      " 49  secondary_cleaner.state.floatbank5_b_air    5290 non-null   float64       \n",
      " 50  secondary_cleaner.state.floatbank5_b_level  5290 non-null   float64       \n",
      " 51  secondary_cleaner.state.floatbank6_a_air    5290 non-null   float64       \n",
      " 52  secondary_cleaner.state.floatbank6_a_level  5290 non-null   float64       \n",
      "dtypes: datetime64[ns](1), float64(52)\n",
      "memory usage: 2.1 MB\n"
     ]
    },
    {
     "data": {
      "text/html": [
       "<div>\n",
       "<style scoped>\n",
       "    .dataframe tbody tr th:only-of-type {\n",
       "        vertical-align: middle;\n",
       "    }\n",
       "\n",
       "    .dataframe tbody tr th {\n",
       "        vertical-align: top;\n",
       "    }\n",
       "\n",
       "    .dataframe thead th {\n",
       "        text-align: right;\n",
       "    }\n",
       "</style>\n",
       "<table border=\"1\" class=\"dataframe\">\n",
       "  <thead>\n",
       "    <tr style=\"text-align: right;\">\n",
       "      <th></th>\n",
       "      <th>date</th>\n",
       "      <th>primary_cleaner.input.sulfate</th>\n",
       "      <th>primary_cleaner.input.depressant</th>\n",
       "      <th>primary_cleaner.input.feed_size</th>\n",
       "      <th>primary_cleaner.input.xanthate</th>\n",
       "      <th>primary_cleaner.state.floatbank8_a_air</th>\n",
       "      <th>primary_cleaner.state.floatbank8_a_level</th>\n",
       "      <th>primary_cleaner.state.floatbank8_b_air</th>\n",
       "      <th>primary_cleaner.state.floatbank8_b_level</th>\n",
       "      <th>primary_cleaner.state.floatbank8_c_air</th>\n",
       "      <th>...</th>\n",
       "      <th>secondary_cleaner.state.floatbank4_a_air</th>\n",
       "      <th>secondary_cleaner.state.floatbank4_a_level</th>\n",
       "      <th>secondary_cleaner.state.floatbank4_b_air</th>\n",
       "      <th>secondary_cleaner.state.floatbank4_b_level</th>\n",
       "      <th>secondary_cleaner.state.floatbank5_a_air</th>\n",
       "      <th>secondary_cleaner.state.floatbank5_a_level</th>\n",
       "      <th>secondary_cleaner.state.floatbank5_b_air</th>\n",
       "      <th>secondary_cleaner.state.floatbank5_b_level</th>\n",
       "      <th>secondary_cleaner.state.floatbank6_a_air</th>\n",
       "      <th>secondary_cleaner.state.floatbank6_a_level</th>\n",
       "    </tr>\n",
       "  </thead>\n",
       "  <tbody>\n",
       "    <tr>\n",
       "      <th>0</th>\n",
       "      <td>2016-09-01 00:59:59</td>\n",
       "      <td>210.80</td>\n",
       "      <td>14.99</td>\n",
       "      <td>8.08</td>\n",
       "      <td>1.01</td>\n",
       "      <td>1,398.98</td>\n",
       "      <td>-500.23</td>\n",
       "      <td>1,399.14</td>\n",
       "      <td>-499.92</td>\n",
       "      <td>1,400.10</td>\n",
       "      <td>...</td>\n",
       "      <td>12.02</td>\n",
       "      <td>-497.80</td>\n",
       "      <td>8.02</td>\n",
       "      <td>-501.29</td>\n",
       "      <td>7.95</td>\n",
       "      <td>-432.32</td>\n",
       "      <td>4.87</td>\n",
       "      <td>-500.04</td>\n",
       "      <td>26.71</td>\n",
       "      <td>-499.71</td>\n",
       "    </tr>\n",
       "    <tr>\n",
       "      <th>1</th>\n",
       "      <td>2016-09-01 01:59:59</td>\n",
       "      <td>215.39</td>\n",
       "      <td>14.99</td>\n",
       "      <td>8.08</td>\n",
       "      <td>0.99</td>\n",
       "      <td>1,398.78</td>\n",
       "      <td>-500.06</td>\n",
       "      <td>1,398.06</td>\n",
       "      <td>-499.78</td>\n",
       "      <td>1,396.15</td>\n",
       "      <td>...</td>\n",
       "      <td>12.06</td>\n",
       "      <td>-498.70</td>\n",
       "      <td>8.13</td>\n",
       "      <td>-499.63</td>\n",
       "      <td>7.96</td>\n",
       "      <td>-525.84</td>\n",
       "      <td>4.88</td>\n",
       "      <td>-500.16</td>\n",
       "      <td>25.02</td>\n",
       "      <td>-499.82</td>\n",
       "    </tr>\n",
       "    <tr>\n",
       "      <th>2</th>\n",
       "      <td>2016-09-01 02:59:59</td>\n",
       "      <td>215.26</td>\n",
       "      <td>12.88</td>\n",
       "      <td>7.79</td>\n",
       "      <td>1.00</td>\n",
       "      <td>1,398.49</td>\n",
       "      <td>-500.87</td>\n",
       "      <td>1,398.86</td>\n",
       "      <td>-499.76</td>\n",
       "      <td>1,398.08</td>\n",
       "      <td>...</td>\n",
       "      <td>11.96</td>\n",
       "      <td>-498.77</td>\n",
       "      <td>8.10</td>\n",
       "      <td>-500.83</td>\n",
       "      <td>8.07</td>\n",
       "      <td>-500.80</td>\n",
       "      <td>4.91</td>\n",
       "      <td>-499.83</td>\n",
       "      <td>24.99</td>\n",
       "      <td>-500.62</td>\n",
       "    </tr>\n",
       "    <tr>\n",
       "      <th>3</th>\n",
       "      <td>2016-09-01 03:59:59</td>\n",
       "      <td>215.34</td>\n",
       "      <td>12.01</td>\n",
       "      <td>7.64</td>\n",
       "      <td>0.86</td>\n",
       "      <td>1,399.62</td>\n",
       "      <td>-498.86</td>\n",
       "      <td>1,397.44</td>\n",
       "      <td>-499.21</td>\n",
       "      <td>1,400.13</td>\n",
       "      <td>...</td>\n",
       "      <td>12.03</td>\n",
       "      <td>-498.35</td>\n",
       "      <td>8.07</td>\n",
       "      <td>-499.47</td>\n",
       "      <td>7.90</td>\n",
       "      <td>-500.87</td>\n",
       "      <td>4.93</td>\n",
       "      <td>-499.96</td>\n",
       "      <td>24.95</td>\n",
       "      <td>-498.71</td>\n",
       "    </tr>\n",
       "    <tr>\n",
       "      <th>4</th>\n",
       "      <td>2016-09-01 04:59:59</td>\n",
       "      <td>199.10</td>\n",
       "      <td>10.68</td>\n",
       "      <td>7.53</td>\n",
       "      <td>0.81</td>\n",
       "      <td>1,401.27</td>\n",
       "      <td>-500.81</td>\n",
       "      <td>1,398.13</td>\n",
       "      <td>-499.50</td>\n",
       "      <td>1,402.17</td>\n",
       "      <td>...</td>\n",
       "      <td>12.03</td>\n",
       "      <td>-500.79</td>\n",
       "      <td>8.05</td>\n",
       "      <td>-500.40</td>\n",
       "      <td>8.11</td>\n",
       "      <td>-509.53</td>\n",
       "      <td>4.96</td>\n",
       "      <td>-500.36</td>\n",
       "      <td>25.00</td>\n",
       "      <td>-500.86</td>\n",
       "    </tr>\n",
       "  </tbody>\n",
       "</table>\n",
       "<p>5 rows × 53 columns</p>\n",
       "</div>"
      ],
      "text/plain": [
       "                 date  primary_cleaner.input.sulfate  \\\n",
       "0 2016-09-01 00:59:59                         210.80   \n",
       "1 2016-09-01 01:59:59                         215.39   \n",
       "2 2016-09-01 02:59:59                         215.26   \n",
       "3 2016-09-01 03:59:59                         215.34   \n",
       "4 2016-09-01 04:59:59                         199.10   \n",
       "\n",
       "   primary_cleaner.input.depressant  primary_cleaner.input.feed_size  \\\n",
       "0                             14.99                             8.08   \n",
       "1                             14.99                             8.08   \n",
       "2                             12.88                             7.79   \n",
       "3                             12.01                             7.64   \n",
       "4                             10.68                             7.53   \n",
       "\n",
       "   primary_cleaner.input.xanthate  primary_cleaner.state.floatbank8_a_air  \\\n",
       "0                            1.01                                1,398.98   \n",
       "1                            0.99                                1,398.78   \n",
       "2                            1.00                                1,398.49   \n",
       "3                            0.86                                1,399.62   \n",
       "4                            0.81                                1,401.27   \n",
       "\n",
       "   primary_cleaner.state.floatbank8_a_level  \\\n",
       "0                                   -500.23   \n",
       "1                                   -500.06   \n",
       "2                                   -500.87   \n",
       "3                                   -498.86   \n",
       "4                                   -500.81   \n",
       "\n",
       "   primary_cleaner.state.floatbank8_b_air  \\\n",
       "0                                1,399.14   \n",
       "1                                1,398.06   \n",
       "2                                1,398.86   \n",
       "3                                1,397.44   \n",
       "4                                1,398.13   \n",
       "\n",
       "   primary_cleaner.state.floatbank8_b_level  \\\n",
       "0                                   -499.92   \n",
       "1                                   -499.78   \n",
       "2                                   -499.76   \n",
       "3                                   -499.21   \n",
       "4                                   -499.50   \n",
       "\n",
       "   primary_cleaner.state.floatbank8_c_air  ...  \\\n",
       "0                                1,400.10  ...   \n",
       "1                                1,396.15  ...   \n",
       "2                                1,398.08  ...   \n",
       "3                                1,400.13  ...   \n",
       "4                                1,402.17  ...   \n",
       "\n",
       "   secondary_cleaner.state.floatbank4_a_air  \\\n",
       "0                                     12.02   \n",
       "1                                     12.06   \n",
       "2                                     11.96   \n",
       "3                                     12.03   \n",
       "4                                     12.03   \n",
       "\n",
       "   secondary_cleaner.state.floatbank4_a_level  \\\n",
       "0                                     -497.80   \n",
       "1                                     -498.70   \n",
       "2                                     -498.77   \n",
       "3                                     -498.35   \n",
       "4                                     -500.79   \n",
       "\n",
       "   secondary_cleaner.state.floatbank4_b_air  \\\n",
       "0                                      8.02   \n",
       "1                                      8.13   \n",
       "2                                      8.10   \n",
       "3                                      8.07   \n",
       "4                                      8.05   \n",
       "\n",
       "   secondary_cleaner.state.floatbank4_b_level  \\\n",
       "0                                     -501.29   \n",
       "1                                     -499.63   \n",
       "2                                     -500.83   \n",
       "3                                     -499.47   \n",
       "4                                     -500.40   \n",
       "\n",
       "   secondary_cleaner.state.floatbank5_a_air  \\\n",
       "0                                      7.95   \n",
       "1                                      7.96   \n",
       "2                                      8.07   \n",
       "3                                      7.90   \n",
       "4                                      8.11   \n",
       "\n",
       "   secondary_cleaner.state.floatbank5_a_level  \\\n",
       "0                                     -432.32   \n",
       "1                                     -525.84   \n",
       "2                                     -500.80   \n",
       "3                                     -500.87   \n",
       "4                                     -509.53   \n",
       "\n",
       "   secondary_cleaner.state.floatbank5_b_air  \\\n",
       "0                                      4.87   \n",
       "1                                      4.88   \n",
       "2                                      4.91   \n",
       "3                                      4.93   \n",
       "4                                      4.96   \n",
       "\n",
       "   secondary_cleaner.state.floatbank5_b_level  \\\n",
       "0                                     -500.04   \n",
       "1                                     -500.16   \n",
       "2                                     -499.83   \n",
       "3                                     -499.96   \n",
       "4                                     -500.36   \n",
       "\n",
       "   secondary_cleaner.state.floatbank6_a_air  \\\n",
       "0                                     26.71   \n",
       "1                                     25.02   \n",
       "2                                     24.99   \n",
       "3                                     24.95   \n",
       "4                                     25.00   \n",
       "\n",
       "   secondary_cleaner.state.floatbank6_a_level  \n",
       "0                                     -499.71  \n",
       "1                                     -499.82  \n",
       "2                                     -500.62  \n",
       "3                                     -498.71  \n",
       "4                                     -500.86  \n",
       "\n",
       "[5 rows x 53 columns]"
      ]
     },
     "metadata": {},
     "output_type": "display_data"
    },
    {
     "name": "stdout",
     "output_type": "stream",
     "text": [
      "Количество признаков 53 количество наблюдений 5290\n"
     ]
    },
    {
     "data": {
      "image/png": "[encoded data removed]",
      "text/plain": [
       "<Figure size 1440x720 with 1 Axes>"
      ]
     },
     "metadata": {
      "needs_background": "light"
     },
     "output_type": "display_data"
    }
   ],
   "source": [
    "play(data_test)"
   ]
  },
  {
   "cell_type": "code",
   "execution_count": 90,
   "metadata": {},
   "outputs": [
    {
     "name": "stdout",
     "output_type": "stream",
     "text": [
      "<class 'pandas.core.frame.DataFrame'>\n",
      "RangeIndex: 19439 entries, 0 to 19438\n",
      "Data columns (total 87 columns):\n",
      " #   Column                                              Non-Null Count  Dtype         \n",
      "---  ------                                              --------------  -----         \n",
      " 0   date                                                19439 non-null  datetime64[ns]\n",
      " 1   final.output.concentrate_ag                         19438 non-null  float64       \n",
      " 2   final.output.concentrate_pb                         19438 non-null  float64       \n",
      " 3   final.output.concentrate_sol                        19228 non-null  float64       \n",
      " 4   final.output.concentrate_au                         19439 non-null  float64       \n",
      " 5   final.output.recovery                               19439 non-null  float64       \n",
      " 6   final.output.tail_ag                                19438 non-null  float64       \n",
      " 7   final.output.tail_pb                                19338 non-null  float64       \n",
      " 8   final.output.tail_sol                               19433 non-null  float64       \n",
      " 9   final.output.tail_au                                19439 non-null  float64       \n",
      " 10  primary_cleaner.input.sulfate                       19415 non-null  float64       \n",
      " 11  primary_cleaner.input.depressant                    19402 non-null  float64       \n",
      " 12  primary_cleaner.input.feed_size                     19439 non-null  float64       \n",
      " 13  primary_cleaner.input.xanthate                      19335 non-null  float64       \n",
      " 14  primary_cleaner.output.concentrate_ag               19439 non-null  float64       \n",
      " 15  primary_cleaner.output.concentrate_pb               19323 non-null  float64       \n",
      " 16  primary_cleaner.output.concentrate_sol              19069 non-null  float64       \n",
      " 17  primary_cleaner.output.concentrate_au               19439 non-null  float64       \n",
      " 18  primary_cleaner.output.tail_ag                      19435 non-null  float64       \n",
      " 19  primary_cleaner.output.tail_pb                      19418 non-null  float64       \n",
      " 20  primary_cleaner.output.tail_sol                     19377 non-null  float64       \n",
      " 21  primary_cleaner.output.tail_au                      19439 non-null  float64       \n",
      " 22  primary_cleaner.state.floatbank8_a_air              19435 non-null  float64       \n",
      " 23  primary_cleaner.state.floatbank8_a_level            19438 non-null  float64       \n",
      " 24  primary_cleaner.state.floatbank8_b_air              19435 non-null  float64       \n",
      " 25  primary_cleaner.state.floatbank8_b_level            19438 non-null  float64       \n",
      " 26  primary_cleaner.state.floatbank8_c_air              19437 non-null  float64       \n",
      " 27  primary_cleaner.state.floatbank8_c_level            19438 non-null  float64       \n",
      " 28  primary_cleaner.state.floatbank8_d_air              19436 non-null  float64       \n",
      " 29  primary_cleaner.state.floatbank8_d_level            19438 non-null  float64       \n",
      " 30  rougher.calculation.sulfate_to_au_concentrate       19437 non-null  float64       \n",
      " 31  rougher.calculation.floatbank10_sulfate_to_au_feed  19437 non-null  float64       \n",
      " 32  rougher.calculation.floatbank11_sulfate_to_au_feed  19437 non-null  float64       \n",
      " 33  rougher.calculation.au_pb_ratio                     19439 non-null  float64       \n",
      " 34  rougher.input.feed_ag                               19439 non-null  float64       \n",
      " 35  rougher.input.feed_pb                               19339 non-null  float64       \n",
      " 36  rougher.input.feed_rate                             19428 non-null  float64       \n",
      " 37  rougher.input.feed_size                             19294 non-null  float64       \n",
      " 38  rougher.input.feed_sol                              19340 non-null  float64       \n",
      " 39  rougher.input.feed_au                               19439 non-null  float64       \n",
      " 40  rougher.input.floatbank10_sulfate                   19405 non-null  float64       \n",
      " 41  rougher.input.floatbank10_xanthate                  19431 non-null  float64       \n",
      " 42  rougher.input.floatbank11_sulfate                   19395 non-null  float64       \n",
      " 43  rougher.input.floatbank11_xanthate                  18986 non-null  float64       \n",
      " 44  rougher.output.concentrate_ag                       19439 non-null  float64       \n",
      " 45  rougher.output.concentrate_pb                       19439 non-null  float64       \n",
      " 46  rougher.output.concentrate_sol                      19416 non-null  float64       \n",
      " 47  rougher.output.concentrate_au                       19439 non-null  float64       \n",
      " 48  rougher.output.recovery                             19439 non-null  float64       \n",
      " 49  rougher.output.tail_ag                              19438 non-null  float64       \n",
      " 50  rougher.output.tail_pb                              19439 non-null  float64       \n",
      " 51  rougher.output.tail_sol                             19439 non-null  float64       \n",
      " 52  rougher.output.tail_au                              19439 non-null  float64       \n",
      " 53  rougher.state.floatbank10_a_air                     19438 non-null  float64       \n",
      " 54  rougher.state.floatbank10_a_level                   19438 non-null  float64       \n",
      " 55  rougher.state.floatbank10_b_air                     19438 non-null  float64       \n",
      " 56  rougher.state.floatbank10_b_level                   19438 non-null  float64       \n",
      " 57  rougher.state.floatbank10_c_air                     19438 non-null  float64       \n",
      " 58  rougher.state.floatbank10_c_level                   19438 non-null  float64       \n",
      " 59  rougher.state.floatbank10_d_air                     19439 non-null  float64       \n",
      " 60  rougher.state.floatbank10_d_level                   19439 non-null  float64       \n",
      " 61  rougher.state.floatbank10_e_air                     19003 non-null  float64       \n",
      " 62  rougher.state.floatbank10_e_level                   19439 non-null  float64       \n",
      " 63  rougher.state.floatbank10_f_air                     19439 non-null  float64       \n",
      " 64  rougher.state.floatbank10_f_level                   19439 non-null  float64       \n",
      " 65  secondary_cleaner.output.tail_ag                    19437 non-null  float64       \n",
      " 66  secondary_cleaner.output.tail_pb                    19427 non-null  float64       \n",
      " 67  secondary_cleaner.output.tail_sol                   17691 non-null  float64       \n",
      " 68  secondary_cleaner.output.tail_au                    19439 non-null  float64       \n",
      " 69  secondary_cleaner.state.floatbank2_a_air            19219 non-null  float64       \n",
      " 70  secondary_cleaner.state.floatbank2_a_level          19438 non-null  float64       \n",
      " 71  secondary_cleaner.state.floatbank2_b_air            19416 non-null  float64       \n",
      " 72  secondary_cleaner.state.floatbank2_b_level          19438 non-null  float64       \n",
      " 73  secondary_cleaner.state.floatbank3_a_air            19426 non-null  float64       \n",
      " 74  secondary_cleaner.state.floatbank3_a_level          19438 non-null  float64       \n",
      " 75  secondary_cleaner.state.floatbank3_b_air            19438 non-null  float64       \n",
      " 76  secondary_cleaner.state.floatbank3_b_level          19438 non-null  float64       \n",
      " 77  secondary_cleaner.state.floatbank4_a_air            19433 non-null  float64       \n",
      " 78  secondary_cleaner.state.floatbank4_a_level          19438 non-null  float64       \n",
      " 79  secondary_cleaner.state.floatbank4_b_air            19438 non-null  float64       \n",
      " 80  secondary_cleaner.state.floatbank4_b_level          19438 non-null  float64       \n",
      " 81  secondary_cleaner.state.floatbank5_a_air            19438 non-null  float64       \n",
      " 82  secondary_cleaner.state.floatbank5_a_level          19438 non-null  float64       \n",
      " 83  secondary_cleaner.state.floatbank5_b_air            19438 non-null  float64       \n",
      " 84  secondary_cleaner.state.floatbank5_b_level          19438 non-null  float64       \n",
      " 85  secondary_cleaner.state.floatbank6_a_air            19437 non-null  float64       \n",
      " 86  secondary_cleaner.state.floatbank6_a_level          19438 non-null  float64       \n",
      "dtypes: datetime64[ns](1), float64(86)\n",
      "memory usage: 12.9 MB\n"
     ]
    },
    {
     "data": {
      "text/html": [
       "<div>\n",
       "<style scoped>\n",
       "    .dataframe tbody tr th:only-of-type {\n",
       "        vertical-align: middle;\n",
       "    }\n",
       "\n",
       "    .dataframe tbody tr th {\n",
       "        vertical-align: top;\n",
       "    }\n",
       "\n",
       "    .dataframe thead th {\n",
       "        text-align: right;\n",
       "    }\n",
       "</style>\n",
       "<table border=\"1\" class=\"dataframe\">\n",
       "  <thead>\n",
       "    <tr style=\"text-align: right;\">\n",
       "      <th></th>\n",
       "      <th>date</th>\n",
       "      <th>final.output.concentrate_ag</th>\n",
       "      <th>final.output.concentrate_pb</th>\n",
       "      <th>final.output.concentrate_sol</th>\n",
       "      <th>final.output.concentrate_au</th>\n",
       "      <th>final.output.recovery</th>\n",
       "      <th>final.output.tail_ag</th>\n",
       "      <th>final.output.tail_pb</th>\n",
       "      <th>final.output.tail_sol</th>\n",
       "      <th>final.output.tail_au</th>\n",
       "      <th>...</th>\n",
       "      <th>secondary_cleaner.state.floatbank4_a_air</th>\n",
       "      <th>secondary_cleaner.state.floatbank4_a_level</th>\n",
       "      <th>secondary_cleaner.state.floatbank4_b_air</th>\n",
       "      <th>secondary_cleaner.state.floatbank4_b_level</th>\n",
       "      <th>secondary_cleaner.state.floatbank5_a_air</th>\n",
       "      <th>secondary_cleaner.state.floatbank5_a_level</th>\n",
       "      <th>secondary_cleaner.state.floatbank5_b_air</th>\n",
       "      <th>secondary_cleaner.state.floatbank5_b_level</th>\n",
       "      <th>secondary_cleaner.state.floatbank6_a_air</th>\n",
       "      <th>secondary_cleaner.state.floatbank6_a_level</th>\n",
       "    </tr>\n",
       "  </thead>\n",
       "  <tbody>\n",
       "    <tr>\n",
       "      <th>0</th>\n",
       "      <td>2016-01-15 00:00:00</td>\n",
       "      <td>6.06</td>\n",
       "      <td>9.89</td>\n",
       "      <td>5.51</td>\n",
       "      <td>42.19</td>\n",
       "      <td>70.54</td>\n",
       "      <td>10.41</td>\n",
       "      <td>0.90</td>\n",
       "      <td>16.90</td>\n",
       "      <td>2.14</td>\n",
       "      <td>...</td>\n",
       "      <td>14.02</td>\n",
       "      <td>-502.49</td>\n",
       "      <td>12.10</td>\n",
       "      <td>-504.72</td>\n",
       "      <td>9.93</td>\n",
       "      <td>-498.31</td>\n",
       "      <td>8.08</td>\n",
       "      <td>-500.47</td>\n",
       "      <td>14.15</td>\n",
       "      <td>-605.84</td>\n",
       "    </tr>\n",
       "    <tr>\n",
       "      <th>1</th>\n",
       "      <td>2016-01-15 01:00:00</td>\n",
       "      <td>6.03</td>\n",
       "      <td>9.97</td>\n",
       "      <td>5.26</td>\n",
       "      <td>42.70</td>\n",
       "      <td>69.27</td>\n",
       "      <td>10.46</td>\n",
       "      <td>0.93</td>\n",
       "      <td>16.63</td>\n",
       "      <td>2.22</td>\n",
       "      <td>...</td>\n",
       "      <td>13.99</td>\n",
       "      <td>-505.50</td>\n",
       "      <td>11.95</td>\n",
       "      <td>-501.33</td>\n",
       "      <td>10.04</td>\n",
       "      <td>-500.17</td>\n",
       "      <td>7.98</td>\n",
       "      <td>-500.58</td>\n",
       "      <td>14.00</td>\n",
       "      <td>-599.79</td>\n",
       "    </tr>\n",
       "    <tr>\n",
       "      <th>2</th>\n",
       "      <td>2016-01-15 02:00:00</td>\n",
       "      <td>6.06</td>\n",
       "      <td>10.21</td>\n",
       "      <td>5.38</td>\n",
       "      <td>42.66</td>\n",
       "      <td>68.12</td>\n",
       "      <td>10.51</td>\n",
       "      <td>0.95</td>\n",
       "      <td>16.21</td>\n",
       "      <td>2.26</td>\n",
       "      <td>...</td>\n",
       "      <td>14.02</td>\n",
       "      <td>-502.52</td>\n",
       "      <td>11.91</td>\n",
       "      <td>-501.13</td>\n",
       "      <td>10.07</td>\n",
       "      <td>-500.13</td>\n",
       "      <td>8.01</td>\n",
       "      <td>-500.52</td>\n",
       "      <td>14.03</td>\n",
       "      <td>-601.43</td>\n",
       "    </tr>\n",
       "    <tr>\n",
       "      <th>3</th>\n",
       "      <td>2016-01-15 03:00:00</td>\n",
       "      <td>6.05</td>\n",
       "      <td>9.98</td>\n",
       "      <td>4.86</td>\n",
       "      <td>42.69</td>\n",
       "      <td>68.35</td>\n",
       "      <td>10.42</td>\n",
       "      <td>0.88</td>\n",
       "      <td>16.53</td>\n",
       "      <td>2.15</td>\n",
       "      <td>...</td>\n",
       "      <td>14.04</td>\n",
       "      <td>-500.86</td>\n",
       "      <td>12.00</td>\n",
       "      <td>-501.19</td>\n",
       "      <td>9.97</td>\n",
       "      <td>-499.20</td>\n",
       "      <td>7.98</td>\n",
       "      <td>-500.26</td>\n",
       "      <td>14.01</td>\n",
       "      <td>-600.00</td>\n",
       "    </tr>\n",
       "    <tr>\n",
       "      <th>4</th>\n",
       "      <td>2016-01-15 04:00:00</td>\n",
       "      <td>6.15</td>\n",
       "      <td>10.14</td>\n",
       "      <td>4.94</td>\n",
       "      <td>42.77</td>\n",
       "      <td>66.93</td>\n",
       "      <td>10.36</td>\n",
       "      <td>0.79</td>\n",
       "      <td>16.53</td>\n",
       "      <td>2.06</td>\n",
       "      <td>...</td>\n",
       "      <td>14.03</td>\n",
       "      <td>-499.84</td>\n",
       "      <td>11.95</td>\n",
       "      <td>-501.05</td>\n",
       "      <td>9.93</td>\n",
       "      <td>-501.69</td>\n",
       "      <td>7.89</td>\n",
       "      <td>-500.36</td>\n",
       "      <td>14.00</td>\n",
       "      <td>-601.50</td>\n",
       "    </tr>\n",
       "  </tbody>\n",
       "</table>\n",
       "<p>5 rows × 87 columns</p>\n",
       "</div>"
      ],
      "text/plain": [
       "                 date  final.output.concentrate_ag  \\\n",
       "0 2016-01-15 00:00:00                         6.06   \n",
       "1 2016-01-15 01:00:00                         6.03   \n",
       "2 2016-01-15 02:00:00                         6.06   \n",
       "3 2016-01-15 03:00:00                         6.05   \n",
       "4 2016-01-15 04:00:00                         6.15   \n",
       "\n",
       "   final.output.concentrate_pb  final.output.concentrate_sol  \\\n",
       "0                         9.89                          5.51   \n",
       "1                         9.97                          5.26   \n",
       "2                        10.21                          5.38   \n",
       "3                         9.98                          4.86   \n",
       "4                        10.14                          4.94   \n",
       "\n",
       "   final.output.concentrate_au  final.output.recovery  final.output.tail_ag  \\\n",
       "0                        42.19                  70.54                 10.41   \n",
       "1                        42.70                  69.27                 10.46   \n",
       "2                        42.66                  68.12                 10.51   \n",
       "3                        42.69                  68.35                 10.42   \n",
       "4                        42.77                  66.93                 10.36   \n",
       "\n",
       "   final.output.tail_pb  final.output.tail_sol  final.output.tail_au  ...  \\\n",
       "0                  0.90                  16.90                  2.14  ...   \n",
       "1                  0.93                  16.63                  2.22  ...   \n",
       "2                  0.95                  16.21                  2.26  ...   \n",
       "3                  0.88                  16.53                  2.15  ...   \n",
       "4                  0.79                  16.53                  2.06  ...   \n",
       "\n",
       "   secondary_cleaner.state.floatbank4_a_air  \\\n",
       "0                                     14.02   \n",
       "1                                     13.99   \n",
       "2                                     14.02   \n",
       "3                                     14.04   \n",
       "4                                     14.03   \n",
       "\n",
       "   secondary_cleaner.state.floatbank4_a_level  \\\n",
       "0                                     -502.49   \n",
       "1                                     -505.50   \n",
       "2                                     -502.52   \n",
       "3                                     -500.86   \n",
       "4                                     -499.84   \n",
       "\n",
       "   secondary_cleaner.state.floatbank4_b_air  \\\n",
       "0                                     12.10   \n",
       "1                                     11.95   \n",
       "2                                     11.91   \n",
       "3                                     12.00   \n",
       "4                                     11.95   \n",
       "\n",
       "   secondary_cleaner.state.floatbank4_b_level  \\\n",
       "0                                     -504.72   \n",
       "1                                     -501.33   \n",
       "2                                     -501.13   \n",
       "3                                     -501.19   \n",
       "4                                     -501.05   \n",
       "\n",
       "   secondary_cleaner.state.floatbank5_a_air  \\\n",
       "0                                      9.93   \n",
       "1                                     10.04   \n",
       "2                                     10.07   \n",
       "3                                      9.97   \n",
       "4                                      9.93   \n",
       "\n",
       "   secondary_cleaner.state.floatbank5_a_level  \\\n",
       "0                                     -498.31   \n",
       "1                                     -500.17   \n",
       "2                                     -500.13   \n",
       "3                                     -499.20   \n",
       "4                                     -501.69   \n",
       "\n",
       "   secondary_cleaner.state.floatbank5_b_air  \\\n",
       "0                                      8.08   \n",
       "1                                      7.98   \n",
       "2                                      8.01   \n",
       "3                                      7.98   \n",
       "4                                      7.89   \n",
       "\n",
       "   secondary_cleaner.state.floatbank5_b_level  \\\n",
       "0                                     -500.47   \n",
       "1                                     -500.58   \n",
       "2                                     -500.52   \n",
       "3                                     -500.26   \n",
       "4                                     -500.36   \n",
       "\n",
       "   secondary_cleaner.state.floatbank6_a_air  \\\n",
       "0                                     14.15   \n",
       "1                                     14.00   \n",
       "2                                     14.03   \n",
       "3                                     14.01   \n",
       "4                                     14.00   \n",
       "\n",
       "   secondary_cleaner.state.floatbank6_a_level  \n",
       "0                                     -605.84  \n",
       "1                                     -599.79  \n",
       "2                                     -601.43  \n",
       "3                                     -600.00  \n",
       "4                                     -601.50  \n",
       "\n",
       "[5 rows x 87 columns]"
      ]
     },
     "metadata": {},
     "output_type": "display_data"
    },
    {
     "name": "stdout",
     "output_type": "stream",
     "text": [
      "Количество признаков 87 количество наблюдений 19439\n"
     ]
    },
    {
     "data": {
      "image/png": "[encoded data removed]",
      "text/plain": [
       "<Figure size 1440x720 with 1 Axes>"
      ]
     },
     "metadata": {
      "needs_background": "light"
     },
     "output_type": "display_data"
    }
   ],
   "source": [
    "play(data_full)"
   ]
  },
  {
   "cell_type": "markdown",
   "metadata": {},
   "source": [
    "- Нам представлены 3 датасета, содержащие технические данные о параметрах добычи и очистки золотосодержащей руды. \n",
    "- Датафрейм `data_full` генеральная выборка состоит из 87 признаков и 19439 наблюдений\n",
    "- Датафрейм `data_test` тестовая выборка состоит из 53 признаков и 5290 наблюдений, целевых признаков не содержит\n",
    "- Датафрейм `data_train` обучающая выборка состоит из 87 признаков и 14149 наблюдений, целевых признаков не содержит\n",
    "- Во всех датасетах имеются пропуски, которые необходимо исследовать и заполнить\n",
    "\n",
    "Необходимо:\n",
    "- проверить нулевые значения в целевых признаках\n",
    "- заполнить пропуски в обучающей и тестовой выборке\n",
    "- добавить целевые признаки в обучающую и тестовую выборки (общий признак `date`)"
   ]
  },
  {
   "cell_type": "markdown",
   "metadata": {},
   "source": [
    "### Расчет эффективности обогащения (MAE)"
   ]
  },
  {
   "cell_type": "code",
   "execution_count": 91,
   "metadata": {},
   "outputs": [],
   "source": [
    "def recovery(train): #Расчитаем эффективность с помощью формулы recovery данной в инструкции\n",
    "    c = train['rougher.output.concentrate_au'] #доля золота в концентрате после флотации/очистки;\n",
    "    f = train['rougher.input.feed_au'] #доля золота в сырье/концентрате до флотации/очистки\n",
    "    t = train['rougher.output.tail_au'] #доля золота в отвальных хвостах после флотации/очистки\n",
    "    recovery_list = ((c*(f-t)) / (f*(c-t)) * 100)\n",
    "    return recovery_list"
   ]
  },
  {
   "cell_type": "markdown",
   "metadata": {},
   "source": [
    "<font color='blue'><b>Комментарий ревьюера: </b></font> ✔️\\\n",
    "<font color='green'>Расчёт верный!</font>"
   ]
  },
  {
   "cell_type": "code",
   "execution_count": 92,
   "metadata": {},
   "outputs": [
    {
     "name": "stdout",
     "output_type": "stream",
     "text": [
      "Наличие пропусков: 0\n"
     ]
    }
   ],
   "source": [
    "recovery_list = recovery(data_train)\n",
    "print('Наличие пропусков:', recovery_list.isna().sum()) #проверим наличие NaN"
   ]
  },
  {
   "cell_type": "code",
   "execution_count": 93,
   "metadata": {},
   "outputs": [
    {
     "name": "stdout",
     "output_type": "stream",
     "text": [
      "Средняя абсолютная ошибка:  0.000000000000974%\n"
     ]
    }
   ],
   "source": [
    "#Посчитаем MAE, но прежде заполним NAN значения на 0\n",
    "mae = mean_absolute_error(data_train['rougher.output.recovery'].fillna(0),recovery_list)\n",
    "print(f'Средняя абсолютная ошибка: {mae: .15%}')"
   ]
  },
  {
   "cell_type": "markdown",
   "metadata": {},
   "source": [
    "**Среднее абсолютное отклонение ничтожно мало. Различий между данными действительно нет, рассчеты верны.**"
   ]
  },
  {
   "cell_type": "markdown",
   "metadata": {},
   "source": [
    "### Анализ признаков, недоступных в тестовой выборке"
   ]
  },
  {
   "cell_type": "code",
   "execution_count": 94,
   "metadata": {
    "scrolled": true
   },
   "outputs": [
    {
     "data": {
      "text/plain": [
       "{'final.output.concentrate_ag',\n",
       " 'final.output.concentrate_au',\n",
       " 'final.output.concentrate_pb',\n",
       " 'final.output.concentrate_sol',\n",
       " 'final.output.recovery',\n",
       " 'final.output.tail_ag',\n",
       " 'final.output.tail_au',\n",
       " 'final.output.tail_pb',\n",
       " 'final.output.tail_sol',\n",
       " 'primary_cleaner.output.concentrate_ag',\n",
       " 'primary_cleaner.output.concentrate_au',\n",
       " 'primary_cleaner.output.concentrate_pb',\n",
       " 'primary_cleaner.output.concentrate_sol',\n",
       " 'primary_cleaner.output.tail_ag',\n",
       " 'primary_cleaner.output.tail_au',\n",
       " 'primary_cleaner.output.tail_pb',\n",
       " 'primary_cleaner.output.tail_sol',\n",
       " 'rougher.calculation.au_pb_ratio',\n",
       " 'rougher.calculation.floatbank10_sulfate_to_au_feed',\n",
       " 'rougher.calculation.floatbank11_sulfate_to_au_feed',\n",
       " 'rougher.calculation.sulfate_to_au_concentrate',\n",
       " 'rougher.output.concentrate_ag',\n",
       " 'rougher.output.concentrate_au',\n",
       " 'rougher.output.concentrate_pb',\n",
       " 'rougher.output.concentrate_sol',\n",
       " 'rougher.output.recovery',\n",
       " 'rougher.output.tail_ag',\n",
       " 'rougher.output.tail_au',\n",
       " 'rougher.output.tail_pb',\n",
       " 'rougher.output.tail_sol',\n",
       " 'secondary_cleaner.output.tail_ag',\n",
       " 'secondary_cleaner.output.tail_au',\n",
       " 'secondary_cleaner.output.tail_pb',\n",
       " 'secondary_cleaner.output.tail_sol'}"
      ]
     },
     "execution_count": 94,
     "metadata": {},
     "output_type": "execute_result"
    }
   ],
   "source": [
    "set(data_train) - set(data_test) # сравниваем названия столбцов"
   ]
  },
  {
   "cell_type": "markdown",
   "metadata": {},
   "source": [
    "В тестовом DF нет расчетных признаков, которые получаются путём использования других и представляют собой производные параметры. А для обучения данные параметры будут лишним объёмом данных, дублирующих первообразные признаки. Поэтому удалим из сета `data_train` производные признаки."
   ]
  },
  {
   "cell_type": "code",
   "execution_count": 95,
   "metadata": {},
   "outputs": [],
   "source": [
    "drop_columns = ['final.output.concentrate_ag', # формируем список для удаления\n",
    " 'final.output.concentrate_au',\n",
    " 'final.output.concentrate_pb',\n",
    " 'final.output.concentrate_sol',\n",
    " 'final.output.recovery',\n",
    " 'final.output.tail_ag',\n",
    " 'final.output.tail_au',\n",
    " 'final.output.tail_pb',\n",
    " 'final.output.tail_sol',\n",
    " 'primary_cleaner.output.concentrate_ag',\n",
    " 'primary_cleaner.output.concentrate_au',\n",
    " 'primary_cleaner.output.concentrate_pb',\n",
    " 'primary_cleaner.output.concentrate_sol',\n",
    " 'primary_cleaner.output.tail_ag',\n",
    " 'primary_cleaner.output.tail_au',\n",
    " 'primary_cleaner.output.tail_pb',\n",
    " 'primary_cleaner.output.tail_sol',\n",
    " 'rougher.calculation.au_pb_ratio',\n",
    " 'rougher.calculation.floatbank10_sulfate_to_au_feed',\n",
    " 'rougher.calculation.floatbank11_sulfate_to_au_feed',\n",
    " 'rougher.calculation.sulfate_to_au_concentrate',\n",
    " 'rougher.output.concentrate_ag',\n",
    " 'rougher.output.concentrate_au',\n",
    " 'rougher.output.concentrate_pb',\n",
    " 'rougher.output.concentrate_sol',\n",
    " 'rougher.output.recovery',\n",
    " 'rougher.output.tail_ag',\n",
    " 'rougher.output.tail_au',\n",
    " 'rougher.output.tail_pb',\n",
    " 'rougher.output.tail_sol',\n",
    " 'secondary_cleaner.output.tail_ag',\n",
    " 'secondary_cleaner.output.tail_au',\n",
    " 'secondary_cleaner.output.tail_pb',\n",
    " 'secondary_cleaner.output.tail_sol']"
   ]
  },
  {
   "cell_type": "code",
   "execution_count": 96,
   "metadata": {},
   "outputs": [],
   "source": [
    "data_train = data_train.drop(drop_columns, axis=1)"
   ]
  },
  {
   "cell_type": "code",
   "execution_count": 97,
   "metadata": {},
   "outputs": [
    {
     "data": {
      "text/plain": [
       "(14149, 53)"
      ]
     },
     "execution_count": 97,
     "metadata": {},
     "output_type": "execute_result"
    }
   ],
   "source": [
    "data_train.shape # проверяем"
   ]
  },
  {
   "cell_type": "markdown",
   "metadata": {},
   "source": [
    "### Предобработка данных"
   ]
  },
  {
   "cell_type": "markdown",
   "metadata": {},
   "source": [
    "Изучаем пропуски в обучающей выборке:"
   ]
  },
  {
   "cell_type": "code",
   "execution_count": 98,
   "metadata": {
    "scrolled": true
   },
   "outputs": [
    {
     "data": {
      "text/plain": [
       "date                                            0\n",
       "primary_cleaner.input.sulfate                  20\n",
       "primary_cleaner.input.depressant               32\n",
       "primary_cleaner.input.feed_size                 0\n",
       "primary_cleaner.input.xanthate                100\n",
       "primary_cleaner.state.floatbank8_a_air          4\n",
       "primary_cleaner.state.floatbank8_a_level        1\n",
       "primary_cleaner.state.floatbank8_b_air          4\n",
       "primary_cleaner.state.floatbank8_b_level        1\n",
       "primary_cleaner.state.floatbank8_c_air          2\n",
       "primary_cleaner.state.floatbank8_c_level        1\n",
       "primary_cleaner.state.floatbank8_d_air          3\n",
       "primary_cleaner.state.floatbank8_d_level        1\n",
       "rougher.input.feed_ag                           0\n",
       "rougher.input.feed_pb                         100\n",
       "rougher.input.feed_rate                         8\n",
       "rougher.input.feed_size                       144\n",
       "rougher.input.feed_sol                         78\n",
       "rougher.input.feed_au                           0\n",
       "rougher.input.floatbank10_sulfate              29\n",
       "rougher.input.floatbank10_xanthate              8\n",
       "rougher.input.floatbank11_sulfate              36\n",
       "rougher.input.floatbank11_xanthate            428\n",
       "rougher.state.floatbank10_a_air                 1\n",
       "rougher.state.floatbank10_a_level               1\n",
       "rougher.state.floatbank10_b_air                 1\n",
       "rougher.state.floatbank10_b_level               1\n",
       "rougher.state.floatbank10_c_air                 1\n",
       "rougher.state.floatbank10_c_level               1\n",
       "rougher.state.floatbank10_d_air                 0\n",
       "rougher.state.floatbank10_d_level               0\n",
       "rougher.state.floatbank10_e_air               436\n",
       "rougher.state.floatbank10_e_level               0\n",
       "rougher.state.floatbank10_f_air                 0\n",
       "rougher.state.floatbank10_f_level               0\n",
       "secondary_cleaner.state.floatbank2_a_air      217\n",
       "secondary_cleaner.state.floatbank2_a_level      1\n",
       "secondary_cleaner.state.floatbank2_b_air       21\n",
       "secondary_cleaner.state.floatbank2_b_level      1\n",
       "secondary_cleaner.state.floatbank3_a_air        4\n",
       "secondary_cleaner.state.floatbank3_a_level      1\n",
       "secondary_cleaner.state.floatbank3_b_air        1\n",
       "secondary_cleaner.state.floatbank3_b_level      1\n",
       "secondary_cleaner.state.floatbank4_a_air        6\n",
       "secondary_cleaner.state.floatbank4_a_level      1\n",
       "secondary_cleaner.state.floatbank4_b_air        1\n",
       "secondary_cleaner.state.floatbank4_b_level      1\n",
       "secondary_cleaner.state.floatbank5_a_air        1\n",
       "secondary_cleaner.state.floatbank5_a_level      1\n",
       "secondary_cleaner.state.floatbank5_b_air        1\n",
       "secondary_cleaner.state.floatbank5_b_level      1\n",
       "secondary_cleaner.state.floatbank6_a_air        2\n",
       "secondary_cleaner.state.floatbank6_a_level      1\n",
       "dtype: int64"
      ]
     },
     "execution_count": 98,
     "metadata": {},
     "output_type": "execute_result"
    }
   ],
   "source": [
    "data_train.isna().sum()"
   ]
  },
  {
   "cell_type": "code",
   "execution_count": 99,
   "metadata": {},
   "outputs": [
    {
     "data": {
      "text/plain": [
       "1705"
      ]
     },
     "execution_count": 99,
     "metadata": {},
     "output_type": "execute_result"
    }
   ],
   "source": [
    "data_train.isna().sum().sum()"
   ]
  },
  {
   "cell_type": "markdown",
   "metadata": {},
   "source": [
    "Удаление такого количества пропусков не является лучшим решением, нам необходимо сохранить максимально количество данных."
   ]
  },
  {
   "cell_type": "markdown",
   "metadata": {},
   "source": [
    "В техническом задании сказано, что соседние по времени параметры часто похожи, воспользуемся этим для заполнения пропусков"
   ]
  },
  {
   "cell_type": "code",
   "execution_count": 100,
   "metadata": {},
   "outputs": [
    {
     "name": "stdout",
     "output_type": "stream",
     "text": [
      "Количество пропусков: 0\n"
     ]
    }
   ],
   "source": [
    "data_train = data_train.sort_values(by='date', ascending=True).fillna(method='ffill')\n",
    "print('Количество пропусков:', data_train.isna().sum().sum())"
   ]
  },
  {
   "cell_type": "code",
   "execution_count": 101,
   "metadata": {
    "scrolled": true
   },
   "outputs": [
    {
     "data": {
      "text/plain": [
       "date                                           0\n",
       "primary_cleaner.input.sulfate                  4\n",
       "primary_cleaner.input.depressant               5\n",
       "primary_cleaner.input.feed_size                0\n",
       "primary_cleaner.input.xanthate                 4\n",
       "primary_cleaner.state.floatbank8_a_air         0\n",
       "primary_cleaner.state.floatbank8_a_level       0\n",
       "primary_cleaner.state.floatbank8_b_air         0\n",
       "primary_cleaner.state.floatbank8_b_level       0\n",
       "primary_cleaner.state.floatbank8_c_air         0\n",
       "primary_cleaner.state.floatbank8_c_level       0\n",
       "primary_cleaner.state.floatbank8_d_air         0\n",
       "primary_cleaner.state.floatbank8_d_level       0\n",
       "rougher.input.feed_ag                          0\n",
       "rougher.input.feed_pb                          0\n",
       "rougher.input.feed_rate                        3\n",
       "rougher.input.feed_size                        1\n",
       "rougher.input.feed_sol                        21\n",
       "rougher.input.feed_au                          0\n",
       "rougher.input.floatbank10_sulfate              5\n",
       "rougher.input.floatbank10_xanthate             0\n",
       "rougher.input.floatbank11_sulfate              8\n",
       "rougher.input.floatbank11_xanthate            25\n",
       "rougher.state.floatbank10_a_air                0\n",
       "rougher.state.floatbank10_a_level              0\n",
       "rougher.state.floatbank10_b_air                0\n",
       "rougher.state.floatbank10_b_level              0\n",
       "rougher.state.floatbank10_c_air                0\n",
       "rougher.state.floatbank10_c_level              0\n",
       "rougher.state.floatbank10_d_air                0\n",
       "rougher.state.floatbank10_d_level              0\n",
       "rougher.state.floatbank10_e_air                0\n",
       "rougher.state.floatbank10_e_level              0\n",
       "rougher.state.floatbank10_f_air                0\n",
       "rougher.state.floatbank10_f_level              0\n",
       "secondary_cleaner.state.floatbank2_a_air       3\n",
       "secondary_cleaner.state.floatbank2_a_level     0\n",
       "secondary_cleaner.state.floatbank2_b_air       2\n",
       "secondary_cleaner.state.floatbank2_b_level     0\n",
       "secondary_cleaner.state.floatbank3_a_air       9\n",
       "secondary_cleaner.state.floatbank3_a_level     0\n",
       "secondary_cleaner.state.floatbank3_b_air       0\n",
       "secondary_cleaner.state.floatbank3_b_level     0\n",
       "secondary_cleaner.state.floatbank4_a_air       0\n",
       "secondary_cleaner.state.floatbank4_a_level     0\n",
       "secondary_cleaner.state.floatbank4_b_air       0\n",
       "secondary_cleaner.state.floatbank4_b_level     0\n",
       "secondary_cleaner.state.floatbank5_a_air       0\n",
       "secondary_cleaner.state.floatbank5_a_level     0\n",
       "secondary_cleaner.state.floatbank5_b_air       0\n",
       "secondary_cleaner.state.floatbank5_b_level     0\n",
       "secondary_cleaner.state.floatbank6_a_air       0\n",
       "secondary_cleaner.state.floatbank6_a_level     0\n",
       "dtype: int64"
      ]
     },
     "execution_count": 101,
     "metadata": {},
     "output_type": "execute_result"
    }
   ],
   "source": [
    "data_test.isna().sum()"
   ]
  },
  {
   "cell_type": "code",
   "execution_count": 102,
   "metadata": {},
   "outputs": [
    {
     "name": "stdout",
     "output_type": "stream",
     "text": [
      "Количество пропусков: 0\n"
     ]
    }
   ],
   "source": [
    "data_test = data_test.fillna(method='ffill')\n",
    "print('Количество пропусков:', data_test.isna().sum().sum())"
   ]
  },
  {
   "cell_type": "markdown",
   "metadata": {},
   "source": [
    "В тестовой и обучающей выборках отсутствуют два целевых признака `final.output.recovery`, `rougher.output.recovery`. Их необходимо добавить из общей выборки `data_full` для дальнейшего расчета показателей результативности модели ML. Отбор произведем по индексу `date`"
   ]
  },
  {
   "cell_type": "code",
   "execution_count": 103,
   "metadata": {
    "scrolled": true
   },
   "outputs": [],
   "source": [
    "target_full = data_full[['date', 'final.output.recovery', 'rougher.output.recovery']]\n",
    "data_test = data_test.join(target_full.set_index('date'), on='date')\n",
    "data_train = data_train.join(target_full.set_index('date'), on='date')"
   ]
  },
  {
   "cell_type": "markdown",
   "metadata": {},
   "source": [
    "## Анализ данных"
   ]
  },
  {
   "cell_type": "markdown",
   "metadata": {},
   "source": [
    "### Концентрация металлов (Au, Ag, Pb) на различных этапах очистки"
   ]
  },
  {
   "cell_type": "markdown",
   "metadata": {},
   "source": [
    "Общая выборка `data_full `содержит все данные, по ней и будем проводить анализ:"
   ]
  },
  {
   "cell_type": "code",
   "execution_count": 104,
   "metadata": {},
   "outputs": [],
   "source": [
    "#подготовим датасет расчета для золота\n",
    "au_data = (data_full[['rougher.input.feed_au', 'rougher.output.concentrate_au', \n",
    "    'primary_cleaner.output.concentrate_au', 'final.output.concentrate_au']])"
   ]
  },
  {
   "cell_type": "code",
   "execution_count": 105,
   "metadata": {},
   "outputs": [],
   "source": [
    "#подготовим датасет для расчета серебра\n",
    "ag_data = (data_full[['rougher.input.feed_ag', 'rougher.output.concentrate_ag', \n",
    "    'primary_cleaner.output.concentrate_ag', 'final.output.concentrate_ag']])"
   ]
  },
  {
   "cell_type": "code",
   "execution_count": 106,
   "metadata": {},
   "outputs": [],
   "source": [
    "#подготовим датасет для расчета свинца\n",
    "pb_data = (data_full[['rougher.input.feed_pb', 'rougher.output.concentrate_pb', \n",
    "    'primary_cleaner.output.concentrate_pb', 'final.output.concentrate_pb']])"
   ]
  },
  {
   "cell_type": "code",
   "execution_count": 107,
   "metadata": {},
   "outputs": [],
   "source": [
    "def metal(data):\n",
    "    fig, ax = plt.subplots(figsize=(15,5))\n",
    "    ax.set_ylabel('Кол-во наблюдений')\n",
    "    ax.set_xlabel('Концентрация металла')\n",
    "    for col in data:\n",
    "        data[col].hist(alpha=0.4) \n",
    "        ax.legend(['Исходное сырье','Флотация','Первичная очистка', 'Вторичная очистка'])"
   ]
  },
  {
   "cell_type": "code",
   "execution_count": 108,
   "metadata": {
    "scrolled": true
   },
   "outputs": [
    {
     "data": {
      "image/png": "[encoded data removed]",
      "text/plain": [
       "<Figure size 1080x360 with 1 Axes>"
      ]
     },
     "metadata": {
      "needs_background": "light"
     },
     "output_type": "display_data"
    }
   ],
   "source": [
    "metal(au_data)"
   ]
  },
  {
   "cell_type": "markdown",
   "metadata": {},
   "source": [
    "Концентрация золота растет с каждой последующей обработкой."
   ]
  },
  {
   "cell_type": "code",
   "execution_count": 109,
   "metadata": {},
   "outputs": [
    {
     "data": {
      "image/png": "[encoded data removed]",
      "text/plain": [
       "<Figure size 1080x360 with 1 Axes>"
      ]
     },
     "metadata": {
      "needs_background": "light"
     },
     "output_type": "display_data"
    }
   ],
   "source": [
    "metal(ag_data)"
   ]
  },
  {
   "cell_type": "markdown",
   "metadata": {},
   "source": [
    "Концентрация серебра увеличивается при флотации, но снижается после вторичной обработке."
   ]
  },
  {
   "cell_type": "code",
   "execution_count": 110,
   "metadata": {
    "scrolled": true
   },
   "outputs": [
    {
     "data": {
      "image/png": "[encoded data removed]",
      "text/plain": [
       "<Figure size 1080x360 with 1 Axes>"
      ]
     },
     "metadata": {
      "needs_background": "light"
     },
     "output_type": "display_data"
    }
   ],
   "source": [
    "metal(pb_data)"
   ]
  },
  {
   "cell_type": "markdown",
   "metadata": {},
   "source": [
    "Концентрация свинца незначительно растет прифлотации и первичной обработке, но не изменяется при вторичной очистке."
   ]
  },
  {
   "cell_type": "markdown",
   "metadata": {},
   "source": [
    "### Сравнение размеров гранул сырья на обучающей и тестовой выборках"
   ]
  },
  {
   "cell_type": "markdown",
   "metadata": {},
   "source": [
    "Сведения о размерах гранул сырья содержаться в столбцах `feed_size` (primary_cleaner.input.feed_size - финишная обработка, rougher.input.feed_size - флотация)"
   ]
  },
  {
   "cell_type": "code",
   "execution_count": 111,
   "metadata": {
    "scrolled": true
   },
   "outputs": [
    {
     "data": {
      "text/plain": [
       "count   14,149.00\n",
       "mean        60.24\n",
       "std         23.01\n",
       "min          9.66\n",
       "25%         48.97\n",
       "50%         55.27\n",
       "75%         66.01\n",
       "max        484.97\n",
       "Name: rougher.input.feed_size, dtype: float64"
      ]
     },
     "execution_count": 111,
     "metadata": {},
     "output_type": "execute_result"
    }
   ],
   "source": [
    "data_train['rougher.input.feed_size'].describe() # изучим распределение данных при флотации обучающей выборки"
   ]
  },
  {
   "cell_type": "code",
   "execution_count": 112,
   "metadata": {
    "scrolled": true
   },
   "outputs": [
    {
     "data": {
      "text/plain": [
       "count   5,290.00\n",
       "mean       55.95\n",
       "std        19.08\n",
       "min         0.05\n",
       "25%        43.91\n",
       "50%        50.85\n",
       "75%        62.45\n",
       "max       392.49\n",
       "Name: rougher.input.feed_size, dtype: float64"
      ]
     },
     "execution_count": 112,
     "metadata": {},
     "output_type": "execute_result"
    }
   ],
   "source": [
    "data_test['rougher.input.feed_size'].describe() # изучим распределение данных при флотации тестовой выборки"
   ]
  },
  {
   "cell_type": "code",
   "execution_count": 113,
   "metadata": {
    "scrolled": true
   },
   "outputs": [
    {
     "data": {
      "image/png": "[encoded data removed]",
      "text/plain": [
       "<Figure size 1224x144 with 1 Axes>"
      ]
     },
     "metadata": {
      "needs_background": "light"
     },
     "output_type": "display_data"
    }
   ],
   "source": [
    "fig, ax = plt.subplots(figsize = (17,2))\n",
    "ax = data_test[['rougher.input.feed_size']].boxplot(vert = False, ax =ax, patch_artist=True)\n",
    "ax.set_title('Распределение значений тестовой выборки')\n",
    "ax.set_xlim(0, 500);"
   ]
  },
  {
   "cell_type": "code",
   "execution_count": 114,
   "metadata": {
    "scrolled": true
   },
   "outputs": [
    {
     "data": {
      "image/png": "[encoded data removed]",
      "text/plain": [
       "<Figure size 1224x144 with 1 Axes>"
      ]
     },
     "metadata": {
      "needs_background": "light"
     },
     "output_type": "display_data"
    }
   ],
   "source": [
    "fig, ax = plt.subplots(figsize = (17,2))\n",
    "ax = data_train[['rougher.input.feed_size']].boxplot(vert = False, ax =ax, patch_artist=True)\n",
    "ax.set_title('Распределение значений обучающей выборки')\n",
    "ax.set_xlim(0, 500);"
   ]
  },
  {
   "cell_type": "code",
   "execution_count": 115,
   "metadata": {
    "scrolled": true
   },
   "outputs": [
    {
     "data": {
      "text/plain": [
       "count   14,149.00\n",
       "mean         7.32\n",
       "std          0.61\n",
       "min          1.08\n",
       "25%          6.96\n",
       "50%          7.29\n",
       "75%          7.70\n",
       "max         10.47\n",
       "Name: primary_cleaner.input.feed_size, dtype: float64"
      ]
     },
     "execution_count": 115,
     "metadata": {},
     "output_type": "execute_result"
    }
   ],
   "source": [
    "data_train['primary_cleaner.input.feed_size'].describe() # изучим распределение данных при флотации обучающей выборки"
   ]
  },
  {
   "cell_type": "code",
   "execution_count": 116,
   "metadata": {
    "scrolled": false
   },
   "outputs": [
    {
     "data": {
      "text/plain": [
       "count   5,290.00\n",
       "mean        7.27\n",
       "std         0.61\n",
       "min         5.65\n",
       "25%         6.89\n",
       "50%         7.25\n",
       "75%         7.60\n",
       "max        15.50\n",
       "Name: primary_cleaner.input.feed_size, dtype: float64"
      ]
     },
     "execution_count": 116,
     "metadata": {},
     "output_type": "execute_result"
    }
   ],
   "source": [
    "data_test['primary_cleaner.input.feed_size'].describe() # изучим распределение данных при флотации тестовой выборки"
   ]
  },
  {
   "cell_type": "code",
   "execution_count": 117,
   "metadata": {
    "scrolled": true
   },
   "outputs": [
    {
     "data": {
      "image/png": "[encoded data removed]",
      "text/plain": [
       "<Figure size 1224x144 with 1 Axes>"
      ]
     },
     "metadata": {
      "needs_background": "light"
     },
     "output_type": "display_data"
    }
   ],
   "source": [
    "fig, ax = plt.subplots(figsize = (17,2))\n",
    "ax = data_test[['primary_cleaner.input.feed_size']].boxplot(vert = False, ax =ax, patch_artist=True)\n",
    "ax.set_title('Распределение значений тестовой выборки')\n",
    "ax.set_xlim(0, 16);"
   ]
  },
  {
   "cell_type": "code",
   "execution_count": 118,
   "metadata": {
    "scrolled": false
   },
   "outputs": [
    {
     "data": {
      "image/png": "[encoded data removed]",
      "text/plain": [
       "<Figure size 1224x144 with 1 Axes>"
      ]
     },
     "metadata": {
      "needs_background": "light"
     },
     "output_type": "display_data"
    }
   ],
   "source": [
    "fig, ax = plt.subplots(figsize = (17,2))\n",
    "ax = data_train[['primary_cleaner.input.feed_size']].boxplot(vert = False, ax =ax, patch_artist=True)\n",
    "ax.set_title('Распределение значений обучающей выборки')\n",
    "ax.set_xlim(0, 16);"
   ]
  },
  {
   "cell_type": "markdown",
   "metadata": {},
   "source": [
    "Для обоих параметров распределения не сильно отличаются друг от друга, такие неточности не должны критично повлиять на работу модели."
   ]
  },
  {
   "cell_type": "markdown",
   "metadata": {},
   "source": [
    "> Выборки можно сравнить с помощью `ttest_int`, если в этом есть необходимость"
   ]
  },
  {
   "cell_type": "markdown",
   "metadata": {},
   "source": [
    "### Суммарная концентрация всех веществ на разных стадиях: в сырье, в черновом и финальном концентратах."
   ]
  },
  {
   "cell_type": "code",
   "execution_count": 119,
   "metadata": {},
   "outputs": [
    {
     "data": {
      "text/plain": [
       "{'date',\n",
       " 'final.output.concentrate_ag',\n",
       " 'final.output.concentrate_au',\n",
       " 'final.output.concentrate_pb',\n",
       " 'final.output.concentrate_sol',\n",
       " 'final.output.recovery',\n",
       " 'final.output.tail_ag',\n",
       " 'final.output.tail_au',\n",
       " 'final.output.tail_pb',\n",
       " 'final.output.tail_sol',\n",
       " 'primary_cleaner.input.depressant',\n",
       " 'primary_cleaner.input.feed_size',\n",
       " 'primary_cleaner.input.sulfate',\n",
       " 'primary_cleaner.input.xanthate',\n",
       " 'primary_cleaner.output.concentrate_ag',\n",
       " 'primary_cleaner.output.concentrate_au',\n",
       " 'primary_cleaner.output.concentrate_pb',\n",
       " 'primary_cleaner.output.concentrate_sol',\n",
       " 'primary_cleaner.output.tail_ag',\n",
       " 'primary_cleaner.output.tail_au',\n",
       " 'primary_cleaner.output.tail_pb',\n",
       " 'primary_cleaner.output.tail_sol',\n",
       " 'primary_cleaner.state.floatbank8_a_air',\n",
       " 'primary_cleaner.state.floatbank8_a_level',\n",
       " 'primary_cleaner.state.floatbank8_b_air',\n",
       " 'primary_cleaner.state.floatbank8_b_level',\n",
       " 'primary_cleaner.state.floatbank8_c_air',\n",
       " 'primary_cleaner.state.floatbank8_c_level',\n",
       " 'primary_cleaner.state.floatbank8_d_air',\n",
       " 'primary_cleaner.state.floatbank8_d_level',\n",
       " 'rougher.calculation.au_pb_ratio',\n",
       " 'rougher.calculation.floatbank10_sulfate_to_au_feed',\n",
       " 'rougher.calculation.floatbank11_sulfate_to_au_feed',\n",
       " 'rougher.calculation.sulfate_to_au_concentrate',\n",
       " 'rougher.input.feed_ag',\n",
       " 'rougher.input.feed_au',\n",
       " 'rougher.input.feed_pb',\n",
       " 'rougher.input.feed_rate',\n",
       " 'rougher.input.feed_size',\n",
       " 'rougher.input.feed_sol',\n",
       " 'rougher.input.floatbank10_sulfate',\n",
       " 'rougher.input.floatbank10_xanthate',\n",
       " 'rougher.input.floatbank11_sulfate',\n",
       " 'rougher.input.floatbank11_xanthate',\n",
       " 'rougher.output.concentrate_ag',\n",
       " 'rougher.output.concentrate_au',\n",
       " 'rougher.output.concentrate_pb',\n",
       " 'rougher.output.concentrate_sol',\n",
       " 'rougher.output.recovery',\n",
       " 'rougher.output.tail_ag',\n",
       " 'rougher.output.tail_au',\n",
       " 'rougher.output.tail_pb',\n",
       " 'rougher.output.tail_sol',\n",
       " 'rougher.state.floatbank10_a_air',\n",
       " 'rougher.state.floatbank10_a_level',\n",
       " 'rougher.state.floatbank10_b_air',\n",
       " 'rougher.state.floatbank10_b_level',\n",
       " 'rougher.state.floatbank10_c_air',\n",
       " 'rougher.state.floatbank10_c_level',\n",
       " 'rougher.state.floatbank10_d_air',\n",
       " 'rougher.state.floatbank10_d_level',\n",
       " 'rougher.state.floatbank10_e_air',\n",
       " 'rougher.state.floatbank10_e_level',\n",
       " 'rougher.state.floatbank10_f_air',\n",
       " 'rougher.state.floatbank10_f_level',\n",
       " 'secondary_cleaner.output.tail_ag',\n",
       " 'secondary_cleaner.output.tail_au',\n",
       " 'secondary_cleaner.output.tail_pb',\n",
       " 'secondary_cleaner.output.tail_sol',\n",
       " 'secondary_cleaner.state.floatbank2_a_air',\n",
       " 'secondary_cleaner.state.floatbank2_a_level',\n",
       " 'secondary_cleaner.state.floatbank2_b_air',\n",
       " 'secondary_cleaner.state.floatbank2_b_level',\n",
       " 'secondary_cleaner.state.floatbank3_a_air',\n",
       " 'secondary_cleaner.state.floatbank3_a_level',\n",
       " 'secondary_cleaner.state.floatbank3_b_air',\n",
       " 'secondary_cleaner.state.floatbank3_b_level',\n",
       " 'secondary_cleaner.state.floatbank4_a_air',\n",
       " 'secondary_cleaner.state.floatbank4_a_level',\n",
       " 'secondary_cleaner.state.floatbank4_b_air',\n",
       " 'secondary_cleaner.state.floatbank4_b_level',\n",
       " 'secondary_cleaner.state.floatbank5_a_air',\n",
       " 'secondary_cleaner.state.floatbank5_a_level',\n",
       " 'secondary_cleaner.state.floatbank5_b_air',\n",
       " 'secondary_cleaner.state.floatbank5_b_level',\n",
       " 'secondary_cleaner.state.floatbank6_a_air',\n",
       " 'secondary_cleaner.state.floatbank6_a_level'}"
      ]
     },
     "execution_count": 119,
     "metadata": {},
     "output_type": "execute_result"
    }
   ],
   "source": [
    "set(data_full)"
   ]
  },
  {
   "cell_type": "markdown",
   "metadata": {},
   "source": [
    "Создадим датафрейм со сведениями о концентрации веществ на разных стадиях золотодобычи из генеральной выборки. Добавим расчеты:"
   ]
  },
  {
   "cell_type": "code",
   "execution_count": 120,
   "metadata": {
    "scrolled": true
   },
   "outputs": [],
   "source": [
    "summ_concentrat = data_full[['date','rougher.input.feed_ag', 'rougher.input.feed_pb',\n",
    "                              'rougher.input.feed_sol', 'rougher.input.feed_au', 'rougher.output.concentrate_ag',\n",
    "                             'rougher.output.concentrate_au', 'rougher.output.concentrate_pb',\n",
    "                              'rougher.output.concentrate_sol', 'final.output.concentrate_ag',\n",
    "                              'final.output.concentrate_pb', 'final.output.concentrate_sol',\n",
    "                              'final.output.concentrate_au']] # копируем данные\n",
    "summ_concentrat = summ_concentrat.sort_values(by='date', ascending=True).fillna(method='ffill') # заменим NaN на близкие по времени\n",
    "summ_concentrat['rougher'] = (summ_concentrat['rougher.input.feed_ag'] + # ссумируем по каждому этапу\n",
    "                              summ_concentrat['rougher.input.feed_pb'] +\n",
    "                              summ_concentrat['rougher.input.feed_sol'] +\n",
    "                              summ_concentrat['rougher.input.feed_au'])\n",
    "summ_concentrat['primary'] = (summ_concentrat['rougher.output.concentrate_ag'] +\n",
    "                              summ_concentrat['rougher.output.concentrate_pb'] +\n",
    "                              summ_concentrat['rougher.output.concentrate_sol'] +\n",
    "                              summ_concentrat['rougher.output.concentrate_au'])\n",
    "summ_concentrat['final'] = (summ_concentrat['final.output.concentrate_ag'] +\n",
    "                            summ_concentrat['final.output.concentrate_pb'] +\n",
    "                            summ_concentrat['final.output.concentrate_sol'] +\n",
    "                            summ_concentrat['final.output.concentrate_au'])   \n"
   ]
  },
  {
   "cell_type": "code",
   "execution_count": 121,
   "metadata": {},
   "outputs": [
    {
     "data": {
      "image/png": "[encoded data removed]",
      "text/plain": [
       "<Figure size 432x288 with 1 Axes>"
      ]
     },
     "metadata": {
      "needs_background": "light"
     },
     "output_type": "display_data"
    }
   ],
   "source": [
    "summ_concentrat['rougher'].hist(alpha=0.4, legend=True)\n",
    "summ_concentrat['primary'].hist(alpha=0.4, legend=True)\n",
    "summ_concentrat['final'].hist(alpha=0.4, legend=True);"
   ]
  },
  {
   "cell_type": "code",
   "execution_count": 122,
   "metadata": {},
   "outputs": [
    {
     "data": {
      "text/html": [
       "<div>\n",
       "<style scoped>\n",
       "    .dataframe tbody tr th:only-of-type {\n",
       "        vertical-align: middle;\n",
       "    }\n",
       "\n",
       "    .dataframe tbody tr th {\n",
       "        vertical-align: top;\n",
       "    }\n",
       "\n",
       "    .dataframe thead th {\n",
       "        text-align: right;\n",
       "    }\n",
       "</style>\n",
       "<table border=\"1\" class=\"dataframe\">\n",
       "  <thead>\n",
       "    <tr style=\"text-align: right;\">\n",
       "      <th></th>\n",
       "      <th>rougher</th>\n",
       "      <th>primary</th>\n",
       "      <th>final</th>\n",
       "    </tr>\n",
       "  </thead>\n",
       "  <tbody>\n",
       "    <tr>\n",
       "      <th>count</th>\n",
       "      <td>19,439.00</td>\n",
       "      <td>19,439.00</td>\n",
       "      <td>19,439.00</td>\n",
       "    </tr>\n",
       "    <tr>\n",
       "      <th>mean</th>\n",
       "      <td>57.32</td>\n",
       "      <td>68.17</td>\n",
       "      <td>68.65</td>\n",
       "    </tr>\n",
       "    <tr>\n",
       "      <th>std</th>\n",
       "      <td>7.21</td>\n",
       "      <td>12.49</td>\n",
       "      <td>7.43</td>\n",
       "    </tr>\n",
       "    <tr>\n",
       "      <th>min</th>\n",
       "      <td>0.04</td>\n",
       "      <td>0.00</td>\n",
       "      <td>0.00</td>\n",
       "    </tr>\n",
       "    <tr>\n",
       "      <th>25%</th>\n",
       "      <td>53.56</td>\n",
       "      <td>66.01</td>\n",
       "      <td>67.93</td>\n",
       "    </tr>\n",
       "    <tr>\n",
       "      <th>50%</th>\n",
       "      <td>57.59</td>\n",
       "      <td>70.18</td>\n",
       "      <td>69.60</td>\n",
       "    </tr>\n",
       "    <tr>\n",
       "      <th>75%</th>\n",
       "      <td>61.95</td>\n",
       "      <td>74.36</td>\n",
       "      <td>71.37</td>\n",
       "    </tr>\n",
       "    <tr>\n",
       "      <th>max</th>\n",
       "      <td>76.98</td>\n",
       "      <td>88.14</td>\n",
       "      <td>80.21</td>\n",
       "    </tr>\n",
       "  </tbody>\n",
       "</table>\n",
       "</div>"
      ],
      "text/plain": [
       "        rougher   primary     final\n",
       "count 19,439.00 19,439.00 19,439.00\n",
       "mean      57.32     68.17     68.65\n",
       "std        7.21     12.49      7.43\n",
       "min        0.04      0.00      0.00\n",
       "25%       53.56     66.01     67.93\n",
       "50%       57.59     70.18     69.60\n",
       "75%       61.95     74.36     71.37\n",
       "max       76.98     88.14     80.21"
      ]
     },
     "execution_count": 122,
     "metadata": {},
     "output_type": "execute_result"
    },
    {
     "data": {
      "image/png": "[encoded data removed]",
      "text/plain": [
       "<Figure size 1224x144 with 1 Axes>"
      ]
     },
     "metadata": {
      "needs_background": "light"
     },
     "output_type": "display_data"
    }
   ],
   "source": [
    "fig, ax = plt.subplots(figsize = (17,2))\n",
    "ax = summ_concentrat[['rougher', 'primary', 'final']].boxplot(vert = False, ax =ax)\n",
    "ax.set_title('Распределение значений обучающей выборки')\n",
    "ax.set_xlim(0, 90);\n",
    "\n",
    "summ_concentrat[['rougher', 'primary', 'final']].describe()\n"
   ]
  },
  {
   "cell_type": "markdown",
   "metadata": {},
   "source": [
    "Полученные данные показывают, что для обоих целевых признаков имеются ситуации, когда эффективность обогащения нулевая. Скорей всего это аномалии, связанные с качеством поступившего концетрата в обработку, в нем просто отсутствовало золото, либо технические ощибки при замерах. Такие ситуации должны исключаться на обогатительной фабрике, и если мы включим их в модель, то будет искажаться предсказание для всех остальных данных. Нулевые аномалии необходимо удалить."
   ]
  },
  {
   "cell_type": "code",
   "execution_count": 123,
   "metadata": {},
   "outputs": [
    {
     "data": {
      "text/html": [
       "<div>\n",
       "<style scoped>\n",
       "    .dataframe tbody tr th:only-of-type {\n",
       "        vertical-align: middle;\n",
       "    }\n",
       "\n",
       "    .dataframe tbody tr th {\n",
       "        vertical-align: top;\n",
       "    }\n",
       "\n",
       "    .dataframe thead th {\n",
       "        text-align: right;\n",
       "    }\n",
       "</style>\n",
       "<table border=\"1\" class=\"dataframe\">\n",
       "  <thead>\n",
       "    <tr style=\"text-align: right;\">\n",
       "      <th></th>\n",
       "      <th>date</th>\n",
       "      <th>rougher.input.feed_ag</th>\n",
       "      <th>rougher.input.feed_pb</th>\n",
       "      <th>rougher.input.feed_sol</th>\n",
       "      <th>rougher.input.feed_au</th>\n",
       "      <th>rougher.output.concentrate_ag</th>\n",
       "      <th>rougher.output.concentrate_au</th>\n",
       "      <th>rougher.output.concentrate_pb</th>\n",
       "      <th>rougher.output.concentrate_sol</th>\n",
       "      <th>final.output.concentrate_ag</th>\n",
       "      <th>final.output.concentrate_pb</th>\n",
       "      <th>final.output.concentrate_sol</th>\n",
       "      <th>final.output.concentrate_au</th>\n",
       "      <th>rougher</th>\n",
       "      <th>primary</th>\n",
       "      <th>final</th>\n",
       "    </tr>\n",
       "  </thead>\n",
       "  <tbody>\n",
       "    <tr>\n",
       "      <th>45</th>\n",
       "      <td>2016-01-16 21:00:00</td>\n",
       "      <td>7.52</td>\n",
       "      <td>2.81</td>\n",
       "      <td>41.15</td>\n",
       "      <td>7.11</td>\n",
       "      <td>0.00</td>\n",
       "      <td>0.00</td>\n",
       "      <td>0.00</td>\n",
       "      <td>0.00</td>\n",
       "      <td>4.57</td>\n",
       "      <td>10.41</td>\n",
       "      <td>4.59</td>\n",
       "      <td>46.61</td>\n",
       "      <td>58.60</td>\n",
       "      <td>0.00</td>\n",
       "      <td>66.18</td>\n",
       "    </tr>\n",
       "    <tr>\n",
       "      <th>46</th>\n",
       "      <td>2016-01-16 22:00:00</td>\n",
       "      <td>7.31</td>\n",
       "      <td>2.97</td>\n",
       "      <td>41.98</td>\n",
       "      <td>7.65</td>\n",
       "      <td>0.00</td>\n",
       "      <td>0.00</td>\n",
       "      <td>0.00</td>\n",
       "      <td>0.00</td>\n",
       "      <td>4.58</td>\n",
       "      <td>10.69</td>\n",
       "      <td>5.27</td>\n",
       "      <td>46.25</td>\n",
       "      <td>59.92</td>\n",
       "      <td>0.00</td>\n",
       "      <td>66.79</td>\n",
       "    </tr>\n",
       "    <tr>\n",
       "      <th>47</th>\n",
       "      <td>2016-01-16 23:00:00</td>\n",
       "      <td>7.93</td>\n",
       "      <td>1.76</td>\n",
       "      <td>41.98</td>\n",
       "      <td>5.59</td>\n",
       "      <td>0.00</td>\n",
       "      <td>0.00</td>\n",
       "      <td>0.00</td>\n",
       "      <td>0.00</td>\n",
       "      <td>4.59</td>\n",
       "      <td>10.63</td>\n",
       "      <td>5.69</td>\n",
       "      <td>46.66</td>\n",
       "      <td>57.27</td>\n",
       "      <td>0.00</td>\n",
       "      <td>67.57</td>\n",
       "    </tr>\n",
       "    <tr>\n",
       "      <th>48</th>\n",
       "      <td>2016-01-17 00:00:00</td>\n",
       "      <td>7.76</td>\n",
       "      <td>1.03</td>\n",
       "      <td>11.82</td>\n",
       "      <td>4.75</td>\n",
       "      <td>0.00</td>\n",
       "      <td>0.00</td>\n",
       "      <td>0.00</td>\n",
       "      <td>0.00</td>\n",
       "      <td>5.30</td>\n",
       "      <td>10.60</td>\n",
       "      <td>5.69</td>\n",
       "      <td>44.02</td>\n",
       "      <td>25.35</td>\n",
       "      <td>0.00</td>\n",
       "      <td>65.60</td>\n",
       "    </tr>\n",
       "    <tr>\n",
       "      <th>49</th>\n",
       "      <td>2016-01-17 02:00:00</td>\n",
       "      <td>5.39</td>\n",
       "      <td>1.82</td>\n",
       "      <td>28.38</td>\n",
       "      <td>5.12</td>\n",
       "      <td>0.00</td>\n",
       "      <td>0.00</td>\n",
       "      <td>0.00</td>\n",
       "      <td>0.00</td>\n",
       "      <td>8.16</td>\n",
       "      <td>8.88</td>\n",
       "      <td>5.69</td>\n",
       "      <td>40.72</td>\n",
       "      <td>40.72</td>\n",
       "      <td>0.00</td>\n",
       "      <td>63.45</td>\n",
       "    </tr>\n",
       "  </tbody>\n",
       "</table>\n",
       "</div>"
      ],
      "text/plain": [
       "                  date  rougher.input.feed_ag  rougher.input.feed_pb  \\\n",
       "45 2016-01-16 21:00:00                   7.52                   2.81   \n",
       "46 2016-01-16 22:00:00                   7.31                   2.97   \n",
       "47 2016-01-16 23:00:00                   7.93                   1.76   \n",
       "48 2016-01-17 00:00:00                   7.76                   1.03   \n",
       "49 2016-01-17 02:00:00                   5.39                   1.82   \n",
       "\n",
       "    rougher.input.feed_sol  rougher.input.feed_au  \\\n",
       "45                   41.15                   7.11   \n",
       "46                   41.98                   7.65   \n",
       "47                   41.98                   5.59   \n",
       "48                   11.82                   4.75   \n",
       "49                   28.38                   5.12   \n",
       "\n",
       "    rougher.output.concentrate_ag  rougher.output.concentrate_au  \\\n",
       "45                           0.00                           0.00   \n",
       "46                           0.00                           0.00   \n",
       "47                           0.00                           0.00   \n",
       "48                           0.00                           0.00   \n",
       "49                           0.00                           0.00   \n",
       "\n",
       "    rougher.output.concentrate_pb  rougher.output.concentrate_sol  \\\n",
       "45                           0.00                            0.00   \n",
       "46                           0.00                            0.00   \n",
       "47                           0.00                            0.00   \n",
       "48                           0.00                            0.00   \n",
       "49                           0.00                            0.00   \n",
       "\n",
       "    final.output.concentrate_ag  final.output.concentrate_pb  \\\n",
       "45                         4.57                        10.41   \n",
       "46                         4.58                        10.69   \n",
       "47                         4.59                        10.63   \n",
       "48                         5.30                        10.60   \n",
       "49                         8.16                         8.88   \n",
       "\n",
       "    final.output.concentrate_sol  final.output.concentrate_au  rougher  \\\n",
       "45                          4.59                        46.61    58.60   \n",
       "46                          5.27                        46.25    59.92   \n",
       "47                          5.69                        46.66    57.27   \n",
       "48                          5.69                        44.02    25.35   \n",
       "49                          5.69                        40.72    40.72   \n",
       "\n",
       "    primary  final  \n",
       "45     0.00  66.18  \n",
       "46     0.00  66.79  \n",
       "47     0.00  67.57  \n",
       "48     0.00  65.60  \n",
       "49     0.00  63.45  "
      ]
     },
     "metadata": {},
     "output_type": "display_data"
    },
    {
     "data": {
      "text/plain": [
       "(490, 16)"
      ]
     },
     "execution_count": 123,
     "metadata": {},
     "output_type": "execute_result"
    }
   ],
   "source": [
    "missing = summ_concentrat.query('rougher == 0 or primary == 0 or final == 0')\n",
    "display(missing.head())\n",
    "missing.shape"
   ]
  },
  {
   "cell_type": "markdown",
   "metadata": {},
   "source": [
    "Удаляем аномалии из обучающей выборки:"
   ]
  },
  {
   "cell_type": "code",
   "execution_count": 124,
   "metadata": {
    "scrolled": true
   },
   "outputs": [
    {
     "data": {
      "text/html": [
       "<div>\n",
       "<style scoped>\n",
       "    .dataframe tbody tr th:only-of-type {\n",
       "        vertical-align: middle;\n",
       "    }\n",
       "\n",
       "    .dataframe tbody tr th {\n",
       "        vertical-align: top;\n",
       "    }\n",
       "\n",
       "    .dataframe thead th {\n",
       "        text-align: right;\n",
       "    }\n",
       "</style>\n",
       "<table border=\"1\" class=\"dataframe\">\n",
       "  <thead>\n",
       "    <tr style=\"text-align: right;\">\n",
       "      <th></th>\n",
       "      <th>date</th>\n",
       "      <th>primary_cleaner.input.sulfate</th>\n",
       "      <th>primary_cleaner.input.depressant</th>\n",
       "      <th>primary_cleaner.input.feed_size</th>\n",
       "      <th>primary_cleaner.input.xanthate</th>\n",
       "      <th>primary_cleaner.state.floatbank8_a_air</th>\n",
       "      <th>primary_cleaner.state.floatbank8_a_level</th>\n",
       "      <th>primary_cleaner.state.floatbank8_b_air</th>\n",
       "      <th>primary_cleaner.state.floatbank8_b_level</th>\n",
       "      <th>primary_cleaner.state.floatbank8_c_air</th>\n",
       "      <th>...</th>\n",
       "      <th>secondary_cleaner.state.floatbank4_b_air</th>\n",
       "      <th>secondary_cleaner.state.floatbank4_b_level</th>\n",
       "      <th>secondary_cleaner.state.floatbank5_a_air</th>\n",
       "      <th>secondary_cleaner.state.floatbank5_a_level</th>\n",
       "      <th>secondary_cleaner.state.floatbank5_b_air</th>\n",
       "      <th>secondary_cleaner.state.floatbank5_b_level</th>\n",
       "      <th>secondary_cleaner.state.floatbank6_a_air</th>\n",
       "      <th>secondary_cleaner.state.floatbank6_a_level</th>\n",
       "      <th>final.output.recovery</th>\n",
       "      <th>rougher.output.recovery</th>\n",
       "    </tr>\n",
       "  </thead>\n",
       "  <tbody>\n",
       "    <tr>\n",
       "      <th>0</th>\n",
       "      <td>2016-01-15 00:00:00</td>\n",
       "      <td>127.09</td>\n",
       "      <td>10.13</td>\n",
       "      <td>7.25</td>\n",
       "      <td>0.99</td>\n",
       "      <td>1,549.78</td>\n",
       "      <td>-498.91</td>\n",
       "      <td>1,551.43</td>\n",
       "      <td>-516.40</td>\n",
       "      <td>1,549.87</td>\n",
       "      <td>...</td>\n",
       "      <td>12.10</td>\n",
       "      <td>-504.72</td>\n",
       "      <td>9.93</td>\n",
       "      <td>-498.31</td>\n",
       "      <td>8.08</td>\n",
       "      <td>-500.47</td>\n",
       "      <td>14.15</td>\n",
       "      <td>-605.84</td>\n",
       "      <td>70.54</td>\n",
       "      <td>87.11</td>\n",
       "    </tr>\n",
       "    <tr>\n",
       "      <th>1</th>\n",
       "      <td>2016-01-15 01:00:00</td>\n",
       "      <td>125.63</td>\n",
       "      <td>10.30</td>\n",
       "      <td>7.25</td>\n",
       "      <td>1.00</td>\n",
       "      <td>1,576.17</td>\n",
       "      <td>-500.90</td>\n",
       "      <td>1,575.95</td>\n",
       "      <td>-499.87</td>\n",
       "      <td>1,575.99</td>\n",
       "      <td>...</td>\n",
       "      <td>11.95</td>\n",
       "      <td>-501.33</td>\n",
       "      <td>10.04</td>\n",
       "      <td>-500.17</td>\n",
       "      <td>7.98</td>\n",
       "      <td>-500.58</td>\n",
       "      <td>14.00</td>\n",
       "      <td>-599.79</td>\n",
       "      <td>69.27</td>\n",
       "      <td>86.84</td>\n",
       "    </tr>\n",
       "    <tr>\n",
       "      <th>2</th>\n",
       "      <td>2016-01-15 02:00:00</td>\n",
       "      <td>123.82</td>\n",
       "      <td>11.32</td>\n",
       "      <td>7.25</td>\n",
       "      <td>0.99</td>\n",
       "      <td>1,601.56</td>\n",
       "      <td>-500.00</td>\n",
       "      <td>1,600.39</td>\n",
       "      <td>-500.61</td>\n",
       "      <td>1,602.00</td>\n",
       "      <td>...</td>\n",
       "      <td>11.91</td>\n",
       "      <td>-501.13</td>\n",
       "      <td>10.07</td>\n",
       "      <td>-500.13</td>\n",
       "      <td>8.01</td>\n",
       "      <td>-500.52</td>\n",
       "      <td>14.03</td>\n",
       "      <td>-601.43</td>\n",
       "      <td>68.12</td>\n",
       "      <td>86.84</td>\n",
       "    </tr>\n",
       "    <tr>\n",
       "      <th>3</th>\n",
       "      <td>2016-01-15 03:00:00</td>\n",
       "      <td>122.27</td>\n",
       "      <td>11.32</td>\n",
       "      <td>7.25</td>\n",
       "      <td>1.00</td>\n",
       "      <td>1,599.97</td>\n",
       "      <td>-500.95</td>\n",
       "      <td>1,600.66</td>\n",
       "      <td>-499.68</td>\n",
       "      <td>1,600.30</td>\n",
       "      <td>...</td>\n",
       "      <td>12.00</td>\n",
       "      <td>-501.19</td>\n",
       "      <td>9.97</td>\n",
       "      <td>-499.20</td>\n",
       "      <td>7.98</td>\n",
       "      <td>-500.26</td>\n",
       "      <td>14.01</td>\n",
       "      <td>-600.00</td>\n",
       "      <td>68.35</td>\n",
       "      <td>87.23</td>\n",
       "    </tr>\n",
       "    <tr>\n",
       "      <th>4</th>\n",
       "      <td>2016-01-15 04:00:00</td>\n",
       "      <td>117.99</td>\n",
       "      <td>11.91</td>\n",
       "      <td>7.25</td>\n",
       "      <td>1.01</td>\n",
       "      <td>1,601.34</td>\n",
       "      <td>-498.98</td>\n",
       "      <td>1,601.44</td>\n",
       "      <td>-500.32</td>\n",
       "      <td>1,599.58</td>\n",
       "      <td>...</td>\n",
       "      <td>11.95</td>\n",
       "      <td>-501.05</td>\n",
       "      <td>9.93</td>\n",
       "      <td>-501.69</td>\n",
       "      <td>7.89</td>\n",
       "      <td>-500.36</td>\n",
       "      <td>14.00</td>\n",
       "      <td>-601.50</td>\n",
       "      <td>66.93</td>\n",
       "      <td>86.69</td>\n",
       "    </tr>\n",
       "  </tbody>\n",
       "</table>\n",
       "<p>5 rows × 55 columns</p>\n",
       "</div>"
      ],
      "text/plain": [
       "                 date  primary_cleaner.input.sulfate  \\\n",
       "0 2016-01-15 00:00:00                         127.09   \n",
       "1 2016-01-15 01:00:00                         125.63   \n",
       "2 2016-01-15 02:00:00                         123.82   \n",
       "3 2016-01-15 03:00:00                         122.27   \n",
       "4 2016-01-15 04:00:00                         117.99   \n",
       "\n",
       "   primary_cleaner.input.depressant  primary_cleaner.input.feed_size  \\\n",
       "0                             10.13                             7.25   \n",
       "1                             10.30                             7.25   \n",
       "2                             11.32                             7.25   \n",
       "3                             11.32                             7.25   \n",
       "4                             11.91                             7.25   \n",
       "\n",
       "   primary_cleaner.input.xanthate  primary_cleaner.state.floatbank8_a_air  \\\n",
       "0                            0.99                                1,549.78   \n",
       "1                            1.00                                1,576.17   \n",
       "2                            0.99                                1,601.56   \n",
       "3                            1.00                                1,599.97   \n",
       "4                            1.01                                1,601.34   \n",
       "\n",
       "   primary_cleaner.state.floatbank8_a_level  \\\n",
       "0                                   -498.91   \n",
       "1                                   -500.90   \n",
       "2                                   -500.00   \n",
       "3                                   -500.95   \n",
       "4                                   -498.98   \n",
       "\n",
       "   primary_cleaner.state.floatbank8_b_air  \\\n",
       "0                                1,551.43   \n",
       "1                                1,575.95   \n",
       "2                                1,600.39   \n",
       "3                                1,600.66   \n",
       "4                                1,601.44   \n",
       "\n",
       "   primary_cleaner.state.floatbank8_b_level  \\\n",
       "0                                   -516.40   \n",
       "1                                   -499.87   \n",
       "2                                   -500.61   \n",
       "3                                   -499.68   \n",
       "4                                   -500.32   \n",
       "\n",
       "   primary_cleaner.state.floatbank8_c_air  ...  \\\n",
       "0                                1,549.87  ...   \n",
       "1                                1,575.99  ...   \n",
       "2                                1,602.00  ...   \n",
       "3                                1,600.30  ...   \n",
       "4                                1,599.58  ...   \n",
       "\n",
       "   secondary_cleaner.state.floatbank4_b_air  \\\n",
       "0                                     12.10   \n",
       "1                                     11.95   \n",
       "2                                     11.91   \n",
       "3                                     12.00   \n",
       "4                                     11.95   \n",
       "\n",
       "   secondary_cleaner.state.floatbank4_b_level  \\\n",
       "0                                     -504.72   \n",
       "1                                     -501.33   \n",
       "2                                     -501.13   \n",
       "3                                     -501.19   \n",
       "4                                     -501.05   \n",
       "\n",
       "   secondary_cleaner.state.floatbank5_a_air  \\\n",
       "0                                      9.93   \n",
       "1                                     10.04   \n",
       "2                                     10.07   \n",
       "3                                      9.97   \n",
       "4                                      9.93   \n",
       "\n",
       "   secondary_cleaner.state.floatbank5_a_level  \\\n",
       "0                                     -498.31   \n",
       "1                                     -500.17   \n",
       "2                                     -500.13   \n",
       "3                                     -499.20   \n",
       "4                                     -501.69   \n",
       "\n",
       "   secondary_cleaner.state.floatbank5_b_air  \\\n",
       "0                                      8.08   \n",
       "1                                      7.98   \n",
       "2                                      8.01   \n",
       "3                                      7.98   \n",
       "4                                      7.89   \n",
       "\n",
       "   secondary_cleaner.state.floatbank5_b_level  \\\n",
       "0                                     -500.47   \n",
       "1                                     -500.58   \n",
       "2                                     -500.52   \n",
       "3                                     -500.26   \n",
       "4                                     -500.36   \n",
       "\n",
       "   secondary_cleaner.state.floatbank6_a_air  \\\n",
       "0                                     14.15   \n",
       "1                                     14.00   \n",
       "2                                     14.03   \n",
       "3                                     14.01   \n",
       "4                                     14.00   \n",
       "\n",
       "   secondary_cleaner.state.floatbank6_a_level  final.output.recovery  \\\n",
       "0                                     -605.84                  70.54   \n",
       "1                                     -599.79                  69.27   \n",
       "2                                     -601.43                  68.12   \n",
       "3                                     -600.00                  68.35   \n",
       "4                                     -601.50                  66.93   \n",
       "\n",
       "   rougher.output.recovery  \n",
       "0                    87.11  \n",
       "1                    86.84  \n",
       "2                    86.84  \n",
       "3                    87.23  \n",
       "4                    86.69  \n",
       "\n",
       "[5 rows x 55 columns]"
      ]
     },
     "metadata": {},
     "output_type": "display_data"
    },
    {
     "data": {
      "text/plain": [
       "(13795, 55)"
      ]
     },
     "execution_count": 124,
     "metadata": {},
     "output_type": "execute_result"
    }
   ],
   "source": [
    "data_train_cool = data_train.query('date not in @missing[\"date\"]')\n",
    "display(data_train_cool.head())\n",
    "data_train_cool.shape"
   ]
  },
  {
   "cell_type": "markdown",
   "metadata": {},
   "source": [
    "Удалять пропуски из тестовой выборки мы не будем, так у нас будет возможность узнать качество модели с данными имеющими пропуски."
   ]
  },
  {
   "cell_type": "markdown",
   "metadata": {},
   "source": [
    "**Данные готовы к обучению**"
   ]
  },
  {
   "cell_type": "markdown",
   "metadata": {},
   "source": [
    "## Модель"
   ]
  },
  {
   "cell_type": "markdown",
   "metadata": {},
   "source": [
    "### Функция для вычисления итоговой sMAPE"
   ]
  },
  {
   "cell_type": "markdown",
   "metadata": {},
   "source": [
    "Напишем функцию для расчета sMAPE:"
   ]
  },
  {
   "cell_type": "code",
   "execution_count": 125,
   "metadata": {},
   "outputs": [],
   "source": [
    "def smape (target, predictions):\n",
    "    numerator = abs(predictions - target)\n",
    "    denominator = (abs(target) + abs(predictions)) / 2\n",
    "    summa = (numerator / denominator).sum()\n",
    "    smape = (1 / len(target)) * summa * 100\n",
    "    return smape"
   ]
  },
  {
   "cell_type": "markdown",
   "metadata": {},
   "source": [
    "Напишем функцию для оценки качества модели с помощью кросс-валидации."
   ]
  },
  {
   "cell_type": "code",
   "execution_count": 126,
   "metadata": {},
   "outputs": [],
   "source": [
    "def cross_val (model, features, target):\n",
    "    scores = cross_val_score(model, features, target, scoring=make_scorer(smape, greater_is_better=True), cv=5,n_jobs=-1)\n",
    "    smape_res = np.mean(scores)\n",
    "    return smape_res"
   ]
  },
  {
   "cell_type": "markdown",
   "metadata": {},
   "source": [
    "Напишем функцию для автоматического вывода smape каждого этапа и финальной sMAPE."
   ]
  },
  {
   "cell_type": "code",
   "execution_count": 127,
   "metadata": {},
   "outputs": [],
   "source": [
    "def ml(model, features_rougher, target_rougher, features_final, target_final):\n",
    "    smape_rougher = cross_val (model, features_rougher, target_rougher)\n",
    "    smape_final = cross_val (model, features_final, target_final)\n",
    "    smape_end = 0.25 * smape_rougher + 0.75 * smape_final\n",
    "    \n",
    "    return smape_end, smape_rougher, smape_final"
   ]
  },
  {
   "cell_type": "markdown",
   "metadata": {},
   "source": [
    "### Подбор и обучение модели"
   ]
  },
  {
   "cell_type": "markdown",
   "metadata": {},
   "source": [
    "Сформируем файлы для расчета целевых признаков из тестового датафрейма.\n",
    "- для расчета целевого признака эффективности обогащения чернового концентрата (`rougher.output.recovery`) при флотации мы будем использовать признаки `rougher` (флотация)\n",
    "- для расчета целевого признака эффективности обогащения финального концентрата (final.output.recovery) используем все признаки"
   ]
  },
  {
   "cell_type": "code",
   "execution_count": 128,
   "metadata": {},
   "outputs": [
    {
     "data": {
      "text/plain": [
       "(13795, 22)"
      ]
     },
     "execution_count": 128,
     "metadata": {},
     "output_type": "execute_result"
    }
   ],
   "source": [
    "features_train_rougher = data_train_cool[['rougher.input.feed_ag',\n",
    " 'rougher.input.feed_au',\n",
    " 'rougher.input.feed_pb',\n",
    " 'rougher.input.feed_rate',\n",
    " 'rougher.input.feed_size',\n",
    " 'rougher.input.feed_sol',\n",
    " 'rougher.input.floatbank10_sulfate',\n",
    " 'rougher.input.floatbank10_xanthate',\n",
    " 'rougher.input.floatbank11_sulfate',\n",
    " 'rougher.input.floatbank11_xanthate',\n",
    " 'rougher.state.floatbank10_a_air',\n",
    " 'rougher.state.floatbank10_a_level',\n",
    " 'rougher.state.floatbank10_b_air',\n",
    " 'rougher.state.floatbank10_b_level',\n",
    " 'rougher.state.floatbank10_c_air',\n",
    " 'rougher.state.floatbank10_c_level',\n",
    " 'rougher.state.floatbank10_d_air',\n",
    " 'rougher.state.floatbank10_d_level',\n",
    " 'rougher.state.floatbank10_e_air',\n",
    " 'rougher.state.floatbank10_e_level',\n",
    " 'rougher.state.floatbank10_f_air',\n",
    " 'rougher.state.floatbank10_f_level']]\n",
    "features_train_rougher.shape # проверяем"
   ]
  },
  {
   "cell_type": "code",
   "execution_count": 129,
   "metadata": {},
   "outputs": [
    {
     "name": "stdout",
     "output_type": "stream",
     "text": [
      "(13795,) (13795, 52) (13795,)\n"
     ]
    }
   ],
   "source": [
    "target_train_rougher = data_train_cool['rougher.output.recovery']\n",
    "features_train_final = data_train_cool.drop(['rougher.output.recovery', 'final.output.recovery', 'date'], axis=1)\n",
    "target_train_final = data_train_cool['final.output.recovery']\n",
    "\n",
    "print(target_train_rougher.shape, features_train_final.shape, target_train_final.shape) # проверяем"
   ]
  },
  {
   "cell_type": "markdown",
   "metadata": {},
   "source": [
    "Сформируем файлы для расчета целевых признаков из тестового датафрейма.\n",
    "- для расчета целевого признака эффективности обогащения чернового концентрата (`rougher.output.recovery`) при флотации мы будем использовать признаки `rougher` (флотация)\n",
    "- для расчета целевого признака эффективности обогащения финального концентрата (final.output.recovery) используем все признаки"
   ]
  },
  {
   "cell_type": "code",
   "execution_count": 130,
   "metadata": {},
   "outputs": [
    {
     "data": {
      "text/plain": [
       "(5290, 22)"
      ]
     },
     "execution_count": 130,
     "metadata": {},
     "output_type": "execute_result"
    }
   ],
   "source": [
    "features_test_rougher = data_test[['rougher.input.feed_ag',\n",
    " 'rougher.input.feed_au',\n",
    " 'rougher.input.feed_pb',\n",
    " 'rougher.input.feed_rate',\n",
    " 'rougher.input.feed_size',\n",
    " 'rougher.input.feed_sol',\n",
    " 'rougher.input.floatbank10_sulfate',\n",
    " 'rougher.input.floatbank10_xanthate',\n",
    " 'rougher.input.floatbank11_sulfate',\n",
    " 'rougher.input.floatbank11_xanthate',\n",
    " 'rougher.state.floatbank10_a_air',\n",
    " 'rougher.state.floatbank10_a_level',\n",
    " 'rougher.state.floatbank10_b_air',\n",
    " 'rougher.state.floatbank10_b_level',\n",
    " 'rougher.state.floatbank10_c_air',\n",
    " 'rougher.state.floatbank10_c_level',\n",
    " 'rougher.state.floatbank10_d_air',\n",
    " 'rougher.state.floatbank10_d_level',\n",
    " 'rougher.state.floatbank10_e_air',\n",
    " 'rougher.state.floatbank10_e_level',\n",
    " 'rougher.state.floatbank10_f_air',\n",
    " 'rougher.state.floatbank10_f_level']]\n",
    "features_test_rougher.shape # проверяем"
   ]
  },
  {
   "cell_type": "code",
   "execution_count": 131,
   "metadata": {},
   "outputs": [
    {
     "name": "stdout",
     "output_type": "stream",
     "text": [
      "(5290,) (5290, 52) (5290,)\n"
     ]
    }
   ],
   "source": [
    "target_test_rougher = data_test['rougher.output.recovery']\n",
    "features_test_final = data_test.drop(['rougher.output.recovery', 'final.output.recovery', 'date'], axis=1)\n",
    "target_test_final = data_test['final.output.recovery']\n",
    "\n",
    "print(target_test_rougher.shape, features_test_final.shape, target_test_final.shape) # проверяем"
   ]
  },
  {
   "cell_type": "code",
   "execution_count": 132,
   "metadata": {},
   "outputs": [],
   "source": [
    "scaler_rougher = StandardScaler()\n",
    "scaler_rougher.fit(features_train_rougher) #обучаем на train\n",
    "features_scaler_rougher = scaler_rougher.transform(features_train_rougher) # масштабируем train\n"
   ]
  },
  {
   "cell_type": "code",
   "execution_count": 133,
   "metadata": {},
   "outputs": [],
   "source": [
    "features_scaler_rougher_test = scaler_rougher.transform(features_test_rougher) # масштабируем test"
   ]
  },
  {
   "cell_type": "code",
   "execution_count": 134,
   "metadata": {},
   "outputs": [],
   "source": [
    "scaler_final = StandardScaler()\n",
    "scaler_final.fit(features_train_final) #обучаем на train\n",
    "features_scaler_final = scaler_final.transform(features_train_final) # масштабируем train"
   ]
  },
  {
   "cell_type": "code",
   "execution_count": 135,
   "metadata": {},
   "outputs": [],
   "source": [
    "features_scaler_final_test = scaler_final.transform(features_test_final)  # масштабируем test"
   ]
  },
  {
   "cell_type": "markdown",
   "metadata": {},
   "source": [
    "**Модель случайного леса**"
   ]
  },
  {
   "cell_type": "code",
   "execution_count": 136,
   "metadata": {
    "scrolled": true
   },
   "outputs": [
    {
     "name": "stdout",
     "output_type": "stream",
     "text": [
      "Лучший результат финальной sMAPE 8.874789603083958 у модели max_depth = 8,  n_estimators= 49\n",
      "Средняя оценка качества по кросс-валидации на этапе флотации составила 6.715926014600359\n",
      "Средняя оценка качества по кросс-валидации на финальном этапе составила 9.594410799245159\n",
      "CPU times: user 1min 23s, sys: 128 ms, total: 1min 23s\n",
      "Wall time: 1min 23s\n"
     ]
    }
   ],
   "source": [
    "%%time\n",
    "\n",
    "best_result = 100 #переменные для лучшего результата \n",
    "est_result = 0 #переменная для сохранения показателей \n",
    "depth_result = 0\n",
    "smape_rougher = 0\n",
    "smape_final = 0\n",
    "for est in range(1, 50, 3):\n",
    "    for depth in range(1, 10):\n",
    "        model = RandomForestRegressor(random_state=0, n_estimators=est, max_depth=depth)\n",
    "        smape_end, smape_rougher, smape_final = ml(model, features_scaler_rougher, target_train_rougher,\n",
    "                                                   features_scaler_final, target_train_final)\n",
    "        \n",
    "        if smape_end < best_result:\n",
    "            best_result = smape_end\n",
    "            est_result = est\n",
    "            depth_result = depth\n",
    "            smape_rougher = smape_rougher\n",
    "            smape_final = smape_final\n",
    "print(f'Лучший результат финальной sMAPE {best_result} у модели max_depth = {depth},  n_estimators= {est}')\n",
    "print('Средняя оценка качества по кросс-валидации на этапе флотации составила', smape_rougher)\n",
    "print('Средняя оценка качества по кросс-валидации на финальном этапе составила', smape_final)"
   ]
  },
  {
   "cell_type": "markdown",
   "metadata": {},
   "source": [
    "**Модель логистической регрессии**"
   ]
  },
  {
   "cell_type": "code",
   "execution_count": 137,
   "metadata": {},
   "outputs": [
    {
     "name": "stdout",
     "output_type": "stream",
     "text": [
      "Финальный sMAPE 9.90775938030552\n",
      "Средняя оценка качества по кросс-валидации на этапе флотации составила 6.660435975748042\n",
      "Средняя оценка качества по кросс-валидации на финальном этапе составила 10.990200515158014\n",
      "CPU times: user 1.2 s, sys: 1.63 s, total: 2.82 s\n",
      "Wall time: 2.82 s\n"
     ]
    }
   ],
   "source": [
    "%%time\n",
    "model = LinearRegression()\n",
    "smape_end, smape_rougher, smape_final = ml(model, features_scaler_rougher,\n",
    "                                           target_train_rougher, features_scaler_final, target_train_final)\n",
    "print(f'Финальный sMAPE {smape_end}')\n",
    "print('Средняя оценка качества по кросс-валидации на этапе флотации составила', smape_rougher)\n",
    "print('Средняя оценка качества по кросс-валидации на финальном этапе составила', smape_final)"
   ]
  },
  {
   "cell_type": "markdown",
   "metadata": {},
   "source": [
    "**Базисная модель (для получения эталона)**"
   ]
  },
  {
   "cell_type": "code",
   "execution_count": 138,
   "metadata": {},
   "outputs": [
    {
     "name": "stdout",
     "output_type": "stream",
     "text": [
      "Финальный sMAPE 9.786895735237463\n",
      "Средняя оценка качества по кросс-валидации на этапе флотации составила 7.804618399753869\n",
      "Средняя оценка качества по кросс-валидации на финальном этапе составила 10.447654847065328\n"
     ]
    }
   ],
   "source": [
    "model = DummyRegressor()\n",
    "smape_end, smape_rougher, smape_final = ml(model, features_scaler_rougher,\n",
    "                                           target_train_rougher, features_scaler_final, target_train_final)\n",
    "print(f'Финальный sMAPE {smape_end}')\n",
    "print('Средняя оценка качества по кросс-валидации на этапе флотации составила', smape_rougher)\n",
    "print('Средняя оценка качества по кросс-валидации на финальном этапе составила', smape_final)"
   ]
  },
  {
   "cell_type": "markdown",
   "metadata": {},
   "source": [
    "### Проверка модели на тестовой выборке"
   ]
  },
  {
   "cell_type": "markdown",
   "metadata": {},
   "source": [
    "Напишем модель для обучения модели и проверки на тестовой выборке"
   ]
  },
  {
   "cell_type": "code",
   "execution_count": 139,
   "metadata": {},
   "outputs": [],
   "source": [
    "def ml_test(model):\n",
    "    model_rougher = model\n",
    "    model_rougher.fit(features_scaler_rougher, target_train_rougher)\n",
    "    predict_rougher = model_rougher.predict(features_scaler_rougher_test)\n",
    "    \n",
    "\n",
    "    model_final = model\n",
    "    model_rougher.fit(features_scaler_final, target_train_final)\n",
    "    predict_final = model_rougher.predict(features_scaler_final_test)\n",
    "    \n",
    "    smape_rougher = smape(target_test_rougher, predict_rougher)\n",
    "    smape_final = smape(target_test_final, predict_final)\n",
    "    \n",
    "    smape_end = 0.25 * smape_rougher + 0.75 * smape_final\n",
    "    print('Средняя оценка качества модели на этапе флотации составила', smape_rougher)\n",
    "    print('Средняя оценка качества модели на финальном этапе составила', smape_final)\n",
    "    print('Конечная оценка качества модели составила', smape_end)"
   ]
  },
  {
   "cell_type": "markdown",
   "metadata": {},
   "source": [
    "**Случайный лес**"
   ]
  },
  {
   "cell_type": "code",
   "execution_count": 140,
   "metadata": {},
   "outputs": [
    {
     "name": "stdout",
     "output_type": "stream",
     "text": [
      "Средняя оценка качества модели на этапе флотации составила 8.145703462796853\n",
      "Средняя оценка качества модели на финальном этапе составила 9.723782793058835\n",
      "Конечная оценка качества модели составила 9.329262960493338\n",
      "CPU times: user 21.2 s, sys: 24 ms, total: 21.2 s\n",
      "Wall time: 21.6 s\n"
     ]
    }
   ],
   "source": [
    "%%time\n",
    "model = RandomForestRegressor(random_state=12345, n_estimators=est_result, max_depth=depth_result)\n",
    "ml_test(model)"
   ]
  },
  {
   "cell_type": "markdown",
   "metadata": {},
   "source": [
    "**Логистическая регрессия**"
   ]
  },
  {
   "cell_type": "code",
   "execution_count": 141,
   "metadata": {
    "scrolled": true
   },
   "outputs": [
    {
     "name": "stdout",
     "output_type": "stream",
     "text": [
      "Средняя оценка качества модели на этапе флотации составила 8.188480264713816\n",
      "Средняя оценка качества модели на финальном этапе составила 9.97467110319157\n",
      "Конечная оценка качества модели составила 9.528123393572132\n",
      "CPU times: user 239 ms, sys: 216 ms, total: 455 ms\n",
      "Wall time: 425 ms\n"
     ]
    }
   ],
   "source": [
    "%%time\n",
    "model = LinearRegression()\n",
    "ml_test(model)"
   ]
  },
  {
   "cell_type": "markdown",
   "metadata": {},
   "source": [
    "**Базисная модель**"
   ]
  },
  {
   "cell_type": "code",
   "execution_count": 142,
   "metadata": {
    "scrolled": true
   },
   "outputs": [
    {
     "name": "stdout",
     "output_type": "stream",
     "text": [
      "Средняя оценка качества модели на этапе флотации составила 9.066630806401538\n",
      "Средняя оценка качества модели на финальном этапе составила 10.074847136380473\n",
      "Конечная оценка качества модели составила 9.82279305388574\n"
     ]
    }
   ],
   "source": [
    "model = DummyRegressor()\n",
    "ml_test(model)"
   ]
  },
  {
   "cell_type": "markdown",
   "metadata": {},
   "source": [
    "**Вывод** Наилучший результат предсказаний показала модель случайного леса \n",
    "- Конечная оценка качества модели составила (финальный sMAPE) 9,32"
   ]
  },
  {
   "cell_type": "code",
   "execution_count": null,
   "metadata": {},
   "outputs": [],
   "source": []
  },
  {
   "cell_type": "markdown",
   "metadata": {},
   "source": [
    "## Вывод"
   ]
  },
  {
   "cell_type": "markdown",
   "metadata": {},
   "source": [
    "1. Ознакомление с данными:\n",
    "- Нам представлены 3 датасета, содержащие технические данные о параметрах добычи и очистки золотосодержащей руды. \n",
    "- Датафрейм `data_full` генеральная выборка состоит из 87 признаков и 19439 наблюдений\n",
    "- Датафрейм `data_test` тестовая выборка состоит из 53 признаков и 5290 наблюдений, целевых признаков не содержит\n",
    "- Датафрейм `data_train` обучающая выборка состоит из 87 признаков и 14149 наблюдений, целевых признаков не содержит\n",
    "- Во всех датасетах имеются пропуски, которые необходимо исследовать и заполнить\n",
    "2. Предобработка данных\n",
    "- Проведена проверка расчета эффективности обогащения - данные расчитаны корректно.\n",
    "- В тестовом DF нет расчетных признаков, которые получаются путём использования других и представляют собой производные параметры. Удалены производные признаки из датафрейма data_train производные признаки.\n",
    "- Пропуски в данных заполнены\n",
    "- В тестовую и обучающую выборки добавлены два целевых признака final.output.recovery, rougher.output.recovery  из общей выборки data_full  по индексу date\n",
    "3. Анализ данных:\n",
    "- проведен анализ концентрации металлов на разных этапах добычи:\n",
    "    - Концентрация золота растет с каждой последующей обработкой.\n",
    "    - Концентрация серебра увеличивается при флотации, но снижается после вторичной обработке.\n",
    "    - Концентрация свинца незначительно растет прифлотации и первичной обработке, но не изменяется при вторичной очистке.\n",
    "- изучены данные о размерах гранул сырья на разных этапах обучающей и тестовой выборки \n",
    "    - Для обоих параметров распределения не сильно отличаются друг от друга, такие неточности не должны критично повлиять на работу модели.\n",
    "- Проверена суммарная концентрация веществ на разных этапах:\n",
    "    - Полученные данные показывают, что для обоих целевых признаков имеются ситуации, когда эффективность обогащения нулевая. Скорей всего это аномалии, связанные с качеством поступившего концетрата в обработку, в нем просто отсутствовало золото, либо технические ощибки при замерах. Такие ситуации должны исключаться на обогатительной фабрике, и если мы включим их в модель, то будет искажаться предсказание для всех остальных данных. Нулевые аномалии необходимо удалить.\n",
    "    - Удаление наблюдений с нулевыми данными из тестовой выборки не проводилось\n",
    "- Данные подготовлены для обучения моделей"
   ]
  },
  {
   "cell_type": "markdown",
   "metadata": {},
   "source": [
    "4. Сформированы файлы для расчета целевых признаков из тестового и обучающего датафреймов.\n",
    "- для расчета целевого признака эффективности обогащения чернового концентрата (`rougher.output.recovery`) при флотации мы будем использовать признаки `rougher` (флотация)\n",
    "- для расчета целевого признака эффективности обогащения финального концентрата (final.output.recovery) используем все признаки"
   ]
  },
  {
   "cell_type": "markdown",
   "metadata": {},
   "source": [
    "5. Построены и обучены модели:\n",
    "- случайный лес с подбором гиперпараметров\n",
    "    - Лучший результат финальной sMAPE 8,87 у модели max_depth = 8,  n_estimators= 49\n",
    "    - Средняя оценка качества по кросс-валидации на этапе флотации составила 6,72\n",
    "    - Средняя оценка качества по кросс-валидации на финальном этапе составила 9,59\n",
    "- логистическая регрессия\n",
    "    - Финальный sMAPE 9,91\n",
    "    - Средняя оценка качества по кросс-валидации на этапе флотации составила 6,66\n",
    "    - Средняя оценка качества по кросс-валидации на финальном этапе составила 10.99\n",
    "- Базисная модель (для получения эталона)\n",
    "    - Финальный sMAPE 9,79\n",
    "    - Средняя оценка качества по кросс-валидации на этапе флотации составила 7,80\n",
    "    - Средняя оценка качества по кросс-валидации на финальном этапе составила 10.44\n",
    "\n",
    "Лучший результат у Случайного леса - финальный sMAPE 8,87"
   ]
  },
  {
   "cell_type": "markdown",
   "metadata": {},
   "source": [
    "6. Модели проверены на тестовой выборке\n",
    "- Случайный лес:\n",
    "    - Средняя оценка качества модели на этапе флотации составила 8,14\n",
    "    - Средняя оценка качества модели на финальном этапе составила 9,72\n",
    "    - **Конечная оценка качества модели составила 9,32**\n",
    "- логистическая регрессия\n",
    "    - Средняя оценка качества модели на этапе флотации составила 8,19\n",
    "    - Средняя оценка качества модели на финальном этапе составила 9.97\n",
    "    - **Конечная оценка качества модели составила 9.53**\n",
    "- Базисная модель \n",
    "    - Средняя оценка качества модели на этапе флотации составила 9,07\n",
    "    - Средняя оценка качества модели на финальном этапе составила 10.07\n",
    "    - **Конечная оценка качества модели составила 9,82**\n",
    "\n",
    "**Лучший результат у Случайного леса - финальный sMAPE 9,32**"
   ]
  }
 ],
 "metadata": {
  "ExecuteTimeLog": [
   {
    "duration": 3,
    "start_time": "2022-05-24T00:33:51.511Z"
   },
   {
    "duration": 1025,
    "start_time": "2022-05-24T00:34:54.729Z"
   },
   {
    "duration": 18,
    "start_time": "2022-05-24T00:36:37.599Z"
   },
   {
    "duration": 848,
    "start_time": "2022-05-24T00:37:19.819Z"
   },
   {
    "duration": 18,
    "start_time": "2022-05-24T00:37:25.130Z"
   },
   {
    "duration": 2586,
    "start_time": "2022-05-24T00:38:42.483Z"
   },
   {
    "duration": 18,
    "start_time": "2022-05-24T00:38:48.595Z"
   },
   {
    "duration": 8,
    "start_time": "2022-05-24T02:16:47.757Z"
   },
   {
    "duration": 4,
    "start_time": "2022-05-24T02:17:07.446Z"
   },
   {
    "duration": 47,
    "start_time": "2022-05-24T02:36:42.477Z"
   },
   {
    "duration": 20,
    "start_time": "2022-05-24T02:36:59.463Z"
   },
   {
    "duration": 84,
    "start_time": "2022-05-24T02:37:13.902Z"
   },
   {
    "duration": 848,
    "start_time": "2022-05-24T02:37:18.567Z"
   },
   {
    "duration": 148,
    "start_time": "2022-05-24T02:41:09.810Z"
   },
   {
    "duration": 190,
    "start_time": "2022-05-24T02:41:45.265Z"
   },
   {
    "duration": 151,
    "start_time": "2022-05-24T03:56:35.934Z"
   },
   {
    "duration": 8,
    "start_time": "2022-05-24T04:24:40.149Z"
   },
   {
    "duration": 39,
    "start_time": "2022-05-24T04:24:44.451Z"
   },
   {
    "duration": 4,
    "start_time": "2022-05-24T04:25:19.534Z"
   },
   {
    "duration": 446,
    "start_time": "2022-05-24T04:25:22.323Z"
   },
   {
    "duration": 4,
    "start_time": "2022-05-24T04:25:34.565Z"
   },
   {
    "duration": 7,
    "start_time": "2022-05-24T04:25:35.022Z"
   },
   {
    "duration": 7,
    "start_time": "2022-05-24T04:26:37.942Z"
   },
   {
    "duration": 12,
    "start_time": "2022-05-24T04:27:23.344Z"
   },
   {
    "duration": 7,
    "start_time": "2022-05-24T04:27:39.553Z"
   },
   {
    "duration": 8,
    "start_time": "2022-05-24T04:28:34.796Z"
   },
   {
    "duration": 16,
    "start_time": "2022-05-24T05:11:57.792Z"
   },
   {
    "duration": 4,
    "start_time": "2022-05-24T05:13:00.442Z"
   },
   {
    "duration": 803,
    "start_time": "2022-05-24T05:13:00.447Z"
   },
   {
    "duration": 189,
    "start_time": "2022-05-24T05:13:01.251Z"
   },
   {
    "duration": 4,
    "start_time": "2022-05-24T05:13:01.443Z"
   },
   {
    "duration": 25,
    "start_time": "2022-05-24T05:13:01.450Z"
   },
   {
    "duration": 39,
    "start_time": "2022-05-24T05:13:01.477Z"
   },
   {
    "duration": 68,
    "start_time": "2022-05-24T05:13:01.518Z"
   },
   {
    "duration": 13,
    "start_time": "2022-05-24T05:15:51.989Z"
   },
   {
    "duration": 16,
    "start_time": "2022-05-24T05:22:01.490Z"
   },
   {
    "duration": 7,
    "start_time": "2022-05-24T05:22:18.617Z"
   },
   {
    "duration": 14,
    "start_time": "2022-05-24T05:22:53.490Z"
   },
   {
    "duration": 20,
    "start_time": "2022-05-24T05:23:34.429Z"
   },
   {
    "duration": 4,
    "start_time": "2022-05-24T05:33:20.034Z"
   },
   {
    "duration": 12,
    "start_time": "2022-05-24T05:33:20.774Z"
   },
   {
    "duration": 5,
    "start_time": "2022-05-24T05:33:23.975Z"
   },
   {
    "duration": 25,
    "start_time": "2022-05-24T05:33:51.664Z"
   },
   {
    "duration": 7,
    "start_time": "2022-05-24T05:33:55.280Z"
   },
   {
    "duration": 3,
    "start_time": "2022-05-24T06:25:05.405Z"
   },
   {
    "duration": 169,
    "start_time": "2022-05-26T02:46:13.779Z"
   },
   {
    "duration": 189,
    "start_time": "2022-05-26T02:46:52.917Z"
   },
   {
    "duration": 260,
    "start_time": "2022-05-26T02:48:57.313Z"
   },
   {
    "duration": 200,
    "start_time": "2022-05-26T02:49:05.826Z"
   },
   {
    "duration": 287,
    "start_time": "2022-05-26T02:49:10.482Z"
   },
   {
    "duration": 2152,
    "start_time": "2022-05-26T04:17:18.600Z"
   },
   {
    "duration": 2392,
    "start_time": "2022-05-26T04:17:37.790Z"
   },
   {
    "duration": 2282,
    "start_time": "2022-05-26T04:18:06.607Z"
   },
   {
    "duration": 2254,
    "start_time": "2022-05-26T04:22:26.478Z"
   },
   {
    "duration": 9,
    "start_time": "2022-05-26T04:22:59.079Z"
   },
   {
    "duration": 6,
    "start_time": "2022-05-26T04:24:03.484Z"
   },
   {
    "duration": 9,
    "start_time": "2022-05-26T04:24:16.682Z"
   },
   {
    "duration": 2220,
    "start_time": "2022-05-26T04:24:44.038Z"
   },
   {
    "duration": 49,
    "start_time": "2022-05-26T04:30:59.345Z"
   },
   {
    "duration": 2371,
    "start_time": "2022-05-26T04:31:03.771Z"
   },
   {
    "duration": 2222,
    "start_time": "2022-05-26T04:31:21.584Z"
   },
   {
    "duration": 2298,
    "start_time": "2022-05-26T04:31:38.496Z"
   },
   {
    "duration": 35,
    "start_time": "2022-05-26T04:35:52.166Z"
   },
   {
    "duration": 169,
    "start_time": "2022-05-26T04:36:25.167Z"
   },
   {
    "duration": 12,
    "start_time": "2022-05-26T04:36:50.826Z"
   },
   {
    "duration": 5,
    "start_time": "2022-05-26T04:37:01.013Z"
   },
   {
    "duration": 738,
    "start_time": "2022-05-26T04:37:01.021Z"
   },
   {
    "duration": 2330,
    "start_time": "2022-05-26T04:37:01.761Z"
   },
   {
    "duration": 9,
    "start_time": "2022-05-26T04:37:04.093Z"
   },
   {
    "duration": 4,
    "start_time": "2022-05-26T04:37:04.107Z"
   },
   {
    "duration": 518,
    "start_time": "2022-05-26T04:37:04.113Z"
   },
   {
    "duration": 5,
    "start_time": "2022-05-26T04:37:04.633Z"
   },
   {
    "duration": 7,
    "start_time": "2022-05-26T04:37:04.639Z"
   },
   {
    "duration": 4,
    "start_time": "2022-05-26T04:50:43.982Z"
   },
   {
    "duration": 6,
    "start_time": "2022-05-26T06:19:16.744Z"
   },
   {
    "duration": 10,
    "start_time": "2022-05-26T06:24:06.194Z"
   },
   {
    "duration": 3,
    "start_time": "2022-05-26T06:24:32.290Z"
   },
   {
    "duration": 3,
    "start_time": "2022-05-26T06:28:19.329Z"
   },
   {
    "duration": 4,
    "start_time": "2022-05-26T06:28:26.213Z"
   },
   {
    "duration": 220,
    "start_time": "2022-05-26T06:29:23.470Z"
   },
   {
    "duration": 5,
    "start_time": "2022-05-26T06:29:33.990Z"
   },
   {
    "duration": 4,
    "start_time": "2022-05-26T06:33:14.207Z"
   },
   {
    "duration": 12,
    "start_time": "2022-05-26T06:33:19.970Z"
   },
   {
    "duration": 4,
    "start_time": "2022-05-26T06:33:39.081Z"
   },
   {
    "duration": 2675,
    "start_time": "2022-05-26T06:33:39.087Z"
   },
   {
    "duration": 2167,
    "start_time": "2022-05-26T06:33:41.764Z"
   },
   {
    "duration": 9,
    "start_time": "2022-05-26T06:33:43.932Z"
   },
   {
    "duration": 12,
    "start_time": "2022-05-26T06:33:43.942Z"
   },
   {
    "duration": 10,
    "start_time": "2022-05-26T06:33:43.957Z"
   },
   {
    "duration": 6,
    "start_time": "2022-05-26T06:33:43.969Z"
   },
   {
    "duration": 6,
    "start_time": "2022-05-26T06:33:43.977Z"
   },
   {
    "duration": 5,
    "start_time": "2022-05-26T06:33:43.984Z"
   },
   {
    "duration": 16,
    "start_time": "2022-05-26T06:33:43.991Z"
   },
   {
    "duration": 10,
    "start_time": "2022-05-26T06:34:09.768Z"
   },
   {
    "duration": 10,
    "start_time": "2022-05-26T06:34:24.840Z"
   },
   {
    "duration": 3,
    "start_time": "2022-05-26T06:34:29.383Z"
   },
   {
    "duration": 5,
    "start_time": "2022-05-26T06:34:43.763Z"
   },
   {
    "duration": 9,
    "start_time": "2022-05-26T06:34:49.180Z"
   },
   {
    "duration": 4,
    "start_time": "2022-05-26T06:35:14.368Z"
   },
   {
    "duration": 4,
    "start_time": "2022-05-26T06:35:20.936Z"
   },
   {
    "duration": 4,
    "start_time": "2022-05-26T06:35:21.575Z"
   },
   {
    "duration": 3,
    "start_time": "2022-05-26T06:35:26.834Z"
   },
   {
    "duration": 650,
    "start_time": "2022-05-26T06:35:26.839Z"
   },
   {
    "duration": 2143,
    "start_time": "2022-05-26T06:35:27.491Z"
   },
   {
    "duration": 9,
    "start_time": "2022-05-26T06:35:29.635Z"
   },
   {
    "duration": 7,
    "start_time": "2022-05-26T06:35:29.653Z"
   },
   {
    "duration": 9,
    "start_time": "2022-05-26T06:35:29.667Z"
   },
   {
    "duration": 7,
    "start_time": "2022-05-26T06:35:29.678Z"
   },
   {
    "duration": 7,
    "start_time": "2022-05-26T06:35:29.686Z"
   },
   {
    "duration": 5,
    "start_time": "2022-05-26T06:35:29.695Z"
   },
   {
    "duration": 11,
    "start_time": "2022-05-26T06:35:29.702Z"
   },
   {
    "duration": 13,
    "start_time": "2022-05-26T06:35:29.715Z"
   },
   {
    "duration": 5,
    "start_time": "2022-05-26T06:36:08.859Z"
   },
   {
    "duration": 722,
    "start_time": "2022-05-26T06:36:08.867Z"
   },
   {
    "duration": 2304,
    "start_time": "2022-05-26T06:36:09.591Z"
   },
   {
    "duration": 9,
    "start_time": "2022-05-26T06:36:11.896Z"
   },
   {
    "duration": 3,
    "start_time": "2022-05-26T06:36:11.907Z"
   },
   {
    "duration": 7,
    "start_time": "2022-05-26T06:36:11.911Z"
   },
   {
    "duration": 5,
    "start_time": "2022-05-26T06:36:11.919Z"
   },
   {
    "duration": 36,
    "start_time": "2022-05-26T06:36:11.925Z"
   },
   {
    "duration": 4,
    "start_time": "2022-05-26T06:36:11.969Z"
   },
   {
    "duration": 21,
    "start_time": "2022-05-26T06:36:11.974Z"
   },
   {
    "duration": 0,
    "start_time": "2022-05-26T06:36:11.997Z"
   },
   {
    "duration": 9,
    "start_time": "2022-05-26T06:36:35.629Z"
   },
   {
    "duration": 10,
    "start_time": "2022-05-26T06:36:37.283Z"
   },
   {
    "duration": 5,
    "start_time": "2022-05-26T06:36:45.468Z"
   },
   {
    "duration": 4,
    "start_time": "2022-05-26T06:38:26.977Z"
   },
   {
    "duration": 4,
    "start_time": "2022-05-26T06:46:51.080Z"
   },
   {
    "duration": 8,
    "start_time": "2022-05-26T07:27:07.004Z"
   },
   {
    "duration": 7,
    "start_time": "2022-05-26T07:27:44.222Z"
   },
   {
    "duration": 43,
    "start_time": "2022-05-26T07:39:15.816Z"
   },
   {
    "duration": 17,
    "start_time": "2022-05-26T07:43:23.343Z"
   },
   {
    "duration": 12,
    "start_time": "2022-05-26T07:43:57.645Z"
   },
   {
    "duration": 8,
    "start_time": "2022-05-27T00:09:20.127Z"
   },
   {
    "duration": 52,
    "start_time": "2022-05-27T00:10:50.193Z"
   },
   {
    "duration": 1644,
    "start_time": "2022-05-27T00:10:55.074Z"
   },
   {
    "duration": 2892,
    "start_time": "2022-05-27T00:10:56.720Z"
   },
   {
    "duration": 3,
    "start_time": "2022-05-27T00:11:06.162Z"
   },
   {
    "duration": 2287,
    "start_time": "2022-05-27T00:11:06.714Z"
   },
   {
    "duration": 1909,
    "start_time": "2022-05-27T00:11:44.752Z"
   },
   {
    "duration": 1351,
    "start_time": "2022-05-27T00:12:12.374Z"
   },
   {
    "duration": 1935,
    "start_time": "2022-05-27T00:12:13.727Z"
   },
   {
    "duration": 4,
    "start_time": "2022-05-27T00:19:29.765Z"
   },
   {
    "duration": 11,
    "start_time": "2022-05-27T00:25:09.898Z"
   },
   {
    "duration": 3,
    "start_time": "2022-05-27T00:25:19.408Z"
   },
   {
    "duration": 625,
    "start_time": "2022-05-27T00:25:19.413Z"
   },
   {
    "duration": 5,
    "start_time": "2022-05-27T00:25:20.039Z"
   },
   {
    "duration": 1974,
    "start_time": "2022-05-27T00:25:20.046Z"
   },
   {
    "duration": 1285,
    "start_time": "2022-05-27T00:25:22.021Z"
   },
   {
    "duration": 2089,
    "start_time": "2022-05-27T00:25:23.308Z"
   },
   {
    "duration": 10,
    "start_time": "2022-05-27T00:25:25.399Z"
   },
   {
    "duration": 3,
    "start_time": "2022-05-27T00:25:25.426Z"
   },
   {
    "duration": 8,
    "start_time": "2022-05-27T00:25:25.431Z"
   },
   {
    "duration": 5,
    "start_time": "2022-05-27T00:25:25.442Z"
   },
   {
    "duration": 7,
    "start_time": "2022-05-27T00:25:25.449Z"
   },
   {
    "duration": 5,
    "start_time": "2022-05-27T00:25:25.458Z"
   },
   {
    "duration": 8,
    "start_time": "2022-05-27T00:25:25.464Z"
   },
   {
    "duration": 6,
    "start_time": "2022-05-27T00:25:25.473Z"
   },
   {
    "duration": 9,
    "start_time": "2022-05-27T00:25:25.481Z"
   },
   {
    "duration": 36,
    "start_time": "2022-05-27T00:25:25.491Z"
   },
   {
    "duration": 6,
    "start_time": "2022-05-27T00:25:25.528Z"
   },
   {
    "duration": 12,
    "start_time": "2022-05-27T00:25:25.536Z"
   },
   {
    "duration": 9,
    "start_time": "2022-05-27T00:26:33.528Z"
   },
   {
    "duration": 9,
    "start_time": "2022-05-27T00:26:49.447Z"
   },
   {
    "duration": 8,
    "start_time": "2022-05-27T00:31:15.434Z"
   },
   {
    "duration": 6,
    "start_time": "2022-05-27T00:32:03.800Z"
   },
   {
    "duration": 8,
    "start_time": "2022-05-27T00:32:27.051Z"
   },
   {
    "duration": 6,
    "start_time": "2022-05-27T00:32:36.297Z"
   },
   {
    "duration": 4,
    "start_time": "2022-05-27T00:43:03.863Z"
   },
   {
    "duration": 4,
    "start_time": "2022-05-27T00:43:07.933Z"
   },
   {
    "duration": 3,
    "start_time": "2022-05-27T00:43:08.230Z"
   },
   {
    "duration": 4,
    "start_time": "2022-05-27T00:43:08.615Z"
   },
   {
    "duration": 391,
    "start_time": "2022-05-27T00:43:41.949Z"
   },
   {
    "duration": 3,
    "start_time": "2022-05-27T00:44:43.811Z"
   },
   {
    "duration": 3,
    "start_time": "2022-05-27T00:46:55.344Z"
   },
   {
    "duration": 110,
    "start_time": "2022-05-27T00:47:08.597Z"
   },
   {
    "duration": 3,
    "start_time": "2022-05-27T00:47:22.749Z"
   },
   {
    "duration": 99,
    "start_time": "2022-05-27T00:47:23.381Z"
   },
   {
    "duration": 4,
    "start_time": "2022-05-27T00:48:22.919Z"
   },
   {
    "duration": 206,
    "start_time": "2022-05-27T00:48:27.424Z"
   },
   {
    "duration": 3,
    "start_time": "2022-05-27T00:52:20.822Z"
   },
   {
    "duration": 111,
    "start_time": "2022-05-27T00:52:21.927Z"
   },
   {
    "duration": 3,
    "start_time": "2022-05-27T00:52:50.561Z"
   },
   {
    "duration": 368,
    "start_time": "2022-05-27T00:52:51.080Z"
   },
   {
    "duration": 3,
    "start_time": "2022-05-27T00:53:38.778Z"
   },
   {
    "duration": 98,
    "start_time": "2022-05-27T00:53:40.562Z"
   },
   {
    "duration": 4,
    "start_time": "2022-05-27T00:54:00.314Z"
   },
   {
    "duration": 311,
    "start_time": "2022-05-27T00:54:00.937Z"
   },
   {
    "duration": 3,
    "start_time": "2022-05-27T00:54:12.131Z"
   },
   {
    "duration": 211,
    "start_time": "2022-05-27T00:54:14.042Z"
   },
   {
    "duration": 3,
    "start_time": "2022-05-27T00:54:22.227Z"
   },
   {
    "duration": 223,
    "start_time": "2022-05-27T00:54:22.611Z"
   },
   {
    "duration": 3,
    "start_time": "2022-05-27T00:57:11.827Z"
   },
   {
    "duration": 17,
    "start_time": "2022-05-27T00:57:12.288Z"
   },
   {
    "duration": 3,
    "start_time": "2022-05-27T00:57:21.154Z"
   },
   {
    "duration": 232,
    "start_time": "2022-05-27T00:57:22.321Z"
   },
   {
    "duration": 3,
    "start_time": "2022-05-27T00:57:35.041Z"
   },
   {
    "duration": 243,
    "start_time": "2022-05-27T00:57:35.537Z"
   },
   {
    "duration": 249,
    "start_time": "2022-05-27T00:58:11.363Z"
   },
   {
    "duration": 228,
    "start_time": "2022-05-27T00:58:18.603Z"
   },
   {
    "duration": 254,
    "start_time": "2022-05-27T00:58:31.357Z"
   },
   {
    "duration": 227,
    "start_time": "2022-05-27T00:58:42.291Z"
   },
   {
    "duration": 413,
    "start_time": "2022-05-27T00:58:57.413Z"
   },
   {
    "duration": 98,
    "start_time": "2022-05-27T01:45:08.801Z"
   },
   {
    "duration": 102,
    "start_time": "2022-05-27T01:45:14.933Z"
   },
   {
    "duration": 112,
    "start_time": "2022-05-27T01:45:25.815Z"
   },
   {
    "duration": 11,
    "start_time": "2022-05-27T01:50:16.298Z"
   },
   {
    "duration": 8,
    "start_time": "2022-05-27T01:50:27.538Z"
   },
   {
    "duration": 9,
    "start_time": "2022-05-27T01:51:06.199Z"
   },
   {
    "duration": 7,
    "start_time": "2022-05-27T01:51:07.153Z"
   },
   {
    "duration": 109,
    "start_time": "2022-05-27T01:51:31.522Z"
   },
   {
    "duration": 104,
    "start_time": "2022-05-27T01:52:48.583Z"
   },
   {
    "duration": 105,
    "start_time": "2022-05-27T01:53:05.252Z"
   },
   {
    "duration": 101,
    "start_time": "2022-05-27T01:53:53.150Z"
   },
   {
    "duration": 130,
    "start_time": "2022-05-27T01:55:54.077Z"
   },
   {
    "duration": 10,
    "start_time": "2022-05-27T01:56:20.588Z"
   },
   {
    "duration": 120,
    "start_time": "2022-05-27T01:56:39.291Z"
   },
   {
    "duration": 123,
    "start_time": "2022-05-27T01:57:03.844Z"
   },
   {
    "duration": 107,
    "start_time": "2022-05-27T02:00:44.793Z"
   },
   {
    "duration": 111,
    "start_time": "2022-05-27T02:01:05.787Z"
   },
   {
    "duration": 113,
    "start_time": "2022-05-27T02:01:51.944Z"
   },
   {
    "duration": 120,
    "start_time": "2022-05-27T02:01:52.669Z"
   },
   {
    "duration": 117,
    "start_time": "2022-05-27T02:03:27.116Z"
   },
   {
    "duration": 8,
    "start_time": "2022-05-27T02:03:31.249Z"
   },
   {
    "duration": 8,
    "start_time": "2022-05-27T02:03:31.944Z"
   },
   {
    "duration": 111,
    "start_time": "2022-05-27T02:03:32.617Z"
   },
   {
    "duration": 99,
    "start_time": "2022-05-27T02:03:55.389Z"
   },
   {
    "duration": 102,
    "start_time": "2022-05-27T02:04:02.402Z"
   },
   {
    "duration": 8,
    "start_time": "2022-05-27T02:17:32.136Z"
   },
   {
    "duration": 14,
    "start_time": "2022-05-27T02:17:47.142Z"
   },
   {
    "duration": 12,
    "start_time": "2022-05-27T02:18:02.118Z"
   },
   {
    "duration": 5,
    "start_time": "2022-05-27T02:19:56.076Z"
   },
   {
    "duration": 40,
    "start_time": "2022-05-27T02:26:02.918Z"
   },
   {
    "duration": 10,
    "start_time": "2022-05-27T02:26:47.857Z"
   },
   {
    "duration": 9,
    "start_time": "2022-05-27T02:27:43.021Z"
   },
   {
    "duration": 147,
    "start_time": "2022-05-27T02:29:17.911Z"
   },
   {
    "duration": 11,
    "start_time": "2022-05-27T02:30:37.440Z"
   },
   {
    "duration": 109,
    "start_time": "2022-05-27T02:31:16.360Z"
   },
   {
    "duration": 119,
    "start_time": "2022-05-27T02:31:52.913Z"
   },
   {
    "duration": 134,
    "start_time": "2022-05-27T02:32:07.923Z"
   },
   {
    "duration": 126,
    "start_time": "2022-05-27T02:32:35.779Z"
   },
   {
    "duration": 164,
    "start_time": "2022-05-27T04:14:56.240Z"
   },
   {
    "duration": 156,
    "start_time": "2022-05-27T04:16:12.937Z"
   },
   {
    "duration": 360,
    "start_time": "2022-05-27T04:17:38.829Z"
   },
   {
    "duration": 170,
    "start_time": "2022-05-27T04:17:49.964Z"
   },
   {
    "duration": 167,
    "start_time": "2022-05-27T04:18:07.411Z"
   },
   {
    "duration": 187,
    "start_time": "2022-05-27T04:18:35.795Z"
   },
   {
    "duration": 179,
    "start_time": "2022-05-27T04:19:26.710Z"
   },
   {
    "duration": 6,
    "start_time": "2022-05-27T04:19:50.053Z"
   },
   {
    "duration": 7,
    "start_time": "2022-05-27T04:20:49.776Z"
   },
   {
    "duration": 26,
    "start_time": "2022-05-27T04:22:18.613Z"
   },
   {
    "duration": 14,
    "start_time": "2022-05-27T04:24:01.574Z"
   },
   {
    "duration": 160,
    "start_time": "2022-05-27T04:24:02.214Z"
   },
   {
    "duration": 14,
    "start_time": "2022-05-27T04:24:27.582Z"
   },
   {
    "duration": 155,
    "start_time": "2022-05-27T04:24:28.790Z"
   },
   {
    "duration": 126,
    "start_time": "2022-05-27T04:24:29.864Z"
   },
   {
    "duration": 118,
    "start_time": "2022-05-27T04:24:53.664Z"
   },
   {
    "duration": 11,
    "start_time": "2022-05-27T04:24:55.600Z"
   },
   {
    "duration": 159,
    "start_time": "2022-05-27T04:25:11.268Z"
   },
   {
    "duration": 188,
    "start_time": "2022-05-27T04:25:18.679Z"
   },
   {
    "duration": 7,
    "start_time": "2022-05-27T04:25:22.415Z"
   },
   {
    "duration": 23,
    "start_time": "2022-05-27T04:25:39.417Z"
   },
   {
    "duration": 14,
    "start_time": "2022-05-27T04:26:18.530Z"
   },
   {
    "duration": 157,
    "start_time": "2022-05-27T04:26:19.073Z"
   },
   {
    "duration": 12,
    "start_time": "2022-05-27T04:26:19.882Z"
   },
   {
    "duration": 124,
    "start_time": "2022-05-27T04:26:20.673Z"
   },
   {
    "duration": 158,
    "start_time": "2022-05-27T04:26:21.161Z"
   },
   {
    "duration": 184,
    "start_time": "2022-05-27T04:26:21.983Z"
   },
   {
    "duration": 6,
    "start_time": "2022-05-27T04:26:22.785Z"
   },
   {
    "duration": 17,
    "start_time": "2022-05-27T04:26:23.714Z"
   },
   {
    "duration": 12,
    "start_time": "2022-05-27T04:27:53.629Z"
   },
   {
    "duration": 154,
    "start_time": "2022-05-27T04:27:54.317Z"
   },
   {
    "duration": 13,
    "start_time": "2022-05-27T04:27:55.077Z"
   },
   {
    "duration": 133,
    "start_time": "2022-05-27T04:27:55.596Z"
   },
   {
    "duration": 158,
    "start_time": "2022-05-27T04:27:56.068Z"
   },
   {
    "duration": 199,
    "start_time": "2022-05-27T04:27:56.636Z"
   },
   {
    "duration": 7,
    "start_time": "2022-05-27T04:27:57.388Z"
   },
   {
    "duration": 11,
    "start_time": "2022-05-27T04:27:58.189Z"
   },
   {
    "duration": 12,
    "start_time": "2022-05-27T04:32:17.989Z"
   },
   {
    "duration": 153,
    "start_time": "2022-05-27T04:32:18.734Z"
   },
   {
    "duration": 14,
    "start_time": "2022-05-27T04:32:20.340Z"
   },
   {
    "duration": 126,
    "start_time": "2022-05-27T04:32:20.925Z"
   },
   {
    "duration": 372,
    "start_time": "2022-05-27T04:32:21.814Z"
   },
   {
    "duration": 189,
    "start_time": "2022-05-27T04:32:22.765Z"
   },
   {
    "duration": 6,
    "start_time": "2022-05-27T04:32:23.493Z"
   },
   {
    "duration": 448,
    "start_time": "2022-05-27T04:32:56.734Z"
   },
   {
    "duration": 9,
    "start_time": "2022-05-27T04:34:05.472Z"
   },
   {
    "duration": 26,
    "start_time": "2022-05-27T04:34:20.817Z"
   },
   {
    "duration": 6,
    "start_time": "2022-05-27T04:37:55.754Z"
   },
   {
    "duration": 3,
    "start_time": "2022-05-27T04:38:57.562Z"
   },
   {
    "duration": 10,
    "start_time": "2022-05-27T04:40:34.652Z"
   },
   {
    "duration": 29,
    "start_time": "2022-05-27T04:43:06.106Z"
   },
   {
    "duration": 4,
    "start_time": "2022-05-27T04:43:40.176Z"
   },
   {
    "duration": 750,
    "start_time": "2022-05-27T04:43:40.181Z"
   },
   {
    "duration": 4,
    "start_time": "2022-05-27T04:43:40.933Z"
   },
   {
    "duration": 1993,
    "start_time": "2022-05-27T04:43:40.938Z"
   },
   {
    "duration": 1281,
    "start_time": "2022-05-27T04:43:42.932Z"
   },
   {
    "duration": 1962,
    "start_time": "2022-05-27T04:43:44.215Z"
   },
   {
    "duration": 3,
    "start_time": "2022-05-27T04:43:46.179Z"
   },
   {
    "duration": 8,
    "start_time": "2022-05-27T04:43:46.183Z"
   },
   {
    "duration": 9,
    "start_time": "2022-05-27T04:43:46.193Z"
   },
   {
    "duration": 10,
    "start_time": "2022-05-27T04:43:46.204Z"
   },
   {
    "duration": 12,
    "start_time": "2022-05-27T04:43:46.215Z"
   },
   {
    "duration": 10,
    "start_time": "2022-05-27T04:43:46.228Z"
   },
   {
    "duration": 8,
    "start_time": "2022-05-27T04:43:46.241Z"
   },
   {
    "duration": 8,
    "start_time": "2022-05-27T04:43:46.250Z"
   },
   {
    "duration": 9,
    "start_time": "2022-05-27T04:43:46.260Z"
   },
   {
    "duration": 6,
    "start_time": "2022-05-27T04:43:46.270Z"
   },
   {
    "duration": 6,
    "start_time": "2022-05-27T04:43:46.277Z"
   },
   {
    "duration": 9,
    "start_time": "2022-05-27T04:43:46.284Z"
   },
   {
    "duration": 34,
    "start_time": "2022-05-27T04:43:46.294Z"
   },
   {
    "duration": 7,
    "start_time": "2022-05-27T04:43:46.330Z"
   },
   {
    "duration": 5,
    "start_time": "2022-05-27T04:43:46.338Z"
   },
   {
    "duration": 5,
    "start_time": "2022-05-27T04:43:46.344Z"
   },
   {
    "duration": 237,
    "start_time": "2022-05-27T04:43:46.350Z"
   },
   {
    "duration": 302,
    "start_time": "2022-05-27T04:43:46.588Z"
   },
   {
    "duration": 332,
    "start_time": "2022-05-27T04:43:46.891Z"
   },
   {
    "duration": 8,
    "start_time": "2022-05-27T04:43:47.224Z"
   },
   {
    "duration": 7,
    "start_time": "2022-05-27T04:43:47.234Z"
   },
   {
    "duration": 128,
    "start_time": "2022-05-27T04:43:47.242Z"
   },
   {
    "duration": 140,
    "start_time": "2022-05-27T04:43:47.371Z"
   },
   {
    "duration": 15,
    "start_time": "2022-05-27T04:43:47.513Z"
   },
   {
    "duration": 8,
    "start_time": "2022-05-27T04:43:47.529Z"
   },
   {
    "duration": 115,
    "start_time": "2022-05-27T04:43:47.538Z"
   },
   {
    "duration": 111,
    "start_time": "2022-05-27T04:43:47.655Z"
   },
   {
    "duration": 11,
    "start_time": "2022-05-27T04:43:47.768Z"
   },
   {
    "duration": 164,
    "start_time": "2022-05-27T04:43:47.781Z"
   },
   {
    "duration": 13,
    "start_time": "2022-05-27T04:43:47.946Z"
   },
   {
    "duration": 344,
    "start_time": "2022-05-27T04:43:47.963Z"
   },
   {
    "duration": 153,
    "start_time": "2022-05-27T04:43:48.308Z"
   },
   {
    "duration": 191,
    "start_time": "2022-05-27T04:43:48.462Z"
   },
   {
    "duration": 27,
    "start_time": "2022-05-27T04:43:48.654Z"
   },
   {
    "duration": 3,
    "start_time": "2022-05-27T04:43:48.682Z"
   },
   {
    "duration": 41,
    "start_time": "2022-05-27T04:43:48.687Z"
   },
   {
    "duration": 3,
    "start_time": "2022-05-27T04:45:04.653Z"
   },
   {
    "duration": 32,
    "start_time": "2022-05-27T04:45:05.324Z"
   },
   {
    "duration": 7,
    "start_time": "2022-05-27T04:45:26.782Z"
   },
   {
    "duration": 5,
    "start_time": "2022-05-27T04:47:17.001Z"
   },
   {
    "duration": 30,
    "start_time": "2022-05-27T04:47:35.858Z"
   },
   {
    "duration": 30,
    "start_time": "2022-05-27T04:47:57.892Z"
   },
   {
    "duration": 12,
    "start_time": "2022-05-27T04:50:48.857Z"
   },
   {
    "duration": 10,
    "start_time": "2022-05-27T04:53:11.337Z"
   },
   {
    "duration": 86,
    "start_time": "2022-05-27T04:54:33.598Z"
   },
   {
    "duration": 10,
    "start_time": "2022-05-27T04:55:00.504Z"
   },
   {
    "duration": 36,
    "start_time": "2022-05-27T04:55:09.991Z"
   },
   {
    "duration": 3,
    "start_time": "2022-05-27T04:56:29.566Z"
   },
   {
    "duration": 675,
    "start_time": "2022-05-27T04:56:29.571Z"
   },
   {
    "duration": 3,
    "start_time": "2022-05-27T04:56:30.248Z"
   },
   {
    "duration": 2130,
    "start_time": "2022-05-27T04:56:30.252Z"
   },
   {
    "duration": 1326,
    "start_time": "2022-05-27T04:56:32.384Z"
   },
   {
    "duration": 2071,
    "start_time": "2022-05-27T04:56:33.711Z"
   },
   {
    "duration": 3,
    "start_time": "2022-05-27T04:56:35.784Z"
   },
   {
    "duration": 9,
    "start_time": "2022-05-27T04:56:35.789Z"
   },
   {
    "duration": 7,
    "start_time": "2022-05-27T04:56:35.800Z"
   },
   {
    "duration": 19,
    "start_time": "2022-05-27T04:56:35.808Z"
   },
   {
    "duration": 4,
    "start_time": "2022-05-27T04:56:35.828Z"
   },
   {
    "duration": 17,
    "start_time": "2022-05-27T04:56:35.833Z"
   },
   {
    "duration": 8,
    "start_time": "2022-05-27T04:56:35.853Z"
   },
   {
    "duration": 10,
    "start_time": "2022-05-27T04:56:35.863Z"
   },
   {
    "duration": 7,
    "start_time": "2022-05-27T04:56:35.875Z"
   },
   {
    "duration": 5,
    "start_time": "2022-05-27T04:56:35.884Z"
   },
   {
    "duration": 6,
    "start_time": "2022-05-27T04:56:35.891Z"
   },
   {
    "duration": 30,
    "start_time": "2022-05-27T04:56:35.898Z"
   },
   {
    "duration": 3,
    "start_time": "2022-05-27T04:56:35.929Z"
   },
   {
    "duration": 9,
    "start_time": "2022-05-27T04:56:35.934Z"
   },
   {
    "duration": 5,
    "start_time": "2022-05-27T04:56:35.944Z"
   },
   {
    "duration": 5,
    "start_time": "2022-05-27T04:56:35.951Z"
   },
   {
    "duration": 273,
    "start_time": "2022-05-27T04:56:35.957Z"
   },
   {
    "duration": 266,
    "start_time": "2022-05-27T04:56:36.232Z"
   },
   {
    "duration": 264,
    "start_time": "2022-05-27T04:56:36.499Z"
   },
   {
    "duration": 8,
    "start_time": "2022-05-27T04:56:36.765Z"
   },
   {
    "duration": 7,
    "start_time": "2022-05-27T04:56:36.775Z"
   },
   {
    "duration": 350,
    "start_time": "2022-05-27T04:56:36.783Z"
   },
   {
    "duration": 123,
    "start_time": "2022-05-27T04:56:37.134Z"
   },
   {
    "duration": 8,
    "start_time": "2022-05-27T04:56:37.258Z"
   },
   {
    "duration": 16,
    "start_time": "2022-05-27T04:56:37.267Z"
   },
   {
    "duration": 119,
    "start_time": "2022-05-27T04:56:37.285Z"
   },
   {
    "duration": 107,
    "start_time": "2022-05-27T04:56:37.406Z"
   },
   {
    "duration": 20,
    "start_time": "2022-05-27T04:56:37.515Z"
   },
   {
    "duration": 172,
    "start_time": "2022-05-27T04:56:37.537Z"
   },
   {
    "duration": 25,
    "start_time": "2022-05-27T04:56:37.711Z"
   },
   {
    "duration": 126,
    "start_time": "2022-05-27T04:56:37.740Z"
   },
   {
    "duration": 170,
    "start_time": "2022-05-27T04:56:37.867Z"
   },
   {
    "duration": 213,
    "start_time": "2022-05-27T04:56:38.039Z"
   },
   {
    "duration": 29,
    "start_time": "2022-05-27T04:56:38.254Z"
   },
   {
    "duration": 34,
    "start_time": "2022-05-27T04:56:38.285Z"
   },
   {
    "duration": 0,
    "start_time": "2022-05-27T04:56:38.320Z"
   },
   {
    "duration": 0,
    "start_time": "2022-05-27T04:56:38.321Z"
   },
   {
    "duration": 3,
    "start_time": "2022-05-27T04:56:50.307Z"
   },
   {
    "duration": 35,
    "start_time": "2022-05-27T04:56:52.074Z"
   },
   {
    "duration": 27,
    "start_time": "2022-05-27T04:57:32.838Z"
   },
   {
    "duration": 31,
    "start_time": "2022-05-27T04:58:04.336Z"
   },
   {
    "duration": 499,
    "start_time": "2022-05-27T04:58:57.824Z"
   },
   {
    "duration": 21,
    "start_time": "2022-05-27T05:02:04.325Z"
   },
   {
    "duration": 13,
    "start_time": "2022-05-27T05:02:27.398Z"
   },
   {
    "duration": 8,
    "start_time": "2022-05-27T05:02:30.581Z"
   },
   {
    "duration": 14,
    "start_time": "2022-05-27T05:02:44.342Z"
   },
   {
    "duration": 21,
    "start_time": "2022-05-27T05:02:53.574Z"
   },
   {
    "duration": 3,
    "start_time": "2022-05-27T05:03:26.479Z"
   },
   {
    "duration": 8,
    "start_time": "2022-05-27T05:03:44.320Z"
   },
   {
    "duration": 7,
    "start_time": "2022-05-27T05:03:51.872Z"
   },
   {
    "duration": 11,
    "start_time": "2022-05-27T05:04:11.552Z"
   },
   {
    "duration": 9,
    "start_time": "2022-05-27T05:04:15.513Z"
   },
   {
    "duration": 34,
    "start_time": "2022-05-27T05:04:41.436Z"
   },
   {
    "duration": 29,
    "start_time": "2022-05-27T05:05:06.366Z"
   },
   {
    "duration": 31,
    "start_time": "2022-05-27T05:05:26.525Z"
   },
   {
    "duration": 61,
    "start_time": "2022-05-27T05:06:51.487Z"
   },
   {
    "duration": 31,
    "start_time": "2022-05-27T05:07:01.734Z"
   },
   {
    "duration": 40,
    "start_time": "2022-05-27T05:07:19.062Z"
   },
   {
    "duration": 34,
    "start_time": "2022-05-27T05:08:55.353Z"
   },
   {
    "duration": 4,
    "start_time": "2022-05-27T05:10:53.123Z"
   },
   {
    "duration": 672,
    "start_time": "2022-05-27T05:10:53.128Z"
   },
   {
    "duration": 3,
    "start_time": "2022-05-27T05:10:53.802Z"
   },
   {
    "duration": 2101,
    "start_time": "2022-05-27T05:10:53.807Z"
   },
   {
    "duration": 1363,
    "start_time": "2022-05-27T05:10:55.910Z"
   },
   {
    "duration": 2020,
    "start_time": "2022-05-27T05:10:57.274Z"
   },
   {
    "duration": 4,
    "start_time": "2022-05-27T05:10:59.295Z"
   },
   {
    "duration": 28,
    "start_time": "2022-05-27T05:10:59.300Z"
   },
   {
    "duration": 14,
    "start_time": "2022-05-27T05:10:59.329Z"
   },
   {
    "duration": 5,
    "start_time": "2022-05-27T05:10:59.345Z"
   },
   {
    "duration": 5,
    "start_time": "2022-05-27T05:10:59.351Z"
   },
   {
    "duration": 10,
    "start_time": "2022-05-27T05:10:59.357Z"
   },
   {
    "duration": 7,
    "start_time": "2022-05-27T05:10:59.368Z"
   },
   {
    "duration": 10,
    "start_time": "2022-05-27T05:10:59.376Z"
   },
   {
    "duration": 10,
    "start_time": "2022-05-27T05:10:59.387Z"
   },
   {
    "duration": 23,
    "start_time": "2022-05-27T05:10:59.398Z"
   },
   {
    "duration": 16,
    "start_time": "2022-05-27T05:10:59.422Z"
   },
   {
    "duration": 22,
    "start_time": "2022-05-27T05:10:59.439Z"
   },
   {
    "duration": 16,
    "start_time": "2022-05-27T05:10:59.462Z"
   },
   {
    "duration": 22,
    "start_time": "2022-05-27T05:10:59.479Z"
   },
   {
    "duration": 28,
    "start_time": "2022-05-27T05:10:59.502Z"
   },
   {
    "duration": 21,
    "start_time": "2022-05-27T05:10:59.533Z"
   },
   {
    "duration": 242,
    "start_time": "2022-05-27T05:10:59.556Z"
   },
   {
    "duration": 246,
    "start_time": "2022-05-27T05:10:59.800Z"
   },
   {
    "duration": 257,
    "start_time": "2022-05-27T05:11:00.048Z"
   },
   {
    "duration": 8,
    "start_time": "2022-05-27T05:11:00.307Z"
   },
   {
    "duration": 16,
    "start_time": "2022-05-27T05:11:00.316Z"
   },
   {
    "duration": 355,
    "start_time": "2022-05-27T05:11:00.334Z"
   },
   {
    "duration": 129,
    "start_time": "2022-05-27T05:11:00.690Z"
   },
   {
    "duration": 11,
    "start_time": "2022-05-27T05:11:00.821Z"
   },
   {
    "duration": 10,
    "start_time": "2022-05-27T05:11:00.833Z"
   },
   {
    "duration": 112,
    "start_time": "2022-05-27T05:11:00.844Z"
   },
   {
    "duration": 113,
    "start_time": "2022-05-27T05:11:00.957Z"
   },
   {
    "duration": 13,
    "start_time": "2022-05-27T05:11:01.071Z"
   },
   {
    "duration": 182,
    "start_time": "2022-05-27T05:11:01.085Z"
   },
   {
    "duration": 13,
    "start_time": "2022-05-27T05:11:01.269Z"
   },
   {
    "duration": 143,
    "start_time": "2022-05-27T05:11:01.284Z"
   },
   {
    "duration": 199,
    "start_time": "2022-05-27T05:11:01.429Z"
   },
   {
    "duration": 196,
    "start_time": "2022-05-27T05:11:01.630Z"
   },
   {
    "duration": 21,
    "start_time": "2022-05-27T05:11:01.828Z"
   },
   {
    "duration": 3,
    "start_time": "2022-05-27T05:11:01.851Z"
   },
   {
    "duration": 47,
    "start_time": "2022-05-27T05:11:01.855Z"
   },
   {
    "duration": 36,
    "start_time": "2022-05-27T05:11:34.710Z"
   },
   {
    "duration": 10,
    "start_time": "2022-05-27T05:16:52.776Z"
   },
   {
    "duration": 13,
    "start_time": "2022-05-27T05:17:03.112Z"
   },
   {
    "duration": 14,
    "start_time": "2022-05-27T05:17:09.176Z"
   },
   {
    "duration": 14,
    "start_time": "2022-05-27T05:17:44.234Z"
   },
   {
    "duration": 161,
    "start_time": "2022-05-27T05:17:45.992Z"
   },
   {
    "duration": 13,
    "start_time": "2022-05-27T05:17:47.873Z"
   },
   {
    "duration": 118,
    "start_time": "2022-05-27T05:17:48.761Z"
   },
   {
    "duration": 162,
    "start_time": "2022-05-27T05:17:49.826Z"
   },
   {
    "duration": 202,
    "start_time": "2022-05-27T05:17:50.715Z"
   },
   {
    "duration": 28,
    "start_time": "2022-05-27T05:17:51.410Z"
   },
   {
    "duration": 3,
    "start_time": "2022-05-27T05:17:53.105Z"
   },
   {
    "duration": 38,
    "start_time": "2022-05-27T05:17:54.002Z"
   },
   {
    "duration": 4,
    "start_time": "2022-05-27T05:29:22.616Z"
   },
   {
    "duration": 614,
    "start_time": "2022-05-27T05:29:22.622Z"
   },
   {
    "duration": 3,
    "start_time": "2022-05-27T05:29:23.237Z"
   },
   {
    "duration": 1988,
    "start_time": "2022-05-27T05:29:23.243Z"
   },
   {
    "duration": 1309,
    "start_time": "2022-05-27T05:29:25.233Z"
   },
   {
    "duration": 1962,
    "start_time": "2022-05-27T05:29:26.543Z"
   },
   {
    "duration": 4,
    "start_time": "2022-05-27T05:29:28.507Z"
   },
   {
    "duration": 15,
    "start_time": "2022-05-27T05:29:28.513Z"
   },
   {
    "duration": 15,
    "start_time": "2022-05-27T05:29:28.529Z"
   },
   {
    "duration": 16,
    "start_time": "2022-05-27T05:29:28.547Z"
   },
   {
    "duration": 21,
    "start_time": "2022-05-27T05:29:28.564Z"
   },
   {
    "duration": 12,
    "start_time": "2022-05-27T05:29:28.586Z"
   },
   {
    "duration": 12,
    "start_time": "2022-05-27T05:29:28.600Z"
   },
   {
    "duration": 14,
    "start_time": "2022-05-27T05:29:28.613Z"
   },
   {
    "duration": 15,
    "start_time": "2022-05-27T05:29:28.629Z"
   },
   {
    "duration": 9,
    "start_time": "2022-05-27T05:29:28.646Z"
   },
   {
    "duration": 17,
    "start_time": "2022-05-27T05:29:28.657Z"
   },
   {
    "duration": 19,
    "start_time": "2022-05-27T05:29:28.676Z"
   },
   {
    "duration": 10,
    "start_time": "2022-05-27T05:29:28.696Z"
   },
   {
    "duration": 15,
    "start_time": "2022-05-27T05:29:28.707Z"
   },
   {
    "duration": 6,
    "start_time": "2022-05-27T05:29:28.724Z"
   },
   {
    "duration": 4,
    "start_time": "2022-05-27T05:29:28.732Z"
   },
   {
    "duration": 255,
    "start_time": "2022-05-27T05:29:28.738Z"
   },
   {
    "duration": 488,
    "start_time": "2022-05-27T05:29:28.995Z"
   },
   {
    "duration": 278,
    "start_time": "2022-05-27T05:29:29.484Z"
   },
   {
    "duration": 8,
    "start_time": "2022-05-27T05:29:29.764Z"
   },
   {
    "duration": 8,
    "start_time": "2022-05-27T05:29:29.773Z"
   },
   {
    "duration": 136,
    "start_time": "2022-05-27T05:29:29.784Z"
   },
   {
    "duration": 123,
    "start_time": "2022-05-27T05:29:29.926Z"
   },
   {
    "duration": 8,
    "start_time": "2022-05-27T05:29:30.051Z"
   },
   {
    "duration": 14,
    "start_time": "2022-05-27T05:29:30.061Z"
   },
   {
    "duration": 123,
    "start_time": "2022-05-27T05:29:30.077Z"
   },
   {
    "duration": 117,
    "start_time": "2022-05-27T05:29:30.201Z"
   },
   {
    "duration": 16,
    "start_time": "2022-05-27T05:29:30.319Z"
   },
   {
    "duration": 162,
    "start_time": "2022-05-27T05:29:32.584Z"
   },
   {
    "duration": 15,
    "start_time": "2022-05-27T05:29:41.328Z"
   },
   {
    "duration": 120,
    "start_time": "2022-05-27T05:29:42.320Z"
   },
   {
    "duration": 155,
    "start_time": "2022-05-27T05:29:43.888Z"
   },
   {
    "duration": 202,
    "start_time": "2022-05-27T05:29:45.545Z"
   },
   {
    "duration": 26,
    "start_time": "2022-05-27T05:29:50.306Z"
   },
   {
    "duration": 35,
    "start_time": "2022-05-27T05:29:52.041Z"
   },
   {
    "duration": 8,
    "start_time": "2022-05-27T05:30:37.084Z"
   },
   {
    "duration": 6,
    "start_time": "2022-05-27T05:56:13.612Z"
   },
   {
    "duration": 3,
    "start_time": "2022-05-27T06:03:27.466Z"
   },
   {
    "duration": 654,
    "start_time": "2022-05-27T06:03:27.472Z"
   },
   {
    "duration": 3,
    "start_time": "2022-05-27T06:03:28.128Z"
   },
   {
    "duration": 2188,
    "start_time": "2022-05-27T06:03:28.133Z"
   },
   {
    "duration": 1509,
    "start_time": "2022-05-27T06:03:30.323Z"
   },
   {
    "duration": 2185,
    "start_time": "2022-05-27T06:03:31.835Z"
   },
   {
    "duration": 5,
    "start_time": "2022-05-27T06:03:34.022Z"
   },
   {
    "duration": 33,
    "start_time": "2022-05-27T06:03:34.029Z"
   },
   {
    "duration": 24,
    "start_time": "2022-05-27T06:03:34.065Z"
   },
   {
    "duration": 26,
    "start_time": "2022-05-27T06:03:34.091Z"
   },
   {
    "duration": 24,
    "start_time": "2022-05-27T06:03:34.119Z"
   },
   {
    "duration": 31,
    "start_time": "2022-05-27T06:03:34.145Z"
   },
   {
    "duration": 23,
    "start_time": "2022-05-27T06:03:34.178Z"
   },
   {
    "duration": 25,
    "start_time": "2022-05-27T06:03:34.203Z"
   },
   {
    "duration": 29,
    "start_time": "2022-05-27T06:03:34.231Z"
   },
   {
    "duration": 15,
    "start_time": "2022-05-27T06:03:34.262Z"
   },
   {
    "duration": 9,
    "start_time": "2022-05-27T06:03:34.279Z"
   },
   {
    "duration": 39,
    "start_time": "2022-05-27T06:03:34.290Z"
   },
   {
    "duration": 5,
    "start_time": "2022-05-27T06:03:34.332Z"
   },
   {
    "duration": 49,
    "start_time": "2022-05-27T06:03:34.339Z"
   },
   {
    "duration": 32,
    "start_time": "2022-05-27T06:03:34.390Z"
   },
   {
    "duration": 15,
    "start_time": "2022-05-27T06:03:34.424Z"
   },
   {
    "duration": 274,
    "start_time": "2022-05-27T06:03:34.441Z"
   },
   {
    "duration": 258,
    "start_time": "2022-05-27T06:03:34.718Z"
   },
   {
    "duration": 589,
    "start_time": "2022-05-27T06:03:34.978Z"
   },
   {
    "duration": 11,
    "start_time": "2022-05-27T06:03:35.569Z"
   },
   {
    "duration": 17,
    "start_time": "2022-05-27T06:03:35.581Z"
   },
   {
    "duration": 167,
    "start_time": "2022-05-27T06:03:35.600Z"
   },
   {
    "duration": 143,
    "start_time": "2022-05-27T06:03:35.769Z"
   },
   {
    "duration": 15,
    "start_time": "2022-05-27T06:03:35.914Z"
   },
   {
    "duration": 22,
    "start_time": "2022-05-27T06:03:35.931Z"
   },
   {
    "duration": 127,
    "start_time": "2022-05-27T06:03:35.955Z"
   },
   {
    "duration": 118,
    "start_time": "2022-05-27T06:03:36.083Z"
   },
   {
    "duration": 37,
    "start_time": "2022-05-27T06:03:36.203Z"
   },
   {
    "duration": 178,
    "start_time": "2022-05-27T06:03:36.243Z"
   },
   {
    "duration": 21,
    "start_time": "2022-05-27T06:03:36.423Z"
   },
   {
    "duration": 143,
    "start_time": "2022-05-27T06:03:36.446Z"
   },
   {
    "duration": 191,
    "start_time": "2022-05-27T06:03:36.591Z"
   },
   {
    "duration": 214,
    "start_time": "2022-05-27T06:03:36.784Z"
   },
   {
    "duration": 30,
    "start_time": "2022-05-27T06:03:37.000Z"
   },
   {
    "duration": 40,
    "start_time": "2022-05-27T06:03:37.032Z"
   },
   {
    "duration": 5,
    "start_time": "2022-05-27T06:03:37.074Z"
   },
   {
    "duration": 66,
    "start_time": "2022-05-27T06:03:37.081Z"
   },
   {
    "duration": 6,
    "start_time": "2022-05-27T06:05:25.862Z"
   },
   {
    "duration": 1181,
    "start_time": "2022-05-27T06:06:03.720Z"
   },
   {
    "duration": 7,
    "start_time": "2022-05-27T06:06:24.481Z"
   },
   {
    "duration": 3,
    "start_time": "2022-05-27T06:06:36.785Z"
   },
   {
    "duration": 4,
    "start_time": "2022-05-27T06:06:47.386Z"
   },
   {
    "duration": 3,
    "start_time": "2022-05-27T06:06:58.209Z"
   },
   {
    "duration": 6,
    "start_time": "2022-05-27T06:07:45.598Z"
   },
   {
    "duration": 4,
    "start_time": "2022-05-27T06:07:45.976Z"
   },
   {
    "duration": 37,
    "start_time": "2022-05-28T08:47:55.541Z"
   },
   {
    "duration": 12,
    "start_time": "2022-05-28T08:53:54.761Z"
   },
   {
    "duration": 3,
    "start_time": "2022-05-28T08:54:22.458Z"
   },
   {
    "duration": 744,
    "start_time": "2022-05-28T08:54:22.462Z"
   },
   {
    "duration": 3,
    "start_time": "2022-05-28T08:54:23.207Z"
   },
   {
    "duration": 2863,
    "start_time": "2022-05-28T08:54:23.212Z"
   },
   {
    "duration": 1616,
    "start_time": "2022-05-28T08:54:26.077Z"
   },
   {
    "duration": 2047,
    "start_time": "2022-05-28T08:54:27.694Z"
   },
   {
    "duration": 4,
    "start_time": "2022-05-28T08:54:29.742Z"
   },
   {
    "duration": 9,
    "start_time": "2022-05-28T08:54:29.747Z"
   },
   {
    "duration": 17,
    "start_time": "2022-05-28T08:54:29.758Z"
   },
   {
    "duration": 4,
    "start_time": "2022-05-28T08:54:29.776Z"
   },
   {
    "duration": 6,
    "start_time": "2022-05-28T08:54:29.782Z"
   },
   {
    "duration": 10,
    "start_time": "2022-05-28T08:54:29.790Z"
   },
   {
    "duration": 8,
    "start_time": "2022-05-28T08:54:29.801Z"
   },
   {
    "duration": 8,
    "start_time": "2022-05-28T08:54:29.810Z"
   },
   {
    "duration": 14,
    "start_time": "2022-05-28T08:54:29.819Z"
   },
   {
    "duration": 7,
    "start_time": "2022-05-28T08:54:29.834Z"
   },
   {
    "duration": 7,
    "start_time": "2022-05-28T08:54:29.874Z"
   },
   {
    "duration": 12,
    "start_time": "2022-05-28T08:54:29.883Z"
   },
   {
    "duration": 4,
    "start_time": "2022-05-28T08:54:29.896Z"
   },
   {
    "duration": 42,
    "start_time": "2022-05-28T08:54:29.901Z"
   },
   {
    "duration": 0,
    "start_time": "2022-05-28T08:54:29.945Z"
   },
   {
    "duration": 0,
    "start_time": "2022-05-28T08:54:29.946Z"
   },
   {
    "duration": 0,
    "start_time": "2022-05-28T08:54:29.948Z"
   },
   {
    "duration": 0,
    "start_time": "2022-05-28T08:54:29.948Z"
   },
   {
    "duration": 0,
    "start_time": "2022-05-28T08:54:29.950Z"
   },
   {
    "duration": 0,
    "start_time": "2022-05-28T08:54:29.951Z"
   },
   {
    "duration": 0,
    "start_time": "2022-05-28T08:54:29.952Z"
   },
   {
    "duration": 0,
    "start_time": "2022-05-28T08:54:29.953Z"
   },
   {
    "duration": 0,
    "start_time": "2022-05-28T08:54:29.954Z"
   },
   {
    "duration": 0,
    "start_time": "2022-05-28T08:54:29.956Z"
   },
   {
    "duration": 0,
    "start_time": "2022-05-28T08:54:29.957Z"
   },
   {
    "duration": 0,
    "start_time": "2022-05-28T08:54:29.958Z"
   },
   {
    "duration": 0,
    "start_time": "2022-05-28T08:54:29.959Z"
   },
   {
    "duration": 0,
    "start_time": "2022-05-28T08:54:29.961Z"
   },
   {
    "duration": 0,
    "start_time": "2022-05-28T08:54:29.975Z"
   },
   {
    "duration": 0,
    "start_time": "2022-05-28T08:54:29.976Z"
   },
   {
    "duration": 0,
    "start_time": "2022-05-28T08:54:29.978Z"
   },
   {
    "duration": 0,
    "start_time": "2022-05-28T08:54:29.979Z"
   },
   {
    "duration": 0,
    "start_time": "2022-05-28T08:54:29.981Z"
   },
   {
    "duration": 0,
    "start_time": "2022-05-28T08:54:29.983Z"
   },
   {
    "duration": 0,
    "start_time": "2022-05-28T08:54:29.984Z"
   },
   {
    "duration": 0,
    "start_time": "2022-05-28T08:54:29.985Z"
   },
   {
    "duration": 0,
    "start_time": "2022-05-28T08:54:29.987Z"
   },
   {
    "duration": 0,
    "start_time": "2022-05-28T08:54:29.988Z"
   },
   {
    "duration": 0,
    "start_time": "2022-05-28T08:54:29.989Z"
   },
   {
    "duration": 0,
    "start_time": "2022-05-28T08:54:29.991Z"
   },
   {
    "duration": 0,
    "start_time": "2022-05-28T08:54:29.993Z"
   },
   {
    "duration": 3,
    "start_time": "2022-05-28T08:54:51.231Z"
   },
   {
    "duration": 4,
    "start_time": "2022-05-28T08:54:52.029Z"
   },
   {
    "duration": 3,
    "start_time": "2022-05-28T08:54:56.418Z"
   },
   {
    "duration": 4,
    "start_time": "2022-05-28T08:54:57.073Z"
   },
   {
    "duration": 234,
    "start_time": "2022-05-28T08:54:57.655Z"
   },
   {
    "duration": 249,
    "start_time": "2022-05-28T08:54:58.172Z"
   },
   {
    "duration": 323,
    "start_time": "2022-05-28T08:54:59.369Z"
   },
   {
    "duration": 8,
    "start_time": "2022-05-28T08:55:02.390Z"
   },
   {
    "duration": 9,
    "start_time": "2022-05-28T08:55:03.167Z"
   },
   {
    "duration": 113,
    "start_time": "2022-05-28T08:55:03.600Z"
   },
   {
    "duration": 120,
    "start_time": "2022-05-28T08:55:03.945Z"
   },
   {
    "duration": 9,
    "start_time": "2022-05-28T08:55:04.320Z"
   },
   {
    "duration": 8,
    "start_time": "2022-05-28T08:55:05.012Z"
   },
   {
    "duration": 103,
    "start_time": "2022-05-28T08:55:36.121Z"
   },
   {
    "duration": 104,
    "start_time": "2022-05-28T08:55:37.032Z"
   },
   {
    "duration": 14,
    "start_time": "2022-05-28T08:55:44.157Z"
   },
   {
    "duration": 152,
    "start_time": "2022-05-28T08:55:44.939Z"
   },
   {
    "duration": 13,
    "start_time": "2022-05-28T08:55:45.656Z"
   },
   {
    "duration": 105,
    "start_time": "2022-05-28T08:56:05.749Z"
   },
   {
    "duration": 180,
    "start_time": "2022-05-28T08:56:12.886Z"
   },
   {
    "duration": 171,
    "start_time": "2022-05-28T08:56:43.915Z"
   },
   {
    "duration": 175,
    "start_time": "2022-05-28T08:58:19.282Z"
   },
   {
    "duration": 182,
    "start_time": "2022-05-28T08:58:33.238Z"
   },
   {
    "duration": 271,
    "start_time": "2022-05-28T08:58:45.040Z"
   },
   {
    "duration": 191,
    "start_time": "2022-05-28T08:58:58.193Z"
   },
   {
    "duration": 23,
    "start_time": "2022-05-28T08:59:07.414Z"
   },
   {
    "duration": 59,
    "start_time": "2022-05-28T08:59:12.097Z"
   },
   {
    "duration": 3,
    "start_time": "2022-05-28T09:03:41.409Z"
   },
   {
    "duration": 3,
    "start_time": "2022-05-28T09:05:54.223Z"
   },
   {
    "duration": 3,
    "start_time": "2022-05-28T09:12:14.640Z"
   },
   {
    "duration": 3,
    "start_time": "2022-05-28T09:15:54.966Z"
   },
   {
    "duration": 166,
    "start_time": "2022-05-28T09:15:55.754Z"
   },
   {
    "duration": 3,
    "start_time": "2022-05-28T09:16:05.656Z"
   },
   {
    "duration": 130,
    "start_time": "2022-05-28T09:16:06.357Z"
   },
   {
    "duration": 4,
    "start_time": "2022-05-28T09:16:09.802Z"
   },
   {
    "duration": 237,
    "start_time": "2022-05-28T09:16:10.845Z"
   },
   {
    "duration": 2,
    "start_time": "2022-05-28T09:19:55.070Z"
   },
   {
    "duration": 33,
    "start_time": "2022-05-28T09:20:34.184Z"
   },
   {
    "duration": 38,
    "start_time": "2022-05-28T09:21:03.909Z"
   },
   {
    "duration": 3,
    "start_time": "2022-05-28T09:21:10.656Z"
   },
   {
    "duration": 6,
    "start_time": "2022-05-28T09:21:40.797Z"
   },
   {
    "duration": 4,
    "start_time": "2022-05-28T09:21:41.656Z"
   },
   {
    "duration": 7,
    "start_time": "2022-05-28T09:25:20.178Z"
   },
   {
    "duration": 6,
    "start_time": "2022-05-28T09:26:04.692Z"
   },
   {
    "duration": 3183,
    "start_time": "2022-05-28T09:26:05.422Z"
   },
   {
    "duration": 0,
    "start_time": "2022-05-28T09:28:33.555Z"
   },
   {
    "duration": 3180,
    "start_time": "2022-05-28T09:29:10.488Z"
   },
   {
    "duration": 7,
    "start_time": "2022-05-28T09:32:28.503Z"
   },
   {
    "duration": 3231,
    "start_time": "2022-05-28T09:32:31.164Z"
   },
   {
    "duration": 32,
    "start_time": "2022-05-28T09:40:48.983Z"
   },
   {
    "duration": 25,
    "start_time": "2022-05-28T11:05:48.289Z"
   },
   {
    "duration": 4,
    "start_time": "2022-05-28T11:06:37.647Z"
   },
   {
    "duration": 13,
    "start_time": "2022-05-28T11:06:50.631Z"
   },
   {
    "duration": 3,
    "start_time": "2022-05-28T11:07:06.424Z"
   },
   {
    "duration": 7,
    "start_time": "2022-05-28T11:07:06.429Z"
   },
   {
    "duration": 697,
    "start_time": "2022-05-28T11:07:06.438Z"
   },
   {
    "duration": 4,
    "start_time": "2022-05-28T11:07:07.136Z"
   },
   {
    "duration": 1983,
    "start_time": "2022-05-28T11:07:07.141Z"
   },
   {
    "duration": 1326,
    "start_time": "2022-05-28T11:07:09.125Z"
   },
   {
    "duration": 1977,
    "start_time": "2022-05-28T11:07:10.452Z"
   },
   {
    "duration": 3,
    "start_time": "2022-05-28T11:07:12.430Z"
   },
   {
    "duration": 9,
    "start_time": "2022-05-28T11:07:12.435Z"
   },
   {
    "duration": 5,
    "start_time": "2022-05-28T11:07:12.446Z"
   },
   {
    "duration": 7,
    "start_time": "2022-05-28T11:07:12.452Z"
   },
   {
    "duration": 3,
    "start_time": "2022-05-28T11:07:12.475Z"
   },
   {
    "duration": 9,
    "start_time": "2022-05-28T11:07:12.480Z"
   },
   {
    "duration": 4,
    "start_time": "2022-05-28T11:07:12.491Z"
   },
   {
    "duration": 8,
    "start_time": "2022-05-28T11:07:12.497Z"
   },
   {
    "duration": 12,
    "start_time": "2022-05-28T11:07:12.506Z"
   },
   {
    "duration": 5,
    "start_time": "2022-05-28T11:07:12.520Z"
   },
   {
    "duration": 10,
    "start_time": "2022-05-28T11:07:12.526Z"
   },
   {
    "duration": 42,
    "start_time": "2022-05-28T11:07:12.537Z"
   },
   {
    "duration": 3,
    "start_time": "2022-05-28T11:07:12.580Z"
   },
   {
    "duration": 15,
    "start_time": "2022-05-28T11:07:12.584Z"
   },
   {
    "duration": 8,
    "start_time": "2022-05-28T11:07:12.600Z"
   },
   {
    "duration": 5,
    "start_time": "2022-05-28T11:07:12.609Z"
   },
   {
    "duration": 301,
    "start_time": "2022-05-28T11:07:12.615Z"
   },
   {
    "duration": 274,
    "start_time": "2022-05-28T11:07:12.918Z"
   },
   {
    "duration": 259,
    "start_time": "2022-05-28T11:07:13.193Z"
   },
   {
    "duration": 7,
    "start_time": "2022-05-28T11:07:13.454Z"
   },
   {
    "duration": 16,
    "start_time": "2022-05-28T11:07:13.462Z"
   },
   {
    "duration": 125,
    "start_time": "2022-05-28T11:07:13.480Z"
   },
   {
    "duration": 144,
    "start_time": "2022-05-28T11:07:13.606Z"
   },
   {
    "duration": 8,
    "start_time": "2022-05-28T11:07:13.751Z"
   },
   {
    "duration": 16,
    "start_time": "2022-05-28T11:07:13.761Z"
   },
   {
    "duration": 113,
    "start_time": "2022-05-28T11:07:13.779Z"
   },
   {
    "duration": 128,
    "start_time": "2022-05-28T11:07:13.894Z"
   },
   {
    "duration": 12,
    "start_time": "2022-05-28T11:07:14.023Z"
   },
   {
    "duration": 224,
    "start_time": "2022-05-28T11:07:14.037Z"
   },
   {
    "duration": 220,
    "start_time": "2022-05-28T11:07:14.262Z"
   },
   {
    "duration": 206,
    "start_time": "2022-05-28T11:07:14.483Z"
   },
   {
    "duration": 15,
    "start_time": "2022-05-28T11:07:14.690Z"
   },
   {
    "duration": 31,
    "start_time": "2022-05-28T11:07:14.707Z"
   },
   {
    "duration": 4,
    "start_time": "2022-05-28T11:07:14.741Z"
   },
   {
    "duration": 6,
    "start_time": "2022-05-28T11:07:14.746Z"
   },
   {
    "duration": 2,
    "start_time": "2022-05-28T11:07:14.775Z"
   },
   {
    "duration": 8,
    "start_time": "2022-05-28T11:07:14.778Z"
   },
   {
    "duration": 3035,
    "start_time": "2022-05-28T11:07:14.787Z"
   },
   {
    "duration": 5,
    "start_time": "2022-05-28T11:07:20.359Z"
   },
   {
    "duration": 5,
    "start_time": "2022-05-28T11:12:52.834Z"
   },
   {
    "duration": 44,
    "start_time": "2022-05-28T11:14:19.741Z"
   },
   {
    "duration": 4,
    "start_time": "2022-05-28T11:14:26.916Z"
   },
   {
    "duration": 209,
    "start_time": "2022-05-28T11:14:28.075Z"
   },
   {
    "duration": 4,
    "start_time": "2022-05-28T11:15:42.600Z"
   },
   {
    "duration": 190,
    "start_time": "2022-05-28T11:15:43.686Z"
   },
   {
    "duration": 3,
    "start_time": "2022-05-28T11:16:37.235Z"
   },
   {
    "duration": 549,
    "start_time": "2022-05-28T11:16:37.733Z"
   },
   {
    "duration": 4,
    "start_time": "2022-05-28T11:20:37.156Z"
   },
   {
    "duration": 999,
    "start_time": "2022-05-28T11:20:37.680Z"
   },
   {
    "duration": 4,
    "start_time": "2022-05-28T11:23:38.192Z"
   },
   {
    "duration": 1664,
    "start_time": "2022-05-28T11:23:38.820Z"
   },
   {
    "duration": 4,
    "start_time": "2022-05-28T11:23:49.832Z"
   },
   {
    "duration": 6023,
    "start_time": "2022-05-28T11:23:50.754Z"
   },
   {
    "duration": 4,
    "start_time": "2022-05-28T11:24:40.192Z"
   },
   {
    "duration": 45,
    "start_time": "2022-05-28T11:24:40.720Z"
   },
   {
    "duration": 3,
    "start_time": "2022-05-28T11:24:49.465Z"
   },
   {
    "duration": 8784,
    "start_time": "2022-05-28T11:24:50.504Z"
   },
   {
    "duration": 3,
    "start_time": "2022-05-28T11:26:36.083Z"
   },
   {
    "duration": 8306,
    "start_time": "2022-05-28T11:26:37.080Z"
   },
   {
    "duration": 4,
    "start_time": "2022-05-28T11:26:54.004Z"
   },
   {
    "duration": 3,
    "start_time": "2022-05-28T11:28:57.022Z"
   },
   {
    "duration": 51,
    "start_time": "2022-05-28T11:28:57.658Z"
   },
   {
    "duration": 4,
    "start_time": "2022-05-28T11:35:50.653Z"
   },
   {
    "duration": 3345,
    "start_time": "2022-05-28T11:35:52.239Z"
   },
   {
    "duration": 40,
    "start_time": "2022-05-28T11:39:04.066Z"
   },
   {
    "duration": 15,
    "start_time": "2022-05-28T11:39:13.167Z"
   },
   {
    "duration": 11,
    "start_time": "2022-05-28T11:39:24.501Z"
   },
   {
    "duration": 3672,
    "start_time": "2022-05-28T11:39:25.517Z"
   },
   {
    "duration": 5,
    "start_time": "2022-05-28T11:40:08.388Z"
   },
   {
    "duration": 6,
    "start_time": "2022-05-28T11:40:18.753Z"
   },
   {
    "duration": 412,
    "start_time": "2022-05-28T11:40:19.482Z"
   },
   {
    "duration": 5,
    "start_time": "2022-05-28T11:43:52.495Z"
   },
   {
    "duration": 545,
    "start_time": "2022-05-28T11:43:53.243Z"
   },
   {
    "duration": 322,
    "start_time": "2022-05-28T11:47:35.143Z"
   },
   {
    "duration": 363,
    "start_time": "2022-05-28T11:48:01.678Z"
   },
   {
    "duration": 330,
    "start_time": "2022-05-28T11:48:16.283Z"
   },
   {
    "duration": 413,
    "start_time": "2022-05-28T11:48:43.735Z"
   },
   {
    "duration": 423,
    "start_time": "2022-05-28T11:49:29.527Z"
   },
   {
    "duration": 7,
    "start_time": "2022-05-28T11:50:41.194Z"
   },
   {
    "duration": 627,
    "start_time": "2022-05-28T11:50:47.864Z"
   },
   {
    "duration": 2874,
    "start_time": "2022-05-28T11:51:16.635Z"
   },
   {
    "duration": 233166,
    "start_time": "2022-05-28T12:24:16.947Z"
   },
   {
    "duration": 25,
    "start_time": "2022-05-28T12:28:10.115Z"
   },
   {
    "duration": 0,
    "start_time": "2022-05-28T12:28:10.144Z"
   },
   {
    "duration": 0,
    "start_time": "2022-05-28T12:28:10.145Z"
   },
   {
    "duration": 0,
    "start_time": "2022-05-28T12:28:10.147Z"
   },
   {
    "duration": 6,
    "start_time": "2022-05-28T12:41:43.822Z"
   },
   {
    "duration": 2,
    "start_time": "2022-05-28T12:42:53.689Z"
   },
   {
    "duration": 493,
    "start_time": "2022-05-28T12:45:25.920Z"
   },
   {
    "duration": 6,
    "start_time": "2022-05-28T12:45:43.462Z"
   },
   {
    "duration": 6,
    "start_time": "2022-05-28T12:46:18.989Z"
   },
   {
    "duration": 5,
    "start_time": "2022-05-28T12:46:38.891Z"
   },
   {
    "duration": 3,
    "start_time": "2022-05-28T12:56:58.824Z"
   },
   {
    "duration": 8,
    "start_time": "2022-05-28T13:08:06.551Z"
   },
   {
    "duration": 7,
    "start_time": "2022-05-28T13:08:29.368Z"
   },
   {
    "duration": 69,
    "start_time": "2022-05-28T13:10:51.570Z"
   },
   {
    "duration": 19,
    "start_time": "2022-05-28T13:11:51.824Z"
   },
   {
    "duration": 65,
    "start_time": "2022-05-28T13:12:07.368Z"
   },
   {
    "duration": 3,
    "start_time": "2022-05-28T13:12:36.522Z"
   },
   {
    "duration": 8,
    "start_time": "2022-05-28T13:12:36.527Z"
   },
   {
    "duration": 726,
    "start_time": "2022-05-28T13:12:36.537Z"
   },
   {
    "duration": 4,
    "start_time": "2022-05-28T13:12:37.265Z"
   },
   {
    "duration": 3073,
    "start_time": "2022-05-28T13:12:37.271Z"
   },
   {
    "duration": 1548,
    "start_time": "2022-05-28T13:12:40.346Z"
   },
   {
    "duration": 2468,
    "start_time": "2022-05-28T13:12:41.896Z"
   },
   {
    "duration": 9,
    "start_time": "2022-05-28T13:12:44.366Z"
   },
   {
    "duration": 20,
    "start_time": "2022-05-28T13:12:44.379Z"
   },
   {
    "duration": 6,
    "start_time": "2022-05-28T13:12:44.401Z"
   },
   {
    "duration": 6,
    "start_time": "2022-05-28T13:12:44.409Z"
   },
   {
    "duration": 5,
    "start_time": "2022-05-28T13:12:44.417Z"
   },
   {
    "duration": 11,
    "start_time": "2022-05-28T13:12:44.424Z"
   },
   {
    "duration": 7,
    "start_time": "2022-05-28T13:12:44.436Z"
   },
   {
    "duration": 10,
    "start_time": "2022-05-28T13:12:44.444Z"
   },
   {
    "duration": 19,
    "start_time": "2022-05-28T13:12:44.476Z"
   },
   {
    "duration": 8,
    "start_time": "2022-05-28T13:12:44.497Z"
   },
   {
    "duration": 6,
    "start_time": "2022-05-28T13:12:44.507Z"
   },
   {
    "duration": 20,
    "start_time": "2022-05-28T13:12:44.515Z"
   },
   {
    "duration": 3,
    "start_time": "2022-05-28T13:12:44.537Z"
   },
   {
    "duration": 7,
    "start_time": "2022-05-28T13:12:44.542Z"
   },
   {
    "duration": 28,
    "start_time": "2022-05-28T13:12:44.550Z"
   },
   {
    "duration": 19,
    "start_time": "2022-05-28T13:12:44.581Z"
   },
   {
    "duration": 310,
    "start_time": "2022-05-28T13:12:44.603Z"
   },
   {
    "duration": 314,
    "start_time": "2022-05-28T13:12:44.915Z"
   },
   {
    "duration": 322,
    "start_time": "2022-05-28T13:12:45.231Z"
   },
   {
    "duration": 10,
    "start_time": "2022-05-28T13:12:45.555Z"
   },
   {
    "duration": 24,
    "start_time": "2022-05-28T13:12:45.575Z"
   },
   {
    "duration": 143,
    "start_time": "2022-05-28T13:12:45.601Z"
   },
   {
    "duration": 172,
    "start_time": "2022-05-28T13:12:45.746Z"
   },
   {
    "duration": 11,
    "start_time": "2022-05-28T13:12:45.920Z"
   },
   {
    "duration": 9,
    "start_time": "2022-05-28T13:12:45.933Z"
   },
   {
    "duration": 158,
    "start_time": "2022-05-28T13:12:45.944Z"
   },
   {
    "duration": 158,
    "start_time": "2022-05-28T13:12:46.104Z"
   },
   {
    "duration": 18,
    "start_time": "2022-05-28T13:12:46.263Z"
   },
   {
    "duration": 248,
    "start_time": "2022-05-28T13:12:46.283Z"
   },
   {
    "duration": 287,
    "start_time": "2022-05-28T13:12:46.532Z"
   },
   {
    "duration": 242,
    "start_time": "2022-05-28T13:12:46.821Z"
   },
   {
    "duration": 31,
    "start_time": "2022-05-28T13:12:47.064Z"
   },
   {
    "duration": 33,
    "start_time": "2022-05-28T13:12:47.097Z"
   },
   {
    "duration": 4,
    "start_time": "2022-05-28T13:12:47.132Z"
   },
   {
    "duration": 5,
    "start_time": "2022-05-28T13:12:47.137Z"
   },
   {
    "duration": 6,
    "start_time": "2022-05-28T13:12:47.144Z"
   },
   {
    "duration": 25,
    "start_time": "2022-05-28T13:12:47.152Z"
   },
   {
    "duration": 22,
    "start_time": "2022-05-28T13:12:47.179Z"
   },
   {
    "duration": 10,
    "start_time": "2022-05-28T13:12:47.203Z"
   },
   {
    "duration": 7,
    "start_time": "2022-05-28T13:12:49.940Z"
   },
   {
    "duration": 14,
    "start_time": "2022-05-28T13:13:18.388Z"
   },
   {
    "duration": 63,
    "start_time": "2022-05-28T13:13:20.435Z"
   },
   {
    "duration": 24,
    "start_time": "2022-05-28T13:14:19.309Z"
   },
   {
    "duration": 7,
    "start_time": "2022-05-28T13:15:36.939Z"
   },
   {
    "duration": 18,
    "start_time": "2022-05-28T13:15:42.146Z"
   },
   {
    "duration": 18,
    "start_time": "2022-05-28T13:15:44.872Z"
   },
   {
    "duration": 3,
    "start_time": "2022-05-28T13:19:38.629Z"
   },
   {
    "duration": 4,
    "start_time": "2022-05-28T13:19:39.631Z"
   },
   {
    "duration": 26307,
    "start_time": "2022-05-28T13:26:37.522Z"
   },
   {
    "duration": 271642,
    "start_time": "2022-05-28T13:27:36.771Z"
   },
   {
    "duration": 2,
    "start_time": "2022-05-28T13:38:41.286Z"
   },
   {
    "duration": 44,
    "start_time": "2022-05-28T13:38:46.387Z"
   },
   {
    "duration": 80,
    "start_time": "2022-05-28T13:39:18.606Z"
   },
   {
    "duration": 7,
    "start_time": "2022-05-28T13:46:40.954Z"
   },
   {
    "duration": 8,
    "start_time": "2022-05-28T13:46:52.286Z"
   },
   {
    "duration": 50,
    "start_time": "2022-05-28T13:50:42.893Z"
   },
   {
    "duration": 3,
    "start_time": "2022-05-28T13:51:39.255Z"
   },
   {
    "duration": 64,
    "start_time": "2022-05-28T13:51:40.420Z"
   },
   {
    "duration": 3,
    "start_time": "2022-05-28T13:51:56.611Z"
   },
   {
    "duration": 4,
    "start_time": "2022-05-28T13:51:58.721Z"
   },
   {
    "duration": 3,
    "start_time": "2022-05-28T13:51:59.566Z"
   },
   {
    "duration": 3,
    "start_time": "2022-05-28T13:52:00.616Z"
   },
   {
    "duration": 1394,
    "start_time": "2022-05-28T13:52:01.306Z"
   },
   {
    "duration": 1407,
    "start_time": "2022-05-28T13:52:37.058Z"
   },
   {
    "duration": 1399,
    "start_time": "2022-05-28T13:58:08.232Z"
   },
   {
    "duration": 3,
    "start_time": "2022-05-28T13:58:25.556Z"
   },
   {
    "duration": 206777,
    "start_time": "2022-05-28T13:58:27.338Z"
   },
   {
    "duration": 6,
    "start_time": "2022-05-28T14:10:16.784Z"
   },
   {
    "duration": 13167,
    "start_time": "2022-05-28T14:10:36.651Z"
   },
   {
    "duration": 2863,
    "start_time": "2022-05-28T14:10:49.822Z"
   },
   {
    "duration": 2886,
    "start_time": "2022-05-28T14:10:53.299Z"
   },
   {
    "duration": 10,
    "start_time": "2022-05-28T14:11:01.326Z"
   },
   {
    "duration": 4,
    "start_time": "2022-05-28T14:11:17.360Z"
   },
   {
    "duration": 39,
    "start_time": "2022-05-28T14:11:23.266Z"
   },
   {
    "duration": 478970,
    "start_time": "2022-05-28T14:11:28.648Z"
   },
   {
    "duration": 4,
    "start_time": "2022-05-28T14:25:51.994Z"
   },
   {
    "duration": 3132,
    "start_time": "2022-05-28T14:25:51.999Z"
   },
   {
    "duration": 7,
    "start_time": "2022-05-28T14:25:58.205Z"
   },
   {
    "duration": 65246,
    "start_time": "2022-05-28T14:25:58.900Z"
   },
   {
    "duration": 3178,
    "start_time": "2022-05-28T14:27:16.904Z"
   },
   {
    "duration": 143,
    "start_time": "2022-05-28T14:27:20.084Z"
   },
   {
    "duration": 2939804,
    "start_time": "2022-05-28T14:28:48.245Z"
   },
   {
    "duration": 14,
    "start_time": "2022-05-28T15:17:48.051Z"
   },
   {
    "duration": 203038,
    "start_time": "2022-05-28T15:18:15.947Z"
   },
   {
    "duration": 284530,
    "start_time": "2022-05-28T15:22:22.166Z"
   },
   {
    "duration": 2813,
    "start_time": "2022-05-28T15:28:50.464Z"
   },
   {
    "duration": 131,
    "start_time": "2022-05-28T15:28:53.280Z"
   },
   {
    "duration": 7,
    "start_time": "2022-05-28T15:28:56.716Z"
   },
   {
    "duration": 10,
    "start_time": "2022-05-28T15:28:58.050Z"
   },
   {
    "duration": 6,
    "start_time": "2022-05-28T15:29:22.204Z"
   },
   {
    "duration": 11,
    "start_time": "2022-05-28T15:29:23.761Z"
   },
   {
    "duration": 20,
    "start_time": "2022-05-28T15:29:25.759Z"
   },
   {
    "duration": 3,
    "start_time": "2022-05-28T15:29:26.993Z"
   },
   {
    "duration": 3630,
    "start_time": "2022-05-28T15:29:29.312Z"
   },
   {
    "duration": 1869,
    "start_time": "2022-05-28T15:29:46.108Z"
   },
   {
    "duration": 30,
    "start_time": "2022-05-28T15:29:59.089Z"
   },
   {
    "duration": 74,
    "start_time": "2022-05-28T15:37:11.066Z"
   },
   {
    "duration": 6,
    "start_time": "2022-05-28T15:37:17.777Z"
   },
   {
    "duration": 2852,
    "start_time": "2022-05-28T15:37:22.026Z"
   },
   {
    "duration": 3106,
    "start_time": "2022-05-28T15:37:32.387Z"
   },
   {
    "duration": 43,
    "start_time": "2022-05-28T15:37:45.058Z"
   },
   {
    "duration": 59,
    "start_time": "2022-05-28T15:38:59.861Z"
   },
   {
    "duration": 3810,
    "start_time": "2022-05-28T15:39:09.668Z"
   },
   {
    "duration": 2460,
    "start_time": "2022-05-28T15:39:34.421Z"
   },
   {
    "duration": 37,
    "start_time": "2022-05-28T15:39:46.829Z"
   },
   {
    "duration": 4724790,
    "start_time": "2022-05-28T15:42:06.658Z"
   },
   {
    "duration": 37,
    "start_time": "2022-05-28T17:00:51.450Z"
   },
   {
    "duration": 0,
    "start_time": "2022-05-28T17:00:51.489Z"
   },
   {
    "duration": 0,
    "start_time": "2022-05-28T17:00:51.490Z"
   },
   {
    "duration": 187,
    "start_time": "2022-05-28T17:04:00.730Z"
   },
   {
    "duration": 367597,
    "start_time": "2022-05-28T17:05:37.406Z"
   },
   {
    "duration": 60278,
    "start_time": "2022-05-28T17:15:14.566Z"
   },
   {
    "duration": 37,
    "start_time": "2022-05-28T17:18:13.881Z"
   },
   {
    "duration": 4,
    "start_time": "2022-05-28T17:24:50.820Z"
   },
   {
    "duration": 7861,
    "start_time": "2022-05-28T17:25:18.175Z"
   },
   {
    "duration": 7680,
    "start_time": "2022-05-28T17:25:57.133Z"
   },
   {
    "duration": 398,
    "start_time": "2022-05-28T17:31:16.077Z"
   },
   {
    "duration": 7,
    "start_time": "2022-05-28T17:31:17.990Z"
   },
   {
    "duration": 4,
    "start_time": "2022-05-28T17:34:05.662Z"
   },
   {
    "duration": 7534,
    "start_time": "2022-05-28T17:34:06.888Z"
   },
   {
    "duration": 557,
    "start_time": "2022-05-28T17:34:14.424Z"
   },
   {
    "duration": 11,
    "start_time": "2022-05-28T17:34:14.982Z"
   },
   {
    "duration": 38,
    "start_time": "2022-05-29T04:59:23.359Z"
   },
   {
    "duration": 27,
    "start_time": "2022-05-29T05:35:49.114Z"
   },
   {
    "duration": 204,
    "start_time": "2022-05-29T06:15:22.720Z"
   },
   {
    "duration": 104,
    "start_time": "2022-05-29T06:15:33.789Z"
   },
   {
    "duration": 118,
    "start_time": "2022-05-29T06:16:04.157Z"
   },
   {
    "duration": 114,
    "start_time": "2022-05-29T06:16:20.040Z"
   },
   {
    "duration": 5,
    "start_time": "2022-05-29T06:17:03.638Z"
   },
   {
    "duration": 527,
    "start_time": "2022-05-29T06:17:47.170Z"
   },
   {
    "duration": 35,
    "start_time": "2022-05-29T06:18:56.748Z"
   },
   {
    "duration": 17,
    "start_time": "2022-05-29T06:19:02.302Z"
   },
   {
    "duration": 225,
    "start_time": "2022-05-29T06:19:13.105Z"
   },
   {
    "duration": 302,
    "start_time": "2022-05-29T06:19:20.566Z"
   },
   {
    "duration": 218,
    "start_time": "2022-05-29T06:19:58.675Z"
   },
   {
    "duration": 19,
    "start_time": "2022-05-29T06:20:00.887Z"
   },
   {
    "duration": 102,
    "start_time": "2022-05-29T06:20:09.609Z"
   },
   {
    "duration": 34,
    "start_time": "2022-05-29T06:29:44.264Z"
   },
   {
    "duration": 3,
    "start_time": "2022-05-29T06:29:58.960Z"
   },
   {
    "duration": 4,
    "start_time": "2022-05-29T06:30:00.575Z"
   },
   {
    "duration": 3,
    "start_time": "2022-05-29T06:30:02.776Z"
   },
   {
    "duration": 6,
    "start_time": "2022-05-29T06:30:05.696Z"
   },
   {
    "duration": 9,
    "start_time": "2022-05-29T06:30:06.822Z"
   },
   {
    "duration": 12,
    "start_time": "2022-05-29T06:30:07.567Z"
   },
   {
    "duration": 19,
    "start_time": "2022-05-29T06:30:09.030Z"
   },
   {
    "duration": 212614,
    "start_time": "2022-05-29T06:30:24.976Z"
   },
   {
    "duration": 4249502,
    "start_time": "2022-05-29T06:34:26.368Z"
   },
   {
    "duration": 371,
    "start_time": "2022-05-29T07:50:38.544Z"
   },
   {
    "duration": 161328,
    "start_time": "2022-05-29T07:50:50.910Z"
   },
   {
    "duration": 4291841,
    "start_time": "2022-05-29T07:53:37.857Z"
   },
   {
    "duration": 9,
    "start_time": "2022-05-29T09:05:09.705Z"
   },
   {
    "duration": 29,
    "start_time": "2022-05-29T09:05:47.593Z"
   },
   {
    "duration": 4291610,
    "start_time": "2022-05-29T09:06:25.819Z"
   },
   {
    "duration": 84091,
    "start_time": "2022-05-29T10:30:26.585Z"
   },
   {
    "duration": 2998,
    "start_time": "2022-05-29T10:32:27.929Z"
   },
   {
    "duration": 8,
    "start_time": "2022-05-29T10:33:33.980Z"
   },
   {
    "duration": 8,
    "start_time": "2022-05-29T10:33:34.541Z"
   },
   {
    "duration": 9,
    "start_time": "2022-05-29T10:33:36.210Z"
   },
   {
    "duration": 6,
    "start_time": "2022-05-29T10:33:36.824Z"
   },
   {
    "duration": 11,
    "start_time": "2022-05-29T10:33:38.907Z"
   },
   {
    "duration": 6,
    "start_time": "2022-05-29T10:33:39.673Z"
   },
   {
    "duration": 18,
    "start_time": "2022-05-29T10:33:43.020Z"
   },
   {
    "duration": 6,
    "start_time": "2022-05-29T10:33:45.128Z"
   },
   {
    "duration": 41,
    "start_time": "2022-05-29T10:34:04.581Z"
   },
   {
    "duration": 6,
    "start_time": "2022-05-29T10:34:13.433Z"
   },
   {
    "duration": 22071,
    "start_time": "2022-05-29T10:34:18.625Z"
   },
   {
    "duration": 722,
    "start_time": "2022-05-29T10:34:44.202Z"
   },
   {
    "duration": 9,
    "start_time": "2022-05-29T10:34:46.832Z"
   },
   {
    "duration": 5,
    "start_time": "2022-05-29T10:48:36.303Z"
   },
   {
    "duration": 16,
    "start_time": "2022-05-29T10:48:36.311Z"
   },
   {
    "duration": 2987,
    "start_time": "2022-05-29T10:48:36.329Z"
   },
   {
    "duration": 4,
    "start_time": "2022-05-29T10:48:39.318Z"
   },
   {
    "duration": 2857,
    "start_time": "2022-05-29T10:48:39.324Z"
   },
   {
    "duration": 1495,
    "start_time": "2022-05-29T10:48:42.183Z"
   },
   {
    "duration": 2101,
    "start_time": "2022-05-29T10:48:43.680Z"
   },
   {
    "duration": 4,
    "start_time": "2022-05-29T10:48:45.783Z"
   },
   {
    "duration": 12,
    "start_time": "2022-05-29T10:48:45.788Z"
   },
   {
    "duration": 5,
    "start_time": "2022-05-29T10:48:45.801Z"
   },
   {
    "duration": 17,
    "start_time": "2022-05-29T10:48:45.807Z"
   },
   {
    "duration": 6,
    "start_time": "2022-05-29T10:48:45.825Z"
   },
   {
    "duration": 7,
    "start_time": "2022-05-29T10:48:45.833Z"
   },
   {
    "duration": 4,
    "start_time": "2022-05-29T10:48:45.843Z"
   },
   {
    "duration": 9,
    "start_time": "2022-05-29T10:48:45.848Z"
   },
   {
    "duration": 6,
    "start_time": "2022-05-29T10:48:45.858Z"
   },
   {
    "duration": 13,
    "start_time": "2022-05-29T10:48:45.865Z"
   },
   {
    "duration": 45,
    "start_time": "2022-05-29T10:48:45.879Z"
   },
   {
    "duration": 6,
    "start_time": "2022-05-29T10:48:45.926Z"
   },
   {
    "duration": 16,
    "start_time": "2022-05-29T10:48:45.934Z"
   },
   {
    "duration": 5,
    "start_time": "2022-05-29T10:48:45.951Z"
   },
   {
    "duration": 12,
    "start_time": "2022-05-29T10:48:45.958Z"
   },
   {
    "duration": 7,
    "start_time": "2022-05-29T10:48:45.971Z"
   },
   {
    "duration": 7,
    "start_time": "2022-05-29T10:48:45.980Z"
   },
   {
    "duration": 258,
    "start_time": "2022-05-29T10:48:45.989Z"
   },
   {
    "duration": 259,
    "start_time": "2022-05-29T10:48:46.249Z"
   },
   {
    "duration": 275,
    "start_time": "2022-05-29T10:48:46.510Z"
   },
   {
    "duration": 9,
    "start_time": "2022-05-29T10:48:46.787Z"
   },
   {
    "duration": 12,
    "start_time": "2022-05-29T10:48:46.798Z"
   },
   {
    "duration": 112,
    "start_time": "2022-05-29T10:48:46.823Z"
   },
   {
    "duration": 217,
    "start_time": "2022-05-29T10:48:46.937Z"
   },
   {
    "duration": 8,
    "start_time": "2022-05-29T10:48:47.156Z"
   },
   {
    "duration": 7,
    "start_time": "2022-05-29T10:48:47.166Z"
   },
   {
    "duration": 139,
    "start_time": "2022-05-29T10:48:47.175Z"
   },
   {
    "duration": 133,
    "start_time": "2022-05-29T10:48:47.315Z"
   },
   {
    "duration": 4,
    "start_time": "2022-05-29T10:48:47.450Z"
   },
   {
    "duration": 16,
    "start_time": "2022-05-29T10:48:47.456Z"
   },
   {
    "duration": 204,
    "start_time": "2022-05-29T10:48:47.474Z"
   },
   {
    "duration": 201,
    "start_time": "2022-05-29T10:48:47.679Z"
   },
   {
    "duration": 18,
    "start_time": "2022-05-29T10:48:47.881Z"
   },
   {
    "duration": 52,
    "start_time": "2022-05-29T10:48:47.902Z"
   },
   {
    "duration": 4,
    "start_time": "2022-05-29T10:48:47.955Z"
   },
   {
    "duration": 6,
    "start_time": "2022-05-29T10:48:47.961Z"
   },
   {
    "duration": 9,
    "start_time": "2022-05-29T10:48:47.969Z"
   },
   {
    "duration": 10,
    "start_time": "2022-05-29T10:48:47.980Z"
   },
   {
    "duration": 14,
    "start_time": "2022-05-29T10:48:47.992Z"
   },
   {
    "duration": 9,
    "start_time": "2022-05-29T10:48:48.022Z"
   },
   {
    "duration": 12,
    "start_time": "2022-05-29T10:48:48.033Z"
   },
   {
    "duration": 14,
    "start_time": "2022-05-29T10:48:48.047Z"
   },
   {
    "duration": 5,
    "start_time": "2022-05-29T10:48:48.062Z"
   },
   {
    "duration": 18,
    "start_time": "2022-05-29T10:48:48.068Z"
   },
   {
    "duration": 6,
    "start_time": "2022-05-29T10:48:48.088Z"
   },
   {
    "duration": 83505,
    "start_time": "2022-05-29T10:48:48.095Z"
   },
   {
    "duration": 2826,
    "start_time": "2022-05-29T10:50:11.602Z"
   },
   {
    "duration": 147,
    "start_time": "2022-05-29T10:50:14.430Z"
   },
   {
    "duration": 4,
    "start_time": "2022-05-29T10:50:14.579Z"
   },
   {
    "duration": 21615,
    "start_time": "2022-05-29T10:50:14.585Z"
   },
   {
    "duration": 432,
    "start_time": "2022-05-29T10:50:36.201Z"
   },
   {
    "duration": 95,
    "start_time": "2022-05-29T10:50:36.635Z"
   }
  ],
  "kernelspec": {
   "display_name": "Python 3 (ipykernel)",
   "language": "python",
   "name": "python3"
  },
  "language_info": {
   "codemirror_mode": {
    "name": "ipython",
    "version": 3
   },
   "file_extension": ".py",
   "mimetype": "text/x-python",
   "name": "python",
   "nbconvert_exporter": "python",
   "pygments_lexer": "ipython3",
   "version": "3.9.12"
  },
  "toc": {
   "base_numbering": 1,
   "nav_menu": {},
   "number_sections": true,
   "sideBar": true,
   "skip_h1_title": true,
   "title_cell": "Содержание",
   "title_sidebar": "Contents",
   "toc_cell": true,
   "toc_position": {
    "height": "calc(100% - 180px)",
    "left": "10px",
    "top": "150px",
    "width": "165px"
   },
   "toc_section_display": true,
   "toc_window_display": true
  }
 },
 "nbformat": 4,
 "nbformat_minor": 2
}
