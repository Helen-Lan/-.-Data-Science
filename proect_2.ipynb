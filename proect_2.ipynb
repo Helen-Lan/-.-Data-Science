{
 "cells": [
  {
   "cell_type": "markdown",
   "id": "b8dbfc07",
   "metadata": {},
   "source": [
    "# Исследование надежности заемщиков."
   ]
  },
  {
   "cell_type": "markdown",
   "id": "f21c14cb",
   "metadata": {},
   "source": [
    "**Цель проекта: изучить зависимость семейного положения и количество детей клиента на факт погашения кредита в срок.**\n",
    "\n",
    "Проверить следующие теории:\n",
    "* Есть ли зависимость между количеством детей и возвратом кредита в срок?\n",
    "* Есть ли зависимость между семейным положением и возвратом кредита в срок?\n",
    "* Есть ли зависимость между уровнем дохода и возвратом кредита в срок?\n",
    "* Как разные цели кредита влияют на его возврат в срок?\n",
    "\n",
    "Входные данные от банка — статистика о платёжеспособности клиентов.\n"
   ]
  },
  {
   "cell_type": "markdown",
   "id": "14303ffa",
   "metadata": {},
   "source": [
    "План работы:\n",
    "* изучить данные\n",
    "* предобработка\n",
    "* категоризация данных\n",
    "* проверка теорий"
   ]
  },
  {
   "cell_type": "markdown",
   "id": "7f8bd1b7",
   "metadata": {},
   "source": [
    "## Шаг 1. Обзор данных"
   ]
  },
  {
   "cell_type": "markdown",
   "id": "c87b31cd",
   "metadata": {},
   "source": [
    "### Загружаем данные"
   ]
  },
  {
   "cell_type": "markdown",
   "id": "18e82369",
   "metadata": {},
   "source": [
    "Импортируем библиотеку Pandas\n",
    "Загружаем данные"
   ]
  },
  {
   "cell_type": "code",
   "execution_count": 162,
   "id": "8f825196",
   "metadata": {},
   "outputs": [],
   "source": [
    "import pandas as pd"
   ]
  },
  {
   "cell_type": "code",
   "execution_count": 163,
   "id": "c8733d7b",
   "metadata": {},
   "outputs": [],
   "source": [
    "data = pd.read_csv('/datasets/data.csv')"
   ]
  },
  {
   "cell_type": "markdown",
   "id": "4a41ce3c",
   "metadata": {},
   "source": [
    "### Изучаем основные сведения о данных."
   ]
  },
  {
   "cell_type": "code",
   "execution_count": 164,
   "id": "e66be119",
   "metadata": {},
   "outputs": [
    {
     "name": "stdout",
     "output_type": "stream",
     "text": [
      "<class 'pandas.core.frame.DataFrame'>\n",
      "RangeIndex: 21525 entries, 0 to 21524\n",
      "Data columns (total 12 columns):\n",
      "children            21525 non-null int64\n",
      "days_employed       19351 non-null float64\n",
      "dob_years           21525 non-null int64\n",
      "education           21525 non-null object\n",
      "education_id        21525 non-null int64\n",
      "family_status       21525 non-null object\n",
      "family_status_id    21525 non-null int64\n",
      "gender              21525 non-null object\n",
      "income_type         21525 non-null object\n",
      "debt                21525 non-null int64\n",
      "total_income        19351 non-null float64\n",
      "purpose             21525 non-null object\n",
      "dtypes: float64(2), int64(5), object(5)\n",
      "memory usage: 2.0+ MB\n"
     ]
    }
   ],
   "source": [
    "data.info()"
   ]
  },
  {
   "cell_type": "markdown",
   "id": "b95e23bb",
   "metadata": {},
   "source": [
    "В DataFrame 12 колонок и 21525 строк."
   ]
  },
  {
   "cell_type": "markdown",
   "id": "c2aafaf5",
   "metadata": {},
   "source": [
    "Просматриваем данные:"
   ]
  },
  {
   "cell_type": "code",
   "execution_count": 165,
   "id": "c52291f6",
   "metadata": {
    "scrolled": true
   },
   "outputs": [
    {
     "data": {
      "text/html": [
       "<div>\n",
       "<style scoped>\n",
       "    .dataframe tbody tr th:only-of-type {\n",
       "        vertical-align: middle;\n",
       "    }\n",
       "\n",
       "    .dataframe tbody tr th {\n",
       "        vertical-align: top;\n",
       "    }\n",
       "\n",
       "    .dataframe thead th {\n",
       "        text-align: right;\n",
       "    }\n",
       "</style>\n",
       "<table border=\"1\" class=\"dataframe\">\n",
       "  <thead>\n",
       "    <tr style=\"text-align: right;\">\n",
       "      <th></th>\n",
       "      <th>children</th>\n",
       "      <th>days_employed</th>\n",
       "      <th>dob_years</th>\n",
       "      <th>education</th>\n",
       "      <th>education_id</th>\n",
       "      <th>family_status</th>\n",
       "      <th>family_status_id</th>\n",
       "      <th>gender</th>\n",
       "      <th>income_type</th>\n",
       "      <th>debt</th>\n",
       "      <th>total_income</th>\n",
       "      <th>purpose</th>\n",
       "    </tr>\n",
       "  </thead>\n",
       "  <tbody>\n",
       "    <tr>\n",
       "      <td>0</td>\n",
       "      <td>1</td>\n",
       "      <td>-8437.673028</td>\n",
       "      <td>42</td>\n",
       "      <td>высшее</td>\n",
       "      <td>0</td>\n",
       "      <td>женат / замужем</td>\n",
       "      <td>0</td>\n",
       "      <td>F</td>\n",
       "      <td>сотрудник</td>\n",
       "      <td>0</td>\n",
       "      <td>253875.639453</td>\n",
       "      <td>покупка жилья</td>\n",
       "    </tr>\n",
       "    <tr>\n",
       "      <td>1</td>\n",
       "      <td>1</td>\n",
       "      <td>-4024.803754</td>\n",
       "      <td>36</td>\n",
       "      <td>среднее</td>\n",
       "      <td>1</td>\n",
       "      <td>женат / замужем</td>\n",
       "      <td>0</td>\n",
       "      <td>F</td>\n",
       "      <td>сотрудник</td>\n",
       "      <td>0</td>\n",
       "      <td>112080.014102</td>\n",
       "      <td>приобретение автомобиля</td>\n",
       "    </tr>\n",
       "    <tr>\n",
       "      <td>2</td>\n",
       "      <td>0</td>\n",
       "      <td>-5623.422610</td>\n",
       "      <td>33</td>\n",
       "      <td>Среднее</td>\n",
       "      <td>1</td>\n",
       "      <td>женат / замужем</td>\n",
       "      <td>0</td>\n",
       "      <td>M</td>\n",
       "      <td>сотрудник</td>\n",
       "      <td>0</td>\n",
       "      <td>145885.952297</td>\n",
       "      <td>покупка жилья</td>\n",
       "    </tr>\n",
       "    <tr>\n",
       "      <td>3</td>\n",
       "      <td>3</td>\n",
       "      <td>-4124.747207</td>\n",
       "      <td>32</td>\n",
       "      <td>среднее</td>\n",
       "      <td>1</td>\n",
       "      <td>женат / замужем</td>\n",
       "      <td>0</td>\n",
       "      <td>M</td>\n",
       "      <td>сотрудник</td>\n",
       "      <td>0</td>\n",
       "      <td>267628.550329</td>\n",
       "      <td>дополнительное образование</td>\n",
       "    </tr>\n",
       "    <tr>\n",
       "      <td>4</td>\n",
       "      <td>0</td>\n",
       "      <td>340266.072047</td>\n",
       "      <td>53</td>\n",
       "      <td>среднее</td>\n",
       "      <td>1</td>\n",
       "      <td>гражданский брак</td>\n",
       "      <td>1</td>\n",
       "      <td>F</td>\n",
       "      <td>пенсионер</td>\n",
       "      <td>0</td>\n",
       "      <td>158616.077870</td>\n",
       "      <td>сыграть свадьбу</td>\n",
       "    </tr>\n",
       "    <tr>\n",
       "      <td>5</td>\n",
       "      <td>0</td>\n",
       "      <td>-926.185831</td>\n",
       "      <td>27</td>\n",
       "      <td>высшее</td>\n",
       "      <td>0</td>\n",
       "      <td>гражданский брак</td>\n",
       "      <td>1</td>\n",
       "      <td>M</td>\n",
       "      <td>компаньон</td>\n",
       "      <td>0</td>\n",
       "      <td>255763.565419</td>\n",
       "      <td>покупка жилья</td>\n",
       "    </tr>\n",
       "    <tr>\n",
       "      <td>6</td>\n",
       "      <td>0</td>\n",
       "      <td>-2879.202052</td>\n",
       "      <td>43</td>\n",
       "      <td>высшее</td>\n",
       "      <td>0</td>\n",
       "      <td>женат / замужем</td>\n",
       "      <td>0</td>\n",
       "      <td>F</td>\n",
       "      <td>компаньон</td>\n",
       "      <td>0</td>\n",
       "      <td>240525.971920</td>\n",
       "      <td>операции с жильем</td>\n",
       "    </tr>\n",
       "    <tr>\n",
       "      <td>7</td>\n",
       "      <td>0</td>\n",
       "      <td>-152.779569</td>\n",
       "      <td>50</td>\n",
       "      <td>СРЕДНЕЕ</td>\n",
       "      <td>1</td>\n",
       "      <td>женат / замужем</td>\n",
       "      <td>0</td>\n",
       "      <td>M</td>\n",
       "      <td>сотрудник</td>\n",
       "      <td>0</td>\n",
       "      <td>135823.934197</td>\n",
       "      <td>образование</td>\n",
       "    </tr>\n",
       "    <tr>\n",
       "      <td>8</td>\n",
       "      <td>2</td>\n",
       "      <td>-6929.865299</td>\n",
       "      <td>35</td>\n",
       "      <td>ВЫСШЕЕ</td>\n",
       "      <td>0</td>\n",
       "      <td>гражданский брак</td>\n",
       "      <td>1</td>\n",
       "      <td>F</td>\n",
       "      <td>сотрудник</td>\n",
       "      <td>0</td>\n",
       "      <td>95856.832424</td>\n",
       "      <td>на проведение свадьбы</td>\n",
       "    </tr>\n",
       "    <tr>\n",
       "      <td>9</td>\n",
       "      <td>0</td>\n",
       "      <td>-2188.756445</td>\n",
       "      <td>41</td>\n",
       "      <td>среднее</td>\n",
       "      <td>1</td>\n",
       "      <td>женат / замужем</td>\n",
       "      <td>0</td>\n",
       "      <td>M</td>\n",
       "      <td>сотрудник</td>\n",
       "      <td>0</td>\n",
       "      <td>144425.938277</td>\n",
       "      <td>покупка жилья для семьи</td>\n",
       "    </tr>\n",
       "  </tbody>\n",
       "</table>\n",
       "</div>"
      ],
      "text/plain": [
       "   children  days_employed  dob_years education  education_id  \\\n",
       "0         1   -8437.673028         42    высшее             0   \n",
       "1         1   -4024.803754         36   среднее             1   \n",
       "2         0   -5623.422610         33   Среднее             1   \n",
       "3         3   -4124.747207         32   среднее             1   \n",
       "4         0  340266.072047         53   среднее             1   \n",
       "5         0    -926.185831         27    высшее             0   \n",
       "6         0   -2879.202052         43    высшее             0   \n",
       "7         0    -152.779569         50   СРЕДНЕЕ             1   \n",
       "8         2   -6929.865299         35    ВЫСШЕЕ             0   \n",
       "9         0   -2188.756445         41   среднее             1   \n",
       "\n",
       "      family_status  family_status_id gender income_type  debt   total_income  \\\n",
       "0   женат / замужем                 0      F   сотрудник     0  253875.639453   \n",
       "1   женат / замужем                 0      F   сотрудник     0  112080.014102   \n",
       "2   женат / замужем                 0      M   сотрудник     0  145885.952297   \n",
       "3   женат / замужем                 0      M   сотрудник     0  267628.550329   \n",
       "4  гражданский брак                 1      F   пенсионер     0  158616.077870   \n",
       "5  гражданский брак                 1      M   компаньон     0  255763.565419   \n",
       "6   женат / замужем                 0      F   компаньон     0  240525.971920   \n",
       "7   женат / замужем                 0      M   сотрудник     0  135823.934197   \n",
       "8  гражданский брак                 1      F   сотрудник     0   95856.832424   \n",
       "9   женат / замужем                 0      M   сотрудник     0  144425.938277   \n",
       "\n",
       "                      purpose  \n",
       "0               покупка жилья  \n",
       "1     приобретение автомобиля  \n",
       "2               покупка жилья  \n",
       "3  дополнительное образование  \n",
       "4             сыграть свадьбу  \n",
       "5               покупка жилья  \n",
       "6           операции с жильем  \n",
       "7                 образование  \n",
       "8       на проведение свадьбы  \n",
       "9     покупка жилья для семьи  "
      ]
     },
     "metadata": {},
     "output_type": "display_data"
    }
   ],
   "source": [
    "display(data.head(10))"
   ]
  },
  {
   "cell_type": "markdown",
   "id": "f584ea68",
   "metadata": {},
   "source": [
    "В колонке `days_employed` имеются отрицательные значения и имеет тип `float64`. \n",
    "Причины указания отрицательных значений нам не известны, однако данный факт может негативно отразится на общем анализе."
   ]
  },
  {
   "cell_type": "markdown",
   "id": "64714dc6",
   "metadata": {},
   "source": [
    "Считаем количество пропусков"
   ]
  },
  {
   "cell_type": "code",
   "execution_count": 166,
   "id": "14c3a679",
   "metadata": {},
   "outputs": [
    {
     "name": "stdout",
     "output_type": "stream",
     "text": [
      "children               0\n",
      "days_employed       2174\n",
      "dob_years              0\n",
      "education              0\n",
      "education_id           0\n",
      "family_status          0\n",
      "family_status_id       0\n",
      "gender                 0\n",
      "income_type            0\n",
      "debt                   0\n",
      "total_income        2174\n",
      "purpose                0\n",
      "dtype: int64\n"
     ]
    }
   ],
   "source": [
    "print(data.isna().sum())"
   ]
  },
  {
   "cell_type": "markdown",
   "id": "6be087c2",
   "metadata": {},
   "source": [
    "В колонках `days_employed` (общий трудовой стаж в днях) и `total_income` (ежемесячный доход) имеются пропуски."
   ]
  },
  {
   "cell_type": "code",
   "execution_count": 167,
   "id": "30764eb1",
   "metadata": {},
   "outputs": [
    {
     "name": "stdout",
     "output_type": "stream",
     "text": [
      "Доля пропущенных значений составила: 10 %\n"
     ]
    }
   ],
   "source": [
    "print('Доля пропущенных значений составила:', int(2174 / 21525 * 100), '%')"
   ]
  },
  {
   "cell_type": "markdown",
   "id": "88a4dccf",
   "metadata": {},
   "source": [
    "Удаление 10% значений негативно отразится на общих результатах анализа, соответственно удалять пропущенные значения нельзя.\n",
    "Необходимо заполнить пропуски "
   ]
  },
  {
   "cell_type": "markdown",
   "id": "ad29eb4e",
   "metadata": {},
   "source": [
    "Столбец `days_employed` (общий трудовой стаж) в данном анализе не используется, в связи с чем проверять его значения и исправлять данные не имеет смысла. Исправить отрицательные значения можно с помощью метода `abs()`, однако пересчитать стаж и найти другие аномалии трудозатратно. Возможно в некоторых строках стаж указан в часах, пример:"
   ]
  },
  {
   "cell_type": "code",
   "execution_count": 168,
   "id": "3535a64a",
   "metadata": {},
   "outputs": [
    {
     "name": "stdout",
     "output_type": "stream",
     "text": [
      "Значение стажа в 5 строке 340266.07204682194 составляет 932 года\n"
     ]
    }
   ],
   "source": [
    "print('Значение стажа в 5 строке', data['days_employed'][4], 'составляет', int(data['days_employed'][4] / 365), 'года')"
   ]
  },
  {
   "cell_type": "markdown",
   "id": "94f71236",
   "metadata": {},
   "source": [
    "В данном случае необходимо обратиться к источнику данных.\n",
    "\n",
    "Возможные причины аномалий:\n",
    "- неккоректное заполнение (опечатка)\n",
    "- взятие данных из нескольких источников с разным форматом записи даты\n",
    "- некорректное написание формулы расчета дней\n",
    "- взятие различных дат при расчете дней\n",
    "- и д.р."
   ]
  },
  {
   "cell_type": "markdown",
   "id": "8b72e205",
   "metadata": {},
   "source": [
    "Заменяем пустые значения в столбце `days_employed` на `unknown`"
   ]
  },
  {
   "cell_type": "code",
   "execution_count": 169,
   "id": "7d7a8bf2",
   "metadata": {},
   "outputs": [],
   "source": [
    "data['days_employed'] = data['days_employed'].fillna('unknown')"
   ]
  },
  {
   "cell_type": "markdown",
   "id": "70763db4",
   "metadata": {},
   "source": [
    "## Предобработка данных"
   ]
  },
  {
   "cell_type": "markdown",
   "id": "d178bc59",
   "metadata": {},
   "source": [
    "### Шаг 2.1 Заполнение пропусков"
   ]
  },
  {
   "cell_type": "markdown",
   "id": "53371b87",
   "metadata": {},
   "source": [
    "Заполняем пропуски в столбце `total_income` значением медианы."
   ]
  },
  {
   "cell_type": "markdown",
   "id": "703b0792",
   "metadata": {},
   "source": [
    "Расчитываем медиану для солбца `total_income`:"
   ]
  },
  {
   "cell_type": "code",
   "execution_count": 170,
   "id": "f7152673",
   "metadata": {},
   "outputs": [
    {
     "name": "stdout",
     "output_type": "stream",
     "text": [
      "Медиана для солбца total_income равна 145017.93753253992\n"
     ]
    }
   ],
   "source": [
    "total_income_avg = data['total_income'].median()\n",
    "print(f'Медиана для солбца total_income равна {total_income_avg}')"
   ]
  },
  {
   "cell_type": "markdown",
   "id": "67b28eff",
   "metadata": {},
   "source": [
    "Заменяем пропуски на значения медианы:"
   ]
  },
  {
   "cell_type": "code",
   "execution_count": 171,
   "id": "e9d1c52a",
   "metadata": {},
   "outputs": [],
   "source": [
    "data['total_income'] = data['total_income'].fillna(total_income_avg)"
   ]
  },
  {
   "cell_type": "markdown",
   "id": "7c292603",
   "metadata": {},
   "source": [
    "Проверяем:"
   ]
  },
  {
   "cell_type": "code",
   "execution_count": 172,
   "id": "29474fc0",
   "metadata": {},
   "outputs": [
    {
     "data": {
      "text/plain": [
       "children            0\n",
       "days_employed       0\n",
       "dob_years           0\n",
       "education           0\n",
       "education_id        0\n",
       "family_status       0\n",
       "family_status_id    0\n",
       "gender              0\n",
       "income_type         0\n",
       "debt                0\n",
       "total_income        0\n",
       "purpose             0\n",
       "dtype: int64"
      ]
     },
     "execution_count": 172,
     "metadata": {},
     "output_type": "execute_result"
    }
   ],
   "source": [
    "data.isna().sum()"
   ]
  },
  {
   "cell_type": "markdown",
   "id": "169e7487",
   "metadata": {},
   "source": [
    "Все пропуски в столбце `total_income` исправлены"
   ]
  },
  {
   "cell_type": "markdown",
   "id": "a8136834",
   "metadata": {},
   "source": [
    "### Шаг 2.2 Проверка данных на аномалии и исправления."
   ]
  },
  {
   "cell_type": "markdown",
   "id": "30210e1a",
   "metadata": {},
   "source": [
    "Проверяем данные в столбце `children`:"
   ]
  },
  {
   "cell_type": "code",
   "execution_count": 173,
   "id": "23b05c42",
   "metadata": {},
   "outputs": [
    {
     "data": {
      "text/plain": [
       " 0     14149\n",
       " 1      4818\n",
       " 2      2055\n",
       " 3       330\n",
       " 20       76\n",
       "-1        47\n",
       " 4        41\n",
       " 5         9\n",
       "Name: children, dtype: int64"
      ]
     },
     "execution_count": 173,
     "metadata": {},
     "output_type": "execute_result"
    }
   ],
   "source": [
    "data['children'].value_counts()"
   ]
  },
  {
   "cell_type": "markdown",
   "id": "114144c5",
   "metadata": {},
   "source": [
    "Отрицаельное значение в данном столбце будем считать как опечатку, поэтому заменим на абсолютное значение:"
   ]
  },
  {
   "cell_type": "code",
   "execution_count": 174,
   "id": "8fbb0942",
   "metadata": {},
   "outputs": [],
   "source": [
    "data['children'] = data['children'].replace(-1, 1)"
   ]
  },
  {
   "cell_type": "markdown",
   "id": "bd0a377a",
   "metadata": {},
   "source": [
    "В датасете имеются сведения о 76 семьях с 20 детьми. Можно предположить, что это опечатка и детей все же 2. Заменим значения."
   ]
  },
  {
   "cell_type": "code",
   "execution_count": 175,
   "id": "e302a5be",
   "metadata": {},
   "outputs": [],
   "source": [
    "data['children'] = data['children'].replace(20, 2)"
   ]
  },
  {
   "cell_type": "markdown",
   "id": "251bad20",
   "metadata": {},
   "source": [
    "Проверяем:"
   ]
  },
  {
   "cell_type": "code",
   "execution_count": 176,
   "id": "7a4540c9",
   "metadata": {
    "scrolled": true
   },
   "outputs": [
    {
     "data": {
      "text/plain": [
       "0    14149\n",
       "1     4865\n",
       "2     2131\n",
       "3      330\n",
       "4       41\n",
       "5        9\n",
       "Name: children, dtype: int64"
      ]
     },
     "execution_count": 176,
     "metadata": {},
     "output_type": "execute_result"
    }
   ],
   "source": [
    "data['children'].value_counts()"
   ]
  },
  {
   "cell_type": "markdown",
   "id": "40d34b09",
   "metadata": {},
   "source": [
    "Проверяем данные в столбце `total_income` на наличие отрицательных и нулевых значений:"
   ]
  },
  {
   "cell_type": "code",
   "execution_count": 177,
   "id": "ed4a8f5d",
   "metadata": {},
   "outputs": [
    {
     "name": "stdout",
     "output_type": "stream",
     "text": [
      "Количество отрицательных и нулевых значений: 0\n"
     ]
    }
   ],
   "source": [
    "print('Количество отрицательных и нулевых значений:', data[data['total_income'] <= 0]['total_income'].count())"
   ]
  },
  {
   "cell_type": "markdown",
   "id": "6e7e6e0f",
   "metadata": {},
   "source": [
    "### Шаг 2.3. Изменение типов данных."
   ]
  },
  {
   "cell_type": "markdown",
   "id": "75fd38ee",
   "metadata": {},
   "source": [
    "Заменим вещественный тип данных в столбце total_income на целочисленный с помощью функции `astype('int')`, так как при проверке гипотез количественные данные столбца будут использованы в качестве категориальных.\n",
    "В данном случае возможно использовать конструкцию `try-except` на случай наличия ошибок заполнения. Мы заранее проверили тип данных, но данный код будет универсальным.  "
   ]
  },
  {
   "cell_type": "code",
   "execution_count": 178,
   "id": "f94da499",
   "metadata": {},
   "outputs": [],
   "source": [
    "try:\n",
    "    data['total_income'] = data['total_income'].astype('int')\n",
    "except:\n",
    "    print('Ошибка в типе данных')"
   ]
  },
  {
   "cell_type": "markdown",
   "id": "2cf198a0",
   "metadata": {},
   "source": [
    "Проверяем:"
   ]
  },
  {
   "cell_type": "code",
   "execution_count": 179,
   "id": "12eb0cf5",
   "metadata": {},
   "outputs": [
    {
     "data": {
      "text/html": [
       "<div>\n",
       "<style scoped>\n",
       "    .dataframe tbody tr th:only-of-type {\n",
       "        vertical-align: middle;\n",
       "    }\n",
       "\n",
       "    .dataframe tbody tr th {\n",
       "        vertical-align: top;\n",
       "    }\n",
       "\n",
       "    .dataframe thead th {\n",
       "        text-align: right;\n",
       "    }\n",
       "</style>\n",
       "<table border=\"1\" class=\"dataframe\">\n",
       "  <thead>\n",
       "    <tr style=\"text-align: right;\">\n",
       "      <th></th>\n",
       "      <th>children</th>\n",
       "      <th>days_employed</th>\n",
       "      <th>dob_years</th>\n",
       "      <th>education</th>\n",
       "      <th>education_id</th>\n",
       "      <th>family_status</th>\n",
       "      <th>family_status_id</th>\n",
       "      <th>gender</th>\n",
       "      <th>income_type</th>\n",
       "      <th>debt</th>\n",
       "      <th>total_income</th>\n",
       "      <th>purpose</th>\n",
       "    </tr>\n",
       "  </thead>\n",
       "  <tbody>\n",
       "    <tr>\n",
       "      <td>0</td>\n",
       "      <td>1</td>\n",
       "      <td>-8437.67</td>\n",
       "      <td>42</td>\n",
       "      <td>высшее</td>\n",
       "      <td>0</td>\n",
       "      <td>женат / замужем</td>\n",
       "      <td>0</td>\n",
       "      <td>F</td>\n",
       "      <td>сотрудник</td>\n",
       "      <td>0</td>\n",
       "      <td>253875</td>\n",
       "      <td>покупка жилья</td>\n",
       "    </tr>\n",
       "    <tr>\n",
       "      <td>1</td>\n",
       "      <td>1</td>\n",
       "      <td>-4024.8</td>\n",
       "      <td>36</td>\n",
       "      <td>среднее</td>\n",
       "      <td>1</td>\n",
       "      <td>женат / замужем</td>\n",
       "      <td>0</td>\n",
       "      <td>F</td>\n",
       "      <td>сотрудник</td>\n",
       "      <td>0</td>\n",
       "      <td>112080</td>\n",
       "      <td>приобретение автомобиля</td>\n",
       "    </tr>\n",
       "    <tr>\n",
       "      <td>2</td>\n",
       "      <td>0</td>\n",
       "      <td>-5623.42</td>\n",
       "      <td>33</td>\n",
       "      <td>Среднее</td>\n",
       "      <td>1</td>\n",
       "      <td>женат / замужем</td>\n",
       "      <td>0</td>\n",
       "      <td>M</td>\n",
       "      <td>сотрудник</td>\n",
       "      <td>0</td>\n",
       "      <td>145885</td>\n",
       "      <td>покупка жилья</td>\n",
       "    </tr>\n",
       "    <tr>\n",
       "      <td>3</td>\n",
       "      <td>3</td>\n",
       "      <td>-4124.75</td>\n",
       "      <td>32</td>\n",
       "      <td>среднее</td>\n",
       "      <td>1</td>\n",
       "      <td>женат / замужем</td>\n",
       "      <td>0</td>\n",
       "      <td>M</td>\n",
       "      <td>сотрудник</td>\n",
       "      <td>0</td>\n",
       "      <td>267628</td>\n",
       "      <td>дополнительное образование</td>\n",
       "    </tr>\n",
       "    <tr>\n",
       "      <td>4</td>\n",
       "      <td>0</td>\n",
       "      <td>340266</td>\n",
       "      <td>53</td>\n",
       "      <td>среднее</td>\n",
       "      <td>1</td>\n",
       "      <td>гражданский брак</td>\n",
       "      <td>1</td>\n",
       "      <td>F</td>\n",
       "      <td>пенсионер</td>\n",
       "      <td>0</td>\n",
       "      <td>158616</td>\n",
       "      <td>сыграть свадьбу</td>\n",
       "    </tr>\n",
       "  </tbody>\n",
       "</table>\n",
       "</div>"
      ],
      "text/plain": [
       "   children days_employed  dob_years education  education_id  \\\n",
       "0         1      -8437.67         42    высшее             0   \n",
       "1         1       -4024.8         36   среднее             1   \n",
       "2         0      -5623.42         33   Среднее             1   \n",
       "3         3      -4124.75         32   среднее             1   \n",
       "4         0        340266         53   среднее             1   \n",
       "\n",
       "      family_status  family_status_id gender income_type  debt  total_income  \\\n",
       "0   женат / замужем                 0      F   сотрудник     0        253875   \n",
       "1   женат / замужем                 0      F   сотрудник     0        112080   \n",
       "2   женат / замужем                 0      M   сотрудник     0        145885   \n",
       "3   женат / замужем                 0      M   сотрудник     0        267628   \n",
       "4  гражданский брак                 1      F   пенсионер     0        158616   \n",
       "\n",
       "                      purpose  \n",
       "0               покупка жилья  \n",
       "1     приобретение автомобиля  \n",
       "2               покупка жилья  \n",
       "3  дополнительное образование  \n",
       "4             сыграть свадьбу  "
      ]
     },
     "metadata": {},
     "output_type": "display_data"
    }
   ],
   "source": [
    "display(data.head(5))"
   ]
  },
  {
   "cell_type": "markdown",
   "id": "5c54bf1e",
   "metadata": {},
   "source": [
    "### Шаг 2.4. Удаление дубликатов."
   ]
  },
  {
   "cell_type": "markdown",
   "id": "f1fa8efc",
   "metadata": {},
   "source": [
    "Удаляем явные дубликаты с обновлением индексов:"
   ]
  },
  {
   "cell_type": "code",
   "execution_count": 180,
   "id": "94251f9f",
   "metadata": {
    "scrolled": true
   },
   "outputs": [
    {
     "name": "stdout",
     "output_type": "stream",
     "text": [
      "Количество дубликатов до удаления: 54\n",
      "Количество дубликатов после удаления: 0\n"
     ]
    }
   ],
   "source": [
    "print('Количество дубликатов до удаления:', data.duplicated().sum())\n",
    "data = data.drop_duplicates().reset_index(drop=True)\n",
    "print('Количество дубликатов после удаления:', data.duplicated().sum())"
   ]
  },
  {
   "cell_type": "markdown",
   "id": "dead4141",
   "metadata": {},
   "source": [
    "Проверяем значения столбца `family_status`:"
   ]
  },
  {
   "cell_type": "code",
   "execution_count": 181,
   "id": "f594a28a",
   "metadata": {},
   "outputs": [
    {
     "data": {
      "text/plain": [
       "array(['женат / замужем', 'гражданский брак', 'вдовец / вдова',\n",
       "       'в разводе', 'Не женат / не замужем'], dtype=object)"
      ]
     },
     "execution_count": 181,
     "metadata": {},
     "output_type": "execute_result"
    }
   ],
   "source": [
    "data['family_status'].unique()"
   ]
  },
  {
   "cell_type": "markdown",
   "id": "e3f8fcf1",
   "metadata": {},
   "source": [
    "Аномалии отсутствуют."
   ]
  },
  {
   "cell_type": "markdown",
   "id": "064ce347",
   "metadata": {},
   "source": [
    "Проверяем значения столбца `education`:"
   ]
  },
  {
   "cell_type": "code",
   "execution_count": 182,
   "id": "71674de9",
   "metadata": {},
   "outputs": [
    {
     "data": {
      "text/plain": [
       "array(['высшее', 'среднее', 'Среднее', 'СРЕДНЕЕ', 'ВЫСШЕЕ',\n",
       "       'неоконченное высшее', 'начальное', 'Высшее',\n",
       "       'НЕОКОНЧЕННОЕ ВЫСШЕЕ', 'Неоконченное высшее', 'НАЧАЛЬНОЕ',\n",
       "       'Начальное', 'Ученая степень', 'УЧЕНАЯ СТЕПЕНЬ', 'ученая степень'],\n",
       "      dtype=object)"
      ]
     },
     "execution_count": 182,
     "metadata": {},
     "output_type": "execute_result"
    }
   ],
   "source": [
    "data['education'].unique()"
   ]
  },
  {
   "cell_type": "markdown",
   "id": "5d660087",
   "metadata": {},
   "source": [
    "Некоторые значения в столбце написаны строчными буквами. Меняем на прописные и проверяем:"
   ]
  },
  {
   "cell_type": "code",
   "execution_count": 183,
   "id": "d0a5e23c",
   "metadata": {},
   "outputs": [
    {
     "data": {
      "text/plain": [
       "array(['высшее', 'среднее', 'неоконченное высшее', 'начальное',\n",
       "       'ученая степень'], dtype=object)"
      ]
     },
     "execution_count": 183,
     "metadata": {},
     "output_type": "execute_result"
    }
   ],
   "source": [
    "data['education'] = data['education'].str.lower()\n",
    "data['education'].unique()"
   ]
  },
  {
   "cell_type": "markdown",
   "id": "6298a3ae",
   "metadata": {},
   "source": [
    "Повторно проверяем дубликаты:"
   ]
  },
  {
   "cell_type": "code",
   "execution_count": 184,
   "id": "e4e5b0ca",
   "metadata": {
    "scrolled": true
   },
   "outputs": [
    {
     "name": "stdout",
     "output_type": "stream",
     "text": [
      "Количество дубликатов до удаления: 17\n",
      "Количество дубликатов после удаления: 0\n"
     ]
    }
   ],
   "source": [
    "print('Количество дубликатов до удаления:', data.duplicated().sum())\n",
    "data = data.drop_duplicates().reset_index(drop=True)\n",
    "print('Количество дубликатов после удаления:', data.duplicated().sum())"
   ]
  },
  {
   "cell_type": "markdown",
   "id": "e47f781f",
   "metadata": {},
   "source": [
    "### Шаг 2.5. Формирование дополнительных датафреймов словарей, декомпозиция исходного датафрейма."
   ]
  },
  {
   "cell_type": "markdown",
   "id": "5e64198f",
   "metadata": {},
   "source": [
    "В датафрейме имются столбцы, которые фактически дублируют данные и загружают объем обрабатываемых данных\n",
    "* `education` и `education_id`\n",
    "* `family_status`  и `family_status_id`\n",
    "* `purpose` и `purpose_group`\n",
    "\n",
    "Данные столбцы можно выделить в отдельные словари и отавить в датафрейме только идентифаторы."
   ]
  },
  {
   "cell_type": "markdown",
   "id": "b5f2e958",
   "metadata": {},
   "source": [
    "Создаем датафрейм-словарь `education_info` и удаляем дубликаты:"
   ]
  },
  {
   "cell_type": "code",
   "execution_count": 185,
   "id": "19174bc3",
   "metadata": {},
   "outputs": [
    {
     "name": "stdout",
     "output_type": "stream",
     "text": [
      "Количество дубликатов после удаления: 0\n"
     ]
    }
   ],
   "source": [
    "education_info = data[['education_id', 'education']]\n",
    "education_info = education_info.drop_duplicates().reset_index(drop=True)\n",
    "print('Количество дубликатов после удаления:', education_info.duplicated().sum())"
   ]
  },
  {
   "cell_type": "code",
   "execution_count": 186,
   "id": "b4f571c5",
   "metadata": {},
   "outputs": [
    {
     "data": {
      "text/html": [
       "<div>\n",
       "<style scoped>\n",
       "    .dataframe tbody tr th:only-of-type {\n",
       "        vertical-align: middle;\n",
       "    }\n",
       "\n",
       "    .dataframe tbody tr th {\n",
       "        vertical-align: top;\n",
       "    }\n",
       "\n",
       "    .dataframe thead th {\n",
       "        text-align: right;\n",
       "    }\n",
       "</style>\n",
       "<table border=\"1\" class=\"dataframe\">\n",
       "  <thead>\n",
       "    <tr style=\"text-align: right;\">\n",
       "      <th></th>\n",
       "      <th>education_id</th>\n",
       "      <th>education</th>\n",
       "    </tr>\n",
       "  </thead>\n",
       "  <tbody>\n",
       "    <tr>\n",
       "      <td>0</td>\n",
       "      <td>0</td>\n",
       "      <td>высшее</td>\n",
       "    </tr>\n",
       "    <tr>\n",
       "      <td>1</td>\n",
       "      <td>1</td>\n",
       "      <td>среднее</td>\n",
       "    </tr>\n",
       "    <tr>\n",
       "      <td>2</td>\n",
       "      <td>2</td>\n",
       "      <td>неоконченное высшее</td>\n",
       "    </tr>\n",
       "    <tr>\n",
       "      <td>3</td>\n",
       "      <td>3</td>\n",
       "      <td>начальное</td>\n",
       "    </tr>\n",
       "    <tr>\n",
       "      <td>4</td>\n",
       "      <td>4</td>\n",
       "      <td>ученая степень</td>\n",
       "    </tr>\n",
       "  </tbody>\n",
       "</table>\n",
       "</div>"
      ],
      "text/plain": [
       "   education_id            education\n",
       "0             0               высшее\n",
       "1             1              среднее\n",
       "2             2  неоконченное высшее\n",
       "3             3            начальное\n",
       "4             4       ученая степень"
      ]
     },
     "metadata": {},
     "output_type": "display_data"
    }
   ],
   "source": [
    "display(education_info)"
   ]
  },
  {
   "cell_type": "markdown",
   "id": "1ff7c239",
   "metadata": {},
   "source": [
    "Создаем датафрейм-словарь `family_status_info` и удаляем дубликаты:"
   ]
  },
  {
   "cell_type": "code",
   "execution_count": 187,
   "id": "f31eeb62",
   "metadata": {},
   "outputs": [
    {
     "name": "stdout",
     "output_type": "stream",
     "text": [
      "Количество дубликатов после удаления: 0\n"
     ]
    }
   ],
   "source": [
    "family_status_info = data[['family_status_id', 'family_status']]\n",
    "family_status_info = family_status_info.drop_duplicates().reset_index(drop=True)\n",
    "print('Количество дубликатов после удаления:', family_status_info.duplicated().sum())"
   ]
  },
  {
   "cell_type": "code",
   "execution_count": 188,
   "id": "4a05672a",
   "metadata": {},
   "outputs": [
    {
     "data": {
      "text/html": [
       "<div>\n",
       "<style scoped>\n",
       "    .dataframe tbody tr th:only-of-type {\n",
       "        vertical-align: middle;\n",
       "    }\n",
       "\n",
       "    .dataframe tbody tr th {\n",
       "        vertical-align: top;\n",
       "    }\n",
       "\n",
       "    .dataframe thead th {\n",
       "        text-align: right;\n",
       "    }\n",
       "</style>\n",
       "<table border=\"1\" class=\"dataframe\">\n",
       "  <thead>\n",
       "    <tr style=\"text-align: right;\">\n",
       "      <th></th>\n",
       "      <th>family_status_id</th>\n",
       "      <th>family_status</th>\n",
       "    </tr>\n",
       "  </thead>\n",
       "  <tbody>\n",
       "    <tr>\n",
       "      <td>0</td>\n",
       "      <td>0</td>\n",
       "      <td>женат / замужем</td>\n",
       "    </tr>\n",
       "    <tr>\n",
       "      <td>1</td>\n",
       "      <td>1</td>\n",
       "      <td>гражданский брак</td>\n",
       "    </tr>\n",
       "    <tr>\n",
       "      <td>2</td>\n",
       "      <td>2</td>\n",
       "      <td>вдовец / вдова</td>\n",
       "    </tr>\n",
       "    <tr>\n",
       "      <td>3</td>\n",
       "      <td>3</td>\n",
       "      <td>в разводе</td>\n",
       "    </tr>\n",
       "    <tr>\n",
       "      <td>4</td>\n",
       "      <td>4</td>\n",
       "      <td>Не женат / не замужем</td>\n",
       "    </tr>\n",
       "  </tbody>\n",
       "</table>\n",
       "</div>"
      ],
      "text/plain": [
       "   family_status_id          family_status\n",
       "0                 0        женат / замужем\n",
       "1                 1       гражданский брак\n",
       "2                 2         вдовец / вдова\n",
       "3                 3              в разводе\n",
       "4                 4  Не женат / не замужем"
      ]
     },
     "metadata": {},
     "output_type": "display_data"
    }
   ],
   "source": [
    "display(family_status_info)"
   ]
  },
  {
   "cell_type": "markdown",
   "id": "a3d1c174",
   "metadata": {},
   "source": [
    "Удаляем из датафрейма столбцы `education` и `family_status`. Необходимые сведения из `purpose` мы уже отсортировали в отдельный столбец, необходимость в нем отсутствует."
   ]
  },
  {
   "cell_type": "code",
   "execution_count": 189,
   "id": "2515fb14",
   "metadata": {},
   "outputs": [],
   "source": [
    "data = data.drop(['education', 'family_status'], axis=1)"
   ]
  },
  {
   "cell_type": "code",
   "execution_count": 190,
   "id": "62f19067",
   "metadata": {
    "scrolled": true
   },
   "outputs": [
    {
     "data": {
      "text/html": [
       "<div>\n",
       "<style scoped>\n",
       "    .dataframe tbody tr th:only-of-type {\n",
       "        vertical-align: middle;\n",
       "    }\n",
       "\n",
       "    .dataframe tbody tr th {\n",
       "        vertical-align: top;\n",
       "    }\n",
       "\n",
       "    .dataframe thead th {\n",
       "        text-align: right;\n",
       "    }\n",
       "</style>\n",
       "<table border=\"1\" class=\"dataframe\">\n",
       "  <thead>\n",
       "    <tr style=\"text-align: right;\">\n",
       "      <th></th>\n",
       "      <th>children</th>\n",
       "      <th>days_employed</th>\n",
       "      <th>dob_years</th>\n",
       "      <th>education_id</th>\n",
       "      <th>family_status_id</th>\n",
       "      <th>gender</th>\n",
       "      <th>income_type</th>\n",
       "      <th>debt</th>\n",
       "      <th>total_income</th>\n",
       "      <th>purpose</th>\n",
       "    </tr>\n",
       "  </thead>\n",
       "  <tbody>\n",
       "    <tr>\n",
       "      <td>0</td>\n",
       "      <td>1</td>\n",
       "      <td>-8437.67</td>\n",
       "      <td>42</td>\n",
       "      <td>0</td>\n",
       "      <td>0</td>\n",
       "      <td>F</td>\n",
       "      <td>сотрудник</td>\n",
       "      <td>0</td>\n",
       "      <td>253875</td>\n",
       "      <td>покупка жилья</td>\n",
       "    </tr>\n",
       "    <tr>\n",
       "      <td>1</td>\n",
       "      <td>1</td>\n",
       "      <td>-4024.8</td>\n",
       "      <td>36</td>\n",
       "      <td>1</td>\n",
       "      <td>0</td>\n",
       "      <td>F</td>\n",
       "      <td>сотрудник</td>\n",
       "      <td>0</td>\n",
       "      <td>112080</td>\n",
       "      <td>приобретение автомобиля</td>\n",
       "    </tr>\n",
       "    <tr>\n",
       "      <td>2</td>\n",
       "      <td>0</td>\n",
       "      <td>-5623.42</td>\n",
       "      <td>33</td>\n",
       "      <td>1</td>\n",
       "      <td>0</td>\n",
       "      <td>M</td>\n",
       "      <td>сотрудник</td>\n",
       "      <td>0</td>\n",
       "      <td>145885</td>\n",
       "      <td>покупка жилья</td>\n",
       "    </tr>\n",
       "    <tr>\n",
       "      <td>3</td>\n",
       "      <td>3</td>\n",
       "      <td>-4124.75</td>\n",
       "      <td>32</td>\n",
       "      <td>1</td>\n",
       "      <td>0</td>\n",
       "      <td>M</td>\n",
       "      <td>сотрудник</td>\n",
       "      <td>0</td>\n",
       "      <td>267628</td>\n",
       "      <td>дополнительное образование</td>\n",
       "    </tr>\n",
       "    <tr>\n",
       "      <td>4</td>\n",
       "      <td>0</td>\n",
       "      <td>340266</td>\n",
       "      <td>53</td>\n",
       "      <td>1</td>\n",
       "      <td>1</td>\n",
       "      <td>F</td>\n",
       "      <td>пенсионер</td>\n",
       "      <td>0</td>\n",
       "      <td>158616</td>\n",
       "      <td>сыграть свадьбу</td>\n",
       "    </tr>\n",
       "  </tbody>\n",
       "</table>\n",
       "</div>"
      ],
      "text/plain": [
       "   children days_employed  dob_years  education_id  family_status_id gender  \\\n",
       "0         1      -8437.67         42             0                 0      F   \n",
       "1         1       -4024.8         36             1                 0      F   \n",
       "2         0      -5623.42         33             1                 0      M   \n",
       "3         3      -4124.75         32             1                 0      M   \n",
       "4         0        340266         53             1                 1      F   \n",
       "\n",
       "  income_type  debt  total_income                     purpose  \n",
       "0   сотрудник     0        253875               покупка жилья  \n",
       "1   сотрудник     0        112080     приобретение автомобиля  \n",
       "2   сотрудник     0        145885               покупка жилья  \n",
       "3   сотрудник     0        267628  дополнительное образование  \n",
       "4   пенсионер     0        158616             сыграть свадьбу  "
      ]
     },
     "metadata": {},
     "output_type": "display_data"
    }
   ],
   "source": [
    "display(data.head(5))"
   ]
  },
  {
   "cell_type": "markdown",
   "id": "1fc1b79b",
   "metadata": {},
   "source": [
    "### Шаг 2.6. Категоризация дохода."
   ]
  },
  {
   "cell_type": "markdown",
   "id": "c75cc714",
   "metadata": {},
   "source": [
    "На основании диапазонов, указанных в столбце `total_income` присваеваем категорию доходов:\n",
    "* 0–30000 — 'E';\n",
    "* 30001–50000 — 'D';\n",
    "* 50001–200000 — 'C';\n",
    "* 200001–1000000 — 'B';\n",
    "* 1000001 и выше — 'A'.\n"
   ]
  },
  {
   "cell_type": "markdown",
   "id": "81129030",
   "metadata": {},
   "source": [
    "Создаем функцию для присвоения категории:"
   ]
  },
  {
   "cell_type": "code",
   "execution_count": 191,
   "id": "5b06ba78",
   "metadata": {},
   "outputs": [],
   "source": [
    "def total_income_group (total):\n",
    "    \"\"\"возвращает категорию дохода в зависимости от суммы\"\"\"\n",
    "    if total <= 30000:\n",
    "        return 'E'\n",
    "    elif total <= 50000:\n",
    "        return 'D'\n",
    "    elif total <= 200000:\n",
    "        return 'C'\n",
    "    elif total <= 1000000:\n",
    "        return 'B'\n",
    "    else:\n",
    "        return 'A'"
   ]
  },
  {
   "cell_type": "markdown",
   "id": "334b5883",
   "metadata": {},
   "source": [
    "Создаем столбец `total_income_category` с указанием категории дохода:"
   ]
  },
  {
   "cell_type": "code",
   "execution_count": 192,
   "id": "af75fd9e",
   "metadata": {},
   "outputs": [],
   "source": [
    "data['total_income_category'] = data['total_income'].apply(total_income_group)"
   ]
  },
  {
   "cell_type": "markdown",
   "id": "7acf5359",
   "metadata": {},
   "source": [
    "### Шаг 2.7. Категоризация целей кредита."
   ]
  },
  {
   "cell_type": "markdown",
   "id": "8bf3f661",
   "metadata": {},
   "source": [
    "В нашей работе есть гепотезы влияния цели кредита на сроки его возврата. В связи с чем необходимо провести категоризацию данных их столбца `purpose`."
   ]
  },
  {
   "cell_type": "markdown",
   "id": "8eabdad8",
   "metadata": {},
   "source": [
    "Проверяем значения столбца `purpose`:"
   ]
  },
  {
   "cell_type": "code",
   "execution_count": 193,
   "id": "868a8b36",
   "metadata": {},
   "outputs": [
    {
     "data": {
      "text/plain": [
       "array(['покупка жилья', 'приобретение автомобиля',\n",
       "       'дополнительное образование', 'сыграть свадьбу',\n",
       "       'операции с жильем', 'образование', 'на проведение свадьбы',\n",
       "       'покупка жилья для семьи', 'покупка недвижимости',\n",
       "       'покупка коммерческой недвижимости', 'покупка жилой недвижимости',\n",
       "       'строительство собственной недвижимости', 'недвижимость',\n",
       "       'строительство недвижимости', 'на покупку подержанного автомобиля',\n",
       "       'на покупку своего автомобиля',\n",
       "       'операции с коммерческой недвижимостью',\n",
       "       'строительство жилой недвижимости', 'жилье',\n",
       "       'операции со своей недвижимостью', 'автомобили',\n",
       "       'заняться образованием', 'сделка с подержанным автомобилем',\n",
       "       'получение образования', 'автомобиль', 'свадьба',\n",
       "       'получение дополнительного образования', 'покупка своего жилья',\n",
       "       'операции с недвижимостью', 'получение высшего образования',\n",
       "       'свой автомобиль', 'сделка с автомобилем',\n",
       "       'профильное образование', 'высшее образование',\n",
       "       'покупка жилья для сдачи', 'на покупку автомобиля', 'ремонт жилью',\n",
       "       'заняться высшим образованием'], dtype=object)"
      ]
     },
     "execution_count": 193,
     "metadata": {},
     "output_type": "execute_result"
    }
   ],
   "source": [
    "data['purpose'].unique()"
   ]
  },
  {
   "cell_type": "markdown",
   "id": "3bf93ae3",
   "metadata": {},
   "source": [
    "Создаем функцию для разделения вариантов на группы `недвижимость`, `автомобиль`, `свадьба`, `образование` с помощью фильтра на совпадение части слова."
   ]
  },
  {
   "cell_type": "code",
   "execution_count": 194,
   "id": "1f5b1d84",
   "metadata": {},
   "outputs": [],
   "source": [
    "def purpose_group (purpose):\n",
    "    \"\"\"возвращает группу цели кридита\"\"\"\n",
    "    if 'жиль' in purpose:\n",
    "        return 'операции с недвижимостью'\n",
    "    elif 'недвижим' in purpose:\n",
    "        return 'операции с недвижимостью'\n",
    "    elif 'автом' in purpose:\n",
    "        return 'операции с автомобилем'\n",
    "    elif 'свадьб' in purpose:\n",
    "        return 'проведение свадьбы'\n",
    "    elif 'образов' in purpose:\n",
    "        return 'получение образования'"
   ]
  },
  {
   "cell_type": "markdown",
   "id": "3222ce7d",
   "metadata": {},
   "source": [
    "Создаем столбец с новой классификацией цели кридита."
   ]
  },
  {
   "cell_type": "code",
   "execution_count": 195,
   "id": "d258650d",
   "metadata": {},
   "outputs": [],
   "source": [
    "data['purpose_group'] = data['purpose'].apply(purpose_group)"
   ]
  },
  {
   "cell_type": "markdown",
   "id": "dafb0240",
   "metadata": {},
   "source": [
    "Проверяем:"
   ]
  },
  {
   "cell_type": "code",
   "execution_count": 196,
   "id": "4a765c43",
   "metadata": {
    "scrolled": false
   },
   "outputs": [
    {
     "data": {
      "text/html": [
       "<div>\n",
       "<style scoped>\n",
       "    .dataframe tbody tr th:only-of-type {\n",
       "        vertical-align: middle;\n",
       "    }\n",
       "\n",
       "    .dataframe tbody tr th {\n",
       "        vertical-align: top;\n",
       "    }\n",
       "\n",
       "    .dataframe thead th {\n",
       "        text-align: right;\n",
       "    }\n",
       "</style>\n",
       "<table border=\"1\" class=\"dataframe\">\n",
       "  <thead>\n",
       "    <tr style=\"text-align: right;\">\n",
       "      <th></th>\n",
       "      <th>children</th>\n",
       "      <th>days_employed</th>\n",
       "      <th>dob_years</th>\n",
       "      <th>education_id</th>\n",
       "      <th>family_status_id</th>\n",
       "      <th>gender</th>\n",
       "      <th>income_type</th>\n",
       "      <th>debt</th>\n",
       "      <th>total_income</th>\n",
       "      <th>purpose</th>\n",
       "      <th>total_income_category</th>\n",
       "      <th>purpose_group</th>\n",
       "    </tr>\n",
       "  </thead>\n",
       "  <tbody>\n",
       "    <tr>\n",
       "      <td>0</td>\n",
       "      <td>1</td>\n",
       "      <td>-8437.67</td>\n",
       "      <td>42</td>\n",
       "      <td>0</td>\n",
       "      <td>0</td>\n",
       "      <td>F</td>\n",
       "      <td>сотрудник</td>\n",
       "      <td>0</td>\n",
       "      <td>253875</td>\n",
       "      <td>покупка жилья</td>\n",
       "      <td>B</td>\n",
       "      <td>операции с недвижимостью</td>\n",
       "    </tr>\n",
       "    <tr>\n",
       "      <td>1</td>\n",
       "      <td>1</td>\n",
       "      <td>-4024.8</td>\n",
       "      <td>36</td>\n",
       "      <td>1</td>\n",
       "      <td>0</td>\n",
       "      <td>F</td>\n",
       "      <td>сотрудник</td>\n",
       "      <td>0</td>\n",
       "      <td>112080</td>\n",
       "      <td>приобретение автомобиля</td>\n",
       "      <td>C</td>\n",
       "      <td>операции с автомобилем</td>\n",
       "    </tr>\n",
       "    <tr>\n",
       "      <td>2</td>\n",
       "      <td>0</td>\n",
       "      <td>-5623.42</td>\n",
       "      <td>33</td>\n",
       "      <td>1</td>\n",
       "      <td>0</td>\n",
       "      <td>M</td>\n",
       "      <td>сотрудник</td>\n",
       "      <td>0</td>\n",
       "      <td>145885</td>\n",
       "      <td>покупка жилья</td>\n",
       "      <td>C</td>\n",
       "      <td>операции с недвижимостью</td>\n",
       "    </tr>\n",
       "    <tr>\n",
       "      <td>3</td>\n",
       "      <td>3</td>\n",
       "      <td>-4124.75</td>\n",
       "      <td>32</td>\n",
       "      <td>1</td>\n",
       "      <td>0</td>\n",
       "      <td>M</td>\n",
       "      <td>сотрудник</td>\n",
       "      <td>0</td>\n",
       "      <td>267628</td>\n",
       "      <td>дополнительное образование</td>\n",
       "      <td>B</td>\n",
       "      <td>получение образования</td>\n",
       "    </tr>\n",
       "    <tr>\n",
       "      <td>4</td>\n",
       "      <td>0</td>\n",
       "      <td>340266</td>\n",
       "      <td>53</td>\n",
       "      <td>1</td>\n",
       "      <td>1</td>\n",
       "      <td>F</td>\n",
       "      <td>пенсионер</td>\n",
       "      <td>0</td>\n",
       "      <td>158616</td>\n",
       "      <td>сыграть свадьбу</td>\n",
       "      <td>C</td>\n",
       "      <td>проведение свадьбы</td>\n",
       "    </tr>\n",
       "    <tr>\n",
       "      <td>5</td>\n",
       "      <td>0</td>\n",
       "      <td>-926.186</td>\n",
       "      <td>27</td>\n",
       "      <td>0</td>\n",
       "      <td>1</td>\n",
       "      <td>M</td>\n",
       "      <td>компаньон</td>\n",
       "      <td>0</td>\n",
       "      <td>255763</td>\n",
       "      <td>покупка жилья</td>\n",
       "      <td>B</td>\n",
       "      <td>операции с недвижимостью</td>\n",
       "    </tr>\n",
       "    <tr>\n",
       "      <td>6</td>\n",
       "      <td>0</td>\n",
       "      <td>-2879.2</td>\n",
       "      <td>43</td>\n",
       "      <td>0</td>\n",
       "      <td>0</td>\n",
       "      <td>F</td>\n",
       "      <td>компаньон</td>\n",
       "      <td>0</td>\n",
       "      <td>240525</td>\n",
       "      <td>операции с жильем</td>\n",
       "      <td>B</td>\n",
       "      <td>операции с недвижимостью</td>\n",
       "    </tr>\n",
       "    <tr>\n",
       "      <td>7</td>\n",
       "      <td>0</td>\n",
       "      <td>-152.78</td>\n",
       "      <td>50</td>\n",
       "      <td>1</td>\n",
       "      <td>0</td>\n",
       "      <td>M</td>\n",
       "      <td>сотрудник</td>\n",
       "      <td>0</td>\n",
       "      <td>135823</td>\n",
       "      <td>образование</td>\n",
       "      <td>C</td>\n",
       "      <td>получение образования</td>\n",
       "    </tr>\n",
       "    <tr>\n",
       "      <td>8</td>\n",
       "      <td>2</td>\n",
       "      <td>-6929.87</td>\n",
       "      <td>35</td>\n",
       "      <td>0</td>\n",
       "      <td>1</td>\n",
       "      <td>F</td>\n",
       "      <td>сотрудник</td>\n",
       "      <td>0</td>\n",
       "      <td>95856</td>\n",
       "      <td>на проведение свадьбы</td>\n",
       "      <td>C</td>\n",
       "      <td>проведение свадьбы</td>\n",
       "    </tr>\n",
       "    <tr>\n",
       "      <td>9</td>\n",
       "      <td>0</td>\n",
       "      <td>-2188.76</td>\n",
       "      <td>41</td>\n",
       "      <td>1</td>\n",
       "      <td>0</td>\n",
       "      <td>M</td>\n",
       "      <td>сотрудник</td>\n",
       "      <td>0</td>\n",
       "      <td>144425</td>\n",
       "      <td>покупка жилья для семьи</td>\n",
       "      <td>C</td>\n",
       "      <td>операции с недвижимостью</td>\n",
       "    </tr>\n",
       "  </tbody>\n",
       "</table>\n",
       "</div>"
      ],
      "text/plain": [
       "   children days_employed  dob_years  education_id  family_status_id gender  \\\n",
       "0         1      -8437.67         42             0                 0      F   \n",
       "1         1       -4024.8         36             1                 0      F   \n",
       "2         0      -5623.42         33             1                 0      M   \n",
       "3         3      -4124.75         32             1                 0      M   \n",
       "4         0        340266         53             1                 1      F   \n",
       "5         0      -926.186         27             0                 1      M   \n",
       "6         0       -2879.2         43             0                 0      F   \n",
       "7         0       -152.78         50             1                 0      M   \n",
       "8         2      -6929.87         35             0                 1      F   \n",
       "9         0      -2188.76         41             1                 0      M   \n",
       "\n",
       "  income_type  debt  total_income                     purpose  \\\n",
       "0   сотрудник     0        253875               покупка жилья   \n",
       "1   сотрудник     0        112080     приобретение автомобиля   \n",
       "2   сотрудник     0        145885               покупка жилья   \n",
       "3   сотрудник     0        267628  дополнительное образование   \n",
       "4   пенсионер     0        158616             сыграть свадьбу   \n",
       "5   компаньон     0        255763               покупка жилья   \n",
       "6   компаньон     0        240525           операции с жильем   \n",
       "7   сотрудник     0        135823                 образование   \n",
       "8   сотрудник     0         95856       на проведение свадьбы   \n",
       "9   сотрудник     0        144425     покупка жилья для семьи   \n",
       "\n",
       "  total_income_category             purpose_group  \n",
       "0                     B  операции с недвижимостью  \n",
       "1                     C    операции с автомобилем  \n",
       "2                     C  операции с недвижимостью  \n",
       "3                     B     получение образования  \n",
       "4                     C        проведение свадьбы  \n",
       "5                     B  операции с недвижимостью  \n",
       "6                     B  операции с недвижимостью  \n",
       "7                     C     получение образования  \n",
       "8                     C        проведение свадьбы  \n",
       "9                     C  операции с недвижимостью  "
      ]
     },
     "metadata": {},
     "output_type": "display_data"
    }
   ],
   "source": [
    "display(data.head(10))"
   ]
  },
  {
   "cell_type": "markdown",
   "id": "5204537d",
   "metadata": {},
   "source": [
    "Вывод: проведена работа по предобработке данных, в том числе:\n",
    "- заполнены пропуски значений на медиану;\n",
    "- проведена работа по проверке на аномальные данные, исправили опечатки;\n",
    "- иправлен тип данных;\n",
    "- удалены явные и скрытые дубликаты;\n",
    "- сформированны словари;\n",
    "- проведена категоризация дохода и целей кредита."
   ]
  },
  {
   "cell_type": "markdown",
   "id": "57f24ca2",
   "metadata": {},
   "source": [
    "## Ответы на вопросы."
   ]
  },
  {
   "cell_type": "markdown",
   "id": "784cc354",
   "metadata": {},
   "source": [
    "### Вопрос 1: Есть ли зависимость между количеством детей и возвратом кредита в срок?"
   ]
  },
  {
   "cell_type": "markdown",
   "id": "a20dc31e",
   "metadata": {},
   "source": [
    "Создаем сводную таблицу с расчетом количества кредитов в разрезе наличия детей и наличия/отсутствия задолженности."
   ]
  },
  {
   "cell_type": "code",
   "execution_count": 197,
   "id": "68158277",
   "metadata": {},
   "outputs": [],
   "source": [
    "children_theory = data.pivot_table(index='children', columns='debt', values='income_type', aggfunc='count')"
   ]
  },
  {
   "cell_type": "code",
   "execution_count": 198,
   "id": "3aec0845",
   "metadata": {
    "scrolled": true
   },
   "outputs": [
    {
     "data": {
      "text/html": [
       "<div>\n",
       "<style scoped>\n",
       "    .dataframe tbody tr th:only-of-type {\n",
       "        vertical-align: middle;\n",
       "    }\n",
       "\n",
       "    .dataframe tbody tr th {\n",
       "        vertical-align: top;\n",
       "    }\n",
       "\n",
       "    .dataframe thead th {\n",
       "        text-align: right;\n",
       "    }\n",
       "</style>\n",
       "<table border=\"1\" class=\"dataframe\">\n",
       "  <thead>\n",
       "    <tr style=\"text-align: right;\">\n",
       "      <th>debt</th>\n",
       "      <th>0</th>\n",
       "      <th>1</th>\n",
       "    </tr>\n",
       "    <tr>\n",
       "      <th>children</th>\n",
       "      <th></th>\n",
       "      <th></th>\n",
       "    </tr>\n",
       "  </thead>\n",
       "  <tbody>\n",
       "    <tr>\n",
       "      <td>0</td>\n",
       "      <td>13028.0</td>\n",
       "      <td>1063.0</td>\n",
       "    </tr>\n",
       "    <tr>\n",
       "      <td>1</td>\n",
       "      <td>4410.0</td>\n",
       "      <td>445.0</td>\n",
       "    </tr>\n",
       "    <tr>\n",
       "      <td>2</td>\n",
       "      <td>1926.0</td>\n",
       "      <td>202.0</td>\n",
       "    </tr>\n",
       "    <tr>\n",
       "      <td>3</td>\n",
       "      <td>303.0</td>\n",
       "      <td>27.0</td>\n",
       "    </tr>\n",
       "    <tr>\n",
       "      <td>4</td>\n",
       "      <td>37.0</td>\n",
       "      <td>4.0</td>\n",
       "    </tr>\n",
       "    <tr>\n",
       "      <td>5</td>\n",
       "      <td>9.0</td>\n",
       "      <td>NaN</td>\n",
       "    </tr>\n",
       "  </tbody>\n",
       "</table>\n",
       "</div>"
      ],
      "text/plain": [
       "debt            0       1\n",
       "children                 \n",
       "0         13028.0  1063.0\n",
       "1          4410.0   445.0\n",
       "2          1926.0   202.0\n",
       "3           303.0    27.0\n",
       "4            37.0     4.0\n",
       "5             9.0     NaN"
      ]
     },
     "metadata": {},
     "output_type": "display_data"
    }
   ],
   "source": [
    "display(children_theory)"
   ]
  },
  {
   "cell_type": "markdown",
   "id": "df5260d3",
   "metadata": {},
   "source": [
    "Добавляем столбец `debt_avg` с расчетом соотношения количества просроченных кредитов к общему количеству в процентах, по каждой группе. И столбец `credit_children` с расчетом доли данной катогории кредитов к общему объму."
   ]
  },
  {
   "cell_type": "code",
   "execution_count": 199,
   "id": "9b4bc02b",
   "metadata": {},
   "outputs": [],
   "source": [
    "children_theory['debt_avg'] = children_theory[1] / (children_theory[1] + children_theory[0]) * 100\n",
    "children_theory['credit_children'] = (children_theory[1] + children_theory[0]) / len(data['children']) * 100"
   ]
  },
  {
   "cell_type": "code",
   "execution_count": 200,
   "id": "152bef3d",
   "metadata": {},
   "outputs": [
    {
     "data": {
      "text/html": [
       "<div>\n",
       "<style scoped>\n",
       "    .dataframe tbody tr th:only-of-type {\n",
       "        vertical-align: middle;\n",
       "    }\n",
       "\n",
       "    .dataframe tbody tr th {\n",
       "        vertical-align: top;\n",
       "    }\n",
       "\n",
       "    .dataframe thead th {\n",
       "        text-align: right;\n",
       "    }\n",
       "</style>\n",
       "<table border=\"1\" class=\"dataframe\">\n",
       "  <thead>\n",
       "    <tr style=\"text-align: right;\">\n",
       "      <th>debt</th>\n",
       "      <th>0</th>\n",
       "      <th>1</th>\n",
       "      <th>debt_avg</th>\n",
       "      <th>credit_children</th>\n",
       "    </tr>\n",
       "    <tr>\n",
       "      <th>children</th>\n",
       "      <th></th>\n",
       "      <th></th>\n",
       "      <th></th>\n",
       "      <th></th>\n",
       "    </tr>\n",
       "  </thead>\n",
       "  <tbody>\n",
       "    <tr>\n",
       "      <td>0</td>\n",
       "      <td>13028.0</td>\n",
       "      <td>1063.0</td>\n",
       "      <td>7.543822</td>\n",
       "      <td>65.680060</td>\n",
       "    </tr>\n",
       "    <tr>\n",
       "      <td>1</td>\n",
       "      <td>4410.0</td>\n",
       "      <td>445.0</td>\n",
       "      <td>9.165808</td>\n",
       "      <td>22.629813</td>\n",
       "    </tr>\n",
       "    <tr>\n",
       "      <td>2</td>\n",
       "      <td>1926.0</td>\n",
       "      <td>202.0</td>\n",
       "      <td>9.492481</td>\n",
       "      <td>9.918896</td>\n",
       "    </tr>\n",
       "    <tr>\n",
       "      <td>3</td>\n",
       "      <td>303.0</td>\n",
       "      <td>27.0</td>\n",
       "      <td>8.181818</td>\n",
       "      <td>1.538175</td>\n",
       "    </tr>\n",
       "    <tr>\n",
       "      <td>4</td>\n",
       "      <td>37.0</td>\n",
       "      <td>4.0</td>\n",
       "      <td>9.756098</td>\n",
       "      <td>0.191107</td>\n",
       "    </tr>\n",
       "    <tr>\n",
       "      <td>5</td>\n",
       "      <td>9.0</td>\n",
       "      <td>NaN</td>\n",
       "      <td>NaN</td>\n",
       "      <td>NaN</td>\n",
       "    </tr>\n",
       "  </tbody>\n",
       "</table>\n",
       "</div>"
      ],
      "text/plain": [
       "debt            0       1  debt_avg  credit_children\n",
       "children                                            \n",
       "0         13028.0  1063.0  7.543822        65.680060\n",
       "1          4410.0   445.0  9.165808        22.629813\n",
       "2          1926.0   202.0  9.492481         9.918896\n",
       "3           303.0    27.0  8.181818         1.538175\n",
       "4            37.0     4.0  9.756098         0.191107\n",
       "5             9.0     NaN       NaN              NaN"
      ]
     },
     "metadata": {},
     "output_type": "display_data"
    }
   ],
   "source": [
    "display(children_theory)"
   ]
  },
  {
   "cell_type": "markdown",
   "id": "03c8f4fc",
   "metadata": {},
   "source": [
    "### Вывод 1:"
   ]
  },
  {
   "cell_type": "markdown",
   "id": "3420e15d",
   "metadata": {},
   "source": [
    "Из расчитанных данных можно сделать следующие выводы:\n",
    "* бездетные берут кредиты чаще (65%), доля просроченных кредитов самая низкая 7,5%\n",
    "* наличие от 1 до 4 детей увеличивает риск невозврата до 8-9,7%\n",
    "* доля семей с 5 детьми незначительна, однако задолженность у них отсутствует."
   ]
  },
  {
   "cell_type": "markdown",
   "id": "5d405d34",
   "metadata": {},
   "source": [
    "### Вопрос 2: Есть ли зависимость между семейным положением и возвратом кредита в срок?"
   ]
  },
  {
   "cell_type": "markdown",
   "id": "8475c77e",
   "metadata": {},
   "source": [
    "Создаем сводную таблицу с расчетом количества кредитов в разрезе семейного положения и наличия/отсутствия задолженности."
   ]
  },
  {
   "cell_type": "code",
   "execution_count": 201,
   "id": "aff1e310",
   "metadata": {},
   "outputs": [],
   "source": [
    "family_status_teory = data.pivot_table(index='family_status_id', columns='debt', values='income_type', aggfunc='count')"
   ]
  },
  {
   "cell_type": "code",
   "execution_count": 202,
   "id": "b556b74c",
   "metadata": {
    "scrolled": false
   },
   "outputs": [
    {
     "data": {
      "text/html": [
       "<div>\n",
       "<style scoped>\n",
       "    .dataframe tbody tr th:only-of-type {\n",
       "        vertical-align: middle;\n",
       "    }\n",
       "\n",
       "    .dataframe tbody tr th {\n",
       "        vertical-align: top;\n",
       "    }\n",
       "\n",
       "    .dataframe thead th {\n",
       "        text-align: right;\n",
       "    }\n",
       "</style>\n",
       "<table border=\"1\" class=\"dataframe\">\n",
       "  <thead>\n",
       "    <tr style=\"text-align: right;\">\n",
       "      <th>debt</th>\n",
       "      <th>0</th>\n",
       "      <th>1</th>\n",
       "    </tr>\n",
       "    <tr>\n",
       "      <th>family_status_id</th>\n",
       "      <th></th>\n",
       "      <th></th>\n",
       "    </tr>\n",
       "  </thead>\n",
       "  <tbody>\n",
       "    <tr>\n",
       "      <td>0</td>\n",
       "      <td>11408</td>\n",
       "      <td>931</td>\n",
       "    </tr>\n",
       "    <tr>\n",
       "      <td>1</td>\n",
       "      <td>3763</td>\n",
       "      <td>388</td>\n",
       "    </tr>\n",
       "    <tr>\n",
       "      <td>2</td>\n",
       "      <td>896</td>\n",
       "      <td>63</td>\n",
       "    </tr>\n",
       "    <tr>\n",
       "      <td>3</td>\n",
       "      <td>1110</td>\n",
       "      <td>85</td>\n",
       "    </tr>\n",
       "    <tr>\n",
       "      <td>4</td>\n",
       "      <td>2536</td>\n",
       "      <td>274</td>\n",
       "    </tr>\n",
       "  </tbody>\n",
       "</table>\n",
       "</div>"
      ],
      "text/plain": [
       "debt                  0    1\n",
       "family_status_id            \n",
       "0                 11408  931\n",
       "1                  3763  388\n",
       "2                   896   63\n",
       "3                  1110   85\n",
       "4                  2536  274"
      ]
     },
     "metadata": {},
     "output_type": "display_data"
    }
   ],
   "source": [
    "display(family_status_teory)"
   ]
  },
  {
   "cell_type": "markdown",
   "id": "043b32ab",
   "metadata": {},
   "source": [
    "Добавляем столбец `debt_avg` с расчетом соотношения количества просроченных кредитов к общему количеству в процентах, по каждой группе. И столбец `credit_family` с расчетом доли данной катогории кредитов к общему объму."
   ]
  },
  {
   "cell_type": "code",
   "execution_count": 203,
   "id": "904be7e1",
   "metadata": {},
   "outputs": [],
   "source": [
    "family_status_teory['debt_avg'] = family_status_teory[1] / (family_status_teory[1] + family_status_teory[0]) * 100\n",
    "family_status_teory['credit_family'] = (family_status_teory[1] + family_status_teory[0]) / len(data['family_status_id']) * 100"
   ]
  },
  {
   "cell_type": "code",
   "execution_count": 204,
   "id": "910a85f2",
   "metadata": {},
   "outputs": [
    {
     "data": {
      "text/html": [
       "<div>\n",
       "<style scoped>\n",
       "    .dataframe tbody tr th:only-of-type {\n",
       "        vertical-align: middle;\n",
       "    }\n",
       "\n",
       "    .dataframe tbody tr th {\n",
       "        vertical-align: top;\n",
       "    }\n",
       "\n",
       "    .dataframe thead th {\n",
       "        text-align: right;\n",
       "    }\n",
       "</style>\n",
       "<table border=\"1\" class=\"dataframe\">\n",
       "  <thead>\n",
       "    <tr style=\"text-align: right;\">\n",
       "      <th>debt</th>\n",
       "      <th>0</th>\n",
       "      <th>1</th>\n",
       "      <th>debt_avg</th>\n",
       "      <th>credit_family</th>\n",
       "    </tr>\n",
       "    <tr>\n",
       "      <th>family_status_id</th>\n",
       "      <th></th>\n",
       "      <th></th>\n",
       "      <th></th>\n",
       "      <th></th>\n",
       "    </tr>\n",
       "  </thead>\n",
       "  <tbody>\n",
       "    <tr>\n",
       "      <td>0</td>\n",
       "      <td>11408</td>\n",
       "      <td>931</td>\n",
       "      <td>7.545182</td>\n",
       "      <td>57.513750</td>\n",
       "    </tr>\n",
       "    <tr>\n",
       "      <td>1</td>\n",
       "      <td>3763</td>\n",
       "      <td>388</td>\n",
       "      <td>9.347145</td>\n",
       "      <td>19.348373</td>\n",
       "    </tr>\n",
       "    <tr>\n",
       "      <td>2</td>\n",
       "      <td>896</td>\n",
       "      <td>63</td>\n",
       "      <td>6.569343</td>\n",
       "      <td>4.470029</td>\n",
       "    </tr>\n",
       "    <tr>\n",
       "      <td>3</td>\n",
       "      <td>1110</td>\n",
       "      <td>85</td>\n",
       "      <td>7.112971</td>\n",
       "      <td>5.570057</td>\n",
       "    </tr>\n",
       "    <tr>\n",
       "      <td>4</td>\n",
       "      <td>2536</td>\n",
       "      <td>274</td>\n",
       "      <td>9.750890</td>\n",
       "      <td>13.097791</td>\n",
       "    </tr>\n",
       "  </tbody>\n",
       "</table>\n",
       "</div>"
      ],
      "text/plain": [
       "debt                  0    1  debt_avg  credit_family\n",
       "family_status_id                                     \n",
       "0                 11408  931  7.545182      57.513750\n",
       "1                  3763  388  9.347145      19.348373\n",
       "2                   896   63  6.569343       4.470029\n",
       "3                  1110   85  7.112971       5.570057\n",
       "4                  2536  274  9.750890      13.097791"
      ]
     },
     "metadata": {},
     "output_type": "display_data"
    }
   ],
   "source": [
    "display(family_status_teory)"
   ]
  },
  {
   "cell_type": "markdown",
   "id": "b547324b",
   "metadata": {},
   "source": [
    "Из словаря добавляем столбец с обозначением кодов"
   ]
  },
  {
   "cell_type": "code",
   "execution_count": 205,
   "id": "0e6d6497",
   "metadata": {},
   "outputs": [
    {
     "data": {
      "text/html": [
       "<div>\n",
       "<style scoped>\n",
       "    .dataframe tbody tr th:only-of-type {\n",
       "        vertical-align: middle;\n",
       "    }\n",
       "\n",
       "    .dataframe tbody tr th {\n",
       "        vertical-align: top;\n",
       "    }\n",
       "\n",
       "    .dataframe thead th {\n",
       "        text-align: right;\n",
       "    }\n",
       "</style>\n",
       "<table border=\"1\" class=\"dataframe\">\n",
       "  <thead>\n",
       "    <tr style=\"text-align: right;\">\n",
       "      <th></th>\n",
       "      <th>family_status_id</th>\n",
       "      <th>0</th>\n",
       "      <th>1</th>\n",
       "      <th>debt_avg</th>\n",
       "      <th>credit_family</th>\n",
       "      <th>family_status</th>\n",
       "    </tr>\n",
       "  </thead>\n",
       "  <tbody>\n",
       "    <tr>\n",
       "      <td>0</td>\n",
       "      <td>0</td>\n",
       "      <td>11408</td>\n",
       "      <td>931</td>\n",
       "      <td>7.545182</td>\n",
       "      <td>57.513750</td>\n",
       "      <td>женат / замужем</td>\n",
       "    </tr>\n",
       "    <tr>\n",
       "      <td>1</td>\n",
       "      <td>1</td>\n",
       "      <td>3763</td>\n",
       "      <td>388</td>\n",
       "      <td>9.347145</td>\n",
       "      <td>19.348373</td>\n",
       "      <td>гражданский брак</td>\n",
       "    </tr>\n",
       "    <tr>\n",
       "      <td>2</td>\n",
       "      <td>2</td>\n",
       "      <td>896</td>\n",
       "      <td>63</td>\n",
       "      <td>6.569343</td>\n",
       "      <td>4.470029</td>\n",
       "      <td>вдовец / вдова</td>\n",
       "    </tr>\n",
       "    <tr>\n",
       "      <td>3</td>\n",
       "      <td>3</td>\n",
       "      <td>1110</td>\n",
       "      <td>85</td>\n",
       "      <td>7.112971</td>\n",
       "      <td>5.570057</td>\n",
       "      <td>в разводе</td>\n",
       "    </tr>\n",
       "    <tr>\n",
       "      <td>4</td>\n",
       "      <td>4</td>\n",
       "      <td>2536</td>\n",
       "      <td>274</td>\n",
       "      <td>9.750890</td>\n",
       "      <td>13.097791</td>\n",
       "      <td>Не женат / не замужем</td>\n",
       "    </tr>\n",
       "  </tbody>\n",
       "</table>\n",
       "</div>"
      ],
      "text/plain": [
       "   family_status_id      0    1  debt_avg  credit_family  \\\n",
       "0                 0  11408  931  7.545182      57.513750   \n",
       "1                 1   3763  388  9.347145      19.348373   \n",
       "2                 2    896   63  6.569343       4.470029   \n",
       "3                 3   1110   85  7.112971       5.570057   \n",
       "4                 4   2536  274  9.750890      13.097791   \n",
       "\n",
       "           family_status  \n",
       "0        женат / замужем  \n",
       "1       гражданский брак  \n",
       "2         вдовец / вдова  \n",
       "3              в разводе  \n",
       "4  Не женат / не замужем  "
      ]
     },
     "execution_count": 205,
     "metadata": {},
     "output_type": "execute_result"
    }
   ],
   "source": [
    "family_status_teory.merge(family_status_info, on='family_status_id', how='left')"
   ]
  },
  {
   "cell_type": "markdown",
   "id": "2a5de8ea",
   "metadata": {},
   "source": [
    "### Вывод 2:"
   ]
  },
  {
   "cell_type": "markdown",
   "id": "1d753055",
   "metadata": {},
   "source": [
    "Из расчитанных данных можно сделать следующие выводы:\n",
    "* наибольший объем кредитов приходится на семейные пары, более 57%. Риск невозврата 7,54%, что немного больше чем у разведенных - 7,11%;\n",
    "* минимальный риск невозврата кредитов приходится на вдовствующих заемщиков - 6,57%. Однако данная категория самая малочисленная, всего 4,5% всех заемщиков;\n",
    "* наибольший риск невозврата у людей находящихся в гражданском браке и холостых - 9,32% и 9,75% соответственно. "
   ]
  },
  {
   "cell_type": "markdown",
   "id": "30c80415",
   "metadata": {},
   "source": [
    "### Вопрос 3: Есть ли зависимость между уровнем дохода и возвратом кредита в срок?"
   ]
  },
  {
   "cell_type": "markdown",
   "id": "131c60fd",
   "metadata": {},
   "source": [
    "Создаем сводную таблицу с расчетом количества кредитов в разрезе уровня дохода и наличия/отсутствия задолженности."
   ]
  },
  {
   "cell_type": "code",
   "execution_count": 206,
   "id": "1cfeeeef",
   "metadata": {},
   "outputs": [],
   "source": [
    "total_income_teory = data.pivot_table(index='total_income_category', columns='debt', values='income_type', aggfunc='count')"
   ]
  },
  {
   "cell_type": "code",
   "execution_count": 207,
   "id": "97ba2d80",
   "metadata": {
    "scrolled": true
   },
   "outputs": [
    {
     "data": {
      "text/html": [
       "<div>\n",
       "<style scoped>\n",
       "    .dataframe tbody tr th:only-of-type {\n",
       "        vertical-align: middle;\n",
       "    }\n",
       "\n",
       "    .dataframe tbody tr th {\n",
       "        vertical-align: top;\n",
       "    }\n",
       "\n",
       "    .dataframe thead th {\n",
       "        text-align: right;\n",
       "    }\n",
       "</style>\n",
       "<table border=\"1\" class=\"dataframe\">\n",
       "  <thead>\n",
       "    <tr style=\"text-align: right;\">\n",
       "      <th>debt</th>\n",
       "      <th>0</th>\n",
       "      <th>1</th>\n",
       "    </tr>\n",
       "    <tr>\n",
       "      <th>total_income_category</th>\n",
       "      <th></th>\n",
       "      <th></th>\n",
       "    </tr>\n",
       "  </thead>\n",
       "  <tbody>\n",
       "    <tr>\n",
       "      <td>A</td>\n",
       "      <td>23</td>\n",
       "      <td>2</td>\n",
       "    </tr>\n",
       "    <tr>\n",
       "      <td>B</td>\n",
       "      <td>4685</td>\n",
       "      <td>356</td>\n",
       "    </tr>\n",
       "    <tr>\n",
       "      <td>C</td>\n",
       "      <td>14656</td>\n",
       "      <td>1360</td>\n",
       "    </tr>\n",
       "    <tr>\n",
       "      <td>D</td>\n",
       "      <td>329</td>\n",
       "      <td>21</td>\n",
       "    </tr>\n",
       "    <tr>\n",
       "      <td>E</td>\n",
       "      <td>20</td>\n",
       "      <td>2</td>\n",
       "    </tr>\n",
       "  </tbody>\n",
       "</table>\n",
       "</div>"
      ],
      "text/plain": [
       "debt                       0     1\n",
       "total_income_category             \n",
       "A                         23     2\n",
       "B                       4685   356\n",
       "C                      14656  1360\n",
       "D                        329    21\n",
       "E                         20     2"
      ]
     },
     "metadata": {},
     "output_type": "display_data"
    }
   ],
   "source": [
    "display(total_income_teory)"
   ]
  },
  {
   "cell_type": "markdown",
   "id": "c75e9768",
   "metadata": {},
   "source": [
    "Добавляем столбец `debt_avg` с расчетом соотношения количества просроченных кредитов к общему количеству в процентах, по каждой группе. И столбец `credit_total` с расчетом доли данной катогории кредитов к общему объму."
   ]
  },
  {
   "cell_type": "code",
   "execution_count": 208,
   "id": "5ad9c65a",
   "metadata": {},
   "outputs": [],
   "source": [
    "total_income_teory['debt_avg'] = total_income_teory[1] / (total_income_teory[1] + total_income_teory[0]) * 100\n",
    "total_income_teory['credit_total'] = (total_income_teory[1] + total_income_teory[0]) / len(data['total_income_category']) * 100"
   ]
  },
  {
   "cell_type": "code",
   "execution_count": 209,
   "id": "168ab8bf",
   "metadata": {
    "scrolled": true
   },
   "outputs": [
    {
     "data": {
      "text/html": [
       "<div>\n",
       "<style scoped>\n",
       "    .dataframe tbody tr th:only-of-type {\n",
       "        vertical-align: middle;\n",
       "    }\n",
       "\n",
       "    .dataframe tbody tr th {\n",
       "        vertical-align: top;\n",
       "    }\n",
       "\n",
       "    .dataframe thead th {\n",
       "        text-align: right;\n",
       "    }\n",
       "</style>\n",
       "<table border=\"1\" class=\"dataframe\">\n",
       "  <thead>\n",
       "    <tr style=\"text-align: right;\">\n",
       "      <th>debt</th>\n",
       "      <th>0</th>\n",
       "      <th>1</th>\n",
       "      <th>debt_avg</th>\n",
       "      <th>credit_total</th>\n",
       "    </tr>\n",
       "    <tr>\n",
       "      <th>total_income_category</th>\n",
       "      <th></th>\n",
       "      <th></th>\n",
       "      <th></th>\n",
       "      <th></th>\n",
       "    </tr>\n",
       "  </thead>\n",
       "  <tbody>\n",
       "    <tr>\n",
       "      <td>A</td>\n",
       "      <td>23</td>\n",
       "      <td>2</td>\n",
       "      <td>8.000000</td>\n",
       "      <td>0.116528</td>\n",
       "    </tr>\n",
       "    <tr>\n",
       "      <td>B</td>\n",
       "      <td>4685</td>\n",
       "      <td>356</td>\n",
       "      <td>7.062091</td>\n",
       "      <td>23.496784</td>\n",
       "    </tr>\n",
       "    <tr>\n",
       "      <td>C</td>\n",
       "      <td>14656</td>\n",
       "      <td>1360</td>\n",
       "      <td>8.491508</td>\n",
       "      <td>74.652745</td>\n",
       "    </tr>\n",
       "    <tr>\n",
       "      <td>D</td>\n",
       "      <td>329</td>\n",
       "      <td>21</td>\n",
       "      <td>6.000000</td>\n",
       "      <td>1.631397</td>\n",
       "    </tr>\n",
       "    <tr>\n",
       "      <td>E</td>\n",
       "      <td>20</td>\n",
       "      <td>2</td>\n",
       "      <td>9.090909</td>\n",
       "      <td>0.102545</td>\n",
       "    </tr>\n",
       "  </tbody>\n",
       "</table>\n",
       "</div>"
      ],
      "text/plain": [
       "debt                       0     1  debt_avg  credit_total\n",
       "total_income_category                                     \n",
       "A                         23     2  8.000000      0.116528\n",
       "B                       4685   356  7.062091     23.496784\n",
       "C                      14656  1360  8.491508     74.652745\n",
       "D                        329    21  6.000000      1.631397\n",
       "E                         20     2  9.090909      0.102545"
      ]
     },
     "metadata": {},
     "output_type": "display_data"
    }
   ],
   "source": [
    "display(total_income_teory)"
   ]
  },
  {
   "cell_type": "markdown",
   "id": "dad08356",
   "metadata": {},
   "source": [
    "Категории:\n",
    "* 0–30000 — 'E';\n",
    "* 30001–50000 — 'D';\n",
    "* 50001–200000 — 'C';\n",
    "* 200001–1000000 — 'B';\n",
    "* 1000001 и выше — 'A'."
   ]
  },
  {
   "cell_type": "markdown",
   "id": "c227cecd",
   "metadata": {},
   "source": [
    "### Вывод 3:"
   ]
  },
  {
   "cell_type": "markdown",
   "id": "13a63a0d",
   "metadata": {},
   "source": [
    "Из расчитанных данных можно сделать следующие выводы:\n",
    "* минимальный риск невозврата кредита (6%) приходится на граждан, уровень дохода которых от 30 до 50 тысяч;\n",
    "* максимальный риск (9,09%) у граждан с уровнем дохода до 30 тысяч;\n",
    "* граждане с уровнем дохода до 200 тысяч, а это 74% заемщиков, не возвращают кредит в 8,48% случаев;\n",
    "* самые обеспеченные граждане, с уровнем дохода более 1 млн, так же не являются допропорядочными - риск 8,00%\n",
    "\n",
    "Теория подтверждена."
   ]
  },
  {
   "cell_type": "markdown",
   "id": "896ea1ee",
   "metadata": {},
   "source": [
    "### Вопрос 4: Как разные цели кредита влияют на его возврат в срок?"
   ]
  },
  {
   "cell_type": "markdown",
   "id": "25700366",
   "metadata": {},
   "source": [
    "Создаем сводную таблицу с расчетом количества кредитов в разрезе целей заема и наличия/отсутствия задолженности."
   ]
  },
  {
   "cell_type": "code",
   "execution_count": 210,
   "id": "f0ea29a6",
   "metadata": {},
   "outputs": [],
   "source": [
    "purpose_teory = data.pivot_table(index='purpose_group', columns='debt', values='income_type', aggfunc='count')"
   ]
  },
  {
   "cell_type": "code",
   "execution_count": 211,
   "id": "cb3963f1",
   "metadata": {
    "scrolled": false
   },
   "outputs": [
    {
     "data": {
      "text/html": [
       "<div>\n",
       "<style scoped>\n",
       "    .dataframe tbody tr th:only-of-type {\n",
       "        vertical-align: middle;\n",
       "    }\n",
       "\n",
       "    .dataframe tbody tr th {\n",
       "        vertical-align: top;\n",
       "    }\n",
       "\n",
       "    .dataframe thead th {\n",
       "        text-align: right;\n",
       "    }\n",
       "</style>\n",
       "<table border=\"1\" class=\"dataframe\">\n",
       "  <thead>\n",
       "    <tr style=\"text-align: right;\">\n",
       "      <th>debt</th>\n",
       "      <th>0</th>\n",
       "      <th>1</th>\n",
       "    </tr>\n",
       "    <tr>\n",
       "      <th>purpose_group</th>\n",
       "      <th></th>\n",
       "      <th></th>\n",
       "    </tr>\n",
       "  </thead>\n",
       "  <tbody>\n",
       "    <tr>\n",
       "      <td>операции с автомобилем</td>\n",
       "      <td>3903</td>\n",
       "      <td>403</td>\n",
       "    </tr>\n",
       "    <tr>\n",
       "      <td>операции с недвижимостью</td>\n",
       "      <td>10029</td>\n",
       "      <td>782</td>\n",
       "    </tr>\n",
       "    <tr>\n",
       "      <td>получение образования</td>\n",
       "      <td>3643</td>\n",
       "      <td>370</td>\n",
       "    </tr>\n",
       "    <tr>\n",
       "      <td>проведение свадьбы</td>\n",
       "      <td>2138</td>\n",
       "      <td>186</td>\n",
       "    </tr>\n",
       "  </tbody>\n",
       "</table>\n",
       "</div>"
      ],
      "text/plain": [
       "debt                          0    1\n",
       "purpose_group                       \n",
       "операции с автомобилем     3903  403\n",
       "операции с недвижимостью  10029  782\n",
       "получение образования      3643  370\n",
       "проведение свадьбы         2138  186"
      ]
     },
     "metadata": {},
     "output_type": "display_data"
    }
   ],
   "source": [
    "display(purpose_teory)"
   ]
  },
  {
   "cell_type": "markdown",
   "id": "81b62541",
   "metadata": {},
   "source": [
    "Добавляем столбец `debt_avg` с расчетом соотношения количества просроченных кредитов к общему количеству в процентах, по каждой группе. И столбец `purpose_family` с расчетом доли данной катогории кредитов к общему объму."
   ]
  },
  {
   "cell_type": "code",
   "execution_count": 212,
   "id": "2cf20423",
   "metadata": {},
   "outputs": [],
   "source": [
    "purpose_teory['debt_avg'] = purpose_teory[1] / (purpose_teory[1] + purpose_teory[0]) * 100\n",
    "purpose_teory['credit_purpose'] = (purpose_teory[1] + purpose_teory[0]) / len(data['family_status_id']) * 100"
   ]
  },
  {
   "cell_type": "code",
   "execution_count": 213,
   "id": "29da80d3",
   "metadata": {},
   "outputs": [
    {
     "data": {
      "text/html": [
       "<div>\n",
       "<style scoped>\n",
       "    .dataframe tbody tr th:only-of-type {\n",
       "        vertical-align: middle;\n",
       "    }\n",
       "\n",
       "    .dataframe tbody tr th {\n",
       "        vertical-align: top;\n",
       "    }\n",
       "\n",
       "    .dataframe thead th {\n",
       "        text-align: right;\n",
       "    }\n",
       "</style>\n",
       "<table border=\"1\" class=\"dataframe\">\n",
       "  <thead>\n",
       "    <tr style=\"text-align: right;\">\n",
       "      <th>debt</th>\n",
       "      <th>0</th>\n",
       "      <th>1</th>\n",
       "      <th>debt_avg</th>\n",
       "      <th>credit_purpose</th>\n",
       "    </tr>\n",
       "    <tr>\n",
       "      <th>purpose_group</th>\n",
       "      <th></th>\n",
       "      <th></th>\n",
       "      <th></th>\n",
       "      <th></th>\n",
       "    </tr>\n",
       "  </thead>\n",
       "  <tbody>\n",
       "    <tr>\n",
       "      <td>операции с автомобилем</td>\n",
       "      <td>3903</td>\n",
       "      <td>403</td>\n",
       "      <td>9.359034</td>\n",
       "      <td>20.070849</td>\n",
       "    </tr>\n",
       "    <tr>\n",
       "      <td>операции с недвижимостью</td>\n",
       "      <td>10029</td>\n",
       "      <td>782</td>\n",
       "      <td>7.233373</td>\n",
       "      <td>50.391535</td>\n",
       "    </tr>\n",
       "    <tr>\n",
       "      <td>получение образования</td>\n",
       "      <td>3643</td>\n",
       "      <td>370</td>\n",
       "      <td>9.220035</td>\n",
       "      <td>18.705137</td>\n",
       "    </tr>\n",
       "    <tr>\n",
       "      <td>проведение свадьбы</td>\n",
       "      <td>2138</td>\n",
       "      <td>186</td>\n",
       "      <td>8.003442</td>\n",
       "      <td>10.832479</td>\n",
       "    </tr>\n",
       "  </tbody>\n",
       "</table>\n",
       "</div>"
      ],
      "text/plain": [
       "debt                          0    1  debt_avg  credit_purpose\n",
       "purpose_group                                                 \n",
       "операции с автомобилем     3903  403  9.359034       20.070849\n",
       "операции с недвижимостью  10029  782  7.233373       50.391535\n",
       "получение образования      3643  370  9.220035       18.705137\n",
       "проведение свадьбы         2138  186  8.003442       10.832479"
      ]
     },
     "metadata": {},
     "output_type": "display_data"
    }
   ],
   "source": [
    "display(purpose_teory)"
   ]
  },
  {
   "cell_type": "markdown",
   "id": "8f5ed815",
   "metadata": {},
   "source": [
    "### Вывод 4:"
   ]
  },
  {
   "cell_type": "markdown",
   "id": "6de4df00",
   "metadata": {},
   "source": [
    "Из расчитанных данных можно сделать следующие выводы:\n",
    "* наибольший объем кредитов приходится на операции с недвижимостью, более 50%. Риск невозврата в данной категории минимальный 7,23%;\n",
    "* для приобретения автомобиля и получения образования кредит берут в 20% и 18% случаем соответственно, при этом не возвращают кредиты 9% заемщиков;\n",
    "* меньше всего заем берут для проведения свадьбы (10%), однако возвращают охотнее - риск 7,97%."
   ]
  },
  {
   "cell_type": "markdown",
   "id": "f86e1b66",
   "metadata": {},
   "source": [
    "## Общий вывод:"
   ]
  },
  {
   "cell_type": "markdown",
   "id": "a57dd87d",
   "metadata": {},
   "source": [
    "По результатам анализа можно сделать следующие выводы:\n",
    "* охотнее кредит берут:\n",
    "    - семейные пары\n",
    "    - без детей\n",
    "    - на операции с недвижимостью\n",
    "    - с уровнем дохода от 50 до 200 тысяч\n",
    "* самыми дисциплинированными являются:\n",
    "    - вдовцы\n",
    "    - с 5 детьми, либо бездетные\n",
    "    - с уровнем дохода от 30 до 50 тысяч\n",
    "    - желающие улучшить свои жилищные условия\n",
    "* чаще всего отказ в выдаче заема услышат:\n",
    "    - находящихся в гражданском браке и холостые\n",
    "    - с 2-4 детьми на иждивении\n",
    "    - желающие купить автомобиль или получить образование\n",
    "    - с доходом свыше 1 млн"
   ]
  },
  {
   "cell_type": "code",
   "execution_count": null,
   "id": "7f8ea435",
   "metadata": {},
   "outputs": [],
   "source": []
  }
 ],
 "metadata": {
  "ExecuteTimeLog": [
   {
    "duration": 2874,
    "start_time": "2022-02-19T12:06:01.299Z"
   },
   {
    "duration": 2126,
    "start_time": "2022-02-19T12:06:35.513Z"
   },
   {
    "duration": 1809,
    "start_time": "2022-02-19T12:06:38.573Z"
   },
   {
    "duration": 1903,
    "start_time": "2022-02-19T12:08:28.440Z"
   },
   {
    "duration": 68,
    "start_time": "2022-02-19T12:14:39.368Z"
   },
   {
    "duration": 24,
    "start_time": "2022-02-19T12:19:39.359Z"
   },
   {
    "duration": 4,
    "start_time": "2022-02-19T12:35:22.048Z"
   },
   {
    "duration": 3,
    "start_time": "2022-02-19T12:35:28.699Z"
   },
   {
    "duration": 13,
    "start_time": "2022-02-19T12:37:46.096Z"
   },
   {
    "duration": 13,
    "start_time": "2022-02-19T12:39:49.521Z"
   },
   {
    "duration": 16,
    "start_time": "2022-02-19T12:41:10.037Z"
   },
   {
    "duration": 17,
    "start_time": "2022-02-19T12:41:53.359Z"
   },
   {
    "duration": 33,
    "start_time": "2022-02-19T12:42:09.997Z"
   },
   {
    "duration": 21,
    "start_time": "2022-02-19T12:45:08.814Z"
   },
   {
    "duration": 93,
    "start_time": "2022-02-19T13:05:31.678Z"
   },
   {
    "duration": 13,
    "start_time": "2022-02-19T13:23:15.954Z"
   },
   {
    "duration": 4,
    "start_time": "2022-02-19T13:24:43.066Z"
   },
   {
    "duration": 6,
    "start_time": "2022-02-19T13:24:57.015Z"
   },
   {
    "duration": 4,
    "start_time": "2022-02-19T13:25:40.594Z"
   },
   {
    "duration": 6,
    "start_time": "2022-02-19T13:25:58.033Z"
   },
   {
    "duration": 7717,
    "start_time": "2022-02-21T10:21:14.431Z"
   },
   {
    "duration": 193,
    "start_time": "2022-02-21T10:21:35.569Z"
   },
   {
    "duration": -3777,
    "start_time": "2022-02-21T10:21:39.541Z"
   },
   {
    "duration": -3778,
    "start_time": "2022-02-21T10:21:39.543Z"
   },
   {
    "duration": -3778,
    "start_time": "2022-02-21T10:21:39.544Z"
   },
   {
    "duration": -3778,
    "start_time": "2022-02-21T10:21:39.545Z"
   },
   {
    "duration": -3869,
    "start_time": "2022-02-21T10:21:39.637Z"
   },
   {
    "duration": -3871,
    "start_time": "2022-02-21T10:21:39.640Z"
   },
   {
    "duration": 654,
    "start_time": "2022-02-21T10:21:56.459Z"
   },
   {
    "duration": 13,
    "start_time": "2022-02-21T10:21:57.115Z"
   },
   {
    "duration": 21,
    "start_time": "2022-02-21T10:21:57.131Z"
   },
   {
    "duration": 11,
    "start_time": "2022-02-21T10:21:57.154Z"
   },
   {
    "duration": 4,
    "start_time": "2022-02-21T10:21:57.167Z"
   },
   {
    "duration": 10,
    "start_time": "2022-02-21T10:21:57.173Z"
   },
   {
    "duration": 5,
    "start_time": "2022-02-21T10:23:18.153Z"
   },
   {
    "duration": 5,
    "start_time": "2022-02-21T10:25:53.864Z"
   },
   {
    "duration": 17,
    "start_time": "2022-02-21T10:26:54.324Z"
   },
   {
    "duration": 1024,
    "start_time": "2022-02-21T10:29:23.513Z"
   },
   {
    "duration": 16,
    "start_time": "2022-02-21T10:29:30.052Z"
   },
   {
    "duration": 45,
    "start_time": "2022-02-21T10:31:03.130Z"
   },
   {
    "duration": 14,
    "start_time": "2022-02-21T10:31:03.177Z"
   },
   {
    "duration": 13,
    "start_time": "2022-02-21T10:31:03.194Z"
   },
   {
    "duration": 17,
    "start_time": "2022-02-21T10:31:03.210Z"
   },
   {
    "duration": 25,
    "start_time": "2022-02-21T10:31:03.228Z"
   },
   {
    "duration": 12,
    "start_time": "2022-02-21T10:31:03.255Z"
   },
   {
    "duration": 10,
    "start_time": "2022-02-21T10:31:03.269Z"
   },
   {
    "duration": 14,
    "start_time": "2022-02-21T10:31:03.281Z"
   },
   {
    "duration": 4,
    "start_time": "2022-02-21T10:40:43.310Z"
   },
   {
    "duration": 116,
    "start_time": "2022-02-21T10:42:07.055Z"
   },
   {
    "duration": 115,
    "start_time": "2022-02-21T10:42:58.946Z"
   },
   {
    "duration": 134,
    "start_time": "2022-02-21T10:43:15.475Z"
   },
   {
    "duration": 114,
    "start_time": "2022-02-21T10:44:01.105Z"
   },
   {
    "duration": 50,
    "start_time": "2022-02-21T10:44:08.260Z"
   },
   {
    "duration": 11,
    "start_time": "2022-02-21T10:44:08.312Z"
   },
   {
    "duration": 25,
    "start_time": "2022-02-21T10:44:08.325Z"
   },
   {
    "duration": 33,
    "start_time": "2022-02-21T10:44:08.351Z"
   },
   {
    "duration": 10,
    "start_time": "2022-02-21T10:44:08.386Z"
   },
   {
    "duration": 250,
    "start_time": "2022-02-21T10:44:08.398Z"
   },
   {
    "duration": -3768,
    "start_time": "2022-02-21T10:44:12.418Z"
   },
   {
    "duration": -3768,
    "start_time": "2022-02-21T10:44:12.419Z"
   },
   {
    "duration": -3768,
    "start_time": "2022-02-21T10:44:12.420Z"
   },
   {
    "duration": 5,
    "start_time": "2022-02-21T10:45:21.792Z"
   },
   {
    "duration": 5,
    "start_time": "2022-02-21T10:47:01.372Z"
   },
   {
    "duration": 5,
    "start_time": "2022-02-21T10:47:36.060Z"
   },
   {
    "duration": 4,
    "start_time": "2022-02-21T10:47:47.137Z"
   },
   {
    "duration": 4,
    "start_time": "2022-02-21T10:59:29.626Z"
   },
   {
    "duration": 5,
    "start_time": "2022-02-21T10:59:39.201Z"
   },
   {
    "duration": 4,
    "start_time": "2022-02-21T11:01:09.913Z"
   },
   {
    "duration": 4,
    "start_time": "2022-02-21T11:01:12.146Z"
   },
   {
    "duration": 11,
    "start_time": "2022-02-21T11:01:14.359Z"
   },
   {
    "duration": 7,
    "start_time": "2022-02-21T11:06:20.303Z"
   },
   {
    "duration": 104,
    "start_time": "2022-02-21T11:14:27.592Z"
   },
   {
    "duration": 10,
    "start_time": "2022-02-21T11:16:35.888Z"
   },
   {
    "duration": 10,
    "start_time": "2022-02-21T11:18:12.502Z"
   },
   {
    "duration": 11,
    "start_time": "2022-02-21T11:18:18.289Z"
   },
   {
    "duration": 90,
    "start_time": "2022-02-21T11:18:32.615Z"
   },
   {
    "duration": 6,
    "start_time": "2022-02-21T11:18:46.722Z"
   },
   {
    "duration": 4,
    "start_time": "2022-02-21T11:19:01.631Z"
   },
   {
    "duration": 7,
    "start_time": "2022-02-21T11:19:03.709Z"
   },
   {
    "duration": 8,
    "start_time": "2022-02-21T11:21:51.385Z"
   },
   {
    "duration": 6,
    "start_time": "2022-02-21T11:22:42.632Z"
   },
   {
    "duration": 5,
    "start_time": "2022-02-21T11:22:58.129Z"
   },
   {
    "duration": 6,
    "start_time": "2022-02-21T11:23:05.567Z"
   },
   {
    "duration": 8,
    "start_time": "2022-02-21T11:23:16.103Z"
   },
   {
    "duration": 10,
    "start_time": "2022-02-21T11:23:25.495Z"
   },
   {
    "duration": 8,
    "start_time": "2022-02-21T11:24:19.247Z"
   },
   {
    "duration": 5,
    "start_time": "2022-02-21T11:24:54.507Z"
   },
   {
    "duration": 9,
    "start_time": "2022-02-21T11:33:37.139Z"
   },
   {
    "duration": 7,
    "start_time": "2022-02-21T11:33:51.369Z"
   },
   {
    "duration": 3,
    "start_time": "2022-02-21T11:37:51.349Z"
   },
   {
    "duration": 4,
    "start_time": "2022-02-21T11:37:58.517Z"
   },
   {
    "duration": 140,
    "start_time": "2022-02-21T11:38:23.637Z"
   },
   {
    "duration": 3,
    "start_time": "2022-02-21T11:38:28.011Z"
   },
   {
    "duration": 4,
    "start_time": "2022-02-21T11:38:41.693Z"
   },
   {
    "duration": 6,
    "start_time": "2022-02-21T11:42:54.794Z"
   },
   {
    "duration": 6,
    "start_time": "2022-02-21T11:44:31.750Z"
   },
   {
    "duration": 5,
    "start_time": "2022-02-21T11:44:39.388Z"
   },
   {
    "duration": 9,
    "start_time": "2022-02-21T11:45:52.751Z"
   },
   {
    "duration": 93,
    "start_time": "2022-02-21T11:47:38.689Z"
   },
   {
    "duration": 6,
    "start_time": "2022-02-21T11:47:48.260Z"
   },
   {
    "duration": 2,
    "start_time": "2022-02-21T11:52:23.541Z"
   },
   {
    "duration": 2,
    "start_time": "2022-02-21T11:52:48.283Z"
   },
   {
    "duration": 286,
    "start_time": "2022-02-21T11:56:33.867Z"
   },
   {
    "duration": 4,
    "start_time": "2022-02-21T11:57:21.867Z"
   },
   {
    "duration": 4,
    "start_time": "2022-02-21T12:05:25.578Z"
   },
   {
    "duration": 4,
    "start_time": "2022-02-21T12:08:30.291Z"
   },
   {
    "duration": 12,
    "start_time": "2022-02-21T12:09:09.569Z"
   },
   {
    "duration": 24,
    "start_time": "2022-02-21T12:10:20.355Z"
   },
   {
    "duration": 13,
    "start_time": "2022-02-21T12:10:43.994Z"
   },
   {
    "duration": 16,
    "start_time": "2022-02-21T12:11:02.832Z"
   },
   {
    "duration": 48,
    "start_time": "2022-02-21T12:18:00.233Z"
   },
   {
    "duration": 15,
    "start_time": "2022-02-21T12:18:00.283Z"
   },
   {
    "duration": 43,
    "start_time": "2022-02-21T12:18:00.300Z"
   },
   {
    "duration": 10,
    "start_time": "2022-02-21T12:18:00.346Z"
   },
   {
    "duration": 5,
    "start_time": "2022-02-21T12:18:00.358Z"
   },
   {
    "duration": 9,
    "start_time": "2022-02-21T12:18:00.365Z"
   },
   {
    "duration": 6,
    "start_time": "2022-02-21T12:18:00.376Z"
   },
   {
    "duration": 28,
    "start_time": "2022-02-21T12:18:00.384Z"
   },
   {
    "duration": 31,
    "start_time": "2022-02-21T12:18:00.414Z"
   },
   {
    "duration": 13,
    "start_time": "2022-02-21T12:18:00.447Z"
   },
   {
    "duration": 7,
    "start_time": "2022-02-21T12:18:00.462Z"
   },
   {
    "duration": 10,
    "start_time": "2022-02-21T12:18:00.471Z"
   },
   {
    "duration": 12,
    "start_time": "2022-02-21T12:18:00.482Z"
   },
   {
    "duration": 11,
    "start_time": "2022-02-21T12:18:00.496Z"
   },
   {
    "duration": 38,
    "start_time": "2022-02-21T12:18:00.510Z"
   },
   {
    "duration": 7,
    "start_time": "2022-02-21T12:23:55.997Z"
   },
   {
    "duration": 50,
    "start_time": "2022-02-21T12:24:08.702Z"
   },
   {
    "duration": 11,
    "start_time": "2022-02-21T12:24:08.754Z"
   },
   {
    "duration": 12,
    "start_time": "2022-02-21T12:24:08.767Z"
   },
   {
    "duration": 14,
    "start_time": "2022-02-21T12:24:08.782Z"
   },
   {
    "duration": 10,
    "start_time": "2022-02-21T12:24:08.818Z"
   },
   {
    "duration": 11,
    "start_time": "2022-02-21T12:24:08.835Z"
   },
   {
    "duration": 11,
    "start_time": "2022-02-21T12:24:08.847Z"
   },
   {
    "duration": 5,
    "start_time": "2022-02-21T12:24:08.860Z"
   },
   {
    "duration": 5,
    "start_time": "2022-02-21T12:24:08.867Z"
   },
   {
    "duration": 15,
    "start_time": "2022-02-21T12:24:08.874Z"
   },
   {
    "duration": 5,
    "start_time": "2022-02-21T12:24:08.891Z"
   },
   {
    "duration": 32,
    "start_time": "2022-02-21T12:24:08.898Z"
   },
   {
    "duration": 23,
    "start_time": "2022-02-21T12:24:08.932Z"
   },
   {
    "duration": 11,
    "start_time": "2022-02-21T12:24:08.957Z"
   },
   {
    "duration": 8,
    "start_time": "2022-02-21T12:24:08.969Z"
   },
   {
    "duration": 18,
    "start_time": "2022-02-21T12:24:08.979Z"
   },
   {
    "duration": 71,
    "start_time": "2022-02-21T12:26:54.870Z"
   },
   {
    "duration": 388,
    "start_time": "2022-02-21T12:28:58.786Z"
   },
   {
    "duration": 58,
    "start_time": "2022-02-21T12:29:09.362Z"
   },
   {
    "duration": 333,
    "start_time": "2022-02-21T12:29:56.700Z"
   },
   {
    "duration": 6,
    "start_time": "2022-02-21T12:30:11.757Z"
   },
   {
    "duration": 4,
    "start_time": "2022-02-21T12:41:03.010Z"
   },
   {
    "duration": 5,
    "start_time": "2022-02-21T12:41:06.445Z"
   },
   {
    "duration": 5,
    "start_time": "2022-02-21T12:41:12.911Z"
   },
   {
    "duration": 5,
    "start_time": "2022-02-21T12:41:21.191Z"
   },
   {
    "duration": 5,
    "start_time": "2022-02-21T12:41:32.114Z"
   },
   {
    "duration": 8,
    "start_time": "2022-02-21T13:03:29.861Z"
   },
   {
    "duration": 13,
    "start_time": "2022-02-21T13:03:49.675Z"
   },
   {
    "duration": 7,
    "start_time": "2022-02-21T13:04:00.722Z"
   },
   {
    "duration": 12,
    "start_time": "2022-02-21T13:15:05.215Z"
   },
   {
    "duration": 6,
    "start_time": "2022-02-21T13:15:08.143Z"
   },
   {
    "duration": 17,
    "start_time": "2022-02-21T13:17:51.515Z"
   },
   {
    "duration": 7,
    "start_time": "2022-02-21T13:17:52.332Z"
   },
   {
    "duration": 94,
    "start_time": "2022-02-21T13:18:18.400Z"
   },
   {
    "duration": 13,
    "start_time": "2022-02-21T13:18:40.309Z"
   },
   {
    "duration": 6,
    "start_time": "2022-02-21T13:18:41.760Z"
   },
   {
    "duration": 26,
    "start_time": "2022-02-21T13:20:39.217Z"
   },
   {
    "duration": 6,
    "start_time": "2022-02-21T13:20:40.579Z"
   },
   {
    "duration": 87,
    "start_time": "2022-02-21T13:21:49.170Z"
   },
   {
    "duration": 232,
    "start_time": "2022-02-21T13:21:54.572Z"
   },
   {
    "duration": 252,
    "start_time": "2022-02-21T13:31:07.892Z"
   },
   {
    "duration": 6,
    "start_time": "2022-02-21T13:32:34.990Z"
   },
   {
    "duration": 6,
    "start_time": "2022-02-21T13:32:36.996Z"
   },
   {
    "duration": 73,
    "start_time": "2022-02-21T13:33:27.096Z"
   },
   {
    "duration": 11,
    "start_time": "2022-02-21T13:36:18.834Z"
   },
   {
    "duration": 6,
    "start_time": "2022-02-21T13:36:28.687Z"
   },
   {
    "duration": 253,
    "start_time": "2022-02-21T13:38:17.698Z"
   },
   {
    "duration": 310,
    "start_time": "2022-02-21T13:38:36.737Z"
   },
   {
    "duration": 43,
    "start_time": "2022-02-21T13:41:05.406Z"
   },
   {
    "duration": 7,
    "start_time": "2022-02-21T13:41:06.557Z"
   },
   {
    "duration": 290,
    "start_time": "2022-02-21T13:48:41.343Z"
   },
   {
    "duration": 9,
    "start_time": "2022-02-21T13:48:50.848Z"
   },
   {
    "duration": 7,
    "start_time": "2022-02-21T13:48:53.207Z"
   },
   {
    "duration": 249,
    "start_time": "2022-02-21T13:51:49.231Z"
   },
   {
    "duration": 31,
    "start_time": "2022-02-21T13:52:02.822Z"
   },
   {
    "duration": 820,
    "start_time": "2022-02-21T13:55:31.095Z"
   },
   {
    "duration": 50,
    "start_time": "2022-02-21T13:59:59.518Z"
   },
   {
    "duration": -3770,
    "start_time": "2022-02-21T14:00:31.297Z"
   },
   {
    "duration": 46,
    "start_time": "2022-02-21T14:00:31.737Z"
   },
   {
    "duration": 12,
    "start_time": "2022-02-21T14:00:33.561Z"
   },
   {
    "duration": 15,
    "start_time": "2022-02-21T14:00:39.942Z"
   },
   {
    "duration": 15,
    "start_time": "2022-02-21T14:00:43.813Z"
   },
   {
    "duration": 4,
    "start_time": "2022-02-21T14:00:46.757Z"
   },
   {
    "duration": 6,
    "start_time": "2022-02-21T14:00:51.916Z"
   },
   {
    "duration": 8,
    "start_time": "2022-02-21T14:00:54.900Z"
   },
   {
    "duration": 5,
    "start_time": "2022-02-21T14:01:00.702Z"
   },
   {
    "duration": 5,
    "start_time": "2022-02-21T14:01:05.253Z"
   },
   {
    "duration": 18,
    "start_time": "2022-02-21T14:01:08.613Z"
   },
   {
    "duration": 6,
    "start_time": "2022-02-21T14:01:16.125Z"
   },
   {
    "duration": 4,
    "start_time": "2022-02-21T14:01:20.294Z"
   },
   {
    "duration": 7,
    "start_time": "2022-02-21T14:01:23.732Z"
   },
   {
    "duration": 5,
    "start_time": "2022-02-21T14:01:28.432Z"
   },
   {
    "duration": 5,
    "start_time": "2022-02-21T14:01:30.725Z"
   },
   {
    "duration": 18,
    "start_time": "2022-02-21T14:01:39.789Z"
   },
   {
    "duration": 7,
    "start_time": "2022-02-21T14:01:45.654Z"
   },
   {
    "duration": 7,
    "start_time": "2022-02-21T14:01:56.846Z"
   },
   {
    "duration": -3787,
    "start_time": "2022-02-21T14:02:49.260Z"
   },
   {
    "duration": 14,
    "start_time": "2022-02-21T14:03:17.575Z"
   },
   {
    "duration": 6,
    "start_time": "2022-02-21T14:03:20.170Z"
   },
   {
    "duration": 16,
    "start_time": "2022-02-21T14:03:45.210Z"
   },
   {
    "duration": 6,
    "start_time": "2022-02-21T14:03:47.241Z"
   },
   {
    "duration": 46,
    "start_time": "2022-02-21T14:03:54.566Z"
   },
   {
    "duration": 20,
    "start_time": "2022-02-21T14:03:54.614Z"
   },
   {
    "duration": 40,
    "start_time": "2022-02-21T14:03:54.636Z"
   },
   {
    "duration": 34,
    "start_time": "2022-02-21T14:03:54.679Z"
   },
   {
    "duration": 21,
    "start_time": "2022-02-21T14:03:54.714Z"
   },
   {
    "duration": 34,
    "start_time": "2022-02-21T14:03:54.737Z"
   },
   {
    "duration": 46,
    "start_time": "2022-02-21T14:03:54.773Z"
   },
   {
    "duration": 38,
    "start_time": "2022-02-21T14:03:54.821Z"
   },
   {
    "duration": 37,
    "start_time": "2022-02-21T14:03:54.862Z"
   },
   {
    "duration": 35,
    "start_time": "2022-02-21T14:03:54.901Z"
   },
   {
    "duration": 36,
    "start_time": "2022-02-21T14:03:54.937Z"
   },
   {
    "duration": 33,
    "start_time": "2022-02-21T14:03:54.976Z"
   },
   {
    "duration": 39,
    "start_time": "2022-02-21T14:03:55.011Z"
   },
   {
    "duration": 37,
    "start_time": "2022-02-21T14:03:55.052Z"
   },
   {
    "duration": 40,
    "start_time": "2022-02-21T14:03:55.091Z"
   },
   {
    "duration": 65,
    "start_time": "2022-02-21T14:03:55.133Z"
   },
   {
    "duration": 42,
    "start_time": "2022-02-21T14:03:55.201Z"
   },
   {
    "duration": 66,
    "start_time": "2022-02-21T14:03:55.245Z"
   },
   {
    "duration": 26,
    "start_time": "2022-02-21T14:03:55.313Z"
   },
   {
    "duration": 42,
    "start_time": "2022-02-21T14:03:55.340Z"
   },
   {
    "duration": 34,
    "start_time": "2022-02-21T14:08:28.618Z"
   },
   {
    "duration": 6,
    "start_time": "2022-02-21T14:08:30.186Z"
   },
   {
    "duration": 46,
    "start_time": "2022-02-21T14:09:21.212Z"
   },
   {
    "duration": 6,
    "start_time": "2022-02-21T14:09:22.313Z"
   },
   {
    "duration": 56,
    "start_time": "2022-02-21T14:13:49.789Z"
   },
   {
    "duration": 6,
    "start_time": "2022-02-21T14:13:51.359Z"
   },
   {
    "duration": 28,
    "start_time": "2022-02-21T14:14:36.815Z"
   },
   {
    "duration": 5,
    "start_time": "2022-02-21T14:14:38.922Z"
   },
   {
    "duration": 51,
    "start_time": "2022-02-21T14:14:46.463Z"
   },
   {
    "duration": 14,
    "start_time": "2022-02-21T14:14:46.516Z"
   },
   {
    "duration": 17,
    "start_time": "2022-02-21T14:14:46.532Z"
   },
   {
    "duration": 15,
    "start_time": "2022-02-21T14:14:46.551Z"
   },
   {
    "duration": 8,
    "start_time": "2022-02-21T14:14:46.568Z"
   },
   {
    "duration": 10,
    "start_time": "2022-02-21T14:14:46.577Z"
   },
   {
    "duration": 19,
    "start_time": "2022-02-21T14:14:46.589Z"
   },
   {
    "duration": 4,
    "start_time": "2022-02-21T14:14:46.620Z"
   },
   {
    "duration": 5,
    "start_time": "2022-02-21T14:14:46.626Z"
   },
   {
    "duration": 15,
    "start_time": "2022-02-21T14:14:46.633Z"
   },
   {
    "duration": 6,
    "start_time": "2022-02-21T14:14:46.650Z"
   },
   {
    "duration": 8,
    "start_time": "2022-02-21T14:14:46.658Z"
   },
   {
    "duration": 9,
    "start_time": "2022-02-21T14:14:46.668Z"
   },
   {
    "duration": 42,
    "start_time": "2022-02-21T14:14:46.679Z"
   },
   {
    "duration": 8,
    "start_time": "2022-02-21T14:14:46.723Z"
   },
   {
    "duration": 13,
    "start_time": "2022-02-21T14:14:46.733Z"
   },
   {
    "duration": 10,
    "start_time": "2022-02-21T14:14:46.748Z"
   },
   {
    "duration": 62,
    "start_time": "2022-02-21T14:14:46.760Z"
   },
   {
    "duration": 6,
    "start_time": "2022-02-21T14:14:46.824Z"
   },
   {
    "duration": 4,
    "start_time": "2022-02-21T14:14:46.832Z"
   },
   {
    "duration": 46,
    "start_time": "2022-02-21T14:15:53.822Z"
   },
   {
    "duration": 6,
    "start_time": "2022-02-21T14:15:54.872Z"
   },
   {
    "duration": 85,
    "start_time": "2022-02-21T14:16:57.854Z"
   },
   {
    "duration": 5,
    "start_time": "2022-02-21T14:16:59.222Z"
   },
   {
    "duration": 47,
    "start_time": "2022-02-21T14:22:36.286Z"
   },
   {
    "duration": 48,
    "start_time": "2022-02-21T14:23:04.461Z"
   },
   {
    "duration": 12,
    "start_time": "2022-02-21T14:23:04.512Z"
   },
   {
    "duration": 61,
    "start_time": "2022-02-21T14:23:04.527Z"
   },
   {
    "duration": 32,
    "start_time": "2022-02-21T14:23:04.590Z"
   },
   {
    "duration": 20,
    "start_time": "2022-02-21T14:23:04.624Z"
   },
   {
    "duration": 23,
    "start_time": "2022-02-21T14:23:04.646Z"
   },
   {
    "duration": 13,
    "start_time": "2022-02-21T14:23:04.671Z"
   },
   {
    "duration": 8,
    "start_time": "2022-02-21T14:23:04.685Z"
   },
   {
    "duration": 10,
    "start_time": "2022-02-21T14:23:04.695Z"
   },
   {
    "duration": 14,
    "start_time": "2022-02-21T14:23:04.708Z"
   },
   {
    "duration": 6,
    "start_time": "2022-02-21T14:23:04.723Z"
   },
   {
    "duration": 6,
    "start_time": "2022-02-21T14:23:04.731Z"
   },
   {
    "duration": 11,
    "start_time": "2022-02-21T14:23:04.739Z"
   },
   {
    "duration": 6,
    "start_time": "2022-02-21T14:23:04.752Z"
   },
   {
    "duration": 5,
    "start_time": "2022-02-21T14:23:04.760Z"
   },
   {
    "duration": 15,
    "start_time": "2022-02-21T14:23:04.767Z"
   },
   {
    "duration": 67,
    "start_time": "2022-02-21T14:23:04.784Z"
   },
   {
    "duration": 6,
    "start_time": "2022-02-21T14:23:04.853Z"
   },
   {
    "duration": 112,
    "start_time": "2022-02-21T14:23:04.860Z"
   },
   {
    "duration": 5,
    "start_time": "2022-02-21T14:23:04.973Z"
   },
   {
    "duration": 102,
    "start_time": "2022-02-21T14:25:03.518Z"
   },
   {
    "duration": 46,
    "start_time": "2022-02-21T14:25:27.412Z"
   },
   {
    "duration": 5,
    "start_time": "2022-02-21T14:27:34.645Z"
   },
   {
    "duration": 5,
    "start_time": "2022-02-21T14:27:44.899Z"
   },
   {
    "duration": 9,
    "start_time": "2022-02-21T14:28:31.591Z"
   },
   {
    "duration": 533,
    "start_time": "2022-02-22T09:43:56.628Z"
   },
   {
    "duration": 668,
    "start_time": "2022-02-22T09:44:11.068Z"
   },
   {
    "duration": 11,
    "start_time": "2022-02-22T09:44:11.738Z"
   },
   {
    "duration": 20,
    "start_time": "2022-02-22T09:44:11.751Z"
   },
   {
    "duration": 10,
    "start_time": "2022-02-22T09:44:11.773Z"
   },
   {
    "duration": 5,
    "start_time": "2022-02-22T09:44:11.784Z"
   },
   {
    "duration": 32,
    "start_time": "2022-02-22T09:44:11.790Z"
   },
   {
    "duration": 10,
    "start_time": "2022-02-22T09:44:11.824Z"
   },
   {
    "duration": 7,
    "start_time": "2022-02-22T09:44:11.836Z"
   },
   {
    "duration": 5,
    "start_time": "2022-02-22T09:44:11.845Z"
   },
   {
    "duration": 15,
    "start_time": "2022-02-22T09:44:11.851Z"
   },
   {
    "duration": 5,
    "start_time": "2022-02-22T09:44:11.868Z"
   },
   {
    "duration": 4,
    "start_time": "2022-02-22T09:44:11.875Z"
   },
   {
    "duration": 12,
    "start_time": "2022-02-22T09:44:11.881Z"
   },
   {
    "duration": 27,
    "start_time": "2022-02-22T09:44:11.895Z"
   },
   {
    "duration": 5,
    "start_time": "2022-02-22T09:44:11.923Z"
   },
   {
    "duration": 12,
    "start_time": "2022-02-22T09:44:11.930Z"
   },
   {
    "duration": 86,
    "start_time": "2022-02-22T09:44:11.944Z"
   },
   {
    "duration": 7,
    "start_time": "2022-02-22T09:44:12.032Z"
   },
   {
    "duration": 308,
    "start_time": "2022-02-22T09:44:12.041Z"
   },
   {
    "duration": -67,
    "start_time": "2022-02-22T09:44:12.418Z"
   },
   {
    "duration": -67,
    "start_time": "2022-02-22T09:44:12.420Z"
   },
   {
    "duration": -68,
    "start_time": "2022-02-22T09:44:12.422Z"
   },
   {
    "duration": 280,
    "start_time": "2022-02-22T09:45:08.803Z"
   },
   {
    "duration": 319,
    "start_time": "2022-02-22T09:45:28.673Z"
   },
   {
    "duration": 328,
    "start_time": "2022-02-22T09:45:44.605Z"
   },
   {
    "duration": 334,
    "start_time": "2022-02-22T09:46:29.570Z"
   },
   {
    "duration": 261,
    "start_time": "2022-02-22T09:47:38.296Z"
   },
   {
    "duration": 262,
    "start_time": "2022-02-22T09:56:55.698Z"
   },
   {
    "duration": 266,
    "start_time": "2022-02-22T09:58:07.731Z"
   },
   {
    "duration": 255,
    "start_time": "2022-02-22T09:58:17.980Z"
   },
   {
    "duration": 279,
    "start_time": "2022-02-22T09:58:33.543Z"
   },
   {
    "duration": 428,
    "start_time": "2022-02-22T10:01:30.113Z"
   },
   {
    "duration": 421,
    "start_time": "2022-02-22T10:01:55.452Z"
   },
   {
    "duration": 347,
    "start_time": "2022-02-22T10:02:07.787Z"
   },
   {
    "duration": 359,
    "start_time": "2022-02-22T10:02:39.912Z"
   },
   {
    "duration": 35,
    "start_time": "2022-02-22T10:06:41.322Z"
   },
   {
    "duration": 3922,
    "start_time": "2022-02-22T10:07:24.756Z"
   },
   {
    "duration": -173,
    "start_time": "2022-02-22T10:07:28.853Z"
   },
   {
    "duration": 277,
    "start_time": "2022-02-22T10:17:56.217Z"
   },
   {
    "duration": 1490,
    "start_time": "2022-02-22T10:18:44.317Z"
   },
   {
    "duration": 1457,
    "start_time": "2022-02-22T10:21:07.684Z"
   },
   {
    "duration": 1400,
    "start_time": "2022-02-22T10:21:57.152Z"
   },
   {
    "duration": 1449,
    "start_time": "2022-02-22T10:27:29.230Z"
   },
   {
    "duration": 9,
    "start_time": "2022-02-22T10:28:52.369Z"
   },
   {
    "duration": 14,
    "start_time": "2022-02-22T10:28:59.804Z"
   },
   {
    "duration": 9,
    "start_time": "2022-02-22T10:29:23.648Z"
   },
   {
    "duration": 12,
    "start_time": "2022-02-22T10:29:27.244Z"
   },
   {
    "duration": 289,
    "start_time": "2022-02-22T10:40:20.496Z"
   },
   {
    "duration": 46,
    "start_time": "2022-02-22T10:40:36.055Z"
   },
   {
    "duration": 5,
    "start_time": "2022-02-22T10:40:43.912Z"
   },
   {
    "duration": 46,
    "start_time": "2022-02-22T10:40:59.263Z"
   },
   {
    "duration": 11,
    "start_time": "2022-02-22T10:40:59.311Z"
   },
   {
    "duration": 12,
    "start_time": "2022-02-22T10:40:59.324Z"
   },
   {
    "duration": 13,
    "start_time": "2022-02-22T10:40:59.338Z"
   },
   {
    "duration": 4,
    "start_time": "2022-02-22T10:41:00.844Z"
   },
   {
    "duration": 5,
    "start_time": "2022-02-22T10:41:00.884Z"
   },
   {
    "duration": 18,
    "start_time": "2022-02-22T10:41:00.891Z"
   },
   {
    "duration": 7,
    "start_time": "2022-02-22T10:41:00.911Z"
   },
   {
    "duration": 4,
    "start_time": "2022-02-22T10:41:00.948Z"
   },
   {
    "duration": 14,
    "start_time": "2022-02-22T10:41:02.457Z"
   },
   {
    "duration": 20,
    "start_time": "2022-02-22T10:41:02.473Z"
   },
   {
    "duration": 17,
    "start_time": "2022-02-22T10:41:02.495Z"
   },
   {
    "duration": 24,
    "start_time": "2022-02-22T10:41:02.515Z"
   },
   {
    "duration": 22,
    "start_time": "2022-02-22T10:41:02.541Z"
   },
   {
    "duration": 27,
    "start_time": "2022-02-22T10:41:02.565Z"
   },
   {
    "duration": 19,
    "start_time": "2022-02-22T10:41:02.593Z"
   },
   {
    "duration": 67,
    "start_time": "2022-02-22T10:41:02.614Z"
   },
   {
    "duration": 5,
    "start_time": "2022-02-22T10:41:02.684Z"
   },
   {
    "duration": 9,
    "start_time": "2022-02-22T10:41:02.691Z"
   },
   {
    "duration": 17,
    "start_time": "2022-02-22T10:41:02.702Z"
   },
   {
    "duration": 10,
    "start_time": "2022-02-22T10:41:02.721Z"
   },
   {
    "duration": 6,
    "start_time": "2022-02-22T10:41:02.733Z"
   },
   {
    "duration": 5,
    "start_time": "2022-02-22T10:42:18.831Z"
   },
   {
    "duration": 11,
    "start_time": "2022-02-22T10:42:23.930Z"
   },
   {
    "duration": 331,
    "start_time": "2022-02-22T10:44:24.289Z"
   },
   {
    "duration": 299,
    "start_time": "2022-02-22T10:45:06.389Z"
   },
   {
    "duration": 271,
    "start_time": "2022-02-22T11:08:21.015Z"
   },
   {
    "duration": 245,
    "start_time": "2022-02-22T11:08:27.838Z"
   },
   {
    "duration": 89,
    "start_time": "2022-02-22T11:14:31.014Z"
   },
   {
    "duration": 292,
    "start_time": "2022-02-22T11:14:39.311Z"
   },
   {
    "duration": 280,
    "start_time": "2022-02-22T11:14:50.846Z"
   },
   {
    "duration": 27,
    "start_time": "2022-02-22T11:19:05.277Z"
   },
   {
    "duration": 12,
    "start_time": "2022-02-22T11:19:15.894Z"
   },
   {
    "duration": 387,
    "start_time": "2022-02-22T11:21:14.195Z"
   },
   {
    "duration": 308,
    "start_time": "2022-02-22T11:21:57.660Z"
   },
   {
    "duration": 12,
    "start_time": "2022-02-22T11:22:06.833Z"
   },
   {
    "duration": 6,
    "start_time": "2022-02-22T11:22:18.961Z"
   },
   {
    "duration": 279,
    "start_time": "2022-02-22T11:22:47.090Z"
   },
   {
    "duration": 87,
    "start_time": "2022-02-23T06:25:06.594Z"
   },
   {
    "duration": 4,
    "start_time": "2022-02-23T06:30:24.906Z"
   },
   {
    "duration": 208,
    "start_time": "2022-02-23T06:33:44.265Z"
   },
   {
    "duration": 178,
    "start_time": "2022-02-23T06:34:30.369Z"
   },
   {
    "duration": 616,
    "start_time": "2022-02-23T06:35:10.048Z"
   },
   {
    "duration": 11,
    "start_time": "2022-02-23T06:35:10.666Z"
   },
   {
    "duration": 23,
    "start_time": "2022-02-23T06:35:10.680Z"
   },
   {
    "duration": 17,
    "start_time": "2022-02-23T06:35:10.705Z"
   },
   {
    "duration": 4,
    "start_time": "2022-02-23T06:35:10.724Z"
   },
   {
    "duration": 7,
    "start_time": "2022-02-23T06:35:10.730Z"
   },
   {
    "duration": 11,
    "start_time": "2022-02-23T06:35:10.739Z"
   },
   {
    "duration": 5,
    "start_time": "2022-02-23T06:35:10.752Z"
   },
   {
    "duration": 3,
    "start_time": "2022-02-23T06:35:10.759Z"
   },
   {
    "duration": 13,
    "start_time": "2022-02-23T06:35:10.764Z"
   },
   {
    "duration": 42,
    "start_time": "2022-02-23T06:35:10.779Z"
   },
   {
    "duration": 4,
    "start_time": "2022-02-23T06:35:10.823Z"
   },
   {
    "duration": 11,
    "start_time": "2022-02-23T06:35:10.829Z"
   },
   {
    "duration": 5,
    "start_time": "2022-02-23T06:35:10.842Z"
   },
   {
    "duration": 4,
    "start_time": "2022-02-23T06:35:10.849Z"
   },
   {
    "duration": 12,
    "start_time": "2022-02-23T06:35:10.855Z"
   },
   {
    "duration": 82,
    "start_time": "2022-02-23T06:35:10.869Z"
   },
   {
    "duration": 5,
    "start_time": "2022-02-23T06:35:10.953Z"
   },
   {
    "duration": 4,
    "start_time": "2022-02-23T06:35:10.959Z"
   },
   {
    "duration": 227,
    "start_time": "2022-02-23T06:35:10.965Z"
   },
   {
    "duration": -1714,
    "start_time": "2022-02-23T06:35:12.908Z"
   },
   {
    "duration": -1716,
    "start_time": "2022-02-23T06:35:12.911Z"
   },
   {
    "duration": -1717,
    "start_time": "2022-02-23T06:35:12.913Z"
   },
   {
    "duration": 10,
    "start_time": "2022-02-23T06:35:26.524Z"
   },
   {
    "duration": 9,
    "start_time": "2022-02-23T06:35:44.663Z"
   },
   {
    "duration": 3,
    "start_time": "2022-02-23T06:36:16.560Z"
   },
   {
    "duration": 10,
    "start_time": "2022-02-23T06:36:18.995Z"
   },
   {
    "duration": 9,
    "start_time": "2022-02-23T06:36:27.371Z"
   },
   {
    "duration": 5,
    "start_time": "2022-02-23T06:36:47.340Z"
   },
   {
    "duration": 5,
    "start_time": "2022-02-23T06:41:37.832Z"
   },
   {
    "duration": 12,
    "start_time": "2022-02-23T06:48:04.439Z"
   },
   {
    "duration": 7,
    "start_time": "2022-02-23T06:48:14.514Z"
   },
   {
    "duration": 15,
    "start_time": "2022-02-23T07:24:19.705Z"
   },
   {
    "duration": 8,
    "start_time": "2022-02-23T07:33:05.461Z"
   },
   {
    "duration": 10,
    "start_time": "2022-02-23T07:33:32.167Z"
   },
   {
    "duration": 26,
    "start_time": "2022-02-23T07:35:22.172Z"
   },
   {
    "duration": 7,
    "start_time": "2022-02-23T07:35:27.082Z"
   },
   {
    "duration": 10,
    "start_time": "2022-02-23T07:35:52.399Z"
   },
   {
    "duration": 8,
    "start_time": "2022-02-23T07:37:15.815Z"
   },
   {
    "duration": 6,
    "start_time": "2022-02-23T07:37:27.999Z"
   },
   {
    "duration": 188,
    "start_time": "2022-02-23T07:49:45.990Z"
   },
   {
    "duration": 5,
    "start_time": "2022-02-23T07:49:58.401Z"
   },
   {
    "duration": 11,
    "start_time": "2022-02-23T07:50:24.583Z"
   },
   {
    "duration": 52,
    "start_time": "2022-02-23T07:59:55.912Z"
   },
   {
    "duration": 13,
    "start_time": "2022-02-23T07:59:55.966Z"
   },
   {
    "duration": 13,
    "start_time": "2022-02-23T07:59:55.981Z"
   },
   {
    "duration": 25,
    "start_time": "2022-02-23T07:59:55.996Z"
   },
   {
    "duration": 6,
    "start_time": "2022-02-23T07:59:56.023Z"
   },
   {
    "duration": 5,
    "start_time": "2022-02-23T07:59:56.030Z"
   },
   {
    "duration": 6,
    "start_time": "2022-02-23T07:59:56.037Z"
   },
   {
    "duration": 3,
    "start_time": "2022-02-23T07:59:56.045Z"
   },
   {
    "duration": 7,
    "start_time": "2022-02-23T07:59:56.050Z"
   },
   {
    "duration": 17,
    "start_time": "2022-02-23T07:59:56.059Z"
   },
   {
    "duration": 6,
    "start_time": "2022-02-23T07:59:56.232Z"
   },
   {
    "duration": 6,
    "start_time": "2022-02-23T07:59:56.240Z"
   },
   {
    "duration": 7,
    "start_time": "2022-02-23T07:59:56.248Z"
   },
   {
    "duration": 5,
    "start_time": "2022-02-23T07:59:56.499Z"
   },
   {
    "duration": 7,
    "start_time": "2022-02-23T07:59:56.506Z"
   },
   {
    "duration": 13,
    "start_time": "2022-02-23T07:59:56.515Z"
   },
   {
    "duration": 52,
    "start_time": "2022-02-23T07:59:56.531Z"
   },
   {
    "duration": 5,
    "start_time": "2022-02-23T07:59:56.585Z"
   },
   {
    "duration": 32,
    "start_time": "2022-02-23T07:59:56.591Z"
   },
   {
    "duration": 11,
    "start_time": "2022-02-23T07:59:56.625Z"
   },
   {
    "duration": 8,
    "start_time": "2022-02-23T07:59:56.639Z"
   },
   {
    "duration": 10,
    "start_time": "2022-02-23T07:59:56.649Z"
   },
   {
    "duration": 6,
    "start_time": "2022-02-23T07:59:56.660Z"
   },
   {
    "duration": 54,
    "start_time": "2022-02-23T07:59:56.698Z"
   },
   {
    "duration": -2185,
    "start_time": "2022-02-23T07:59:58.939Z"
   },
   {
    "duration": -2186,
    "start_time": "2022-02-23T07:59:58.941Z"
   },
   {
    "duration": -2186,
    "start_time": "2022-02-23T07:59:58.942Z"
   },
   {
    "duration": -2187,
    "start_time": "2022-02-23T07:59:58.944Z"
   },
   {
    "duration": -2211,
    "start_time": "2022-02-23T07:59:58.969Z"
   },
   {
    "duration": 6,
    "start_time": "2022-02-23T07:59:57.077Z"
   },
   {
    "duration": 62,
    "start_time": "2022-02-23T07:59:57.085Z"
   },
   {
    "duration": -1873,
    "start_time": "2022-02-23T07:59:59.022Z"
   },
   {
    "duration": -1874,
    "start_time": "2022-02-23T07:59:59.024Z"
   },
   {
    "duration": 3,
    "start_time": "2022-02-23T08:00:12.264Z"
   },
   {
    "duration": 9,
    "start_time": "2022-02-23T08:00:17.939Z"
   },
   {
    "duration": 14,
    "start_time": "2022-02-23T08:00:26.272Z"
   },
   {
    "duration": 56,
    "start_time": "2022-02-23T08:02:01.884Z"
   },
   {
    "duration": 11,
    "start_time": "2022-02-23T08:02:38.229Z"
   },
   {
    "duration": 6,
    "start_time": "2022-02-23T08:02:39.458Z"
   },
   {
    "duration": 17,
    "start_time": "2022-02-23T08:03:26.885Z"
   },
   {
    "duration": 3,
    "start_time": "2022-02-23T08:14:16.472Z"
   },
   {
    "duration": 4282,
    "start_time": "2022-02-23T08:14:50.752Z"
   },
   {
    "duration": 14,
    "start_time": "2022-02-23T08:14:56.798Z"
   },
   {
    "duration": 11,
    "start_time": "2022-02-23T08:16:19.168Z"
   },
   {
    "duration": 16,
    "start_time": "2022-02-23T08:16:25.686Z"
   },
   {
    "duration": 21,
    "start_time": "2022-02-23T08:30:14.809Z"
   },
   {
    "duration": 42,
    "start_time": "2022-02-23T08:30:47.376Z"
   },
   {
    "duration": 11,
    "start_time": "2022-02-23T08:30:47.419Z"
   },
   {
    "duration": 13,
    "start_time": "2022-02-23T08:30:47.432Z"
   },
   {
    "duration": 10,
    "start_time": "2022-02-23T08:30:47.446Z"
   },
   {
    "duration": 4,
    "start_time": "2022-02-23T08:30:47.457Z"
   },
   {
    "duration": 6,
    "start_time": "2022-02-23T08:30:47.462Z"
   },
   {
    "duration": 30,
    "start_time": "2022-02-23T08:30:47.491Z"
   },
   {
    "duration": 5,
    "start_time": "2022-02-23T08:30:47.523Z"
   },
   {
    "duration": 4,
    "start_time": "2022-02-23T08:30:47.531Z"
   },
   {
    "duration": 13,
    "start_time": "2022-02-23T08:30:47.536Z"
   },
   {
    "duration": 6,
    "start_time": "2022-02-23T08:30:47.551Z"
   },
   {
    "duration": 4,
    "start_time": "2022-02-23T08:30:47.558Z"
   },
   {
    "duration": 14,
    "start_time": "2022-02-23T08:30:47.605Z"
   },
   {
    "duration": 4,
    "start_time": "2022-02-23T08:30:47.621Z"
   },
   {
    "duration": 5,
    "start_time": "2022-02-23T08:30:47.627Z"
   },
   {
    "duration": 11,
    "start_time": "2022-02-23T08:30:47.634Z"
   },
   {
    "duration": 99,
    "start_time": "2022-02-23T08:30:47.647Z"
   },
   {
    "duration": 6,
    "start_time": "2022-02-23T08:30:47.748Z"
   },
   {
    "duration": 6,
    "start_time": "2022-02-23T08:30:47.757Z"
   },
   {
    "duration": 54,
    "start_time": "2022-02-23T08:30:47.766Z"
   },
   {
    "duration": 12,
    "start_time": "2022-02-23T08:30:47.822Z"
   },
   {
    "duration": 7,
    "start_time": "2022-02-23T08:30:47.836Z"
   },
   {
    "duration": 7,
    "start_time": "2022-02-23T08:30:47.845Z"
   },
   {
    "duration": 7,
    "start_time": "2022-02-23T08:30:47.855Z"
   },
   {
    "duration": 56,
    "start_time": "2022-02-23T08:30:47.863Z"
   },
   {
    "duration": 12,
    "start_time": "2022-02-23T08:30:47.921Z"
   },
   {
    "duration": 59,
    "start_time": "2022-02-23T08:30:47.935Z"
   },
   {
    "duration": -1345,
    "start_time": "2022-02-23T08:30:49.341Z"
   },
   {
    "duration": -1347,
    "start_time": "2022-02-23T08:30:49.344Z"
   },
   {
    "duration": -1348,
    "start_time": "2022-02-23T08:30:49.346Z"
   },
   {
    "duration": -1349,
    "start_time": "2022-02-23T08:30:49.348Z"
   },
   {
    "duration": -1351,
    "start_time": "2022-02-23T08:30:49.351Z"
   },
   {
    "duration": -1351,
    "start_time": "2022-02-23T08:30:49.352Z"
   },
   {
    "duration": -1356,
    "start_time": "2022-02-23T08:30:49.358Z"
   },
   {
    "duration": 44,
    "start_time": "2022-02-23T08:31:04.667Z"
   },
   {
    "duration": 11,
    "start_time": "2022-02-23T08:31:04.714Z"
   },
   {
    "duration": 18,
    "start_time": "2022-02-23T08:31:04.728Z"
   },
   {
    "duration": 17,
    "start_time": "2022-02-23T08:31:04.748Z"
   },
   {
    "duration": 12,
    "start_time": "2022-02-23T08:31:04.767Z"
   },
   {
    "duration": 24,
    "start_time": "2022-02-23T08:31:04.780Z"
   },
   {
    "duration": 11,
    "start_time": "2022-02-23T08:31:04.807Z"
   },
   {
    "duration": 14,
    "start_time": "2022-02-23T08:31:04.820Z"
   },
   {
    "duration": 10,
    "start_time": "2022-02-23T08:31:04.837Z"
   },
   {
    "duration": 21,
    "start_time": "2022-02-23T08:31:04.849Z"
   },
   {
    "duration": 7,
    "start_time": "2022-02-23T08:31:04.872Z"
   },
   {
    "duration": 19,
    "start_time": "2022-02-23T08:31:04.880Z"
   },
   {
    "duration": 22,
    "start_time": "2022-02-23T08:31:04.901Z"
   },
   {
    "duration": 5,
    "start_time": "2022-02-23T08:31:04.925Z"
   },
   {
    "duration": 15,
    "start_time": "2022-02-23T08:31:04.932Z"
   },
   {
    "duration": 26,
    "start_time": "2022-02-23T08:31:04.949Z"
   },
   {
    "duration": 74,
    "start_time": "2022-02-23T08:31:04.977Z"
   },
   {
    "duration": 5,
    "start_time": "2022-02-23T08:31:05.053Z"
   },
   {
    "duration": 21,
    "start_time": "2022-02-23T08:31:05.060Z"
   },
   {
    "duration": 25,
    "start_time": "2022-02-23T08:31:05.084Z"
   },
   {
    "duration": 22,
    "start_time": "2022-02-23T08:31:05.111Z"
   },
   {
    "duration": 12,
    "start_time": "2022-02-23T08:31:05.136Z"
   },
   {
    "duration": 13,
    "start_time": "2022-02-23T08:31:05.151Z"
   },
   {
    "duration": 23,
    "start_time": "2022-02-23T08:31:05.166Z"
   },
   {
    "duration": 13,
    "start_time": "2022-02-23T08:31:05.191Z"
   },
   {
    "duration": 23,
    "start_time": "2022-02-23T08:31:05.205Z"
   },
   {
    "duration": 14,
    "start_time": "2022-02-23T08:31:05.230Z"
   },
   {
    "duration": 25,
    "start_time": "2022-02-23T08:31:05.246Z"
   },
   {
    "duration": 12,
    "start_time": "2022-02-23T08:31:05.273Z"
   },
   {
    "duration": 8,
    "start_time": "2022-02-23T08:31:05.287Z"
   },
   {
    "duration": 17,
    "start_time": "2022-02-23T08:31:05.297Z"
   },
   {
    "duration": 21,
    "start_time": "2022-02-23T08:31:05.316Z"
   },
   {
    "duration": 29,
    "start_time": "2022-02-23T08:31:05.339Z"
   },
   {
    "duration": 14,
    "start_time": "2022-02-23T08:34:17.134Z"
   },
   {
    "duration": 11,
    "start_time": "2022-02-23T08:34:49.226Z"
   },
   {
    "duration": 15,
    "start_time": "2022-02-23T08:38:57.281Z"
   },
   {
    "duration": 187,
    "start_time": "2022-02-23T08:42:19.228Z"
   },
   {
    "duration": 3,
    "start_time": "2022-02-23T08:42:33.760Z"
   },
   {
    "duration": 6,
    "start_time": "2022-02-23T08:43:28.036Z"
   },
   {
    "duration": 9,
    "start_time": "2022-02-23T08:43:37.651Z"
   },
   {
    "duration": 4,
    "start_time": "2022-02-23T08:43:56.800Z"
   },
   {
    "duration": 8,
    "start_time": "2022-02-23T08:44:00.272Z"
   },
   {
    "duration": 7,
    "start_time": "2022-02-23T08:52:04.029Z"
   },
   {
    "duration": 9,
    "start_time": "2022-02-23T08:52:06.180Z"
   },
   {
    "duration": 6,
    "start_time": "2022-02-23T08:52:27.746Z"
   },
   {
    "duration": 10,
    "start_time": "2022-02-23T08:52:29.042Z"
   },
   {
    "duration": 182,
    "start_time": "2022-02-23T08:56:04.836Z"
   },
   {
    "duration": 173,
    "start_time": "2022-02-23T08:56:30.996Z"
   },
   {
    "duration": 6,
    "start_time": "2022-02-23T08:57:39.918Z"
   },
   {
    "duration": 2,
    "start_time": "2022-02-23T09:07:20.250Z"
   },
   {
    "duration": 65,
    "start_time": "2022-02-23T09:08:13.769Z"
   },
   {
    "duration": 232,
    "start_time": "2022-02-23T09:09:55.810Z"
   },
   {
    "duration": 16,
    "start_time": "2022-02-23T09:10:03.325Z"
   },
   {
    "duration": 7,
    "start_time": "2022-02-23T09:11:14.939Z"
   },
   {
    "duration": 172,
    "start_time": "2022-02-23T09:25:41.991Z"
   },
   {
    "duration": 181,
    "start_time": "2022-02-23T09:32:47.338Z"
   },
   {
    "duration": 190,
    "start_time": "2022-02-23T09:34:26.250Z"
   },
   {
    "duration": 57,
    "start_time": "2022-02-23T09:34:45.123Z"
   },
   {
    "duration": 56,
    "start_time": "2022-02-23T09:35:10.358Z"
   },
   {
    "duration": 475,
    "start_time": "2022-02-23T09:35:20.293Z"
   },
   {
    "duration": 11,
    "start_time": "2022-02-23T09:37:05.548Z"
   },
   {
    "duration": 237,
    "start_time": "2022-02-23T09:37:33.827Z"
   },
   {
    "duration": 42,
    "start_time": "2022-02-23T09:37:49.334Z"
   },
   {
    "duration": 10,
    "start_time": "2022-02-23T09:37:49.378Z"
   },
   {
    "duration": 29,
    "start_time": "2022-02-23T09:37:49.389Z"
   },
   {
    "duration": 19,
    "start_time": "2022-02-23T09:37:49.420Z"
   },
   {
    "duration": 10,
    "start_time": "2022-02-23T09:37:49.440Z"
   },
   {
    "duration": 9,
    "start_time": "2022-02-23T09:37:49.452Z"
   },
   {
    "duration": 6,
    "start_time": "2022-02-23T09:37:49.462Z"
   },
   {
    "duration": 4,
    "start_time": "2022-02-23T09:37:49.471Z"
   },
   {
    "duration": 4,
    "start_time": "2022-02-23T09:37:49.477Z"
   },
   {
    "duration": 40,
    "start_time": "2022-02-23T09:37:49.482Z"
   },
   {
    "duration": 7,
    "start_time": "2022-02-23T09:37:49.524Z"
   },
   {
    "duration": 4,
    "start_time": "2022-02-23T09:37:49.533Z"
   },
   {
    "duration": 9,
    "start_time": "2022-02-23T09:37:49.539Z"
   },
   {
    "duration": 6,
    "start_time": "2022-02-23T09:37:49.549Z"
   },
   {
    "duration": 9,
    "start_time": "2022-02-23T09:37:49.556Z"
   },
   {
    "duration": 12,
    "start_time": "2022-02-23T09:37:49.566Z"
   },
   {
    "duration": 85,
    "start_time": "2022-02-23T09:37:49.580Z"
   },
   {
    "duration": 5,
    "start_time": "2022-02-23T09:37:49.666Z"
   },
   {
    "duration": 4,
    "start_time": "2022-02-23T09:37:49.673Z"
   },
   {
    "duration": 41,
    "start_time": "2022-02-23T09:37:49.679Z"
   },
   {
    "duration": 10,
    "start_time": "2022-02-23T09:37:49.721Z"
   },
   {
    "duration": 7,
    "start_time": "2022-02-23T09:37:49.732Z"
   },
   {
    "duration": 8,
    "start_time": "2022-02-23T09:37:49.744Z"
   },
   {
    "duration": 7,
    "start_time": "2022-02-23T09:37:49.755Z"
   },
   {
    "duration": 6,
    "start_time": "2022-02-23T09:37:49.764Z"
   },
   {
    "duration": 53,
    "start_time": "2022-02-23T09:37:49.771Z"
   },
   {
    "duration": 4,
    "start_time": "2022-02-23T09:37:49.826Z"
   },
   {
    "duration": 10,
    "start_time": "2022-02-23T09:37:49.832Z"
   },
   {
    "duration": 6,
    "start_time": "2022-02-23T09:37:49.844Z"
   },
   {
    "duration": 4,
    "start_time": "2022-02-23T09:37:49.852Z"
   },
   {
    "duration": 13,
    "start_time": "2022-02-23T09:37:49.858Z"
   },
   {
    "duration": 47,
    "start_time": "2022-02-23T09:37:49.873Z"
   },
   {
    "duration": 16,
    "start_time": "2022-02-23T09:37:49.922Z"
   },
   {
    "duration": 7,
    "start_time": "2022-02-23T09:37:49.940Z"
   },
   {
    "duration": 6,
    "start_time": "2022-02-23T09:37:49.948Z"
   },
   {
    "duration": 13,
    "start_time": "2022-02-23T09:37:49.956Z"
   },
   {
    "duration": 17,
    "start_time": "2022-02-23T09:37:49.970Z"
   },
   {
    "duration": 32,
    "start_time": "2022-02-23T09:37:49.988Z"
   },
   {
    "duration": 177,
    "start_time": "2022-02-23T09:37:50.022Z"
   },
   {
    "duration": 191,
    "start_time": "2022-02-23T09:38:29.721Z"
   },
   {
    "duration": 48,
    "start_time": "2022-02-23T09:38:36.346Z"
   },
   {
    "duration": 13,
    "start_time": "2022-02-23T09:38:36.397Z"
   },
   {
    "duration": 18,
    "start_time": "2022-02-23T09:38:36.412Z"
   },
   {
    "duration": 39,
    "start_time": "2022-02-23T09:38:36.432Z"
   },
   {
    "duration": 33,
    "start_time": "2022-02-23T09:38:36.473Z"
   },
   {
    "duration": 38,
    "start_time": "2022-02-23T09:38:36.508Z"
   },
   {
    "duration": 17,
    "start_time": "2022-02-23T09:38:36.547Z"
   },
   {
    "duration": 22,
    "start_time": "2022-02-23T09:38:36.566Z"
   },
   {
    "duration": 24,
    "start_time": "2022-02-23T09:38:36.590Z"
   },
   {
    "duration": 40,
    "start_time": "2022-02-23T09:38:36.616Z"
   },
   {
    "duration": 22,
    "start_time": "2022-02-23T09:38:36.658Z"
   },
   {
    "duration": 26,
    "start_time": "2022-02-23T09:38:36.682Z"
   },
   {
    "duration": 26,
    "start_time": "2022-02-23T09:38:36.709Z"
   },
   {
    "duration": 27,
    "start_time": "2022-02-23T09:38:36.736Z"
   },
   {
    "duration": 30,
    "start_time": "2022-02-23T09:38:36.765Z"
   },
   {
    "duration": 35,
    "start_time": "2022-02-23T09:38:36.797Z"
   },
   {
    "duration": 77,
    "start_time": "2022-02-23T09:38:36.833Z"
   },
   {
    "duration": 5,
    "start_time": "2022-02-23T09:38:36.912Z"
   },
   {
    "duration": 20,
    "start_time": "2022-02-23T09:38:36.918Z"
   },
   {
    "duration": 30,
    "start_time": "2022-02-23T09:38:36.939Z"
   },
   {
    "duration": 22,
    "start_time": "2022-02-23T09:38:36.970Z"
   },
   {
    "duration": 23,
    "start_time": "2022-02-23T09:38:36.994Z"
   },
   {
    "duration": 29,
    "start_time": "2022-02-23T09:38:37.021Z"
   },
   {
    "duration": 26,
    "start_time": "2022-02-23T09:38:37.052Z"
   },
   {
    "duration": 27,
    "start_time": "2022-02-23T09:38:37.080Z"
   },
   {
    "duration": 32,
    "start_time": "2022-02-23T09:38:37.109Z"
   },
   {
    "duration": 27,
    "start_time": "2022-02-23T09:38:37.143Z"
   },
   {
    "duration": 34,
    "start_time": "2022-02-23T09:38:37.172Z"
   },
   {
    "duration": 23,
    "start_time": "2022-02-23T09:38:37.208Z"
   },
   {
    "duration": 15,
    "start_time": "2022-02-23T09:38:37.233Z"
   },
   {
    "duration": 33,
    "start_time": "2022-02-23T09:38:37.250Z"
   },
   {
    "duration": 27,
    "start_time": "2022-02-23T09:38:37.284Z"
   },
   {
    "duration": 44,
    "start_time": "2022-02-23T09:38:37.313Z"
   },
   {
    "duration": 33,
    "start_time": "2022-02-23T09:38:37.359Z"
   },
   {
    "duration": 20,
    "start_time": "2022-02-23T09:38:37.394Z"
   },
   {
    "duration": 34,
    "start_time": "2022-02-23T09:38:37.416Z"
   },
   {
    "duration": 40,
    "start_time": "2022-02-23T09:38:37.451Z"
   },
   {
    "duration": 17,
    "start_time": "2022-02-23T09:38:37.493Z"
   },
   {
    "duration": 203,
    "start_time": "2022-02-23T09:38:37.512Z"
   },
   {
    "duration": 317,
    "start_time": "2022-02-23T09:39:05.147Z"
   },
   {
    "duration": 13,
    "start_time": "2022-02-23T09:39:22.131Z"
   },
   {
    "duration": 12,
    "start_time": "2022-02-23T09:39:40.950Z"
   },
   {
    "duration": 4754,
    "start_time": "2022-02-23T09:42:43.434Z"
   },
   {
    "duration": 6,
    "start_time": "2022-02-23T09:43:25.948Z"
   },
   {
    "duration": 9,
    "start_time": "2022-02-23T09:43:35.691Z"
   },
   {
    "duration": 13,
    "start_time": "2022-02-23T09:43:44.566Z"
   },
   {
    "duration": 7,
    "start_time": "2022-02-23T09:43:52.620Z"
   },
   {
    "duration": 245,
    "start_time": "2022-02-23T09:55:26.368Z"
   },
   {
    "duration": 16,
    "start_time": "2022-02-23T09:55:49.279Z"
   },
   {
    "duration": 6,
    "start_time": "2022-02-23T09:55:50.410Z"
   },
   {
    "duration": 7,
    "start_time": "2022-02-23T09:57:05.831Z"
   },
   {
    "duration": 9,
    "start_time": "2022-02-23T09:57:24.316Z"
   },
   {
    "duration": 8,
    "start_time": "2022-02-23T09:57:47.987Z"
   },
   {
    "duration": 183,
    "start_time": "2022-02-23T10:22:32.553Z"
   },
   {
    "duration": 48,
    "start_time": "2022-02-23T10:22:53.361Z"
   },
   {
    "duration": 13,
    "start_time": "2022-02-23T10:22:53.411Z"
   },
   {
    "duration": 13,
    "start_time": "2022-02-23T10:22:53.426Z"
   },
   {
    "duration": 13,
    "start_time": "2022-02-23T10:22:53.441Z"
   },
   {
    "duration": 4,
    "start_time": "2022-02-23T10:22:53.456Z"
   },
   {
    "duration": 5,
    "start_time": "2022-02-23T10:22:53.462Z"
   },
   {
    "duration": 8,
    "start_time": "2022-02-23T10:22:53.519Z"
   },
   {
    "duration": 4,
    "start_time": "2022-02-23T10:22:53.531Z"
   },
   {
    "duration": 4,
    "start_time": "2022-02-23T10:22:53.538Z"
   },
   {
    "duration": 14,
    "start_time": "2022-02-23T10:22:53.544Z"
   },
   {
    "duration": 5,
    "start_time": "2022-02-23T10:22:53.560Z"
   },
   {
    "duration": 54,
    "start_time": "2022-02-23T10:22:53.567Z"
   },
   {
    "duration": 8,
    "start_time": "2022-02-23T10:22:53.623Z"
   },
   {
    "duration": 5,
    "start_time": "2022-02-23T10:22:53.633Z"
   },
   {
    "duration": 5,
    "start_time": "2022-02-23T10:22:53.639Z"
   },
   {
    "duration": 14,
    "start_time": "2022-02-23T10:22:53.646Z"
   },
   {
    "duration": 100,
    "start_time": "2022-02-23T10:22:53.661Z"
   },
   {
    "duration": 5,
    "start_time": "2022-02-23T10:22:53.763Z"
   },
   {
    "duration": 4,
    "start_time": "2022-02-23T10:22:53.770Z"
   },
   {
    "duration": 46,
    "start_time": "2022-02-23T10:22:53.776Z"
   },
   {
    "duration": 10,
    "start_time": "2022-02-23T10:22:53.824Z"
   },
   {
    "duration": 7,
    "start_time": "2022-02-23T10:22:53.835Z"
   },
   {
    "duration": 9,
    "start_time": "2022-02-23T10:22:53.845Z"
   },
   {
    "duration": 6,
    "start_time": "2022-02-23T10:22:53.856Z"
   },
   {
    "duration": 5,
    "start_time": "2022-02-23T10:22:53.864Z"
   },
   {
    "duration": 10,
    "start_time": "2022-02-23T10:22:53.918Z"
   },
   {
    "duration": 4,
    "start_time": "2022-02-23T10:22:53.929Z"
   },
   {
    "duration": 10,
    "start_time": "2022-02-23T10:22:53.935Z"
   },
   {
    "duration": 7,
    "start_time": "2022-02-23T10:22:53.947Z"
   },
   {
    "duration": 4,
    "start_time": "2022-02-23T10:22:53.956Z"
   },
   {
    "duration": 13,
    "start_time": "2022-02-23T10:22:53.961Z"
   },
   {
    "duration": 14,
    "start_time": "2022-02-23T10:22:54.019Z"
   },
   {
    "duration": 19,
    "start_time": "2022-02-23T10:22:54.034Z"
   },
   {
    "duration": 6,
    "start_time": "2022-02-23T10:22:54.055Z"
   },
   {
    "duration": 6,
    "start_time": "2022-02-23T10:22:54.063Z"
   },
   {
    "duration": 10,
    "start_time": "2022-02-23T10:22:54.071Z"
   },
   {
    "duration": 51,
    "start_time": "2022-02-23T10:22:54.083Z"
   },
   {
    "duration": 5,
    "start_time": "2022-02-23T10:22:54.136Z"
   },
   {
    "duration": 9,
    "start_time": "2022-02-23T10:22:54.142Z"
   },
   {
    "duration": 16,
    "start_time": "2022-02-23T10:22:54.153Z"
   },
   {
    "duration": 14,
    "start_time": "2022-02-23T10:22:54.170Z"
   },
   {
    "duration": 46,
    "start_time": "2022-02-23T10:22:54.185Z"
   },
   {
    "duration": 7,
    "start_time": "2022-02-23T10:22:54.233Z"
   },
   {
    "duration": 10,
    "start_time": "2022-02-23T10:22:54.242Z"
   },
   {
    "duration": 11,
    "start_time": "2022-02-23T10:22:54.254Z"
   },
   {
    "duration": 52,
    "start_time": "2022-02-23T10:22:54.267Z"
   },
   {
    "duration": 8,
    "start_time": "2022-02-23T10:22:54.321Z"
   },
   {
    "duration": 7,
    "start_time": "2022-02-23T10:22:54.331Z"
   },
   {
    "duration": 11,
    "start_time": "2022-02-23T10:22:54.339Z"
   },
   {
    "duration": 13,
    "start_time": "2022-02-23T10:22:54.352Z"
   },
   {
    "duration": 17,
    "start_time": "2022-02-23T10:23:16.782Z"
   },
   {
    "duration": 7,
    "start_time": "2022-02-23T10:24:30.793Z"
   },
   {
    "duration": 6,
    "start_time": "2022-02-23T10:24:41.203Z"
   },
   {
    "duration": 8,
    "start_time": "2022-02-23T10:24:42.508Z"
   },
   {
    "duration": 45,
    "start_time": "2022-02-23T10:50:14.243Z"
   },
   {
    "duration": 12,
    "start_time": "2022-02-23T10:50:14.290Z"
   },
   {
    "duration": 14,
    "start_time": "2022-02-23T10:50:14.305Z"
   },
   {
    "duration": 13,
    "start_time": "2022-02-23T10:50:14.321Z"
   },
   {
    "duration": 4,
    "start_time": "2022-02-23T10:50:14.337Z"
   },
   {
    "duration": 8,
    "start_time": "2022-02-23T10:50:14.343Z"
   },
   {
    "duration": 10,
    "start_time": "2022-02-23T10:50:14.352Z"
   },
   {
    "duration": 6,
    "start_time": "2022-02-23T10:50:14.364Z"
   },
   {
    "duration": 46,
    "start_time": "2022-02-23T10:50:14.373Z"
   },
   {
    "duration": 16,
    "start_time": "2022-02-23T10:50:14.421Z"
   },
   {
    "duration": 5,
    "start_time": "2022-02-23T10:50:14.439Z"
   },
   {
    "duration": 7,
    "start_time": "2022-02-23T10:50:14.445Z"
   },
   {
    "duration": 10,
    "start_time": "2022-02-23T10:50:14.454Z"
   },
   {
    "duration": 6,
    "start_time": "2022-02-23T10:50:14.465Z"
   },
   {
    "duration": 46,
    "start_time": "2022-02-23T10:50:14.473Z"
   },
   {
    "duration": 12,
    "start_time": "2022-02-23T10:50:14.521Z"
   },
   {
    "duration": 57,
    "start_time": "2022-02-23T10:50:14.535Z"
   },
   {
    "duration": 5,
    "start_time": "2022-02-23T10:50:14.618Z"
   },
   {
    "duration": 5,
    "start_time": "2022-02-23T10:50:14.625Z"
   },
   {
    "duration": 14,
    "start_time": "2022-02-23T10:50:14.634Z"
   },
   {
    "duration": 9,
    "start_time": "2022-02-23T10:50:14.651Z"
   },
   {
    "duration": 6,
    "start_time": "2022-02-23T10:50:14.662Z"
   },
   {
    "duration": 57,
    "start_time": "2022-02-23T10:50:14.671Z"
   },
   {
    "duration": 6,
    "start_time": "2022-02-23T10:50:14.730Z"
   },
   {
    "duration": 6,
    "start_time": "2022-02-23T10:50:14.738Z"
   },
   {
    "duration": 14,
    "start_time": "2022-02-23T10:50:14.746Z"
   },
   {
    "duration": 4,
    "start_time": "2022-02-23T10:50:14.762Z"
   },
   {
    "duration": 57,
    "start_time": "2022-02-23T10:50:14.768Z"
   },
   {
    "duration": 8,
    "start_time": "2022-02-23T10:50:14.827Z"
   },
   {
    "duration": 3,
    "start_time": "2022-02-23T10:50:14.837Z"
   },
   {
    "duration": 13,
    "start_time": "2022-02-23T10:50:14.842Z"
   },
   {
    "duration": 16,
    "start_time": "2022-02-23T10:50:14.857Z"
   },
   {
    "duration": 54,
    "start_time": "2022-02-23T10:50:14.874Z"
   },
   {
    "duration": 7,
    "start_time": "2022-02-23T10:50:14.929Z"
   },
   {
    "duration": 6,
    "start_time": "2022-02-23T10:50:14.938Z"
   },
   {
    "duration": 11,
    "start_time": "2022-02-23T10:50:14.946Z"
   },
   {
    "duration": 14,
    "start_time": "2022-02-23T10:50:14.959Z"
   },
   {
    "duration": 6,
    "start_time": "2022-02-23T10:50:14.975Z"
   },
   {
    "duration": 40,
    "start_time": "2022-02-23T10:50:14.983Z"
   },
   {
    "duration": 16,
    "start_time": "2022-02-23T10:50:15.026Z"
   },
   {
    "duration": 13,
    "start_time": "2022-02-23T10:50:15.044Z"
   },
   {
    "duration": 16,
    "start_time": "2022-02-23T10:50:15.059Z"
   },
   {
    "duration": 6,
    "start_time": "2022-02-23T10:50:15.076Z"
   },
   {
    "duration": 6,
    "start_time": "2022-02-23T10:50:15.120Z"
   },
   {
    "duration": 10,
    "start_time": "2022-02-23T10:50:15.128Z"
   },
   {
    "duration": 18,
    "start_time": "2022-02-23T10:50:15.140Z"
   },
   {
    "duration": 6,
    "start_time": "2022-02-23T10:50:15.160Z"
   },
   {
    "duration": 6,
    "start_time": "2022-02-23T10:50:15.167Z"
   },
   {
    "duration": 49,
    "start_time": "2022-02-23T10:50:15.177Z"
   },
   {
    "duration": 816,
    "start_time": "2022-03-05T21:07:09.247Z"
   },
   {
    "duration": 20,
    "start_time": "2022-03-05T21:07:10.065Z"
   },
   {
    "duration": 32,
    "start_time": "2022-03-05T21:07:10.091Z"
   },
   {
    "duration": 12,
    "start_time": "2022-03-05T21:07:10.126Z"
   },
   {
    "duration": 5,
    "start_time": "2022-03-05T21:07:10.141Z"
   },
   {
    "duration": 43,
    "start_time": "2022-03-05T21:07:10.149Z"
   },
   {
    "duration": 9,
    "start_time": "2022-03-05T21:07:10.198Z"
   },
   {
    "duration": 5,
    "start_time": "2022-03-05T21:07:10.210Z"
   },
   {
    "duration": 7,
    "start_time": "2022-03-05T21:07:10.220Z"
   },
   {
    "duration": 58,
    "start_time": "2022-03-05T21:07:10.232Z"
   },
   {
    "duration": 10,
    "start_time": "2022-03-05T21:07:10.293Z"
   },
   {
    "duration": 11,
    "start_time": "2022-03-05T21:07:10.306Z"
   },
   {
    "duration": 10,
    "start_time": "2022-03-05T21:07:10.320Z"
   },
   {
    "duration": 8,
    "start_time": "2022-03-05T21:07:10.332Z"
   },
   {
    "duration": 42,
    "start_time": "2022-03-05T21:07:10.343Z"
   },
   {
    "duration": 34,
    "start_time": "2022-03-05T21:07:10.390Z"
   },
   {
    "duration": 91,
    "start_time": "2022-03-05T21:07:10.426Z"
   },
   {
    "duration": 7,
    "start_time": "2022-03-05T21:07:10.520Z"
   },
   {
    "duration": 7,
    "start_time": "2022-03-05T21:07:10.530Z"
   },
   {
    "duration": 55,
    "start_time": "2022-03-05T21:07:10.539Z"
   },
   {
    "duration": 18,
    "start_time": "2022-03-05T21:07:10.598Z"
   },
   {
    "duration": 8,
    "start_time": "2022-03-05T21:07:10.619Z"
   },
   {
    "duration": 13,
    "start_time": "2022-03-05T21:07:10.629Z"
   },
   {
    "duration": 44,
    "start_time": "2022-03-05T21:07:10.645Z"
   },
   {
    "duration": 14,
    "start_time": "2022-03-05T21:07:10.692Z"
   },
   {
    "duration": 23,
    "start_time": "2022-03-05T21:07:10.709Z"
   },
   {
    "duration": 5,
    "start_time": "2022-03-05T21:07:10.738Z"
   },
   {
    "duration": 54,
    "start_time": "2022-03-05T21:07:10.747Z"
   },
   {
    "duration": 11,
    "start_time": "2022-03-05T21:07:10.804Z"
   },
   {
    "duration": 5,
    "start_time": "2022-03-05T21:07:10.818Z"
   },
   {
    "duration": 15,
    "start_time": "2022-03-05T21:07:10.825Z"
   },
   {
    "duration": 51,
    "start_time": "2022-03-05T21:07:10.843Z"
   },
   {
    "duration": 40,
    "start_time": "2022-03-05T21:07:10.899Z"
   },
   {
    "duration": 10,
    "start_time": "2022-03-05T21:07:10.942Z"
   },
   {
    "duration": 38,
    "start_time": "2022-03-05T21:07:10.955Z"
   },
   {
    "duration": 12,
    "start_time": "2022-03-05T21:07:10.996Z"
   },
   {
    "duration": 24,
    "start_time": "2022-03-05T21:07:11.011Z"
   },
   {
    "duration": 8,
    "start_time": "2022-03-05T21:07:11.038Z"
   },
   {
    "duration": 34,
    "start_time": "2022-03-05T21:07:11.048Z"
   },
   {
    "duration": 31,
    "start_time": "2022-03-05T21:07:11.087Z"
   },
   {
    "duration": 25,
    "start_time": "2022-03-05T21:07:11.121Z"
   },
   {
    "duration": 22,
    "start_time": "2022-03-05T21:07:11.149Z"
   },
   {
    "duration": 22,
    "start_time": "2022-03-05T21:07:11.173Z"
   },
   {
    "duration": 13,
    "start_time": "2022-03-05T21:07:11.198Z"
   },
   {
    "duration": 13,
    "start_time": "2022-03-05T21:07:11.214Z"
   },
   {
    "duration": 23,
    "start_time": "2022-03-05T21:07:11.230Z"
   },
   {
    "duration": 35,
    "start_time": "2022-03-05T21:07:11.255Z"
   },
   {
    "duration": 13,
    "start_time": "2022-03-05T21:07:11.293Z"
   },
   {
    "duration": 16,
    "start_time": "2022-03-05T21:07:11.308Z"
   },
   {
    "duration": 32,
    "start_time": "2022-03-05T21:11:44.967Z"
   },
   {
    "duration": 608,
    "start_time": "2022-03-06T04:41:16.631Z"
   },
   {
    "duration": 10,
    "start_time": "2022-03-06T04:41:17.241Z"
   },
   {
    "duration": 16,
    "start_time": "2022-03-06T04:41:17.253Z"
   },
   {
    "duration": 8,
    "start_time": "2022-03-06T04:41:17.270Z"
   },
   {
    "duration": 4,
    "start_time": "2022-03-06T04:41:17.279Z"
   },
   {
    "duration": 20,
    "start_time": "2022-03-06T04:41:17.284Z"
   },
   {
    "duration": 7,
    "start_time": "2022-03-06T04:41:17.306Z"
   },
   {
    "duration": 4,
    "start_time": "2022-03-06T04:41:17.316Z"
   },
   {
    "duration": 5,
    "start_time": "2022-03-06T04:41:17.323Z"
   },
   {
    "duration": 12,
    "start_time": "2022-03-06T04:41:17.329Z"
   },
   {
    "duration": 6,
    "start_time": "2022-03-06T04:41:17.343Z"
   },
   {
    "duration": 50,
    "start_time": "2022-03-06T04:41:17.351Z"
   },
   {
    "duration": 6,
    "start_time": "2022-03-06T04:41:17.403Z"
   },
   {
    "duration": 5,
    "start_time": "2022-03-06T04:41:17.411Z"
   },
   {
    "duration": 4,
    "start_time": "2022-03-06T04:41:17.418Z"
   },
   {
    "duration": 14,
    "start_time": "2022-03-06T04:41:17.423Z"
   },
   {
    "duration": 76,
    "start_time": "2022-03-06T04:41:17.439Z"
   },
   {
    "duration": 6,
    "start_time": "2022-03-06T04:41:17.517Z"
   },
   {
    "duration": 5,
    "start_time": "2022-03-06T04:41:17.524Z"
   },
   {
    "duration": 15,
    "start_time": "2022-03-06T04:41:17.531Z"
   },
   {
    "duration": 10,
    "start_time": "2022-03-06T04:41:17.548Z"
   },
   {
    "duration": 43,
    "start_time": "2022-03-06T04:41:17.560Z"
   },
   {
    "duration": 9,
    "start_time": "2022-03-06T04:41:17.608Z"
   },
   {
    "duration": 6,
    "start_time": "2022-03-06T04:41:17.620Z"
   },
   {
    "duration": 5,
    "start_time": "2022-03-06T04:41:17.627Z"
   },
   {
    "duration": 13,
    "start_time": "2022-03-06T04:41:17.633Z"
   },
   {
    "duration": 6,
    "start_time": "2022-03-06T04:41:17.648Z"
   },
   {
    "duration": 15,
    "start_time": "2022-03-06T04:41:17.655Z"
   },
   {
    "duration": 31,
    "start_time": "2022-03-06T04:41:17.671Z"
   },
   {
    "duration": 3,
    "start_time": "2022-03-06T04:41:17.703Z"
   },
   {
    "duration": 9,
    "start_time": "2022-03-06T04:41:17.708Z"
   },
   {
    "duration": 15,
    "start_time": "2022-03-06T04:41:17.719Z"
   },
   {
    "duration": 18,
    "start_time": "2022-03-06T04:41:17.736Z"
   },
   {
    "duration": 5,
    "start_time": "2022-03-06T04:41:17.756Z"
   },
   {
    "duration": 9,
    "start_time": "2022-03-06T04:41:17.763Z"
   },
   {
    "duration": 29,
    "start_time": "2022-03-06T04:41:17.773Z"
   },
   {
    "duration": 14,
    "start_time": "2022-03-06T04:41:17.803Z"
   },
   {
    "duration": 4,
    "start_time": "2022-03-06T04:41:17.818Z"
   },
   {
    "duration": 12,
    "start_time": "2022-03-06T04:41:17.824Z"
   },
   {
    "duration": 11,
    "start_time": "2022-03-06T04:41:17.837Z"
   },
   {
    "duration": 15,
    "start_time": "2022-03-06T04:41:17.849Z"
   },
   {
    "duration": 12,
    "start_time": "2022-03-06T04:41:17.866Z"
   },
   {
    "duration": 4,
    "start_time": "2022-03-06T04:41:17.879Z"
   },
   {
    "duration": 18,
    "start_time": "2022-03-06T04:41:17.885Z"
   },
   {
    "duration": 10,
    "start_time": "2022-03-06T04:41:17.905Z"
   },
   {
    "duration": 18,
    "start_time": "2022-03-06T04:41:17.916Z"
   },
   {
    "duration": 5,
    "start_time": "2022-03-06T04:41:17.935Z"
   },
   {
    "duration": 8,
    "start_time": "2022-03-06T04:41:17.942Z"
   },
   {
    "duration": 13,
    "start_time": "2022-03-06T04:41:17.951Z"
   },
   {
    "duration": 2,
    "start_time": "2022-03-06T04:42:16.237Z"
   },
   {
    "duration": 45,
    "start_time": "2022-03-06T04:42:16.921Z"
   },
   {
    "duration": 4,
    "start_time": "2022-03-06T04:42:47.788Z"
   },
   {
    "duration": 4,
    "start_time": "2022-03-06T04:42:51.052Z"
   },
   {
    "duration": 9,
    "start_time": "2022-03-06T04:42:56.181Z"
   },
   {
    "duration": 95,
    "start_time": "2022-03-06T04:44:17.766Z"
   },
   {
    "duration": 114,
    "start_time": "2022-03-06T04:44:36.828Z"
   },
   {
    "duration": 36,
    "start_time": "2022-03-06T04:47:26.234Z"
   },
   {
    "duration": 2,
    "start_time": "2022-03-06T04:48:26.776Z"
   },
   {
    "duration": 52,
    "start_time": "2022-03-06T04:48:26.780Z"
   },
   {
    "duration": 10,
    "start_time": "2022-03-06T04:48:26.834Z"
   },
   {
    "duration": 25,
    "start_time": "2022-03-06T04:48:26.846Z"
   },
   {
    "duration": 33,
    "start_time": "2022-03-06T04:48:26.873Z"
   },
   {
    "duration": 15,
    "start_time": "2022-03-06T04:48:26.908Z"
   },
   {
    "duration": 22,
    "start_time": "2022-03-06T04:48:26.925Z"
   },
   {
    "duration": 17,
    "start_time": "2022-03-06T04:48:26.949Z"
   },
   {
    "duration": 17,
    "start_time": "2022-03-06T04:48:26.968Z"
   },
   {
    "duration": 13,
    "start_time": "2022-03-06T04:48:26.987Z"
   },
   {
    "duration": 23,
    "start_time": "2022-03-06T04:48:27.002Z"
   },
   {
    "duration": 12,
    "start_time": "2022-03-06T04:48:27.027Z"
   },
   {
    "duration": 24,
    "start_time": "2022-03-06T04:48:27.041Z"
   },
   {
    "duration": 31,
    "start_time": "2022-03-06T04:48:27.066Z"
   },
   {
    "duration": 9,
    "start_time": "2022-03-06T04:48:27.098Z"
   },
   {
    "duration": 26,
    "start_time": "2022-03-06T04:48:27.108Z"
   },
   {
    "duration": 26,
    "start_time": "2022-03-06T04:48:27.136Z"
   },
   {
    "duration": 62,
    "start_time": "2022-03-06T04:48:27.163Z"
   },
   {
    "duration": 4,
    "start_time": "2022-03-06T04:48:27.227Z"
   },
   {
    "duration": 19,
    "start_time": "2022-03-06T04:48:27.233Z"
   },
   {
    "duration": 27,
    "start_time": "2022-03-06T04:48:27.253Z"
   },
   {
    "duration": 57,
    "start_time": "2022-03-06T04:48:27.282Z"
   },
   {
    "duration": 9,
    "start_time": "2022-03-06T04:48:27.341Z"
   },
   {
    "duration": 25,
    "start_time": "2022-03-06T04:48:27.352Z"
   },
   {
    "duration": 21,
    "start_time": "2022-03-06T04:48:27.379Z"
   },
   {
    "duration": 32,
    "start_time": "2022-03-06T04:48:27.402Z"
   },
   {
    "duration": 23,
    "start_time": "2022-03-06T04:48:27.436Z"
   },
   {
    "duration": 26,
    "start_time": "2022-03-06T04:48:27.463Z"
   },
   {
    "duration": 21,
    "start_time": "2022-03-06T04:48:27.491Z"
   },
   {
    "duration": 23,
    "start_time": "2022-03-06T04:48:27.514Z"
   },
   {
    "duration": 12,
    "start_time": "2022-03-06T04:48:27.539Z"
   },
   {
    "duration": 14,
    "start_time": "2022-03-06T04:48:27.553Z"
   },
   {
    "duration": 13,
    "start_time": "2022-03-06T04:48:27.568Z"
   },
   {
    "duration": 14,
    "start_time": "2022-03-06T04:48:27.583Z"
   },
   {
    "duration": 30,
    "start_time": "2022-03-06T04:48:27.599Z"
   },
   {
    "duration": 8,
    "start_time": "2022-03-06T04:48:27.631Z"
   },
   {
    "duration": 9,
    "start_time": "2022-03-06T04:48:27.640Z"
   },
   {
    "duration": 21,
    "start_time": "2022-03-06T04:48:27.651Z"
   },
   {
    "duration": 20,
    "start_time": "2022-03-06T04:48:27.673Z"
   },
   {
    "duration": 5,
    "start_time": "2022-03-06T04:48:27.695Z"
   },
   {
    "duration": 24,
    "start_time": "2022-03-06T04:48:27.701Z"
   },
   {
    "duration": 15,
    "start_time": "2022-03-06T04:48:27.726Z"
   },
   {
    "duration": 17,
    "start_time": "2022-03-06T04:48:27.743Z"
   },
   {
    "duration": 18,
    "start_time": "2022-03-06T04:48:27.762Z"
   },
   {
    "duration": 5,
    "start_time": "2022-03-06T04:48:27.782Z"
   },
   {
    "duration": 12,
    "start_time": "2022-03-06T04:48:27.788Z"
   },
   {
    "duration": 20,
    "start_time": "2022-03-06T04:48:27.802Z"
   },
   {
    "duration": 22,
    "start_time": "2022-03-06T04:48:27.824Z"
   },
   {
    "duration": 14,
    "start_time": "2022-03-06T04:48:27.847Z"
   },
   {
    "duration": 31,
    "start_time": "2022-03-06T04:48:27.862Z"
   },
   {
    "duration": 17,
    "start_time": "2022-03-06T04:48:27.895Z"
   },
   {
    "duration": 5,
    "start_time": "2022-03-06T04:57:05.658Z"
   },
   {
    "duration": 3,
    "start_time": "2022-03-06T04:58:03.873Z"
   },
   {
    "duration": 70,
    "start_time": "2022-03-06T04:58:03.877Z"
   },
   {
    "duration": 9,
    "start_time": "2022-03-06T04:58:03.949Z"
   },
   {
    "duration": 15,
    "start_time": "2022-03-06T04:58:03.959Z"
   },
   {
    "duration": 8,
    "start_time": "2022-03-06T04:58:03.976Z"
   },
   {
    "duration": 3,
    "start_time": "2022-03-06T04:58:03.985Z"
   },
   {
    "duration": 3,
    "start_time": "2022-03-06T04:58:04.001Z"
   },
   {
    "duration": 5,
    "start_time": "2022-03-06T04:58:04.006Z"
   },
   {
    "duration": 4,
    "start_time": "2022-03-06T04:58:04.013Z"
   },
   {
    "duration": 5,
    "start_time": "2022-03-06T04:58:04.019Z"
   },
   {
    "duration": 15,
    "start_time": "2022-03-06T04:58:04.025Z"
   },
   {
    "duration": 5,
    "start_time": "2022-03-06T04:58:04.041Z"
   },
   {
    "duration": 6,
    "start_time": "2022-03-06T04:58:04.048Z"
   },
   {
    "duration": 10,
    "start_time": "2022-03-06T04:58:04.055Z"
   },
   {
    "duration": 34,
    "start_time": "2022-03-06T04:58:04.067Z"
   },
   {
    "duration": 4,
    "start_time": "2022-03-06T04:58:04.102Z"
   },
   {
    "duration": 4,
    "start_time": "2022-03-06T04:58:04.108Z"
   },
   {
    "duration": 16,
    "start_time": "2022-03-06T04:58:04.113Z"
   },
   {
    "duration": 49,
    "start_time": "2022-03-06T04:58:04.130Z"
   },
   {
    "duration": 5,
    "start_time": "2022-03-06T04:58:04.180Z"
   },
   {
    "duration": 18,
    "start_time": "2022-03-06T04:58:04.186Z"
   },
   {
    "duration": 13,
    "start_time": "2022-03-06T04:58:04.205Z"
   },
   {
    "duration": 44,
    "start_time": "2022-03-06T04:58:04.220Z"
   },
   {
    "duration": 8,
    "start_time": "2022-03-06T04:58:04.265Z"
   },
   {
    "duration": 32,
    "start_time": "2022-03-06T04:58:04.274Z"
   },
   {
    "duration": 8,
    "start_time": "2022-03-06T04:58:04.308Z"
   },
   {
    "duration": 5,
    "start_time": "2022-03-06T04:58:04.319Z"
   },
   {
    "duration": 6,
    "start_time": "2022-03-06T04:58:04.326Z"
   },
   {
    "duration": 13,
    "start_time": "2022-03-06T04:58:04.334Z"
   },
   {
    "duration": 7,
    "start_time": "2022-03-06T04:58:04.348Z"
   },
   {
    "duration": 16,
    "start_time": "2022-03-06T04:58:04.356Z"
   },
   {
    "duration": 7,
    "start_time": "2022-03-06T04:58:04.374Z"
   },
   {
    "duration": 20,
    "start_time": "2022-03-06T04:58:04.382Z"
   },
   {
    "duration": 11,
    "start_time": "2022-03-06T04:58:04.403Z"
   },
   {
    "duration": 16,
    "start_time": "2022-03-06T04:58:04.415Z"
   },
   {
    "duration": 17,
    "start_time": "2022-03-06T04:58:04.432Z"
   },
   {
    "duration": 7,
    "start_time": "2022-03-06T04:58:04.451Z"
   },
   {
    "duration": 7,
    "start_time": "2022-03-06T04:58:04.460Z"
   },
   {
    "duration": 13,
    "start_time": "2022-03-06T04:58:04.468Z"
   },
   {
    "duration": 28,
    "start_time": "2022-03-06T04:58:04.483Z"
   },
   {
    "duration": 5,
    "start_time": "2022-03-06T04:58:04.512Z"
   },
   {
    "duration": 7,
    "start_time": "2022-03-06T04:58:04.519Z"
   },
   {
    "duration": 12,
    "start_time": "2022-03-06T04:58:04.527Z"
   },
   {
    "duration": 15,
    "start_time": "2022-03-06T04:58:04.540Z"
   },
   {
    "duration": 18,
    "start_time": "2022-03-06T04:58:04.556Z"
   },
   {
    "duration": 5,
    "start_time": "2022-03-06T04:58:04.576Z"
   },
   {
    "duration": 9,
    "start_time": "2022-03-06T04:58:04.582Z"
   },
   {
    "duration": 6,
    "start_time": "2022-03-06T04:58:04.601Z"
   },
   {
    "duration": 16,
    "start_time": "2022-03-06T04:58:04.608Z"
   },
   {
    "duration": 5,
    "start_time": "2022-03-06T04:58:04.626Z"
   },
   {
    "duration": 8,
    "start_time": "2022-03-06T04:58:04.632Z"
   },
   {
    "duration": 13,
    "start_time": "2022-03-06T04:58:04.641Z"
   },
   {
    "duration": 2,
    "start_time": "2022-03-06T05:01:30.937Z"
   },
   {
    "duration": 51,
    "start_time": "2022-03-06T05:01:30.941Z"
   },
   {
    "duration": 10,
    "start_time": "2022-03-06T05:01:30.994Z"
   },
   {
    "duration": 12,
    "start_time": "2022-03-06T05:01:31.005Z"
   },
   {
    "duration": 15,
    "start_time": "2022-03-06T05:01:31.018Z"
   },
   {
    "duration": 3,
    "start_time": "2022-03-06T05:01:31.035Z"
   },
   {
    "duration": 5,
    "start_time": "2022-03-06T05:01:31.040Z"
   },
   {
    "duration": 6,
    "start_time": "2022-03-06T05:01:31.047Z"
   },
   {
    "duration": 45,
    "start_time": "2022-03-06T05:01:31.056Z"
   },
   {
    "duration": 4,
    "start_time": "2022-03-06T05:01:31.104Z"
   },
   {
    "duration": 15,
    "start_time": "2022-03-06T05:01:31.109Z"
   },
   {
    "duration": 6,
    "start_time": "2022-03-06T05:01:31.126Z"
   },
   {
    "duration": 7,
    "start_time": "2022-03-06T05:01:31.133Z"
   },
   {
    "duration": 11,
    "start_time": "2022-03-06T05:01:31.142Z"
   },
   {
    "duration": 11,
    "start_time": "2022-03-06T05:01:31.154Z"
   },
   {
    "duration": 7,
    "start_time": "2022-03-06T05:01:31.167Z"
   },
   {
    "duration": 7,
    "start_time": "2022-03-06T05:01:31.176Z"
   },
   {
    "duration": 11,
    "start_time": "2022-03-06T05:01:31.201Z"
   },
   {
    "duration": 50,
    "start_time": "2022-03-06T05:01:31.213Z"
   },
   {
    "duration": 4,
    "start_time": "2022-03-06T05:01:31.265Z"
   },
   {
    "duration": 5,
    "start_time": "2022-03-06T05:01:31.270Z"
   },
   {
    "duration": 34,
    "start_time": "2022-03-06T05:01:31.277Z"
   },
   {
    "duration": 44,
    "start_time": "2022-03-06T05:01:31.313Z"
   },
   {
    "duration": 8,
    "start_time": "2022-03-06T05:01:31.359Z"
   },
   {
    "duration": 6,
    "start_time": "2022-03-06T05:01:31.368Z"
   },
   {
    "duration": 33,
    "start_time": "2022-03-06T05:01:31.375Z"
   },
   {
    "duration": 6,
    "start_time": "2022-03-06T05:01:31.411Z"
   },
   {
    "duration": 4,
    "start_time": "2022-03-06T05:01:31.419Z"
   },
   {
    "duration": 13,
    "start_time": "2022-03-06T05:01:31.425Z"
   },
   {
    "duration": 5,
    "start_time": "2022-03-06T05:01:31.440Z"
   },
   {
    "duration": 13,
    "start_time": "2022-03-06T05:01:31.446Z"
   },
   {
    "duration": 9,
    "start_time": "2022-03-06T05:01:31.461Z"
   },
   {
    "duration": 5,
    "start_time": "2022-03-06T05:01:31.472Z"
   },
   {
    "duration": 26,
    "start_time": "2022-03-06T05:01:31.478Z"
   },
   {
    "duration": 11,
    "start_time": "2022-03-06T05:01:31.505Z"
   },
   {
    "duration": 19,
    "start_time": "2022-03-06T05:01:31.518Z"
   },
   {
    "duration": 6,
    "start_time": "2022-03-06T05:01:31.538Z"
   },
   {
    "duration": 7,
    "start_time": "2022-03-06T05:01:31.546Z"
   },
   {
    "duration": 13,
    "start_time": "2022-03-06T05:01:31.554Z"
   },
   {
    "duration": 17,
    "start_time": "2022-03-06T05:01:31.568Z"
   },
   {
    "duration": 18,
    "start_time": "2022-03-06T05:01:31.586Z"
   },
   {
    "duration": 6,
    "start_time": "2022-03-06T05:01:31.605Z"
   },
   {
    "duration": 11,
    "start_time": "2022-03-06T05:01:31.613Z"
   },
   {
    "duration": 13,
    "start_time": "2022-03-06T05:01:31.626Z"
   },
   {
    "duration": 16,
    "start_time": "2022-03-06T05:01:31.641Z"
   },
   {
    "duration": 6,
    "start_time": "2022-03-06T05:01:31.658Z"
   },
   {
    "duration": 8,
    "start_time": "2022-03-06T05:01:31.665Z"
   },
   {
    "duration": 29,
    "start_time": "2022-03-06T05:01:31.674Z"
   },
   {
    "duration": 16,
    "start_time": "2022-03-06T05:01:31.704Z"
   },
   {
    "duration": 5,
    "start_time": "2022-03-06T05:01:31.722Z"
   },
   {
    "duration": 9,
    "start_time": "2022-03-06T05:01:31.728Z"
   },
   {
    "duration": 12,
    "start_time": "2022-03-06T05:01:31.738Z"
   },
   {
    "duration": 102,
    "start_time": "2022-03-06T05:06:56.085Z"
   }
  ],
  "kernelspec": {
   "display_name": "Python 3 (ipykernel)",
   "language": "python",
   "name": "python3"
  },
  "language_info": {
   "codemirror_mode": {
    "name": "ipython",
    "version": 3
   },
   "file_extension": ".py",
   "mimetype": "text/x-python",
   "name": "python",
   "nbconvert_exporter": "python",
   "pygments_lexer": "ipython3",
   "version": "3.9.12"
  },
  "toc": {
   "base_numbering": 1,
   "nav_menu": {},
   "number_sections": false,
   "sideBar": true,
   "skip_h1_title": false,
   "title_cell": "Table of Contents",
   "title_sidebar": "Contents",
   "toc_cell": false,
   "toc_position": {
    "height": "calc(100% - 180px)",
    "left": "10px",
    "top": "150px",
    "width": "302.391px"
   },
   "toc_section_display": true,
   "toc_window_display": true
  }
 },
 "nbformat": 4,
 "nbformat_minor": 5
}
